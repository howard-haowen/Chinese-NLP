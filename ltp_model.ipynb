{
  "nbformat": 4,
  "nbformat_minor": 0,
  "metadata": {
    "colab": {
      "name": "ltp_model.ipynb",
      "provenance": [],
      "collapsed_sections": [],
      "authorship_tag": "ABX9TyNLIpXu3LLtGzfOfFsdcjZB",
      "include_colab_link": true
    },
    "kernelspec": {
      "name": "python3",
      "display_name": "Python 3"
    },
    "language_info": {
      "name": "python"
    }
  },
  "cells": [
    {
      "cell_type": "markdown",
      "metadata": {
        "id": "view-in-github",
        "colab_type": "text"
      },
      "source": [
        "<a href=\"https://colab.research.google.com/github/howard-haowen/NLP-demos/blob/main/ltp_model.ipynb\" target=\"_parent\"><img src=\"https://colab.research.google.com/assets/colab-badge.svg\" alt=\"Open In Colab\"/></a>"
      ]
    },
    {
      "cell_type": "code",
      "source": [
        "!pip install -q ltp"
      ],
      "metadata": {
        "id": "EADBp7YJ9IPZ"
      },
      "execution_count": null,
      "outputs": []
    },
    {
      "cell_type": "code",
      "source": [
        "from ltp import LTP"
      ],
      "metadata": {
        "id": "ggKGDKiR9SWy"
      },
      "execution_count": 2,
      "outputs": []
    },
    {
      "cell_type": "code",
      "source": [
        "ltp = LTP()   "
      ],
      "metadata": {
        "id": "QIXNkWJo-E9l"
      },
      "execution_count": null,
      "outputs": []
    },
    {
      "cell_type": "code",
      "source": [
        "text = \"阿伯說他要從台北騎腳踏車到高雄。\""
      ],
      "metadata": {
        "id": "eI1TUiOM_KUC"
      },
      "execution_count": 37,
      "outputs": []
    },
    {
      "cell_type": "code",
      "source": [
        "seg, hidden = ltp.seg([text])\n",
        "pos = ltp.pos(hidden)\n",
        "ner = ltp.ner(hidden)\n",
        "srl = ltp.srl(hidden, keep_empty=False)\n",
        "dep = ltp.dep(hidden)\n",
        "sdp = ltp.sdp(hidden)"
      ],
      "metadata": {
        "id": "0xgyaQpX9Oml"
      },
      "execution_count": 54,
      "outputs": []
    },
    {
      "cell_type": "code",
      "source": [
        "seg"
      ],
      "metadata": {
        "colab": {
          "base_uri": "https://localhost:8080/"
        },
        "id": "tWL8gXy6948Y",
        "outputId": "9daa02bc-bcc8-4d8a-b03a-aaf7fa2bbbf9"
      },
      "execution_count": 55,
      "outputs": [
        {
          "output_type": "execute_result",
          "data": {
            "text/plain": [
              "[['阿伯', '說', '他', '要', '從', '台北', '騎腳踏車', '到', '高雄', '。']]"
            ]
          },
          "metadata": {},
          "execution_count": 55
        }
      ]
    },
    {
      "cell_type": "code",
      "source": [
        "pos"
      ],
      "metadata": {
        "colab": {
          "base_uri": "https://localhost:8080/"
        },
        "id": "3Fkk1cbE9taI",
        "outputId": "5cb953e7-c910-49f3-d489-2127f9ab528d"
      },
      "execution_count": 56,
      "outputs": [
        {
          "output_type": "execute_result",
          "data": {
            "text/plain": [
              "[['nh', 'v', 'r', 'v', 'p', 'ns', 'v', 'v', 'ns', 'wp']]"
            ]
          },
          "metadata": {},
          "execution_count": 56
        }
      ]
    },
    {
      "cell_type": "code",
      "source": [
        "ner"
      ],
      "metadata": {
        "colab": {
          "base_uri": "https://localhost:8080/"
        },
        "id": "weEn3Tjd_E2u",
        "outputId": "0be9658a-f6a8-4919-80a7-5823e03d9090"
      },
      "execution_count": 57,
      "outputs": [
        {
          "output_type": "execute_result",
          "data": {
            "text/plain": [
              "[[('Nh', 0, 0), ('Ns', 5, 5), ('Ns', 8, 8)]]"
            ]
          },
          "metadata": {},
          "execution_count": 57
        }
      ]
    },
    {
      "cell_type": "code",
      "source": [
        "for tag, start, end in ner[0]:\n",
        "    print(tag,\":\", \"\".join(seg[0][start:end + 1]))"
      ],
      "metadata": {
        "colab": {
          "base_uri": "https://localhost:8080/"
        },
        "id": "x4JbWiJW_5jR",
        "outputId": "a629e157-6de1-4e66-c0b1-a33523cb1b0d"
      },
      "execution_count": 58,
      "outputs": [
        {
          "output_type": "stream",
          "name": "stdout",
          "text": [
            "Nh : 阿伯\n",
            "Ns : 台北\n",
            "Ns : 高雄\n"
          ]
        }
      ]
    },
    {
      "cell_type": "code",
      "source": [
        "srl"
      ],
      "metadata": {
        "colab": {
          "base_uri": "https://localhost:8080/"
        },
        "id": "o37TIYxH93zg",
        "outputId": "2294e8ad-9b2c-4036-b27f-f7d0a42c0b20"
      },
      "execution_count": 59,
      "outputs": [
        {
          "output_type": "execute_result",
          "data": {
            "text/plain": [
              "[[(1, [('A0', 0, 0), ('A1', 2, 8)]),\n",
              "  (3, [('A0', 2, 2), ('A1', 4, 8)]),\n",
              "  (6, [('A0', 2, 2), ('ARGM-DIR', 4, 5)])]]"
            ]
          },
          "metadata": {},
          "execution_count": 59
        }
      ]
    },
    {
      "cell_type": "code",
      "source": [
        "dep"
      ],
      "metadata": {
        "colab": {
          "base_uri": "https://localhost:8080/"
        },
        "id": "Je1-NpIW-Bh6",
        "outputId": "77a3a3cc-09e0-4ef4-8431-8aa72e12040b"
      },
      "execution_count": 60,
      "outputs": [
        {
          "output_type": "execute_result",
          "data": {
            "text/plain": [
              "[[(1, 2, 'SBV'),\n",
              "  (2, 0, 'HED'),\n",
              "  (3, 7, 'SBV'),\n",
              "  (4, 7, 'ADV'),\n",
              "  (5, 7, 'ADV'),\n",
              "  (6, 5, 'POB'),\n",
              "  (7, 2, 'VOB'),\n",
              "  (8, 7, 'CMP'),\n",
              "  (9, 8, 'POB'),\n",
              "  (10, 2, 'WP')]]"
            ]
          },
          "metadata": {},
          "execution_count": 60
        }
      ]
    },
    {
      "cell_type": "code",
      "source": [
        "sdp"
      ],
      "metadata": {
        "colab": {
          "base_uri": "https://localhost:8080/"
        },
        "id": "SU8f9aQv-D1H",
        "outputId": "78d7e77c-4c4c-45ad-943c-e0033a03b639"
      },
      "execution_count": 61,
      "outputs": [
        {
          "output_type": "execute_result",
          "data": {
            "text/plain": [
              "[[(1, 2, 'AGT'),\n",
              "  (1, 3, 'eCOO'),\n",
              "  (2, 0, 'Root'),\n",
              "  (3, 7, 'AGT'),\n",
              "  (4, 7, 'mDEPD'),\n",
              "  (5, 6, 'mRELA'),\n",
              "  (6, 7, 'LOC'),\n",
              "  (7, 2, 'dCONT'),\n",
              "  (8, 7, 'eSUCC'),\n",
              "  (9, 8, 'LOC'),\n",
              "  (10, 2, 'mPUNC')]]"
            ]
          },
          "metadata": {},
          "execution_count": 61
        }
      ]
    }
  ]
}