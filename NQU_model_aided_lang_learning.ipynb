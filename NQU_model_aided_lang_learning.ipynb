{
  "nbformat": 4,
  "nbformat_minor": 0,
  "metadata": {
    "colab": {
      "name": "NQU_model_aided_lang_learning.ipynb",
      "provenance": [],
      "toc_visible": true,
      "collapsed_sections": [],
      "authorship_tag": "ABX9TyOfsUHjtOuAinS3DV7e75hl",
      "include_colab_link": true
    },
    "kernelspec": {
      "name": "python3",
      "display_name": "Python 3"
    },
    "language_info": {
      "name": "python"
    },
    "widgets": {
      "application/vnd.jupyter.widget-state+json": {
        "35c62a5f36434e7f8f1a6683b1849ca0": {
          "model_module": "@jupyter-widgets/controls",
          "model_name": "VBoxModel",
          "model_module_version": "1.5.0",
          "state": {
            "_dom_classes": [
              "widget-interact"
            ],
            "_model_module": "@jupyter-widgets/controls",
            "_model_module_version": "1.5.0",
            "_model_name": "VBoxModel",
            "_view_count": null,
            "_view_module": "@jupyter-widgets/controls",
            "_view_module_version": "1.5.0",
            "_view_name": "VBoxView",
            "box_style": "",
            "children": [
              "IPY_MODEL_3c902e3bcbf24c0bbe9753b51e7cca7b",
              "IPY_MODEL_b96e492c86864315a69b7ffac064e89d"
            ],
            "layout": "IPY_MODEL_4d14193f711d4fa3864d25ebb16a83d7"
          }
        },
        "3c902e3bcbf24c0bbe9753b51e7cca7b": {
          "model_module": "@jupyter-widgets/controls",
          "model_name": "TextModel",
          "model_module_version": "1.5.0",
          "state": {
            "_dom_classes": [],
            "_model_module": "@jupyter-widgets/controls",
            "_model_module_version": "1.5.0",
            "_model_name": "TextModel",
            "_view_count": null,
            "_view_module": "@jupyter-widgets/controls",
            "_view_module_version": "1.5.0",
            "_view_name": "TextView",
            "continuous_update": true,
            "description": "input_text",
            "description_tooltip": null,
            "disabled": false,
            "layout": "IPY_MODEL_d51e289be5d84882b4e06ced1b037697",
            "placeholder": "​",
            "style": "IPY_MODEL_569289a2b08545d98fda761d9824cae7",
            "value": "阿伯說他要從台北騎腳踏車到高雄。"
          }
        },
        "b96e492c86864315a69b7ffac064e89d": {
          "model_module": "@jupyter-widgets/output",
          "model_name": "OutputModel",
          "model_module_version": "1.0.0",
          "state": {
            "_dom_classes": [],
            "_model_module": "@jupyter-widgets/output",
            "_model_module_version": "1.0.0",
            "_model_name": "OutputModel",
            "_view_count": null,
            "_view_module": "@jupyter-widgets/output",
            "_view_module_version": "1.0.0",
            "_view_name": "OutputView",
            "layout": "IPY_MODEL_653d46eba6fa44019512afd43059bb07",
            "msg_id": "",
            "outputs": [
              {
                "output_type": "stream",
                "name": "stdout",
                "text": [
                  "阿伯 | 說 | 他 | 要 | 從 | 台北 | 騎 | 腳踏車 | 到 | 高雄 | 。 | "
                ]
              }
            ]
          }
        },
        "4d14193f711d4fa3864d25ebb16a83d7": {
          "model_module": "@jupyter-widgets/base",
          "model_name": "LayoutModel",
          "model_module_version": "1.2.0",
          "state": {
            "_model_module": "@jupyter-widgets/base",
            "_model_module_version": "1.2.0",
            "_model_name": "LayoutModel",
            "_view_count": null,
            "_view_module": "@jupyter-widgets/base",
            "_view_module_version": "1.2.0",
            "_view_name": "LayoutView",
            "align_content": null,
            "align_items": null,
            "align_self": null,
            "border": null,
            "bottom": null,
            "display": null,
            "flex": null,
            "flex_flow": null,
            "grid_area": null,
            "grid_auto_columns": null,
            "grid_auto_flow": null,
            "grid_auto_rows": null,
            "grid_column": null,
            "grid_gap": null,
            "grid_row": null,
            "grid_template_areas": null,
            "grid_template_columns": null,
            "grid_template_rows": null,
            "height": null,
            "justify_content": null,
            "justify_items": null,
            "left": null,
            "margin": null,
            "max_height": null,
            "max_width": null,
            "min_height": null,
            "min_width": null,
            "object_fit": null,
            "object_position": null,
            "order": null,
            "overflow": null,
            "overflow_x": null,
            "overflow_y": null,
            "padding": null,
            "right": null,
            "top": null,
            "visibility": null,
            "width": null
          }
        },
        "d51e289be5d84882b4e06ced1b037697": {
          "model_module": "@jupyter-widgets/base",
          "model_name": "LayoutModel",
          "model_module_version": "1.2.0",
          "state": {
            "_model_module": "@jupyter-widgets/base",
            "_model_module_version": "1.2.0",
            "_model_name": "LayoutModel",
            "_view_count": null,
            "_view_module": "@jupyter-widgets/base",
            "_view_module_version": "1.2.0",
            "_view_name": "LayoutView",
            "align_content": null,
            "align_items": null,
            "align_self": null,
            "border": null,
            "bottom": null,
            "display": null,
            "flex": null,
            "flex_flow": null,
            "grid_area": null,
            "grid_auto_columns": null,
            "grid_auto_flow": null,
            "grid_auto_rows": null,
            "grid_column": null,
            "grid_gap": null,
            "grid_row": null,
            "grid_template_areas": null,
            "grid_template_columns": null,
            "grid_template_rows": null,
            "height": null,
            "justify_content": null,
            "justify_items": null,
            "left": null,
            "margin": null,
            "max_height": null,
            "max_width": null,
            "min_height": null,
            "min_width": null,
            "object_fit": null,
            "object_position": null,
            "order": null,
            "overflow": null,
            "overflow_x": null,
            "overflow_y": null,
            "padding": null,
            "right": null,
            "top": null,
            "visibility": null,
            "width": null
          }
        },
        "569289a2b08545d98fda761d9824cae7": {
          "model_module": "@jupyter-widgets/controls",
          "model_name": "DescriptionStyleModel",
          "model_module_version": "1.5.0",
          "state": {
            "_model_module": "@jupyter-widgets/controls",
            "_model_module_version": "1.5.0",
            "_model_name": "DescriptionStyleModel",
            "_view_count": null,
            "_view_module": "@jupyter-widgets/base",
            "_view_module_version": "1.2.0",
            "_view_name": "StyleView",
            "description_width": ""
          }
        },
        "653d46eba6fa44019512afd43059bb07": {
          "model_module": "@jupyter-widgets/base",
          "model_name": "LayoutModel",
          "model_module_version": "1.2.0",
          "state": {
            "_model_module": "@jupyter-widgets/base",
            "_model_module_version": "1.2.0",
            "_model_name": "LayoutModel",
            "_view_count": null,
            "_view_module": "@jupyter-widgets/base",
            "_view_module_version": "1.2.0",
            "_view_name": "LayoutView",
            "align_content": null,
            "align_items": null,
            "align_self": null,
            "border": null,
            "bottom": null,
            "display": null,
            "flex": null,
            "flex_flow": null,
            "grid_area": null,
            "grid_auto_columns": null,
            "grid_auto_flow": null,
            "grid_auto_rows": null,
            "grid_column": null,
            "grid_gap": null,
            "grid_row": null,
            "grid_template_areas": null,
            "grid_template_columns": null,
            "grid_template_rows": null,
            "height": null,
            "justify_content": null,
            "justify_items": null,
            "left": null,
            "margin": null,
            "max_height": null,
            "max_width": null,
            "min_height": null,
            "min_width": null,
            "object_fit": null,
            "object_position": null,
            "order": null,
            "overflow": null,
            "overflow_x": null,
            "overflow_y": null,
            "padding": null,
            "right": null,
            "top": null,
            "visibility": null,
            "width": null
          }
        },
        "7ea86a3ee0e24574b854ed8aa7e31a37": {
          "model_module": "@jupyter-widgets/controls",
          "model_name": "VBoxModel",
          "model_module_version": "1.5.0",
          "state": {
            "_dom_classes": [
              "widget-interact"
            ],
            "_model_module": "@jupyter-widgets/controls",
            "_model_module_version": "1.5.0",
            "_model_name": "VBoxModel",
            "_view_count": null,
            "_view_module": "@jupyter-widgets/controls",
            "_view_module_version": "1.5.0",
            "_view_name": "VBoxView",
            "box_style": "",
            "children": [
              "IPY_MODEL_650e54b855b94095a896f28e4fdd9b2f",
              "IPY_MODEL_d98cc466c6804cabb268b65ca659701a"
            ],
            "layout": "IPY_MODEL_0eb7ecfc28954a809025753070c107a4"
          }
        },
        "650e54b855b94095a896f28e4fdd9b2f": {
          "model_module": "@jupyter-widgets/controls",
          "model_name": "TextModel",
          "model_module_version": "1.5.0",
          "state": {
            "_dom_classes": [],
            "_model_module": "@jupyter-widgets/controls",
            "_model_module_version": "1.5.0",
            "_model_name": "TextModel",
            "_view_count": null,
            "_view_module": "@jupyter-widgets/controls",
            "_view_module_version": "1.5.0",
            "_view_name": "TextView",
            "continuous_update": true,
            "description": "input_text",
            "description_tooltip": null,
            "disabled": false,
            "layout": "IPY_MODEL_ec095762ea4a4941a2b0a1adaabe7161",
            "placeholder": "​",
            "style": "IPY_MODEL_4ae02c7050d74a8386862818861474e0",
            "value": "阿伯說他要從台北騎腳踏車到高雄。"
          }
        },
        "d98cc466c6804cabb268b65ca659701a": {
          "model_module": "@jupyter-widgets/output",
          "model_name": "OutputModel",
          "model_module_version": "1.0.0",
          "state": {
            "_dom_classes": [],
            "_model_module": "@jupyter-widgets/output",
            "_model_module_version": "1.0.0",
            "_model_name": "OutputModel",
            "_view_count": null,
            "_view_module": "@jupyter-widgets/output",
            "_view_module_version": "1.0.0",
            "_view_name": "OutputView",
            "layout": "IPY_MODEL_9b0f7e1881b041a58478c33b89632108",
            "msg_id": "",
            "outputs": [
              {
                "output_type": "display_data",
                "data": {
                  "text/plain": "<IPython.core.display.HTML object>",
                  "text/html": "<span class=\"tex2jax_ignore\"><div class=\"entities\" style=\"line-height: 2.5; direction: ltr\">\n<mark class=\"entity\" style=\"background: #aa9cfc; padding: 0.45em 0.6em; margin: 0 0.25em; line-height: 1; border-radius: 0.35em;\">\n    阿伯\n    <span style=\"font-size: 0.8em; font-weight: bold; line-height: 1; border-radius: 0.35em; vertical-align: middle; margin-left: 0.5rem\">PERSON</span>\n</mark>\n說他要從\n<mark class=\"entity\" style=\"background: #feca74; padding: 0.45em 0.6em; margin: 0 0.25em; line-height: 1; border-radius: 0.35em;\">\n    台北\n    <span style=\"font-size: 0.8em; font-weight: bold; line-height: 1; border-radius: 0.35em; vertical-align: middle; margin-left: 0.5rem\">GPE</span>\n</mark>\n騎腳踏車到\n<mark class=\"entity\" style=\"background: #feca74; padding: 0.45em 0.6em; margin: 0 0.25em; line-height: 1; border-radius: 0.35em;\">\n    高雄\n    <span style=\"font-size: 0.8em; font-weight: bold; line-height: 1; border-radius: 0.35em; vertical-align: middle; margin-left: 0.5rem\">GPE</span>\n</mark>\n。</div></span>"
                },
                "metadata": {}
              }
            ]
          }
        },
        "0eb7ecfc28954a809025753070c107a4": {
          "model_module": "@jupyter-widgets/base",
          "model_name": "LayoutModel",
          "model_module_version": "1.2.0",
          "state": {
            "_model_module": "@jupyter-widgets/base",
            "_model_module_version": "1.2.0",
            "_model_name": "LayoutModel",
            "_view_count": null,
            "_view_module": "@jupyter-widgets/base",
            "_view_module_version": "1.2.0",
            "_view_name": "LayoutView",
            "align_content": null,
            "align_items": null,
            "align_self": null,
            "border": null,
            "bottom": null,
            "display": null,
            "flex": null,
            "flex_flow": null,
            "grid_area": null,
            "grid_auto_columns": null,
            "grid_auto_flow": null,
            "grid_auto_rows": null,
            "grid_column": null,
            "grid_gap": null,
            "grid_row": null,
            "grid_template_areas": null,
            "grid_template_columns": null,
            "grid_template_rows": null,
            "height": null,
            "justify_content": null,
            "justify_items": null,
            "left": null,
            "margin": null,
            "max_height": null,
            "max_width": null,
            "min_height": null,
            "min_width": null,
            "object_fit": null,
            "object_position": null,
            "order": null,
            "overflow": null,
            "overflow_x": null,
            "overflow_y": null,
            "padding": null,
            "right": null,
            "top": null,
            "visibility": null,
            "width": null
          }
        },
        "ec095762ea4a4941a2b0a1adaabe7161": {
          "model_module": "@jupyter-widgets/base",
          "model_name": "LayoutModel",
          "model_module_version": "1.2.0",
          "state": {
            "_model_module": "@jupyter-widgets/base",
            "_model_module_version": "1.2.0",
            "_model_name": "LayoutModel",
            "_view_count": null,
            "_view_module": "@jupyter-widgets/base",
            "_view_module_version": "1.2.0",
            "_view_name": "LayoutView",
            "align_content": null,
            "align_items": null,
            "align_self": null,
            "border": null,
            "bottom": null,
            "display": null,
            "flex": null,
            "flex_flow": null,
            "grid_area": null,
            "grid_auto_columns": null,
            "grid_auto_flow": null,
            "grid_auto_rows": null,
            "grid_column": null,
            "grid_gap": null,
            "grid_row": null,
            "grid_template_areas": null,
            "grid_template_columns": null,
            "grid_template_rows": null,
            "height": null,
            "justify_content": null,
            "justify_items": null,
            "left": null,
            "margin": null,
            "max_height": null,
            "max_width": null,
            "min_height": null,
            "min_width": null,
            "object_fit": null,
            "object_position": null,
            "order": null,
            "overflow": null,
            "overflow_x": null,
            "overflow_y": null,
            "padding": null,
            "right": null,
            "top": null,
            "visibility": null,
            "width": null
          }
        },
        "4ae02c7050d74a8386862818861474e0": {
          "model_module": "@jupyter-widgets/controls",
          "model_name": "DescriptionStyleModel",
          "model_module_version": "1.5.0",
          "state": {
            "_model_module": "@jupyter-widgets/controls",
            "_model_module_version": "1.5.0",
            "_model_name": "DescriptionStyleModel",
            "_view_count": null,
            "_view_module": "@jupyter-widgets/base",
            "_view_module_version": "1.2.0",
            "_view_name": "StyleView",
            "description_width": ""
          }
        },
        "9b0f7e1881b041a58478c33b89632108": {
          "model_module": "@jupyter-widgets/base",
          "model_name": "LayoutModel",
          "model_module_version": "1.2.0",
          "state": {
            "_model_module": "@jupyter-widgets/base",
            "_model_module_version": "1.2.0",
            "_model_name": "LayoutModel",
            "_view_count": null,
            "_view_module": "@jupyter-widgets/base",
            "_view_module_version": "1.2.0",
            "_view_name": "LayoutView",
            "align_content": null,
            "align_items": null,
            "align_self": null,
            "border": null,
            "bottom": null,
            "display": null,
            "flex": null,
            "flex_flow": null,
            "grid_area": null,
            "grid_auto_columns": null,
            "grid_auto_flow": null,
            "grid_auto_rows": null,
            "grid_column": null,
            "grid_gap": null,
            "grid_row": null,
            "grid_template_areas": null,
            "grid_template_columns": null,
            "grid_template_rows": null,
            "height": null,
            "justify_content": null,
            "justify_items": null,
            "left": null,
            "margin": null,
            "max_height": null,
            "max_width": null,
            "min_height": null,
            "min_width": null,
            "object_fit": null,
            "object_position": null,
            "order": null,
            "overflow": null,
            "overflow_x": null,
            "overflow_y": null,
            "padding": null,
            "right": null,
            "top": null,
            "visibility": null,
            "width": null
          }
        },
        "331d3a0c598b4078b2c9bede914869fd": {
          "model_module": "@jupyter-widgets/controls",
          "model_name": "VBoxModel",
          "model_module_version": "1.5.0",
          "state": {
            "_dom_classes": [
              "widget-interact"
            ],
            "_model_module": "@jupyter-widgets/controls",
            "_model_module_version": "1.5.0",
            "_model_name": "VBoxModel",
            "_view_count": null,
            "_view_module": "@jupyter-widgets/controls",
            "_view_module_version": "1.5.0",
            "_view_name": "VBoxView",
            "box_style": "",
            "children": [
              "IPY_MODEL_6b55b81e24a547b78af635b878c7bf56",
              "IPY_MODEL_7f7b1d7bd7bb44a3ad5bd07feaac575f",
              "IPY_MODEL_2bf495a2797e4cdc833a86a1a27e3c01"
            ],
            "layout": "IPY_MODEL_af64a745fea94455bf5c9a53fa53eb0b"
          }
        },
        "6b55b81e24a547b78af635b878c7bf56": {
          "model_module": "@jupyter-widgets/controls",
          "model_name": "TextModel",
          "model_module_version": "1.5.0",
          "state": {
            "_dom_classes": [],
            "_model_module": "@jupyter-widgets/controls",
            "_model_module_version": "1.5.0",
            "_model_name": "TextModel",
            "_view_count": null,
            "_view_module": "@jupyter-widgets/controls",
            "_view_module_version": "1.5.0",
            "_view_name": "TextView",
            "continuous_update": true,
            "description": "input_text",
            "description_tooltip": null,
            "disabled": false,
            "layout": "IPY_MODEL_5ed9d7342b47455894a35704f4111c0e",
            "placeholder": "​",
            "style": "IPY_MODEL_253b62d37c4b4754ad02e55f1fa9245b",
            "value": "阿伯說他要從台北騎腳踏車到高雄。"
          }
        },
        "7f7b1d7bd7bb44a3ad5bd07feaac575f": {
          "model_module": "@jupyter-widgets/controls",
          "model_name": "TextModel",
          "model_module_version": "1.5.0",
          "state": {
            "_dom_classes": [],
            "_model_module": "@jupyter-widgets/controls",
            "_model_module_version": "1.5.0",
            "_model_name": "TextModel",
            "_view_count": null,
            "_view_module": "@jupyter-widgets/controls",
            "_view_module_version": "1.5.0",
            "_view_name": "TextView",
            "continuous_update": true,
            "description": "pronunciation",
            "description_tooltip": null,
            "disabled": false,
            "layout": "IPY_MODEL_8d2f5d13bbc54d3692ddb9ba2099b3e3",
            "placeholder": "​",
            "style": "IPY_MODEL_c494d832c450471dabd6231e45545712",
            "value": "ipa"
          }
        },
        "2bf495a2797e4cdc833a86a1a27e3c01": {
          "model_module": "@jupyter-widgets/output",
          "model_name": "OutputModel",
          "model_module_version": "1.0.0",
          "state": {
            "_dom_classes": [],
            "_model_module": "@jupyter-widgets/output",
            "_model_module_version": "1.0.0",
            "_model_name": "OutputModel",
            "_view_count": null,
            "_view_module": "@jupyter-widgets/output",
            "_view_module_version": "1.0.0",
            "_view_name": "OutputView",
            "layout": "IPY_MODEL_b007ea431c344f2bb3674c57ff9d8e8d",
            "msg_id": "",
            "outputs": [
              {
                "output_type": "stream",
                "name": "stdout",
                "text": [
                  "1 >>> 阿伯 [a˥ pwɔ˧˥] | 說 [ʂwɔ˥] | 他 [tʰa˥] | 要 [jɑʊ˥˩] | 從 [tsʰʊŋ˧˥] | 台北 [tʰaɪ˧˥ peɪ˧˩˧] | 騎 [tɕʰi˧˥] | 腳踏車 [tɕjɑʊ˧˩˧ tʰa˥˩ ʈʂʰɤ˥] | 到 [tɑʊ˥˩] | 高雄 [kɑʊ˥ ɕjʊŋ˧˥]\n"
                ]
              }
            ]
          }
        },
        "af64a745fea94455bf5c9a53fa53eb0b": {
          "model_module": "@jupyter-widgets/base",
          "model_name": "LayoutModel",
          "model_module_version": "1.2.0",
          "state": {
            "_model_module": "@jupyter-widgets/base",
            "_model_module_version": "1.2.0",
            "_model_name": "LayoutModel",
            "_view_count": null,
            "_view_module": "@jupyter-widgets/base",
            "_view_module_version": "1.2.0",
            "_view_name": "LayoutView",
            "align_content": null,
            "align_items": null,
            "align_self": null,
            "border": null,
            "bottom": null,
            "display": null,
            "flex": null,
            "flex_flow": null,
            "grid_area": null,
            "grid_auto_columns": null,
            "grid_auto_flow": null,
            "grid_auto_rows": null,
            "grid_column": null,
            "grid_gap": null,
            "grid_row": null,
            "grid_template_areas": null,
            "grid_template_columns": null,
            "grid_template_rows": null,
            "height": null,
            "justify_content": null,
            "justify_items": null,
            "left": null,
            "margin": null,
            "max_height": null,
            "max_width": null,
            "min_height": null,
            "min_width": null,
            "object_fit": null,
            "object_position": null,
            "order": null,
            "overflow": null,
            "overflow_x": null,
            "overflow_y": null,
            "padding": null,
            "right": null,
            "top": null,
            "visibility": null,
            "width": null
          }
        },
        "5ed9d7342b47455894a35704f4111c0e": {
          "model_module": "@jupyter-widgets/base",
          "model_name": "LayoutModel",
          "model_module_version": "1.2.0",
          "state": {
            "_model_module": "@jupyter-widgets/base",
            "_model_module_version": "1.2.0",
            "_model_name": "LayoutModel",
            "_view_count": null,
            "_view_module": "@jupyter-widgets/base",
            "_view_module_version": "1.2.0",
            "_view_name": "LayoutView",
            "align_content": null,
            "align_items": null,
            "align_self": null,
            "border": null,
            "bottom": null,
            "display": null,
            "flex": null,
            "flex_flow": null,
            "grid_area": null,
            "grid_auto_columns": null,
            "grid_auto_flow": null,
            "grid_auto_rows": null,
            "grid_column": null,
            "grid_gap": null,
            "grid_row": null,
            "grid_template_areas": null,
            "grid_template_columns": null,
            "grid_template_rows": null,
            "height": null,
            "justify_content": null,
            "justify_items": null,
            "left": null,
            "margin": null,
            "max_height": null,
            "max_width": null,
            "min_height": null,
            "min_width": null,
            "object_fit": null,
            "object_position": null,
            "order": null,
            "overflow": null,
            "overflow_x": null,
            "overflow_y": null,
            "padding": null,
            "right": null,
            "top": null,
            "visibility": null,
            "width": null
          }
        },
        "253b62d37c4b4754ad02e55f1fa9245b": {
          "model_module": "@jupyter-widgets/controls",
          "model_name": "DescriptionStyleModel",
          "model_module_version": "1.5.0",
          "state": {
            "_model_module": "@jupyter-widgets/controls",
            "_model_module_version": "1.5.0",
            "_model_name": "DescriptionStyleModel",
            "_view_count": null,
            "_view_module": "@jupyter-widgets/base",
            "_view_module_version": "1.2.0",
            "_view_name": "StyleView",
            "description_width": ""
          }
        },
        "8d2f5d13bbc54d3692ddb9ba2099b3e3": {
          "model_module": "@jupyter-widgets/base",
          "model_name": "LayoutModel",
          "model_module_version": "1.2.0",
          "state": {
            "_model_module": "@jupyter-widgets/base",
            "_model_module_version": "1.2.0",
            "_model_name": "LayoutModel",
            "_view_count": null,
            "_view_module": "@jupyter-widgets/base",
            "_view_module_version": "1.2.0",
            "_view_name": "LayoutView",
            "align_content": null,
            "align_items": null,
            "align_self": null,
            "border": null,
            "bottom": null,
            "display": null,
            "flex": null,
            "flex_flow": null,
            "grid_area": null,
            "grid_auto_columns": null,
            "grid_auto_flow": null,
            "grid_auto_rows": null,
            "grid_column": null,
            "grid_gap": null,
            "grid_row": null,
            "grid_template_areas": null,
            "grid_template_columns": null,
            "grid_template_rows": null,
            "height": null,
            "justify_content": null,
            "justify_items": null,
            "left": null,
            "margin": null,
            "max_height": null,
            "max_width": null,
            "min_height": null,
            "min_width": null,
            "object_fit": null,
            "object_position": null,
            "order": null,
            "overflow": null,
            "overflow_x": null,
            "overflow_y": null,
            "padding": null,
            "right": null,
            "top": null,
            "visibility": null,
            "width": null
          }
        },
        "c494d832c450471dabd6231e45545712": {
          "model_module": "@jupyter-widgets/controls",
          "model_name": "DescriptionStyleModel",
          "model_module_version": "1.5.0",
          "state": {
            "_model_module": "@jupyter-widgets/controls",
            "_model_module_version": "1.5.0",
            "_model_name": "DescriptionStyleModel",
            "_view_count": null,
            "_view_module": "@jupyter-widgets/base",
            "_view_module_version": "1.2.0",
            "_view_name": "StyleView",
            "description_width": ""
          }
        },
        "b007ea431c344f2bb3674c57ff9d8e8d": {
          "model_module": "@jupyter-widgets/base",
          "model_name": "LayoutModel",
          "model_module_version": "1.2.0",
          "state": {
            "_model_module": "@jupyter-widgets/base",
            "_model_module_version": "1.2.0",
            "_model_name": "LayoutModel",
            "_view_count": null,
            "_view_module": "@jupyter-widgets/base",
            "_view_module_version": "1.2.0",
            "_view_name": "LayoutView",
            "align_content": null,
            "align_items": null,
            "align_self": null,
            "border": null,
            "bottom": null,
            "display": null,
            "flex": null,
            "flex_flow": null,
            "grid_area": null,
            "grid_auto_columns": null,
            "grid_auto_flow": null,
            "grid_auto_rows": null,
            "grid_column": null,
            "grid_gap": null,
            "grid_row": null,
            "grid_template_areas": null,
            "grid_template_columns": null,
            "grid_template_rows": null,
            "height": null,
            "justify_content": null,
            "justify_items": null,
            "left": null,
            "margin": null,
            "max_height": null,
            "max_width": null,
            "min_height": null,
            "min_width": null,
            "object_fit": null,
            "object_position": null,
            "order": null,
            "overflow": null,
            "overflow_x": null,
            "overflow_y": null,
            "padding": null,
            "right": null,
            "top": null,
            "visibility": null,
            "width": null
          }
        }
      }
    }
  },
  "cells": [
    {
      "cell_type": "markdown",
      "metadata": {
        "id": "view-in-github",
        "colab_type": "text"
      },
      "source": [
        "<a href=\"https://colab.research.google.com/github/howard-haowen/NLP-demos/blob/main/NQU_model_aided_lang_learning.ipynb\" target=\"_parent\"><img src=\"https://colab.research.google.com/assets/colab-badge.svg\" alt=\"Open In Colab\"/></a>"
      ]
    },
    {
      "cell_type": "markdown",
      "source": [
        "# 前置作業"
      ],
      "metadata": {
        "id": "mPENZ4Xmyw5m"
      }
    },
    {
      "cell_type": "code",
      "execution_count": null,
      "metadata": {
        "id": "JE2EfJdtCjpR"
      },
      "outputs": [],
      "source": [
        "!pip install -U -q pip setuptools wheel\n",
        "!pip install -U -q spacy\n",
        "!python -m spacy download zh_core_web_sm\n",
        "!pip install -q dragonmapper"
      ]
    },
    {
      "cell_type": "code",
      "source": [
        "!git clone -l -s https://github.com/L706077/jieba-zh_TW.git jieba_tw\n",
        "%cd jieba_tw\n",
        "import jieba\n",
        "%cd ../"
      ],
      "metadata": {
        "colab": {
          "base_uri": "https://localhost:8080/"
        },
        "id": "7pxrKVR6xKZ6",
        "outputId": "7a820ed9-da09-40e2-ca06-04724bd4aac2"
      },
      "execution_count": 2,
      "outputs": [
        {
          "output_type": "stream",
          "name": "stdout",
          "text": [
            "Cloning into 'jieba_tw'...\n",
            "warning: --local is ignored\n",
            "remote: Enumerating objects: 2320, done.\u001b[K\n",
            "remote: Total 2320 (delta 0), reused 0 (delta 0), pack-reused 2320\u001b[K\n",
            "Receiving objects: 100% (2320/2320), 36.07 MiB | 19.02 MiB/s, done.\n",
            "Resolving deltas: 100% (1498/1498), done.\n",
            "/content/jieba_tw\n",
            "/content\n"
          ]
        }
      ]
    },
    {
      "cell_type": "markdown",
      "source": [
        "# 調用模型"
      ],
      "metadata": {
        "id": "veXFhWuXy5X2"
      }
    },
    {
      "cell_type": "code",
      "source": [
        "!pip show spacy"
      ],
      "metadata": {
        "colab": {
          "base_uri": "https://localhost:8080/"
        },
        "id": "5RjY3aQnwj1e",
        "outputId": "fed035ae-e917-4261-c3e2-58bd9de8a3c8"
      },
      "execution_count": 3,
      "outputs": [
        {
          "output_type": "stream",
          "name": "stdout",
          "text": [
            "Name: spacy\n",
            "Version: 3.3.0\n",
            "Summary: Industrial-strength Natural Language Processing (NLP) in Python\n",
            "Home-page: https://spacy.io\n",
            "Author: Explosion\n",
            "Author-email: contact@explosion.ai\n",
            "License: MIT\n",
            "Location: /usr/local/lib/python3.7/dist-packages\n",
            "Requires: blis, catalogue, cymem, jinja2, langcodes, murmurhash, numpy, packaging, pathy, preshed, pydantic, requests, setuptools, spacy-legacy, spacy-loggers, srsly, thinc, tqdm, typer, typing-extensions, wasabi\n",
            "Required-by: en-core-web-sm, fastai, zh-core-web-sm\n"
          ]
        }
      ]
    },
    {
      "cell_type": "code",
      "source": [
        "from collections import Counter\n",
        "from dragonmapper import hanzi, transcriptions\n",
        "import pandas as pd\n",
        "from pprint import pprint\n",
        "import requests\n",
        "import spacy\n",
        "from spacy import displacy\n",
        "from spacy.tokens import Doc"
      ],
      "metadata": {
        "id": "8lBwISLK0rJf"
      },
      "execution_count": 4,
      "outputs": []
    },
    {
      "cell_type": "code",
      "source": [
        "pd.options.plotting.backend = \"plotly\""
      ],
      "metadata": {
        "id": "FxtOz6gW94VY"
      },
      "execution_count": 5,
      "outputs": []
    },
    {
      "cell_type": "code",
      "source": [
        "nlp = spacy.load(\"zh_core_web_sm\")\n",
        "\n",
        "class TwTokenizer:\n",
        "    def __init__(self, vocab):\n",
        "        self.vocab = vocab\n",
        "\n",
        "    def __call__(self, text):\n",
        "        words =  jieba.lcut(text)\n",
        "        spaces = [False] * len(words)        \n",
        "        return Doc(self.vocab, words=words, spaces=spaces)\n",
        "\n",
        "nlp.tokenizer = TwTokenizer(nlp.vocab)"
      ],
      "metadata": {
        "id": "jPQY8u4SxOki"
      },
      "execution_count": 6,
      "outputs": []
    },
    {
      "cell_type": "code",
      "source": [
        "nlp.pipe_names"
      ],
      "metadata": {
        "colab": {
          "base_uri": "https://localhost:8080/"
        },
        "id": "9EWgU14mwqUb",
        "outputId": "a7a9b5fa-897f-42b7-d092-781248e34ecb"
      },
      "execution_count": 7,
      "outputs": [
        {
          "output_type": "execute_result",
          "data": {
            "text/plain": [
              "['tok2vec', 'tagger', 'parser', 'attribute_ruler', 'ner']"
            ]
          },
          "metadata": {},
          "execution_count": 7
        }
      ]
    },
    {
      "cell_type": "markdown",
      "source": [
        "## 輸入文字"
      ],
      "metadata": {
        "id": "9ne6PCEW3v6m"
      }
    },
    {
      "cell_type": "code",
      "source": [
        "text = \"阿伯說他要從台北騎腳踏車到高雄。\"\n",
        "doc = nlp(text)"
      ],
      "metadata": {
        "id": "92qZwmyCwu74",
        "colab": {
          "base_uri": "https://localhost:8080/"
        },
        "outputId": "938baaa9-ce56-4dd7-e729-11c334defde2"
      },
      "execution_count": 8,
      "outputs": [
        {
          "output_type": "stream",
          "name": "stderr",
          "text": [
            "Building prefix dict from the default dictionary ...\n",
            "Dumping model to file cache /tmp/jieba.cache\n",
            "Loading model cost 0.953 seconds.\n",
            "Prefix dict has been built succesfully.\n"
          ]
        }
      ]
    },
    {
      "cell_type": "markdown",
      "source": [
        "## 斷詞"
      ],
      "metadata": {
        "id": "Okyo0FEry9ch"
      }
    },
    {
      "cell_type": "code",
      "source": [
        "for token in doc:\n",
        "    print(token.text, end=\" | \")"
      ],
      "metadata": {
        "colab": {
          "base_uri": "https://localhost:8080/"
        },
        "id": "drBXiiwgw89q",
        "outputId": "e2b7b8b6-4599-42ee-8bbc-f217b02819f1"
      },
      "execution_count": 9,
      "outputs": [
        {
          "output_type": "stream",
          "name": "stdout",
          "text": [
            "阿伯 | 說 | 他 | 要 | 從 | 台北 | 騎 | 腳踏車 | 到 | 高雄 | 。 | "
          ]
        }
      ]
    },
    {
      "cell_type": "markdown",
      "source": [
        "## 命名實體"
      ],
      "metadata": {
        "id": "1ARSa81XG0nw"
      }
    },
    {
      "cell_type": "code",
      "source": [
        "text = \"迎接虎年到來，台北101今天表示，即日起推出「虎年新春燈光秀」，將持續至2月5日，每晚6時至10時，除整點會有報時燈光變化外，每15分鐘還會有3分鐘的燈光秀。台北101下午透過新聞稿表示，今年特別設計「虎年新春燈光秀」，從今晚開始閃耀台北天際線，一直延續至2月5日，共7天。\"\n",
        "doc = nlp(text)\n",
        "displacy.render(doc, style='ent',jupyter=True)"
      ],
      "metadata": {
        "colab": {
          "base_uri": "https://localhost:8080/",
          "height": 227
        },
        "id": "WLXF3Rh_G2su",
        "outputId": "823d4cee-2666-4bd4-d80e-1d37aed8fa6a"
      },
      "execution_count": 10,
      "outputs": [
        {
          "output_type": "display_data",
          "data": {
            "text/plain": [
              "<IPython.core.display.HTML object>"
            ],
            "text/html": [
              "<span class=\"tex2jax_ignore\"><div class=\"entities\" style=\"line-height: 2.5; direction: ltr\">迎接\n",
              "<mark class=\"entity\" style=\"background: #bfe1d9; padding: 0.45em 0.6em; margin: 0 0.25em; line-height: 1; border-radius: 0.35em;\">\n",
              "    虎年\n",
              "    <span style=\"font-size: 0.8em; font-weight: bold; line-height: 1; border-radius: 0.35em; vertical-align: middle; margin-left: 0.5rem\">DATE</span>\n",
              "</mark>\n",
              "到來，\n",
              "<mark class=\"entity\" style=\"background: #feca74; padding: 0.45em 0.6em; margin: 0 0.25em; line-height: 1; border-radius: 0.35em;\">\n",
              "    台北\n",
              "    <span style=\"font-size: 0.8em; font-weight: bold; line-height: 1; border-radius: 0.35em; vertical-align: middle; margin-left: 0.5rem\">GPE</span>\n",
              "</mark>\n",
              "\n",
              "<mark class=\"entity\" style=\"background: #e4e7d2; padding: 0.45em 0.6em; margin: 0 0.25em; line-height: 1; border-radius: 0.35em;\">\n",
              "    101\n",
              "    <span style=\"font-size: 0.8em; font-weight: bold; line-height: 1; border-radius: 0.35em; vertical-align: middle; margin-left: 0.5rem\">CARDINAL</span>\n",
              "</mark>\n",
              "\n",
              "<mark class=\"entity\" style=\"background: #bfe1d9; padding: 0.45em 0.6em; margin: 0 0.25em; line-height: 1; border-radius: 0.35em;\">\n",
              "    今天\n",
              "    <span style=\"font-size: 0.8em; font-weight: bold; line-height: 1; border-radius: 0.35em; vertical-align: middle; margin-left: 0.5rem\">DATE</span>\n",
              "</mark>\n",
              "表示，即日起推出「\n",
              "<mark class=\"entity\" style=\"background: #ffeb80; padding: 0.45em 0.6em; margin: 0 0.25em; line-height: 1; border-radius: 0.35em;\">\n",
              "    虎年新春燈光秀\n",
              "    <span style=\"font-size: 0.8em; font-weight: bold; line-height: 1; border-radius: 0.35em; vertical-align: middle; margin-left: 0.5rem\">EVENT</span>\n",
              "</mark>\n",
              "」，將持續至\n",
              "<mark class=\"entity\" style=\"background: #bfe1d9; padding: 0.45em 0.6em; margin: 0 0.25em; line-height: 1; border-radius: 0.35em;\">\n",
              "    2月\n",
              "    <span style=\"font-size: 0.8em; font-weight: bold; line-height: 1; border-radius: 0.35em; vertical-align: middle; margin-left: 0.5rem\">DATE</span>\n",
              "</mark>\n",
              "\n",
              "<mark class=\"entity\" style=\"background: #e4e7d2; padding: 0.45em 0.6em; margin: 0 0.25em; line-height: 1; border-radius: 0.35em;\">\n",
              "    5\n",
              "    <span style=\"font-size: 0.8em; font-weight: bold; line-height: 1; border-radius: 0.35em; vertical-align: middle; margin-left: 0.5rem\">CARDINAL</span>\n",
              "</mark>\n",
              "日，每晚\n",
              "<mark class=\"entity\" style=\"background: #e4e7d2; padding: 0.45em 0.6em; margin: 0 0.25em; line-height: 1; border-radius: 0.35em;\">\n",
              "    6\n",
              "    <span style=\"font-size: 0.8em; font-weight: bold; line-height: 1; border-radius: 0.35em; vertical-align: middle; margin-left: 0.5rem\">CARDINAL</span>\n",
              "</mark>\n",
              "時至\n",
              "<mark class=\"entity\" style=\"background: #e4e7d2; padding: 0.45em 0.6em; margin: 0 0.25em; line-height: 1; border-radius: 0.35em;\">\n",
              "    10\n",
              "    <span style=\"font-size: 0.8em; font-weight: bold; line-height: 1; border-radius: 0.35em; vertical-align: middle; margin-left: 0.5rem\">CARDINAL</span>\n",
              "</mark>\n",
              "時，除整點會有報時燈光\n",
              "<mark class=\"entity\" style=\"background: #feca74; padding: 0.45em 0.6em; margin: 0 0.25em; line-height: 1; border-radius: 0.35em;\">\n",
              "    變化\n",
              "    <span style=\"font-size: 0.8em; font-weight: bold; line-height: 1; border-radius: 0.35em; vertical-align: middle; margin-left: 0.5rem\">GPE</span>\n",
              "</mark>\n",
              "外，每\n",
              "<mark class=\"entity\" style=\"background: #e4e7d2; padding: 0.45em 0.6em; margin: 0 0.25em; line-height: 1; border-radius: 0.35em;\">\n",
              "    15\n",
              "    <span style=\"font-size: 0.8em; font-weight: bold; line-height: 1; border-radius: 0.35em; vertical-align: middle; margin-left: 0.5rem\">CARDINAL</span>\n",
              "</mark>\n",
              "分鐘還會有\n",
              "<mark class=\"entity\" style=\"background: #e4e7d2; padding: 0.45em 0.6em; margin: 0 0.25em; line-height: 1; border-radius: 0.35em;\">\n",
              "    3\n",
              "    <span style=\"font-size: 0.8em; font-weight: bold; line-height: 1; border-radius: 0.35em; vertical-align: middle; margin-left: 0.5rem\">CARDINAL</span>\n",
              "</mark>\n",
              "分鐘的燈光秀。\n",
              "<mark class=\"entity\" style=\"background: #7aecec; padding: 0.45em 0.6em; margin: 0 0.25em; line-height: 1; border-radius: 0.35em;\">\n",
              "    台北101下午\n",
              "    <span style=\"font-size: 0.8em; font-weight: bold; line-height: 1; border-radius: 0.35em; vertical-align: middle; margin-left: 0.5rem\">ORG</span>\n",
              "</mark>\n",
              "透過\n",
              "<mark class=\"entity\" style=\"background: #feca74; padding: 0.45em 0.6em; margin: 0 0.25em; line-height: 1; border-radius: 0.35em;\">\n",
              "    新聞稿\n",
              "    <span style=\"font-size: 0.8em; font-weight: bold; line-height: 1; border-radius: 0.35em; vertical-align: middle; margin-left: 0.5rem\">GPE</span>\n",
              "</mark>\n",
              "表示，\n",
              "<mark class=\"entity\" style=\"background: #bfe1d9; padding: 0.45em 0.6em; margin: 0 0.25em; line-height: 1; border-radius: 0.35em;\">\n",
              "    今年\n",
              "    <span style=\"font-size: 0.8em; font-weight: bold; line-height: 1; border-radius: 0.35em; vertical-align: middle; margin-left: 0.5rem\">DATE</span>\n",
              "</mark>\n",
              "特別設計「\n",
              "<mark class=\"entity\" style=\"background: #ffeb80; padding: 0.45em 0.6em; margin: 0 0.25em; line-height: 1; border-radius: 0.35em;\">\n",
              "    虎年新春燈光秀\n",
              "    <span style=\"font-size: 0.8em; font-weight: bold; line-height: 1; border-radius: 0.35em; vertical-align: middle; margin-left: 0.5rem\">EVENT</span>\n",
              "</mark>\n",
              "」，從\n",
              "<mark class=\"entity\" style=\"background: #bfe1d9; padding: 0.45em 0.6em; margin: 0 0.25em; line-height: 1; border-radius: 0.35em;\">\n",
              "    今晚\n",
              "    <span style=\"font-size: 0.8em; font-weight: bold; line-height: 1; border-radius: 0.35em; vertical-align: middle; margin-left: 0.5rem\">TIME</span>\n",
              "</mark>\n",
              "開始閃耀\n",
              "<mark class=\"entity\" style=\"background: #feca74; padding: 0.45em 0.6em; margin: 0 0.25em; line-height: 1; border-radius: 0.35em;\">\n",
              "    台北\n",
              "    <span style=\"font-size: 0.8em; font-weight: bold; line-height: 1; border-radius: 0.35em; vertical-align: middle; margin-left: 0.5rem\">GPE</span>\n",
              "</mark>\n",
              "天際線，一直延續至\n",
              "<mark class=\"entity\" style=\"background: #bfe1d9; padding: 0.45em 0.6em; margin: 0 0.25em; line-height: 1; border-radius: 0.35em;\">\n",
              "    2月\n",
              "    <span style=\"font-size: 0.8em; font-weight: bold; line-height: 1; border-radius: 0.35em; vertical-align: middle; margin-left: 0.5rem\">DATE</span>\n",
              "</mark>\n",
              "\n",
              "<mark class=\"entity\" style=\"background: #e4e7d2; padding: 0.45em 0.6em; margin: 0 0.25em; line-height: 1; border-radius: 0.35em;\">\n",
              "    5\n",
              "    <span style=\"font-size: 0.8em; font-weight: bold; line-height: 1; border-radius: 0.35em; vertical-align: middle; margin-left: 0.5rem\">CARDINAL</span>\n",
              "</mark>\n",
              "日，共\n",
              "<mark class=\"entity\" style=\"background: #bfe1d9; padding: 0.45em 0.6em; margin: 0 0.25em; line-height: 1; border-radius: 0.35em;\">\n",
              "    7天\n",
              "    <span style=\"font-size: 0.8em; font-weight: bold; line-height: 1; border-radius: 0.35em; vertical-align: middle; margin-left: 0.5rem\">DATE</span>\n",
              "</mark>\n",
              "。</div></span>"
            ]
          },
          "metadata": {}
        }
      ]
    },
    {
      "cell_type": "markdown",
      "source": [
        "# 漢字轉發音"
      ],
      "metadata": {
        "id": "n-h5M5Sp2ucK"
      }
    },
    {
      "cell_type": "code",
      "source": [
        "text = \"阿伯說他要從台北騎腳踏車到高雄。\"\n",
        "doc = nlp(text)\n",
        "tokens = [token.text for token in doc]\n",
        "tokens"
      ],
      "metadata": {
        "colab": {
          "base_uri": "https://localhost:8080/"
        },
        "id": "eO-YCYRV2t5k",
        "outputId": "a1570fa1-45a3-4730-b15e-a7806325d191"
      },
      "execution_count": 28,
      "outputs": [
        {
          "output_type": "execute_result",
          "data": {
            "text/plain": [
              "['阿伯', '說', '他', '要', '從', '台北', '騎', '腳踏車', '到', '高雄', '。']"
            ]
          },
          "metadata": {},
          "execution_count": 28
        }
      ]
    },
    {
      "cell_type": "code",
      "source": [
        "pinyins = [hanzi.to_pinyin(word) for word in tokens]\n",
        "for pinyin in pinyins:\n",
        "    print(pinyin, end=\" | \")"
      ],
      "metadata": {
        "colab": {
          "base_uri": "https://localhost:8080/"
        },
        "id": "VIx8GPF44FTq",
        "outputId": "8481f666-1224-49ab-93ee-1102bee9df4b"
      },
      "execution_count": 29,
      "outputs": [
        {
          "output_type": "stream",
          "name": "stdout",
          "text": [
            "ābó | shuō | tā | yào | cóng | Táiběi | qí | jiǎotàchē | dào | Gāoxióng | 。 | "
          ]
        }
      ]
    },
    {
      "cell_type": "code",
      "source": [
        "zhuyins = [transcriptions.pinyin_to_zhuyin(word) for word in pinyins]\n",
        "for zhuyin in zhuyins:\n",
        "    print(zhuyin, end=\" | \")"
      ],
      "metadata": {
        "colab": {
          "base_uri": "https://localhost:8080/"
        },
        "id": "Xmar73TV4onh",
        "outputId": "df183783-a7ed-47a6-c548-fa40b4f37f3c"
      },
      "execution_count": 30,
      "outputs": [
        {
          "output_type": "stream",
          "name": "stdout",
          "text": [
            "ㄚ ㄅㄛˊ | ㄕㄨㄛ | ㄊㄚ | ㄧㄠˋ | ㄘㄨㄥˊ | ㄊㄞˊ ㄅㄟˇ | ㄑㄧˊ | ㄐㄧㄠˇ ㄊㄚˋ ㄔㄜ | ㄉㄠˋ | ㄍㄠ ㄒㄩㄥˊ | 。 | "
          ]
        }
      ]
    },
    {
      "cell_type": "code",
      "source": [
        "ipas = [transcriptions.pinyin_to_ipa(word) for word in pinyins]\n",
        "for ipa in ipas:\n",
        "    print(ipa, end=\" | \")"
      ],
      "metadata": {
        "colab": {
          "base_uri": "https://localhost:8080/"
        },
        "id": "XIbdN0n55ZOe",
        "outputId": "94af4225-e2cd-46ba-8cb2-2559370c294d"
      },
      "execution_count": 31,
      "outputs": [
        {
          "output_type": "stream",
          "name": "stdout",
          "text": [
            "a˥ pwɔ˧˥ | ʂwɔ˥ | tʰa˥ | jɑʊ˥˩ | tsʰʊŋ˧˥ | tʰaɪ˧˥ peɪ˧˩˧ | tɕʰi˧˥ | tɕjɑʊ˧˩˧ tʰa˥˩ ʈʂʰɤ˥ | tɑʊ˥˩ | kɑʊ˥ ɕjʊŋ˧˥ | 。 | "
          ]
        }
      ]
    },
    {
      "cell_type": "markdown",
      "source": [
        "# 查詢萌典"
      ],
      "metadata": {
        "id": "MMZgqoDi9oiO"
      }
    },
    {
      "cell_type": "markdown",
      "source": [
        "萌典範例: [點我](https://www.moedict.tw/%E9%AB%98%E8%88%88)"
      ],
      "metadata": {
        "id": "u7YB3BZ3_rMz"
      }
    },
    {
      "cell_type": "code",
      "source": [
        "def moedict_caller(word):\n",
        "    req = requests.get(f\"https://www.moedict.tw/uni/{word}.json\")\n",
        "    if req:\n",
        "        pprint(req.json())\n",
        "    else:\n",
        "        print(\"查無結果\")"
      ],
      "metadata": {
        "id": "qnFncGy99xJi"
      },
      "execution_count": 32,
      "outputs": []
    },
    {
      "cell_type": "code",
      "source": [
        "moedict_caller('高興')"
      ],
      "metadata": {
        "colab": {
          "base_uri": "https://localhost:8080/"
        },
        "id": "cFunyiLU-HST",
        "outputId": "1043cd96-e8b2-4af3-885c-93d6e25ff4d8"
      },
      "execution_count": 33,
      "outputs": [
        {
          "output_type": "stream",
          "name": "stdout",
          "text": [
            "{'heteronyms': [{'bopomofo': 'ㄍㄠ ㄒㄧㄥˋ',\n",
            "                 'bopomofo2': 'gāu shìng',\n",
            "                 'definitions': [{'def': '興趣甚高。',\n",
            "                                  'quote': ['文選．殷仲文．南州桓公九井作詩：「獨有清秋日，能使高興盡。」',\n",
            "                                            '唐．杜甫．北征詩：「青雲動高興，幽事亦可悅。」']},\n",
            "                                 {'antonyms': '敗興,悲傷,悲哀,煩悶,難過,苦惱,沮喪,傷心,掃興,憂愁,厭惡,鬱悶',\n",
            "                                  'def': '歡喜、愉快。',\n",
            "                                  'example': ['如：「今天玩得高興嗎？」'],\n",
            "                                  'synonyms': '得意,痛快,開心,快樂,快活,歡樂,歡喜,歡躍,喜悅,興奮,怡悅,愉快'},\n",
            "                                 {'antonyms': '不快,生氣',\n",
            "                                  'def': '以興致作決定事情的根據。',\n",
            "                                  'example': ['如：「他高興，就讓他先走吧！」'],\n",
            "                                  'synonyms': '樂意,願意'}],\n",
            "                 'pinyin': 'gāo xìng'}],\n",
            " 'title': '高興'}\n"
          ]
        }
      ]
    },
    {
      "cell_type": "code",
      "source": [
        "def moedict_caller(word):\n",
        "    req = requests.get(f\"https://www.moedict.tw/uni/{word}.json\")\n",
        "    if req:\n",
        "        definitions = req.json().get('heteronyms')[0].get('definitions')\n",
        "        pprint(definitions)\n",
        "    else:\n",
        "        print(\"查無結果\")"
      ],
      "metadata": {
        "id": "nnc5nOV4_csr"
      },
      "execution_count": 34,
      "outputs": []
    },
    {
      "cell_type": "code",
      "source": [
        "moedict_caller('高興')"
      ],
      "metadata": {
        "colab": {
          "base_uri": "https://localhost:8080/"
        },
        "id": "IF4rb5gEAZIH",
        "outputId": "899b7802-9287-4638-e059-12863e547460"
      },
      "execution_count": 35,
      "outputs": [
        {
          "output_type": "stream",
          "name": "stdout",
          "text": [
            "[{'def': '興趣甚高。',\n",
            "  'quote': ['文選．殷仲文．南州桓公九井作詩：「獨有清秋日，能使高興盡。」', '唐．杜甫．北征詩：「青雲動高興，幽事亦可悅。」']},\n",
            " {'antonyms': '敗興,悲傷,悲哀,煩悶,難過,苦惱,沮喪,傷心,掃興,憂愁,厭惡,鬱悶',\n",
            "  'def': '歡喜、愉快。',\n",
            "  'example': ['如：「今天玩得高興嗎？」'],\n",
            "  'synonyms': '得意,痛快,開心,快樂,快活,歡樂,歡喜,歡躍,喜悅,興奮,怡悅,愉快'},\n",
            " {'antonyms': '不快,生氣',\n",
            "  'def': '以興致作決定事情的根據。',\n",
            "  'example': ['如：「他高興，就讓他先走吧！」'],\n",
            "  'synonyms': '樂意,願意'}]\n"
          ]
        }
      ]
    },
    {
      "cell_type": "code",
      "source": [
        "def moedict_caller(word):\n",
        "    req = requests.get(f\"https://www.moedict.tw/uni/{word}.json\")\n",
        "    if req:\n",
        "        definitions = req.json().get('heteronyms')[0].get('definitions')\n",
        "        df = pd.DataFrame(definitions)\n",
        "        df.fillna(\"---\", inplace=True)\n",
        "        if 'example' not in df.columns:\n",
        "            df['example'] = '---'\n",
        "        if 'synonyms' not in df.columns:\n",
        "            df['synonyms'] = '---' \n",
        "        if 'antonyms' not in df.columns:\n",
        "            df['antonyms'] = '---' \n",
        "        cols = ['def', 'example', 'synonyms', 'antonyms']\n",
        "        df = df[cols]\n",
        "        df.rename(columns={\n",
        "            'def': '解釋',\n",
        "            'example': '例句',\n",
        "            'synonyms': '同義詞',\n",
        "            'antonyms': '反義詞',\n",
        "        }, inplace=True)\n",
        "        return df\n",
        "    else:\n",
        "        print(\"查無結果\")"
      ],
      "metadata": {
        "id": "nG3yMcHiB0jr"
      },
      "execution_count": 36,
      "outputs": []
    },
    {
      "cell_type": "code",
      "source": [
        "moedict_caller('高興')"
      ],
      "metadata": {
        "colab": {
          "base_uri": "https://localhost:8080/",
          "height": 240
        },
        "id": "RtiMoGX2CkPb",
        "outputId": "1ab7e7a9-ee6e-4940-e8d3-dce7d683fbeb"
      },
      "execution_count": 37,
      "outputs": [
        {
          "output_type": "execute_result",
          "data": {
            "text/plain": [
              "             解釋                 例句                                  同義詞  \\\n",
              "0         興趣甚高。                ---                                  ---   \n",
              "1        歡喜、愉快。     [如：「今天玩得高興嗎？」]  得意,痛快,開心,快樂,快活,歡樂,歡喜,歡躍,喜悅,興奮,怡悅,愉快   \n",
              "2  以興致作決定事情的根據。  [如：「他高興，就讓他先走吧！」]                                樂意,願意   \n",
              "\n",
              "                                   反義詞  \n",
              "0                                  ---  \n",
              "1  敗興,悲傷,悲哀,煩悶,難過,苦惱,沮喪,傷心,掃興,憂愁,厭惡,鬱悶  \n",
              "2                                不快,生氣  "
            ],
            "text/html": [
              "\n",
              "  <div id=\"df-7d6302de-9929-4789-8e4e-ef034c0687f1\">\n",
              "    <div class=\"colab-df-container\">\n",
              "      <div>\n",
              "<style scoped>\n",
              "    .dataframe tbody tr th:only-of-type {\n",
              "        vertical-align: middle;\n",
              "    }\n",
              "\n",
              "    .dataframe tbody tr th {\n",
              "        vertical-align: top;\n",
              "    }\n",
              "\n",
              "    .dataframe thead th {\n",
              "        text-align: right;\n",
              "    }\n",
              "</style>\n",
              "<table border=\"1\" class=\"dataframe\">\n",
              "  <thead>\n",
              "    <tr style=\"text-align: right;\">\n",
              "      <th></th>\n",
              "      <th>解釋</th>\n",
              "      <th>例句</th>\n",
              "      <th>同義詞</th>\n",
              "      <th>反義詞</th>\n",
              "    </tr>\n",
              "  </thead>\n",
              "  <tbody>\n",
              "    <tr>\n",
              "      <th>0</th>\n",
              "      <td>興趣甚高。</td>\n",
              "      <td>---</td>\n",
              "      <td>---</td>\n",
              "      <td>---</td>\n",
              "    </tr>\n",
              "    <tr>\n",
              "      <th>1</th>\n",
              "      <td>歡喜、愉快。</td>\n",
              "      <td>[如：「今天玩得高興嗎？」]</td>\n",
              "      <td>得意,痛快,開心,快樂,快活,歡樂,歡喜,歡躍,喜悅,興奮,怡悅,愉快</td>\n",
              "      <td>敗興,悲傷,悲哀,煩悶,難過,苦惱,沮喪,傷心,掃興,憂愁,厭惡,鬱悶</td>\n",
              "    </tr>\n",
              "    <tr>\n",
              "      <th>2</th>\n",
              "      <td>以興致作決定事情的根據。</td>\n",
              "      <td>[如：「他高興，就讓他先走吧！」]</td>\n",
              "      <td>樂意,願意</td>\n",
              "      <td>不快,生氣</td>\n",
              "    </tr>\n",
              "  </tbody>\n",
              "</table>\n",
              "</div>\n",
              "      <button class=\"colab-df-convert\" onclick=\"convertToInteractive('df-7d6302de-9929-4789-8e4e-ef034c0687f1')\"\n",
              "              title=\"Convert this dataframe to an interactive table.\"\n",
              "              style=\"display:none;\">\n",
              "        \n",
              "  <svg xmlns=\"http://www.w3.org/2000/svg\" height=\"24px\"viewBox=\"0 0 24 24\"\n",
              "       width=\"24px\">\n",
              "    <path d=\"M0 0h24v24H0V0z\" fill=\"none\"/>\n",
              "    <path d=\"M18.56 5.44l.94 2.06.94-2.06 2.06-.94-2.06-.94-.94-2.06-.94 2.06-2.06.94zm-11 1L8.5 8.5l.94-2.06 2.06-.94-2.06-.94L8.5 2.5l-.94 2.06-2.06.94zm10 10l.94 2.06.94-2.06 2.06-.94-2.06-.94-.94-2.06-.94 2.06-2.06.94z\"/><path d=\"M17.41 7.96l-1.37-1.37c-.4-.4-.92-.59-1.43-.59-.52 0-1.04.2-1.43.59L10.3 9.45l-7.72 7.72c-.78.78-.78 2.05 0 2.83L4 21.41c.39.39.9.59 1.41.59.51 0 1.02-.2 1.41-.59l7.78-7.78 2.81-2.81c.8-.78.8-2.07 0-2.86zM5.41 20L4 18.59l7.72-7.72 1.47 1.35L5.41 20z\"/>\n",
              "  </svg>\n",
              "      </button>\n",
              "      \n",
              "  <style>\n",
              "    .colab-df-container {\n",
              "      display:flex;\n",
              "      flex-wrap:wrap;\n",
              "      gap: 12px;\n",
              "    }\n",
              "\n",
              "    .colab-df-convert {\n",
              "      background-color: #E8F0FE;\n",
              "      border: none;\n",
              "      border-radius: 50%;\n",
              "      cursor: pointer;\n",
              "      display: none;\n",
              "      fill: #1967D2;\n",
              "      height: 32px;\n",
              "      padding: 0 0 0 0;\n",
              "      width: 32px;\n",
              "    }\n",
              "\n",
              "    .colab-df-convert:hover {\n",
              "      background-color: #E2EBFA;\n",
              "      box-shadow: 0px 1px 2px rgba(60, 64, 67, 0.3), 0px 1px 3px 1px rgba(60, 64, 67, 0.15);\n",
              "      fill: #174EA6;\n",
              "    }\n",
              "\n",
              "    [theme=dark] .colab-df-convert {\n",
              "      background-color: #3B4455;\n",
              "      fill: #D2E3FC;\n",
              "    }\n",
              "\n",
              "    [theme=dark] .colab-df-convert:hover {\n",
              "      background-color: #434B5C;\n",
              "      box-shadow: 0px 1px 3px 1px rgba(0, 0, 0, 0.15);\n",
              "      filter: drop-shadow(0px 1px 2px rgba(0, 0, 0, 0.3));\n",
              "      fill: #FFFFFF;\n",
              "    }\n",
              "  </style>\n",
              "\n",
              "      <script>\n",
              "        const buttonEl =\n",
              "          document.querySelector('#df-7d6302de-9929-4789-8e4e-ef034c0687f1 button.colab-df-convert');\n",
              "        buttonEl.style.display =\n",
              "          google.colab.kernel.accessAllowed ? 'block' : 'none';\n",
              "\n",
              "        async function convertToInteractive(key) {\n",
              "          const element = document.querySelector('#df-7d6302de-9929-4789-8e4e-ef034c0687f1');\n",
              "          const dataTable =\n",
              "            await google.colab.kernel.invokeFunction('convertToInteractive',\n",
              "                                                     [key], {});\n",
              "          if (!dataTable) return;\n",
              "\n",
              "          const docLinkHtml = 'Like what you see? Visit the ' +\n",
              "            '<a target=\"_blank\" href=https://colab.research.google.com/notebooks/data_table.ipynb>data table notebook</a>'\n",
              "            + ' to learn more about interactive tables.';\n",
              "          element.innerHTML = '';\n",
              "          dataTable['output_type'] = 'display_data';\n",
              "          await google.colab.output.renderOutput(dataTable, element);\n",
              "          const docLink = document.createElement('div');\n",
              "          docLink.innerHTML = docLinkHtml;\n",
              "          element.appendChild(docLink);\n",
              "        }\n",
              "      </script>\n",
              "    </div>\n",
              "  </div>\n",
              "  "
            ]
          },
          "metadata": {},
          "execution_count": 37
        }
      ]
    },
    {
      "cell_type": "markdown",
      "source": [
        "# 詞頻統計"
      ],
      "metadata": {
        "id": "Zz6hNSwWDfu0"
      }
    },
    {
      "cell_type": "code",
      "source": [
        "text = \"迎接虎年到來，台北101今天表示，即日起推出「虎年新春燈光秀」，將持續至2月5日，每晚6時至10時，除整點會有報時燈光變化外，每15分鐘還會有3分鐘的燈光秀。台北101下午透過新聞稿表示，今年特別設計「虎年新春燈光秀」，從今晚開始閃耀台北天際線，一直延續至2月5日，共7天。\"\n",
        "doc = nlp(text)\n",
        "for token in doc:\n",
        "    print(token.text, end=\" | \")"
      ],
      "metadata": {
        "colab": {
          "base_uri": "https://localhost:8080/"
        },
        "id": "N_TMgL-dDqZK",
        "outputId": "3466efea-8989-4ecc-dc27-4d069c11695c"
      },
      "execution_count": 39,
      "outputs": [
        {
          "output_type": "stream",
          "name": "stdout",
          "text": [
            "迎接 | 虎年 | 到來 | ， | 台北 | 101 | 今天 | 表示 | ， | 即日 | 起 | 推出 | 「 | 虎年 | 新春 | 燈光秀 | 」 | ， | 將 | 持續 | 至 | 2 | 月 | 5 | 日 | ， | 每晚 | 6 | 時 | 至 | 10 | 時 | ， | 除整 | 點會 | 有 | 報時 | 燈光 | 變化 | 外 | ， | 每 | 15 | 分鐘 | 還 | 會 | 有 | 3 | 分鐘 | 的 | 燈光秀 | 。 | 台北 | 101 | 下午 | 透過 | 新聞稿 | 表示 | ， | 今年 | 特別 | 設計 | 「 | 虎年 | 新春 | 燈光秀 | 」 | ， | 從 | 今晚 | 開始 | 閃耀 | 台北 | 天際線 | ， | 一直 | 延續 | 至 | 2 | 月 | 5 | 日 | ， | 共 | 7 | 天 | 。 | "
          ]
        }
      ]
    },
    {
      "cell_type": "code",
      "source": [
        "PUNCT_SYM = [\"PUNCT\", \"SYM\"]\n",
        "\n",
        "def filter_tokens(doc):\n",
        "    clean_tokens = [tok for tok in doc if tok.pos_ not in PUNCT_SYM]\n",
        "    clean_tokens = (\n",
        "        [tok for tok in clean_tokens if \n",
        "         not tok.like_email and \n",
        "         not tok.like_num and \n",
        "         not tok.like_url and \n",
        "         not tok.is_space]\n",
        "    )\n",
        "    return clean_tokens"
      ],
      "metadata": {
        "id": "9Rk3oU6wEJtM"
      },
      "execution_count": 40,
      "outputs": []
    },
    {
      "cell_type": "code",
      "source": [
        "clean_tokens = filter_tokens(doc)\n",
        "for token in clean_tokens:\n",
        "    print(token.text, end=\" | \")"
      ],
      "metadata": {
        "colab": {
          "base_uri": "https://localhost:8080/"
        },
        "id": "7nqxjZhQFARp",
        "outputId": "ac6e01df-cc31-407c-b731-bd3f0d42db1a"
      },
      "execution_count": 41,
      "outputs": [
        {
          "output_type": "stream",
          "name": "stdout",
          "text": [
            "迎接 | 虎年 | 到來 | 台北 | 今天 | 表示 | 即日 | 起 | 推出 | 虎年 | 新春 | 燈光秀 | 將 | 持續 | 至 | 月 | 日 | 每晚 | 時 | 至 | 時 | 除整 | 點會 | 有 | 報時 | 燈光 | 變化 | 外 | 每 | 分鐘 | 還 | 會 | 有 | 分鐘 | 的 | 燈光秀 | 台北 | 下午 | 透過 | 新聞稿 | 表示 | 今年 | 特別 | 設計 | 虎年 | 新春 | 燈光秀 | 從 | 今晚 | 開始 | 閃耀 | 台北 | 天際線 | 一直 | 延續 | 至 | 月 | 日 | 共 | 天 | "
          ]
        }
      ]
    },
    {
      "cell_type": "code",
      "source": [
        "tokens = [token.text for token in clean_tokens]\n",
        "counter = Counter(tokens)\n",
        "counter"
      ],
      "metadata": {
        "colab": {
          "base_uri": "https://localhost:8080/"
        },
        "id": "4OsBdQ40FXdt",
        "outputId": "bbf48f2e-a89b-4993-9bae-af7810616951"
      },
      "execution_count": 42,
      "outputs": [
        {
          "output_type": "execute_result",
          "data": {
            "text/plain": [
              "Counter({'一直': 1,\n",
              "         '下午': 1,\n",
              "         '今天': 1,\n",
              "         '今年': 1,\n",
              "         '今晚': 1,\n",
              "         '共': 1,\n",
              "         '分鐘': 2,\n",
              "         '到來': 1,\n",
              "         '即日': 1,\n",
              "         '台北': 3,\n",
              "         '報時': 1,\n",
              "         '外': 1,\n",
              "         '天': 1,\n",
              "         '天際線': 1,\n",
              "         '將': 1,\n",
              "         '延續': 1,\n",
              "         '從': 1,\n",
              "         '持續': 1,\n",
              "         '推出': 1,\n",
              "         '新春': 2,\n",
              "         '新聞稿': 1,\n",
              "         '日': 2,\n",
              "         '時': 2,\n",
              "         '會': 1,\n",
              "         '月': 2,\n",
              "         '有': 2,\n",
              "         '每': 1,\n",
              "         '每晚': 1,\n",
              "         '燈光': 1,\n",
              "         '燈光秀': 3,\n",
              "         '特別': 1,\n",
              "         '的': 1,\n",
              "         '至': 3,\n",
              "         '虎年': 3,\n",
              "         '表示': 2,\n",
              "         '設計': 1,\n",
              "         '變化': 1,\n",
              "         '起': 1,\n",
              "         '迎接': 1,\n",
              "         '透過': 1,\n",
              "         '還': 1,\n",
              "         '閃耀': 1,\n",
              "         '開始': 1,\n",
              "         '除整': 1,\n",
              "         '點會': 1})"
            ]
          },
          "metadata": {},
          "execution_count": 42
        }
      ]
    },
    {
      "cell_type": "code",
      "source": [
        "counter.most_common(5)"
      ],
      "metadata": {
        "colab": {
          "base_uri": "https://localhost:8080/"
        },
        "id": "8ft2mAZ8GGNo",
        "outputId": "6b357dbe-08c2-4f0e-e792-52e99769d2eb"
      },
      "execution_count": 43,
      "outputs": [
        {
          "output_type": "execute_result",
          "data": {
            "text/plain": [
              "[('虎年', 3), ('台北', 3), ('燈光秀', 3), ('至', 3), ('表示', 2)]"
            ]
          },
          "metadata": {},
          "execution_count": 43
        }
      ]
    },
    {
      "cell_type": "code",
      "source": [
        "counter_series = pd.Series(counter).sort_values(ascending=False)\n",
        "fig = counter_series.plot.bar()\n",
        "fig"
      ],
      "metadata": {
        "colab": {
          "base_uri": "https://localhost:8080/",
          "height": 542
        },
        "id": "c2yVJ1_1YNm_",
        "outputId": "3a068d8c-51f2-4abf-9b6c-4ba969d55880"
      },
      "execution_count": 44,
      "outputs": [
        {
          "output_type": "display_data",
          "data": {
            "text/html": [
              "<html>\n",
              "<head><meta charset=\"utf-8\" /></head>\n",
              "<body>\n",
              "    <div>            <script src=\"https://cdnjs.cloudflare.com/ajax/libs/mathjax/2.7.5/MathJax.js?config=TeX-AMS-MML_SVG\"></script><script type=\"text/javascript\">if (window.MathJax) {MathJax.Hub.Config({SVG: {font: \"STIX-Web\"}});}</script>                <script type=\"text/javascript\">window.PlotlyConfig = {MathJaxConfig: 'local'};</script>\n",
              "        <script src=\"https://cdn.plot.ly/plotly-2.8.3.min.js\"></script>                <div id=\"0f83f52b-ab36-4fcd-ac99-e217b9f608d4\" class=\"plotly-graph-div\" style=\"height:525px; width:100%;\"></div>            <script type=\"text/javascript\">                                    window.PLOTLYENV=window.PLOTLYENV || {};                                    if (document.getElementById(\"0f83f52b-ab36-4fcd-ac99-e217b9f608d4\")) {                    Plotly.newPlot(                        \"0f83f52b-ab36-4fcd-ac99-e217b9f608d4\",                        [{\"alignmentgroup\":\"True\",\"hovertemplate\":\"variable=0<br>index=%{x}<br>value=%{y}<extra></extra>\",\"legendgroup\":\"0\",\"marker\":{\"color\":\"#636efa\",\"pattern\":{\"shape\":\"\"}},\"name\":\"0\",\"offsetgroup\":\"0\",\"orientation\":\"v\",\"showlegend\":true,\"textposition\":\"auto\",\"x\":[\"\\u864e\\u5e74\",\"\\u53f0\\u5317\",\"\\u81f3\",\"\\u71c8\\u5149\\u79c0\",\"\\u6642\",\"\\u65e5\",\"\\u6709\",\"\\u65b0\\u6625\",\"\\u6708\",\"\\u8868\\u793a\",\"\\u5206\\u9418\",\"\\u65b0\\u805e\\u7a3f\",\"\\u900f\\u904e\",\"\\u4eca\\u5e74\",\"\\u4e0b\\u5348\",\"\\u7279\\u5225\",\"\\u8a2d\\u8a08\",\"\\u8fce\\u63a5\",\"\\u5f9e\",\"\\u6703\",\"\\u4eca\\u665a\",\"\\u958b\\u59cb\",\"\\u9583\\u8000\",\"\\u5929\\u969b\\u7dda\",\"\\u4e00\\u76f4\",\"\\u5ef6\\u7e8c\",\"\\u5171\",\"\\u7684\",\"\\u71c8\\u5149\",\"\\u9084\",\"\\u6bcf\",\"\\u5916\",\"\\u8b8a\\u5316\",\"\\u5831\\u6642\",\"\\u9ede\\u6703\",\"\\u9664\\u6574\",\"\\u6bcf\\u665a\",\"\\u6301\\u7e8c\",\"\\u5c07\",\"\\u63a8\\u51fa\",\"\\u8d77\",\"\\u5373\\u65e5\",\"\\u4eca\\u5929\",\"\\u5230\\u4f86\",\"\\u5929\"],\"xaxis\":\"x\",\"y\":[3,3,3,3,2,2,2,2,2,2,2,1,1,1,1,1,1,1,1,1,1,1,1,1,1,1,1,1,1,1,1,1,1,1,1,1,1,1,1,1,1,1,1,1,1],\"yaxis\":\"y\",\"type\":\"bar\"}],                        {\"template\":{\"data\":{\"bar\":[{\"error_x\":{\"color\":\"#2a3f5f\"},\"error_y\":{\"color\":\"#2a3f5f\"},\"marker\":{\"line\":{\"color\":\"#E5ECF6\",\"width\":0.5},\"pattern\":{\"fillmode\":\"overlay\",\"size\":10,\"solidity\":0.2}},\"type\":\"bar\"}],\"barpolar\":[{\"marker\":{\"line\":{\"color\":\"#E5ECF6\",\"width\":0.5},\"pattern\":{\"fillmode\":\"overlay\",\"size\":10,\"solidity\":0.2}},\"type\":\"barpolar\"}],\"carpet\":[{\"aaxis\":{\"endlinecolor\":\"#2a3f5f\",\"gridcolor\":\"white\",\"linecolor\":\"white\",\"minorgridcolor\":\"white\",\"startlinecolor\":\"#2a3f5f\"},\"baxis\":{\"endlinecolor\":\"#2a3f5f\",\"gridcolor\":\"white\",\"linecolor\":\"white\",\"minorgridcolor\":\"white\",\"startlinecolor\":\"#2a3f5f\"},\"type\":\"carpet\"}],\"choropleth\":[{\"colorbar\":{\"outlinewidth\":0,\"ticks\":\"\"},\"type\":\"choropleth\"}],\"contour\":[{\"colorbar\":{\"outlinewidth\":0,\"ticks\":\"\"},\"colorscale\":[[0.0,\"#0d0887\"],[0.1111111111111111,\"#46039f\"],[0.2222222222222222,\"#7201a8\"],[0.3333333333333333,\"#9c179e\"],[0.4444444444444444,\"#bd3786\"],[0.5555555555555556,\"#d8576b\"],[0.6666666666666666,\"#ed7953\"],[0.7777777777777778,\"#fb9f3a\"],[0.8888888888888888,\"#fdca26\"],[1.0,\"#f0f921\"]],\"type\":\"contour\"}],\"contourcarpet\":[{\"colorbar\":{\"outlinewidth\":0,\"ticks\":\"\"},\"type\":\"contourcarpet\"}],\"heatmap\":[{\"colorbar\":{\"outlinewidth\":0,\"ticks\":\"\"},\"colorscale\":[[0.0,\"#0d0887\"],[0.1111111111111111,\"#46039f\"],[0.2222222222222222,\"#7201a8\"],[0.3333333333333333,\"#9c179e\"],[0.4444444444444444,\"#bd3786\"],[0.5555555555555556,\"#d8576b\"],[0.6666666666666666,\"#ed7953\"],[0.7777777777777778,\"#fb9f3a\"],[0.8888888888888888,\"#fdca26\"],[1.0,\"#f0f921\"]],\"type\":\"heatmap\"}],\"heatmapgl\":[{\"colorbar\":{\"outlinewidth\":0,\"ticks\":\"\"},\"colorscale\":[[0.0,\"#0d0887\"],[0.1111111111111111,\"#46039f\"],[0.2222222222222222,\"#7201a8\"],[0.3333333333333333,\"#9c179e\"],[0.4444444444444444,\"#bd3786\"],[0.5555555555555556,\"#d8576b\"],[0.6666666666666666,\"#ed7953\"],[0.7777777777777778,\"#fb9f3a\"],[0.8888888888888888,\"#fdca26\"],[1.0,\"#f0f921\"]],\"type\":\"heatmapgl\"}],\"histogram\":[{\"marker\":{\"pattern\":{\"fillmode\":\"overlay\",\"size\":10,\"solidity\":0.2}},\"type\":\"histogram\"}],\"histogram2d\":[{\"colorbar\":{\"outlinewidth\":0,\"ticks\":\"\"},\"colorscale\":[[0.0,\"#0d0887\"],[0.1111111111111111,\"#46039f\"],[0.2222222222222222,\"#7201a8\"],[0.3333333333333333,\"#9c179e\"],[0.4444444444444444,\"#bd3786\"],[0.5555555555555556,\"#d8576b\"],[0.6666666666666666,\"#ed7953\"],[0.7777777777777778,\"#fb9f3a\"],[0.8888888888888888,\"#fdca26\"],[1.0,\"#f0f921\"]],\"type\":\"histogram2d\"}],\"histogram2dcontour\":[{\"colorbar\":{\"outlinewidth\":0,\"ticks\":\"\"},\"colorscale\":[[0.0,\"#0d0887\"],[0.1111111111111111,\"#46039f\"],[0.2222222222222222,\"#7201a8\"],[0.3333333333333333,\"#9c179e\"],[0.4444444444444444,\"#bd3786\"],[0.5555555555555556,\"#d8576b\"],[0.6666666666666666,\"#ed7953\"],[0.7777777777777778,\"#fb9f3a\"],[0.8888888888888888,\"#fdca26\"],[1.0,\"#f0f921\"]],\"type\":\"histogram2dcontour\"}],\"mesh3d\":[{\"colorbar\":{\"outlinewidth\":0,\"ticks\":\"\"},\"type\":\"mesh3d\"}],\"parcoords\":[{\"line\":{\"colorbar\":{\"outlinewidth\":0,\"ticks\":\"\"}},\"type\":\"parcoords\"}],\"pie\":[{\"automargin\":true,\"type\":\"pie\"}],\"scatter\":[{\"marker\":{\"colorbar\":{\"outlinewidth\":0,\"ticks\":\"\"}},\"type\":\"scatter\"}],\"scatter3d\":[{\"line\":{\"colorbar\":{\"outlinewidth\":0,\"ticks\":\"\"}},\"marker\":{\"colorbar\":{\"outlinewidth\":0,\"ticks\":\"\"}},\"type\":\"scatter3d\"}],\"scattercarpet\":[{\"marker\":{\"colorbar\":{\"outlinewidth\":0,\"ticks\":\"\"}},\"type\":\"scattercarpet\"}],\"scattergeo\":[{\"marker\":{\"colorbar\":{\"outlinewidth\":0,\"ticks\":\"\"}},\"type\":\"scattergeo\"}],\"scattergl\":[{\"marker\":{\"colorbar\":{\"outlinewidth\":0,\"ticks\":\"\"}},\"type\":\"scattergl\"}],\"scattermapbox\":[{\"marker\":{\"colorbar\":{\"outlinewidth\":0,\"ticks\":\"\"}},\"type\":\"scattermapbox\"}],\"scatterpolar\":[{\"marker\":{\"colorbar\":{\"outlinewidth\":0,\"ticks\":\"\"}},\"type\":\"scatterpolar\"}],\"scatterpolargl\":[{\"marker\":{\"colorbar\":{\"outlinewidth\":0,\"ticks\":\"\"}},\"type\":\"scatterpolargl\"}],\"scatterternary\":[{\"marker\":{\"colorbar\":{\"outlinewidth\":0,\"ticks\":\"\"}},\"type\":\"scatterternary\"}],\"surface\":[{\"colorbar\":{\"outlinewidth\":0,\"ticks\":\"\"},\"colorscale\":[[0.0,\"#0d0887\"],[0.1111111111111111,\"#46039f\"],[0.2222222222222222,\"#7201a8\"],[0.3333333333333333,\"#9c179e\"],[0.4444444444444444,\"#bd3786\"],[0.5555555555555556,\"#d8576b\"],[0.6666666666666666,\"#ed7953\"],[0.7777777777777778,\"#fb9f3a\"],[0.8888888888888888,\"#fdca26\"],[1.0,\"#f0f921\"]],\"type\":\"surface\"}],\"table\":[{\"cells\":{\"fill\":{\"color\":\"#EBF0F8\"},\"line\":{\"color\":\"white\"}},\"header\":{\"fill\":{\"color\":\"#C8D4E3\"},\"line\":{\"color\":\"white\"}},\"type\":\"table\"}]},\"layout\":{\"annotationdefaults\":{\"arrowcolor\":\"#2a3f5f\",\"arrowhead\":0,\"arrowwidth\":1},\"autotypenumbers\":\"strict\",\"coloraxis\":{\"colorbar\":{\"outlinewidth\":0,\"ticks\":\"\"}},\"colorscale\":{\"diverging\":[[0,\"#8e0152\"],[0.1,\"#c51b7d\"],[0.2,\"#de77ae\"],[0.3,\"#f1b6da\"],[0.4,\"#fde0ef\"],[0.5,\"#f7f7f7\"],[0.6,\"#e6f5d0\"],[0.7,\"#b8e186\"],[0.8,\"#7fbc41\"],[0.9,\"#4d9221\"],[1,\"#276419\"]],\"sequential\":[[0.0,\"#0d0887\"],[0.1111111111111111,\"#46039f\"],[0.2222222222222222,\"#7201a8\"],[0.3333333333333333,\"#9c179e\"],[0.4444444444444444,\"#bd3786\"],[0.5555555555555556,\"#d8576b\"],[0.6666666666666666,\"#ed7953\"],[0.7777777777777778,\"#fb9f3a\"],[0.8888888888888888,\"#fdca26\"],[1.0,\"#f0f921\"]],\"sequentialminus\":[[0.0,\"#0d0887\"],[0.1111111111111111,\"#46039f\"],[0.2222222222222222,\"#7201a8\"],[0.3333333333333333,\"#9c179e\"],[0.4444444444444444,\"#bd3786\"],[0.5555555555555556,\"#d8576b\"],[0.6666666666666666,\"#ed7953\"],[0.7777777777777778,\"#fb9f3a\"],[0.8888888888888888,\"#fdca26\"],[1.0,\"#f0f921\"]]},\"colorway\":[\"#636efa\",\"#EF553B\",\"#00cc96\",\"#ab63fa\",\"#FFA15A\",\"#19d3f3\",\"#FF6692\",\"#B6E880\",\"#FF97FF\",\"#FECB52\"],\"font\":{\"color\":\"#2a3f5f\"},\"geo\":{\"bgcolor\":\"white\",\"lakecolor\":\"white\",\"landcolor\":\"#E5ECF6\",\"showlakes\":true,\"showland\":true,\"subunitcolor\":\"white\"},\"hoverlabel\":{\"align\":\"left\"},\"hovermode\":\"closest\",\"mapbox\":{\"style\":\"light\"},\"paper_bgcolor\":\"white\",\"plot_bgcolor\":\"#E5ECF6\",\"polar\":{\"angularaxis\":{\"gridcolor\":\"white\",\"linecolor\":\"white\",\"ticks\":\"\"},\"bgcolor\":\"#E5ECF6\",\"radialaxis\":{\"gridcolor\":\"white\",\"linecolor\":\"white\",\"ticks\":\"\"}},\"scene\":{\"xaxis\":{\"backgroundcolor\":\"#E5ECF6\",\"gridcolor\":\"white\",\"gridwidth\":2,\"linecolor\":\"white\",\"showbackground\":true,\"ticks\":\"\",\"zerolinecolor\":\"white\"},\"yaxis\":{\"backgroundcolor\":\"#E5ECF6\",\"gridcolor\":\"white\",\"gridwidth\":2,\"linecolor\":\"white\",\"showbackground\":true,\"ticks\":\"\",\"zerolinecolor\":\"white\"},\"zaxis\":{\"backgroundcolor\":\"#E5ECF6\",\"gridcolor\":\"white\",\"gridwidth\":2,\"linecolor\":\"white\",\"showbackground\":true,\"ticks\":\"\",\"zerolinecolor\":\"white\"}},\"shapedefaults\":{\"line\":{\"color\":\"#2a3f5f\"}},\"ternary\":{\"aaxis\":{\"gridcolor\":\"white\",\"linecolor\":\"white\",\"ticks\":\"\"},\"baxis\":{\"gridcolor\":\"white\",\"linecolor\":\"white\",\"ticks\":\"\"},\"bgcolor\":\"#E5ECF6\",\"caxis\":{\"gridcolor\":\"white\",\"linecolor\":\"white\",\"ticks\":\"\"}},\"title\":{\"x\":0.05},\"xaxis\":{\"automargin\":true,\"gridcolor\":\"white\",\"linecolor\":\"white\",\"ticks\":\"\",\"title\":{\"standoff\":15},\"zerolinecolor\":\"white\",\"zerolinewidth\":2},\"yaxis\":{\"automargin\":true,\"gridcolor\":\"white\",\"linecolor\":\"white\",\"ticks\":\"\",\"title\":{\"standoff\":15},\"zerolinecolor\":\"white\",\"zerolinewidth\":2}}},\"xaxis\":{\"anchor\":\"y\",\"domain\":[0.0,1.0],\"title\":{\"text\":\"index\"}},\"yaxis\":{\"anchor\":\"x\",\"domain\":[0.0,1.0],\"title\":{\"text\":\"value\"}},\"legend\":{\"title\":{\"text\":\"variable\"},\"tracegroupgap\":0},\"margin\":{\"t\":60},\"barmode\":\"relative\"},                        {\"responsive\": true}                    ).then(function(){\n",
              "                            \n",
              "var gd = document.getElementById('0f83f52b-ab36-4fcd-ac99-e217b9f608d4');\n",
              "var x = new MutationObserver(function (mutations, observer) {{\n",
              "        var display = window.getComputedStyle(gd).display;\n",
              "        if (!display || display === 'none') {{\n",
              "            console.log([gd, 'removed!']);\n",
              "            Plotly.purge(gd);\n",
              "            observer.disconnect();\n",
              "        }}\n",
              "}});\n",
              "\n",
              "// Listen for the removal of the full notebook cells\n",
              "var notebookContainer = gd.closest('#notebook-container');\n",
              "if (notebookContainer) {{\n",
              "    x.observe(notebookContainer, {childList: true});\n",
              "}}\n",
              "\n",
              "// Listen for the clearing of the current output cell\n",
              "var outputEl = gd.closest('.output');\n",
              "if (outputEl) {{\n",
              "    x.observe(outputEl, {childList: true});\n",
              "}}\n",
              "\n",
              "                        })                };                            </script>        </div>\n",
              "</body>\n",
              "</html>"
            ]
          },
          "metadata": {}
        }
      ]
    },
    {
      "cell_type": "markdown",
      "source": [
        "# 詞彙分級"
      ],
      "metadata": {
        "id": "UuTYYhbplwcv"
      }
    },
    {
      "cell_type": "markdown",
      "source": [
        "處理`TOCFL華語詞彙分級表`的方法詳見[這裡](https://colab.research.google.com/github/howard-haowen/NLP-demos/blob/main/TOCFL_wordlist.ipynb)。"
      ],
      "metadata": {
        "id": "5Izn1SzclyS5"
      }
    },
    {
      "cell_type": "markdown",
      "source": [
        "# 互動介面"
      ],
      "metadata": {
        "id": "EZNbIypAg-p-"
      }
    },
    {
      "cell_type": "code",
      "source": [
        "from ipywidgets import interact"
      ],
      "metadata": {
        "id": "O24Xq2rEkWbx"
      },
      "execution_count": 57,
      "outputs": []
    },
    {
      "cell_type": "code",
      "source": [
        "def show_tokens(input_text):\n",
        "    doc = nlp(input_text)\n",
        "    for token in doc:\n",
        "        print(token.text, end=\" | \")"
      ],
      "metadata": {
        "id": "r7cYKqgYiouM"
      },
      "execution_count": 69,
      "outputs": []
    },
    {
      "cell_type": "code",
      "source": [
        "def show_ner(input_text):\n",
        "    doc = nlp(input_text)\n",
        "    displacy.render(doc, style='ent',jupyter=True)"
      ],
      "metadata": {
        "id": "UV8UPZy3q_SH"
      },
      "execution_count": 70,
      "outputs": []
    },
    {
      "cell_type": "code",
      "source": [
        "def filter_tokens(doc):\n",
        "    clean_tokens = [tok for tok in doc if tok.pos_ not in PUNCT_SYM]\n",
        "    clean_tokens = (\n",
        "        [tok for tok in clean_tokens if \n",
        "         not tok.like_email and \n",
        "         not tok.like_num and \n",
        "         not tok.like_url and \n",
        "         not tok.is_space]\n",
        "    )\n",
        "    return clean_tokens"
      ],
      "metadata": {
        "id": "Vfur5h_Os2nm"
      },
      "execution_count": 75,
      "outputs": []
    },
    {
      "cell_type": "code",
      "source": [
        "def show_aided_text(input_text, pronunciation=\"pinyin\"):\n",
        "    PUNCT_SYM = [\"PUNCT\", \"SYM\"]\n",
        "    TOK_SEP = \" | \"\n",
        "    doc = nlp(input_text)\n",
        "    for idx, sent in enumerate(doc.sents):\n",
        "        tokens_text = [tok.text for tok in sent if tok.pos_ not in PUNCT_SYM]\n",
        "        pinyins = [hanzi.to_pinyin(word) for word in tokens_text]\n",
        "        sounds = pinyins\n",
        "        if pronunciation == \"bpm\":\n",
        "            zhuyins = [transcriptions.pinyin_to_zhuyin(word) for word in pinyins]\n",
        "            sounds = zhuyins\n",
        "        elif pronunciation == \"ipa\":\n",
        "            ipas = [transcriptions.pinyin_to_ipa(word) for word in pinyins]\n",
        "            sounds = ipas\n",
        "\n",
        "        display = []\n",
        "        for text, sound in zip(tokens_text, sounds):\n",
        "            res = f\"{text} [{sound}]\"\n",
        "            display.append(res)\n",
        "        if display:\n",
        "            display_text = TOK_SEP.join(display)\n",
        "            print(f\"{idx+1} >>> {display_text}\")\n",
        "        else:\n",
        "            print(f\"{idx+1} >>> EMPTY LINE\")"
      ],
      "metadata": {
        "id": "ao_MhNcsr3uq"
      },
      "execution_count": 78,
      "outputs": []
    },
    {
      "cell_type": "code",
      "source": [
        "text = \"阿伯說他要從台北騎腳踏車到高雄。\"\n",
        "interact(show_tokens, input_text=text)"
      ],
      "metadata": {
        "colab": {
          "base_uri": "https://localhost:8080/",
          "height": 84,
          "referenced_widgets": [
            "35c62a5f36434e7f8f1a6683b1849ca0",
            "3c902e3bcbf24c0bbe9753b51e7cca7b",
            "b96e492c86864315a69b7ffac064e89d",
            "4d14193f711d4fa3864d25ebb16a83d7",
            "d51e289be5d84882b4e06ced1b037697",
            "569289a2b08545d98fda761d9824cae7",
            "653d46eba6fa44019512afd43059bb07"
          ]
        },
        "id": "QD0HUJcQpyur",
        "outputId": "ce5f28a4-2210-49fa-b10a-39fb4c49402c"
      },
      "execution_count": 73,
      "outputs": [
        {
          "output_type": "display_data",
          "data": {
            "text/plain": [
              "interactive(children=(Text(value='阿伯說他要從台北騎腳踏車到高雄。', description='input_text'), Output()), _dom_classes=('widg…"
            ],
            "application/vnd.jupyter.widget-view+json": {
              "version_major": 2,
              "version_minor": 0,
              "model_id": "35c62a5f36434e7f8f1a6683b1849ca0"
            }
          },
          "metadata": {}
        },
        {
          "output_type": "execute_result",
          "data": {
            "text/plain": [
              "<function __main__.show_tokens>"
            ]
          },
          "metadata": {},
          "execution_count": 73
        }
      ]
    },
    {
      "cell_type": "code",
      "source": [
        "interact(show_ner, input_text=text)"
      ],
      "metadata": {
        "colab": {
          "base_uri": "https://localhost:8080/",
          "height": 101,
          "referenced_widgets": [
            "7ea86a3ee0e24574b854ed8aa7e31a37",
            "650e54b855b94095a896f28e4fdd9b2f",
            "d98cc466c6804cabb268b65ca659701a",
            "0eb7ecfc28954a809025753070c107a4",
            "ec095762ea4a4941a2b0a1adaabe7161",
            "4ae02c7050d74a8386862818861474e0",
            "9b0f7e1881b041a58478c33b89632108"
          ]
        },
        "id": "2bOnyLtJrNYI",
        "outputId": "b2d8c78e-6963-4385-dfe9-b3f62f547d46"
      },
      "execution_count": 74,
      "outputs": [
        {
          "output_type": "display_data",
          "data": {
            "text/plain": [
              "interactive(children=(Text(value='阿伯說他要從台北騎腳踏車到高雄。', description='input_text'), Output()), _dom_classes=('widg…"
            ],
            "application/vnd.jupyter.widget-view+json": {
              "version_major": 2,
              "version_minor": 0,
              "model_id": "7ea86a3ee0e24574b854ed8aa7e31a37"
            }
          },
          "metadata": {}
        },
        {
          "output_type": "execute_result",
          "data": {
            "text/plain": [
              "<function __main__.show_ner>"
            ]
          },
          "metadata": {},
          "execution_count": 74
        }
      ]
    },
    {
      "cell_type": "code",
      "source": [
        "interact(show_aided_text, \n",
        "           input_text=text, \n",
        "           pronunciation='pinyin')"
      ],
      "metadata": {
        "colab": {
          "base_uri": "https://localhost:8080/",
          "height": 116,
          "referenced_widgets": [
            "331d3a0c598b4078b2c9bede914869fd",
            "6b55b81e24a547b78af635b878c7bf56",
            "7f7b1d7bd7bb44a3ad5bd07feaac575f",
            "2bf495a2797e4cdc833a86a1a27e3c01",
            "af64a745fea94455bf5c9a53fa53eb0b",
            "5ed9d7342b47455894a35704f4111c0e",
            "253b62d37c4b4754ad02e55f1fa9245b",
            "8d2f5d13bbc54d3692ddb9ba2099b3e3",
            "c494d832c450471dabd6231e45545712",
            "b007ea431c344f2bb3674c57ff9d8e8d"
          ]
        },
        "id": "Um4eoV5sr2F8",
        "outputId": "2f5f03a1-10cb-44a1-ce51-36f177b0d7d7"
      },
      "execution_count": 80,
      "outputs": [
        {
          "output_type": "display_data",
          "data": {
            "text/plain": [
              "interactive(children=(Text(value='阿伯說他要從台北騎腳踏車到高雄。', description='input_text'), Text(value='pinyin', descripti…"
            ],
            "application/vnd.jupyter.widget-view+json": {
              "version_major": 2,
              "version_minor": 0,
              "model_id": "331d3a0c598b4078b2c9bede914869fd"
            }
          },
          "metadata": {}
        },
        {
          "output_type": "execute_result",
          "data": {
            "text/plain": [
              "<function __main__.show_aided_text>"
            ]
          },
          "metadata": {},
          "execution_count": 80
        }
      ]
    },
    {
      "cell_type": "code",
      "source": [
        "interact(moedict_caller, word=\"高興\")"
      ],
      "metadata": {
        "id": "bsyIH1d5zZaF"
      },
      "execution_count": null,
      "outputs": []
    }
  ]
}