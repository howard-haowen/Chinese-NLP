{
 "cells": [
  {
   "cell_type": "markdown",
   "metadata": {
    "colab_type": "text",
    "id": "view-in-github",
    "slideshow": {
     "slide_type": "skip"
    }
   },
   "source": [
    "<a href=\"https://colab.research.google.com/github/howard-haowen/NLP-demos/blob/main/NTNU_talk.ipynb\" target=\"_parent\"><img src=\"https://colab.research.google.com/assets/colab-badge.svg\" alt=\"Open In Colab\"/></a>"
   ]
  },
  {
   "cell_type": "code",
   "execution_count": 1,
   "metadata": {
    "id": "QEuBPlA2bXZn",
    "slideshow": {
     "slide_type": "skip"
    }
   },
   "outputs": [],
   "source": [
    "from traitlets.config.manager import BaseJSONConfigManager\n",
    "from pathlib import Path"
   ]
  },
  {
   "cell_type": "code",
   "execution_count": 2,
   "metadata": {
    "colab": {
     "base_uri": "https://localhost:8080/"
    },
    "id": "MJFMGDwcba-I",
    "outputId": "58eaa4c3-ba3d-45fc-f41a-973b12a55a84",
    "slideshow": {
     "slide_type": "skip"
    }
   },
   "outputs": [
    {
     "data": {
      "text/plain": [
       "{'autolaunch': False,\n",
       " 'enable_chalkboard': True,\n",
       " 'scroll': True,\n",
       " 'slideNumber': True,\n",
       " 'controls': True,\n",
       " 'progress': True,\n",
       " 'history': True,\n",
       " 'center': True,\n",
       " 'width': '100%',\n",
       " 'height': '100%',\n",
       " 'theme': 'beige',\n",
       " 'transition': 'concave',\n",
       " 'start_slideshow_at': 'selected'}"
      ]
     },
     "execution_count": 2,
     "metadata": {},
     "output_type": "execute_result"
    }
   ],
   "source": [
    "path = Path.home() / \".jupyter\" / \"nbconfig\"\n",
    "cm = BaseJSONConfigManager(config_dir=str(path))\n",
    "cm.update(\n",
    "    \"rise\",\n",
    "    {\n",
    "        \"autolaunch\": False,\n",
    "        \"enable_chalkboard\": True,\n",
    "        \"scroll\": True,\n",
    "        \"slideNumber\": True,\n",
    "        \"controls\": True,\n",
    "        \"progress\": True,\n",
    "        \"history\": True,\n",
    "        \"center\": True,\n",
    "        \"width\": \"100%\",\n",
    "        \"height\": \"100%\",\n",
    "        \"theme\": \"beige\",\n",
    "        \"transition\": \"concave\",\n",
    "        \"start_slideshow_at\": \"selected\"\n",
    "     }\n",
    ")"
   ]
  },
  {
   "cell_type": "markdown",
   "metadata": {
    "id": "pnDIuXs0X3tj",
    "slideshow": {
     "slide_type": "slide"
    }
   },
   "source": [
    "# Outline\n"
   ]
  },
  {
   "cell_type": "markdown",
   "metadata": {
    "id": "dieJ3Nq4eiSb"
   },
   "source": [
    "- My background\n",
    "- NLP applications in business\n",
    "- Doing linguistic analysis with programs \n",
    "- Machine learning 101\n",
    "- Text representation\n",
    "- Transfer learning\n",
    "- Hands-on walkthrough (HOW)\n"
   ]
  },
  {
   "cell_type": "markdown",
   "metadata": {
    "id": "0s3kuqUKPZta",
    "slideshow": {
     "slide_type": "slide"
    }
   },
   "source": [
    "# My background"
   ]
  },
  {
   "cell_type": "markdown",
   "metadata": {
    "id": "Ws7aQ1lxX9lq"
   },
   "source": [
    "## Education"
   ]
  },
  {
   "cell_type": "markdown",
   "metadata": {
    "id": "lm5dm2XyaZ9c"
   },
   "source": [
    "![](https://github.com/howard-haowen/NLP-demos/raw/main/img/education_blue.png)"
   ]
  },
  {
   "cell_type": "markdown",
   "metadata": {
    "id": "x7P84kOpYVxB"
   },
   "source": [
    "## Experience"
   ]
  },
  {
   "cell_type": "markdown",
   "metadata": {
    "id": "KxN1aUc4kr18"
   },
   "source": [
    "- AI Engineer, Wisers Information Limited\n",
    "\n",
    "- AI Engineer, Hamastar Technology\n",
    "\n",
    "- Boya Postdoc Researcher (博雅博士後), Peking University\n",
    "\n",
    "- English Lecturer, National Taipei University of Technology"
   ]
  },
  {
   "cell_type": "markdown",
   "metadata": {
    "id": "v31_n4ahYbnA",
    "slideshow": {
     "slide_type": "slide"
    }
   },
   "source": [
    "# NLP applications in business"
   ]
  },
  {
   "cell_type": "markdown",
   "metadata": {
    "id": "e84jZ0ex8SNV"
   },
   "source": [
    "![](https://camo.githubusercontent.com/7eb96ba311f989fbac5257f412a7f454f695015e7ce52d29ac24e10c8f34ef9e/68747470733a2f2f7777772e63796269616e742e636f6d2f77702d636f6e74656e742f75706c6f6164732f323032302f30312f434b432d4e61747572616c2d4c616e67756167652d50726f63657373696e672e706e67)"
   ]
  },
  {
   "cell_type": "markdown",
   "metadata": {
    "id": "dsoHmO9C8C0n"
   },
   "source": [
    "- Document-level sentiment\n",
    "\n",
    "![](https://es.mathworks.com/discovery/sentiment-analysis/_jcr_content/mainParsys/image_695965980_copy.adapt.full.medium.jpg/1623215982364.jpg)"
   ]
  },
  {
   "cell_type": "markdown",
   "metadata": {
    "id": "eVpiNzJr84yc"
   },
   "source": [
    "- Category-specific sentiment\n",
    "\n",
    "![](https://www.voxco.com/wp-content/uploads/2021/09/Sentiment-Analysis-helps-improve-Customer-Experience1.jpg)"
   ]
  },
  {
   "cell_type": "markdown",
   "metadata": {
    "id": "Bjk8H6KgwRBj"
   },
   "source": [
    "- Chatbot\n",
    "\n",
    "![](https://cdn-images-1.medium.com/max/800/1*ILh55uR-pxe9lkotcUXurw.png)"
   ]
  },
  {
   "cell_type": "markdown",
   "metadata": {
    "id": "Ydm28aWc8jbR"
   },
   "source": [
    "- Revenues from the NLP market\n",
    "\n",
    "![](https://github.com/howard-haowen/Chinese-NLP/raw/main/img/nlp_revenues.png)"
   ]
  },
  {
   "cell_type": "markdown",
   "metadata": {
    "id": "hb4xGyyNslMd",
    "slideshow": {
     "slide_type": "slide"
    }
   },
   "source": [
    "# Doing linguistic analysis with programs "
   ]
  },
  {
   "cell_type": "markdown",
   "metadata": {
    "id": "QlrEqR8WRQAT"
   },
   "source": [
    "![](https://miro.medium.com/max/1200/1*QUNXxPDm5b7CvExfhz9tkg.png)"
   ]
  },
  {
   "cell_type": "markdown",
   "metadata": {
    "id": "6ZZMwASnYnTJ",
    "slideshow": {
     "slide_type": "subslide"
    }
   },
   "source": [
    "## Programming languages"
   ]
  },
  {
   "cell_type": "markdown",
   "metadata": {
    "id": "3a3ip6WWSHsA"
   },
   "source": [
    "- Common languages in data science\n",
    "![](https://lh5.googleusercontent.com/rUuG2OeUINVmeaV_OdWJXufjZsSL7EDtPA_TjYC8Mytu1OCmFAlY-fzC4wjzfFyxihcqQMkwJnvnAitqazQeIpr9UvKsBqoLLYDzjSrMSqKToWejWvZ86aTvEGZoHlae1Z5WEdz5)"
   ]
  },
  {
   "cell_type": "markdown",
   "metadata": {
    "id": "5T4LYdDYXX8D"
   },
   "source": [
    "- Languages across different roles\n",
    "![](https://github.com/howard-haowen/NLP-demos/raw/main/img/languages-in-diff-ds-roles.JPG)"
   ]
  },
  {
   "cell_type": "markdown",
   "metadata": {
    "id": "H1rgxgXYOAeZ"
   },
   "source": [
    "- If you've taken linguistics, you can learn any language, right?\n",
    "- If linguists can decipher an alien language, they can also crack a programming language, right?\n",
    "\n",
    "![](https://i.insider.com/5825e140dd089568398b474c?width=700)"
   ]
  },
  {
   "cell_type": "markdown",
   "metadata": {
    "id": "U2q0HQipNwyy",
    "slideshow": {
     "slide_type": "subslide"
    }
   },
   "source": [
    "## Developer tools"
   ]
  },
  {
   "cell_type": "markdown",
   "metadata": {
    "id": "F-40ItZ4ZcCc"
   },
   "source": [
    "### Basic"
   ]
  },
  {
   "cell_type": "markdown",
   "metadata": {
    "id": "Us8FwcHEwJuX"
   },
   "source": [
    "- NLTK, a toolkit for starters\n",
    "![](https://files.realpython.com/media/NLP-for-Beginners-Pythons-Natural-Language-Toolkit-NLTK_Watermarked.16a787c1e9c6.jpg)\n"
   ]
  },
  {
   "cell_type": "markdown",
   "metadata": {
    "id": "zp7TP0yxaI6a"
   },
   "source": [
    "- gensim, a tool that simplifies the process of converting texts to numbers\n",
    "![](https://1.bp.blogspot.com/-zmBmmypQK-I/XVWGnsdXeeI/AAAAAAAABzI/BNAoSQ0sGo0WWih1KvvhXz-uNZYnQ_NvQCLcBGAs/s1600/image001.png)"
   ]
  },
  {
   "cell_type": "markdown",
   "metadata": {
    "id": "ra-ppkiUZwen"
   },
   "source": [
    "- spaCy, an industrial-strength solution for end-to-end pipelines\n",
    "![](https://files.realpython.com/media/How-to-Use-SpaCy-for-Natural-Language-Processing-in-Python_Watermarked_1.b363fc084a80.jpg)"
   ]
  },
  {
   "cell_type": "markdown",
   "metadata": {
    "id": "fCmfMZarbOJK"
   },
   "source": [
    "### Advanced"
   ]
  },
  {
   "cell_type": "markdown",
   "metadata": {
    "id": "_GaxajzGlass"
   },
   "source": [
    "- Deep learning frameworks\n",
    "    - `PyTorch`, made by Facebook/Meta\n",
    "    - `TensorFlow`, made by Google\n",
    "    - `Transformers`, made by Hugging Face\n",
    " \n",
    "\n",
    "![](https://venturebeat.com/wp-content/uploads/2019/09/hugging-face.png?w=1200&strip=all)"
   ]
  },
  {
   "cell_type": "markdown",
   "metadata": {
    "id": "U8ud-0_KxBWz",
    "slideshow": {
     "slide_type": "subslide"
    }
   },
   "source": [
    "## Common NLP tasks"
   ]
  },
  {
   "cell_type": "markdown",
   "metadata": {
    "id": "cvh_Ck57u0jk"
   },
   "source": [
    "### Install tools"
   ]
  },
  {
   "cell_type": "markdown",
   "metadata": {
    "id": "XoZvcqGNK6mY"
   },
   "source": [
    "- spaCy"
   ]
  },
  {
   "cell_type": "code",
   "execution_count": null,
   "metadata": {
    "id": "6KLrYo3k8bH-"
   },
   "outputs": [],
   "source": [
    "\n",
    "!pip install -U pip setuptools wheel\n",
    "!pip install -U spacy\n",
    "!python -m spacy download zh_core_web_md"
   ]
  },
  {
   "cell_type": "code",
   "execution_count": 4,
   "metadata": {
    "id": "wIHSkCqqLwWH"
   },
   "outputs": [],
   "source": [
    "import spacy"
   ]
  },
  {
   "cell_type": "markdown",
   "metadata": {
    "id": "3f3xiT7pvflW"
   },
   "source": [
    "- jieba_tw, which is jieba optimized for Taiwan Mandarin"
   ]
  },
  {
   "cell_type": "code",
   "execution_count": 5,
   "metadata": {
    "colab": {
     "base_uri": "https://localhost:8080/"
    },
    "id": "ZaY5RPFpT8Fq",
    "outputId": "cfcb2037-3800-499a-a654-cb45970a9171"
   },
   "outputs": [
    {
     "name": "stdout",
     "output_type": "stream",
     "text": [
      "fatal: destination path 'jieba_tw' already exists and is not an empty directory.\n",
      "/content/jieba_tw\n"
     ]
    }
   ],
   "source": [
    "!git clone -l -s https://github.com/L706077/jieba-zh_TW.git jieba_tw\n",
    "%cd jieba_tw"
   ]
  },
  {
   "cell_type": "code",
   "execution_count": 6,
   "metadata": {
    "id": "ACh_KTpsUmhC"
   },
   "outputs": [],
   "source": [
    "import jieba"
   ]
  },
  {
   "cell_type": "code",
   "execution_count": 7,
   "metadata": {
    "colab": {
     "base_uri": "https://localhost:8080/"
    },
    "id": "5-kTX85mwM20",
    "outputId": "81c3792a-f8a4-42a2-bea5-aa5ca82c80d1"
   },
   "outputs": [
    {
     "name": "stdout",
     "output_type": "stream",
     "text": [
      "/content\n"
     ]
    }
   ],
   "source": [
    "%cd ../"
   ]
  },
  {
   "cell_type": "markdown",
   "metadata": {
    "id": "Y9YaJKatJ12e"
   },
   "source": [
    "### Tokenization"
   ]
  },
  {
   "cell_type": "markdown",
   "metadata": {
    "id": "aLxNcrXGO7SP"
   },
   "source": [
    "![](https://spacy.io/pipeline-fde48da9b43661abcdf62ab70a546d71.svg)"
   ]
  },
  {
   "cell_type": "code",
   "execution_count": 8,
   "metadata": {
    "colab": {
     "base_uri": "https://localhost:8080/"
    },
    "id": "ztHzKCBAfyru",
    "outputId": "2c01ac3e-c915-4a66-e725-333e15a1006d"
   },
   "outputs": [
    {
     "data": {
      "text/plain": [
       "['tok2vec', 'tagger', 'parser', 'attribute_ruler', 'ner']"
      ]
     },
     "execution_count": 8,
     "metadata": {},
     "output_type": "execute_result"
    }
   ],
   "source": [
    "nlp = spacy.load(\"zh_core_web_md\")\n",
    "nlp.pipe_names"
   ]
  },
  {
   "cell_type": "markdown",
   "metadata": {
    "id": "duMXgb9K2s4C"
   },
   "source": [
    "- Sample text: `宜家家居新店店店長的名字好長喔！` \n",
    "- This is what inspired me to come up with this example.\n",
    "![](https://www.mirrormedia.com.tw/assets/images/20220123131828-73d4a66ef2493f7ea92c8a28f2ee4f71-tablet.png)"
   ]
  },
  {
   "cell_type": "code",
   "execution_count": 9,
   "metadata": {
    "colab": {
     "base_uri": "https://localhost:8080/",
     "height": 35
    },
    "id": "G-Z040z2J9-R",
    "outputId": "116400bc-6b5b-4994-8cef-f66ec284a320"
   },
   "outputs": [
    {
     "data": {
      "application/vnd.google.colaboratory.intrinsic+json": {
       "type": "string"
      },
      "text/plain": [
       "'宜家家 | 居 | 新店 | 店 | 店長 | 的 | 名字 | 好 | 長喔 | ！'"
      ]
     },
     "execution_count": 9,
     "metadata": {},
     "output_type": "execute_result"
    }
   ],
   "source": [
    "text = \"宜家家居新店店店長的名字好長喔！\"\n",
    "doc = nlp(text)\n",
    "tokens = [tok.text for tok in doc]\n",
    "\" | \".join(tokens)"
   ]
  },
  {
   "cell_type": "code",
   "execution_count": 10,
   "metadata": {
    "colab": {
     "base_uri": "https://localhost:8080/",
     "height": 35
    },
    "id": "JU7p1GVvxSFB",
    "outputId": "15454028-5d34-41aa-cdbc-09df3a8381ea"
   },
   "outputs": [
    {
     "data": {
      "application/vnd.google.colaboratory.intrinsic+json": {
       "type": "string"
      },
      "text/plain": [
       "'宜家家 | 居 | 新店 | 店 | 店长 | 的 | 名字 | 好长喔 | ！'"
      ]
     },
     "execution_count": 10,
     "metadata": {},
     "output_type": "execute_result"
    }
   ],
   "source": [
    "text = \"宜家家居新店店店长的名字好长喔！\"\n",
    "doc = nlp(text)\n",
    "tokens = [tok.text for tok in doc]\n",
    "\" | \".join(tokens)"
   ]
  },
  {
   "cell_type": "code",
   "execution_count": 11,
   "metadata": {
    "colab": {
     "base_uri": "https://localhost:8080/",
     "height": 104
    },
    "id": "l6p3DFIp1rb1",
    "outputId": "39cea788-0f1b-4b6d-fe26-9e4d22bf1afa"
   },
   "outputs": [
    {
     "name": "stderr",
     "output_type": "stream",
     "text": [
      "Building prefix dict from the default dictionary ...\n",
      "Loading model from cache /tmp/jieba.cache\n",
      "Loading model cost 0.629 seconds.\n",
      "Prefix dict has been built succesfully.\n"
     ]
    },
    {
     "data": {
      "application/vnd.google.colaboratory.intrinsic+json": {
       "type": "string"
      },
      "text/plain": [
       "'宜家 | 家居 | 新店店 | 店長 | 的 | 名字 | 好長 | 喔 | ！'"
      ]
     },
     "execution_count": 11,
     "metadata": {},
     "output_type": "execute_result"
    }
   ],
   "source": [
    "text = \"宜家家居新店店店長的名字好長喔！\"\n",
    "tokens = jieba.cut(text) \n",
    "\" | \".join(tokens)"
   ]
  },
  {
   "cell_type": "code",
   "execution_count": 12,
   "metadata": {
    "colab": {
     "base_uri": "https://localhost:8080/",
     "height": 35
    },
    "collapsed": true,
    "id": "UVAhkqRyVGSr",
    "outputId": "64d17885-5028-4266-f999-e27a5f0a90d6"
   },
   "outputs": [
    {
     "data": {
      "application/vnd.google.colaboratory.intrinsic+json": {
       "type": "string"
      },
      "text/plain": [
       "'宜家 | 家居 | 新店店 | 店 | 长 | 的 | 名字 | 好 | 长 | 喔 | ！'"
      ]
     },
     "execution_count": 12,
     "metadata": {},
     "output_type": "execute_result"
    }
   ],
   "source": [
    "text = \"宜家家居新店店店长的名字好长喔！\"\n",
    "tokens = jieba.cut(text) \n",
    "\" | \".join(tokens)"
   ]
  },
  {
   "cell_type": "markdown",
   "metadata": {
    "id": "j20DhgALCYfY"
   },
   "source": [
    "- The default tokenizer of spaCy is `jieba`, and we'll replace it with `jieba_tw` to get better results on Taiwan Mandarin."
   ]
  },
  {
   "cell_type": "code",
   "execution_count": 13,
   "metadata": {
    "id": "uifFCEwlw1i6"
   },
   "outputs": [],
   "source": [
    "from spacy.tokens import Doc\n",
    "\n",
    "class TwTokenizer:\n",
    "    def __init__(self, vocab):\n",
    "        self.vocab = vocab\n",
    "\n",
    "    def __call__(self, text):\n",
    "        words =  list(jieba.cut(text))\n",
    "        spaces = [False] * len(words)        \n",
    "        return Doc(self.vocab, words=words, spaces=spaces)"
   ]
  },
  {
   "cell_type": "code",
   "execution_count": 14,
   "metadata": {
    "id": "wRuzILx8yBQw"
   },
   "outputs": [],
   "source": [
    "nlp.tokenizer = TwTokenizer(nlp.vocab)"
   ]
  },
  {
   "cell_type": "markdown",
   "metadata": {
    "id": "N3Hd555gCzpY"
   },
   "source": [
    "- You can replace the sentence stored in `text` with anything off the top of your head."
   ]
  },
  {
   "cell_type": "code",
   "execution_count": 15,
   "metadata": {
    "colab": {
     "base_uri": "https://localhost:8080/",
     "height": 35
    },
    "id": "rfI3mLOxxivp",
    "outputId": "d0503557-f058-4f86-e011-c9bec58c28e7"
   },
   "outputs": [
    {
     "data": {
      "application/vnd.google.colaboratory.intrinsic+json": {
       "type": "string"
      },
      "text/plain": [
       "'宜家 | 家居 | 新店店 | 店長 | 的 | 名字 | 好長 | 喔 | ！'"
      ]
     },
     "execution_count": 15,
     "metadata": {},
     "output_type": "execute_result"
    }
   ],
   "source": [
    "text = \"宜家家居新店店店長的名字好長喔！\"\n",
    "doc = nlp(text)\n",
    "tokens = [tok.text for tok in doc]\n",
    "\" | \".join(tokens)"
   ]
  },
  {
   "cell_type": "markdown",
   "metadata": {
    "id": "9xeWRF9OzQly"
   },
   "source": [
    "### Part-of-speech (POS) tagger"
   ]
  },
  {
   "cell_type": "markdown",
   "metadata": {
    "id": "wbm4luUV8N9m"
   },
   "source": [
    "![](https://spacy.io/pipeline-fde48da9b43661abcdf62ab70a546d71.svg)"
   ]
  },
  {
   "cell_type": "markdown",
   "metadata": {
    "id": "HxU8Qu_r0RF3"
   },
   "source": [
    "- `Token.pos_` for universal POS tags"
   ]
  },
  {
   "cell_type": "code",
   "execution_count": 16,
   "metadata": {
    "colab": {
     "base_uri": "https://localhost:8080/"
    },
    "id": "R961W_t8zavg",
    "outputId": "f4ec31b8-5064-43a2-d96f-109247725f34"
   },
   "outputs": [
    {
     "name": "stdout",
     "output_type": "stream",
     "text": [
      "宜家 >>> NOUN\n",
      "家居 >>> NOUN\n",
      "新店店 >>> NOUN\n",
      "店長 >>> NOUN\n",
      "的 >>> PART\n",
      "名字 >>> NOUN\n",
      "好長 >>> VERB\n",
      "喔 >>> INTJ\n",
      "！ >>> PUNCT\n"
     ]
    }
   ],
   "source": [
    "for tok in doc:\n",
    "    print(f\"{tok.text} >>> {tok.pos_}\")"
   ]
  },
  {
   "cell_type": "markdown",
   "metadata": {
    "id": "OcPxI2sy1NdE"
   },
   "source": [
    "- `Token.tag_` for language-specific POS tags"
   ]
  },
  {
   "cell_type": "code",
   "execution_count": 17,
   "metadata": {
    "colab": {
     "base_uri": "https://localhost:8080/"
    },
    "id": "HxerljrF0oy9",
    "outputId": "2b7898b2-8062-4a93-cb31-98f5baade755"
   },
   "outputs": [
    {
     "name": "stdout",
     "output_type": "stream",
     "text": [
      "宜家 >>> NN | noun, singular or mass\n",
      "家居 >>> NN | noun, singular or mass\n",
      "新店店 >>> NN | noun, singular or mass\n",
      "店長 >>> NN | noun, singular or mass\n",
      "的 >>> DEG | associative 的\n",
      "名字 >>> NN | noun, singular or mass\n",
      "好長 >>> VV | other verb\n",
      "喔 >>> IJ | interjection\n",
      "！ >>> PU | punctuation\n"
     ]
    }
   ],
   "source": [
    "for tok in doc:\n",
    "    print(f\"{tok.text} >>> {tok.tag_} | {spacy.explain(tok.tag_)}\")"
   ]
  },
  {
   "cell_type": "markdown",
   "metadata": {
    "id": "veULoMBuyvmw"
   },
   "source": [
    "### Dependency parser"
   ]
  },
  {
   "cell_type": "markdown",
   "metadata": {
    "id": "EKSNAx1k8Pyz"
   },
   "source": [
    "![](https://spacy.io/pipeline-fde48da9b43661abcdf62ab70a546d71.svg)"
   ]
  },
  {
   "cell_type": "code",
   "execution_count": 18,
   "metadata": {
    "id": "2UYOBJ576eVx"
   },
   "outputs": [],
   "source": [
    "from spacy import displacy"
   ]
  },
  {
   "cell_type": "code",
   "execution_count": 19,
   "metadata": {
    "colab": {
     "base_uri": "https://localhost:8080/",
     "height": 373
    },
    "id": "U32pNPApXs4C",
    "outputId": "5476288e-ddf1-49c6-e14a-a0e6e2291612"
   },
   "outputs": [
    {
     "data": {
      "text/html": [
       "<span class=\"tex2jax_ignore\"><svg xmlns=\"http://www.w3.org/2000/svg\" xmlns:xlink=\"http://www.w3.org/1999/xlink\" xml:lang=\"zh\" id=\"cb2c2e7b426a4d6ba21129603d319c67-0\" class=\"displacy\" width=\"830\" height=\"332.0\" direction=\"ltr\" style=\"max-width: none; height: 332.0px; color: #000000; background: #ffffff; font-family: Arial; direction: ltr\">\n",
       "<text class=\"displacy-token\" fill=\"currentColor\" text-anchor=\"middle\" y=\"242.0\">\n",
       "    <tspan class=\"displacy-word\" fill=\"currentColor\" x=\"50\">我</tspan>\n",
       "    <tspan class=\"displacy-tag\" dy=\"2em\" fill=\"currentColor\" x=\"50\">PRON</tspan>\n",
       "</text>\n",
       "\n",
       "<text class=\"displacy-token\" fill=\"currentColor\" text-anchor=\"middle\" y=\"242.0\">\n",
       "    <tspan class=\"displacy-word\" fill=\"currentColor\" x=\"180\">想要</tspan>\n",
       "    <tspan class=\"displacy-tag\" dy=\"2em\" fill=\"currentColor\" x=\"180\">VERB</tspan>\n",
       "</text>\n",
       "\n",
       "<text class=\"displacy-token\" fill=\"currentColor\" text-anchor=\"middle\" y=\"242.0\">\n",
       "    <tspan class=\"displacy-word\" fill=\"currentColor\" x=\"310\">三</tspan>\n",
       "    <tspan class=\"displacy-tag\" dy=\"2em\" fill=\"currentColor\" x=\"310\">NUM</tspan>\n",
       "</text>\n",
       "\n",
       "<text class=\"displacy-token\" fill=\"currentColor\" text-anchor=\"middle\" y=\"242.0\">\n",
       "    <tspan class=\"displacy-word\" fill=\"currentColor\" x=\"440\">份</tspan>\n",
       "    <tspan class=\"displacy-tag\" dy=\"2em\" fill=\"currentColor\" x=\"440\">NUM</tspan>\n",
       "</text>\n",
       "\n",
       "<text class=\"displacy-token\" fill=\"currentColor\" text-anchor=\"middle\" y=\"242.0\">\n",
       "    <tspan class=\"displacy-word\" fill=\"currentColor\" x=\"570\">2</tspan>\n",
       "    <tspan class=\"displacy-tag\" dy=\"2em\" fill=\"currentColor\" x=\"570\">NUM</tspan>\n",
       "</text>\n",
       "\n",
       "<text class=\"displacy-token\" fill=\"currentColor\" text-anchor=\"middle\" y=\"242.0\">\n",
       "    <tspan class=\"displacy-word\" fill=\"currentColor\" x=\"700\">號餐</tspan>\n",
       "    <tspan class=\"displacy-tag\" dy=\"2em\" fill=\"currentColor\" x=\"700\">NOUN</tspan>\n",
       "</text>\n",
       "\n",
       "<g class=\"displacy-arrow\">\n",
       "    <path class=\"displacy-arc\" id=\"arrow-cb2c2e7b426a4d6ba21129603d319c67-0-0\" stroke-width=\"2px\" d=\"M70,197.0 C70,132.0 170.0,132.0 170.0,197.0\" fill=\"none\" stroke=\"currentColor\"/>\n",
       "    <text dy=\"1.25em\" style=\"font-size: 0.8em; letter-spacing: 1px\">\n",
       "        <textPath xlink:href=\"#arrow-cb2c2e7b426a4d6ba21129603d319c67-0-0\" class=\"displacy-label\" startOffset=\"50%\" side=\"left\" fill=\"currentColor\" text-anchor=\"middle\">nsubj</textPath>\n",
       "    </text>\n",
       "    <path class=\"displacy-arrowhead\" d=\"M70,199.0 L62,187.0 78,187.0\" fill=\"currentColor\"/>\n",
       "</g>\n",
       "\n",
       "<g class=\"displacy-arrow\">\n",
       "    <path class=\"displacy-arc\" id=\"arrow-cb2c2e7b426a4d6ba21129603d319c67-0-1\" stroke-width=\"2px\" d=\"M330,197.0 C330,67.0 695.0,67.0 695.0,197.0\" fill=\"none\" stroke=\"currentColor\"/>\n",
       "    <text dy=\"1.25em\" style=\"font-size: 0.8em; letter-spacing: 1px\">\n",
       "        <textPath xlink:href=\"#arrow-cb2c2e7b426a4d6ba21129603d319c67-0-1\" class=\"displacy-label\" startOffset=\"50%\" side=\"left\" fill=\"currentColor\" text-anchor=\"middle\">nummod</textPath>\n",
       "    </text>\n",
       "    <path class=\"displacy-arrowhead\" d=\"M330,199.0 L322,187.0 338,187.0\" fill=\"currentColor\"/>\n",
       "</g>\n",
       "\n",
       "<g class=\"displacy-arrow\">\n",
       "    <path class=\"displacy-arc\" id=\"arrow-cb2c2e7b426a4d6ba21129603d319c67-0-2\" stroke-width=\"2px\" d=\"M330,197.0 C330,132.0 430.0,132.0 430.0,197.0\" fill=\"none\" stroke=\"currentColor\"/>\n",
       "    <text dy=\"1.25em\" style=\"font-size: 0.8em; letter-spacing: 1px\">\n",
       "        <textPath xlink:href=\"#arrow-cb2c2e7b426a4d6ba21129603d319c67-0-2\" class=\"displacy-label\" startOffset=\"50%\" side=\"left\" fill=\"currentColor\" text-anchor=\"middle\">mark:clf</textPath>\n",
       "    </text>\n",
       "    <path class=\"displacy-arrowhead\" d=\"M430.0,199.0 L438.0,187.0 422.0,187.0\" fill=\"currentColor\"/>\n",
       "</g>\n",
       "\n",
       "<g class=\"displacy-arrow\">\n",
       "    <path class=\"displacy-arc\" id=\"arrow-cb2c2e7b426a4d6ba21129603d319c67-0-3\" stroke-width=\"2px\" d=\"M590,197.0 C590,132.0 690.0,132.0 690.0,197.0\" fill=\"none\" stroke=\"currentColor\"/>\n",
       "    <text dy=\"1.25em\" style=\"font-size: 0.8em; letter-spacing: 1px\">\n",
       "        <textPath xlink:href=\"#arrow-cb2c2e7b426a4d6ba21129603d319c67-0-3\" class=\"displacy-label\" startOffset=\"50%\" side=\"left\" fill=\"currentColor\" text-anchor=\"middle\">dep</textPath>\n",
       "    </text>\n",
       "    <path class=\"displacy-arrowhead\" d=\"M590,199.0 L582,187.0 598,187.0\" fill=\"currentColor\"/>\n",
       "</g>\n",
       "\n",
       "<g class=\"displacy-arrow\">\n",
       "    <path class=\"displacy-arc\" id=\"arrow-cb2c2e7b426a4d6ba21129603d319c67-0-4\" stroke-width=\"2px\" d=\"M200,197.0 C200,2.0 700.0,2.0 700.0,197.0\" fill=\"none\" stroke=\"currentColor\"/>\n",
       "    <text dy=\"1.25em\" style=\"font-size: 0.8em; letter-spacing: 1px\">\n",
       "        <textPath xlink:href=\"#arrow-cb2c2e7b426a4d6ba21129603d319c67-0-4\" class=\"displacy-label\" startOffset=\"50%\" side=\"left\" fill=\"currentColor\" text-anchor=\"middle\">dobj</textPath>\n",
       "    </text>\n",
       "    <path class=\"displacy-arrowhead\" d=\"M700.0,199.0 L708.0,187.0 692.0,187.0\" fill=\"currentColor\"/>\n",
       "</g>\n",
       "</svg></span>"
      ],
      "text/plain": [
       "<IPython.core.display.HTML object>"
      ]
     },
     "metadata": {},
     "output_type": "display_data"
    }
   ],
   "source": [
    "text = \"我想要三份2號餐\"\n",
    "doc = nlp(text)\n",
    "displacy.render(doc, style='dep',jupyter=True, options={'distance':130})"
   ]
  },
  {
   "cell_type": "markdown",
   "metadata": {
    "id": "AqRVAlwM6PLM"
   },
   "source": [
    "- `Token.dep_` for dependency tags"
   ]
  },
  {
   "cell_type": "code",
   "execution_count": 20,
   "metadata": {
    "colab": {
     "base_uri": "https://localhost:8080/"
    },
    "id": "ASaqLe7i57IQ",
    "outputId": "1212c1bc-9ce8-4dc6-b1fc-5105b1a50de8"
   },
   "outputs": [
    {
     "name": "stdout",
     "output_type": "stream",
     "text": [
      "我 >>> nsubj\n",
      "想要 >>> ROOT\n",
      "三 >>> nummod\n",
      "份 >>> mark:clf\n",
      "2 >>> dep\n",
      "號餐 >>> dobj\n"
     ]
    }
   ],
   "source": [
    "for tok in doc:\n",
    "    print(f\"{tok.text} >>> {tok.dep_}\")"
   ]
  },
  {
   "cell_type": "code",
   "execution_count": 21,
   "metadata": {
    "id": "XykKrZ6I8EpV"
   },
   "outputs": [],
   "source": [
    "from spacy.matcher import Matcher"
   ]
  },
  {
   "cell_type": "code",
   "execution_count": 22,
   "metadata": {
    "id": "p9VwqL5ff2d0"
   },
   "outputs": [],
   "source": [
    "matcher = Matcher(nlp.vocab)\n",
    "order_pattern = [{\"POS\": \"NUM\", \"OP\": \"+\"}, # for one or more NUM\n",
    "                {\"POS\": \"NOUN\"}]\n",
    "matcher.add(\"ORDER\", [order_pattern])\n",
    "matches = matcher(doc)"
   ]
  },
  {
   "cell_type": "code",
   "execution_count": 23,
   "metadata": {
    "colab": {
     "base_uri": "https://localhost:8080/"
    },
    "id": "1TuTSBuFGnhN",
    "outputId": "c80737ee-6ba5-4dba-d216-9445f5495bdf"
   },
   "outputs": [
    {
     "name": "stdout",
     "output_type": "stream",
     "text": [
      "The order is >>> 2號餐\n",
      "The order is >>> 份2號餐\n",
      "The order is >>> 三份2號餐\n"
     ]
    }
   ],
   "source": [
    "matches = matcher(doc)\n",
    "for match_id, start, end in matches:\n",
    "    span = doc[start:end]\n",
    "    print(f\"The order is >>> {span.text}\")"
   ]
  },
  {
   "cell_type": "markdown",
   "metadata": {
    "id": "-W4sPfcZYMCq"
   },
   "source": [
    "### Named entity recognition (NER)"
   ]
  },
  {
   "cell_type": "markdown",
   "metadata": {
    "id": "YBk4FJx18vld"
   },
   "source": [
    "![](https://spacy.io/pipeline-fde48da9b43661abcdf62ab70a546d71.svg)"
   ]
  },
  {
   "cell_type": "code",
   "execution_count": 24,
   "metadata": {
    "colab": {
     "base_uri": "https://localhost:8080/",
     "height": 262
    },
    "id": "KozpzTVNYLnb",
    "outputId": "6e6e8e99-53a7-408b-9eab-12cc09ca9566"
   },
   "outputs": [
    {
     "data": {
      "text/html": [
       "<span class=\"tex2jax_ignore\"><div class=\"entities\" style=\"line-height: 2.5; direction: ltr\"></br>（\n",
       "<mark class=\"entity\" style=\"background: #7aecec; padding: 0.45em 0.6em; margin: 0 0.25em; line-height: 1; border-radius: 0.35em;\">\n",
       "    中央社\n",
       "    <span style=\"font-size: 0.8em; font-weight: bold; line-height: 1; border-radius: 0.35em; vertical-align: middle; margin-left: 0.5rem\">ORG</span>\n",
       "</mark>\n",
       "）\n",
       "<mark class=\"entity\" style=\"background: #feca74; padding: 0.45em 0.6em; margin: 0 0.25em; line-height: 1; border-radius: 0.35em;\">\n",
       "    COVID\n",
       "    <span style=\"font-size: 0.8em; font-weight: bold; line-height: 1; border-radius: 0.35em; vertical-align: middle; margin-left: 0.5rem\">GPE</span>\n",
       "</mark>\n",
       "-\n",
       "<mark class=\"entity\" style=\"background: #e4e7d2; padding: 0.45em 0.6em; margin: 0 0.25em; line-height: 1; border-radius: 0.35em;\">\n",
       "    19\n",
       "    <span style=\"font-size: 0.8em; font-weight: bold; line-height: 1; border-radius: 0.35em; vertical-align: middle; margin-left: 0.5rem\">CARDINAL</span>\n",
       "</mark>\n",
       "疫情使遠距、實體相輔相成的模式成為教學常態，\n",
       "<mark class=\"entity\" style=\"background: #7aecec; padding: 0.45em 0.6em; margin: 0 0.25em; line-height: 1; border-radius: 0.35em;\">\n",
       "    台灣師範大學\n",
       "    <span style=\"font-size: 0.8em; font-weight: bold; line-height: 1; border-radius: 0.35em; vertical-align: middle; margin-left: 0.5rem\">ORG</span>\n",
       "</mark>\n",
       "\n",
       "<mark class=\"entity\" style=\"background: #bfe1d9; padding: 0.45em 0.6em; margin: 0 0.25em; line-height: 1; border-radius: 0.35em;\">\n",
       "    今天\n",
       "    <span style=\"font-size: 0.8em; font-weight: bold; line-height: 1; border-radius: 0.35em; vertical-align: middle; margin-left: 0.5rem\">DATE</span>\n",
       "</mark>\n",
       "宣布成立網路大學辦公室，並開設\n",
       "<mark class=\"entity\" style=\"background: #e4e7d2; padding: 0.45em 0.6em; margin: 0 0.25em; line-height: 1; border-radius: 0.35em;\">\n",
       "    3\n",
       "    <span style=\"font-size: 0.8em; font-weight: bold; line-height: 1; border-radius: 0.35em; vertical-align: middle; margin-left: 0.5rem\">CARDINAL</span>\n",
       "</mark>\n",
       "個數位碩士在職專班，向全世界招生。</br>\n",
       "<mark class=\"entity\" style=\"background: #feca74; padding: 0.45em 0.6em; margin: 0 0.25em; line-height: 1; border-radius: 0.35em;\">\n",
       "    台師大\n",
       "    <span style=\"font-size: 0.8em; font-weight: bold; line-height: 1; border-radius: 0.35em; vertical-align: middle; margin-left: 0.5rem\">GPE</span>\n",
       "</mark>\n",
       "\n",
       "<mark class=\"entity\" style=\"background: #bfe1d9; padding: 0.45em 0.6em; margin: 0 0.25em; line-height: 1; border-radius: 0.35em;\">\n",
       "    今天\n",
       "    <span style=\"font-size: 0.8em; font-weight: bold; line-height: 1; border-radius: 0.35em; vertical-align: middle; margin-left: 0.5rem\">DATE</span>\n",
       "</mark>\n",
       "舉辦記者會為網路大學辦公室揭牌，校長吳正己表示，在\n",
       "<mark class=\"entity\" style=\"background: #feca74; padding: 0.45em 0.6em; margin: 0 0.25em; line-height: 1; border-radius: 0.35em;\">\n",
       "    COVID\n",
       "    <span style=\"font-size: 0.8em; font-weight: bold; line-height: 1; border-radius: 0.35em; vertical-align: middle; margin-left: 0.5rem\">GPE</span>\n",
       "</mark>\n",
       "-19（\n",
       "<mark class=\"entity\" style=\"background: #bfe1d9; padding: 0.45em 0.6em; margin: 0 0.25em; line-height: 1; border-radius: 0.35em;\">\n",
       "    2019年\n",
       "    <span style=\"font-size: 0.8em; font-weight: bold; line-height: 1; border-radius: 0.35em; vertical-align: middle; margin-left: 0.5rem\">DATE</span>\n",
       "</mark>\n",
       "冠狀病毒疾病）疫情下，\n",
       "<mark class=\"entity\" style=\"background: #feca74; padding: 0.45em 0.6em; margin: 0 0.25em; line-height: 1; border-radius: 0.35em;\">\n",
       "    線上\n",
       "    <span style=\"font-size: 0.8em; font-weight: bold; line-height: 1; border-radius: 0.35em; vertical-align: middle; margin-left: 0.5rem\">GPE</span>\n",
       "</mark>\n",
       "教學大幅增加，\n",
       "<mark class=\"entity\" style=\"background: #7aecec; padding: 0.45em 0.6em; margin: 0 0.25em; line-height: 1; border-radius: 0.35em;\">\n",
       "    教育部\n",
       "    <span style=\"font-size: 0.8em; font-weight: bold; line-height: 1; border-radius: 0.35em; vertical-align: middle; margin-left: 0.5rem\">ORG</span>\n",
       "</mark>\n",
       "也大幅放寬數位學習學制及招生對象限制。</br></div></span>"
      ],
      "text/plain": [
       "<IPython.core.display.HTML object>"
      ]
     },
     "metadata": {},
     "output_type": "display_data"
    }
   ],
   "source": [
    "text = \"\"\"\n",
    "（中央社）COVID-19疫情使遠距、實體相輔相成的模式成為教學常態，台灣師範大學今天宣布成立網路大學辦公室，並開設3個數位碩士在職專班，向全世界招生。\n",
    "台師大今天舉辦記者會為網路大學辦公室揭牌，校長吳正己表示，在COVID-19（2019年冠狀病毒疾病）疫情下，線上教學大幅增加，教育部也大幅放寬數位學習學制及招生對象限制。\n",
    "\"\"\"\n",
    "doc = nlp(text)\n",
    "displacy.render(doc, style='ent',jupyter=True)"
   ]
  },
  {
   "cell_type": "markdown",
   "metadata": {
    "id": "navMRFpm7VDR"
   },
   "source": [
    "- `Span.label_` for NER tags"
   ]
  },
  {
   "cell_type": "code",
   "execution_count": 25,
   "metadata": {
    "colab": {
     "base_uri": "https://localhost:8080/"
    },
    "id": "6S8gdtjq6v4r",
    "outputId": "77757dea-423a-41dc-cefe-123a7e7e87da"
   },
   "outputs": [
    {
     "name": "stdout",
     "output_type": "stream",
     "text": [
      "中央社 >>> ORG\n",
      "COVID >>> GPE\n",
      "19 >>> CARDINAL\n",
      "台灣師範大學 >>> ORG\n",
      "今天 >>> DATE\n",
      "3 >>> CARDINAL\n",
      "台師大 >>> GPE\n",
      "今天 >>> DATE\n",
      "COVID >>> GPE\n",
      "2019年 >>> DATE\n",
      "線上 >>> GPE\n",
      "教育部 >>> ORG\n"
     ]
    }
   ],
   "source": [
    "for span in doc.ents:\n",
    "    print(f\"{span.text} >>> {span.label_}\")"
   ]
  },
  {
   "cell_type": "code",
   "execution_count": 26,
   "metadata": {
    "id": "P3RzRy0TlBgZ"
   },
   "outputs": [],
   "source": [
    "from spacy.matcher import PhraseMatcher\n",
    "from spacy.tokens import Span"
   ]
  },
  {
   "cell_type": "code",
   "execution_count": 27,
   "metadata": {
    "id": "eQBaBH77mO3P"
   },
   "outputs": [],
   "source": [
    "phrase_matcher = PhraseMatcher(nlp.vocab)\n",
    "ntnu_terms = ['台灣師大','台師大',]\n",
    "phrase_matcher.add('NTNU', list(nlp.pipe(ntnu_terms)))"
   ]
  },
  {
   "cell_type": "code",
   "execution_count": 28,
   "metadata": {
    "colab": {
     "base_uri": "https://localhost:8080/",
     "height": 192
    },
    "id": "OOHxLuADmiSV",
    "outputId": "570721ca-77cf-42d8-b569-26d559e751f3"
   },
   "outputs": [
    {
     "data": {
      "text/html": [
       "<span class=\"tex2jax_ignore\"><div class=\"entities\" style=\"line-height: 2.5; direction: ltr\"></br>（\n",
       "<mark class=\"entity\" style=\"background: #7aecec; padding: 0.45em 0.6em; margin: 0 0.25em; line-height: 1; border-radius: 0.35em;\">\n",
       "    中央社\n",
       "    <span style=\"font-size: 0.8em; font-weight: bold; line-height: 1; border-radius: 0.35em; vertical-align: middle; margin-left: 0.5rem\">ORG</span>\n",
       "</mark>\n",
       "）COVID-19疫情使遠距、實體相輔相成的模式成為教學常態，\n",
       "<mark class=\"entity\" style=\"background: #7aecec; padding: 0.45em 0.6em; margin: 0 0.25em; line-height: 1; border-radius: 0.35em;\">\n",
       "    台灣師範大學\n",
       "    <span style=\"font-size: 0.8em; font-weight: bold; line-height: 1; border-radius: 0.35em; vertical-align: middle; margin-left: 0.5rem\">ORG</span>\n",
       "</mark>\n",
       "今天宣布成立網路大學辦公室，並開設3個數位碩士在職專班，向全世界招生。</br>\n",
       "<mark class=\"entity\" style=\"background: #7aecec; padding: 0.45em 0.6em; margin: 0 0.25em; line-height: 1; border-radius: 0.35em;\">\n",
       "    台師大\n",
       "    <span style=\"font-size: 0.8em; font-weight: bold; line-height: 1; border-radius: 0.35em; vertical-align: middle; margin-left: 0.5rem\">ORG</span>\n",
       "</mark>\n",
       "今天舉辦記者會為網路大學辦公室揭牌，校長吳正己表示，在COVID-19（2019年冠狀病毒疾病）疫情下，線上教學大幅增加，\n",
       "<mark class=\"entity\" style=\"background: #7aecec; padding: 0.45em 0.6em; margin: 0 0.25em; line-height: 1; border-radius: 0.35em;\">\n",
       "    教育部\n",
       "    <span style=\"font-size: 0.8em; font-weight: bold; line-height: 1; border-radius: 0.35em; vertical-align: middle; margin-left: 0.5rem\">ORG</span>\n",
       "</mark>\n",
       "也大幅放寬數位學習學制及招生對象限制。</br></div></span>"
      ],
      "text/plain": [
       "<IPython.core.display.HTML object>"
      ]
     },
     "metadata": {},
     "output_type": "display_data"
    }
   ],
   "source": [
    "matches = phrase_matcher(doc)\n",
    "org_spans = [span for span in doc.ents if span.label_==\"ORG\"]\n",
    "for match_id, start, end in matches:\n",
    "    new_ent = Span(doc, start, end, \"ORG\")\n",
    "    org_spans.append(new_ent)\n",
    "doc.ents = org_spans\n",
    "displacy.render(doc, style='ent',jupyter=True)"
   ]
  },
  {
   "cell_type": "markdown",
   "metadata": {
    "id": "gwy2An4fMD4W"
   },
   "source": [
    "- You can interact with models without knowing any code by using this Web APP that I created.\n",
    "\n"
   ]
  },
  {
   "cell_type": "code",
   "execution_count": 29,
   "metadata": {
    "id": "7DsB-Rp-MuLF"
   },
   "outputs": [],
   "source": [
    "from IPython.display import IFrame"
   ]
  },
  {
   "cell_type": "code",
   "execution_count": 30,
   "metadata": {
    "colab": {
     "base_uri": "https://localhost:8080/",
     "height": 1000
    },
    "id": "st4Yh1ImNKdP",
    "outputId": "82bede96-c64c-4937-fe47-f5e203919c42"
   },
   "outputs": [
    {
     "data": {
      "text/html": [
       "\n",
       "        <iframe\n",
       "            width=\"700\"\n",
       "            height=\"1000\"\n",
       "            src=\"https://share.streamlit.io/howard-haowen/spacy-streamlit/app.py\"\n",
       "            frameborder=\"0\"\n",
       "            allowfullscreen\n",
       "        ></iframe>\n",
       "        "
      ],
      "text/plain": [
       "<IPython.lib.display.IFrame at 0x7f322d497890>"
      ]
     },
     "execution_count": 30,
     "metadata": {},
     "output_type": "execute_result"
    }
   ],
   "source": [
    "IFrame(src='https://share.streamlit.io/howard-haowen/spacy-streamlit/app.py', width=700, height=1000)"
   ]
  },
  {
   "cell_type": "markdown",
   "metadata": {
    "id": "Enu3I0--81oS",
    "slideshow": {
     "slide_type": "slide"
    }
   },
   "source": [
    "# Machine learning 101"
   ]
  },
  {
   "cell_type": "markdown",
   "metadata": {
    "id": "H7sZjiYuEHRJ"
   },
   "source": [
    "- Classical programming vs machine learning\n",
    "\n",
    "![](https://kislayverma.com/wp-content/uploads/2021/06/Screenshot-2021-06-17-at-11.31.04-PM.png)"
   ]
  },
  {
   "cell_type": "markdown",
   "metadata": {
    "id": "T99aQI8NSQ6a"
   },
   "source": [
    "- ML models learn from instances, so it's not surprising that they make mistakes.\n",
    "\n",
    "![](https://img-9gag-fun.9cache.com/photo/aMKpRdV_460s.jpg)"
   ]
  },
  {
   "cell_type": "markdown",
   "metadata": {
    "id": "gEN4f_EjDRwz"
   },
   "source": [
    "- AI > ML > DL\n",
    "\n",
    "![](https://monkeylearn.com/static/83ef48b5cf3020a618d878835a6d2167/2948a/image12.webp)"
   ]
  },
  {
   "cell_type": "markdown",
   "metadata": {
    "id": "fodupWuK9tAq"
   },
   "source": [
    "- All forms of data, be it images, sounds, or texts, have to be first converted into numbers to be fed into a training algorithm. \n",
    "- The process of transforming raw data to a sequence of numbers (i.e. vectors) is called `feature engineering`.\n",
    "\n",
    "![](https://miro.medium.com/max/807/1*a-DZhoPMZhONLf-xv7ob8Q.png)"
   ]
  },
  {
   "cell_type": "markdown",
   "metadata": {
    "id": "FwqWNtdH-3dB"
   },
   "source": [
    "- Two stages of a machine learning project: training and prediction\n",
    " * Taking sentiment analysis as an example\n",
    "\n",
    "![](https://monkeylearn.com/static/74491b164c59b243e5f6d601c0365fbf/76384/ml-process.webp)"
   ]
  },
  {
   "cell_type": "markdown",
   "metadata": {
    "id": "w7MHZyDCJyWM",
    "slideshow": {
     "slide_type": "slide"
    }
   },
   "source": [
    "# Text representation"
   ]
  },
  {
   "cell_type": "markdown",
   "metadata": {
    "id": "bP6tFLDBOaAn",
    "slideshow": {
     "slide_type": "subslide"
    }
   },
   "source": [
    "## Representing images"
   ]
  },
  {
   "cell_type": "markdown",
   "metadata": {
    "id": "_j3urOZK-eDh"
   },
   "source": [
    "![](http://www.paulvangent.com/wp-content/uploads/2018/08/J2FOX3F.jpg)"
   ]
  },
  {
   "cell_type": "code",
   "execution_count": 1,
   "metadata": {
    "id": "S8jUIsPXQLyu"
   },
   "outputs": [],
   "source": [
    "import numpy as np\n",
    "import cv2\n",
    "import matplotlib.pyplot as plt\n",
    "%matplotlib inline  "
   ]
  },
  {
   "cell_type": "code",
   "execution_count": 2,
   "metadata": {
    "colab": {
     "base_uri": "https://localhost:8080/"
    },
    "collapsed": true,
    "id": "kK9Ony0OQVNZ",
    "outputId": "9073a9e0-6b77-47bb-f211-48a3d11aed58"
   },
   "outputs": [
    {
     "name": "stdout",
     "output_type": "stream",
     "text": [
      "--2022-03-19 02:04:11--  http://www.paulvangent.com/wp-content/uploads/2018/08/J2FOX3F.jpg\n",
      "Resolving www.paulvangent.com (www.paulvangent.com)... 46.30.213.30, 2a02:2350:5:10a:f2:d80c:fe33:f3de\n",
      "Connecting to www.paulvangent.com (www.paulvangent.com)|46.30.213.30|:80... connected.\n",
      "HTTP request sent, awaiting response... 200 OK\n",
      "Length: 50600 (49K) [image/jpeg]\n",
      "Saving to: ‘sample.jpg’\n",
      "\n",
      "sample.jpg          100%[===================>]  49.41K  93.3KB/s    in 0.5s    \n",
      "\n",
      "2022-03-19 02:04:12 (93.3 KB/s) - ‘sample.jpg’ saved [50600/50600]\n",
      "\n"
     ]
    }
   ],
   "source": [
    "!wget -O sample.jpg http://www.paulvangent.com/wp-content/uploads/2018/08/J2FOX3F.jpg"
   ]
  },
  {
   "cell_type": "code",
   "execution_count": 3,
   "metadata": {
    "colab": {
     "base_uri": "https://localhost:8080/"
    },
    "id": "zMhstbmFQiXB",
    "outputId": "1d6adb75-1b16-4fb4-f57a-0efad5b78488"
   },
   "outputs": [
    {
     "data": {
      "text/plain": [
       "(412, 640, 3)"
      ]
     },
     "execution_count": 3,
     "metadata": {},
     "output_type": "execute_result"
    }
   ],
   "source": [
    "img = cv2.imread('sample.jpg')\n",
    "img.shape"
   ]
  },
  {
   "cell_type": "code",
   "execution_count": 34,
   "metadata": {
    "colab": {
     "base_uri": "https://localhost:8080/"
    },
    "collapsed": true,
    "id": "0mWsdsN0kq_Z",
    "outputId": "0a973d36-f8f7-452c-cc5d-2e9fa0d30e95"
   },
   "outputs": [
    {
     "name": "stdout",
     "output_type": "stream",
     "text": [
      "[[[245 247 248]\n",
      "  [104 106 106]\n",
      "  [ 50  50  50]\n",
      "  ...\n",
      "  [ 26  26  32]\n",
      "  [ 26  26  32]\n",
      "  [ 27  27  33]]\n",
      "\n",
      " [[240 242 243]\n",
      "  [ 99 101 102]\n",
      "  [ 45  45  45]\n",
      "  ...\n",
      "  [ 19  19  25]\n",
      "  [ 19  19  25]\n",
      "  [ 19  19  25]]\n",
      "\n",
      " [[242 246 247]\n",
      "  [102 106 107]\n",
      "  [ 48  50  50]\n",
      "  ...\n",
      "  [ 20  19  28]\n",
      "  [ 21  20  29]\n",
      "  [ 21  20  29]]\n",
      "\n",
      " ...\n",
      "\n",
      " [[234 243 240]\n",
      "  [ 79  87  86]\n",
      "  [ 15  24  27]\n",
      "  ...\n",
      "  [ 84  84  84]\n",
      "  [ 83  83  83]\n",
      "  [ 82  82  82]]\n",
      "\n",
      " [[235 244 241]\n",
      "  [ 79  87  86]\n",
      "  [ 16  25  28]\n",
      "  ...\n",
      "  [ 84  84  84]\n",
      "  [ 83  83  83]\n",
      "  [ 82  82  82]]\n",
      "\n",
      " [[235 244 241]\n",
      "  [ 80  88  87]\n",
      "  [ 16  25  28]\n",
      "  ...\n",
      "  [ 84  84  84]\n",
      "  [ 83  83  83]\n",
      "  [ 82  82  82]]]\n"
     ]
    }
   ],
   "source": [
    "print(img)"
   ]
  },
  {
   "cell_type": "code",
   "execution_count": 6,
   "metadata": {
    "colab": {
     "base_uri": "https://localhost:8080/"
    },
    "id": "X0DBgN0uRCo7",
    "outputId": "274f090c-150c-41b8-9b4e-e268d29f03ff"
   },
   "outputs": [
    {
     "data": {
      "text/plain": [
       "(412, 640)"
      ]
     },
     "execution_count": 6,
     "metadata": {},
     "output_type": "execute_result"
    }
   ],
   "source": [
    "img_gray = cv2.imread('sample.jpg', cv2.IMREAD_GRAYSCALE)\n",
    "img_gray.shape"
   ]
  },
  {
   "cell_type": "code",
   "execution_count": 7,
   "metadata": {
    "colab": {
     "base_uri": "https://localhost:8080/",
     "height": 267
    },
    "collapsed": true,
    "id": "scshm1inRLYz",
    "outputId": "5680f515-044c-4f99-8df5-8d7d22b4773e"
   },
   "outputs": [
    {
     "data": {
      "image/png": "[encoded data removed]",
      "text/plain": [
       "<Figure size 432x288 with 1 Axes>"
      ]
     },
     "metadata": {
      "needs_background": "light"
     },
     "output_type": "display_data"
    }
   ],
   "source": [
    "plt.imshow(img_gray, cmap='gray')\n",
    "plt.show()"
   ]
  },
  {
   "cell_type": "markdown",
   "metadata": {
    "id": "Zr4iJfuDwEJn"
   },
   "source": [
    "- You can change `100` below to any number between 1 and 255."
   ]
  },
  {
   "cell_type": "code",
   "execution_count": 8,
   "metadata": {
    "colab": {
     "base_uri": "https://localhost:8080/",
     "height": 267
    },
    "id": "fYZiIqSwSM9J",
    "outputId": "006f0d1e-7245-4045-df4d-5145b617c12c"
   },
   "outputs": [
    {
     "data": {
      "image/png": "[encoded data removed]",
      "text/plain": [
       "<Figure size 432x288 with 1 Axes>"
      ]
     },
     "metadata": {
      "needs_background": "light"
     },
     "output_type": "display_data"
    }
   ],
   "source": [
    "modified_img = img_gray - 100\n",
    "plt.imshow(modified_img, cmap='gray')\n",
    "plt.show()"
   ]
  },
  {
   "cell_type": "markdown",
   "metadata": {
    "id": "ePaa3CuJhERO",
    "slideshow": {
     "slide_type": "subslide"
    }
   },
   "source": [
    "## Representing texts"
   ]
  },
  {
   "cell_type": "markdown",
   "metadata": {
    "id": "wMdcDcD3eNCP"
   },
   "source": [
    "- Compared with images, texts are much harder to represent in numbers.\n",
    "- There're three major types of text representation:\n",
    "    * Symoblic representation\n",
    "    * Distribut**ional** representation\n",
    "    * Distribut**ed** representation"
   ]
  },
  {
   "cell_type": "markdown",
   "metadata": {
    "id": "0T_DLHMiFCFn"
   },
   "source": [
    "## Download a dataset"
   ]
  },
  {
   "cell_type": "code",
   "execution_count": 39,
   "metadata": {
    "colab": {
     "base_uri": "https://localhost:8080/"
    },
    "collapsed": true,
    "id": "aBe3GwwbFIvR",
    "outputId": "98f3e315-df1c-4936-900c-3b84d407aa13"
   },
   "outputs": [
    {
     "name": "stdout",
     "output_type": "stream",
     "text": [
      "--2022-03-18 13:00:53--  https://github.com/howard-haowen/NLP-demos/raw/main/Dcard_20220304.db\n",
      "Resolving github.com (github.com)... 140.82.114.4\n",
      "Connecting to github.com (github.com)|140.82.114.4|:443... connected.\n",
      "HTTP request sent, awaiting response... 302 Found\n",
      "Location: https://raw.githubusercontent.com/howard-haowen/NLP-demos/main/Dcard_20220304.db [following]\n",
      "--2022-03-18 13:00:53--  https://raw.githubusercontent.com/howard-haowen/NLP-demos/main/Dcard_20220304.db\n",
      "Resolving raw.githubusercontent.com (raw.githubusercontent.com)... 185.199.108.133, 185.199.109.133, 185.199.110.133, ...\n",
      "Connecting to raw.githubusercontent.com (raw.githubusercontent.com)|185.199.108.133|:443... connected.\n",
      "HTTP request sent, awaiting response... 200 OK\n",
      "Length: 151552 (148K) [application/octet-stream]\n",
      "Saving to: ‘Dcard.db’\n",
      "\n",
      "Dcard.db            100%[===================>] 148.00K  --.-KB/s    in 0.02s   \n",
      "\n",
      "2022-03-18 13:00:53 (6.74 MB/s) - ‘Dcard.db’ saved [151552/151552]\n",
      "\n"
     ]
    }
   ],
   "source": [
    "!wget -O Dcard.db https://github.com/howard-haowen/NLP-demos/raw/main/Dcard_20220304.db"
   ]
  },
  {
   "cell_type": "code",
   "execution_count": 40,
   "metadata": {
    "id": "P8NuqQ04FNk3"
   },
   "outputs": [],
   "source": [
    "import sqlite3\n",
    "import pandas as pd"
   ]
  },
  {
   "cell_type": "code",
   "execution_count": 41,
   "metadata": {
    "colab": {
     "base_uri": "https://localhost:8080/",
     "height": 562
    },
    "id": "89X9EbzhFVFs",
    "outputId": "cef0ad96-ea73-4acf-ed40-8ba572ecdcad"
   },
   "outputs": [
    {
     "data": {
      "text/html": [
       "\n",
       "  <div id=\"df-c410a9ec-6d62-4af4-a02b-958208c12ccb\">\n",
       "    <div class=\"colab-df-container\">\n",
       "      <div>\n",
       "<style scoped>\n",
       "    .dataframe tbody tr th:only-of-type {\n",
       "        vertical-align: middle;\n",
       "    }\n",
       "\n",
       "    .dataframe tbody tr th {\n",
       "        vertical-align: top;\n",
       "    }\n",
       "\n",
       "    .dataframe thead th {\n",
       "        text-align: right;\n",
       "    }\n",
       "</style>\n",
       "<table border=\"1\" class=\"dataframe\">\n",
       "  <thead>\n",
       "    <tr style=\"text-align: right;\">\n",
       "      <th></th>\n",
       "      <th>createdAt</th>\n",
       "      <th>title</th>\n",
       "      <th>excerpt</th>\n",
       "      <th>categories</th>\n",
       "      <th>topics</th>\n",
       "      <th>forum_en</th>\n",
       "      <th>forum_zh</th>\n",
       "    </tr>\n",
       "  </thead>\n",
       "  <tbody>\n",
       "    <tr>\n",
       "      <th>0</th>\n",
       "      <td>2022-03-04T07:54:19.886Z</td>\n",
       "      <td>專題需要數據🥺🥺幫填～</td>\n",
       "      <td>希望各位能花個20秒幫我填一下</td>\n",
       "      <td></td>\n",
       "      <td></td>\n",
       "      <td>dressup</td>\n",
       "      <td>穿搭</td>\n",
       "    </tr>\n",
       "    <tr>\n",
       "      <th>1</th>\n",
       "      <td>2022-03-04T07:42:59.512Z</td>\n",
       "      <td>#詢問 找衣服🥲</td>\n",
       "      <td>想找這套衣服🥲，但發現不知道該用什麼關鍵字找，（圖是草屯囝仔的校園演唱會截圖）</td>\n",
       "      <td>詢問</td>\n",
       "      <td>衣服 | 鞋子 | 衣物 | 男生穿搭 | 尋找</td>\n",
       "      <td>dressup</td>\n",
       "      <td>穿搭</td>\n",
       "    </tr>\n",
       "    <tr>\n",
       "      <th>2</th>\n",
       "      <td>2022-03-04T07:24:25.147Z</td>\n",
       "      <td>#黑特 網購50% FIFTY PERCENT請三思</td>\n",
       "      <td>因為文會有點長，先說結論是，50%是目前網購過的平台退貨最麻煩的一家，甚至我認為根本是刻意刁...</td>\n",
       "      <td></td>\n",
       "      <td>黑特 | 網購 | 三思 | 退貨 | 售後服務</td>\n",
       "      <td>dressup</td>\n",
       "      <td>穿搭</td>\n",
       "    </tr>\n",
       "    <tr>\n",
       "      <th>3</th>\n",
       "      <td>2022-03-04T06:39:13.017Z</td>\n",
       "      <td>尋衣服</td>\n",
       "      <td>來源：覺得呱吉這襯衫好好看~~，或有人知道有類似的嗎</td>\n",
       "      <td></td>\n",
       "      <td>衣服 | 尋找 | 日常穿搭 | 男生穿搭</td>\n",
       "      <td>dressup</td>\n",
       "      <td>穿搭</td>\n",
       "    </tr>\n",
       "    <tr>\n",
       "      <th>4</th>\n",
       "      <td>2022-03-04T06:28:06.137Z</td>\n",
       "      <td>#詢問 想問</td>\n",
       "      <td>各位，因為這個證件夾臺灣買不到，是美國outlet 的限量版貨，所以在以下的這間蝦皮上買，但...</td>\n",
       "      <td>詢問</td>\n",
       "      <td>穿搭 | 閒聊版 | 閒聊排解 | 假貨</td>\n",
       "      <td>dressup</td>\n",
       "      <td>穿搭</td>\n",
       "    </tr>\n",
       "  </tbody>\n",
       "</table>\n",
       "</div>\n",
       "      <button class=\"colab-df-convert\" onclick=\"convertToInteractive('df-c410a9ec-6d62-4af4-a02b-958208c12ccb')\"\n",
       "              title=\"Convert this dataframe to an interactive table.\"\n",
       "              style=\"display:none;\">\n",
       "        \n",
       "  <svg xmlns=\"http://www.w3.org/2000/svg\" height=\"24px\"viewBox=\"0 0 24 24\"\n",
       "       width=\"24px\">\n",
       "    <path d=\"M0 0h24v24H0V0z\" fill=\"none\"/>\n",
       "    <path d=\"M18.56 5.44l.94 2.06.94-2.06 2.06-.94-2.06-.94-.94-2.06-.94 2.06-2.06.94zm-11 1L8.5 8.5l.94-2.06 2.06-.94-2.06-.94L8.5 2.5l-.94 2.06-2.06.94zm10 10l.94 2.06.94-2.06 2.06-.94-2.06-.94-.94-2.06-.94 2.06-2.06.94z\"/><path d=\"M17.41 7.96l-1.37-1.37c-.4-.4-.92-.59-1.43-.59-.52 0-1.04.2-1.43.59L10.3 9.45l-7.72 7.72c-.78.78-.78 2.05 0 2.83L4 21.41c.39.39.9.59 1.41.59.51 0 1.02-.2 1.41-.59l7.78-7.78 2.81-2.81c.8-.78.8-2.07 0-2.86zM5.41 20L4 18.59l7.72-7.72 1.47 1.35L5.41 20z\"/>\n",
       "  </svg>\n",
       "      </button>\n",
       "      \n",
       "  <style>\n",
       "    .colab-df-container {\n",
       "      display:flex;\n",
       "      flex-wrap:wrap;\n",
       "      gap: 12px;\n",
       "    }\n",
       "\n",
       "    .colab-df-convert {\n",
       "      background-color: #E8F0FE;\n",
       "      border: none;\n",
       "      border-radius: 50%;\n",
       "      cursor: pointer;\n",
       "      display: none;\n",
       "      fill: #1967D2;\n",
       "      height: 32px;\n",
       "      padding: 0 0 0 0;\n",
       "      width: 32px;\n",
       "    }\n",
       "\n",
       "    .colab-df-convert:hover {\n",
       "      background-color: #E2EBFA;\n",
       "      box-shadow: 0px 1px 2px rgba(60, 64, 67, 0.3), 0px 1px 3px 1px rgba(60, 64, 67, 0.15);\n",
       "      fill: #174EA6;\n",
       "    }\n",
       "\n",
       "    [theme=dark] .colab-df-convert {\n",
       "      background-color: #3B4455;\n",
       "      fill: #D2E3FC;\n",
       "    }\n",
       "\n",
       "    [theme=dark] .colab-df-convert:hover {\n",
       "      background-color: #434B5C;\n",
       "      box-shadow: 0px 1px 3px 1px rgba(0, 0, 0, 0.15);\n",
       "      filter: drop-shadow(0px 1px 2px rgba(0, 0, 0, 0.3));\n",
       "      fill: #FFFFFF;\n",
       "    }\n",
       "  </style>\n",
       "\n",
       "      <script>\n",
       "        const buttonEl =\n",
       "          document.querySelector('#df-c410a9ec-6d62-4af4-a02b-958208c12ccb button.colab-df-convert');\n",
       "        buttonEl.style.display =\n",
       "          google.colab.kernel.accessAllowed ? 'block' : 'none';\n",
       "\n",
       "        async function convertToInteractive(key) {\n",
       "          const element = document.querySelector('#df-c410a9ec-6d62-4af4-a02b-958208c12ccb');\n",
       "          const dataTable =\n",
       "            await google.colab.kernel.invokeFunction('convertToInteractive',\n",
       "                                                     [key], {});\n",
       "          if (!dataTable) return;\n",
       "\n",
       "          const docLinkHtml = 'Like what you see? Visit the ' +\n",
       "            '<a target=\"_blank\" href=https://colab.research.google.com/notebooks/data_table.ipynb>data table notebook</a>'\n",
       "            + ' to learn more about interactive tables.';\n",
       "          element.innerHTML = '';\n",
       "          dataTable['output_type'] = 'display_data';\n",
       "          await google.colab.output.renderOutput(dataTable, element);\n",
       "          const docLink = document.createElement('div');\n",
       "          docLink.innerHTML = docLinkHtml;\n",
       "          element.appendChild(docLink);\n",
       "        }\n",
       "      </script>\n",
       "    </div>\n",
       "  </div>\n",
       "  "
      ],
      "text/plain": [
       "                  createdAt                       title  \\\n",
       "0  2022-03-04T07:54:19.886Z                 專題需要數據🥺🥺幫填～   \n",
       "1  2022-03-04T07:42:59.512Z                    #詢問 找衣服🥲   \n",
       "2  2022-03-04T07:24:25.147Z  #黑特 網購50% FIFTY PERCENT請三思   \n",
       "3  2022-03-04T06:39:13.017Z                         尋衣服   \n",
       "4  2022-03-04T06:28:06.137Z                      #詢問 想問   \n",
       "\n",
       "                                             excerpt categories  \\\n",
       "0                                    希望各位能花個20秒幫我填一下              \n",
       "1            想找這套衣服🥲，但發現不知道該用什麼關鍵字找，（圖是草屯囝仔的校園演唱會截圖）         詢問   \n",
       "2  因為文會有點長，先說結論是，50%是目前網購過的平台退貨最麻煩的一家，甚至我認為根本是刻意刁...              \n",
       "3                         來源：覺得呱吉這襯衫好好看~~，或有人知道有類似的嗎              \n",
       "4  各位，因為這個證件夾臺灣買不到，是美國outlet 的限量版貨，所以在以下的這間蝦皮上買，但...         詢問   \n",
       "\n",
       "                     topics forum_en forum_zh  \n",
       "0                            dressup       穿搭  \n",
       "1  衣服 | 鞋子 | 衣物 | 男生穿搭 | 尋找  dressup       穿搭  \n",
       "2  黑特 | 網購 | 三思 | 退貨 | 售後服務  dressup       穿搭  \n",
       "3     衣服 | 尋找 | 日常穿搭 | 男生穿搭  dressup       穿搭  \n",
       "4      穿搭 | 閒聊版 | 閒聊排解 | 假貨  dressup       穿搭  "
      ]
     },
     "execution_count": 41,
     "metadata": {},
     "output_type": "execute_result"
    }
   ],
   "source": [
    "conn = sqlite3.connect(\"Dcard.db\")  \n",
    "data = pd.read_sql(\"SELECT * FROM Posts;\", conn)\n",
    "data.head()"
   ]
  },
  {
   "cell_type": "code",
   "execution_count": 42,
   "metadata": {
    "colab": {
     "base_uri": "https://localhost:8080/"
    },
    "id": "kGsoikCRFnqw",
    "outputId": "241b5804-4361-492f-d7ac-cca2924cb89a"
   },
   "outputs": [
    {
     "data": {
      "text/plain": [
       "forum_en\n",
       "dressup         30\n",
       "food            30\n",
       "funny           30\n",
       "girl            30\n",
       "horoscopes      30\n",
       "makeup          30\n",
       "money           30\n",
       "netflix         30\n",
       "relationship    30\n",
       "talk            30\n",
       "trending        30\n",
       "youtuber        30\n",
       "dtype: int64"
      ]
     },
     "execution_count": 42,
     "metadata": {},
     "output_type": "execute_result"
    }
   ],
   "source": [
    "data.groupby(\"forum_en\").size()"
   ]
  },
  {
   "cell_type": "code",
   "execution_count": 43,
   "metadata": {
    "colab": {
     "base_uri": "https://localhost:8080/"
    },
    "id": "_8d4VTn0xTBd",
    "outputId": "4eccc09f-fe98-4bac-c24d-7a46d6ded067"
   },
   "outputs": [
    {
     "data": {
      "text/plain": [
       "(360, 7)"
      ]
     },
     "execution_count": 43,
     "metadata": {},
     "output_type": "execute_result"
    }
   ],
   "source": [
    "data.shape"
   ]
  },
  {
   "cell_type": "code",
   "execution_count": 44,
   "metadata": {
    "colab": {
     "base_uri": "https://localhost:8080/",
     "height": 606
    },
    "id": "_CEFl2g3GSiT",
    "outputId": "00b87293-d310-47be-d70a-adaba5a0f5d1"
   },
   "outputs": [
    {
     "data": {
      "text/html": [
       "\n",
       "  <div id=\"df-161a539b-23e2-40af-8364-1df3ca274c09\">\n",
       "    <div class=\"colab-df-container\">\n",
       "      <div>\n",
       "<style scoped>\n",
       "    .dataframe tbody tr th:only-of-type {\n",
       "        vertical-align: middle;\n",
       "    }\n",
       "\n",
       "    .dataframe tbody tr th {\n",
       "        vertical-align: top;\n",
       "    }\n",
       "\n",
       "    .dataframe thead th {\n",
       "        text-align: right;\n",
       "    }\n",
       "</style>\n",
       "<table border=\"1\" class=\"dataframe\">\n",
       "  <thead>\n",
       "    <tr style=\"text-align: right;\">\n",
       "      <th></th>\n",
       "      <th>excerpt</th>\n",
       "      <th>forum_en</th>\n",
       "      <th>forum_zh</th>\n",
       "    </tr>\n",
       "  </thead>\n",
       "  <tbody>\n",
       "    <tr>\n",
       "      <th>0</th>\n",
       "      <td>希望各位能花個20秒幫我填一下</td>\n",
       "      <td>dressup</td>\n",
       "      <td>穿搭</td>\n",
       "    </tr>\n",
       "    <tr>\n",
       "      <th>1</th>\n",
       "      <td>想找這套衣服🥲，但發現不知道該用什麼關鍵字找，（圖是草屯囝仔的校園演唱會截圖）</td>\n",
       "      <td>dressup</td>\n",
       "      <td>穿搭</td>\n",
       "    </tr>\n",
       "    <tr>\n",
       "      <th>2</th>\n",
       "      <td>因為文會有點長，先說結論是，50%是目前網購過的平台退貨最麻煩的一家，甚至我認為根本是刻意刁...</td>\n",
       "      <td>dressup</td>\n",
       "      <td>穿搭</td>\n",
       "    </tr>\n",
       "    <tr>\n",
       "      <th>3</th>\n",
       "      <td>來源：覺得呱吉這襯衫好好看~~，或有人知道有類似的嗎</td>\n",
       "      <td>dressup</td>\n",
       "      <td>穿搭</td>\n",
       "    </tr>\n",
       "    <tr>\n",
       "      <th>4</th>\n",
       "      <td>各位，因為這個證件夾臺灣買不到，是美國outlet 的限量版貨，所以在以下的這間蝦皮上買，但...</td>\n",
       "      <td>dressup</td>\n",
       "      <td>穿搭</td>\n",
       "    </tr>\n",
       "    <tr>\n",
       "      <th>...</th>\n",
       "      <td>...</td>\n",
       "      <td>...</td>\n",
       "      <td>...</td>\n",
       "    </tr>\n",
       "    <tr>\n",
       "      <th>355</th>\n",
       "      <td>昨天上了第一支影片，之前有發過沒有線條的動畫影片，新的頻道改成有線條的，感覺大家好像比較喜歡...</td>\n",
       "      <td>youtuber</td>\n",
       "      <td>YouTuber</td>\n",
       "    </tr>\n",
       "    <tr>\n",
       "      <th>356</th>\n",
       "      <td>今天全台灣大停電，應該過幾天就會有個戴面具的出來說，一定是中共……，我從上個影片就預測了……</td>\n",
       "      <td>youtuber</td>\n",
       "      <td>YouTuber</td>\n",
       "    </tr>\n",
       "    <tr>\n",
       "      <th>357</th>\n",
       "      <td>想問有沒有人知道阿神和放火是認識還是有結過什麼仇之類的嗎？首先我個人基本沒關注過放火，但是最...</td>\n",
       "      <td>youtuber</td>\n",
       "      <td>YouTuber</td>\n",
       "    </tr>\n",
       "    <tr>\n",
       "      <th>358</th>\n",
       "      <td>無意引戰，單純分享我的觀察與個人想法～這幾天看了Dcard幾篇關於Rice&amp; Shine的貼...</td>\n",
       "      <td>youtuber</td>\n",
       "      <td>YouTuber</td>\n",
       "    </tr>\n",
       "    <tr>\n",
       "      <th>359</th>\n",
       "      <td>哈哈哈哈，沒錯我就是親友團來介紹一個我覺得很北七的頻道，現在觀看真的低的可憐，也沒事啦，就多...</td>\n",
       "      <td>youtuber</td>\n",
       "      <td>YouTuber</td>\n",
       "    </tr>\n",
       "  </tbody>\n",
       "</table>\n",
       "<p>360 rows × 3 columns</p>\n",
       "</div>\n",
       "      <button class=\"colab-df-convert\" onclick=\"convertToInteractive('df-161a539b-23e2-40af-8364-1df3ca274c09')\"\n",
       "              title=\"Convert this dataframe to an interactive table.\"\n",
       "              style=\"display:none;\">\n",
       "        \n",
       "  <svg xmlns=\"http://www.w3.org/2000/svg\" height=\"24px\"viewBox=\"0 0 24 24\"\n",
       "       width=\"24px\">\n",
       "    <path d=\"M0 0h24v24H0V0z\" fill=\"none\"/>\n",
       "    <path d=\"M18.56 5.44l.94 2.06.94-2.06 2.06-.94-2.06-.94-.94-2.06-.94 2.06-2.06.94zm-11 1L8.5 8.5l.94-2.06 2.06-.94-2.06-.94L8.5 2.5l-.94 2.06-2.06.94zm10 10l.94 2.06.94-2.06 2.06-.94-2.06-.94-.94-2.06-.94 2.06-2.06.94z\"/><path d=\"M17.41 7.96l-1.37-1.37c-.4-.4-.92-.59-1.43-.59-.52 0-1.04.2-1.43.59L10.3 9.45l-7.72 7.72c-.78.78-.78 2.05 0 2.83L4 21.41c.39.39.9.59 1.41.59.51 0 1.02-.2 1.41-.59l7.78-7.78 2.81-2.81c.8-.78.8-2.07 0-2.86zM5.41 20L4 18.59l7.72-7.72 1.47 1.35L5.41 20z\"/>\n",
       "  </svg>\n",
       "      </button>\n",
       "      \n",
       "  <style>\n",
       "    .colab-df-container {\n",
       "      display:flex;\n",
       "      flex-wrap:wrap;\n",
       "      gap: 12px;\n",
       "    }\n",
       "\n",
       "    .colab-df-convert {\n",
       "      background-color: #E8F0FE;\n",
       "      border: none;\n",
       "      border-radius: 50%;\n",
       "      cursor: pointer;\n",
       "      display: none;\n",
       "      fill: #1967D2;\n",
       "      height: 32px;\n",
       "      padding: 0 0 0 0;\n",
       "      width: 32px;\n",
       "    }\n",
       "\n",
       "    .colab-df-convert:hover {\n",
       "      background-color: #E2EBFA;\n",
       "      box-shadow: 0px 1px 2px rgba(60, 64, 67, 0.3), 0px 1px 3px 1px rgba(60, 64, 67, 0.15);\n",
       "      fill: #174EA6;\n",
       "    }\n",
       "\n",
       "    [theme=dark] .colab-df-convert {\n",
       "      background-color: #3B4455;\n",
       "      fill: #D2E3FC;\n",
       "    }\n",
       "\n",
       "    [theme=dark] .colab-df-convert:hover {\n",
       "      background-color: #434B5C;\n",
       "      box-shadow: 0px 1px 3px 1px rgba(0, 0, 0, 0.15);\n",
       "      filter: drop-shadow(0px 1px 2px rgba(0, 0, 0, 0.3));\n",
       "      fill: #FFFFFF;\n",
       "    }\n",
       "  </style>\n",
       "\n",
       "      <script>\n",
       "        const buttonEl =\n",
       "          document.querySelector('#df-161a539b-23e2-40af-8364-1df3ca274c09 button.colab-df-convert');\n",
       "        buttonEl.style.display =\n",
       "          google.colab.kernel.accessAllowed ? 'block' : 'none';\n",
       "\n",
       "        async function convertToInteractive(key) {\n",
       "          const element = document.querySelector('#df-161a539b-23e2-40af-8364-1df3ca274c09');\n",
       "          const dataTable =\n",
       "            await google.colab.kernel.invokeFunction('convertToInteractive',\n",
       "                                                     [key], {});\n",
       "          if (!dataTable) return;\n",
       "\n",
       "          const docLinkHtml = 'Like what you see? Visit the ' +\n",
       "            '<a target=\"_blank\" href=https://colab.research.google.com/notebooks/data_table.ipynb>data table notebook</a>'\n",
       "            + ' to learn more about interactive tables.';\n",
       "          element.innerHTML = '';\n",
       "          dataTable['output_type'] = 'display_data';\n",
       "          await google.colab.output.renderOutput(dataTable, element);\n",
       "          const docLink = document.createElement('div');\n",
       "          docLink.innerHTML = docLinkHtml;\n",
       "          element.appendChild(docLink);\n",
       "        }\n",
       "      </script>\n",
       "    </div>\n",
       "  </div>\n",
       "  "
      ],
      "text/plain": [
       "                                               excerpt  forum_en  forum_zh\n",
       "0                                      希望各位能花個20秒幫我填一下   dressup        穿搭\n",
       "1              想找這套衣服🥲，但發現不知道該用什麼關鍵字找，（圖是草屯囝仔的校園演唱會截圖）   dressup        穿搭\n",
       "2    因為文會有點長，先說結論是，50%是目前網購過的平台退貨最麻煩的一家，甚至我認為根本是刻意刁...   dressup        穿搭\n",
       "3                           來源：覺得呱吉這襯衫好好看~~，或有人知道有類似的嗎   dressup        穿搭\n",
       "4    各位，因為這個證件夾臺灣買不到，是美國outlet 的限量版貨，所以在以下的這間蝦皮上買，但...   dressup        穿搭\n",
       "..                                                 ...       ...       ...\n",
       "355  昨天上了第一支影片，之前有發過沒有線條的動畫影片，新的頻道改成有線條的，感覺大家好像比較喜歡...  youtuber  YouTuber\n",
       "356     今天全台灣大停電，應該過幾天就會有個戴面具的出來說，一定是中共……，我從上個影片就預測了……  youtuber  YouTuber\n",
       "357  想問有沒有人知道阿神和放火是認識還是有結過什麼仇之類的嗎？首先我個人基本沒關注過放火，但是最...  youtuber  YouTuber\n",
       "358  無意引戰，單純分享我的觀察與個人想法～這幾天看了Dcard幾篇關於Rice& Shine的貼...  youtuber  YouTuber\n",
       "359  哈哈哈哈，沒錯我就是親友團來介紹一個我覺得很北七的頻道，現在觀看真的低的可憐，也沒事啦，就多...  youtuber  YouTuber\n",
       "\n",
       "[360 rows x 3 columns]"
      ]
     },
     "execution_count": 44,
     "metadata": {},
     "output_type": "execute_result"
    }
   ],
   "source": [
    "cols = [\"excerpt\", \"forum_en\", \"forum_zh\"]\n",
    "df = data[cols]\n",
    "df"
   ]
  },
  {
   "cell_type": "markdown",
   "metadata": {
    "id": "2mMH2tvTDSIE"
   },
   "source": [
    "- You can change `62` below to any number between 0 and 359."
   ]
  },
  {
   "cell_type": "code",
   "execution_count": 45,
   "metadata": {
    "colab": {
     "base_uri": "https://localhost:8080/",
     "height": 52
    },
    "id": "f8lT2sGwljIQ",
    "outputId": "942f50e2-4198-49fb-d02f-bc2e1441eb3f"
   },
   "outputs": [
    {
     "data": {
      "application/vnd.google.colaboratory.intrinsic+json": {
       "type": "string"
      },
      "text/plain": [
       "'昨天在屈臣氏買的新品，手刀來分享心得！！！！，🥑價格： $305/320ml～～很大條，成分主打維生素B群、紅石榴跟枸杞，跟其他兩款一樣都是果萃的美白，這款有很少女的莓果香，甜甜的感覺，味道有點像美國'"
      ]
     },
     "execution_count": 45,
     "metadata": {},
     "output_type": "execute_result"
    }
   ],
   "source": [
    "docid = 62\n",
    "sample_text = df.loc[docid, \"excerpt\"]\n",
    "sample_text"
   ]
  },
  {
   "cell_type": "markdown",
   "metadata": {
    "id": "znoBLKfLHGu0"
   },
   "source": [
    "## Preprocess texts"
   ]
  },
  {
   "cell_type": "markdown",
   "metadata": {
    "id": "-0bCdr8PRdYM"
   },
   "source": [
    "![](https://res.cloudinary.com/practicaldev/image/fetch/s--95IEaI7P--/c_limit%2Cf_auto%2Cfl_progressive%2Cq_auto%2Cw_880/https://dev-to-uploads.s3.amazonaws.com/uploads/articles/x9qz2q3gyz494rwz3i7q.png)"
   ]
  },
  {
   "cell_type": "code",
   "execution_count": 46,
   "metadata": {
    "id": "b60YVo8MGhW1"
   },
   "outputs": [],
   "source": [
    "def preprocess_text(text: str) -> list:\n",
    "    doc = nlp.make_doc(text)\n",
    "    res = [tok for tok in doc if not tok.is_punct]\n",
    "    res = [tok for tok in res if not tok.is_stop] # stop words\n",
    "    res = [tok for tok in res if not tok.like_email]\n",
    "    res = [tok for tok in res if not tok.like_url]\n",
    "    res = [tok for tok in res if not tok.like_num]\n",
    "    res = [tok for tok in res if not tok.is_ascii]\n",
    "    res = [tok.text for tok in res if not tok.is_space]\n",
    "    return res"
   ]
  },
  {
   "cell_type": "markdown",
   "metadata": {
    "id": "wPDj6uSVEtSZ"
   },
   "source": [
    "- Think of stop words as highly frequent words, typically those that non-native speakers tend to make mistakes on.\n",
    "\n",
    "![](https://www.computerhope.com/jargon/s/stop-words.png)"
   ]
  },
  {
   "cell_type": "code",
   "execution_count": 47,
   "metadata": {
    "colab": {
     "base_uri": "https://localhost:8080/"
    },
    "id": "fiwrzUsJkGgG",
    "outputId": "b0a3a909-b9b9-4117-8753-a87e4ba6fa43"
   },
   "outputs": [
    {
     "name": "stdout",
     "output_type": "stream",
     "text": [
      "Before preprocessing:\n",
      " 昨天在屈臣氏買的新品，手刀來分享心得！！！！，🥑價格： $305/320ml～～很大條，成分主打維生素B群、紅石榴跟枸杞，跟其他兩款一樣都是果萃的美白，這款有很少女的莓果香，甜甜的感覺，味道有點像美國\n",
      "After preprocessing:\n",
      " ['昨天', '屈臣氏', '買', '新品', '手刀', '來', '分享', '心得', '🥑', '價格', '條', '成分', '主打', '維生素', 'B群', '紅', '石榴', '枸杞', '兩', '款', '一樣', '果萃', '美白', '這', '款有', '少女', '莓果', '香', '甜甜', '感覺', '味道', '有點', '美國']\n"
     ]
    }
   ],
   "source": [
    "processed_text = preprocess_text(sample_text)\n",
    "print(f\"Before preprocessing:\\n {sample_text}\")\n",
    "print(f\"After preprocessing:\\n {processed_text}\")"
   ]
  },
  {
   "cell_type": "code",
   "execution_count": null,
   "metadata": {
    "id": "gDveHNeoGu0W"
   },
   "outputs": [],
   "source": [
    "df.loc[:,\"toks\"] = df[\"excerpt\"].apply(preprocess_text)"
   ]
  },
  {
   "cell_type": "code",
   "execution_count": 49,
   "metadata": {
    "colab": {
     "base_uri": "https://localhost:8080/",
     "height": 371
    },
    "id": "slgYRqT6jkWD",
    "outputId": "24956a51-724b-499f-c5a1-c081bc25d90d"
   },
   "outputs": [
    {
     "data": {
      "text/html": [
       "\n",
       "  <div id=\"df-1f13b3c3-5c8f-4fc6-a7b5-94a92b30bc73\">\n",
       "    <div class=\"colab-df-container\">\n",
       "      <div>\n",
       "<style scoped>\n",
       "    .dataframe tbody tr th:only-of-type {\n",
       "        vertical-align: middle;\n",
       "    }\n",
       "\n",
       "    .dataframe tbody tr th {\n",
       "        vertical-align: top;\n",
       "    }\n",
       "\n",
       "    .dataframe thead th {\n",
       "        text-align: right;\n",
       "    }\n",
       "</style>\n",
       "<table border=\"1\" class=\"dataframe\">\n",
       "  <thead>\n",
       "    <tr style=\"text-align: right;\">\n",
       "      <th></th>\n",
       "      <th>excerpt</th>\n",
       "      <th>forum_en</th>\n",
       "      <th>forum_zh</th>\n",
       "      <th>toks</th>\n",
       "    </tr>\n",
       "  </thead>\n",
       "  <tbody>\n",
       "    <tr>\n",
       "      <th>0</th>\n",
       "      <td>希望各位能花個20秒幫我填一下</td>\n",
       "      <td>dressup</td>\n",
       "      <td>穿搭</td>\n",
       "      <td>[希望, 位, 花, 個, 秒, 幫, 填]</td>\n",
       "    </tr>\n",
       "    <tr>\n",
       "      <th>1</th>\n",
       "      <td>想找這套衣服🥲，但發現不知道該用什麼關鍵字找，（圖是草屯囝仔的校園演唱會截圖）</td>\n",
       "      <td>dressup</td>\n",
       "      <td>穿搭</td>\n",
       "      <td>[想, 找, 這, 套, 衣服, 🥲, 發現, 該, 用什麼, 關鍵字, 找, 圖是, 草屯...</td>\n",
       "    </tr>\n",
       "    <tr>\n",
       "      <th>2</th>\n",
       "      <td>因為文會有點長，先說結論是，50%是目前網購過的平台退貨最麻煩的一家，甚至我認為根本是刻意刁...</td>\n",
       "      <td>dressup</td>\n",
       "      <td>穿搭</td>\n",
       "      <td>[因為, 文會, 有點, 長, 先, 說, 結論, 網購, 過, 平台, 退貨, 麻煩, 家...</td>\n",
       "    </tr>\n",
       "    <tr>\n",
       "      <th>3</th>\n",
       "      <td>來源：覺得呱吉這襯衫好好看~~，或有人知道有類似的嗎</td>\n",
       "      <td>dressup</td>\n",
       "      <td>穿搭</td>\n",
       "      <td>[來源, 覺得, 呱吉, 這, 襯衫, 好好, 類似, 嗎]</td>\n",
       "    </tr>\n",
       "    <tr>\n",
       "      <th>4</th>\n",
       "      <td>各位，因為這個證件夾臺灣買不到，是美國outlet 的限量版貨，所以在以下的這間蝦皮上買，但...</td>\n",
       "      <td>dressup</td>\n",
       "      <td>穿搭</td>\n",
       "      <td>[位, 因為, 這, 個, 證件, 夾, 臺灣, 買不到, 美國, 限量版, 貨, 這, 間...</td>\n",
       "    </tr>\n",
       "  </tbody>\n",
       "</table>\n",
       "</div>\n",
       "      <button class=\"colab-df-convert\" onclick=\"convertToInteractive('df-1f13b3c3-5c8f-4fc6-a7b5-94a92b30bc73')\"\n",
       "              title=\"Convert this dataframe to an interactive table.\"\n",
       "              style=\"display:none;\">\n",
       "        \n",
       "  <svg xmlns=\"http://www.w3.org/2000/svg\" height=\"24px\"viewBox=\"0 0 24 24\"\n",
       "       width=\"24px\">\n",
       "    <path d=\"M0 0h24v24H0V0z\" fill=\"none\"/>\n",
       "    <path d=\"M18.56 5.44l.94 2.06.94-2.06 2.06-.94-2.06-.94-.94-2.06-.94 2.06-2.06.94zm-11 1L8.5 8.5l.94-2.06 2.06-.94-2.06-.94L8.5 2.5l-.94 2.06-2.06.94zm10 10l.94 2.06.94-2.06 2.06-.94-2.06-.94-.94-2.06-.94 2.06-2.06.94z\"/><path d=\"M17.41 7.96l-1.37-1.37c-.4-.4-.92-.59-1.43-.59-.52 0-1.04.2-1.43.59L10.3 9.45l-7.72 7.72c-.78.78-.78 2.05 0 2.83L4 21.41c.39.39.9.59 1.41.59.51 0 1.02-.2 1.41-.59l7.78-7.78 2.81-2.81c.8-.78.8-2.07 0-2.86zM5.41 20L4 18.59l7.72-7.72 1.47 1.35L5.41 20z\"/>\n",
       "  </svg>\n",
       "      </button>\n",
       "      \n",
       "  <style>\n",
       "    .colab-df-container {\n",
       "      display:flex;\n",
       "      flex-wrap:wrap;\n",
       "      gap: 12px;\n",
       "    }\n",
       "\n",
       "    .colab-df-convert {\n",
       "      background-color: #E8F0FE;\n",
       "      border: none;\n",
       "      border-radius: 50%;\n",
       "      cursor: pointer;\n",
       "      display: none;\n",
       "      fill: #1967D2;\n",
       "      height: 32px;\n",
       "      padding: 0 0 0 0;\n",
       "      width: 32px;\n",
       "    }\n",
       "\n",
       "    .colab-df-convert:hover {\n",
       "      background-color: #E2EBFA;\n",
       "      box-shadow: 0px 1px 2px rgba(60, 64, 67, 0.3), 0px 1px 3px 1px rgba(60, 64, 67, 0.15);\n",
       "      fill: #174EA6;\n",
       "    }\n",
       "\n",
       "    [theme=dark] .colab-df-convert {\n",
       "      background-color: #3B4455;\n",
       "      fill: #D2E3FC;\n",
       "    }\n",
       "\n",
       "    [theme=dark] .colab-df-convert:hover {\n",
       "      background-color: #434B5C;\n",
       "      box-shadow: 0px 1px 3px 1px rgba(0, 0, 0, 0.15);\n",
       "      filter: drop-shadow(0px 1px 2px rgba(0, 0, 0, 0.3));\n",
       "      fill: #FFFFFF;\n",
       "    }\n",
       "  </style>\n",
       "\n",
       "      <script>\n",
       "        const buttonEl =\n",
       "          document.querySelector('#df-1f13b3c3-5c8f-4fc6-a7b5-94a92b30bc73 button.colab-df-convert');\n",
       "        buttonEl.style.display =\n",
       "          google.colab.kernel.accessAllowed ? 'block' : 'none';\n",
       "\n",
       "        async function convertToInteractive(key) {\n",
       "          const element = document.querySelector('#df-1f13b3c3-5c8f-4fc6-a7b5-94a92b30bc73');\n",
       "          const dataTable =\n",
       "            await google.colab.kernel.invokeFunction('convertToInteractive',\n",
       "                                                     [key], {});\n",
       "          if (!dataTable) return;\n",
       "\n",
       "          const docLinkHtml = 'Like what you see? Visit the ' +\n",
       "            '<a target=\"_blank\" href=https://colab.research.google.com/notebooks/data_table.ipynb>data table notebook</a>'\n",
       "            + ' to learn more about interactive tables.';\n",
       "          element.innerHTML = '';\n",
       "          dataTable['output_type'] = 'display_data';\n",
       "          await google.colab.output.renderOutput(dataTable, element);\n",
       "          const docLink = document.createElement('div');\n",
       "          docLink.innerHTML = docLinkHtml;\n",
       "          element.appendChild(docLink);\n",
       "        }\n",
       "      </script>\n",
       "    </div>\n",
       "  </div>\n",
       "  "
      ],
      "text/plain": [
       "                                             excerpt forum_en forum_zh  \\\n",
       "0                                    希望各位能花個20秒幫我填一下  dressup       穿搭   \n",
       "1            想找這套衣服🥲，但發現不知道該用什麼關鍵字找，（圖是草屯囝仔的校園演唱會截圖）  dressup       穿搭   \n",
       "2  因為文會有點長，先說結論是，50%是目前網購過的平台退貨最麻煩的一家，甚至我認為根本是刻意刁...  dressup       穿搭   \n",
       "3                         來源：覺得呱吉這襯衫好好看~~，或有人知道有類似的嗎  dressup       穿搭   \n",
       "4  各位，因為這個證件夾臺灣買不到，是美國outlet 的限量版貨，所以在以下的這間蝦皮上買，但...  dressup       穿搭   \n",
       "\n",
       "                                                toks  \n",
       "0                             [希望, 位, 花, 個, 秒, 幫, 填]  \n",
       "1  [想, 找, 這, 套, 衣服, 🥲, 發現, 該, 用什麼, 關鍵字, 找, 圖是, 草屯...  \n",
       "2  [因為, 文會, 有點, 長, 先, 說, 結論, 網購, 過, 平台, 退貨, 麻煩, 家...  \n",
       "3                     [來源, 覺得, 呱吉, 這, 襯衫, 好好, 類似, 嗎]  \n",
       "4  [位, 因為, 這, 個, 證件, 夾, 臺灣, 買不到, 美國, 限量版, 貨, 這, 間...  "
      ]
     },
     "execution_count": 49,
     "metadata": {},
     "output_type": "execute_result"
    }
   ],
   "source": [
    "df.head()"
   ]
  },
  {
   "cell_type": "code",
   "execution_count": 51,
   "metadata": {
    "colab": {
     "base_uri": "https://localhost:8080/"
    },
    "id": "woJHLfkV1FyS",
    "outputId": "537d481f-81a4-47ba-a074-47bdd05f0752"
   },
   "outputs": [
    {
     "data": {
      "text/plain": [
       "array(['dressup', 'relationship', 'makeup', 'food', 'horoscopes', 'talk',\n",
       "       'trending', 'money', 'funny', 'girl', 'netflix', 'youtuber'],\n",
       "      dtype=object)"
      ]
     },
     "execution_count": 51,
     "metadata": {},
     "output_type": "execute_result"
    }
   ],
   "source": [
    "df[\"forum_en\"].unique()"
   ]
  },
  {
   "cell_type": "markdown",
   "metadata": {
    "id": "VkU0l9KzwwWX"
   },
   "source": [
    "- You can choose any forum name from above and append it to `selected_forums`."
   ]
  },
  {
   "cell_type": "code",
   "execution_count": 52,
   "metadata": {
    "id": "avm5rASl0-x-"
   },
   "outputs": [],
   "source": [
    "selected_forums = [\"trending\", \"netflix\", \"money\", \"makeup\", \"dressup\"]\n",
    "forum_filt = df[\"forum_en\"].isin(selected_forums)\n",
    "sample_df = df[forum_filt]\n",
    "sample_df.reset_index(inplace=True, drop=True)"
   ]
  },
  {
   "cell_type": "markdown",
   "metadata": {
    "id": "_TxQWSqxIKvu"
   },
   "source": [
    "- One common way to get rid of outliers is to filter by text length. "
   ]
  },
  {
   "cell_type": "code",
   "execution_count": 53,
   "metadata": {
    "colab": {
     "base_uri": "https://localhost:8080/",
     "height": 363
    },
    "id": "aZLRVURw9Ylx",
    "outputId": "8a8bcaa2-d22f-419d-a735-0782b9e90d81"
   },
   "outputs": [
    {
     "data": {
      "text/html": [
       "\n",
       "  <div id=\"df-9df27619-dbba-4f04-bfe6-151216eefc22\">\n",
       "    <div class=\"colab-df-container\">\n",
       "      <div>\n",
       "<style scoped>\n",
       "    .dataframe tbody tr th:only-of-type {\n",
       "        vertical-align: middle;\n",
       "    }\n",
       "\n",
       "    .dataframe tbody tr th {\n",
       "        vertical-align: top;\n",
       "    }\n",
       "\n",
       "    .dataframe thead th {\n",
       "        text-align: right;\n",
       "    }\n",
       "</style>\n",
       "<table border=\"1\" class=\"dataframe\">\n",
       "  <thead>\n",
       "    <tr style=\"text-align: right;\">\n",
       "      <th></th>\n",
       "      <th>index</th>\n",
       "      <th>excerpt</th>\n",
       "      <th>forum_en</th>\n",
       "      <th>forum_zh</th>\n",
       "      <th>toks</th>\n",
       "    </tr>\n",
       "  </thead>\n",
       "  <tbody>\n",
       "    <tr>\n",
       "      <th>8</th>\n",
       "      <td>8</td>\n",
       "      <td></td>\n",
       "      <td>dressup</td>\n",
       "      <td>穿搭</td>\n",
       "      <td>[]</td>\n",
       "    </tr>\n",
       "    <tr>\n",
       "      <th>29</th>\n",
       "      <td>29</td>\n",
       "      <td></td>\n",
       "      <td>dressup</td>\n",
       "      <td>穿搭</td>\n",
       "      <td>[]</td>\n",
       "    </tr>\n",
       "    <tr>\n",
       "      <th>39</th>\n",
       "      <td>69</td>\n",
       "      <td>是在笑屁笑啦🤷‍️</td>\n",
       "      <td>makeup</td>\n",
       "      <td>美妝</td>\n",
       "      <td>[笑, 屁笑, 🤷, ‍, ️]</td>\n",
       "    </tr>\n",
       "    <tr>\n",
       "      <th>58</th>\n",
       "      <td>88</td>\n",
       "      <td>如題，請教各位</td>\n",
       "      <td>makeup</td>\n",
       "      <td>美妝</td>\n",
       "      <td>[如題, 請教, 位]</td>\n",
       "    </tr>\n",
       "    <tr>\n",
       "      <th>66</th>\n",
       "      <td>186</td>\n",
       "      <td></td>\n",
       "      <td>trending</td>\n",
       "      <td>時事</td>\n",
       "      <td>[]</td>\n",
       "    </tr>\n",
       "    <tr>\n",
       "      <th>78</th>\n",
       "      <td>198</td>\n",
       "      <td>感覺離戰爭好近</td>\n",
       "      <td>trending</td>\n",
       "      <td>時事</td>\n",
       "      <td>[感覺, 離, 戰爭, 好近]</td>\n",
       "    </tr>\n",
       "    <tr>\n",
       "      <th>82</th>\n",
       "      <td>202</td>\n",
       "      <td></td>\n",
       "      <td>trending</td>\n",
       "      <td>時事</td>\n",
       "      <td>[]</td>\n",
       "    </tr>\n",
       "    <tr>\n",
       "      <th>88</th>\n",
       "      <td>208</td>\n",
       "      <td>金曲不敗</td>\n",
       "      <td>trending</td>\n",
       "      <td>時事</td>\n",
       "      <td>[金曲, 敗]</td>\n",
       "    </tr>\n",
       "    <tr>\n",
       "      <th>100</th>\n",
       "      <td>220</td>\n",
       "      <td></td>\n",
       "      <td>money</td>\n",
       "      <td>理財</td>\n",
       "      <td>[]</td>\n",
       "    </tr>\n",
       "    <tr>\n",
       "      <th>144</th>\n",
       "      <td>324</td>\n",
       "      <td></td>\n",
       "      <td>netflix</td>\n",
       "      <td>Netflix</td>\n",
       "      <td>[]</td>\n",
       "    </tr>\n",
       "  </tbody>\n",
       "</table>\n",
       "</div>\n",
       "      <button class=\"colab-df-convert\" onclick=\"convertToInteractive('df-9df27619-dbba-4f04-bfe6-151216eefc22')\"\n",
       "              title=\"Convert this dataframe to an interactive table.\"\n",
       "              style=\"display:none;\">\n",
       "        \n",
       "  <svg xmlns=\"http://www.w3.org/2000/svg\" height=\"24px\"viewBox=\"0 0 24 24\"\n",
       "       width=\"24px\">\n",
       "    <path d=\"M0 0h24v24H0V0z\" fill=\"none\"/>\n",
       "    <path d=\"M18.56 5.44l.94 2.06.94-2.06 2.06-.94-2.06-.94-.94-2.06-.94 2.06-2.06.94zm-11 1L8.5 8.5l.94-2.06 2.06-.94-2.06-.94L8.5 2.5l-.94 2.06-2.06.94zm10 10l.94 2.06.94-2.06 2.06-.94-2.06-.94-.94-2.06-.94 2.06-2.06.94z\"/><path d=\"M17.41 7.96l-1.37-1.37c-.4-.4-.92-.59-1.43-.59-.52 0-1.04.2-1.43.59L10.3 9.45l-7.72 7.72c-.78.78-.78 2.05 0 2.83L4 21.41c.39.39.9.59 1.41.59.51 0 1.02-.2 1.41-.59l7.78-7.78 2.81-2.81c.8-.78.8-2.07 0-2.86zM5.41 20L4 18.59l7.72-7.72 1.47 1.35L5.41 20z\"/>\n",
       "  </svg>\n",
       "      </button>\n",
       "      \n",
       "  <style>\n",
       "    .colab-df-container {\n",
       "      display:flex;\n",
       "      flex-wrap:wrap;\n",
       "      gap: 12px;\n",
       "    }\n",
       "\n",
       "    .colab-df-convert {\n",
       "      background-color: #E8F0FE;\n",
       "      border: none;\n",
       "      border-radius: 50%;\n",
       "      cursor: pointer;\n",
       "      display: none;\n",
       "      fill: #1967D2;\n",
       "      height: 32px;\n",
       "      padding: 0 0 0 0;\n",
       "      width: 32px;\n",
       "    }\n",
       "\n",
       "    .colab-df-convert:hover {\n",
       "      background-color: #E2EBFA;\n",
       "      box-shadow: 0px 1px 2px rgba(60, 64, 67, 0.3), 0px 1px 3px 1px rgba(60, 64, 67, 0.15);\n",
       "      fill: #174EA6;\n",
       "    }\n",
       "\n",
       "    [theme=dark] .colab-df-convert {\n",
       "      background-color: #3B4455;\n",
       "      fill: #D2E3FC;\n",
       "    }\n",
       "\n",
       "    [theme=dark] .colab-df-convert:hover {\n",
       "      background-color: #434B5C;\n",
       "      box-shadow: 0px 1px 3px 1px rgba(0, 0, 0, 0.15);\n",
       "      filter: drop-shadow(0px 1px 2px rgba(0, 0, 0, 0.3));\n",
       "      fill: #FFFFFF;\n",
       "    }\n",
       "  </style>\n",
       "\n",
       "      <script>\n",
       "        const buttonEl =\n",
       "          document.querySelector('#df-9df27619-dbba-4f04-bfe6-151216eefc22 button.colab-df-convert');\n",
       "        buttonEl.style.display =\n",
       "          google.colab.kernel.accessAllowed ? 'block' : 'none';\n",
       "\n",
       "        async function convertToInteractive(key) {\n",
       "          const element = document.querySelector('#df-9df27619-dbba-4f04-bfe6-151216eefc22');\n",
       "          const dataTable =\n",
       "            await google.colab.kernel.invokeFunction('convertToInteractive',\n",
       "                                                     [key], {});\n",
       "          if (!dataTable) return;\n",
       "\n",
       "          const docLinkHtml = 'Like what you see? Visit the ' +\n",
       "            '<a target=\"_blank\" href=https://colab.research.google.com/notebooks/data_table.ipynb>data table notebook</a>'\n",
       "            + ' to learn more about interactive tables.';\n",
       "          element.innerHTML = '';\n",
       "          dataTable['output_type'] = 'display_data';\n",
       "          await google.colab.output.renderOutput(dataTable, element);\n",
       "          const docLink = document.createElement('div');\n",
       "          docLink.innerHTML = docLinkHtml;\n",
       "          element.appendChild(docLink);\n",
       "        }\n",
       "      </script>\n",
       "    </div>\n",
       "  </div>\n",
       "  "
      ],
      "text/plain": [
       "     index    excerpt  forum_en forum_zh              toks\n",
       "8        8              dressup       穿搭                []\n",
       "29      29              dressup       穿搭                []\n",
       "39      69  是在笑屁笑啦🤷‍️    makeup       美妝  [笑, 屁笑, 🤷, ‍, ️]\n",
       "58      88    如題，請教各位    makeup       美妝       [如題, 請教, 位]\n",
       "66     186             trending       時事                []\n",
       "78     198    感覺離戰爭好近  trending       時事   [感覺, 離, 戰爭, 好近]\n",
       "82     202             trending       時事                []\n",
       "88     208       金曲不敗  trending       時事           [金曲, 敗]\n",
       "100    220                money       理財                []\n",
       "144    324              netflix  Netflix                []"
      ]
     },
     "execution_count": 53,
     "metadata": {},
     "output_type": "execute_result"
    }
   ],
   "source": [
    "sample_df[sample_df[\"excerpt\"].apply(len)<=10]"
   ]
  },
  {
   "cell_type": "code",
   "execution_count": 54,
   "metadata": {
    "id": "0mO5oNuS-HOC"
   },
   "outputs": [],
   "source": [
    "sample_df = sample_df[sample_df[\"excerpt\"].apply(len)>10]"
   ]
  },
  {
   "cell_type": "code",
   "execution_count": 55,
   "metadata": {
    "id": "-NzolM5A-b3E"
   },
   "outputs": [],
   "source": [
    "sample_df.reset_index(inplace=True, drop=True)"
   ]
  },
  {
   "cell_type": "code",
   "execution_count": 56,
   "metadata": {
    "colab": {
     "base_uri": "https://localhost:8080/"
    },
    "id": "LD9BPF-F-VY-",
    "outputId": "f7d37a0d-cb28-444c-8c89-b1f541bcc76b"
   },
   "outputs": [
    {
     "data": {
      "text/plain": [
       "(140, 6)"
      ]
     },
     "execution_count": 56,
     "metadata": {},
     "output_type": "execute_result"
    }
   ],
   "source": [
    "sample_df.shape"
   ]
  },
  {
   "cell_type": "markdown",
   "metadata": {
    "id": "3lXNDkIE3ryo",
    "slideshow": {
     "slide_type": "subslide"
    }
   },
   "source": [
    "## Symbolic representation"
   ]
  },
  {
   "cell_type": "markdown",
   "metadata": {
    "id": "OkXUDKlaJ7Z_"
   },
   "source": [
    "### TF-IDF (term frequency-inverse document frequency)"
   ]
  },
  {
   "cell_type": "markdown",
   "metadata": {
    "id": "l2u951-CQKxA"
   },
   "source": [
    "![](https://miro.medium.com/max/1000/1*vWWmJlDykVRkjg9c38VbxQ.png)"
   ]
  },
  {
   "cell_type": "markdown",
   "metadata": {
    "id": "dBVz4zFz4Iix"
   },
   "source": [
    "- TF-IDF is based on the Bag-of-Words (BOW) model.\n",
    "![](https://okan.cloud/posts/2021-04-08-text-vectorization-using-python-term-document-matrix/bow.png)"
   ]
  },
  {
   "cell_type": "code",
   "execution_count": 50,
   "metadata": {
    "id": "4RzA97fLWdOn"
   },
   "outputs": [],
   "source": [
    "from gensim import corpora, models"
   ]
  },
  {
   "cell_type": "markdown",
   "metadata": {
    "id": "JvjqoVDqxWBZ"
   },
   "source": [
    "- A gensim dictionary stores a mapping between words and their integer IDs."
   ]
  },
  {
   "cell_type": "code",
   "execution_count": 57,
   "metadata": {
    "colab": {
     "base_uri": "https://localhost:8080/"
    },
    "id": "Gs7idfgFvm77",
    "outputId": "b3f012ea-f7c2-4f34-8678-41d47e5ed1ab"
   },
   "outputs": [
    {
     "name": "stdout",
     "output_type": "stream",
     "text": [
      "{'位': 0, '個': 1, '填': 2, '希望': 3, '幫': 4, '秒': 5, '花': 6, '囝仔': 7, '圖是': 8, '套': 9, '想': 10, '截圖': 11, '找': 12, '校園': 13, '演唱會': 14, '用什麼': 15, '發現': 16, '草屯': 17, '衣服': 18, '該': 19, '這': 20, '關鍵字': 21, '\\U0001f972': 22, '以為': 23, '保障': 24, '先': 25, '刁難': 26, '刻意': 27, '原本': 28, '售後': 29, '因為': 30, '家': 31, '實體店': 32, '平台': 33, '念頭': 34, '打消': 35, '文會': 36, '會': 37, '有點': 38, '服務': 39, '正': 40, '比較': 41, '沒想到': 42, '糟': 43, '結論': 44, '網購': 45, '認為': 46, '說': 47, '讓': 48, '退貨': 49, '遇過': 50, '過': 51, '長': 52, '顧客': 53, '麻煩': 54, '來源': 55, '呱吉': 56, '嗎': 57, '好好': 58, '襯衫': 59, '覺得': 60, '類似': 61, '不會': 62, '假': 63, '夾': 64, '美國': 65, '臺灣': 66, '蝦皮': 67, '請': 68, '謝謝': 69, '證件': 70, '貨': 71, '買': 72, '買不到': 73, '買到': 74, '這會': 75, '還是': 76, '間': 77, '限量版': 78, '下單': 79, '什麼': 80, '入手': 81, '取消': 82, '後': 83, '斷貨': 84, '方式': 85, '訂單': 86, '請問': 87, '賣': 88, '雙鞋': 89, '´': 90, '▽': 91, '們': 92, '分享': 93, '到來': 94, '厚重': 95, '哈囉': 96, '單品': 97, '囉': 98, '大使': 99, '小魚': 100, '已經': 101, '放到': 102, '春夏': 103, '春天': 104, '歐膩': 105, '溫柔': 106, '為了': 107, '現在': 108, '穿搭': 109, '萬年': 110, '衣櫃': 111, '裡面': 112, '迎接': 113, '開箱': 114, '靴子': 115, 'ﾉ': 116, '件': 117, '來問': 118, '出來': 119, '實體': 120, '店面': 121, '想問': 122, '改短': 123, '有夠': 124, '為什麼': 125, '燒到': 126, '穿': 127, '網頁': 128, '褲子': 129, '試穿': 130, '請人': 131, '資訊': 132, '跳': 133, '近期': 134, '逛過': 135, '點': 136, '一場': 137, '三天': 138, '偏': 139, '做': 140, '兩': 141, '出遊': 142, '出門': 143, '參考': 144, '墾丁': 145, '夜': 146, '太多': 147, '帶': 148, '旅': 149, '旅程': 150, '東西': 151, '畢竟': 152, '簡單': 153, '色系': 154, '記錄': 155, '走': 156, '踏上': 157, '雖然': 158, '黑白': 159, '\\U0001f90d': 160, '代購': 161, '叫壯': 162, '小弟': 163, '怪怪': 164, '推薦': 165, '有沒有': 166, '服飾': 167, '男生': 168, '美系': 169, '賣場': 170, '韓版': 171, '體型': 172, '吸引': 173, '哪裡': 174, '問': 175, '弱弱': 176, '狐狸': 177, '脆脆': 178, '貓咪': 179, '些賣': 180, '假貨': 181, '包包': 182, '正品': 183, '直播': 184, '精品': 185, '上衣': 186, '下架': 187, '剛剛': 188, '客廳': 189, '本來': 190, '結果': 191, '詢問': 192, '🥺': 193, '女生': 194, '挺': 195, '推出': 196, '款': 197, '短袖': 198, '胸部': 199, '適合': 200, '一樣': 201, '不用': 202, '中': 203, '喜歡': 204, '塊': 205, '太': 206, '小腿': 207, '微肉': 208, '擺盪': 209, '用力': 210, '瘦子': 211, '發達': 212, '肌': 213, '胖': 214, '身材': 215, '身高': 216, '長靴': 217, '體重': 218, '丟': 219, '半夜': 220, '外套': 221, '天': 222, '實現': 223, '幾': 224, '想要': 225, '找到': 226, '整整': 227, '朋友': 228, '沒': 229, '沒有': 230, '消息': 231, '男友': 232, '網路': 233, '購買': 234, '還': 235, '難以': 236, '大四': 237, '好看': 238, '學生': 239, '選手': 240, '偶然': 241, '品牌': 242, '大戰': 243, '好心人': 244, '如題': 245, '支持': 246, '星際': 247, '正版': 248, '爬文': 249, '經': 250, '表弟': 251, '評價': 252, '送': 253, '選擇性': 254, '好了': 255, '實在': 256, '寬褲': 257, '平常': 258, '怎麼': 259, '搭': 260, '條': 261, '照片': 262, '種': 263, '練習': 264, '西裝': 265, '這樣': 266, '配了': 267, '風格': 268, '來': 269, '其實': 270, '前': 271, '十年': 272, '卡包': 273, '外': 274, '扣除': 275, '掉': 276, '次': 277, '版開': 278, '男夾': 279, '當': 280, '短夾': 281, '禮物': 282, '算是': 283, '耐操': 284, '超': 285, '零錢包': 286, '努力': 287, '女兒': 288, '媽媽': 289, '少女': 290, '幾乎': 291, '幾年': 292, '懶': 293, '手機': 294, '打扮': 295, '拍照': 296, '放棄': 297, '時期': 298, '熟女': 299, '生完': 300, '維持': 301, '裡': 302, '規格': 303, '越來越': 304, '邋遢': 305, '˂': 306, '˶': 307, '̗': 308, '̀': 309, 'ᴗ': 310, 'ᵕ': 311, '三月': 312, '不知不覺': 313, '來到': 314, '咿': 315, '嗨': 316, '回暖': 317, '天氣': 318, '嫌棄': 319, '我們': 320, '漸漸': 321, '看下去': 322, '秋冬': 323, '繼續': 324, '話': 325, '𝚌': 326, '𝚐': 327, '𝚔': 328, '𝚖': 329, '🧸': 330, '二手': 331, '五分': 332, '全新': 333, '官網': 334, '直紋': 335, '聯名': 336, '號': 337, '難過': 338, '不錯': 339, '他們': 340, '年初': 341, '無腦': 342, '版型': 343, '產品': 344, '瘋狂': 345, '真的': 346, '褲': 347, '買下': 348, '追蹤': 349, '這不': 350, '韓貨': 351, '黑色': 352, '牌子': 353, '這是': 354, 'ㄉ': 355, '身邊': 356, '類': 357, '˵': 358, '̫': 359, '᷄': 360, '᷅': 361, '⁻': 362, '好人': 363, '片': 364, '介紹': 365, '光感': 366, '全包': 367, '哭出': 368, '唇彩': 369, '唇膏': 370, '唇釉': 371, '支': 372, '沉迷': 373, '空氣': 374, '絲絨': 375, '要來': 376, '變成': 377, '那麼': 378, '錢包': 379, '開玩笑': 380, '中國': 381, '口紅': 382, '堆': 383, '大開眼界': 384, '寶庫': 385, '小紅書': 386, '想到': 387, '搜尋': 388, '淘寶': 389, '生火': 390, '眼影': 391, '笑': 392, '腮紅': 393, '開始': 394, 'B群': 395, '主打': 396, '價格': 397, '味道': 398, '屈臣氏': 399, '心得': 400, '感覺': 401, '成分': 402, '手刀': 403, '新品': 404, '昨天': 405, '果萃': 406, '枸杞': 407, '款有': 408, '甜甜': 409, '石榴': 410, '紅': 411, '維生素': 412, '美白': 413, '莓果': 414, '香': 415, '🥑': 416, '優惠': 417, '克蘭詩': 418, '入坑': 419, '印象': 420, '專屬': 421, '常會': 422, '折扣': 423, '林三益': 424, '玄玄': 425, '發': 426, '瞜': 427, '碼': 428, '蘭蔻': 429, '蠻': 430, '長會': 431, '限定組': 432, '隱藏': 433, '雅勻': 434, '一門': 435, '不厭': 436, '保養品': 437, '刺刺': 438, '大致上': 439, '妖豔': 440, '學問': 441, '小心翼翼': 442, '擦上': 443, '放心': 444, '敏感': 445, '服用': 446, '泛紅': 447, '濃郁': 448, '牌': 449, '百試': 450, '立馬': 451, '耶': 452, '醫美': 453, '香味': 454, '交友': 455, '充滿': 456, '南部': 457, '台積電': 458, '同事': 459, '單身': 460, '壓縮機': 461, '工程師': 462, '揣測': 463, '日本': 464, '根據': 465, '歲': 466, '濕氣': 467, '無塵': 468, '稀少': 469, '統計': 470, '衣裡': 471, '認識': 472, '透過': 473, '進口': 474, '一陣子': 475, '乾性': 476, '保養': 477, '刺激': 478, '嚴重': 479, '忽冷': 480, '忽熱': 481, '摧殘': 482, '狀態': 483, '穩定': 484, '肌膚': 485, '臉頰': 486, '變得': 487, '轉用': 488, '🆘': 489, '付款': 490, '以來': 491, '力點': 492, '噴': 493, '困擾': 494, '地方': 495, '嫩粉': 496, '專業': 497, '對話': 498, '從': 499, '截': 500, '排版': 501, '接觸': 502, '擦': 503, '文': 504, '是業': 505, '桃色': 506, '正文': 507, '烏唇': 508, '發文': 509, '給': 510, '罵': 511, '美妝': 512, '蜜': 513, '證明': 514, '需': 515, '首': 516, '鮭魚': 517, '🤣': 518, '下好': 519, '交替': 520, '伺機而動': 521, '出現': 522, '動動': 523, '回溫': 524, '外加': 525, '多加': 526, '感謝': 527, '戴口罩': 528, '手填': 529, '於是': 530, '晚上': 531, '極光': 532, '水': 533, '油脂': 534, '混合': 535, '琥珀': 536, '瓶': 537, '粉刺': 538, '臉': 539, '藍色': 540, '補': 541, '酸': 542, '上市': 543, '乾': 544, '剛': 545, '好久': 546, '快速': 547, '拍攝': 548, '櫃姐': 549, '滿': 550, '皆': 551, '聽': 552, '見': 553, '質地': 554, '輕薄': 555, '鏡頭': 556, '限量': 557, '霧面': 558, '顏色': 559, '亞歷山大': 560, '台北': 561, '嘗試': 562, '女孩': 563, '日式': 564, '毛文': 565, '海神': 566, '無從': 567, '版上': 568, '經驗': 569, '除毛': 570, '下標': 571, '中間': 572, '妝': 573, '弱': 574, '彩妝師': 575, '畫': 576, '精華': 577, '罐': 578, '置入': 579, '腦波': 580, '腦粉': 581, '著': 582, '超愛': 583, '身為': 584, '內包': 585, '推': 586, '會長': 587, '痘印': 588, '皮膚科': 589, '藻針': 590, '⭕': 591, '作品': 592, '前後': 593, '副': 594, '台南市': 595, '喜好': 596, '地點': 597, '對': 598, '小時': 599, '底色': 600, '拋棄式': 601, '拍': 602, '操作': 603, '收集': 604, '新手': 605, '時間': 606, '更多': 607, '有無': 608, '東區': 609, '條件': 610, '眉型': 611, '私訊': 612, '討論': 613, '設計': 614, '貼文': 615, '配合': 616, '針具': 617, '非': 618, '️': 619, '一間': 620, '仿': 621, '公司': 622, '包': 623, '各式各樣': 624, '好奇': 625, '小三': 626, '工廠': 627, '應該': 628, '特地': 629, '美日': 630, '貴': 631, '賺': 632, '辦法': 633, '長得': 634, '難道': 635, '口服': 636, '台南': 637, '療程': 638, '請教': 639, '進行': 640, '⬆': 641, '不屑': 642, '不懈': 643, '不過': 644, '先來': 645, '出沒': 646, '圖': 647, '張': 648, '摳': 649, '摸到': 650, '撒花': 651, '社區': 652, '終於': 653, '經過': 654, '脖子': 655, '貓貓': 656, '逼出來': 657, '防雷': 658, '打電話': 659, '時代': 660, '有放': 661, '桌上': 662, '母親節': 663, '熱情': 664, '統一': 665, '逛街': 666, '預購': 667, 'ω': 668, '一點': 669, '上班': 670, '低調': 671, '偏白': 672, '友善': 673, '妝容': 674, '挑': 675, '搞定': 676, '整個': 677, '百搭': 678, '盤': 679, '眼影盤': 680, '膚色': 681, '芋芋': 682, '配色': 683, '體積': 684, '鮮奶': 685, '黃皮': 686, '之類': 687, '保濕': 688, '先擋': 689, '凝膠': 690, '剛好': 691, '化妝水': 692, '層': 693, '差': 694, '年近': 695, '後來': 696, '懶得': 697, '效果': 698, '時候': 699, '月': 700, '狀況': 701, '用了': 702, '用完': 703, '皮膚': 704, '精華液': 705, '著用': 706, '蘆薈': 707, '中午': 708, '失敗': 709, '學會': 710, '實實在在': 711, '就塌': 712, '手殘': 713, '擁有': 714, '教學': 715, '早上': 716, '朋朋': 717, '朋朋們': 718, '濃密': 719, '獨角獸': 720, '睫毛': 721, '細軟': 722, '翹': 723, '黏貼': 724, '˘': 725, '久': 726, '乾爹': 727, '廢人': 728, '心到': 729, '收回來': 730, '文章': 731, '新年': 732, '明明': 733, '求': 734, '秋子': 735, '程序': 736, '篇': 737, '結束': 738, '總之': 739, '轉變': 740, '連假': 741, '開工': 742, '꒰': 743, '꒱': 744, '問問': 745, '意見': 746, '推銷': 747, '提升': 748, '暗沉': 749, '粗糙': 750, '膚況': 751, '蠟黃': 752, '諮詢': 753, '通路': 754, '進一步': 755, '防曬': 756, '不行': 757, '包裝': 758, '台灣': 759, '奢華': 760, '櫃': 761, '氣到': 762, '氣墊': 763, '滑': 764, '發售': 765, '發摟到': 766, '粉紅': 767, '花去': 768, '訊息': 769, '錢': 770, '關注': 771, '隔壁': 772, '雅詩蘭黛': 773, '˃': 774, '̀': 775, '́': 776, '̶': 777, '͈': 778, 'و': 779, '௰': 780, '上圖': 781, '勤勞': 782, '大理石': 783, '好辣': 784, '小粉': 785, '打給': 786, '更新': 787, '洗': 788, '異常': 789, '翻翻': 790, '賣關子': 791, '遮瑕': 792, '齁': 793, '亮顏': 794, '優': 795, '口罩': 796, '型': 797, '度優': 798, '懇請': 799, '我塑': 800, '抗汗': 801, '持久': 802, '持妝': 803, '沾': 804, '爆汗': 805, '粉餅': 806, '綠色': 807, '膚質': 808, '蘭芝': 809, '訴求': 810, '雅': 811, '霧感': 812, '顆': 813, 'о': 814, '∀': 815, '一盒': 816, '三盒': 817, '元': 818, '划算': 819, '原價': 820, '名': 821, '寶雅': 822, '心中': 823, '有出': 824, '特價': 825, '盒': 826, '約會': 827, '超級': 828, '逛': 829, '隔天': 830, '面膜': 831, 'ㄧ': 832, '原生': 833, '參差不齊': 834, '哈嚕': 835, '完妝': 836, '尤里': 837, '整理': 838, '有長': 839, '潛水': 840, '版': 841, '短': 842, '緊張': 843, '缺口': 844, '莫名': 845, '處理': 846, '頑固': 847, '並': 848, '友好': 849, '台美': 850, '同盟': 851, '民主': 852, '美台': 853, '俄羅斯': 854, '假設': 855, '出征': 856, '勢必': 857, '北約': 858, '國家': 859, '導致': 860, '戰爭': 861, '打贏': 862, '撒野': 863, '最多': 864, '歐洲': 865, '歸屬於': 866, '波蘭': 867, '烏克蘭': 868, '理由': 869, '發起': 870, '緊鄰': 871, '讓給': 872, '門口': 873, '宜蘭縣': 874, '屏東縣': 875, '桃園市': 876, '臺東縣': 877, '苗栗縣': 878, '高雄市': 879, '停完': 880, '好多': 881, '處分': 882, '電後': 883, '領': 884, '仔': 885, '全': 886, '台': 887, '死忠': 888, '沒電': 889, '缺電': 890, '肺電': 891, '陪': 892, '任用': 893, '冠上': 894, '喜劇': 895, '國內': 896, '地區': 897, '外國': 898, '大失': 899, '大臣': 900, '媒體': 901, '導演': 902, '得票率': 903, '擔任': 904, '斯基': 905, '民心': 906, '演員': 907, '澤倫': 908, '為': 909, '烏東': 910, '無論': 911, '爭議': 912, '片場': 913, '當選': 914, '總統': 915, '腐敗': 916, '貪污': 917, '連任': 918, '開戰': 919, '高': 920, '供電': 921, '台電': 922, '員工': 923, '認真': 924, '責無旁貸': 925, '停電': 926, '國民黨': 927, '好事': 928, '好像': 929, '懂': 930, '抓到': 931, '機會': 932, '民進黨': 933, '為何': 934, '看來': 935, '罄竹難書': 936, '記得': 937, '過什麼': 938, '雞蛋': 939, '骨頭': 940, '鬥': 941, '到民': 942, '去年': 943, '問題': 944, '執政黨': 945, '增加': 946, '洗地': 947, '為啥': 948, '苗苗': 949, '選票': 950, '電網': 951, '馬政府': 952, '麽': 953, '核食': 954, '照句': 955, '疏失': 956, '福食': 957, '答': 958, '範例': 959, '解答': 960, '造樣': 961, '開放': 962, '題目': 963, '一團': 964, '中華民國': 965, '台派': 966, '名字': 967, '戰成': 968, '爸爸': 969, '講': 970, '跳針': 971, '開示': 972, '位於': 973, '俄軍': 974, '將': 975, '拜登': 976, '持續': 977, '攻勢': 978, '札': 979, '核電廠': 980, '波羅': 981, '火災': 982, '熱': 983, '白宮': 984, '稍早': 985, '致電': 986, '起火': 987, '世界': 988, '全體': 989, '各國': 990, '幫忙': 991, '殉國': 992, '烏俄': 993, '物資': 994, '英勇': 995, '誒': 996, '軍民': 997, '這麼': 998, '位當': 999, '供應': 1000, '內': 1001, '全世界': 1002, '出錯': 1003, '台灣人': 1004, '喔': 1005, '年': 1006, '拜託': 1007, '接受': 1008, '發生': 1009, '社畜': 1010, '藉口': 1011, '設施': 1012, '說出去': 1013, '這麼多': 1014, '點腦': 1015, '一早': 1016, '今早': 1017, '傳出': 1018, '公布': 1019, '凌晨': 1020, '台股': 1021, '壓低': 1022, '市場': 1023, '幣圈': 1024, '想必': 1025, '指數': 1026, '數據': 1027, '百點': 1028, '股市': 1029, '與': 1030, '跳空': 1031, '金融': 1032, '開低': 1033, '震撼彈': 1034, '非農': 1035, '介意': 1036, '依舊': 1037, '做出': 1038, '別': 1039, '南部人': 1040, '反駁': 1041, '同意': 1042, '攜手': 1043, '救': 1044, '明知道': 1045, '當初': 1046, '肚子': 1047, '自得': 1048, '自業': 1049, '這下': 1050, '選擇': 1051, '面臨': 1052, '餓': 1053, '下午': 1054, '下山': 1055, '佔': 1056, '停工': 1057, '即將': 1058, '太陽': 1059, '太陽能板': 1060, '手電筒': 1061, '有讀': 1062, '發電量': 1063, '看好': 1064, '過書': 1065, '出手': 1066, '富豪': 1067, '布丁': 1068, '攻下': 1069, '死亡': 1070, '首都': 1071, '駭客': 1072, '一檔': 1073, '中共': 1074, '主動': 1075, '之餘': 1076, '停': 1077, '出擊': 1078, '包子': 1079, '原因': 1080, '台大': 1081, '大戲': 1082, '害怕': 1083, '攻不下': 1084, '普丁': 1085, '演了': 1086, '習': 1087, '自顧不暇': 1088, '落': 1089, '蔡': 1090, '處境': 1091, '裡應外合': 1092, '誘使': 1093, '龐佩奧': 1094, '全民': 1095, '吃': 1096, '大便': 1097, '幹': 1098, '沒事': 1099, '給力': 1100, '詩': 1101, '閒暇': 1102, '一昧': 1103, '事': 1104, '公投': 1105, '奇怪': 1106, '底下': 1107, '承擔': 1108, '投反': 1109, '時': 1110, '核四': 1111, '片罵': 1112, '留言區': 1113, '當然': 1114, '負一': 1115, '負載': 1116, '責任': 1117, '路': 1118, '中俄': 1119, '侵略': 1120, '別國': 1121, '包圍': 1122, '可見': 1123, '哽咽': 1124, '坦克': 1125, '妄想': 1126, '家親': 1127, '戰場': 1128, '無情': 1129, '留學生': 1130, '舔': 1131, '萬無一失': 1132, '裝甲車': 1133, '語氣': 1134, '輛': 1135, '逃離': 1136, '逃難': 1137, '過程': 1138, '遭': 1139, '不斷': 1140, '中國人': 1141, '中國黨': 1142, '位覺': 1143, '侯友宜': 1144, '反饋': 1145, '在狄卡': 1146, '執政': 1147, '年來': 1148, '底層': 1149, '廢料': 1150, '意外': 1151, '柯': 1152, '核': 1153, '滯台': 1154, '發表': 1155, '社會': 1156, '聲稱': 1157, '言論': 1158, '質疑': 1159, '青給': 1160, '韓粉': 1161, '高潮': 1162, '高興': 1163, '一線': 1164, '不可能': 1165, '中央社': 1166, '人員': 1167, '你們': 1168, '依法': 1169, '偵辦': 1170, '免洗': 1171, '出事': 1172, '動作': 1173, '台鐵': 1174, '地檢署': 1175, '大樓': 1176, '指出': 1177, '政': 1178, '暖市': 1179, '永遠': 1180, '燒掉': 1181, '犯錯': 1182, '發抖': 1183, '究責': 1184, '第一槍': 1185, '系統': 1186, '絕對': 1187, '調查': 1188, '通知': 1189, '開': 1190, '面': 1191, '年終': 1192, '建議': 1193, '減半': 1194, '獎金': 1195, '納稅': 1196, '紕漏': 1197, '自首': 1198, '解決': 1199, '辛苦': 1200, '領著': 1201, '高雄': 1202, '高雄人': 1203, '⋯': 1204, '下定決心': 1205, '債務': 1206, '加一加': 1207, '卻': 1208, '回頭': 1209, '多萬': 1210, '家人': 1211, '戒賭': 1212, '手上': 1213, '打算': 1214, '拿去': 1215, '有錢': 1216, '欠': 1217, '沈迷': 1218, '無力': 1219, '簽': 1220, '組頭': 1221, '總共': 1222, '總是': 1223, '賭球': 1224, '賺錢': 1225, '軍官': 1226, '還債': 1227, '開口': 1228, '一年': 1229, '付清': 1230, '公務員': 1231, '公教': 1232, '卡費': 1233, '土銀': 1234, '在職': 1235, '太慢': 1236, '存款': 1237, '客服': 1238, '審核': 1239, '專案': 1240, '工作天': 1241, '年收': 1242, '房貸': 1243, '收到': 1244, '股票': 1245, '萬': 1246, '負債': 1247, '貸': 1248, '交流': 1249, '住': 1250, '分配': 1251, '多久': 1252, '存': 1253, '定存': 1254, '年紀': 1255, '年輕': 1256, '懂事': 1257, '房屋': 1258, '投資': 1259, '標的': 1260, '現金': 1261, '筆': 1262, '綁': 1263, '萬元': 1264, '計畫': 1265, '運用': 1266, '開心': 1267, '高雄市區': 1268, '低迷': 1269, '合約': 1270, '情緒': 1271, '懵了': 1272, '打開': 1273, '整體': 1274, '暴漲暴跌': 1275, '熊市': 1276, '現貨': 1277, '盤面': 1278, '稱為': 1279, '著急': 1280, '處於': 1281, '行情': 1282, '試試': 1283, '買入': 1284, '震盪': 1285, '頁面': 1286, '體驗': 1287, '低': 1288, '匯差': 1289, '台幣': 1290, '外幣': 1291, '多文': 1292, '手續費': 1293, '漲時': 1294, '爬': 1295, '美元': 1296, '買賣': 1297, '買進': 1298, '賣掉': 1299, '轉回': 1300, '關於': 1301, '交易': 1302, '以圖': 1303, '來選': 1304, '前言': 1305, '勝率': 1306, '專研': 1307, '成效': 1308, '檢視': 1309, '現象': 1310, '程式': 1311, '策略': 1312, '要用': 1313, '語言': 1314, '軟體': 1315, '默默': 1316, '刷': 1317, '刷卡': 1318, '房': 1319, '扣掉': 1320, '搭配': 1321, '訂了': 1322, '訂房': 1323, '退掉': 1324, '過了': 1325, '郵局': 1326, '金融卡': 1327, '間房': 1328, '下班': 1329, '休假': 1330, '住家': 1331, '供吃': 1332, '偶爾': 1333, '加油': 1334, '包含': 1335, '外食': 1336, '女友': 1337, '家裡': 1338, '收入': 1339, '月薪': 1340, '煮飯': 1341, '玩': 1342, '生活': 1343, '純': 1344, '苦': 1345, '被動': 1346, '陪伴': 1347, '頂多': 1348, '並非': 1349, '人性': 1350, '作': 1351, '來臨': 1352, '克服': 1353, '區塊': 1354, '大師級': 1355, '實質': 1356, '弱點': 1357, '心態': 1358, '心理': 1359, '心魔': 1360, '成功': 1361, '戰勝': 1362, '技巧': 1363, '控制': 1364, '炒': 1365, '無': 1366, '獲利': 1367, '自我': 1368, '英雄': 1369, '誰': 1370, '較量': 1371, '鏈': 1372, '靈魂': 1373, '高手': 1374, '鬥爭': 1375, '位置': 1376, '區間': 1377, '午夜': 1378, '反彈': 1379, '受阻': 1380, '回調': 1381, '壓力': 1382, '小幅': 1383, '後續': 1384, '拉升': 1385, '探底': 1386, '昨晚': 1387, '期間': 1388, '比特幣': 1389, '波': 1390, '突破': 1391, '線': 1392, '試探性': 1393, '財神': 1394, '走勢': 1395, '隨後': 1396, '串聯': 1397, '交易所': 1398, '加密': 1399, '帳戶': 1400, '幣安': 1401, '收益': 1402, '本金': 1403, '火幣': 1404, '當日': 1405, '註記': 1406, '資金': 1407, '下殺': 1408, '下跌': 1409, '下路': 1410, '創逾': 1411, '升息': 1412, '原物料': 1413, '工業': 1414, '漲幅': 1415, '聯準會': 1416, '股': 1417, '費半': 1418, '週': 1419, '道瓊': 1420, '達克': 1421, '那斯': 1422, '飽爾': 1423, '高科技': 1424, '交易量': 1425, '來得及': 1426, '大戶': 1427, '投': 1428, '折': 1429, '指定': 1430, '更換': 1431, '營業員': 1432, '爭取': 1433, '百萬': 1434, '線上': 1435, '變': 1436, '辦': 1437, '通過': 1438, '初心': 1439, '利率': 1440, '家族': 1441, '手': 1442, '操作手機': 1443, '放': 1444, '爸媽': 1445, '獲得': 1446, '稍微': 1447, '規劃': 1448, '閒置': 1449, '元大': 1450, '想過': 1451, '槓桿': 1452, '油油': 1453, '粉絲': 1454, '肥宅': 1455, '錢會': 1456, '長期': 1457, '\\u200d': 1458, '其餘': 1459, '媽': 1460, '媽付': 1461, '存滿': 1462, '存錢': 1463, '存錢筒': 1464, '手機費': 1465, '月光族': 1466, '植牙': 1467, '美食': 1468, '舉手': 1469, '萬二': 1470, '薪資': 1471, '費': 1472, '購物': 1473, '開銷': 1474, '⠀': 1475, '一般人': 1476, '出國': 1477, '唸書': 1478, '大學': 1479, '小孩': 1480, '指': 1481, '教育金': 1482, '準備': 1483, '累積': 1484, '藉由': 1485, '談論': 1486, '費用': 1487, '較': 1488, '較長': 1489, '金額': 1490, '高等': 1491, '國泰': 1492, '據點': 1493, '旗下': 1494, '臨櫃': 1495, '證券戶': 1496, '辦理': 1497, '銀行': 1498, '開戶': 1499, '新光': 1500, '永豐': 1501, '版面': 1502, '證卷': 1503, '配置': 1504, '危險': 1505, '年化': 1506, '想法': 1507, '數百': 1508, '瞭解': 1509, '礦池': 1510, '聽到': 1511, '背後': 1512, '許多': 1513, '達到': 1514, '雙幣': 1515, '風險': 1516, '利嘛': 1517, '加碼': 1518, '感動': 1519, '變紅': 1520, '霸脫': 1521, '高點': 1522, '出借': 1523, '列表': 1524, '永豐金': 1525, '無法': 1526, '申請': 1527, '股息': 1528, '買過': 1529, '開發金': 1530, '分析': 1531, '卡': 1532, '在於': 1533, '大盤': 1534, '平日': 1535, '悲觀': 1536, '技術面': 1537, '提高': 1538, '時去': 1539, '有時': 1540, '目的': 1541, '看盤': 1542, '神明': 1543, '籌碼面': 1544, '落漆': 1545, '補強': 1546, '隨手': 1547, '面子': 1548, '佩服': 1549, '前情': 1550, '厲害': 1551, '外資': 1552, '大漲': 1553, '天下無敵': 1554, '巧合': 1555, '提': 1556, '族群': 1557, '答對': 1558, '美光': 1559, '臨晨': 1560, '航運': 1561, '調評': 1562, '難': 1563, '多去': 1564, '少新': 1565, '建商': 1566, '慘': 1567, '房仲': 1568, '房子': 1569, '持有': 1570, '捷運': 1571, '案例': 1572, '檯面': 1573, '蓋多': 1574, '賠': 1575, '賣房': 1576, '跌': 1577, '騙人': 1578, '上網': 1579, '保人': 1580, '在學': 1581, '工作': 1582, '查': 1583, '正職': 1584, '沒辦法': 1585, '能當': 1586, '頭期款': 1587, '選': 1588, '人問': 1589, '價值': 1590, '否認': 1591, '回事': 1592, '實話': 1593, '幣': 1594, '投機': 1595, '炒幣': 1596, '率是': 1597, '笨蛋': 1598, '行業': 1599, '中山': 1600, '事項': 1601, '動動手': 1602, '問卷': 1603, '單位': 1604, '國立': 1605, '填寫': 1606, '填答': 1607, '忙': 1608, '數位': 1609, '為例': 1610, '用戶': 1611, '研究': 1612, '要請': 1613, '誘因': 1614, '京子': 1615, '亮眼': 1616, '僅次於': 1617, '冠軍': 1618, '則': 1619, '剛典': 1620, '妻': 1621, '季八集': 1622, '安藤': 1623, '岩田': 1624, '成人級': 1625, '成績': 1626, '拿下': 1627, '排行': 1628, '改編': 1629, '政信': 1630, '旋即': 1631, '日劇': 1632, '曾經': 1633, '本劇': 1634, '殭屍': 1635, '漫畫': 1636, '熱播': 1637, '熱銷': 1638, '登上': 1639, '篠原涼子': 1640, '金魚': 1641, '長谷川': 1642, '開播': 1643, '黑澤': 1644, '不聞不問': 1645, '人群': 1646, '孩子': 1647, '幫助': 1648, '新': 1649, '法官': 1650, '注視': 1651, '海報': 1652, '淚目': 1653, '漠然': 1654, '理念': 1655, '發布': 1656, '立場': 1657, '羅瑾熙': 1658, '部長': 1659, '青少年': 1660, '上線': 1661, '十月': 1662, '底': 1663, '獵人': 1664, '⌚': 1665, '上架': 1666, '傳記': 1667, '冒險片': 1668, '劇情': 1669, '旗幟': 1670, '極地': 1671, '歷史': 1672, '海賊': 1673, '滿愛': 1674, '議題': 1675, '這禮拜': 1676, '電影': 1677, '霜雪': 1678, '鬼怪': 1679, '🥇': 1680, '🥈': 1681, '🥉': 1682, '原來': 1683, '搞': 1684, '笑死': 1685, '轉': 1686, '主角': 1687, '主題曲': 1688, '作為': 1689, '劇中': 1690, '告別': 1691, '崔宥莉': 1692, '心情': 1693, '心愛': 1694, '悲傷': 1695, '慢慢': 1696, '描述': 1697, '收聽': 1698, '有限': 1699, '歌手': 1700, '歌曲': 1701, '燦榮': 1702, '生命': 1703, '田美': 1704, '發行': 1705, '網站': 1706, '鄭': 1707, '音源': 1708, '一集': 1709, '三大': 1710, '了本': 1711, '全球': 1712, '厭惡': 1713, '口碑': 1714, '少年': 1715, '少年犯': 1716, '法庭': 1717, '為止': 1718, '特色': 1719, '犯罪': 1720, '發酵': 1721, '至極': 1722, '英語': 1723, '觀眾': 1724, '說明': 1725, '躍升': 1726, '金惠秀': 1727, '開宗明義': 1728, '韓國': 1729, '題材': 1730, '飾演': 1731, '首度': 1732, '不適': 1733, '佐': 1734, '律師': 1735, '文森': 1736, '殘忍': 1737, '特別': 1738, '結局': 1739, '臥床': 1740, '身體': 1741, '遊戲': 1742, '驅魔': 1743, '魷魚': 1744, '麵館': 1745, '黑道': 1746, '二十五二十一': 1747, '保重': 1748, '劇組': 1749, '南柱赫': 1750, '影響': 1751, '恢復': 1752, '播出': 1753, '新冠': 1754, '日後': 1755, '檢測': 1756, '泰梨': 1757, '為事': 1758, '確診': 1759, '肺炎': 1760, '苞娜': 1761, '週末': 1762, '金泰梨': 1763, '陰性': 1764, '隔離': 1765, '下一集': 1766, '手點': 1767, '播放': 1768, '智慧': 1769, '求助': 1770, '自動': 1771, '超過': 1772, '電腦': 1773, '電視': 1774, '受': 1775, '圖用': 1776, '失望': 1777, '好評': 1778, '密碼': 1779, '廁所': 1780, '愛上': 1781, '男女': 1782, '痛苦': 1783, '相親': 1784, '看完': 1785, '社內': 1786, '等待': 1787, '集': 1788, '集換': 1789, '順': 1790, '馬上': 1791, '劇': 1792, '合作': 1793, '審判': 1794, '律政': 1795, '日': 1796, '洪': 1797, '私生活': 1798, '編劇': 1799, '金玟錫': 1800, '鍾燦': 1801, '韓語': 1802, '년': 1803, '소': 1804, '심': 1805, '판': 1806, '一月份': 1807, '中華': 1808, '二月': 1809, '付': 1810, '份': 1811, '信用卡': 1812, '帳單': 1813, '月租費': 1814, '盜刷': 1815, '肯定': 1816, '自從': 1817, '計費': 1818, '週期': 1819, '電信': 1820, '季播': 1821, '黑鏡': 1822, '下載': 1823, '人用': 1824, '字幕': 1825, '字體': 1826, '應用': 1827, '網頁版': 1828, '同時': 1829, '觀看': 1830, '作畫': 1831, '健': 1832, '出水': 1833, '判官': 1834, '動畫': 1835, '原創': 1836, '國王': 1837, '小圓': 1838, '小畑': 1839, '巨人': 1840, '心靈': 1841, '排名': 1842, '東京': 1843, '淹水': 1844, '潮到': 1845, '虛淵玄': 1846, '製作': 1847, '角色': 1848, '進擊': 1849, '魔法': 1850, '具': 1851, '原': 1852, '娑婆': 1853, '封': 1854, '專輯': 1855, '小將': 1856, '景伊': 1857, '柔美': 1858, '毒樓': 1859, '法院': 1860, '泰成': 1861, '監製': 1862, '祭司': 1863, '紙牌屋': 1864, '細胞': 1865, '聲帶': 1866, '訶': 1867, '那一天': 1868, '配樂': 1869, '金': 1870, '雪降': 1871, '電視劇': 1872, '音樂': 1873, '黎明': 1874, '黑': 1875, '些能': 1876, '人身': 1877, '壞': 1878, '多數': 1879, '家庭': 1880, '少數': 1881, '必須': 1882, '成了': 1883, '教育出': 1884, '歸咎於': 1885, '規避': 1886, '過錯': 1887, '雖說': 1888, '名稱': 1889, '嗚': 1890, '嗚嗚': 1891, '城市': 1892, '好好笑': 1893, '捨不得': 1894, '期待': 1895, '翻拍': 1896, '聽說': 1897, '上來': 1898, '下手': 1899, '不出': 1900, '大神': 1901, '女子': 1902, '小說': 1903, '所以然': 1904, '查了': 1905, '查查': 1906, '版本': 1907, '興趣': 1908, '順序': 1909, '🤨': 1910, '一部': 1911, '保健': 1912, '傑克': 1913, '戲': 1914, '拿走': 1915, '提問': 1916, '當天': 1917, '腎上腺素': 1918, '自殺': 1919, '賽門': 1920, '小黑': 1921, '查不到': 1922, '白癡': 1923, '能用': 1924, '蘋果': 1925, '訂閱': 1926, '主演': 1927, '取自': 1928, '圍繞': 1929, '季': 1930, '季度': 1931, '極度': 1932, '秀': 1933, '節目': 1934, '簡介': 1935, '處決': 1936, '討厭': 1937, '認同': 1938, '講述': 1939, '金憓': 1940, '金武烈': 1941, '韓劇': 1942, '人權': 1943, '口號': 1944, '和平': 1945, '回應': 1946, '失': 1947, '屬於': 1948, '廣場': 1949, '抱有': 1950, '換來': 1951, '政府': 1952, '暴力': 1953, '最初': 1954, '未來': 1955, '演變成': 1956, '獨立': 1957, '當時': 1958, '發展': 1959, '百': 1960, '萬人': 1961, '血腥': 1962, '見證': 1963, '運動': 1964, '革命': 1965, '齊聚': 1966, '封面': 1967, '演唱': 1968, '熱烈': 1969, '男團': 1970, 'Д': 1971, 'ຶ': 1972, '不長': 1973, '分局': 1974, '影集': 1975, '推爆': 1976, '耐看': 1977, '荒謬': 1978, '追': 1979, '前三集': 1980, '寫實': 1981, '悶': 1982, '服裝': 1983, '板發': 1984, '格陵蘭': 1985, '正傳': 1986, '段': 1987, '海豹': 1988, '渡海': 1989, '無聊': 1990, '皮': 1991, '細緻': 1992, '老實': 1993, '考據': 1994, '船': 1995, '部': 1996, '部位': 1997, '共鳴': 1998, '大推': 1999, '性格': 2000, '提到': 2001, '海嘯': 2002, '疫情': 2003, '聲音': 2004, '討喜': 2005, '讚美': 2006, '重雷': 2007, '開頭': 2008}\n"
     ]
    }
   ],
   "source": [
    "texts = sample_df[\"toks\"].to_list()\n",
    "dictionary = corpora.Dictionary(texts)\n",
    "print(dictionary.token2id)"
   ]
  },
  {
   "cell_type": "code",
   "execution_count": 58,
   "metadata": {
    "colab": {
     "base_uri": "https://localhost:8080/"
    },
    "id": "_W7Pha8ByNbt",
    "outputId": "dcf20097-df26-435c-b63f-5c1ccb3357ac"
   },
   "outputs": [
    {
     "name": "stdout",
     "output_type": "stream",
     "text": [
      "Dictionary(2009 unique tokens: ['位', '個', '填', '希望', '幫']...)\n"
     ]
    }
   ],
   "source": [
    "print(dictionary)"
   ]
  },
  {
   "cell_type": "code",
   "execution_count": 59,
   "metadata": {
    "id": "71i19CBfq4x-"
   },
   "outputs": [],
   "source": [
    "corpus = [dictionary.doc2bow(text) for text in texts]\n",
    "tfidf = models.TfidfModel(corpus)"
   ]
  },
  {
   "cell_type": "code",
   "execution_count": 60,
   "metadata": {
    "colab": {
     "base_uri": "https://localhost:8080/"
    },
    "id": "rSneNC-hzmzM",
    "outputId": "5a560b38-d654-49cf-9ec0-6a56b2847f46"
   },
   "outputs": [
    {
     "data": {
      "text/plain": [
       "140"
      ]
     },
     "execution_count": 60,
     "metadata": {},
     "output_type": "execute_result"
    }
   ],
   "source": [
    "dictionary.num_docs"
   ]
  },
  {
   "cell_type": "markdown",
   "metadata": {
    "id": "3uO1g_ebzy-v"
   },
   "source": [
    "- You can change the value of `docid` to any number between 0 and 139."
   ]
  },
  {
   "cell_type": "code",
   "execution_count": 61,
   "metadata": {
    "colab": {
     "base_uri": "https://localhost:8080/"
    },
    "id": "UjYxfmW4zzU-",
    "outputId": "320e8c8a-5524-40dc-c56e-fb6b17c70a86"
   },
   "outputs": [
    {
     "name": "stdout",
     "output_type": "stream",
     "text": [
      "Raw sample text:\n",
      "一個是等烏克蘭首都被攻下，一個是等布丁死亡，有俄羅斯自家富豪出手了，BTW俄羅斯自家的駭客也在幫忙打布丁\n",
      "Tokens of sample text:\n",
      "['個', '烏克蘭', '首都', '攻下', '個', '布丁', '死亡', '俄羅斯', '富豪', '出手', '俄羅斯', '駭客', '幫忙', '布丁']\n"
     ]
    }
   ],
   "source": [
    "docid = 73\n",
    "raw_text_in_corpus = sample_df.loc[docid,'excerpt']\n",
    "tokens_in_raw_text = sample_df.loc[docid,'toks']\n",
    "print(\"Raw sample text:\")\n",
    "print(raw_text_in_corpus)\n",
    "print(\"Tokens of sample text:\")\n",
    "print(tokens_in_raw_text)"
   ]
  },
  {
   "cell_type": "markdown",
   "metadata": {
    "id": "O8fbzR4jz_Wk"
   },
   "source": [
    "- A gensim corpus stores a mapping between word IDs and their frequencies in a document."
   ]
  },
  {
   "cell_type": "code",
   "execution_count": 62,
   "metadata": {
    "colab": {
     "base_uri": "https://localhost:8080/"
    },
    "id": "uLP0p9hT8TaV",
    "outputId": "3e9cc8fc-3a5a-4111-b8ca-e70062ba56ed"
   },
   "outputs": [
    {
     "data": {
      "text/plain": [
       "[(1, 2),\n",
       " (854, 2),\n",
       " (868, 1),\n",
       " (991, 1),\n",
       " (1066, 1),\n",
       " (1067, 1),\n",
       " (1068, 2),\n",
       " (1069, 1),\n",
       " (1070, 1),\n",
       " (1071, 1),\n",
       " (1072, 1)]"
      ]
     },
     "execution_count": 62,
     "metadata": {},
     "output_type": "execute_result"
    }
   ],
   "source": [
    "corpus[docid]"
   ]
  },
  {
   "cell_type": "code",
   "execution_count": 63,
   "metadata": {
    "colab": {
     "base_uri": "https://localhost:8080/"
    },
    "id": "xSiB1-wz8dSD",
    "outputId": "5c2de1e0-1062-4880-f25a-6f8281c8f0ed"
   },
   "outputs": [
    {
     "name": "stdout",
     "output_type": "stream",
     "text": [
      "個 >>> occurs 2 times(s) in this doc\n",
      "俄羅斯 >>> occurs 2 times(s) in this doc\n",
      "烏克蘭 >>> occurs 1 times(s) in this doc\n",
      "幫忙 >>> occurs 1 times(s) in this doc\n",
      "出手 >>> occurs 1 times(s) in this doc\n",
      "富豪 >>> occurs 1 times(s) in this doc\n",
      "布丁 >>> occurs 2 times(s) in this doc\n",
      "攻下 >>> occurs 1 times(s) in this doc\n",
      "死亡 >>> occurs 1 times(s) in this doc\n",
      "首都 >>> occurs 1 times(s) in this doc\n",
      "駭客 >>> occurs 1 times(s) in this doc\n"
     ]
    }
   ],
   "source": [
    "for id, freq in corpus[docid]:\n",
    "    print(f\"{dictionary[id]} >>> occurs {freq} times(s) in this doc\")"
   ]
  },
  {
   "cell_type": "markdown",
   "metadata": {
    "id": "xBjIIve409I3"
   },
   "source": [
    "- A gensim model stores a mapping between word IDs and their scores as measured by that model based on the corpus."
   ]
  },
  {
   "cell_type": "code",
   "execution_count": 64,
   "metadata": {
    "colab": {
     "base_uri": "https://localhost:8080/"
    },
    "id": "uTZn9yar8zUk",
    "outputId": "656dae9d-cd49-4378-c31b-9181be99560e"
   },
   "outputs": [
    {
     "data": {
      "text/plain": [
       "[(1, 0.15147118274062674),\n",
       " (854, 0.3716399607099024),\n",
       " (868, 0.15304212827789748),\n",
       " (991, 0.23691682188324237),\n",
       " (1066, 0.2755700903370344),\n",
       " (1067, 0.2755700903370344),\n",
       " (1068, 0.5511401806740688),\n",
       " (1069, 0.2755700903370344),\n",
       " (1070, 0.2755700903370344),\n",
       " (1071, 0.2755700903370344),\n",
       " (1072, 0.2755700903370344)]"
      ]
     },
     "execution_count": 64,
     "metadata": {},
     "output_type": "execute_result"
    }
   ],
   "source": [
    "tfidf[corpus[docid]]"
   ]
  },
  {
   "cell_type": "code",
   "execution_count": 65,
   "metadata": {
    "colab": {
     "base_uri": "https://localhost:8080/"
    },
    "id": "u_P0sAfC8_a3",
    "outputId": "e2adbc38-ca04-48b3-a226-3dcda564112c"
   },
   "outputs": [
    {
     "name": "stdout",
     "output_type": "stream",
     "text": [
      "個 >>> whose tfidf is 0.15147118274062674 in the corpus\n",
      "俄羅斯 >>> whose tfidf is 0.3716399607099024 in the corpus\n",
      "烏克蘭 >>> whose tfidf is 0.15304212827789748 in the corpus\n",
      "幫忙 >>> whose tfidf is 0.23691682188324237 in the corpus\n",
      "出手 >>> whose tfidf is 0.2755700903370344 in the corpus\n",
      "富豪 >>> whose tfidf is 0.2755700903370344 in the corpus\n",
      "布丁 >>> whose tfidf is 0.5511401806740688 in the corpus\n",
      "攻下 >>> whose tfidf is 0.2755700903370344 in the corpus\n",
      "死亡 >>> whose tfidf is 0.2755700903370344 in the corpus\n",
      "首都 >>> whose tfidf is 0.2755700903370344 in the corpus\n",
      "駭客 >>> whose tfidf is 0.2755700903370344 in the corpus\n"
     ]
    }
   ],
   "source": [
    "for id, score in tfidf[corpus[docid]]:\n",
    "    print(f\"{dictionary[id]} >>> whose tfidf is {score} in the corpus\")"
   ]
  },
  {
   "cell_type": "markdown",
   "metadata": {
    "id": "lVeebTHIq_PM"
   },
   "source": [
    "- With the TF-IDF model, we can now convert any word in the corpus to a number.\n",
    "- To convert a document into number, we'll need the Document-Term Matrix (DTM).\n",
    "![](https://rlads2021.github.io/LabBook/assets/img/dtm.png)"
   ]
  },
  {
   "cell_type": "code",
   "execution_count": 66,
   "metadata": {
    "id": "-BfAFwKbmi8N"
   },
   "outputs": [],
   "source": [
    "def vectorize_doc(docid):\n",
    "    id_tfidf = tfidf[corpus[docid]]\n",
    "    vector = {dictionary[id]: tfidf for id, tfidf in id_tfidf}\n",
    "    return vector"
   ]
  },
  {
   "cell_type": "code",
   "execution_count": 67,
   "metadata": {
    "id": "xmFwewPepygj"
   },
   "outputs": [],
   "source": [
    "dtm_data = [vectorize_doc(docid) for docid in sample_df.index]\n",
    "dtm_df = pd.DataFrame(dtm_data)\n",
    "dtm_df.fillna(0, inplace=True)"
   ]
  },
  {
   "cell_type": "code",
   "execution_count": 68,
   "metadata": {
    "colab": {
     "base_uri": "https://localhost:8080/",
     "height": 487
    },
    "id": "h6jixS7yqhRL",
    "outputId": "e5f2479f-f1ed-4e98-d2fd-ffedf66636b5"
   },
   "outputs": [
    {
     "data": {
      "text/html": [
       "\n",
       "  <div id=\"df-e19b54f2-ae25-4d87-bcdd-84d9e7f20cf6\">\n",
       "    <div class=\"colab-df-container\">\n",
       "      <div>\n",
       "<style scoped>\n",
       "    .dataframe tbody tr th:only-of-type {\n",
       "        vertical-align: middle;\n",
       "    }\n",
       "\n",
       "    .dataframe tbody tr th {\n",
       "        vertical-align: top;\n",
       "    }\n",
       "\n",
       "    .dataframe thead th {\n",
       "        text-align: right;\n",
       "    }\n",
       "</style>\n",
       "<table border=\"1\" class=\"dataframe\">\n",
       "  <thead>\n",
       "    <tr style=\"text-align: right;\">\n",
       "      <th></th>\n",
       "      <th>位</th>\n",
       "      <th>個</th>\n",
       "      <th>填</th>\n",
       "      <th>希望</th>\n",
       "      <th>幫</th>\n",
       "      <th>秒</th>\n",
       "      <th>花</th>\n",
       "      <th>囝仔</th>\n",
       "      <th>圖是</th>\n",
       "      <th>套</th>\n",
       "      <th>...</th>\n",
       "      <th>大推</th>\n",
       "      <th>性格</th>\n",
       "      <th>提到</th>\n",
       "      <th>海嘯</th>\n",
       "      <th>疫情</th>\n",
       "      <th>聲音</th>\n",
       "      <th>討喜</th>\n",
       "      <th>讚美</th>\n",
       "      <th>重雷</th>\n",
       "      <th>開頭</th>\n",
       "    </tr>\n",
       "  </thead>\n",
       "  <tbody>\n",
       "    <tr>\n",
       "      <th>0</th>\n",
       "      <td>0.281965</td>\n",
       "      <td>0.155875</td>\n",
       "      <td>0.487609</td>\n",
       "      <td>0.328501</td>\n",
       "      <td>0.343826</td>\n",
       "      <td>0.487609</td>\n",
       "      <td>0.441073</td>\n",
       "      <td>0.000000</td>\n",
       "      <td>0.000000</td>\n",
       "      <td>0.000000</td>\n",
       "      <td>...</td>\n",
       "      <td>0.000000</td>\n",
       "      <td>0.000000</td>\n",
       "      <td>0.000000</td>\n",
       "      <td>0.000000</td>\n",
       "      <td>0.000000</td>\n",
       "      <td>0.000000</td>\n",
       "      <td>0.000000</td>\n",
       "      <td>0.000000</td>\n",
       "      <td>0.000000</td>\n",
       "      <td>0.000000</td>\n",
       "    </tr>\n",
       "    <tr>\n",
       "      <th>1</th>\n",
       "      <td>0.000000</td>\n",
       "      <td>0.000000</td>\n",
       "      <td>0.000000</td>\n",
       "      <td>0.000000</td>\n",
       "      <td>0.000000</td>\n",
       "      <td>0.000000</td>\n",
       "      <td>0.000000</td>\n",
       "      <td>0.292414</td>\n",
       "      <td>0.292414</td>\n",
       "      <td>0.227406</td>\n",
       "      <td>...</td>\n",
       "      <td>0.000000</td>\n",
       "      <td>0.000000</td>\n",
       "      <td>0.000000</td>\n",
       "      <td>0.000000</td>\n",
       "      <td>0.000000</td>\n",
       "      <td>0.000000</td>\n",
       "      <td>0.000000</td>\n",
       "      <td>0.000000</td>\n",
       "      <td>0.000000</td>\n",
       "      <td>0.000000</td>\n",
       "    </tr>\n",
       "    <tr>\n",
       "      <th>2</th>\n",
       "      <td>0.000000</td>\n",
       "      <td>0.000000</td>\n",
       "      <td>0.000000</td>\n",
       "      <td>0.000000</td>\n",
       "      <td>0.000000</td>\n",
       "      <td>0.000000</td>\n",
       "      <td>0.000000</td>\n",
       "      <td>0.000000</td>\n",
       "      <td>0.000000</td>\n",
       "      <td>0.000000</td>\n",
       "      <td>...</td>\n",
       "      <td>0.000000</td>\n",
       "      <td>0.000000</td>\n",
       "      <td>0.000000</td>\n",
       "      <td>0.000000</td>\n",
       "      <td>0.000000</td>\n",
       "      <td>0.000000</td>\n",
       "      <td>0.000000</td>\n",
       "      <td>0.000000</td>\n",
       "      <td>0.000000</td>\n",
       "      <td>0.000000</td>\n",
       "    </tr>\n",
       "    <tr>\n",
       "      <th>3</th>\n",
       "      <td>0.000000</td>\n",
       "      <td>0.000000</td>\n",
       "      <td>0.000000</td>\n",
       "      <td>0.000000</td>\n",
       "      <td>0.000000</td>\n",
       "      <td>0.000000</td>\n",
       "      <td>0.000000</td>\n",
       "      <td>0.000000</td>\n",
       "      <td>0.000000</td>\n",
       "      <td>0.000000</td>\n",
       "      <td>...</td>\n",
       "      <td>0.000000</td>\n",
       "      <td>0.000000</td>\n",
       "      <td>0.000000</td>\n",
       "      <td>0.000000</td>\n",
       "      <td>0.000000</td>\n",
       "      <td>0.000000</td>\n",
       "      <td>0.000000</td>\n",
       "      <td>0.000000</td>\n",
       "      <td>0.000000</td>\n",
       "      <td>0.000000</td>\n",
       "    </tr>\n",
       "    <tr>\n",
       "      <th>4</th>\n",
       "      <td>0.127547</td>\n",
       "      <td>0.070510</td>\n",
       "      <td>0.000000</td>\n",
       "      <td>0.000000</td>\n",
       "      <td>0.000000</td>\n",
       "      <td>0.000000</td>\n",
       "      <td>0.000000</td>\n",
       "      <td>0.000000</td>\n",
       "      <td>0.000000</td>\n",
       "      <td>0.000000</td>\n",
       "      <td>...</td>\n",
       "      <td>0.000000</td>\n",
       "      <td>0.000000</td>\n",
       "      <td>0.000000</td>\n",
       "      <td>0.000000</td>\n",
       "      <td>0.000000</td>\n",
       "      <td>0.000000</td>\n",
       "      <td>0.000000</td>\n",
       "      <td>0.000000</td>\n",
       "      <td>0.000000</td>\n",
       "      <td>0.000000</td>\n",
       "    </tr>\n",
       "    <tr>\n",
       "      <th>...</th>\n",
       "      <td>...</td>\n",
       "      <td>...</td>\n",
       "      <td>...</td>\n",
       "      <td>...</td>\n",
       "      <td>...</td>\n",
       "      <td>...</td>\n",
       "      <td>...</td>\n",
       "      <td>...</td>\n",
       "      <td>...</td>\n",
       "      <td>...</td>\n",
       "      <td>...</td>\n",
       "      <td>...</td>\n",
       "      <td>...</td>\n",
       "      <td>...</td>\n",
       "      <td>...</td>\n",
       "      <td>...</td>\n",
       "      <td>...</td>\n",
       "      <td>...</td>\n",
       "      <td>...</td>\n",
       "      <td>...</td>\n",
       "      <td>...</td>\n",
       "    </tr>\n",
       "    <tr>\n",
       "      <th>135</th>\n",
       "      <td>0.000000</td>\n",
       "      <td>0.000000</td>\n",
       "      <td>0.000000</td>\n",
       "      <td>0.000000</td>\n",
       "      <td>0.000000</td>\n",
       "      <td>0.000000</td>\n",
       "      <td>0.000000</td>\n",
       "      <td>0.000000</td>\n",
       "      <td>0.000000</td>\n",
       "      <td>0.000000</td>\n",
       "      <td>...</td>\n",
       "      <td>0.000000</td>\n",
       "      <td>0.000000</td>\n",
       "      <td>0.000000</td>\n",
       "      <td>0.000000</td>\n",
       "      <td>0.000000</td>\n",
       "      <td>0.000000</td>\n",
       "      <td>0.000000</td>\n",
       "      <td>0.000000</td>\n",
       "      <td>0.000000</td>\n",
       "      <td>0.000000</td>\n",
       "    </tr>\n",
       "    <tr>\n",
       "      <th>136</th>\n",
       "      <td>0.000000</td>\n",
       "      <td>0.000000</td>\n",
       "      <td>0.000000</td>\n",
       "      <td>0.000000</td>\n",
       "      <td>0.000000</td>\n",
       "      <td>0.000000</td>\n",
       "      <td>0.000000</td>\n",
       "      <td>0.000000</td>\n",
       "      <td>0.000000</td>\n",
       "      <td>0.000000</td>\n",
       "      <td>...</td>\n",
       "      <td>0.000000</td>\n",
       "      <td>0.000000</td>\n",
       "      <td>0.000000</td>\n",
       "      <td>0.000000</td>\n",
       "      <td>0.000000</td>\n",
       "      <td>0.000000</td>\n",
       "      <td>0.000000</td>\n",
       "      <td>0.000000</td>\n",
       "      <td>0.000000</td>\n",
       "      <td>0.000000</td>\n",
       "    </tr>\n",
       "    <tr>\n",
       "      <th>137</th>\n",
       "      <td>0.000000</td>\n",
       "      <td>0.000000</td>\n",
       "      <td>0.000000</td>\n",
       "      <td>0.000000</td>\n",
       "      <td>0.000000</td>\n",
       "      <td>0.000000</td>\n",
       "      <td>0.000000</td>\n",
       "      <td>0.000000</td>\n",
       "      <td>0.000000</td>\n",
       "      <td>0.000000</td>\n",
       "      <td>...</td>\n",
       "      <td>0.000000</td>\n",
       "      <td>0.000000</td>\n",
       "      <td>0.000000</td>\n",
       "      <td>0.000000</td>\n",
       "      <td>0.000000</td>\n",
       "      <td>0.000000</td>\n",
       "      <td>0.000000</td>\n",
       "      <td>0.000000</td>\n",
       "      <td>0.000000</td>\n",
       "      <td>0.000000</td>\n",
       "    </tr>\n",
       "    <tr>\n",
       "      <th>138</th>\n",
       "      <td>0.000000</td>\n",
       "      <td>0.000000</td>\n",
       "      <td>0.000000</td>\n",
       "      <td>0.000000</td>\n",
       "      <td>0.000000</td>\n",
       "      <td>0.000000</td>\n",
       "      <td>0.000000</td>\n",
       "      <td>0.000000</td>\n",
       "      <td>0.000000</td>\n",
       "      <td>0.000000</td>\n",
       "      <td>...</td>\n",
       "      <td>0.000000</td>\n",
       "      <td>0.000000</td>\n",
       "      <td>0.000000</td>\n",
       "      <td>0.000000</td>\n",
       "      <td>0.000000</td>\n",
       "      <td>0.000000</td>\n",
       "      <td>0.000000</td>\n",
       "      <td>0.000000</td>\n",
       "      <td>0.000000</td>\n",
       "      <td>0.000000</td>\n",
       "    </tr>\n",
       "    <tr>\n",
       "      <th>139</th>\n",
       "      <td>0.112257</td>\n",
       "      <td>0.062058</td>\n",
       "      <td>0.000000</td>\n",
       "      <td>0.000000</td>\n",
       "      <td>0.000000</td>\n",
       "      <td>0.000000</td>\n",
       "      <td>0.000000</td>\n",
       "      <td>0.000000</td>\n",
       "      <td>0.000000</td>\n",
       "      <td>0.000000</td>\n",
       "      <td>...</td>\n",
       "      <td>0.225801</td>\n",
       "      <td>0.225801</td>\n",
       "      <td>0.225801</td>\n",
       "      <td>0.225801</td>\n",
       "      <td>0.225801</td>\n",
       "      <td>0.225801</td>\n",
       "      <td>0.225801</td>\n",
       "      <td>0.225801</td>\n",
       "      <td>0.225801</td>\n",
       "      <td>0.225801</td>\n",
       "    </tr>\n",
       "  </tbody>\n",
       "</table>\n",
       "<p>140 rows × 2009 columns</p>\n",
       "</div>\n",
       "      <button class=\"colab-df-convert\" onclick=\"convertToInteractive('df-e19b54f2-ae25-4d87-bcdd-84d9e7f20cf6')\"\n",
       "              title=\"Convert this dataframe to an interactive table.\"\n",
       "              style=\"display:none;\">\n",
       "        \n",
       "  <svg xmlns=\"http://www.w3.org/2000/svg\" height=\"24px\"viewBox=\"0 0 24 24\"\n",
       "       width=\"24px\">\n",
       "    <path d=\"M0 0h24v24H0V0z\" fill=\"none\"/>\n",
       "    <path d=\"M18.56 5.44l.94 2.06.94-2.06 2.06-.94-2.06-.94-.94-2.06-.94 2.06-2.06.94zm-11 1L8.5 8.5l.94-2.06 2.06-.94-2.06-.94L8.5 2.5l-.94 2.06-2.06.94zm10 10l.94 2.06.94-2.06 2.06-.94-2.06-.94-.94-2.06-.94 2.06-2.06.94z\"/><path d=\"M17.41 7.96l-1.37-1.37c-.4-.4-.92-.59-1.43-.59-.52 0-1.04.2-1.43.59L10.3 9.45l-7.72 7.72c-.78.78-.78 2.05 0 2.83L4 21.41c.39.39.9.59 1.41.59.51 0 1.02-.2 1.41-.59l7.78-7.78 2.81-2.81c.8-.78.8-2.07 0-2.86zM5.41 20L4 18.59l7.72-7.72 1.47 1.35L5.41 20z\"/>\n",
       "  </svg>\n",
       "      </button>\n",
       "      \n",
       "  <style>\n",
       "    .colab-df-container {\n",
       "      display:flex;\n",
       "      flex-wrap:wrap;\n",
       "      gap: 12px;\n",
       "    }\n",
       "\n",
       "    .colab-df-convert {\n",
       "      background-color: #E8F0FE;\n",
       "      border: none;\n",
       "      border-radius: 50%;\n",
       "      cursor: pointer;\n",
       "      display: none;\n",
       "      fill: #1967D2;\n",
       "      height: 32px;\n",
       "      padding: 0 0 0 0;\n",
       "      width: 32px;\n",
       "    }\n",
       "\n",
       "    .colab-df-convert:hover {\n",
       "      background-color: #E2EBFA;\n",
       "      box-shadow: 0px 1px 2px rgba(60, 64, 67, 0.3), 0px 1px 3px 1px rgba(60, 64, 67, 0.15);\n",
       "      fill: #174EA6;\n",
       "    }\n",
       "\n",
       "    [theme=dark] .colab-df-convert {\n",
       "      background-color: #3B4455;\n",
       "      fill: #D2E3FC;\n",
       "    }\n",
       "\n",
       "    [theme=dark] .colab-df-convert:hover {\n",
       "      background-color: #434B5C;\n",
       "      box-shadow: 0px 1px 3px 1px rgba(0, 0, 0, 0.15);\n",
       "      filter: drop-shadow(0px 1px 2px rgba(0, 0, 0, 0.3));\n",
       "      fill: #FFFFFF;\n",
       "    }\n",
       "  </style>\n",
       "\n",
       "      <script>\n",
       "        const buttonEl =\n",
       "          document.querySelector('#df-e19b54f2-ae25-4d87-bcdd-84d9e7f20cf6 button.colab-df-convert');\n",
       "        buttonEl.style.display =\n",
       "          google.colab.kernel.accessAllowed ? 'block' : 'none';\n",
       "\n",
       "        async function convertToInteractive(key) {\n",
       "          const element = document.querySelector('#df-e19b54f2-ae25-4d87-bcdd-84d9e7f20cf6');\n",
       "          const dataTable =\n",
       "            await google.colab.kernel.invokeFunction('convertToInteractive',\n",
       "                                                     [key], {});\n",
       "          if (!dataTable) return;\n",
       "\n",
       "          const docLinkHtml = 'Like what you see? Visit the ' +\n",
       "            '<a target=\"_blank\" href=https://colab.research.google.com/notebooks/data_table.ipynb>data table notebook</a>'\n",
       "            + ' to learn more about interactive tables.';\n",
       "          element.innerHTML = '';\n",
       "          dataTable['output_type'] = 'display_data';\n",
       "          await google.colab.output.renderOutput(dataTable, element);\n",
       "          const docLink = document.createElement('div');\n",
       "          docLink.innerHTML = docLinkHtml;\n",
       "          element.appendChild(docLink);\n",
       "        }\n",
       "      </script>\n",
       "    </div>\n",
       "  </div>\n",
       "  "
      ],
      "text/plain": [
       "            位         個         填        希望         幫         秒         花  \\\n",
       "0    0.281965  0.155875  0.487609  0.328501  0.343826  0.487609  0.441073   \n",
       "1    0.000000  0.000000  0.000000  0.000000  0.000000  0.000000  0.000000   \n",
       "2    0.000000  0.000000  0.000000  0.000000  0.000000  0.000000  0.000000   \n",
       "3    0.000000  0.000000  0.000000  0.000000  0.000000  0.000000  0.000000   \n",
       "4    0.127547  0.070510  0.000000  0.000000  0.000000  0.000000  0.000000   \n",
       "..        ...       ...       ...       ...       ...       ...       ...   \n",
       "135  0.000000  0.000000  0.000000  0.000000  0.000000  0.000000  0.000000   \n",
       "136  0.000000  0.000000  0.000000  0.000000  0.000000  0.000000  0.000000   \n",
       "137  0.000000  0.000000  0.000000  0.000000  0.000000  0.000000  0.000000   \n",
       "138  0.000000  0.000000  0.000000  0.000000  0.000000  0.000000  0.000000   \n",
       "139  0.112257  0.062058  0.000000  0.000000  0.000000  0.000000  0.000000   \n",
       "\n",
       "           囝仔        圖是         套  ...        大推        性格        提到  \\\n",
       "0    0.000000  0.000000  0.000000  ...  0.000000  0.000000  0.000000   \n",
       "1    0.292414  0.292414  0.227406  ...  0.000000  0.000000  0.000000   \n",
       "2    0.000000  0.000000  0.000000  ...  0.000000  0.000000  0.000000   \n",
       "3    0.000000  0.000000  0.000000  ...  0.000000  0.000000  0.000000   \n",
       "4    0.000000  0.000000  0.000000  ...  0.000000  0.000000  0.000000   \n",
       "..        ...       ...       ...  ...       ...       ...       ...   \n",
       "135  0.000000  0.000000  0.000000  ...  0.000000  0.000000  0.000000   \n",
       "136  0.000000  0.000000  0.000000  ...  0.000000  0.000000  0.000000   \n",
       "137  0.000000  0.000000  0.000000  ...  0.000000  0.000000  0.000000   \n",
       "138  0.000000  0.000000  0.000000  ...  0.000000  0.000000  0.000000   \n",
       "139  0.000000  0.000000  0.000000  ...  0.225801  0.225801  0.225801   \n",
       "\n",
       "           海嘯        疫情        聲音        討喜        讚美        重雷        開頭  \n",
       "0    0.000000  0.000000  0.000000  0.000000  0.000000  0.000000  0.000000  \n",
       "1    0.000000  0.000000  0.000000  0.000000  0.000000  0.000000  0.000000  \n",
       "2    0.000000  0.000000  0.000000  0.000000  0.000000  0.000000  0.000000  \n",
       "3    0.000000  0.000000  0.000000  0.000000  0.000000  0.000000  0.000000  \n",
       "4    0.000000  0.000000  0.000000  0.000000  0.000000  0.000000  0.000000  \n",
       "..        ...       ...       ...       ...       ...       ...       ...  \n",
       "135  0.000000  0.000000  0.000000  0.000000  0.000000  0.000000  0.000000  \n",
       "136  0.000000  0.000000  0.000000  0.000000  0.000000  0.000000  0.000000  \n",
       "137  0.000000  0.000000  0.000000  0.000000  0.000000  0.000000  0.000000  \n",
       "138  0.000000  0.000000  0.000000  0.000000  0.000000  0.000000  0.000000  \n",
       "139  0.225801  0.225801  0.225801  0.225801  0.225801  0.225801  0.225801  \n",
       "\n",
       "[140 rows x 2009 columns]"
      ]
     },
     "execution_count": 68,
     "metadata": {},
     "output_type": "execute_result"
    }
   ],
   "source": [
    "dtm_df"
   ]
  },
  {
   "cell_type": "markdown",
   "metadata": {
    "id": "IEeoFdH_gPyg"
   },
   "source": [
    "- Each document can now be prepresented by a vector in 2009 dimensions."
   ]
  },
  {
   "cell_type": "code",
   "execution_count": 69,
   "metadata": {
    "colab": {
     "base_uri": "https://localhost:8080/"
    },
    "id": "4g6xu0yYtY6E",
    "outputId": "cb9b86f3-a604-4f70-a036-e909aaa65646"
   },
   "outputs": [
    {
     "name": "stdout",
     "output_type": "stream",
     "text": [
      "Text:\n",
      "一個是等烏克蘭首都被攻下，一個是等布丁死亡，有俄羅斯自家富豪出手了，BTW俄羅斯自家的駭客也在幫忙打布丁\n",
      "Vector:\n",
      "位     0.000000\n",
      "個     0.151471\n",
      "填     0.000000\n",
      "希望    0.000000\n",
      "幫     0.000000\n",
      "        ...   \n",
      "聲音    0.000000\n",
      "討喜    0.000000\n",
      "讚美    0.000000\n",
      "重雷    0.000000\n",
      "開頭    0.000000\n",
      "Name: 73, Length: 2009, dtype: float64\n"
     ]
    }
   ],
   "source": [
    "text = sample_df.loc[docid, \"excerpt\"]\n",
    "vec = dtm_df.loc[docid]\n",
    "print(f\"Text:\\n{text}\")\n",
    "print(f\"Vector:\\n{vec}\")"
   ]
  },
  {
   "cell_type": "markdown",
   "metadata": {
    "id": "HF--37xk_ZQd"
   },
   "source": [
    "- Disadvantages of TF-IDF\n",
    " - A document is represented by a vector in N dimensions (where N==size of the vocab). \n",
    " - The values of many dimensions in a vector are 0 (called `sparse vectors`).  "
   ]
  },
  {
   "cell_type": "markdown",
   "metadata": {
    "id": "CyoMu0HZtHm1",
    "slideshow": {
     "slide_type": "subslide"
    }
   },
   "source": [
    "### PCA (Principal Component Analysis)"
   ]
  },
  {
   "cell_type": "markdown",
   "metadata": {
    "id": "0qiXfYbs3VSF"
   },
   "source": [
    "- PCA, a technique for reducing dimensions\n",
    "\n",
    "![](https://miro.medium.com/max/1400/1*mgncZaKaVx9U6OCQu_m8Bg.jpeg)"
   ]
  },
  {
   "cell_type": "code",
   "execution_count": 70,
   "metadata": {
    "colab": {
     "base_uri": "https://localhost:8080/"
    },
    "id": "X__r24m-v0e7",
    "outputId": "33b056b6-51d7-4ed6-b197-a2a7638ea1d5"
   },
   "outputs": [
    {
     "name": "stderr",
     "output_type": "stream",
     "text": [
      "/usr/local/lib/python3.7/dist-packages/distributed/config.py:20: YAMLLoadWarning: calling yaml.load() without Loader=... is deprecated, as the default Loader is unsafe. Please read https://msg.pyyaml.org/load for full details.\n",
      "  defaults = yaml.load(f)\n"
     ]
    }
   ],
   "source": [
    "from sklearn.decomposition import PCA\n",
    "import numpy as np\n",
    "import plotly.express as px"
   ]
  },
  {
   "cell_type": "markdown",
   "metadata": {
    "id": "PrZSaovIfOlY"
   },
   "source": [
    "- With PCA, we can easily reduce the dimension of a document vector from 2009 to 20.\n",
    "- After the reduction, a sparse vector becomes a dense one."
   ]
  },
  {
   "cell_type": "code",
   "execution_count": 71,
   "metadata": {
    "colab": {
     "base_uri": "https://localhost:8080/"
    },
    "id": "oxma-Tcfv2kB",
    "outputId": "b6215f59-0ca4-449a-8ff8-35e3cff2b3ca"
   },
   "outputs": [
    {
     "data": {
      "text/plain": [
       "array([-0.09593937,  0.08866023,  0.07769523, -0.09343106, -0.20431264,\n",
       "        0.139582  , -0.29602169, -0.02982684, -0.24764987, -0.02938505,\n",
       "        0.04872477,  0.04076477,  0.04735796,  0.0764895 , -0.13701334,\n",
       "        0.00522563,  0.00850476,  0.03513411,  0.05439893,  0.07387785])"
      ]
     },
     "execution_count": 71,
     "metadata": {},
     "output_type": "execute_result"
    }
   ],
   "source": [
    "pca = PCA(n_components=20)\n",
    "transformed_data = pca.fit_transform(dtm_df)\n",
    "transformed_data[docid]"
   ]
  },
  {
   "cell_type": "code",
   "execution_count": 72,
   "metadata": {
    "colab": {
     "base_uri": "https://localhost:8080/"
    },
    "id": "rHjLsdSZyX0v",
    "outputId": "1b326075-8b17-4477-8ae1-f751d3deb249"
   },
   "outputs": [
    {
     "name": "stdout",
     "output_type": "stream",
     "text": [
      "Requirement already satisfied: plotly in /usr/local/lib/python3.7/dist-packages (5.6.0)\n",
      "Requirement already satisfied: six in /usr/local/lib/python3.7/dist-packages (from plotly) (1.15.0)\n",
      "Requirement already satisfied: tenacity>=6.2.0 in /usr/local/lib/python3.7/dist-packages (from plotly) (8.0.1)\n",
      "\u001b[33mWARNING: Running pip as the 'root' user can result in broken permissions and conflicting behaviour with the system package manager. It is recommended to use a virtual environment instead: https://pip.pypa.io/warnings/venv\u001b[0m\u001b[33m\n",
      "\u001b[0m"
     ]
    }
   ],
   "source": [
    "!pip install --upgrade plotly"
   ]
  },
  {
   "cell_type": "code",
   "execution_count": 73,
   "metadata": {
    "colab": {
     "base_uri": "https://localhost:8080/"
    },
    "id": "PIpa8P9Ty3FZ",
    "outputId": "2d02b395-8535-4149-cb70-5d7afde2431c"
   },
   "outputs": [
    {
     "name": "stdout",
     "output_type": "stream",
     "text": [
      "Requirement already satisfied: pyyaml==5.4.1 in /usr/local/lib/python3.7/dist-packages (5.4.1)\n",
      "\u001b[33mWARNING: Running pip as the 'root' user can result in broken permissions and conflicting behaviour with the system package manager. It is recommended to use a virtual environment instead: https://pip.pypa.io/warnings/venv\u001b[0m\u001b[33m\n",
      "\u001b[0m"
     ]
    }
   ],
   "source": [
    "!pip install pyyaml==5.4.1"
   ]
  },
  {
   "cell_type": "code",
   "execution_count": 74,
   "metadata": {
    "colab": {
     "base_uri": "https://localhost:8080/",
     "height": 542
    },
    "id": "mtNUC96X8Tfq",
    "outputId": "0bd4c718-7e86-4d38-f1c8-37e1d497b8d5"
   },
   "outputs": [
    {
     "data": {
      "text/html": [
       "<html>\n",
       "<head><meta charset=\"utf-8\" /></head>\n",
       "<body>\n",
       "    <div>            <script src=\"https://cdnjs.cloudflare.com/ajax/libs/mathjax/2.7.5/MathJax.js?config=TeX-AMS-MML_SVG\"></script><script type=\"text/javascript\">if (window.MathJax) {MathJax.Hub.Config({SVG: {font: \"STIX-Web\"}});}</script>                <script type=\"text/javascript\">window.PlotlyConfig = {MathJaxConfig: 'local'};</script>\n",
       "        <script src=\"https://cdn.plot.ly/plotly-2.9.0.min.js\"></script>                <div id=\"0acf6b87-4287-4d55-a41e-a1d46873cf8c\" class=\"plotly-graph-div\" style=\"height:525px; width:100%;\"></div>            <script type=\"text/javascript\">                                    window.PLOTLYENV=window.PLOTLYENV || {};                                    if (document.getElementById(\"0acf6b87-4287-4d55-a41e-a1d46873cf8c\")) {                    Plotly.newPlot(                        \"0acf6b87-4287-4d55-a41e-a1d46873cf8c\",                        [{\"hovertemplate\":\"# Components=%{x}<br>Explained Variance %=%{y}<extra></extra>\",\"legendgroup\":\"\",\"line\":{\"color\":\"#636efa\"},\"marker\":{\"symbol\":\"circle\"},\"mode\":\"lines\",\"name\":\"\",\"orientation\":\"v\",\"showlegend\":false,\"stackgroup\":\"1\",\"x\":[1,2,3,4,5,6,7,8,9,10,11,12,13,14,15,16,17,18,19,20,21,22,23,24,25,26,27,28,29,30,31,32,33,34,35,36,37,38,39,40,41,42,43,44,45,46,47,48,49,50,51,52,53,54,55,56,57,58,59,60,61,62,63,64,65,66,67,68,69,70,71,72,73,74,75,76,77,78,79,80,81,82,83,84,85,86,87,88,89,90,91,92,93,94,95,96,97,98,99,100,101,102,103,104,105,106,107,108,109,110,111,112,113,114,115,116,117,118,119,120],\"xaxis\":\"x\",\"y\":[1.3998883760791878,2.5766640790009476,3.736050940965008,4.8517040845458865,5.946068210494003,7.028399340563445,8.09606892721001,9.134555234942436,10.169826414072427,11.181761624708603,12.180819742215249,13.169264380470466,14.152786911423467,15.13098712710386,16.092612564091787,17.037825672061278,17.973515734204618,18.898784062619598,19.81214062808265,20.710871491682507,21.60628416082863,22.49178801004707,23.372976092554985,24.251775415531007,25.121931654372595,25.990214512165238,26.845750943965143,27.700499466678387,28.5408467925573,29.37831805038213,30.210271292917643,31.036965075378504,31.863401043278948,32.682328001395724,33.49579383666399,34.30111507763878,35.10579066929896,35.90398156679666,36.698344731696174,37.491626731297316,38.28274493585411,39.06552003790608,39.84490536949502,40.622772494027906,41.39211837400501,42.158889349595526,42.924614961674166,43.687916860042854,44.44617150079803,45.20058614177711,45.95214838260733,46.699939581632684,47.44478175381482,48.18846352776527,48.92825465582811,49.66508760751557,50.400752212389996,51.130311813015375,51.85766634232949,52.5822991688106,53.30368585779507,54.0244594879101,54.73955209055822,55.4539485795223,56.164159426049714,56.87172457356198,57.575913663648514,58.27915027929385,58.98203451233645,59.681149261039025,60.37511159976564,61.067808323924886,61.756909585136896,62.44376575010904,63.125686603447896,63.80653054845251,64.48295872613599,65.15838552212932,65.83115865337084,66.5011552641583,67.16817121486636,67.83409872979064,68.4959412677631,69.15612019049576,69.81313022017272,70.46905041405377,71.12164063274058,71.77168458400212,72.41989810526785,73.06395295839066,73.70642969015648,74.34544979773997,74.98124862707337,75.61662862231037,76.25010060290546,76.88190395674073,77.51194820591631,78.1383335459109,78.76181334166534,79.38006558674692,79.99755360933172,80.60779815515559,81.21616780255007,81.82088810481913,82.42092719067317,83.01812905999545,83.61114985628488,84.20334473225896,84.78996415582466,85.37382830076795,85.95400411389096,86.53002512099116,87.10488223513285,87.67744955335894,88.24514300598719,88.81148849618694,89.37324229548028,89.92596913872985,90.47469696502016,91.02216151145632],\"yaxis\":\"y\",\"type\":\"scatter\"}],                        {\"template\":{\"data\":{\"bar\":[{\"error_x\":{\"color\":\"#2a3f5f\"},\"error_y\":{\"color\":\"#2a3f5f\"},\"marker\":{\"line\":{\"color\":\"#E5ECF6\",\"width\":0.5},\"pattern\":{\"fillmode\":\"overlay\",\"size\":10,\"solidity\":0.2}},\"type\":\"bar\"}],\"barpolar\":[{\"marker\":{\"line\":{\"color\":\"#E5ECF6\",\"width\":0.5},\"pattern\":{\"fillmode\":\"overlay\",\"size\":10,\"solidity\":0.2}},\"type\":\"barpolar\"}],\"carpet\":[{\"aaxis\":{\"endlinecolor\":\"#2a3f5f\",\"gridcolor\":\"white\",\"linecolor\":\"white\",\"minorgridcolor\":\"white\",\"startlinecolor\":\"#2a3f5f\"},\"baxis\":{\"endlinecolor\":\"#2a3f5f\",\"gridcolor\":\"white\",\"linecolor\":\"white\",\"minorgridcolor\":\"white\",\"startlinecolor\":\"#2a3f5f\"},\"type\":\"carpet\"}],\"choropleth\":[{\"colorbar\":{\"outlinewidth\":0,\"ticks\":\"\"},\"type\":\"choropleth\"}],\"contour\":[{\"colorbar\":{\"outlinewidth\":0,\"ticks\":\"\"},\"colorscale\":[[0.0,\"#0d0887\"],[0.1111111111111111,\"#46039f\"],[0.2222222222222222,\"#7201a8\"],[0.3333333333333333,\"#9c179e\"],[0.4444444444444444,\"#bd3786\"],[0.5555555555555556,\"#d8576b\"],[0.6666666666666666,\"#ed7953\"],[0.7777777777777778,\"#fb9f3a\"],[0.8888888888888888,\"#fdca26\"],[1.0,\"#f0f921\"]],\"type\":\"contour\"}],\"contourcarpet\":[{\"colorbar\":{\"outlinewidth\":0,\"ticks\":\"\"},\"type\":\"contourcarpet\"}],\"heatmap\":[{\"colorbar\":{\"outlinewidth\":0,\"ticks\":\"\"},\"colorscale\":[[0.0,\"#0d0887\"],[0.1111111111111111,\"#46039f\"],[0.2222222222222222,\"#7201a8\"],[0.3333333333333333,\"#9c179e\"],[0.4444444444444444,\"#bd3786\"],[0.5555555555555556,\"#d8576b\"],[0.6666666666666666,\"#ed7953\"],[0.7777777777777778,\"#fb9f3a\"],[0.8888888888888888,\"#fdca26\"],[1.0,\"#f0f921\"]],\"type\":\"heatmap\"}],\"heatmapgl\":[{\"colorbar\":{\"outlinewidth\":0,\"ticks\":\"\"},\"colorscale\":[[0.0,\"#0d0887\"],[0.1111111111111111,\"#46039f\"],[0.2222222222222222,\"#7201a8\"],[0.3333333333333333,\"#9c179e\"],[0.4444444444444444,\"#bd3786\"],[0.5555555555555556,\"#d8576b\"],[0.6666666666666666,\"#ed7953\"],[0.7777777777777778,\"#fb9f3a\"],[0.8888888888888888,\"#fdca26\"],[1.0,\"#f0f921\"]],\"type\":\"heatmapgl\"}],\"histogram\":[{\"marker\":{\"pattern\":{\"fillmode\":\"overlay\",\"size\":10,\"solidity\":0.2}},\"type\":\"histogram\"}],\"histogram2d\":[{\"colorbar\":{\"outlinewidth\":0,\"ticks\":\"\"},\"colorscale\":[[0.0,\"#0d0887\"],[0.1111111111111111,\"#46039f\"],[0.2222222222222222,\"#7201a8\"],[0.3333333333333333,\"#9c179e\"],[0.4444444444444444,\"#bd3786\"],[0.5555555555555556,\"#d8576b\"],[0.6666666666666666,\"#ed7953\"],[0.7777777777777778,\"#fb9f3a\"],[0.8888888888888888,\"#fdca26\"],[1.0,\"#f0f921\"]],\"type\":\"histogram2d\"}],\"histogram2dcontour\":[{\"colorbar\":{\"outlinewidth\":0,\"ticks\":\"\"},\"colorscale\":[[0.0,\"#0d0887\"],[0.1111111111111111,\"#46039f\"],[0.2222222222222222,\"#7201a8\"],[0.3333333333333333,\"#9c179e\"],[0.4444444444444444,\"#bd3786\"],[0.5555555555555556,\"#d8576b\"],[0.6666666666666666,\"#ed7953\"],[0.7777777777777778,\"#fb9f3a\"],[0.8888888888888888,\"#fdca26\"],[1.0,\"#f0f921\"]],\"type\":\"histogram2dcontour\"}],\"mesh3d\":[{\"colorbar\":{\"outlinewidth\":0,\"ticks\":\"\"},\"type\":\"mesh3d\"}],\"parcoords\":[{\"line\":{\"colorbar\":{\"outlinewidth\":0,\"ticks\":\"\"}},\"type\":\"parcoords\"}],\"pie\":[{\"automargin\":true,\"type\":\"pie\"}],\"scatter\":[{\"marker\":{\"colorbar\":{\"outlinewidth\":0,\"ticks\":\"\"}},\"type\":\"scatter\"}],\"scatter3d\":[{\"line\":{\"colorbar\":{\"outlinewidth\":0,\"ticks\":\"\"}},\"marker\":{\"colorbar\":{\"outlinewidth\":0,\"ticks\":\"\"}},\"type\":\"scatter3d\"}],\"scattercarpet\":[{\"marker\":{\"colorbar\":{\"outlinewidth\":0,\"ticks\":\"\"}},\"type\":\"scattercarpet\"}],\"scattergeo\":[{\"marker\":{\"colorbar\":{\"outlinewidth\":0,\"ticks\":\"\"}},\"type\":\"scattergeo\"}],\"scattergl\":[{\"marker\":{\"colorbar\":{\"outlinewidth\":0,\"ticks\":\"\"}},\"type\":\"scattergl\"}],\"scattermapbox\":[{\"marker\":{\"colorbar\":{\"outlinewidth\":0,\"ticks\":\"\"}},\"type\":\"scattermapbox\"}],\"scatterpolar\":[{\"marker\":{\"colorbar\":{\"outlinewidth\":0,\"ticks\":\"\"}},\"type\":\"scatterpolar\"}],\"scatterpolargl\":[{\"marker\":{\"colorbar\":{\"outlinewidth\":0,\"ticks\":\"\"}},\"type\":\"scatterpolargl\"}],\"scatterternary\":[{\"marker\":{\"colorbar\":{\"outlinewidth\":0,\"ticks\":\"\"}},\"type\":\"scatterternary\"}],\"surface\":[{\"colorbar\":{\"outlinewidth\":0,\"ticks\":\"\"},\"colorscale\":[[0.0,\"#0d0887\"],[0.1111111111111111,\"#46039f\"],[0.2222222222222222,\"#7201a8\"],[0.3333333333333333,\"#9c179e\"],[0.4444444444444444,\"#bd3786\"],[0.5555555555555556,\"#d8576b\"],[0.6666666666666666,\"#ed7953\"],[0.7777777777777778,\"#fb9f3a\"],[0.8888888888888888,\"#fdca26\"],[1.0,\"#f0f921\"]],\"type\":\"surface\"}],\"table\":[{\"cells\":{\"fill\":{\"color\":\"#EBF0F8\"},\"line\":{\"color\":\"white\"}},\"header\":{\"fill\":{\"color\":\"#C8D4E3\"},\"line\":{\"color\":\"white\"}},\"type\":\"table\"}]},\"layout\":{\"annotationdefaults\":{\"arrowcolor\":\"#2a3f5f\",\"arrowhead\":0,\"arrowwidth\":1},\"autotypenumbers\":\"strict\",\"coloraxis\":{\"colorbar\":{\"outlinewidth\":0,\"ticks\":\"\"}},\"colorscale\":{\"diverging\":[[0,\"#8e0152\"],[0.1,\"#c51b7d\"],[0.2,\"#de77ae\"],[0.3,\"#f1b6da\"],[0.4,\"#fde0ef\"],[0.5,\"#f7f7f7\"],[0.6,\"#e6f5d0\"],[0.7,\"#b8e186\"],[0.8,\"#7fbc41\"],[0.9,\"#4d9221\"],[1,\"#276419\"]],\"sequential\":[[0.0,\"#0d0887\"],[0.1111111111111111,\"#46039f\"],[0.2222222222222222,\"#7201a8\"],[0.3333333333333333,\"#9c179e\"],[0.4444444444444444,\"#bd3786\"],[0.5555555555555556,\"#d8576b\"],[0.6666666666666666,\"#ed7953\"],[0.7777777777777778,\"#fb9f3a\"],[0.8888888888888888,\"#fdca26\"],[1.0,\"#f0f921\"]],\"sequentialminus\":[[0.0,\"#0d0887\"],[0.1111111111111111,\"#46039f\"],[0.2222222222222222,\"#7201a8\"],[0.3333333333333333,\"#9c179e\"],[0.4444444444444444,\"#bd3786\"],[0.5555555555555556,\"#d8576b\"],[0.6666666666666666,\"#ed7953\"],[0.7777777777777778,\"#fb9f3a\"],[0.8888888888888888,\"#fdca26\"],[1.0,\"#f0f921\"]]},\"colorway\":[\"#636efa\",\"#EF553B\",\"#00cc96\",\"#ab63fa\",\"#FFA15A\",\"#19d3f3\",\"#FF6692\",\"#B6E880\",\"#FF97FF\",\"#FECB52\"],\"font\":{\"color\":\"#2a3f5f\"},\"geo\":{\"bgcolor\":\"white\",\"lakecolor\":\"white\",\"landcolor\":\"#E5ECF6\",\"showlakes\":true,\"showland\":true,\"subunitcolor\":\"white\"},\"hoverlabel\":{\"align\":\"left\"},\"hovermode\":\"closest\",\"mapbox\":{\"style\":\"light\"},\"paper_bgcolor\":\"white\",\"plot_bgcolor\":\"#E5ECF6\",\"polar\":{\"angularaxis\":{\"gridcolor\":\"white\",\"linecolor\":\"white\",\"ticks\":\"\"},\"bgcolor\":\"#E5ECF6\",\"radialaxis\":{\"gridcolor\":\"white\",\"linecolor\":\"white\",\"ticks\":\"\"}},\"scene\":{\"xaxis\":{\"backgroundcolor\":\"#E5ECF6\",\"gridcolor\":\"white\",\"gridwidth\":2,\"linecolor\":\"white\",\"showbackground\":true,\"ticks\":\"\",\"zerolinecolor\":\"white\"},\"yaxis\":{\"backgroundcolor\":\"#E5ECF6\",\"gridcolor\":\"white\",\"gridwidth\":2,\"linecolor\":\"white\",\"showbackground\":true,\"ticks\":\"\",\"zerolinecolor\":\"white\"},\"zaxis\":{\"backgroundcolor\":\"#E5ECF6\",\"gridcolor\":\"white\",\"gridwidth\":2,\"linecolor\":\"white\",\"showbackground\":true,\"ticks\":\"\",\"zerolinecolor\":\"white\"}},\"shapedefaults\":{\"line\":{\"color\":\"#2a3f5f\"}},\"ternary\":{\"aaxis\":{\"gridcolor\":\"white\",\"linecolor\":\"white\",\"ticks\":\"\"},\"baxis\":{\"gridcolor\":\"white\",\"linecolor\":\"white\",\"ticks\":\"\"},\"bgcolor\":\"#E5ECF6\",\"caxis\":{\"gridcolor\":\"white\",\"linecolor\":\"white\",\"ticks\":\"\"}},\"title\":{\"x\":0.05},\"xaxis\":{\"automargin\":true,\"gridcolor\":\"white\",\"linecolor\":\"white\",\"ticks\":\"\",\"title\":{\"standoff\":15},\"zerolinecolor\":\"white\",\"zerolinewidth\":2},\"yaxis\":{\"automargin\":true,\"gridcolor\":\"white\",\"linecolor\":\"white\",\"ticks\":\"\",\"title\":{\"standoff\":15},\"zerolinecolor\":\"white\",\"zerolinewidth\":2}}},\"xaxis\":{\"anchor\":\"y\",\"domain\":[0.0,1.0],\"title\":{\"text\":\"# Components\"}},\"yaxis\":{\"anchor\":\"x\",\"domain\":[0.0,1.0],\"title\":{\"text\":\"Explained Variance %\"}},\"legend\":{\"tracegroupgap\":0},\"margin\":{\"t\":60}},                        {\"responsive\": true}                    ).then(function(){\n",
       "                            \n",
       "var gd = document.getElementById('0acf6b87-4287-4d55-a41e-a1d46873cf8c');\n",
       "var x = new MutationObserver(function (mutations, observer) {{\n",
       "        var display = window.getComputedStyle(gd).display;\n",
       "        if (!display || display === 'none') {{\n",
       "            console.log([gd, 'removed!']);\n",
       "            Plotly.purge(gd);\n",
       "            observer.disconnect();\n",
       "        }}\n",
       "}});\n",
       "\n",
       "// Listen for the removal of the full notebook cells\n",
       "var notebookContainer = gd.closest('#notebook-container');\n",
       "if (notebookContainer) {{\n",
       "    x.observe(notebookContainer, {childList: true});\n",
       "}}\n",
       "\n",
       "// Listen for the clearing of the current output cell\n",
       "var outputEl = gd.closest('.output');\n",
       "if (outputEl) {{\n",
       "    x.observe(outputEl, {childList: true});\n",
       "}}\n",
       "\n",
       "                        })                };                            </script>        </div>\n",
       "</body>\n",
       "</html>"
      ]
     },
     "metadata": {},
     "output_type": "display_data"
    }
   ],
   "source": [
    "pca = PCA(n_components=120)\n",
    "pca.fit(dtm_df)\n",
    "exp_var_cumul = np.cumsum(pca.explained_variance_ratio_ * 100)\n",
    "px.area(\n",
    "    x=range(1, exp_var_cumul.shape[0] + 1),\n",
    "    y=exp_var_cumul,\n",
    "    labels={\"x\": \"# Components\", \"y\": \"Explained Variance %\"}\n",
    ")"
   ]
  },
  {
   "cell_type": "code",
   "execution_count": 75,
   "metadata": {
    "colab": {
     "base_uri": "https://localhost:8080/",
     "height": 542
    },
    "id": "wlwFYh90xoC6",
    "outputId": "c67e451d-e567-4e23-bdbd-6331f1f8b900"
   },
   "outputs": [
    {
     "data": {
      "text/html": [
       "<html>\n",
       "<head><meta charset=\"utf-8\" /></head>\n",
       "<body>\n",
       "    <div>            <script src=\"https://cdnjs.cloudflare.com/ajax/libs/mathjax/2.7.5/MathJax.js?config=TeX-AMS-MML_SVG\"></script><script type=\"text/javascript\">if (window.MathJax) {MathJax.Hub.Config({SVG: {font: \"STIX-Web\"}});}</script>                <script type=\"text/javascript\">window.PlotlyConfig = {MathJaxConfig: 'local'};</script>\n",
       "        <script src=\"https://cdn.plot.ly/plotly-2.9.0.min.js\"></script>                <div id=\"75fd6a97-d7d0-47cb-ba2e-434d4d74fd03\" class=\"plotly-graph-div\" style=\"height:525px; width:100%;\"></div>            <script type=\"text/javascript\">                                    window.PLOTLYENV=window.PLOTLYENV || {};                                    if (document.getElementById(\"75fd6a97-d7d0-47cb-ba2e-434d4d74fd03\")) {                    Plotly.newPlot(                        \"75fd6a97-d7d0-47cb-ba2e-434d4d74fd03\",                        [{\"hovertemplate\":\"color=dressup<br>PC 1=%{x}<br>PC 2=%{y}<br>PC 3=%{z}<extra></extra>\",\"legendgroup\":\"dressup\",\"marker\":{\"color\":\"#636efa\",\"symbol\":\"circle\"},\"mode\":\"markers\",\"name\":\"dressup\",\"scene\":\"scene\",\"showlegend\":true,\"x\":[0.016415187820039763,0.20787437054520977,-0.03085002482021088,0.12985681546075556,0.08408900451578791,0.1569029207485042,0.02629379701580087,0.17628681969830318,-0.02687056226394877,0.20827385028221157,0.38355852090800135,0.10322572252305705,0.44050053716121873,0.07982671546911534,-0.02516338142842242,0.314564340488648,0.03503020638456636,0.26878285661724677,0.2089421992978265,0.07285435809349822,-0.0454776577804687,0.000984269790769194,0.31326747682943534,0.1659069428624633,0.26443321167569966,0.2722369276150871,0.44426888004499815,0.1939270774121603],\"y\":[-0.0585886321211156,-0.03147979135744821,-0.07136322077010758,-0.04732439048956831,-0.10227687250251952,0.12712053079735788,-0.052370838276752485,-0.012150618480143026,-0.03624774569578219,-0.1803728664922133,0.08399585060610602,-0.04843495861656297,-0.01733302323434298,-0.055666840665665594,-0.03798874200884608,-0.18817153117970944,-0.07648672850022697,-0.004166480535367491,-0.14477272587645973,-0.048337910048157205,-0.023735315319070718,-0.07512751340760013,-0.062294516843776016,-0.17830294714963374,-0.22104078210260564,0.6320417828827081,0.5480010639317086,0.1069293866070018],\"z\":[0.115224441842557,0.06518532332706531,-0.06665090302424773,-0.05117102781758114,0.005587094545124839,0.016988500142288674,-0.0069390434017693485,0.04486333310523944,0.06966810577728418,0.18632285901236514,-0.08534671851727207,0.24551420487267622,-0.08531094807620408,0.1201948322004889,-0.032938210446415775,-0.037887250415125286,0.057532550169693386,0.00602217918530207,-0.10880396258884699,-0.21412372896544377,0.017422207853990054,-0.029293815554980618,-0.09877300697776885,-0.24134793757343206,0.04163372323972892,0.07163241785104955,-0.053705325125767686,0.030321656588704584],\"type\":\"scatter3d\"},{\"hovertemplate\":\"color=makeup<br>PC 1=%{x}<br>PC 2=%{y}<br>PC 3=%{z}<extra></extra>\",\"legendgroup\":\"makeup\",\"marker\":{\"color\":\"#EF553B\",\"symbol\":\"circle\"},\"mode\":\"markers\",\"name\":\"makeup\",\"scene\":\"scene\",\"showlegend\":true,\"x\":[0.06423248635426387,0.020785287704577698,-0.005338552412547427,0.014233363333140691,-0.046281707714070065,-0.01996016224061321,-0.035281145812167784,0.015910579505805524,0.0017030692456568794,0.0011304599577564747,0.13748688846860174,0.07168687835252001,0.05425548559353608,-0.05868131671497716,-0.02597694691946185,0.04638553624855924,-0.016053998014581777,0.08976266099074726,0.04955062056443657,0.05964146668756988,-0.07663430443012204,0.0022612362737413887,0.07264158259673362,-0.05470628914814989,-0.02393285766285147,0.012086899466081743,-9.165628753628904e-05,-0.09841466397681153],\"y\":[-0.08613706519161031,-0.06519518555518558,-0.06113878633686816,0.07071444622908984,-0.03969845985563677,0.01851743006255451,-0.059249865724289336,-0.015437376861759576,-0.09894107497167913,-0.11773792412840522,-0.09467173084593823,-0.11929644035630159,-0.20045085263359366,-0.030988959953212315,0.060542815924112696,-0.09883157241999155,-0.13720425969953673,0.12411652206584917,-0.07463935569534128,0.08328867331711994,-0.05584948202195035,-0.046089228286814776,-0.052357685354867144,0.03128356736307408,-0.12531239984428885,-0.054538317673510445,-0.05444577828130407,-0.05409594093062376],\"z\":[-0.2213416075536124,-0.13723267431660396,-0.1157421310937894,0.05398419868319112,-0.06925941070265434,0.030691194085246645,-0.017739453354958197,-0.03958755882069103,0.17669464777770372,-0.31934273661452756,0.12412443134582608,-0.18060188448566722,0.13113621027855027,0.007906533949455048,0.021387055172169718,0.02456848543445272,0.05392633967473781,-0.16010431701961533,-0.13926968221233477,0.013986512858663753,0.011205574726445205,-0.07369451391285031,0.028272590113174415,-0.16582180420694376,-0.2588577883232444,0.01068951715434718,-0.12656898820020862,-0.049617301151029004],\"type\":\"scatter3d\"},{\"hovertemplate\":\"color=trending<br>PC 1=%{x}<br>PC 2=%{y}<br>PC 3=%{z}<extra></extra>\",\"legendgroup\":\"trending\",\"marker\":{\"color\":\"#00cc96\",\"symbol\":\"circle\"},\"mode\":\"markers\",\"name\":\"trending\",\"scene\":\"scene\",\"showlegend\":true,\"x\":[-0.08550490391937846,-0.16069873841331925,-0.06510675783424055,-0.04814462890504494,-0.09943557288673367,-0.11296808219731096,-0.060459948937718944,-0.08277328727206905,-0.0820058104013457,-0.09436596516511744,-0.01248732661870415,-0.13530638281411408,-0.09348257657193802,-0.18944585334589958,-0.13346141156308144,-0.09175590064801144,-0.09988997247483418,-0.15811707131459857,-0.1809640787247893,-0.13438953776149157,-0.05551812745061811,-0.10166719752126785,-0.09113544238106745,-0.10296378727138562,-0.09230479595545542,-0.05678847403982305],\"y\":[0.03701566166906337,0.1428681320219042,-0.05970701833601,0.026277601385367538,0.02013329968775527,0.0294808116258612,-0.014165966396282235,0.05339886168651722,-0.02333444008520932,-0.0006842198161980193,0.3167655211643034,0.07955146197764489,0.06955806359147808,0.06801147651358677,0.07955190336849674,0.10689052058391245,0.06594300726215387,0.13687794464190653,0.13322505358953343,0.07004279546024829,0.031726600747736755,0.05946440002841148,0.03231812027473474,0.007167921887000549,0.02884363977150363,0.0449672516642361],\"z\":[-0.14078211208870836,-0.06416777702294298,-0.07030294655196004,-0.017154041910486577,-0.043738700039276164,0.011463300760907572,0.012144897975001115,-0.030546240977443778,-0.055775506978560235,0.04875229010864319,-0.10852385042848496,-0.011619967277668865,0.04488780276826087,-0.059369778126200305,-0.06509242912868042,-0.10470816685454547,-0.011517508895166001,0.004850117305445444,-0.051044017482741,-0.08850731020494468,-0.0843165637604285,0.002407051285305122,-0.09058746761510938,0.04884983136025424,-0.09047128705953693,-0.11685071406514273],\"type\":\"scatter3d\"},{\"hovertemplate\":\"color=money<br>PC 1=%{x}<br>PC 2=%{y}<br>PC 3=%{z}<extra></extra>\",\"legendgroup\":\"money\",\"marker\":{\"color\":\"#ab63fa\",\"symbol\":\"circle\"},\"mode\":\"markers\",\"name\":\"money\",\"scene\":\"scene\",\"showlegend\":true,\"x\":[-0.02101573950648556,-0.07945854630056896,-0.09238013191657468,-0.053111542023066394,0.08020289945368861,-0.06118814707657865,-0.08927888086127084,-0.10423947447865602,-0.10741346464548546,-0.07400437575370954,-0.10343934502706241,-0.06027567761497174,-0.033812948984860314,-0.05678193031394479,-0.02505204748564591,-0.07476983465916047,-0.07659415570098926,-0.03700881190189795,-0.039735641680401286,-0.08263610814759627,0.046954511248013274,0.0006505050617471405,-0.041245233987368964,-0.007278396670547528,-0.06508315466665204,-0.00725461056342858,-0.02719314730186496,0.05973987989092781,-0.06674669271202793],\"y\":[-0.032498852560659465,0.007679725468886863,0.01823976188464063,-0.011895922006395842,0.042969303340313666,0.030005900287110823,0.04764416968577303,-0.045124995190194674,0.027305064368612072,-0.02614927919430085,0.0015350768930944302,0.04407617276027206,-0.06303665984749561,-0.0650326352662638,-0.07367615202174728,-0.0531997281006664,0.004335577119919258,-0.004927742368327323,-0.020510657861388937,0.010211977271181389,-0.09334701816722846,0.001027032852208413,-0.04967774628180768,-0.0017871472218388646,-0.00981808574444552,0.02574918113417247,-0.08542327786943095,0.10426744034315001,-0.003395633554941218],\"z\":[0.010020417502244748,0.018449230835984973,0.036169867652595215,-0.009157105875684675,0.2165407357711325,0.027403614006534474,-0.027443143831416314,-0.07151983594635807,0.035882556826952856,-0.010177430063995454,0.034539170139382444,0.04773380727708293,0.35623432321268406,-0.053148965730091084,-0.03068166132957259,-0.08344192280857891,-0.010528687500525425,0.1813706506383462,0.12621796565399174,0.06175561061659172,0.06259089474775138,0.16941368603472495,-0.07744165701230364,-0.06259468040146546,0.028989342230075963,0.025632592436344224,0.4144658883303687,0.01651565419106518,0.04651611251495619],\"type\":\"scatter3d\"},{\"hovertemplate\":\"color=netflix<br>PC 1=%{x}<br>PC 2=%{y}<br>PC 3=%{z}<extra></extra>\",\"legendgroup\":\"netflix\",\"marker\":{\"color\":\"#FFA15A\",\"symbol\":\"circle\"},\"mode\":\"markers\",\"name\":\"netflix\",\"scene\":\"scene\",\"showlegend\":true,\"x\":[-0.06015834972268309,0.003433990763980952,0.06516238906195938,-0.017026324142035316,-0.06444608664176796,-0.0663712919392217,-0.13990469290710417,0.036071743376980686,-0.05625890533217918,-0.023748674592726716,-0.040256161930768995,-0.13931338164942564,-0.053458186550629255,0.14717418121309425,-0.04043921151775328,0.0443237223230412,-0.052793938351015,-0.06312138636441844,0.01651182843126747,-0.09166769471560024,0.06601247423531802,0.026066095257158087,0.05847554868831281,-0.12047254861589572,-0.11821344665415315,-0.08755150367548153,0.061752865547266306,-0.031127767050324228,-0.030405692806592322],\"y\":[0.03446459716058081,-0.05320287580563843,-0.009035374268420993,-0.08894241766173791,0.006972993460156755,-0.0010705878184030908,0.10807544815632882,-0.04681472576846182,0.0017439534260990342,-0.023795868824863585,-0.038196621294087026,0.0950281460118503,-0.027571427602391656,-0.003492148613006558,0.012925452816031465,-0.019604506083000985,0.002530981173136906,0.012472905940230391,0.30297220332338615,-0.00547067094598277,-0.07260082648956429,0.07013735543925637,0.014972921111864925,0.11441148851154372,0.00834478039418557,0.007707902873119458,-0.008496835918116138,0.022965427480140427,-0.05537426179639288],\"z\":[0.01826325386792964,0.11869126698081912,0.006410054978173344,0.09641432438964921,-0.016726341513125246,-0.019512285228510978,0.13897861118129168,-0.028936807443998444,0.002680219945243023,0.029498698838218953,-0.053913977176895375,0.1546230318728741,0.01968815070549194,0.19503150966041582,0.10039542052979601,0.18855561296582388,0.027356560826643405,0.06844984282781318,-0.018120747800918238,-0.050791119345012355,0.11875531586064043,0.04003310788761651,-0.015126458709089782,0.16361792810649267,-0.06580345700752,-0.061287160741687996,-0.010305239891934583,-0.005576674782232184,-0.08554156751255135],\"type\":\"scatter3d\"}],                        {\"template\":{\"data\":{\"bar\":[{\"error_x\":{\"color\":\"#2a3f5f\"},\"error_y\":{\"color\":\"#2a3f5f\"},\"marker\":{\"line\":{\"color\":\"#E5ECF6\",\"width\":0.5},\"pattern\":{\"fillmode\":\"overlay\",\"size\":10,\"solidity\":0.2}},\"type\":\"bar\"}],\"barpolar\":[{\"marker\":{\"line\":{\"color\":\"#E5ECF6\",\"width\":0.5},\"pattern\":{\"fillmode\":\"overlay\",\"size\":10,\"solidity\":0.2}},\"type\":\"barpolar\"}],\"carpet\":[{\"aaxis\":{\"endlinecolor\":\"#2a3f5f\",\"gridcolor\":\"white\",\"linecolor\":\"white\",\"minorgridcolor\":\"white\",\"startlinecolor\":\"#2a3f5f\"},\"baxis\":{\"endlinecolor\":\"#2a3f5f\",\"gridcolor\":\"white\",\"linecolor\":\"white\",\"minorgridcolor\":\"white\",\"startlinecolor\":\"#2a3f5f\"},\"type\":\"carpet\"}],\"choropleth\":[{\"colorbar\":{\"outlinewidth\":0,\"ticks\":\"\"},\"type\":\"choropleth\"}],\"contour\":[{\"colorbar\":{\"outlinewidth\":0,\"ticks\":\"\"},\"colorscale\":[[0.0,\"#0d0887\"],[0.1111111111111111,\"#46039f\"],[0.2222222222222222,\"#7201a8\"],[0.3333333333333333,\"#9c179e\"],[0.4444444444444444,\"#bd3786\"],[0.5555555555555556,\"#d8576b\"],[0.6666666666666666,\"#ed7953\"],[0.7777777777777778,\"#fb9f3a\"],[0.8888888888888888,\"#fdca26\"],[1.0,\"#f0f921\"]],\"type\":\"contour\"}],\"contourcarpet\":[{\"colorbar\":{\"outlinewidth\":0,\"ticks\":\"\"},\"type\":\"contourcarpet\"}],\"heatmap\":[{\"colorbar\":{\"outlinewidth\":0,\"ticks\":\"\"},\"colorscale\":[[0.0,\"#0d0887\"],[0.1111111111111111,\"#46039f\"],[0.2222222222222222,\"#7201a8\"],[0.3333333333333333,\"#9c179e\"],[0.4444444444444444,\"#bd3786\"],[0.5555555555555556,\"#d8576b\"],[0.6666666666666666,\"#ed7953\"],[0.7777777777777778,\"#fb9f3a\"],[0.8888888888888888,\"#fdca26\"],[1.0,\"#f0f921\"]],\"type\":\"heatmap\"}],\"heatmapgl\":[{\"colorbar\":{\"outlinewidth\":0,\"ticks\":\"\"},\"colorscale\":[[0.0,\"#0d0887\"],[0.1111111111111111,\"#46039f\"],[0.2222222222222222,\"#7201a8\"],[0.3333333333333333,\"#9c179e\"],[0.4444444444444444,\"#bd3786\"],[0.5555555555555556,\"#d8576b\"],[0.6666666666666666,\"#ed7953\"],[0.7777777777777778,\"#fb9f3a\"],[0.8888888888888888,\"#fdca26\"],[1.0,\"#f0f921\"]],\"type\":\"heatmapgl\"}],\"histogram\":[{\"marker\":{\"pattern\":{\"fillmode\":\"overlay\",\"size\":10,\"solidity\":0.2}},\"type\":\"histogram\"}],\"histogram2d\":[{\"colorbar\":{\"outlinewidth\":0,\"ticks\":\"\"},\"colorscale\":[[0.0,\"#0d0887\"],[0.1111111111111111,\"#46039f\"],[0.2222222222222222,\"#7201a8\"],[0.3333333333333333,\"#9c179e\"],[0.4444444444444444,\"#bd3786\"],[0.5555555555555556,\"#d8576b\"],[0.6666666666666666,\"#ed7953\"],[0.7777777777777778,\"#fb9f3a\"],[0.8888888888888888,\"#fdca26\"],[1.0,\"#f0f921\"]],\"type\":\"histogram2d\"}],\"histogram2dcontour\":[{\"colorbar\":{\"outlinewidth\":0,\"ticks\":\"\"},\"colorscale\":[[0.0,\"#0d0887\"],[0.1111111111111111,\"#46039f\"],[0.2222222222222222,\"#7201a8\"],[0.3333333333333333,\"#9c179e\"],[0.4444444444444444,\"#bd3786\"],[0.5555555555555556,\"#d8576b\"],[0.6666666666666666,\"#ed7953\"],[0.7777777777777778,\"#fb9f3a\"],[0.8888888888888888,\"#fdca26\"],[1.0,\"#f0f921\"]],\"type\":\"histogram2dcontour\"}],\"mesh3d\":[{\"colorbar\":{\"outlinewidth\":0,\"ticks\":\"\"},\"type\":\"mesh3d\"}],\"parcoords\":[{\"line\":{\"colorbar\":{\"outlinewidth\":0,\"ticks\":\"\"}},\"type\":\"parcoords\"}],\"pie\":[{\"automargin\":true,\"type\":\"pie\"}],\"scatter\":[{\"marker\":{\"colorbar\":{\"outlinewidth\":0,\"ticks\":\"\"}},\"type\":\"scatter\"}],\"scatter3d\":[{\"line\":{\"colorbar\":{\"outlinewidth\":0,\"ticks\":\"\"}},\"marker\":{\"colorbar\":{\"outlinewidth\":0,\"ticks\":\"\"}},\"type\":\"scatter3d\"}],\"scattercarpet\":[{\"marker\":{\"colorbar\":{\"outlinewidth\":0,\"ticks\":\"\"}},\"type\":\"scattercarpet\"}],\"scattergeo\":[{\"marker\":{\"colorbar\":{\"outlinewidth\":0,\"ticks\":\"\"}},\"type\":\"scattergeo\"}],\"scattergl\":[{\"marker\":{\"colorbar\":{\"outlinewidth\":0,\"ticks\":\"\"}},\"type\":\"scattergl\"}],\"scattermapbox\":[{\"marker\":{\"colorbar\":{\"outlinewidth\":0,\"ticks\":\"\"}},\"type\":\"scattermapbox\"}],\"scatterpolar\":[{\"marker\":{\"colorbar\":{\"outlinewidth\":0,\"ticks\":\"\"}},\"type\":\"scatterpolar\"}],\"scatterpolargl\":[{\"marker\":{\"colorbar\":{\"outlinewidth\":0,\"ticks\":\"\"}},\"type\":\"scatterpolargl\"}],\"scatterternary\":[{\"marker\":{\"colorbar\":{\"outlinewidth\":0,\"ticks\":\"\"}},\"type\":\"scatterternary\"}],\"surface\":[{\"colorbar\":{\"outlinewidth\":0,\"ticks\":\"\"},\"colorscale\":[[0.0,\"#0d0887\"],[0.1111111111111111,\"#46039f\"],[0.2222222222222222,\"#7201a8\"],[0.3333333333333333,\"#9c179e\"],[0.4444444444444444,\"#bd3786\"],[0.5555555555555556,\"#d8576b\"],[0.6666666666666666,\"#ed7953\"],[0.7777777777777778,\"#fb9f3a\"],[0.8888888888888888,\"#fdca26\"],[1.0,\"#f0f921\"]],\"type\":\"surface\"}],\"table\":[{\"cells\":{\"fill\":{\"color\":\"#EBF0F8\"},\"line\":{\"color\":\"white\"}},\"header\":{\"fill\":{\"color\":\"#C8D4E3\"},\"line\":{\"color\":\"white\"}},\"type\":\"table\"}]},\"layout\":{\"annotationdefaults\":{\"arrowcolor\":\"#2a3f5f\",\"arrowhead\":0,\"arrowwidth\":1},\"autotypenumbers\":\"strict\",\"coloraxis\":{\"colorbar\":{\"outlinewidth\":0,\"ticks\":\"\"}},\"colorscale\":{\"diverging\":[[0,\"#8e0152\"],[0.1,\"#c51b7d\"],[0.2,\"#de77ae\"],[0.3,\"#f1b6da\"],[0.4,\"#fde0ef\"],[0.5,\"#f7f7f7\"],[0.6,\"#e6f5d0\"],[0.7,\"#b8e186\"],[0.8,\"#7fbc41\"],[0.9,\"#4d9221\"],[1,\"#276419\"]],\"sequential\":[[0.0,\"#0d0887\"],[0.1111111111111111,\"#46039f\"],[0.2222222222222222,\"#7201a8\"],[0.3333333333333333,\"#9c179e\"],[0.4444444444444444,\"#bd3786\"],[0.5555555555555556,\"#d8576b\"],[0.6666666666666666,\"#ed7953\"],[0.7777777777777778,\"#fb9f3a\"],[0.8888888888888888,\"#fdca26\"],[1.0,\"#f0f921\"]],\"sequentialminus\":[[0.0,\"#0d0887\"],[0.1111111111111111,\"#46039f\"],[0.2222222222222222,\"#7201a8\"],[0.3333333333333333,\"#9c179e\"],[0.4444444444444444,\"#bd3786\"],[0.5555555555555556,\"#d8576b\"],[0.6666666666666666,\"#ed7953\"],[0.7777777777777778,\"#fb9f3a\"],[0.8888888888888888,\"#fdca26\"],[1.0,\"#f0f921\"]]},\"colorway\":[\"#636efa\",\"#EF553B\",\"#00cc96\",\"#ab63fa\",\"#FFA15A\",\"#19d3f3\",\"#FF6692\",\"#B6E880\",\"#FF97FF\",\"#FECB52\"],\"font\":{\"color\":\"#2a3f5f\"},\"geo\":{\"bgcolor\":\"white\",\"lakecolor\":\"white\",\"landcolor\":\"#E5ECF6\",\"showlakes\":true,\"showland\":true,\"subunitcolor\":\"white\"},\"hoverlabel\":{\"align\":\"left\"},\"hovermode\":\"closest\",\"mapbox\":{\"style\":\"light\"},\"paper_bgcolor\":\"white\",\"plot_bgcolor\":\"#E5ECF6\",\"polar\":{\"angularaxis\":{\"gridcolor\":\"white\",\"linecolor\":\"white\",\"ticks\":\"\"},\"bgcolor\":\"#E5ECF6\",\"radialaxis\":{\"gridcolor\":\"white\",\"linecolor\":\"white\",\"ticks\":\"\"}},\"scene\":{\"xaxis\":{\"backgroundcolor\":\"#E5ECF6\",\"gridcolor\":\"white\",\"gridwidth\":2,\"linecolor\":\"white\",\"showbackground\":true,\"ticks\":\"\",\"zerolinecolor\":\"white\"},\"yaxis\":{\"backgroundcolor\":\"#E5ECF6\",\"gridcolor\":\"white\",\"gridwidth\":2,\"linecolor\":\"white\",\"showbackground\":true,\"ticks\":\"\",\"zerolinecolor\":\"white\"},\"zaxis\":{\"backgroundcolor\":\"#E5ECF6\",\"gridcolor\":\"white\",\"gridwidth\":2,\"linecolor\":\"white\",\"showbackground\":true,\"ticks\":\"\",\"zerolinecolor\":\"white\"}},\"shapedefaults\":{\"line\":{\"color\":\"#2a3f5f\"}},\"ternary\":{\"aaxis\":{\"gridcolor\":\"white\",\"linecolor\":\"white\",\"ticks\":\"\"},\"baxis\":{\"gridcolor\":\"white\",\"linecolor\":\"white\",\"ticks\":\"\"},\"bgcolor\":\"#E5ECF6\",\"caxis\":{\"gridcolor\":\"white\",\"linecolor\":\"white\",\"ticks\":\"\"}},\"title\":{\"x\":0.05},\"xaxis\":{\"automargin\":true,\"gridcolor\":\"white\",\"linecolor\":\"white\",\"ticks\":\"\",\"title\":{\"standoff\":15},\"zerolinecolor\":\"white\",\"zerolinewidth\":2},\"yaxis\":{\"automargin\":true,\"gridcolor\":\"white\",\"linecolor\":\"white\",\"ticks\":\"\",\"title\":{\"standoff\":15},\"zerolinecolor\":\"white\",\"zerolinewidth\":2}}},\"scene\":{\"domain\":{\"x\":[0.0,1.0],\"y\":[0.0,1.0]},\"xaxis\":{\"title\":{\"text\":\"PC 1\"}},\"yaxis\":{\"title\":{\"text\":\"PC 2\"}},\"zaxis\":{\"title\":{\"text\":\"PC 3\"}}},\"legend\":{\"title\":{\"text\":\"color\"},\"tracegroupgap\":0},\"title\":{\"text\":\"Total explained variance: 3.70%\"}},                        {\"responsive\": true}                    ).then(function(){\n",
       "                            \n",
       "var gd = document.getElementById('75fd6a97-d7d0-47cb-ba2e-434d4d74fd03');\n",
       "var x = new MutationObserver(function (mutations, observer) {{\n",
       "        var display = window.getComputedStyle(gd).display;\n",
       "        if (!display || display === 'none') {{\n",
       "            console.log([gd, 'removed!']);\n",
       "            Plotly.purge(gd);\n",
       "            observer.disconnect();\n",
       "        }}\n",
       "}});\n",
       "\n",
       "// Listen for the removal of the full notebook cells\n",
       "var notebookContainer = gd.closest('#notebook-container');\n",
       "if (notebookContainer) {{\n",
       "    x.observe(notebookContainer, {childList: true});\n",
       "}}\n",
       "\n",
       "// Listen for the clearing of the current output cell\n",
       "var outputEl = gd.closest('.output');\n",
       "if (outputEl) {{\n",
       "    x.observe(outputEl, {childList: true});\n",
       "}}\n",
       "\n",
       "                        })                };                            </script>        </div>\n",
       "</body>\n",
       "</html>"
      ]
     },
     "metadata": {},
     "output_type": "display_data"
    }
   ],
   "source": [
    "pca = PCA(n_components=3)\n",
    "components = pca.fit_transform(dtm_df)\n",
    "total_var = pca.explained_variance_ratio_.sum() * 100\n",
    "px.scatter_3d(\n",
    "    components, x=0, y=1, z=2, color=sample_df['forum_en'],\n",
    "    title=f'Total explained variance: {total_var:.2f}%',\n",
    "    labels={'0': 'PC 1', '1': 'PC 2', '2': 'PC 3'}\n",
    ")"
   ]
  },
  {
   "cell_type": "code",
   "execution_count": 76,
   "metadata": {
    "id": "LL_oz8AXt37J"
   },
   "outputs": [],
   "source": [
    "from gensim import similarities"
   ]
  },
  {
   "cell_type": "code",
   "execution_count": 77,
   "metadata": {
    "id": "oeu2TKmet5Cj"
   },
   "outputs": [],
   "source": [
    "def search_by_tfidf(tokenized_text: list) -> tuple:\n",
    "  vec_bow = dictionary.doc2bow(tokenized_text)\n",
    "  vec_tfidf = tfidf[vec_bow]\n",
    "  index = similarities.MatrixSimilarity(tfidf[corpus])  \n",
    "  sims = index[vec_tfidf]  \n",
    "  sims = sorted(enumerate(sims), key=lambda item: item[1], reverse=True)\n",
    "  indexes = [tup[0] for tup in sims]\n",
    "  scores = [tup[1] for tup in sims]\n",
    "  return (indexes, scores)"
   ]
  },
  {
   "cell_type": "markdown",
   "metadata": {
    "id": "vrJJ2eJ-3UVS"
   },
   "source": [
    "- You can change the value of `docid` to any number between 0 and 149."
   ]
  },
  {
   "cell_type": "code",
   "execution_count": 78,
   "metadata": {
    "colab": {
     "base_uri": "https://localhost:8080/",
     "height": 641
    },
    "id": "KzD8H43quNUU",
    "outputId": "bd069c9c-a7cb-4bb7-9e69-3e70fd23f16e"
   },
   "outputs": [
    {
     "data": {
      "text/html": [
       "\n",
       "  <div id=\"df-9d5d1468-e783-488c-9355-85dc94b9da30\">\n",
       "    <div class=\"colab-df-container\">\n",
       "      <div>\n",
       "<style scoped>\n",
       "    .dataframe tbody tr th:only-of-type {\n",
       "        vertical-align: middle;\n",
       "    }\n",
       "\n",
       "    .dataframe tbody tr th {\n",
       "        vertical-align: top;\n",
       "    }\n",
       "\n",
       "    .dataframe thead th {\n",
       "        text-align: right;\n",
       "    }\n",
       "</style>\n",
       "<table border=\"1\" class=\"dataframe\">\n",
       "  <thead>\n",
       "    <tr style=\"text-align: right;\">\n",
       "      <th></th>\n",
       "      <th>excerpt</th>\n",
       "      <th>forum_en</th>\n",
       "      <th>forum_zh</th>\n",
       "      <th>tfidf_sim</th>\n",
       "    </tr>\n",
       "  </thead>\n",
       "  <tbody>\n",
       "    <tr>\n",
       "      <th>73</th>\n",
       "      <td>一個是等烏克蘭首都被攻下，一個是等布丁死亡，有俄羅斯自家富豪出手了，BTW俄羅斯自家的駭客也...</td>\n",
       "      <td>trending</td>\n",
       "      <td>時事</td>\n",
       "      <td>1.000000</td>\n",
       "    </tr>\n",
       "    <tr>\n",
       "      <th>57</th>\n",
       "      <td>現在最多支持俄羅斯發起戰爭的理由就是這個了，假設今天俄羅斯打贏了，烏克蘭歸屬於俄羅斯，結果北...</td>\n",
       "      <td>trending</td>\n",
       "      <td>時事</td>\n",
       "      <td>0.253894</td>\n",
       "    </tr>\n",
       "    <tr>\n",
       "      <th>74</th>\n",
       "      <td>全台大停電我只想只有一個原因！，美國看到俄羅斯就攻不下烏克蘭，想要在俄羅斯自顧不暇之餘誘使中...</td>\n",
       "      <td>trending</td>\n",
       "      <td>時事</td>\n",
       "      <td>0.119545</td>\n",
       "    </tr>\n",
       "    <tr>\n",
       "      <th>68</th>\n",
       "      <td>誒，烏俄戰爭都打這麼久了 ，世界各國只是物資上的幫忙，是想要看烏克蘭全體軍民英勇殉國嗎？</td>\n",
       "      <td>trending</td>\n",
       "      <td>時事</td>\n",
       "      <td>0.083784</td>\n",
       "    </tr>\n",
       "    <tr>\n",
       "      <th>70</th>\n",
       "      <td>想必有操作金融市場的朋友，不管是股市或幣圈，今早都來了一個震撼彈。台股指數跳空開低4百點，幣...</td>\n",
       "      <td>trending</td>\n",
       "      <td>時事</td>\n",
       "      <td>0.069376</td>\n",
       "    </tr>\n",
       "    <tr>\n",
       "      <th>...</th>\n",
       "      <td>...</td>\n",
       "      <td>...</td>\n",
       "      <td>...</td>\n",
       "      <td>...</td>\n",
       "    </tr>\n",
       "    <tr>\n",
       "      <th>128</th>\n",
       "      <td>《少年法院》的原聲帶配樂由音樂導演金泰成監製，電影有「1987：黎明到來的那一天」「黑祭司」...</td>\n",
       "      <td>netflix</td>\n",
       "      <td>Netflix</td>\n",
       "      <td>0.000000</td>\n",
       "    </tr>\n",
       "    <tr>\n",
       "      <th>130</th>\n",
       "      <td>第一次看到城市名稱這麼有感覺的 好好笑，真的好捨不得結束哦嗚嗚嗚，聽說韓國要翻拍了，期待期待！</td>\n",
       "      <td>netflix</td>\n",
       "      <td>Netflix</td>\n",
       "      <td>0.000000</td>\n",
       "    </tr>\n",
       "    <tr>\n",
       "      <th>136</th>\n",
       "      <td>《二十五，二十一》第五首原聲帶歌曲由男團SEVENTEEN的DK來擔任，在當DK要演唱原聲帶...</td>\n",
       "      <td>netflix</td>\n",
       "      <td>Netflix</td>\n",
       "      <td>0.000000</td>\n",
       "    </tr>\n",
       "    <tr>\n",
       "      <th>137</th>\n",
       "      <td>我想問有沒有類似荒謬分局那種一集時間不長，但是很耐看，很多季的影集嗎（；´༎ຶД༎ຶ`），最...</td>\n",
       "      <td>netflix</td>\n",
       "      <td>Netflix</td>\n",
       "      <td>0.000000</td>\n",
       "    </tr>\n",
       "    <tr>\n",
       "      <th>138</th>\n",
       "      <td>借板發一下，感謝。1這部老實講比正傳悶，悶很多，有點小失望，看前三集除了格陵蘭人渡海那段，其...</td>\n",
       "      <td>netflix</td>\n",
       "      <td>Netflix</td>\n",
       "      <td>0.000000</td>\n",
       "    </tr>\n",
       "  </tbody>\n",
       "</table>\n",
       "<p>140 rows × 4 columns</p>\n",
       "</div>\n",
       "      <button class=\"colab-df-convert\" onclick=\"convertToInteractive('df-9d5d1468-e783-488c-9355-85dc94b9da30')\"\n",
       "              title=\"Convert this dataframe to an interactive table.\"\n",
       "              style=\"display:none;\">\n",
       "        \n",
       "  <svg xmlns=\"http://www.w3.org/2000/svg\" height=\"24px\"viewBox=\"0 0 24 24\"\n",
       "       width=\"24px\">\n",
       "    <path d=\"M0 0h24v24H0V0z\" fill=\"none\"/>\n",
       "    <path d=\"M18.56 5.44l.94 2.06.94-2.06 2.06-.94-2.06-.94-.94-2.06-.94 2.06-2.06.94zm-11 1L8.5 8.5l.94-2.06 2.06-.94-2.06-.94L8.5 2.5l-.94 2.06-2.06.94zm10 10l.94 2.06.94-2.06 2.06-.94-2.06-.94-.94-2.06-.94 2.06-2.06.94z\"/><path d=\"M17.41 7.96l-1.37-1.37c-.4-.4-.92-.59-1.43-.59-.52 0-1.04.2-1.43.59L10.3 9.45l-7.72 7.72c-.78.78-.78 2.05 0 2.83L4 21.41c.39.39.9.59 1.41.59.51 0 1.02-.2 1.41-.59l7.78-7.78 2.81-2.81c.8-.78.8-2.07 0-2.86zM5.41 20L4 18.59l7.72-7.72 1.47 1.35L5.41 20z\"/>\n",
       "  </svg>\n",
       "      </button>\n",
       "      \n",
       "  <style>\n",
       "    .colab-df-container {\n",
       "      display:flex;\n",
       "      flex-wrap:wrap;\n",
       "      gap: 12px;\n",
       "    }\n",
       "\n",
       "    .colab-df-convert {\n",
       "      background-color: #E8F0FE;\n",
       "      border: none;\n",
       "      border-radius: 50%;\n",
       "      cursor: pointer;\n",
       "      display: none;\n",
       "      fill: #1967D2;\n",
       "      height: 32px;\n",
       "      padding: 0 0 0 0;\n",
       "      width: 32px;\n",
       "    }\n",
       "\n",
       "    .colab-df-convert:hover {\n",
       "      background-color: #E2EBFA;\n",
       "      box-shadow: 0px 1px 2px rgba(60, 64, 67, 0.3), 0px 1px 3px 1px rgba(60, 64, 67, 0.15);\n",
       "      fill: #174EA6;\n",
       "    }\n",
       "\n",
       "    [theme=dark] .colab-df-convert {\n",
       "      background-color: #3B4455;\n",
       "      fill: #D2E3FC;\n",
       "    }\n",
       "\n",
       "    [theme=dark] .colab-df-convert:hover {\n",
       "      background-color: #434B5C;\n",
       "      box-shadow: 0px 1px 3px 1px rgba(0, 0, 0, 0.15);\n",
       "      filter: drop-shadow(0px 1px 2px rgba(0, 0, 0, 0.3));\n",
       "      fill: #FFFFFF;\n",
       "    }\n",
       "  </style>\n",
       "\n",
       "      <script>\n",
       "        const buttonEl =\n",
       "          document.querySelector('#df-9d5d1468-e783-488c-9355-85dc94b9da30 button.colab-df-convert');\n",
       "        buttonEl.style.display =\n",
       "          google.colab.kernel.accessAllowed ? 'block' : 'none';\n",
       "\n",
       "        async function convertToInteractive(key) {\n",
       "          const element = document.querySelector('#df-9d5d1468-e783-488c-9355-85dc94b9da30');\n",
       "          const dataTable =\n",
       "            await google.colab.kernel.invokeFunction('convertToInteractive',\n",
       "                                                     [key], {});\n",
       "          if (!dataTable) return;\n",
       "\n",
       "          const docLinkHtml = 'Like what you see? Visit the ' +\n",
       "            '<a target=\"_blank\" href=https://colab.research.google.com/notebooks/data_table.ipynb>data table notebook</a>'\n",
       "            + ' to learn more about interactive tables.';\n",
       "          element.innerHTML = '';\n",
       "          dataTable['output_type'] = 'display_data';\n",
       "          await google.colab.output.renderOutput(dataTable, element);\n",
       "          const docLink = document.createElement('div');\n",
       "          docLink.innerHTML = docLinkHtml;\n",
       "          element.appendChild(docLink);\n",
       "        }\n",
       "      </script>\n",
       "    </div>\n",
       "  </div>\n",
       "  "
      ],
      "text/plain": [
       "                                               excerpt  forum_en forum_zh  \\\n",
       "73   一個是等烏克蘭首都被攻下，一個是等布丁死亡，有俄羅斯自家富豪出手了，BTW俄羅斯自家的駭客也...  trending       時事   \n",
       "57   現在最多支持俄羅斯發起戰爭的理由就是這個了，假設今天俄羅斯打贏了，烏克蘭歸屬於俄羅斯，結果北...  trending       時事   \n",
       "74   全台大停電我只想只有一個原因！，美國看到俄羅斯就攻不下烏克蘭，想要在俄羅斯自顧不暇之餘誘使中...  trending       時事   \n",
       "68        誒，烏俄戰爭都打這麼久了 ，世界各國只是物資上的幫忙，是想要看烏克蘭全體軍民英勇殉國嗎？  trending       時事   \n",
       "70   想必有操作金融市場的朋友，不管是股市或幣圈，今早都來了一個震撼彈。台股指數跳空開低4百點，幣...  trending       時事   \n",
       "..                                                 ...       ...      ...   \n",
       "128  《少年法院》的原聲帶配樂由音樂導演金泰成監製，電影有「1987：黎明到來的那一天」「黑祭司」...   netflix  Netflix   \n",
       "130    第一次看到城市名稱這麼有感覺的 好好笑，真的好捨不得結束哦嗚嗚嗚，聽說韓國要翻拍了，期待期待！   netflix  Netflix   \n",
       "136  《二十五，二十一》第五首原聲帶歌曲由男團SEVENTEEN的DK來擔任，在當DK要演唱原聲帶...   netflix  Netflix   \n",
       "137  我想問有沒有類似荒謬分局那種一集時間不長，但是很耐看，很多季的影集嗎（；´༎ຶД༎ຶ`），最...   netflix  Netflix   \n",
       "138  借板發一下，感謝。1這部老實講比正傳悶，悶很多，有點小失望，看前三集除了格陵蘭人渡海那段，其...   netflix  Netflix   \n",
       "\n",
       "     tfidf_sim  \n",
       "73    1.000000  \n",
       "57    0.253894  \n",
       "74    0.119545  \n",
       "68    0.083784  \n",
       "70    0.069376  \n",
       "..         ...  \n",
       "128   0.000000  \n",
       "130   0.000000  \n",
       "136   0.000000  \n",
       "137   0.000000  \n",
       "138   0.000000  \n",
       "\n",
       "[140 rows x 4 columns]"
      ]
     },
     "execution_count": 78,
     "metadata": {},
     "output_type": "execute_result"
    }
   ],
   "source": [
    "docid = 73\n",
    "tokens_in_raw_text = sample_df.loc[docid,'toks']\n",
    "indexes, scores = search_by_tfidf(tokens_in_raw_text)\n",
    "results_df = sample_df.loc[indexes][['excerpt', 'forum_en', 'forum_zh']]\n",
    "results_df['tfidf_sim'] = scores\n",
    "results_df"
   ]
  },
  {
   "cell_type": "markdown",
   "metadata": {
    "id": "Pu-zI1kx5kB1",
    "slideshow": {
     "slide_type": "subslide"
    }
   },
   "source": [
    "## Distributional representation"
   ]
  },
  {
   "cell_type": "markdown",
   "metadata": {
    "id": "v-_6NTbOm4m3"
   },
   "source": [
    "> Distributional hypothesis: Linguistic items with similar distributions have similar meanings. [(Wikipedia)](https://en.wikipedia.org/wiki/Distributional_semantics)"
   ]
  },
  {
   "cell_type": "markdown",
   "metadata": {
    "id": "9VrjxDV1Ounm"
   },
   "source": [
    "![](https://slideplayer.com/slide/12147948/71/images/10/John+Rupert+Firth+You+shall+know+a+word+by+the+company+it+keeps.jpg)\n"
   ]
  },
  {
   "cell_type": "markdown",
   "metadata": {
    "id": "8xImkr2Rpzoa"
   },
   "source": [
    "### word2vec"
   ]
  },
  {
   "cell_type": "markdown",
   "metadata": {
    "id": "vrDXEni7urxs"
   },
   "source": [
    "- Input: number of all unique words\n",
    "- Output: dimensions of a word vector\n",
    "![](https://miro.medium.com/max/1000/1*1O5gLhOg25HviI8bwZxV4g.png)"
   ]
  },
  {
   "cell_type": "markdown",
   "metadata": {
    "id": "T452ZOBJTyy-"
   },
   "source": [
    "- Window size: 5\n",
    "- Training mission: predict the targt word from context words\n",
    "- Target word: the word in blue\n",
    "- Context words: the words in red\n",
    "\n",
    "![](https://twice22.github.io/images/word2vec/cbow-example.png)"
   ]
  },
  {
   "cell_type": "markdown",
   "metadata": {
    "id": "nyntvYrEAINY"
   },
   "source": [
    "- A token is represented by a 300-dimension dense vector."
   ]
  },
  {
   "cell_type": "code",
   "execution_count": 79,
   "metadata": {
    "colab": {
     "base_uri": "https://localhost:8080/"
    },
    "id": "zIAjhmYl4_US",
    "outputId": "cb5c2deb-50f3-48c8-acd7-ee40f1bbe3db"
   },
   "outputs": [
    {
     "data": {
      "text/plain": [
       "array([ 2.2328  , -1.1713  , -3.3528  , -1.1691  , -0.26724 ,  4.4476  ,\n",
       "       -0.66089 ,  2.6248  , -1.5367  , -2.8449  , -4.0233  ,  1.5727  ,\n",
       "        1.978   ,  2.7964  ,  1.003   ,  0.29978 ,  0.056525,  3.7048  ,\n",
       "        2.0446  ,  2.2452  , -5.7184  ,  0.77814 , -1.8383  , -0.017231,\n",
       "       -1.91    , -6.4355  , -4.6737  , -0.13519 ,  0.66087 , -1.6718  ,\n",
       "        3.5934  ,  2.3382  , -4.5406  ,  1.6124  , -2.2361  , -6.0387  ,\n",
       "       -3.4078  ,  1.1304  ,  0.80933 ,  1.9734  ,  2.3314  , -0.9882  ,\n",
       "       -1.1947  ,  2.2628  , -1.3687  , -6.4278  ,  0.15906 ,  0.047335,\n",
       "       -2.8157  , -1.6407  ,  2.4385  , -0.84336 ,  3.081   ,  5.9188  ,\n",
       "       -1.3019  ,  1.2971  ,  7.2325  ,  2.9722  , -0.45552 ,  1.5148  ,\n",
       "       -1.1193  ,  3.8739  ,  1.482   , -2.4657  ,  1.4627  , -3.562   ,\n",
       "       -2.1737  , -1.4306  ,  3.4363  , -1.2796  , -1.4106  ,  2.2146  ,\n",
       "        2.9325  , -2.5172  ,  2.7192  , -0.84556 , -2.5362  ,  2.2079  ,\n",
       "       -3.2217  , -2.2081  ,  4.6204  ,  0.98445 , -0.53713 ,  1.5325  ,\n",
       "        0.60471 ,  1.774   ,  2.5593  ,  4.8882  , -2.9012  ,  0.56529 ,\n",
       "       -0.16369 , -2.6124  , -0.89601 ,  3.6279  , -3.0837  ,  7.4534  ,\n",
       "        5.5267  ,  0.30507 , -0.21904 ,  2.1489  , -3.5027  , -2.8241  ,\n",
       "        1.7284  , -1.7447  ,  0.05638 , -7.6138  , -3.8239  , -0.44218 ,\n",
       "        2.7571  ,  2.5495  , -3.6081  , -0.30223 ,  2.2124  , -0.82708 ,\n",
       "       -1.4102  , -0.81168 , -1.8045  ,  1.6797  , -0.43188 , -2.769   ,\n",
       "       -4.9266  ,  1.0018  ,  0.022032,  1.6223  , -0.097899,  1.541   ,\n",
       "       -4.1115  , -4.2305  , -2.0175  , -2.7113  ,  1.8462  ,  1.115   ,\n",
       "       -2.4203  ,  7.1492  , -1.3467  ,  5.1815  , -1.6418  , -0.90401 ,\n",
       "       -0.030428,  2.4756  , -3.3246  ,  1.2715  , -3.9147  , -2.4505  ,\n",
       "       -1.9256  ,  0.61014 ,  1.52    ,  0.20039 ,  6.3868  , -3.6932  ,\n",
       "       -0.25369 ,  1.993   ,  1.2806  , -1.4946  , -3.8367  ,  0.44791 ,\n",
       "        2.2502  ,  2.687   , -1.9332  ,  1.6963  ,  3.1247  , -4.6094  ,\n",
       "       -0.90111 ,  4.4618  , -5.5256  , -0.044889, -1.496   ,  2.8646  ,\n",
       "        1.9181  ,  0.82574 ,  0.024646, -4.0564  ,  1.1392  , -1.8365  ,\n",
       "       -0.38447 ,  0.063265,  1.2402  , -0.45659 , -1.7064  , -3.4588  ,\n",
       "       -0.23503 , -3.1285  , -2.8034  ,  2.1534  , -1.2622  , -4.0139  ,\n",
       "       -3.3527  ,  3.9156  ,  4.1822  , -1.1544  , -1.8433  , -3.4078  ,\n",
       "        0.43852 , -1.3131  , -0.92715 ,  4.6758  ,  1.8561  ,  3.4259  ,\n",
       "        1.2407  , -0.10015 , -0.4736  , -1.1884  ,  2.5849  , -1.7642  ,\n",
       "       -5.4619  ,  2.8648  ,  5.4742  , -1.9069  ,  0.87298 , -3.3007  ,\n",
       "        0.64926 ,  1.2753  ,  0.57441 ,  5.3602  ,  3.4332  , -3.4726  ,\n",
       "        0.41052 , -4.5747  ,  1.3222  ,  0.64865 , -1.7875  ,  0.68921 ,\n",
       "       -0.16166 ,  2.2868  ,  0.91401 ,  1.388   ,  7.0462  , -1.5426  ,\n",
       "        0.47719 , -3.237   , -1.0982  ,  4.7626  ,  3.4092  , -0.2124  ,\n",
       "       -0.4526  ,  4.4247  , -0.83311 , -0.99074 ,  2.1257  , -0.91728 ,\n",
       "        2.3176  ,  0.91452 , -1.436   ,  2.2201  ,  0.90931 , -0.46145 ,\n",
       "       -1.7671  , -1.594   ,  1.4875  , -3.7585  , -3.826   ,  4.4597  ,\n",
       "       -8.0136  , -1.7391  , -4.4454  ,  1.2797  ,  1.2241  , -0.85194 ,\n",
       "        0.42698 , -0.9868  , -5.0362  , -6.1074  ,  3.8487  ,  3.2342  ,\n",
       "        1.6124  , -1.2368  , -1.0743  , -1.1119  ,  2.7379  ,  4.4379  ,\n",
       "        3.8747  ,  0.83282 , -4.6553  , -1.303   , -0.27529 , -1.2466  ,\n",
       "       -1.5356  , -4.7198  , -5.2186  ,  1.2375  ,  1.3111  , -0.26792 ,\n",
       "        0.79845 , -0.25837 ,  2.2433  , -2.5042  ,  2.5327  ,  1.6947  ,\n",
       "       -3.1678  , -0.55927 , -1.17    , -1.2356  ,  0.3977  ,  1.8565  ,\n",
       "       -1.4511  ,  2.0813  ,  1.5979  , -0.50737 ,  2.5565  ,  0.63113 ],\n",
       "      dtype=float32)"
      ]
     },
     "execution_count": 79,
     "metadata": {},
     "output_type": "execute_result"
    }
   ],
   "source": [
    "doc = nlp(\"教授\")\n",
    "tok = doc[0]\n",
    "tok.vector"
   ]
  },
  {
   "cell_type": "code",
   "execution_count": 80,
   "metadata": {
    "colab": {
     "base_uri": "https://localhost:8080/"
    },
    "id": "Ki7NEt5G5J8X",
    "outputId": "8737fef6-88fb-4b33-cae2-e02da2132a56"
   },
   "outputs": [
    {
     "data": {
      "text/plain": [
       "(300,)"
      ]
     },
     "execution_count": 80,
     "metadata": {},
     "output_type": "execute_result"
    }
   ],
   "source": [
    "tok.vector.shape"
   ]
  },
  {
   "cell_type": "markdown",
   "metadata": {
    "id": "9sJXminV-TJq"
   },
   "source": [
    "- You can try to replace the values of `word_1`, `word_2`, and `word_3` to other Chinese words."
   ]
  },
  {
   "cell_type": "code",
   "execution_count": 81,
   "metadata": {
    "colab": {
     "base_uri": "https://localhost:8080/"
    },
    "id": "Fzf2Dyi46Ciz",
    "outputId": "d02cbed4-872b-45b6-a1ad-f614f7ff5419"
   },
   "outputs": [
    {
     "name": "stdout",
     "output_type": "stream",
     "text": [
      "Distance btn Word 1 and 2: 0.27085748314857483\n",
      "Distance btn Word 1 and 3: 0.8141297101974487\n"
     ]
    }
   ],
   "source": [
    "word_1 = nlp.vocab[\"高興\"]\n",
    "word_2 = nlp.vocab[\"高雄\"]\n",
    "word_3 = nlp.vocab[\"開心\"]\n",
    "word_1_word_2 = word_1.similarity(word_2)\n",
    "word_1_word_3 = word_1.similarity(word_3)\n",
    "print(f\"Distance btn Word 1 and 2: {word_1_word_2}\")\n",
    "print(f\"Distance btn Word 1 and 3: {word_1_word_3}\")"
   ]
  },
  {
   "cell_type": "markdown",
   "metadata": {
    "id": "oOVU5VCCq1f1"
   },
   "source": [
    "- Cosine similarity \n",
    "\n",
    "![](https://datascience-enthusiast.com/figures/cosine_sim.png)"
   ]
  },
  {
   "cell_type": "markdown",
   "metadata": {
    "id": "KS14jgQ190Mn"
   },
   "source": [
    "- Formula for calculating cosine similarity between two vectors\n",
    "\n",
    "![](https://miro.medium.com/max/1400/1*LfW66-WsYkFqWc4XYJbEJg.png)"
   ]
  },
  {
   "cell_type": "markdown",
   "metadata": {
    "id": "_2tIZ_U-Atex"
   },
   "source": [
    "- You can replace the numbers `79`, `80`, and `139` with any number between 0 and 139."
   ]
  },
  {
   "cell_type": "code",
   "execution_count": 82,
   "metadata": {
    "colab": {
     "base_uri": "https://localhost:8080/"
    },
    "id": "7-rEkZAo_SKx",
    "outputId": "8220ae9c-3fe5-4fbf-abf1-29964c8482f6"
   },
   "outputs": [
    {
     "name": "stdout",
     "output_type": "stream",
     "text": [
      "Text 1 > 一個是等烏克蘭首都被攻下，一個是等布丁死亡，有俄羅斯自家富豪出手了，BTW俄羅斯自家的駭客也在幫忙打布丁\n",
      "Text 2 > 全台大停電我只想只有一個原因！，美國看到俄羅斯就攻不下烏克蘭，想要在俄羅斯自顧不暇之餘誘使中共主動出擊，龐佩奧才和蔡總統裡應外合演了停電的一檔大戲！，雖然習包子害怕自己落的跟普丁一樣的處境，在台灣大停\n",
      "Text 3 > #重雷，因為版上都是讚美的聲音…，其實幾位主角性格都很討喜，只是太多人大大大推了 個人看了反而有點小失望，第一集開頭用2020疫情和1997金融海嘯來提到，「時代影響了很多人」也覺得很有共鳴，因為我們\n"
     ]
    }
   ],
   "source": [
    "text_1 = sample_df.loc[73, \"excerpt\"]\n",
    "text_2 = sample_df.loc[74, \"excerpt\"]\n",
    "text_3 = sample_df.loc[139, \"excerpt\"]\n",
    "print(f\"Text 1 > {text_1}\")\n",
    "print(f\"Text 2 > {text_2}\")\n",
    "print(f\"Text 3 > {text_3}\")"
   ]
  },
  {
   "cell_type": "code",
   "execution_count": 83,
   "metadata": {
    "colab": {
     "base_uri": "https://localhost:8080/"
    },
    "id": "tPlwok0w-rMy",
    "outputId": "48f36583-2425-4542-fdd2-3640897dcff9"
   },
   "outputs": [
    {
     "name": "stdout",
     "output_type": "stream",
     "text": [
      "Distance btn Text 1 and 2: 0.9008373137883697\n",
      "Distance btn Text 1 and 3: 0.8674700824214483\n"
     ]
    }
   ],
   "source": [
    "doc_1 = nlp(text_1)\n",
    "doc_2 = nlp(text_2)\n",
    "doc_3 = nlp(text_3)\n",
    "doc_1_doc_2 = doc_1.similarity(doc_2)\n",
    "doc_1_doc_3 = doc_1.similarity(doc_3)\n",
    "print(f\"Distance btn Text 1 and 2: {doc_1_doc_2}\")\n",
    "print(f\"Distance btn Text 1 and 3: {doc_1_doc_3}\")"
   ]
  },
  {
   "cell_type": "markdown",
   "metadata": {
    "id": "DYZKLawWCEvg"
   },
   "source": [
    "- If you're trying to be creative, feel free to replace the sentences for `doc01`, `doc02`, and `doc03` with any Chinese texts."
   ]
  },
  {
   "cell_type": "code",
   "execution_count": 84,
   "metadata": {
    "colab": {
     "base_uri": "https://localhost:8080/"
    },
    "id": "frKEFxotBsPE",
    "outputId": "532d5879-bf86-4fdc-ad2c-4a109231d052"
   },
   "outputs": [
    {
     "name": "stdout",
     "output_type": "stream",
     "text": [
      "Distance btn Text 1 and 2: 0.5731685167538273\n",
      "Distance btn Text 1 and 3: 0.4037113663445769\n"
     ]
    }
   ],
   "source": [
    "doc01 = nlp(\"防Omicron威脅 一至三類今起可打第3劑\")\n",
    "doc02 = nlp(\"第3劑開打…賣場設站隨到隨打 首波4.8萬人符資格\")\n",
    "doc03 = nlp(\"西半部低溫特報 全台平地最冷在基隆僅8度\")\n",
    "sim01 = doc01.similarity(doc02)\n",
    "sim02 = doc01.similarity(doc03)\n",
    "print(f\"Distance btn Text 1 and 2: {sim01}\")\n",
    "print(f\"Distance btn Text 1 and 3: {sim02}\")"
   ]
  },
  {
   "cell_type": "markdown",
   "metadata": {
    "id": "cbZ5DtHe5oyt",
    "slideshow": {
     "slide_type": "subslide"
    }
   },
   "source": [
    "## Distributed representation"
   ]
  },
  {
   "cell_type": "markdown",
   "metadata": {
    "id": "dcCvPiO7IDtB"
   },
   "source": [
    "### Transformer"
   ]
  },
  {
   "cell_type": "markdown",
   "metadata": {
    "id": "76piHJgqIF0Z"
   },
   "source": [
    "- Transformer is a deep learning architecture for transforming one sequence to another. \n",
    "- It's the foundation of many state-of-the-art models, including BERT and GPT.\n",
    "\n",
    "![](https://factored.ai/wp-content/uploads/2021/09/image4.png)"
   ]
  },
  {
   "cell_type": "markdown",
   "metadata": {
    "id": "Ph-ej5e1JHJA"
   },
   "source": [
    "- Disadvantages of distributional representation like word2vec\n",
    "    - A given token is represented by the same vector irrespective of its context.\n",
    "    ![](https://cdn.cultofmac.com/wp-content/uploads/2013/08/tumblr_li341fpH611qe0hneo1_1280.jpg)\n",
    "\n"
   ]
  },
  {
   "cell_type": "markdown",
   "metadata": {
    "id": "WItMdwsKNy-z"
   },
   "source": [
    "- Disadvantages of distributional representation like word2vec\n",
    "    - A word out of the vocabulary scope has no vector.\n",
    "    ![](https://cdn1.vectorstock.com/i/1000x1000/22/85/404-error-page-not-found-with-computer-vector-26642285.jpg)"
   ]
  },
  {
   "cell_type": "markdown",
   "metadata": {
    "id": "quXLd07yLpLS"
   },
   "source": [
    "- Disadvantages of distributional representation like word2vec\n",
    "    - The relationship holding between words may go beyond the window size.\n",
    "    ![](https://pbs.twimg.com/media/EkK0r3TXgAIFZoM.jpg)"
   ]
  },
  {
   "cell_type": "markdown",
   "metadata": {
    "id": "zhEQ_bOMM779"
   },
   "source": [
    "- Transformer solves all these problems and its killing feature is self-attention.\n",
    "![](https://jalammar.github.io/images/t/transformer_self-attention_visualization_3.png)"
   ]
  },
  {
   "cell_type": "markdown",
   "metadata": {
    "id": "STGiQDMlPDP6",
    "slideshow": {
     "slide_type": "slide"
    }
   },
   "source": [
    "# Transfer learning"
   ]
  },
  {
   "cell_type": "markdown",
   "metadata": {
    "id": "mG8WT_W1P3ce"
   },
   "source": [
    "![](https://img.favpng.com/17/24/20/transfer-learning-machine-learning-teacher-deep-learning-png-favpng-zXhj8f0jTbRAiXtvvGdqJZvjc.jpg)"
   ]
  },
  {
   "cell_type": "markdown",
   "metadata": {
    "id": "YKQ8vCfBv2Qm",
    "slideshow": {
     "slide_type": "subslide"
    }
   },
   "source": [
    "## Intuition of transfer learning"
   ]
  },
  {
   "cell_type": "markdown",
   "metadata": {
    "id": "A3Utnvjhh9gT"
   },
   "source": [
    "- Transfer learning taps into a skill previously learned when one tries to learn a new skill.\n",
    "\n",
    "![](http://www.blog.sagmart.com/wp-content/uploads/2014/07/Bicycle-VS-Motorcycle.jpg)"
   ]
  },
  {
   "cell_type": "markdown",
   "metadata": {
    "id": "8qCKsDEnimyH"
   },
   "source": [
    "- In traditional machine learning, a model learns from scratch.\n",
    "- In transfer learning, a model reuses the knowledge that a previously trained model has learned.\n",
    "\n",
    "![](https://www.mdpi.com/electronics/electronics-10-01491/article_deploy/html/images/electronics-10-01491-g001.png)"
   ]
  },
  {
   "cell_type": "markdown",
   "metadata": {
    "id": "Dc0D141Dv5un"
   },
   "source": [
    "- In deep learning, the knowledge gained in a trained model is mathematically weights of model parameters.\n",
    "\n",
    "![](https://miro.medium.com/max/1000/1*mA1sUreCxnl-65ljlaXEcA.jpeg)"
   ]
  },
  {
   "cell_type": "markdown",
   "metadata": {
    "id": "2WQmsVkltTfc"
   },
   "source": [
    "- In NLP, various source models are quite effective in transfering knowledge to target models, including word2vec and BERT.\n",
    "![](https://ruder.io/content/images/2019/08/pretraining_adaptation.png)"
   ]
  },
  {
   "cell_type": "markdown",
   "metadata": {
    "id": "pLmFS1EJnR3I"
   },
   "source": [
    "- With transfer learning, we can easily stand on the shoulders of giants.\n",
    "\n",
    "![](https://miro.medium.com/max/910/1*J9vRAiAxtOV3dJGxhS518A.jpeg)"
   ]
  },
  {
   "cell_type": "markdown",
   "metadata": {
    "id": "htdkif3DpwPH",
    "slideshow": {
     "slide_type": "subslide"
    }
   },
   "source": [
    "## Types of transfer learning"
   ]
  },
  {
   "cell_type": "markdown",
   "metadata": {
    "id": "qzTKcH1z1R6D"
   },
   "source": [
    "[(Ruder 2019)](https://ruder.io/thesis/neural_transfer_learning_for_nlp.pdf#page=64)\n",
    "![](https://ruder.io/content/images/2019/08/transfer_learning_taxonomy.png)"
   ]
  },
  {
   "cell_type": "markdown",
   "metadata": {
    "id": "6q25ZSEhj-pl"
   },
   "source": [
    "- Domain adaptation\n",
    "    - Train on Wikipedia texts\n",
    "    - Predict on tweets  \n",
    "![](https://miro.medium.com/max/1400/1*OhB35eeMnGm99xhBA9A1vA.png)"
   ]
  },
  {
   "cell_type": "markdown",
   "metadata": {
    "id": "5ZCCRRKHkYV_"
   },
   "source": [
    "- Cross-lingual learning\n",
    "    - Train on English\n",
    "    - Predict on Spanish\n",
    "![](https://www.researchgate.net/profile/Jeremy-Barnes-2/publication/309312650/figure/fig1/AS:669424235323406@1536614583578/The-process-of-cross-lingual-sentiment-classification-We-assume-that-the-opinion-units.ppm)"
   ]
  },
  {
   "cell_type": "markdown",
   "metadata": {
    "id": "Ox-BkiX2rxBw"
   },
   "source": [
    "- Multi-task learning [(Liu et al. 2019)](https://arxiv.org/abs/1901.11504)\n",
    "\n",
    "![](https://www.researchgate.net/profile/Xiaodong-Liu-35/publication/332590404/figure/fig1/AS:750869628870659@1556032678647/Architecture-of-the-MT-DNN-model-for-representation-learning-Liu-et-al-2019-The.ppm)"
   ]
  },
  {
   "cell_type": "markdown",
   "metadata": {
    "id": "LXYIXFyDtPWT"
   },
   "source": [
    "- Sequential learning\n",
    "    - BERT is trained to \n",
    "        - predict a missing token in a random position\n",
    "        - predict whether a sentence follows another\n",
    "    - Use BERT's knowledge to train a new model for a new skill \n",
    "\n",
    "![](https://www.researchgate.net/profile/Farhad-Nooralahzadeh-2/publication/345655007/figure/fig5/AS:956170839810048@1604980301263/Sequential-transfer-learning-using-BERT-left-Pre-training-stage-using-transformer.ppm)"
   ]
  },
  {
   "cell_type": "markdown",
   "metadata": {
    "id": "Cj8uYd4JqEjS"
   },
   "source": [
    "- spaCy's framework makes it easy to do sequential transfer learning.\n",
    "\n",
    "![](https://spacy.io/tok2vec-listener-8c4d53807708b270c07a085f4a2da75f.svg)"
   ]
  },
  {
   "cell_type": "markdown",
   "metadata": {
    "id": "iPEOKDWxlfK8",
    "slideshow": {
     "slide_type": "slide"
    }
   },
   "source": [
    "# Hands-on walkthrough (HOW)"
   ]
  },
  {
   "cell_type": "markdown",
   "metadata": {
    "id": "L6M5IawXZNpK"
   },
   "source": [
    "![](https://www.1440.org/resourcefiles/blogsmallimages/blog-jun13-1920x576.jpg)"
   ]
  },
  {
   "cell_type": "markdown",
   "metadata": {
    "id": "Te_DYPC39ZDQ",
    "slideshow": {
     "slide_type": "subslide"
    }
   },
   "source": [
    "## Dataset"
   ]
  },
  {
   "cell_type": "code",
   "execution_count": 85,
   "metadata": {
    "colab": {
     "base_uri": "https://localhost:8080/",
     "height": 762
    },
    "id": "0gDdGEhkV3L_",
    "outputId": "2b1e5896-3d29-4439-d63a-0fb06a21e74d"
   },
   "outputs": [
    {
     "data": {
      "text/html": [
       "\n",
       "  <div id=\"df-01048a66-288a-44c9-9b00-23650e3f496f\">\n",
       "    <div class=\"colab-df-container\">\n",
       "      <div>\n",
       "<style scoped>\n",
       "    .dataframe tbody tr th:only-of-type {\n",
       "        vertical-align: middle;\n",
       "    }\n",
       "\n",
       "    .dataframe tbody tr th {\n",
       "        vertical-align: top;\n",
       "    }\n",
       "\n",
       "    .dataframe thead th {\n",
       "        text-align: right;\n",
       "    }\n",
       "</style>\n",
       "<table border=\"1\" class=\"dataframe\">\n",
       "  <thead>\n",
       "    <tr style=\"text-align: right;\">\n",
       "      <th></th>\n",
       "      <th>excerpt</th>\n",
       "      <th>forum_en</th>\n",
       "      <th>forum_zh</th>\n",
       "      <th>toks</th>\n",
       "    </tr>\n",
       "  </thead>\n",
       "  <tbody>\n",
       "    <tr>\n",
       "      <th>0</th>\n",
       "      <td>希望各位能花個20秒幫我填一下</td>\n",
       "      <td>dressup</td>\n",
       "      <td>穿搭</td>\n",
       "      <td>[希望, 位, 花, 個, 秒, 幫, 填]</td>\n",
       "    </tr>\n",
       "    <tr>\n",
       "      <th>1</th>\n",
       "      <td>想找這套衣服🥲，但發現不知道該用什麼關鍵字找，（圖是草屯囝仔的校園演唱會截圖）</td>\n",
       "      <td>dressup</td>\n",
       "      <td>穿搭</td>\n",
       "      <td>[想, 找, 這, 套, 衣服, 🥲, 發現, 該, 用什麼, 關鍵字, 找, 圖是, 草屯...</td>\n",
       "    </tr>\n",
       "    <tr>\n",
       "      <th>2</th>\n",
       "      <td>因為文會有點長，先說結論是，50%是目前網購過的平台退貨最麻煩的一家，甚至我認為根本是刻意刁...</td>\n",
       "      <td>dressup</td>\n",
       "      <td>穿搭</td>\n",
       "      <td>[因為, 文會, 有點, 長, 先, 說, 結論, 網購, 過, 平台, 退貨, 麻煩, 家...</td>\n",
       "    </tr>\n",
       "    <tr>\n",
       "      <th>3</th>\n",
       "      <td>來源：覺得呱吉這襯衫好好看~~，或有人知道有類似的嗎</td>\n",
       "      <td>dressup</td>\n",
       "      <td>穿搭</td>\n",
       "      <td>[來源, 覺得, 呱吉, 這, 襯衫, 好好, 類似, 嗎]</td>\n",
       "    </tr>\n",
       "    <tr>\n",
       "      <th>4</th>\n",
       "      <td>各位，因為這個證件夾臺灣買不到，是美國outlet 的限量版貨，所以在以下的這間蝦皮上買，但...</td>\n",
       "      <td>dressup</td>\n",
       "      <td>穿搭</td>\n",
       "      <td>[位, 因為, 這, 個, 證件, 夾, 臺灣, 買不到, 美國, 限量版, 貨, 這, 間...</td>\n",
       "    </tr>\n",
       "    <tr>\n",
       "      <th>...</th>\n",
       "      <td>...</td>\n",
       "      <td>...</td>\n",
       "      <td>...</td>\n",
       "      <td>...</td>\n",
       "    </tr>\n",
       "    <tr>\n",
       "      <th>135</th>\n",
       "      <td>最初只是和平的人權運動，最後卻演變成一場血腥暴力的革命，烏克蘭人民用93天讓世界見證了他們的...</td>\n",
       "      <td>netflix</td>\n",
       "      <td>Netflix</td>\n",
       "      <td>[最初, 和平, 人權, 運動, 卻, 演變成, 一場, 血腥, 暴力, 革命, 烏克蘭, ...</td>\n",
       "    </tr>\n",
       "    <tr>\n",
       "      <th>136</th>\n",
       "      <td>《二十五，二十一》第五首原聲帶歌曲由男團SEVENTEEN的DK來擔任，在當DK要演唱原聲帶...</td>\n",
       "      <td>netflix</td>\n",
       "      <td>Netflix</td>\n",
       "      <td>[首, 原, 聲帶, 歌曲, 男團, 來, 擔任, 當, 演唱, 原, 聲帶, 消息, 時,...</td>\n",
       "    </tr>\n",
       "    <tr>\n",
       "      <th>137</th>\n",
       "      <td>我想問有沒有類似荒謬分局那種一集時間不長，但是很耐看，很多季的影集嗎（；´༎ຶД༎ຶ`），最...</td>\n",
       "      <td>netflix</td>\n",
       "      <td>Netflix</td>\n",
       "      <td>[想問, 有沒有, 類似, 荒謬, 分局, 種, 一集, 時間, 不長, 耐看, 季, 影集...</td>\n",
       "    </tr>\n",
       "    <tr>\n",
       "      <th>138</th>\n",
       "      <td>借板發一下，感謝。1這部老實講比正傳悶，悶很多，有點小失望，看前三集除了格陵蘭人渡海那段，其...</td>\n",
       "      <td>netflix</td>\n",
       "      <td>Netflix</td>\n",
       "      <td>[板發, 感謝, 這, 部, 老實, 講, 正傳, 悶, 悶, 有點, 失望, 前三集, 格...</td>\n",
       "    </tr>\n",
       "    <tr>\n",
       "      <th>139</th>\n",
       "      <td>#重雷，因為版上都是讚美的聲音…，其實幾位主角性格都很討喜，只是太多人大大大推了 個人看了反...</td>\n",
       "      <td>netflix</td>\n",
       "      <td>Netflix</td>\n",
       "      <td>[重雷, 因為, 版上, 讚美, 聲音, 其實, 幾, 位, 主角, 性格, 討喜, 太多,...</td>\n",
       "    </tr>\n",
       "  </tbody>\n",
       "</table>\n",
       "<p>140 rows × 4 columns</p>\n",
       "</div>\n",
       "      <button class=\"colab-df-convert\" onclick=\"convertToInteractive('df-01048a66-288a-44c9-9b00-23650e3f496f')\"\n",
       "              title=\"Convert this dataframe to an interactive table.\"\n",
       "              style=\"display:none;\">\n",
       "        \n",
       "  <svg xmlns=\"http://www.w3.org/2000/svg\" height=\"24px\"viewBox=\"0 0 24 24\"\n",
       "       width=\"24px\">\n",
       "    <path d=\"M0 0h24v24H0V0z\" fill=\"none\"/>\n",
       "    <path d=\"M18.56 5.44l.94 2.06.94-2.06 2.06-.94-2.06-.94-.94-2.06-.94 2.06-2.06.94zm-11 1L8.5 8.5l.94-2.06 2.06-.94-2.06-.94L8.5 2.5l-.94 2.06-2.06.94zm10 10l.94 2.06.94-2.06 2.06-.94-2.06-.94-.94-2.06-.94 2.06-2.06.94z\"/><path d=\"M17.41 7.96l-1.37-1.37c-.4-.4-.92-.59-1.43-.59-.52 0-1.04.2-1.43.59L10.3 9.45l-7.72 7.72c-.78.78-.78 2.05 0 2.83L4 21.41c.39.39.9.59 1.41.59.51 0 1.02-.2 1.41-.59l7.78-7.78 2.81-2.81c.8-.78.8-2.07 0-2.86zM5.41 20L4 18.59l7.72-7.72 1.47 1.35L5.41 20z\"/>\n",
       "  </svg>\n",
       "      </button>\n",
       "      \n",
       "  <style>\n",
       "    .colab-df-container {\n",
       "      display:flex;\n",
       "      flex-wrap:wrap;\n",
       "      gap: 12px;\n",
       "    }\n",
       "\n",
       "    .colab-df-convert {\n",
       "      background-color: #E8F0FE;\n",
       "      border: none;\n",
       "      border-radius: 50%;\n",
       "      cursor: pointer;\n",
       "      display: none;\n",
       "      fill: #1967D2;\n",
       "      height: 32px;\n",
       "      padding: 0 0 0 0;\n",
       "      width: 32px;\n",
       "    }\n",
       "\n",
       "    .colab-df-convert:hover {\n",
       "      background-color: #E2EBFA;\n",
       "      box-shadow: 0px 1px 2px rgba(60, 64, 67, 0.3), 0px 1px 3px 1px rgba(60, 64, 67, 0.15);\n",
       "      fill: #174EA6;\n",
       "    }\n",
       "\n",
       "    [theme=dark] .colab-df-convert {\n",
       "      background-color: #3B4455;\n",
       "      fill: #D2E3FC;\n",
       "    }\n",
       "\n",
       "    [theme=dark] .colab-df-convert:hover {\n",
       "      background-color: #434B5C;\n",
       "      box-shadow: 0px 1px 3px 1px rgba(0, 0, 0, 0.15);\n",
       "      filter: drop-shadow(0px 1px 2px rgba(0, 0, 0, 0.3));\n",
       "      fill: #FFFFFF;\n",
       "    }\n",
       "  </style>\n",
       "\n",
       "      <script>\n",
       "        const buttonEl =\n",
       "          document.querySelector('#df-01048a66-288a-44c9-9b00-23650e3f496f button.colab-df-convert');\n",
       "        buttonEl.style.display =\n",
       "          google.colab.kernel.accessAllowed ? 'block' : 'none';\n",
       "\n",
       "        async function convertToInteractive(key) {\n",
       "          const element = document.querySelector('#df-01048a66-288a-44c9-9b00-23650e3f496f');\n",
       "          const dataTable =\n",
       "            await google.colab.kernel.invokeFunction('convertToInteractive',\n",
       "                                                     [key], {});\n",
       "          if (!dataTable) return;\n",
       "\n",
       "          const docLinkHtml = 'Like what you see? Visit the ' +\n",
       "            '<a target=\"_blank\" href=https://colab.research.google.com/notebooks/data_table.ipynb>data table notebook</a>'\n",
       "            + ' to learn more about interactive tables.';\n",
       "          element.innerHTML = '';\n",
       "          dataTable['output_type'] = 'display_data';\n",
       "          await google.colab.output.renderOutput(dataTable, element);\n",
       "          const docLink = document.createElement('div');\n",
       "          docLink.innerHTML = docLinkHtml;\n",
       "          element.appendChild(docLink);\n",
       "        }\n",
       "      </script>\n",
       "    </div>\n",
       "  </div>\n",
       "  "
      ],
      "text/plain": [
       "                                               excerpt forum_en forum_zh  \\\n",
       "0                                      希望各位能花個20秒幫我填一下  dressup       穿搭   \n",
       "1              想找這套衣服🥲，但發現不知道該用什麼關鍵字找，（圖是草屯囝仔的校園演唱會截圖）  dressup       穿搭   \n",
       "2    因為文會有點長，先說結論是，50%是目前網購過的平台退貨最麻煩的一家，甚至我認為根本是刻意刁...  dressup       穿搭   \n",
       "3                           來源：覺得呱吉這襯衫好好看~~，或有人知道有類似的嗎  dressup       穿搭   \n",
       "4    各位，因為這個證件夾臺灣買不到，是美國outlet 的限量版貨，所以在以下的這間蝦皮上買，但...  dressup       穿搭   \n",
       "..                                                 ...      ...      ...   \n",
       "135  最初只是和平的人權運動，最後卻演變成一場血腥暴力的革命，烏克蘭人民用93天讓世界見證了他們的...  netflix  Netflix   \n",
       "136  《二十五，二十一》第五首原聲帶歌曲由男團SEVENTEEN的DK來擔任，在當DK要演唱原聲帶...  netflix  Netflix   \n",
       "137  我想問有沒有類似荒謬分局那種一集時間不長，但是很耐看，很多季的影集嗎（；´༎ຶД༎ຶ`），最...  netflix  Netflix   \n",
       "138  借板發一下，感謝。1這部老實講比正傳悶，悶很多，有點小失望，看前三集除了格陵蘭人渡海那段，其...  netflix  Netflix   \n",
       "139  #重雷，因為版上都是讚美的聲音…，其實幾位主角性格都很討喜，只是太多人大大大推了 個人看了反...  netflix  Netflix   \n",
       "\n",
       "                                                  toks  \n",
       "0                               [希望, 位, 花, 個, 秒, 幫, 填]  \n",
       "1    [想, 找, 這, 套, 衣服, 🥲, 發現, 該, 用什麼, 關鍵字, 找, 圖是, 草屯...  \n",
       "2    [因為, 文會, 有點, 長, 先, 說, 結論, 網購, 過, 平台, 退貨, 麻煩, 家...  \n",
       "3                       [來源, 覺得, 呱吉, 這, 襯衫, 好好, 類似, 嗎]  \n",
       "4    [位, 因為, 這, 個, 證件, 夾, 臺灣, 買不到, 美國, 限量版, 貨, 這, 間...  \n",
       "..                                                 ...  \n",
       "135  [最初, 和平, 人權, 運動, 卻, 演變成, 一場, 血腥, 暴力, 革命, 烏克蘭, ...  \n",
       "136  [首, 原, 聲帶, 歌曲, 男團, 來, 擔任, 當, 演唱, 原, 聲帶, 消息, 時,...  \n",
       "137  [想問, 有沒有, 類似, 荒謬, 分局, 種, 一集, 時間, 不長, 耐看, 季, 影集...  \n",
       "138  [板發, 感謝, 這, 部, 老實, 講, 正傳, 悶, 悶, 有點, 失望, 前三集, 格...  \n",
       "139  [重雷, 因為, 版上, 讚美, 聲音, 其實, 幾, 位, 主角, 性格, 討喜, 太多,...  \n",
       "\n",
       "[140 rows x 4 columns]"
      ]
     },
     "execution_count": 85,
     "metadata": {},
     "output_type": "execute_result"
    }
   ],
   "source": [
    "cols = [\"excerpt\", \"forum_en\", \"forum_zh\", \"toks\"]\n",
    "sample_df[cols]"
   ]
  },
  {
   "cell_type": "markdown",
   "metadata": {
    "id": "-HD7iSDvjK2f"
   },
   "source": [
    "## Two text classification models"
   ]
  },
  {
   "cell_type": "markdown",
   "metadata": {
    "id": "hYZ-wrvF42u6"
   },
   "source": [
    "- Classification is a very common task. \n",
    "\n",
    "- Many problems can be cast as a classification task, including\n",
    "    - Sentiment analysis \n",
    "    - Part-of-speech tagging\n",
    "    - Dependency parsing\n",
    "    - Named entity recognition\n",
    "    - Intent recognition for chatbots \n",
    "\n",
    "- We'll train two classification models that take a text as input and predict a label for it.\n",
    "    - TF-IDF: no transfer learning\n",
    "    - Transformer: leveraging transfer learning"
   ]
  },
  {
   "cell_type": "markdown",
   "metadata": {
    "id": "sja1AIgm104E",
    "slideshow": {
     "slide_type": "subslide"
    }
   },
   "source": [
    "### TF-IDF"
   ]
  },
  {
   "cell_type": "code",
   "execution_count": 163,
   "metadata": {
    "id": "9dtULrFQ92Cd"
   },
   "outputs": [],
   "source": [
    "from sklearn import feature_extraction, model_selection, pipeline\n",
    "from sklearn.svm import SVC \n",
    "from sklearn import metrics\n",
    "import time"
   ]
  },
  {
   "cell_type": "code",
   "execution_count": 87,
   "metadata": {
    "id": "5TchZgMy93rN"
   },
   "outputs": [],
   "source": [
    "train_df, test_df = model_selection.train_test_split(sample_df, test_size=0.3, random_state=100)\n",
    "train_y = train_df[\"forum_en\"].values\n",
    "test_y = test_df[\"forum_en\"].values"
   ]
  },
  {
   "cell_type": "code",
   "execution_count": 88,
   "metadata": {
    "colab": {
     "base_uri": "https://localhost:8080/"
    },
    "id": "RGdiIoHbXLkZ",
    "outputId": "d7e97974-7190-420a-8fc2-57922d99bb9f"
   },
   "outputs": [
    {
     "data": {
      "text/plain": [
       "forum_en\n",
       "dressup     24\n",
       "makeup      17\n",
       "money       17\n",
       "netflix     17\n",
       "trending    23\n",
       "dtype: int64"
      ]
     },
     "execution_count": 88,
     "metadata": {},
     "output_type": "execute_result"
    }
   ],
   "source": [
    "train_df.groupby(\"forum_en\").size()"
   ]
  },
  {
   "cell_type": "code",
   "execution_count": 89,
   "metadata": {
    "colab": {
     "base_uri": "https://localhost:8080/"
    },
    "id": "G_r5G97MXNx5",
    "outputId": "6884315a-a448-4ec0-a168-035c0b91afec"
   },
   "outputs": [
    {
     "data": {
      "text/plain": [
       "forum_en\n",
       "dressup      4\n",
       "makeup      11\n",
       "money       12\n",
       "netflix     12\n",
       "trending     3\n",
       "dtype: int64"
      ]
     },
     "execution_count": 89,
     "metadata": {},
     "output_type": "execute_result"
    }
   ],
   "source": [
    "test_df.groupby(\"forum_en\").size()"
   ]
  },
  {
   "cell_type": "markdown",
   "metadata": {
    "id": "hy8fj6LFaOlJ"
   },
   "source": [
    "- Let's use Support Vector Machine (SVC) for the classification algorithm.\n",
    "- SVC projects data in the input space to a feature space in higher dimensioons.\n",
    "\n",
    "![](https://qph.fs.quoracdn.net/main-qimg-cd6cde306c8273b2af183f57f25c259d)"
   ]
  },
  {
   "cell_type": "code",
   "execution_count": 165,
   "metadata": {
    "id": "Wy_cDfEXbR_a"
   },
   "outputs": [],
   "source": [
    "vectorizer = feature_extraction.text.TfidfVectorizer(max_features=2000, ngram_range=(1,2))\n",
    "corpus = train_df[\"toks\"].apply(lambda x: \" \".join(x))\n",
    "vectorizer.fit(corpus)\n",
    "train_X = vectorizer.transform(corpus)\n",
    "svc_clf = SVC(C=1, gamma=\"auto\", kernel='linear',probability=False)\n",
    "model = pipeline.Pipeline([(\"vectorizer\", vectorizer),  \n",
    "                           (\"svm\", svc_clf)])"
   ]
  },
  {
   "cell_type": "code",
   "execution_count": 166,
   "metadata": {
    "colab": {
     "base_uri": "https://localhost:8080/"
    },
    "id": "5tyKdUKVas-8",
    "outputId": "05bb5f37-797b-49cc-8f37-e0af6e39282e"
   },
   "outputs": [
    {
     "name": "stdout",
     "output_type": "stream",
     "text": [
      "It took 0.005840778350830078 secs to train the model.\n"
     ]
    }
   ],
   "source": [
    "start = time.time()\n",
    "model[\"svm\"].fit(train_X, train_y)\n",
    "end = time.time()\n",
    "print(f\"It took {end-start} secs to train the model.\") "
   ]
  },
  {
   "cell_type": "code",
   "execution_count": 167,
   "metadata": {
    "colab": {
     "base_uri": "https://localhost:8080/"
    },
    "id": "kp1e-cXGcCoM",
    "outputId": "8f3dfebb-b465-4e62-ed36-a16030b067af"
   },
   "outputs": [
    {
     "name": "stdout",
     "output_type": "stream",
     "text": [
      "It took 0.005638599395751953 secs to make predictions on the testing data.\n"
     ]
    }
   ],
   "source": [
    "test_X = test_df[\"toks\"].apply(lambda x: \" \".join(x))\n",
    "start = time.time()\n",
    "predictions = model.predict(test_X)\n",
    "end = time.time()\n",
    "print(f\"It took {end-start} secs to make predictions on the testing data.\")"
   ]
  },
  {
   "cell_type": "code",
   "execution_count": 169,
   "metadata": {
    "colab": {
     "base_uri": "https://localhost:8080/"
    },
    "id": "bnXw3uEvfSo9",
    "outputId": "e2111b1b-82f9-48cc-a0cd-a9d6f5d60284"
   },
   "outputs": [
    {
     "data": {
      "text/plain": [
       "array(['dressup', 'dressup', 'netflix', 'money', 'trending', 'dressup',\n",
       "       'makeup', 'dressup', 'dressup', 'makeup', 'dressup', 'trending',\n",
       "       'makeup', 'dressup', 'makeup', 'dressup', 'money', 'netflix',\n",
       "       'makeup', 'dressup', 'trending', 'money', 'netflix', 'netflix',\n",
       "       'dressup', 'dressup', 'money', 'dressup', 'dressup', 'dressup',\n",
       "       'money', 'trending', 'dressup', 'dressup', 'money', 'trending',\n",
       "       'makeup', 'dressup', 'dressup', 'trending', 'trending', 'trending'],\n",
       "      dtype=object)"
      ]
     },
     "execution_count": 169,
     "metadata": {},
     "output_type": "execute_result"
    }
   ],
   "source": [
    "predictions"
   ]
  },
  {
   "cell_type": "code",
   "execution_count": 168,
   "metadata": {
    "colab": {
     "base_uri": "https://localhost:8080/",
     "height": 300
    },
    "id": "5oZYxDHAceyZ",
    "outputId": "0c91d612-3b8f-488a-c9aa-df4064fda350"
   },
   "outputs": [
    {
     "data": {
      "text/html": [
       "\n",
       "  <div id=\"df-b3f5c7e8-fa40-4f84-9b28-9d6938f492ff\">\n",
       "    <div class=\"colab-df-container\">\n",
       "      <div>\n",
       "<style scoped>\n",
       "    .dataframe tbody tr th:only-of-type {\n",
       "        vertical-align: middle;\n",
       "    }\n",
       "\n",
       "    .dataframe tbody tr th {\n",
       "        vertical-align: top;\n",
       "    }\n",
       "\n",
       "    .dataframe thead th {\n",
       "        text-align: right;\n",
       "    }\n",
       "</style>\n",
       "<table border=\"1\" class=\"dataframe\">\n",
       "  <thead>\n",
       "    <tr style=\"text-align: right;\">\n",
       "      <th></th>\n",
       "      <th>precision</th>\n",
       "      <th>recall</th>\n",
       "      <th>f1-score</th>\n",
       "      <th>support</th>\n",
       "    </tr>\n",
       "  </thead>\n",
       "  <tbody>\n",
       "    <tr>\n",
       "      <th>dressup</th>\n",
       "      <td>0.166667</td>\n",
       "      <td>0.750000</td>\n",
       "      <td>0.272727</td>\n",
       "      <td>4.000000</td>\n",
       "    </tr>\n",
       "    <tr>\n",
       "      <th>makeup</th>\n",
       "      <td>0.333333</td>\n",
       "      <td>0.181818</td>\n",
       "      <td>0.235294</td>\n",
       "      <td>11.000000</td>\n",
       "    </tr>\n",
       "    <tr>\n",
       "      <th>money</th>\n",
       "      <td>1.000000</td>\n",
       "      <td>0.500000</td>\n",
       "      <td>0.666667</td>\n",
       "      <td>12.000000</td>\n",
       "    </tr>\n",
       "    <tr>\n",
       "      <th>netflix</th>\n",
       "      <td>1.000000</td>\n",
       "      <td>0.333333</td>\n",
       "      <td>0.500000</td>\n",
       "      <td>12.000000</td>\n",
       "    </tr>\n",
       "    <tr>\n",
       "      <th>trending</th>\n",
       "      <td>0.375000</td>\n",
       "      <td>1.000000</td>\n",
       "      <td>0.545455</td>\n",
       "      <td>3.000000</td>\n",
       "    </tr>\n",
       "    <tr>\n",
       "      <th>accuracy</th>\n",
       "      <td>0.428571</td>\n",
       "      <td>0.428571</td>\n",
       "      <td>0.428571</td>\n",
       "      <td>0.428571</td>\n",
       "    </tr>\n",
       "    <tr>\n",
       "      <th>macro avg</th>\n",
       "      <td>0.575000</td>\n",
       "      <td>0.553030</td>\n",
       "      <td>0.444029</td>\n",
       "      <td>42.000000</td>\n",
       "    </tr>\n",
       "    <tr>\n",
       "      <th>weighted avg</th>\n",
       "      <td>0.701389</td>\n",
       "      <td>0.428571</td>\n",
       "      <td>0.459893</td>\n",
       "      <td>42.000000</td>\n",
       "    </tr>\n",
       "  </tbody>\n",
       "</table>\n",
       "</div>\n",
       "      <button class=\"colab-df-convert\" onclick=\"convertToInteractive('df-b3f5c7e8-fa40-4f84-9b28-9d6938f492ff')\"\n",
       "              title=\"Convert this dataframe to an interactive table.\"\n",
       "              style=\"display:none;\">\n",
       "        \n",
       "  <svg xmlns=\"http://www.w3.org/2000/svg\" height=\"24px\"viewBox=\"0 0 24 24\"\n",
       "       width=\"24px\">\n",
       "    <path d=\"M0 0h24v24H0V0z\" fill=\"none\"/>\n",
       "    <path d=\"M18.56 5.44l.94 2.06.94-2.06 2.06-.94-2.06-.94-.94-2.06-.94 2.06-2.06.94zm-11 1L8.5 8.5l.94-2.06 2.06-.94-2.06-.94L8.5 2.5l-.94 2.06-2.06.94zm10 10l.94 2.06.94-2.06 2.06-.94-2.06-.94-.94-2.06-.94 2.06-2.06.94z\"/><path d=\"M17.41 7.96l-1.37-1.37c-.4-.4-.92-.59-1.43-.59-.52 0-1.04.2-1.43.59L10.3 9.45l-7.72 7.72c-.78.78-.78 2.05 0 2.83L4 21.41c.39.39.9.59 1.41.59.51 0 1.02-.2 1.41-.59l7.78-7.78 2.81-2.81c.8-.78.8-2.07 0-2.86zM5.41 20L4 18.59l7.72-7.72 1.47 1.35L5.41 20z\"/>\n",
       "  </svg>\n",
       "      </button>\n",
       "      \n",
       "  <style>\n",
       "    .colab-df-container {\n",
       "      display:flex;\n",
       "      flex-wrap:wrap;\n",
       "      gap: 12px;\n",
       "    }\n",
       "\n",
       "    .colab-df-convert {\n",
       "      background-color: #E8F0FE;\n",
       "      border: none;\n",
       "      border-radius: 50%;\n",
       "      cursor: pointer;\n",
       "      display: none;\n",
       "      fill: #1967D2;\n",
       "      height: 32px;\n",
       "      padding: 0 0 0 0;\n",
       "      width: 32px;\n",
       "    }\n",
       "\n",
       "    .colab-df-convert:hover {\n",
       "      background-color: #E2EBFA;\n",
       "      box-shadow: 0px 1px 2px rgba(60, 64, 67, 0.3), 0px 1px 3px 1px rgba(60, 64, 67, 0.15);\n",
       "      fill: #174EA6;\n",
       "    }\n",
       "\n",
       "    [theme=dark] .colab-df-convert {\n",
       "      background-color: #3B4455;\n",
       "      fill: #D2E3FC;\n",
       "    }\n",
       "\n",
       "    [theme=dark] .colab-df-convert:hover {\n",
       "      background-color: #434B5C;\n",
       "      box-shadow: 0px 1px 3px 1px rgba(0, 0, 0, 0.15);\n",
       "      filter: drop-shadow(0px 1px 2px rgba(0, 0, 0, 0.3));\n",
       "      fill: #FFFFFF;\n",
       "    }\n",
       "  </style>\n",
       "\n",
       "      <script>\n",
       "        const buttonEl =\n",
       "          document.querySelector('#df-b3f5c7e8-fa40-4f84-9b28-9d6938f492ff button.colab-df-convert');\n",
       "        buttonEl.style.display =\n",
       "          google.colab.kernel.accessAllowed ? 'block' : 'none';\n",
       "\n",
       "        async function convertToInteractive(key) {\n",
       "          const element = document.querySelector('#df-b3f5c7e8-fa40-4f84-9b28-9d6938f492ff');\n",
       "          const dataTable =\n",
       "            await google.colab.kernel.invokeFunction('convertToInteractive',\n",
       "                                                     [key], {});\n",
       "          if (!dataTable) return;\n",
       "\n",
       "          const docLinkHtml = 'Like what you see? Visit the ' +\n",
       "            '<a target=\"_blank\" href=https://colab.research.google.com/notebooks/data_table.ipynb>data table notebook</a>'\n",
       "            + ' to learn more about interactive tables.';\n",
       "          element.innerHTML = '';\n",
       "          dataTable['output_type'] = 'display_data';\n",
       "          await google.colab.output.renderOutput(dataTable, element);\n",
       "          const docLink = document.createElement('div');\n",
       "          docLink.innerHTML = docLinkHtml;\n",
       "          element.appendChild(docLink);\n",
       "        }\n",
       "      </script>\n",
       "    </div>\n",
       "  </div>\n",
       "  "
      ],
      "text/plain": [
       "              precision    recall  f1-score    support\n",
       "dressup        0.166667  0.750000  0.272727   4.000000\n",
       "makeup         0.333333  0.181818  0.235294  11.000000\n",
       "money          1.000000  0.500000  0.666667  12.000000\n",
       "netflix        1.000000  0.333333  0.500000  12.000000\n",
       "trending       0.375000  1.000000  0.545455   3.000000\n",
       "accuracy       0.428571  0.428571  0.428571   0.428571\n",
       "macro avg      0.575000  0.553030  0.444029  42.000000\n",
       "weighted avg   0.701389  0.428571  0.459893  42.000000"
      ]
     },
     "execution_count": 168,
     "metadata": {},
     "output_type": "execute_result"
    }
   ],
   "source": [
    "class_report = metrics.classification_report(test_y, predictions, output_dict=True)\n",
    "report_df = pd.DataFrame(class_report).transpose()\n",
    "report_df"
   ]
  },
  {
   "cell_type": "markdown",
   "metadata": {
    "id": "7hCtHjAUJEFM"
   },
   "source": [
    "- Common metrics for the performance of classification models\n",
    "\n",
    "![](https://qph.fs.quoracdn.net/main-qimg-00e243e8fb31fbd3b49034c48ec0a915)"
   ]
  },
  {
   "cell_type": "markdown",
   "metadata": {
    "id": "3V9F5-Zr2AG1",
    "slideshow": {
     "slide_type": "subslide"
    }
   },
   "source": [
    "### Transformer"
   ]
  },
  {
   "cell_type": "code",
   "execution_count": 94,
   "metadata": {
    "colab": {
     "base_uri": "https://localhost:8080/"
    },
    "id": "Lf4BpyZZl87h",
    "outputId": "764aac13-4bf9-49aa-a38a-366bedfdc6af"
   },
   "outputs": [
    {
     "name": "stdout",
     "output_type": "stream",
     "text": [
      "nvcc: NVIDIA (R) Cuda compiler driver\n",
      "Copyright (c) 2005-2020 NVIDIA Corporation\n",
      "Built on Mon_Oct_12_20:09:46_PDT_2020\n",
      "Cuda compilation tools, release 11.1, V11.1.105\n",
      "Build cuda_11.1.TC455_06.29190527_0\n"
     ]
    }
   ],
   "source": [
    "!nvcc --version"
   ]
  },
  {
   "cell_type": "markdown",
   "metadata": {
    "id": "btwGwJYAUCBU"
   },
   "source": [
    "- Change `cuda111` to the correponding cuda version of your machine."
   ]
  },
  {
   "cell_type": "code",
   "execution_count": null,
   "metadata": {
    "id": "nk2zMpIGlr2u"
   },
   "outputs": [],
   "source": [
    "!pip install -U spacy[cuda111,transformers]"
   ]
  },
  {
   "cell_type": "code",
   "execution_count": null,
   "metadata": {
    "id": "OZnUHGTkj_NG"
   },
   "outputs": [],
   "source": [
    "!python -m spacy download zh_core_web_trf"
   ]
  },
  {
   "cell_type": "code",
   "execution_count": 97,
   "metadata": {
    "id": "96Igjj5-gTqV"
   },
   "outputs": [],
   "source": [
    "import spacy_transformers"
   ]
  },
  {
   "cell_type": "code",
   "execution_count": 98,
   "metadata": {
    "id": "sRSlHHRiedSS"
   },
   "outputs": [],
   "source": [
    "spacy.prefer_gpu()\n",
    "nlp = spacy.load(\"zh_core_web_trf\")"
   ]
  },
  {
   "cell_type": "code",
   "execution_count": 99,
   "metadata": {
    "colab": {
     "base_uri": "https://localhost:8080/"
    },
    "id": "4QJIEEYerDAS",
    "outputId": "c0bf0478-d7cc-48ed-e0d5-427201c95b8f"
   },
   "outputs": [
    {
     "data": {
      "text/plain": [
       "['transformer', 'tagger', 'parser', 'attribute_ruler', 'ner']"
      ]
     },
     "execution_count": 99,
     "metadata": {},
     "output_type": "execute_result"
    }
   ],
   "source": [
    "nlp.pipe_names"
   ]
  },
  {
   "cell_type": "code",
   "execution_count": 100,
   "metadata": {
    "colab": {
     "base_uri": "https://localhost:8080/"
    },
    "id": "ibj9mtCDn6nS",
    "outputId": "59606a9b-e857-40cc-984d-6f04b70abe92"
   },
   "outputs": [
    {
     "data": {
      "text/plain": [
       "WordpieceBatch(strings=[['[CLS]', '宜', '家', '家', '居', '新', '店', '店', '店', '長', '的', '名', '字', '好', '長', '喔', '！', '[SEP]']], input_ids=array([[ 101, 2139, 2157, 2157, 2233, 3173, 2421, 2421, 2421, 7269, 4638,\n",
       "        1399, 2099, 1962, 7269, 1595, 8013,  102]], dtype=int32), attention_mask=array([[1., 1., 1., 1., 1., 1., 1., 1., 1., 1., 1., 1., 1., 1., 1., 1.,\n",
       "        1., 1.]], dtype=float32), lengths=[18], token_type_ids=array([[0, 0, 0, 0, 0, 0, 0, 0, 0, 0, 0, 0, 0, 0, 0, 0, 0, 0]],\n",
       "      dtype=int32))"
      ]
     },
     "execution_count": 100,
     "metadata": {},
     "output_type": "execute_result"
    }
   ],
   "source": [
    "text = \"宜家家居新店店店長的名字好長喔！\"\n",
    "doc = nlp(text)\n",
    "doc._.trf_data.wordpieces"
   ]
  },
  {
   "cell_type": "markdown",
   "metadata": {
    "id": "0bYM2Zf-UQyk"
   },
   "source": [
    "- The sample text includes 18 tokens, each in 768 dimensions."
   ]
  },
  {
   "cell_type": "code",
   "execution_count": 101,
   "metadata": {
    "colab": {
     "base_uri": "https://localhost:8080/"
    },
    "id": "zMu2zjbGoucy",
    "outputId": "c9085fa1-3e2c-4d94-cafc-778b78d5f3bc"
   },
   "outputs": [
    {
     "data": {
      "text/plain": [
       "(1, 18, 768)"
      ]
     },
     "execution_count": 101,
     "metadata": {},
     "output_type": "execute_result"
    }
   ],
   "source": [
    "doc._.trf_data.tensors[0].shape"
   ]
  },
  {
   "cell_type": "code",
   "execution_count": 102,
   "metadata": {
    "colab": {
     "base_uri": "https://localhost:8080/"
    },
    "id": "vTeI9wK_sCZc",
    "outputId": "d6e0ed19-9c42-45a6-ec93-1248e91f65f2"
   },
   "outputs": [
    {
     "data": {
      "text/plain": [
       "['trending', 'dressup', 'netflix', 'money', 'makeup']"
      ]
     },
     "execution_count": 102,
     "metadata": {},
     "output_type": "execute_result"
    }
   ],
   "source": [
    "unique_labels = train_df['forum_en'].unique().tolist()\n",
    "unique_labels"
   ]
  },
  {
   "cell_type": "code",
   "execution_count": 103,
   "metadata": {
    "id": "80ITsjJJo_AE"
   },
   "outputs": [],
   "source": [
    "train_df['tuples'] = train_df.apply(lambda row: (row['excerpt'], row['forum_en']), axis=1)\n",
    "train_data = train_df['tuples'].tolist()\n",
    "test_df['tuples'] = test_df.apply(lambda row: (row['excerpt'], row['forum_en']), axis=1)\n",
    "test_data = test_df['tuples'].tolist()"
   ]
  },
  {
   "cell_type": "code",
   "execution_count": 112,
   "metadata": {
    "colab": {
     "base_uri": "https://localhost:8080/"
    },
    "id": "H4-aj3R-9CSB",
    "outputId": "ca97f330-b28b-4d8a-8d17-19b4fb6946e4"
   },
   "outputs": [
    {
     "data": {
      "text/plain": [
       "[('位於烏克蘭、歐洲最大的札波羅熱（Zaporizhzhia）核電廠在俄軍攻勢下起火，美國總統拜登稍早立即致電烏克蘭總統澤倫斯基（Volodymyr Zelensky），白宮將會持續密切關注核電廠火災狀況',\n",
       "  'trending'),\n",
       " ('最近一直看有沒有不錯的賣場，有人知道這家是不是正的嗎，謝謝🥺🥺', 'dressup'),\n",
       " ('2/13-2/15我踏上了一場說走就走的旅程，一個人三天兩夜的墾丁之旅，穿搭偏簡單 走黑白色系\\U0001f90d，（畢竟自己出門 不要帶太多東西比較好，雖然偏簡單 還是想記錄一下，如果有想自己出遊的人也可以做個參考～',\n",
       "  'dressup')]"
      ]
     },
     "execution_count": 112,
     "metadata": {},
     "output_type": "execute_result"
    }
   ],
   "source": [
    "train_data[-3:]"
   ]
  },
  {
   "cell_type": "code",
   "execution_count": 115,
   "metadata": {
    "id": "iM7fhjwDu6bM"
   },
   "outputs": [],
   "source": [
    "from tqdm.auto import tqdm\n",
    "from spacy.tokens import DocBin\n",
    "\n",
    "def make_docs(data_list, unique_labels, dest_path):\n",
    "    nlp = spacy.blank('zh')\n",
    "    docs = []\n",
    "    for doc, label in tqdm(nlp.pipe(data_list, as_tuples=True), total=len(data_list)):\n",
    "        label_dict = {label: False for label in unique_labels}\n",
    "        doc.cats = label_dict\n",
    "        doc.cats[label] = True\n",
    "        docs.append(doc)\n",
    "    doc_bin = DocBin(docs=docs)\n",
    "    doc_bin.to_disk(dest_path)\n"
   ]
  },
  {
   "cell_type": "code",
   "execution_count": 116,
   "metadata": {
    "colab": {
     "base_uri": "https://localhost:8080/",
     "height": 81,
     "referenced_widgets": [
      "e60a9cfc4b7748b5b53df301c4ed2c96",
      "a022c2c3fdb040e9bd2b5f86499ef12d",
      "88cf09ad12a5405d9649916cdedbbc73",
      "4c11909683a74344af573335c194d679",
      "8b0c9fd10f754442ba355eeea81b6386",
      "bff7110543ba40ab9ee4614c23fa73f9",
      "e3ee0ffd00544ba0af21e8a175b173aa",
      "68d1a81d31a44f16ae7f9bd17a0c2f51",
      "7d5ec8d7f8004caeba8d15c91be9dcab",
      "35042fa88e854be3b4d08f002e148159",
      "a971f7f377b24a649fa49f4646faa2d4",
      "fd1eb0585e944d5599594694bd055c97",
      "b2a8a0c2a98e47d7bca9720510fde9d4",
      "428506ae72254f8188986621634b0d2d",
      "8bc1782c6ca24192a715fd5c1e372e98",
      "1ba020a319cf4773bc951dc7e88f03e4",
      "dd70832bca6f4e33b436bb1ad431a65b",
      "4f331eb06d5244f7b206393892302b7c",
      "8f319eb7851647ad9c93e415ebee2e7e",
      "90204d21e2d04524a6f2570d5c29381f",
      "92e1966f42154300b5f80b121bba22a7",
      "d50ce50f118342f2b86c2e0786b4207e"
     ]
    },
    "id": "kVDF0GYjwTNE",
    "outputId": "a0a59f48-998a-4386-fb25-a863b8bf381f"
   },
   "outputs": [
    {
     "data": {
      "application/vnd.jupyter.widget-view+json": {
       "model_id": "e60a9cfc4b7748b5b53df301c4ed2c96",
       "version_major": 2,
       "version_minor": 0
      },
      "text/plain": [
       "  0%|          | 0/98 [00:00<?, ?it/s]"
      ]
     },
     "metadata": {},
     "output_type": "display_data"
    },
    {
     "data": {
      "application/vnd.jupyter.widget-view+json": {
       "model_id": "fd1eb0585e944d5599594694bd055c97",
       "version_major": 2,
       "version_minor": 0
      },
      "text/plain": [
       "  0%|          | 0/42 [00:00<?, ?it/s]"
      ]
     },
     "metadata": {},
     "output_type": "display_data"
    }
   ],
   "source": [
    "make_docs(train_data, unique_labels, \"train.spacy\")\n",
    "make_docs(test_data, unique_labels, \"test.spacy\")"
   ]
  },
  {
   "cell_type": "code",
   "execution_count": 124,
   "metadata": {
    "colab": {
     "base_uri": "https://localhost:8080/"
    },
    "id": "SYR6ijdD3TRX",
    "outputId": "ca7e0eff-0934-4600-fab6-274c1010370e"
   },
   "outputs": [
    {
     "name": "stdout",
     "output_type": "stream",
     "text": [
      "\u001b[38;5;4mℹ Generated config template specific for your use case\u001b[0m\n",
      "- Language: zh\n",
      "- Pipeline: textcat\n",
      "- Optimize for: accuracy\n",
      "- Hardware: GPU\n",
      "- Transformer: bert-base-chinese\n",
      "\u001b[38;5;2m✔ Auto-filled config with all values\u001b[0m\n",
      "\u001b[38;5;2m✔ Saved config\u001b[0m\n",
      "config.cfg\n",
      "You can now add your data and train your pipeline:\n",
      "python -m spacy train config.cfg --paths.train ./train.spacy --paths.dev ./dev.spacy\n"
     ]
    }
   ],
   "source": [
    "!python -m spacy init config ./config.cfg --lang zh --pipeline transformer,textcat --optimize accuracy --gpu"
   ]
  },
  {
   "cell_type": "code",
   "execution_count": 125,
   "metadata": {
    "colab": {
     "base_uri": "https://localhost:8080/"
    },
    "id": "UwCeyEbDMFeW",
    "outputId": "8282ddac-93ba-4558-c95c-8eadd5436263"
   },
   "outputs": [
    {
     "name": "stdout",
     "output_type": "stream",
     "text": [
      "[paths]\n",
      "train = null\n",
      "dev = null\n",
      "vectors = null\n",
      "init_tok2vec = null\n",
      "\n",
      "[system]\n",
      "gpu_allocator = \"pytorch\"\n",
      "seed = 0\n",
      "\n",
      "[nlp]\n",
      "lang = \"zh\"\n",
      "pipeline = [\"transformer\",\"textcat\"]\n",
      "batch_size = 128\n",
      "disabled = []\n",
      "before_creation = null\n",
      "after_creation = null\n",
      "after_pipeline_creation = null\n",
      "\n",
      "[nlp.tokenizer]\n",
      "@tokenizers = \"spacy.zh.ChineseTokenizer\"\n",
      "segmenter = \"char\"\n",
      "\n",
      "[components]\n",
      "\n",
      "[components.textcat]\n",
      "factory = \"textcat\"\n",
      "scorer = {\"@scorers\":\"spacy.textcat_scorer.v1\"}\n",
      "threshold = 0.5\n",
      "\n",
      "[components.textcat.model]\n",
      "@architectures = \"spacy.TextCatEnsemble.v2\"\n",
      "nO = null\n",
      "\n",
      "[components.textcat.model.linear_model]\n",
      "@architectures = \"spacy.TextCatBOW.v2\"\n",
      "exclusive_classes = true\n",
      "ngram_size = 1\n",
      "no_output_layer = false\n",
      "nO = null\n",
      "\n",
      "[components.textcat.model.tok2vec]\n",
      "@architectures = \"spacy-transformers.TransformerListener.v1\"\n",
      "grad_factor = 1.0\n",
      "pooling = {\"@layers\":\"reduce_mean.v1\"}\n",
      "upstream = \"*\"\n",
      "\n",
      "[components.transformer]\n",
      "factory = \"transformer\"\n",
      "max_batch_items = 4096\n",
      "set_extra_annotations = {\"@annotation_setters\":\"spacy-transformers.null_annotation_setter.v1\"}\n",
      "\n",
      "[components.transformer.model]\n",
      "@architectures = \"spacy-transformers.TransformerModel.v3\"\n",
      "name = \"bert-base-chinese\"\n",
      "mixed_precision = false\n",
      "\n",
      "[components.transformer.model.get_spans]\n",
      "@span_getters = \"spacy-transformers.strided_spans.v1\"\n",
      "window = 128\n",
      "stride = 96\n",
      "\n",
      "[components.transformer.model.grad_scaler_config]\n",
      "\n",
      "[components.transformer.model.tokenizer_config]\n",
      "use_fast = true\n",
      "\n",
      "[components.transformer.model.transformer_config]\n",
      "\n",
      "[corpora]\n",
      "\n",
      "[corpora.dev]\n",
      "@readers = \"spacy.Corpus.v1\"\n",
      "path = ${paths.dev}\n",
      "max_length = 0\n",
      "gold_preproc = false\n",
      "limit = 0\n",
      "augmenter = null\n",
      "\n",
      "[corpora.train]\n",
      "@readers = \"spacy.Corpus.v1\"\n",
      "path = ${paths.train}\n",
      "max_length = 0\n",
      "gold_preproc = false\n",
      "limit = 0\n",
      "augmenter = null\n",
      "\n",
      "[training]\n",
      "accumulate_gradient = 3\n",
      "dev_corpus = \"corpora.dev\"\n",
      "train_corpus = \"corpora.train\"\n",
      "seed = ${system.seed}\n",
      "gpu_allocator = ${system.gpu_allocator}\n",
      "dropout = 0.1\n",
      "patience = 1600\n",
      "max_epochs = 0\n",
      "max_steps = 20000\n",
      "eval_frequency = 200\n",
      "frozen_components = []\n",
      "annotating_components = []\n",
      "before_to_disk = null\n",
      "\n",
      "[training.batcher]\n",
      "@batchers = \"spacy.batch_by_padded.v1\"\n",
      "discard_oversize = true\n",
      "size = 2000\n",
      "buffer = 256\n",
      "get_length = null\n",
      "\n",
      "[training.logger]\n",
      "@loggers = \"spacy.ConsoleLogger.v1\"\n",
      "progress_bar = false\n",
      "\n",
      "[training.optimizer]\n",
      "@optimizers = \"Adam.v1\"\n",
      "beta1 = 0.9\n",
      "beta2 = 0.999\n",
      "L2_is_weight_decay = true\n",
      "L2 = 0.01\n",
      "grad_clip = 1.0\n",
      "use_averages = false\n",
      "eps = 0.00000001\n",
      "\n",
      "[training.optimizer.learn_rate]\n",
      "@schedules = \"warmup_linear.v1\"\n",
      "warmup_steps = 250\n",
      "total_steps = 20000\n",
      "initial_rate = 0.00005\n",
      "\n",
      "[training.score_weights]\n",
      "cats_score = 1.0\n",
      "cats_score_desc = null\n",
      "cats_micro_p = null\n",
      "cats_micro_r = null\n",
      "cats_micro_f = null\n",
      "cats_macro_p = null\n",
      "cats_macro_r = null\n",
      "cats_macro_f = null\n",
      "cats_macro_auc = null\n",
      "cats_f_per_type = null\n",
      "cats_macro_auc_per_type = null\n",
      "\n",
      "[pretraining]\n",
      "\n",
      "[initialize]\n",
      "vectors = ${paths.vectors}\n",
      "init_tok2vec = ${paths.init_tok2vec}\n",
      "vocab_data = null\n",
      "lookups = null\n",
      "before_init = null\n",
      "after_init = null\n",
      "\n",
      "[initialize.components]\n",
      "\n",
      "[initialize.tokenizer]\n",
      "pkuseg_model = null\n",
      "pkuseg_user_dict = \"default\""
     ]
    }
   ],
   "source": [
    "!cat config.cfg"
   ]
  },
  {
   "cell_type": "code",
   "execution_count": 126,
   "metadata": {
    "id": "bb0OjTdSyODb"
   },
   "outputs": [],
   "source": [
    "!mkdir output"
   ]
  },
  {
   "cell_type": "markdown",
   "metadata": {
    "id": "YGKC-FfJV1Z_"
   },
   "source": [
    "- Abort the execution of the following cell if it runs for too long."
   ]
  },
  {
   "cell_type": "code",
   "execution_count": 134,
   "metadata": {
    "colab": {
     "base_uri": "https://localhost:8080/"
    },
    "id": "q7xchz0yxj2u",
    "outputId": "dafe13d5-37d4-45dc-cd2b-8f3c23259b7c"
   },
   "outputs": [
    {
     "name": "stdout",
     "output_type": "stream",
     "text": [
      "[2022-03-18 13:32:23,319] [DEBUG] Config overrides from CLI: ['paths.train', 'paths.dev']\n",
      "\u001b[38;5;4mℹ Saving to output directory: output\u001b[0m\n",
      "\u001b[38;5;4mℹ Using GPU: 0\u001b[0m\n",
      "\u001b[1m\n",
      "=========================== Initializing pipeline ===========================\u001b[0m\n",
      "[2022-03-18 13:32:26,310] [INFO] Set up nlp object from config\n",
      "[2022-03-18 13:32:26,323] [DEBUG] Loading corpus from path: test.spacy\n",
      "[2022-03-18 13:32:26,324] [DEBUG] Loading corpus from path: train.spacy\n",
      "[2022-03-18 13:32:26,324] [INFO] Pipeline: ['transformer', 'textcat']\n",
      "[2022-03-18 13:32:26,330] [INFO] Created vocabulary\n",
      "[2022-03-18 13:32:26,332] [INFO] Finished initializing nlp object\n",
      "Some weights of the model checkpoint at bert-base-chinese were not used when initializing BertModel: ['cls.predictions.transform.LayerNorm.weight', 'cls.predictions.transform.dense.weight', 'cls.predictions.decoder.weight', 'cls.predictions.transform.dense.bias', 'cls.predictions.transform.LayerNorm.bias', 'cls.seq_relationship.bias', 'cls.seq_relationship.weight', 'cls.predictions.bias']\n",
      "- This IS expected if you are initializing BertModel from the checkpoint of a model trained on another task or with another architecture (e.g. initializing a BertForSequenceClassification model from a BertForPreTraining model).\n",
      "- This IS NOT expected if you are initializing BertModel from the checkpoint of a model that you expect to be exactly identical (initializing a BertForSequenceClassification model from a BertForSequenceClassification model).\n",
      "[2022-03-18 13:32:36,584] [INFO] Initialized pipeline components: ['transformer', 'textcat']\n",
      "\u001b[38;5;2m✔ Initialized pipeline\u001b[0m\n",
      "\u001b[1m\n",
      "============================= Training pipeline =============================\u001b[0m\n",
      "[2022-03-18 13:32:36,598] [DEBUG] Loading corpus from path: test.spacy\n",
      "[2022-03-18 13:32:36,599] [DEBUG] Loading corpus from path: train.spacy\n",
      "[2022-03-18 13:32:36,650] [DEBUG] Removed existing output directory: output/model-best\n",
      "[2022-03-18 13:32:36,704] [DEBUG] Removed existing output directory: output/model-last\n",
      "\u001b[38;5;4mℹ Pipeline: ['transformer', 'textcat']\u001b[0m\n",
      "\u001b[38;5;4mℹ Initial learn rate: 0.0\u001b[0m\n",
      "E    #       LOSS TRANS...  LOSS TEXTCAT  CATS_SCORE  SCORE \n",
      "---  ------  -------------  ------------  ----------  ------\n",
      "  0       0           0.00          0.80        0.00    0.00\n",
      " 66     200           0.00         36.54       94.98    0.95\n",
      "\n",
      "Aborted!\n",
      "It took 471.73191380500793 secs to train the model.\n"
     ]
    }
   ],
   "source": [
    "start = time.time()\n",
    "!python -m spacy train ./config.cfg --output ./output --paths.train ./train.spacy --paths.dev ./test.spacy --gpu-id 0 --verbose\n",
    "end = time.time()\n",
    "print(f\"It took {end-start} secs to train the model.\")"
   ]
  },
  {
   "cell_type": "markdown",
   "metadata": {
    "id": "sFAIF8pzWDKx"
   },
   "source": [
    "- Load the model that we just trained."
   ]
  },
  {
   "cell_type": "code",
   "execution_count": null,
   "metadata": {
    "id": "0opmsOeZRLCk"
   },
   "outputs": [],
   "source": [
    "mynlp = spacy.load(\"./output/model-last\")"
   ]
  },
  {
   "cell_type": "code",
   "execution_count": 140,
   "metadata": {
    "colab": {
     "base_uri": "https://localhost:8080/"
    },
    "id": "qZgSQ38zNYyG",
    "outputId": "db476e07-6c8b-4576-f16b-7fe7e61d1a5c"
   },
   "outputs": [
    {
     "name": "stdout",
     "output_type": "stream",
     "text": [
      "[139, 97, 134, 110, 81, 26, 35, 32, 84, 95, 25, 69, 40, 28, 125, 133, 99, 117, 11, 46, 51, 101, 136, 121, 37, 21, 89, 119, 118, 29, 96, 52, 45, 106, 92, 62, 130, 82, 33, 105, 111, 120]\n"
     ]
    }
   ],
   "source": [
    "test_indexes = test_df.index.tolist()\n",
    "print(test_indexes)"
   ]
  },
  {
   "cell_type": "markdown",
   "metadata": {
    "id": "_3AQPuquWIta"
   },
   "source": [
    "- Feel free to change the value of `docid` to any number in `test_indexes`."
   ]
  },
  {
   "cell_type": "code",
   "execution_count": 150,
   "metadata": {
    "colab": {
     "base_uri": "https://localhost:8080/"
    },
    "id": "GHUvvCH4NxRH",
    "outputId": "3c3c2d47-dc08-458c-b57b-11e2a5bb6b35"
   },
   "outputs": [
    {
     "name": "stdout",
     "output_type": "stream",
     "text": [
      "Sample text: \n",
      "#重雷，因為版上都是讚美的聲音…，其實幾位主角性格都很討喜，只是太多人大大大推了 個人看了反而有點小失望，第一集開頭用2020疫情和1997金融海嘯來提到，「時代影響了很多人」也覺得很有共鳴，因為我們\n",
      "True category: \n",
      "netflix\n"
     ]
    }
   ],
   "source": [
    "docid = 139\n",
    "sample_text = test_df.loc[docid, 'excerpt']\n",
    "sample_cat = test_df.loc[docid, 'forum_en']\n",
    "print(f\"Sample text: \\n{sample_text}\")\n",
    "print(f\"True category: \\n{sample_cat}\")"
   ]
  },
  {
   "cell_type": "code",
   "execution_count": 152,
   "metadata": {
    "colab": {
     "base_uri": "https://localhost:8080/"
    },
    "id": "o90PCYO60bKb",
    "outputId": "dd89fe34-f894-41dd-b371-a768d847c198"
   },
   "outputs": [
    {
     "name": "stdout",
     "output_type": "stream",
     "text": [
      "Category probabilities:\n",
      "{'trending': 0.002882840344682336, 'dressup': 0.0029310560785233974, 'netflix': 0.9875414967536926, 'money': 0.0030496492981910706, 'makeup': 0.003594897221773863}\n",
      "Predicted category: netflix\n"
     ]
    }
   ],
   "source": [
    "doc = mynlp(sample_text)\n",
    "max_cat = max(doc.cats, key=doc.cats.get)\n",
    "print(f\"Category probabilities:\\n{doc.cats}\")\n",
    "print(f\"Predicted category: {max_cat}\")"
   ]
  },
  {
   "cell_type": "markdown",
   "metadata": {
    "id": "GlDxtXEgWTkv"
   },
   "source": [
    "- Feel free to revise the sentence stored in `text`."
   ]
  },
  {
   "cell_type": "code",
   "execution_count": 151,
   "metadata": {
    "colab": {
     "base_uri": "https://localhost:8080/"
    },
    "id": "OPcTZUG4RveK",
    "outputId": "412a4fb4-f95b-4929-9bc8-3edf4768c670"
   },
   "outputs": [
    {
     "name": "stdout",
     "output_type": "stream",
     "text": [
      "Category probabilities:\n",
      "{'trending': 0.0022079325281083584, 'dressup': 0.9901031255722046, 'netflix': 0.002575943013653159, 'money': 0.002191048115491867, 'makeup': 0.0029218546114861965}\n",
      "Predicted category: dressup\n"
     ]
    }
   ],
   "source": [
    "text = \"今年似乎又開始流行連身裙了呢\"\n",
    "doc = mynlp(text)\n",
    "max_cat = max(doc.cats, key=doc.cats.get)\n",
    "print(f\"Category probabilities:\\n{doc.cats}\")\n",
    "print(f\"Predicted category: {max_cat}\")"
   ]
  },
  {
   "cell_type": "code",
   "execution_count": null,
   "metadata": {
    "id": "24YR5mu4Riba"
   },
   "outputs": [],
   "source": [
    "import json"
   ]
  },
  {
   "cell_type": "code",
   "execution_count": 162,
   "metadata": {
    "colab": {
     "base_uri": "https://localhost:8080/"
    },
    "id": "S8Sj3gf8PPQy",
    "outputId": "29d07918-a9c8-45bb-914e-148079c0f012"
   },
   "outputs": [
    {
     "data": {
      "text/plain": [
       "{'cats_f_per_type': {'dressup': {'f': 0.8888888889, 'p': 0.8, 'r': 1.0},\n",
       "  'makeup': {'f': 0.9, 'p': 1.0, 'r': 0.8181818182},\n",
       "  'money': {'f': 0.96, 'p': 0.9230769231, 'r': 1.0},\n",
       "  'netflix': {'f': 1.0, 'p': 1.0, 'r': 1.0},\n",
       "  'trending': {'f': 1.0, 'p': 1.0, 'r': 1.0}},\n",
       " 'cats_macro_auc': 0.9899175113,\n",
       " 'cats_macro_auc_per_type': 0.0,\n",
       " 'cats_macro_f': 0.9497777778,\n",
       " 'cats_macro_p': 0.9446153846,\n",
       " 'cats_macro_r': 0.9636363636,\n",
       " 'cats_micro_f': 0.9523809524,\n",
       " 'cats_micro_p': 0.9523809524,\n",
       " 'cats_micro_r': 0.9523809524,\n",
       " 'cats_score': 0.9497777778,\n",
       " 'cats_score_desc': 'macro F',\n",
       " 'textcat_loss': 36.5435999353,\n",
       " 'transformer_loss': 0.0006216127}"
      ]
     },
     "execution_count": 162,
     "metadata": {},
     "output_type": "execute_result"
    }
   ],
   "source": [
    "model_meta_path = \"./output/model-best/meta.json\"\n",
    "with open(model_meta_path) as json_file:\n",
    "    trained_metrics = json.load(json_file)\n",
    "trained_metrics['performance'] "
   ]
  },
  {
   "cell_type": "code",
   "execution_count": 146,
   "metadata": {
    "id": "7NMeFWm5IU34"
   },
   "outputs": [],
   "source": [
    "import random\n",
    "\n",
    "def show_test():\n",
    "    idx = random.choice(test_indexes)\n",
    "    text = test_df.at[idx, 'excerpt']\n",
    "    label = test_df.at[idx, 'forum_en']\n",
    "    predicted_proba = mynlp(text).cats\n",
    "    predicted_cat = max(predicted_proba, key=predicted_proba.get)\n",
    "    print(f\"Index in test data: {idx}\")\n",
    "    print(f\"Text: {text}\")\n",
    "    print(f\"True category: {label}\")\n",
    "    print(f\"Category probabilities:\\n{predicted_proba}\")\n",
    "    print(f\"Predicted category: {predicted_cat}\")"
   ]
  },
  {
   "cell_type": "code",
   "execution_count": 147,
   "metadata": {
    "colab": {
     "base_uri": "https://localhost:8080/"
    },
    "id": "UhMaxlewJ41G",
    "outputId": "f8693537-b085-4b55-9898-bc9cb55cc36b"
   },
   "outputs": [
    {
     "name": "stdout",
     "output_type": "stream",
     "text": [
      "Index in test data: 25\n",
      "Text: 有人知道這是什麼牌子嗎\n",
      "True category: dressup\n",
      "Category probabilities:\n",
      "{'trending': 0.0024371894542127848, 'dressup': 0.9893414974212646, 'netflix': 0.0024927842896431684, 'money': 0.0022952246945351362, 'makeup': 0.003433354664593935}\n",
      "Predicted category: dressup\n"
     ]
    }
   ],
   "source": [
    "show_test()"
   ]
  },
  {
   "cell_type": "code",
   "execution_count": 154,
   "metadata": {
    "colab": {
     "base_uri": "https://localhost:8080/"
    },
    "id": "RCplR7z9Sn26",
    "outputId": "581cc676-327b-4446-daa7-403e37172669"
   },
   "outputs": [
    {
     "name": "stdout",
     "output_type": "stream",
     "text": [
      "Index in test data: 32\n",
      "Text: 因為自己本身是敏感肌，所以用保養品都會很小心翼翼看成分，目前覺得醫美牌大致上幾乎都蠻安全的，算是可放心服用～另外味道也是一門學問，基本上香味太濃郁妖豔的，擦上去就是立馬泛紅或刺刺的，百試不厭耶！，而且\n",
      "True category: makeup\n",
      "Category probabilities:\n",
      "{'trending': 0.0046507827937603, 'dressup': 0.005224997643381357, 'netflix': 0.005102104041725397, 'money': 0.005229421425610781, 'makeup': 0.9797927141189575}\n",
      "Predicted category: makeup\n"
     ]
    }
   ],
   "source": [
    "show_test()"
   ]
  },
  {
   "cell_type": "code",
   "execution_count": 149,
   "metadata": {
    "colab": {
     "base_uri": "https://localhost:8080/"
    },
    "id": "if3IUBf-SqmY",
    "outputId": "3fef5d42-e0bc-4555-9460-c0c877c3aade"
   },
   "outputs": [
    {
     "name": "stdout",
     "output_type": "stream",
     "text": [
      "Index in test data: 92\n",
      "Text: 2022.03.03，當日收益：151.1178，本金：50w，註記：無，程式使用API串聯，幣安，火幣，kraken，ok等一線交易所進行交易，資金皆在自己的交易所帳戶內️️，Instagram：加密\n",
      "True category: money\n",
      "Category probabilities:\n",
      "{'trending': 0.003693468403071165, 'dressup': 0.003174132201820612, 'netflix': 0.0034728439059108496, 'money': 0.9856423735618591, 'makeup': 0.004017228726297617}\n",
      "Predicted category: money\n"
     ]
    }
   ],
   "source": [
    "show_test()"
   ]
  },
  {
   "cell_type": "markdown",
   "metadata": {
    "id": "6tCEKKFNTKRT"
   },
   "source": [
    "- With powerful techniques like deep learning and transfer learning, it's sometimes not easy to explain to customers/clients/bosses why your models make good predictions.\n",
    "\n",
    "![](https://github.com/howard-haowen/NLP-demos/raw/main/img/explain-models.JPG)"
   ]
  },
  {
   "cell_type": "markdown",
   "metadata": {
    "id": "1xzDmyLgBHmX",
    "slideshow": {
     "slide_type": "slide"
    }
   },
   "source": [
    "# References"
   ]
  },
  {
   "cell_type": "markdown",
   "metadata": {
    "id": "a11-DzEqjaJf",
    "slideshow": {
     "slide_type": "subslide"
    }
   },
   "source": [
    "## Articles\n",
    "\n",
    "- [An Introduction to Machine Learning](https://monkeylearn.com/machine-learning/)\n",
    "- [Top Natural Language\n",
    "Processing Applications\n",
    "in Business](https://www.accenture.com/_acnmedia/pdf-106/accenture-unlocking-value-unstructured-data.pdf)\n",
    "- [Symbolic, Distributed, and Distributional Representations for Natural Language Processing in the Era of Deep Learning: A Survey](https://www.frontiersin.org/articles/10.3389/frobt.2019.00153/full)"
   ]
  },
  {
   "cell_type": "markdown",
   "metadata": {
    "id": "zc49uC4hBB3_",
    "slideshow": {
     "slide_type": "subslide"
    }
   },
   "source": [
    "## Books\n",
    "\n",
    "<div>\n",
    "<img src=\"https://i.gr-assets.com/images/S/compressed.photo.goodreads.com/books/1630086235l/58870327._SX318_.jpg\" width:50%>\n",
    "<img src=\"https://i.gr-assets.com/images/S/compressed.photo.goodreads.com/books/1628096299l/55711023._SX318_.jpg\" width:50%>\n",
    "</div>"
   ]
  }
 ],
 "metadata": {
  "celltoolbar": "Slideshow",
  "colab": {
   "collapsed_sections": [],
   "include_colab_link": true,
   "name": "NTNU_talk.ipynb",
   "provenance": []
  },
  "jupytext": {
   "formats": "ipynb,auto:percent"
  },
  "kernelspec": {
   "display_name": "Python 3 (ipykernel)",
   "language": "python",
   "name": "python3"
  },
  "language_info": {
   "codemirror_mode": {
    "name": "ipython",
    "version": 3
   },
   "file_extension": ".py",
   "mimetype": "text/x-python",
   "name": "python",
   "nbconvert_exporter": "python",
   "pygments_lexer": "ipython3",
   "version": "3.10.2"
  },
  "widgets": {
   "application/vnd.jupyter.widget-state+json": {
    "1ba020a319cf4773bc951dc7e88f03e4": {
     "model_module": "@jupyter-widgets/base",
     "model_module_version": "1.2.0",
     "model_name": "LayoutModel",
     "state": {
      "_model_module": "@jupyter-widgets/base",
      "_model_module_version": "1.2.0",
      "_model_name": "LayoutModel",
      "_view_count": null,
      "_view_module": "@jupyter-widgets/base",
      "_view_module_version": "1.2.0",
      "_view_name": "LayoutView",
      "align_content": null,
      "align_items": null,
      "align_self": null,
      "border": null,
      "bottom": null,
      "display": null,
      "flex": null,
      "flex_flow": null,
      "grid_area": null,
      "grid_auto_columns": null,
      "grid_auto_flow": null,
      "grid_auto_rows": null,
      "grid_column": null,
      "grid_gap": null,
      "grid_row": null,
      "grid_template_areas": null,
      "grid_template_columns": null,
      "grid_template_rows": null,
      "height": null,
      "justify_content": null,
      "justify_items": null,
      "left": null,
      "margin": null,
      "max_height": null,
      "max_width": null,
      "min_height": null,
      "min_width": null,
      "object_fit": null,
      "object_position": null,
      "order": null,
      "overflow": null,
      "overflow_x": null,
      "overflow_y": null,
      "padding": null,
      "right": null,
      "top": null,
      "visibility": null,
      "width": null
     }
    },
    "35042fa88e854be3b4d08f002e148159": {
     "model_module": "@jupyter-widgets/base",
     "model_module_version": "1.2.0",
     "model_name": "LayoutModel",
     "state": {
      "_model_module": "@jupyter-widgets/base",
      "_model_module_version": "1.2.0",
      "_model_name": "LayoutModel",
      "_view_count": null,
      "_view_module": "@jupyter-widgets/base",
      "_view_module_version": "1.2.0",
      "_view_name": "LayoutView",
      "align_content": null,
      "align_items": null,
      "align_self": null,
      "border": null,
      "bottom": null,
      "display": null,
      "flex": null,
      "flex_flow": null,
      "grid_area": null,
      "grid_auto_columns": null,
      "grid_auto_flow": null,
      "grid_auto_rows": null,
      "grid_column": null,
      "grid_gap": null,
      "grid_row": null,
      "grid_template_areas": null,
      "grid_template_columns": null,
      "grid_template_rows": null,
      "height": null,
      "justify_content": null,
      "justify_items": null,
      "left": null,
      "margin": null,
      "max_height": null,
      "max_width": null,
      "min_height": null,
      "min_width": null,
      "object_fit": null,
      "object_position": null,
      "order": null,
      "overflow": null,
      "overflow_x": null,
      "overflow_y": null,
      "padding": null,
      "right": null,
      "top": null,
      "visibility": null,
      "width": null
     }
    },
    "428506ae72254f8188986621634b0d2d": {
     "model_module": "@jupyter-widgets/controls",
     "model_module_version": "1.5.0",
     "model_name": "FloatProgressModel",
     "state": {
      "_dom_classes": [],
      "_model_module": "@jupyter-widgets/controls",
      "_model_module_version": "1.5.0",
      "_model_name": "FloatProgressModel",
      "_view_count": null,
      "_view_module": "@jupyter-widgets/controls",
      "_view_module_version": "1.5.0",
      "_view_name": "ProgressView",
      "bar_style": "success",
      "description": "",
      "description_tooltip": null,
      "layout": "IPY_MODEL_8f319eb7851647ad9c93e415ebee2e7e",
      "max": 42,
      "min": 0,
      "orientation": "horizontal",
      "style": "IPY_MODEL_90204d21e2d04524a6f2570d5c29381f",
      "value": 42
     }
    },
    "4c11909683a74344af573335c194d679": {
     "model_module": "@jupyter-widgets/controls",
     "model_module_version": "1.5.0",
     "model_name": "HTMLModel",
     "state": {
      "_dom_classes": [],
      "_model_module": "@jupyter-widgets/controls",
      "_model_module_version": "1.5.0",
      "_model_name": "HTMLModel",
      "_view_count": null,
      "_view_module": "@jupyter-widgets/controls",
      "_view_module_version": "1.5.0",
      "_view_name": "HTMLView",
      "description": "",
      "description_tooltip": null,
      "layout": "IPY_MODEL_35042fa88e854be3b4d08f002e148159",
      "placeholder": "​",
      "style": "IPY_MODEL_a971f7f377b24a649fa49f4646faa2d4",
      "value": " 98/98 [00:00&lt;00:00, 666.47it/s]"
     }
    },
    "4f331eb06d5244f7b206393892302b7c": {
     "model_module": "@jupyter-widgets/controls",
     "model_module_version": "1.5.0",
     "model_name": "DescriptionStyleModel",
     "state": {
      "_model_module": "@jupyter-widgets/controls",
      "_model_module_version": "1.5.0",
      "_model_name": "DescriptionStyleModel",
      "_view_count": null,
      "_view_module": "@jupyter-widgets/base",
      "_view_module_version": "1.2.0",
      "_view_name": "StyleView",
      "description_width": ""
     }
    },
    "68d1a81d31a44f16ae7f9bd17a0c2f51": {
     "model_module": "@jupyter-widgets/base",
     "model_module_version": "1.2.0",
     "model_name": "LayoutModel",
     "state": {
      "_model_module": "@jupyter-widgets/base",
      "_model_module_version": "1.2.0",
      "_model_name": "LayoutModel",
      "_view_count": null,
      "_view_module": "@jupyter-widgets/base",
      "_view_module_version": "1.2.0",
      "_view_name": "LayoutView",
      "align_content": null,
      "align_items": null,
      "align_self": null,
      "border": null,
      "bottom": null,
      "display": null,
      "flex": null,
      "flex_flow": null,
      "grid_area": null,
      "grid_auto_columns": null,
      "grid_auto_flow": null,
      "grid_auto_rows": null,
      "grid_column": null,
      "grid_gap": null,
      "grid_row": null,
      "grid_template_areas": null,
      "grid_template_columns": null,
      "grid_template_rows": null,
      "height": null,
      "justify_content": null,
      "justify_items": null,
      "left": null,
      "margin": null,
      "max_height": null,
      "max_width": null,
      "min_height": null,
      "min_width": null,
      "object_fit": null,
      "object_position": null,
      "order": null,
      "overflow": null,
      "overflow_x": null,
      "overflow_y": null,
      "padding": null,
      "right": null,
      "top": null,
      "visibility": null,
      "width": null
     }
    },
    "7d5ec8d7f8004caeba8d15c91be9dcab": {
     "model_module": "@jupyter-widgets/controls",
     "model_module_version": "1.5.0",
     "model_name": "ProgressStyleModel",
     "state": {
      "_model_module": "@jupyter-widgets/controls",
      "_model_module_version": "1.5.0",
      "_model_name": "ProgressStyleModel",
      "_view_count": null,
      "_view_module": "@jupyter-widgets/base",
      "_view_module_version": "1.2.0",
      "_view_name": "StyleView",
      "bar_color": null,
      "description_width": ""
     }
    },
    "88cf09ad12a5405d9649916cdedbbc73": {
     "model_module": "@jupyter-widgets/controls",
     "model_module_version": "1.5.0",
     "model_name": "FloatProgressModel",
     "state": {
      "_dom_classes": [],
      "_model_module": "@jupyter-widgets/controls",
      "_model_module_version": "1.5.0",
      "_model_name": "FloatProgressModel",
      "_view_count": null,
      "_view_module": "@jupyter-widgets/controls",
      "_view_module_version": "1.5.0",
      "_view_name": "ProgressView",
      "bar_style": "success",
      "description": "",
      "description_tooltip": null,
      "layout": "IPY_MODEL_68d1a81d31a44f16ae7f9bd17a0c2f51",
      "max": 98,
      "min": 0,
      "orientation": "horizontal",
      "style": "IPY_MODEL_7d5ec8d7f8004caeba8d15c91be9dcab",
      "value": 98
     }
    },
    "8b0c9fd10f754442ba355eeea81b6386": {
     "model_module": "@jupyter-widgets/base",
     "model_module_version": "1.2.0",
     "model_name": "LayoutModel",
     "state": {
      "_model_module": "@jupyter-widgets/base",
      "_model_module_version": "1.2.0",
      "_model_name": "LayoutModel",
      "_view_count": null,
      "_view_module": "@jupyter-widgets/base",
      "_view_module_version": "1.2.0",
      "_view_name": "LayoutView",
      "align_content": null,
      "align_items": null,
      "align_self": null,
      "border": null,
      "bottom": null,
      "display": null,
      "flex": null,
      "flex_flow": null,
      "grid_area": null,
      "grid_auto_columns": null,
      "grid_auto_flow": null,
      "grid_auto_rows": null,
      "grid_column": null,
      "grid_gap": null,
      "grid_row": null,
      "grid_template_areas": null,
      "grid_template_columns": null,
      "grid_template_rows": null,
      "height": null,
      "justify_content": null,
      "justify_items": null,
      "left": null,
      "margin": null,
      "max_height": null,
      "max_width": null,
      "min_height": null,
      "min_width": null,
      "object_fit": null,
      "object_position": null,
      "order": null,
      "overflow": null,
      "overflow_x": null,
      "overflow_y": null,
      "padding": null,
      "right": null,
      "top": null,
      "visibility": null,
      "width": null
     }
    },
    "8bc1782c6ca24192a715fd5c1e372e98": {
     "model_module": "@jupyter-widgets/controls",
     "model_module_version": "1.5.0",
     "model_name": "HTMLModel",
     "state": {
      "_dom_classes": [],
      "_model_module": "@jupyter-widgets/controls",
      "_model_module_version": "1.5.0",
      "_model_name": "HTMLModel",
      "_view_count": null,
      "_view_module": "@jupyter-widgets/controls",
      "_view_module_version": "1.5.0",
      "_view_name": "HTMLView",
      "description": "",
      "description_tooltip": null,
      "layout": "IPY_MODEL_92e1966f42154300b5f80b121bba22a7",
      "placeholder": "​",
      "style": "IPY_MODEL_d50ce50f118342f2b86c2e0786b4207e",
      "value": " 42/42 [00:00&lt;00:00, 494.93it/s]"
     }
    },
    "8f319eb7851647ad9c93e415ebee2e7e": {
     "model_module": "@jupyter-widgets/base",
     "model_module_version": "1.2.0",
     "model_name": "LayoutModel",
     "state": {
      "_model_module": "@jupyter-widgets/base",
      "_model_module_version": "1.2.0",
      "_model_name": "LayoutModel",
      "_view_count": null,
      "_view_module": "@jupyter-widgets/base",
      "_view_module_version": "1.2.0",
      "_view_name": "LayoutView",
      "align_content": null,
      "align_items": null,
      "align_self": null,
      "border": null,
      "bottom": null,
      "display": null,
      "flex": null,
      "flex_flow": null,
      "grid_area": null,
      "grid_auto_columns": null,
      "grid_auto_flow": null,
      "grid_auto_rows": null,
      "grid_column": null,
      "grid_gap": null,
      "grid_row": null,
      "grid_template_areas": null,
      "grid_template_columns": null,
      "grid_template_rows": null,
      "height": null,
      "justify_content": null,
      "justify_items": null,
      "left": null,
      "margin": null,
      "max_height": null,
      "max_width": null,
      "min_height": null,
      "min_width": null,
      "object_fit": null,
      "object_position": null,
      "order": null,
      "overflow": null,
      "overflow_x": null,
      "overflow_y": null,
      "padding": null,
      "right": null,
      "top": null,
      "visibility": null,
      "width": null
     }
    },
    "90204d21e2d04524a6f2570d5c29381f": {
     "model_module": "@jupyter-widgets/controls",
     "model_module_version": "1.5.0",
     "model_name": "ProgressStyleModel",
     "state": {
      "_model_module": "@jupyter-widgets/controls",
      "_model_module_version": "1.5.0",
      "_model_name": "ProgressStyleModel",
      "_view_count": null,
      "_view_module": "@jupyter-widgets/base",
      "_view_module_version": "1.2.0",
      "_view_name": "StyleView",
      "bar_color": null,
      "description_width": ""
     }
    },
    "92e1966f42154300b5f80b121bba22a7": {
     "model_module": "@jupyter-widgets/base",
     "model_module_version": "1.2.0",
     "model_name": "LayoutModel",
     "state": {
      "_model_module": "@jupyter-widgets/base",
      "_model_module_version": "1.2.0",
      "_model_name": "LayoutModel",
      "_view_count": null,
      "_view_module": "@jupyter-widgets/base",
      "_view_module_version": "1.2.0",
      "_view_name": "LayoutView",
      "align_content": null,
      "align_items": null,
      "align_self": null,
      "border": null,
      "bottom": null,
      "display": null,
      "flex": null,
      "flex_flow": null,
      "grid_area": null,
      "grid_auto_columns": null,
      "grid_auto_flow": null,
      "grid_auto_rows": null,
      "grid_column": null,
      "grid_gap": null,
      "grid_row": null,
      "grid_template_areas": null,
      "grid_template_columns": null,
      "grid_template_rows": null,
      "height": null,
      "justify_content": null,
      "justify_items": null,
      "left": null,
      "margin": null,
      "max_height": null,
      "max_width": null,
      "min_height": null,
      "min_width": null,
      "object_fit": null,
      "object_position": null,
      "order": null,
      "overflow": null,
      "overflow_x": null,
      "overflow_y": null,
      "padding": null,
      "right": null,
      "top": null,
      "visibility": null,
      "width": null
     }
    },
    "a022c2c3fdb040e9bd2b5f86499ef12d": {
     "model_module": "@jupyter-widgets/controls",
     "model_module_version": "1.5.0",
     "model_name": "HTMLModel",
     "state": {
      "_dom_classes": [],
      "_model_module": "@jupyter-widgets/controls",
      "_model_module_version": "1.5.0",
      "_model_name": "HTMLModel",
      "_view_count": null,
      "_view_module": "@jupyter-widgets/controls",
      "_view_module_version": "1.5.0",
      "_view_name": "HTMLView",
      "description": "",
      "description_tooltip": null,
      "layout": "IPY_MODEL_bff7110543ba40ab9ee4614c23fa73f9",
      "placeholder": "​",
      "style": "IPY_MODEL_e3ee0ffd00544ba0af21e8a175b173aa",
      "value": "100%"
     }
    },
    "a971f7f377b24a649fa49f4646faa2d4": {
     "model_module": "@jupyter-widgets/controls",
     "model_module_version": "1.5.0",
     "model_name": "DescriptionStyleModel",
     "state": {
      "_model_module": "@jupyter-widgets/controls",
      "_model_module_version": "1.5.0",
      "_model_name": "DescriptionStyleModel",
      "_view_count": null,
      "_view_module": "@jupyter-widgets/base",
      "_view_module_version": "1.2.0",
      "_view_name": "StyleView",
      "description_width": ""
     }
    },
    "b2a8a0c2a98e47d7bca9720510fde9d4": {
     "model_module": "@jupyter-widgets/controls",
     "model_module_version": "1.5.0",
     "model_name": "HTMLModel",
     "state": {
      "_dom_classes": [],
      "_model_module": "@jupyter-widgets/controls",
      "_model_module_version": "1.5.0",
      "_model_name": "HTMLModel",
      "_view_count": null,
      "_view_module": "@jupyter-widgets/controls",
      "_view_module_version": "1.5.0",
      "_view_name": "HTMLView",
      "description": "",
      "description_tooltip": null,
      "layout": "IPY_MODEL_dd70832bca6f4e33b436bb1ad431a65b",
      "placeholder": "​",
      "style": "IPY_MODEL_4f331eb06d5244f7b206393892302b7c",
      "value": "100%"
     }
    },
    "bff7110543ba40ab9ee4614c23fa73f9": {
     "model_module": "@jupyter-widgets/base",
     "model_module_version": "1.2.0",
     "model_name": "LayoutModel",
     "state": {
      "_model_module": "@jupyter-widgets/base",
      "_model_module_version": "1.2.0",
      "_model_name": "LayoutModel",
      "_view_count": null,
      "_view_module": "@jupyter-widgets/base",
      "_view_module_version": "1.2.0",
      "_view_name": "LayoutView",
      "align_content": null,
      "align_items": null,
      "align_self": null,
      "border": null,
      "bottom": null,
      "display": null,
      "flex": null,
      "flex_flow": null,
      "grid_area": null,
      "grid_auto_columns": null,
      "grid_auto_flow": null,
      "grid_auto_rows": null,
      "grid_column": null,
      "grid_gap": null,
      "grid_row": null,
      "grid_template_areas": null,
      "grid_template_columns": null,
      "grid_template_rows": null,
      "height": null,
      "justify_content": null,
      "justify_items": null,
      "left": null,
      "margin": null,
      "max_height": null,
      "max_width": null,
      "min_height": null,
      "min_width": null,
      "object_fit": null,
      "object_position": null,
      "order": null,
      "overflow": null,
      "overflow_x": null,
      "overflow_y": null,
      "padding": null,
      "right": null,
      "top": null,
      "visibility": null,
      "width": null
     }
    },
    "d50ce50f118342f2b86c2e0786b4207e": {
     "model_module": "@jupyter-widgets/controls",
     "model_module_version": "1.5.0",
     "model_name": "DescriptionStyleModel",
     "state": {
      "_model_module": "@jupyter-widgets/controls",
      "_model_module_version": "1.5.0",
      "_model_name": "DescriptionStyleModel",
      "_view_count": null,
      "_view_module": "@jupyter-widgets/base",
      "_view_module_version": "1.2.0",
      "_view_name": "StyleView",
      "description_width": ""
     }
    },
    "dd70832bca6f4e33b436bb1ad431a65b": {
     "model_module": "@jupyter-widgets/base",
     "model_module_version": "1.2.0",
     "model_name": "LayoutModel",
     "state": {
      "_model_module": "@jupyter-widgets/base",
      "_model_module_version": "1.2.0",
      "_model_name": "LayoutModel",
      "_view_count": null,
      "_view_module": "@jupyter-widgets/base",
      "_view_module_version": "1.2.0",
      "_view_name": "LayoutView",
      "align_content": null,
      "align_items": null,
      "align_self": null,
      "border": null,
      "bottom": null,
      "display": null,
      "flex": null,
      "flex_flow": null,
      "grid_area": null,
      "grid_auto_columns": null,
      "grid_auto_flow": null,
      "grid_auto_rows": null,
      "grid_column": null,
      "grid_gap": null,
      "grid_row": null,
      "grid_template_areas": null,
      "grid_template_columns": null,
      "grid_template_rows": null,
      "height": null,
      "justify_content": null,
      "justify_items": null,
      "left": null,
      "margin": null,
      "max_height": null,
      "max_width": null,
      "min_height": null,
      "min_width": null,
      "object_fit": null,
      "object_position": null,
      "order": null,
      "overflow": null,
      "overflow_x": null,
      "overflow_y": null,
      "padding": null,
      "right": null,
      "top": null,
      "visibility": null,
      "width": null
     }
    },
    "e3ee0ffd00544ba0af21e8a175b173aa": {
     "model_module": "@jupyter-widgets/controls",
     "model_module_version": "1.5.0",
     "model_name": "DescriptionStyleModel",
     "state": {
      "_model_module": "@jupyter-widgets/controls",
      "_model_module_version": "1.5.0",
      "_model_name": "DescriptionStyleModel",
      "_view_count": null,
      "_view_module": "@jupyter-widgets/base",
      "_view_module_version": "1.2.0",
      "_view_name": "StyleView",
      "description_width": ""
     }
    },
    "e60a9cfc4b7748b5b53df301c4ed2c96": {
     "model_module": "@jupyter-widgets/controls",
     "model_module_version": "1.5.0",
     "model_name": "HBoxModel",
     "state": {
      "_dom_classes": [],
      "_model_module": "@jupyter-widgets/controls",
      "_model_module_version": "1.5.0",
      "_model_name": "HBoxModel",
      "_view_count": null,
      "_view_module": "@jupyter-widgets/controls",
      "_view_module_version": "1.5.0",
      "_view_name": "HBoxView",
      "box_style": "",
      "children": [
       "IPY_MODEL_a022c2c3fdb040e9bd2b5f86499ef12d",
       "IPY_MODEL_88cf09ad12a5405d9649916cdedbbc73",
       "IPY_MODEL_4c11909683a74344af573335c194d679"
      ],
      "layout": "IPY_MODEL_8b0c9fd10f754442ba355eeea81b6386"
     }
    },
    "fd1eb0585e944d5599594694bd055c97": {
     "model_module": "@jupyter-widgets/controls",
     "model_module_version": "1.5.0",
     "model_name": "HBoxModel",
     "state": {
      "_dom_classes": [],
      "_model_module": "@jupyter-widgets/controls",
      "_model_module_version": "1.5.0",
      "_model_name": "HBoxModel",
      "_view_count": null,
      "_view_module": "@jupyter-widgets/controls",
      "_view_module_version": "1.5.0",
      "_view_name": "HBoxView",
      "box_style": "",
      "children": [
       "IPY_MODEL_b2a8a0c2a98e47d7bca9720510fde9d4",
       "IPY_MODEL_428506ae72254f8188986621634b0d2d",
       "IPY_MODEL_8bc1782c6ca24192a715fd5c1e372e98"
      ],
      "layout": "IPY_MODEL_1ba020a319cf4773bc951dc7e88f03e4"
     }
    }
   }
  }
 },
 "nbformat": 4,
 "nbformat_minor": 1
}
