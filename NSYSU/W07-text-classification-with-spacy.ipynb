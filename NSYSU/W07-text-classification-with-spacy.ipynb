{
  "cells": [
    {
      "cell_type": "markdown",
      "metadata": {
        "id": "view-in-github",
        "colab_type": "text"
      },
      "source": [
        "<a href=\"https://colab.research.google.com/github/howard-haowen/NLP-demos/blob/main/NSYSU/W07-text-classification-with-spacy.ipynb\" target=\"_parent\"><img src=\"https://colab.research.google.com/assets/colab-badge.svg\" alt=\"Open In Colab\"/></a>"
      ]
    },
    {
      "cell_type": "markdown",
      "source": [
        "This notebook is written by [Haowen Jiang](https://howard-haowen.rohan.tw/) and meant for the 2022 [NLP Workshop at NSYSU](https://howard-haowen.rohan.tw/NLP-demos/nsysu_workshop)."
      ],
      "metadata": {
        "id": "xog8eZPnpLDC"
      }
    },
    {
      "cell_type": "code",
      "source": [
        "from datetime import date\n",
        "\n",
        "today = date.today()\n",
        "print(\"Last updated:\", today)"
      ],
      "metadata": {
        "colab": {
          "base_uri": "https://localhost:8080/"
        },
        "id": "dH1CMlL0pXbv",
        "outputId": "b1882a8f-cc9a-4675-a1ee-de2e60912940"
      },
      "execution_count": 1,
      "outputs": [
        {
          "output_type": "stream",
          "name": "stdout",
          "text": [
            "Last updated: 2022-06-03\n"
          ]
        }
      ]
    },
    {
      "cell_type": "markdown",
      "metadata": {
        "id": "oLJoRogodMP4"
      },
      "source": [
        "# Text Classification with spaCy"
      ]
    },
    {
      "cell_type": "markdown",
      "metadata": {
        "id": "iYaucjJ2dMP5"
      },
      "source": [
        "In this notebook, we're going to train text classification models using spaCy, mostly on its CLI."
      ]
    },
    {
      "cell_type": "markdown",
      "source": [
        "There are numerous use cases for text classification, including"
      ],
      "metadata": {
        "id": "CCO_qNdM7zT4"
      }
    },
    {
      "cell_type": "markdown",
      "source": [
        "- Email spam detector\n",
        "![](https://i1.wp.com/www.opinosis-analytics.com/wp-content/uploads/2020/08/document_classification.png?resize=872%2C436&ssl=1)"
      ],
      "metadata": {
        "id": "R3Ly6j4u9nDO"
      }
    },
    {
      "cell_type": "markdown",
      "source": [
        "- Hate speech detector\n",
        "![](https://i1.wp.com/www.opinosis-analytics.com/wp-content/uploads/2020/08/facebook_hatespeech.png?resize=721%2C548&ssl=1)"
      ],
      "metadata": {
        "id": "g5JDfY6L_Y-_"
      }
    },
    {
      "cell_type": "markdown",
      "source": [
        "- Customer sentiment analysis\n",
        "![](https://d33wubrfki0l68.cloudfront.net/9e1b2a906ae6b01cfe2d5d237e1e51f5d41864e3/2a5f9/static/348bb1d70089176ca2f61ea402094382/50bf7/main.png)"
      ],
      "metadata": {
        "id": "2IwT9mLz_-mF"
      }
    },
    {
      "cell_type": "markdown",
      "source": [
        "- Customer support system\n",
        "![](https://www.opinosis-analytics.com/wp-content/uploads/2020/07/big_data_strategy_ticket_routing-1024x717.png)"
      ],
      "metadata": {
        "id": "Ry10TV2H9swL"
      }
    },
    {
      "cell_type": "markdown",
      "source": [
        "- News classification\n",
        "![](https://miro.medium.com/max/700/1*HgXA9v1EsqlrRDaC_iORhQ.png)"
      ],
      "metadata": {
        "id": "iOPtATIOBiLk"
      }
    },
    {
      "cell_type": "markdown",
      "source": [
        "- Chatbot intent recognition \n",
        "![](https://assets-global.website-files.com/5e29a0c20f2d35836e6bc609/5eafc053bd54499b92d23c9d_Intent-Classification.png)"
      ],
      "metadata": {
        "id": "PIPc8nkt_Xk-"
      }
    },
    {
      "cell_type": "markdown",
      "metadata": {
        "id": "2vHK5x7_dMP6"
      },
      "source": [
        "## Dataset"
      ]
    },
    {
      "cell_type": "markdown",
      "source": [
        "In this tutorial, we'll be using a dataset of 50K online reviews for 5 product categories. Read [this post](https://howard-haowen.rohan.tw/blog.ai/spacy/text-classification/sentiment-analysis/customer-reviews/fasttext/facets/2021/03/12/Classifying-customer-reviews-with-spaCy-v3.html#Preparing-the-dataset) of mine to find out details on how the dataset has been processed to become the way it looks now."
      ],
      "metadata": {
        "id": "st2wzaU_pf5-"
      }
    },
    {
      "cell_type": "code",
      "source": [
        "!wget -O reviews.csv https://github.com/howard-haowen/NLP-demos/raw/main/online_shopping_5_cats_tra.csv"
      ],
      "metadata": {
        "colab": {
          "base_uri": "https://localhost:8080/"
        },
        "id": "EQ17YGUMXu8K",
        "outputId": "ccdd8fb0-377e-4016-96d9-79e254562fb7"
      },
      "execution_count": 2,
      "outputs": [
        {
          "output_type": "stream",
          "name": "stdout",
          "text": [
            "--2022-06-03 02:09:38--  https://github.com/howard-haowen/NLP-demos/raw/main/online_shopping_5_cats_tra.csv\n",
            "Resolving github.com (github.com)... 140.82.112.4\n",
            "Connecting to github.com (github.com)|140.82.112.4|:443... connected.\n",
            "HTTP request sent, awaiting response... 302 Found\n",
            "Location: https://raw.githubusercontent.com/howard-haowen/NLP-demos/main/online_shopping_5_cats_tra.csv [following]\n",
            "--2022-06-03 02:09:38--  https://raw.githubusercontent.com/howard-haowen/NLP-demos/main/online_shopping_5_cats_tra.csv\n",
            "Resolving raw.githubusercontent.com (raw.githubusercontent.com)... 185.199.108.133, 185.199.109.133, 185.199.110.133, ...\n",
            "Connecting to raw.githubusercontent.com (raw.githubusercontent.com)|185.199.108.133|:443... connected.\n",
            "HTTP request sent, awaiting response... 200 OK\n",
            "Length: 8062412 (7.7M) [text/plain]\n",
            "Saving to: ‘reviews.csv’\n",
            "\n",
            "reviews.csv         100%[===================>]   7.69M  --.-KB/s    in 0.1s    \n",
            "\n",
            "2022-06-03 02:09:39 (72.4 MB/s) - ‘reviews.csv’ saved [8062412/8062412]\n",
            "\n"
          ]
        }
      ]
    },
    {
      "cell_type": "code",
      "source": [
        "import pandas as pd\n",
        "pd.options.plotting.backend = \"plotly\""
      ],
      "metadata": {
        "id": "Z1znwPgrX5AL"
      },
      "execution_count": 3,
      "outputs": []
    },
    {
      "cell_type": "code",
      "source": [
        "df = pd.read_csv('reviews.csv')\n",
        "df"
      ],
      "metadata": {
        "colab": {
          "base_uri": "https://localhost:8080/",
          "height": 641
        },
        "id": "e4GIJ4P3X6Ii",
        "outputId": "bcef758a-55e2-490b-a782-849884c1bf13"
      },
      "execution_count": 4,
      "outputs": [
        {
          "output_type": "execute_result",
          "data": {
            "text/plain": [
              "      cat  label                                             review\n",
              "0      平板      1                                    ﻿很不錯。。。。。。很好的平板\n",
              "1      平板      1                                幫同學買的，同學說感覺挺好，質量也不錯\n",
              "2      平板      1      東西不錯，一看就是正品包裝，還沒有開機，相信京東，都是老顧客，還是京東值得信賴，給五星好評\n",
              "3      平板      1                                      總體而言，產品還是不錯的。\n",
              "4      平板      1                                        好，不錯，真的很好不錯\n",
              "...    ..    ...                                                ...\n",
              "49995  酒店      0  我們去鹽城的時候那裡的最低氣溫只有4度，晚上冷得要死，居然還不開空調，投訴到酒店客房部，得到...\n",
              "49996  酒店      0  房間很小，整體設施老化，和四星的差距很大。毛巾太破舊了。早餐很簡陋。房間隔音很差，隔兩間房間...\n",
              "49997  酒店      0                      我感覺不行。。。價效比很差。不知道是銀川都這樣還是怎麼的！\n",
              "49998  酒店      0  房間時間長，進去有點異味！服務員是不是不夠用啊！我在一樓找了半個小時以上才找到自己房間，想找...\n",
              "49999  酒店      0  老人小孩一大家族聚會，選在吳宮泛太平洋，以為新加坡品牌一定很不錯，沒想到11點30分到前臺，...\n",
              "\n",
              "[50000 rows x 3 columns]"
            ],
            "text/html": [
              "\n",
              "  <div id=\"df-dba0b57f-6df6-4469-83d9-58659e8548ac\">\n",
              "    <div class=\"colab-df-container\">\n",
              "      <div>\n",
              "<style scoped>\n",
              "    .dataframe tbody tr th:only-of-type {\n",
              "        vertical-align: middle;\n",
              "    }\n",
              "\n",
              "    .dataframe tbody tr th {\n",
              "        vertical-align: top;\n",
              "    }\n",
              "\n",
              "    .dataframe thead th {\n",
              "        text-align: right;\n",
              "    }\n",
              "</style>\n",
              "<table border=\"1\" class=\"dataframe\">\n",
              "  <thead>\n",
              "    <tr style=\"text-align: right;\">\n",
              "      <th></th>\n",
              "      <th>cat</th>\n",
              "      <th>label</th>\n",
              "      <th>review</th>\n",
              "    </tr>\n",
              "  </thead>\n",
              "  <tbody>\n",
              "    <tr>\n",
              "      <th>0</th>\n",
              "      <td>平板</td>\n",
              "      <td>1</td>\n",
              "      <td>﻿很不錯。。。。。。很好的平板</td>\n",
              "    </tr>\n",
              "    <tr>\n",
              "      <th>1</th>\n",
              "      <td>平板</td>\n",
              "      <td>1</td>\n",
              "      <td>幫同學買的，同學說感覺挺好，質量也不錯</td>\n",
              "    </tr>\n",
              "    <tr>\n",
              "      <th>2</th>\n",
              "      <td>平板</td>\n",
              "      <td>1</td>\n",
              "      <td>東西不錯，一看就是正品包裝，還沒有開機，相信京東，都是老顧客，還是京東值得信賴，給五星好評</td>\n",
              "    </tr>\n",
              "    <tr>\n",
              "      <th>3</th>\n",
              "      <td>平板</td>\n",
              "      <td>1</td>\n",
              "      <td>總體而言，產品還是不錯的。</td>\n",
              "    </tr>\n",
              "    <tr>\n",
              "      <th>4</th>\n",
              "      <td>平板</td>\n",
              "      <td>1</td>\n",
              "      <td>好，不錯，真的很好不錯</td>\n",
              "    </tr>\n",
              "    <tr>\n",
              "      <th>...</th>\n",
              "      <td>...</td>\n",
              "      <td>...</td>\n",
              "      <td>...</td>\n",
              "    </tr>\n",
              "    <tr>\n",
              "      <th>49995</th>\n",
              "      <td>酒店</td>\n",
              "      <td>0</td>\n",
              "      <td>我們去鹽城的時候那裡的最低氣溫只有4度，晚上冷得要死，居然還不開空調，投訴到酒店客房部，得到...</td>\n",
              "    </tr>\n",
              "    <tr>\n",
              "      <th>49996</th>\n",
              "      <td>酒店</td>\n",
              "      <td>0</td>\n",
              "      <td>房間很小，整體設施老化，和四星的差距很大。毛巾太破舊了。早餐很簡陋。房間隔音很差，隔兩間房間...</td>\n",
              "    </tr>\n",
              "    <tr>\n",
              "      <th>49997</th>\n",
              "      <td>酒店</td>\n",
              "      <td>0</td>\n",
              "      <td>我感覺不行。。。價效比很差。不知道是銀川都這樣還是怎麼的！</td>\n",
              "    </tr>\n",
              "    <tr>\n",
              "      <th>49998</th>\n",
              "      <td>酒店</td>\n",
              "      <td>0</td>\n",
              "      <td>房間時間長，進去有點異味！服務員是不是不夠用啊！我在一樓找了半個小時以上才找到自己房間，想找...</td>\n",
              "    </tr>\n",
              "    <tr>\n",
              "      <th>49999</th>\n",
              "      <td>酒店</td>\n",
              "      <td>0</td>\n",
              "      <td>老人小孩一大家族聚會，選在吳宮泛太平洋，以為新加坡品牌一定很不錯，沒想到11點30分到前臺，...</td>\n",
              "    </tr>\n",
              "  </tbody>\n",
              "</table>\n",
              "<p>50000 rows × 3 columns</p>\n",
              "</div>\n",
              "      <button class=\"colab-df-convert\" onclick=\"convertToInteractive('df-dba0b57f-6df6-4469-83d9-58659e8548ac')\"\n",
              "              title=\"Convert this dataframe to an interactive table.\"\n",
              "              style=\"display:none;\">\n",
              "        \n",
              "  <svg xmlns=\"http://www.w3.org/2000/svg\" height=\"24px\"viewBox=\"0 0 24 24\"\n",
              "       width=\"24px\">\n",
              "    <path d=\"M0 0h24v24H0V0z\" fill=\"none\"/>\n",
              "    <path d=\"M18.56 5.44l.94 2.06.94-2.06 2.06-.94-2.06-.94-.94-2.06-.94 2.06-2.06.94zm-11 1L8.5 8.5l.94-2.06 2.06-.94-2.06-.94L8.5 2.5l-.94 2.06-2.06.94zm10 10l.94 2.06.94-2.06 2.06-.94-2.06-.94-.94-2.06-.94 2.06-2.06.94z\"/><path d=\"M17.41 7.96l-1.37-1.37c-.4-.4-.92-.59-1.43-.59-.52 0-1.04.2-1.43.59L10.3 9.45l-7.72 7.72c-.78.78-.78 2.05 0 2.83L4 21.41c.39.39.9.59 1.41.59.51 0 1.02-.2 1.41-.59l7.78-7.78 2.81-2.81c.8-.78.8-2.07 0-2.86zM5.41 20L4 18.59l7.72-7.72 1.47 1.35L5.41 20z\"/>\n",
              "  </svg>\n",
              "      </button>\n",
              "      \n",
              "  <style>\n",
              "    .colab-df-container {\n",
              "      display:flex;\n",
              "      flex-wrap:wrap;\n",
              "      gap: 12px;\n",
              "    }\n",
              "\n",
              "    .colab-df-convert {\n",
              "      background-color: #E8F0FE;\n",
              "      border: none;\n",
              "      border-radius: 50%;\n",
              "      cursor: pointer;\n",
              "      display: none;\n",
              "      fill: #1967D2;\n",
              "      height: 32px;\n",
              "      padding: 0 0 0 0;\n",
              "      width: 32px;\n",
              "    }\n",
              "\n",
              "    .colab-df-convert:hover {\n",
              "      background-color: #E2EBFA;\n",
              "      box-shadow: 0px 1px 2px rgba(60, 64, 67, 0.3), 0px 1px 3px 1px rgba(60, 64, 67, 0.15);\n",
              "      fill: #174EA6;\n",
              "    }\n",
              "\n",
              "    [theme=dark] .colab-df-convert {\n",
              "      background-color: #3B4455;\n",
              "      fill: #D2E3FC;\n",
              "    }\n",
              "\n",
              "    [theme=dark] .colab-df-convert:hover {\n",
              "      background-color: #434B5C;\n",
              "      box-shadow: 0px 1px 3px 1px rgba(0, 0, 0, 0.15);\n",
              "      filter: drop-shadow(0px 1px 2px rgba(0, 0, 0, 0.3));\n",
              "      fill: #FFFFFF;\n",
              "    }\n",
              "  </style>\n",
              "\n",
              "      <script>\n",
              "        const buttonEl =\n",
              "          document.querySelector('#df-dba0b57f-6df6-4469-83d9-58659e8548ac button.colab-df-convert');\n",
              "        buttonEl.style.display =\n",
              "          google.colab.kernel.accessAllowed ? 'block' : 'none';\n",
              "\n",
              "        async function convertToInteractive(key) {\n",
              "          const element = document.querySelector('#df-dba0b57f-6df6-4469-83d9-58659e8548ac');\n",
              "          const dataTable =\n",
              "            await google.colab.kernel.invokeFunction('convertToInteractive',\n",
              "                                                     [key], {});\n",
              "          if (!dataTable) return;\n",
              "\n",
              "          const docLinkHtml = 'Like what you see? Visit the ' +\n",
              "            '<a target=\"_blank\" href=https://colab.research.google.com/notebooks/data_table.ipynb>data table notebook</a>'\n",
              "            + ' to learn more about interactive tables.';\n",
              "          element.innerHTML = '';\n",
              "          dataTable['output_type'] = 'display_data';\n",
              "          await google.colab.output.renderOutput(dataTable, element);\n",
              "          const docLink = document.createElement('div');\n",
              "          docLink.innerHTML = docLinkHtml;\n",
              "          element.appendChild(docLink);\n",
              "        }\n",
              "      </script>\n",
              "    </div>\n",
              "  </div>\n",
              "  "
            ]
          },
          "metadata": {},
          "execution_count": 4
        }
      ]
    },
    {
      "cell_type": "markdown",
      "source": [
        "### Proportion of categories\n"
      ],
      "metadata": {
        "id": "-jQ1MjDLsPUw"
      }
    },
    {
      "cell_type": "code",
      "source": [
        "cat_counts = df['cat'].value_counts()\n",
        "cat_counts.plot.bar()"
      ],
      "metadata": {
        "colab": {
          "base_uri": "https://localhost:8080/",
          "height": 542
        },
        "id": "nrZ4lMkGT64g",
        "outputId": "bb5aadd3-bb2a-4836-f14c-fdd9ccb6f2e8"
      },
      "execution_count": 5,
      "outputs": [
        {
          "output_type": "display_data",
          "data": {
            "text/html": [
              "<html>\n",
              "<head><meta charset=\"utf-8\" /></head>\n",
              "<body>\n",
              "    <div>            <script src=\"https://cdnjs.cloudflare.com/ajax/libs/mathjax/2.7.5/MathJax.js?config=TeX-AMS-MML_SVG\"></script><script type=\"text/javascript\">if (window.MathJax) {MathJax.Hub.Config({SVG: {font: \"STIX-Web\"}});}</script>                <script type=\"text/javascript\">window.PlotlyConfig = {MathJaxConfig: 'local'};</script>\n",
              "        <script src=\"https://cdn.plot.ly/plotly-2.8.3.min.js\"></script>                <div id=\"254fea59-4bea-446b-9dd7-595c81e0a00c\" class=\"plotly-graph-div\" style=\"height:525px; width:100%;\"></div>            <script type=\"text/javascript\">                                    window.PLOTLYENV=window.PLOTLYENV || {};                                    if (document.getElementById(\"254fea59-4bea-446b-9dd7-595c81e0a00c\")) {                    Plotly.newPlot(                        \"254fea59-4bea-446b-9dd7-595c81e0a00c\",                        [{\"alignmentgroup\":\"True\",\"hovertemplate\":\"variable=cat<br>index=%{x}<br>value=%{y}<extra></extra>\",\"legendgroup\":\"cat\",\"marker\":{\"color\":\"#636efa\",\"pattern\":{\"shape\":\"\"}},\"name\":\"cat\",\"offsetgroup\":\"cat\",\"orientation\":\"v\",\"showlegend\":true,\"textposition\":\"auto\",\"x\":[\"\\u5e73\\u677f\",\"\\u6c34\\u679c\",\"\\u6d17\\u9aee\\u6c34\",\"\\u8863\\u670d\",\"\\u9152\\u5e97\"],\"xaxis\":\"x\",\"y\":[10000,10000,10000,10000,10000],\"yaxis\":\"y\",\"type\":\"bar\"}],                        {\"template\":{\"data\":{\"bar\":[{\"error_x\":{\"color\":\"#2a3f5f\"},\"error_y\":{\"color\":\"#2a3f5f\"},\"marker\":{\"line\":{\"color\":\"#E5ECF6\",\"width\":0.5},\"pattern\":{\"fillmode\":\"overlay\",\"size\":10,\"solidity\":0.2}},\"type\":\"bar\"}],\"barpolar\":[{\"marker\":{\"line\":{\"color\":\"#E5ECF6\",\"width\":0.5},\"pattern\":{\"fillmode\":\"overlay\",\"size\":10,\"solidity\":0.2}},\"type\":\"barpolar\"}],\"carpet\":[{\"aaxis\":{\"endlinecolor\":\"#2a3f5f\",\"gridcolor\":\"white\",\"linecolor\":\"white\",\"minorgridcolor\":\"white\",\"startlinecolor\":\"#2a3f5f\"},\"baxis\":{\"endlinecolor\":\"#2a3f5f\",\"gridcolor\":\"white\",\"linecolor\":\"white\",\"minorgridcolor\":\"white\",\"startlinecolor\":\"#2a3f5f\"},\"type\":\"carpet\"}],\"choropleth\":[{\"colorbar\":{\"outlinewidth\":0,\"ticks\":\"\"},\"type\":\"choropleth\"}],\"contour\":[{\"colorbar\":{\"outlinewidth\":0,\"ticks\":\"\"},\"colorscale\":[[0.0,\"#0d0887\"],[0.1111111111111111,\"#46039f\"],[0.2222222222222222,\"#7201a8\"],[0.3333333333333333,\"#9c179e\"],[0.4444444444444444,\"#bd3786\"],[0.5555555555555556,\"#d8576b\"],[0.6666666666666666,\"#ed7953\"],[0.7777777777777778,\"#fb9f3a\"],[0.8888888888888888,\"#fdca26\"],[1.0,\"#f0f921\"]],\"type\":\"contour\"}],\"contourcarpet\":[{\"colorbar\":{\"outlinewidth\":0,\"ticks\":\"\"},\"type\":\"contourcarpet\"}],\"heatmap\":[{\"colorbar\":{\"outlinewidth\":0,\"ticks\":\"\"},\"colorscale\":[[0.0,\"#0d0887\"],[0.1111111111111111,\"#46039f\"],[0.2222222222222222,\"#7201a8\"],[0.3333333333333333,\"#9c179e\"],[0.4444444444444444,\"#bd3786\"],[0.5555555555555556,\"#d8576b\"],[0.6666666666666666,\"#ed7953\"],[0.7777777777777778,\"#fb9f3a\"],[0.8888888888888888,\"#fdca26\"],[1.0,\"#f0f921\"]],\"type\":\"heatmap\"}],\"heatmapgl\":[{\"colorbar\":{\"outlinewidth\":0,\"ticks\":\"\"},\"colorscale\":[[0.0,\"#0d0887\"],[0.1111111111111111,\"#46039f\"],[0.2222222222222222,\"#7201a8\"],[0.3333333333333333,\"#9c179e\"],[0.4444444444444444,\"#bd3786\"],[0.5555555555555556,\"#d8576b\"],[0.6666666666666666,\"#ed7953\"],[0.7777777777777778,\"#fb9f3a\"],[0.8888888888888888,\"#fdca26\"],[1.0,\"#f0f921\"]],\"type\":\"heatmapgl\"}],\"histogram\":[{\"marker\":{\"pattern\":{\"fillmode\":\"overlay\",\"size\":10,\"solidity\":0.2}},\"type\":\"histogram\"}],\"histogram2d\":[{\"colorbar\":{\"outlinewidth\":0,\"ticks\":\"\"},\"colorscale\":[[0.0,\"#0d0887\"],[0.1111111111111111,\"#46039f\"],[0.2222222222222222,\"#7201a8\"],[0.3333333333333333,\"#9c179e\"],[0.4444444444444444,\"#bd3786\"],[0.5555555555555556,\"#d8576b\"],[0.6666666666666666,\"#ed7953\"],[0.7777777777777778,\"#fb9f3a\"],[0.8888888888888888,\"#fdca26\"],[1.0,\"#f0f921\"]],\"type\":\"histogram2d\"}],\"histogram2dcontour\":[{\"colorbar\":{\"outlinewidth\":0,\"ticks\":\"\"},\"colorscale\":[[0.0,\"#0d0887\"],[0.1111111111111111,\"#46039f\"],[0.2222222222222222,\"#7201a8\"],[0.3333333333333333,\"#9c179e\"],[0.4444444444444444,\"#bd3786\"],[0.5555555555555556,\"#d8576b\"],[0.6666666666666666,\"#ed7953\"],[0.7777777777777778,\"#fb9f3a\"],[0.8888888888888888,\"#fdca26\"],[1.0,\"#f0f921\"]],\"type\":\"histogram2dcontour\"}],\"mesh3d\":[{\"colorbar\":{\"outlinewidth\":0,\"ticks\":\"\"},\"type\":\"mesh3d\"}],\"parcoords\":[{\"line\":{\"colorbar\":{\"outlinewidth\":0,\"ticks\":\"\"}},\"type\":\"parcoords\"}],\"pie\":[{\"automargin\":true,\"type\":\"pie\"}],\"scatter\":[{\"marker\":{\"colorbar\":{\"outlinewidth\":0,\"ticks\":\"\"}},\"type\":\"scatter\"}],\"scatter3d\":[{\"line\":{\"colorbar\":{\"outlinewidth\":0,\"ticks\":\"\"}},\"marker\":{\"colorbar\":{\"outlinewidth\":0,\"ticks\":\"\"}},\"type\":\"scatter3d\"}],\"scattercarpet\":[{\"marker\":{\"colorbar\":{\"outlinewidth\":0,\"ticks\":\"\"}},\"type\":\"scattercarpet\"}],\"scattergeo\":[{\"marker\":{\"colorbar\":{\"outlinewidth\":0,\"ticks\":\"\"}},\"type\":\"scattergeo\"}],\"scattergl\":[{\"marker\":{\"colorbar\":{\"outlinewidth\":0,\"ticks\":\"\"}},\"type\":\"scattergl\"}],\"scattermapbox\":[{\"marker\":{\"colorbar\":{\"outlinewidth\":0,\"ticks\":\"\"}},\"type\":\"scattermapbox\"}],\"scatterpolar\":[{\"marker\":{\"colorbar\":{\"outlinewidth\":0,\"ticks\":\"\"}},\"type\":\"scatterpolar\"}],\"scatterpolargl\":[{\"marker\":{\"colorbar\":{\"outlinewidth\":0,\"ticks\":\"\"}},\"type\":\"scatterpolargl\"}],\"scatterternary\":[{\"marker\":{\"colorbar\":{\"outlinewidth\":0,\"ticks\":\"\"}},\"type\":\"scatterternary\"}],\"surface\":[{\"colorbar\":{\"outlinewidth\":0,\"ticks\":\"\"},\"colorscale\":[[0.0,\"#0d0887\"],[0.1111111111111111,\"#46039f\"],[0.2222222222222222,\"#7201a8\"],[0.3333333333333333,\"#9c179e\"],[0.4444444444444444,\"#bd3786\"],[0.5555555555555556,\"#d8576b\"],[0.6666666666666666,\"#ed7953\"],[0.7777777777777778,\"#fb9f3a\"],[0.8888888888888888,\"#fdca26\"],[1.0,\"#f0f921\"]],\"type\":\"surface\"}],\"table\":[{\"cells\":{\"fill\":{\"color\":\"#EBF0F8\"},\"line\":{\"color\":\"white\"}},\"header\":{\"fill\":{\"color\":\"#C8D4E3\"},\"line\":{\"color\":\"white\"}},\"type\":\"table\"}]},\"layout\":{\"annotationdefaults\":{\"arrowcolor\":\"#2a3f5f\",\"arrowhead\":0,\"arrowwidth\":1},\"autotypenumbers\":\"strict\",\"coloraxis\":{\"colorbar\":{\"outlinewidth\":0,\"ticks\":\"\"}},\"colorscale\":{\"diverging\":[[0,\"#8e0152\"],[0.1,\"#c51b7d\"],[0.2,\"#de77ae\"],[0.3,\"#f1b6da\"],[0.4,\"#fde0ef\"],[0.5,\"#f7f7f7\"],[0.6,\"#e6f5d0\"],[0.7,\"#b8e186\"],[0.8,\"#7fbc41\"],[0.9,\"#4d9221\"],[1,\"#276419\"]],\"sequential\":[[0.0,\"#0d0887\"],[0.1111111111111111,\"#46039f\"],[0.2222222222222222,\"#7201a8\"],[0.3333333333333333,\"#9c179e\"],[0.4444444444444444,\"#bd3786\"],[0.5555555555555556,\"#d8576b\"],[0.6666666666666666,\"#ed7953\"],[0.7777777777777778,\"#fb9f3a\"],[0.8888888888888888,\"#fdca26\"],[1.0,\"#f0f921\"]],\"sequentialminus\":[[0.0,\"#0d0887\"],[0.1111111111111111,\"#46039f\"],[0.2222222222222222,\"#7201a8\"],[0.3333333333333333,\"#9c179e\"],[0.4444444444444444,\"#bd3786\"],[0.5555555555555556,\"#d8576b\"],[0.6666666666666666,\"#ed7953\"],[0.7777777777777778,\"#fb9f3a\"],[0.8888888888888888,\"#fdca26\"],[1.0,\"#f0f921\"]]},\"colorway\":[\"#636efa\",\"#EF553B\",\"#00cc96\",\"#ab63fa\",\"#FFA15A\",\"#19d3f3\",\"#FF6692\",\"#B6E880\",\"#FF97FF\",\"#FECB52\"],\"font\":{\"color\":\"#2a3f5f\"},\"geo\":{\"bgcolor\":\"white\",\"lakecolor\":\"white\",\"landcolor\":\"#E5ECF6\",\"showlakes\":true,\"showland\":true,\"subunitcolor\":\"white\"},\"hoverlabel\":{\"align\":\"left\"},\"hovermode\":\"closest\",\"mapbox\":{\"style\":\"light\"},\"paper_bgcolor\":\"white\",\"plot_bgcolor\":\"#E5ECF6\",\"polar\":{\"angularaxis\":{\"gridcolor\":\"white\",\"linecolor\":\"white\",\"ticks\":\"\"},\"bgcolor\":\"#E5ECF6\",\"radialaxis\":{\"gridcolor\":\"white\",\"linecolor\":\"white\",\"ticks\":\"\"}},\"scene\":{\"xaxis\":{\"backgroundcolor\":\"#E5ECF6\",\"gridcolor\":\"white\",\"gridwidth\":2,\"linecolor\":\"white\",\"showbackground\":true,\"ticks\":\"\",\"zerolinecolor\":\"white\"},\"yaxis\":{\"backgroundcolor\":\"#E5ECF6\",\"gridcolor\":\"white\",\"gridwidth\":2,\"linecolor\":\"white\",\"showbackground\":true,\"ticks\":\"\",\"zerolinecolor\":\"white\"},\"zaxis\":{\"backgroundcolor\":\"#E5ECF6\",\"gridcolor\":\"white\",\"gridwidth\":2,\"linecolor\":\"white\",\"showbackground\":true,\"ticks\":\"\",\"zerolinecolor\":\"white\"}},\"shapedefaults\":{\"line\":{\"color\":\"#2a3f5f\"}},\"ternary\":{\"aaxis\":{\"gridcolor\":\"white\",\"linecolor\":\"white\",\"ticks\":\"\"},\"baxis\":{\"gridcolor\":\"white\",\"linecolor\":\"white\",\"ticks\":\"\"},\"bgcolor\":\"#E5ECF6\",\"caxis\":{\"gridcolor\":\"white\",\"linecolor\":\"white\",\"ticks\":\"\"}},\"title\":{\"x\":0.05},\"xaxis\":{\"automargin\":true,\"gridcolor\":\"white\",\"linecolor\":\"white\",\"ticks\":\"\",\"title\":{\"standoff\":15},\"zerolinecolor\":\"white\",\"zerolinewidth\":2},\"yaxis\":{\"automargin\":true,\"gridcolor\":\"white\",\"linecolor\":\"white\",\"ticks\":\"\",\"title\":{\"standoff\":15},\"zerolinecolor\":\"white\",\"zerolinewidth\":2}}},\"xaxis\":{\"anchor\":\"y\",\"domain\":[0.0,1.0],\"title\":{\"text\":\"index\"}},\"yaxis\":{\"anchor\":\"x\",\"domain\":[0.0,1.0],\"title\":{\"text\":\"value\"}},\"legend\":{\"title\":{\"text\":\"variable\"},\"tracegroupgap\":0},\"margin\":{\"t\":60},\"barmode\":\"relative\"},                        {\"responsive\": true}                    ).then(function(){\n",
              "                            \n",
              "var gd = document.getElementById('254fea59-4bea-446b-9dd7-595c81e0a00c');\n",
              "var x = new MutationObserver(function (mutations, observer) {{\n",
              "        var display = window.getComputedStyle(gd).display;\n",
              "        if (!display || display === 'none') {{\n",
              "            console.log([gd, 'removed!']);\n",
              "            Plotly.purge(gd);\n",
              "            observer.disconnect();\n",
              "        }}\n",
              "}});\n",
              "\n",
              "// Listen for the removal of the full notebook cells\n",
              "var notebookContainer = gd.closest('#notebook-container');\n",
              "if (notebookContainer) {{\n",
              "    x.observe(notebookContainer, {childList: true});\n",
              "}}\n",
              "\n",
              "// Listen for the clearing of the current output cell\n",
              "var outputEl = gd.closest('.output');\n",
              "if (outputEl) {{\n",
              "    x.observe(outputEl, {childList: true});\n",
              "}}\n",
              "\n",
              "                        })                };                            </script>        </div>\n",
              "</body>\n",
              "</html>"
            ]
          },
          "metadata": {}
        }
      ]
    },
    {
      "cell_type": "markdown",
      "source": [
        "### Train/test split\n"
      ],
      "metadata": {
        "id": "8b6pat3OsGVH"
      }
    },
    {
      "cell_type": "markdown",
      "source": [
        "Let's keep the same split setup as in last week's [notebook](https://colab.research.google.com/github/howard-haowen/NLP-demos/blob/main/NSYSU/W06-text-classification-with-scikit-learn.ipynb#scrollTo=_2OT2Gk0dMP_). "
      ],
      "metadata": {
        "id": "k8YfTs2skmAV"
      }
    },
    {
      "cell_type": "code",
      "source": [
        "from sklearn.model_selection import train_test_split"
      ],
      "metadata": {
        "id": "O3GgBbRiN6bs"
      },
      "execution_count": 6,
      "outputs": []
    },
    {
      "cell_type": "code",
      "source": [
        "TRAIN_SIZE= 0.7\n",
        "RANDOM_STATE = 500\n",
        "train, test = train_test_split(df, \n",
        "                               train_size=TRAIN_SIZE,\n",
        "                               random_state=RANDOM_STATE)\n",
        "print(f\"The training set size: {train.shape}\")\n",
        "print(f\"The valid_test set size: {test.shape}\")"
      ],
      "metadata": {
        "colab": {
          "base_uri": "https://localhost:8080/"
        },
        "id": "P7pMd9A5NT_Q",
        "outputId": "bd1f29d0-53ef-4cb7-b3ef-03be71fd1022"
      },
      "execution_count": 7,
      "outputs": [
        {
          "output_type": "stream",
          "name": "stdout",
          "text": [
            "The training set size: (35000, 3)\n",
            "The valid_test set size: (15000, 3)\n"
          ]
        }
      ]
    },
    {
      "cell_type": "code",
      "source": [
        "train['cat'].value_counts().plot.bar()"
      ],
      "metadata": {
        "colab": {
          "base_uri": "https://localhost:8080/",
          "height": 542
        },
        "id": "gN-ijYp7ZcKP",
        "outputId": "1474d0a9-fa50-427d-8bc6-5bf25c9450e6"
      },
      "execution_count": 8,
      "outputs": [
        {
          "output_type": "display_data",
          "data": {
            "text/html": [
              "<html>\n",
              "<head><meta charset=\"utf-8\" /></head>\n",
              "<body>\n",
              "    <div>            <script src=\"https://cdnjs.cloudflare.com/ajax/libs/mathjax/2.7.5/MathJax.js?config=TeX-AMS-MML_SVG\"></script><script type=\"text/javascript\">if (window.MathJax) {MathJax.Hub.Config({SVG: {font: \"STIX-Web\"}});}</script>                <script type=\"text/javascript\">window.PlotlyConfig = {MathJaxConfig: 'local'};</script>\n",
              "        <script src=\"https://cdn.plot.ly/plotly-2.8.3.min.js\"></script>                <div id=\"5ee18c7d-2506-4fa3-9a08-de3778cba7b3\" class=\"plotly-graph-div\" style=\"height:525px; width:100%;\"></div>            <script type=\"text/javascript\">                                    window.PLOTLYENV=window.PLOTLYENV || {};                                    if (document.getElementById(\"5ee18c7d-2506-4fa3-9a08-de3778cba7b3\")) {                    Plotly.newPlot(                        \"5ee18c7d-2506-4fa3-9a08-de3778cba7b3\",                        [{\"alignmentgroup\":\"True\",\"hovertemplate\":\"variable=cat<br>index=%{x}<br>value=%{y}<extra></extra>\",\"legendgroup\":\"cat\",\"marker\":{\"color\":\"#636efa\",\"pattern\":{\"shape\":\"\"}},\"name\":\"cat\",\"offsetgroup\":\"cat\",\"orientation\":\"v\",\"showlegend\":true,\"textposition\":\"auto\",\"x\":[\"\\u6d17\\u9aee\\u6c34\",\"\\u8863\\u670d\",\"\\u9152\\u5e97\",\"\\u5e73\\u677f\",\"\\u6c34\\u679c\"],\"xaxis\":\"x\",\"y\":[7032,7015,7014,6975,6964],\"yaxis\":\"y\",\"type\":\"bar\"}],                        {\"template\":{\"data\":{\"bar\":[{\"error_x\":{\"color\":\"#2a3f5f\"},\"error_y\":{\"color\":\"#2a3f5f\"},\"marker\":{\"line\":{\"color\":\"#E5ECF6\",\"width\":0.5},\"pattern\":{\"fillmode\":\"overlay\",\"size\":10,\"solidity\":0.2}},\"type\":\"bar\"}],\"barpolar\":[{\"marker\":{\"line\":{\"color\":\"#E5ECF6\",\"width\":0.5},\"pattern\":{\"fillmode\":\"overlay\",\"size\":10,\"solidity\":0.2}},\"type\":\"barpolar\"}],\"carpet\":[{\"aaxis\":{\"endlinecolor\":\"#2a3f5f\",\"gridcolor\":\"white\",\"linecolor\":\"white\",\"minorgridcolor\":\"white\",\"startlinecolor\":\"#2a3f5f\"},\"baxis\":{\"endlinecolor\":\"#2a3f5f\",\"gridcolor\":\"white\",\"linecolor\":\"white\",\"minorgridcolor\":\"white\",\"startlinecolor\":\"#2a3f5f\"},\"type\":\"carpet\"}],\"choropleth\":[{\"colorbar\":{\"outlinewidth\":0,\"ticks\":\"\"},\"type\":\"choropleth\"}],\"contour\":[{\"colorbar\":{\"outlinewidth\":0,\"ticks\":\"\"},\"colorscale\":[[0.0,\"#0d0887\"],[0.1111111111111111,\"#46039f\"],[0.2222222222222222,\"#7201a8\"],[0.3333333333333333,\"#9c179e\"],[0.4444444444444444,\"#bd3786\"],[0.5555555555555556,\"#d8576b\"],[0.6666666666666666,\"#ed7953\"],[0.7777777777777778,\"#fb9f3a\"],[0.8888888888888888,\"#fdca26\"],[1.0,\"#f0f921\"]],\"type\":\"contour\"}],\"contourcarpet\":[{\"colorbar\":{\"outlinewidth\":0,\"ticks\":\"\"},\"type\":\"contourcarpet\"}],\"heatmap\":[{\"colorbar\":{\"outlinewidth\":0,\"ticks\":\"\"},\"colorscale\":[[0.0,\"#0d0887\"],[0.1111111111111111,\"#46039f\"],[0.2222222222222222,\"#7201a8\"],[0.3333333333333333,\"#9c179e\"],[0.4444444444444444,\"#bd3786\"],[0.5555555555555556,\"#d8576b\"],[0.6666666666666666,\"#ed7953\"],[0.7777777777777778,\"#fb9f3a\"],[0.8888888888888888,\"#fdca26\"],[1.0,\"#f0f921\"]],\"type\":\"heatmap\"}],\"heatmapgl\":[{\"colorbar\":{\"outlinewidth\":0,\"ticks\":\"\"},\"colorscale\":[[0.0,\"#0d0887\"],[0.1111111111111111,\"#46039f\"],[0.2222222222222222,\"#7201a8\"],[0.3333333333333333,\"#9c179e\"],[0.4444444444444444,\"#bd3786\"],[0.5555555555555556,\"#d8576b\"],[0.6666666666666666,\"#ed7953\"],[0.7777777777777778,\"#fb9f3a\"],[0.8888888888888888,\"#fdca26\"],[1.0,\"#f0f921\"]],\"type\":\"heatmapgl\"}],\"histogram\":[{\"marker\":{\"pattern\":{\"fillmode\":\"overlay\",\"size\":10,\"solidity\":0.2}},\"type\":\"histogram\"}],\"histogram2d\":[{\"colorbar\":{\"outlinewidth\":0,\"ticks\":\"\"},\"colorscale\":[[0.0,\"#0d0887\"],[0.1111111111111111,\"#46039f\"],[0.2222222222222222,\"#7201a8\"],[0.3333333333333333,\"#9c179e\"],[0.4444444444444444,\"#bd3786\"],[0.5555555555555556,\"#d8576b\"],[0.6666666666666666,\"#ed7953\"],[0.7777777777777778,\"#fb9f3a\"],[0.8888888888888888,\"#fdca26\"],[1.0,\"#f0f921\"]],\"type\":\"histogram2d\"}],\"histogram2dcontour\":[{\"colorbar\":{\"outlinewidth\":0,\"ticks\":\"\"},\"colorscale\":[[0.0,\"#0d0887\"],[0.1111111111111111,\"#46039f\"],[0.2222222222222222,\"#7201a8\"],[0.3333333333333333,\"#9c179e\"],[0.4444444444444444,\"#bd3786\"],[0.5555555555555556,\"#d8576b\"],[0.6666666666666666,\"#ed7953\"],[0.7777777777777778,\"#fb9f3a\"],[0.8888888888888888,\"#fdca26\"],[1.0,\"#f0f921\"]],\"type\":\"histogram2dcontour\"}],\"mesh3d\":[{\"colorbar\":{\"outlinewidth\":0,\"ticks\":\"\"},\"type\":\"mesh3d\"}],\"parcoords\":[{\"line\":{\"colorbar\":{\"outlinewidth\":0,\"ticks\":\"\"}},\"type\":\"parcoords\"}],\"pie\":[{\"automargin\":true,\"type\":\"pie\"}],\"scatter\":[{\"marker\":{\"colorbar\":{\"outlinewidth\":0,\"ticks\":\"\"}},\"type\":\"scatter\"}],\"scatter3d\":[{\"line\":{\"colorbar\":{\"outlinewidth\":0,\"ticks\":\"\"}},\"marker\":{\"colorbar\":{\"outlinewidth\":0,\"ticks\":\"\"}},\"type\":\"scatter3d\"}],\"scattercarpet\":[{\"marker\":{\"colorbar\":{\"outlinewidth\":0,\"ticks\":\"\"}},\"type\":\"scattercarpet\"}],\"scattergeo\":[{\"marker\":{\"colorbar\":{\"outlinewidth\":0,\"ticks\":\"\"}},\"type\":\"scattergeo\"}],\"scattergl\":[{\"marker\":{\"colorbar\":{\"outlinewidth\":0,\"ticks\":\"\"}},\"type\":\"scattergl\"}],\"scattermapbox\":[{\"marker\":{\"colorbar\":{\"outlinewidth\":0,\"ticks\":\"\"}},\"type\":\"scattermapbox\"}],\"scatterpolar\":[{\"marker\":{\"colorbar\":{\"outlinewidth\":0,\"ticks\":\"\"}},\"type\":\"scatterpolar\"}],\"scatterpolargl\":[{\"marker\":{\"colorbar\":{\"outlinewidth\":0,\"ticks\":\"\"}},\"type\":\"scatterpolargl\"}],\"scatterternary\":[{\"marker\":{\"colorbar\":{\"outlinewidth\":0,\"ticks\":\"\"}},\"type\":\"scatterternary\"}],\"surface\":[{\"colorbar\":{\"outlinewidth\":0,\"ticks\":\"\"},\"colorscale\":[[0.0,\"#0d0887\"],[0.1111111111111111,\"#46039f\"],[0.2222222222222222,\"#7201a8\"],[0.3333333333333333,\"#9c179e\"],[0.4444444444444444,\"#bd3786\"],[0.5555555555555556,\"#d8576b\"],[0.6666666666666666,\"#ed7953\"],[0.7777777777777778,\"#fb9f3a\"],[0.8888888888888888,\"#fdca26\"],[1.0,\"#f0f921\"]],\"type\":\"surface\"}],\"table\":[{\"cells\":{\"fill\":{\"color\":\"#EBF0F8\"},\"line\":{\"color\":\"white\"}},\"header\":{\"fill\":{\"color\":\"#C8D4E3\"},\"line\":{\"color\":\"white\"}},\"type\":\"table\"}]},\"layout\":{\"annotationdefaults\":{\"arrowcolor\":\"#2a3f5f\",\"arrowhead\":0,\"arrowwidth\":1},\"autotypenumbers\":\"strict\",\"coloraxis\":{\"colorbar\":{\"outlinewidth\":0,\"ticks\":\"\"}},\"colorscale\":{\"diverging\":[[0,\"#8e0152\"],[0.1,\"#c51b7d\"],[0.2,\"#de77ae\"],[0.3,\"#f1b6da\"],[0.4,\"#fde0ef\"],[0.5,\"#f7f7f7\"],[0.6,\"#e6f5d0\"],[0.7,\"#b8e186\"],[0.8,\"#7fbc41\"],[0.9,\"#4d9221\"],[1,\"#276419\"]],\"sequential\":[[0.0,\"#0d0887\"],[0.1111111111111111,\"#46039f\"],[0.2222222222222222,\"#7201a8\"],[0.3333333333333333,\"#9c179e\"],[0.4444444444444444,\"#bd3786\"],[0.5555555555555556,\"#d8576b\"],[0.6666666666666666,\"#ed7953\"],[0.7777777777777778,\"#fb9f3a\"],[0.8888888888888888,\"#fdca26\"],[1.0,\"#f0f921\"]],\"sequentialminus\":[[0.0,\"#0d0887\"],[0.1111111111111111,\"#46039f\"],[0.2222222222222222,\"#7201a8\"],[0.3333333333333333,\"#9c179e\"],[0.4444444444444444,\"#bd3786\"],[0.5555555555555556,\"#d8576b\"],[0.6666666666666666,\"#ed7953\"],[0.7777777777777778,\"#fb9f3a\"],[0.8888888888888888,\"#fdca26\"],[1.0,\"#f0f921\"]]},\"colorway\":[\"#636efa\",\"#EF553B\",\"#00cc96\",\"#ab63fa\",\"#FFA15A\",\"#19d3f3\",\"#FF6692\",\"#B6E880\",\"#FF97FF\",\"#FECB52\"],\"font\":{\"color\":\"#2a3f5f\"},\"geo\":{\"bgcolor\":\"white\",\"lakecolor\":\"white\",\"landcolor\":\"#E5ECF6\",\"showlakes\":true,\"showland\":true,\"subunitcolor\":\"white\"},\"hoverlabel\":{\"align\":\"left\"},\"hovermode\":\"closest\",\"mapbox\":{\"style\":\"light\"},\"paper_bgcolor\":\"white\",\"plot_bgcolor\":\"#E5ECF6\",\"polar\":{\"angularaxis\":{\"gridcolor\":\"white\",\"linecolor\":\"white\",\"ticks\":\"\"},\"bgcolor\":\"#E5ECF6\",\"radialaxis\":{\"gridcolor\":\"white\",\"linecolor\":\"white\",\"ticks\":\"\"}},\"scene\":{\"xaxis\":{\"backgroundcolor\":\"#E5ECF6\",\"gridcolor\":\"white\",\"gridwidth\":2,\"linecolor\":\"white\",\"showbackground\":true,\"ticks\":\"\",\"zerolinecolor\":\"white\"},\"yaxis\":{\"backgroundcolor\":\"#E5ECF6\",\"gridcolor\":\"white\",\"gridwidth\":2,\"linecolor\":\"white\",\"showbackground\":true,\"ticks\":\"\",\"zerolinecolor\":\"white\"},\"zaxis\":{\"backgroundcolor\":\"#E5ECF6\",\"gridcolor\":\"white\",\"gridwidth\":2,\"linecolor\":\"white\",\"showbackground\":true,\"ticks\":\"\",\"zerolinecolor\":\"white\"}},\"shapedefaults\":{\"line\":{\"color\":\"#2a3f5f\"}},\"ternary\":{\"aaxis\":{\"gridcolor\":\"white\",\"linecolor\":\"white\",\"ticks\":\"\"},\"baxis\":{\"gridcolor\":\"white\",\"linecolor\":\"white\",\"ticks\":\"\"},\"bgcolor\":\"#E5ECF6\",\"caxis\":{\"gridcolor\":\"white\",\"linecolor\":\"white\",\"ticks\":\"\"}},\"title\":{\"x\":0.05},\"xaxis\":{\"automargin\":true,\"gridcolor\":\"white\",\"linecolor\":\"white\",\"ticks\":\"\",\"title\":{\"standoff\":15},\"zerolinecolor\":\"white\",\"zerolinewidth\":2},\"yaxis\":{\"automargin\":true,\"gridcolor\":\"white\",\"linecolor\":\"white\",\"ticks\":\"\",\"title\":{\"standoff\":15},\"zerolinecolor\":\"white\",\"zerolinewidth\":2}}},\"xaxis\":{\"anchor\":\"y\",\"domain\":[0.0,1.0],\"title\":{\"text\":\"index\"}},\"yaxis\":{\"anchor\":\"x\",\"domain\":[0.0,1.0],\"title\":{\"text\":\"value\"}},\"legend\":{\"title\":{\"text\":\"variable\"},\"tracegroupgap\":0},\"margin\":{\"t\":60},\"barmode\":\"relative\"},                        {\"responsive\": true}                    ).then(function(){\n",
              "                            \n",
              "var gd = document.getElementById('5ee18c7d-2506-4fa3-9a08-de3778cba7b3');\n",
              "var x = new MutationObserver(function (mutations, observer) {{\n",
              "        var display = window.getComputedStyle(gd).display;\n",
              "        if (!display || display === 'none') {{\n",
              "            console.log([gd, 'removed!']);\n",
              "            Plotly.purge(gd);\n",
              "            observer.disconnect();\n",
              "        }}\n",
              "}});\n",
              "\n",
              "// Listen for the removal of the full notebook cells\n",
              "var notebookContainer = gd.closest('#notebook-container');\n",
              "if (notebookContainer) {{\n",
              "    x.observe(notebookContainer, {childList: true});\n",
              "}}\n",
              "\n",
              "// Listen for the clearing of the current output cell\n",
              "var outputEl = gd.closest('.output');\n",
              "if (outputEl) {{\n",
              "    x.observe(outputEl, {childList: true});\n",
              "}}\n",
              "\n",
              "                        })                };                            </script>        </div>\n",
              "</body>\n",
              "</html>"
            ]
          },
          "metadata": {}
        }
      ]
    },
    {
      "cell_type": "code",
      "source": [
        "test['cat'].value_counts().plot.bar()"
      ],
      "metadata": {
        "colab": {
          "base_uri": "https://localhost:8080/",
          "height": 542
        },
        "id": "kHMHUr1YZkN9",
        "outputId": "f5763870-7fd0-44c7-dbcc-f339ece8e7e4"
      },
      "execution_count": 9,
      "outputs": [
        {
          "output_type": "display_data",
          "data": {
            "text/html": [
              "<html>\n",
              "<head><meta charset=\"utf-8\" /></head>\n",
              "<body>\n",
              "    <div>            <script src=\"https://cdnjs.cloudflare.com/ajax/libs/mathjax/2.7.5/MathJax.js?config=TeX-AMS-MML_SVG\"></script><script type=\"text/javascript\">if (window.MathJax) {MathJax.Hub.Config({SVG: {font: \"STIX-Web\"}});}</script>                <script type=\"text/javascript\">window.PlotlyConfig = {MathJaxConfig: 'local'};</script>\n",
              "        <script src=\"https://cdn.plot.ly/plotly-2.8.3.min.js\"></script>                <div id=\"a931e23c-e272-44a3-aad6-a6aeb57bde77\" class=\"plotly-graph-div\" style=\"height:525px; width:100%;\"></div>            <script type=\"text/javascript\">                                    window.PLOTLYENV=window.PLOTLYENV || {};                                    if (document.getElementById(\"a931e23c-e272-44a3-aad6-a6aeb57bde77\")) {                    Plotly.newPlot(                        \"a931e23c-e272-44a3-aad6-a6aeb57bde77\",                        [{\"alignmentgroup\":\"True\",\"hovertemplate\":\"variable=cat<br>index=%{x}<br>value=%{y}<extra></extra>\",\"legendgroup\":\"cat\",\"marker\":{\"color\":\"#636efa\",\"pattern\":{\"shape\":\"\"}},\"name\":\"cat\",\"offsetgroup\":\"cat\",\"orientation\":\"v\",\"showlegend\":true,\"textposition\":\"auto\",\"x\":[\"\\u6c34\\u679c\",\"\\u5e73\\u677f\",\"\\u9152\\u5e97\",\"\\u8863\\u670d\",\"\\u6d17\\u9aee\\u6c34\"],\"xaxis\":\"x\",\"y\":[3036,3025,2986,2985,2968],\"yaxis\":\"y\",\"type\":\"bar\"}],                        {\"template\":{\"data\":{\"bar\":[{\"error_x\":{\"color\":\"#2a3f5f\"},\"error_y\":{\"color\":\"#2a3f5f\"},\"marker\":{\"line\":{\"color\":\"#E5ECF6\",\"width\":0.5},\"pattern\":{\"fillmode\":\"overlay\",\"size\":10,\"solidity\":0.2}},\"type\":\"bar\"}],\"barpolar\":[{\"marker\":{\"line\":{\"color\":\"#E5ECF6\",\"width\":0.5},\"pattern\":{\"fillmode\":\"overlay\",\"size\":10,\"solidity\":0.2}},\"type\":\"barpolar\"}],\"carpet\":[{\"aaxis\":{\"endlinecolor\":\"#2a3f5f\",\"gridcolor\":\"white\",\"linecolor\":\"white\",\"minorgridcolor\":\"white\",\"startlinecolor\":\"#2a3f5f\"},\"baxis\":{\"endlinecolor\":\"#2a3f5f\",\"gridcolor\":\"white\",\"linecolor\":\"white\",\"minorgridcolor\":\"white\",\"startlinecolor\":\"#2a3f5f\"},\"type\":\"carpet\"}],\"choropleth\":[{\"colorbar\":{\"outlinewidth\":0,\"ticks\":\"\"},\"type\":\"choropleth\"}],\"contour\":[{\"colorbar\":{\"outlinewidth\":0,\"ticks\":\"\"},\"colorscale\":[[0.0,\"#0d0887\"],[0.1111111111111111,\"#46039f\"],[0.2222222222222222,\"#7201a8\"],[0.3333333333333333,\"#9c179e\"],[0.4444444444444444,\"#bd3786\"],[0.5555555555555556,\"#d8576b\"],[0.6666666666666666,\"#ed7953\"],[0.7777777777777778,\"#fb9f3a\"],[0.8888888888888888,\"#fdca26\"],[1.0,\"#f0f921\"]],\"type\":\"contour\"}],\"contourcarpet\":[{\"colorbar\":{\"outlinewidth\":0,\"ticks\":\"\"},\"type\":\"contourcarpet\"}],\"heatmap\":[{\"colorbar\":{\"outlinewidth\":0,\"ticks\":\"\"},\"colorscale\":[[0.0,\"#0d0887\"],[0.1111111111111111,\"#46039f\"],[0.2222222222222222,\"#7201a8\"],[0.3333333333333333,\"#9c179e\"],[0.4444444444444444,\"#bd3786\"],[0.5555555555555556,\"#d8576b\"],[0.6666666666666666,\"#ed7953\"],[0.7777777777777778,\"#fb9f3a\"],[0.8888888888888888,\"#fdca26\"],[1.0,\"#f0f921\"]],\"type\":\"heatmap\"}],\"heatmapgl\":[{\"colorbar\":{\"outlinewidth\":0,\"ticks\":\"\"},\"colorscale\":[[0.0,\"#0d0887\"],[0.1111111111111111,\"#46039f\"],[0.2222222222222222,\"#7201a8\"],[0.3333333333333333,\"#9c179e\"],[0.4444444444444444,\"#bd3786\"],[0.5555555555555556,\"#d8576b\"],[0.6666666666666666,\"#ed7953\"],[0.7777777777777778,\"#fb9f3a\"],[0.8888888888888888,\"#fdca26\"],[1.0,\"#f0f921\"]],\"type\":\"heatmapgl\"}],\"histogram\":[{\"marker\":{\"pattern\":{\"fillmode\":\"overlay\",\"size\":10,\"solidity\":0.2}},\"type\":\"histogram\"}],\"histogram2d\":[{\"colorbar\":{\"outlinewidth\":0,\"ticks\":\"\"},\"colorscale\":[[0.0,\"#0d0887\"],[0.1111111111111111,\"#46039f\"],[0.2222222222222222,\"#7201a8\"],[0.3333333333333333,\"#9c179e\"],[0.4444444444444444,\"#bd3786\"],[0.5555555555555556,\"#d8576b\"],[0.6666666666666666,\"#ed7953\"],[0.7777777777777778,\"#fb9f3a\"],[0.8888888888888888,\"#fdca26\"],[1.0,\"#f0f921\"]],\"type\":\"histogram2d\"}],\"histogram2dcontour\":[{\"colorbar\":{\"outlinewidth\":0,\"ticks\":\"\"},\"colorscale\":[[0.0,\"#0d0887\"],[0.1111111111111111,\"#46039f\"],[0.2222222222222222,\"#7201a8\"],[0.3333333333333333,\"#9c179e\"],[0.4444444444444444,\"#bd3786\"],[0.5555555555555556,\"#d8576b\"],[0.6666666666666666,\"#ed7953\"],[0.7777777777777778,\"#fb9f3a\"],[0.8888888888888888,\"#fdca26\"],[1.0,\"#f0f921\"]],\"type\":\"histogram2dcontour\"}],\"mesh3d\":[{\"colorbar\":{\"outlinewidth\":0,\"ticks\":\"\"},\"type\":\"mesh3d\"}],\"parcoords\":[{\"line\":{\"colorbar\":{\"outlinewidth\":0,\"ticks\":\"\"}},\"type\":\"parcoords\"}],\"pie\":[{\"automargin\":true,\"type\":\"pie\"}],\"scatter\":[{\"marker\":{\"colorbar\":{\"outlinewidth\":0,\"ticks\":\"\"}},\"type\":\"scatter\"}],\"scatter3d\":[{\"line\":{\"colorbar\":{\"outlinewidth\":0,\"ticks\":\"\"}},\"marker\":{\"colorbar\":{\"outlinewidth\":0,\"ticks\":\"\"}},\"type\":\"scatter3d\"}],\"scattercarpet\":[{\"marker\":{\"colorbar\":{\"outlinewidth\":0,\"ticks\":\"\"}},\"type\":\"scattercarpet\"}],\"scattergeo\":[{\"marker\":{\"colorbar\":{\"outlinewidth\":0,\"ticks\":\"\"}},\"type\":\"scattergeo\"}],\"scattergl\":[{\"marker\":{\"colorbar\":{\"outlinewidth\":0,\"ticks\":\"\"}},\"type\":\"scattergl\"}],\"scattermapbox\":[{\"marker\":{\"colorbar\":{\"outlinewidth\":0,\"ticks\":\"\"}},\"type\":\"scattermapbox\"}],\"scatterpolar\":[{\"marker\":{\"colorbar\":{\"outlinewidth\":0,\"ticks\":\"\"}},\"type\":\"scatterpolar\"}],\"scatterpolargl\":[{\"marker\":{\"colorbar\":{\"outlinewidth\":0,\"ticks\":\"\"}},\"type\":\"scatterpolargl\"}],\"scatterternary\":[{\"marker\":{\"colorbar\":{\"outlinewidth\":0,\"ticks\":\"\"}},\"type\":\"scatterternary\"}],\"surface\":[{\"colorbar\":{\"outlinewidth\":0,\"ticks\":\"\"},\"colorscale\":[[0.0,\"#0d0887\"],[0.1111111111111111,\"#46039f\"],[0.2222222222222222,\"#7201a8\"],[0.3333333333333333,\"#9c179e\"],[0.4444444444444444,\"#bd3786\"],[0.5555555555555556,\"#d8576b\"],[0.6666666666666666,\"#ed7953\"],[0.7777777777777778,\"#fb9f3a\"],[0.8888888888888888,\"#fdca26\"],[1.0,\"#f0f921\"]],\"type\":\"surface\"}],\"table\":[{\"cells\":{\"fill\":{\"color\":\"#EBF0F8\"},\"line\":{\"color\":\"white\"}},\"header\":{\"fill\":{\"color\":\"#C8D4E3\"},\"line\":{\"color\":\"white\"}},\"type\":\"table\"}]},\"layout\":{\"annotationdefaults\":{\"arrowcolor\":\"#2a3f5f\",\"arrowhead\":0,\"arrowwidth\":1},\"autotypenumbers\":\"strict\",\"coloraxis\":{\"colorbar\":{\"outlinewidth\":0,\"ticks\":\"\"}},\"colorscale\":{\"diverging\":[[0,\"#8e0152\"],[0.1,\"#c51b7d\"],[0.2,\"#de77ae\"],[0.3,\"#f1b6da\"],[0.4,\"#fde0ef\"],[0.5,\"#f7f7f7\"],[0.6,\"#e6f5d0\"],[0.7,\"#b8e186\"],[0.8,\"#7fbc41\"],[0.9,\"#4d9221\"],[1,\"#276419\"]],\"sequential\":[[0.0,\"#0d0887\"],[0.1111111111111111,\"#46039f\"],[0.2222222222222222,\"#7201a8\"],[0.3333333333333333,\"#9c179e\"],[0.4444444444444444,\"#bd3786\"],[0.5555555555555556,\"#d8576b\"],[0.6666666666666666,\"#ed7953\"],[0.7777777777777778,\"#fb9f3a\"],[0.8888888888888888,\"#fdca26\"],[1.0,\"#f0f921\"]],\"sequentialminus\":[[0.0,\"#0d0887\"],[0.1111111111111111,\"#46039f\"],[0.2222222222222222,\"#7201a8\"],[0.3333333333333333,\"#9c179e\"],[0.4444444444444444,\"#bd3786\"],[0.5555555555555556,\"#d8576b\"],[0.6666666666666666,\"#ed7953\"],[0.7777777777777778,\"#fb9f3a\"],[0.8888888888888888,\"#fdca26\"],[1.0,\"#f0f921\"]]},\"colorway\":[\"#636efa\",\"#EF553B\",\"#00cc96\",\"#ab63fa\",\"#FFA15A\",\"#19d3f3\",\"#FF6692\",\"#B6E880\",\"#FF97FF\",\"#FECB52\"],\"font\":{\"color\":\"#2a3f5f\"},\"geo\":{\"bgcolor\":\"white\",\"lakecolor\":\"white\",\"landcolor\":\"#E5ECF6\",\"showlakes\":true,\"showland\":true,\"subunitcolor\":\"white\"},\"hoverlabel\":{\"align\":\"left\"},\"hovermode\":\"closest\",\"mapbox\":{\"style\":\"light\"},\"paper_bgcolor\":\"white\",\"plot_bgcolor\":\"#E5ECF6\",\"polar\":{\"angularaxis\":{\"gridcolor\":\"white\",\"linecolor\":\"white\",\"ticks\":\"\"},\"bgcolor\":\"#E5ECF6\",\"radialaxis\":{\"gridcolor\":\"white\",\"linecolor\":\"white\",\"ticks\":\"\"}},\"scene\":{\"xaxis\":{\"backgroundcolor\":\"#E5ECF6\",\"gridcolor\":\"white\",\"gridwidth\":2,\"linecolor\":\"white\",\"showbackground\":true,\"ticks\":\"\",\"zerolinecolor\":\"white\"},\"yaxis\":{\"backgroundcolor\":\"#E5ECF6\",\"gridcolor\":\"white\",\"gridwidth\":2,\"linecolor\":\"white\",\"showbackground\":true,\"ticks\":\"\",\"zerolinecolor\":\"white\"},\"zaxis\":{\"backgroundcolor\":\"#E5ECF6\",\"gridcolor\":\"white\",\"gridwidth\":2,\"linecolor\":\"white\",\"showbackground\":true,\"ticks\":\"\",\"zerolinecolor\":\"white\"}},\"shapedefaults\":{\"line\":{\"color\":\"#2a3f5f\"}},\"ternary\":{\"aaxis\":{\"gridcolor\":\"white\",\"linecolor\":\"white\",\"ticks\":\"\"},\"baxis\":{\"gridcolor\":\"white\",\"linecolor\":\"white\",\"ticks\":\"\"},\"bgcolor\":\"#E5ECF6\",\"caxis\":{\"gridcolor\":\"white\",\"linecolor\":\"white\",\"ticks\":\"\"}},\"title\":{\"x\":0.05},\"xaxis\":{\"automargin\":true,\"gridcolor\":\"white\",\"linecolor\":\"white\",\"ticks\":\"\",\"title\":{\"standoff\":15},\"zerolinecolor\":\"white\",\"zerolinewidth\":2},\"yaxis\":{\"automargin\":true,\"gridcolor\":\"white\",\"linecolor\":\"white\",\"ticks\":\"\",\"title\":{\"standoff\":15},\"zerolinecolor\":\"white\",\"zerolinewidth\":2}}},\"xaxis\":{\"anchor\":\"y\",\"domain\":[0.0,1.0],\"title\":{\"text\":\"index\"}},\"yaxis\":{\"anchor\":\"x\",\"domain\":[0.0,1.0],\"title\":{\"text\":\"value\"}},\"legend\":{\"title\":{\"text\":\"variable\"},\"tracegroupgap\":0},\"margin\":{\"t\":60},\"barmode\":\"relative\"},                        {\"responsive\": true}                    ).then(function(){\n",
              "                            \n",
              "var gd = document.getElementById('a931e23c-e272-44a3-aad6-a6aeb57bde77');\n",
              "var x = new MutationObserver(function (mutations, observer) {{\n",
              "        var display = window.getComputedStyle(gd).display;\n",
              "        if (!display || display === 'none') {{\n",
              "            console.log([gd, 'removed!']);\n",
              "            Plotly.purge(gd);\n",
              "            observer.disconnect();\n",
              "        }}\n",
              "}});\n",
              "\n",
              "// Listen for the removal of the full notebook cells\n",
              "var notebookContainer = gd.closest('#notebook-container');\n",
              "if (notebookContainer) {{\n",
              "    x.observe(notebookContainer, {childList: true});\n",
              "}}\n",
              "\n",
              "// Listen for the clearing of the current output cell\n",
              "var outputEl = gd.closest('.output');\n",
              "if (outputEl) {{\n",
              "    x.observe(outputEl, {childList: true});\n",
              "}}\n",
              "\n",
              "                        })                };                            </script>        </div>\n",
              "</body>\n",
              "</html>"
            ]
          },
          "metadata": {}
        }
      ]
    },
    {
      "cell_type": "markdown",
      "metadata": {
        "id": "tFcmYqKydMP7"
      },
      "source": [
        "## Preprocessing"
      ]
    },
    {
      "cell_type": "markdown",
      "source": [
        "The only preprocessing we need to do is convert the dataset into spaCy's `DocBin` object, which is a binary data format for a collection of spaCy `Doc` objects."
      ],
      "metadata": {
        "id": "HKxVAtA7Pe3K"
      }
    },
    {
      "cell_type": "code",
      "source": [
        "!pip install -U -q pip setuptools wheel\n",
        "!pip install -U -q spacy"
      ],
      "metadata": {
        "id": "lBcjcXJdZrHf"
      },
      "execution_count": null,
      "outputs": []
    },
    {
      "cell_type": "markdown",
      "source": [
        "First, we'll create a list of tuples with raw texts as the first value and their category labels as the second value."
      ],
      "metadata": {
        "id": "XwlGheqdeUCW"
      }
    },
    {
      "cell_type": "code",
      "source": [
        "def df2tuple(df, text_col, cat_col):\n",
        "    tuple_data = (\n",
        "        df.apply(lambda row: (row[text_col], row[cat_col]), \n",
        "                 axis=1)\n",
        "        .tolist()\n",
        "    )\n",
        "    return tuple_data"
      ],
      "metadata": {
        "id": "nFXv0rlMqfuw"
      },
      "execution_count": 11,
      "outputs": []
    },
    {
      "cell_type": "code",
      "source": [
        "TEXT_COL = 'review'\n",
        "CAT_COL = 'cat'\n",
        "train_tuple = df2tuple(train, text_col=TEXT_COL, cat_col=CAT_COL)\n",
        "train_tuple[:10]"
      ],
      "metadata": {
        "colab": {
          "base_uri": "https://localhost:8080/"
        },
        "id": "-yj33DfrrSCH",
        "outputId": "849a1389-6575-4e00-f064-405cf5a3d612"
      },
      "execution_count": 12,
      "outputs": [
        {
          "output_type": "execute_result",
          "data": {
            "text/plain": [
              "[('蘋果除了不夠甜，酥脆可口還可以，包裝一個都沒壞給好評。', '水果'),\n",
              " ('先定的普通標間，感覺比較差，連三星都不如，就換到豪華標間，是不同的樓棟，環境要好很多，酒店給人整體感覺很平庸，沒有啥特點。', '酒店'),\n",
              " ('酒店是四星的，服務不錯，晚上還送點心。酒店的設施是按四星標準，但可能時間比較長了，設施有點老化，顯得比較舊了。不過整體來說還是不錯的。', '酒店'),\n",
              " ('住的是350的大床房,以四星標準衡量的話,傢俱太舊,房間太小,早餐品種單一,別的總體來說還可以吧,地段不錯,服務也滿好.', '酒店'),\n",
              " ('來江門出差一直都住這個酒店，覺得價效比還可以', '酒店'),\n",
              " ('一星也不想給，洗完頭皮屑越來越多，而且頭皮超級癢。用回潘婷後就好多了。', '洗髮水'),\n",
              " ('手機出現訊號不穩定現象，時而有訊號，時而無訊號，換卡，換運營商此問題都未得到解決。只能返修，然而返修需要自費快遞，同時返修期間無臨時手機備用服務，本次購物體驗很差。京東該改進了。客服口氣不好，很不滿意。差評',\n",
              "  '平板'),\n",
              " ('這種蘋果已經買過多次了，水分多，甜酸可口。頭天晚上下單，第二天東西就送來了，京東的服務一如既往，很滿意。', '水果'),\n",
              " ('假貨不是正品，和專賣店賣的用了效果完全不一樣。只是沒必要為這麼點錢拿去鑑定了', '洗髮水'),\n",
              " ('差穿了2次就丟了！', '衣服')]"
            ]
          },
          "metadata": {},
          "execution_count": 12
        }
      ]
    },
    {
      "cell_type": "code",
      "source": [
        "test_tuple = df2tuple(test, text_col=TEXT_COL, cat_col=CAT_COL)\n",
        "test_tuple[:10]"
      ],
      "metadata": {
        "colab": {
          "base_uri": "https://localhost:8080/"
        },
        "id": "bWo38V_urorA",
        "outputId": "de6eba95-dbbb-4319-cf48-808d326ac05e"
      },
      "execution_count": 13,
      "outputs": [
        {
          "output_type": "execute_result",
          "data": {
            "text/plain": [
              "[('打著雙十一的旗子，提高物價！l', '洗髮水'),\n",
              " ('騰訊影片會員卡呢??給不起就不要寫上去欺騙消費者', '平板'),\n",
              " ('酒店在我最喜歡的跑馬地區, 是靠山的,很舒服,不到兩分鐘步行時間還可以到臨近的百家國際超市,那裡可以購買到全球各地的新鮮美食.^_^,扯遠了,酒店房間就是小了一點,大家都知道的,香港寸土寸金啦,房間小一點是沒有辦法的,好在酒店周圍環境幽雅,安靜,酒店大堂很懷舊英式風格,還有免費巴士到地鐵金鐘站,價格也有競爭力,總的來說還是比較滿意的.',\n",
              "  '酒店'),\n",
              " ('去香港的主要原因就是為了購物，住這家酒店令我最滿意的就它的地理位置非常的方便（尤其是帶寶寶旅遊的媽媽），你不會因為寶寶太小走不了多少路而困惑，因為這家酒店就位於香港最繁華的海港城中，不管是硬體還是軟體絕對符合四星的標準，尤其是床非常大很舒服。出了酒店的門就是令郎滿目各種品牌的商品，會讓你有足不出戶的感覺，因為你就住在商場裡，裡面吃飯購物非常方便。如果你的寶寶累了或者買的東西太多你可以馬上就回到酒店，稍作休息，真的非常方便！！',\n",
              "  '酒店'),\n",
              " ('買了一個月才過來評價，我不是水軍，良心說不咋地，有重啟現象，反應速度有卡頓，不是為了能插儲存卡和otg，我不會買安卓的平板，挑了個大牌子，但很失望！開機充電充了一個小時一點也沒變，忠告大家如果你不是和我一樣就為了插個儲存卡擴充記憶體，還是不要買！！',\n",
              "  '平板'),\n",
              " ('有點刺激頭皮，太敏感的需要注意', '洗髮水'),\n",
              " ('31號服務員成心坑人！！我們12點回賓館準備吃飯後收拾結帳，31號服務員問我們什麼時候離開，我們說馬上。按照慣例，服務員沒有提醒我們超時收費，我們就以為不收費。於是我們不慌不忙地吃飯、收拾……等我們兩點結帳的時候，竟然活生生多收半天！！不告知，不提醒，收費也不言語，直接開好發票從押金裡頭就扣了。這不是成心坑人是什麼？？？更可笑的是，我們住的501是個套間，我們剛進去的時候沒有找到電視機的遙控器，就電話給前臺，前臺派一個大媽來給看看。大媽進門溜達了一圈，冒出一句：“好像501就是沒有遙控器”。之後，我們在電視機上找到了遙控器。這樣的服務員、這樣的服務，真是給敦煌摸黑啊！！早餐也特離譜，8點，粥就是涼的……唉，這家賓館，去不得！！',\n",
              "  '酒店'),\n",
              " ('蘋果蠻脆的，就是味道不勻，有些甜，有些不甜', '水果'),\n",
              " ('不錯 款式新 面料好 值得購買', '衣服'),\n",
              " ('收貨地址寫錯了。承德縣合作站客服打來電話態度差的要死還讓我以後別寫承德縣合作站了，還在那邊一頓數落我。真不知道你們服務行業的態度哪去了，再說地址寫錯了我是故意的嗎？本來我說拒收不要了結果快遞員送到家門口了沒好意思拒收。真是拉低京東的形象如此惡劣。物流再快都沒有用態度在那呢。',\n",
              "  '洗髮水')]"
            ]
          },
          "metadata": {},
          "execution_count": 13
        }
      ]
    },
    {
      "cell_type": "markdown",
      "source": [
        "Then we make a directory for the `DocBin` objects we're about to create."
      ],
      "metadata": {
        "id": "hyfoh69Heix1"
      }
    },
    {
      "cell_type": "code",
      "source": [
        "from pathlib import Path\n",
        "\n",
        "path = Path(\"./data\")\n",
        "path.mkdir(parents=True, exist_ok=True)"
      ],
      "metadata": {
        "id": "zSQBpq38xceI"
      },
      "execution_count": 14,
      "outputs": []
    },
    {
      "cell_type": "code",
      "source": [
        "import spacy\n",
        "from spacy.tokens import DocBin\n",
        "from tqdm.auto import tqdm"
      ],
      "metadata": {
        "id": "4YlJtI9usDjn"
      },
      "execution_count": 15,
      "outputs": []
    },
    {
      "cell_type": "markdown",
      "source": [
        "For the purpose of saving a dataset as a spaCy object, we don't really need a trained pipeline. So a blank language model will do. "
      ],
      "metadata": {
        "id": "A5WDrefme5I3"
      }
    },
    {
      "cell_type": "code",
      "source": [
        "nlp = spacy.blank(\"zh\")\n",
        "unique_labels = df[CAT_COL].unique().tolist()\n",
        "\n",
        "def make_docs(tuple_data, split):\n",
        "    \"\"\"\n",
        "    tuple_data: a list of tuples with (raw text, category label)\n",
        "    split: either `train` or `test`\n",
        "    \"\"\"\n",
        "    docs = []\n",
        "    \n",
        "    for doc, label in tqdm(nlp.pipe(tuple_data, as_tuples=True), \n",
        "                           total = len(tuple_data)):\n",
        "        \n",
        "        # the default value for each unique label is False\n",
        "        label_dict = {label: False for label in unique_labels}\n",
        "        # assign the label_dict to the doc.cats attribute\n",
        "        doc.cats = label_dict\n",
        "        # update the current label, which should be True\n",
        "        doc.cats[label] = True\n",
        "        docs.append(doc)\n",
        "    \n",
        "    # create spaCy DocBin object\n",
        "    doc_bin = DocBin(docs=docs)\n",
        "    # save the object to a default path\n",
        "    doc_bin.to_disk(f\"./data/{split}.spacy\")"
      ],
      "metadata": {
        "id": "R9JscTygodOZ"
      },
      "execution_count": 16,
      "outputs": []
    },
    {
      "cell_type": "code",
      "source": [
        "make_docs(train_tuple, 'train')"
      ],
      "metadata": {
        "colab": {
          "base_uri": "https://localhost:8080/",
          "height": 49,
          "referenced_widgets": [
            "30212ee0fe5841f1be4dafd01a80b228",
            "2237d6a19a2046c08ab1c9f233fe15ee",
            "44ad591dc9f7477096627c0ced8a0d74",
            "1c6d0491fd0f4028bb9f1835d1d83c67",
            "c33c95bd98304f189547983c2b16b922",
            "a4f6a267fceb4f9bb565344e81e84899",
            "55249c7da33c425ab6c210245a1e55df",
            "95fe611e75d44dc7a67d3de171331e78",
            "f52be569be924b5bbf4c109c22eba104",
            "5a4d5564d7ef43bead5ee9e0c11c085c",
            "12636e389e3d4f2597cecabb9bcc218f"
          ]
        },
        "id": "rQN2LcgVgcOr",
        "outputId": "4c5c6bbb-9cc1-44cb-c61f-1610921764de"
      },
      "execution_count": 41,
      "outputs": [
        {
          "output_type": "display_data",
          "data": {
            "text/plain": [
              "  0%|          | 0/35000 [00:00<?, ?it/s]"
            ],
            "application/vnd.jupyter.widget-view+json": {
              "version_major": 2,
              "version_minor": 0,
              "model_id": "30212ee0fe5841f1be4dafd01a80b228"
            }
          },
          "metadata": {}
        }
      ]
    },
    {
      "cell_type": "code",
      "source": [
        "make_docs(test_tuple, 'test')"
      ],
      "metadata": {
        "colab": {
          "base_uri": "https://localhost:8080/",
          "height": 49,
          "referenced_widgets": [
            "dd09fe16bd7343a28067a8008e8614c1",
            "dc55b4640942495f80aae4e0c2a87cb4",
            "b106e3164a5e416999ee5bac122eb4e0",
            "e51029239ebf42a8b28937b25a9e0628",
            "f9d7a69789754975b666adc1d204af33",
            "6366f0a658824865b8999eeff6c5c40b",
            "1d9376456b6843079fd67e1631d3cdcb",
            "685d906b110547b5bd72ce6b18f180ab",
            "2adaa436446043829b011768d254be7c",
            "2ff8df17b1334dbeb2719642a30fc6b9",
            "edd693d7f715445aaa0c2b02642966ae"
          ]
        },
        "id": "jNCI6d3lwPJS",
        "outputId": "cb9d6597-ba7e-4961-d9e2-e652026a8ec7"
      },
      "execution_count": 42,
      "outputs": [
        {
          "output_type": "display_data",
          "data": {
            "text/plain": [
              "  0%|          | 0/15000 [00:00<?, ?it/s]"
            ],
            "application/vnd.jupyter.widget-view+json": {
              "version_major": 2,
              "version_minor": 0,
              "model_id": "dd09fe16bd7343a28067a8008e8614c1"
            }
          },
          "metadata": {}
        }
      ]
    },
    {
      "cell_type": "markdown",
      "source": [
        "## Configuration for training"
      ],
      "metadata": {
        "id": "Vr82k5mP3wGw"
      }
    },
    {
      "cell_type": "markdown",
      "source": [
        "All the settings for the training pipeline reside in the `.cfg` file. Alternatively, you could use the widget on [this page](https://spacy.io/usage/training) to create a config file. But using CLI makes it easier to automate your workflow 😇."
      ],
      "metadata": {
        "id": "sAQNcN77R345"
      }
    },
    {
      "cell_type": "code",
      "source": [
        "LANG = 'zh'\n",
        "OPTIMIZE = 'efficiency'\n",
        "CONFIG_PREFIX = 'cpu'\n",
        "!python -m spacy init config configs/{CONFIG_PREFIX}_config.cfg \\\n",
        "--lang {LANG} \\\n",
        "--pipeline textcat \\\n",
        "--optimize {OPTIMIZE} \\\n",
        "--force"
      ],
      "metadata": {
        "colab": {
          "base_uri": "https://localhost:8080/"
        },
        "id": "n7436SnuyOrX",
        "outputId": "447542b5-792e-4e86-ebe4-387ff8b46815"
      },
      "execution_count": 19,
      "outputs": [
        {
          "output_type": "stream",
          "name": "stdout",
          "text": [
            "\u001b[38;5;3m⚠ To generate a more effective transformer-based config (GPU-only),\n",
            "install the spacy-transformers package and re-run this command. The config\n",
            "generated now does not use transformers.\u001b[0m\n",
            "\u001b[38;5;4mℹ Generated config template specific for your use case\u001b[0m\n",
            "- Language: zh\n",
            "- Pipeline: textcat\n",
            "- Optimize for: efficiency\n",
            "- Hardware: CPU\n",
            "- Transformer: None\n",
            "\u001b[38;5;2m✔ Auto-filled config with all values\u001b[0m\n",
            "\u001b[38;5;2m✔ Saved config\u001b[0m\n",
            "configs/cpu_config.cfg\n",
            "You can now add your data and train your pipeline:\n",
            "python -m spacy train cpu_config.cfg --paths.train ./train.spacy --paths.dev ./dev.spacy\n"
          ]
        }
      ]
    },
    {
      "cell_type": "markdown",
      "source": [
        "Here's what the config file looks like. See [this page](https://spacy.io/api/data-formats#section-config) for detailed info."
      ],
      "metadata": {
        "id": "pdnhd2rSbcsF"
      }
    },
    {
      "cell_type": "code",
      "source": [
        "!cat ./configs/cpu_config.cfg"
      ],
      "metadata": {
        "colab": {
          "base_uri": "https://localhost:8080/"
        },
        "id": "0rJ0-_5903Jj",
        "outputId": "bbd6f59e-4756-4d20-be0a-78c17681a274"
      },
      "execution_count": 20,
      "outputs": [
        {
          "output_type": "stream",
          "name": "stdout",
          "text": [
            "[paths]\n",
            "train = null\n",
            "dev = null\n",
            "vectors = null\n",
            "init_tok2vec = null\n",
            "\n",
            "[system]\n",
            "gpu_allocator = null\n",
            "seed = 0\n",
            "\n",
            "[nlp]\n",
            "lang = \"zh\"\n",
            "pipeline = [\"textcat\"]\n",
            "batch_size = 1000\n",
            "disabled = []\n",
            "before_creation = null\n",
            "after_creation = null\n",
            "after_pipeline_creation = null\n",
            "\n",
            "[nlp.tokenizer]\n",
            "@tokenizers = \"spacy.zh.ChineseTokenizer\"\n",
            "segmenter = \"char\"\n",
            "\n",
            "[components]\n",
            "\n",
            "[components.textcat]\n",
            "factory = \"textcat\"\n",
            "scorer = {\"@scorers\":\"spacy.textcat_scorer.v1\"}\n",
            "threshold = 0.5\n",
            "\n",
            "[components.textcat.model]\n",
            "@architectures = \"spacy.TextCatBOW.v2\"\n",
            "exclusive_classes = true\n",
            "ngram_size = 1\n",
            "no_output_layer = false\n",
            "nO = null\n",
            "\n",
            "[corpora]\n",
            "\n",
            "[corpora.dev]\n",
            "@readers = \"spacy.Corpus.v1\"\n",
            "path = ${paths.dev}\n",
            "max_length = 0\n",
            "gold_preproc = false\n",
            "limit = 0\n",
            "augmenter = null\n",
            "\n",
            "[corpora.train]\n",
            "@readers = \"spacy.Corpus.v1\"\n",
            "path = ${paths.train}\n",
            "max_length = 0\n",
            "gold_preproc = false\n",
            "limit = 0\n",
            "augmenter = null\n",
            "\n",
            "[training]\n",
            "dev_corpus = \"corpora.dev\"\n",
            "train_corpus = \"corpora.train\"\n",
            "seed = ${system.seed}\n",
            "gpu_allocator = ${system.gpu_allocator}\n",
            "dropout = 0.1\n",
            "accumulate_gradient = 1\n",
            "patience = 1600\n",
            "max_epochs = 0\n",
            "max_steps = 20000\n",
            "eval_frequency = 200\n",
            "frozen_components = []\n",
            "annotating_components = []\n",
            "before_to_disk = null\n",
            "\n",
            "[training.batcher]\n",
            "@batchers = \"spacy.batch_by_words.v1\"\n",
            "discard_oversize = false\n",
            "tolerance = 0.2\n",
            "get_length = null\n",
            "\n",
            "[training.batcher.size]\n",
            "@schedules = \"compounding.v1\"\n",
            "start = 100\n",
            "stop = 1000\n",
            "compound = 1.001\n",
            "t = 0.0\n",
            "\n",
            "[training.logger]\n",
            "@loggers = \"spacy.ConsoleLogger.v1\"\n",
            "progress_bar = false\n",
            "\n",
            "[training.optimizer]\n",
            "@optimizers = \"Adam.v1\"\n",
            "beta1 = 0.9\n",
            "beta2 = 0.999\n",
            "L2_is_weight_decay = true\n",
            "L2 = 0.01\n",
            "grad_clip = 1.0\n",
            "use_averages = false\n",
            "eps = 0.00000001\n",
            "learn_rate = 0.001\n",
            "\n",
            "[training.score_weights]\n",
            "cats_score = 1.0\n",
            "cats_score_desc = null\n",
            "cats_micro_p = null\n",
            "cats_micro_r = null\n",
            "cats_micro_f = null\n",
            "cats_macro_p = null\n",
            "cats_macro_r = null\n",
            "cats_macro_f = null\n",
            "cats_macro_auc = null\n",
            "cats_f_per_type = null\n",
            "cats_macro_auc_per_type = null\n",
            "\n",
            "[pretraining]\n",
            "\n",
            "[initialize]\n",
            "vectors = ${paths.vectors}\n",
            "init_tok2vec = ${paths.init_tok2vec}\n",
            "vocab_data = null\n",
            "lookups = null\n",
            "before_init = null\n",
            "after_init = null\n",
            "\n",
            "[initialize.components]\n",
            "\n",
            "[initialize.tokenizer]\n",
            "pkuseg_model = null\n",
            "pkuseg_user_dict = \"default\""
          ]
        }
      ]
    },
    {
      "cell_type": "markdown",
      "source": [
        "## Dowloading a pretrained model"
      ],
      "metadata": {
        "id": "BaA7oi5AQMNZ"
      }
    },
    {
      "cell_type": "markdown",
      "source": [
        "If you specify a pretrained model in the config file, you'll have to download it before starting the training."
      ],
      "metadata": {
        "id": "yRjjjCSHVvIb"
      }
    },
    {
      "cell_type": "code",
      "source": [
        "#!python -m spacy download zh_core_web_lg"
      ],
      "metadata": {
        "id": "AgsxSgvD3SV6"
      },
      "execution_count": null,
      "outputs": []
    },
    {
      "cell_type": "markdown",
      "metadata": {
        "id": "rl9j-pHFdMP9"
      },
      "source": [
        "## Training"
      ]
    },
    {
      "cell_type": "markdown",
      "source": [
        "Here comes the fun 😻 part! Grab a cup of coffee/tea 🍵 and come back later."
      ],
      "metadata": {
        "id": "PmgfxGp1gv1e"
      }
    },
    {
      "cell_type": "code",
      "source": [
        "CONFIG_PREFIX = 'cpu'\n",
        "CONFIG_FILE = CONFIG_PREFIX + '_config.cfg'\n",
        "TRAIN_FILE = './data/train'\n",
        "TEST_FILE = './data/test'\n",
        "MODEL_DIR = f'./{CONFIG_PREFIX}_model'\n",
        "!python -m spacy train configs/{CONFIG_FILE} \\\n",
        "--output {MODEL_DIR} \\\n",
        "--paths.train {TRAIN_FILE}.spacy \\\n",
        "--paths.dev {TEST_FILE}.spacy \\\n",
        "--verbose"
      ],
      "metadata": {
        "colab": {
          "base_uri": "https://localhost:8080/"
        },
        "id": "5aZweyyD0_d0",
        "outputId": "df536609-5b82-45ad-9ce2-105db0e23cc7"
      },
      "execution_count": 22,
      "outputs": [
        {
          "output_type": "stream",
          "name": "stdout",
          "text": [
            "[2022-06-03 02:11:37,213] [DEBUG] Config overrides from CLI: ['paths.train', 'paths.dev']\n",
            "\u001b[38;5;2m✔ Created output directory: cpu_model\u001b[0m\n",
            "\u001b[38;5;4mℹ Saving to output directory: cpu_model\u001b[0m\n",
            "\u001b[38;5;4mℹ Using CPU\u001b[0m\n",
            "\u001b[38;5;4mℹ To switch to GPU 0, use the option: --gpu-id 0\u001b[0m\n",
            "\u001b[1m\n",
            "=========================== Initializing pipeline ===========================\u001b[0m\n",
            "[2022-06-03 02:11:38,122] [INFO] Set up nlp object from config\n",
            "[2022-06-03 02:11:38,152] [DEBUG] Loading corpus from path: data/test.spacy\n",
            "[2022-06-03 02:11:38,153] [DEBUG] Loading corpus from path: data/train.spacy\n",
            "[2022-06-03 02:11:38,153] [INFO] Pipeline: ['textcat']\n",
            "[2022-06-03 02:11:38,159] [INFO] Created vocabulary\n",
            "[2022-06-03 02:11:38,160] [INFO] Finished initializing nlp object\n",
            "[2022-06-03 02:12:08,093] [INFO] Initialized pipeline components: ['textcat']\n",
            "\u001b[38;5;2m✔ Initialized pipeline\u001b[0m\n",
            "\u001b[1m\n",
            "============================= Training pipeline =============================\u001b[0m\n",
            "[2022-06-03 02:12:08,102] [DEBUG] Loading corpus from path: data/test.spacy\n",
            "[2022-06-03 02:12:08,103] [DEBUG] Loading corpus from path: data/train.spacy\n",
            "\u001b[38;5;4mℹ Pipeline: ['textcat']\u001b[0m\n",
            "\u001b[38;5;4mℹ Initial learn rate: 0.001\u001b[0m\n",
            "E    #       LOSS TEXTCAT  CATS_SCORE  SCORE \n",
            "---  ------  ------------  ----------  ------\n",
            "  0       0          0.16        0.00    0.00\n",
            "  0     200         22.33       34.90    0.35\n",
            "  0     400         14.67       62.87    0.63\n",
            "  0     600         10.48       73.90    0.74\n",
            "  0     800         10.11       77.77    0.78\n",
            "  0    1000          8.88       80.47    0.80\n",
            "  0    1200          7.88       82.23    0.82\n",
            "  0    1400          7.99       83.69    0.84\n",
            "  0    1600          7.28       84.75    0.85\n",
            "  0    1800          7.73       85.59    0.86\n",
            "  0    2000          7.09       86.29    0.86\n",
            "  0    2200          6.86       86.54    0.87\n",
            "  0    2400          6.84       87.18    0.87\n",
            "  0    2600          6.91       87.23    0.87\n",
            "  0    2800          6.73       87.71    0.88\n",
            "  0    3000          6.74       87.89    0.88\n",
            "  0    3200          6.71       88.05    0.88\n",
            "  0    3400          6.31       88.30    0.88\n",
            "  1    3600          5.53       88.33    0.88\n",
            "  1    3800          5.91       88.48    0.88\n",
            "  1    4000          5.82       88.46    0.88\n",
            "  1    4200          5.62       88.45    0.88\n",
            "  1    4400          5.97       88.37    0.88\n",
            "  1    4600          5.71       88.60    0.89\n",
            "  1    4800          5.32       88.65    0.89\n",
            "  1    5000          5.80       88.68    0.89\n",
            "  1    5200          5.45       88.70    0.89\n",
            "  2    5400          5.24       88.89    0.89\n",
            "  2    5600          5.17       88.90    0.89\n",
            "  2    5800          5.07       88.95    0.89\n",
            "  2    6000          5.45       88.75    0.89\n",
            "  2    6200          5.14       88.97    0.89\n",
            "  2    6400          5.26       88.97    0.89\n",
            "  2    6600          5.20       88.94    0.89\n",
            "  2    6800          5.09       88.93    0.89\n",
            "  2    7000          5.02       88.91    0.89\n",
            "  2    7200          5.26       89.00    0.89\n",
            "  3    7400          4.87       88.93    0.89\n",
            "  3    7600          4.36       89.00    0.89\n",
            "  3    7800          5.07       89.02    0.89\n",
            "  3    8000          4.99       89.11    0.89\n",
            "  3    8200          4.48       89.17    0.89\n",
            "  3    8400          4.87       89.00    0.89\n",
            "  3    8600          4.83       89.33    0.89\n",
            "  3    8800          5.08       89.32    0.89\n",
            "  3    9000          5.06       89.22    0.89\n",
            "  4    9200          5.12       89.20    0.89\n",
            "  4    9400          4.75       89.25    0.89\n",
            "  4    9600          4.79       88.98    0.89\n",
            "  4    9800          4.70       89.24    0.89\n",
            "  4   10000          4.52       89.30    0.89\n",
            "  4   10200          4.46       89.27    0.89\n",
            "\u001b[38;5;2m✔ Saved pipeline to output directory\u001b[0m\n",
            "cpu_model/model-last\n"
          ]
        }
      ]
    },
    {
      "cell_type": "markdown",
      "source": [
        "## Evaluation"
      ],
      "metadata": {
        "id": "ZM6l9WqBQiuJ"
      }
    },
    {
      "cell_type": "markdown",
      "source": [
        "spaCy automatically saves two models, named `model-best` and `model-last`. In a model directory you'll see a `meta.json` file, which logs the model performance."
      ],
      "metadata": {
        "id": "Dt4PYrkHby8A"
      }
    },
    {
      "cell_type": "code",
      "source": [
        "import json\n",
        "\n",
        "meta_path = \"./cpu_model/model-best/meta.json\"\n",
        "with open(meta_path) as json_file:\n",
        "    metrics = json.load(json_file)\n",
        "metrics "
      ],
      "metadata": {
        "colab": {
          "base_uri": "https://localhost:8080/"
        },
        "id": "Y1H5ovJ58vh1",
        "outputId": "2b256e44-cb69-49de-b052-71b7e6325489"
      },
      "execution_count": 23,
      "outputs": [
        {
          "output_type": "execute_result",
          "data": {
            "text/plain": [
              "{'author': '',\n",
              " 'components': ['textcat'],\n",
              " 'description': '',\n",
              " 'disabled': [],\n",
              " 'email': '',\n",
              " 'labels': {'textcat': ['平板', '水果', '洗髮水', '衣服', '酒店']},\n",
              " 'lang': 'zh',\n",
              " 'license': '',\n",
              " 'name': 'pipeline',\n",
              " 'performance': {'cats_f_per_type': {'平板': {'f': 0.8418098913,\n",
              "    'p': 0.8965259619,\n",
              "    'r': 0.7933884298},\n",
              "   '水果': {'f': 0.9015829319, 'p': 0.9438040346, 'r': 0.8629776021},\n",
              "   '洗髮水': {'f': 0.8452485509, 'p': 0.8829357798, 'r': 0.8106469003},\n",
              "   '衣服': {'f': 0.895844201, 'p': 0.9313087491, 'r': 0.8629815745},\n",
              "   '酒店': {'f': 0.9818367001, 'p': 0.995524957, 'r': 0.9685197589}},\n",
              "  'cats_macro_auc': 0.9850454941,\n",
              "  'cats_macro_auc_per_type': 0.0,\n",
              "  'cats_macro_f': 0.893264455,\n",
              "  'cats_macro_p': 0.9300198965,\n",
              "  'cats_macro_r': 0.8597028531,\n",
              "  'cats_micro_f': 0.8938958023,\n",
              "  'cats_micro_p': 0.9310419525,\n",
              "  'cats_micro_r': 0.8596,\n",
              "  'cats_score': 0.893264455,\n",
              "  'cats_score_desc': 'macro F',\n",
              "  'textcat_loss': 4.8349148593},\n",
              " 'pipeline': ['textcat'],\n",
              " 'spacy_git_version': 'Unknown',\n",
              " 'spacy_version': '>=3.3.0,<3.4.0',\n",
              " 'url': '',\n",
              " 'vectors': {'keys': 0,\n",
              "  'mode': 'default',\n",
              "  'name': None,\n",
              "  'vectors': 0,\n",
              "  'width': 0},\n",
              " 'version': '0.0.0'}"
            ]
          },
          "metadata": {},
          "execution_count": 23
        }
      ]
    },
    {
      "cell_type": "code",
      "source": [
        "performance = metrics['performance']\n",
        "score = performance['cats_score']\n",
        "auc = performance['cats_macro_auc']\n",
        "f1 = performance['cats_macro_f']\n",
        "precision = performance['cats_macro_p']\n",
        "recall = performance['cats_macro_r']\n",
        "overall_dict = {'score': score, 'precision': precision, 'recall': recall, 'F1': f1, 'AUC': auc}\n",
        "overall_df = pd.DataFrame(overall_dict, index=[0])\n",
        "overall_df"
      ],
      "metadata": {
        "colab": {
          "base_uri": "https://localhost:8080/",
          "height": 81
        },
        "id": "Lsyboy3e8-pZ",
        "outputId": "cf1289a0-9a47-45d1-fe8e-e7718ff8a2e8"
      },
      "execution_count": 24,
      "outputs": [
        {
          "output_type": "execute_result",
          "data": {
            "text/plain": [
              "      score  precision    recall        F1       AUC\n",
              "0  0.893264    0.93002  0.859703  0.893264  0.985045"
            ],
            "text/html": [
              "\n",
              "  <div id=\"df-4003b72f-cdcd-43c1-b3b6-68f0ce800608\">\n",
              "    <div class=\"colab-df-container\">\n",
              "      <div>\n",
              "<style scoped>\n",
              "    .dataframe tbody tr th:only-of-type {\n",
              "        vertical-align: middle;\n",
              "    }\n",
              "\n",
              "    .dataframe tbody tr th {\n",
              "        vertical-align: top;\n",
              "    }\n",
              "\n",
              "    .dataframe thead th {\n",
              "        text-align: right;\n",
              "    }\n",
              "</style>\n",
              "<table border=\"1\" class=\"dataframe\">\n",
              "  <thead>\n",
              "    <tr style=\"text-align: right;\">\n",
              "      <th></th>\n",
              "      <th>score</th>\n",
              "      <th>precision</th>\n",
              "      <th>recall</th>\n",
              "      <th>F1</th>\n",
              "      <th>AUC</th>\n",
              "    </tr>\n",
              "  </thead>\n",
              "  <tbody>\n",
              "    <tr>\n",
              "      <th>0</th>\n",
              "      <td>0.893264</td>\n",
              "      <td>0.93002</td>\n",
              "      <td>0.859703</td>\n",
              "      <td>0.893264</td>\n",
              "      <td>0.985045</td>\n",
              "    </tr>\n",
              "  </tbody>\n",
              "</table>\n",
              "</div>\n",
              "      <button class=\"colab-df-convert\" onclick=\"convertToInteractive('df-4003b72f-cdcd-43c1-b3b6-68f0ce800608')\"\n",
              "              title=\"Convert this dataframe to an interactive table.\"\n",
              "              style=\"display:none;\">\n",
              "        \n",
              "  <svg xmlns=\"http://www.w3.org/2000/svg\" height=\"24px\"viewBox=\"0 0 24 24\"\n",
              "       width=\"24px\">\n",
              "    <path d=\"M0 0h24v24H0V0z\" fill=\"none\"/>\n",
              "    <path d=\"M18.56 5.44l.94 2.06.94-2.06 2.06-.94-2.06-.94-.94-2.06-.94 2.06-2.06.94zm-11 1L8.5 8.5l.94-2.06 2.06-.94-2.06-.94L8.5 2.5l-.94 2.06-2.06.94zm10 10l.94 2.06.94-2.06 2.06-.94-2.06-.94-.94-2.06-.94 2.06-2.06.94z\"/><path d=\"M17.41 7.96l-1.37-1.37c-.4-.4-.92-.59-1.43-.59-.52 0-1.04.2-1.43.59L10.3 9.45l-7.72 7.72c-.78.78-.78 2.05 0 2.83L4 21.41c.39.39.9.59 1.41.59.51 0 1.02-.2 1.41-.59l7.78-7.78 2.81-2.81c.8-.78.8-2.07 0-2.86zM5.41 20L4 18.59l7.72-7.72 1.47 1.35L5.41 20z\"/>\n",
              "  </svg>\n",
              "      </button>\n",
              "      \n",
              "  <style>\n",
              "    .colab-df-container {\n",
              "      display:flex;\n",
              "      flex-wrap:wrap;\n",
              "      gap: 12px;\n",
              "    }\n",
              "\n",
              "    .colab-df-convert {\n",
              "      background-color: #E8F0FE;\n",
              "      border: none;\n",
              "      border-radius: 50%;\n",
              "      cursor: pointer;\n",
              "      display: none;\n",
              "      fill: #1967D2;\n",
              "      height: 32px;\n",
              "      padding: 0 0 0 0;\n",
              "      width: 32px;\n",
              "    }\n",
              "\n",
              "    .colab-df-convert:hover {\n",
              "      background-color: #E2EBFA;\n",
              "      box-shadow: 0px 1px 2px rgba(60, 64, 67, 0.3), 0px 1px 3px 1px rgba(60, 64, 67, 0.15);\n",
              "      fill: #174EA6;\n",
              "    }\n",
              "\n",
              "    [theme=dark] .colab-df-convert {\n",
              "      background-color: #3B4455;\n",
              "      fill: #D2E3FC;\n",
              "    }\n",
              "\n",
              "    [theme=dark] .colab-df-convert:hover {\n",
              "      background-color: #434B5C;\n",
              "      box-shadow: 0px 1px 3px 1px rgba(0, 0, 0, 0.15);\n",
              "      filter: drop-shadow(0px 1px 2px rgba(0, 0, 0, 0.3));\n",
              "      fill: #FFFFFF;\n",
              "    }\n",
              "  </style>\n",
              "\n",
              "      <script>\n",
              "        const buttonEl =\n",
              "          document.querySelector('#df-4003b72f-cdcd-43c1-b3b6-68f0ce800608 button.colab-df-convert');\n",
              "        buttonEl.style.display =\n",
              "          google.colab.kernel.accessAllowed ? 'block' : 'none';\n",
              "\n",
              "        async function convertToInteractive(key) {\n",
              "          const element = document.querySelector('#df-4003b72f-cdcd-43c1-b3b6-68f0ce800608');\n",
              "          const dataTable =\n",
              "            await google.colab.kernel.invokeFunction('convertToInteractive',\n",
              "                                                     [key], {});\n",
              "          if (!dataTable) return;\n",
              "\n",
              "          const docLinkHtml = 'Like what you see? Visit the ' +\n",
              "            '<a target=\"_blank\" href=https://colab.research.google.com/notebooks/data_table.ipynb>data table notebook</a>'\n",
              "            + ' to learn more about interactive tables.';\n",
              "          element.innerHTML = '';\n",
              "          dataTable['output_type'] = 'display_data';\n",
              "          await google.colab.output.renderOutput(dataTable, element);\n",
              "          const docLink = document.createElement('div');\n",
              "          docLink.innerHTML = docLinkHtml;\n",
              "          element.appendChild(docLink);\n",
              "        }\n",
              "      </script>\n",
              "    </div>\n",
              "  </div>\n",
              "  "
            ]
          },
          "metadata": {},
          "execution_count": 24
        }
      ]
    },
    {
      "cell_type": "markdown",
      "source": [
        "- ROC: An ROC curve (receiver operating characteristic curve) is a graph showing the performance of a classification model at all classification thresholds.\n",
        "\n",
        "- AUC: AUC stands for \"Area under the ROC Curve\"."
      ],
      "metadata": {
        "id": "No5XNWRNjvVV"
      }
    },
    {
      "cell_type": "markdown",
      "source": [
        "![](https://d2mk45aasx86xg.cloudfront.net/ROC_Curve_with_positive_rates_d8e0e2516d.webp)"
      ],
      "metadata": {
        "id": "U9kMDR6Ij3KX"
      }
    },
    {
      "cell_type": "markdown",
      "source": [
        "- True positive rate (or recall)\n",
        "\n",
        "\\begin{align}\n",
        "        TPR = \\frac{TP}{TP+FN}\n",
        "    \\end{align}\n",
        "\n",
        "- False negative rate\n",
        "\n",
        "\\begin{align}\n",
        "        FPR = \\frac{FP}{FP+TN}\n",
        "    \\end{align}"
      ],
      "metadata": {
        "id": "2hsDjS8Eio5h"
      }
    },
    {
      "cell_type": "code",
      "source": [
        "per_cat_dict = performance['cats_f_per_type']\n",
        "per_cat_df = pd.DataFrame(per_cat_dict)\n",
        "per_cat_df"
      ],
      "metadata": {
        "colab": {
          "base_uri": "https://localhost:8080/",
          "height": 143
        },
        "id": "7qvFHM6F9Is7",
        "outputId": "ace23163-c95a-4b61-a781-ef51efb5f29a"
      },
      "execution_count": 25,
      "outputs": [
        {
          "output_type": "execute_result",
          "data": {
            "text/plain": [
              "         平板        水果       洗髮水        衣服        酒店\n",
              "p  0.896526  0.943804  0.882936  0.931309  0.995525\n",
              "r  0.793388  0.862978  0.810647  0.862982  0.968520\n",
              "f  0.841810  0.901583  0.845249  0.895844  0.981837"
            ],
            "text/html": [
              "\n",
              "  <div id=\"df-71a44799-cde6-4e5f-9705-a9d96362f965\">\n",
              "    <div class=\"colab-df-container\">\n",
              "      <div>\n",
              "<style scoped>\n",
              "    .dataframe tbody tr th:only-of-type {\n",
              "        vertical-align: middle;\n",
              "    }\n",
              "\n",
              "    .dataframe tbody tr th {\n",
              "        vertical-align: top;\n",
              "    }\n",
              "\n",
              "    .dataframe thead th {\n",
              "        text-align: right;\n",
              "    }\n",
              "</style>\n",
              "<table border=\"1\" class=\"dataframe\">\n",
              "  <thead>\n",
              "    <tr style=\"text-align: right;\">\n",
              "      <th></th>\n",
              "      <th>平板</th>\n",
              "      <th>水果</th>\n",
              "      <th>洗髮水</th>\n",
              "      <th>衣服</th>\n",
              "      <th>酒店</th>\n",
              "    </tr>\n",
              "  </thead>\n",
              "  <tbody>\n",
              "    <tr>\n",
              "      <th>p</th>\n",
              "      <td>0.896526</td>\n",
              "      <td>0.943804</td>\n",
              "      <td>0.882936</td>\n",
              "      <td>0.931309</td>\n",
              "      <td>0.995525</td>\n",
              "    </tr>\n",
              "    <tr>\n",
              "      <th>r</th>\n",
              "      <td>0.793388</td>\n",
              "      <td>0.862978</td>\n",
              "      <td>0.810647</td>\n",
              "      <td>0.862982</td>\n",
              "      <td>0.968520</td>\n",
              "    </tr>\n",
              "    <tr>\n",
              "      <th>f</th>\n",
              "      <td>0.841810</td>\n",
              "      <td>0.901583</td>\n",
              "      <td>0.845249</td>\n",
              "      <td>0.895844</td>\n",
              "      <td>0.981837</td>\n",
              "    </tr>\n",
              "  </tbody>\n",
              "</table>\n",
              "</div>\n",
              "      <button class=\"colab-df-convert\" onclick=\"convertToInteractive('df-71a44799-cde6-4e5f-9705-a9d96362f965')\"\n",
              "              title=\"Convert this dataframe to an interactive table.\"\n",
              "              style=\"display:none;\">\n",
              "        \n",
              "  <svg xmlns=\"http://www.w3.org/2000/svg\" height=\"24px\"viewBox=\"0 0 24 24\"\n",
              "       width=\"24px\">\n",
              "    <path d=\"M0 0h24v24H0V0z\" fill=\"none\"/>\n",
              "    <path d=\"M18.56 5.44l.94 2.06.94-2.06 2.06-.94-2.06-.94-.94-2.06-.94 2.06-2.06.94zm-11 1L8.5 8.5l.94-2.06 2.06-.94-2.06-.94L8.5 2.5l-.94 2.06-2.06.94zm10 10l.94 2.06.94-2.06 2.06-.94-2.06-.94-.94-2.06-.94 2.06-2.06.94z\"/><path d=\"M17.41 7.96l-1.37-1.37c-.4-.4-.92-.59-1.43-.59-.52 0-1.04.2-1.43.59L10.3 9.45l-7.72 7.72c-.78.78-.78 2.05 0 2.83L4 21.41c.39.39.9.59 1.41.59.51 0 1.02-.2 1.41-.59l7.78-7.78 2.81-2.81c.8-.78.8-2.07 0-2.86zM5.41 20L4 18.59l7.72-7.72 1.47 1.35L5.41 20z\"/>\n",
              "  </svg>\n",
              "      </button>\n",
              "      \n",
              "  <style>\n",
              "    .colab-df-container {\n",
              "      display:flex;\n",
              "      flex-wrap:wrap;\n",
              "      gap: 12px;\n",
              "    }\n",
              "\n",
              "    .colab-df-convert {\n",
              "      background-color: #E8F0FE;\n",
              "      border: none;\n",
              "      border-radius: 50%;\n",
              "      cursor: pointer;\n",
              "      display: none;\n",
              "      fill: #1967D2;\n",
              "      height: 32px;\n",
              "      padding: 0 0 0 0;\n",
              "      width: 32px;\n",
              "    }\n",
              "\n",
              "    .colab-df-convert:hover {\n",
              "      background-color: #E2EBFA;\n",
              "      box-shadow: 0px 1px 2px rgba(60, 64, 67, 0.3), 0px 1px 3px 1px rgba(60, 64, 67, 0.15);\n",
              "      fill: #174EA6;\n",
              "    }\n",
              "\n",
              "    [theme=dark] .colab-df-convert {\n",
              "      background-color: #3B4455;\n",
              "      fill: #D2E3FC;\n",
              "    }\n",
              "\n",
              "    [theme=dark] .colab-df-convert:hover {\n",
              "      background-color: #434B5C;\n",
              "      box-shadow: 0px 1px 3px 1px rgba(0, 0, 0, 0.15);\n",
              "      filter: drop-shadow(0px 1px 2px rgba(0, 0, 0, 0.3));\n",
              "      fill: #FFFFFF;\n",
              "    }\n",
              "  </style>\n",
              "\n",
              "      <script>\n",
              "        const buttonEl =\n",
              "          document.querySelector('#df-71a44799-cde6-4e5f-9705-a9d96362f965 button.colab-df-convert');\n",
              "        buttonEl.style.display =\n",
              "          google.colab.kernel.accessAllowed ? 'block' : 'none';\n",
              "\n",
              "        async function convertToInteractive(key) {\n",
              "          const element = document.querySelector('#df-71a44799-cde6-4e5f-9705-a9d96362f965');\n",
              "          const dataTable =\n",
              "            await google.colab.kernel.invokeFunction('convertToInteractive',\n",
              "                                                     [key], {});\n",
              "          if (!dataTable) return;\n",
              "\n",
              "          const docLinkHtml = 'Like what you see? Visit the ' +\n",
              "            '<a target=\"_blank\" href=https://colab.research.google.com/notebooks/data_table.ipynb>data table notebook</a>'\n",
              "            + ' to learn more about interactive tables.';\n",
              "          element.innerHTML = '';\n",
              "          dataTable['output_type'] = 'display_data';\n",
              "          await google.colab.output.renderOutput(dataTable, element);\n",
              "          const docLink = document.createElement('div');\n",
              "          docLink.innerHTML = docLinkHtml;\n",
              "          element.appendChild(docLink);\n",
              "        }\n",
              "      </script>\n",
              "    </div>\n",
              "  </div>\n",
              "  "
            ]
          },
          "metadata": {},
          "execution_count": 25
        }
      ]
    },
    {
      "cell_type": "markdown",
      "source": [
        "## Loading the trained model"
      ],
      "metadata": {
        "id": "YEm7k1tUQsqw"
      }
    },
    {
      "cell_type": "code",
      "source": [
        "trained_nlp = spacy.load(\"./cpu_model/model-best\")"
      ],
      "metadata": {
        "id": "TwDmPvU7-A3r"
      },
      "execution_count": 26,
      "outputs": []
    },
    {
      "cell_type": "markdown",
      "source": [
        "Probabilities over text categories are stored in the `.cats` attribute of a `Doc` object."
      ],
      "metadata": {
        "id": "RBIzUHTVcybs"
      }
    },
    {
      "cell_type": "code",
      "source": [
        "text = \"收到了！~ 樣式很好看！~ 面料不錯！！ 老公穿著看來好帥啊 哈哈 謝謝店家\"\n",
        "doc = trained_nlp(text)\n",
        "cat_proba = doc.cats\n",
        "cat_proba"
      ],
      "metadata": {
        "colab": {
          "base_uri": "https://localhost:8080/"
        },
        "id": "ftD3pjpvdGld",
        "outputId": "fcb03bd4-b0d1-4c0d-aa62-980f863029ce"
      },
      "execution_count": 36,
      "outputs": [
        {
          "output_type": "execute_result",
          "data": {
            "text/plain": [
              "{'平板': 2.3043754481477663e-05,\n",
              " '水果': 1.5334107956732623e-05,\n",
              " '洗髮水': 1.765126762620639e-05,\n",
              " '衣服': 0.999940037727356,\n",
              " '酒店': 3.992225629190216e-06}"
            ]
          },
          "metadata": {},
          "execution_count": 36
        }
      ]
    },
    {
      "cell_type": "code",
      "source": [
        "import random\n",
        "\n",
        "def show_test():\n",
        "    text, label = random.choice(test_tuple)\n",
        "    predicted_proba = trained_nlp(text).cats\n",
        "    predicted_cat = max(predicted_proba, key=predicted_proba.get)\n",
        "    print(f\"Text: {text}\")\n",
        "    print(f\"True category: {label}\")\n",
        "    print(f\"Category probabilities:\\n{predicted_proba}\")\n",
        "    print(f\"Predicted category: {predicted_cat}\")"
      ],
      "metadata": {
        "id": "VidF8lH4-PPE"
      },
      "execution_count": 27,
      "outputs": []
    },
    {
      "cell_type": "code",
      "source": [
        "show_test()"
      ],
      "metadata": {
        "colab": {
          "base_uri": "https://localhost:8080/"
        },
        "id": "IA8OypFN-rUM",
        "outputId": "cee00671-3751-4bf4-e646-a124b1c970b6"
      },
      "execution_count": 37,
      "outputs": [
        {
          "output_type": "stream",
          "name": "stdout",
          "text": [
            "Text: 價效比還是比較高的，比同是四星的杭州武林廣場那邊的一些四星好一些。去杭州出差常常住的酒店\n",
            "True category: 酒店\n",
            "Category probabilities:\n",
            "{'平板': 5.975995236440212e-07, '水果': 1.6611232922514318e-06, '洗髮水': 9.347874083687202e-07, '衣服': 1.3484321925716358e-06, '酒店': 0.9999954700469971}\n",
            "Predicted category: 酒店\n"
          ]
        }
      ]
    },
    {
      "cell_type": "markdown",
      "source": [
        "# Assignment"
      ],
      "metadata": {
        "id": "4y-0dlPgjF9Y"
      }
    },
    {
      "cell_type": "markdown",
      "source": [
        "Train a classification model on the same dataset by leveraging a pretrained transformer model."
      ],
      "metadata": {
        "id": "K8ss3JMhmOqa"
      }
    },
    {
      "cell_type": "markdown",
      "source": [
        "> **Make sure to use GPU**. Go to `Runtime` and then `Change runtime type`. Select `GPU` in the dropdown menu under `Hardware accelerator`.   "
      ],
      "metadata": {
        "id": "Q2pAu_hcRLjt"
      }
    },
    {
      "cell_type": "code",
      "source": [
        "!nvcc --version"
      ],
      "metadata": {
        "colab": {
          "base_uri": "https://localhost:8080/"
        },
        "id": "7puBazX-7nqb",
        "outputId": "007b437c-31e5-487e-97a8-fa79b224303b"
      },
      "execution_count": 29,
      "outputs": [
        {
          "output_type": "stream",
          "name": "stdout",
          "text": [
            "nvcc: NVIDIA (R) Cuda compiler driver\n",
            "Copyright (c) 2005-2020 NVIDIA Corporation\n",
            "Built on Mon_Oct_12_20:09:46_PDT_2020\n",
            "Cuda compilation tools, release 11.1, V11.1.105\n",
            "Build cuda_11.1.TC455_06.29190527_0\n"
          ]
        }
      ]
    },
    {
      "cell_type": "markdown",
      "source": [
        "- Install dependencies"
      ],
      "metadata": {
        "id": "uY903Ul8VAOs"
      }
    },
    {
      "cell_type": "code",
      "source": [
        "\"\"\"\n",
        "!pip install -U pip setuptools wheel\n",
        "!pip install -U spacy[cuda111,transformers]\n",
        "\"\"\""
      ],
      "metadata": {
        "id": "nx8DK4_E8DVI"
      },
      "execution_count": null,
      "outputs": []
    },
    {
      "cell_type": "markdown",
      "source": [
        "- Configure the training pipeline"
      ],
      "metadata": {
        "id": "Non1EeMiVDNG"
      }
    },
    {
      "cell_type": "code",
      "source": [
        "\"\"\"\n",
        "LANG = 'zh'\n",
        "OPTIMIZE = 'accuracy'\n",
        "CONFIG_PREFIX = 'gpu'\n",
        "!python -m spacy init config configs/{CONFIG_PREFIX}_config.cfg \\\n",
        "--lang {LANG} \\\n",
        "--pipeline transformer,textcat \\\n",
        "--optimize {OPTIMIZE} \\\n",
        "--gpu \\\n",
        "--force\n",
        "\"\"\""
      ],
      "metadata": {
        "id": "ErNBRKwYBXaf"
      },
      "execution_count": null,
      "outputs": []
    },
    {
      "cell_type": "markdown",
      "source": [
        "- Display the config file"
      ],
      "metadata": {
        "id": "51nsjMb1VLMe"
      }
    },
    {
      "cell_type": "code",
      "source": [
        "#!cat ./configs/gpu_config.cfg"
      ],
      "metadata": {
        "id": "nKt4FociBmeu"
      },
      "execution_count": 32,
      "outputs": []
    },
    {
      "cell_type": "markdown",
      "source": [
        "- Download the transformer model"
      ],
      "metadata": {
        "id": "yLDQf6RHVNni"
      }
    },
    {
      "cell_type": "code",
      "source": [
        "#!python -m spacy download zh_core_web_trf"
      ],
      "metadata": {
        "id": "o6suRkLs8F8r"
      },
      "execution_count": 33,
      "outputs": []
    },
    {
      "cell_type": "markdown",
      "source": [
        "- Start training"
      ],
      "metadata": {
        "id": "4Jxh2qJBVSMg"
      }
    },
    {
      "cell_type": "code",
      "source": [
        "\"\"\"\n",
        "CONFIG_PREFIX = 'gpu'\n",
        "CONFIG_FILE = CONFIG_PREFIX + '_config.cfg'\n",
        "TRAIN_FILE = './data/train'\n",
        "TEST_FILE = './data/test'\n",
        "MODEL_DIR = f'./{CONFIG_PREFIX}_model'\n",
        "!python -m spacy train configs/{CONFIG_FILE} \\\n",
        "--output {MODEL_DIR} \\\n",
        "--paths.train {TRAIN_FILE}.spacy \\\n",
        "--paths.dev {TEST_FILE}.spacy \\\n",
        "--gpu-id 0 \\\n",
        "--verbose\n",
        "\"\"\""
      ],
      "metadata": {
        "id": "oUk_Qklu8ThD"
      },
      "execution_count": null,
      "outputs": []
    },
    {
      "cell_type": "markdown",
      "source": [
        "You'll see a training process like this if you do everything correctly."
      ],
      "metadata": {
        "id": "OMR22L1tQz7q"
      }
    },
    {
      "cell_type": "code",
      "source": [
        "\"\"\"\n",
        "[2022-06-02 15:32:00,246] [DEBUG] Config overrides from CLI: ['paths.train', 'paths.dev']\n",
        "✔ Created output directory: gpu_model\n",
        "ℹ Saving to output directory: gpu_model\n",
        "ℹ Using GPU: 0\n",
        "\n",
        "=========================== Initializing pipeline ===========================\n",
        "[2022-06-02 15:32:10,768] [INFO] Set up nlp object from config\n",
        "[2022-06-02 15:32:10,777] [DEBUG] Loading corpus from path: data/test.spacy\n",
        "[2022-06-02 15:32:10,778] [DEBUG] Loading corpus from path: data/train.spacy\n",
        "[2022-06-02 15:32:10,778] [INFO] Pipeline: ['transformer', 'textcat']\n",
        "[2022-06-02 15:32:10,782] [INFO] Created vocabulary\n",
        "[2022-06-02 15:32:10,784] [INFO] Finished initializing nlp object\n",
        "Downloading: 100% 29.0/29.0 [00:00<00:00, 37.6kB/s]\n",
        "Downloading: 100% 624/624 [00:00<00:00, 693kB/s]\n",
        "Downloading: 100% 107k/107k [00:00<00:00, 584kB/s] \n",
        "Downloading: 100% 263k/263k [00:00<00:00, 1.08MB/s]\n",
        "Downloading: 100% 393M/393M [00:05<00:00, 69.4MB/s]\n",
        "Some weights of the model checkpoint at bert-base-chinese were not used when initializing BertModel: ['cls.predictions.transform.dense.weight', 'cls.predictions.decoder.weight', 'cls.predictions.bias', 'cls.seq_relationship.weight', 'cls.predictions.transform.dense.bias', 'cls.predictions.transform.LayerNorm.bias', 'cls.predictions.transform.LayerNorm.weight', 'cls.seq_relationship.bias']\n",
        "- This IS expected if you are initializing BertModel from the checkpoint of a model trained on another task or with another architecture (e.g. initializing a BertForSequenceClassification model from a BertForPreTraining model).\n",
        "- This IS NOT expected if you are initializing BertModel from the checkpoint of a model that you expect to be exactly identical (initializing a BertForSequenceClassification model from a BertForSequenceClassification model).\n",
        "[2022-06-02 15:33:03,926] [INFO] Initialized pipeline components: ['transformer', 'textcat']\n",
        "✔ Initialized pipeline\n",
        "\n",
        "============================= Training pipeline =============================\n",
        "[2022-06-02 15:33:03,936] [DEBUG] Loading corpus from path: data/test.spacy\n",
        "[2022-06-02 15:33:03,937] [DEBUG] Loading corpus from path: data/train.spacy\n",
        "ℹ Pipeline: ['transformer', 'textcat']\n",
        "ℹ Initial learn rate: 0.0\n",
        "E    #       LOSS TRANS...  LOSS TEXTCAT  CATS_SCORE  SCORE \n",
        "---  ------  -------------  ------------  ----------  ------\n",
        "  0       0           0.00          0.16        0.00    0.00\n",
        "  0     200           0.87         62.01       83.82    0.84\n",
        "  0     400          19.21         16.19       87.78    0.88\n",
        "  0     600          32.73         14.51       88.72    0.89\n",
        "  0     800          41.60         14.01       88.78    0.89\n",
        "  0    1000          53.54         14.53       89.44    0.89\n",
        "  0    1200          46.88         13.18       89.22    0.89\n",
        "\"\"\""
      ],
      "metadata": {
        "id": "Uh4t45BlVYK6"
      },
      "execution_count": null,
      "outputs": []
    }
  ],
  "metadata": {
    "kernelspec": {
      "display_name": "Python 3",
      "language": "python",
      "name": "python3"
    },
    "language_info": {
      "codemirror_mode": {
        "name": "ipython",
        "version": 3
      },
      "file_extension": ".py",
      "mimetype": "text/x-python",
      "name": "python",
      "nbconvert_exporter": "python",
      "pygments_lexer": "ipython3",
      "version": "3.7.1"
    },
    "colab": {
      "name": "W07-text-classification-with-spacy.ipynb",
      "provenance": [],
      "collapsed_sections": [],
      "toc_visible": true,
      "include_colab_link": true
    },
    "accelerator": "GPU",
    "widgets": {
      "application/vnd.jupyter.widget-state+json": {
        "30212ee0fe5841f1be4dafd01a80b228": {
          "model_module": "@jupyter-widgets/controls",
          "model_name": "HBoxModel",
          "model_module_version": "1.5.0",
          "state": {
            "_dom_classes": [],
            "_model_module": "@jupyter-widgets/controls",
            "_model_module_version": "1.5.0",
            "_model_name": "HBoxModel",
            "_view_count": null,
            "_view_module": "@jupyter-widgets/controls",
            "_view_module_version": "1.5.0",
            "_view_name": "HBoxView",
            "box_style": "",
            "children": [
              "IPY_MODEL_2237d6a19a2046c08ab1c9f233fe15ee",
              "IPY_MODEL_44ad591dc9f7477096627c0ced8a0d74",
              "IPY_MODEL_1c6d0491fd0f4028bb9f1835d1d83c67"
            ],
            "layout": "IPY_MODEL_c33c95bd98304f189547983c2b16b922"
          }
        },
        "2237d6a19a2046c08ab1c9f233fe15ee": {
          "model_module": "@jupyter-widgets/controls",
          "model_name": "HTMLModel",
          "model_module_version": "1.5.0",
          "state": {
            "_dom_classes": [],
            "_model_module": "@jupyter-widgets/controls",
            "_model_module_version": "1.5.0",
            "_model_name": "HTMLModel",
            "_view_count": null,
            "_view_module": "@jupyter-widgets/controls",
            "_view_module_version": "1.5.0",
            "_view_name": "HTMLView",
            "description": "",
            "description_tooltip": null,
            "layout": "IPY_MODEL_a4f6a267fceb4f9bb565344e81e84899",
            "placeholder": "​",
            "style": "IPY_MODEL_55249c7da33c425ab6c210245a1e55df",
            "value": "100%"
          }
        },
        "44ad591dc9f7477096627c0ced8a0d74": {
          "model_module": "@jupyter-widgets/controls",
          "model_name": "FloatProgressModel",
          "model_module_version": "1.5.0",
          "state": {
            "_dom_classes": [],
            "_model_module": "@jupyter-widgets/controls",
            "_model_module_version": "1.5.0",
            "_model_name": "FloatProgressModel",
            "_view_count": null,
            "_view_module": "@jupyter-widgets/controls",
            "_view_module_version": "1.5.0",
            "_view_name": "ProgressView",
            "bar_style": "success",
            "description": "",
            "description_tooltip": null,
            "layout": "IPY_MODEL_95fe611e75d44dc7a67d3de171331e78",
            "max": 35000,
            "min": 0,
            "orientation": "horizontal",
            "style": "IPY_MODEL_f52be569be924b5bbf4c109c22eba104",
            "value": 35000
          }
        },
        "1c6d0491fd0f4028bb9f1835d1d83c67": {
          "model_module": "@jupyter-widgets/controls",
          "model_name": "HTMLModel",
          "model_module_version": "1.5.0",
          "state": {
            "_dom_classes": [],
            "_model_module": "@jupyter-widgets/controls",
            "_model_module_version": "1.5.0",
            "_model_name": "HTMLModel",
            "_view_count": null,
            "_view_module": "@jupyter-widgets/controls",
            "_view_module_version": "1.5.0",
            "_view_name": "HTMLView",
            "description": "",
            "description_tooltip": null,
            "layout": "IPY_MODEL_5a4d5564d7ef43bead5ee9e0c11c085c",
            "placeholder": "​",
            "style": "IPY_MODEL_12636e389e3d4f2597cecabb9bcc218f",
            "value": " 35000/35000 [00:03&lt;00:00, 10212.42it/s]"
          }
        },
        "c33c95bd98304f189547983c2b16b922": {
          "model_module": "@jupyter-widgets/base",
          "model_name": "LayoutModel",
          "model_module_version": "1.2.0",
          "state": {
            "_model_module": "@jupyter-widgets/base",
            "_model_module_version": "1.2.0",
            "_model_name": "LayoutModel",
            "_view_count": null,
            "_view_module": "@jupyter-widgets/base",
            "_view_module_version": "1.2.0",
            "_view_name": "LayoutView",
            "align_content": null,
            "align_items": null,
            "align_self": null,
            "border": null,
            "bottom": null,
            "display": null,
            "flex": null,
            "flex_flow": null,
            "grid_area": null,
            "grid_auto_columns": null,
            "grid_auto_flow": null,
            "grid_auto_rows": null,
            "grid_column": null,
            "grid_gap": null,
            "grid_row": null,
            "grid_template_areas": null,
            "grid_template_columns": null,
            "grid_template_rows": null,
            "height": null,
            "justify_content": null,
            "justify_items": null,
            "left": null,
            "margin": null,
            "max_height": null,
            "max_width": null,
            "min_height": null,
            "min_width": null,
            "object_fit": null,
            "object_position": null,
            "order": null,
            "overflow": null,
            "overflow_x": null,
            "overflow_y": null,
            "padding": null,
            "right": null,
            "top": null,
            "visibility": null,
            "width": null
          }
        },
        "a4f6a267fceb4f9bb565344e81e84899": {
          "model_module": "@jupyter-widgets/base",
          "model_name": "LayoutModel",
          "model_module_version": "1.2.0",
          "state": {
            "_model_module": "@jupyter-widgets/base",
            "_model_module_version": "1.2.0",
            "_model_name": "LayoutModel",
            "_view_count": null,
            "_view_module": "@jupyter-widgets/base",
            "_view_module_version": "1.2.0",
            "_view_name": "LayoutView",
            "align_content": null,
            "align_items": null,
            "align_self": null,
            "border": null,
            "bottom": null,
            "display": null,
            "flex": null,
            "flex_flow": null,
            "grid_area": null,
            "grid_auto_columns": null,
            "grid_auto_flow": null,
            "grid_auto_rows": null,
            "grid_column": null,
            "grid_gap": null,
            "grid_row": null,
            "grid_template_areas": null,
            "grid_template_columns": null,
            "grid_template_rows": null,
            "height": null,
            "justify_content": null,
            "justify_items": null,
            "left": null,
            "margin": null,
            "max_height": null,
            "max_width": null,
            "min_height": null,
            "min_width": null,
            "object_fit": null,
            "object_position": null,
            "order": null,
            "overflow": null,
            "overflow_x": null,
            "overflow_y": null,
            "padding": null,
            "right": null,
            "top": null,
            "visibility": null,
            "width": null
          }
        },
        "55249c7da33c425ab6c210245a1e55df": {
          "model_module": "@jupyter-widgets/controls",
          "model_name": "DescriptionStyleModel",
          "model_module_version": "1.5.0",
          "state": {
            "_model_module": "@jupyter-widgets/controls",
            "_model_module_version": "1.5.0",
            "_model_name": "DescriptionStyleModel",
            "_view_count": null,
            "_view_module": "@jupyter-widgets/base",
            "_view_module_version": "1.2.0",
            "_view_name": "StyleView",
            "description_width": ""
          }
        },
        "95fe611e75d44dc7a67d3de171331e78": {
          "model_module": "@jupyter-widgets/base",
          "model_name": "LayoutModel",
          "model_module_version": "1.2.0",
          "state": {
            "_model_module": "@jupyter-widgets/base",
            "_model_module_version": "1.2.0",
            "_model_name": "LayoutModel",
            "_view_count": null,
            "_view_module": "@jupyter-widgets/base",
            "_view_module_version": "1.2.0",
            "_view_name": "LayoutView",
            "align_content": null,
            "align_items": null,
            "align_self": null,
            "border": null,
            "bottom": null,
            "display": null,
            "flex": null,
            "flex_flow": null,
            "grid_area": null,
            "grid_auto_columns": null,
            "grid_auto_flow": null,
            "grid_auto_rows": null,
            "grid_column": null,
            "grid_gap": null,
            "grid_row": null,
            "grid_template_areas": null,
            "grid_template_columns": null,
            "grid_template_rows": null,
            "height": null,
            "justify_content": null,
            "justify_items": null,
            "left": null,
            "margin": null,
            "max_height": null,
            "max_width": null,
            "min_height": null,
            "min_width": null,
            "object_fit": null,
            "object_position": null,
            "order": null,
            "overflow": null,
            "overflow_x": null,
            "overflow_y": null,
            "padding": null,
            "right": null,
            "top": null,
            "visibility": null,
            "width": null
          }
        },
        "f52be569be924b5bbf4c109c22eba104": {
          "model_module": "@jupyter-widgets/controls",
          "model_name": "ProgressStyleModel",
          "model_module_version": "1.5.0",
          "state": {
            "_model_module": "@jupyter-widgets/controls",
            "_model_module_version": "1.5.0",
            "_model_name": "ProgressStyleModel",
            "_view_count": null,
            "_view_module": "@jupyter-widgets/base",
            "_view_module_version": "1.2.0",
            "_view_name": "StyleView",
            "bar_color": null,
            "description_width": ""
          }
        },
        "5a4d5564d7ef43bead5ee9e0c11c085c": {
          "model_module": "@jupyter-widgets/base",
          "model_name": "LayoutModel",
          "model_module_version": "1.2.0",
          "state": {
            "_model_module": "@jupyter-widgets/base",
            "_model_module_version": "1.2.0",
            "_model_name": "LayoutModel",
            "_view_count": null,
            "_view_module": "@jupyter-widgets/base",
            "_view_module_version": "1.2.0",
            "_view_name": "LayoutView",
            "align_content": null,
            "align_items": null,
            "align_self": null,
            "border": null,
            "bottom": null,
            "display": null,
            "flex": null,
            "flex_flow": null,
            "grid_area": null,
            "grid_auto_columns": null,
            "grid_auto_flow": null,
            "grid_auto_rows": null,
            "grid_column": null,
            "grid_gap": null,
            "grid_row": null,
            "grid_template_areas": null,
            "grid_template_columns": null,
            "grid_template_rows": null,
            "height": null,
            "justify_content": null,
            "justify_items": null,
            "left": null,
            "margin": null,
            "max_height": null,
            "max_width": null,
            "min_height": null,
            "min_width": null,
            "object_fit": null,
            "object_position": null,
            "order": null,
            "overflow": null,
            "overflow_x": null,
            "overflow_y": null,
            "padding": null,
            "right": null,
            "top": null,
            "visibility": null,
            "width": null
          }
        },
        "12636e389e3d4f2597cecabb9bcc218f": {
          "model_module": "@jupyter-widgets/controls",
          "model_name": "DescriptionStyleModel",
          "model_module_version": "1.5.0",
          "state": {
            "_model_module": "@jupyter-widgets/controls",
            "_model_module_version": "1.5.0",
            "_model_name": "DescriptionStyleModel",
            "_view_count": null,
            "_view_module": "@jupyter-widgets/base",
            "_view_module_version": "1.2.0",
            "_view_name": "StyleView",
            "description_width": ""
          }
        },
        "dd09fe16bd7343a28067a8008e8614c1": {
          "model_module": "@jupyter-widgets/controls",
          "model_name": "HBoxModel",
          "model_module_version": "1.5.0",
          "state": {
            "_dom_classes": [],
            "_model_module": "@jupyter-widgets/controls",
            "_model_module_version": "1.5.0",
            "_model_name": "HBoxModel",
            "_view_count": null,
            "_view_module": "@jupyter-widgets/controls",
            "_view_module_version": "1.5.0",
            "_view_name": "HBoxView",
            "box_style": "",
            "children": [
              "IPY_MODEL_dc55b4640942495f80aae4e0c2a87cb4",
              "IPY_MODEL_b106e3164a5e416999ee5bac122eb4e0",
              "IPY_MODEL_e51029239ebf42a8b28937b25a9e0628"
            ],
            "layout": "IPY_MODEL_f9d7a69789754975b666adc1d204af33"
          }
        },
        "dc55b4640942495f80aae4e0c2a87cb4": {
          "model_module": "@jupyter-widgets/controls",
          "model_name": "HTMLModel",
          "model_module_version": "1.5.0",
          "state": {
            "_dom_classes": [],
            "_model_module": "@jupyter-widgets/controls",
            "_model_module_version": "1.5.0",
            "_model_name": "HTMLModel",
            "_view_count": null,
            "_view_module": "@jupyter-widgets/controls",
            "_view_module_version": "1.5.0",
            "_view_name": "HTMLView",
            "description": "",
            "description_tooltip": null,
            "layout": "IPY_MODEL_6366f0a658824865b8999eeff6c5c40b",
            "placeholder": "​",
            "style": "IPY_MODEL_1d9376456b6843079fd67e1631d3cdcb",
            "value": "100%"
          }
        },
        "b106e3164a5e416999ee5bac122eb4e0": {
          "model_module": "@jupyter-widgets/controls",
          "model_name": "FloatProgressModel",
          "model_module_version": "1.5.0",
          "state": {
            "_dom_classes": [],
            "_model_module": "@jupyter-widgets/controls",
            "_model_module_version": "1.5.0",
            "_model_name": "FloatProgressModel",
            "_view_count": null,
            "_view_module": "@jupyter-widgets/controls",
            "_view_module_version": "1.5.0",
            "_view_name": "ProgressView",
            "bar_style": "success",
            "description": "",
            "description_tooltip": null,
            "layout": "IPY_MODEL_685d906b110547b5bd72ce6b18f180ab",
            "max": 15000,
            "min": 0,
            "orientation": "horizontal",
            "style": "IPY_MODEL_2adaa436446043829b011768d254be7c",
            "value": 15000
          }
        },
        "e51029239ebf42a8b28937b25a9e0628": {
          "model_module": "@jupyter-widgets/controls",
          "model_name": "HTMLModel",
          "model_module_version": "1.5.0",
          "state": {
            "_dom_classes": [],
            "_model_module": "@jupyter-widgets/controls",
            "_model_module_version": "1.5.0",
            "_model_name": "HTMLModel",
            "_view_count": null,
            "_view_module": "@jupyter-widgets/controls",
            "_view_module_version": "1.5.0",
            "_view_name": "HTMLView",
            "description": "",
            "description_tooltip": null,
            "layout": "IPY_MODEL_2ff8df17b1334dbeb2719642a30fc6b9",
            "placeholder": "​",
            "style": "IPY_MODEL_edd693d7f715445aaa0c2b02642966ae",
            "value": " 15000/15000 [00:01&lt;00:00, 12544.04it/s]"
          }
        },
        "f9d7a69789754975b666adc1d204af33": {
          "model_module": "@jupyter-widgets/base",
          "model_name": "LayoutModel",
          "model_module_version": "1.2.0",
          "state": {
            "_model_module": "@jupyter-widgets/base",
            "_model_module_version": "1.2.0",
            "_model_name": "LayoutModel",
            "_view_count": null,
            "_view_module": "@jupyter-widgets/base",
            "_view_module_version": "1.2.0",
            "_view_name": "LayoutView",
            "align_content": null,
            "align_items": null,
            "align_self": null,
            "border": null,
            "bottom": null,
            "display": null,
            "flex": null,
            "flex_flow": null,
            "grid_area": null,
            "grid_auto_columns": null,
            "grid_auto_flow": null,
            "grid_auto_rows": null,
            "grid_column": null,
            "grid_gap": null,
            "grid_row": null,
            "grid_template_areas": null,
            "grid_template_columns": null,
            "grid_template_rows": null,
            "height": null,
            "justify_content": null,
            "justify_items": null,
            "left": null,
            "margin": null,
            "max_height": null,
            "max_width": null,
            "min_height": null,
            "min_width": null,
            "object_fit": null,
            "object_position": null,
            "order": null,
            "overflow": null,
            "overflow_x": null,
            "overflow_y": null,
            "padding": null,
            "right": null,
            "top": null,
            "visibility": null,
            "width": null
          }
        },
        "6366f0a658824865b8999eeff6c5c40b": {
          "model_module": "@jupyter-widgets/base",
          "model_name": "LayoutModel",
          "model_module_version": "1.2.0",
          "state": {
            "_model_module": "@jupyter-widgets/base",
            "_model_module_version": "1.2.0",
            "_model_name": "LayoutModel",
            "_view_count": null,
            "_view_module": "@jupyter-widgets/base",
            "_view_module_version": "1.2.0",
            "_view_name": "LayoutView",
            "align_content": null,
            "align_items": null,
            "align_self": null,
            "border": null,
            "bottom": null,
            "display": null,
            "flex": null,
            "flex_flow": null,
            "grid_area": null,
            "grid_auto_columns": null,
            "grid_auto_flow": null,
            "grid_auto_rows": null,
            "grid_column": null,
            "grid_gap": null,
            "grid_row": null,
            "grid_template_areas": null,
            "grid_template_columns": null,
            "grid_template_rows": null,
            "height": null,
            "justify_content": null,
            "justify_items": null,
            "left": null,
            "margin": null,
            "max_height": null,
            "max_width": null,
            "min_height": null,
            "min_width": null,
            "object_fit": null,
            "object_position": null,
            "order": null,
            "overflow": null,
            "overflow_x": null,
            "overflow_y": null,
            "padding": null,
            "right": null,
            "top": null,
            "visibility": null,
            "width": null
          }
        },
        "1d9376456b6843079fd67e1631d3cdcb": {
          "model_module": "@jupyter-widgets/controls",
          "model_name": "DescriptionStyleModel",
          "model_module_version": "1.5.0",
          "state": {
            "_model_module": "@jupyter-widgets/controls",
            "_model_module_version": "1.5.0",
            "_model_name": "DescriptionStyleModel",
            "_view_count": null,
            "_view_module": "@jupyter-widgets/base",
            "_view_module_version": "1.2.0",
            "_view_name": "StyleView",
            "description_width": ""
          }
        },
        "685d906b110547b5bd72ce6b18f180ab": {
          "model_module": "@jupyter-widgets/base",
          "model_name": "LayoutModel",
          "model_module_version": "1.2.0",
          "state": {
            "_model_module": "@jupyter-widgets/base",
            "_model_module_version": "1.2.0",
            "_model_name": "LayoutModel",
            "_view_count": null,
            "_view_module": "@jupyter-widgets/base",
            "_view_module_version": "1.2.0",
            "_view_name": "LayoutView",
            "align_content": null,
            "align_items": null,
            "align_self": null,
            "border": null,
            "bottom": null,
            "display": null,
            "flex": null,
            "flex_flow": null,
            "grid_area": null,
            "grid_auto_columns": null,
            "grid_auto_flow": null,
            "grid_auto_rows": null,
            "grid_column": null,
            "grid_gap": null,
            "grid_row": null,
            "grid_template_areas": null,
            "grid_template_columns": null,
            "grid_template_rows": null,
            "height": null,
            "justify_content": null,
            "justify_items": null,
            "left": null,
            "margin": null,
            "max_height": null,
            "max_width": null,
            "min_height": null,
            "min_width": null,
            "object_fit": null,
            "object_position": null,
            "order": null,
            "overflow": null,
            "overflow_x": null,
            "overflow_y": null,
            "padding": null,
            "right": null,
            "top": null,
            "visibility": null,
            "width": null
          }
        },
        "2adaa436446043829b011768d254be7c": {
          "model_module": "@jupyter-widgets/controls",
          "model_name": "ProgressStyleModel",
          "model_module_version": "1.5.0",
          "state": {
            "_model_module": "@jupyter-widgets/controls",
            "_model_module_version": "1.5.0",
            "_model_name": "ProgressStyleModel",
            "_view_count": null,
            "_view_module": "@jupyter-widgets/base",
            "_view_module_version": "1.2.0",
            "_view_name": "StyleView",
            "bar_color": null,
            "description_width": ""
          }
        },
        "2ff8df17b1334dbeb2719642a30fc6b9": {
          "model_module": "@jupyter-widgets/base",
          "model_name": "LayoutModel",
          "model_module_version": "1.2.0",
          "state": {
            "_model_module": "@jupyter-widgets/base",
            "_model_module_version": "1.2.0",
            "_model_name": "LayoutModel",
            "_view_count": null,
            "_view_module": "@jupyter-widgets/base",
            "_view_module_version": "1.2.0",
            "_view_name": "LayoutView",
            "align_content": null,
            "align_items": null,
            "align_self": null,
            "border": null,
            "bottom": null,
            "display": null,
            "flex": null,
            "flex_flow": null,
            "grid_area": null,
            "grid_auto_columns": null,
            "grid_auto_flow": null,
            "grid_auto_rows": null,
            "grid_column": null,
            "grid_gap": null,
            "grid_row": null,
            "grid_template_areas": null,
            "grid_template_columns": null,
            "grid_template_rows": null,
            "height": null,
            "justify_content": null,
            "justify_items": null,
            "left": null,
            "margin": null,
            "max_height": null,
            "max_width": null,
            "min_height": null,
            "min_width": null,
            "object_fit": null,
            "object_position": null,
            "order": null,
            "overflow": null,
            "overflow_x": null,
            "overflow_y": null,
            "padding": null,
            "right": null,
            "top": null,
            "visibility": null,
            "width": null
          }
        },
        "edd693d7f715445aaa0c2b02642966ae": {
          "model_module": "@jupyter-widgets/controls",
          "model_name": "DescriptionStyleModel",
          "model_module_version": "1.5.0",
          "state": {
            "_model_module": "@jupyter-widgets/controls",
            "_model_module_version": "1.5.0",
            "_model_name": "DescriptionStyleModel",
            "_view_count": null,
            "_view_module": "@jupyter-widgets/base",
            "_view_module_version": "1.2.0",
            "_view_name": "StyleView",
            "description_width": ""
          }
        }
      }
    }
  },
  "nbformat": 4,
  "nbformat_minor": 0
}