{
  "cells": [
    {
      "cell_type": "markdown",
      "metadata": {
        "id": "view-in-github",
        "colab_type": "text"
      },
      "source": [
        "<a href=\"https://colab.research.google.com/github/howard-haowen/NLP-demos/blob/main/NSYSU/W05-transformer-and-document-similarity.ipynb\" target=\"_parent\"><img src=\"https://colab.research.google.com/assets/colab-badge.svg\" alt=\"Open In Colab\"/></a>"
      ]
    },
    {
      "cell_type": "markdown",
      "source": [
        "This notebook is written by [Haowen Jiang](https://howard-haowen.rohan.tw/), and is meant for the 2022 [NLP Workshop at NSYSU](https://howard-haowen.rohan.tw/NLP-demos/nsysu_workshop)."
      ],
      "metadata": {
        "id": "jz3utsAD5qgE"
      }
    },
    {
      "cell_type": "code",
      "source": [
        "from datetime import date\n",
        "\n",
        "today = date.today()\n",
        "print(\"Last updated:\", today)"
      ],
      "metadata": {
        "colab": {
          "base_uri": "https://localhost:8080/"
        },
        "id": "wZmRSK--5xyf",
        "outputId": "5b52d2b6-4031-40d3-825f-9cc0b26b0178"
      },
      "execution_count": 1,
      "outputs": [
        {
          "output_type": "stream",
          "name": "stdout",
          "text": [
            "Last updated: 2022-05-12\n"
          ]
        }
      ]
    },
    {
      "cell_type": "markdown",
      "metadata": {
        "id": "sIzi4Gd73Qh9"
      },
      "source": [
        "# Transformer Embeddings "
      ]
    },
    {
      "cell_type": "markdown",
      "source": [
        "![](https://i.pinimg.com/originals/52/cd/a2/52cda28bf15c418805d76a6c309ba6d3.jpg)"
      ],
      "metadata": {
        "id": "Bye6QAs974Xt"
      }
    },
    {
      "cell_type": "markdown",
      "metadata": {
        "id": "Vfp9buZ93QiA"
      },
      "source": [
        "> A transformer is a deep learning model that adopts the mechanism of self-attention ([Wikipedia](https://en.wikipedia.org/wiki/Transformer_(machine_learning_model))). \n",
        "\n",
        "- Self-attention\n",
        "\n",
        "![](https://jalammar.github.io/images/t/transformer_self-attention_visualization_2.png)"
      ]
    },
    {
      "cell_type": "markdown",
      "source": [
        "Many state-of-art NLP models are built on top of a transformer, such as\n",
        "- USE (Universal Sentence Encoder)\n",
        "- [BERT](https://en.wikipedia.org/wiki/BERT_(language_model)) (Bidirectional Encoder Representations from Transformers)"
      ],
      "metadata": {
        "id": "I3vbTMzoUkOJ"
      }
    },
    {
      "cell_type": "markdown",
      "source": [
        "These pretrained models are optimized for text similarity tasks.\n",
        "\n",
        "![](https://miro.medium.com/max/1400/1*hPxezDTuv308MxlX03eYtg.png)"
      ],
      "metadata": {
        "id": "iDeFibWQA0I8"
      }
    },
    {
      "cell_type": "markdown",
      "source": [
        "BERT has its own family, and there's even a name for the study of BERT, namely, Bertology.\n",
        "\n",
        "![](https://miro.medium.com/max/896/1*IdLJIaaandrB_aR_2ZCnlg.jpeg)"
      ],
      "metadata": {
        "id": "iNiarKxKA9c6"
      }
    },
    {
      "cell_type": "markdown",
      "source": [
        "In this tutorial, we'll embed documents using USE (no pun intended 😼!) and do text searches based on similarity and a clustering model."
      ],
      "metadata": {
        "id": "YhJVA3L0Bm4x"
      }
    },
    {
      "cell_type": "markdown",
      "metadata": {
        "id": "FQ6sRP1v3QiB"
      },
      "source": [
        "## Dataset"
      ]
    },
    {
      "cell_type": "markdown",
      "source": [
        "For the purpose of this tutorial, we'll work with a tiny corpus of online posts crawled from Dcard. If you want to get more updated data, feel free to follow the sample code in [this post](https://howard-haowen.rohan.tw/blog.ai/cloudscraper/schedule/sqlite3/logging/2021/09/12/Scraping-Dcard-with-cloudscraper.html) of mine."
      ],
      "metadata": {
        "id": "jrlfLziUDIjl"
      }
    },
    {
      "cell_type": "code",
      "source": [
        "!wget -O Dcard.db https://github.com/howard-haowen/NLP-demos/raw/main/Dcard_20220304.db"
      ],
      "metadata": {
        "colab": {
          "base_uri": "https://localhost:8080/"
        },
        "id": "4xXPYsLWDca8",
        "outputId": "25c7b147-cacb-43f0-f5fd-b69d24a55fe8"
      },
      "execution_count": 2,
      "outputs": [
        {
          "output_type": "stream",
          "name": "stdout",
          "text": [
            "--2022-05-12 03:16:01--  https://github.com/howard-haowen/NLP-demos/raw/main/Dcard_20220304.db\n",
            "Resolving github.com (github.com)... 20.205.243.166\n",
            "Connecting to github.com (github.com)|20.205.243.166|:443... connected.\n",
            "HTTP request sent, awaiting response... 302 Found\n",
            "Location: https://raw.githubusercontent.com/howard-haowen/NLP-demos/main/Dcard_20220304.db [following]\n",
            "--2022-05-12 03:16:02--  https://raw.githubusercontent.com/howard-haowen/NLP-demos/main/Dcard_20220304.db\n",
            "Resolving raw.githubusercontent.com (raw.githubusercontent.com)... 185.199.108.133, 185.199.109.133, 185.199.110.133, ...\n",
            "Connecting to raw.githubusercontent.com (raw.githubusercontent.com)|185.199.108.133|:443... connected.\n",
            "HTTP request sent, awaiting response... 200 OK\n",
            "Length: 151552 (148K) [application/octet-stream]\n",
            "Saving to: ‘Dcard.db’\n",
            "\n",
            "Dcard.db            100%[===================>] 148.00K  --.-KB/s    in 0.006s  \n",
            "\n",
            "2022-05-12 03:16:02 (26.2 MB/s) - ‘Dcard.db’ saved [151552/151552]\n",
            "\n"
          ]
        }
      ]
    },
    {
      "cell_type": "code",
      "source": [
        "import sqlite3\n",
        "import pandas as pd"
      ],
      "metadata": {
        "id": "OVPHEEDo5UOC"
      },
      "execution_count": 3,
      "outputs": []
    },
    {
      "cell_type": "code",
      "source": [
        "conn = sqlite3.connect(\"Dcard.db\")  \n",
        "df = pd.read_sql(\"SELECT * FROM Posts;\", conn)\n",
        "df"
      ],
      "metadata": {
        "colab": {
          "base_uri": "https://localhost:8080/",
          "height": 1000
        },
        "id": "7l1vMWL75U_a",
        "outputId": "318a4b8e-dea8-477f-d049-7561dab38638"
      },
      "execution_count": 4,
      "outputs": [
        {
          "output_type": "execute_result",
          "data": {
            "text/plain": [
              "                    createdAt                       title  \\\n",
              "0    2022-03-04T07:54:19.886Z                 專題需要數據🥺🥺幫填～   \n",
              "1    2022-03-04T07:42:59.512Z                    #詢問 找衣服🥲   \n",
              "2    2022-03-04T07:24:25.147Z  #黑特 網購50% FIFTY PERCENT請三思   \n",
              "3    2022-03-04T06:39:13.017Z                         尋衣服   \n",
              "4    2022-03-04T06:28:06.137Z                      #詢問 想問   \n",
              "..                        ...                         ...   \n",
              "355  2022-03-03T03:41:10.972Z                       開了新頻道   \n",
              "356  2022-03-03T02:26:58.821Z         估計某個YTUBER又有陰謀論可以寫了   \n",
              "357  2022-03-02T21:25:51.080Z             #問 阿神和放火發生過什麼嗎？   \n",
              "358  2022-03-02T20:33:47.713Z          #文長 我眼中的Rice&Shine   \n",
              "359  2022-03-02T17:52:26.967Z              一個隨性系YouTube頻道   \n",
              "\n",
              "                                               excerpt categories  \\\n",
              "0                                      希望各位能花個20秒幫我填一下              \n",
              "1              想找這套衣服🥲，但發現不知道該用什麼關鍵字找，（圖是草屯囝仔的校園演唱會截圖）         詢問   \n",
              "2    因為文會有點長，先說結論是，50%是目前網購過的平台退貨最麻煩的一家，甚至我認為根本是刻意刁...              \n",
              "3                           來源：覺得呱吉這襯衫好好看~~，或有人知道有類似的嗎              \n",
              "4    各位，因為這個證件夾臺灣買不到，是美國outlet 的限量版貨，所以在以下的這間蝦皮上買，但...         詢問   \n",
              "..                                                 ...        ...   \n",
              "355  昨天上了第一支影片，之前有發過沒有線條的動畫影片，新的頻道改成有線條的，感覺大家好像比較喜歡...              \n",
              "356     今天全台灣大停電，應該過幾天就會有個戴面具的出來說，一定是中共……，我從上個影片就預測了……              \n",
              "357  想問有沒有人知道阿神和放火是認識還是有結過什麼仇之類的嗎？首先我個人基本沒關注過放火，但是最...              \n",
              "358  無意引戰，單純分享我的觀察與個人想法～這幾天看了Dcard幾篇關於Rice& Shine的貼...              \n",
              "359  哈哈哈哈，沒錯我就是親友團來介紹一個我覺得很北七的頻道，現在觀看真的低的可憐，也沒事啦，就多...              \n",
              "\n",
              "                                              topics  forum_en  forum_zh  \n",
              "0                                                      dressup        穿搭  \n",
              "1                           衣服 | 鞋子 | 衣物 | 男生穿搭 | 尋找   dressup        穿搭  \n",
              "2                           黑特 | 網購 | 三思 | 退貨 | 售後服務   dressup        穿搭  \n",
              "3                              衣服 | 尋找 | 日常穿搭 | 男生穿搭   dressup        穿搭  \n",
              "4                               穿搭 | 閒聊版 | 閒聊排解 | 假貨   dressup        穿搭  \n",
              "..                                               ...       ...       ...  \n",
              "355                     Youtuber | 頻道 | 有趣 | 日常 | 搞笑  youtuber  YouTuber  \n",
              "356                                   陰謀論 | Youtuber  youtuber  YouTuber  \n",
              "357                               Youtuber | 放火 | 阿神  youtuber  YouTuber  \n",
              "358  Riceandshine | Youtuber | 生活 | Vlog | youtuber板  youtuber  YouTuber  \n",
              "359                               Youtuber | 美食 | 有趣  youtuber  YouTuber  \n",
              "\n",
              "[360 rows x 7 columns]"
            ],
            "text/html": [
              "\n",
              "  <div id=\"df-2aa22cca-284e-4213-b074-aab16084d47b\">\n",
              "    <div class=\"colab-df-container\">\n",
              "      <div>\n",
              "<style scoped>\n",
              "    .dataframe tbody tr th:only-of-type {\n",
              "        vertical-align: middle;\n",
              "    }\n",
              "\n",
              "    .dataframe tbody tr th {\n",
              "        vertical-align: top;\n",
              "    }\n",
              "\n",
              "    .dataframe thead th {\n",
              "        text-align: right;\n",
              "    }\n",
              "</style>\n",
              "<table border=\"1\" class=\"dataframe\">\n",
              "  <thead>\n",
              "    <tr style=\"text-align: right;\">\n",
              "      <th></th>\n",
              "      <th>createdAt</th>\n",
              "      <th>title</th>\n",
              "      <th>excerpt</th>\n",
              "      <th>categories</th>\n",
              "      <th>topics</th>\n",
              "      <th>forum_en</th>\n",
              "      <th>forum_zh</th>\n",
              "    </tr>\n",
              "  </thead>\n",
              "  <tbody>\n",
              "    <tr>\n",
              "      <th>0</th>\n",
              "      <td>2022-03-04T07:54:19.886Z</td>\n",
              "      <td>專題需要數據🥺🥺幫填～</td>\n",
              "      <td>希望各位能花個20秒幫我填一下</td>\n",
              "      <td></td>\n",
              "      <td></td>\n",
              "      <td>dressup</td>\n",
              "      <td>穿搭</td>\n",
              "    </tr>\n",
              "    <tr>\n",
              "      <th>1</th>\n",
              "      <td>2022-03-04T07:42:59.512Z</td>\n",
              "      <td>#詢問 找衣服🥲</td>\n",
              "      <td>想找這套衣服🥲，但發現不知道該用什麼關鍵字找，（圖是草屯囝仔的校園演唱會截圖）</td>\n",
              "      <td>詢問</td>\n",
              "      <td>衣服 | 鞋子 | 衣物 | 男生穿搭 | 尋找</td>\n",
              "      <td>dressup</td>\n",
              "      <td>穿搭</td>\n",
              "    </tr>\n",
              "    <tr>\n",
              "      <th>2</th>\n",
              "      <td>2022-03-04T07:24:25.147Z</td>\n",
              "      <td>#黑特 網購50% FIFTY PERCENT請三思</td>\n",
              "      <td>因為文會有點長，先說結論是，50%是目前網購過的平台退貨最麻煩的一家，甚至我認為根本是刻意刁...</td>\n",
              "      <td></td>\n",
              "      <td>黑特 | 網購 | 三思 | 退貨 | 售後服務</td>\n",
              "      <td>dressup</td>\n",
              "      <td>穿搭</td>\n",
              "    </tr>\n",
              "    <tr>\n",
              "      <th>3</th>\n",
              "      <td>2022-03-04T06:39:13.017Z</td>\n",
              "      <td>尋衣服</td>\n",
              "      <td>來源：覺得呱吉這襯衫好好看~~，或有人知道有類似的嗎</td>\n",
              "      <td></td>\n",
              "      <td>衣服 | 尋找 | 日常穿搭 | 男生穿搭</td>\n",
              "      <td>dressup</td>\n",
              "      <td>穿搭</td>\n",
              "    </tr>\n",
              "    <tr>\n",
              "      <th>4</th>\n",
              "      <td>2022-03-04T06:28:06.137Z</td>\n",
              "      <td>#詢問 想問</td>\n",
              "      <td>各位，因為這個證件夾臺灣買不到，是美國outlet 的限量版貨，所以在以下的這間蝦皮上買，但...</td>\n",
              "      <td>詢問</td>\n",
              "      <td>穿搭 | 閒聊版 | 閒聊排解 | 假貨</td>\n",
              "      <td>dressup</td>\n",
              "      <td>穿搭</td>\n",
              "    </tr>\n",
              "    <tr>\n",
              "      <th>...</th>\n",
              "      <td>...</td>\n",
              "      <td>...</td>\n",
              "      <td>...</td>\n",
              "      <td>...</td>\n",
              "      <td>...</td>\n",
              "      <td>...</td>\n",
              "      <td>...</td>\n",
              "    </tr>\n",
              "    <tr>\n",
              "      <th>355</th>\n",
              "      <td>2022-03-03T03:41:10.972Z</td>\n",
              "      <td>開了新頻道</td>\n",
              "      <td>昨天上了第一支影片，之前有發過沒有線條的動畫影片，新的頻道改成有線條的，感覺大家好像比較喜歡...</td>\n",
              "      <td></td>\n",
              "      <td>Youtuber | 頻道 | 有趣 | 日常 | 搞笑</td>\n",
              "      <td>youtuber</td>\n",
              "      <td>YouTuber</td>\n",
              "    </tr>\n",
              "    <tr>\n",
              "      <th>356</th>\n",
              "      <td>2022-03-03T02:26:58.821Z</td>\n",
              "      <td>估計某個YTUBER又有陰謀論可以寫了</td>\n",
              "      <td>今天全台灣大停電，應該過幾天就會有個戴面具的出來說，一定是中共……，我從上個影片就預測了……</td>\n",
              "      <td></td>\n",
              "      <td>陰謀論 | Youtuber</td>\n",
              "      <td>youtuber</td>\n",
              "      <td>YouTuber</td>\n",
              "    </tr>\n",
              "    <tr>\n",
              "      <th>357</th>\n",
              "      <td>2022-03-02T21:25:51.080Z</td>\n",
              "      <td>#問 阿神和放火發生過什麼嗎？</td>\n",
              "      <td>想問有沒有人知道阿神和放火是認識還是有結過什麼仇之類的嗎？首先我個人基本沒關注過放火，但是最...</td>\n",
              "      <td></td>\n",
              "      <td>Youtuber | 放火 | 阿神</td>\n",
              "      <td>youtuber</td>\n",
              "      <td>YouTuber</td>\n",
              "    </tr>\n",
              "    <tr>\n",
              "      <th>358</th>\n",
              "      <td>2022-03-02T20:33:47.713Z</td>\n",
              "      <td>#文長 我眼中的Rice&amp;Shine</td>\n",
              "      <td>無意引戰，單純分享我的觀察與個人想法～這幾天看了Dcard幾篇關於Rice&amp; Shine的貼...</td>\n",
              "      <td></td>\n",
              "      <td>Riceandshine | Youtuber | 生活 | Vlog | youtuber板</td>\n",
              "      <td>youtuber</td>\n",
              "      <td>YouTuber</td>\n",
              "    </tr>\n",
              "    <tr>\n",
              "      <th>359</th>\n",
              "      <td>2022-03-02T17:52:26.967Z</td>\n",
              "      <td>一個隨性系YouTube頻道</td>\n",
              "      <td>哈哈哈哈，沒錯我就是親友團來介紹一個我覺得很北七的頻道，現在觀看真的低的可憐，也沒事啦，就多...</td>\n",
              "      <td></td>\n",
              "      <td>Youtuber | 美食 | 有趣</td>\n",
              "      <td>youtuber</td>\n",
              "      <td>YouTuber</td>\n",
              "    </tr>\n",
              "  </tbody>\n",
              "</table>\n",
              "<p>360 rows × 7 columns</p>\n",
              "</div>\n",
              "      <button class=\"colab-df-convert\" onclick=\"convertToInteractive('df-2aa22cca-284e-4213-b074-aab16084d47b')\"\n",
              "              title=\"Convert this dataframe to an interactive table.\"\n",
              "              style=\"display:none;\">\n",
              "        \n",
              "  <svg xmlns=\"http://www.w3.org/2000/svg\" height=\"24px\"viewBox=\"0 0 24 24\"\n",
              "       width=\"24px\">\n",
              "    <path d=\"M0 0h24v24H0V0z\" fill=\"none\"/>\n",
              "    <path d=\"M18.56 5.44l.94 2.06.94-2.06 2.06-.94-2.06-.94-.94-2.06-.94 2.06-2.06.94zm-11 1L8.5 8.5l.94-2.06 2.06-.94-2.06-.94L8.5 2.5l-.94 2.06-2.06.94zm10 10l.94 2.06.94-2.06 2.06-.94-2.06-.94-.94-2.06-.94 2.06-2.06.94z\"/><path d=\"M17.41 7.96l-1.37-1.37c-.4-.4-.92-.59-1.43-.59-.52 0-1.04.2-1.43.59L10.3 9.45l-7.72 7.72c-.78.78-.78 2.05 0 2.83L4 21.41c.39.39.9.59 1.41.59.51 0 1.02-.2 1.41-.59l7.78-7.78 2.81-2.81c.8-.78.8-2.07 0-2.86zM5.41 20L4 18.59l7.72-7.72 1.47 1.35L5.41 20z\"/>\n",
              "  </svg>\n",
              "      </button>\n",
              "      \n",
              "  <style>\n",
              "    .colab-df-container {\n",
              "      display:flex;\n",
              "      flex-wrap:wrap;\n",
              "      gap: 12px;\n",
              "    }\n",
              "\n",
              "    .colab-df-convert {\n",
              "      background-color: #E8F0FE;\n",
              "      border: none;\n",
              "      border-radius: 50%;\n",
              "      cursor: pointer;\n",
              "      display: none;\n",
              "      fill: #1967D2;\n",
              "      height: 32px;\n",
              "      padding: 0 0 0 0;\n",
              "      width: 32px;\n",
              "    }\n",
              "\n",
              "    .colab-df-convert:hover {\n",
              "      background-color: #E2EBFA;\n",
              "      box-shadow: 0px 1px 2px rgba(60, 64, 67, 0.3), 0px 1px 3px 1px rgba(60, 64, 67, 0.15);\n",
              "      fill: #174EA6;\n",
              "    }\n",
              "\n",
              "    [theme=dark] .colab-df-convert {\n",
              "      background-color: #3B4455;\n",
              "      fill: #D2E3FC;\n",
              "    }\n",
              "\n",
              "    [theme=dark] .colab-df-convert:hover {\n",
              "      background-color: #434B5C;\n",
              "      box-shadow: 0px 1px 3px 1px rgba(0, 0, 0, 0.15);\n",
              "      filter: drop-shadow(0px 1px 2px rgba(0, 0, 0, 0.3));\n",
              "      fill: #FFFFFF;\n",
              "    }\n",
              "  </style>\n",
              "\n",
              "      <script>\n",
              "        const buttonEl =\n",
              "          document.querySelector('#df-2aa22cca-284e-4213-b074-aab16084d47b button.colab-df-convert');\n",
              "        buttonEl.style.display =\n",
              "          google.colab.kernel.accessAllowed ? 'block' : 'none';\n",
              "\n",
              "        async function convertToInteractive(key) {\n",
              "          const element = document.querySelector('#df-2aa22cca-284e-4213-b074-aab16084d47b');\n",
              "          const dataTable =\n",
              "            await google.colab.kernel.invokeFunction('convertToInteractive',\n",
              "                                                     [key], {});\n",
              "          if (!dataTable) return;\n",
              "\n",
              "          const docLinkHtml = 'Like what you see? Visit the ' +\n",
              "            '<a target=\"_blank\" href=https://colab.research.google.com/notebooks/data_table.ipynb>data table notebook</a>'\n",
              "            + ' to learn more about interactive tables.';\n",
              "          element.innerHTML = '';\n",
              "          dataTable['output_type'] = 'display_data';\n",
              "          await google.colab.output.renderOutput(dataTable, element);\n",
              "          const docLink = document.createElement('div');\n",
              "          docLink.innerHTML = docLinkHtml;\n",
              "          element.appendChild(docLink);\n",
              "        }\n",
              "      </script>\n",
              "    </div>\n",
              "  </div>\n",
              "  "
            ]
          },
          "metadata": {},
          "execution_count": 4
        }
      ]
    },
    {
      "cell_type": "markdown",
      "metadata": {
        "id": "lU6Q8SqI3QiF"
      },
      "source": [
        "## Universal Sentence Encoder"
      ]
    },
    {
      "cell_type": "markdown",
      "metadata": {
        "id": "zyPxBrqd3QiG"
      },
      "source": [
        "Google's [Universal Sentence Encoder](https://arxiv.org/abs/1803.11175) transforms every sentence to a 512-dimensional embedding, and is available from the Tensorflow Hub. There's an English version and a multilingual version, which **supports 16 languages**!. We'll be using the multilingual version to embed Chinese.\n",
        "\n",
        "![](https://amitness.com/images/use-overall-pipeline.png)"
      ]
    },
    {
      "cell_type": "code",
      "source": [
        "!pip3 install tensorflow_text>=2.0.0rc0"
      ],
      "metadata": {
        "id": "bIdfS_V7FdC4"
      },
      "execution_count": 5,
      "outputs": []
    },
    {
      "cell_type": "code",
      "execution_count": 6,
      "metadata": {
        "id": "vl4fCcIX3QiG"
      },
      "outputs": [],
      "source": [
        "import tensorflow_hub as hub\n",
        "import numpy as np\n",
        "import tensorflow_text\n",
        "\n",
        "embed_model = hub.load(\"https://tfhub.dev/google/universal-sentence-encoder-multilingual/3\")"
      ]
    },
    {
      "cell_type": "markdown",
      "source": [
        "Here's some sample code taken from Tensorflow Hub."
      ],
      "metadata": {
        "id": "xyXQYWgUEQze"
      }
    },
    {
      "cell_type": "code",
      "source": [
        "# Some texts of different lengths.\n",
        "english_sentences = [\"dog\", \"Puppies are nice.\", \"I enjoy taking long walks along the beach with my dog.\"]\n",
        "chinese_sentences = [\"狗\", \"小狗很好\", \"我喜歡和我的狗一起沿著海灘散步\"]\n",
        "japanese_sentences = [\"犬\", \"子犬はいいです\", \"私は犬と一緒にビーチを散歩するのが好きです\"]\n",
        "en_result = embed_model(english_sentences)\n",
        "zh_result = embed_model(chinese_sentences)\n",
        "ja_result = embed_model(japanese_sentences)\n",
        "\n",
        "similarity_matrix_zh = np.inner(en_result, zh_result)\n",
        "similarity_matrix_ja = np.inner(en_result, ja_result)\n",
        "print(f\"En-Zh Sim: {similarity_matrix_zh}\")\n",
        "print(f\"En-Ja Sim: {similarity_matrix_ja}\")"
      ],
      "metadata": {
        "colab": {
          "base_uri": "https://localhost:8080/"
        },
        "id": "OHR5MVVrEd8y",
        "outputId": "aeabbe34-381f-4407-ccc2-a3888367ae16"
      },
      "execution_count": 7,
      "outputs": [
        {
          "output_type": "stream",
          "name": "stdout",
          "text": [
            "En-Zh Sim: [[0.92495644 0.5396135  0.2973976 ]\n",
            " [0.44881964 0.66703236 0.33681804]\n",
            " [0.25609976 0.30248648 0.56330156]]\n",
            "En-Ja Sim: [[0.9171356  0.51152694 0.3158718 ]\n",
            " [0.44313586 0.6586347  0.3092131 ]\n",
            " [0.26650536 0.25377443 0.7672991 ]]\n"
          ]
        }
      ]
    },
    {
      "cell_type": "code",
      "source": [
        "docid = 5\n",
        "texts = df['title'] + ' ' + df['excerpt']\n",
        "texts[docid]"
      ],
      "metadata": {
        "colab": {
          "base_uri": "https://localhost:8080/",
          "height": 53
        },
        "id": "37bFaBff6FX9",
        "outputId": "52dd3a4f-2aaa-4db9-a435-34731abca21e"
      },
      "execution_count": 8,
      "outputs": [
        {
          "output_type": "execute_result",
          "data": {
            "text/plain": [
              "'#請益 請問這雙怎麼入手 蝦皮上有一個賣3500，我下單後他跟我說斷貨了，叫我取消訂單，想請問有什麼方式能入手這雙鞋'"
            ],
            "application/vnd.google.colaboratory.intrinsic+json": {
              "type": "string"
            }
          },
          "metadata": {},
          "execution_count": 8
        }
      ]
    },
    {
      "cell_type": "code",
      "source": [
        "embeddings = embed_model(texts)\n",
        "embeddings.shape"
      ],
      "metadata": {
        "colab": {
          "base_uri": "https://localhost:8080/"
        },
        "id": "GOaSiUFUIup-",
        "outputId": "a766c86a-3aa2-4184-841f-a21647b54f5d"
      },
      "execution_count": 9,
      "outputs": [
        {
          "output_type": "execute_result",
          "data": {
            "text/plain": [
              "TensorShape([360, 512])"
            ]
          },
          "metadata": {},
          "execution_count": 9
        }
      ]
    },
    {
      "cell_type": "markdown",
      "metadata": {
        "id": "oMkm-Hkj3QiI"
      },
      "source": [
        "## Similarity"
      ]
    },
    {
      "cell_type": "markdown",
      "source": [
        "It's cubersome to do pairwise calculations of text similarity, so we'll use the `faiss` (standing for Facebook AI Similarity Search) library to create an embedding index, which makes it much faster to search similar vectors. Another similar library is `annoy`."
      ],
      "metadata": {
        "id": "yzRiHYWWFwrO"
      }
    },
    {
      "cell_type": "code",
      "source": [
        "!pip install faiss-cpu"
      ],
      "metadata": {
        "colab": {
          "base_uri": "https://localhost:8080/"
        },
        "id": "K1d7S17_OuN9",
        "outputId": "82172458-0fc7-4bdd-ead5-15b5dcb2fb45"
      },
      "execution_count": 10,
      "outputs": [
        {
          "output_type": "stream",
          "name": "stdout",
          "text": [
            "Collecting faiss-cpu\n",
            "  Downloading faiss_cpu-1.7.2-cp37-cp37m-manylinux_2_17_x86_64.manylinux2014_x86_64.whl (8.6 MB)\n",
            "\u001b[K     |████████████████████████████████| 8.6 MB 15.6 MB/s \n",
            "\u001b[?25hInstalling collected packages: faiss-cpu\n",
            "Successfully installed faiss-cpu-1.7.2\n"
          ]
        }
      ]
    },
    {
      "cell_type": "code",
      "source": [
        "import faiss"
      ],
      "metadata": {
        "id": "a6u3GFy3OvxG"
      },
      "execution_count": 11,
      "outputs": []
    },
    {
      "cell_type": "markdown",
      "source": [
        "To create the index, we'll first convert the inputs to `np.array`."
      ],
      "metadata": {
        "id": "ef3gv58xGpoB"
      }
    },
    {
      "cell_type": "code",
      "source": [
        "type(embeddings)"
      ],
      "metadata": {
        "colab": {
          "base_uri": "https://localhost:8080/"
        },
        "id": "rfgKf7QiP5ST",
        "outputId": "12e1bb07-bbb9-4ffa-dfe8-f8e03a3b219b"
      },
      "execution_count": 12,
      "outputs": [
        {
          "output_type": "execute_result",
          "data": {
            "text/plain": [
              "tensorflow.python.framework.ops.EagerTensor"
            ]
          },
          "metadata": {},
          "execution_count": 12
        }
      ]
    },
    {
      "cell_type": "code",
      "source": [
        "embed_arrays = np.array(embeddings)\n",
        "type(embed_arrays)"
      ],
      "metadata": {
        "colab": {
          "base_uri": "https://localhost:8080/"
        },
        "id": "ktmpENuwTJof",
        "outputId": "22d018df-1f00-453b-8992-92997a5b767c"
      },
      "execution_count": 13,
      "outputs": [
        {
          "output_type": "execute_result",
          "data": {
            "text/plain": [
              "numpy.ndarray"
            ]
          },
          "metadata": {},
          "execution_count": 13
        }
      ]
    },
    {
      "cell_type": "code",
      "source": [
        "index_arrays = df.index.values\n",
        "type(index_arrays)"
      ],
      "metadata": {
        "colab": {
          "base_uri": "https://localhost:8080/"
        },
        "id": "pJ74V1pyTaPE",
        "outputId": "179dcfe5-0e94-40b8-8c8b-2ec88e77b545"
      },
      "execution_count": 14,
      "outputs": [
        {
          "output_type": "execute_result",
          "data": {
            "text/plain": [
              "numpy.ndarray"
            ]
          },
          "metadata": {},
          "execution_count": 14
        }
      ]
    },
    {
      "cell_type": "markdown",
      "source": [
        "The following snippet is taken from [this post](https://towardsdatascience.com/how-to-build-a-semantic-search-engine-with-transformers-and-faiss-dcbea307a0e8)."
      ],
      "metadata": {
        "id": "NvUPgEmL5Mpe"
      }
    },
    {
      "cell_type": "code",
      "source": [
        "def create_index_embeddings(doc_vectors: np.array, \n",
        "                            index_series: np.array):\n",
        "    # Step 1: Change data type\n",
        "    embeddings = np.array([embedding for embedding in doc_vectors]).astype(\"float32\")\n",
        "\n",
        "    # Step 2: Instantiate the index using a type of distance, which is L2 here\n",
        "    index = faiss.IndexFlatL2(embeddings.shape[1]) \n",
        "\n",
        "    # Step 3: Pass the index to IndexIDMap\n",
        "    index = faiss.IndexIDMap(index)\n",
        "\n",
        "    # Step 4: Add vectors and their IDs\n",
        "    index.add_with_ids(embeddings, index_series)\n",
        "\n",
        "    return index, embeddings"
      ],
      "metadata": {
        "id": "3vnWcfABO0Xe"
      },
      "execution_count": 15,
      "outputs": []
    },
    {
      "cell_type": "code",
      "source": [
        "index, faiss_embeddings = create_index_embeddings(embed_arrays, index_arrays)"
      ],
      "metadata": {
        "id": "VOAtTlr3O_Wi"
      },
      "execution_count": 16,
      "outputs": []
    },
    {
      "cell_type": "code",
      "source": [
        "docid = 5\n",
        "test_text = df.loc[docid, 'excerpt']\n",
        "test_text"
      ],
      "metadata": {
        "colab": {
          "base_uri": "https://localhost:8080/",
          "height": 35
        },
        "id": "lvhw4DR4UKTT",
        "outputId": "6a711072-4586-4979-cda1-d7c09f09cc23"
      },
      "execution_count": 17,
      "outputs": [
        {
          "output_type": "execute_result",
          "data": {
            "text/plain": [
              "'蝦皮上有一個賣3500，我下單後他跟我說斷貨了，叫我取消訂單，想請問有什麼方式能入手這雙鞋'"
            ],
            "application/vnd.google.colaboratory.intrinsic+json": {
              "type": "string"
            }
          },
          "metadata": {},
          "execution_count": 17
        }
      ]
    },
    {
      "cell_type": "markdown",
      "source": [
        "Let's retrieve the 10 nearest neighbours of the document with the ID 5.\n"
      ],
      "metadata": {
        "id": "S-i9h1BYWUba"
      }
    },
    {
      "cell_type": "code",
      "source": [
        "docid = 5\n",
        "D, I = index.search(np.array([faiss_embeddings[docid]]), k=10)\n",
        "print(f'L2 distance: {D.flatten().tolist()}\\n\\nDoc IDs: {I.flatten().tolist()}')"
      ],
      "metadata": {
        "colab": {
          "base_uri": "https://localhost:8080/"
        },
        "id": "xRVwCyB7Tym0",
        "outputId": "00cf0975-4b26-4452-ed05-00a6be642384"
      },
      "execution_count": 18,
      "outputs": [
        {
          "output_type": "stream",
          "name": "stdout",
          "text": [
            "L2 distance: [0.0, 0.8845899701118469, 0.9940855503082275, 0.9995702505111694, 1.00590181350708, 1.0115234851837158, 1.1354154348373413, 1.1602306365966797, 1.184503436088562, 1.1936644315719604]\n",
            "\n",
            "Doc IDs: [5, 270, 23, 4, 294, 16, 13, 25, 299, 1]\n"
          ]
        }
      ]
    },
    {
      "cell_type": "code",
      "source": [
        "D"
      ],
      "metadata": {
        "colab": {
          "base_uri": "https://localhost:8080/"
        },
        "id": "v4zk-FhrWEwe",
        "outputId": "8e2baaf8-b90c-4c05-ae8f-d61e322fbec3"
      },
      "execution_count": 19,
      "outputs": [
        {
          "output_type": "execute_result",
          "data": {
            "text/plain": [
              "array([[0.        , 0.88458997, 0.99408555, 0.99957025, 1.0059018 ,\n",
              "        1.0115235 , 1.1354154 , 1.1602306 , 1.1845034 , 1.1936644 ]],\n",
              "      dtype=float32)"
            ]
          },
          "metadata": {},
          "execution_count": 19
        }
      ]
    },
    {
      "cell_type": "code",
      "source": [
        "D.flatten()"
      ],
      "metadata": {
        "colab": {
          "base_uri": "https://localhost:8080/"
        },
        "id": "VxcBU72DWKQq",
        "outputId": "d981faf5-175e-4262-d117-a889b5e1e4e2"
      },
      "execution_count": 20,
      "outputs": [
        {
          "output_type": "execute_result",
          "data": {
            "text/plain": [
              "array([0.        , 0.88458997, 0.99408555, 0.99957025, 1.0059018 ,\n",
              "       1.0115235 , 1.1354154 , 1.1602306 , 1.1845034 , 1.1936644 ],\n",
              "      dtype=float32)"
            ]
          },
          "metadata": {},
          "execution_count": 20
        }
      ]
    },
    {
      "cell_type": "markdown",
      "source": [
        "Now let's check out the results using document IDs.\n"
      ],
      "metadata": {
        "id": "vrXu6vwyWj_W"
      }
    },
    {
      "cell_type": "code",
      "source": [
        "cols_to_show = ['title', 'excerpt', 'forum_zh']\n",
        "df.loc[I.flatten(), cols_to_show]"
      ],
      "metadata": {
        "colab": {
          "base_uri": "https://localhost:8080/",
          "height": 563
        },
        "id": "rauH6o0eV_79",
        "outputId": "bde645ad-b464-4820-f379-81ac1d16509c"
      },
      "execution_count": 21,
      "outputs": [
        {
          "output_type": "execute_result",
          "data": {
            "text/plain": [
              "                     title                                            excerpt  \\\n",
              "5             #請益 請問這雙怎麼入手      蝦皮上有一個賣3500，我下單後他跟我說斷貨了，叫我取消訂單，想請問有什麼方式能入手這雙鞋   \n",
              "270            Diana 樂福鞋求收  如題，因為之前活動關係買了兩雙兩個尺寸，以為把不合的退掉就好了好聰明，結果沒想到有活動滿20...   \n",
              "23        #詢問 想問哪裡還買得到這件外套  這件mouggan+Mercci22聯名的直紋五分西裝外套找了官網都沒有m號了好難過，不知道...   \n",
              "4                   #詢問 想問  各位，因為這個證件夾臺灣買不到，是美國outlet 的限量版貨，所以在以下的這間蝦皮上買，但...   \n",
              "294       #問 Tory Burch 包款  請問有人知道這款包的名字嗎？因為不是熱門款有點難找，有人賣4500 猶豫要不要下手 也不知道...   \n",
              "16   #詢問 此款tommy牛仔外套還買得到嗎？  各位朋友半夜好。找了整整兩天，在網路上都難以找到有這件外套「正品」的購買資訊。有丟了幾家代購...   \n",
              "13          有人知道哪裡有賣這件衣服嗎？  在小客廳看到這件衣服被燒到，本來想說今天下單 結果剛剛發現已經被下架了，想詢問一下大家知道哪...   \n",
              "25            #詢問 #詢問 賣場真假                    最近一直看有沒有不錯的賣場，有人知道這家是不是正的嗎，謝謝🥺🥺   \n",
              "299                   腳歪歪的  其實好久了，每次穿短的都覺得好醜，但坐著很正常。但真的太熱了🥲，這有什麼方法拯救嗎？！，ps...   \n",
              "1                 #詢問 找衣服🥲            想找這套衣服🥲，但發現不知道該用什麼關鍵字找，（圖是草屯囝仔的校園演唱會截圖）   \n",
              "\n",
              "    forum_zh  \n",
              "5         穿搭  \n",
              "270       女孩  \n",
              "23        穿搭  \n",
              "4         穿搭  \n",
              "294       女孩  \n",
              "16        穿搭  \n",
              "13        穿搭  \n",
              "25        穿搭  \n",
              "299       女孩  \n",
              "1         穿搭  "
            ],
            "text/html": [
              "\n",
              "  <div id=\"df-dec668ca-0bd7-444f-8b5c-c6d8c826fc51\">\n",
              "    <div class=\"colab-df-container\">\n",
              "      <div>\n",
              "<style scoped>\n",
              "    .dataframe tbody tr th:only-of-type {\n",
              "        vertical-align: middle;\n",
              "    }\n",
              "\n",
              "    .dataframe tbody tr th {\n",
              "        vertical-align: top;\n",
              "    }\n",
              "\n",
              "    .dataframe thead th {\n",
              "        text-align: right;\n",
              "    }\n",
              "</style>\n",
              "<table border=\"1\" class=\"dataframe\">\n",
              "  <thead>\n",
              "    <tr style=\"text-align: right;\">\n",
              "      <th></th>\n",
              "      <th>title</th>\n",
              "      <th>excerpt</th>\n",
              "      <th>forum_zh</th>\n",
              "    </tr>\n",
              "  </thead>\n",
              "  <tbody>\n",
              "    <tr>\n",
              "      <th>5</th>\n",
              "      <td>#請益 請問這雙怎麼入手</td>\n",
              "      <td>蝦皮上有一個賣3500，我下單後他跟我說斷貨了，叫我取消訂單，想請問有什麼方式能入手這雙鞋</td>\n",
              "      <td>穿搭</td>\n",
              "    </tr>\n",
              "    <tr>\n",
              "      <th>270</th>\n",
              "      <td>Diana 樂福鞋求收</td>\n",
              "      <td>如題，因為之前活動關係買了兩雙兩個尺寸，以為把不合的退掉就好了好聰明，結果沒想到有活動滿20...</td>\n",
              "      <td>女孩</td>\n",
              "    </tr>\n",
              "    <tr>\n",
              "      <th>23</th>\n",
              "      <td>#詢問 想問哪裡還買得到這件外套</td>\n",
              "      <td>這件mouggan+Mercci22聯名的直紋五分西裝外套找了官網都沒有m號了好難過，不知道...</td>\n",
              "      <td>穿搭</td>\n",
              "    </tr>\n",
              "    <tr>\n",
              "      <th>4</th>\n",
              "      <td>#詢問 想問</td>\n",
              "      <td>各位，因為這個證件夾臺灣買不到，是美國outlet 的限量版貨，所以在以下的這間蝦皮上買，但...</td>\n",
              "      <td>穿搭</td>\n",
              "    </tr>\n",
              "    <tr>\n",
              "      <th>294</th>\n",
              "      <td>#問 Tory Burch 包款</td>\n",
              "      <td>請問有人知道這款包的名字嗎？因為不是熱門款有點難找，有人賣4500 猶豫要不要下手 也不知道...</td>\n",
              "      <td>女孩</td>\n",
              "    </tr>\n",
              "    <tr>\n",
              "      <th>16</th>\n",
              "      <td>#詢問 此款tommy牛仔外套還買得到嗎？</td>\n",
              "      <td>各位朋友半夜好。找了整整兩天，在網路上都難以找到有這件外套「正品」的購買資訊。有丟了幾家代購...</td>\n",
              "      <td>穿搭</td>\n",
              "    </tr>\n",
              "    <tr>\n",
              "      <th>13</th>\n",
              "      <td>有人知道哪裡有賣這件衣服嗎？</td>\n",
              "      <td>在小客廳看到這件衣服被燒到，本來想說今天下單 結果剛剛發現已經被下架了，想詢問一下大家知道哪...</td>\n",
              "      <td>穿搭</td>\n",
              "    </tr>\n",
              "    <tr>\n",
              "      <th>25</th>\n",
              "      <td>#詢問 #詢問 賣場真假</td>\n",
              "      <td>最近一直看有沒有不錯的賣場，有人知道這家是不是正的嗎，謝謝🥺🥺</td>\n",
              "      <td>穿搭</td>\n",
              "    </tr>\n",
              "    <tr>\n",
              "      <th>299</th>\n",
              "      <td>腳歪歪的</td>\n",
              "      <td>其實好久了，每次穿短的都覺得好醜，但坐著很正常。但真的太熱了🥲，這有什麼方法拯救嗎？！，ps...</td>\n",
              "      <td>女孩</td>\n",
              "    </tr>\n",
              "    <tr>\n",
              "      <th>1</th>\n",
              "      <td>#詢問 找衣服🥲</td>\n",
              "      <td>想找這套衣服🥲，但發現不知道該用什麼關鍵字找，（圖是草屯囝仔的校園演唱會截圖）</td>\n",
              "      <td>穿搭</td>\n",
              "    </tr>\n",
              "  </tbody>\n",
              "</table>\n",
              "</div>\n",
              "      <button class=\"colab-df-convert\" onclick=\"convertToInteractive('df-dec668ca-0bd7-444f-8b5c-c6d8c826fc51')\"\n",
              "              title=\"Convert this dataframe to an interactive table.\"\n",
              "              style=\"display:none;\">\n",
              "        \n",
              "  <svg xmlns=\"http://www.w3.org/2000/svg\" height=\"24px\"viewBox=\"0 0 24 24\"\n",
              "       width=\"24px\">\n",
              "    <path d=\"M0 0h24v24H0V0z\" fill=\"none\"/>\n",
              "    <path d=\"M18.56 5.44l.94 2.06.94-2.06 2.06-.94-2.06-.94-.94-2.06-.94 2.06-2.06.94zm-11 1L8.5 8.5l.94-2.06 2.06-.94-2.06-.94L8.5 2.5l-.94 2.06-2.06.94zm10 10l.94 2.06.94-2.06 2.06-.94-2.06-.94-.94-2.06-.94 2.06-2.06.94z\"/><path d=\"M17.41 7.96l-1.37-1.37c-.4-.4-.92-.59-1.43-.59-.52 0-1.04.2-1.43.59L10.3 9.45l-7.72 7.72c-.78.78-.78 2.05 0 2.83L4 21.41c.39.39.9.59 1.41.59.51 0 1.02-.2 1.41-.59l7.78-7.78 2.81-2.81c.8-.78.8-2.07 0-2.86zM5.41 20L4 18.59l7.72-7.72 1.47 1.35L5.41 20z\"/>\n",
              "  </svg>\n",
              "      </button>\n",
              "      \n",
              "  <style>\n",
              "    .colab-df-container {\n",
              "      display:flex;\n",
              "      flex-wrap:wrap;\n",
              "      gap: 12px;\n",
              "    }\n",
              "\n",
              "    .colab-df-convert {\n",
              "      background-color: #E8F0FE;\n",
              "      border: none;\n",
              "      border-radius: 50%;\n",
              "      cursor: pointer;\n",
              "      display: none;\n",
              "      fill: #1967D2;\n",
              "      height: 32px;\n",
              "      padding: 0 0 0 0;\n",
              "      width: 32px;\n",
              "    }\n",
              "\n",
              "    .colab-df-convert:hover {\n",
              "      background-color: #E2EBFA;\n",
              "      box-shadow: 0px 1px 2px rgba(60, 64, 67, 0.3), 0px 1px 3px 1px rgba(60, 64, 67, 0.15);\n",
              "      fill: #174EA6;\n",
              "    }\n",
              "\n",
              "    [theme=dark] .colab-df-convert {\n",
              "      background-color: #3B4455;\n",
              "      fill: #D2E3FC;\n",
              "    }\n",
              "\n",
              "    [theme=dark] .colab-df-convert:hover {\n",
              "      background-color: #434B5C;\n",
              "      box-shadow: 0px 1px 3px 1px rgba(0, 0, 0, 0.15);\n",
              "      filter: drop-shadow(0px 1px 2px rgba(0, 0, 0, 0.3));\n",
              "      fill: #FFFFFF;\n",
              "    }\n",
              "  </style>\n",
              "\n",
              "      <script>\n",
              "        const buttonEl =\n",
              "          document.querySelector('#df-dec668ca-0bd7-444f-8b5c-c6d8c826fc51 button.colab-df-convert');\n",
              "        buttonEl.style.display =\n",
              "          google.colab.kernel.accessAllowed ? 'block' : 'none';\n",
              "\n",
              "        async function convertToInteractive(key) {\n",
              "          const element = document.querySelector('#df-dec668ca-0bd7-444f-8b5c-c6d8c826fc51');\n",
              "          const dataTable =\n",
              "            await google.colab.kernel.invokeFunction('convertToInteractive',\n",
              "                                                     [key], {});\n",
              "          if (!dataTable) return;\n",
              "\n",
              "          const docLinkHtml = 'Like what you see? Visit the ' +\n",
              "            '<a target=\"_blank\" href=https://colab.research.google.com/notebooks/data_table.ipynb>data table notebook</a>'\n",
              "            + ' to learn more about interactive tables.';\n",
              "          element.innerHTML = '';\n",
              "          dataTable['output_type'] = 'display_data';\n",
              "          await google.colab.output.renderOutput(dataTable, element);\n",
              "          const docLink = document.createElement('div');\n",
              "          docLink.innerHTML = docLinkHtml;\n",
              "          element.appendChild(docLink);\n",
              "        }\n",
              "      </script>\n",
              "    </div>\n",
              "  </div>\n",
              "  "
            ]
          },
          "metadata": {},
          "execution_count": 21
        }
      ]
    },
    {
      "cell_type": "markdown",
      "metadata": {
        "id": "pBjIurEo3QiK"
      },
      "source": [
        "## Clustering"
      ]
    },
    {
      "cell_type": "markdown",
      "metadata": {
        "id": "nyLJ_y073QiK"
      },
      "source": [
        "Last time, we built a clustering model using Scikit-learn's K-means. This time, let's try\n",
        "[Scikit-learn's AgglomerativeClustering](https://scikit-learn.org/stable/modules/generated/sklearn.cluster.AgglomerativeClustering.html) instead.\n",
        "\n"
      ]
    },
    {
      "cell_type": "markdown",
      "source": [
        "![](https://miro.medium.com/max/1039/0*afzanWwrDq9vd2g-)"
      ],
      "metadata": {
        "id": "qejeKu6UKEmS"
      }
    },
    {
      "cell_type": "markdown",
      "source": [
        "Here're some parameters for this class taken straight from the official documentation:\n",
        "\n",
        "- `n_clusters`: int or None, default=2\n",
        "The number of clusters to find. \n",
        "\n",
        "- `affinity`: str or callable, default=’euclidean’\n",
        "Metric used to compute the linkage. Can be “euclidean”, “l1”, “l2”, “manhattan”, “cosine”, or “precomputed”. \n",
        "\n",
        "- `linkage`: {‘ward’, ‘complete’, ‘average’, ‘single’}, default=’ward’\n",
        "Which linkage criterion to use. The linkage criterion determines which distance to use between sets of observation. The algorithm will merge the pairs of cluster that minimize this criterion.\n",
        "\n",
        "    - `ward` minimizes the variance of the clusters being merged.\n",
        "    - `average` uses the average of the distances of each observation of the two sets.\n",
        "    - `complete` or `maximum` linkage uses the maximum distances between all observations of the two sets.\n",
        "    - `single` uses the minimum of the distances between all observations of the two sets."
      ],
      "metadata": {
        "id": "gcTIdeN-KDNp"
      }
    },
    {
      "cell_type": "code",
      "execution_count": 22,
      "metadata": {
        "id": "FDOuBDUC3QiK"
      },
      "outputs": [],
      "source": [
        "from sklearn.cluster import AgglomerativeClustering\n",
        "\n",
        "clusterer = AgglomerativeClustering(n_clusters=100, \n",
        "                                    affinity=\"euclidean\", \n",
        "                                    linkage=\"ward\")\n",
        "clusters = clusterer.fit_predict(embeddings)"
      ]
    },
    {
      "cell_type": "markdown",
      "source": [
        "Let's pick some random clusters to inspect the results."
      ],
      "metadata": {
        "id": "PYAzmwthK7Ei"
      }
    },
    {
      "cell_type": "markdown",
      "source": [
        "> Using the parenthesis to connect multiple lines is a trick I learned from the book [*Effective Pandas*](https://www.amazon.com/Effective-Pandas-Patterns-Manipulation-Treading/dp/B09MYXXSFM). It's really worth reading if you are into data wrangling. "
      ],
      "metadata": {
        "id": "IV698edYLWF_"
      }
    },
    {
      "cell_type": "code",
      "execution_count": 23,
      "metadata": {
        "id": "rzPnc2yl3QiK",
        "outputId": "b7ca9426-5db4-4759-aa4b-6f5f05fd171c",
        "colab": {
          "base_uri": "https://localhost:8080/",
          "height": 709
        }
      },
      "outputs": [
        {
          "output_type": "execute_result",
          "data": {
            "text/plain": [
              "                         title  \\\n",
              "213     開合約之前，你知道什麼是杠杆率和保證金率嗎？   \n",
              "214                Richart外幣帳戶   \n",
              "218         股票區塊鏈金融交易理財就是：抄心態！   \n",
              "219             3.4比特幣行情分析參考建議   \n",
              "222             #分享 3/4（五）盤前分享   \n",
              "225       為什麼不能用槓桿型及反向型ETF賺的更多   \n",
              "230  【投資理財】甚麼是雙幣投資 | 超高報酬背後的風險   \n",
              "231               #請益 海運大漲該停利嘛   \n",
              "238                在幣圈炒幣屬於投機嗎？   \n",
              "330            《庫洛魔法使》（迷你）服裝製作   \n",
              "338                廚師系YouTuber   \n",
              "345                   環島影片又更新了   \n",
              "355                      開了新頻道   \n",
              "\n",
              "                                               excerpt  forum_zh  clusters  \n",
              "213  近期市場情緒低迷，暴漲暴跌時有發生，但整體行情仍然處於震盪狀態。不少投資者看著盤面有些著急，...        理財        50  \n",
              "214  爬了好多文還是不太懂外幣的一些問題，希望能有人幫我解答 謝謝，1.想請問買賣美元是在賺那個匯...        理財        80  \n",
              "218  投資的實質是與自我頑固的靈魂作鬥爭，股票區塊鏈金融交易最後是炒心態。大師級的高手最後的較量並...        理財        50  \n",
              "219  比特幣昨晚先是小幅拉升至44000一線，期間也是到了財神給大家的參考區間43800—4430...        理財        50  \n",
              "222  1. 道瓊工業下跌96.69點/-0.29%，那斯達克下路214.08點/-1.56%，費半...        理財        50  \n",
              "225  嗨 各位大家好~，我是油油的股票肥宅，最近有小粉絲問了一個問題。如果要長期投資，是否可以開槓...        理財        50  \n",
              "230  現在的DeFi礦池收益沒有以前那麼好了，最近常聽到許多人在討論雙幣投資的，看到那個年化利率可...        理財        80  \n",
              "231   從上波高點套到現在，今天終於變紅了好感動，想請問該怎麼操作呢，要加碼還是停利嘛，第一次買霸脫霸脫        理財        50  \n",
              "238  不少人問我炒幣是投機嗎？說實話炒幣大概率是投機，不是為了投機還能是為了什麼，難道真的相信do...        理財        80  \n",
              "330  又來跟大家分享新的作品了~，頻道常常分享 {縫紉}  {服裝製作} 等相關教學，大家對服裝製...  YouTuber        10  \n",
              "338  友人傳了這篇文給我，我一看，十大廚師系YouTuber，就猜一定有MASA，果不其然，榜上有...  YouTuber        10  \n",
              "345                                  終於更新影片了，有興趣的可以看看！  YouTuber        10  \n",
              "355  昨天上了第一支影片，之前有發過沒有線條的動畫影片，新的頻道改成有線條的，感覺大家好像比較喜歡...  YouTuber        10  "
            ],
            "text/html": [
              "\n",
              "  <div id=\"df-14dce4a4-c66b-4e5c-8b67-b48cb6a1676b\">\n",
              "    <div class=\"colab-df-container\">\n",
              "      <div>\n",
              "<style scoped>\n",
              "    .dataframe tbody tr th:only-of-type {\n",
              "        vertical-align: middle;\n",
              "    }\n",
              "\n",
              "    .dataframe tbody tr th {\n",
              "        vertical-align: top;\n",
              "    }\n",
              "\n",
              "    .dataframe thead th {\n",
              "        text-align: right;\n",
              "    }\n",
              "</style>\n",
              "<table border=\"1\" class=\"dataframe\">\n",
              "  <thead>\n",
              "    <tr style=\"text-align: right;\">\n",
              "      <th></th>\n",
              "      <th>title</th>\n",
              "      <th>excerpt</th>\n",
              "      <th>forum_zh</th>\n",
              "      <th>clusters</th>\n",
              "    </tr>\n",
              "  </thead>\n",
              "  <tbody>\n",
              "    <tr>\n",
              "      <th>213</th>\n",
              "      <td>開合約之前，你知道什麼是杠杆率和保證金率嗎？</td>\n",
              "      <td>近期市場情緒低迷，暴漲暴跌時有發生，但整體行情仍然處於震盪狀態。不少投資者看著盤面有些著急，...</td>\n",
              "      <td>理財</td>\n",
              "      <td>50</td>\n",
              "    </tr>\n",
              "    <tr>\n",
              "      <th>214</th>\n",
              "      <td>Richart外幣帳戶</td>\n",
              "      <td>爬了好多文還是不太懂外幣的一些問題，希望能有人幫我解答 謝謝，1.想請問買賣美元是在賺那個匯...</td>\n",
              "      <td>理財</td>\n",
              "      <td>80</td>\n",
              "    </tr>\n",
              "    <tr>\n",
              "      <th>218</th>\n",
              "      <td>股票區塊鏈金融交易理財就是：抄心態！</td>\n",
              "      <td>投資的實質是與自我頑固的靈魂作鬥爭，股票區塊鏈金融交易最後是炒心態。大師級的高手最後的較量並...</td>\n",
              "      <td>理財</td>\n",
              "      <td>50</td>\n",
              "    </tr>\n",
              "    <tr>\n",
              "      <th>219</th>\n",
              "      <td>3.4比特幣行情分析參考建議</td>\n",
              "      <td>比特幣昨晚先是小幅拉升至44000一線，期間也是到了財神給大家的參考區間43800—4430...</td>\n",
              "      <td>理財</td>\n",
              "      <td>50</td>\n",
              "    </tr>\n",
              "    <tr>\n",
              "      <th>222</th>\n",
              "      <td>#分享 3/4（五）盤前分享</td>\n",
              "      <td>1. 道瓊工業下跌96.69點/-0.29%，那斯達克下路214.08點/-1.56%，費半...</td>\n",
              "      <td>理財</td>\n",
              "      <td>50</td>\n",
              "    </tr>\n",
              "    <tr>\n",
              "      <th>225</th>\n",
              "      <td>為什麼不能用槓桿型及反向型ETF賺的更多</td>\n",
              "      <td>嗨 各位大家好~，我是油油的股票肥宅，最近有小粉絲問了一個問題。如果要長期投資，是否可以開槓...</td>\n",
              "      <td>理財</td>\n",
              "      <td>50</td>\n",
              "    </tr>\n",
              "    <tr>\n",
              "      <th>230</th>\n",
              "      <td>【投資理財】甚麼是雙幣投資 | 超高報酬背後的風險</td>\n",
              "      <td>現在的DeFi礦池收益沒有以前那麼好了，最近常聽到許多人在討論雙幣投資的，看到那個年化利率可...</td>\n",
              "      <td>理財</td>\n",
              "      <td>80</td>\n",
              "    </tr>\n",
              "    <tr>\n",
              "      <th>231</th>\n",
              "      <td>#請益 海運大漲該停利嘛</td>\n",
              "      <td>從上波高點套到現在，今天終於變紅了好感動，想請問該怎麼操作呢，要加碼還是停利嘛，第一次買霸脫霸脫</td>\n",
              "      <td>理財</td>\n",
              "      <td>50</td>\n",
              "    </tr>\n",
              "    <tr>\n",
              "      <th>238</th>\n",
              "      <td>在幣圈炒幣屬於投機嗎？</td>\n",
              "      <td>不少人問我炒幣是投機嗎？說實話炒幣大概率是投機，不是為了投機還能是為了什麼，難道真的相信do...</td>\n",
              "      <td>理財</td>\n",
              "      <td>80</td>\n",
              "    </tr>\n",
              "    <tr>\n",
              "      <th>330</th>\n",
              "      <td>《庫洛魔法使》（迷你）服裝製作</td>\n",
              "      <td>又來跟大家分享新的作品了~，頻道常常分享 {縫紉}  {服裝製作} 等相關教學，大家對服裝製...</td>\n",
              "      <td>YouTuber</td>\n",
              "      <td>10</td>\n",
              "    </tr>\n",
              "    <tr>\n",
              "      <th>338</th>\n",
              "      <td>廚師系YouTuber</td>\n",
              "      <td>友人傳了這篇文給我，我一看，十大廚師系YouTuber，就猜一定有MASA，果不其然，榜上有...</td>\n",
              "      <td>YouTuber</td>\n",
              "      <td>10</td>\n",
              "    </tr>\n",
              "    <tr>\n",
              "      <th>345</th>\n",
              "      <td>環島影片又更新了</td>\n",
              "      <td>終於更新影片了，有興趣的可以看看！</td>\n",
              "      <td>YouTuber</td>\n",
              "      <td>10</td>\n",
              "    </tr>\n",
              "    <tr>\n",
              "      <th>355</th>\n",
              "      <td>開了新頻道</td>\n",
              "      <td>昨天上了第一支影片，之前有發過沒有線條的動畫影片，新的頻道改成有線條的，感覺大家好像比較喜歡...</td>\n",
              "      <td>YouTuber</td>\n",
              "      <td>10</td>\n",
              "    </tr>\n",
              "  </tbody>\n",
              "</table>\n",
              "</div>\n",
              "      <button class=\"colab-df-convert\" onclick=\"convertToInteractive('df-14dce4a4-c66b-4e5c-8b67-b48cb6a1676b')\"\n",
              "              title=\"Convert this dataframe to an interactive table.\"\n",
              "              style=\"display:none;\">\n",
              "        \n",
              "  <svg xmlns=\"http://www.w3.org/2000/svg\" height=\"24px\"viewBox=\"0 0 24 24\"\n",
              "       width=\"24px\">\n",
              "    <path d=\"M0 0h24v24H0V0z\" fill=\"none\"/>\n",
              "    <path d=\"M18.56 5.44l.94 2.06.94-2.06 2.06-.94-2.06-.94-.94-2.06-.94 2.06-2.06.94zm-11 1L8.5 8.5l.94-2.06 2.06-.94-2.06-.94L8.5 2.5l-.94 2.06-2.06.94zm10 10l.94 2.06.94-2.06 2.06-.94-2.06-.94-.94-2.06-.94 2.06-2.06.94z\"/><path d=\"M17.41 7.96l-1.37-1.37c-.4-.4-.92-.59-1.43-.59-.52 0-1.04.2-1.43.59L10.3 9.45l-7.72 7.72c-.78.78-.78 2.05 0 2.83L4 21.41c.39.39.9.59 1.41.59.51 0 1.02-.2 1.41-.59l7.78-7.78 2.81-2.81c.8-.78.8-2.07 0-2.86zM5.41 20L4 18.59l7.72-7.72 1.47 1.35L5.41 20z\"/>\n",
              "  </svg>\n",
              "      </button>\n",
              "      \n",
              "  <style>\n",
              "    .colab-df-container {\n",
              "      display:flex;\n",
              "      flex-wrap:wrap;\n",
              "      gap: 12px;\n",
              "    }\n",
              "\n",
              "    .colab-df-convert {\n",
              "      background-color: #E8F0FE;\n",
              "      border: none;\n",
              "      border-radius: 50%;\n",
              "      cursor: pointer;\n",
              "      display: none;\n",
              "      fill: #1967D2;\n",
              "      height: 32px;\n",
              "      padding: 0 0 0 0;\n",
              "      width: 32px;\n",
              "    }\n",
              "\n",
              "    .colab-df-convert:hover {\n",
              "      background-color: #E2EBFA;\n",
              "      box-shadow: 0px 1px 2px rgba(60, 64, 67, 0.3), 0px 1px 3px 1px rgba(60, 64, 67, 0.15);\n",
              "      fill: #174EA6;\n",
              "    }\n",
              "\n",
              "    [theme=dark] .colab-df-convert {\n",
              "      background-color: #3B4455;\n",
              "      fill: #D2E3FC;\n",
              "    }\n",
              "\n",
              "    [theme=dark] .colab-df-convert:hover {\n",
              "      background-color: #434B5C;\n",
              "      box-shadow: 0px 1px 3px 1px rgba(0, 0, 0, 0.15);\n",
              "      filter: drop-shadow(0px 1px 2px rgba(0, 0, 0, 0.3));\n",
              "      fill: #FFFFFF;\n",
              "    }\n",
              "  </style>\n",
              "\n",
              "      <script>\n",
              "        const buttonEl =\n",
              "          document.querySelector('#df-14dce4a4-c66b-4e5c-8b67-b48cb6a1676b button.colab-df-convert');\n",
              "        buttonEl.style.display =\n",
              "          google.colab.kernel.accessAllowed ? 'block' : 'none';\n",
              "\n",
              "        async function convertToInteractive(key) {\n",
              "          const element = document.querySelector('#df-14dce4a4-c66b-4e5c-8b67-b48cb6a1676b');\n",
              "          const dataTable =\n",
              "            await google.colab.kernel.invokeFunction('convertToInteractive',\n",
              "                                                     [key], {});\n",
              "          if (!dataTable) return;\n",
              "\n",
              "          const docLinkHtml = 'Like what you see? Visit the ' +\n",
              "            '<a target=\"_blank\" href=https://colab.research.google.com/notebooks/data_table.ipynb>data table notebook</a>'\n",
              "            + ' to learn more about interactive tables.';\n",
              "          element.innerHTML = '';\n",
              "          dataTable['output_type'] = 'display_data';\n",
              "          await google.colab.output.renderOutput(dataTable, element);\n",
              "          const docLink = document.createElement('div');\n",
              "          docLink.innerHTML = docLinkHtml;\n",
              "          element.appendChild(docLink);\n",
              "        }\n",
              "      </script>\n",
              "    </div>\n",
              "  </div>\n",
              "  "
            ]
          },
          "metadata": {},
          "execution_count": 23
        }
      ],
      "source": [
        "df['clusters'] = clusters\n",
        "sample_clusters = [10, 50, 80]\n",
        "cols_to_show = ['title', 'excerpt', 'forum_zh', 'clusters']\n",
        "\n",
        "# the parenthesis trick\n",
        "results = (\n",
        "    df[\n",
        "       # filtering\n",
        "       df['clusters'].\n",
        "       isin(sample_clusters) \n",
        "    ]\n",
        "    # selecting cols\n",
        "    [cols_to_show]  \n",
        ")\n",
        "results"
      ]
    },
    {
      "cell_type": "markdown",
      "metadata": {
        "id": "-QrLZgzW3QiK"
      },
      "source": [
        "# Assignment"
      ]
    },
    {
      "cell_type": "markdown",
      "source": [
        "### BERT"
      ],
      "metadata": {
        "id": "nvbu5WBzY0Rm"
      }
    },
    {
      "cell_type": "markdown",
      "source": [
        "You can easily leverage BERT embeddings using spaCy. Your task is to build a similarity index and a clustering model on any dataset by vectorizing texts with BERT embeddings. The following shows how to get a document vector."
      ],
      "metadata": {
        "id": "M7Q1PvGwYBSt"
      }
    },
    {
      "cell_type": "markdown",
      "source": [
        "> Use [this notebook](https://colab.research.google.com/github/howard-haowen/NLP-demos/blob/main/nlp_datasets.ipynb) to explore more datasets."
      ],
      "metadata": {
        "id": "6i37LUACZ0gZ"
      }
    },
    {
      "cell_type": "markdown",
      "source": [
        "> Make sure to download the language model that matches the language of your dataset. It's `zh_core_web_trf` for Chinese and `en_core_web_trf` for English."
      ],
      "metadata": {
        "id": "BauliHN0ZG2Q"
      }
    },
    {
      "cell_type": "code",
      "source": [
        "!pip install -U pip setuptools wheel\n",
        "!pip install -U spacy\n",
        "!python -m spacy download zh_core_web_trf"
      ],
      "metadata": {
        "id": "Q6D7jwoWL8Wm"
      },
      "execution_count": null,
      "outputs": []
    },
    {
      "cell_type": "code",
      "source": [
        "!pip list | grep spacy"
      ],
      "metadata": {
        "colab": {
          "base_uri": "https://localhost:8080/"
        },
        "id": "shok6crsQqQH",
        "outputId": "2a5d41a4-2eac-4b9c-a8ec-629ee4502b6f"
      },
      "execution_count": 25,
      "outputs": [
        {
          "output_type": "stream",
          "name": "stdout",
          "text": [
            "spacy                         3.3.0\n",
            "spacy-alignments              0.8.5\n",
            "spacy-legacy                  3.0.9\n",
            "spacy-loggers                 1.0.2\n",
            "spacy-pkuseg                  0.0.30\n",
            "spacy-transformers            1.1.5\n"
          ]
        }
      ]
    },
    {
      "cell_type": "code",
      "source": [
        "import spacy"
      ],
      "metadata": {
        "id": "8kpQifeXNZmu"
      },
      "execution_count": 26,
      "outputs": []
    },
    {
      "cell_type": "code",
      "source": [
        "nlp = spacy.load('zh_core_web_trf')"
      ],
      "metadata": {
        "id": "KjCiwiCBQDkN"
      },
      "execution_count": 27,
      "outputs": []
    },
    {
      "cell_type": "code",
      "source": [
        "docid = 5\n",
        "texts = df['title'] + ' ' + df['excerpt']\n",
        "sample = texts[docid]\n",
        "sample"
      ],
      "metadata": {
        "colab": {
          "base_uri": "https://localhost:8080/",
          "height": 53
        },
        "id": "YCOfhyFLNmbB",
        "outputId": "8bbfec1d-994b-439c-9ec6-27119bb28702"
      },
      "execution_count": 28,
      "outputs": [
        {
          "output_type": "execute_result",
          "data": {
            "text/plain": [
              "'#請益 請問這雙怎麼入手 蝦皮上有一個賣3500，我下單後他跟我說斷貨了，叫我取消訂單，想請問有什麼方式能入手這雙鞋'"
            ],
            "application/vnd.google.colaboratory.intrinsic+json": {
              "type": "string"
            }
          },
          "metadata": {},
          "execution_count": 28
        }
      ]
    },
    {
      "cell_type": "markdown",
      "source": [
        "All transformer-related data is stored in the `.trf_data` attribute of a Doc object."
      ],
      "metadata": {
        "id": "C_OsJE6LaSrB"
      }
    },
    {
      "cell_type": "code",
      "source": [
        "doc._.trf_data"
      ],
      "metadata": {
        "colab": {
          "base_uri": "https://localhost:8080/"
        },
        "id": "nXGEFI55YYPG",
        "outputId": "4d9b9ec0-c710-4d9d-b7cc-51cbe5f1443a"
      },
      "execution_count": 43,
      "outputs": [
        {
          "output_type": "execute_result",
          "data": {
            "text/plain": [
              "TransformerData(wordpieces=WordpieceBatch(strings=[['[CLS]', '#', '請', '益', '請', '問', '這', '雙', '怎', '麼', '入', '手', '蝦', '皮', '上', '有', '一', '個', '賣', '3500', '，', '我', '下', '單', '後', '他', '跟', '我', '說', '斷', '貨', '了', '，', '叫', '我', '取', '消', '訂', '單', '，', '想', '請', '問', '有', '什', '麼', '方', '式', '能', '入', '手', '這', '雙', '鞋', '[SEP]']], input_ids=array([[ 101,  108, 6313, 4660, 6313, 1558, 6857, 7427, 2582, 7938, 1057,\n",
              "        2797, 6076, 4649,  677, 3300,  671,  943, 6546, 9252, 8024, 2769,\n",
              "         678, 1606, 2527,  800, 6656, 2769, 6303, 3174, 6515,  749, 8024,\n",
              "        1373, 2769, 1357, 3867, 6242, 1606, 8024, 2682, 6313, 1558, 3300,\n",
              "         784, 7938, 3175, 2466, 5543, 1057, 2797, 6857, 7427, 7490,  102]],\n",
              "      dtype=int32), attention_mask=array([[1., 1., 1., 1., 1., 1., 1., 1., 1., 1., 1., 1., 1., 1., 1., 1.,\n",
              "        1., 1., 1., 1., 1., 1., 1., 1., 1., 1., 1., 1., 1., 1., 1., 1.,\n",
              "        1., 1., 1., 1., 1., 1., 1., 1., 1., 1., 1., 1., 1., 1., 1., 1.,\n",
              "        1., 1., 1., 1., 1., 1., 1.]], dtype=float32), lengths=[55], token_type_ids=array([[0, 0, 0, 0, 0, 0, 0, 0, 0, 0, 0, 0, 0, 0, 0, 0, 0, 0, 0, 0, 0, 0,\n",
              "        0, 0, 0, 0, 0, 0, 0, 0, 0, 0, 0, 0, 0, 0, 0, 0, 0, 0, 0, 0, 0, 0,\n",
              "        0, 0, 0, 0, 0, 0, 0, 0, 0, 0, 0]], dtype=int32)), model_output=ModelOutput([('last_hidden_state', array([[[-0.06093796,  0.4808125 , -1.515294  , ...,  1.2998419 ,\n",
              "          0.06041297,  0.34086958],\n",
              "        [-0.4960665 ,  0.37047324, -0.5070612 , ...,  0.48365518,\n",
              "          1.2482525 ,  0.24359411],\n",
              "        [ 0.09421694,  0.4672077 , -1.5198385 , ...,  0.42167848,\n",
              "         -0.175895  , -0.26311597],\n",
              "        ...,\n",
              "        [-0.62458724, -0.5568265 , -1.0633736 , ...,  0.8060819 ,\n",
              "          0.4572911 ,  0.28040668],\n",
              "        [ 0.3076699 , -0.73708737, -1.0244833 , ...,  0.36052567,\n",
              "          1.2926208 , -0.11057007],\n",
              "        [-1.143755  ,  0.4068495 , -2.2327175 , ...,  1.5238872 ,\n",
              "          1.1633435 ,  1.027017  ]]], dtype=float32)), ('pooler_output', array([[ 0.9482748 ,  0.3646351 ,  0.49285644,  0.7384991 ,  0.695666  ,\n",
              "         0.8379382 , -0.6671747 , -0.9659504 ,  0.9981446 , -0.9838525 ,\n",
              "         0.9991503 ,  0.11251239, -0.9947545 , -0.7300057 ,  0.997386  ,\n",
              "        -0.96912575, -0.797553  , -0.8557561 , -0.01615306,  0.55186325,\n",
              "         0.9844663 , -0.24069616, -0.55427885, -0.08516337,  0.89815134,\n",
              "         0.996283  ,  0.4103033 , -0.6414747 , -0.7276047 ,  0.8090698 ,\n",
              "         0.89525247,  0.97222817, -0.6924306 , -0.8033565 , -0.8764833 ,\n",
              "         0.94054055, -0.64200306,  0.31043538, -0.58652824, -0.8187539 ,\n",
              "        -0.04985438, -0.94976914,  0.47335774, -0.6519487 , -0.8747675 ,\n",
              "        -0.74622685, -0.99979246, -0.8717662 , -0.6050656 ,  0.97896564,\n",
              "         0.38153112, -0.47380397, -0.34432527,  0.20518267, -0.33053657,\n",
              "        -0.5285946 , -0.9583864 ,  0.6251489 ,  0.9998214 ,  0.7365236 ,\n",
              "         0.9361265 ,  0.39015645,  0.97161484, -0.98904145,  0.6202905 ,\n",
              "        -0.88670796, -0.6444771 ,  0.56867796,  0.9632956 ,  0.9988207 ,\n",
              "         0.4083758 , -0.29305288,  0.99876994,  0.52504635, -0.12652606,\n",
              "         0.32396787, -0.9651277 ,  0.1817508 , -0.99834156,  0.7720888 ,\n",
              "         0.998928  ,  0.7026269 , -0.7199761 ,  0.9510404 , -0.18135811,\n",
              "        -0.9962538 , -0.45210025,  0.82267493, -0.6647003 ,  0.8609077 ,\n",
              "         0.19991623, -0.9920885 , -0.9970605 ,  0.98927104, -0.96201396,\n",
              "        -0.2688618 , -0.99101937,  0.9972302 , -0.5029613 ,  0.04516708,\n",
              "         0.3986087 ,  0.14947082, -0.4216877 ,  0.02323432, -0.09810293,\n",
              "         0.59223586,  0.4217798 , -0.9905089 ,  0.9929451 ,  0.5422372 ,\n",
              "        -0.9997281 ,  0.1457665 , -0.3066957 , -0.6051776 , -0.8996521 ,\n",
              "         0.9850389 , -0.10714842, -0.55441266,  0.9912608 , -0.09181653,\n",
              "         0.4849229 , -0.35175774, -0.94873637,  0.6813586 , -0.22945772,\n",
              "         0.99454945,  0.16272818, -0.7178084 , -0.28524253,  0.9945073 ,\n",
              "         0.9446412 ,  0.74075747, -0.74585176, -0.6100846 ,  0.97517043,\n",
              "         0.5351461 ,  0.84479874,  0.9318852 ,  0.99931663,  0.57580507,\n",
              "         0.85434324, -0.94289404, -0.06819922, -0.7549466 ,  0.99829733,\n",
              "        -0.9886457 ,  0.97720766, -0.99848735, -0.94113827,  0.8172503 ,\n",
              "         0.84175235,  0.99947286, -0.44348013,  0.95498115,  0.7679117 ,\n",
              "         0.13425423,  0.74591047, -0.26291463, -0.80723363, -0.9812779 ,\n",
              "         0.5746491 , -0.9827387 , -0.08317825, -0.80174935, -0.9999252 ,\n",
              "         0.995143  ,  0.7884103 ,  0.999282  , -0.5237644 , -0.99124706,\n",
              "        -0.8189748 ,  0.09340893, -0.3194838 , -0.03658072, -0.8272257 ,\n",
              "         0.9510531 ,  0.67572737,  0.91522473, -0.9069826 , -0.91009414,\n",
              "         0.95262545, -0.6240406 , -0.16273983, -0.7561801 , -0.4677305 ,\n",
              "         0.9543853 ,  0.71812844, -0.6629232 , -0.52549875, -0.3815576 ,\n",
              "         0.10489888,  0.9636936 , -0.27931434,  0.57512677,  0.9959223 ,\n",
              "        -0.4498647 , -0.43070328,  0.096255  , -0.9967079 ,  0.26514387,\n",
              "         0.88396806,  0.3472862 , -0.9491397 , -0.94933647, -0.9959258 ,\n",
              "        -0.8131781 , -0.7271906 , -0.5570536 ,  0.04629696, -0.9959501 ,\n",
              "         0.46140018, -0.5013121 , -0.9647674 ,  0.99938995, -0.39358926,\n",
              "         0.5053421 , -0.7043012 ,  0.9964809 ,  0.20003596,  0.6153396 ,\n",
              "        -0.3161165 , -0.4111601 ,  0.520557  ,  0.7354643 , -0.9482991 ,\n",
              "         0.6240737 ,  0.8558284 ,  0.997913  , -0.11686078,  0.6466718 ,\n",
              "        -0.04564543, -0.14367905,  0.587839  , -0.9987515 ,  0.774677  ,\n",
              "        -0.98850954, -0.4067263 ,  0.99805796, -0.37910843,  0.894851  ,\n",
              "         0.99149054,  0.9112288 ,  0.99970317, -0.93631977, -0.6157647 ,\n",
              "        -0.9859091 ,  0.99861676,  0.29079214,  0.9335745 , -0.9409927 ,\n",
              "        -0.9895252 ,  0.47252226, -0.9514056 , -0.9983581 , -0.994381  ,\n",
              "        -0.58813435,  0.97395545,  0.0033023 ,  0.903624  , -0.86386   ,\n",
              "         0.5638758 , -0.98616266,  0.99676335, -0.40577376,  0.43600762,\n",
              "         0.9497919 ,  0.41853485,  0.48546854, -0.6066877 , -0.9598125 ,\n",
              "        -0.98814094, -0.92521006, -0.89666235, -0.26104257, -0.9962913 ,\n",
              "         0.6425412 , -0.9619979 , -0.9985661 ,  0.6848287 ,  0.99733835,\n",
              "        -0.12863356, -0.8844855 ,  0.5704135 ,  0.2905889 , -0.3529181 ,\n",
              "        -0.12186185,  0.76530325, -0.9995936 ,  0.9990079 , -0.9504497 ,\n",
              "         0.30066767, -0.80112684, -0.6969111 , -0.54087746,  0.74401975,\n",
              "         0.3649975 ,  0.01333292, -0.18486334, -0.94166   , -0.40362903,\n",
              "         0.20728682, -0.12661691, -0.9019295 , -0.70553005,  0.31252   ,\n",
              "        -0.58381635,  0.8535261 , -0.8283443 , -0.8628322 ,  0.66867644,\n",
              "         0.99951744,  0.688517  ,  0.99874365,  0.14581466,  0.99841106,\n",
              "         0.55429053, -0.89059967,  0.5291462 , -0.95164436, -0.947553  ,\n",
              "         0.7431726 , -0.8842484 , -0.13153055, -0.8413946 , -0.95791215,\n",
              "        -0.8768682 , -0.13152951,  0.14689316, -0.5686247 ,  0.7177764 ,\n",
              "        -0.9804795 ,  0.8739212 , -0.07349115, -0.43115258,  0.95548314,\n",
              "        -0.9279062 , -0.6636623 ,  0.9813261 ,  0.9934251 , -0.05424897,\n",
              "         0.89880276,  0.76052445,  0.980794  , -0.39128828,  0.99750006,\n",
              "        -0.9843856 ,  0.986678  , -0.95353377,  0.88536817, -0.66257745,\n",
              "         0.2826451 ,  0.99345034, -0.93598044,  0.61987656,  0.2422919 ,\n",
              "        -0.8032252 ,  0.8753842 ,  0.08988351,  0.9190969 ,  0.9483683 ,\n",
              "        -0.1833667 ,  0.99728435, -0.17445728, -0.4477519 ,  0.37692484,\n",
              "        -0.99059176, -0.95904374, -0.9997031 ,  0.7502443 , -0.9612414 ,\n",
              "        -0.71800005, -0.7051935 ,  0.37069514,  0.94910204, -0.8287587 ,\n",
              "        -0.93621844, -0.6933979 ,  0.96513736,  0.46428022,  0.13802333,\n",
              "         0.90851176, -0.82298774, -0.70083725, -0.9880299 , -0.4437197 ,\n",
              "        -0.03562698,  0.91342807, -0.5170388 ,  0.19907004, -0.9971726 ,\n",
              "        -0.7386978 , -0.65585595, -0.92414904, -0.9327585 ,  0.92333066,\n",
              "        -0.7416769 ,  0.26129168,  0.54598224,  0.998935  ,  0.8979761 ,\n",
              "        -0.07975024,  0.21248166, -0.9993558 , -0.8751124 , -0.9543265 ,\n",
              "        -0.99520135,  0.34783548,  0.3607408 ,  0.6683858 , -0.9962761 ,\n",
              "        -0.99507767, -0.29008263,  0.9975675 ,  0.7665968 , -0.98875064,\n",
              "        -0.9057142 , -0.22269554, -0.84658265, -0.0804144 , -0.18601881,\n",
              "        -0.9046403 ,  0.99241585, -0.17339592,  0.9899194 , -0.08913201,\n",
              "         0.9746959 ,  0.46974143,  0.7651842 ,  0.5670196 , -0.9906547 ,\n",
              "         0.9530018 ,  0.99779975,  0.77200556, -0.99823165,  0.70830303,\n",
              "        -0.81371415, -0.6334202 , -0.10255769,  0.03134632,  0.9087848 ,\n",
              "        -0.9400049 ,  0.8279639 , -0.8806129 , -0.5092096 , -0.03501649,\n",
              "         0.85780287,  0.9473362 ,  0.9981616 ,  0.6285817 ,  0.6340466 ,\n",
              "         0.7049814 ,  0.85832745, -0.6330341 , -0.87929356,  0.44054958,\n",
              "        -0.551082  ,  0.79059696, -0.38503066,  0.89323676,  0.964041  ,\n",
              "         0.94156855,  0.58656853, -0.8936198 ,  0.6386265 , -0.96745867,\n",
              "         0.5217324 ,  0.99857575,  0.20748815,  0.3611839 , -0.9710021 ,\n",
              "        -0.9712763 , -0.5259083 , -0.25909987,  0.8143038 , -0.8930033 ,\n",
              "        -0.9796769 , -0.75370854,  0.5982741 ,  0.99899095,  0.97802454,\n",
              "         0.7640096 , -0.17340016, -0.78364015,  0.31985572,  0.91941804,\n",
              "         0.20764104, -0.66356105, -0.9985482 , -0.18804795,  0.3416399 ,\n",
              "         0.943925  , -0.74548614, -0.9475803 ,  0.5442783 , -0.8275956 ,\n",
              "        -0.90875554, -0.99299407, -0.04293688,  0.6759688 , -0.817137  ,\n",
              "         0.9993109 , -0.9817662 ,  0.89400804, -0.9250237 ,  0.22651625,\n",
              "        -0.8855074 ,  0.15530711,  0.71103126, -0.25525263, -0.42743224,\n",
              "        -0.98270476, -0.3329963 ,  0.22490853,  0.60201895, -0.99772424,\n",
              "         0.86994594,  0.84242547, -0.83678323,  0.92017573,  0.82524765,\n",
              "         0.6610795 ,  0.40043324,  0.9982436 ,  0.6186704 , -0.46990767,\n",
              "         0.6347163 ,  0.90733063,  0.9894074 ,  0.25207594, -0.79641116,\n",
              "         0.6611734 , -0.2737553 , -0.49764675,  0.91331166, -0.0331826 ,\n",
              "        -0.89446855, -0.8917684 , -0.17912483,  0.8170025 ,  0.9694723 ,\n",
              "         0.99859214, -0.8924112 , -0.27152613,  0.4124385 ,  0.13834572,\n",
              "        -0.25359443,  0.0815138 ,  0.1587524 ,  0.80130774,  0.89184755,\n",
              "         0.31632924, -0.9817981 ,  0.19160397, -0.9993328 ,  0.9977571 ,\n",
              "         0.30700555,  0.5675385 , -0.99886155,  0.9616274 , -0.7142345 ,\n",
              "        -0.63370407,  0.8001375 ,  0.7616854 , -0.82984257,  0.3884117 ,\n",
              "        -0.68945974,  0.01377402, -0.5919856 ,  0.1869835 , -0.01799322,\n",
              "         0.94348353, -0.903093  ,  0.09274767,  0.996362  , -0.9345339 ,\n",
              "        -0.28239998,  0.8486212 , -0.9923161 ,  0.97265846, -0.94771   ,\n",
              "        -0.89533514,  0.17727186,  0.7187278 ,  0.95961624,  0.8748486 ,\n",
              "        -0.379273  ,  0.94223267, -0.5997176 ,  0.98668313, -0.98711437,\n",
              "        -0.32131225, -0.8014675 ,  0.9898977 ,  0.24123435, -0.9341534 ,\n",
              "        -0.6669357 ,  0.47087485,  0.29203197, -0.4180924 ,  0.9569484 ,\n",
              "         0.40861842, -0.22986913, -0.67684686, -0.86823344, -0.38063487,\n",
              "        -0.71050656, -0.39570278, -0.9807983 ,  0.24389017,  0.92485136,\n",
              "         0.04018239,  0.4331516 , -0.9404673 ,  0.9560984 , -0.8284344 ,\n",
              "        -0.72324824,  0.99593484, -0.67194545, -0.99901617,  0.49771604,\n",
              "        -0.11926687,  0.8724574 , -0.23883297, -0.04748438, -0.7593793 ,\n",
              "        -0.9543645 ,  0.7454405 ,  0.9488137 , -0.70929515, -0.8523743 ,\n",
              "        -0.61258817, -0.9077965 ,  0.08046514,  0.72687787,  0.5021856 ,\n",
              "         0.67071617, -0.07082719,  0.4330603 ,  0.5154569 , -0.9817487 ,\n",
              "         0.9306802 , -0.8663295 ,  0.4769075 , -0.563231  , -0.39417526,\n",
              "        -0.92785823, -0.9976591 ,  0.9989725 , -0.71770704,  0.9559955 ,\n",
              "        -0.9855332 ,  0.9329625 ,  0.48419797, -0.5781712 , -0.9919238 ,\n",
              "        -0.9420996 ,  0.9844605 , -0.8174648 ,  0.38817114, -0.9668904 ,\n",
              "         0.5145124 , -0.9888037 , -0.8514815 ,  0.2744525 , -0.5348087 ,\n",
              "        -0.86148655,  0.9970298 ,  0.90594596, -0.97939223,  0.41358447,\n",
              "         0.0951289 ,  0.2927667 ,  0.977039  ,  0.9806702 ,  0.2112276 ,\n",
              "        -0.77505285,  0.3312985 ,  0.24336323, -0.60539013, -0.9324512 ,\n",
              "        -0.99002326, -0.2533745 , -0.81969976,  0.9215689 , -0.22713839,\n",
              "        -0.72536105, -0.40062413,  0.9622084 ,  0.8000808 , -0.9904481 ,\n",
              "         0.9372555 ,  0.7259883 ,  0.4295579 ,  0.9990245 , -0.5545241 ,\n",
              "         0.9569669 , -0.91467065, -0.0890075 , -0.9217649 ,  0.9930001 ,\n",
              "        -0.9944061 ,  0.9829569 ,  0.9952475 ,  0.8634625 ,  0.9355933 ,\n",
              "        -0.9748965 , -0.5922759 ,  0.19653402,  0.3602236 ,  0.8923433 ,\n",
              "        -0.9866965 , -0.90820426, -0.9298228 ,  0.02998456,  0.18611485,\n",
              "         0.99915254, -0.17956066, -0.9139103 ,  0.9570404 ,  0.06092129,\n",
              "         0.6528002 , -0.86513823, -0.39823955,  0.8496855 ,  0.93350714,\n",
              "         0.39903316,  0.9948536 , -0.04995221,  0.7566275 , -0.2750187 ,\n",
              "        -0.83579594,  0.90330374,  0.42643037, -0.91642594, -0.8685966 ,\n",
              "         0.9937395 ,  0.26644835, -0.674164  , -0.61878246, -0.9388138 ,\n",
              "        -0.27222836,  0.96761054,  0.5252635 , -0.9282165 ,  0.95843464,\n",
              "         0.9470601 ,  0.8001632 , -0.38111687,  0.42078015, -0.9758184 ,\n",
              "        -0.9034062 ,  0.40059087, -0.9474731 ,  0.9940917 , -0.94615924,\n",
              "         0.39481464, -0.07182509, -0.04602806, -0.05541859,  0.8965178 ,\n",
              "        -0.97202843,  0.99607104,  0.2937659 , -0.983032  , -0.9377359 ,\n",
              "        -0.98159933, -0.9264897 , -0.292318  ]], dtype=float32))]), align=Ragged(data=array([[ 1],\n",
              "       [ 2],\n",
              "       [ 3],\n",
              "       [ 4],\n",
              "       [ 5],\n",
              "       [ 6],\n",
              "       [ 7],\n",
              "       [ 8],\n",
              "       [ 9],\n",
              "       [10],\n",
              "       [11],\n",
              "       [12],\n",
              "       [13],\n",
              "       [14],\n",
              "       [15],\n",
              "       [16],\n",
              "       [17],\n",
              "       [18],\n",
              "       [19],\n",
              "       [20],\n",
              "       [21],\n",
              "       [22],\n",
              "       [23],\n",
              "       [24],\n",
              "       [25],\n",
              "       [26],\n",
              "       [27],\n",
              "       [28],\n",
              "       [29],\n",
              "       [30],\n",
              "       [31],\n",
              "       [32],\n",
              "       [33],\n",
              "       [34],\n",
              "       [35],\n",
              "       [36],\n",
              "       [37],\n",
              "       [38],\n",
              "       [39],\n",
              "       [40],\n",
              "       [41],\n",
              "       [42],\n",
              "       [43],\n",
              "       [44],\n",
              "       [45],\n",
              "       [46],\n",
              "       [47],\n",
              "       [48],\n",
              "       [49],\n",
              "       [50],\n",
              "       [51],\n",
              "       [52],\n",
              "       [53]], dtype=int32), lengths=array([1, 2, 2, 2, 2, 2, 2, 1, 1, 1, 1, 1, 1, 1, 1, 2, 1, 1, 1, 1, 2, 1,\n",
              "       1, 1, 1, 1, 2, 2, 1, 1, 2, 1, 2, 2, 1, 2, 2, 1], dtype=int32), data_shape=(-1,), starts_ends=None))"
            ]
          },
          "metadata": {},
          "execution_count": 43
        }
      ]
    },
    {
      "cell_type": "markdown",
      "source": [
        "More specifically, `.wordpieces` stores tokens in the BERT framework."
      ],
      "metadata": {
        "id": "d5-a4tPyXShQ"
      }
    },
    {
      "cell_type": "code",
      "source": [
        "doc._.trf_data.wordpieces"
      ],
      "metadata": {
        "colab": {
          "base_uri": "https://localhost:8080/"
        },
        "id": "Ew1WzHPIT2kE",
        "outputId": "552f38a4-1238-4a93-9359-98c573dd5feb"
      },
      "execution_count": 32,
      "outputs": [
        {
          "output_type": "execute_result",
          "data": {
            "text/plain": [
              "WordpieceBatch(strings=[['[CLS]', '#', '請', '益', '請', '問', '這', '雙', '怎', '麼', '入', '手', '蝦', '皮', '上', '有', '一', '個', '賣', '3500', '，', '我', '下', '單', '後', '他', '跟', '我', '說', '斷', '貨', '了', '，', '叫', '我', '取', '消', '訂', '單', '，', '想', '請', '問', '有', '什', '麼', '方', '式', '能', '入', '手', '這', '雙', '鞋', '[SEP]']], input_ids=array([[ 101,  108, 6313, 4660, 6313, 1558, 6857, 7427, 2582, 7938, 1057,\n",
              "        2797, 6076, 4649,  677, 3300,  671,  943, 6546, 9252, 8024, 2769,\n",
              "         678, 1606, 2527,  800, 6656, 2769, 6303, 3174, 6515,  749, 8024,\n",
              "        1373, 2769, 1357, 3867, 6242, 1606, 8024, 2682, 6313, 1558, 3300,\n",
              "         784, 7938, 3175, 2466, 5543, 1057, 2797, 6857, 7427, 7490,  102]],\n",
              "      dtype=int32), attention_mask=array([[1., 1., 1., 1., 1., 1., 1., 1., 1., 1., 1., 1., 1., 1., 1., 1.,\n",
              "        1., 1., 1., 1., 1., 1., 1., 1., 1., 1., 1., 1., 1., 1., 1., 1.,\n",
              "        1., 1., 1., 1., 1., 1., 1., 1., 1., 1., 1., 1., 1., 1., 1., 1.,\n",
              "        1., 1., 1., 1., 1., 1., 1.]], dtype=float32), lengths=[55], token_type_ids=array([[0, 0, 0, 0, 0, 0, 0, 0, 0, 0, 0, 0, 0, 0, 0, 0, 0, 0, 0, 0, 0, 0,\n",
              "        0, 0, 0, 0, 0, 0, 0, 0, 0, 0, 0, 0, 0, 0, 0, 0, 0, 0, 0, 0, 0, 0,\n",
              "        0, 0, 0, 0, 0, 0, 0, 0, 0, 0, 0]], dtype=int32))"
            ]
          },
          "metadata": {},
          "execution_count": 32
        }
      ]
    },
    {
      "cell_type": "markdown",
      "source": [
        "NOTE: `doc._.trf_data.tensors` is different from `doc.tensor` or `doc.vector`. "
      ],
      "metadata": {
        "id": "pX85jScD5rtf"
      }
    },
    {
      "cell_type": "code",
      "source": [
        "doc._.trf_data.tensors"
      ],
      "metadata": {
        "colab": {
          "base_uri": "https://localhost:8080/"
        },
        "id": "5NdjW7ZeY8kp",
        "outputId": "b6aea32f-9e8f-4c4f-e1cf-2f0b978c1aa9"
      },
      "execution_count": 45,
      "outputs": [
        {
          "output_type": "execute_result",
          "data": {
            "text/plain": [
              "(array([[[-0.06093796,  0.4808125 , -1.515294  , ...,  1.2998419 ,\n",
              "           0.06041297,  0.34086958],\n",
              "         [-0.4960665 ,  0.37047324, -0.5070612 , ...,  0.48365518,\n",
              "           1.2482525 ,  0.24359411],\n",
              "         [ 0.09421694,  0.4672077 , -1.5198385 , ...,  0.42167848,\n",
              "          -0.175895  , -0.26311597],\n",
              "         ...,\n",
              "         [-0.62458724, -0.5568265 , -1.0633736 , ...,  0.8060819 ,\n",
              "           0.4572911 ,  0.28040668],\n",
              "         [ 0.3076699 , -0.73708737, -1.0244833 , ...,  0.36052567,\n",
              "           1.2926208 , -0.11057007],\n",
              "         [-1.143755  ,  0.4068495 , -2.2327175 , ...,  1.5238872 ,\n",
              "           1.1633435 ,  1.027017  ]]], dtype=float32),\n",
              " array([[ 0.9482748 ,  0.3646351 ,  0.49285644,  0.7384991 ,  0.695666  ,\n",
              "          0.8379382 , -0.6671747 , -0.9659504 ,  0.9981446 , -0.9838525 ,\n",
              "          0.9991503 ,  0.11251239, -0.9947545 , -0.7300057 ,  0.997386  ,\n",
              "         -0.96912575, -0.797553  , -0.8557561 , -0.01615306,  0.55186325,\n",
              "          0.9844663 , -0.24069616, -0.55427885, -0.08516337,  0.89815134,\n",
              "          0.996283  ,  0.4103033 , -0.6414747 , -0.7276047 ,  0.8090698 ,\n",
              "          0.89525247,  0.97222817, -0.6924306 , -0.8033565 , -0.8764833 ,\n",
              "          0.94054055, -0.64200306,  0.31043538, -0.58652824, -0.8187539 ,\n",
              "         -0.04985438, -0.94976914,  0.47335774, -0.6519487 , -0.8747675 ,\n",
              "         -0.74622685, -0.99979246, -0.8717662 , -0.6050656 ,  0.97896564,\n",
              "          0.38153112, -0.47380397, -0.34432527,  0.20518267, -0.33053657,\n",
              "         -0.5285946 , -0.9583864 ,  0.6251489 ,  0.9998214 ,  0.7365236 ,\n",
              "          0.9361265 ,  0.39015645,  0.97161484, -0.98904145,  0.6202905 ,\n",
              "         -0.88670796, -0.6444771 ,  0.56867796,  0.9632956 ,  0.9988207 ,\n",
              "          0.4083758 , -0.29305288,  0.99876994,  0.52504635, -0.12652606,\n",
              "          0.32396787, -0.9651277 ,  0.1817508 , -0.99834156,  0.7720888 ,\n",
              "          0.998928  ,  0.7026269 , -0.7199761 ,  0.9510404 , -0.18135811,\n",
              "         -0.9962538 , -0.45210025,  0.82267493, -0.6647003 ,  0.8609077 ,\n",
              "          0.19991623, -0.9920885 , -0.9970605 ,  0.98927104, -0.96201396,\n",
              "         -0.2688618 , -0.99101937,  0.9972302 , -0.5029613 ,  0.04516708,\n",
              "          0.3986087 ,  0.14947082, -0.4216877 ,  0.02323432, -0.09810293,\n",
              "          0.59223586,  0.4217798 , -0.9905089 ,  0.9929451 ,  0.5422372 ,\n",
              "         -0.9997281 ,  0.1457665 , -0.3066957 , -0.6051776 , -0.8996521 ,\n",
              "          0.9850389 , -0.10714842, -0.55441266,  0.9912608 , -0.09181653,\n",
              "          0.4849229 , -0.35175774, -0.94873637,  0.6813586 , -0.22945772,\n",
              "          0.99454945,  0.16272818, -0.7178084 , -0.28524253,  0.9945073 ,\n",
              "          0.9446412 ,  0.74075747, -0.74585176, -0.6100846 ,  0.97517043,\n",
              "          0.5351461 ,  0.84479874,  0.9318852 ,  0.99931663,  0.57580507,\n",
              "          0.85434324, -0.94289404, -0.06819922, -0.7549466 ,  0.99829733,\n",
              "         -0.9886457 ,  0.97720766, -0.99848735, -0.94113827,  0.8172503 ,\n",
              "          0.84175235,  0.99947286, -0.44348013,  0.95498115,  0.7679117 ,\n",
              "          0.13425423,  0.74591047, -0.26291463, -0.80723363, -0.9812779 ,\n",
              "          0.5746491 , -0.9827387 , -0.08317825, -0.80174935, -0.9999252 ,\n",
              "          0.995143  ,  0.7884103 ,  0.999282  , -0.5237644 , -0.99124706,\n",
              "         -0.8189748 ,  0.09340893, -0.3194838 , -0.03658072, -0.8272257 ,\n",
              "          0.9510531 ,  0.67572737,  0.91522473, -0.9069826 , -0.91009414,\n",
              "          0.95262545, -0.6240406 , -0.16273983, -0.7561801 , -0.4677305 ,\n",
              "          0.9543853 ,  0.71812844, -0.6629232 , -0.52549875, -0.3815576 ,\n",
              "          0.10489888,  0.9636936 , -0.27931434,  0.57512677,  0.9959223 ,\n",
              "         -0.4498647 , -0.43070328,  0.096255  , -0.9967079 ,  0.26514387,\n",
              "          0.88396806,  0.3472862 , -0.9491397 , -0.94933647, -0.9959258 ,\n",
              "         -0.8131781 , -0.7271906 , -0.5570536 ,  0.04629696, -0.9959501 ,\n",
              "          0.46140018, -0.5013121 , -0.9647674 ,  0.99938995, -0.39358926,\n",
              "          0.5053421 , -0.7043012 ,  0.9964809 ,  0.20003596,  0.6153396 ,\n",
              "         -0.3161165 , -0.4111601 ,  0.520557  ,  0.7354643 , -0.9482991 ,\n",
              "          0.6240737 ,  0.8558284 ,  0.997913  , -0.11686078,  0.6466718 ,\n",
              "         -0.04564543, -0.14367905,  0.587839  , -0.9987515 ,  0.774677  ,\n",
              "         -0.98850954, -0.4067263 ,  0.99805796, -0.37910843,  0.894851  ,\n",
              "          0.99149054,  0.9112288 ,  0.99970317, -0.93631977, -0.6157647 ,\n",
              "         -0.9859091 ,  0.99861676,  0.29079214,  0.9335745 , -0.9409927 ,\n",
              "         -0.9895252 ,  0.47252226, -0.9514056 , -0.9983581 , -0.994381  ,\n",
              "         -0.58813435,  0.97395545,  0.0033023 ,  0.903624  , -0.86386   ,\n",
              "          0.5638758 , -0.98616266,  0.99676335, -0.40577376,  0.43600762,\n",
              "          0.9497919 ,  0.41853485,  0.48546854, -0.6066877 , -0.9598125 ,\n",
              "         -0.98814094, -0.92521006, -0.89666235, -0.26104257, -0.9962913 ,\n",
              "          0.6425412 , -0.9619979 , -0.9985661 ,  0.6848287 ,  0.99733835,\n",
              "         -0.12863356, -0.8844855 ,  0.5704135 ,  0.2905889 , -0.3529181 ,\n",
              "         -0.12186185,  0.76530325, -0.9995936 ,  0.9990079 , -0.9504497 ,\n",
              "          0.30066767, -0.80112684, -0.6969111 , -0.54087746,  0.74401975,\n",
              "          0.3649975 ,  0.01333292, -0.18486334, -0.94166   , -0.40362903,\n",
              "          0.20728682, -0.12661691, -0.9019295 , -0.70553005,  0.31252   ,\n",
              "         -0.58381635,  0.8535261 , -0.8283443 , -0.8628322 ,  0.66867644,\n",
              "          0.99951744,  0.688517  ,  0.99874365,  0.14581466,  0.99841106,\n",
              "          0.55429053, -0.89059967,  0.5291462 , -0.95164436, -0.947553  ,\n",
              "          0.7431726 , -0.8842484 , -0.13153055, -0.8413946 , -0.95791215,\n",
              "         -0.8768682 , -0.13152951,  0.14689316, -0.5686247 ,  0.7177764 ,\n",
              "         -0.9804795 ,  0.8739212 , -0.07349115, -0.43115258,  0.95548314,\n",
              "         -0.9279062 , -0.6636623 ,  0.9813261 ,  0.9934251 , -0.05424897,\n",
              "          0.89880276,  0.76052445,  0.980794  , -0.39128828,  0.99750006,\n",
              "         -0.9843856 ,  0.986678  , -0.95353377,  0.88536817, -0.66257745,\n",
              "          0.2826451 ,  0.99345034, -0.93598044,  0.61987656,  0.2422919 ,\n",
              "         -0.8032252 ,  0.8753842 ,  0.08988351,  0.9190969 ,  0.9483683 ,\n",
              "         -0.1833667 ,  0.99728435, -0.17445728, -0.4477519 ,  0.37692484,\n",
              "         -0.99059176, -0.95904374, -0.9997031 ,  0.7502443 , -0.9612414 ,\n",
              "         -0.71800005, -0.7051935 ,  0.37069514,  0.94910204, -0.8287587 ,\n",
              "         -0.93621844, -0.6933979 ,  0.96513736,  0.46428022,  0.13802333,\n",
              "          0.90851176, -0.82298774, -0.70083725, -0.9880299 , -0.4437197 ,\n",
              "         -0.03562698,  0.91342807, -0.5170388 ,  0.19907004, -0.9971726 ,\n",
              "         -0.7386978 , -0.65585595, -0.92414904, -0.9327585 ,  0.92333066,\n",
              "         -0.7416769 ,  0.26129168,  0.54598224,  0.998935  ,  0.8979761 ,\n",
              "         -0.07975024,  0.21248166, -0.9993558 , -0.8751124 , -0.9543265 ,\n",
              "         -0.99520135,  0.34783548,  0.3607408 ,  0.6683858 , -0.9962761 ,\n",
              "         -0.99507767, -0.29008263,  0.9975675 ,  0.7665968 , -0.98875064,\n",
              "         -0.9057142 , -0.22269554, -0.84658265, -0.0804144 , -0.18601881,\n",
              "         -0.9046403 ,  0.99241585, -0.17339592,  0.9899194 , -0.08913201,\n",
              "          0.9746959 ,  0.46974143,  0.7651842 ,  0.5670196 , -0.9906547 ,\n",
              "          0.9530018 ,  0.99779975,  0.77200556, -0.99823165,  0.70830303,\n",
              "         -0.81371415, -0.6334202 , -0.10255769,  0.03134632,  0.9087848 ,\n",
              "         -0.9400049 ,  0.8279639 , -0.8806129 , -0.5092096 , -0.03501649,\n",
              "          0.85780287,  0.9473362 ,  0.9981616 ,  0.6285817 ,  0.6340466 ,\n",
              "          0.7049814 ,  0.85832745, -0.6330341 , -0.87929356,  0.44054958,\n",
              "         -0.551082  ,  0.79059696, -0.38503066,  0.89323676,  0.964041  ,\n",
              "          0.94156855,  0.58656853, -0.8936198 ,  0.6386265 , -0.96745867,\n",
              "          0.5217324 ,  0.99857575,  0.20748815,  0.3611839 , -0.9710021 ,\n",
              "         -0.9712763 , -0.5259083 , -0.25909987,  0.8143038 , -0.8930033 ,\n",
              "         -0.9796769 , -0.75370854,  0.5982741 ,  0.99899095,  0.97802454,\n",
              "          0.7640096 , -0.17340016, -0.78364015,  0.31985572,  0.91941804,\n",
              "          0.20764104, -0.66356105, -0.9985482 , -0.18804795,  0.3416399 ,\n",
              "          0.943925  , -0.74548614, -0.9475803 ,  0.5442783 , -0.8275956 ,\n",
              "         -0.90875554, -0.99299407, -0.04293688,  0.6759688 , -0.817137  ,\n",
              "          0.9993109 , -0.9817662 ,  0.89400804, -0.9250237 ,  0.22651625,\n",
              "         -0.8855074 ,  0.15530711,  0.71103126, -0.25525263, -0.42743224,\n",
              "         -0.98270476, -0.3329963 ,  0.22490853,  0.60201895, -0.99772424,\n",
              "          0.86994594,  0.84242547, -0.83678323,  0.92017573,  0.82524765,\n",
              "          0.6610795 ,  0.40043324,  0.9982436 ,  0.6186704 , -0.46990767,\n",
              "          0.6347163 ,  0.90733063,  0.9894074 ,  0.25207594, -0.79641116,\n",
              "          0.6611734 , -0.2737553 , -0.49764675,  0.91331166, -0.0331826 ,\n",
              "         -0.89446855, -0.8917684 , -0.17912483,  0.8170025 ,  0.9694723 ,\n",
              "          0.99859214, -0.8924112 , -0.27152613,  0.4124385 ,  0.13834572,\n",
              "         -0.25359443,  0.0815138 ,  0.1587524 ,  0.80130774,  0.89184755,\n",
              "          0.31632924, -0.9817981 ,  0.19160397, -0.9993328 ,  0.9977571 ,\n",
              "          0.30700555,  0.5675385 , -0.99886155,  0.9616274 , -0.7142345 ,\n",
              "         -0.63370407,  0.8001375 ,  0.7616854 , -0.82984257,  0.3884117 ,\n",
              "         -0.68945974,  0.01377402, -0.5919856 ,  0.1869835 , -0.01799322,\n",
              "          0.94348353, -0.903093  ,  0.09274767,  0.996362  , -0.9345339 ,\n",
              "         -0.28239998,  0.8486212 , -0.9923161 ,  0.97265846, -0.94771   ,\n",
              "         -0.89533514,  0.17727186,  0.7187278 ,  0.95961624,  0.8748486 ,\n",
              "         -0.379273  ,  0.94223267, -0.5997176 ,  0.98668313, -0.98711437,\n",
              "         -0.32131225, -0.8014675 ,  0.9898977 ,  0.24123435, -0.9341534 ,\n",
              "         -0.6669357 ,  0.47087485,  0.29203197, -0.4180924 ,  0.9569484 ,\n",
              "          0.40861842, -0.22986913, -0.67684686, -0.86823344, -0.38063487,\n",
              "         -0.71050656, -0.39570278, -0.9807983 ,  0.24389017,  0.92485136,\n",
              "          0.04018239,  0.4331516 , -0.9404673 ,  0.9560984 , -0.8284344 ,\n",
              "         -0.72324824,  0.99593484, -0.67194545, -0.99901617,  0.49771604,\n",
              "         -0.11926687,  0.8724574 , -0.23883297, -0.04748438, -0.7593793 ,\n",
              "         -0.9543645 ,  0.7454405 ,  0.9488137 , -0.70929515, -0.8523743 ,\n",
              "         -0.61258817, -0.9077965 ,  0.08046514,  0.72687787,  0.5021856 ,\n",
              "          0.67071617, -0.07082719,  0.4330603 ,  0.5154569 , -0.9817487 ,\n",
              "          0.9306802 , -0.8663295 ,  0.4769075 , -0.563231  , -0.39417526,\n",
              "         -0.92785823, -0.9976591 ,  0.9989725 , -0.71770704,  0.9559955 ,\n",
              "         -0.9855332 ,  0.9329625 ,  0.48419797, -0.5781712 , -0.9919238 ,\n",
              "         -0.9420996 ,  0.9844605 , -0.8174648 ,  0.38817114, -0.9668904 ,\n",
              "          0.5145124 , -0.9888037 , -0.8514815 ,  0.2744525 , -0.5348087 ,\n",
              "         -0.86148655,  0.9970298 ,  0.90594596, -0.97939223,  0.41358447,\n",
              "          0.0951289 ,  0.2927667 ,  0.977039  ,  0.9806702 ,  0.2112276 ,\n",
              "         -0.77505285,  0.3312985 ,  0.24336323, -0.60539013, -0.9324512 ,\n",
              "         -0.99002326, -0.2533745 , -0.81969976,  0.9215689 , -0.22713839,\n",
              "         -0.72536105, -0.40062413,  0.9622084 ,  0.8000808 , -0.9904481 ,\n",
              "          0.9372555 ,  0.7259883 ,  0.4295579 ,  0.9990245 , -0.5545241 ,\n",
              "          0.9569669 , -0.91467065, -0.0890075 , -0.9217649 ,  0.9930001 ,\n",
              "         -0.9944061 ,  0.9829569 ,  0.9952475 ,  0.8634625 ,  0.9355933 ,\n",
              "         -0.9748965 , -0.5922759 ,  0.19653402,  0.3602236 ,  0.8923433 ,\n",
              "         -0.9866965 , -0.90820426, -0.9298228 ,  0.02998456,  0.18611485,\n",
              "          0.99915254, -0.17956066, -0.9139103 ,  0.9570404 ,  0.06092129,\n",
              "          0.6528002 , -0.86513823, -0.39823955,  0.8496855 ,  0.93350714,\n",
              "          0.39903316,  0.9948536 , -0.04995221,  0.7566275 , -0.2750187 ,\n",
              "         -0.83579594,  0.90330374,  0.42643037, -0.91642594, -0.8685966 ,\n",
              "          0.9937395 ,  0.26644835, -0.674164  , -0.61878246, -0.9388138 ,\n",
              "         -0.27222836,  0.96761054,  0.5252635 , -0.9282165 ,  0.95843464,\n",
              "          0.9470601 ,  0.8001632 , -0.38111687,  0.42078015, -0.9758184 ,\n",
              "         -0.9034062 ,  0.40059087, -0.9474731 ,  0.9940917 , -0.94615924,\n",
              "          0.39481464, -0.07182509, -0.04602806, -0.05541859,  0.8965178 ,\n",
              "         -0.97202843,  0.99607104,  0.2937659 , -0.983032  , -0.9377359 ,\n",
              "         -0.98159933, -0.9264897 , -0.292318  ]], dtype=float32))"
            ]
          },
          "metadata": {},
          "execution_count": 45
        }
      ]
    },
    {
      "cell_type": "markdown",
      "source": [
        "- (doc number, token number, vector dimensions)"
      ],
      "metadata": {
        "id": "W0Eg7RvSZIF5"
      }
    },
    {
      "cell_type": "code",
      "source": [
        "doc._.trf_data.tensors[0].shape"
      ],
      "metadata": {
        "colab": {
          "base_uri": "https://localhost:8080/"
        },
        "id": "l5ZwBQtaUYKt",
        "outputId": "a0a44548-605d-4165-f291-96e4960344d7"
      },
      "execution_count": 46,
      "outputs": [
        {
          "output_type": "execute_result",
          "data": {
            "text/plain": [
              "(1, 55, 768)"
            ]
          },
          "metadata": {},
          "execution_count": 46
        }
      ]
    },
    {
      "cell_type": "markdown",
      "source": [
        "- (doc number, vector dimensions)"
      ],
      "metadata": {
        "id": "H-EmeoIzZUJL"
      }
    },
    {
      "cell_type": "code",
      "source": [
        "doc._.trf_data.tensors[1].shape"
      ],
      "metadata": {
        "colab": {
          "base_uri": "https://localhost:8080/"
        },
        "id": "3vScETorZB6g",
        "outputId": "27b64c0c-336b-47b8-a205-460fcff450b6"
      },
      "execution_count": 47,
      "outputs": [
        {
          "output_type": "execute_result",
          "data": {
            "text/plain": [
              "(1, 768)"
            ]
          },
          "metadata": {},
          "execution_count": 47
        }
      ]
    },
    {
      "cell_type": "markdown",
      "source": [
        "Finally, here's how you get access to the overall vector of a document."
      ],
      "metadata": {
        "id": "tBMPZsJCX6Fh"
      }
    },
    {
      "cell_type": "code",
      "source": [
        "doc_vec = doc._.trf_data.tensors[1]\n",
        "type(dov_vec)"
      ],
      "metadata": {
        "colab": {
          "base_uri": "https://localhost:8080/"
        },
        "id": "dxrD6EucZ0Uq",
        "outputId": "8b8bea4b-55f5-40c0-e13f-ee3bebb69138"
      },
      "execution_count": 49,
      "outputs": [
        {
          "output_type": "execute_result",
          "data": {
            "text/plain": [
              "numpy.ndarray"
            ]
          },
          "metadata": {},
          "execution_count": 49
        }
      ]
    }
  ],
  "metadata": {
    "kernelspec": {
      "display_name": "Python 3",
      "language": "python",
      "name": "python3"
    },
    "language_info": {
      "codemirror_mode": {
        "name": "ipython",
        "version": 3
      },
      "file_extension": ".py",
      "mimetype": "text/x-python",
      "name": "python",
      "nbconvert_exporter": "python",
      "pygments_lexer": "ipython3",
      "version": "3.6.3"
    },
    "colab": {
      "name": "W05-transformer-and-text-similarity.ipynb",
      "provenance": [],
      "toc_visible": true,
      "collapsed_sections": [],
      "include_colab_link": true
    },
    "accelerator": "GPU"
  },
  "nbformat": 4,
  "nbformat_minor": 0
}