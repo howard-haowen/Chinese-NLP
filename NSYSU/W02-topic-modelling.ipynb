{
  "cells": [
    {
      "cell_type": "markdown",
      "metadata": {
        "id": "view-in-github",
        "colab_type": "text"
      },
      "source": [
        "<a href=\"https://colab.research.google.com/github/howard-haowen/NLP-demos/blob/main/NSYSU/W02-topic-modelling.ipynb\" target=\"_parent\"><img src=\"https://colab.research.google.com/assets/colab-badge.svg\" alt=\"Open In Colab\"/></a>"
      ]
    },
    {
      "cell_type": "markdown",
      "source": [
        "This notebook is adapted by [Haowen Jiang](https://howard-haowen.rohan.tw/) from [this one](https://github.com/explosion/spacy-notebooks/blob/master/notebooks/conference_notebooks/pydays/topic_modelling.ipynb) included in the [explosion\n",
        "/spacy-notebooks](https://github.com/explosion/spacy-notebooks) repo. It is meant for the 2022 [NLP Workshop at NSYSU](https://howard-haowen.rohan.tw/NLP-demos/nsysu_workshop)."
      ],
      "metadata": {
        "id": "jU5Ro2QwDLzD"
      }
    },
    {
      "cell_type": "code",
      "source": [
        "from datetime import date\n",
        "\n",
        "today = date.today()\n",
        "print(\"Last updated:\", today)"
      ],
      "metadata": {
        "colab": {
          "base_uri": "https://localhost:8080/"
        },
        "id": "gSR2qNyU-1JB",
        "outputId": "e21e89e4-3823-4807-a064-7bf18218fcc1"
      },
      "execution_count": 134,
      "outputs": [
        {
          "output_type": "stream",
          "name": "stdout",
          "text": [
            "Last updated: 2022-04-26\n"
          ]
        }
      ]
    },
    {
      "cell_type": "markdown",
      "source": [
        "# Topic Modelling with Gensim"
      ],
      "metadata": {
        "id": "ODaJRjqDFRBg"
      }
    },
    {
      "cell_type": "markdown",
      "metadata": {
        "collapsed": true,
        "deletable": true,
        "editable": true,
        "id": "SxSB8QGxY-zy"
      },
      "source": [
        "This tutorial will walk you through the entire process of analysing your text - from pre-processing to creating your topic models and visualising them. \n",
        "\n",
        "We will be needing: \n",
        "```\n",
        "- spaCy\n",
        "- gensim\n",
        "- matplotlib\n",
        "- pyLDAVis\n",
        "```\n"
      ]
    },
    {
      "cell_type": "markdown",
      "source": [
        "![](https://miro.medium.com/max/1400/1*jpytbqadO3FtdIyOjx2_yg.png)"
      ],
      "metadata": {
        "id": "LJx0IbUcFbdI"
      }
    },
    {
      "cell_type": "markdown",
      "source": [
        "## Dependencies"
      ],
      "metadata": {
        "id": "S_N6ZizVvxEi"
      }
    },
    {
      "cell_type": "code",
      "source": [
        "!pip install -U pip setuptools wheel\n",
        "!pip install -U spacy\n",
        "!python -m spacy download en_core_web_sm\n",
        "!pip install pyldavis"
      ],
      "metadata": {
        "id": "7n8Mad_wJ64H",
        "colab": {
          "base_uri": "https://localhost:8080/"
        },
        "outputId": "4581412d-c0a2-43c6-e469-61ac8794181f"
      },
      "execution_count": null,
      "outputs": [
        {
          "output_type": "stream",
          "name": "stdout",
          "text": [
            "Requirement already satisfied: pip in /usr/local/lib/python3.7/dist-packages (22.0.4)\n",
            "Requirement already satisfied: setuptools in /usr/local/lib/python3.7/dist-packages (62.1.0)\n",
            "Requirement already satisfied: wheel in /usr/local/lib/python3.7/dist-packages (0.37.1)\n",
            "\u001b[33mWARNING: Running pip as the 'root' user can result in broken permissions and conflicting behaviour with the system package manager. It is recommended to use a virtual environment instead: https://pip.pypa.io/warnings/venv\u001b[0m\u001b[33m\n",
            "\u001b[0mRequirement already satisfied: spacy in /usr/local/lib/python3.7/dist-packages (3.2.4)\n",
            "Requirement already satisfied: setuptools in /usr/local/lib/python3.7/dist-packages (from spacy) (62.1.0)\n",
            "Requirement already satisfied: spacy-legacy<3.1.0,>=3.0.8 in /usr/local/lib/python3.7/dist-packages (from spacy) (3.0.9)\n",
            "Requirement already satisfied: packaging>=20.0 in /usr/local/lib/python3.7/dist-packages (from spacy) (21.3)\n",
            "Requirement already satisfied: preshed<3.1.0,>=3.0.2 in /usr/local/lib/python3.7/dist-packages (from spacy) (3.0.6)\n",
            "Requirement already satisfied: tqdm<5.0.0,>=4.38.0 in /usr/local/lib/python3.7/dist-packages (from spacy) (4.64.0)\n",
            "Requirement already satisfied: jinja2 in /usr/local/lib/python3.7/dist-packages (from spacy) (2.11.3)\n",
            "Requirement already satisfied: spacy-loggers<2.0.0,>=1.0.0 in /usr/local/lib/python3.7/dist-packages (from spacy) (1.0.2)\n",
            "Requirement already satisfied: murmurhash<1.1.0,>=0.28.0 in /usr/local/lib/python3.7/dist-packages (from spacy) (1.0.6)\n",
            "Requirement already satisfied: wasabi<1.1.0,>=0.8.1 in /usr/local/lib/python3.7/dist-packages (from spacy) (0.9.1)\n",
            "Requirement already satisfied: click<8.1.0 in /usr/local/lib/python3.7/dist-packages (from spacy) (7.1.2)\n",
            "Requirement already satisfied: typing-extensions<4.0.0.0,>=3.7.4 in /usr/local/lib/python3.7/dist-packages (from spacy) (3.10.0.2)\n",
            "Requirement already satisfied: numpy>=1.15.0 in /usr/local/lib/python3.7/dist-packages (from spacy) (1.21.6)\n",
            "Requirement already satisfied: cymem<2.1.0,>=2.0.2 in /usr/local/lib/python3.7/dist-packages (from spacy) (2.0.6)\n",
            "Requirement already satisfied: pathy>=0.3.5 in /usr/local/lib/python3.7/dist-packages (from spacy) (0.6.1)\n",
            "Requirement already satisfied: langcodes<4.0.0,>=3.2.0 in /usr/local/lib/python3.7/dist-packages (from spacy) (3.3.0)\n",
            "Requirement already satisfied: typer<0.5.0,>=0.3.0 in /usr/local/lib/python3.7/dist-packages (from spacy) (0.4.1)\n",
            "Requirement already satisfied: thinc<8.1.0,>=8.0.12 in /usr/local/lib/python3.7/dist-packages (from spacy) (8.0.15)\n",
            "Requirement already satisfied: blis<0.8.0,>=0.4.0 in /usr/local/lib/python3.7/dist-packages (from spacy) (0.4.1)\n",
            "Requirement already satisfied: requests<3.0.0,>=2.13.0 in /usr/local/lib/python3.7/dist-packages (from spacy) (2.23.0)\n",
            "Requirement already satisfied: srsly<3.0.0,>=2.4.1 in /usr/local/lib/python3.7/dist-packages (from spacy) (2.4.3)\n",
            "Requirement already satisfied: catalogue<2.1.0,>=2.0.6 in /usr/local/lib/python3.7/dist-packages (from spacy) (2.0.7)\n",
            "Requirement already satisfied: pydantic!=1.8,!=1.8.1,<1.9.0,>=1.7.4 in /usr/local/lib/python3.7/dist-packages (from spacy) (1.8.2)\n",
            "Requirement already satisfied: zipp>=0.5 in /usr/local/lib/python3.7/dist-packages (from catalogue<2.1.0,>=2.0.6->spacy) (3.8.0)\n",
            "Requirement already satisfied: pyparsing!=3.0.5,>=2.0.2 in /usr/local/lib/python3.7/dist-packages (from packaging>=20.0->spacy) (3.0.8)\n",
            "Requirement already satisfied: smart-open<6.0.0,>=5.0.0 in /usr/local/lib/python3.7/dist-packages (from pathy>=0.3.5->spacy) (5.2.1)\n",
            "Requirement already satisfied: idna<3,>=2.5 in /usr/local/lib/python3.7/dist-packages (from requests<3.0.0,>=2.13.0->spacy) (2.10)\n",
            "Requirement already satisfied: certifi>=2017.4.17 in /usr/local/lib/python3.7/dist-packages (from requests<3.0.0,>=2.13.0->spacy) (2021.10.8)\n",
            "Requirement already satisfied: chardet<4,>=3.0.2 in /usr/local/lib/python3.7/dist-packages (from requests<3.0.0,>=2.13.0->spacy) (3.0.4)\n",
            "Requirement already satisfied: urllib3!=1.25.0,!=1.25.1,<1.26,>=1.21.1 in /usr/local/lib/python3.7/dist-packages (from requests<3.0.0,>=2.13.0->spacy) (1.24.3)\n",
            "Requirement already satisfied: MarkupSafe>=0.23 in /usr/local/lib/python3.7/dist-packages (from jinja2->spacy) (2.0.1)\n",
            "\u001b[33mWARNING: Running pip as the 'root' user can result in broken permissions and conflicting behaviour with the system package manager. It is recommended to use a virtual environment instead: https://pip.pypa.io/warnings/venv\u001b[0m\u001b[33m\n",
            "\u001b[0mCollecting en-core-web-sm==3.2.0\n",
            "  Downloading https://github.com/explosion/spacy-models/releases/download/en_core_web_sm-3.2.0/en_core_web_sm-3.2.0-py3-none-any.whl (13.9 MB)\n",
            "\u001b[2K     \u001b[90m━━━━━━━━━━━━━━━━━━━━━━━━━━━━━━━━━━━━━━━━\u001b[0m \u001b[32m13.9/13.9 MB\u001b[0m \u001b[31m57.1 MB/s\u001b[0m eta \u001b[36m0:00:00\u001b[0m\n",
            "\u001b[?25hRequirement already satisfied: spacy<3.3.0,>=3.2.0 in /usr/local/lib/python3.7/dist-packages (from en-core-web-sm==3.2.0) (3.2.4)\n",
            "Requirement already satisfied: preshed<3.1.0,>=3.0.2 in /usr/local/lib/python3.7/dist-packages (from spacy<3.3.0,>=3.2.0->en-core-web-sm==3.2.0) (3.0.6)\n",
            "Requirement already satisfied: srsly<3.0.0,>=2.4.1 in /usr/local/lib/python3.7/dist-packages (from spacy<3.3.0,>=3.2.0->en-core-web-sm==3.2.0) (2.4.3)\n",
            "Requirement already satisfied: pathy>=0.3.5 in /usr/local/lib/python3.7/dist-packages (from spacy<3.3.0,>=3.2.0->en-core-web-sm==3.2.0) (0.6.1)\n",
            "Requirement already satisfied: numpy>=1.15.0 in /usr/local/lib/python3.7/dist-packages (from spacy<3.3.0,>=3.2.0->en-core-web-sm==3.2.0) (1.21.6)\n",
            "Requirement already satisfied: jinja2 in /usr/local/lib/python3.7/dist-packages (from spacy<3.3.0,>=3.2.0->en-core-web-sm==3.2.0) (2.11.3)\n",
            "Requirement already satisfied: thinc<8.1.0,>=8.0.12 in /usr/local/lib/python3.7/dist-packages (from spacy<3.3.0,>=3.2.0->en-core-web-sm==3.2.0) (8.0.15)\n",
            "Requirement already satisfied: click<8.1.0 in /usr/local/lib/python3.7/dist-packages (from spacy<3.3.0,>=3.2.0->en-core-web-sm==3.2.0) (7.1.2)\n",
            "Requirement already satisfied: wasabi<1.1.0,>=0.8.1 in /usr/local/lib/python3.7/dist-packages (from spacy<3.3.0,>=3.2.0->en-core-web-sm==3.2.0) (0.9.1)\n",
            "Requirement already satisfied: murmurhash<1.1.0,>=0.28.0 in /usr/local/lib/python3.7/dist-packages (from spacy<3.3.0,>=3.2.0->en-core-web-sm==3.2.0) (1.0.6)\n",
            "Requirement already satisfied: requests<3.0.0,>=2.13.0 in /usr/local/lib/python3.7/dist-packages (from spacy<3.3.0,>=3.2.0->en-core-web-sm==3.2.0) (2.23.0)\n",
            "Requirement already satisfied: tqdm<5.0.0,>=4.38.0 in /usr/local/lib/python3.7/dist-packages (from spacy<3.3.0,>=3.2.0->en-core-web-sm==3.2.0) (4.64.0)\n",
            "Requirement already satisfied: typer<0.5.0,>=0.3.0 in /usr/local/lib/python3.7/dist-packages (from spacy<3.3.0,>=3.2.0->en-core-web-sm==3.2.0) (0.4.1)\n",
            "Requirement already satisfied: langcodes<4.0.0,>=3.2.0 in /usr/local/lib/python3.7/dist-packages (from spacy<3.3.0,>=3.2.0->en-core-web-sm==3.2.0) (3.3.0)\n",
            "Requirement already satisfied: pydantic!=1.8,!=1.8.1,<1.9.0,>=1.7.4 in /usr/local/lib/python3.7/dist-packages (from spacy<3.3.0,>=3.2.0->en-core-web-sm==3.2.0) (1.8.2)\n",
            "Requirement already satisfied: setuptools in /usr/local/lib/python3.7/dist-packages (from spacy<3.3.0,>=3.2.0->en-core-web-sm==3.2.0) (62.1.0)\n",
            "Requirement already satisfied: packaging>=20.0 in /usr/local/lib/python3.7/dist-packages (from spacy<3.3.0,>=3.2.0->en-core-web-sm==3.2.0) (21.3)\n",
            "Requirement already satisfied: spacy-loggers<2.0.0,>=1.0.0 in /usr/local/lib/python3.7/dist-packages (from spacy<3.3.0,>=3.2.0->en-core-web-sm==3.2.0) (1.0.2)\n",
            "Requirement already satisfied: cymem<2.1.0,>=2.0.2 in /usr/local/lib/python3.7/dist-packages (from spacy<3.3.0,>=3.2.0->en-core-web-sm==3.2.0) (2.0.6)\n",
            "Requirement already satisfied: blis<0.8.0,>=0.4.0 in /usr/local/lib/python3.7/dist-packages (from spacy<3.3.0,>=3.2.0->en-core-web-sm==3.2.0) (0.4.1)\n",
            "Requirement already satisfied: spacy-legacy<3.1.0,>=3.0.8 in /usr/local/lib/python3.7/dist-packages (from spacy<3.3.0,>=3.2.0->en-core-web-sm==3.2.0) (3.0.9)\n",
            "Requirement already satisfied: typing-extensions<4.0.0.0,>=3.7.4 in /usr/local/lib/python3.7/dist-packages (from spacy<3.3.0,>=3.2.0->en-core-web-sm==3.2.0) (3.10.0.2)\n",
            "Requirement already satisfied: catalogue<2.1.0,>=2.0.6 in /usr/local/lib/python3.7/dist-packages (from spacy<3.3.0,>=3.2.0->en-core-web-sm==3.2.0) (2.0.7)\n",
            "Requirement already satisfied: zipp>=0.5 in /usr/local/lib/python3.7/dist-packages (from catalogue<2.1.0,>=2.0.6->spacy<3.3.0,>=3.2.0->en-core-web-sm==3.2.0) (3.8.0)\n",
            "Requirement already satisfied: pyparsing!=3.0.5,>=2.0.2 in /usr/local/lib/python3.7/dist-packages (from packaging>=20.0->spacy<3.3.0,>=3.2.0->en-core-web-sm==3.2.0) (3.0.8)\n",
            "Requirement already satisfied: smart-open<6.0.0,>=5.0.0 in /usr/local/lib/python3.7/dist-packages (from pathy>=0.3.5->spacy<3.3.0,>=3.2.0->en-core-web-sm==3.2.0) (5.2.1)\n",
            "Requirement already satisfied: idna<3,>=2.5 in /usr/local/lib/python3.7/dist-packages (from requests<3.0.0,>=2.13.0->spacy<3.3.0,>=3.2.0->en-core-web-sm==3.2.0) (2.10)\n",
            "Requirement already satisfied: certifi>=2017.4.17 in /usr/local/lib/python3.7/dist-packages (from requests<3.0.0,>=2.13.0->spacy<3.3.0,>=3.2.0->en-core-web-sm==3.2.0) (2021.10.8)\n",
            "Requirement already satisfied: urllib3!=1.25.0,!=1.25.1,<1.26,>=1.21.1 in /usr/local/lib/python3.7/dist-packages (from requests<3.0.0,>=2.13.0->spacy<3.3.0,>=3.2.0->en-core-web-sm==3.2.0) (1.24.3)\n",
            "Requirement already satisfied: chardet<4,>=3.0.2 in /usr/local/lib/python3.7/dist-packages (from requests<3.0.0,>=2.13.0->spacy<3.3.0,>=3.2.0->en-core-web-sm==3.2.0) (3.0.4)\n",
            "Requirement already satisfied: MarkupSafe>=0.23 in /usr/local/lib/python3.7/dist-packages (from jinja2->spacy<3.3.0,>=3.2.0->en-core-web-sm==3.2.0) (2.0.1)\n",
            "\u001b[33mWARNING: Running pip as the 'root' user can result in broken permissions and conflicting behaviour with the system package manager. It is recommended to use a virtual environment instead: https://pip.pypa.io/warnings/venv\u001b[0m\u001b[33m\n",
            "\u001b[0m\u001b[38;5;2m✔ Download and installation successful\u001b[0m\n",
            "You can now load the package via spacy.load('en_core_web_sm')\n",
            "Requirement already satisfied: pyldavis in /usr/local/lib/python3.7/dist-packages (3.3.1)\n",
            "Requirement already satisfied: scikit-learn in /usr/local/lib/python3.7/dist-packages (from pyldavis) (1.0.2)\n",
            "Requirement already satisfied: scipy in /usr/local/lib/python3.7/dist-packages (from pyldavis) (1.4.1)\n",
            "Requirement already satisfied: numpy>=1.20.0 in /usr/local/lib/python3.7/dist-packages (from pyldavis) (1.21.6)\n",
            "Requirement already satisfied: sklearn in /usr/local/lib/python3.7/dist-packages (from pyldavis) (0.0)\n",
            "Requirement already satisfied: pandas>=1.2.0 in /usr/local/lib/python3.7/dist-packages (from pyldavis) (1.3.5)\n",
            "Requirement already satisfied: funcy in /usr/local/lib/python3.7/dist-packages (from pyldavis) (1.17)\n",
            "Requirement already satisfied: jinja2 in /usr/local/lib/python3.7/dist-packages (from pyldavis) (2.11.3)\n",
            "Requirement already satisfied: joblib in /usr/local/lib/python3.7/dist-packages (from pyldavis) (1.1.0)\n",
            "Requirement already satisfied: numexpr in /usr/local/lib/python3.7/dist-packages (from pyldavis) (2.8.1)\n",
            "Requirement already satisfied: setuptools in /usr/local/lib/python3.7/dist-packages (from pyldavis) (62.1.0)\n",
            "Requirement already satisfied: gensim in /usr/local/lib/python3.7/dist-packages (from pyldavis) (3.6.0)\n",
            "Requirement already satisfied: future in /usr/local/lib/python3.7/dist-packages (from pyldavis) (0.16.0)\n",
            "Requirement already satisfied: pytz>=2017.3 in /usr/local/lib/python3.7/dist-packages (from pandas>=1.2.0->pyldavis) (2022.1)\n",
            "Requirement already satisfied: python-dateutil>=2.7.3 in /usr/local/lib/python3.7/dist-packages (from pandas>=1.2.0->pyldavis) (2.8.2)\n",
            "Requirement already satisfied: six>=1.5.0 in /usr/local/lib/python3.7/dist-packages (from gensim->pyldavis) (1.15.0)\n",
            "Requirement already satisfied: smart-open>=1.2.1 in /usr/local/lib/python3.7/dist-packages (from gensim->pyldavis) (5.2.1)\n",
            "Requirement already satisfied: MarkupSafe>=0.23 in /usr/local/lib/python3.7/dist-packages (from jinja2->pyldavis) (2.0.1)\n",
            "Requirement already satisfied: packaging in /usr/local/lib/python3.7/dist-packages (from numexpr->pyldavis) (21.3)\n",
            "Requirement already satisfied: threadpoolctl>=2.0.0 in /usr/local/lib/python3.7/dist-packages (from scikit-learn->pyldavis) (3.1.0)\n",
            "Requirement already satisfied: pyparsing!=3.0.5,>=2.0.2 in /usr/local/lib/python3.7/dist-packages (from packaging->numexpr->pyldavis) (3.0.8)\n",
            "\u001b[33mWARNING: Running pip as the 'root' user can result in broken permissions and conflicting behaviour with the system package manager. It is recommended to use a virtual environment instead: https://pip.pypa.io/warnings/venv\u001b[0m\u001b[33m\n",
            "\u001b[0m"
          ]
        }
      ]
    },
    {
      "cell_type": "code",
      "execution_count": null,
      "metadata": {
        "id": "FTcSE2PCY-z3"
      },
      "outputs": [],
      "source": [
        "# NLP\n",
        "import spacy\n",
        "# corpus\n",
        "import nltk\n",
        "# topic modelling\n",
        "import gensim\n",
        "from gensim.models import LdaModel, HdpModel\n",
        "from gensim.corpora import Dictionary\n",
        "# visualization\n",
        "import pyLDAvis.gensim_models\n",
        "# tabularization of data\n",
        "import pandas as pd\n",
        "# others\n",
        "import warnings\n",
        "warnings.filterwarnings('ignore')  # Let's not pay heed to them right now"
      ]
    },
    {
      "cell_type": "code",
      "source": [
        "spacy.info()"
      ],
      "metadata": {
        "colab": {
          "base_uri": "https://localhost:8080/"
        },
        "id": "Bt0w-DpfLGxF",
        "outputId": "76114445-ac34-4e86-b566-dbbd5b70b72b"
      },
      "execution_count": null,
      "outputs": [
        {
          "output_type": "execute_result",
          "data": {
            "text/plain": [
              "{'location': '/usr/local/lib/python3.7/dist-packages/spacy',\n",
              " 'pipelines': {'en_core_web_sm': '3.2.0'},\n",
              " 'platform': 'Linux-5.4.144+-x86_64-with-Ubuntu-18.04-bionic',\n",
              " 'python_version': '3.7.13',\n",
              " 'spacy_version': '3.2.4'}"
            ]
          },
          "metadata": {},
          "execution_count": 58
        }
      ]
    },
    {
      "cell_type": "code",
      "source": [
        "pd.options.plotting.backend = \"plotly\""
      ],
      "metadata": {
        "id": "A2NNLUo-AwQA"
      },
      "execution_count": null,
      "outputs": []
    },
    {
      "cell_type": "markdown",
      "source": [
        "## Download the corpus"
      ],
      "metadata": {
        "id": "VmBcqDOMwEbs"
      }
    },
    {
      "cell_type": "markdown",
      "metadata": {
        "id": "kWWwZpWJY-z4"
      },
      "source": [
        "For this tutorial, we will be using the **Inaugural Address Corpus** from NLTK. Visit [here](http://www.nltk.org/nltk_data/) for a complete list of corpora accessible through NLTK.\n",
        "\n",
        "We should keep in mind we can use pretty much any textual dataset and go ahead with what we will be doing. "
      ]
    },
    {
      "cell_type": "code",
      "source": [
        "nltk.download('punkt')\n",
        "nltk.download('inaugural')"
      ],
      "metadata": {
        "colab": {
          "base_uri": "https://localhost:8080/"
        },
        "id": "7teNUstqAfwd",
        "outputId": "0532304f-75dd-41a5-dc2c-c7ce1d87dbf6"
      },
      "execution_count": null,
      "outputs": [
        {
          "output_type": "stream",
          "name": "stdout",
          "text": [
            "[nltk_data] Downloading package punkt to /root/nltk_data...\n",
            "[nltk_data]   Package punkt is already up-to-date!\n",
            "[nltk_data] Downloading package inaugural to /root/nltk_data...\n",
            "[nltk_data]   Package inaugural is already up-to-date!\n"
          ]
        },
        {
          "output_type": "execute_result",
          "data": {
            "text/plain": [
              "True"
            ]
          },
          "metadata": {},
          "execution_count": 60
        }
      ]
    },
    {
      "cell_type": "code",
      "source": [
        "from nltk.corpus import inaugural"
      ],
      "metadata": {
        "id": "tQD-l63F_NDo"
      },
      "execution_count": null,
      "outputs": []
    },
    {
      "cell_type": "code",
      "source": [
        "file_ids = inaugural.fileids()\n",
        "file_ids"
      ],
      "metadata": {
        "colab": {
          "base_uri": "https://localhost:8080/"
        },
        "id": "VSCsrnk0_OyL",
        "outputId": "40bbf867-2ab2-4802-8bf6-94584352673e"
      },
      "execution_count": null,
      "outputs": [
        {
          "output_type": "execute_result",
          "data": {
            "text/plain": [
              "['1789-Washington.txt',\n",
              " '1793-Washington.txt',\n",
              " '1797-Adams.txt',\n",
              " '1801-Jefferson.txt',\n",
              " '1805-Jefferson.txt',\n",
              " '1809-Madison.txt',\n",
              " '1813-Madison.txt',\n",
              " '1817-Monroe.txt',\n",
              " '1821-Monroe.txt',\n",
              " '1825-Adams.txt',\n",
              " '1829-Jackson.txt',\n",
              " '1833-Jackson.txt',\n",
              " '1837-VanBuren.txt',\n",
              " '1841-Harrison.txt',\n",
              " '1845-Polk.txt',\n",
              " '1849-Taylor.txt',\n",
              " '1853-Pierce.txt',\n",
              " '1857-Buchanan.txt',\n",
              " '1861-Lincoln.txt',\n",
              " '1865-Lincoln.txt',\n",
              " '1869-Grant.txt',\n",
              " '1873-Grant.txt',\n",
              " '1877-Hayes.txt',\n",
              " '1881-Garfield.txt',\n",
              " '1885-Cleveland.txt',\n",
              " '1889-Harrison.txt',\n",
              " '1893-Cleveland.txt',\n",
              " '1897-McKinley.txt',\n",
              " '1901-McKinley.txt',\n",
              " '1905-Roosevelt.txt',\n",
              " '1909-Taft.txt',\n",
              " '1913-Wilson.txt',\n",
              " '1917-Wilson.txt',\n",
              " '1921-Harding.txt',\n",
              " '1925-Coolidge.txt',\n",
              " '1929-Hoover.txt',\n",
              " '1933-Roosevelt.txt',\n",
              " '1937-Roosevelt.txt',\n",
              " '1941-Roosevelt.txt',\n",
              " '1945-Roosevelt.txt',\n",
              " '1949-Truman.txt',\n",
              " '1953-Eisenhower.txt',\n",
              " '1957-Eisenhower.txt',\n",
              " '1961-Kennedy.txt',\n",
              " '1965-Johnson.txt',\n",
              " '1969-Nixon.txt',\n",
              " '1973-Nixon.txt',\n",
              " '1977-Carter.txt',\n",
              " '1981-Reagan.txt',\n",
              " '1985-Reagan.txt',\n",
              " '1989-Bush.txt',\n",
              " '1993-Clinton.txt',\n",
              " '1997-Clinton.txt',\n",
              " '2001-Bush.txt',\n",
              " '2005-Bush.txt',\n",
              " '2009-Obama.txt',\n",
              " '2013-Obama.txt',\n",
              " '2017-Trump.txt',\n",
              " '2021-Biden.txt']"
            ]
          },
          "metadata": {},
          "execution_count": 62
        }
      ]
    },
    {
      "cell_type": "code",
      "source": [
        "len(file_ids)"
      ],
      "metadata": {
        "colab": {
          "base_uri": "https://localhost:8080/"
        },
        "id": "0yQCRFHUBltx",
        "outputId": "8a851209-d964-44e4-9ece-e15a6ce92ffa"
      },
      "execution_count": null,
      "outputs": [
        {
          "output_type": "execute_result",
          "data": {
            "text/plain": [
              "59"
            ]
          },
          "metadata": {},
          "execution_count": 63
        }
      ]
    },
    {
      "cell_type": "code",
      "source": [
        "#show the last speech, which is Biden's\n",
        "inaugural.raw(file_ids[-1])"
      ],
      "metadata": {
        "colab": {
          "base_uri": "https://localhost:8080/",
          "height": 260
        },
        "id": "VzduYFRk_Sgw",
        "outputId": "f25ec17c-3460-4a5b-c1aa-5394dc1e63bd"
      },
      "execution_count": null,
      "outputs": [
        {
          "output_type": "execute_result",
          "data": {
            "text/plain": [
              "'Chief Justice Roberts, Vice President Harris, Speaker Pelosi, Leader Schumer, Leader McConnell, Vice President Pence, and my distinguished guests, and my fellow Americans: This is America\\'s day. This is democracy\\'s day, a day of history and hope, of renewal and resolve. Through a crucible for the ages America has been tested anew, and America has risen to the challenge.\\n\\nToday we celebrate the triumph not of a candidate, but of a cause, the cause of democracy. The peopleâ\\x80\\x94the will of the people has been heard, and the will of the people has been heeded. We\\'ve learned again that democracy is precious, democracy is fragile. And at this hour, my friends, democracy has prevailed.\\n\\nSo now, on this hallowed ground where just a few days ago violence sought to shake the Capitol\\'s very foundation, we come together as one Nation under God, indivisible, to carry out the peaceful transfer of power as we have for more than two centuries. As we look ahead in our uniquely American wayâ\\x80\\x94restless, bold, optimisticâ\\x80\\x94and set our sights on the Nation we know we can be and we must be, I thank my predecessors of both parties for their presence here today. I thank them from the bottom of my heart. And I know the resilience of our Constitution and the strength, the strength of our Nation, as does President Carter, who I spoke with last night, who cannot be with us today, but whom we salute for his lifetime of service.\\n\\nI have just taken the sacred oath each of these patriots have taken, the oath first sworn by George Washington. But the American story depends not on any one of us, not on some of us, but on all of us, on \"We the People,\" who seek a more perfect Union.\\n\\nThis is a great Nation; we are good people. Over the centuries, through storm and strife, in peace and in war, we\\'ve come so far. But we still have far to go. We\\'ll press forward with speed and urgency, for we have much to do in this winter of peril and significant possibilities: much to repair, much to restore, much to heal, much to build, and much to gain.\\n\\nFew people in our Nation\\'s history have been more challenged or found a time more challenging or difficult than the time we\\'re in now. A once-in-a-century virus that silently stalks the country has taken as many lives in one year as America lost in all of World War II. Millions of jobs have been lost; hundreds of thousands of businesses closed. A cry for racial justice some 400 years in the making moves us. The dream of justice for all will be deferred no longer. A cry for survival comes from the planet itself, a cry that can\\'t be any more desperate or any more clear. And now, a rise of political extremism, White supremacy, domestic terrorism that we must confront and we will defeat.\\n\\nTo overcome these challengesâ\\x80\\x94to restore the soul and secure the future of Americaâ\\x80\\x94requires so much more than words. It requires the most elusive of all things in a democracy: unity. Unity.\\n\\nIn another January on New Year\\'s Day in 1863, Abraham Lincoln signed the Emancipation Proclamation. When he put pen to paper, the President said, and I quote, \"If my name ever goes down into history it will be for this act, and my whole soul is in it.\" My whole soul is in it.\\n\\nToday, on this January day, my whole soul is in this: bringing America together, uniting our people, uniting our Nation. And I ask every American to join me in this cause: uniting to fight the foes we face: anger, resentment, and hatred; extremism, lawlessness, violence; disease, joblessness, and hopelessness.\\n\\nWith unity we can do great things, important things. We can right wrongs. We can put people to work in good jobs. We can teach our children in safe schools. We can overcome the deadly virus. We can reward work and rebuild the middle class and make health care secure for all. We can deliver racial justice, and we can make America, once again, the leading force for good in the world.\\n\\nI know speaking of unity can sound to some like a foolish fantasy these days. I know the forces that divide us are deep and they are real. But I also know they are not new. Our history has been a constant struggle between the American ideal that we all are created equal and the harsh, ugly reality that racism, nativism, fear, demonization have long torn us apart. The battle is perennial. And victory is never assured.\\n\\nThrough the Civil War, the Great Depression, World War, 9/11, through struggle, sacrifice, and setbacks, our \"better angels\" have always prevailed. In each of these moments, enough of usâ\\x80\\x94enough of usâ\\x80\\x94have come together to carry all of us forward. And we can do that now. History, faith, and reason show the way: the way of unity.\\n\\nWe can see each other not as adversaries, but as neighbors. We can treat each other with dignity and respect. We can join forces, stop the shouting, and lower the temperature. For without unity, there is no peace, only bitterness and fury. No progress, only exhausting outrage. No nation, only a state of chaos.\\n\\nThis is our historic moment of crisis and challenge, and unity is the path forward. And we must meet this moment as the United States of America. If we do that, I guarantee you, we will not fail. We have never, ever, ever, ever failed in America when we have acted together.\\n\\nAnd so today, at this time, in this place, let\\'s start afresh, all of us. Let\\'s begin to listen to one another, hear one another, see one another, show respect to one another. Politics doesn\\'t have to be a raging fire destroying everything in its path. Every disagreement doesn\\'t have to be a cause for total war. And we must reject the culture in which facts themselves are manipulated and even manufactured.\\n\\nMy fellow Americans, we have to be different than this. America has to be better than this. And I believe America is so much better than this.\\n\\nJust look around. Here we stand, in the shadow of the Capitol dome, as was mentioned earlier, completed amid the Civil War, when the Union itself was literally hanging in the balance. Yet we endured, we prevailed.\\n\\nHere we stand looking out on the great Mall where Dr. King spoke of his dream.\\n\\nHere we stand, where 108 years ago, at another Inaugural, thousands of protesters tried to block brave women marching for the right to vote. And today we mark the swearing-in of the first woman in American history elected to national office: Vice President Kamala Harris. Don\\'t tell me things can\\'t change.\\n\\nHere we stand across the Potomac from Arlington Cemetery, where heroes who gave the last full measure of devotion rest in eternal peace.\\n\\nAnd here we stand, just days after a riotous mob thought they could use violence to silence the will of the people, to stop the work of our democracy, to drive us from this sacred ground. It did not happen. It will never happen, not today, not tomorrow, not everâ\\x80\\x94not ever.\\n\\nTo all those who supported our campaign, I am humbled by the faith you\\'ve placed in us. To all those who did not support us, let me say this: Hear me out as we move forward. Take a measure of me and my heart. And if you still disagree, so be it. That\\'s democracy. That\\'s America. The right to dissent peaceably, within the guardrails of our Republic, is perhaps this Nation\\'s greatest strength. Yet hear me clearly: Disagreement must not lead to disunion. And I pledge this to you: I will be a President for all Americansâ\\x80\\x94all Americans. And I promise you, I will fight as hard for those who did not support me as for those who did.\\n\\nMany centuries ago, Saint Augustine, a saint of my church, wrote that a people was a multitude defined by the common objects of their loveâ\\x80\\x94defined by the common objects of their love. What are the common objects we as Americans love? That define us as Americans? I think we know: opportunity, security, liberty, dignity, respect, honor, and yes, the truth.\\n\\nRecent weeks and months have taught us a painful lesson. There is truth, and there are lies: lies told for power and for profit. And each of us has a duty and a responsibility, as citizens, as Americans, and especially as leadersâ\\x80\\x94leaders who have pledged to honor our Constitution and protect our Nationâ\\x80\\x94to defend the truth and defeat the lies.\\n\\nLook, I understand that many of my fellow Americans view the future with fear and trepidation. I understand they worry about their jobs. I understand, like my dad, they lay at bed at night staring at the ceiling, wondering: \"Can I keep my health care? Can I pay my mortgage?\" Thinking about their families, about what comes next. I promise you, I get it. But the answer is not to turn inward, to retreat into competing factions, distrusting those who don\\'t look like you or worship the way you do or don\\'t get their news from the same sources you do. We must end this uncivil war that pits red against blue, rural versus urban, conservative versus liberal. We can do this if we open our souls instead of hardening our hearts, if we show a little tolerance and humility, and if we\\'re willing to stand in the other person\\'s shoes, as my mom would say, just for a moment. Stand in their shoes.\\n\\nBecause here is the thing about life: There is no accounting for what fate will deal you. Some days when you need a hand. There are other days when we\\'re called to lend a hand. That\\'s how it has to be. That is what we do for one another. And if we are this way, our country will be stronger, more prosperous, more ready for the future. And we can still disagree.\\n\\nMy fellow Americans, in the work ahead of us, we\\'re going to need each other. We need all our strength to persevere through this dark winter. We\\'re entering what may be the toughest and deadliest period of the virus. We must set aside politics and finally face this pandemic as one Nation. One Nation. And I promise you this: As the Bible says, \"Weeping may endure for a night, but joy cometh in the morning.\" We will get through this, togetherâ\\x80\\x94together.\\n\\nLook, folks, all my colleagues that I served with in the House and the Senate up here. We all understand the world is watching, watching all of us today. So here is my message to those beyond our borders: America has been tested, and we have come out stronger for it. We will repair our alliances and engage with the world once again, not to meet yesterday\\'s challenges, but today\\'s and tomorrow\\'s challenges. And we\\'ll lead not merely by the example of our power, but by the power of our example. We will be a strong and trusted partner for peace, progress, and security.\\n\\nLook, you all know, we have been through so much in this Nation. And, in my first act as President, I\\'d like to ask you to join me in a moment of silent prayer to remember all those we lost this past year to the pandemic, those 400,000 fellow Americans: moms, dads, husbands, wives, sons, daughters, friends, neighbors, and coworkers. We will honor them by becoming the people and Nation we know we can and should be.\\n\\nSo I ask you, let\\'s say a silent prayer for those who have lost their lives, for those they left behind, and for our country.\\n\\n[At this point, a moment of silence was observed.]\\n\\nAmen.\\n\\nFolks, this is a time of testing. We face an attack on our democracy and on truth, a raging virus, growing inequity, the sting of systemic racism, a climate in crisis, America\\'s role in the world. Any one of these would be enough to challenge us in profound ways. But the fact is, we face them all at once, presenting this Nation with one of the gravest of responsibilities we\\'ve had.\\n\\nNow we\\'re going to be tested. Are we going to step up? All of us? It is time for boldness, for there is so much to do. And this is certain, I promise you: We will be judged, you and I, by how we resolve these cascading crises of our era. Will we rise to the occasion, is the question. Will we master this rare and difficult hour? Will we meet our obligations and pass along a new and better world to our children? I believe we must; I\\'m sure you do as well. I believe we will.\\n\\nAnd when we do, we will write the next great chapter in the history of the United States of America: the American story, a story that might sound something like a song that means a lot to me. It\\'s called \"American Anthem,\" and there\\'s one verse that stands out, at least for me, and it goes like this:\\n\\n\"The work and prayers of centuries have brought us to this day\\nWhat shall be our legacy? What will our children say? . . .\\nLet me know in my heart when my days are through\\nAmerica, America, I gave my best to you.\"\\n\\nLet\\'s addâ\\x80\\x94let\\'s us add our own work and prayers to the unfolding story of our great Nation. If we do this, then when our days are through, our children and our children\\'s children will say of us: \"They gave their best. They did their duty. They healed a broken land.\"\\n\\nMy fellow Americans, I close today where I began, with a sacred oath. Before God and all of you I give you my word: I will always level with you. I will defend the Constitution. I will defend our democracy. I will defend America. And I will give all, all of you, keep everything youâ\\x80\\x94I do, in your service, thinking not of power, but of possibilities; not of personal interest, but of the public good. And together, we shall write an American story of hope, not fear; of unity, not division; of light, not darkness. A story of decency and dignity, love and healing, greatness and goodness.\\n\\nMay this be the story that guides us, the story that inspires us, and the story that tells ages yet to come that we answered the call of history, we met the moment; democracy and hope, truth and justice, did not die on our watch, but thrived; that America secured liberty at home and stood once again as a beacon to the world. That is what we owe our forebearers, one another, and generations to follow.\\n\\nSo with purpose and resolve we turn to those tasks of our time, sustained by faith, driven by conviction, and devoted to one another and the country we love with all our hearts.\\n\\nMay God bless America, and may God protect our troops. Thank you, America.\\n'"
            ],
            "application/vnd.google.colaboratory.intrinsic+json": {
              "type": "string"
            }
          },
          "metadata": {},
          "execution_count": 64
        }
      ]
    },
    {
      "cell_type": "markdown",
      "source": [
        "### Tabularize the dataset"
      ],
      "metadata": {
        "id": "Ns7tXpwFAaBg"
      }
    },
    {
      "cell_type": "code",
      "source": [
        "years = [id[:4] for id in file_ids]\n",
        "presidents = [id[5:].replace(\".txt\", \"\") for id in file_ids]\n",
        "texts = [inaugural.raw(id) for id in file_ids]\n",
        "df = pd.DataFrame(\n",
        "    {\n",
        "        \"year\": years,\n",
        "        \"president\": presidents,\n",
        "        \"text\": texts,\n",
        "    }\n",
        ")"
      ],
      "metadata": {
        "id": "sYu4qa23A968"
      },
      "execution_count": null,
      "outputs": []
    },
    {
      "cell_type": "code",
      "source": [
        "df.set_index(\"year\", inplace=True)\n",
        "df.index = df.index.astype(int)\n",
        "df"
      ],
      "metadata": {
        "colab": {
          "base_uri": "https://localhost:8080/",
          "height": 1000
        },
        "id": "Cr4zbqQTsarW",
        "outputId": "d44ec3f4-a061-4b5e-ed68-062bfe1377e9"
      },
      "execution_count": null,
      "outputs": [
        {
          "output_type": "execute_result",
          "data": {
            "text/plain": [
              "       president                                               text\n",
              "year                                                               \n",
              "1789  Washington  Fellow-Citizens of the Senate and of the House...\n",
              "1793  Washington  Fellow citizens, I am again called upon by the...\n",
              "1797       Adams  When it was first perceived, in early times, t...\n",
              "1801   Jefferson  Friends and Fellow Citizens:\\n\\nCalled upon to...\n",
              "1805   Jefferson  Proceeding, fellow citizens, to that qualifica...\n",
              "1809     Madison  Unwilling to depart from examples of the most ...\n",
              "1813     Madison  About to add the solemnity of an oath to the o...\n",
              "1817      Monroe  I should be destitute of feeling if I was not ...\n",
              "1821      Monroe  Fellow citizens, I shall not attempt to descri...\n",
              "1825       Adams  In compliance with an usage coeval with the ex...\n",
              "1829     Jackson  Fellow citizens, about to undertake the arduou...\n",
              "1833     Jackson  Fellow citizens, the will of the American peop...\n",
              "1837    VanBuren  Fellow citizens: The practice of all my predec...\n",
              "1841    Harrison  Called from a retirement which I had supposed ...\n",
              "1845        Polk  Fellow citizens, without solicitation on my pa...\n",
              "1849      Taylor  Elected by the American people to the highest ...\n",
              "1853      Pierce  My Countrymen, It a relief to feel that no hea...\n",
              "1857    Buchanan  Fellow citizens, I appear before you this day ...\n",
              "1861     Lincoln  Fellow-Citizens of the United States: In compl...\n",
              "1865     Lincoln  Fellow-Countrymen:\\n\\nAt this second appearing...\n",
              "1869       Grant  Citizens of the United States:\\n\\nYour suffrag...\n",
              "1873       Grant  Fellow-Citizens:\\n\\nUnder Providence I have be...\n",
              "1877       Hayes  Fellow citizens, we have assembled to repeat t...\n",
              "1881    Garfield  Fellow-Citizens:\\n\\nWe stand to-day upon an em...\n",
              "1885   Cleveland  Fellow citizens, in the presence of this vast ...\n",
              "1889    Harrison  Fellow-Citizens, there is no constitutional or...\n",
              "1893   Cleveland  My Fellow citizens, in obedience of the mandat...\n",
              "1897    McKinley  Fellow citizens, In obedience to the will of t...\n",
              "1901    McKinley  My fellow-citizens, when we assembled here on ...\n",
              "1905   Roosevelt  My fellow citizens, no people on earth have mo...\n",
              "1909        Taft  My fellow citizens: Anyone who has taken the o...\n",
              "1913      Wilson  There has been a change of government. It bega...\n",
              "1917      Wilson  My Fellow citizens: The four years which have ...\n",
              "1921     Harding  My Countrymen:\\n\\nWhen one surveys the world a...\n",
              "1925    Coolidge  My countrymen,\\n\\nno one can contemplate curre...\n",
              "1929      Hoover  My Countrymen: This occasion is not alone the ...\n",
              "1933   Roosevelt  I am certain that my fellow Americans expect t...\n",
              "1937   Roosevelt  When four years ago we met to inaugurate a Pre...\n",
              "1941   Roosevelt  On each national day of inauguration since 178...\n",
              "1945   Roosevelt  Chief Justice, Mr. Vice President, my friends,...\n",
              "1949      Truman  Mr. Vice President, Mr. Chief Justice, and fel...\n",
              "1953  Eisenhower  My friends, before I begin the expression of t...\n",
              "1957  Eisenhower  The Price of Peace\\nMr. Chairman, Mr. Vice Pre...\n",
              "1961     Kennedy  Vice President Johnson, Mr. Speaker, Mr. Chief...\n",
              "1965     Johnson  My fellow countrymen, on this occasion, the oa...\n",
              "1969       Nixon  Senator Dirksen, Mr. Chief Justice, Mr. Vice P...\n",
              "1973       Nixon  Mr. Vice President, Mr. Speaker, Mr. Chief Jus...\n",
              "1977      Carter  For myself and for our Nation, I want to thank...\n",
              "1981      Reagan  Senator Hatfield, Mr. Chief Justice, Mr. Presi...\n",
              "1985      Reagan  Senator Mathias, Chief Justice Burger, Vice Pr...\n",
              "1989        Bush  Mr. Chief Justice, Mr. President, Vice Preside...\n",
              "1993     Clinton  My fellow citizens, today we celebrate the mys...\n",
              "1997     Clinton  My fellow citizens: At this last presidential ...\n",
              "2001        Bush  President Clinton, distinguished guests and my...\n",
              "2005        Bush  Vice President Cheney, Mr. Chief Justice, Pres...\n",
              "2009       Obama  My fellow citizens:\\n\\nI stand here today humb...\n",
              "2013       Obama  Thank you. Thank you so much.\\n\\nVice Presiden...\n",
              "2017       Trump  Chief Justice Roberts, President Carter, Presi...\n",
              "2021       Biden  Chief Justice Roberts, Vice President Harris, ..."
            ],
            "text/html": [
              "\n",
              "  <div id=\"df-9dd14d57-255a-414d-be30-9d5956649768\">\n",
              "    <div class=\"colab-df-container\">\n",
              "      <div>\n",
              "<style scoped>\n",
              "    .dataframe tbody tr th:only-of-type {\n",
              "        vertical-align: middle;\n",
              "    }\n",
              "\n",
              "    .dataframe tbody tr th {\n",
              "        vertical-align: top;\n",
              "    }\n",
              "\n",
              "    .dataframe thead th {\n",
              "        text-align: right;\n",
              "    }\n",
              "</style>\n",
              "<table border=\"1\" class=\"dataframe\">\n",
              "  <thead>\n",
              "    <tr style=\"text-align: right;\">\n",
              "      <th></th>\n",
              "      <th>president</th>\n",
              "      <th>text</th>\n",
              "    </tr>\n",
              "    <tr>\n",
              "      <th>year</th>\n",
              "      <th></th>\n",
              "      <th></th>\n",
              "    </tr>\n",
              "  </thead>\n",
              "  <tbody>\n",
              "    <tr>\n",
              "      <th>1789</th>\n",
              "      <td>Washington</td>\n",
              "      <td>Fellow-Citizens of the Senate and of the House...</td>\n",
              "    </tr>\n",
              "    <tr>\n",
              "      <th>1793</th>\n",
              "      <td>Washington</td>\n",
              "      <td>Fellow citizens, I am again called upon by the...</td>\n",
              "    </tr>\n",
              "    <tr>\n",
              "      <th>1797</th>\n",
              "      <td>Adams</td>\n",
              "      <td>When it was first perceived, in early times, t...</td>\n",
              "    </tr>\n",
              "    <tr>\n",
              "      <th>1801</th>\n",
              "      <td>Jefferson</td>\n",
              "      <td>Friends and Fellow Citizens:\\n\\nCalled upon to...</td>\n",
              "    </tr>\n",
              "    <tr>\n",
              "      <th>1805</th>\n",
              "      <td>Jefferson</td>\n",
              "      <td>Proceeding, fellow citizens, to that qualifica...</td>\n",
              "    </tr>\n",
              "    <tr>\n",
              "      <th>1809</th>\n",
              "      <td>Madison</td>\n",
              "      <td>Unwilling to depart from examples of the most ...</td>\n",
              "    </tr>\n",
              "    <tr>\n",
              "      <th>1813</th>\n",
              "      <td>Madison</td>\n",
              "      <td>About to add the solemnity of an oath to the o...</td>\n",
              "    </tr>\n",
              "    <tr>\n",
              "      <th>1817</th>\n",
              "      <td>Monroe</td>\n",
              "      <td>I should be destitute of feeling if I was not ...</td>\n",
              "    </tr>\n",
              "    <tr>\n",
              "      <th>1821</th>\n",
              "      <td>Monroe</td>\n",
              "      <td>Fellow citizens, I shall not attempt to descri...</td>\n",
              "    </tr>\n",
              "    <tr>\n",
              "      <th>1825</th>\n",
              "      <td>Adams</td>\n",
              "      <td>In compliance with an usage coeval with the ex...</td>\n",
              "    </tr>\n",
              "    <tr>\n",
              "      <th>1829</th>\n",
              "      <td>Jackson</td>\n",
              "      <td>Fellow citizens, about to undertake the arduou...</td>\n",
              "    </tr>\n",
              "    <tr>\n",
              "      <th>1833</th>\n",
              "      <td>Jackson</td>\n",
              "      <td>Fellow citizens, the will of the American peop...</td>\n",
              "    </tr>\n",
              "    <tr>\n",
              "      <th>1837</th>\n",
              "      <td>VanBuren</td>\n",
              "      <td>Fellow citizens: The practice of all my predec...</td>\n",
              "    </tr>\n",
              "    <tr>\n",
              "      <th>1841</th>\n",
              "      <td>Harrison</td>\n",
              "      <td>Called from a retirement which I had supposed ...</td>\n",
              "    </tr>\n",
              "    <tr>\n",
              "      <th>1845</th>\n",
              "      <td>Polk</td>\n",
              "      <td>Fellow citizens, without solicitation on my pa...</td>\n",
              "    </tr>\n",
              "    <tr>\n",
              "      <th>1849</th>\n",
              "      <td>Taylor</td>\n",
              "      <td>Elected by the American people to the highest ...</td>\n",
              "    </tr>\n",
              "    <tr>\n",
              "      <th>1853</th>\n",
              "      <td>Pierce</td>\n",
              "      <td>My Countrymen, It a relief to feel that no hea...</td>\n",
              "    </tr>\n",
              "    <tr>\n",
              "      <th>1857</th>\n",
              "      <td>Buchanan</td>\n",
              "      <td>Fellow citizens, I appear before you this day ...</td>\n",
              "    </tr>\n",
              "    <tr>\n",
              "      <th>1861</th>\n",
              "      <td>Lincoln</td>\n",
              "      <td>Fellow-Citizens of the United States: In compl...</td>\n",
              "    </tr>\n",
              "    <tr>\n",
              "      <th>1865</th>\n",
              "      <td>Lincoln</td>\n",
              "      <td>Fellow-Countrymen:\\n\\nAt this second appearing...</td>\n",
              "    </tr>\n",
              "    <tr>\n",
              "      <th>1869</th>\n",
              "      <td>Grant</td>\n",
              "      <td>Citizens of the United States:\\n\\nYour suffrag...</td>\n",
              "    </tr>\n",
              "    <tr>\n",
              "      <th>1873</th>\n",
              "      <td>Grant</td>\n",
              "      <td>Fellow-Citizens:\\n\\nUnder Providence I have be...</td>\n",
              "    </tr>\n",
              "    <tr>\n",
              "      <th>1877</th>\n",
              "      <td>Hayes</td>\n",
              "      <td>Fellow citizens, we have assembled to repeat t...</td>\n",
              "    </tr>\n",
              "    <tr>\n",
              "      <th>1881</th>\n",
              "      <td>Garfield</td>\n",
              "      <td>Fellow-Citizens:\\n\\nWe stand to-day upon an em...</td>\n",
              "    </tr>\n",
              "    <tr>\n",
              "      <th>1885</th>\n",
              "      <td>Cleveland</td>\n",
              "      <td>Fellow citizens, in the presence of this vast ...</td>\n",
              "    </tr>\n",
              "    <tr>\n",
              "      <th>1889</th>\n",
              "      <td>Harrison</td>\n",
              "      <td>Fellow-Citizens, there is no constitutional or...</td>\n",
              "    </tr>\n",
              "    <tr>\n",
              "      <th>1893</th>\n",
              "      <td>Cleveland</td>\n",
              "      <td>My Fellow citizens, in obedience of the mandat...</td>\n",
              "    </tr>\n",
              "    <tr>\n",
              "      <th>1897</th>\n",
              "      <td>McKinley</td>\n",
              "      <td>Fellow citizens, In obedience to the will of t...</td>\n",
              "    </tr>\n",
              "    <tr>\n",
              "      <th>1901</th>\n",
              "      <td>McKinley</td>\n",
              "      <td>My fellow-citizens, when we assembled here on ...</td>\n",
              "    </tr>\n",
              "    <tr>\n",
              "      <th>1905</th>\n",
              "      <td>Roosevelt</td>\n",
              "      <td>My fellow citizens, no people on earth have mo...</td>\n",
              "    </tr>\n",
              "    <tr>\n",
              "      <th>1909</th>\n",
              "      <td>Taft</td>\n",
              "      <td>My fellow citizens: Anyone who has taken the o...</td>\n",
              "    </tr>\n",
              "    <tr>\n",
              "      <th>1913</th>\n",
              "      <td>Wilson</td>\n",
              "      <td>There has been a change of government. It bega...</td>\n",
              "    </tr>\n",
              "    <tr>\n",
              "      <th>1917</th>\n",
              "      <td>Wilson</td>\n",
              "      <td>My Fellow citizens: The four years which have ...</td>\n",
              "    </tr>\n",
              "    <tr>\n",
              "      <th>1921</th>\n",
              "      <td>Harding</td>\n",
              "      <td>My Countrymen:\\n\\nWhen one surveys the world a...</td>\n",
              "    </tr>\n",
              "    <tr>\n",
              "      <th>1925</th>\n",
              "      <td>Coolidge</td>\n",
              "      <td>My countrymen,\\n\\nno one can contemplate curre...</td>\n",
              "    </tr>\n",
              "    <tr>\n",
              "      <th>1929</th>\n",
              "      <td>Hoover</td>\n",
              "      <td>My Countrymen: This occasion is not alone the ...</td>\n",
              "    </tr>\n",
              "    <tr>\n",
              "      <th>1933</th>\n",
              "      <td>Roosevelt</td>\n",
              "      <td>I am certain that my fellow Americans expect t...</td>\n",
              "    </tr>\n",
              "    <tr>\n",
              "      <th>1937</th>\n",
              "      <td>Roosevelt</td>\n",
              "      <td>When four years ago we met to inaugurate a Pre...</td>\n",
              "    </tr>\n",
              "    <tr>\n",
              "      <th>1941</th>\n",
              "      <td>Roosevelt</td>\n",
              "      <td>On each national day of inauguration since 178...</td>\n",
              "    </tr>\n",
              "    <tr>\n",
              "      <th>1945</th>\n",
              "      <td>Roosevelt</td>\n",
              "      <td>Chief Justice, Mr. Vice President, my friends,...</td>\n",
              "    </tr>\n",
              "    <tr>\n",
              "      <th>1949</th>\n",
              "      <td>Truman</td>\n",
              "      <td>Mr. Vice President, Mr. Chief Justice, and fel...</td>\n",
              "    </tr>\n",
              "    <tr>\n",
              "      <th>1953</th>\n",
              "      <td>Eisenhower</td>\n",
              "      <td>My friends, before I begin the expression of t...</td>\n",
              "    </tr>\n",
              "    <tr>\n",
              "      <th>1957</th>\n",
              "      <td>Eisenhower</td>\n",
              "      <td>The Price of Peace\\nMr. Chairman, Mr. Vice Pre...</td>\n",
              "    </tr>\n",
              "    <tr>\n",
              "      <th>1961</th>\n",
              "      <td>Kennedy</td>\n",
              "      <td>Vice President Johnson, Mr. Speaker, Mr. Chief...</td>\n",
              "    </tr>\n",
              "    <tr>\n",
              "      <th>1965</th>\n",
              "      <td>Johnson</td>\n",
              "      <td>My fellow countrymen, on this occasion, the oa...</td>\n",
              "    </tr>\n",
              "    <tr>\n",
              "      <th>1969</th>\n",
              "      <td>Nixon</td>\n",
              "      <td>Senator Dirksen, Mr. Chief Justice, Mr. Vice P...</td>\n",
              "    </tr>\n",
              "    <tr>\n",
              "      <th>1973</th>\n",
              "      <td>Nixon</td>\n",
              "      <td>Mr. Vice President, Mr. Speaker, Mr. Chief Jus...</td>\n",
              "    </tr>\n",
              "    <tr>\n",
              "      <th>1977</th>\n",
              "      <td>Carter</td>\n",
              "      <td>For myself and for our Nation, I want to thank...</td>\n",
              "    </tr>\n",
              "    <tr>\n",
              "      <th>1981</th>\n",
              "      <td>Reagan</td>\n",
              "      <td>Senator Hatfield, Mr. Chief Justice, Mr. Presi...</td>\n",
              "    </tr>\n",
              "    <tr>\n",
              "      <th>1985</th>\n",
              "      <td>Reagan</td>\n",
              "      <td>Senator Mathias, Chief Justice Burger, Vice Pr...</td>\n",
              "    </tr>\n",
              "    <tr>\n",
              "      <th>1989</th>\n",
              "      <td>Bush</td>\n",
              "      <td>Mr. Chief Justice, Mr. President, Vice Preside...</td>\n",
              "    </tr>\n",
              "    <tr>\n",
              "      <th>1993</th>\n",
              "      <td>Clinton</td>\n",
              "      <td>My fellow citizens, today we celebrate the mys...</td>\n",
              "    </tr>\n",
              "    <tr>\n",
              "      <th>1997</th>\n",
              "      <td>Clinton</td>\n",
              "      <td>My fellow citizens: At this last presidential ...</td>\n",
              "    </tr>\n",
              "    <tr>\n",
              "      <th>2001</th>\n",
              "      <td>Bush</td>\n",
              "      <td>President Clinton, distinguished guests and my...</td>\n",
              "    </tr>\n",
              "    <tr>\n",
              "      <th>2005</th>\n",
              "      <td>Bush</td>\n",
              "      <td>Vice President Cheney, Mr. Chief Justice, Pres...</td>\n",
              "    </tr>\n",
              "    <tr>\n",
              "      <th>2009</th>\n",
              "      <td>Obama</td>\n",
              "      <td>My fellow citizens:\\n\\nI stand here today humb...</td>\n",
              "    </tr>\n",
              "    <tr>\n",
              "      <th>2013</th>\n",
              "      <td>Obama</td>\n",
              "      <td>Thank you. Thank you so much.\\n\\nVice Presiden...</td>\n",
              "    </tr>\n",
              "    <tr>\n",
              "      <th>2017</th>\n",
              "      <td>Trump</td>\n",
              "      <td>Chief Justice Roberts, President Carter, Presi...</td>\n",
              "    </tr>\n",
              "    <tr>\n",
              "      <th>2021</th>\n",
              "      <td>Biden</td>\n",
              "      <td>Chief Justice Roberts, Vice President Harris, ...</td>\n",
              "    </tr>\n",
              "  </tbody>\n",
              "</table>\n",
              "</div>\n",
              "      <button class=\"colab-df-convert\" onclick=\"convertToInteractive('df-9dd14d57-255a-414d-be30-9d5956649768')\"\n",
              "              title=\"Convert this dataframe to an interactive table.\"\n",
              "              style=\"display:none;\">\n",
              "        \n",
              "  <svg xmlns=\"http://www.w3.org/2000/svg\" height=\"24px\"viewBox=\"0 0 24 24\"\n",
              "       width=\"24px\">\n",
              "    <path d=\"M0 0h24v24H0V0z\" fill=\"none\"/>\n",
              "    <path d=\"M18.56 5.44l.94 2.06.94-2.06 2.06-.94-2.06-.94-.94-2.06-.94 2.06-2.06.94zm-11 1L8.5 8.5l.94-2.06 2.06-.94-2.06-.94L8.5 2.5l-.94 2.06-2.06.94zm10 10l.94 2.06.94-2.06 2.06-.94-2.06-.94-.94-2.06-.94 2.06-2.06.94z\"/><path d=\"M17.41 7.96l-1.37-1.37c-.4-.4-.92-.59-1.43-.59-.52 0-1.04.2-1.43.59L10.3 9.45l-7.72 7.72c-.78.78-.78 2.05 0 2.83L4 21.41c.39.39.9.59 1.41.59.51 0 1.02-.2 1.41-.59l7.78-7.78 2.81-2.81c.8-.78.8-2.07 0-2.86zM5.41 20L4 18.59l7.72-7.72 1.47 1.35L5.41 20z\"/>\n",
              "  </svg>\n",
              "      </button>\n",
              "      \n",
              "  <style>\n",
              "    .colab-df-container {\n",
              "      display:flex;\n",
              "      flex-wrap:wrap;\n",
              "      gap: 12px;\n",
              "    }\n",
              "\n",
              "    .colab-df-convert {\n",
              "      background-color: #E8F0FE;\n",
              "      border: none;\n",
              "      border-radius: 50%;\n",
              "      cursor: pointer;\n",
              "      display: none;\n",
              "      fill: #1967D2;\n",
              "      height: 32px;\n",
              "      padding: 0 0 0 0;\n",
              "      width: 32px;\n",
              "    }\n",
              "\n",
              "    .colab-df-convert:hover {\n",
              "      background-color: #E2EBFA;\n",
              "      box-shadow: 0px 1px 2px rgba(60, 64, 67, 0.3), 0px 1px 3px 1px rgba(60, 64, 67, 0.15);\n",
              "      fill: #174EA6;\n",
              "    }\n",
              "\n",
              "    [theme=dark] .colab-df-convert {\n",
              "      background-color: #3B4455;\n",
              "      fill: #D2E3FC;\n",
              "    }\n",
              "\n",
              "    [theme=dark] .colab-df-convert:hover {\n",
              "      background-color: #434B5C;\n",
              "      box-shadow: 0px 1px 3px 1px rgba(0, 0, 0, 0.15);\n",
              "      filter: drop-shadow(0px 1px 2px rgba(0, 0, 0, 0.3));\n",
              "      fill: #FFFFFF;\n",
              "    }\n",
              "  </style>\n",
              "\n",
              "      <script>\n",
              "        const buttonEl =\n",
              "          document.querySelector('#df-9dd14d57-255a-414d-be30-9d5956649768 button.colab-df-convert');\n",
              "        buttonEl.style.display =\n",
              "          google.colab.kernel.accessAllowed ? 'block' : 'none';\n",
              "\n",
              "        async function convertToInteractive(key) {\n",
              "          const element = document.querySelector('#df-9dd14d57-255a-414d-be30-9d5956649768');\n",
              "          const dataTable =\n",
              "            await google.colab.kernel.invokeFunction('convertToInteractive',\n",
              "                                                     [key], {});\n",
              "          if (!dataTable) return;\n",
              "\n",
              "          const docLinkHtml = 'Like what you see? Visit the ' +\n",
              "            '<a target=\"_blank\" href=https://colab.research.google.com/notebooks/data_table.ipynb>data table notebook</a>'\n",
              "            + ' to learn more about interactive tables.';\n",
              "          element.innerHTML = '';\n",
              "          dataTable['output_type'] = 'display_data';\n",
              "          await google.colab.output.renderOutput(dataTable, element);\n",
              "          const docLink = document.createElement('div');\n",
              "          docLink.innerHTML = docLinkHtml;\n",
              "          element.appendChild(docLink);\n",
              "        }\n",
              "      </script>\n",
              "    </div>\n",
              "  </div>\n",
              "  "
            ]
          },
          "metadata": {},
          "execution_count": 66
        }
      ]
    },
    {
      "cell_type": "code",
      "source": [
        "df.text.apply(len).plot()"
      ],
      "metadata": {
        "colab": {
          "base_uri": "https://localhost:8080/",
          "height": 542
        },
        "id": "715b2NpCAzCd",
        "outputId": "ccd07e8c-e278-403a-ebe4-7130c7b317f0"
      },
      "execution_count": null,
      "outputs": [
        {
          "output_type": "display_data",
          "data": {
            "text/html": [
              "<html>\n",
              "<head><meta charset=\"utf-8\" /></head>\n",
              "<body>\n",
              "    <div>            <script src=\"https://cdnjs.cloudflare.com/ajax/libs/mathjax/2.7.5/MathJax.js?config=TeX-AMS-MML_SVG\"></script><script type=\"text/javascript\">if (window.MathJax) {MathJax.Hub.Config({SVG: {font: \"STIX-Web\"}});}</script>                <script type=\"text/javascript\">window.PlotlyConfig = {MathJaxConfig: 'local'};</script>\n",
              "        <script src=\"https://cdn.plot.ly/plotly-2.8.3.min.js\"></script>                <div id=\"d6f3e82a-0233-46b1-a6d3-7719458000ea\" class=\"plotly-graph-div\" style=\"height:525px; width:100%;\"></div>            <script type=\"text/javascript\">                                    window.PLOTLYENV=window.PLOTLYENV || {};                                    if (document.getElementById(\"d6f3e82a-0233-46b1-a6d3-7719458000ea\")) {                    Plotly.newPlot(                        \"d6f3e82a-0233-46b1-a6d3-7719458000ea\",                        [{\"hovertemplate\":\"variable=text<br>year=%{x}<br>value=%{y}<extra></extra>\",\"legendgroup\":\"text\",\"line\":{\"color\":\"#636efa\",\"dash\":\"solid\"},\"marker\":{\"symbol\":\"circle\"},\"mode\":\"lines\",\"name\":\"text\",\"orientation\":\"v\",\"showlegend\":true,\"x\":[1789,1793,1797,1801,1805,1809,1813,1817,1821,1825,1829,1833,1837,1841,1845,1849,1853,1857,1861,1865,1869,1873,1877,1881,1885,1889,1893,1897,1901,1905,1909,1913,1917,1921,1925,1929,1933,1937,1941,1945,1949,1953,1957,1961,1965,1969,1973,1977,1981,1985,1989,1993,1997,2001,2005,2009,2013,2017,2021],\"xaxis\":\"x\",\"y\":[8619,791,13877,10137,12908,7001,7157,19887,26326,17741,6817,7058,23417,49700,28716,6605,20081,16815,21017,3926,6503,7734,14938,17767,10145,26179,12349,23659,13408,5568,32164,9563,8395,20298,23949,21764,10903,10607,7571,3039,13679,13955,9190,7618,8193,11624,9991,6873,13735,14561,12523,9114,12250,9053,12018,13439,11949,8449,13963],\"yaxis\":\"y\",\"type\":\"scatter\"}],                        {\"template\":{\"data\":{\"bar\":[{\"error_x\":{\"color\":\"#2a3f5f\"},\"error_y\":{\"color\":\"#2a3f5f\"},\"marker\":{\"line\":{\"color\":\"#E5ECF6\",\"width\":0.5},\"pattern\":{\"fillmode\":\"overlay\",\"size\":10,\"solidity\":0.2}},\"type\":\"bar\"}],\"barpolar\":[{\"marker\":{\"line\":{\"color\":\"#E5ECF6\",\"width\":0.5},\"pattern\":{\"fillmode\":\"overlay\",\"size\":10,\"solidity\":0.2}},\"type\":\"barpolar\"}],\"carpet\":[{\"aaxis\":{\"endlinecolor\":\"#2a3f5f\",\"gridcolor\":\"white\",\"linecolor\":\"white\",\"minorgridcolor\":\"white\",\"startlinecolor\":\"#2a3f5f\"},\"baxis\":{\"endlinecolor\":\"#2a3f5f\",\"gridcolor\":\"white\",\"linecolor\":\"white\",\"minorgridcolor\":\"white\",\"startlinecolor\":\"#2a3f5f\"},\"type\":\"carpet\"}],\"choropleth\":[{\"colorbar\":{\"outlinewidth\":0,\"ticks\":\"\"},\"type\":\"choropleth\"}],\"contour\":[{\"colorbar\":{\"outlinewidth\":0,\"ticks\":\"\"},\"colorscale\":[[0.0,\"#0d0887\"],[0.1111111111111111,\"#46039f\"],[0.2222222222222222,\"#7201a8\"],[0.3333333333333333,\"#9c179e\"],[0.4444444444444444,\"#bd3786\"],[0.5555555555555556,\"#d8576b\"],[0.6666666666666666,\"#ed7953\"],[0.7777777777777778,\"#fb9f3a\"],[0.8888888888888888,\"#fdca26\"],[1.0,\"#f0f921\"]],\"type\":\"contour\"}],\"contourcarpet\":[{\"colorbar\":{\"outlinewidth\":0,\"ticks\":\"\"},\"type\":\"contourcarpet\"}],\"heatmap\":[{\"colorbar\":{\"outlinewidth\":0,\"ticks\":\"\"},\"colorscale\":[[0.0,\"#0d0887\"],[0.1111111111111111,\"#46039f\"],[0.2222222222222222,\"#7201a8\"],[0.3333333333333333,\"#9c179e\"],[0.4444444444444444,\"#bd3786\"],[0.5555555555555556,\"#d8576b\"],[0.6666666666666666,\"#ed7953\"],[0.7777777777777778,\"#fb9f3a\"],[0.8888888888888888,\"#fdca26\"],[1.0,\"#f0f921\"]],\"type\":\"heatmap\"}],\"heatmapgl\":[{\"colorbar\":{\"outlinewidth\":0,\"ticks\":\"\"},\"colorscale\":[[0.0,\"#0d0887\"],[0.1111111111111111,\"#46039f\"],[0.2222222222222222,\"#7201a8\"],[0.3333333333333333,\"#9c179e\"],[0.4444444444444444,\"#bd3786\"],[0.5555555555555556,\"#d8576b\"],[0.6666666666666666,\"#ed7953\"],[0.7777777777777778,\"#fb9f3a\"],[0.8888888888888888,\"#fdca26\"],[1.0,\"#f0f921\"]],\"type\":\"heatmapgl\"}],\"histogram\":[{\"marker\":{\"pattern\":{\"fillmode\":\"overlay\",\"size\":10,\"solidity\":0.2}},\"type\":\"histogram\"}],\"histogram2d\":[{\"colorbar\":{\"outlinewidth\":0,\"ticks\":\"\"},\"colorscale\":[[0.0,\"#0d0887\"],[0.1111111111111111,\"#46039f\"],[0.2222222222222222,\"#7201a8\"],[0.3333333333333333,\"#9c179e\"],[0.4444444444444444,\"#bd3786\"],[0.5555555555555556,\"#d8576b\"],[0.6666666666666666,\"#ed7953\"],[0.7777777777777778,\"#fb9f3a\"],[0.8888888888888888,\"#fdca26\"],[1.0,\"#f0f921\"]],\"type\":\"histogram2d\"}],\"histogram2dcontour\":[{\"colorbar\":{\"outlinewidth\":0,\"ticks\":\"\"},\"colorscale\":[[0.0,\"#0d0887\"],[0.1111111111111111,\"#46039f\"],[0.2222222222222222,\"#7201a8\"],[0.3333333333333333,\"#9c179e\"],[0.4444444444444444,\"#bd3786\"],[0.5555555555555556,\"#d8576b\"],[0.6666666666666666,\"#ed7953\"],[0.7777777777777778,\"#fb9f3a\"],[0.8888888888888888,\"#fdca26\"],[1.0,\"#f0f921\"]],\"type\":\"histogram2dcontour\"}],\"mesh3d\":[{\"colorbar\":{\"outlinewidth\":0,\"ticks\":\"\"},\"type\":\"mesh3d\"}],\"parcoords\":[{\"line\":{\"colorbar\":{\"outlinewidth\":0,\"ticks\":\"\"}},\"type\":\"parcoords\"}],\"pie\":[{\"automargin\":true,\"type\":\"pie\"}],\"scatter\":[{\"marker\":{\"colorbar\":{\"outlinewidth\":0,\"ticks\":\"\"}},\"type\":\"scatter\"}],\"scatter3d\":[{\"line\":{\"colorbar\":{\"outlinewidth\":0,\"ticks\":\"\"}},\"marker\":{\"colorbar\":{\"outlinewidth\":0,\"ticks\":\"\"}},\"type\":\"scatter3d\"}],\"scattercarpet\":[{\"marker\":{\"colorbar\":{\"outlinewidth\":0,\"ticks\":\"\"}},\"type\":\"scattercarpet\"}],\"scattergeo\":[{\"marker\":{\"colorbar\":{\"outlinewidth\":0,\"ticks\":\"\"}},\"type\":\"scattergeo\"}],\"scattergl\":[{\"marker\":{\"colorbar\":{\"outlinewidth\":0,\"ticks\":\"\"}},\"type\":\"scattergl\"}],\"scattermapbox\":[{\"marker\":{\"colorbar\":{\"outlinewidth\":0,\"ticks\":\"\"}},\"type\":\"scattermapbox\"}],\"scatterpolar\":[{\"marker\":{\"colorbar\":{\"outlinewidth\":0,\"ticks\":\"\"}},\"type\":\"scatterpolar\"}],\"scatterpolargl\":[{\"marker\":{\"colorbar\":{\"outlinewidth\":0,\"ticks\":\"\"}},\"type\":\"scatterpolargl\"}],\"scatterternary\":[{\"marker\":{\"colorbar\":{\"outlinewidth\":0,\"ticks\":\"\"}},\"type\":\"scatterternary\"}],\"surface\":[{\"colorbar\":{\"outlinewidth\":0,\"ticks\":\"\"},\"colorscale\":[[0.0,\"#0d0887\"],[0.1111111111111111,\"#46039f\"],[0.2222222222222222,\"#7201a8\"],[0.3333333333333333,\"#9c179e\"],[0.4444444444444444,\"#bd3786\"],[0.5555555555555556,\"#d8576b\"],[0.6666666666666666,\"#ed7953\"],[0.7777777777777778,\"#fb9f3a\"],[0.8888888888888888,\"#fdca26\"],[1.0,\"#f0f921\"]],\"type\":\"surface\"}],\"table\":[{\"cells\":{\"fill\":{\"color\":\"#EBF0F8\"},\"line\":{\"color\":\"white\"}},\"header\":{\"fill\":{\"color\":\"#C8D4E3\"},\"line\":{\"color\":\"white\"}},\"type\":\"table\"}]},\"layout\":{\"annotationdefaults\":{\"arrowcolor\":\"#2a3f5f\",\"arrowhead\":0,\"arrowwidth\":1},\"autotypenumbers\":\"strict\",\"coloraxis\":{\"colorbar\":{\"outlinewidth\":0,\"ticks\":\"\"}},\"colorscale\":{\"diverging\":[[0,\"#8e0152\"],[0.1,\"#c51b7d\"],[0.2,\"#de77ae\"],[0.3,\"#f1b6da\"],[0.4,\"#fde0ef\"],[0.5,\"#f7f7f7\"],[0.6,\"#e6f5d0\"],[0.7,\"#b8e186\"],[0.8,\"#7fbc41\"],[0.9,\"#4d9221\"],[1,\"#276419\"]],\"sequential\":[[0.0,\"#0d0887\"],[0.1111111111111111,\"#46039f\"],[0.2222222222222222,\"#7201a8\"],[0.3333333333333333,\"#9c179e\"],[0.4444444444444444,\"#bd3786\"],[0.5555555555555556,\"#d8576b\"],[0.6666666666666666,\"#ed7953\"],[0.7777777777777778,\"#fb9f3a\"],[0.8888888888888888,\"#fdca26\"],[1.0,\"#f0f921\"]],\"sequentialminus\":[[0.0,\"#0d0887\"],[0.1111111111111111,\"#46039f\"],[0.2222222222222222,\"#7201a8\"],[0.3333333333333333,\"#9c179e\"],[0.4444444444444444,\"#bd3786\"],[0.5555555555555556,\"#d8576b\"],[0.6666666666666666,\"#ed7953\"],[0.7777777777777778,\"#fb9f3a\"],[0.8888888888888888,\"#fdca26\"],[1.0,\"#f0f921\"]]},\"colorway\":[\"#636efa\",\"#EF553B\",\"#00cc96\",\"#ab63fa\",\"#FFA15A\",\"#19d3f3\",\"#FF6692\",\"#B6E880\",\"#FF97FF\",\"#FECB52\"],\"font\":{\"color\":\"#2a3f5f\"},\"geo\":{\"bgcolor\":\"white\",\"lakecolor\":\"white\",\"landcolor\":\"#E5ECF6\",\"showlakes\":true,\"showland\":true,\"subunitcolor\":\"white\"},\"hoverlabel\":{\"align\":\"left\"},\"hovermode\":\"closest\",\"mapbox\":{\"style\":\"light\"},\"paper_bgcolor\":\"white\",\"plot_bgcolor\":\"#E5ECF6\",\"polar\":{\"angularaxis\":{\"gridcolor\":\"white\",\"linecolor\":\"white\",\"ticks\":\"\"},\"bgcolor\":\"#E5ECF6\",\"radialaxis\":{\"gridcolor\":\"white\",\"linecolor\":\"white\",\"ticks\":\"\"}},\"scene\":{\"xaxis\":{\"backgroundcolor\":\"#E5ECF6\",\"gridcolor\":\"white\",\"gridwidth\":2,\"linecolor\":\"white\",\"showbackground\":true,\"ticks\":\"\",\"zerolinecolor\":\"white\"},\"yaxis\":{\"backgroundcolor\":\"#E5ECF6\",\"gridcolor\":\"white\",\"gridwidth\":2,\"linecolor\":\"white\",\"showbackground\":true,\"ticks\":\"\",\"zerolinecolor\":\"white\"},\"zaxis\":{\"backgroundcolor\":\"#E5ECF6\",\"gridcolor\":\"white\",\"gridwidth\":2,\"linecolor\":\"white\",\"showbackground\":true,\"ticks\":\"\",\"zerolinecolor\":\"white\"}},\"shapedefaults\":{\"line\":{\"color\":\"#2a3f5f\"}},\"ternary\":{\"aaxis\":{\"gridcolor\":\"white\",\"linecolor\":\"white\",\"ticks\":\"\"},\"baxis\":{\"gridcolor\":\"white\",\"linecolor\":\"white\",\"ticks\":\"\"},\"bgcolor\":\"#E5ECF6\",\"caxis\":{\"gridcolor\":\"white\",\"linecolor\":\"white\",\"ticks\":\"\"}},\"title\":{\"x\":0.05},\"xaxis\":{\"automargin\":true,\"gridcolor\":\"white\",\"linecolor\":\"white\",\"ticks\":\"\",\"title\":{\"standoff\":15},\"zerolinecolor\":\"white\",\"zerolinewidth\":2},\"yaxis\":{\"automargin\":true,\"gridcolor\":\"white\",\"linecolor\":\"white\",\"ticks\":\"\",\"title\":{\"standoff\":15},\"zerolinecolor\":\"white\",\"zerolinewidth\":2}}},\"xaxis\":{\"anchor\":\"y\",\"domain\":[0.0,1.0],\"title\":{\"text\":\"year\"}},\"yaxis\":{\"anchor\":\"x\",\"domain\":[0.0,1.0],\"title\":{\"text\":\"value\"}},\"legend\":{\"title\":{\"text\":\"variable\"},\"tracegroupgap\":0},\"margin\":{\"t\":60}},                        {\"responsive\": true}                    ).then(function(){\n",
              "                            \n",
              "var gd = document.getElementById('d6f3e82a-0233-46b1-a6d3-7719458000ea');\n",
              "var x = new MutationObserver(function (mutations, observer) {{\n",
              "        var display = window.getComputedStyle(gd).display;\n",
              "        if (!display || display === 'none') {{\n",
              "            console.log([gd, 'removed!']);\n",
              "            Plotly.purge(gd);\n",
              "            observer.disconnect();\n",
              "        }}\n",
              "}});\n",
              "\n",
              "// Listen for the removal of the full notebook cells\n",
              "var notebookContainer = gd.closest('#notebook-container');\n",
              "if (notebookContainer) {{\n",
              "    x.observe(notebookContainer, {childList: true});\n",
              "}}\n",
              "\n",
              "// Listen for the clearing of the current output cell\n",
              "var outputEl = gd.closest('.output');\n",
              "if (outputEl) {{\n",
              "    x.observe(outputEl, {childList: true});\n",
              "}}\n",
              "\n",
              "                        })                };                            </script>        </div>\n",
              "</body>\n",
              "</html>"
            ]
          },
          "metadata": {}
        }
      ]
    },
    {
      "cell_type": "markdown",
      "metadata": {
        "id": "5DzzqLOSY-z5"
      },
      "source": [
        "## Preprocess data\n",
        "\n",
        "It's been often said in Machine Learning and NLP algorithms - garbage in, garbage out. We can't have state-of-the-art results without data which is aa good. Let's spend this section working on cleaning and understanding our data set.\n",
        "\n",
        "NTLK is usually a popular choice for pre-processing - but is a rather [outdated](https://explosion.ai/blog/dead-code-should-be-buried) and we will be checking out spaCy, an industry grade text-processing package. \n",
        "\n",
        "There is no correct way of doing text preprocessing, but it often involves two steps:\n",
        "- filtering: to remove unwanted tokens\n",
        "- standardization: to reduce the number of unique tokens"
      ]
    },
    {
      "cell_type": "code",
      "source": [
        "year = 2021\n",
        "biden = df.loc[year, 'text']\n",
        "biden"
      ],
      "metadata": {
        "colab": {
          "base_uri": "https://localhost:8080/",
          "height": 260
        },
        "id": "sf4WrihnE3M2",
        "outputId": "948dbf14-09e1-4c9b-9e15-11fe1cb9dd41"
      },
      "execution_count": null,
      "outputs": [
        {
          "output_type": "execute_result",
          "data": {
            "text/plain": [
              "'Chief Justice Roberts, Vice President Harris, Speaker Pelosi, Leader Schumer, Leader McConnell, Vice President Pence, and my distinguished guests, and my fellow Americans: This is America\\'s day. This is democracy\\'s day, a day of history and hope, of renewal and resolve. Through a crucible for the ages America has been tested anew, and America has risen to the challenge.\\n\\nToday we celebrate the triumph not of a candidate, but of a cause, the cause of democracy. The peopleâ\\x80\\x94the will of the people has been heard, and the will of the people has been heeded. We\\'ve learned again that democracy is precious, democracy is fragile. And at this hour, my friends, democracy has prevailed.\\n\\nSo now, on this hallowed ground where just a few days ago violence sought to shake the Capitol\\'s very foundation, we come together as one Nation under God, indivisible, to carry out the peaceful transfer of power as we have for more than two centuries. As we look ahead in our uniquely American wayâ\\x80\\x94restless, bold, optimisticâ\\x80\\x94and set our sights on the Nation we know we can be and we must be, I thank my predecessors of both parties for their presence here today. I thank them from the bottom of my heart. And I know the resilience of our Constitution and the strength, the strength of our Nation, as does President Carter, who I spoke with last night, who cannot be with us today, but whom we salute for his lifetime of service.\\n\\nI have just taken the sacred oath each of these patriots have taken, the oath first sworn by George Washington. But the American story depends not on any one of us, not on some of us, but on all of us, on \"We the People,\" who seek a more perfect Union.\\n\\nThis is a great Nation; we are good people. Over the centuries, through storm and strife, in peace and in war, we\\'ve come so far. But we still have far to go. We\\'ll press forward with speed and urgency, for we have much to do in this winter of peril and significant possibilities: much to repair, much to restore, much to heal, much to build, and much to gain.\\n\\nFew people in our Nation\\'s history have been more challenged or found a time more challenging or difficult than the time we\\'re in now. A once-in-a-century virus that silently stalks the country has taken as many lives in one year as America lost in all of World War II. Millions of jobs have been lost; hundreds of thousands of businesses closed. A cry for racial justice some 400 years in the making moves us. The dream of justice for all will be deferred no longer. A cry for survival comes from the planet itself, a cry that can\\'t be any more desperate or any more clear. And now, a rise of political extremism, White supremacy, domestic terrorism that we must confront and we will defeat.\\n\\nTo overcome these challengesâ\\x80\\x94to restore the soul and secure the future of Americaâ\\x80\\x94requires so much more than words. It requires the most elusive of all things in a democracy: unity. Unity.\\n\\nIn another January on New Year\\'s Day in 1863, Abraham Lincoln signed the Emancipation Proclamation. When he put pen to paper, the President said, and I quote, \"If my name ever goes down into history it will be for this act, and my whole soul is in it.\" My whole soul is in it.\\n\\nToday, on this January day, my whole soul is in this: bringing America together, uniting our people, uniting our Nation. And I ask every American to join me in this cause: uniting to fight the foes we face: anger, resentment, and hatred; extremism, lawlessness, violence; disease, joblessness, and hopelessness.\\n\\nWith unity we can do great things, important things. We can right wrongs. We can put people to work in good jobs. We can teach our children in safe schools. We can overcome the deadly virus. We can reward work and rebuild the middle class and make health care secure for all. We can deliver racial justice, and we can make America, once again, the leading force for good in the world.\\n\\nI know speaking of unity can sound to some like a foolish fantasy these days. I know the forces that divide us are deep and they are real. But I also know they are not new. Our history has been a constant struggle between the American ideal that we all are created equal and the harsh, ugly reality that racism, nativism, fear, demonization have long torn us apart. The battle is perennial. And victory is never assured.\\n\\nThrough the Civil War, the Great Depression, World War, 9/11, through struggle, sacrifice, and setbacks, our \"better angels\" have always prevailed. In each of these moments, enough of usâ\\x80\\x94enough of usâ\\x80\\x94have come together to carry all of us forward. And we can do that now. History, faith, and reason show the way: the way of unity.\\n\\nWe can see each other not as adversaries, but as neighbors. We can treat each other with dignity and respect. We can join forces, stop the shouting, and lower the temperature. For without unity, there is no peace, only bitterness and fury. No progress, only exhausting outrage. No nation, only a state of chaos.\\n\\nThis is our historic moment of crisis and challenge, and unity is the path forward. And we must meet this moment as the United States of America. If we do that, I guarantee you, we will not fail. We have never, ever, ever, ever failed in America when we have acted together.\\n\\nAnd so today, at this time, in this place, let\\'s start afresh, all of us. Let\\'s begin to listen to one another, hear one another, see one another, show respect to one another. Politics doesn\\'t have to be a raging fire destroying everything in its path. Every disagreement doesn\\'t have to be a cause for total war. And we must reject the culture in which facts themselves are manipulated and even manufactured.\\n\\nMy fellow Americans, we have to be different than this. America has to be better than this. And I believe America is so much better than this.\\n\\nJust look around. Here we stand, in the shadow of the Capitol dome, as was mentioned earlier, completed amid the Civil War, when the Union itself was literally hanging in the balance. Yet we endured, we prevailed.\\n\\nHere we stand looking out on the great Mall where Dr. King spoke of his dream.\\n\\nHere we stand, where 108 years ago, at another Inaugural, thousands of protesters tried to block brave women marching for the right to vote. And today we mark the swearing-in of the first woman in American history elected to national office: Vice President Kamala Harris. Don\\'t tell me things can\\'t change.\\n\\nHere we stand across the Potomac from Arlington Cemetery, where heroes who gave the last full measure of devotion rest in eternal peace.\\n\\nAnd here we stand, just days after a riotous mob thought they could use violence to silence the will of the people, to stop the work of our democracy, to drive us from this sacred ground. It did not happen. It will never happen, not today, not tomorrow, not everâ\\x80\\x94not ever.\\n\\nTo all those who supported our campaign, I am humbled by the faith you\\'ve placed in us. To all those who did not support us, let me say this: Hear me out as we move forward. Take a measure of me and my heart. And if you still disagree, so be it. That\\'s democracy. That\\'s America. The right to dissent peaceably, within the guardrails of our Republic, is perhaps this Nation\\'s greatest strength. Yet hear me clearly: Disagreement must not lead to disunion. And I pledge this to you: I will be a President for all Americansâ\\x80\\x94all Americans. And I promise you, I will fight as hard for those who did not support me as for those who did.\\n\\nMany centuries ago, Saint Augustine, a saint of my church, wrote that a people was a multitude defined by the common objects of their loveâ\\x80\\x94defined by the common objects of their love. What are the common objects we as Americans love? That define us as Americans? I think we know: opportunity, security, liberty, dignity, respect, honor, and yes, the truth.\\n\\nRecent weeks and months have taught us a painful lesson. There is truth, and there are lies: lies told for power and for profit. And each of us has a duty and a responsibility, as citizens, as Americans, and especially as leadersâ\\x80\\x94leaders who have pledged to honor our Constitution and protect our Nationâ\\x80\\x94to defend the truth and defeat the lies.\\n\\nLook, I understand that many of my fellow Americans view the future with fear and trepidation. I understand they worry about their jobs. I understand, like my dad, they lay at bed at night staring at the ceiling, wondering: \"Can I keep my health care? Can I pay my mortgage?\" Thinking about their families, about what comes next. I promise you, I get it. But the answer is not to turn inward, to retreat into competing factions, distrusting those who don\\'t look like you or worship the way you do or don\\'t get their news from the same sources you do. We must end this uncivil war that pits red against blue, rural versus urban, conservative versus liberal. We can do this if we open our souls instead of hardening our hearts, if we show a little tolerance and humility, and if we\\'re willing to stand in the other person\\'s shoes, as my mom would say, just for a moment. Stand in their shoes.\\n\\nBecause here is the thing about life: There is no accounting for what fate will deal you. Some days when you need a hand. There are other days when we\\'re called to lend a hand. That\\'s how it has to be. That is what we do for one another. And if we are this way, our country will be stronger, more prosperous, more ready for the future. And we can still disagree.\\n\\nMy fellow Americans, in the work ahead of us, we\\'re going to need each other. We need all our strength to persevere through this dark winter. We\\'re entering what may be the toughest and deadliest period of the virus. We must set aside politics and finally face this pandemic as one Nation. One Nation. And I promise you this: As the Bible says, \"Weeping may endure for a night, but joy cometh in the morning.\" We will get through this, togetherâ\\x80\\x94together.\\n\\nLook, folks, all my colleagues that I served with in the House and the Senate up here. We all understand the world is watching, watching all of us today. So here is my message to those beyond our borders: America has been tested, and we have come out stronger for it. We will repair our alliances and engage with the world once again, not to meet yesterday\\'s challenges, but today\\'s and tomorrow\\'s challenges. And we\\'ll lead not merely by the example of our power, but by the power of our example. We will be a strong and trusted partner for peace, progress, and security.\\n\\nLook, you all know, we have been through so much in this Nation. And, in my first act as President, I\\'d like to ask you to join me in a moment of silent prayer to remember all those we lost this past year to the pandemic, those 400,000 fellow Americans: moms, dads, husbands, wives, sons, daughters, friends, neighbors, and coworkers. We will honor them by becoming the people and Nation we know we can and should be.\\n\\nSo I ask you, let\\'s say a silent prayer for those who have lost their lives, for those they left behind, and for our country.\\n\\n[At this point, a moment of silence was observed.]\\n\\nAmen.\\n\\nFolks, this is a time of testing. We face an attack on our democracy and on truth, a raging virus, growing inequity, the sting of systemic racism, a climate in crisis, America\\'s role in the world. Any one of these would be enough to challenge us in profound ways. But the fact is, we face them all at once, presenting this Nation with one of the gravest of responsibilities we\\'ve had.\\n\\nNow we\\'re going to be tested. Are we going to step up? All of us? It is time for boldness, for there is so much to do. And this is certain, I promise you: We will be judged, you and I, by how we resolve these cascading crises of our era. Will we rise to the occasion, is the question. Will we master this rare and difficult hour? Will we meet our obligations and pass along a new and better world to our children? I believe we must; I\\'m sure you do as well. I believe we will.\\n\\nAnd when we do, we will write the next great chapter in the history of the United States of America: the American story, a story that might sound something like a song that means a lot to me. It\\'s called \"American Anthem,\" and there\\'s one verse that stands out, at least for me, and it goes like this:\\n\\n\"The work and prayers of centuries have brought us to this day\\nWhat shall be our legacy? What will our children say? . . .\\nLet me know in my heart when my days are through\\nAmerica, America, I gave my best to you.\"\\n\\nLet\\'s addâ\\x80\\x94let\\'s us add our own work and prayers to the unfolding story of our great Nation. If we do this, then when our days are through, our children and our children\\'s children will say of us: \"They gave their best. They did their duty. They healed a broken land.\"\\n\\nMy fellow Americans, I close today where I began, with a sacred oath. Before God and all of you I give you my word: I will always level with you. I will defend the Constitution. I will defend our democracy. I will defend America. And I will give all, all of you, keep everything youâ\\x80\\x94I do, in your service, thinking not of power, but of possibilities; not of personal interest, but of the public good. And together, we shall write an American story of hope, not fear; of unity, not division; of light, not darkness. A story of decency and dignity, love and healing, greatness and goodness.\\n\\nMay this be the story that guides us, the story that inspires us, and the story that tells ages yet to come that we answered the call of history, we met the moment; democracy and hope, truth and justice, did not die on our watch, but thrived; that America secured liberty at home and stood once again as a beacon to the world. That is what we owe our forebearers, one another, and generations to follow.\\n\\nSo with purpose and resolve we turn to those tasks of our time, sustained by faith, driven by conviction, and devoted to one another and the country we love with all our hearts.\\n\\nMay God bless America, and may God protect our troops. Thank you, America.\\n'"
            ],
            "application/vnd.google.colaboratory.intrinsic+json": {
              "type": "string"
            }
          },
          "metadata": {},
          "execution_count": 68
        }
      ]
    },
    {
      "cell_type": "code",
      "source": [
        "clean_biden = [char if char.isascii() else \" \" for char in biden]\n",
        "clean_biden = \"\".join(clean_biden)\n",
        "clean_biden"
      ],
      "metadata": {
        "colab": {
          "base_uri": "https://localhost:8080/",
          "height": 260
        },
        "id": "IMbVwn4MX9-b",
        "outputId": "f3ffcbf5-0632-493e-bd06-34ef3abc7770"
      },
      "execution_count": null,
      "outputs": [
        {
          "output_type": "execute_result",
          "data": {
            "text/plain": [
              "'Chief Justice Roberts, Vice President Harris, Speaker Pelosi, Leader Schumer, Leader McConnell, Vice President Pence, and my distinguished guests, and my fellow Americans: This is America\\'s day. This is democracy\\'s day, a day of history and hope, of renewal and resolve. Through a crucible for the ages America has been tested anew, and America has risen to the challenge.\\n\\nToday we celebrate the triumph not of a candidate, but of a cause, the cause of democracy. The people   the will of the people has been heard, and the will of the people has been heeded. We\\'ve learned again that democracy is precious, democracy is fragile. And at this hour, my friends, democracy has prevailed.\\n\\nSo now, on this hallowed ground where just a few days ago violence sought to shake the Capitol\\'s very foundation, we come together as one Nation under God, indivisible, to carry out the peaceful transfer of power as we have for more than two centuries. As we look ahead in our uniquely American way   restless, bold, optimistic   and set our sights on the Nation we know we can be and we must be, I thank my predecessors of both parties for their presence here today. I thank them from the bottom of my heart. And I know the resilience of our Constitution and the strength, the strength of our Nation, as does President Carter, who I spoke with last night, who cannot be with us today, but whom we salute for his lifetime of service.\\n\\nI have just taken the sacred oath each of these patriots have taken, the oath first sworn by George Washington. But the American story depends not on any one of us, not on some of us, but on all of us, on \"We the People,\" who seek a more perfect Union.\\n\\nThis is a great Nation; we are good people. Over the centuries, through storm and strife, in peace and in war, we\\'ve come so far. But we still have far to go. We\\'ll press forward with speed and urgency, for we have much to do in this winter of peril and significant possibilities: much to repair, much to restore, much to heal, much to build, and much to gain.\\n\\nFew people in our Nation\\'s history have been more challenged or found a time more challenging or difficult than the time we\\'re in now. A once-in-a-century virus that silently stalks the country has taken as many lives in one year as America lost in all of World War II. Millions of jobs have been lost; hundreds of thousands of businesses closed. A cry for racial justice some 400 years in the making moves us. The dream of justice for all will be deferred no longer. A cry for survival comes from the planet itself, a cry that can\\'t be any more desperate or any more clear. And now, a rise of political extremism, White supremacy, domestic terrorism that we must confront and we will defeat.\\n\\nTo overcome these challenges   to restore the soul and secure the future of America   requires so much more than words. It requires the most elusive of all things in a democracy: unity. Unity.\\n\\nIn another January on New Year\\'s Day in 1863, Abraham Lincoln signed the Emancipation Proclamation. When he put pen to paper, the President said, and I quote, \"If my name ever goes down into history it will be for this act, and my whole soul is in it.\" My whole soul is in it.\\n\\nToday, on this January day, my whole soul is in this: bringing America together, uniting our people, uniting our Nation. And I ask every American to join me in this cause: uniting to fight the foes we face: anger, resentment, and hatred; extremism, lawlessness, violence; disease, joblessness, and hopelessness.\\n\\nWith unity we can do great things, important things. We can right wrongs. We can put people to work in good jobs. We can teach our children in safe schools. We can overcome the deadly virus. We can reward work and rebuild the middle class and make health care secure for all. We can deliver racial justice, and we can make America, once again, the leading force for good in the world.\\n\\nI know speaking of unity can sound to some like a foolish fantasy these days. I know the forces that divide us are deep and they are real. But I also know they are not new. Our history has been a constant struggle between the American ideal that we all are created equal and the harsh, ugly reality that racism, nativism, fear, demonization have long torn us apart. The battle is perennial. And victory is never assured.\\n\\nThrough the Civil War, the Great Depression, World War, 9/11, through struggle, sacrifice, and setbacks, our \"better angels\" have always prevailed. In each of these moments, enough of us   enough of us   have come together to carry all of us forward. And we can do that now. History, faith, and reason show the way: the way of unity.\\n\\nWe can see each other not as adversaries, but as neighbors. We can treat each other with dignity and respect. We can join forces, stop the shouting, and lower the temperature. For without unity, there is no peace, only bitterness and fury. No progress, only exhausting outrage. No nation, only a state of chaos.\\n\\nThis is our historic moment of crisis and challenge, and unity is the path forward. And we must meet this moment as the United States of America. If we do that, I guarantee you, we will not fail. We have never, ever, ever, ever failed in America when we have acted together.\\n\\nAnd so today, at this time, in this place, let\\'s start afresh, all of us. Let\\'s begin to listen to one another, hear one another, see one another, show respect to one another. Politics doesn\\'t have to be a raging fire destroying everything in its path. Every disagreement doesn\\'t have to be a cause for total war. And we must reject the culture in which facts themselves are manipulated and even manufactured.\\n\\nMy fellow Americans, we have to be different than this. America has to be better than this. And I believe America is so much better than this.\\n\\nJust look around. Here we stand, in the shadow of the Capitol dome, as was mentioned earlier, completed amid the Civil War, when the Union itself was literally hanging in the balance. Yet we endured, we prevailed.\\n\\nHere we stand looking out on the great Mall where Dr. King spoke of his dream.\\n\\nHere we stand, where 108 years ago, at another Inaugural, thousands of protesters tried to block brave women marching for the right to vote. And today we mark the swearing-in of the first woman in American history elected to national office: Vice President Kamala Harris. Don\\'t tell me things can\\'t change.\\n\\nHere we stand across the Potomac from Arlington Cemetery, where heroes who gave the last full measure of devotion rest in eternal peace.\\n\\nAnd here we stand, just days after a riotous mob thought they could use violence to silence the will of the people, to stop the work of our democracy, to drive us from this sacred ground. It did not happen. It will never happen, not today, not tomorrow, not ever   not ever.\\n\\nTo all those who supported our campaign, I am humbled by the faith you\\'ve placed in us. To all those who did not support us, let me say this: Hear me out as we move forward. Take a measure of me and my heart. And if you still disagree, so be it. That\\'s democracy. That\\'s America. The right to dissent peaceably, within the guardrails of our Republic, is perhaps this Nation\\'s greatest strength. Yet hear me clearly: Disagreement must not lead to disunion. And I pledge this to you: I will be a President for all Americans   all Americans. And I promise you, I will fight as hard for those who did not support me as for those who did.\\n\\nMany centuries ago, Saint Augustine, a saint of my church, wrote that a people was a multitude defined by the common objects of their love   defined by the common objects of their love. What are the common objects we as Americans love? That define us as Americans? I think we know: opportunity, security, liberty, dignity, respect, honor, and yes, the truth.\\n\\nRecent weeks and months have taught us a painful lesson. There is truth, and there are lies: lies told for power and for profit. And each of us has a duty and a responsibility, as citizens, as Americans, and especially as leaders   leaders who have pledged to honor our Constitution and protect our Nation   to defend the truth and defeat the lies.\\n\\nLook, I understand that many of my fellow Americans view the future with fear and trepidation. I understand they worry about their jobs. I understand, like my dad, they lay at bed at night staring at the ceiling, wondering: \"Can I keep my health care? Can I pay my mortgage?\" Thinking about their families, about what comes next. I promise you, I get it. But the answer is not to turn inward, to retreat into competing factions, distrusting those who don\\'t look like you or worship the way you do or don\\'t get their news from the same sources you do. We must end this uncivil war that pits red against blue, rural versus urban, conservative versus liberal. We can do this if we open our souls instead of hardening our hearts, if we show a little tolerance and humility, and if we\\'re willing to stand in the other person\\'s shoes, as my mom would say, just for a moment. Stand in their shoes.\\n\\nBecause here is the thing about life: There is no accounting for what fate will deal you. Some days when you need a hand. There are other days when we\\'re called to lend a hand. That\\'s how it has to be. That is what we do for one another. And if we are this way, our country will be stronger, more prosperous, more ready for the future. And we can still disagree.\\n\\nMy fellow Americans, in the work ahead of us, we\\'re going to need each other. We need all our strength to persevere through this dark winter. We\\'re entering what may be the toughest and deadliest period of the virus. We must set aside politics and finally face this pandemic as one Nation. One Nation. And I promise you this: As the Bible says, \"Weeping may endure for a night, but joy cometh in the morning.\" We will get through this, together   together.\\n\\nLook, folks, all my colleagues that I served with in the House and the Senate up here. We all understand the world is watching, watching all of us today. So here is my message to those beyond our borders: America has been tested, and we have come out stronger for it. We will repair our alliances and engage with the world once again, not to meet yesterday\\'s challenges, but today\\'s and tomorrow\\'s challenges. And we\\'ll lead not merely by the example of our power, but by the power of our example. We will be a strong and trusted partner for peace, progress, and security.\\n\\nLook, you all know, we have been through so much in this Nation. And, in my first act as President, I\\'d like to ask you to join me in a moment of silent prayer to remember all those we lost this past year to the pandemic, those 400,000 fellow Americans: moms, dads, husbands, wives, sons, daughters, friends, neighbors, and coworkers. We will honor them by becoming the people and Nation we know we can and should be.\\n\\nSo I ask you, let\\'s say a silent prayer for those who have lost their lives, for those they left behind, and for our country.\\n\\n[At this point, a moment of silence was observed.]\\n\\nAmen.\\n\\nFolks, this is a time of testing. We face an attack on our democracy and on truth, a raging virus, growing inequity, the sting of systemic racism, a climate in crisis, America\\'s role in the world. Any one of these would be enough to challenge us in profound ways. But the fact is, we face them all at once, presenting this Nation with one of the gravest of responsibilities we\\'ve had.\\n\\nNow we\\'re going to be tested. Are we going to step up? All of us? It is time for boldness, for there is so much to do. And this is certain, I promise you: We will be judged, you and I, by how we resolve these cascading crises of our era. Will we rise to the occasion, is the question. Will we master this rare and difficult hour? Will we meet our obligations and pass along a new and better world to our children? I believe we must; I\\'m sure you do as well. I believe we will.\\n\\nAnd when we do, we will write the next great chapter in the history of the United States of America: the American story, a story that might sound something like a song that means a lot to me. It\\'s called \"American Anthem,\" and there\\'s one verse that stands out, at least for me, and it goes like this:\\n\\n\"The work and prayers of centuries have brought us to this day\\nWhat shall be our legacy? What will our children say? . . .\\nLet me know in my heart when my days are through\\nAmerica, America, I gave my best to you.\"\\n\\nLet\\'s add   let\\'s us add our own work and prayers to the unfolding story of our great Nation. If we do this, then when our days are through, our children and our children\\'s children will say of us: \"They gave their best. They did their duty. They healed a broken land.\"\\n\\nMy fellow Americans, I close today where I began, with a sacred oath. Before God and all of you I give you my word: I will always level with you. I will defend the Constitution. I will defend our democracy. I will defend America. And I will give all, all of you, keep everything you   I do, in your service, thinking not of power, but of possibilities; not of personal interest, but of the public good. And together, we shall write an American story of hope, not fear; of unity, not division; of light, not darkness. A story of decency and dignity, love and healing, greatness and goodness.\\n\\nMay this be the story that guides us, the story that inspires us, and the story that tells ages yet to come that we answered the call of history, we met the moment; democracy and hope, truth and justice, did not die on our watch, but thrived; that America secured liberty at home and stood once again as a beacon to the world. That is what we owe our forebearers, one another, and generations to follow.\\n\\nSo with purpose and resolve we turn to those tasks of our time, sustained by faith, driven by conviction, and devoted to one another and the country we love with all our hearts.\\n\\nMay God bless America, and may God protect our troops. Thank you, America.\\n'"
            ],
            "application/vnd.google.colaboratory.intrinsic+json": {
              "type": "string"
            }
          },
          "metadata": {},
          "execution_count": 69
        }
      ]
    },
    {
      "cell_type": "code",
      "execution_count": null,
      "metadata": {
        "id": "fY6KHHN6Y-z6"
      },
      "outputs": [],
      "source": [
        "nlp = spacy.load(\"en_core_web_sm\")"
      ]
    },
    {
      "cell_type": "code",
      "execution_count": null,
      "metadata": {
        "id": "DgZL4dczY-z7"
      },
      "outputs": [],
      "source": [
        "doc = nlp(clean_biden)"
      ]
    },
    {
      "cell_type": "code",
      "execution_count": null,
      "metadata": {
        "id": "sKYTBwiQY-z8",
        "outputId": "86139998-cb6f-4fd5-9481-ebd73151fc42",
        "colab": {
          "base_uri": "https://localhost:8080/"
        }
      },
      "outputs": [
        {
          "output_type": "stream",
          "name": "stdout",
          "text": [
            "Chief|Justice|Roberts|,|Vice|President|Harris|,|Speaker|Pelosi|,|Leader|Schumer|,|Leader|McConnell|,|Vice|President|Pence|,|and|my|distinguished|guests|,|and|my|fellow|Americans|:|This|is|America|'s|day|.|This|is|democracy|"
          ]
        }
      ],
      "source": [
        "for tok in doc[:40]:\n",
        "    print(tok.text, end=\"|\")"
      ]
    },
    {
      "cell_type": "code",
      "source": [
        "for tok in doc[:40]:\n",
        "    print(tok.lemma_, end=\"|\")"
      ],
      "metadata": {
        "colab": {
          "base_uri": "https://localhost:8080/"
        },
        "id": "WuIhQrwd3ixY",
        "outputId": "1b3035e8-1afb-4f0a-db8f-7180cb11d94a"
      },
      "execution_count": null,
      "outputs": [
        {
          "output_type": "stream",
          "name": "stdout",
          "text": [
            "Chief|Justice|Roberts|,|Vice|President|Harris|,|Speaker|Pelosi|,|Leader|Schumer|,|Leader|McConnell|,|Vice|President|Pence|,|and|my|distinguished|guest|,|and|my|fellow|Americans|:|this|be|America|'s|day|.|this|be|democracy|"
          ]
        }
      ]
    },
    {
      "cell_type": "code",
      "source": [
        "for tok in doc[:40]:\n",
        "    print(tok.lemma_.lower(), end=\"|\")"
      ],
      "metadata": {
        "colab": {
          "base_uri": "https://localhost:8080/"
        },
        "id": "QB4x5v-Y7vIc",
        "outputId": "ca4e9d8b-c081-4df4-d7da-aa766d741a06"
      },
      "execution_count": null,
      "outputs": [
        {
          "output_type": "stream",
          "name": "stdout",
          "text": [
            "chief|justice|roberts|,|vice|president|harris|,|speaker|pelosi|,|leader|schumer|,|leader|mcconnell|,|vice|president|pence|,|and|my|distinguished|guest|,|and|my|fellow|americans|:|this|be|america|'s|day|.|this|be|democracy|"
          ]
        }
      ]
    },
    {
      "cell_type": "code",
      "source": [
        "toks = [tok.text for tok in doc]\n",
        "len(toks)"
      ],
      "metadata": {
        "colab": {
          "base_uri": "https://localhost:8080/"
        },
        "id": "juy-5ggSz5mx",
        "outputId": "e276d604-ca27-401c-b8df-7ee0dbdf3b53"
      },
      "execution_count": null,
      "outputs": [
        {
          "output_type": "execute_result",
          "data": {
            "text/plain": [
              "3109"
            ]
          },
          "metadata": {},
          "execution_count": 75
        }
      ]
    },
    {
      "cell_type": "code",
      "source": [
        "for tok in doc[:40]:\n",
        "    if (not tok.is_stop) and (not tok.is_punct) and (not tok.like_num) and (not tok.is_space):\n",
        "        print(tok.lemma_.lower(), end=\"|\")"
      ],
      "metadata": {
        "colab": {
          "base_uri": "https://localhost:8080/"
        },
        "id": "zX6q1UCwz9lA",
        "outputId": "c1a4c369-cd5b-4297-c46e-43f99641e260"
      },
      "execution_count": null,
      "outputs": [
        {
          "output_type": "stream",
          "name": "stdout",
          "text": [
            "chief|justice|roberts|vice|president|harris|speaker|pelosi|leader|schumer|leader|mcconnell|vice|president|pence|distinguished|guest|fellow|americans|america|day|democracy|"
          ]
        }
      ]
    },
    {
      "cell_type": "code",
      "source": [
        "toks = [tok.lemma_.lower() for tok in doc if (not tok.is_stop) and (not tok.is_punct) and (not tok.like_num) and (not tok.is_space)]\n",
        "len(toks)"
      ],
      "metadata": {
        "colab": {
          "base_uri": "https://localhost:8080/"
        },
        "id": "rjN9Bv3p0Ovp",
        "outputId": "9bd13bf1-c0fa-43b6-b254-a2e3c46647b5"
      },
      "execution_count": null,
      "outputs": [
        {
          "output_type": "execute_result",
          "data": {
            "text/plain": [
              "1020"
            ]
          },
          "metadata": {},
          "execution_count": 77
        }
      ]
    },
    {
      "cell_type": "code",
      "source": [
        "def preprocess_text(text):\n",
        "    clean_text = [char if char.isascii() else \" \" for char in text]\n",
        "    clean_text = \"\".join(clean_text)\n",
        "    doc = nlp(clean_text)\n",
        "    tokens = [tok.lemma_.lower() for tok in doc if (not tok.is_stop) and (not tok.is_punct) and (not tok.like_num) and (not tok.is_space)]\n",
        "    return tokens"
      ],
      "metadata": {
        "id": "5qaXK1usGp9p"
      },
      "execution_count": null,
      "outputs": []
    },
    {
      "cell_type": "code",
      "source": [
        "biden_tokens = preprocess_text(biden)\n",
        "biden_tokens[:40]"
      ],
      "metadata": {
        "colab": {
          "base_uri": "https://localhost:8080/"
        },
        "id": "fdFQlRDeLOzY",
        "outputId": "6130b340-a8ba-4a8e-f32a-a205b97090b2"
      },
      "execution_count": null,
      "outputs": [
        {
          "output_type": "execute_result",
          "data": {
            "text/plain": [
              "['chief',\n",
              " 'justice',\n",
              " 'roberts',\n",
              " 'vice',\n",
              " 'president',\n",
              " 'harris',\n",
              " 'speaker',\n",
              " 'pelosi',\n",
              " 'leader',\n",
              " 'schumer',\n",
              " 'leader',\n",
              " 'mcconnell',\n",
              " 'vice',\n",
              " 'president',\n",
              " 'pence',\n",
              " 'distinguished',\n",
              " 'guest',\n",
              " 'fellow',\n",
              " 'americans',\n",
              " 'america',\n",
              " 'day',\n",
              " 'democracy',\n",
              " 'day',\n",
              " 'day',\n",
              " 'history',\n",
              " 'hope',\n",
              " 'renewal',\n",
              " 'resolve',\n",
              " 'crucible',\n",
              " 'age',\n",
              " 'america',\n",
              " 'test',\n",
              " 'anew',\n",
              " 'america',\n",
              " 'rise',\n",
              " 'challenge',\n",
              " 'today',\n",
              " 'celebrate',\n",
              " 'triumph',\n",
              " 'candidate']"
            ]
          },
          "metadata": {},
          "execution_count": 79
        }
      ]
    },
    {
      "cell_type": "code",
      "source": [
        "%time df['text'].apply(preprocess_text)"
      ],
      "metadata": {
        "id": "YQJ6KxunLkwK",
        "colab": {
          "base_uri": "https://localhost:8080/"
        },
        "outputId": "f75d462c-19b6-42b9-b9e2-e0e09d0079d7"
      },
      "execution_count": null,
      "outputs": [
        {
          "output_type": "stream",
          "name": "stdout",
          "text": [
            "CPU times: user 24.2 s, sys: 1.3 s, total: 25.4 s\n",
            "Wall time: 25.4 s\n"
          ]
        },
        {
          "output_type": "execute_result",
          "data": {
            "text/plain": [
              "year\n",
              "1789    [fellow, citizens, senate, house, representati...\n",
              "1793    [fellow, citizen, call, voice, country, execut...\n",
              "1797    [perceive, early, time, middle, course, americ...\n",
              "1801    [friends, fellow, citizens, call, undertake, d...\n",
              "1805    [proceeding, fellow, citizen, qualification, c...\n",
              "1809    [unwilling, depart, example, revere, authority...\n",
              "1813    [add, solemnity, oath, obligation, impose, sta...\n",
              "1817    [destitute, feeling, deeply, affect, strong, p...\n",
              "1821    [fellow, citizen, shall, attempt, describe, gr...\n",
              "1825    [compliance, usage, coeval, existence, federal...\n",
              "1829    [fellow, citizen, undertake, arduous, duty, ap...\n",
              "1833    [fellow, citizen, american, people, express, u...\n",
              "1837    [fellow, citizen, practice, predecessor, impos...\n",
              "1841    [call, retirement, suppose, continue, residue,...\n",
              "1845    [fellow, citizen, solicitation, choose, free, ...\n",
              "1849    [elect, american, people, high, office, know, ...\n",
              "1853    [countryman, relief, feel, heart, know, person...\n",
              "1857    [fellow, citizen, appear, day, solemn, oath, f...\n",
              "1861    [fellow, citizens, united, states, compliance,...\n",
              "1865    [fellow, countryman, appear, oath, presidentia...\n",
              "1869    [citizen, united, states, suffrage, having, el...\n",
              "1873    [fellow, citizens, providence, call, time, act...\n",
              "1877    [fellow, citizen, assemble, repeat, public, ce...\n",
              "1881    [fellow, citizens, stand, day, eminence, overl...\n",
              "1885    [fellow, citizen, presence, vast, assemblage, ...\n",
              "1889    [fellow, citizens, constitutional, legal, requ...\n",
              "1893    [fellow, citizen, obedience, mandate, countrym...\n",
              "1897    [fellow, citizen, obedience, people, presence,...\n",
              "1901    [fellow, citizen, assemble, march, great, anxi...\n",
              "1905    [fellow, citizen, people, earth, cause, thankf...\n",
              "1909    [fellow, citizen, take, oath, take, feel, heav...\n",
              "1913    [change, government, begin, year, ago, house, ...\n",
              "1917    [fellow, citizen, year, elapse, stand, place, ...\n",
              "1921    [countryman, survey, world, great, storm, note...\n",
              "1925    [countryman, contemplate, current, condition, ...\n",
              "1929    [countryman, occasion, administration, sacred,...\n",
              "1933    [certain, fellow, americans, expect, induction...\n",
              "1937    [year, ago, meet, inaugurate, president, repub...\n",
              "1941    [national, day, inauguration, people, renew, s...\n",
              "1945    [chief, justice, mr., vice, president, friend,...\n",
              "1949    [mr., vice, president, mr., chief, justice, fe...\n",
              "1953    [friend, begin, expression, thought, deem, app...\n",
              "1957    [price, peace, mr., chairman, mr., vice, presi...\n",
              "1961    [vice, president, johnson, mr., speaker, mr., ...\n",
              "1965    [fellow, countryman, occasion, oath, take, god...\n",
              "1969    [senator, dirksen, mr., chief, justice, mr., v...\n",
              "1973    [mr., vice, president, mr., speaker, mr., chie...\n",
              "1977    [nation, want, thank, predecessor, heal, land,...\n",
              "1981    [senator, hatfield, mr., chief, justice, mr., ...\n",
              "1985    [senator, mathias, chief, justice, burger, vic...\n",
              "1989    [mr., chief, justice, mr., president, vice, pr...\n",
              "1993    [fellow, citizen, today, celebrate, mystery, a...\n",
              "1997    [fellow, citizen, presidential, inauguration, ...\n",
              "2001    [president, clinton, distinguished, guest, fel...\n",
              "2005    [vice, president, cheney, mr., chief, justice,...\n",
              "2009    [fellow, citizen, stand, today, humble, task, ...\n",
              "2013    [thank, thank, vice, president, biden, mr., ch...\n",
              "2017    [chief, justice, roberts, president, carter, p...\n",
              "2021    [chief, justice, roberts, vice, president, har...\n",
              "Name: text, dtype: object"
            ]
          },
          "metadata": {},
          "execution_count": 80
        }
      ]
    },
    {
      "cell_type": "code",
      "source": [
        "nlp.pipe_names"
      ],
      "metadata": {
        "colab": {
          "base_uri": "https://localhost:8080/"
        },
        "id": "tUj13C3XsHxM",
        "outputId": "2f025c58-ee8f-4d02-8937-4cc5290f0243"
      },
      "execution_count": null,
      "outputs": [
        {
          "output_type": "execute_result",
          "data": {
            "text/plain": [
              "['tok2vec', 'tagger', 'parser', 'attribute_ruler', 'lemmatizer', 'ner']"
            ]
          },
          "metadata": {},
          "execution_count": 81
        }
      ]
    },
    {
      "cell_type": "code",
      "source": [
        "def preprocess_texts(texts):\n",
        "    clean_texts = []\n",
        "    for text in texts:\n",
        "        clean_text = [char if char.isascii() else \" \" for char in text]\n",
        "        clean_text = \"\".join(clean_text)\n",
        "        clean_texts.append(clean_text)\n",
        "    \n",
        "    # nlp.pipe() is more efficient than nlp()\n",
        "    clean_tokens = []\n",
        "    for doc in nlp.pipe(clean_texts, disable=[\"ner\", \"tagger\", \"parser\"]):\n",
        "        tokens = [tok.lemma_.lower() for tok in doc if (not tok.is_stop) and (not tok.is_punct) and (not tok.like_num) and (not tok.is_space)]\n",
        "        clean_tokens.append(tokens)\n",
        "\n",
        "    return clean_tokens"
      ],
      "metadata": {
        "id": "x-CbdQsDr27u"
      },
      "execution_count": null,
      "outputs": []
    },
    {
      "cell_type": "code",
      "source": [
        "%time doc_tokens = preprocess_texts(df['text'])"
      ],
      "metadata": {
        "colab": {
          "base_uri": "https://localhost:8080/"
        },
        "id": "k77VX4JatTsn",
        "outputId": "fd06b1b7-babc-4fa3-ef20-7501506a380d"
      },
      "execution_count": null,
      "outputs": [
        {
          "output_type": "stream",
          "name": "stdout",
          "text": [
            "CPU times: user 7.79 s, sys: 394 ms, total: 8.19 s\n",
            "Wall time: 8.15 s\n"
          ]
        }
      ]
    },
    {
      "cell_type": "code",
      "source": [
        "df['tokens'] = doc_tokens\n",
        "df"
      ],
      "metadata": {
        "colab": {
          "base_uri": "https://localhost:8080/",
          "height": 1000
        },
        "id": "Nzh8fTfJLswS",
        "outputId": "d7659e38-304c-4d7f-a66a-d230ab5e93cc"
      },
      "execution_count": null,
      "outputs": [
        {
          "output_type": "execute_result",
          "data": {
            "text/plain": [
              "       president                                               text  \\\n",
              "year                                                                  \n",
              "1789  Washington  Fellow-Citizens of the Senate and of the House...   \n",
              "1793  Washington  Fellow citizens, I am again called upon by the...   \n",
              "1797       Adams  When it was first perceived, in early times, t...   \n",
              "1801   Jefferson  Friends and Fellow Citizens:\\n\\nCalled upon to...   \n",
              "1805   Jefferson  Proceeding, fellow citizens, to that qualifica...   \n",
              "1809     Madison  Unwilling to depart from examples of the most ...   \n",
              "1813     Madison  About to add the solemnity of an oath to the o...   \n",
              "1817      Monroe  I should be destitute of feeling if I was not ...   \n",
              "1821      Monroe  Fellow citizens, I shall not attempt to descri...   \n",
              "1825       Adams  In compliance with an usage coeval with the ex...   \n",
              "1829     Jackson  Fellow citizens, about to undertake the arduou...   \n",
              "1833     Jackson  Fellow citizens, the will of the American peop...   \n",
              "1837    VanBuren  Fellow citizens: The practice of all my predec...   \n",
              "1841    Harrison  Called from a retirement which I had supposed ...   \n",
              "1845        Polk  Fellow citizens, without solicitation on my pa...   \n",
              "1849      Taylor  Elected by the American people to the highest ...   \n",
              "1853      Pierce  My Countrymen, It a relief to feel that no hea...   \n",
              "1857    Buchanan  Fellow citizens, I appear before you this day ...   \n",
              "1861     Lincoln  Fellow-Citizens of the United States: In compl...   \n",
              "1865     Lincoln  Fellow-Countrymen:\\n\\nAt this second appearing...   \n",
              "1869       Grant  Citizens of the United States:\\n\\nYour suffrag...   \n",
              "1873       Grant  Fellow-Citizens:\\n\\nUnder Providence I have be...   \n",
              "1877       Hayes  Fellow citizens, we have assembled to repeat t...   \n",
              "1881    Garfield  Fellow-Citizens:\\n\\nWe stand to-day upon an em...   \n",
              "1885   Cleveland  Fellow citizens, in the presence of this vast ...   \n",
              "1889    Harrison  Fellow-Citizens, there is no constitutional or...   \n",
              "1893   Cleveland  My Fellow citizens, in obedience of the mandat...   \n",
              "1897    McKinley  Fellow citizens, In obedience to the will of t...   \n",
              "1901    McKinley  My fellow-citizens, when we assembled here on ...   \n",
              "1905   Roosevelt  My fellow citizens, no people on earth have mo...   \n",
              "1909        Taft  My fellow citizens: Anyone who has taken the o...   \n",
              "1913      Wilson  There has been a change of government. It bega...   \n",
              "1917      Wilson  My Fellow citizens: The four years which have ...   \n",
              "1921     Harding  My Countrymen:\\n\\nWhen one surveys the world a...   \n",
              "1925    Coolidge  My countrymen,\\n\\nno one can contemplate curre...   \n",
              "1929      Hoover  My Countrymen: This occasion is not alone the ...   \n",
              "1933   Roosevelt  I am certain that my fellow Americans expect t...   \n",
              "1937   Roosevelt  When four years ago we met to inaugurate a Pre...   \n",
              "1941   Roosevelt  On each national day of inauguration since 178...   \n",
              "1945   Roosevelt  Chief Justice, Mr. Vice President, my friends,...   \n",
              "1949      Truman  Mr. Vice President, Mr. Chief Justice, and fel...   \n",
              "1953  Eisenhower  My friends, before I begin the expression of t...   \n",
              "1957  Eisenhower  The Price of Peace\\nMr. Chairman, Mr. Vice Pre...   \n",
              "1961     Kennedy  Vice President Johnson, Mr. Speaker, Mr. Chief...   \n",
              "1965     Johnson  My fellow countrymen, on this occasion, the oa...   \n",
              "1969       Nixon  Senator Dirksen, Mr. Chief Justice, Mr. Vice P...   \n",
              "1973       Nixon  Mr. Vice President, Mr. Speaker, Mr. Chief Jus...   \n",
              "1977      Carter  For myself and for our Nation, I want to thank...   \n",
              "1981      Reagan  Senator Hatfield, Mr. Chief Justice, Mr. Presi...   \n",
              "1985      Reagan  Senator Mathias, Chief Justice Burger, Vice Pr...   \n",
              "1989        Bush  Mr. Chief Justice, Mr. President, Vice Preside...   \n",
              "1993     Clinton  My fellow citizens, today we celebrate the mys...   \n",
              "1997     Clinton  My fellow citizens: At this last presidential ...   \n",
              "2001        Bush  President Clinton, distinguished guests and my...   \n",
              "2005        Bush  Vice President Cheney, Mr. Chief Justice, Pres...   \n",
              "2009       Obama  My fellow citizens:\\n\\nI stand here today humb...   \n",
              "2013       Obama  Thank you. Thank you so much.\\n\\nVice Presiden...   \n",
              "2017       Trump  Chief Justice Roberts, President Carter, Presi...   \n",
              "2021       Biden  Chief Justice Roberts, Vice President Harris, ...   \n",
              "\n",
              "                                                 tokens  \n",
              "year                                                     \n",
              "1789  [fellow, citizens, senate, house, representati...  \n",
              "1793  [fellow, citizens, called, voice, country, exe...  \n",
              "1797  [perceived, early, times, middle, course, amer...  \n",
              "1801  [friends, fellow, citizens, called, undertake,...  \n",
              "1805  [proceeding, fellow, citizens, qualification, ...  \n",
              "1809  [unwilling, depart, examples, revered, authori...  \n",
              "1813  [add, solemnity, oath, obligations, imposed, s...  \n",
              "1817  [destitute, feeling, deeply, affected, strong,...  \n",
              "1821  [fellow, citizens, shall, attempt, describe, g...  \n",
              "1825  [compliance, usage, coeval, existence, federal...  \n",
              "1829  [fellow, citizens, undertake, arduous, duties,...  \n",
              "1833  [fellow, citizens, american, people, expressed...  \n",
              "1837  [fellow, citizens, practice, predecessors, imp...  \n",
              "1841  [called, retirement, supposed, continue, resid...  \n",
              "1845  [fellow, citizens, solicitation, chosen, free,...  \n",
              "1849  [elected, american, people, highest, office, k...  \n",
              "1853  [countrymen, relief, feel, heart, know, person...  \n",
              "1857  [fellow, citizens, appear, day, solemn, oath, ...  \n",
              "1861  [fellow, citizens, united, states, compliance,...  \n",
              "1865  [fellow, countrymen, appearing, oath, presiden...  \n",
              "1869  [citizens, united, states, suffrages, having, ...  \n",
              "1873  [fellow, citizens, providence, called, time, a...  \n",
              "1877  [fellow, citizens, assembled, repeat, public, ...  \n",
              "1881  [fellow, citizens, stand, day, eminence, overl...  \n",
              "1885  [fellow, citizens, presence, vast, assemblage,...  \n",
              "1889  [fellow, citizens, constitutional, legal, requ...  \n",
              "1893  [fellow, citizens, obedience, mandate, country...  \n",
              "1897  [fellow, citizens, obedience, people, presence...  \n",
              "1901  [fellow, citizens, assembled, march, great, an...  \n",
              "1905  [fellow, citizens, people, earth, cause, thank...  \n",
              "1909  [fellow, citizens, taken, oath, taken, feel, h...  \n",
              "1913  [change, government, began, years, ago, house,...  \n",
              "1917  [fellow, citizens, years, elapsed, stood, plac...  \n",
              "1921  [countrymen, surveys, world, great, storm, not...  \n",
              "1925  [countrymen, contemplate, current, conditions,...  \n",
              "1929  [countrymen, occasion, administration, sacred,...  \n",
              "1933  [certain, fellow, americans, expect, induction...  \n",
              "1937  [years, ago, met, inaugurate, president, repub...  \n",
              "1941  [national, day, inauguration, people, renewed,...  \n",
              "1945  [chief, justice, mr., vice, president, friends...  \n",
              "1949  [mr., vice, president, mr., chief, justice, fe...  \n",
              "1953  [friends, begin, expression, thoughts, deem, a...  \n",
              "1957  [price, peace, mr., chairman, mr., vice, presi...  \n",
              "1961  [vice, president, johnson, mr., speaker, mr., ...  \n",
              "1965  [fellow, countrymen, occasion, oath, taken, go...  \n",
              "1969  [senator, dirksen, mr., chief, justice, mr., v...  \n",
              "1973  [mr., vice, president, mr., speaker, mr., chie...  \n",
              "1977  [nation, want, thank, predecessor, heal, land,...  \n",
              "1981  [senator, hatfield, mr., chief, justice, mr., ...  \n",
              "1985  [senator, mathias, chief, justice, burger, vic...  \n",
              "1989  [mr., chief, justice, mr., president, vice, pr...  \n",
              "1993  [fellow, citizens, today, celebrate, mystery, ...  \n",
              "1997  [fellow, citizens, presidential, inauguration,...  \n",
              "2001  [president, clinton, distinguished, guests, fe...  \n",
              "2005  [vice, president, cheney, mr., chief, justice,...  \n",
              "2009  [fellow, citizens, stand, today, humbled, task...  \n",
              "2013  [thank, thank, vice, president, biden, mr., ch...  \n",
              "2017  [chief, justice, roberts, president, carter, p...  \n",
              "2021  [chief, justice, roberts, vice, president, har...  "
            ],
            "text/html": [
              "\n",
              "  <div id=\"df-24086795-4fab-4883-a22a-5cefbf349468\">\n",
              "    <div class=\"colab-df-container\">\n",
              "      <div>\n",
              "<style scoped>\n",
              "    .dataframe tbody tr th:only-of-type {\n",
              "        vertical-align: middle;\n",
              "    }\n",
              "\n",
              "    .dataframe tbody tr th {\n",
              "        vertical-align: top;\n",
              "    }\n",
              "\n",
              "    .dataframe thead th {\n",
              "        text-align: right;\n",
              "    }\n",
              "</style>\n",
              "<table border=\"1\" class=\"dataframe\">\n",
              "  <thead>\n",
              "    <tr style=\"text-align: right;\">\n",
              "      <th></th>\n",
              "      <th>president</th>\n",
              "      <th>text</th>\n",
              "      <th>tokens</th>\n",
              "    </tr>\n",
              "    <tr>\n",
              "      <th>year</th>\n",
              "      <th></th>\n",
              "      <th></th>\n",
              "      <th></th>\n",
              "    </tr>\n",
              "  </thead>\n",
              "  <tbody>\n",
              "    <tr>\n",
              "      <th>1789</th>\n",
              "      <td>Washington</td>\n",
              "      <td>Fellow-Citizens of the Senate and of the House...</td>\n",
              "      <td>[fellow, citizens, senate, house, representati...</td>\n",
              "    </tr>\n",
              "    <tr>\n",
              "      <th>1793</th>\n",
              "      <td>Washington</td>\n",
              "      <td>Fellow citizens, I am again called upon by the...</td>\n",
              "      <td>[fellow, citizens, called, voice, country, exe...</td>\n",
              "    </tr>\n",
              "    <tr>\n",
              "      <th>1797</th>\n",
              "      <td>Adams</td>\n",
              "      <td>When it was first perceived, in early times, t...</td>\n",
              "      <td>[perceived, early, times, middle, course, amer...</td>\n",
              "    </tr>\n",
              "    <tr>\n",
              "      <th>1801</th>\n",
              "      <td>Jefferson</td>\n",
              "      <td>Friends and Fellow Citizens:\\n\\nCalled upon to...</td>\n",
              "      <td>[friends, fellow, citizens, called, undertake,...</td>\n",
              "    </tr>\n",
              "    <tr>\n",
              "      <th>1805</th>\n",
              "      <td>Jefferson</td>\n",
              "      <td>Proceeding, fellow citizens, to that qualifica...</td>\n",
              "      <td>[proceeding, fellow, citizens, qualification, ...</td>\n",
              "    </tr>\n",
              "    <tr>\n",
              "      <th>1809</th>\n",
              "      <td>Madison</td>\n",
              "      <td>Unwilling to depart from examples of the most ...</td>\n",
              "      <td>[unwilling, depart, examples, revered, authori...</td>\n",
              "    </tr>\n",
              "    <tr>\n",
              "      <th>1813</th>\n",
              "      <td>Madison</td>\n",
              "      <td>About to add the solemnity of an oath to the o...</td>\n",
              "      <td>[add, solemnity, oath, obligations, imposed, s...</td>\n",
              "    </tr>\n",
              "    <tr>\n",
              "      <th>1817</th>\n",
              "      <td>Monroe</td>\n",
              "      <td>I should be destitute of feeling if I was not ...</td>\n",
              "      <td>[destitute, feeling, deeply, affected, strong,...</td>\n",
              "    </tr>\n",
              "    <tr>\n",
              "      <th>1821</th>\n",
              "      <td>Monroe</td>\n",
              "      <td>Fellow citizens, I shall not attempt to descri...</td>\n",
              "      <td>[fellow, citizens, shall, attempt, describe, g...</td>\n",
              "    </tr>\n",
              "    <tr>\n",
              "      <th>1825</th>\n",
              "      <td>Adams</td>\n",
              "      <td>In compliance with an usage coeval with the ex...</td>\n",
              "      <td>[compliance, usage, coeval, existence, federal...</td>\n",
              "    </tr>\n",
              "    <tr>\n",
              "      <th>1829</th>\n",
              "      <td>Jackson</td>\n",
              "      <td>Fellow citizens, about to undertake the arduou...</td>\n",
              "      <td>[fellow, citizens, undertake, arduous, duties,...</td>\n",
              "    </tr>\n",
              "    <tr>\n",
              "      <th>1833</th>\n",
              "      <td>Jackson</td>\n",
              "      <td>Fellow citizens, the will of the American peop...</td>\n",
              "      <td>[fellow, citizens, american, people, expressed...</td>\n",
              "    </tr>\n",
              "    <tr>\n",
              "      <th>1837</th>\n",
              "      <td>VanBuren</td>\n",
              "      <td>Fellow citizens: The practice of all my predec...</td>\n",
              "      <td>[fellow, citizens, practice, predecessors, imp...</td>\n",
              "    </tr>\n",
              "    <tr>\n",
              "      <th>1841</th>\n",
              "      <td>Harrison</td>\n",
              "      <td>Called from a retirement which I had supposed ...</td>\n",
              "      <td>[called, retirement, supposed, continue, resid...</td>\n",
              "    </tr>\n",
              "    <tr>\n",
              "      <th>1845</th>\n",
              "      <td>Polk</td>\n",
              "      <td>Fellow citizens, without solicitation on my pa...</td>\n",
              "      <td>[fellow, citizens, solicitation, chosen, free,...</td>\n",
              "    </tr>\n",
              "    <tr>\n",
              "      <th>1849</th>\n",
              "      <td>Taylor</td>\n",
              "      <td>Elected by the American people to the highest ...</td>\n",
              "      <td>[elected, american, people, highest, office, k...</td>\n",
              "    </tr>\n",
              "    <tr>\n",
              "      <th>1853</th>\n",
              "      <td>Pierce</td>\n",
              "      <td>My Countrymen, It a relief to feel that no hea...</td>\n",
              "      <td>[countrymen, relief, feel, heart, know, person...</td>\n",
              "    </tr>\n",
              "    <tr>\n",
              "      <th>1857</th>\n",
              "      <td>Buchanan</td>\n",
              "      <td>Fellow citizens, I appear before you this day ...</td>\n",
              "      <td>[fellow, citizens, appear, day, solemn, oath, ...</td>\n",
              "    </tr>\n",
              "    <tr>\n",
              "      <th>1861</th>\n",
              "      <td>Lincoln</td>\n",
              "      <td>Fellow-Citizens of the United States: In compl...</td>\n",
              "      <td>[fellow, citizens, united, states, compliance,...</td>\n",
              "    </tr>\n",
              "    <tr>\n",
              "      <th>1865</th>\n",
              "      <td>Lincoln</td>\n",
              "      <td>Fellow-Countrymen:\\n\\nAt this second appearing...</td>\n",
              "      <td>[fellow, countrymen, appearing, oath, presiden...</td>\n",
              "    </tr>\n",
              "    <tr>\n",
              "      <th>1869</th>\n",
              "      <td>Grant</td>\n",
              "      <td>Citizens of the United States:\\n\\nYour suffrag...</td>\n",
              "      <td>[citizens, united, states, suffrages, having, ...</td>\n",
              "    </tr>\n",
              "    <tr>\n",
              "      <th>1873</th>\n",
              "      <td>Grant</td>\n",
              "      <td>Fellow-Citizens:\\n\\nUnder Providence I have be...</td>\n",
              "      <td>[fellow, citizens, providence, called, time, a...</td>\n",
              "    </tr>\n",
              "    <tr>\n",
              "      <th>1877</th>\n",
              "      <td>Hayes</td>\n",
              "      <td>Fellow citizens, we have assembled to repeat t...</td>\n",
              "      <td>[fellow, citizens, assembled, repeat, public, ...</td>\n",
              "    </tr>\n",
              "    <tr>\n",
              "      <th>1881</th>\n",
              "      <td>Garfield</td>\n",
              "      <td>Fellow-Citizens:\\n\\nWe stand to-day upon an em...</td>\n",
              "      <td>[fellow, citizens, stand, day, eminence, overl...</td>\n",
              "    </tr>\n",
              "    <tr>\n",
              "      <th>1885</th>\n",
              "      <td>Cleveland</td>\n",
              "      <td>Fellow citizens, in the presence of this vast ...</td>\n",
              "      <td>[fellow, citizens, presence, vast, assemblage,...</td>\n",
              "    </tr>\n",
              "    <tr>\n",
              "      <th>1889</th>\n",
              "      <td>Harrison</td>\n",
              "      <td>Fellow-Citizens, there is no constitutional or...</td>\n",
              "      <td>[fellow, citizens, constitutional, legal, requ...</td>\n",
              "    </tr>\n",
              "    <tr>\n",
              "      <th>1893</th>\n",
              "      <td>Cleveland</td>\n",
              "      <td>My Fellow citizens, in obedience of the mandat...</td>\n",
              "      <td>[fellow, citizens, obedience, mandate, country...</td>\n",
              "    </tr>\n",
              "    <tr>\n",
              "      <th>1897</th>\n",
              "      <td>McKinley</td>\n",
              "      <td>Fellow citizens, In obedience to the will of t...</td>\n",
              "      <td>[fellow, citizens, obedience, people, presence...</td>\n",
              "    </tr>\n",
              "    <tr>\n",
              "      <th>1901</th>\n",
              "      <td>McKinley</td>\n",
              "      <td>My fellow-citizens, when we assembled here on ...</td>\n",
              "      <td>[fellow, citizens, assembled, march, great, an...</td>\n",
              "    </tr>\n",
              "    <tr>\n",
              "      <th>1905</th>\n",
              "      <td>Roosevelt</td>\n",
              "      <td>My fellow citizens, no people on earth have mo...</td>\n",
              "      <td>[fellow, citizens, people, earth, cause, thank...</td>\n",
              "    </tr>\n",
              "    <tr>\n",
              "      <th>1909</th>\n",
              "      <td>Taft</td>\n",
              "      <td>My fellow citizens: Anyone who has taken the o...</td>\n",
              "      <td>[fellow, citizens, taken, oath, taken, feel, h...</td>\n",
              "    </tr>\n",
              "    <tr>\n",
              "      <th>1913</th>\n",
              "      <td>Wilson</td>\n",
              "      <td>There has been a change of government. It bega...</td>\n",
              "      <td>[change, government, began, years, ago, house,...</td>\n",
              "    </tr>\n",
              "    <tr>\n",
              "      <th>1917</th>\n",
              "      <td>Wilson</td>\n",
              "      <td>My Fellow citizens: The four years which have ...</td>\n",
              "      <td>[fellow, citizens, years, elapsed, stood, plac...</td>\n",
              "    </tr>\n",
              "    <tr>\n",
              "      <th>1921</th>\n",
              "      <td>Harding</td>\n",
              "      <td>My Countrymen:\\n\\nWhen one surveys the world a...</td>\n",
              "      <td>[countrymen, surveys, world, great, storm, not...</td>\n",
              "    </tr>\n",
              "    <tr>\n",
              "      <th>1925</th>\n",
              "      <td>Coolidge</td>\n",
              "      <td>My countrymen,\\n\\nno one can contemplate curre...</td>\n",
              "      <td>[countrymen, contemplate, current, conditions,...</td>\n",
              "    </tr>\n",
              "    <tr>\n",
              "      <th>1929</th>\n",
              "      <td>Hoover</td>\n",
              "      <td>My Countrymen: This occasion is not alone the ...</td>\n",
              "      <td>[countrymen, occasion, administration, sacred,...</td>\n",
              "    </tr>\n",
              "    <tr>\n",
              "      <th>1933</th>\n",
              "      <td>Roosevelt</td>\n",
              "      <td>I am certain that my fellow Americans expect t...</td>\n",
              "      <td>[certain, fellow, americans, expect, induction...</td>\n",
              "    </tr>\n",
              "    <tr>\n",
              "      <th>1937</th>\n",
              "      <td>Roosevelt</td>\n",
              "      <td>When four years ago we met to inaugurate a Pre...</td>\n",
              "      <td>[years, ago, met, inaugurate, president, repub...</td>\n",
              "    </tr>\n",
              "    <tr>\n",
              "      <th>1941</th>\n",
              "      <td>Roosevelt</td>\n",
              "      <td>On each national day of inauguration since 178...</td>\n",
              "      <td>[national, day, inauguration, people, renewed,...</td>\n",
              "    </tr>\n",
              "    <tr>\n",
              "      <th>1945</th>\n",
              "      <td>Roosevelt</td>\n",
              "      <td>Chief Justice, Mr. Vice President, my friends,...</td>\n",
              "      <td>[chief, justice, mr., vice, president, friends...</td>\n",
              "    </tr>\n",
              "    <tr>\n",
              "      <th>1949</th>\n",
              "      <td>Truman</td>\n",
              "      <td>Mr. Vice President, Mr. Chief Justice, and fel...</td>\n",
              "      <td>[mr., vice, president, mr., chief, justice, fe...</td>\n",
              "    </tr>\n",
              "    <tr>\n",
              "      <th>1953</th>\n",
              "      <td>Eisenhower</td>\n",
              "      <td>My friends, before I begin the expression of t...</td>\n",
              "      <td>[friends, begin, expression, thoughts, deem, a...</td>\n",
              "    </tr>\n",
              "    <tr>\n",
              "      <th>1957</th>\n",
              "      <td>Eisenhower</td>\n",
              "      <td>The Price of Peace\\nMr. Chairman, Mr. Vice Pre...</td>\n",
              "      <td>[price, peace, mr., chairman, mr., vice, presi...</td>\n",
              "    </tr>\n",
              "    <tr>\n",
              "      <th>1961</th>\n",
              "      <td>Kennedy</td>\n",
              "      <td>Vice President Johnson, Mr. Speaker, Mr. Chief...</td>\n",
              "      <td>[vice, president, johnson, mr., speaker, mr., ...</td>\n",
              "    </tr>\n",
              "    <tr>\n",
              "      <th>1965</th>\n",
              "      <td>Johnson</td>\n",
              "      <td>My fellow countrymen, on this occasion, the oa...</td>\n",
              "      <td>[fellow, countrymen, occasion, oath, taken, go...</td>\n",
              "    </tr>\n",
              "    <tr>\n",
              "      <th>1969</th>\n",
              "      <td>Nixon</td>\n",
              "      <td>Senator Dirksen, Mr. Chief Justice, Mr. Vice P...</td>\n",
              "      <td>[senator, dirksen, mr., chief, justice, mr., v...</td>\n",
              "    </tr>\n",
              "    <tr>\n",
              "      <th>1973</th>\n",
              "      <td>Nixon</td>\n",
              "      <td>Mr. Vice President, Mr. Speaker, Mr. Chief Jus...</td>\n",
              "      <td>[mr., vice, president, mr., speaker, mr., chie...</td>\n",
              "    </tr>\n",
              "    <tr>\n",
              "      <th>1977</th>\n",
              "      <td>Carter</td>\n",
              "      <td>For myself and for our Nation, I want to thank...</td>\n",
              "      <td>[nation, want, thank, predecessor, heal, land,...</td>\n",
              "    </tr>\n",
              "    <tr>\n",
              "      <th>1981</th>\n",
              "      <td>Reagan</td>\n",
              "      <td>Senator Hatfield, Mr. Chief Justice, Mr. Presi...</td>\n",
              "      <td>[senator, hatfield, mr., chief, justice, mr., ...</td>\n",
              "    </tr>\n",
              "    <tr>\n",
              "      <th>1985</th>\n",
              "      <td>Reagan</td>\n",
              "      <td>Senator Mathias, Chief Justice Burger, Vice Pr...</td>\n",
              "      <td>[senator, mathias, chief, justice, burger, vic...</td>\n",
              "    </tr>\n",
              "    <tr>\n",
              "      <th>1989</th>\n",
              "      <td>Bush</td>\n",
              "      <td>Mr. Chief Justice, Mr. President, Vice Preside...</td>\n",
              "      <td>[mr., chief, justice, mr., president, vice, pr...</td>\n",
              "    </tr>\n",
              "    <tr>\n",
              "      <th>1993</th>\n",
              "      <td>Clinton</td>\n",
              "      <td>My fellow citizens, today we celebrate the mys...</td>\n",
              "      <td>[fellow, citizens, today, celebrate, mystery, ...</td>\n",
              "    </tr>\n",
              "    <tr>\n",
              "      <th>1997</th>\n",
              "      <td>Clinton</td>\n",
              "      <td>My fellow citizens: At this last presidential ...</td>\n",
              "      <td>[fellow, citizens, presidential, inauguration,...</td>\n",
              "    </tr>\n",
              "    <tr>\n",
              "      <th>2001</th>\n",
              "      <td>Bush</td>\n",
              "      <td>President Clinton, distinguished guests and my...</td>\n",
              "      <td>[president, clinton, distinguished, guests, fe...</td>\n",
              "    </tr>\n",
              "    <tr>\n",
              "      <th>2005</th>\n",
              "      <td>Bush</td>\n",
              "      <td>Vice President Cheney, Mr. Chief Justice, Pres...</td>\n",
              "      <td>[vice, president, cheney, mr., chief, justice,...</td>\n",
              "    </tr>\n",
              "    <tr>\n",
              "      <th>2009</th>\n",
              "      <td>Obama</td>\n",
              "      <td>My fellow citizens:\\n\\nI stand here today humb...</td>\n",
              "      <td>[fellow, citizens, stand, today, humbled, task...</td>\n",
              "    </tr>\n",
              "    <tr>\n",
              "      <th>2013</th>\n",
              "      <td>Obama</td>\n",
              "      <td>Thank you. Thank you so much.\\n\\nVice Presiden...</td>\n",
              "      <td>[thank, thank, vice, president, biden, mr., ch...</td>\n",
              "    </tr>\n",
              "    <tr>\n",
              "      <th>2017</th>\n",
              "      <td>Trump</td>\n",
              "      <td>Chief Justice Roberts, President Carter, Presi...</td>\n",
              "      <td>[chief, justice, roberts, president, carter, p...</td>\n",
              "    </tr>\n",
              "    <tr>\n",
              "      <th>2021</th>\n",
              "      <td>Biden</td>\n",
              "      <td>Chief Justice Roberts, Vice President Harris, ...</td>\n",
              "      <td>[chief, justice, roberts, vice, president, har...</td>\n",
              "    </tr>\n",
              "  </tbody>\n",
              "</table>\n",
              "</div>\n",
              "      <button class=\"colab-df-convert\" onclick=\"convertToInteractive('df-24086795-4fab-4883-a22a-5cefbf349468')\"\n",
              "              title=\"Convert this dataframe to an interactive table.\"\n",
              "              style=\"display:none;\">\n",
              "        \n",
              "  <svg xmlns=\"http://www.w3.org/2000/svg\" height=\"24px\"viewBox=\"0 0 24 24\"\n",
              "       width=\"24px\">\n",
              "    <path d=\"M0 0h24v24H0V0z\" fill=\"none\"/>\n",
              "    <path d=\"M18.56 5.44l.94 2.06.94-2.06 2.06-.94-2.06-.94-.94-2.06-.94 2.06-2.06.94zm-11 1L8.5 8.5l.94-2.06 2.06-.94-2.06-.94L8.5 2.5l-.94 2.06-2.06.94zm10 10l.94 2.06.94-2.06 2.06-.94-2.06-.94-.94-2.06-.94 2.06-2.06.94z\"/><path d=\"M17.41 7.96l-1.37-1.37c-.4-.4-.92-.59-1.43-.59-.52 0-1.04.2-1.43.59L10.3 9.45l-7.72 7.72c-.78.78-.78 2.05 0 2.83L4 21.41c.39.39.9.59 1.41.59.51 0 1.02-.2 1.41-.59l7.78-7.78 2.81-2.81c.8-.78.8-2.07 0-2.86zM5.41 20L4 18.59l7.72-7.72 1.47 1.35L5.41 20z\"/>\n",
              "  </svg>\n",
              "      </button>\n",
              "      \n",
              "  <style>\n",
              "    .colab-df-container {\n",
              "      display:flex;\n",
              "      flex-wrap:wrap;\n",
              "      gap: 12px;\n",
              "    }\n",
              "\n",
              "    .colab-df-convert {\n",
              "      background-color: #E8F0FE;\n",
              "      border: none;\n",
              "      border-radius: 50%;\n",
              "      cursor: pointer;\n",
              "      display: none;\n",
              "      fill: #1967D2;\n",
              "      height: 32px;\n",
              "      padding: 0 0 0 0;\n",
              "      width: 32px;\n",
              "    }\n",
              "\n",
              "    .colab-df-convert:hover {\n",
              "      background-color: #E2EBFA;\n",
              "      box-shadow: 0px 1px 2px rgba(60, 64, 67, 0.3), 0px 1px 3px 1px rgba(60, 64, 67, 0.15);\n",
              "      fill: #174EA6;\n",
              "    }\n",
              "\n",
              "    [theme=dark] .colab-df-convert {\n",
              "      background-color: #3B4455;\n",
              "      fill: #D2E3FC;\n",
              "    }\n",
              "\n",
              "    [theme=dark] .colab-df-convert:hover {\n",
              "      background-color: #434B5C;\n",
              "      box-shadow: 0px 1px 3px 1px rgba(0, 0, 0, 0.15);\n",
              "      filter: drop-shadow(0px 1px 2px rgba(0, 0, 0, 0.3));\n",
              "      fill: #FFFFFF;\n",
              "    }\n",
              "  </style>\n",
              "\n",
              "      <script>\n",
              "        const buttonEl =\n",
              "          document.querySelector('#df-24086795-4fab-4883-a22a-5cefbf349468 button.colab-df-convert');\n",
              "        buttonEl.style.display =\n",
              "          google.colab.kernel.accessAllowed ? 'block' : 'none';\n",
              "\n",
              "        async function convertToInteractive(key) {\n",
              "          const element = document.querySelector('#df-24086795-4fab-4883-a22a-5cefbf349468');\n",
              "          const dataTable =\n",
              "            await google.colab.kernel.invokeFunction('convertToInteractive',\n",
              "                                                     [key], {});\n",
              "          if (!dataTable) return;\n",
              "\n",
              "          const docLinkHtml = 'Like what you see? Visit the ' +\n",
              "            '<a target=\"_blank\" href=https://colab.research.google.com/notebooks/data_table.ipynb>data table notebook</a>'\n",
              "            + ' to learn more about interactive tables.';\n",
              "          element.innerHTML = '';\n",
              "          dataTable['output_type'] = 'display_data';\n",
              "          await google.colab.output.renderOutput(dataTable, element);\n",
              "          const docLink = document.createElement('div');\n",
              "          docLink.innerHTML = docLinkHtml;\n",
              "          element.appendChild(docLink);\n",
              "        }\n",
              "      </script>\n",
              "    </div>\n",
              "  </div>\n",
              "  "
            ]
          },
          "metadata": {},
          "execution_count": 84
        }
      ]
    },
    {
      "cell_type": "markdown",
      "metadata": {
        "id": "ZowfPrd0Y-z-"
      },
      "source": [
        "And this is the magic of spaCy - just like that, we've managed to get rid of stopwords, punctauation markers, and added the lemmatized word. There's lot more we can do with spaCy which I would really recommend checking out."
      ]
    },
    {
      "cell_type": "markdown",
      "source": [
        "### N-gram model"
      ],
      "metadata": {
        "id": "P4NkhPAMSC4C"
      }
    },
    {
      "cell_type": "markdown",
      "source": [
        "![](https://www.oreilly.com/library/view/fasttext-quick-start/9781789130997/assets/4b93186c-0e7e-4b99-81e3-86d6d9646dd5.jpg)"
      ],
      "metadata": {
        "id": "8EXSjqncSHjt"
      }
    },
    {
      "cell_type": "markdown",
      "source": [
        "Sometimes topic models make more sense when 'New' and 'York' are treated as 'New_York' - we can do this by creating a bigram model and modifying our corpus accordingly. Gensim's `Phrases` calculates the collocation probability of a bigram by **Pointwise Mutual Information** (PMI)."
      ],
      "metadata": {
        "id": "w39r5ncpSUTQ"
      }
    },
    {
      "cell_type": "markdown",
      "source": [
        "![](https://slideplayer.com/slide/10047040/32/images/20/Pointwise+Mutual+Information.jpg)"
      ],
      "metadata": {
        "id": "q0F-z7-q6On9"
      }
    },
    {
      "cell_type": "code",
      "source": [
        "texts = df['tokens']"
      ],
      "metadata": {
        "id": "7CFI_xYsMiVD"
      },
      "execution_count": null,
      "outputs": []
    },
    {
      "cell_type": "code",
      "execution_count": null,
      "metadata": {
        "id": "lxu8Rw-kY-z_"
      },
      "outputs": [],
      "source": [
        "bigram = gensim.models.Phrases(texts)"
      ]
    },
    {
      "cell_type": "code",
      "execution_count": null,
      "metadata": {
        "collapsed": true,
        "id": "u88f5W8xY-z_"
      },
      "outputs": [],
      "source": [
        "texts = [bigram[text] for text in texts]"
      ]
    },
    {
      "cell_type": "code",
      "source": [
        "texts[0][-30:]"
      ],
      "metadata": {
        "colab": {
          "base_uri": "https://localhost:8080/"
        },
        "id": "uvKTzXIJP1Vd",
        "outputId": "9f3e504a-62ec-44b4-92a7-dda8c2a4a16f"
      },
      "execution_count": null,
      "outputs": [
        {
          "output_type": "execute_result",
          "data": {
            "text/plain": [
              "['supplication',\n",
              " 'pleased',\n",
              " 'favor',\n",
              " 'american_people',\n",
              " 'opportunities',\n",
              " 'deliberating',\n",
              " 'perfect',\n",
              " 'tranquillity',\n",
              " 'dispositions',\n",
              " 'deciding',\n",
              " 'unparalleled',\n",
              " 'unanimity',\n",
              " 'form_government',\n",
              " 'security',\n",
              " 'union',\n",
              " 'advancement',\n",
              " 'happiness',\n",
              " 'divine',\n",
              " 'blessing',\n",
              " 'equally',\n",
              " 'conspicuous',\n",
              " 'enlarged',\n",
              " 'views',\n",
              " 'temperate',\n",
              " 'consultations',\n",
              " 'wise',\n",
              " 'measures',\n",
              " 'success',\n",
              " 'government',\n",
              " 'depend']"
            ]
          },
          "metadata": {},
          "execution_count": 88
        }
      ]
    },
    {
      "cell_type": "markdown",
      "source": [
        "### Gensim dictionary"
      ],
      "metadata": {
        "id": "xjUwO8Wpgv2O"
      }
    },
    {
      "cell_type": "markdown",
      "source": [
        "A gensim dictionary stores a mapping between tokens and their integer IDs."
      ],
      "metadata": {
        "id": "zrfhyzgMRY89"
      }
    },
    {
      "cell_type": "code",
      "execution_count": null,
      "metadata": {
        "id": "yxzYTKKDY-z_"
      },
      "outputs": [],
      "source": [
        "dictionary = Dictionary(texts)"
      ]
    },
    {
      "cell_type": "markdown",
      "source": [
        "The gensim dictionary object has a built-in method `filter_extremes`, which allows you to filter out tokens in the dictionary by their frequency. See [the official documentation](https://radimrehurek.com/gensim/corpora/dictionary.html) for details.\n",
        "\n",
        "Parameters of the `filter_extremes` method:\n",
        "- no_below (int, optional) – Keep tokens which are contained in at least no_below documents.\n",
        "\n",
        "- no_above (float, optional) – Keep tokens which are contained in no more than no_above documents (fraction of total corpus size, not an absolute number).\n",
        "\n",
        "- keep_n (int, optional) – Keep only the first keep_n most frequent tokens.\n",
        "\n",
        "- keep_tokens (iterable of str) – Iterable of tokens that must stay in dictionary after filtering."
      ],
      "metadata": {
        "id": "XQ8Fqz9meIZs"
      }
    },
    {
      "cell_type": "code",
      "source": [
        "dictionary.filter_extremes(no_above=0.8)"
      ],
      "metadata": {
        "id": "oqJg4bJSd0v8"
      },
      "execution_count": null,
      "outputs": []
    },
    {
      "cell_type": "code",
      "source": [
        "dictionary[1]"
      ],
      "metadata": {
        "colab": {
          "base_uri": "https://localhost:8080/",
          "height": 35
        },
        "id": "Fk7RFeLOD9dY",
        "outputId": "bc80abe5-b08b-49b7-c895-28540f223c79"
      },
      "execution_count": null,
      "outputs": [
        {
          "output_type": "execute_result",
          "data": {
            "text/plain": [
              "'acknowledge'"
            ],
            "application/vnd.google.colaboratory.intrinsic+json": {
              "type": "string"
            }
          },
          "metadata": {},
          "execution_count": 113
        }
      ]
    },
    {
      "cell_type": "code",
      "source": [
        "dictionary.token2id['acknowledge']"
      ],
      "metadata": {
        "colab": {
          "base_uri": "https://localhost:8080/"
        },
        "id": "Iw6H-UcHSbry",
        "outputId": "fb172073-275f-4bc8-e3ed-8523bdb20d67"
      },
      "execution_count": null,
      "outputs": [
        {
          "output_type": "execute_result",
          "data": {
            "text/plain": [
              "1"
            ]
          },
          "metadata": {},
          "execution_count": 116
        }
      ]
    },
    {
      "cell_type": "code",
      "source": [
        "print(dictionary)"
      ],
      "metadata": {
        "colab": {
          "base_uri": "https://localhost:8080/"
        },
        "id": "XYPmMZXlSwhK",
        "outputId": "936505d2-4c97-4717-d6dd-8c4f58a6eada"
      },
      "execution_count": null,
      "outputs": [
        {
          "output_type": "stream",
          "name": "stdout",
          "text": [
            "Dictionary(2246 unique tokens: ['accomplished', 'acknowledge', 'act', 'actual', 'add']...)\n"
          ]
        }
      ]
    },
    {
      "cell_type": "markdown",
      "source": [
        "### Bag of words (BOW)"
      ],
      "metadata": {
        "id": "yFh9sepqTLmK"
      }
    },
    {
      "cell_type": "markdown",
      "source": [
        "![](https://miro.medium.com/max/1322/1*3K9GIOVLNu0cRvQap_KaRg.png)"
      ],
      "metadata": {
        "id": "sdRUvVW_TPDz"
      }
    },
    {
      "cell_type": "markdown",
      "source": [
        "A gensim corpus stores a mapping between word IDs and their frequencies in the bag-of-words format."
      ],
      "metadata": {
        "id": "vPlO7An8T2uc"
      }
    },
    {
      "cell_type": "code",
      "source": [
        "corpus = [dictionary.doc2bow(text) for text in texts]"
      ],
      "metadata": {
        "id": "PH_408ZIRdYx"
      },
      "execution_count": null,
      "outputs": []
    },
    {
      "cell_type": "markdown",
      "source": [
        "`docid` can be any number between 0 and 58 because there are 59 documents in the corpus."
      ],
      "metadata": {
        "id": "FRVq1xdJUGfq"
      }
    },
    {
      "cell_type": "code",
      "source": [
        "# docid 58 refers to Biden's speech\n",
        "docid = 58\n",
        "corpus[docid]"
      ],
      "metadata": {
        "colab": {
          "base_uri": "https://localhost:8080/"
        },
        "id": "vDC0mxIQTtoL",
        "outputId": "92bf17db-92f9-4131-be12-471893d50467"
      },
      "execution_count": null,
      "outputs": [
        {
          "output_type": "execute_result",
          "data": {
            "text/plain": [
              "[(2, 2),\n",
              " (4, 2),\n",
              " (35, 2),\n",
              " (44, 1),\n",
              " (60, 2),\n",
              " (65, 2),\n",
              " (67, 6),\n",
              " (80, 1),\n",
              " (83, 2),\n",
              " (90, 1),\n",
              " (97, 1),\n",
              " (109, 2),\n",
              " (115, 1),\n",
              " (116, 1),\n",
              " (119, 1),\n",
              " (122, 3),\n",
              " (129, 2),\n",
              " (135, 3),\n",
              " (140, 3),\n",
              " (142, 1),\n",
              " (145, 1),\n",
              " (152, 1),\n",
              " (156, 3),\n",
              " (165, 2),\n",
              " (166, 1),\n",
              " (167, 1),\n",
              " (170, 1),\n",
              " (172, 5),\n",
              " (174, 1),\n",
              " (176, 3),\n",
              " (181, 1),\n",
              " (186, 3),\n",
              " (187, 1),\n",
              " (196, 1),\n",
              " (201, 1),\n",
              " (202, 1),\n",
              " (203, 1),\n",
              " (212, 4),\n",
              " (222, 1),\n",
              " (226, 1),\n",
              " (241, 3),\n",
              " (242, 1),\n",
              " (247, 3),\n",
              " (250, 3),\n",
              " (253, 2),\n",
              " (255, 1),\n",
              " (258, 2),\n",
              " (261, 1),\n",
              " (263, 2),\n",
              " (276, 1),\n",
              " (279, 5),\n",
              " (280, 1),\n",
              " (282, 2),\n",
              " (290, 1),\n",
              " (291, 5),\n",
              " (296, 1),\n",
              " (297, 21),\n",
              " (303, 1),\n",
              " (305, 3),\n",
              " (306, 2),\n",
              " (308, 1),\n",
              " (312, 2),\n",
              " (329, 2),\n",
              " (340, 2),\n",
              " (341, 4),\n",
              " (348, 4),\n",
              " (349, 1),\n",
              " (359, 3),\n",
              " (367, 1),\n",
              " (373, 1),\n",
              " (392, 1),\n",
              " (401, 1),\n",
              " (416, 2),\n",
              " (424, 1),\n",
              " (426, 3),\n",
              " (441, 2),\n",
              " (451, 2),\n",
              " (453, 8),\n",
              " (474, 1),\n",
              " (478, 4),\n",
              " (482, 1),\n",
              " (486, 6),\n",
              " (488, 2),\n",
              " (489, 1),\n",
              " (492, 1),\n",
              " (500, 1),\n",
              " (508, 2),\n",
              " (513, 1),\n",
              " (516, 1),\n",
              " (521, 1),\n",
              " (523, 4),\n",
              " (524, 1),\n",
              " (526, 1),\n",
              " (528, 1),\n",
              " (568, 1),\n",
              " (570, 2),\n",
              " (571, 1),\n",
              " (586, 1),\n",
              " (593, 2),\n",
              " (598, 4),\n",
              " (602, 1),\n",
              " (609, 3),\n",
              " (612, 1),\n",
              " (613, 5),\n",
              " (619, 3),\n",
              " (629, 1),\n",
              " (631, 1),\n",
              " (635, 3),\n",
              " (643, 3),\n",
              " (651, 1),\n",
              " (654, 1),\n",
              " (673, 1),\n",
              " (675, 1),\n",
              " (678, 1),\n",
              " (684, 1),\n",
              " (695, 3),\n",
              " (700, 1),\n",
              " (711, 1),\n",
              " (712, 1),\n",
              " (713, 2),\n",
              " (715, 3),\n",
              " (716, 1),\n",
              " (717, 1),\n",
              " (729, 9),\n",
              " (731, 1),\n",
              " (733, 2),\n",
              " (735, 1),\n",
              " (738, 7),\n",
              " (740, 6),\n",
              " (741, 4),\n",
              " (746, 1),\n",
              " (753, 1),\n",
              " (754, 1),\n",
              " (758, 1),\n",
              " (761, 1),\n",
              " (762, 2),\n",
              " (769, 1),\n",
              " (770, 1),\n",
              " (778, 2),\n",
              " (781, 2),\n",
              " (787, 1),\n",
              " (789, 1),\n",
              " (798, 7),\n",
              " (802, 1),\n",
              " (808, 1),\n",
              " (809, 1),\n",
              " (812, 1),\n",
              " (814, 4),\n",
              " (817, 1),\n",
              " (819, 1),\n",
              " (829, 6),\n",
              " (830, 2),\n",
              " (835, 1),\n",
              " (842, 8),\n",
              " (858, 4),\n",
              " (859, 1),\n",
              " (878, 1),\n",
              " (889, 1),\n",
              " (897, 1),\n",
              " (904, 1),\n",
              " (908, 1),\n",
              " (912, 1),\n",
              " (924, 1),\n",
              " (939, 1),\n",
              " (962, 3),\n",
              " (971, 2),\n",
              " (973, 1),\n",
              " (978, 1),\n",
              " (984, 2),\n",
              " (997, 3),\n",
              " (1005, 1),\n",
              " (1011, 1),\n",
              " (1012, 2),\n",
              " (1014, 4),\n",
              " (1020, 1),\n",
              " (1024, 1),\n",
              " (1040, 1),\n",
              " (1043, 1),\n",
              " (1057, 1),\n",
              " (1063, 1),\n",
              " (1071, 4),\n",
              " (1072, 1),\n",
              " (1082, 1),\n",
              " (1086, 1),\n",
              " (1087, 6),\n",
              " (1092, 1),\n",
              " (1094, 1),\n",
              " (1095, 1),\n",
              " (1099, 1),\n",
              " (1107, 1),\n",
              " (1110, 1),\n",
              " (1111, 1),\n",
              " (1125, 1),\n",
              " (1127, 1),\n",
              " (1134, 1),\n",
              " (1144, 2),\n",
              " (1153, 1),\n",
              " (1158, 1),\n",
              " (1164, 1),\n",
              " (1167, 1),\n",
              " (1177, 1),\n",
              " (1179, 2),\n",
              " (1180, 2),\n",
              " (1184, 1),\n",
              " (1185, 1),\n",
              " (1215, 1),\n",
              " (1225, 1),\n",
              " (1239, 1),\n",
              " (1243, 3),\n",
              " (1269, 2),\n",
              " (1293, 1),\n",
              " (1311, 1),\n",
              " (1316, 2),\n",
              " (1337, 1),\n",
              " (1343, 1),\n",
              " (1350, 2),\n",
              " (1354, 1),\n",
              " (1367, 1),\n",
              " (1374, 2),\n",
              " (1375, 1),\n",
              " (1377, 1),\n",
              " (1390, 1),\n",
              " (1393, 1),\n",
              " (1397, 1),\n",
              " (1415, 2),\n",
              " (1417, 1),\n",
              " (1421, 1),\n",
              " (1432, 1),\n",
              " (1433, 3),\n",
              " (1437, 1),\n",
              " (1439, 1),\n",
              " (1444, 1),\n",
              " (1448, 1),\n",
              " (1459, 1),\n",
              " (1460, 1),\n",
              " (1472, 1),\n",
              " (1493, 3),\n",
              " (1494, 11),\n",
              " (1496, 1),\n",
              " (1509, 4),\n",
              " (1511, 1),\n",
              " (1516, 1),\n",
              " (1527, 1),\n",
              " (1534, 1),\n",
              " (1548, 4),\n",
              " (1559, 1),\n",
              " (1566, 1),\n",
              " (1588, 1),\n",
              " (1589, 1),\n",
              " (1613, 2),\n",
              " (1614, 1),\n",
              " (1618, 2),\n",
              " (1621, 1),\n",
              " (1626, 1),\n",
              " (1630, 2),\n",
              " (1646, 5),\n",
              " (1651, 7),\n",
              " (1658, 2),\n",
              " (1666, 1),\n",
              " (1676, 3),\n",
              " (1688, 1),\n",
              " (1694, 2),\n",
              " (1696, 1),\n",
              " (1711, 2),\n",
              " (1727, 1),\n",
              " (1746, 1),\n",
              " (1750, 2),\n",
              " (1755, 1),\n",
              " (1759, 1),\n",
              " (1765, 1),\n",
              " (1802, 1),\n",
              " (1820, 1),\n",
              " (1837, 1),\n",
              " (1838, 1),\n",
              " (1839, 2),\n",
              " (1843, 1),\n",
              " (1845, 1),\n",
              " (1848, 1),\n",
              " (1857, 1),\n",
              " (1858, 1),\n",
              " (1863, 2),\n",
              " (1866, 3),\n",
              " (1867, 1),\n",
              " (1871, 1),\n",
              " (1879, 1),\n",
              " (1882, 1),\n",
              " (1883, 1),\n",
              " (1889, 2),\n",
              " (1890, 2),\n",
              " (1893, 3),\n",
              " (1911, 1),\n",
              " (1915, 1),\n",
              " (1916, 1),\n",
              " (1917, 3),\n",
              " (1921, 1),\n",
              " (1925, 3),\n",
              " (1931, 1),\n",
              " (1945, 1),\n",
              " (1947, 1),\n",
              " (1954, 1),\n",
              " (1968, 1),\n",
              " (1974, 1),\n",
              " (1975, 1),\n",
              " (1976, 1),\n",
              " (1981, 1),\n",
              " (1992, 1),\n",
              " (2002, 1),\n",
              " (2004, 1),\n",
              " (2005, 2),\n",
              " (2014, 1),\n",
              " (2017, 1),\n",
              " (2020, 1),\n",
              " (2031, 1),\n",
              " (2032, 1),\n",
              " (2036, 1),\n",
              " (2044, 1),\n",
              " (2045, 2),\n",
              " (2047, 1),\n",
              " (2049, 1),\n",
              " (2050, 2),\n",
              " (2058, 1),\n",
              " (2061, 2),\n",
              " (2065, 1),\n",
              " (2074, 10),\n",
              " (2079, 1),\n",
              " (2081, 1),\n",
              " (2086, 1),\n",
              " (2087, 1),\n",
              " (2098, 8),\n",
              " (2102, 1),\n",
              " (2106, 1),\n",
              " (2107, 2),\n",
              " (2109, 1),\n",
              " (2110, 1),\n",
              " (2114, 2),\n",
              " (2119, 1),\n",
              " (2121, 2),\n",
              " (2125, 1),\n",
              " (2126, 1),\n",
              " (2128, 1),\n",
              " (2129, 1),\n",
              " (2132, 1),\n",
              " (2134, 4),\n",
              " (2135, 1),\n",
              " (2136, 5),\n",
              " (2139, 1),\n",
              " (2145, 3),\n",
              " (2151, 1),\n",
              " (2153, 1),\n",
              " (2155, 1),\n",
              " (2156, 3),\n",
              " (2159, 1),\n",
              " (2168, 2),\n",
              " (2169, 1),\n",
              " (2173, 1),\n",
              " (2175, 1),\n",
              " (2179, 1),\n",
              " (2180, 2),\n",
              " (2181, 1),\n",
              " (2186, 1),\n",
              " (2190, 1),\n",
              " (2191, 6),\n",
              " (2196, 2),\n",
              " (2197, 4),\n",
              " (2198, 1),\n",
              " (2199, 1),\n",
              " (2200, 1),\n",
              " (2204, 9),\n",
              " (2206, 3),\n",
              " (2213, 1),\n",
              " (2216, 1),\n",
              " (2217, 1),\n",
              " (2218, 1),\n",
              " (2219, 3),\n",
              " (2220, 1),\n",
              " (2221, 1),\n",
              " (2226, 1),\n",
              " (2230, 1),\n",
              " (2237, 3),\n",
              " (2239, 1),\n",
              " (2240, 1),\n",
              " (2241, 3),\n",
              " (2242, 1),\n",
              " (2243, 1),\n",
              " (2244, 2),\n",
              " (2245, 1)]"
            ]
          },
          "metadata": {},
          "execution_count": 119
        }
      ]
    },
    {
      "cell_type": "code",
      "source": [
        "# docid 58 refers to Biden's speech\n",
        "docid = 58\n",
        "for id, freq in corpus[docid]:\n",
        "    print(f\"{dictionary[id]} >>> occurs {freq} times(s) in this doc\")"
      ],
      "metadata": {
        "colab": {
          "base_uri": "https://localhost:8080/"
        },
        "id": "fJryNtgnUAlS",
        "outputId": "6a54fb85-7eb0-476f-f08c-4cfa99a86145"
      },
      "execution_count": null,
      "outputs": [
        {
          "output_type": "stream",
          "name": "stdout",
          "text": [
            "act >>> occurs 2 times(s) in this doc\n",
            "add >>> occurs 2 times(s) in this doc\n",
            "called >>> occurs 2 times(s) in this doc\n",
            "citizens >>> occurs 1 times(s) in this doc\n",
            "constitution >>> occurs 2 times(s) in this doc\n",
            "crisis >>> occurs 2 times(s) in this doc\n",
            "day >>> occurs 6 times(s) in this doc\n",
            "distinguished >>> occurs 1 times(s) in this doc\n",
            "duty >>> occurs 2 times(s) in this doc\n",
            "entering >>> occurs 1 times(s) in this doc\n",
            "eternal >>> occurs 1 times(s) in this doc\n",
            "far >>> occurs 2 times(s) in this doc\n",
            "finally >>> occurs 1 times(s) in this doc\n",
            "fire >>> occurs 1 times(s) in this doc\n",
            "foundation >>> occurs 1 times(s) in this doc\n",
            "future >>> occurs 3 times(s) in this doc\n",
            "hand >>> occurs 2 times(s) in this doc\n",
            "hear >>> occurs 3 times(s) in this doc\n",
            "hope >>> occurs 3 times(s) in this doc\n",
            "house >>> occurs 1 times(s) in this doc\n",
            "important >>> occurs 1 times(s) in this doc\n",
            "instead >>> occurs 1 times(s) in this doc\n",
            "join >>> occurs 3 times(s) in this doc\n",
            "liberty >>> occurs 2 times(s) in this doc\n",
            "life >>> occurs 1 times(s) in this doc\n",
            "light >>> occurs 1 times(s) in this doc\n",
            "little >>> occurs 1 times(s) in this doc\n",
            "love >>> occurs 5 times(s) in this doc\n",
            "means >>> occurs 1 times(s) in this doc\n",
            "meet >>> occurs 3 times(s) in this doc\n",
            "national >>> occurs 1 times(s) in this doc\n",
            "objects >>> occurs 3 times(s) in this doc\n",
            "occasion >>> occurs 1 times(s) in this doc\n",
            "past >>> occurs 1 times(s) in this doc\n",
            "personal >>> occurs 1 times(s) in this doc\n",
            "place >>> occurs 1 times(s) in this doc\n",
            "placed >>> occurs 1 times(s) in this doc\n",
            "president >>> occurs 4 times(s) in this doc\n",
            "public >>> occurs 1 times(s) in this doc\n",
            "question >>> occurs 1 times(s) in this doc\n",
            "respect >>> occurs 3 times(s) in this doc\n",
            "retreat >>> occurs 1 times(s) in this doc\n",
            "right >>> occurs 3 times(s) in this doc\n",
            "sacred >>> occurs 3 times(s) in this doc\n",
            "security >>> occurs 2 times(s) in this doc\n",
            "senate >>> occurs 1 times(s) in this doc\n",
            "service >>> occurs 2 times(s) in this doc\n",
            "step >>> occurs 1 times(s) in this doc\n",
            "struggle >>> occurs 2 times(s) in this doc\n",
            "thought >>> occurs 1 times(s) in this doc\n",
            "truth >>> occurs 5 times(s) in this doc\n",
            "union >>> occurs 1 times(s) in this doc\n",
            "united_states >>> occurs 2 times(s) in this doc\n",
            "watch >>> occurs 1 times(s) in this doc\n",
            "way >>> occurs 5 times(s) in this doc\n",
            "years >>> occurs 1 times(s) in this doc\n",
            "america >>> occurs 21 times(s) in this doc\n",
            "found >>> occurs 1 times(s) in this doc\n",
            "honor >>> occurs 3 times(s) in this doc\n",
            "oath >>> occurs 2 times(s) in this doc\n",
            "presence >>> occurs 1 times(s) in this doc\n",
            "requires >>> occurs 2 times(s) in this doc\n",
            "ages >>> occurs 2 times(s) in this doc\n",
            "best >>> occurs 2 times(s) in this doc\n",
            "better >>> occurs 4 times(s) in this doc\n",
            "cause >>> occurs 4 times(s) in this doc\n",
            "certain >>> occurs 1 times(s) in this doc\n",
            "common >>> occurs 3 times(s) in this doc\n",
            "constant >>> occurs 1 times(s) in this doc\n",
            "conviction >>> occurs 1 times(s) in this doc\n",
            "domestic >>> occurs 1 times(s) in this doc\n",
            "elected >>> occurs 1 times(s) in this doc\n",
            "example >>> occurs 2 times(s) in this doc\n",
            "facts >>> occurs 1 times(s) in this doc\n",
            "faith >>> occurs 3 times(s) in this doc\n",
            "friends >>> occurs 2 times(s) in this doc\n",
            "hearts >>> occurs 2 times(s) in this doc\n",
            "history >>> occurs 8 times(s) in this doc\n",
            "interest >>> occurs 1 times(s) in this doc\n",
            "justice >>> occurs 4 times(s) in this doc\n",
            "lay >>> occurs 1 times(s) in this doc\n",
            "like >>> occurs 6 times(s) in this doc\n",
            "lives >>> occurs 2 times(s) in this doc\n",
            "long >>> occurs 1 times(s) in this doc\n",
            "lot >>> occurs 1 times(s) in this doc\n",
            "middle >>> occurs 1 times(s) in this doc\n",
            "neighbors >>> occurs 2 times(s) in this doc\n",
            "obligations >>> occurs 1 times(s) in this doc\n",
            "open >>> occurs 1 times(s) in this doc\n",
            "parties >>> occurs 1 times(s) in this doc\n",
            "peace >>> occurs 4 times(s) in this doc\n",
            "perfect_union >>> occurs 1 times(s) in this doc\n",
            "pledged >>> occurs 1 times(s) in this doc\n",
            "political >>> occurs 1 times(s) in this doc\n",
            "schools >>> occurs 1 times(s) in this doc\n",
            "secure >>> occurs 2 times(s) in this doc\n",
            "secured >>> occurs 1 times(s) in this doc\n",
            "state >>> occurs 1 times(s) in this doc\n",
            "support >>> occurs 2 times(s) in this doc\n",
            "things >>> occurs 4 times(s) in this doc\n",
            "total >>> occurs 1 times(s) in this doc\n",
            "violence >>> occurs 3 times(s) in this doc\n",
            "vote >>> occurs 1 times(s) in this doc\n",
            "war >>> occurs 5 times(s) in this doc\n",
            "year >>> occurs 3 times(s) in this doc\n",
            "alliances >>> occurs 1 times(s) in this doc\n",
            "answer >>> occurs 1 times(s) in this doc\n",
            "ask >>> occurs 3 times(s) in this doc\n",
            "believe >>> occurs 3 times(s) in this doc\n",
            "change >>> occurs 1 times(s) in this doc\n",
            "close >>> occurs 1 times(s) in this doc\n",
            "devoted >>> occurs 1 times(s) in this doc\n",
            "different >>> occurs 1 times(s) in this doc\n",
            "divide >>> occurs 1 times(s) in this doc\n",
            "endure >>> occurs 1 times(s) in this doc\n",
            "fear >>> occurs 3 times(s) in this doc\n",
            "force >>> occurs 1 times(s) in this doc\n",
            "greatest >>> occurs 1 times(s) in this doc\n",
            "greatness >>> occurs 1 times(s) in this doc\n",
            "ground >>> occurs 2 times(s) in this doc\n",
            "heart >>> occurs 3 times(s) in this doc\n",
            "heroes >>> occurs 1 times(s) in this doc\n",
            "home >>> occurs 1 times(s) in this doc\n",
            "know >>> occurs 9 times(s) in this doc\n",
            "land >>> occurs 1 times(s) in this doc\n",
            "lead >>> occurs 2 times(s) in this doc\n",
            "left >>> occurs 1 times(s) in this doc\n",
            "let >>> occurs 7 times(s) in this doc\n",
            "look >>> occurs 6 times(s) in this doc\n",
            "lost >>> occurs 4 times(s) in this doc\n",
            "office >>> occurs 1 times(s) in this doc\n",
            "peaceful >>> occurs 1 times(s) in this doc\n",
            "person >>> occurs 1 times(s) in this doc\n",
            "press >>> occurs 1 times(s) in this doc\n",
            "prosperous >>> occurs 1 times(s) in this doc\n",
            "protect >>> occurs 2 times(s) in this doc\n",
            "ready >>> occurs 1 times(s) in this doc\n",
            "reason >>> occurs 1 times(s) in this doc\n",
            "repair >>> occurs 2 times(s) in this doc\n",
            "restore >>> occurs 2 times(s) in this doc\n",
            "safe >>> occurs 1 times(s) in this doc\n",
            "said >>> occurs 1 times(s) in this doc\n",
            "stand >>> occurs 7 times(s) in this doc\n",
            "strong >>> occurs 1 times(s) in this doc\n",
            "thing >>> occurs 1 times(s) in this doc\n",
            "think >>> occurs 1 times(s) in this doc\n",
            "trusted >>> occurs 1 times(s) in this doc\n",
            "understand >>> occurs 4 times(s) in this doc\n",
            "use >>> occurs 1 times(s) in this doc\n",
            "view >>> occurs 1 times(s) in this doc\n",
            "work >>> occurs 6 times(s) in this doc\n",
            "write >>> occurs 2 times(s) in this doc\n",
            "acted >>> occurs 1 times(s) in this doc\n",
            "american >>> occurs 8 times(s) in this doc\n",
            "children >>> occurs 4 times(s) in this doc\n",
            "church >>> occurs 1 times(s) in this doc\n",
            "deep >>> occurs 1 times(s) in this doc\n",
            "driven >>> occurs 1 times(s) in this doc\n",
            "especially >>> occurs 1 times(s) in this doc\n",
            "fact >>> occurs 1 times(s) in this doc\n",
            "fate >>> occurs 1 times(s) in this doc\n",
            "follow >>> occurs 1 times(s) in this doc\n",
            "goodness >>> occurs 1 times(s) in this doc\n",
            "inspires >>> occurs 1 times(s) in this doc\n",
            "need >>> occurs 3 times(s) in this doc\n",
            "path >>> occurs 2 times(s) in this doc\n",
            "pay >>> occurs 1 times(s) in this doc\n",
            "point >>> occurs 1 times(s) in this doc\n",
            "progress >>> occurs 2 times(s) in this doc\n",
            "resolve >>> occurs 3 times(s) in this doc\n",
            "served >>> occurs 1 times(s) in this doc\n",
            "sought >>> occurs 1 times(s) in this doc\n",
            "sound >>> occurs 2 times(s) in this doc\n",
            "strength >>> occurs 4 times(s) in this doc\n",
            "teach >>> occurs 1 times(s) in this doc\n",
            "tried >>> occurs 1 times(s) in this doc\n",
            "word >>> occurs 1 times(s) in this doc\n",
            "you >>> occurs 1 times(s) in this doc\n",
            "carry >>> occurs 1 times(s) in this doc\n",
            "devotion >>> occurs 1 times(s) in this doc\n",
            "face >>> occurs 4 times(s) in this doc\n",
            "fail >>> occurs 1 times(s) in this doc\n",
            "liberal >>> occurs 1 times(s) in this doc\n",
            "mark >>> occurs 1 times(s) in this doc\n",
            "moment >>> occurs 6 times(s) in this doc\n",
            "period >>> occurs 1 times(s) in this doc\n",
            "pledge >>> occurs 1 times(s) in this doc\n",
            "precious >>> occurs 1 times(s) in this doc\n",
            "profound >>> occurs 1 times(s) in this doc\n",
            "republic >>> occurs 1 times(s) in this doc\n",
            "responsibility >>> occurs 1 times(s) in this doc\n",
            "reward >>> occurs 1 times(s) in this doc\n",
            "battle >>> occurs 1 times(s) in this doc\n",
            "brave >>> occurs 1 times(s) in this doc\n",
            "class >>> occurs 1 times(s) in this doc\n",
            "fight >>> occurs 2 times(s) in this doc\n",
            "longer >>> occurs 1 times(s) in this doc\n",
            "opportunity >>> occurs 1 times(s) in this doc\n",
            "purpose >>> occurs 1 times(s) in this doc\n",
            "reality >>> occurs 1 times(s) in this doc\n",
            "sure >>> occurs 1 times(s) in this doc\n",
            "taken >>> occurs 2 times(s) in this doc\n",
            "thousands >>> occurs 2 times(s) in this doc\n",
            "troops >>> occurs 1 times(s) in this doc\n",
            "victory >>> occurs 1 times(s) in this doc\n",
            "brought >>> occurs 1 times(s) in this doc\n",
            "climate >>> occurs 1 times(s) in this doc\n",
            "depends >>> occurs 1 times(s) in this doc\n",
            "dignity >>> occurs 3 times(s) in this doc\n",
            "forces >>> occurs 2 times(s) in this doc\n",
            "making >>> occurs 1 times(s) in this doc\n",
            "pass >>> occurs 1 times(s) in this doc\n",
            "prayers >>> occurs 2 times(s) in this doc\n",
            "sources >>> occurs 1 times(s) in this doc\n",
            "sustained >>> occurs 1 times(s) in this doc\n",
            "turn >>> occurs 2 times(s) in this doc\n",
            "willing >>> occurs 1 times(s) in this doc\n",
            "attack >>> occurs 1 times(s) in this doc\n",
            "civil_war >>> occurs 2 times(s) in this doc\n",
            "clearly >>> occurs 1 times(s) in this doc\n",
            "completed >>> occurs 1 times(s) in this doc\n",
            "depression >>> occurs 1 times(s) in this doc\n",
            "division >>> occurs 1 times(s) in this doc\n",
            "end >>> occurs 1 times(s) in this doc\n",
            "measure >>> occurs 2 times(s) in this doc\n",
            "months >>> occurs 1 times(s) in this doc\n",
            "observed >>> occurs 1 times(s) in this doc\n",
            "predecessors >>> occurs 1 times(s) in this doc\n",
            "prevailed >>> occurs 3 times(s) in this doc\n",
            "real >>> occurs 1 times(s) in this doc\n",
            "recent >>> occurs 1 times(s) in this doc\n",
            "sacrifice >>> occurs 1 times(s) in this doc\n",
            "seek >>> occurs 1 times(s) in this doc\n",
            "supported >>> occurs 1 times(s) in this doc\n",
            "sworn >>> occurs 1 times(s) in this doc\n",
            "years_ago >>> occurs 1 times(s) in this doc\n",
            "defend >>> occurs 3 times(s) in this doc\n",
            "democracy >>> occurs 11 times(s) in this doc\n",
            "disease >>> occurs 1 times(s) in this doc\n",
            "forward >>> occurs 4 times(s) in this doc\n",
            "generations >>> occurs 1 times(s) in this doc\n",
            "heard >>> occurs 1 times(s) in this doc\n",
            "looking >>> occurs 1 times(s) in this doc\n",
            "millions >>> occurs 1 times(s) in this doc\n",
            "promise >>> occurs 4 times(s) in this doc\n",
            "strife >>> occurs 1 times(s) in this doc\n",
            "words >>> occurs 1 times(s) in this doc\n",
            "lend >>> occurs 1 times(s) in this doc\n",
            "lesson >>> occurs 1 times(s) in this doc\n",
            "leaders >>> occurs 2 times(s) in this doc\n",
            "leading >>> occurs 1 times(s) in this doc\n",
            "prayer >>> occurs 2 times(s) in this doc\n",
            "rest >>> occurs 1 times(s) in this doc\n",
            "sons >>> occurs 1 times(s) in this doc\n",
            "watching >>> occurs 2 times(s) in this doc\n",
            "come >>> occurs 5 times(s) in this doc\n",
            "days >>> occurs 7 times(s) in this doc\n",
            "difficult >>> occurs 2 times(s) in this doc\n",
            "failed >>> occurs 1 times(s) in this doc\n",
            "gave >>> occurs 3 times(s) in this doc\n",
            "learned >>> occurs 1 times(s) in this doc\n",
            "overcome >>> occurs 2 times(s) in this doc\n",
            "patriots >>> occurs 1 times(s) in this doc\n",
            "set >>> occurs 2 times(s) in this doc\n",
            "ways >>> occurs 1 times(s) in this doc\n",
            "bold >>> occurs 1 times(s) in this doc\n",
            "capitol >>> occurs 2 times(s) in this doc\n",
            "clear >>> occurs 1 times(s) in this doc\n",
            "conservative >>> occurs 1 times(s) in this doc\n",
            "culture >>> occurs 1 times(s) in this doc\n",
            "master >>> occurs 1 times(s) in this doc\n",
            "reject >>> occurs 1 times(s) in this doc\n",
            "souls >>> occurs 1 times(s) in this doc\n",
            "speaking >>> occurs 1 times(s) in this doc\n",
            "spoke >>> occurs 2 times(s) in this doc\n",
            "taught >>> occurs 1 times(s) in this doc\n",
            "told >>> occurs 1 times(s) in this doc\n",
            "worship >>> occurs 1 times(s) in this doc\n",
            "defend_constitution >>> occurs 1 times(s) in this doc\n",
            "earlier >>> occurs 1 times(s) in this doc\n",
            "hour >>> occurs 2 times(s) in this doc\n",
            "lies >>> occurs 3 times(s) in this doc\n",
            "lifetime >>> occurs 1 times(s) in this doc\n",
            "merely >>> occurs 1 times(s) in this doc\n",
            "profit >>> occurs 1 times(s) in this doc\n",
            "remember >>> occurs 1 times(s) in this doc\n",
            "responsibilities >>> occurs 1 times(s) in this doc\n",
            "stop >>> occurs 2 times(s) in this doc\n",
            "stronger >>> occurs 2 times(s) in this doc\n",
            "tested >>> occurs 3 times(s) in this doc\n",
            "washington >>> occurs 1 times(s) in this doc\n",
            "broken >>> occurs 1 times(s) in this doc\n",
            "century >>> occurs 1 times(s) in this doc\n",
            "challenge >>> occurs 3 times(s) in this doc\n",
            "darkness >>> occurs 1 times(s) in this doc\n",
            "god >>> occurs 3 times(s) in this doc\n",
            "listen >>> occurs 1 times(s) in this doc\n",
            "stands >>> occurs 1 times(s) in this doc\n",
            "stood >>> occurs 1 times(s) in this doc\n",
            "children_children >>> occurs 1 times(s) in this doc\n",
            "owe >>> occurs 1 times(s) in this doc\n",
            "assured >>> occurs 1 times(s) in this doc\n",
            "balance >>> occurs 1 times(s) in this doc\n",
            "build >>> occurs 1 times(s) in this doc\n",
            "gain >>> occurs 1 times(s) in this doc\n",
            "bible >>> occurs 1 times(s) in this doc\n",
            "triumph >>> occurs 1 times(s) in this doc\n",
            "deal >>> occurs 1 times(s) in this doc\n",
            "defeat >>> occurs 2 times(s) in this doc\n",
            "taken_oath >>> occurs 1 times(s) in this doc\n",
            "began >>> occurs 1 times(s) in this doc\n",
            "growing >>> occurs 1 times(s) in this doc\n",
            "emancipation >>> occurs 1 times(s) in this doc\n",
            "engage >>> occurs 1 times(s) in this doc\n",
            "paper >>> occurs 1 times(s) in this doc\n",
            "white >>> occurs 1 times(s) in this doc\n",
            "ago >>> occurs 2 times(s) in this doc\n",
            "aside >>> occurs 1 times(s) in this doc\n",
            "closed >>> occurs 1 times(s) in this doc\n",
            "comes >>> occurs 2 times(s) in this doc\n",
            "lower >>> occurs 1 times(s) in this doc\n",
            "possibilities >>> occurs 2 times(s) in this doc\n",
            "anew >>> occurs 1 times(s) in this doc\n",
            "today >>> occurs 10 times(s) in this doc\n",
            "celebrate >>> occurs 1 times(s) in this doc\n",
            "die >>> occurs 1 times(s) in this doc\n",
            "hard >>> occurs 1 times(s) in this doc\n",
            "ideal >>> occurs 1 times(s) in this doc\n",
            "unity >>> occurs 8 times(s) in this doc\n",
            "confront >>> occurs 1 times(s) in this doc\n",
            "peril >>> occurs 1 times(s) in this doc\n",
            "rise >>> occurs 2 times(s) in this doc\n",
            "treat >>> occurs 1 times(s) in this doc\n",
            "chief_justice >>> occurs 1 times(s) in this doc\n",
            "goes >>> occurs 2 times(s) in this doc\n",
            "met >>> occurs 1 times(s) in this doc\n",
            "politics >>> occurs 2 times(s) in this doc\n",
            "crises >>> occurs 1 times(s) in this doc\n",
            "dark >>> occurs 1 times(s) in this doc\n",
            "speed >>> occurs 1 times(s) in this doc\n",
            "transfer >>> occurs 1 times(s) in this doc\n",
            "lincoln >>> occurs 1 times(s) in this doc\n",
            "soul >>> occurs 4 times(s) in this doc\n",
            "tasks >>> occurs 1 times(s) in this doc\n",
            "americans >>> occurs 5 times(s) in this doc\n",
            "tolerance >>> occurs 1 times(s) in this doc\n",
            "going >>> occurs 3 times(s) in this doc\n",
            "renewal >>> occurs 1 times(s) in this doc\n",
            "storm >>> occurs 1 times(s) in this doc\n",
            "tell >>> occurs 1 times(s) in this doc\n",
            "vice_president >>> occurs 3 times(s) in this doc\n",
            "apart >>> occurs 1 times(s) in this doc\n",
            "dream >>> occurs 2 times(s) in this doc\n",
            "era >>> occurs 1 times(s) in this doc\n",
            "hatred >>> occurs 1 times(s) in this doc\n",
            "humility >>> occurs 1 times(s) in this doc\n",
            "start >>> occurs 1 times(s) in this doc\n",
            "tomorrow >>> occurs 2 times(s) in this doc\n",
            "torn >>> occurs 1 times(s) in this doc\n",
            "borders >>> occurs 1 times(s) in this doc\n",
            "families >>> occurs 1 times(s) in this doc\n",
            "fellow_americans >>> occurs 6 times(s) in this doc\n",
            "ahead >>> occurs 2 times(s) in this doc\n",
            "centuries >>> occurs 4 times(s) in this doc\n",
            "challenged >>> occurs 1 times(s) in this doc\n",
            "chapter >>> occurs 1 times(s) in this doc\n",
            "historic >>> occurs 1 times(s) in this doc\n",
            "story >>> occurs 9 times(s) in this doc\n",
            "challenges >>> occurs 3 times(s) in this doc\n",
            "begin >>> occurs 1 times(s) in this doc\n",
            "decency >>> occurs 1 times(s) in this doc\n",
            "define >>> occurs 1 times(s) in this doc\n",
            "heal >>> occurs 1 times(s) in this doc\n",
            "night >>> occurs 3 times(s) in this doc\n",
            "planet >>> occurs 1 times(s) in this doc\n",
            "role >>> occurs 1 times(s) in this doc\n",
            "speaker >>> occurs 1 times(s) in this doc\n",
            "adversaries >>> occurs 1 times(s) in this doc\n",
            "thank >>> occurs 3 times(s) in this doc\n",
            "george >>> occurs 1 times(s) in this doc\n",
            "god_bless >>> occurs 1 times(s) in this doc\n",
            "jobs >>> occurs 3 times(s) in this doc\n",
            "mall >>> occurs 1 times(s) in this doc\n",
            "yes >>> occurs 1 times(s) in this doc\n",
            "health_care >>> occurs 2 times(s) in this doc\n",
            "sights >>> occurs 1 times(s) in this doc\n"
          ]
        }
      ]
    },
    {
      "cell_type": "markdown",
      "metadata": {
        "id": "rBY5JemAY-z_"
      },
      "source": [
        "We're now done with a very important part of any text analysis - the data cleaning and setting up of corpus. It must be kept in mind that we created the corpus the way we did because that's how gensim requires it - most algorithms still require one to clean the data set the way we did, by removing stop words and numbers, adding the lemmatized form of the word, and using bigrams. "
      ]
    },
    {
      "cell_type": "markdown",
      "source": [
        "## Topic models"
      ],
      "metadata": {
        "id": "v6chAS6FwUmB"
      }
    },
    {
      "cell_type": "markdown",
      "source": [
        "### LDA"
      ],
      "metadata": {
        "id": "Wo1c9D6MEl7U"
      }
    },
    {
      "cell_type": "markdown",
      "source": [
        "![](https://miro.medium.com/max/780/0*eTImSma37fd3aPka.png)"
      ],
      "metadata": {
        "id": "C3shBvpfGy57"
      }
    },
    {
      "cell_type": "markdown",
      "source": [
        "In **Latent Dirichlet Allocation** (LDA), the probability of a document is determined by two types of distributions:\n",
        "- Dirichlet distribution\n",
        "- Multinomial distribution\n",
        "\n",
        "Watch the following video starting at 7:00. "
      ],
      "metadata": {
        "id": "y2_W2o_ZMYoJ"
      }
    },
    {
      "cell_type": "code",
      "source": [
        "from IPython.display import YouTubeVideo\n",
        "YouTubeVideo('T05t-SqKArY')"
      ],
      "metadata": {
        "colab": {
          "base_uri": "https://localhost:8080/",
          "height": 321
        },
        "id": "A7Aqbie8Lj-j",
        "outputId": "aedbc424-df07-4b26-dfb6-47e16579c99b"
      },
      "execution_count": null,
      "outputs": [
        {
          "output_type": "execute_result",
          "data": {
            "text/plain": [
              "<IPython.lib.display.YouTubeVideo at 0x7f1220ddce90>"
            ],
            "text/html": [
              "\n",
              "        <iframe\n",
              "            width=\"400\"\n",
              "            height=\"300\"\n",
              "            src=\"https://www.youtube.com/embed/T05t-SqKArY\"\n",
              "            frameborder=\"0\"\n",
              "            allowfullscreen\n",
              "        ></iframe>\n",
              "        "
            ],
            "image/jpeg": "[encoded data removed]"
          },
          "metadata": {},
          "execution_count": 121
        }
      ]
    },
    {
      "cell_type": "markdown",
      "metadata": {
        "id": "R6Uqt31qY-0B"
      },
      "source": [
        "LDA is arguably the most famous topic modelling algorithm out there. Out here we create a simple topic model with 8 topics, but feel free to change it to any other number."
      ]
    },
    {
      "cell_type": "code",
      "execution_count": null,
      "metadata": {
        "id": "27JlugIzY-0B"
      },
      "outputs": [],
      "source": [
        "Ktopics = 8\n",
        "ldamodel = LdaModel(corpus=corpus, num_topics=Ktopics, id2word=dictionary)"
      ]
    },
    {
      "cell_type": "markdown",
      "source": [
        "**Each topic is a probability distribution over words in the vocabulary.**"
      ],
      "metadata": {
        "id": "9yNY-uz8QkXL"
      }
    },
    {
      "cell_type": "code",
      "execution_count": null,
      "metadata": {
        "id": "Lf5TKZSzY-0C",
        "outputId": "af083ef8-fc83-427c-bdbc-f525d87c9097",
        "colab": {
          "base_uri": "https://localhost:8080/"
        }
      },
      "outputs": [
        {
          "output_type": "execute_result",
          "data": {
            "text/plain": [
              "[(0,\n",
              "  '0.008*\"union\" + 0.007*\"states\" + 0.006*\"peace\" + 0.005*\"united_states\" + 0.005*\"public\" + 0.005*\"national\" + 0.004*\"constitution\" + 0.004*\"spirit\" + 0.004*\"men\" + 0.003*\"war\"'),\n",
              " (1,\n",
              "  '0.005*\"public\" + 0.005*\"let\" + 0.004*\"peace\" + 0.004*\"union\" + 0.004*\"war\" + 0.004*\"rights\" + 0.004*\"law\" + 0.004*\"right\" + 0.004*\"america\" + 0.003*\"freedom\"'),\n",
              " (2,\n",
              "  '0.006*\"peace\" + 0.005*\"freedom\" + 0.005*\"america\" + 0.004*\"justice\" + 0.004*\"states\" + 0.004*\"hope\" + 0.004*\"law\" + 0.004*\"congress\" + 0.004*\"today\" + 0.003*\"rights\"'),\n",
              " (3,\n",
              "  '0.008*\"peace\" + 0.005*\"freedom\" + 0.005*\"constitution\" + 0.005*\"america\" + 0.004*\"rights\" + 0.004*\"work\" + 0.004*\"justice\" + 0.004*\"union\" + 0.004*\"public\" + 0.004*\"war\"'),\n",
              " (4,\n",
              "  '0.009*\"america\" + 0.006*\"freedom\" + 0.005*\"states\" + 0.005*\"let\" + 0.005*\"peace\" + 0.004*\"union\" + 0.004*\"know\" + 0.004*\"work\" + 0.004*\"american\" + 0.004*\"hope\"'),\n",
              " (5,\n",
              "  '0.008*\"peace\" + 0.007*\"america\" + 0.005*\"american\" + 0.004*\"freedom\" + 0.004*\"constitution\" + 0.004*\"union\" + 0.004*\"duty\" + 0.004*\"fellow_citizens\" + 0.004*\"states\" + 0.003*\"right\"'),\n",
              " (6,\n",
              "  '0.008*\"war\" + 0.006*\"peace\" + 0.006*\"public\" + 0.005*\"states\" + 0.005*\"union\" + 0.004*\"let\" + 0.004*\"america\" + 0.004*\"spirit\" + 0.004*\"citizens\" + 0.004*\"national\"'),\n",
              " (7,\n",
              "  '0.006*\"america\" + 0.006*\"freedom\" + 0.005*\"constitution\" + 0.005*\"congress\" + 0.004*\"national\" + 0.004*\"war\" + 0.004*\"peace\" + 0.004*\"united_states\" + 0.003*\"policy\" + 0.003*\"hope\"')]"
            ]
          },
          "metadata": {},
          "execution_count": 123
        }
      ],
      "source": [
        "ldamodel.show_topics()"
      ]
    },
    {
      "cell_type": "markdown",
      "source": [
        "**Each document is a probability distribution over topics in the corpus.**"
      ],
      "metadata": {
        "id": "svOMJULTRGRH"
      }
    },
    {
      "cell_type": "code",
      "source": [
        "# docid 58 refers to Biden's speech\n",
        "docid = 58\n",
        "doc_bow = corpus[docid]\n",
        "ldamodel.get_document_topics(doc_bow)"
      ],
      "metadata": {
        "colab": {
          "base_uri": "https://localhost:8080/"
        },
        "id": "Ov3fBtE_JIzi",
        "outputId": "41058169-ced0-4d30-d456-976f0fb4df0b"
      },
      "execution_count": null,
      "outputs": [
        {
          "output_type": "execute_result",
          "data": {
            "text/plain": [
              "[(4, 0.99876744)]"
            ]
          },
          "metadata": {},
          "execution_count": 124
        }
      ]
    },
    {
      "cell_type": "markdown",
      "metadata": {
        "id": "Cz48PcmEY-0B"
      },
      "source": [
        "### HDP\n",
        "\n",
        "**Hierarchical Dirichlet Process** (HDP) is an unsupervised topic model which figures out the number of topics on it's own."
      ]
    },
    {
      "cell_type": "code",
      "execution_count": null,
      "metadata": {
        "collapsed": true,
        "id": "2NhoI0GfY-0B"
      },
      "outputs": [],
      "source": [
        "hdpmodel = HdpModel(corpus=corpus, id2word=dictionary)"
      ]
    },
    {
      "cell_type": "code",
      "execution_count": null,
      "metadata": {
        "id": "oiP2X-_cY-0B",
        "outputId": "284b3901-cd46-4697-8c44-1139881b0fec",
        "colab": {
          "base_uri": "https://localhost:8080/"
        }
      },
      "outputs": [
        {
          "output_type": "execute_result",
          "data": {
            "text/plain": [
              "[(0,\n",
              "  '0.009*union + 0.006*war + 0.006*states + 0.005*united_states + 0.005*peace + 0.004*powers + 0.004*constitution + 0.004*interests + 0.004*rights + 0.003*revenue + 0.003*public + 0.003*citizens + 0.003*america + 0.003*protection + 0.003*fellow_citizens + 0.003*duties + 0.003*system + 0.003*policy + 0.003*state + 0.002*spirit'),\n",
              " (1,\n",
              "  '0.005*business + 0.005*law + 0.004*ought + 0.004*policy + 0.003*congress + 0.003*hope + 0.003*peace + 0.003*necessary + 0.003*tariff + 0.003*proper + 0.003*rights + 0.003*race + 0.003*party + 0.003*america + 0.003*passed + 0.003*south + 0.003*conditions + 0.002*secure + 0.002*legislation + 0.002*force'),\n",
              " (2,\n",
              "  '0.005*laws + 0.004*states + 0.004*faith + 0.004*peace + 0.003*freedom + 0.003*public + 0.003*america + 0.003*men + 0.003*citizens + 0.003*duty + 0.003*strength + 0.003*american + 0.003*know + 0.003*hope + 0.002*work + 0.002*partial + 0.002*purpose + 0.002*hold + 0.002*man + 0.002*dangers'),\n",
              " (3,\n",
              "  '0.006*freedom + 0.004*united_states + 0.004*liberty + 0.004*congress + 0.003*public + 0.003*america + 0.003*duty + 0.003*years + 0.003*long + 0.003*business + 0.003*revenue + 0.003*policy + 0.002*citizens + 0.002*institutions + 0.002*fellow_citizens + 0.002*union + 0.002*laws + 0.002*seen + 0.002*americans + 0.002*rights'),\n",
              " (4,\n",
              "  '0.006*constitution + 0.005*spirit + 0.004*executive + 0.004*states + 0.004*character + 0.003*citizens + 0.003*liberty + 0.003*powers + 0.003*rights + 0.003*union + 0.003*state + 0.003*president + 0.003*principle + 0.002*duty + 0.002*given + 0.002*congress + 0.002*principles + 0.002*fellow_citizens + 0.002*direction + 0.002*citizen'),\n",
              " (5,\n",
              "  '0.004*justice + 0.004*peace + 0.004*progress + 0.004*laws + 0.003*public + 0.003*system + 0.003*states + 0.002*law + 0.002*administration + 0.002*national + 0.002*citizens + 0.002*absolute + 0.002*future + 0.002*enforcement + 0.002*freedom + 0.002*enforce + 0.002*service + 0.002*ideals + 0.002*greater + 0.002*right'),\n",
              " (6,\n",
              "  '0.004*institutions + 0.003*states + 0.003*principles + 0.003*political + 0.003*interests + 0.002*public + 0.002*present + 0.002*fail + 0.002*subject + 0.002*fellow_citizens + 0.002*revolution + 0.002*spirit + 0.002*renewal + 0.002*best + 0.002*reform + 0.002*party + 0.002*measure + 0.002*consideration + 0.002*condition + 0.002*rights'),\n",
              " (7,\n",
              "  '0.004*constitution + 0.004*foreign + 0.004*united_states + 0.003*principles + 0.003*public + 0.003*interests + 0.003*union + 0.003*best + 0.003*duties + 0.003*state + 0.003*national + 0.003*war + 0.002*states + 0.002*peace + 0.002*policy + 0.002*citizen + 0.002*prosperity + 0.002*fellow_citizens + 0.002*invasion + 0.002*property'),\n",
              " (8,\n",
              "  '0.005*america + 0.005*freedom + 0.004*let + 0.003*work + 0.003*spirit + 0.003*american + 0.003*peace + 0.003*day + 0.003*human + 0.003*americans + 0.003*today + 0.003*god + 0.003*forward + 0.003*earth + 0.002*history + 0.002*best + 0.002*nuclear + 0.002*true + 0.002*better + 0.002*man'),\n",
              " (9,\n",
              "  '0.005*congress + 0.004*united_states + 0.004*constitution + 0.003*law + 0.003*freedom + 0.003*islands + 0.003*authority + 0.003*executive + 0.003*union + 0.003*liberty + 0.003*administration + 0.003*war + 0.003*public + 0.003*national + 0.002*thoughtful + 0.002*peace + 0.002*states + 0.002*crime + 0.002*subjects + 0.002*best'),\n",
              " (10,\n",
              "  '0.004*peace + 0.004*freedom + 0.003*democracy + 0.003*security + 0.003*knowledge + 0.003*men + 0.003*life + 0.003*peoples + 0.003*national + 0.002*preserve + 0.002*work + 0.002*believe + 0.002*action + 0.002*live + 0.002*resources + 0.002*united_states + 0.002*beloved_country + 0.002*common + 0.002*program + 0.002*profit'),\n",
              " (11,\n",
              "  '0.004*america + 0.004*war + 0.004*justice + 0.003*civilization + 0.003*things + 0.003*life + 0.003*order + 0.003*republic + 0.003*best + 0.002*god + 0.002*today + 0.002*law + 0.002*industrial + 0.002*men + 0.002*business + 0.002*way + 0.002*opportunity + 0.002*freedom + 0.002*individuals + 0.002*task'),\n",
              " (12,\n",
              "  '0.007*constitution + 0.006*union + 0.004*law + 0.004*states + 0.004*constitutional + 0.003*right + 0.003*state + 0.003*case + 0.003*national + 0.003*violate + 0.003*cases + 0.002*speak + 0.002*provided + 0.002*authority + 0.002*mere + 0.002*purpose + 0.002*plainly + 0.002*nearly + 0.002*congress + 0.002*given'),\n",
              " (13,\n",
              "  '0.007*america + 0.005*war + 0.004*democracy + 0.004*let + 0.003*story + 0.003*god + 0.003*today + 0.003*american + 0.003*know + 0.003*americans + 0.003*days + 0.003*unity + 0.002*obligations + 0.002*history + 0.002*join + 0.002*work + 0.002*including + 0.002*fellow_americans + 0.002*principal + 0.002*lower'),\n",
              " (14,\n",
              "  '0.005*democracy + 0.004*spirit + 0.004*know + 0.004*life + 0.003*progress + 0.003*men + 0.003*millions + 0.003*america + 0.003*things + 0.002*human + 0.002*old + 0.002*day + 0.002*person + 0.002*precious + 0.002*years + 0.002*evil + 0.002*mind + 0.002*body + 0.002*steps + 0.002*happily'),\n",
              " (15,\n",
              "  '0.004*southern + 0.003*states + 0.003*exercised + 0.003*honor + 0.002*choice + 0.002*celebrated + 0.002*advance + 0.002*resolution + 0.002*renewal + 0.002*constitution + 0.002*justice + 0.002*mind + 0.002*regulated + 0.002*midst + 0.002*treated + 0.002*govern + 0.002*exist + 0.002*ages + 0.002*spirit + 0.002*congress'),\n",
              " (16,\n",
              "  '0.004*public + 0.003*fellow_citizens + 0.003*state + 0.003*dying + 0.003*roads + 0.002*constitution + 0.002*instituted + 0.002*basis + 0.002*states + 0.002*favorable + 0.002*present + 0.002*nearly + 0.002*fail + 0.002*accepted + 0.002*coordinate + 0.002*chief_magistrate + 0.002*mutual + 0.002*false + 0.002*interests + 0.002*reason'),\n",
              " (17,\n",
              "  '0.004*word + 0.004*hand + 0.003*america + 0.003*friends + 0.003*day + 0.003*things + 0.003*today + 0.002*constitution_laws + 0.002*need + 0.002*military + 0.002*work + 0.002*know + 0.002*taken + 0.002*community + 0.002*welfare + 0.002*rightful + 0.002*partisan + 0.002*going + 0.002*talents + 0.002*broken'),\n",
              " (18,\n",
              "  '0.003*believe + 0.003*freedom + 0.003*era + 0.003*completed + 0.003*americans + 0.003*terror + 0.003*work + 0.002*man + 0.002*speed + 0.002*national + 0.002*income + 0.002*today + 0.002*america + 0.002*hungry + 0.002*arts + 0.002*approbation + 0.002*sufficient + 0.002*products + 0.002*strength + 0.002*ardent'),\n",
              " (19,\n",
              "  '0.006*century + 0.005*america + 0.004*promise + 0.004*land + 0.003*internal + 0.003*let + 0.003*today + 0.003*work + 0.003*american + 0.003*growing + 0.002*opinions + 0.002*children + 0.002*strong + 0.002*ties + 0.002*retirement + 0.002*meet + 0.002*democracy + 0.002*guard + 0.002*peoples + 0.002*informed')]"
            ]
          },
          "metadata": {},
          "execution_count": 126
        }
      ],
      "source": [
        "hdpmodel.show_topics()"
      ]
    },
    {
      "cell_type": "markdown",
      "source": [
        "## Visualization"
      ],
      "metadata": {
        "id": "dWfd5yPPwRIW"
      }
    },
    {
      "cell_type": "markdown",
      "metadata": {
        "id": "YnEgNlxDY-0C"
      },
      "source": [
        "### pyLDAvis \n",
        "\n",
        "Thanks to pyLDAvis, we can visualize our topic models in a really handy way. All we need to do is enable our notebook and prepare the object."
      ]
    },
    {
      "cell_type": "code",
      "execution_count": null,
      "metadata": {
        "id": "5d4lmzQEY-0C"
      },
      "outputs": [],
      "source": [
        "pyLDAvis.enable_notebook()"
      ]
    },
    {
      "cell_type": "code",
      "source": [
        "pyLDAvis.gensim_models.prepare(ldamodel, corpus, dictionary)"
      ],
      "metadata": {
        "colab": {
          "base_uri": "https://localhost:8080/",
          "height": 881
        },
        "id": "h52Xij6SWOwn",
        "outputId": "67dff77c-2ea4-48c5-d0f9-12950500dbdd"
      },
      "execution_count": null,
      "outputs": [
        {
          "output_type": "execute_result",
          "data": {
            "text/plain": [
              "PreparedData(topic_coordinates=              x         y  topics  cluster       Freq\n",
              "topic                                                \n",
              "4      0.010401 -0.005341       1        1  28.772625\n",
              "0     -0.011616 -0.000438       2        1  22.062346\n",
              "1     -0.004313 -0.003496       3        1  14.209736\n",
              "5      0.003492  0.004271       4        1  11.845519\n",
              "2      0.003014  0.003486       5        1   9.086445\n",
              "6     -0.002085 -0.003571       6        1   8.079112\n",
              "3      0.000069  0.002858       7        1   3.126462\n",
              "7      0.001039  0.002231       8        1   2.817755, topic_info=             Term        Freq       Total Category  logprob  loglift\n",
              "523         peace  226.000000  226.000000  Default  30.0000  30.0000\n",
              "297       america  227.000000  227.000000  Default  29.0000  29.0000\n",
              "702       freedom  173.000000  173.000000  Default  28.0000  28.0000\n",
              "60   constitution  149.000000  149.000000  Default  27.0000  27.0000\n",
              "613           war  158.000000  158.000000  Default  26.0000  26.0000\n",
              "..            ...         ...         ...      ...      ...      ...\n",
              "842      american    3.005697  129.357099   Topic8  -5.9381  -0.1928\n",
              "588        states    3.315403  194.174146   Topic8  -5.8400  -0.5009\n",
              "738           let    3.069200  148.530483   Topic8  -5.9172  -0.3101\n",
              "280         union    3.277286  197.634047   Topic8  -5.8516  -0.5302\n",
              "729          know    2.786229  118.042028   Topic8  -6.0139  -0.1771\n",
              "\n",
              "[634 rows x 6 columns], token_table=      Topic      Freq   Term\n",
              "term                        \n",
              "832       1  0.286771   able\n",
              "832       2  0.143386   able\n",
              "832       3  0.238976   able\n",
              "832       4  0.095590   able\n",
              "832       5  0.095590   able\n",
              "...     ...       ...    ...\n",
              "2016      4  0.083033  young\n",
              "2016      5  0.083033  young\n",
              "2016      6  0.041516  young\n",
              "2016      7  0.041516  young\n",
              "2016      8  0.041516  young\n",
              "\n",
              "[2612 rows x 3 columns], R=30, lambda_step=0.01, plot_opts={'xlab': 'PC1', 'ylab': 'PC2'}, topic_order=[5, 1, 2, 6, 3, 7, 4, 8])"
            ],
            "text/html": [
              "\n",
              "<link rel=\"stylesheet\" type=\"text/css\" href=\"https://cdn.jsdelivr.net/gh/bmabey/pyLDAvis@3.3.1/pyLDAvis/js/ldavis.v1.0.0.css\">\n",
              "\n",
              "\n",
              "<div id=\"ldavis_el581397159592085282600596828\"></div>\n",
              "<script type=\"text/javascript\">\n",
              "\n",
              "var ldavis_el581397159592085282600596828_data = {\"mdsDat\": {\"x\": [0.010400502385608634, -0.011616238945352278, -0.0043127747663864935, 0.0034918290167730583, 0.0030138877494362737, -0.0020849244714172496, 6.870750635648795e-05, 0.0010390115249815598], \"y\": [-0.005340720729327439, -0.0004379217593289093, -0.0034964230107748647, 0.004271252428470096, 0.003486128397175167, -0.003570667279780071, 0.002857682479382553, 0.0022306694741834445], \"topics\": [1, 2, 3, 4, 5, 6, 7, 8], \"cluster\": [1, 1, 1, 1, 1, 1, 1, 1], \"Freq\": [28.77262461488997, 22.062346442920433, 14.209736122786335, 11.845518948881354, 9.086444533954733, 8.079112163358324, 3.1264619902420145, 2.8177551829668435]}, \"tinfo\": {\"Term\": [\"peace\", \"america\", \"freedom\", \"constitution\", \"war\", \"congress\", \"public\", \"rights\", \"justice\", \"work\", \"united_states\", \"liberty\", \"laws\", \"let\", \"national\", \"hope\", \"union\", \"citizens\", \"today\", \"policy\", \"years\", \"law\", \"spirit\", \"states\", \"right\", \"american\", \"day\", \"progress\", \"duty\", \"faith\", \"promise\", \"environment\", \"americans\", \"choice\", \"commitment\", \"watching\", \"america\", \"choices\", \"dream\", \"meaning\", \"friends\", \"young\", \"ceremony\", \"celebrate\", \"bright\", \"tomorrow\", \"ended\", \"child\", \"creed\", \"faith\", \"urgent\", \"shared\", \"thank\", \"decency\", \"senator\", \"leaders\", \"centuries\", \"ground\", \"oath_office\", \"planet\", \"home\", \"know\", \"generation\", \"children\", \"man\", \"work\", \"freedom\", \"century\", \"let\", \"day\", \"better\", \"hope\", \"ask\", \"earth\", \"long\", \"principle\", \"history\", \"liberty\", \"today\", \"laws\", \"forward\", \"strength\", \"american\", \"states\", \"need\", \"confidence\", \"best\", \"life\", \"peace\", \"union\", \"war\", \"constitution\", \"law\", \"spirit\", \"citizens\", \"united_states\", \"national\", \"justice\", \"fellow_citizens\", \"expressly\", \"requisite\", \"cases\", \"plainly\", \"practicable\", \"forefathers\", \"exhibited\", \"moderate\", \"section\", \"preserved\", \"ruin\", \"discretion\", \"fearful\", \"terms\", \"experienced\", \"union\", \"perfect\", \"perfection\", \"constitutional\", \"national_debt\", \"blessed\", \"invasion\", \"profit\", \"slave\", \"gratifying\", \"authority\", \"according\", \"honorable\", \"british\", \"founded\", \"vast\", \"united_states\", \"object\", \"states\", \"national\", \"powers\", \"territory\", \"public\", \"effect\", \"known\", \"support\", \"state\", \"experience\", \"men\", \"condition\", \"spirit\", \"constitution\", \"institutions\", \"action\", \"necessary\", \"foreign\", \"peace\", \"far\", \"present\", \"citizens\", \"land\", \"administration\", \"high\", \"prosperity\", \"right\", \"justice\", \"life\", \"political\", \"war\", \"congress\", \"fellow_citizens\", \"law\", \"principles\", \"years\", \"rights\", \"duty\", \"interests\", \"america\", \"branches_government\", \"attained\", \"rendered\", \"aids\", \"preservation\", \"able\", \"lord\", \"bible\", \"strongly\", \"respect\", \"deliberate\", \"realization\", \"suffrage\", \"political_parties\", \"heritage\", \"assurance\", \"article\", \"recommend\", \"expected\", \"authorized\", \"republic\", \"masters\", \"repeat\", \"civil\", \"faithful\", \"relations\", \"continuance\", \"repair\", \"examples\", \"performance\", \"opinion\", \"problems\", \"civilization\", \"happiness\", \"highest\", \"influence\", \"office\", \"measures\", \"rights\", \"important\", \"called\", \"public\", \"expression\", \"sufficient\", \"let\", \"success\", \"condition\", \"large\", \"right\", \"far\", \"high\", \"law\", \"secure\", \"duties\", \"duty\", \"war\", \"interests\", \"policy\", \"men\", \"best\", \"american\", \"confidence\", \"union\", \"future\", \"peace\", \"interest\", \"spirit\", \"freedom\", \"states\", \"justice\", \"constitution\", \"america\", \"know\", \"fellow_citizens\", \"national\", \"united_states\", \"congress\", \"work\", \"factories\", \"program\", \"aided\", \"borders\", \"forgotten\", \"jobs\", \"countries\", \"pain\", \"north\", \"prosper\", \"triumphs\", \"differences\", \"corrected\", \"growing\", \"effort\", \"civilized\", \"celebrated\", \"inadequate\", \"vitality\", \"controlled\", \"allegiance\", \"decisive\", \"restore\", \"contribute\", \"hoped\", \"attack\", \"direction\", \"dreams\", \"available\", \"coming\", \"cost\", \"communism\", \"sound\", \"labor\", \"american\", \"longer\", \"individual\", \"peace\", \"small\", \"international\", \"demands\", \"democracy\", \"poverty\", \"america\", \"desire\", \"help\", \"economic\", \"duty\", \"fellow_citizens\", \"years\", \"right\", \"interests\", \"principles\", \"opportunity\", \"live\", \"force\", \"freedom\", \"life\", \"rights\", \"citizens\", \"president\", \"believe\", \"today\", \"security\", \"constitution\", \"system\", \"national\", \"united_states\", \"law\", \"powers\", \"present\", \"spirit\", \"union\", \"states\", \"war\", \"liberty\", \"congress\", \"best\", \"let\", \"justice\", \"public\", \"men\", \"tradition\", \"supporting\", \"changes\", \"meantime\", \"ease\", \"meant\", \"peoples\", \"social\", \"heroes\", \"deal\", \"insist\", \"defended\", \"issues\", \"injuries\", \"west\", \"conception\", \"counsel\", \"stand\", \"races\", \"enforcement\", \"processes\", \"desire\", \"trial\", \"dedication\", \"available\", \"concerning\", \"remedy\", \"middle\", \"tolerance\", \"walk\", \"use\", \"progress\", \"rule\", \"private\", \"action\", \"economic\", \"justice\", \"support\", \"order\", \"today\", \"hope\", \"legislation\", \"liberty\", \"purpose\", \"congress\", \"self_government\", \"conditions\", \"question\", \"thought\", \"freedom\", \"aid\", \"law\", \"peace\", \"common\", \"men\", \"rights\", \"means\", \"need\", \"day\", \"years\", \"long\", \"life\", \"laws\", \"political\", \"america\", \"citizens\", \"best\", \"let\", \"states\", \"administration\", \"united_states\", \"constitution\", \"war\", \"public\", \"work\", \"spirit\", \"drawn\", \"altogether\", \"dare\", \"pray\", \"gives\", \"satisfactory\", \"war\", \"corresponding\", \"fitting\", \"colored\", \"god\", \"article\", \"departure\", \"cherish\", \"energies\", \"pursued\", \"occasion\", \"survive\", \"judgments\", \"knew\", \"magnitude\", \"toil\", \"collected\", \"bind\", \"appointed\", \"presented\", \"sides\", \"cease\", \"faces\", \"north_south\", \"aid\", \"station\", \"forth\", \"humanity\", \"complete\", \"public\", \"civilization\", \"judgment\", \"order\", \"years\", \"citizens\", \"service\", \"period\", \"party\", \"peace\", \"man\", \"spirit\", \"fellow_citizens\", \"let\", \"hope\", \"equal\", \"national\", \"trust\", \"congress\", \"states\", \"principles\", \"life\", \"union\", \"constitution\", \"duty\", \"justice\", \"means\", \"change\", \"political\", \"laws\", \"freedom\", \"america\", \"united_states\", \"men\", \"american\", \"right\", \"rights\", \"best\", \"law\", \"agencies\", \"reign\", \"total\", \"enforcement\", \"assist\", \"potent\", \"test\", \"islands\", \"indispensable\", \"definite\", \"effective\", \"creation\", \"imposed\", \"recommendations\", \"method\", \"problem\", \"session\", \"policies\", \"momentous\", \"hemisphere\", \"provided\", \"limitation\", \"preserving\", \"prepared\", \"disregard\", \"adopt\", \"program\", \"aided\", \"find\", \"tariff\", \"discharge\", \"leadership\", \"peace\", \"work\", \"rights\", \"justice\", \"institutions\", \"liberty\", \"constitution\", \"order\", \"land\", \"freedom\", \"laws\", \"reason\", \"proper\", \"executive\", \"honor\", \"taken\", \"congress\", \"progress\", \"century\", \"support\", \"prosperity\", \"way\", \"business\", \"public\", \"war\", \"today\", \"united_states\", \"union\", \"let\", \"america\", \"force\", \"duty\", \"state\", \"law\", \"states\", \"citizens\", \"spirit\", \"fellow_citizens\", \"national\", \"right\", \"hope\", \"men\", \"islands\", \"deal\", \"desirable\", \"likely\", \"bill\", \"taken_oath\", \"insure\", \"treaty\", \"reforms\", \"enforcement\", \"domain\", \"securing\", \"disputes\", \"settlement\", \"method\", \"invoking\", \"session\", \"courts\", \"defeat\", \"sole\", \"closed\", \"leaving\", \"prevent\", \"contributed\", \"elected\", \"definite\", \"class\", \"involve\", \"revenues\", \"congress\", \"policy\", \"making\", \"secure\", \"taxation\", \"person\", \"constitution\", \"freedom\", \"greater\", \"feeling\", \"america\", \"attention\", \"future\", \"legislation\", \"laws\", \"action\", \"interest\", \"hope\", \"national\", \"important\", \"liberty\", \"way\", \"means\", \"united_states\", \"relations\", \"years\", \"day\", \"war\", \"faith\", \"trade\", \"executive\", \"necessary\", \"right\", \"better\", \"justice\", \"citizens\", \"law\", \"spirit\", \"rights\", \"peace\", \"work\", \"public\", \"history\", \"today\", \"american\", \"states\", \"let\", \"union\", \"know\"], \"Freq\": [226.0, 227.0, 173.0, 149.0, 158.0, 113.0, 158.0, 124.0, 125.0, 119.0, 145.0, 102.0, 109.0, 148.0, 137.0, 113.0, 197.0, 124.0, 104.0, 87.0, 100.0, 124.0, 138.0, 194.0, 117.0, 129.0, 95.0, 89.0, 115.0, 79.0, 28.235796525886123, 3.073992901765259, 34.13277043122782, 11.215624548150204, 6.0474897260623415, 5.072601292247516, 108.9560658088055, 3.445120401430636, 10.640147866073258, 8.383830458318329, 18.393764244065213, 11.305478127054025, 5.774827016026489, 6.9469183739871045, 3.568086986688735, 5.455916180227473, 2.887227890915432, 6.152082250940999, 5.83372047593679, 35.988269394166004, 3.6799538049845824, 5.001850693421115, 7.925839915071369, 3.98886502771495, 5.026612623960492, 7.510623951350223, 8.675095524215239, 6.7918332564608175, 2.7487719314339496, 3.849923855655701, 30.72779684026309, 51.15820743116883, 18.60684589800726, 21.71177419240082, 41.987031922313925, 48.3930708799262, 68.51230592273866, 21.08063947836668, 58.848635413483585, 37.598455716739814, 31.157826945206725, 42.750763632783176, 19.539097610250302, 25.290348545115958, 37.80074583649152, 23.175763340234102, 34.33761854426909, 37.04682879942777, 37.48429984671583, 39.03019761971883, 16.105062072219322, 29.316873859364257, 43.17263742437768, 59.06338762130595, 28.50388451963903, 31.809280634539352, 33.69609062762678, 37.64059757228987, 57.12285163992177, 51.58414041126733, 42.47398821690492, 40.44405524758015, 35.59987171390544, 37.54176256461672, 34.60111895048044, 35.106027263655484, 34.57057477637034, 33.307757981093914, 32.853795464356416, 4.802528949948257, 3.579875487682317, 6.65756497944843, 4.264907189973017, 6.893090208416459, 3.2639347064541053, 2.3722158075951714, 2.6670598464222217, 4.7571024389799605, 10.90984471929585, 2.312725321137845, 3.7145904520120285, 2.6890869149582257, 9.155279756798008, 2.0713747753416816, 71.13487015041457, 7.164826992667638, 3.1647648493723652, 19.76041799329183, 2.4472491296788226, 4.818159571792777, 5.195328642987034, 3.869689480095775, 4.47713141135105, 2.3959139309473603, 18.576613049247914, 4.89241320681423, 9.907270007433597, 3.6159397802858297, 5.980409622876665, 9.627241321401021, 48.58090977169076, 12.84972171339891, 61.14051829231124, 43.52196351173408, 29.971280793280048, 13.36899018015287, 46.57217409914719, 10.097059655611872, 8.190093662765836, 26.205204243741377, 26.734055433295765, 15.69540495687845, 33.49276104445217, 15.255685348271895, 37.5738519449223, 39.09035315035553, 20.01815832991413, 18.46953671863271, 22.397476510061896, 18.908951932423513, 49.147242040299126, 23.167254637951274, 22.316540733556014, 29.31523412634624, 19.187177105144993, 22.569832542529632, 20.15669641001851, 18.130673605276424, 26.840807630182248, 27.947366935554967, 26.799752768991077, 22.632731108144245, 30.830970708624537, 24.70447546865898, 24.06576580065119, 24.378498748799714, 20.97600882055365, 21.31042756182188, 22.144296901225143, 21.427479315716543, 20.926443371203206, 21.798992668900656, 2.137470389552316, 2.4946843958485587, 2.0914346060783213, 1.7003014066830515, 6.188305852592102, 5.148811030035153, 1.5817216513353047, 2.0826758266265064, 1.6619571564251463, 14.030888870711484, 1.7913995714608706, 2.09345216984777, 4.0039054008234425, 2.5868007938296476, 2.376510294438372, 2.7059171833347935, 1.5754349353429802, 2.901619698011508, 3.820994451217801, 1.2071617990290013, 14.814574138243627, 1.4324488644719475, 1.8359181255684032, 6.701353533621825, 7.225510612301546, 9.946983829561896, 3.3205061506548903, 1.4133722562082927, 2.366507453818048, 3.392331153199309, 8.106632450115876, 6.19005426288298, 7.6451799352244265, 10.122589662691968, 7.56452957579844, 11.413686614361348, 12.350685985654792, 8.69864163195154, 24.187252360204855, 12.019490371993697, 12.925164226188885, 28.93711503772768, 5.5453990621107945, 6.856732541385289, 26.392963277013326, 9.234278131584304, 9.73753056644175, 7.54787718892164, 20.648330754529315, 15.97927902520776, 14.08983298067858, 21.31734359235228, 12.069405378070588, 14.94798058682919, 19.398141786003222, 24.325112470824894, 16.71485992510431, 14.663908411034676, 18.37912169773472, 16.34414073736684, 18.60950369299344, 14.628279114758875, 24.787324436799448, 13.911920691263525, 25.710343216964837, 12.548175385016462, 18.411513791948806, 19.964456763793837, 19.77693725089756, 16.007240207463866, 17.36963522975877, 20.355014018237757, 15.425627810587889, 14.856277704944453, 15.20245089838014, 15.050282327882513, 14.323619457973264, 14.175727901857302, 2.1746852469427886, 3.1195595114367873, 1.9182039920541922, 2.165782055228059, 2.4768543807002854, 2.9091197753348386, 6.062782669375928, 1.4777234417278469, 1.3667698936697532, 1.3957512148313072, 1.7590887590779662, 5.033199652060355, 1.116268653533821, 2.6666630763641352, 8.993371567130596, 2.5540619511655858, 1.3080415428338865, 1.1984133077798462, 1.0841187270761177, 1.258017530982975, 1.2553056873392643, 1.36135108705943, 3.4785899278681898, 1.3193325012330026, 1.3399954752441154, 2.098422017772043, 3.9337610373644654, 3.5636696121492335, 1.5181057456951033, 2.489680800114514, 4.815383121144178, 2.4450334816029633, 5.868498253365057, 8.486559268288879, 22.712295022797292, 4.926563829859217, 9.30192351094928, 36.51708325451827, 5.7342556481211515, 5.915759383634602, 4.705195839390512, 11.024989944635825, 3.9453393979207103, 32.856205057155066, 5.835731897389843, 8.92625472684199, 7.312085402780166, 17.33317082734562, 17.090348495936297, 14.729332384381962, 16.408512885184287, 14.573611453155701, 13.200916278040742, 7.468954827051608, 8.42415353643135, 10.222910068349385, 21.026603977641727, 15.681717034794763, 16.19542977436592, 15.985262798389805, 10.235829638972234, 11.044243797444711, 13.855107733708207, 9.472115789219801, 17.651517035069258, 11.655237635146726, 15.78085781034798, 16.125970209070147, 14.306212820837882, 11.998587412196837, 11.198377253582784, 14.501120847933993, 17.39747193529228, 16.913010906393925, 15.226952834320567, 12.266013934098076, 12.792145347373879, 12.050185372687979, 13.80380651838464, 12.964379143150644, 13.096022439219933, 11.871085161473548, 0.9330969156251335, 1.409691120944231, 2.74036490830599, 1.4231262412332215, 0.981263854244011, 1.1900208070706964, 5.5042421328578595, 3.9493665666480235, 1.8470423667873619, 1.1358076364517002, 1.2684297094095078, 1.14249299937321, 1.2105044450055686, 1.0833809303545707, 1.791190346821649, 1.0874734006343199, 2.6532022121457626, 9.284202957283608, 1.341106222446671, 2.440022366375533, 1.0521717663348513, 4.97828113426796, 2.2693024212243516, 1.839101098234379, 1.17126041585442, 1.4371815591928774, 1.9647316672335184, 1.5496076298723183, 1.4865664299742585, 1.2300741524647314, 7.307557033935213, 12.585670689006736, 4.752687066202674, 2.536277301584838, 8.496625081321085, 5.870006864674534, 15.57540169875814, 11.190412909231567, 6.7887534459247485, 13.077562105172076, 13.884931539226558, 5.06116512969921, 12.613411217312992, 10.19031453528115, 13.495556081047237, 3.8447835683398357, 4.019559935717124, 7.198789038444012, 4.951708691260716, 18.571912737684684, 4.916743576773582, 13.84482471007341, 22.67522952378177, 8.371200103891972, 12.702274697012987, 12.854238743583657, 7.589723655168972, 8.777952221471818, 10.131383990140938, 10.270807164874974, 10.266774061567839, 11.442792927470473, 10.61681028950479, 9.479678823047545, 16.743629050633306, 11.359980386341398, 10.023536771046611, 12.413848336612734, 14.333800619562025, 9.172987544975431, 11.454662043292657, 11.302874279192022, 11.512889170033027, 11.321253010303273, 10.20780586386121, 10.137978323704438, 2.6878599964008947, 1.377026785996831, 1.6208510503348064, 1.632859511624194, 1.7648365528376093, 1.2047103121616862, 24.555972952222056, 0.8577263653260837, 0.8283389233141717, 0.7798677670128814, 10.199904464601058, 1.020203053100105, 1.014650685274878, 2.38475753125513, 1.4858453583903657, 2.1429267513827464, 4.914407904793681, 0.7258112876207472, 0.8762852681993775, 1.1412495032268306, 1.0515116016349406, 1.3936081827151356, 1.0835868237517006, 1.5455797019222473, 0.812365843706646, 1.1610111544088968, 2.0683034756394876, 1.5288839841959445, 0.8139569220284436, 1.3550369213577098, 4.9335940514670975, 2.0501602941688226, 2.4759843641117545, 3.453125584812311, 3.1073880413126616, 18.881966813613126, 4.387439797213775, 4.29510037937249, 6.0467732771077785, 10.994369654765821, 13.302559882487774, 8.129102475750164, 4.354693771378702, 8.357857861664506, 20.73779737249573, 10.247897222674204, 13.351112642303926, 11.198336593960887, 13.837341764388059, 10.804810586502219, 7.301515008579249, 12.238879941348433, 6.069509652222588, 10.169490130805988, 15.216131490654652, 8.564338721727632, 10.299547492131355, 14.78029796020944, 12.046329124642579, 9.908452470500002, 10.454957867150604, 6.480115712842933, 6.609669376948368, 8.149023624711276, 8.943597619562519, 11.709504815407115, 13.68992587077338, 10.39170506158055, 9.306091465216172, 9.341527553771892, 8.813583627937359, 8.736549909908987, 8.245693925597655, 8.291459611521645, 0.6672335124212742, 0.3697701479799684, 0.4287451828966793, 1.001424285056898, 0.44543254997842124, 0.2923284827714027, 0.526469933425464, 0.530302696597586, 0.5335535669972639, 0.44528234729629945, 1.1140693036294365, 0.35063577640891885, 0.7120458072539052, 0.4208987950038083, 0.490261554445378, 0.6004402457135848, 0.673890424626615, 0.8150784430564433, 0.2924270107253454, 0.4847342724090351, 1.0625303872359295, 0.4412951120200694, 0.6522641092193158, 0.6648045793646845, 0.468909586206061, 0.625210769581628, 0.6648472735845475, 0.4438699783367945, 3.212346963431052, 1.427286319925151, 1.0424655025040366, 0.9967821719754749, 10.59575373057758, 5.611055751229524, 5.638665072664843, 5.4293173516595346, 3.1103643109942496, 4.4227239743488, 6.202907760174755, 2.3190026542931945, 3.0577261656607164, 6.530418359616285, 4.390926791609257, 1.6340457406566218, 2.59048003459339, 2.9512921255281213, 2.459390229711314, 1.4069856600446005, 4.265509429111059, 3.474692933431221, 2.13961273125857, 3.3495473417256685, 2.65090148342941, 2.8023290479968828, 2.2737417757091056, 5.196958918362506, 5.058295158876719, 3.6481521876625203, 4.4932745532366125, 5.390234768353976, 4.395668205557223, 5.868447130625307, 2.582732947567062, 3.6241821804169096, 3.0242806915915628, 3.544242112031072, 4.414957454091363, 3.5066302709890733, 3.5300426033904033, 3.2668321490487306, 3.4460380452736006, 3.2217956359510946, 3.1625881751736635, 3.1311354906219813, 0.6756757387081757, 0.41763689903778584, 0.33232670649034807, 0.6978379488998201, 0.6291201569967486, 0.3275728421476364, 0.39556109982499726, 1.069572539860569, 0.4779985336726925, 0.8372991652721086, 0.26964549269078103, 0.43410673209410144, 0.3807569254605304, 0.8452233008171952, 0.44051119540336414, 0.26611060364595557, 0.6214742614864576, 0.5071776470594404, 0.3792407362008215, 0.4025176314341054, 0.2549003133074639, 0.2636443082588464, 1.143346684289149, 0.5517740712917186, 0.7708096156314789, 0.380665140747097, 0.9065715796575098, 0.3272347612660631, 0.548926754903217, 5.320061982006453, 3.805173564119728, 1.6056600828386598, 2.7279194365364883, 0.8508304279657066, 0.8709063022931992, 5.812437776685503, 6.3179408751712005, 2.0882205191133196, 0.8551345903351559, 7.2362831891953245, 1.2975014822414495, 3.0791491168547656, 1.5086268892829855, 3.7637345074925985, 2.354954393042274, 2.6636102962863197, 3.7734037799273605, 4.43146017077643, 2.2020367482060608, 3.4234887406509316, 2.5615579019503647, 2.302693563769493, 4.362292909098504, 1.708589656416405, 3.1290099433858285, 3.009840413175365, 4.399268448906118, 2.612819083906908, 1.801905552492425, 2.360114239715203, 2.6340980113557606, 3.3395040361281003, 2.5264221696403553, 3.3727214115363093, 3.3089809583577354, 3.2953807659082592, 3.506935275607177, 3.2148713417818833, 4.378314068488791, 3.0974649272520893, 3.5595952207715484, 2.7117600195800318, 2.8251121172270337, 3.005697197473635, 3.315402637520367, 3.0692004102219683, 3.2772862737646498, 2.786229100671579], \"Total\": [226.0, 227.0, 173.0, 149.0, 158.0, 113.0, 158.0, 124.0, 125.0, 119.0, 145.0, 102.0, 109.0, 148.0, 137.0, 113.0, 197.0, 124.0, 104.0, 87.0, 100.0, 124.0, 138.0, 194.0, 117.0, 129.0, 95.0, 89.0, 115.0, 79.0, 53.07251361758239, 6.162304465543388, 68.53580781138928, 22.624052972107254, 12.44190482426921, 10.465392422766785, 227.50456279432632, 7.229650047839032, 22.333184219339845, 17.72035563485097, 39.16739196103855, 24.086947568984797, 12.366446446345915, 14.912482410641587, 7.817293776917101, 11.9728779877704, 6.340617336383013, 13.523759177979574, 12.886659034474013, 79.56508459352375, 8.156103697051849, 11.08770768075808, 17.64687760079882, 8.882382878603325, 11.194594661456042, 16.75022674091441, 19.34988747457494, 15.183162378711964, 6.151649618876693, 8.620012138403212, 70.28975083168483, 118.04202837430748, 42.38004171659991, 50.22733921836443, 100.94697079183375, 119.00994255512423, 173.26684627727334, 50.30030684373072, 148.53048256122526, 95.45084033923689, 79.01893854055223, 113.10817697123679, 48.07020552737395, 63.97845679291682, 101.78133114522582, 58.75682642883954, 92.43053766393221, 102.47095456053418, 104.67859405311009, 109.97011478900248, 39.538117029271696, 80.85013581961721, 129.35709865585164, 194.1741462727371, 78.35741977203232, 90.88029148830377, 102.33198717619555, 119.4092217611989, 226.88461484704789, 197.63404724240175, 158.38344996071285, 149.92010960345857, 124.5778340754297, 138.55431799442778, 124.23966698306714, 145.56512413950722, 137.70459756571503, 125.05914259636799, 113.44812054513865, 10.855535620961403, 8.49993285494732, 16.171857512918432, 10.41624476515802, 17.082878345510682, 8.162096132725857, 6.120694280221242, 6.924908022562052, 12.44020406404202, 28.835601458809464, 6.1203294676015005, 9.979370953625036, 7.320963256339631, 24.933163049461903, 5.72238325409345, 197.63404724240175, 19.935397878349544, 8.815245934322563, 55.10798794477959, 6.8365396864416486, 13.46400006115083, 14.53352139345094, 10.910299277858648, 12.682134929137618, 6.799364115340495, 52.87077562034739, 13.944922294650281, 28.28651541931476, 10.352906083144635, 17.12867765042768, 27.616489277987817, 145.56512413950722, 37.48549500273617, 194.1741462727371, 137.70459756571503, 94.66053300392436, 40.5428923240714, 158.06749444736826, 30.418499571477962, 24.504845929690138, 88.07582994275566, 91.07927640982965, 50.652255233413364, 120.23721165406339, 49.469652196582174, 138.55431799442778, 149.92010960345857, 68.9979760591006, 63.54095303913787, 82.71985974881328, 67.20069658356802, 226.88461484704789, 88.45131596507225, 84.94715110583444, 124.23966698306714, 70.8596605749715, 89.44431351197531, 76.70292592425406, 66.1339189872521, 117.18736791386296, 125.05914259636799, 119.4092217611989, 93.8534627533497, 158.38344996071285, 113.6803355124926, 113.44812054513865, 124.5778340754297, 91.76653129167232, 100.24755181751395, 124.55753531069313, 115.02401208599487, 102.98531621935483, 227.50456279432632, 7.861308608733376, 9.222895779899714, 7.861658608605027, 6.858893618951583, 25.03300060355572, 20.922582323697945, 6.523538552658826, 8.717391292335224, 6.964201655649885, 59.0363440328521, 7.687704596688346, 9.047518386816149, 17.31799195281903, 11.2292176796713, 10.462961015729839, 11.926155287881768, 6.949814556233088, 12.8998500584837, 17.002559835811244, 5.394841019963011, 66.51968919434881, 6.438955946458066, 8.265237399032248, 30.17747063641227, 32.54845150846947, 44.905651025682396, 15.008971574682459, 6.421164152155017, 10.755031697410876, 15.432648252968416, 37.109036678025184, 28.310126990080143, 35.08992127405754, 46.93175797339914, 35.31772682777375, 54.019661876499974, 58.767600918598646, 41.379698666508304, 124.55753531069313, 59.40073558207116, 64.75623574751951, 158.06749444736826, 26.139164791624843, 33.20633659329198, 148.53048256122526, 46.440590505344694, 49.469652196582174, 37.12196427170859, 117.18736791386296, 88.45131596507225, 76.70292592425406, 124.5778340754297, 64.16979854718777, 82.90186954848856, 115.02401208599487, 158.38344996071285, 102.98531621935483, 87.71864572181721, 120.23721165406339, 102.33198717619555, 129.35709865585164, 90.88029148830377, 197.63404724240175, 86.23356697292982, 226.88461484704789, 74.05099823163332, 138.55431799442778, 173.26684627727334, 194.1741462727371, 125.05914259636799, 149.92010960345857, 227.50456279432632, 118.04202837430748, 113.44812054513865, 137.70459756571503, 145.56512413950722, 113.6803355124926, 119.00994255512423, 8.673734546033735, 12.781018055437073, 8.57465078867505, 9.898311084032283, 11.359845473273028, 13.712016952691313, 28.718545318629655, 7.042918918846071, 6.520798768858654, 6.68762237117579, 8.477972832565632, 24.371663283904645, 5.427526006418751, 13.044518844333316, 44.440479960823076, 12.75994109147041, 6.575998529562312, 6.050285511811168, 5.511895937608307, 6.441595567094881, 6.446542538602015, 6.99500407162725, 17.896138576562088, 6.801750955664879, 6.911528412747627, 10.839282859757285, 20.32668864766835, 18.49760969681815, 7.898464637620337, 12.957371195868324, 25.091138728712302, 12.736304909186375, 31.371951737252044, 46.167472413617986, 129.35709865585164, 26.371014442875993, 52.01879718756512, 226.88461484704789, 31.87353814723404, 33.189570139041116, 25.95089121053865, 66.72638740293671, 21.55766169577484, 227.50456279432632, 33.348374359409505, 53.78729263117821, 43.07329776388062, 115.02401208599487, 113.44812054513865, 100.24755181751395, 117.18736791386296, 102.98531621935483, 91.76653129167232, 45.789006994329284, 53.50473918835437, 68.19685511321067, 173.26684627727334, 119.4092217611989, 124.55753531069313, 124.23966698306714, 69.1102507494672, 76.76995169543486, 104.67859405311009, 62.81730835372596, 149.92010960345857, 85.48487461788588, 137.70459756571503, 145.56512413950722, 124.5778340754297, 94.66053300392436, 84.94715110583444, 138.55431799442778, 197.63404724240175, 194.1741462727371, 158.38344996071285, 102.47095456053418, 113.6803355124926, 102.33198717619555, 148.53048256122526, 125.05914259636799, 158.06749444736826, 120.23721165406339, 5.444588720193122, 8.34116969545769, 16.786043549279032, 8.733906505704864, 6.045364434655596, 7.338263572170622, 33.94922613780839, 24.596836005115218, 11.51031348741344, 7.12295127832232, 7.962429645776997, 7.210384117529319, 7.7703039794098405, 7.0515452568686445, 11.713748441450305, 7.114435691108797, 17.587522044163958, 61.628514052504656, 8.908315593588107, 16.25987486579938, 7.022872918382999, 33.348374359409505, 15.218061034030047, 12.366148196506222, 7.898464637620337, 9.751346078336134, 13.348014434203112, 10.567998581537346, 10.150426417570774, 8.448579614211514, 50.59741970236754, 89.33231949817349, 33.25554501526106, 17.514835359899692, 63.54095303913787, 43.07329776388062, 125.05914259636799, 88.07582994275566, 51.21000811317142, 104.67859405311009, 113.10817697123679, 37.401090385051546, 102.47095456053418, 81.98306591103191, 113.6803355124926, 27.800065159562102, 29.342906029424807, 56.95085804824411, 37.326835531921276, 173.26684627727334, 37.34537224262668, 124.5778340754297, 226.88461484704789, 71.87432794516558, 120.23721165406339, 124.55753531069313, 64.57535073986564, 78.35741977203232, 95.45084033923689, 100.24755181751395, 101.78133114522582, 119.4092217611989, 109.97011478900248, 93.8534627533497, 227.50456279432632, 124.23966698306714, 102.33198717619555, 148.53048256122526, 194.1741462727371, 89.44431351197531, 145.56512413950722, 149.92010960345857, 158.38344996071285, 158.06749444736826, 119.00994255512423, 138.55431799442778, 14.221795512639277, 7.943449296982132, 9.375631952379596, 9.493522192421144, 10.818362863333345, 7.549746616913321, 158.38344996071285, 5.545237287441204, 5.471246629238483, 5.161772000788461, 68.38790075300753, 6.949814556233088, 6.965833392362413, 16.421444374204878, 10.349062909348861, 15.201676888577039, 35.53295905732268, 5.259397508148957, 6.352343294444119, 8.287702761249866, 7.669123815309443, 10.197407479135242, 7.943725222302113, 11.457026763992038, 6.037462644481384, 8.654036971101002, 15.481648312240337, 11.456204864574575, 6.105440029805166, 10.190725835574044, 37.34537224262668, 15.444467508402223, 18.73736280283004, 26.319645436890283, 23.65070003356354, 158.06749444736826, 35.08992127405754, 34.944837938036756, 51.21000811317142, 100.24755181751395, 124.23966698306714, 73.17989720507879, 36.4413155678977, 76.8513536974551, 226.88461484704789, 100.94697079183375, 138.55431799442778, 113.44812054513865, 148.53048256122526, 113.10817697123679, 71.76111565532229, 137.70459756571503, 57.8911257325678, 113.6803355124926, 194.1741462727371, 91.76653129167232, 119.4092217611989, 197.63404724240175, 149.92010960345857, 115.02401208599487, 125.05914259636799, 64.57535073986564, 67.14030237313374, 93.8534627533497, 109.97011478900248, 173.26684627727334, 227.50456279432632, 145.56512413950722, 120.23721165406339, 129.35709865585164, 117.18736791386296, 124.55753531069313, 102.33198717619555, 124.5778340754297, 10.149001828791741, 5.828939901757462, 6.767620617220925, 16.25987486579938, 7.512859276978869, 5.026824816569534, 9.342622497830304, 9.474420296380698, 9.580976810294827, 7.999084174890668, 20.017621266732252, 6.34576307228379, 12.918190259754658, 7.650693655868509, 8.962069090675332, 11.14302359585642, 12.723874376422563, 15.431367546906285, 5.547486351830191, 9.198592406756413, 20.190138873290312, 8.385734567861249, 12.400191366552093, 12.64144127074559, 8.93919095189734, 11.933256284296533, 12.781018055437073, 8.57465078867505, 62.292015220016665, 27.700405171925397, 20.419967092796732, 19.596404037363513, 226.88461484704789, 119.00994255512423, 124.55753531069313, 125.05914259636799, 68.9979760591006, 102.47095456053418, 149.92010960345857, 51.21000811317142, 70.8596605749715, 173.26684627727334, 109.97011478900248, 35.43311196953121, 60.52383287554032, 70.59286113969303, 57.60754031538723, 29.896403164602475, 113.6803355124926, 89.33231949817349, 50.30030684373072, 88.07582994275566, 66.1339189872521, 71.815398829381, 55.34159719208531, 158.06749444736826, 158.38344996071285, 104.67859405311009, 145.56512413950722, 197.63404724240175, 148.53048256122526, 227.50456279432632, 68.19685511321067, 115.02401208599487, 91.07927640982965, 124.5778340754297, 194.1741462727371, 124.23966698306714, 138.55431799442778, 113.44812054513865, 137.70459756571503, 117.18736791386296, 113.10817697123679, 120.23721165406339, 9.474420296380698, 7.12295127832232, 5.836036770557168, 12.701488351884612, 11.664625129485298, 6.126093168342208, 7.529767230759079, 20.481673176970563, 9.155101530838216, 16.25987486579938, 5.253960080206664, 8.501495741187709, 7.490650331256202, 16.92220156582476, 8.962069090675332, 5.433573911773942, 12.723874376422563, 10.404576126250562, 7.786884964688834, 8.272827166254334, 5.251813610725256, 5.437984603676264, 23.630618791118923, 11.535543139443211, 16.125952643358836, 7.999084174890668, 19.17589135809702, 6.954873373272096, 11.699388954127578, 113.6803355124926, 87.71864572181721, 36.29901204830685, 64.16979854718777, 18.81813343518575, 19.375173007775633, 149.92010960345857, 173.26684627727334, 51.93864854700233, 19.21878827447533, 227.50456279432632, 31.113667175088956, 86.23356697292982, 37.401090385051546, 109.97011478900248, 63.54095303913787, 74.05099823163332, 113.10817697123679, 137.70459756571503, 59.40073558207116, 102.47095456053418, 71.815398829381, 64.57535073986564, 145.56512413950722, 44.905651025682396, 100.24755181751395, 95.45084033923689, 158.38344996071285, 79.56508459352375, 48.2628745626911, 70.59286113969303, 82.71985974881328, 117.18736791386296, 79.01893854055223, 125.05914259636799, 124.23966698306714, 124.5778340754297, 138.55431799442778, 124.55753531069313, 226.88461484704789, 119.00994255512423, 158.06749444736826, 92.43053766393221, 104.67859405311009, 129.35709865585164, 194.1741462727371, 148.53048256122526, 197.63404724240175, 118.04202837430748], \"Category\": [\"Default\", \"Default\", \"Default\", \"Default\", \"Default\", \"Default\", \"Default\", \"Default\", \"Default\", \"Default\", \"Default\", \"Default\", \"Default\", \"Default\", \"Default\", \"Default\", \"Default\", \"Default\", \"Default\", \"Default\", \"Default\", \"Default\", \"Default\", \"Default\", \"Default\", \"Default\", \"Default\", \"Default\", \"Default\", \"Default\", \"Topic1\", \"Topic1\", \"Topic1\", \"Topic1\", \"Topic1\", \"Topic1\", \"Topic1\", \"Topic1\", \"Topic1\", \"Topic1\", \"Topic1\", \"Topic1\", \"Topic1\", \"Topic1\", \"Topic1\", \"Topic1\", \"Topic1\", \"Topic1\", \"Topic1\", \"Topic1\", \"Topic1\", \"Topic1\", \"Topic1\", \"Topic1\", \"Topic1\", \"Topic1\", \"Topic1\", \"Topic1\", \"Topic1\", \"Topic1\", \"Topic1\", \"Topic1\", \"Topic1\", \"Topic1\", \"Topic1\", \"Topic1\", \"Topic1\", \"Topic1\", \"Topic1\", \"Topic1\", \"Topic1\", \"Topic1\", \"Topic1\", \"Topic1\", \"Topic1\", \"Topic1\", \"Topic1\", \"Topic1\", \"Topic1\", \"Topic1\", \"Topic1\", \"Topic1\", \"Topic1\", \"Topic1\", \"Topic1\", \"Topic1\", \"Topic1\", \"Topic1\", \"Topic1\", \"Topic1\", \"Topic1\", \"Topic1\", \"Topic1\", \"Topic1\", \"Topic1\", \"Topic1\", \"Topic1\", \"Topic1\", \"Topic1\", \"Topic2\", \"Topic2\", \"Topic2\", \"Topic2\", \"Topic2\", \"Topic2\", \"Topic2\", \"Topic2\", \"Topic2\", \"Topic2\", \"Topic2\", \"Topic2\", \"Topic2\", \"Topic2\", \"Topic2\", \"Topic2\", \"Topic2\", \"Topic2\", \"Topic2\", \"Topic2\", \"Topic2\", \"Topic2\", \"Topic2\", \"Topic2\", \"Topic2\", \"Topic2\", \"Topic2\", \"Topic2\", \"Topic2\", \"Topic2\", \"Topic2\", \"Topic2\", \"Topic2\", \"Topic2\", \"Topic2\", \"Topic2\", \"Topic2\", \"Topic2\", \"Topic2\", \"Topic2\", \"Topic2\", \"Topic2\", \"Topic2\", \"Topic2\", \"Topic2\", \"Topic2\", \"Topic2\", \"Topic2\", \"Topic2\", \"Topic2\", \"Topic2\", \"Topic2\", \"Topic2\", \"Topic2\", \"Topic2\", \"Topic2\", \"Topic2\", \"Topic2\", \"Topic2\", \"Topic2\", \"Topic2\", \"Topic2\", \"Topic2\", \"Topic2\", \"Topic2\", \"Topic2\", \"Topic2\", \"Topic2\", \"Topic2\", \"Topic2\", \"Topic2\", \"Topic2\", \"Topic2\", \"Topic3\", \"Topic3\", \"Topic3\", \"Topic3\", \"Topic3\", \"Topic3\", \"Topic3\", \"Topic3\", \"Topic3\", \"Topic3\", \"Topic3\", \"Topic3\", \"Topic3\", \"Topic3\", \"Topic3\", \"Topic3\", \"Topic3\", \"Topic3\", \"Topic3\", \"Topic3\", \"Topic3\", \"Topic3\", \"Topic3\", \"Topic3\", \"Topic3\", \"Topic3\", \"Topic3\", \"Topic3\", \"Topic3\", \"Topic3\", \"Topic3\", \"Topic3\", \"Topic3\", \"Topic3\", \"Topic3\", \"Topic3\", \"Topic3\", \"Topic3\", \"Topic3\", \"Topic3\", \"Topic3\", \"Topic3\", \"Topic3\", \"Topic3\", \"Topic3\", \"Topic3\", \"Topic3\", \"Topic3\", \"Topic3\", \"Topic3\", \"Topic3\", \"Topic3\", \"Topic3\", \"Topic3\", \"Topic3\", \"Topic3\", \"Topic3\", \"Topic3\", \"Topic3\", \"Topic3\", \"Topic3\", \"Topic3\", \"Topic3\", \"Topic3\", \"Topic3\", \"Topic3\", \"Topic3\", \"Topic3\", \"Topic3\", \"Topic3\", \"Topic3\", \"Topic3\", \"Topic3\", \"Topic3\", \"Topic3\", \"Topic3\", \"Topic3\", \"Topic3\", \"Topic4\", \"Topic4\", \"Topic4\", \"Topic4\", \"Topic4\", \"Topic4\", \"Topic4\", \"Topic4\", \"Topic4\", \"Topic4\", \"Topic4\", \"Topic4\", \"Topic4\", \"Topic4\", \"Topic4\", \"Topic4\", \"Topic4\", \"Topic4\", \"Topic4\", \"Topic4\", \"Topic4\", \"Topic4\", \"Topic4\", \"Topic4\", \"Topic4\", \"Topic4\", \"Topic4\", \"Topic4\", \"Topic4\", \"Topic4\", \"Topic4\", \"Topic4\", \"Topic4\", \"Topic4\", \"Topic4\", \"Topic4\", \"Topic4\", \"Topic4\", \"Topic4\", \"Topic4\", \"Topic4\", \"Topic4\", \"Topic4\", \"Topic4\", \"Topic4\", \"Topic4\", \"Topic4\", \"Topic4\", \"Topic4\", \"Topic4\", \"Topic4\", \"Topic4\", \"Topic4\", \"Topic4\", \"Topic4\", \"Topic4\", \"Topic4\", \"Topic4\", \"Topic4\", \"Topic4\", \"Topic4\", \"Topic4\", \"Topic4\", \"Topic4\", \"Topic4\", \"Topic4\", \"Topic4\", \"Topic4\", \"Topic4\", \"Topic4\", \"Topic4\", \"Topic4\", \"Topic4\", \"Topic4\", \"Topic4\", \"Topic4\", \"Topic4\", \"Topic4\", \"Topic4\", \"Topic4\", \"Topic4\", \"Topic4\", \"Topic5\", \"Topic5\", \"Topic5\", \"Topic5\", \"Topic5\", \"Topic5\", \"Topic5\", \"Topic5\", \"Topic5\", \"Topic5\", \"Topic5\", \"Topic5\", \"Topic5\", \"Topic5\", \"Topic5\", \"Topic5\", \"Topic5\", \"Topic5\", \"Topic5\", \"Topic5\", \"Topic5\", \"Topic5\", \"Topic5\", \"Topic5\", \"Topic5\", \"Topic5\", \"Topic5\", \"Topic5\", \"Topic5\", \"Topic5\", \"Topic5\", \"Topic5\", \"Topic5\", \"Topic5\", \"Topic5\", \"Topic5\", \"Topic5\", \"Topic5\", \"Topic5\", \"Topic5\", \"Topic5\", \"Topic5\", \"Topic5\", \"Topic5\", \"Topic5\", \"Topic5\", \"Topic5\", \"Topic5\", \"Topic5\", \"Topic5\", \"Topic5\", \"Topic5\", \"Topic5\", \"Topic5\", \"Topic5\", \"Topic5\", \"Topic5\", \"Topic5\", \"Topic5\", \"Topic5\", \"Topic5\", \"Topic5\", \"Topic5\", \"Topic5\", \"Topic5\", \"Topic5\", \"Topic5\", \"Topic5\", \"Topic5\", \"Topic5\", \"Topic5\", \"Topic5\", \"Topic5\", \"Topic5\", \"Topic5\", \"Topic5\", \"Topic6\", \"Topic6\", \"Topic6\", \"Topic6\", \"Topic6\", \"Topic6\", \"Topic6\", \"Topic6\", \"Topic6\", \"Topic6\", \"Topic6\", \"Topic6\", \"Topic6\", \"Topic6\", \"Topic6\", \"Topic6\", \"Topic6\", \"Topic6\", \"Topic6\", \"Topic6\", \"Topic6\", \"Topic6\", \"Topic6\", \"Topic6\", \"Topic6\", \"Topic6\", \"Topic6\", \"Topic6\", \"Topic6\", \"Topic6\", \"Topic6\", \"Topic6\", \"Topic6\", \"Topic6\", \"Topic6\", \"Topic6\", \"Topic6\", \"Topic6\", \"Topic6\", \"Topic6\", \"Topic6\", \"Topic6\", \"Topic6\", \"Topic6\", \"Topic6\", \"Topic6\", \"Topic6\", \"Topic6\", \"Topic6\", \"Topic6\", \"Topic6\", \"Topic6\", \"Topic6\", \"Topic6\", \"Topic6\", \"Topic6\", \"Topic6\", \"Topic6\", \"Topic6\", \"Topic6\", \"Topic6\", \"Topic6\", \"Topic6\", \"Topic6\", \"Topic6\", \"Topic6\", \"Topic6\", \"Topic6\", \"Topic6\", \"Topic6\", \"Topic6\", \"Topic6\", \"Topic6\", \"Topic6\", \"Topic7\", \"Topic7\", \"Topic7\", \"Topic7\", \"Topic7\", \"Topic7\", \"Topic7\", \"Topic7\", \"Topic7\", \"Topic7\", \"Topic7\", \"Topic7\", \"Topic7\", \"Topic7\", \"Topic7\", \"Topic7\", \"Topic7\", \"Topic7\", \"Topic7\", \"Topic7\", \"Topic7\", \"Topic7\", \"Topic7\", \"Topic7\", \"Topic7\", \"Topic7\", \"Topic7\", \"Topic7\", \"Topic7\", \"Topic7\", \"Topic7\", \"Topic7\", \"Topic7\", \"Topic7\", \"Topic7\", \"Topic7\", \"Topic7\", \"Topic7\", \"Topic7\", \"Topic7\", \"Topic7\", \"Topic7\", \"Topic7\", \"Topic7\", \"Topic7\", \"Topic7\", \"Topic7\", \"Topic7\", \"Topic7\", \"Topic7\", \"Topic7\", \"Topic7\", \"Topic7\", \"Topic7\", \"Topic7\", \"Topic7\", \"Topic7\", \"Topic7\", \"Topic7\", \"Topic7\", \"Topic7\", \"Topic7\", \"Topic7\", \"Topic7\", \"Topic7\", \"Topic7\", \"Topic7\", \"Topic7\", \"Topic7\", \"Topic7\", \"Topic7\", \"Topic7\", \"Topic7\", \"Topic7\", \"Topic8\", \"Topic8\", \"Topic8\", \"Topic8\", \"Topic8\", \"Topic8\", \"Topic8\", \"Topic8\", \"Topic8\", \"Topic8\", \"Topic8\", \"Topic8\", \"Topic8\", \"Topic8\", \"Topic8\", \"Topic8\", \"Topic8\", \"Topic8\", \"Topic8\", \"Topic8\", \"Topic8\", \"Topic8\", \"Topic8\", \"Topic8\", \"Topic8\", \"Topic8\", \"Topic8\", \"Topic8\", \"Topic8\", \"Topic8\", \"Topic8\", \"Topic8\", \"Topic8\", \"Topic8\", \"Topic8\", \"Topic8\", \"Topic8\", \"Topic8\", \"Topic8\", \"Topic8\", \"Topic8\", \"Topic8\", \"Topic8\", \"Topic8\", \"Topic8\", \"Topic8\", \"Topic8\", \"Topic8\", \"Topic8\", \"Topic8\", \"Topic8\", \"Topic8\", \"Topic8\", \"Topic8\", \"Topic8\", \"Topic8\", \"Topic8\", \"Topic8\", \"Topic8\", \"Topic8\", \"Topic8\", \"Topic8\", \"Topic8\", \"Topic8\", \"Topic8\", \"Topic8\", \"Topic8\", \"Topic8\", \"Topic8\", \"Topic8\", \"Topic8\", \"Topic8\", \"Topic8\", \"Topic8\", \"Topic8\", \"Topic8\", \"Topic8\", \"Topic8\"], \"logprob\": [30.0, 29.0, 28.0, 27.0, 26.0, 25.0, 24.0, 23.0, 22.0, 21.0, 20.0, 19.0, 18.0, 17.0, 16.0, 15.0, 14.0, 13.0, 12.0, 11.0, 10.0, 9.0, 8.0, 7.0, 6.0, 5.0, 4.0, 3.0, 2.0, 1.0, -6.0215, -8.2391, -5.8318, -6.9447, -7.5624, -7.7382, -4.6711, -8.1251, -6.9974, -7.2357, -6.45, -6.9368, -7.6085, -7.4238, -8.09, -7.6654, -8.3018, -7.5453, -7.5984, -5.7789, -8.0592, -7.7522, -7.2919, -7.9785, -7.7473, -7.3457, -7.2016, -7.4463, -8.3509, -8.014, -5.9369, -5.4271, -6.4385, -6.2842, -5.6247, -5.4827, -5.135, -6.3137, -5.2871, -5.7351, -5.923, -5.6067, -6.3896, -6.1316, -5.7297, -6.2189, -5.8258, -5.7499, -5.7381, -5.6977, -6.5829, -5.9839, -5.5968, -5.2834, -6.012, -5.9023, -5.8447, -5.734, -5.3168, -5.4188, -5.6132, -5.6621, -5.7897, -5.7366, -5.8182, -5.8037, -5.819, -5.8563, -5.87, -7.5274, -7.8212, -7.2007, -7.6461, -7.166, -7.9136, -8.2327, -8.1155, -7.5369, -6.7068, -8.2581, -7.7842, -8.1073, -6.8822, -8.3683, -4.8319, -7.1273, -7.9444, -6.1128, -8.2015, -7.5241, -7.4487, -7.7433, -7.5975, -8.2227, -6.1746, -7.5088, -6.8032, -7.8111, -7.308, -6.8319, -5.2133, -6.5432, -4.9833, -5.3232, -5.6963, -6.5036, -5.2555, -6.7843, -6.9936, -5.8305, -5.8106, -6.3431, -5.5852, -6.3715, -5.4702, -5.4306, -6.0999, -6.1804, -5.9876, -6.1569, -5.2017, -5.9538, -5.9912, -5.7184, -6.1423, -5.9799, -6.093, -6.1989, -5.8066, -5.7662, -5.8081, -5.9771, -5.668, -5.8895, -5.9157, -5.9028, -6.0531, -6.0373, -5.9989, -6.0318, -6.0555, -6.0146, -7.8969, -7.7424, -7.9187, -8.1257, -6.8339, -7.0178, -8.198, -7.9229, -8.1486, -6.0153, -8.0736, -7.9177, -7.2693, -7.7061, -7.7909, -7.6611, -8.202, -7.5913, -7.316, -8.4683, -5.9609, -8.2972, -8.049, -6.7542, -6.6789, -6.3593, -7.4564, -8.3106, -7.7951, -7.435, -6.5639, -6.8336, -6.6225, -6.3418, -6.6331, -6.2217, -6.1428, -6.4934, -5.4707, -6.17, -6.0974, -5.2914, -6.9436, -6.7313, -5.3835, -6.4336, -6.3806, -6.6353, -5.6289, -5.8853, -6.0111, -5.597, -6.1659, -5.952, -5.6914, -5.465, -5.8403, -5.9712, -5.7453, -5.8627, -5.7329, -5.9736, -5.4462, -6.0238, -5.4097, -6.127, -5.7436, -5.6626, -5.672, -5.8835, -5.8018, -5.6432, -5.9205, -5.9581, -5.9351, -5.9452, -5.9946, -6.005, -7.6977, -7.3369, -7.8232, -7.7018, -7.5676, -7.4067, -6.6724, -8.0841, -8.1621, -8.1411, -7.9098, -6.8585, -8.3646, -7.4937, -6.2781, -7.5369, -8.206, -8.2936, -8.3938, -8.245, -8.2472, -8.1661, -7.2279, -8.1975, -8.1819, -7.7334, -7.105, -7.2038, -8.0571, -7.5624, -6.9028, -7.5805, -6.705, -6.3361, -5.3517, -6.8799, -6.2444, -4.8768, -6.7281, -6.697, -6.9259, -6.0744, -7.102, -4.9824, -6.7106, -6.2856, -6.485, -5.622, -5.6361, -5.7847, -5.6768, -5.7954, -5.8943, -6.4638, -6.3435, -6.1499, -5.4288, -5.7221, -5.6898, -5.7029, -6.1487, -6.0727, -5.8459, -6.2262, -5.6038, -6.0188, -5.7158, -5.6941, -5.8139, -5.9898, -6.0588, -5.8004, -5.6183, -5.6465, -5.7515, -5.9677, -5.9257, -5.9855, -5.8496, -5.9124, -5.9023, -6.0005, -8.2787, -7.866, -7.2013, -7.8566, -8.2283, -8.0354, -6.5039, -6.8359, -7.5958, -8.0821, -7.9716, -8.0762, -8.0184, -8.1293, -7.6265, -8.1256, -7.2336, -5.9811, -7.9159, -7.3174, -8.1586, -6.6043, -7.3899, -7.6001, -8.0513, -7.8467, -7.5341, -7.7714, -7.8129, -8.0023, -6.2205, -5.6769, -6.6507, -7.2787, -6.0697, -6.4396, -5.4637, -5.7944, -6.2941, -5.6385, -5.5786, -6.5878, -5.6747, -5.888, -5.6071, -6.8627, -6.8182, -6.2355, -6.6097, -5.2878, -6.6168, -5.5815, -5.0881, -6.0846, -5.6676, -5.6557, -6.1826, -6.0372, -5.8938, -5.8801, -5.8805, -5.7721, -5.847, -5.9603, -5.3914, -5.7793, -5.9045, -5.6906, -5.5468, -5.9931, -5.771, -5.7844, -5.7659, -5.7827, -5.8863, -5.8931, -7.1032, -7.772, -7.609, -7.6016, -7.5239, -7.9057, -4.891, -8.2454, -8.2802, -8.3405, -5.7695, -8.0719, -8.0774, -7.2228, -7.6959, -7.3297, -6.4997, -8.4124, -8.224, -7.9598, -8.0417, -7.76, -8.0116, -7.6565, -8.2997, -7.9426, -7.3652, -7.6674, -8.2978, -7.7881, -6.4958, -7.374, -7.1853, -6.8526, -6.9581, -5.1537, -6.6132, -6.6344, -6.2924, -5.6945, -5.504, -5.9965, -6.6207, -5.9687, -5.06, -5.7648, -5.5003, -5.6761, -5.4645, -5.7119, -6.1038, -5.5873, -6.2886, -5.7725, -5.3696, -5.9443, -5.7598, -5.3986, -5.6031, -5.7985, -5.7448, -6.2232, -6.2034, -5.994, -5.901, -5.6315, -5.4752, -5.7509, -5.8612, -5.8574, -5.9156, -5.9244, -5.9822, -5.9767, -7.5471, -8.1374, -7.9894, -7.1411, -7.9512, -8.3724, -7.7841, -7.7768, -7.7707, -7.9516, -7.0345, -8.1905, -7.4821, -8.0079, -7.8553, -7.6526, -7.5372, -7.347, -8.3721, -7.8667, -7.0819, -7.9606, -7.5698, -7.5508, -7.8999, -7.6122, -7.5507, -7.9548, -5.9755, -6.7868, -7.1009, -7.1458, -4.7821, -5.4178, -5.4129, -5.4507, -6.0078, -5.6558, -5.3175, -6.3014, -6.0249, -5.2661, -5.663, -6.6515, -6.1907, -6.0603, -6.2426, -6.8011, -5.692, -5.897, -6.3819, -5.9337, -6.1676, -6.1121, -6.3211, -5.4945, -5.5215, -5.8483, -5.6399, -5.4579, -5.6619, -5.3729, -6.1937, -5.8549, -6.0359, -5.8772, -5.6575, -5.8879, -5.8812, -5.9587, -5.9053, -5.9726, -5.9911, -6.0011, -7.4306, -7.9117, -8.1402, -7.3983, -7.502, -8.1546, -7.966, -6.9713, -7.7767, -7.2161, -8.3492, -7.873, -8.0042, -7.2067, -7.8584, -8.3624, -7.5142, -7.7175, -8.0082, -7.9486, -8.4055, -8.3717, -6.9046, -7.6332, -7.2989, -8.0044, -7.1367, -8.1556, -7.6384, -5.3671, -5.7022, -6.565, -6.035, -7.2001, -7.1768, -5.2786, -5.1952, -6.3023, -7.1951, -5.0595, -6.7781, -5.9139, -6.6274, -5.7132, -6.182, -6.0589, -5.7106, -5.5498, -6.2492, -5.8079, -6.098, -6.2045, -5.5656, -6.5029, -5.8979, -5.9367, -5.5571, -6.0781, -6.4497, -6.1799, -6.07, -5.8327, -6.1118, -5.8228, -5.8419, -5.846, -5.7838, -5.8708, -5.5619, -5.908, -5.7689, -6.041, -6.0, -5.9381, -5.84, -5.9172, -5.8516, -6.0139], \"loglift\": [30.0, 29.0, 28.0, 27.0, 26.0, 25.0, 24.0, 23.0, 22.0, 21.0, 20.0, 19.0, 18.0, 17.0, 16.0, 15.0, 14.0, 13.0, 12.0, 11.0, 10.0, 9.0, 8.0, 7.0, 6.0, 5.0, 4.0, 3.0, 2.0, 1.0, 0.6147, 0.5503, 0.5486, 0.544, 0.5243, 0.5215, 0.5095, 0.5045, 0.5043, 0.4973, 0.4899, 0.4894, 0.4843, 0.4818, 0.4614, 0.4598, 0.4591, 0.4581, 0.4532, 0.4524, 0.4499, 0.4497, 0.4453, 0.4452, 0.4451, 0.4437, 0.4435, 0.4413, 0.4402, 0.4397, 0.4183, 0.4096, 0.4226, 0.407, 0.3685, 0.3459, 0.3179, 0.3761, 0.3199, 0.3141, 0.3151, 0.2728, 0.3455, 0.3176, 0.2552, 0.3154, 0.2555, 0.2283, 0.2188, 0.2099, 0.3476, 0.2313, 0.1484, 0.0556, 0.2345, 0.196, 0.1349, 0.0913, -0.1335, -0.0975, -0.0704, -0.0644, -0.0068, -0.0601, -0.0326, -0.1765, -0.1364, -0.0773, 0.0065, 0.6958, 0.6466, 0.6238, 0.6184, 0.6037, 0.5947, 0.5634, 0.5571, 0.55, 0.5394, 0.5381, 0.523, 0.5098, 0.5094, 0.4951, 0.4895, 0.488, 0.4869, 0.4857, 0.484, 0.4837, 0.4826, 0.4748, 0.4701, 0.4682, 0.4654, 0.4639, 0.4622, 0.4594, 0.459, 0.4575, 0.4139, 0.4407, 0.3557, 0.3595, 0.3612, 0.4019, 0.2893, 0.4085, 0.4154, 0.2991, 0.2855, 0.3397, 0.2332, 0.3349, 0.2063, 0.1671, 0.2739, 0.2757, 0.2048, 0.2432, -0.0183, 0.1716, 0.1746, 0.0672, 0.2048, 0.1343, 0.1749, 0.2172, 0.0374, 0.0128, 0.0171, 0.089, -0.1252, -0.0151, -0.0393, -0.1199, 0.0354, -0.0371, -0.2159, -0.1692, -0.0823, -0.834, 0.6489, 0.6437, 0.6271, 0.5565, 0.5537, 0.5492, 0.5343, 0.5196, 0.5185, 0.5144, 0.4946, 0.4876, 0.4868, 0.4831, 0.469, 0.4679, 0.4671, 0.4593, 0.4584, 0.4541, 0.4494, 0.4483, 0.4467, 0.4465, 0.4461, 0.4439, 0.4427, 0.4376, 0.4373, 0.4363, 0.4301, 0.431, 0.4274, 0.4173, 0.4103, 0.3967, 0.3914, 0.3916, 0.3123, 0.3535, 0.3398, 0.2533, 0.4008, 0.3737, 0.2236, 0.336, 0.3259, 0.3583, 0.2151, 0.2401, 0.2568, 0.1858, 0.2804, 0.2382, 0.1713, 0.0777, 0.133, 0.1625, 0.073, 0.1169, 0.0123, 0.1247, -0.1248, 0.1269, -0.2263, 0.1761, -0.067, -0.2096, -0.333, -0.1045, -0.2041, -0.4626, -0.0838, -0.0817, -0.2524, -0.318, -0.1202, -0.1764, 0.7498, 0.723, 0.6358, 0.6136, 0.6101, 0.5828, 0.5778, 0.5717, 0.5707, 0.5664, 0.5605, 0.5559, 0.5517, 0.5457, 0.5356, 0.5246, 0.5183, 0.5141, 0.5071, 0.5, 0.4971, 0.4965, 0.4953, 0.4932, 0.4927, 0.4912, 0.4909, 0.4864, 0.484, 0.4837, 0.4825, 0.4828, 0.4569, 0.4394, 0.3936, 0.4556, 0.4118, 0.3066, 0.4179, 0.4086, 0.4257, 0.3328, 0.435, 0.1982, 0.3902, 0.3372, 0.3598, 0.2407, 0.2404, 0.2154, 0.1672, 0.1778, 0.1943, 0.3199, 0.2846, 0.2355, 0.0242, 0.1032, 0.0932, 0.0827, 0.2234, 0.1943, 0.111, 0.2413, -0.0061, 0.1406, -0.0331, -0.067, -0.031, 0.0677, 0.107, -0.1238, -0.2969, -0.3075, -0.2087, 0.0105, -0.0513, -0.0059, -0.2426, -0.1334, -0.3575, -0.1821, 0.6345, 0.6206, 0.5859, 0.584, 0.5802, 0.5793, 0.579, 0.5693, 0.5687, 0.5624, 0.5614, 0.5561, 0.5391, 0.5252, 0.5205, 0.5201, 0.507, 0.5056, 0.5049, 0.5017, 0.5001, 0.4965, 0.4954, 0.4927, 0.4898, 0.4837, 0.4824, 0.4786, 0.4773, 0.4715, 0.4634, 0.4386, 0.4529, 0.466, 0.3864, 0.4053, 0.3153, 0.3352, 0.3777, 0.3184, 0.3008, 0.3983, 0.3036, 0.3133, 0.2674, 0.4201, 0.4105, 0.3301, 0.3784, 0.1652, 0.3708, 0.2014, 0.0952, 0.2483, 0.1507, 0.1273, 0.2573, 0.2093, 0.1554, 0.12, 0.1045, 0.0532, 0.0606, 0.1058, -0.2108, 0.0063, 0.0751, -0.0836, -0.2077, 0.121, -0.1438, -0.1867, -0.2232, -0.238, -0.0577, -0.2166, 0.8499, 0.7635, 0.7607, 0.7556, 0.7027, 0.6806, 0.6518, 0.6495, 0.628, 0.626, 0.6131, 0.5972, 0.5894, 0.5864, 0.575, 0.5567, 0.5376, 0.5354, 0.535, 0.5332, 0.5289, 0.5257, 0.5238, 0.5127, 0.5101, 0.5072, 0.503, 0.5019, 0.5009, 0.4982, 0.4917, 0.4966, 0.492, 0.4849, 0.4863, 0.3911, 0.4367, 0.4196, 0.3795, 0.3056, 0.2816, 0.3184, 0.3914, 0.2972, 0.1234, 0.2284, 0.1762, 0.2003, 0.1425, 0.1675, 0.2306, 0.0954, 0.2606, 0.1019, -0.0305, 0.1442, 0.0654, -0.0772, -0.0055, 0.0641, 0.0342, 0.2168, 0.1976, 0.0721, 0.0066, -0.1785, -0.2946, -0.1237, -0.0429, -0.1122, -0.0716, -0.1414, -0.0026, -0.1938, 0.7433, 0.7076, 0.7062, 0.678, 0.6399, 0.6206, 0.5891, 0.5824, 0.5773, 0.5769, 0.5767, 0.5695, 0.567, 0.5651, 0.5595, 0.5444, 0.5271, 0.5244, 0.5224, 0.5221, 0.5207, 0.5207, 0.5203, 0.52, 0.5175, 0.5163, 0.5091, 0.5042, 0.5004, 0.4996, 0.4903, 0.4867, 0.4013, 0.4108, 0.3701, 0.3283, 0.3659, 0.3224, 0.2802, 0.3705, 0.3222, 0.1869, 0.2446, 0.3887, 0.3141, 0.2906, 0.3115, 0.409, 0.1824, 0.2184, 0.3079, 0.1959, 0.2485, 0.2216, 0.2732, 0.0503, 0.0213, 0.1086, -0.0128, -0.1366, -0.0549, -0.1923, 0.1917, 0.0078, 0.0602, -0.0943, -0.3185, -0.1023, -0.2047, -0.0823, -0.2226, -0.1286, -0.1117, -0.1828, 0.9286, 0.7328, 0.7035, 0.6677, 0.6492, 0.6406, 0.6229, 0.617, 0.6168, 0.603, 0.5996, 0.5945, 0.59, 0.5724, 0.5564, 0.5528, 0.5501, 0.5481, 0.5472, 0.5462, 0.5438, 0.5427, 0.5406, 0.5292, 0.5285, 0.5241, 0.5175, 0.5127, 0.5099, 0.5073, 0.4315, 0.451, 0.4112, 0.4729, 0.467, 0.3191, 0.2578, 0.3555, 0.4568, 0.1212, 0.392, 0.2368, 0.3587, 0.1944, 0.2741, 0.2442, 0.1689, 0.1328, 0.2743, 0.1703, 0.2357, 0.2355, 0.0616, 0.3003, 0.1023, 0.1125, -0.0144, 0.1531, 0.2814, 0.171, 0.1223, 0.0113, 0.1263, -0.0438, -0.0563, -0.0632, -0.1073, -0.0878, -0.3785, -0.0794, -0.2241, 0.0404, -0.0431, -0.1928, -0.5009, -0.3101, -0.5302, -0.1771]}, \"token.table\": {\"Topic\": [1, 2, 3, 4, 5, 6, 7, 8, 1, 2, 3, 4, 5, 6, 1, 2, 3, 4, 5, 6, 7, 8, 1, 2, 3, 4, 5, 6, 7, 8, 1, 2, 3, 4, 5, 6, 7, 1, 2, 3, 4, 5, 6, 7, 1, 2, 3, 4, 5, 6, 7, 8, 1, 2, 3, 4, 5, 1, 2, 3, 6, 1, 2, 3, 4, 5, 1, 2, 3, 4, 5, 6, 1, 2, 3, 4, 5, 6, 7, 8, 1, 2, 3, 4, 5, 6, 7, 8, 1, 2, 3, 4, 5, 6, 7, 8, 1, 2, 3, 4, 5, 6, 1, 2, 3, 4, 5, 6, 1, 2, 3, 4, 5, 6, 7, 8, 1, 2, 3, 4, 5, 6, 1, 2, 3, 4, 5, 6, 1, 2, 3, 4, 5, 6, 1, 2, 3, 4, 5, 6, 1, 2, 3, 4, 5, 6, 7, 8, 1, 2, 3, 4, 5, 6, 7, 8, 1, 2, 3, 4, 5, 1, 2, 3, 4, 5, 1, 2, 3, 4, 5, 6, 7, 8, 1, 2, 3, 4, 5, 6, 7, 8, 1, 2, 3, 4, 5, 6, 7, 8, 1, 2, 3, 4, 5, 6, 1, 2, 3, 4, 5, 6, 7, 8, 1, 2, 3, 4, 5, 6, 1, 2, 3, 4, 5, 6, 7, 1, 2, 3, 4, 5, 1, 2, 3, 4, 1, 2, 3, 4, 5, 6, 1, 2, 3, 4, 5, 6, 1, 2, 3, 4, 5, 6, 7, 8, 1, 2, 3, 4, 5, 6, 7, 8, 1, 2, 3, 4, 5, 6, 7, 1, 2, 3, 4, 5, 6, 1, 2, 3, 4, 5, 6, 1, 2, 3, 4, 5, 6, 1, 2, 3, 4, 5, 6, 7, 8, 1, 2, 3, 4, 5, 6, 7, 8, 1, 2, 3, 4, 5, 6, 1, 2, 3, 4, 5, 6, 7, 8, 1, 2, 3, 4, 5, 6, 7, 1, 2, 3, 4, 5, 6, 1, 2, 3, 4, 5, 6, 1, 2, 3, 4, 5, 6, 7, 8, 1, 2, 3, 4, 5, 6, 7, 1, 2, 3, 4, 5, 1, 2, 3, 4, 5, 6, 7, 8, 1, 2, 3, 4, 5, 6, 7, 8, 1, 2, 3, 4, 5, 6, 7, 8, 1, 2, 3, 4, 5, 6, 1, 2, 3, 4, 5, 6, 7, 8, 1, 2, 3, 4, 5, 1, 2, 3, 4, 5, 6, 1, 2, 3, 4, 6, 1, 2, 3, 4, 5, 6, 1, 2, 3, 4, 5, 6, 1, 2, 3, 4, 5, 6, 7, 8, 1, 2, 3, 4, 5, 6, 1, 2, 3, 4, 5, 6, 7, 8, 1, 2, 3, 4, 5, 6, 1, 2, 3, 4, 5, 6, 1, 2, 3, 4, 5, 6, 7, 8, 1, 2, 3, 4, 5, 6, 7, 8, 1, 2, 3, 4, 5, 6, 7, 8, 1, 2, 3, 4, 5, 6, 7, 8, 1, 2, 3, 4, 5, 6, 7, 8, 1, 2, 3, 4, 5, 6, 7, 8, 1, 2, 3, 4, 5, 6, 7, 1, 2, 3, 4, 5, 6, 1, 2, 3, 4, 5, 6, 7, 8, 1, 2, 3, 4, 1, 2, 3, 4, 1, 2, 3, 5, 6, 1, 2, 3, 4, 5, 6, 7, 8, 1, 2, 3, 4, 5, 6, 7, 1, 2, 3, 4, 5, 6, 7, 8, 1, 2, 3, 4, 5, 6, 8, 1, 2, 3, 4, 5, 1, 2, 3, 4, 5, 6, 1, 2, 3, 4, 5, 6, 1, 2, 3, 4, 5, 6, 7, 8, 1, 2, 3, 4, 5, 6, 1, 2, 3, 4, 5, 6, 1, 2, 3, 4, 5, 6, 1, 2, 3, 4, 5, 6, 7, 1, 2, 3, 4, 5, 6, 1, 2, 3, 4, 5, 6, 1, 2, 3, 4, 5, 6, 1, 2, 3, 4, 5, 6, 1, 2, 3, 4, 5, 6, 7, 8, 1, 2, 3, 4, 5, 6, 7, 8, 1, 2, 3, 4, 6, 1, 2, 3, 4, 5, 6, 1, 2, 3, 4, 5, 6, 7, 8, 1, 2, 3, 4, 5, 6, 7, 8, 1, 2, 3, 4, 5, 6, 7, 8, 1, 2, 3, 4, 5, 6, 7, 8, 1, 2, 3, 4, 5, 6, 1, 2, 3, 4, 5, 6, 1, 2, 3, 4, 5, 6, 1, 2, 3, 4, 1, 2, 3, 4, 5, 6, 1, 2, 3, 4, 5, 6, 7, 8, 1, 2, 3, 4, 5, 6, 7, 1, 2, 3, 4, 5, 6, 7, 8, 1, 2, 3, 4, 5, 6, 7, 8, 1, 2, 3, 4, 5, 6, 7, 8, 1, 2, 3, 4, 5, 6, 1, 2, 3, 4, 5, 6, 7, 8, 1, 2, 3, 4, 5, 6, 7, 8, 1, 2, 3, 4, 5, 6, 7, 8, 1, 2, 3, 4, 5, 6, 7, 8, 1, 2, 3, 4, 5, 6, 7, 8, 1, 2, 3, 4, 1, 2, 3, 4, 5, 6, 1, 2, 3, 4, 5, 6, 7, 8, 1, 2, 3, 4, 1, 2, 3, 4, 5, 6, 7, 8, 1, 2, 3, 4, 5, 6, 1, 2, 3, 4, 5, 6, 7, 8, 1, 2, 3, 4, 5, 1, 2, 3, 4, 5, 6, 8, 1, 2, 3, 4, 5, 6, 7, 8, 1, 2, 3, 4, 6, 1, 2, 3, 4, 5, 6, 7, 8, 1, 2, 3, 4, 5, 6, 1, 2, 3, 4, 5, 6, 1, 2, 3, 4, 5, 6, 1, 2, 3, 4, 5, 6, 7, 8, 1, 2, 3, 4, 5, 6, 7, 8, 1, 2, 3, 4, 5, 6, 7, 8, 1, 2, 3, 4, 1, 2, 3, 4, 5, 6, 7, 8, 1, 2, 3, 4, 5, 6, 7, 8, 1, 2, 3, 4, 5, 6, 7, 8, 1, 2, 3, 4, 5, 6, 1, 2, 3, 4, 5, 6, 7, 8, 1, 2, 3, 4, 5, 6, 1, 2, 3, 4, 5, 6, 7, 8, 1, 2, 3, 4, 5, 6, 1, 2, 3, 4, 5, 6, 7, 8, 1, 2, 3, 4, 5, 6, 7, 8, 1, 2, 3, 4, 5, 6, 1, 2, 3, 4, 5, 6, 7, 8, 1, 2, 3, 4, 5, 6, 7, 8, 1, 2, 3, 4, 5, 6, 7, 8, 1, 2, 3, 4, 5, 6, 7, 8, 1, 2, 3, 4, 5, 6, 1, 2, 3, 4, 5, 6, 7, 8, 1, 2, 3, 4, 5, 6, 1, 2, 3, 4, 5, 6, 7, 8, 1, 2, 3, 4, 5, 6, 1, 2, 3, 4, 5, 6, 8, 1, 2, 3, 4, 5, 6, 7, 8, 1, 2, 3, 4, 5, 6, 7, 8, 1, 2, 3, 4, 5, 6, 1, 2, 3, 4, 5, 6, 1, 2, 3, 4, 5, 6, 1, 2, 3, 4, 5, 6, 7, 8, 1, 2, 3, 4, 5, 6, 7, 8, 1, 2, 3, 4, 5, 6, 7, 8, 1, 2, 3, 4, 5, 6, 7, 8, 1, 2, 3, 4, 5, 6, 7, 8, 1, 2, 3, 4, 5, 6, 7, 8, 1, 2, 3, 4, 5, 6, 7, 8, 1, 2, 3, 4, 5, 6, 1, 2, 3, 4, 5, 6, 7, 8, 1, 2, 3, 4, 5, 6, 7, 8, 1, 2, 3, 4, 5, 6, 7, 1, 2, 3, 4, 5, 1, 2, 3, 4, 5, 6, 7, 1, 2, 3, 4, 5, 6, 7, 8, 1, 2, 3, 4, 5, 6, 7, 8, 1, 2, 3, 4, 5, 6, 1, 2, 3, 4, 5, 6, 1, 2, 3, 4, 5, 6, 7, 8, 1, 2, 3, 4, 5, 6, 1, 2, 3, 4, 5, 6, 7, 8, 1, 2, 3, 4, 5, 6, 7, 8, 1, 2, 3, 4, 5, 6, 7, 8, 1, 2, 3, 4, 5, 6, 1, 2, 3, 4, 1, 2, 3, 4, 5, 6, 1, 2, 3, 4, 5, 6, 7, 8, 1, 2, 3, 4, 5, 1, 2, 3, 4, 5, 6, 1, 2, 3, 4, 5, 6, 7, 8, 1, 2, 3, 4, 5, 6, 1, 2, 3, 4, 5, 6, 7, 8, 1, 2, 3, 4, 5, 6, 1, 2, 3, 4, 5, 6, 7, 8, 1, 2, 3, 4, 5, 6, 7, 8, 1, 2, 3, 4, 5, 6, 7, 8, 1, 2, 3, 4, 5, 6, 7, 8, 1, 2, 3, 4, 5, 6, 7, 8, 1, 2, 3, 4, 5, 6, 7, 8, 1, 2, 3, 4, 5, 6, 7, 8, 1, 2, 3, 4, 5, 6, 7, 1, 2, 3, 4, 5, 6, 7, 8, 1, 2, 3, 4, 1, 2, 3, 4, 5, 6, 7, 8, 1, 2, 3, 4, 5, 6, 7, 8, 1, 2, 3, 4, 5, 6, 7, 8, 1, 2, 3, 4, 5, 6, 7, 8, 1, 2, 3, 4, 5, 6, 8, 1, 2, 3, 4, 5, 6, 1, 2, 3, 4, 5, 6, 7, 8, 1, 2, 3, 4, 5, 6, 7, 8, 1, 2, 3, 4, 5, 6, 7, 8, 1, 2, 3, 4, 6, 1, 2, 3, 4, 6, 1, 2, 3, 4, 5, 6, 7, 8, 1, 2, 3, 4, 5, 6, 7, 8, 1, 2, 3, 4, 5, 6, 1, 2, 3, 4, 5, 6, 8, 1, 2, 3, 4, 5, 6, 7, 8, 1, 2, 3, 4, 5, 6, 1, 2, 3, 4, 5, 6, 1, 2, 3, 4, 5, 6, 7, 8, 1, 2, 3, 4, 5, 6, 7, 8, 1, 2, 3, 4, 5, 6, 1, 2, 3, 4, 5, 6, 1, 2, 3, 4, 5, 1, 2, 3, 4, 1, 2, 3, 4, 5, 6, 7, 8, 1, 2, 3, 4, 5, 1, 2, 3, 4, 5, 6, 7, 8, 1, 2, 3, 4, 5, 6, 7, 8, 1, 2, 3, 4, 5, 1, 2, 3, 4, 5, 6, 1, 2, 3, 4, 5, 1, 2, 3, 4, 5, 6, 7, 8, 1, 2, 3, 4, 5, 6, 7, 8, 1, 2, 3, 4, 5, 6, 7, 8, 1, 2, 3, 4, 5, 6, 7, 8, 1, 2, 3, 4, 5, 6, 7, 8, 1, 2, 3, 4, 5, 6, 7, 8, 1, 2, 3, 4, 1, 2, 3, 4, 5, 6, 7, 8, 1, 2, 3, 4, 5, 6, 7, 8, 1, 2, 3, 4, 5, 6, 7, 8, 1, 2, 3, 4, 5, 6, 7, 8, 1, 2, 3, 4, 5, 6, 1, 2, 3, 4, 5, 6, 7, 1, 2, 3, 4, 5, 6, 7, 8, 1, 2, 3, 4, 5, 6, 8, 1, 2, 3, 4, 5, 1, 2, 3, 4, 5, 6, 1, 2, 3, 4, 5, 6, 7, 1, 2, 3, 4, 5, 6, 7, 8, 1, 2, 3, 4, 5, 6, 7, 8, 1, 2, 3, 4, 5, 6, 1, 2, 3, 4, 5, 1, 2, 3, 4, 5, 6, 7, 8, 1, 2, 3, 4, 5, 6, 7, 8, 1, 2, 3, 4, 5, 6, 1, 2, 3, 4, 5, 6, 1, 2, 3, 4, 5, 6, 7, 1, 2, 3, 4, 5, 6, 7, 8, 1, 2, 3, 4, 5, 6, 1, 2, 3, 4, 5, 6, 7, 8, 1, 2, 3, 4, 5, 6, 7, 8, 1, 2, 3, 4, 5, 6, 7, 1, 2, 3, 4, 5, 6, 7, 8, 1, 2, 3, 4, 5, 6, 7, 8, 1, 2, 3, 4, 5, 6, 7, 8, 1, 2, 3, 4, 5, 6, 7, 8, 1, 2, 3, 4, 5, 6, 7, 8, 1, 2, 3, 4, 5, 6, 7, 1, 2, 3, 4, 5, 6, 7, 8, 1, 2, 3, 4, 5, 6, 1, 2, 3, 4, 5, 6, 1, 2, 3, 4, 5, 6, 7, 1, 2, 3, 4, 5, 6, 7, 8, 1, 2, 3, 4, 5, 6, 7, 8, 1, 2, 3, 4, 5, 6, 7, 8, 1, 2, 3, 4, 5, 1, 2, 3, 4, 5, 6, 7, 8, 1, 2, 3, 4, 5, 6, 7, 8, 1, 2, 3, 4, 5, 6, 7, 8, 1, 2, 3, 4, 5, 6, 7, 8, 1, 2, 3, 4, 5, 6, 1, 2, 3, 4, 5, 6, 7, 8, 1, 2, 3, 4, 5, 6, 1, 2, 3, 4, 5, 6, 1, 2, 3, 4, 5, 6, 7, 8, 1, 2, 3, 4, 5, 6, 1, 2, 3, 4, 5, 6, 1, 2, 3, 4, 5, 6, 1, 2, 3, 4, 5, 1, 2, 3, 4, 5, 6, 7, 8, 1, 2, 3, 4, 5, 6, 1, 2, 3, 4, 5, 6, 1, 2, 3, 4, 6, 1, 2, 3, 4, 5, 6, 1, 2, 3, 4, 5, 6, 7, 8, 1, 2, 3, 4, 1, 2, 3, 4, 5, 6, 7, 8, 1, 2, 3, 4, 5, 6, 7, 8, 1, 2, 3, 4, 5, 6, 8, 1, 2, 3, 4, 5, 6, 7, 8, 1, 2, 3, 4, 5, 6, 7, 8, 1, 2, 3, 4, 6, 1, 2, 3, 4, 5, 6, 7, 8, 1, 2, 3, 4, 5, 6, 1, 2, 3, 4, 5, 6, 1, 2, 3, 4, 5, 6, 7, 8, 1, 2, 3, 4, 5, 6, 1, 2, 3, 4, 5, 6, 7, 8, 1, 2, 3, 4, 5, 6, 7, 8, 1, 2, 3, 4, 5, 6, 1, 2, 3, 4, 5, 6, 7, 8, 1, 2, 3, 4, 5, 6, 7, 8, 1, 2, 3, 4, 5, 6, 7, 8, 1, 2, 3, 4, 5, 6, 1, 2, 3, 4, 5, 6, 7, 1, 2, 3, 4, 5, 6, 1, 2, 3, 4, 5, 6, 7, 8, 1, 2, 3, 4, 5, 6, 7, 8, 1, 2, 3, 4, 5, 6, 1, 2, 3, 4, 5, 6, 7, 8, 1, 2, 3, 4, 5, 6, 7, 8, 1, 2, 3, 4, 5, 6, 7, 8, 1, 2, 3, 4, 5, 6, 7, 8, 1, 2, 3, 4, 5, 6, 7, 8, 1, 2, 3, 4, 5, 6, 7, 1, 2, 3, 4, 5, 6, 7, 8, 1, 2, 3, 4, 5, 6, 1, 2, 3, 4, 5, 6, 7, 8, 1, 2, 3, 4, 5, 6, 7, 8, 1, 2, 3, 4, 5, 6, 8, 1, 2, 3, 4, 5, 6, 7, 8, 1, 2, 3, 4, 5, 6, 1, 2, 3, 4, 5, 6, 1, 2, 3, 4, 5, 6, 7, 8, 1, 2, 3, 4, 5, 6, 7, 8, 1, 2, 3, 4, 5, 1, 2, 3, 4, 5, 6, 7, 8, 1, 2, 3, 4, 5, 6, 7, 8, 1, 2, 3, 4, 5, 6, 7, 8, 1, 2, 3, 4, 5, 6, 7, 8, 1, 2, 3, 4, 5, 6, 7, 1, 2, 3, 4, 5, 6, 8, 1, 2, 3, 4, 5, 6, 7, 8, 1, 2, 3, 4, 5, 6, 7, 8, 1, 2, 3, 4, 5, 6, 1, 2, 3, 4, 5, 6, 1, 2, 3, 4, 5, 6, 1, 2, 3, 4, 5, 6, 1, 2, 3, 4, 5, 6, 7, 8, 1, 2, 3, 4, 5, 1, 2, 3, 4, 5, 6, 7, 8, 1, 2, 3, 4, 5, 6, 7, 8, 1, 2, 3, 4, 5, 6, 1, 2, 3, 4, 5, 6, 7, 8, 1, 2, 3, 4, 5, 6, 7, 8, 1, 2, 3, 4, 5, 6, 7, 8, 1, 2, 3, 4, 5, 6, 1, 2, 3, 4, 5, 6, 7, 8, 1, 2, 3, 4, 5, 6, 7, 8, 1, 2, 3, 4, 5, 6, 1, 2, 3, 4, 5, 6, 1, 2, 3, 4, 5, 6, 7, 8, 1, 2, 3, 4, 5, 6, 1, 2, 3, 4, 5, 6, 7, 8, 1, 2, 3, 4, 5, 6, 1, 2, 3, 4, 5, 6, 7, 8, 1, 2, 3, 4, 5, 6, 7, 8, 1, 2, 3, 4, 5, 6, 7, 8], \"Freq\": [0.2867714848565373, 0.14338574242826865, 0.23897623738044774, 0.0955904949521791, 0.0955904949521791, 0.04779524747608955, 0.04779524747608955, 0.04779524747608955, 0.28684276007292836, 0.3585534500911604, 0.14342138003646418, 0.07171069001823209, 0.07171069001823209, 0.07171069001823209, 0.1888545800156418, 0.28328187002346267, 0.11016517167579104, 0.1259030533437612, 0.1259030533437612, 0.07868940833985075, 0.0314757633359403, 0.0314757633359403, 0.26832337414928836, 0.2571432335597347, 0.13416168707464418, 0.1229815464850905, 0.10062126530598314, 0.06708084353732209, 0.022360281179107364, 0.022360281179107364, 0.16759884748573473, 0.2513982712286021, 0.16759884748573473, 0.08379942374286736, 0.08379942374286736, 0.08379942374286736, 0.08379942374286736, 0.1970637146134108, 0.1970637146134108, 0.0985318573067054, 0.0985318573067054, 0.0985318573067054, 0.0985318573067054, 0.0985318573067054, 0.21421663567912322, 0.21421663567912322, 0.133885397299452, 0.10710831783956161, 0.133885397299452, 0.133885397299452, 0.026777079459890402, 0.026777079459890402, 0.2332456503816453, 0.2332456503816453, 0.11662282519082265, 0.2332456503816453, 0.11662282519082265, 0.2915922175077721, 0.2915922175077721, 0.2915922175077721, 0.14579610875388604, 0.3102438226419764, 0.1551219113209882, 0.1551219113209882, 0.1551219113209882, 0.1551219113209882, 0.2517797905199493, 0.2517797905199493, 0.12588989525997465, 0.12588989525997465, 0.12588989525997465, 0.12588989525997465, 0.47911126995083864, 0.09670135723778395, 0.08791032476162178, 0.14505203585667592, 0.07472377604737851, 0.06153722733313524, 0.026373097428486533, 0.03076861366656762, 0.33241314505978087, 0.16234130340128833, 0.14688022688687993, 0.17780237991569675, 0.06957484431483786, 0.06957484431483786, 0.02319161477161262, 0.02319161477161262, 0.4960910374554582, 0.11672730293069604, 0.10213639006435904, 0.08754547719802203, 0.08754547719802203, 0.04377273859901101, 0.02918182573267401, 0.02918182573267401, 0.16563249478886002, 0.16563249478886002, 0.16563249478886002, 0.16563249478886002, 0.16563249478886002, 0.16563249478886002, 0.28777746281104116, 0.14388873140552058, 0.28777746281104116, 0.14388873140552058, 0.14388873140552058, 0.14388873140552058, 0.4160581337354767, 0.14562034680741684, 0.16642325349419065, 0.08321162674709533, 0.08321162674709533, 0.08321162674709533, 0.02080290668677383, 0.02080290668677383, 0.26621023052148207, 0.26621023052148207, 0.13310511526074104, 0.13310511526074104, 0.13310511526074104, 0.13310511526074104, 0.25154795720698997, 0.16769863813799332, 0.25154795720698997, 0.08384931906899666, 0.08384931906899666, 0.08384931906899666, 0.18451405188671166, 0.18451405188671166, 0.18451405188671166, 0.18451405188671166, 0.09225702594335583, 0.09225702594335583, 0.21685163182248895, 0.21685163182248895, 0.21685163182248895, 0.10842581591124448, 0.10842581591124448, 0.10842581591124448, 0.19284129917041337, 0.25712173222721785, 0.19284129917041337, 0.09642064958520669, 0.09642064958520669, 0.09642064958520669, 0.03214021652840223, 0.03214021652840223, 0.17022636597251542, 0.35936677260864364, 0.11348424398167695, 0.11348424398167695, 0.09457020331806412, 0.0756561626544513, 0.03782808132722565, 0.03782808132722565, 0.18536227412441086, 0.18536227412441086, 0.18536227412441086, 0.18536227412441086, 0.18536227412441086, 0.2532137689740374, 0.1266068844870187, 0.1266068844870187, 0.2532137689740374, 0.1266068844870187, 0.31262231472039814, 0.19538894670024887, 0.11723336802014932, 0.1432852275801825, 0.10420743824013272, 0.06512964890008295, 0.02605185956003318, 0.02605185956003318, 0.332251927654436, 0.166125963827218, 0.1563538483079699, 0.11726538623097742, 0.09772115519248119, 0.07817692415398494, 0.029316346557744354, 0.019544231038496236, 0.3923110152142947, 0.21513829866590353, 0.08858635827419557, 0.10124155231336636, 0.05062077615668318, 0.08858635827419557, 0.037965582117512386, 0.037965582117512386, 0.3441396513470439, 0.11471321711568129, 0.22942643423136258, 0.11471321711568129, 0.11471321711568129, 0.11471321711568129, 0.2571878621642747, 0.17145857477618315, 0.17145857477618315, 0.08572928738809157, 0.08572928738809157, 0.08572928738809157, 0.08572928738809157, 0.08572928738809157, 0.2618480397923669, 0.17456535986157795, 0.08728267993078898, 0.08728267993078898, 0.08728267993078898, 0.17456535986157795, 0.2228163982749994, 0.3713606637916657, 0.14854426551666627, 0.07427213275833314, 0.07427213275833314, 0.07427213275833314, 0.07427213275833314, 0.3030820080851498, 0.10102733602838326, 0.10102733602838326, 0.20205467205676653, 0.10102733602838326, 0.25441056947925145, 0.25441056947925145, 0.25441056947925145, 0.12720528473962572, 0.5116860276904518, 0.12792150692261295, 0.12792150692261295, 0.12792150692261295, 0.12792150692261295, 0.12792150692261295, 0.19318247301172384, 0.3863649460234477, 0.09659123650586192, 0.09659123650586192, 0.09659123650586192, 0.09659123650586192, 0.1987654957232273, 0.1806959052029339, 0.1806959052029339, 0.14455672416234713, 0.10841754312176034, 0.10841754312176034, 0.03613918104058678, 0.03613918104058678, 0.37062067803901527, 0.13898275426463072, 0.20075286727113326, 0.09265516950975382, 0.07721264125812818, 0.07721264125812818, 0.015442528251625636, 0.03088505650325127, 0.2473432626279766, 0.432850709598959, 0.1236716313139883, 0.06183581565699415, 0.06183581565699415, 0.06183581565699415, 0.06183581565699415, 0.26186682548570195, 0.26186682548570195, 0.08728894182856732, 0.08728894182856732, 0.08728894182856732, 0.17457788365713464, 0.4694054153589332, 0.1341158329596952, 0.1341158329596952, 0.1341158329596952, 0.0670579164798476, 0.0670579164798476, 0.304136321048283, 0.1520681605241415, 0.1520681605241415, 0.1520681605241415, 0.1520681605241415, 0.1520681605241415, 0.4651189838610524, 0.10335977419134497, 0.15503966128701746, 0.10335977419134497, 0.10335977419134497, 0.051679887095672485, 0.051679887095672485, 0.051679887095672485, 0.41749248300296155, 0.1789253498584121, 0.09940297214356228, 0.09940297214356228, 0.07952237771484982, 0.05964178328613737, 0.03976118885742491, 0.019880594428712456, 0.48518384210307264, 0.08086397368384544, 0.1617279473676909, 0.08086397368384544, 0.08086397368384544, 0.08086397368384544, 0.3127778585698353, 0.19362438863846945, 0.11915346993136583, 0.13404765367278654, 0.07447091870710364, 0.1042592861899451, 0.029788367482841457, 0.029788367482841457, 0.23829319805212834, 0.23829319805212834, 0.11914659902606417, 0.11914659902606417, 0.17871989853909626, 0.059573299513032085, 0.059573299513032085, 0.24358393262186348, 0.24358393262186348, 0.1826879494663976, 0.06089598315546587, 0.06089598315546587, 0.12179196631093174, 0.4436636234819725, 0.14788787449399085, 0.07394393724699543, 0.14788787449399085, 0.07394393724699543, 0.07394393724699543, 0.43800846993615433, 0.13936633134332183, 0.09954737953094417, 0.13936633134332183, 0.07963790362475533, 0.07963790362475533, 0.01990947590618883, 0.01990947590618883, 0.48620819680548316, 0.1326022354924045, 0.08840149032826966, 0.08840149032826966, 0.1326022354924045, 0.04420074516413483, 0.04420074516413483, 0.4149578444528876, 0.13831928148429584, 0.13831928148429584, 0.13831928148429584, 0.13831928148429584, 0.28171356902276806, 0.23341981433315065, 0.10463646849417099, 0.12878334583897968, 0.08853855026429852, 0.10463646849417099, 0.03219583645974492, 0.02414687734480869, 0.3313730338928391, 0.16568651694641956, 0.23196112372498737, 0.09941191016785172, 0.06627460677856782, 0.06627460677856782, 0.03313730338928391, 0.03313730338928391, 0.19948748090167978, 0.19948748090167978, 0.2279856924590626, 0.08549463467214848, 0.1139928462295313, 0.1139928462295313, 0.028498211557382826, 0.028498211557382826, 0.2351108032940214, 0.31348107105869516, 0.15674053552934758, 0.2351108032940214, 0.07837026776467379, 0.07837026776467379, 0.2607440721595844, 0.20859525772766752, 0.15644644329575064, 0.10429762886383376, 0.10429762886383376, 0.05214881443191688, 0.05214881443191688, 0.05214881443191688, 0.19041041326329622, 0.19041041326329622, 0.19041041326329622, 0.19041041326329622, 0.19041041326329622, 0.2517710449481527, 0.2517710449481527, 0.12588552247407636, 0.12588552247407636, 0.12588552247407636, 0.12588552247407636, 0.19373191993897637, 0.19373191993897637, 0.19373191993897637, 0.19373191993897637, 0.19373191993897637, 0.2315284446706752, 0.15435229644711682, 0.15435229644711682, 0.15435229644711682, 0.15435229644711682, 0.07717614822355841, 0.48224127131212136, 0.08037354521868689, 0.08037354521868689, 0.08037354521868689, 0.08037354521868689, 0.08037354521868689, 0.3200029921329794, 0.13913173570999104, 0.13913173570999104, 0.12521856213899193, 0.11130538856799282, 0.09739221499699373, 0.04173952071299731, 0.027826347141998206, 0.235547124648074, 0.15703141643204935, 0.07851570821602467, 0.15703141643204935, 0.15703141643204935, 0.07851570821602467, 0.253692279361084, 0.21141023280090335, 0.126846139680542, 0.126846139680542, 0.126846139680542, 0.126846139680542, 0.04228204656018067, 0.04228204656018067, 0.28111857170899474, 0.28111857170899474, 0.14055928585449737, 0.14055928585449737, 0.14055928585449737, 0.14055928585449737, 0.2050998891776856, 0.3076498337665284, 0.1025499445888428, 0.1025499445888428, 0.1025499445888428, 0.1025499445888428, 0.22235854734309174, 0.3032162009223978, 0.20214413394826522, 0.08085765357930609, 0.08085765357930609, 0.08085765357930609, 0.020214413394826523, 0.020214413394826523, 0.1703989371395609, 0.20447872456747307, 0.1703989371395609, 0.1363191497116487, 0.1363191497116487, 0.06815957485582436, 0.03407978742791218, 0.03407978742791218, 0.35211154669456995, 0.1980627450156956, 0.16505228751307965, 0.07702440083943718, 0.08802788667364249, 0.07702440083943718, 0.022006971668410622, 0.022006971668410622, 0.2551012879163531, 0.2199149033761665, 0.12315234589065324, 0.11435574975560658, 0.11435574975560658, 0.0879659613504666, 0.03518638454018664, 0.0439829806752333, 0.26680876972275924, 0.26013855047969026, 0.11339372713217266, 0.12006394637524165, 0.07337241167375878, 0.08004263091682777, 0.040021315458413885, 0.040021315458413885, 0.18146189641364516, 0.3629237928272903, 0.18146189641364516, 0.09073094820682258, 0.07258475856545807, 0.07258475856545807, 0.036292379282729034, 0.018146189641364517, 0.2665072673431742, 0.19988045050738062, 0.19988045050738062, 0.1332536336715871, 0.06662681683579355, 0.06662681683579355, 0.06662681683579355, 0.14702096658907277, 0.29404193317814553, 0.14702096658907277, 0.14702096658907277, 0.14702096658907277, 0.14702096658907277, 0.17337718526329696, 0.26006577789494545, 0.17337718526329696, 0.17337718526329696, 0.08668859263164848, 0.08668859263164848, 0.08668859263164848, 0.08668859263164848, 0.3104820815228528, 0.1552410407614264, 0.1552410407614264, 0.1552410407614264, 0.18424600800021423, 0.18424600800021423, 0.18424600800021423, 0.18424600800021423, 0.36066986791161837, 0.18033493395580918, 0.18033493395580918, 0.18033493395580918, 0.18033493395580918, 0.19927353852132657, 0.2391282462255919, 0.15941883081706126, 0.19927353852132657, 0.11956412311279595, 0.07970941540853063, 0.039854707704265316, 0.039854707704265316, 0.28429246527421653, 0.17057547916452992, 0.11371698610968661, 0.11371698610968661, 0.17057547916452992, 0.11371698610968661, 0.056858493054843307, 0.17410352594553288, 0.24374493632374603, 0.1392828207564263, 0.20892423113463945, 0.10446211556731973, 0.06964141037821316, 0.03482070518910658, 0.03482070518910658, 0.28833466770751504, 0.19222311180501003, 0.19222311180501003, 0.09611155590250502, 0.09611155590250502, 0.09611155590250502, 0.09611155590250502, 0.15758546113511102, 0.31517092227022203, 0.15758546113511102, 0.15758546113511102, 0.15758546113511102, 0.4655977925658602, 0.07759963209431003, 0.07759963209431003, 0.15519926418862007, 0.07759963209431003, 0.07759963209431003, 0.21331895387514513, 0.10665947693757256, 0.21331895387514513, 0.10665947693757256, 0.10665947693757256, 0.21331895387514513, 0.39811069095825835, 0.14667235982672677, 0.12571916556576582, 0.11524256843528533, 0.10476597130480483, 0.04190638852192193, 0.031429791391441454, 0.031429791391441454, 0.2807824905508919, 0.14039124527544594, 0.14039124527544594, 0.14039124527544594, 0.14039124527544594, 0.14039124527544594, 0.4503296080194377, 0.11258240200485943, 0.11258240200485943, 0.11258240200485943, 0.11258240200485943, 0.11258240200485943, 0.14295917339864675, 0.2859183467972935, 0.14295917339864675, 0.14295917339864675, 0.14295917339864675, 0.14295917339864675, 0.3234636959251475, 0.16173184796257375, 0.16173184796257375, 0.08086592398128688, 0.16173184796257375, 0.08086592398128688, 0.08086592398128688, 0.385263171807994, 0.12842105726933134, 0.12842105726933134, 0.12842105726933134, 0.12842105726933134, 0.12842105726933134, 0.27737773291963147, 0.13868886645981574, 0.13868886645981574, 0.13868886645981574, 0.13868886645981574, 0.13868886645981574, 0.1250143114056764, 0.2500286228113528, 0.1250143114056764, 0.2500286228113528, 0.1250143114056764, 0.1250143114056764, 0.2601556777899018, 0.2601556777899018, 0.2601556777899018, 0.1300778388949509, 0.1300778388949509, 0.1300778388949509, 0.26974025451416106, 0.19267161036725788, 0.11560296622035474, 0.19267161036725788, 0.11560296622035474, 0.07706864414690315, 0.038534322073451574, 0.038534322073451574, 0.3446912217967272, 0.11989259888581816, 0.1498657486072727, 0.16485232346799997, 0.07493287430363635, 0.05994629944290908, 0.02997314972145454, 0.02997314972145454, 0.14355784063058924, 0.14355784063058924, 0.14355784063058924, 0.14355784063058924, 0.14355784063058924, 0.3426983205606258, 0.1713491602803129, 0.1713491602803129, 0.1713491602803129, 0.1713491602803129, 0.1713491602803129, 0.17991881509231808, 0.2398917534564241, 0.11994587672821205, 0.17991881509231808, 0.14993234591026505, 0.08995940754615904, 0.029986469182053013, 0.029986469182053013, 0.28721880482498247, 0.20515628916070178, 0.08206251566428072, 0.20515628916070178, 0.08206251566428072, 0.08206251566428072, 0.04103125783214036, 0.04103125783214036, 0.2951784279279671, 0.19678561861864474, 0.14758921396398356, 0.19678561861864474, 0.049196404654661186, 0.049196404654661186, 0.049196404654661186, 0.049196404654661186, 0.24485837696397564, 0.24485837696397564, 0.19588670157118052, 0.09794335078559026, 0.09794335078559026, 0.04897167539279513, 0.04897167539279513, 0.04897167539279513, 0.20041343380200674, 0.4008268676040135, 0.10020671690100337, 0.10020671690100337, 0.10020671690100337, 0.10020671690100337, 0.266999514268422, 0.133499757134211, 0.133499757134211, 0.133499757134211, 0.133499757134211, 0.133499757134211, 0.2237338939018302, 0.2237338939018302, 0.1118669469509151, 0.1118669469509151, 0.1118669469509151, 0.1118669469509151, 0.19033262239035992, 0.19033262239035992, 0.19033262239035992, 0.19033262239035992, 0.21094382895140226, 0.14062921930093486, 0.14062921930093486, 0.14062921930093486, 0.14062921930093486, 0.21094382895140226, 0.4925406020013188, 0.0895528367275125, 0.179105673455025, 0.0895528367275125, 0.0895528367275125, 0.04477641836375625, 0.04477641836375625, 0.04477641836375625, 0.3784272732927271, 0.16218311712545447, 0.1081220780836363, 0.2162441561672726, 0.1081220780836363, 0.05406103904181815, 0.05406103904181815, 0.31362380778147386, 0.21712417461794345, 0.18093681218161956, 0.08443717901808913, 0.07237472487264782, 0.06031227072720652, 0.03618736243632391, 0.024124908290882607, 0.27820278061658976, 0.18257057477963703, 0.16518290099110017, 0.1477952272025633, 0.07824453204841587, 0.08693836894268431, 0.03477534757707372, 0.01738767378853686, 0.3907565335769055, 0.18756313611691464, 0.09378156805845732, 0.12504209074460976, 0.0781513067153811, 0.06252104537230488, 0.03126052268615244, 0.01563026134307622, 0.33083199890064857, 0.16541599945032429, 0.16541599945032429, 0.16541599945032429, 0.16541599945032429, 0.16541599945032429, 0.2785948748522031, 0.16251367699711847, 0.11608119785508463, 0.16251367699711847, 0.13929743742610154, 0.06964871871305077, 0.04643247914203385, 0.04643247914203385, 0.23012311910885902, 0.32874731301265575, 0.1314989252050623, 0.09862419390379672, 0.06574946260253114, 0.06574946260253114, 0.03287473130126557, 0.03287473130126557, 0.19982394245052945, 0.19982394245052945, 0.14986795683789708, 0.14986795683789708, 0.09991197122526473, 0.09991197122526473, 0.04995598561263236, 0.04995598561263236, 0.24752207918764949, 0.18001605759101783, 0.1575140503921406, 0.20251806478989504, 0.09000802879550891, 0.06750602159663167, 0.022502007198877228, 0.022502007198877228, 0.24804736119867765, 0.24804736119867765, 0.18603552089900824, 0.12402368059933883, 0.06201184029966941, 0.06201184029966941, 0.06201184029966941, 0.06201184029966941, 0.47314004943741667, 0.15771334981247223, 0.15771334981247223, 0.15771334981247223, 0.1932542122430518, 0.1932542122430518, 0.0966271061215259, 0.0966271061215259, 0.0966271061215259, 0.0966271061215259, 0.24600435323235492, 0.1845032649242662, 0.12300217661617746, 0.12300217661617746, 0.12300217661617746, 0.06150108830808873, 0.06150108830808873, 0.06150108830808873, 0.4868308628329779, 0.16227695427765929, 0.16227695427765929, 0.16227695427765929, 0.32050783756584705, 0.209026850586422, 0.1254161103518532, 0.11148098697942507, 0.06967561686214066, 0.09754586360699694, 0.027870246744856268, 0.027870246744856268, 0.18595947053149756, 0.27893920579724635, 0.18595947053149756, 0.09297973526574878, 0.09297973526574878, 0.09297973526574878, 0.2266518135359087, 0.2266518135359087, 0.16998886015193154, 0.14165738345994294, 0.08499443007596577, 0.07082869172997147, 0.042497215037982886, 0.02833147669198859, 0.1633801582332672, 0.3267603164665344, 0.1633801582332672, 0.1633801582332672, 0.1633801582332672, 0.23525869272784994, 0.23525869272784994, 0.23525869272784994, 0.058814673181962485, 0.11762934636392497, 0.058814673181962485, 0.058814673181962485, 0.21716703331984552, 0.31587932119250256, 0.11845474544718847, 0.15793966059625128, 0.059227372723594233, 0.07896983029812564, 0.03948491514906282, 0.01974245757453141, 0.17475236376114095, 0.3495047275222819, 0.17475236376114095, 0.17475236376114095, 0.17475236376114095, 0.306054155279026, 0.153027077639513, 0.22954061645926954, 0.11477030822963477, 0.0765135388197565, 0.0765135388197565, 0.03825676940987825, 0.03825676940987825, 0.1842377999421896, 0.460594499855474, 0.0921188999710948, 0.0921188999710948, 0.0921188999710948, 0.0921188999710948, 0.32757671686832096, 0.16378835843416048, 0.16378835843416048, 0.16378835843416048, 0.16378835843416048, 0.16378835843416048, 0.23058118615291795, 0.11529059307645897, 0.11529059307645897, 0.23058118615291795, 0.11529059307645897, 0.11529059307645897, 0.45245977156832234, 0.15081992385610746, 0.08797828891606269, 0.06284163494004477, 0.10054661590407163, 0.07540996192805373, 0.037704980964026864, 0.037704980964026864, 0.21506399461671846, 0.18434056681433011, 0.21506399461671846, 0.1228937112095534, 0.0614468556047767, 0.09217028340716506, 0.03072342780238835, 0.03072342780238835, 0.23741874013827563, 0.26003004872287333, 0.18089046867678144, 0.11305654292298839, 0.09044523433839072, 0.07913958004609188, 0.02261130858459768, 0.02261130858459768, 0.2731880942399333, 0.40978214135989993, 0.13659404711996664, 0.13659404711996664, 0.3121945002104353, 0.10406483340347844, 0.20812966680695688, 0.15609725010521766, 0.10406483340347844, 0.05203241670173922, 0.05203241670173922, 0.05203241670173922, 0.29088185719982895, 0.2115504415998756, 0.13221902599992225, 0.14984822946657855, 0.0705168138666252, 0.09696061906660965, 0.02644380519998445, 0.0176292034666563, 0.30501501569489464, 0.19264106254414398, 0.144480796908108, 0.09632053127207199, 0.08026710939339333, 0.09632053127207199, 0.048160265636035995, 0.03210684375735733, 0.18277370182071015, 0.18277370182071015, 0.18277370182071015, 0.18277370182071015, 0.18277370182071015, 0.18277370182071015, 0.27860522260827003, 0.2199514915328448, 0.13197089491970687, 0.1466343276885632, 0.08798059661313791, 0.0733171638442816, 0.043990298306568955, 0.02932686553771264, 0.12251754742148996, 0.3675526422644699, 0.12251754742148996, 0.12251754742148996, 0.12251754742148996, 0.12251754742148996, 0.2083311738084467, 0.28273516445432056, 0.1785695775500972, 0.14880798129174766, 0.07440399064587383, 0.05952319251669906, 0.02976159625834953, 0.02976159625834953, 0.26408809935472055, 0.17605873290314705, 0.08802936645157353, 0.17605873290314705, 0.08802936645157353, 0.08802936645157353, 0.32021582029109114, 0.16010791014554557, 0.10673860676369704, 0.10673860676369704, 0.10673860676369704, 0.10673860676369704, 0.05336930338184852, 0.05336930338184852, 0.4046727867226085, 0.12646024585081517, 0.10116819668065212, 0.1770443441911412, 0.07587614751048909, 0.07587614751048909, 0.02529204917016303, 0.02529204917016303, 0.23352649174877346, 0.3502897376231602, 0.1751448688115801, 0.058381622937193366, 0.058381622937193366, 0.058381622937193366, 0.39822967568522327, 0.12120033607811143, 0.11542889150296327, 0.12120033607811143, 0.10965744692781511, 0.06925733490177796, 0.04040011202603715, 0.03462866745088898, 0.4595659577718465, 0.12765721049217957, 0.12765721049217957, 0.07659432629530774, 0.051062884196871834, 0.07659432629530774, 0.025531442098435917, 0.025531442098435917, 0.32469954546574276, 0.17394618507093362, 0.16234977273287138, 0.10436771104256018, 0.09277129870449793, 0.06957847402837344, 0.023192824676124484, 0.03478923701418672, 0.4483242401471695, 0.09438405055729884, 0.11798006319662355, 0.11798006319662355, 0.07078803791797413, 0.11798006319662355, 0.02359601263932471, 0.02359601263932471, 0.27730628357529896, 0.18487085571686598, 0.18487085571686598, 0.09243542785843299, 0.09243542785843299, 0.18487085571686598, 0.2924493920676524, 0.10235728722367834, 0.16084716563720883, 0.11697975682706097, 0.10235728722367834, 0.1462246960338262, 0.02924493920676524, 0.02924493920676524, 0.14707257664637108, 0.29414515329274216, 0.14707257664637108, 0.14707257664637108, 0.14707257664637108, 0.14707257664637108, 0.3080557628587633, 0.23104182214407246, 0.11552091107203623, 0.11552091107203623, 0.07701394071469082, 0.057760455536018114, 0.03850697035734541, 0.03850697035734541, 0.46103702413237524, 0.1317248640378215, 0.1317248640378215, 0.06586243201891075, 0.06586243201891075, 0.06586243201891075, 0.22998165250864988, 0.22998165250864988, 0.07666055083621663, 0.22998165250864988, 0.07666055083621663, 0.07666055083621663, 0.07666055083621663, 0.2556904006622037, 0.2556904006622037, 0.21307533388516978, 0.08523013355406792, 0.08523013355406792, 0.06392260016555093, 0.02130753338851698, 0.02130753338851698, 0.3346515342095163, 0.16732576710475816, 0.1301422633037008, 0.16732576710475816, 0.07436700760211473, 0.07436700760211473, 0.037183503801057366, 0.018591751900528683, 0.21742457014738362, 0.10871228507369181, 0.10871228507369181, 0.10871228507369181, 0.10871228507369181, 0.10871228507369181, 0.28672571707854505, 0.19115047805236335, 0.19115047805236335, 0.09557523902618167, 0.09557523902618167, 0.09557523902618167, 0.3475144273328447, 0.17375721366642236, 0.08687860683321118, 0.08687860683321118, 0.17375721366642236, 0.08687860683321118, 0.23467162149427548, 0.26074624610475056, 0.18252237227332538, 0.10429849844190021, 0.07822387383142516, 0.07822387383142516, 0.026074624610475054, 0.026074624610475054, 0.2548295376961359, 0.1698863584640906, 0.22651514461878747, 0.11325757230939373, 0.11325757230939373, 0.0849431792320453, 0.028314393077348433, 0.028314393077348433, 0.3678437977243024, 0.15146509318059512, 0.14064615795340976, 0.10818935227185367, 0.0973704170446683, 0.07573254659029756, 0.0324568056815561, 0.0324568056815561, 0.44103158189068425, 0.17072190266736165, 0.12804142700052124, 0.09958777655596096, 0.05690730088912055, 0.05690730088912055, 0.028453650444560274, 0.014226825222280137, 0.3298179352213206, 0.17358838695858977, 0.1562295482627308, 0.10415303217515387, 0.10415303217515387, 0.0694353547834359, 0.03471767739171795, 0.03471767739171795, 0.24746773846948358, 0.35352534067069086, 0.10605760220120725, 0.10605760220120725, 0.07070506813413817, 0.07070506813413817, 0.035352534067069084, 0.035352534067069084, 0.3801670325827533, 0.15913968805789672, 0.10609312537193115, 0.07956984402894836, 0.12377531293391968, 0.09725203159093689, 0.026523281342982787, 0.03536437512397705, 0.1446857974504741, 0.1446857974504741, 0.1446857974504741, 0.1446857974504741, 0.1446857974504741, 0.1446857974504741, 0.22796659682923567, 0.22796659682923567, 0.15197773121949046, 0.11398329841461784, 0.11398329841461784, 0.11398329841461784, 0.037994432804872615, 0.037994432804872615, 0.20201770032662597, 0.2525221254082825, 0.20201770032662597, 0.11784365852386516, 0.10100885016331299, 0.05050442508165649, 0.03366961672110433, 0.03366961672110433, 0.23223067160933547, 0.23223067160933547, 0.15482044773955697, 0.07741022386977849, 0.07741022386977849, 0.07741022386977849, 0.07741022386977849, 0.16528145623009574, 0.16528145623009574, 0.16528145623009574, 0.16528145623009574, 0.16528145623009574, 0.3131204739767744, 0.2087469826511829, 0.10437349132559146, 0.10437349132559146, 0.10437349132559146, 0.10437349132559146, 0.10437349132559146, 0.30758112192230264, 0.19223820120143914, 0.15379056096115132, 0.17301438108129522, 0.05767146036043174, 0.07689528048057566, 0.019223820120143915, 0.019223820120143915, 0.2221413386006462, 0.2221413386006462, 0.20362956038392568, 0.1110706693003231, 0.09255889108360259, 0.09255889108360259, 0.018511778216720516, 0.03702355643344103, 0.2836257766412086, 0.2836257766412086, 0.1418128883206043, 0.1418128883206043, 0.1418128883206043, 0.1418128883206043, 0.25117961338104033, 0.25117961338104033, 0.12558980669052017, 0.12558980669052017, 0.12558980669052017, 0.12558980669052017, 0.2753703961363366, 0.2898635748803543, 0.14493178744017715, 0.10145225120812401, 0.04347953623205315, 0.057972714976070865, 0.04347953623205315, 0.028986357488035432, 0.13280623017335816, 0.2656124603467163, 0.2656124603467163, 0.13280623017335816, 0.13280623017335816, 0.13280623017335816, 0.27008413765658523, 0.22957151700809741, 0.17555468947678038, 0.12153786194546334, 0.06752103441414631, 0.09452944817980483, 0.02700841376565852, 0.040512620648487783, 0.2913036644573789, 0.20391256512016523, 0.16507207652584804, 0.14565183222868944, 0.07768097718863437, 0.06797085504005508, 0.02913036644573789, 0.02913036644573789, 0.21090963126894652, 0.24103957859308173, 0.1807796839448113, 0.1807796839448113, 0.09038984197240565, 0.06025989464827043, 0.030129947324135216, 0.030129947324135216, 0.20641934729953698, 0.3440322454992283, 0.1376128981996913, 0.06880644909984565, 0.06880644909984565, 0.06880644909984565, 0.1840409307459889, 0.1840409307459889, 0.1840409307459889, 0.1840409307459889, 0.28756814001619263, 0.28756814001619263, 0.14378407000809632, 0.14378407000809632, 0.14378407000809632, 0.14378407000809632, 0.21109470948465475, 0.21109470948465475, 0.10554735474232738, 0.21109470948465475, 0.10554735474232738, 0.10554735474232738, 0.10554735474232738, 0.10554735474232738, 0.2573901877326428, 0.1286950938663214, 0.1286950938663214, 0.1286950938663214, 0.1286950938663214, 0.2917149252222084, 0.1458574626111042, 0.1458574626111042, 0.2187861939166563, 0.0729287313055521, 0.0729287313055521, 0.22893223926765333, 0.22893223926765333, 0.14308264954228334, 0.08584958972537, 0.11446611963382666, 0.11446611963382666, 0.028616529908456666, 0.028616529908456666, 0.15742222257959818, 0.31484444515919635, 0.15742222257959818, 0.15742222257959818, 0.15742222257959818, 0.15742222257959818, 0.26387514990813954, 0.22389406658872443, 0.12793946662212824, 0.1039508166304792, 0.12793946662212824, 0.07996216663883016, 0.03998108331941508, 0.02398864999164905, 0.24132139600266994, 0.12066069800133497, 0.12066069800133497, 0.12066069800133497, 0.12066069800133497, 0.12066069800133497, 0.43204950560727945, 0.16095961973604528, 0.12707338400214102, 0.09318714826823675, 0.07624403040128461, 0.06777247146780854, 0.016943117866952136, 0.025414676800428204, 0.16323301976584106, 0.32646603953168213, 0.12242476482438079, 0.12242476482438079, 0.08161650988292053, 0.12242476482438079, 0.040808254941460266, 0.040808254941460266, 0.2815835331753055, 0.19494244604444225, 0.12996163069629482, 0.17328217426172643, 0.06498081534814741, 0.06498081534814741, 0.04332054356543161, 0.021660271782715804, 0.29636043737157636, 0.2681356338123786, 0.12701161601638988, 0.09878681245719212, 0.07056200889799437, 0.07056200889799437, 0.042337205338796625, 0.02822480355919775, 0.2963205265617726, 0.18856760781203713, 0.215505837499471, 0.13469114843716937, 0.1077529187497355, 0.05387645937486775, 0.026938229687433875, 0.026938229687433875, 0.2889759664484344, 0.19265064429895626, 0.1685693137615867, 0.11237954250772449, 0.11237954250772449, 0.06421688143298541, 0.03210844071649271, 0.024081330537369532, 0.35464180495608777, 0.19096097189943187, 0.10002717575684526, 0.10002717575684526, 0.10002717575684526, 0.08184041652832795, 0.03637351845703464, 0.03637351845703464, 0.4776054750625586, 0.11940136876563966, 0.11940136876563966, 0.05970068438281983, 0.11940136876563966, 0.05970068438281983, 0.05970068438281983, 0.2551488523336599, 0.2551488523336599, 0.10205954093346396, 0.10205954093346396, 0.10205954093346396, 0.10205954093346396, 0.05102977046673198, 0.05102977046673198, 0.18389165709001196, 0.3677833141800239, 0.18389165709001196, 0.18389165709001196, 0.21389750720202097, 0.21389750720202097, 0.1604231304015157, 0.10694875360101049, 0.1336859420012631, 0.08021156520075785, 0.02673718840025262, 0.05347437680050524, 0.3972248590499247, 0.10772199567455584, 0.17504824297115326, 0.09425674621523637, 0.08079149675591689, 0.09425674621523637, 0.02693049891863896, 0.020197874188979222, 0.3610779284596441, 0.14638294397012597, 0.10734749224475905, 0.11710635517610078, 0.1268652181074425, 0.06831204051939212, 0.039035451725366925, 0.029276588794025196, 0.31823337795463136, 0.22611318959934332, 0.10049475093304147, 0.1339930012440553, 0.09212018835528801, 0.08374562577753455, 0.025123687733260368, 0.016749125155506913, 0.2361927922844466, 0.1574618615229644, 0.2361927922844466, 0.0787309307614822, 0.0787309307614822, 0.0787309307614822, 0.0787309307614822, 0.23850027493895418, 0.23850027493895418, 0.11925013746947709, 0.11925013746947709, 0.11925013746947709, 0.11925013746947709, 0.33641879715802464, 0.1868993317544581, 0.09344966587722905, 0.1495194654035665, 0.07475973270178325, 0.09344966587722905, 0.018689933175445813, 0.018689933175445813, 0.3733494106672669, 0.1768497208423896, 0.1178998138949264, 0.1178998138949264, 0.09824984491243867, 0.06877489143870706, 0.0294749534737316, 0.0294749534737316, 0.30336337714005396, 0.18960211071253374, 0.07584084428501349, 0.18960211071253374, 0.11376126642752024, 0.07584084428501349, 0.037920422142506745, 0.037920422142506745, 0.30658207717418207, 0.15329103858709103, 0.30658207717418207, 0.15329103858709103, 0.15329103858709103, 0.26078598392263685, 0.26078598392263685, 0.13039299196131843, 0.13039299196131843, 0.13039299196131843, 0.27548959147130414, 0.16529375488278247, 0.16529375488278247, 0.13774479573565207, 0.08264687744139124, 0.08264687744139124, 0.027548959147130413, 0.05509791829426083, 0.416060033010893, 0.16840525145679003, 0.07924953009731295, 0.09906191262164118, 0.07924953009731295, 0.09906191262164118, 0.029718573786492355, 0.019812382524328237, 0.1553046811183852, 0.1553046811183852, 0.1553046811183852, 0.1553046811183852, 0.1553046811183852, 0.1553046811183852, 0.4514582079981647, 0.11286455199954118, 0.11286455199954118, 0.11286455199954118, 0.11286455199954118, 0.05643227599977059, 0.05643227599977059, 0.18582942039820452, 0.24777256053093938, 0.1703436353650208, 0.12388628026546969, 0.12388628026546969, 0.09291471019910226, 0.030971570066367422, 0.030971570066367422, 0.272544039925839, 0.1362720199629195, 0.1362720199629195, 0.1362720199629195, 0.1362720199629195, 0.1362720199629195, 0.22899260470599592, 0.22899260470599592, 0.11449630235299796, 0.11449630235299796, 0.11449630235299796, 0.11449630235299796, 0.21749795890332027, 0.26583083865961366, 0.21749795890332027, 0.0966657595125868, 0.07249931963444009, 0.0966657595125868, 0.0241664398781467, 0.0241664398781467, 0.24118989122466025, 0.2744574624280617, 0.14970407041530637, 0.09980271361020424, 0.1081196064110546, 0.07485203520765318, 0.02495067840255106, 0.02495067840255106, 0.22316275178919548, 0.22316275178919548, 0.22316275178919548, 0.11158137589459774, 0.11158137589459774, 0.11158137589459774, 0.283875889730067, 0.189250593153378, 0.094625296576689, 0.094625296576689, 0.189250593153378, 0.094625296576689, 0.1444062501251856, 0.43321875037555674, 0.1444062501251856, 0.1444062501251856, 0.1444062501251856, 0.18026182248651887, 0.36052364497303774, 0.18026182248651887, 0.18026182248651887, 0.2541672581650543, 0.3195245531217825, 0.1089288249278804, 0.1161907465897391, 0.06535729495672825, 0.08714305994230433, 0.02178576498557608, 0.029047686647434776, 0.14627282892589924, 0.2925456578517985, 0.14627282892589924, 0.14627282892589924, 0.14627282892589924, 0.3022248837935035, 0.2659578977382831, 0.14506794422088168, 0.07253397211044084, 0.07253397211044084, 0.08462296746218098, 0.02417799070348028, 0.03626698605522042, 0.3700989655398379, 0.17866846612268036, 0.12762033294477168, 0.10209626635581735, 0.11485829965029452, 0.051048133177908676, 0.025524066588954338, 0.025524066588954338, 0.1533554454671558, 0.3067108909343116, 0.1533554454671558, 0.1533554454671558, 0.1533554454671558, 0.29438531154743897, 0.19625687436495928, 0.09812843718247964, 0.09812843718247964, 0.09812843718247964, 0.09812843718247964, 0.4876740688862263, 0.16255802296207542, 0.16255802296207542, 0.16255802296207542, 0.16255802296207542, 0.2400928679037869, 0.34680080919435885, 0.13338492661321494, 0.10670794129057196, 0.05335397064528598, 0.05335397064528598, 0.02667698532264299, 0.02667698532264299, 0.28142885549913654, 0.16885731329948195, 0.16885731329948195, 0.08442865664974097, 0.08442865664974097, 0.14071442774956827, 0.028142885549913656, 0.028142885549913656, 0.20419414460395754, 0.23822650203795045, 0.20419414460395754, 0.10209707230197877, 0.10209707230197877, 0.0850808935849823, 0.034032357433992924, 0.034032357433992924, 0.24252852689462348, 0.2694761409940261, 0.21558091279522087, 0.08084284229820783, 0.05389522819880522, 0.08084284229820783, 0.02694761409940261, 0.02694761409940261, 0.28391093961941516, 0.19655372742882588, 0.1091965152382366, 0.15287512133353123, 0.1091965152382366, 0.08735721219058928, 0.04367860609529464, 0.02183930304764732, 0.19527432953926754, 0.2148017624931943, 0.11716459772356053, 0.13669203067748728, 0.13669203067748728, 0.11716459772356053, 0.03905486590785351, 0.019527432953926754, 0.4259597525640019, 0.14198658418800064, 0.14198658418800064, 0.14198658418800064, 0.26024265075063074, 0.20819412060050457, 0.15614559045037843, 0.13012132537531537, 0.10409706030025229, 0.10409706030025229, 0.02602426507506307, 0.02602426507506307, 0.251229022463361, 0.21596880878429278, 0.11459569445697168, 0.16307848826569046, 0.1013731143273211, 0.09255806090755404, 0.04848279380871879, 0.017630106839534105, 0.2061902669470359, 0.2061902669470359, 0.08836725726301538, 0.17673451452603076, 0.17673451452603076, 0.05891150484201026, 0.02945575242100513, 0.02945575242100513, 0.20064811469572538, 0.35113420071751944, 0.15048608602179406, 0.10032405734786269, 0.10032405734786269, 0.050162028673931346, 0.050162028673931346, 0.050162028673931346, 0.2268796599551362, 0.3403194899327043, 0.1134398299775681, 0.1134398299775681, 0.1134398299775681, 0.1134398299775681, 0.19439307828602653, 0.2591907710480354, 0.19439307828602653, 0.1295953855240177, 0.06479769276200885, 0.1295953855240177, 0.06479769276200885, 0.21953104259077438, 0.21953104259077438, 0.137206901619234, 0.137206901619234, 0.0823241409715404, 0.10976552129538719, 0.027441380323846798, 0.027441380323846798, 0.30967465413558287, 0.15483732706779144, 0.15483732706779144, 0.10322488471186096, 0.10322488471186096, 0.10322488471186096, 0.05161244235593048, 0.19200777680358772, 0.38401555360717543, 0.09600388840179386, 0.09600388840179386, 0.09600388840179386, 0.46403646952879674, 0.11600911738219918, 0.11600911738219918, 0.11600911738219918, 0.11600911738219918, 0.11600911738219918, 0.3240153528066546, 0.12960614112266183, 0.12960614112266183, 0.12960614112266183, 0.12960614112266183, 0.06480307056133092, 0.06480307056133092, 0.25080186565771617, 0.20520152644722234, 0.17100127203935195, 0.12540093282885809, 0.0912006784209877, 0.07980059361836424, 0.03420025440787039, 0.04560033921049385, 0.2770276049199052, 0.24506288127530076, 0.1491687103414874, 0.10654907881534816, 0.09589417093381333, 0.08523926305227852, 0.03196472364460445, 0.02130981576306963, 0.17810679755729372, 0.17810679755729372, 0.26716019633594057, 0.08905339877864686, 0.08905339877864686, 0.08905339877864686, 0.19893273318452978, 0.19893273318452978, 0.19893273318452978, 0.19893273318452978, 0.19893273318452978, 0.3247105413743437, 0.13916166058900442, 0.13916166058900442, 0.18554888078533924, 0.09277444039266962, 0.09277444039266962, 0.04638722019633481, 0.04638722019633481, 0.2429734892687165, 0.31692194252441286, 0.11620471225895138, 0.12676877700976513, 0.06338438850488257, 0.08451251800651009, 0.03169219425244128, 0.021128129501627523, 0.17561443331289595, 0.4097670110634239, 0.058538144437631986, 0.11707628887526397, 0.058538144437631986, 0.058538144437631986, 0.31600494939538415, 0.21066996626358941, 0.21066996626358941, 0.10533498313179471, 0.10533498313179471, 0.21066996626358941, 0.23731471244046373, 0.23731471244046373, 0.15820980829364248, 0.07910490414682124, 0.07910490414682124, 0.07910490414682124, 0.07910490414682124, 0.24721252833819465, 0.2589845534971563, 0.1412643019075398, 0.12949227674857816, 0.0706321509537699, 0.09417620127169321, 0.023544050317923303, 0.023544050317923303, 0.34665902283732997, 0.23110601522488664, 0.11555300761244332, 0.11555300761244332, 0.11555300761244332, 0.11555300761244332, 0.19973634320488903, 0.23968361184586687, 0.23968361184586687, 0.11984180592293343, 0.07989453728195561, 0.07989453728195561, 0.03994726864097781, 0.03994726864097781, 0.20807611759271838, 0.38147288225331705, 0.13871741172847893, 0.06935870586423946, 0.06935870586423946, 0.06935870586423946, 0.03467935293211973, 0.03467935293211973, 0.24193175018992938, 0.24193175018992938, 0.16128783345995293, 0.16128783345995293, 0.08064391672997646, 0.08064391672997646, 0.08064391672997646, 0.3328015706870709, 0.21704450262200273, 0.1591659685894687, 0.14469633508133517, 0.05787853403253406, 0.05787853403253406, 0.014469633508133515, 0.02893926701626703, 0.2539078664438096, 0.21158988870317463, 0.08463595548126986, 0.1692719109625397, 0.1269539332219048, 0.04231797774063493, 0.04231797774063493, 0.04231797774063493, 0.39144387806334857, 0.17019299046232547, 0.11913509332362782, 0.10211579427739527, 0.06807719618493019, 0.08509649523116274, 0.034038598092465094, 0.017019299046232547, 0.2615332590453701, 0.22884160166469886, 0.13076662952268506, 0.14166384864957549, 0.09807497214201379, 0.09807497214201379, 0.021794438253780843, 0.021794438253780843, 0.22837782473011542, 0.22837782473011542, 0.17128336854758658, 0.11418891236505771, 0.17128336854758658, 0.057094456182528855, 0.057094456182528855, 0.057094456182528855, 0.2692267474974712, 0.17948449833164748, 0.17948449833164748, 0.17948449833164748, 0.08974224916582374, 0.08974224916582374, 0.08974224916582374, 0.2472613422911454, 0.2472613422911454, 0.21193829339241035, 0.07064609779747011, 0.10596914669620518, 0.07064609779747011, 0.035323048898735054, 0.035323048898735054, 0.284783737829688, 0.142391868914844, 0.142391868914844, 0.142391868914844, 0.142391868914844, 0.142391868914844, 0.09165651413700439, 0.36662605654801755, 0.09165651413700439, 0.09165651413700439, 0.18331302827400878, 0.09165651413700439, 0.23472308598482836, 0.23472308598482836, 0.07824102866160945, 0.23472308598482836, 0.07824102866160945, 0.07824102866160945, 0.07824102866160945, 0.29104807919525255, 0.20149482405825175, 0.12313572581337608, 0.11194156892125097, 0.14552403959762628, 0.07835909824487568, 0.03358247067637529, 0.022388313784250196, 0.527580061531585, 0.09421072527349733, 0.07536858021879786, 0.11305287032819679, 0.056526435164098394, 0.056526435164098394, 0.03768429010939893, 0.018842145054699465, 0.28088108753717517, 0.23131383679532072, 0.1487017522255633, 0.11565691839766036, 0.0826120845697574, 0.04956725074185444, 0.04956725074185444, 0.03304483382790296, 0.2990599482142064, 0.1495299741071032, 0.1495299741071032, 0.1495299741071032, 0.1495299741071032, 0.24193334139300202, 0.27217500906712727, 0.10584583685943838, 0.13608750453356364, 0.09072500302237575, 0.07560416918531312, 0.045362501511187876, 0.030241667674125252, 0.198116517429785, 0.2971747761446775, 0.14858738807233876, 0.0990582587148925, 0.0990582587148925, 0.0990582587148925, 0.04952912935744625, 0.04952912935744625, 0.19611875362724923, 0.2973413361445391, 0.18346593081258797, 0.08224334829529806, 0.06959052548063682, 0.12020181673928178, 0.0316320570366531, 0.02530564562932248, 0.2927433822253588, 0.18296461389084925, 0.1341740501866228, 0.1341740501866228, 0.12197640926056617, 0.08538348648239633, 0.024395281852113235, 0.03659292277816985, 0.19734664945117228, 0.26312886593489637, 0.13156443296744819, 0.13156443296744819, 0.13156443296744819, 0.13156443296744819, 0.24582597136886586, 0.2107079754590279, 0.15803098159427093, 0.10535398772951395, 0.12291298568443293, 0.08779498977459495, 0.01755899795491899, 0.03511799590983798, 0.22450933389018346, 0.22450933389018346, 0.22450933389018346, 0.11225466694509173, 0.11225466694509173, 0.11225466694509173, 0.22105509096443035, 0.22105509096443035, 0.22105509096443035, 0.11052754548221518, 0.11052754548221518, 0.11052754548221518, 0.19755532638564943, 0.31044408432030624, 0.14111094741832103, 0.11288875793465682, 0.08466656845099262, 0.11288875793465682, 0.05644437896732841, 0.028222189483664204, 0.1550405617842575, 0.23256084267638627, 0.23256084267638627, 0.07752028089212876, 0.07752028089212876, 0.07752028089212876, 0.13070710251650766, 0.2614142050330153, 0.2614142050330153, 0.13070710251650766, 0.13070710251650766, 0.13070710251650766, 0.21845743526307845, 0.21845743526307845, 0.10922871763153923, 0.10922871763153923, 0.10922871763153923, 0.10922871763153923, 0.34311556367170426, 0.17155778183585213, 0.17155778183585213, 0.17155778183585213, 0.17155778183585213, 0.17815129760449633, 0.2672269464067445, 0.2226891220056204, 0.13361347320337225, 0.08907564880224816, 0.04453782440112408, 0.02226891220056204, 0.04453782440112408, 0.29967003854523505, 0.14983501927261753, 0.14983501927261753, 0.07491750963630876, 0.14983501927261753, 0.07491750963630876, 0.12719962157927384, 0.25439924315854767, 0.25439924315854767, 0.12719962157927384, 0.12719962157927384, 0.12719962157927384, 0.1557350001190031, 0.1557350001190031, 0.1557350001190031, 0.1557350001190031, 0.1557350001190031, 0.24197732060717023, 0.12098866030358511, 0.24197732060717023, 0.12098866030358511, 0.12098866030358511, 0.12098866030358511, 0.24053028800620554, 0.22549714500581772, 0.22549714500581772, 0.09019885800232709, 0.09019885800232709, 0.07516571500193923, 0.030066286000775693, 0.030066286000775693, 0.23529597634832086, 0.4705919526966417, 0.11764798817416043, 0.11764798817416043, 0.28795821080214534, 0.16938718282479137, 0.23714205595470791, 0.10163230969487483, 0.06775487312991656, 0.06775487312991656, 0.03387743656495828, 0.03387743656495828, 0.2793898794764763, 0.16763392768588578, 0.16763392768588578, 0.16763392768588578, 0.11175595179059053, 0.055877975895295265, 0.055877975895295265, 0.055877975895295265, 0.25642364842837295, 0.25642364842837295, 0.17094909895224863, 0.08547454947612432, 0.08547454947612432, 0.08547454947612432, 0.08547454947612432, 0.24746694559533133, 0.23040025969220504, 0.17920020198282613, 0.13653348722501038, 0.06826674361250519, 0.07680008656406834, 0.025600028854689448, 0.025600028854689448, 0.2569093866555726, 0.17662520332570616, 0.19268203999167946, 0.1284546933277863, 0.10436943832882638, 0.0722557649968798, 0.048170509997919865, 0.024085254998959933, 0.16338989678473806, 0.3267797935694761, 0.16338989678473806, 0.16338989678473806, 0.16338989678473806, 0.3007017324602851, 0.15035086623014254, 0.12028069298411403, 0.15035086623014254, 0.15035086623014254, 0.06014034649205702, 0.03007017324602851, 0.03007017324602851, 0.26490955279472556, 0.13245477639736278, 0.13245477639736278, 0.13245477639736278, 0.13245477639736278, 0.13245477639736278, 0.24115360041973882, 0.40192266736623133, 0.16076906694649254, 0.08038453347324627, 0.08038453347324627, 0.08038453347324627, 0.24933847950659022, 0.24933847950659022, 0.18700385962994268, 0.07791827484580945, 0.10908558478413322, 0.062334619876647554, 0.031167309938323777, 0.04675096490748567, 0.2352527203313741, 0.11762636016568705, 0.2352527203313741, 0.11762636016568705, 0.11762636016568705, 0.11762636016568705, 0.2706260495001241, 0.22286851135304336, 0.12735343505888191, 0.14327261444124215, 0.09551507629416144, 0.0795958969118012, 0.03183835876472048, 0.03183835876472048, 0.2517979709695854, 0.17985569354970385, 0.14388455483976306, 0.14388455483976306, 0.14388455483976306, 0.07194227741988153, 0.035971138709940766, 0.035971138709940766, 0.44664413060130104, 0.1786576522405204, 0.0893288261202602, 0.0893288261202602, 0.0893288261202602, 0.0893288261202602, 0.30062900933500036, 0.20497432454659117, 0.16397945963727295, 0.06832477484886372, 0.09565468478840922, 0.10931963975818196, 0.02732990993954549, 0.02732990993954549, 0.1571848275794058, 0.3143696551588116, 0.1571848275794058, 0.0785924137897029, 0.1571848275794058, 0.0785924137897029, 0.0785924137897029, 0.0785924137897029, 0.23637586306017072, 0.23637586306017072, 0.17728189729512803, 0.11818793153008536, 0.11818793153008536, 0.05909396576504268, 0.05909396576504268, 0.05909396576504268, 0.45094983958470886, 0.18037993583388354, 0.09018996791694177, 0.09018996791694177, 0.09018996791694177, 0.09018996791694177, 0.2583704215033395, 0.1937778161275046, 0.1937778161275046, 0.06459260537583487, 0.12918521075166975, 0.12918521075166975, 0.06459260537583487, 0.23655323151525556, 0.3154043086870074, 0.07885107717175185, 0.07885107717175185, 0.07885107717175185, 0.07885107717175185, 0.31373987894932814, 0.1882439273695969, 0.09412196368479844, 0.1882439273695969, 0.09412196368479844, 0.06274797578986563, 0.031373987894932814, 0.031373987894932814, 0.2032781776875769, 0.1626225421500615, 0.1626225421500615, 0.1626225421500615, 0.1626225421500615, 0.08131127107503075, 0.040655635537515375, 0.040655635537515375, 0.24175532255263282, 0.24175532255263282, 0.24175532255263282, 0.12087766127631641, 0.12087766127631641, 0.12087766127631641, 0.2868804617378369, 0.22312924801831757, 0.1275024274390386, 0.19125364115855792, 0.0637512137195193, 0.0637512137195193, 0.03187560685975965, 0.03187560685975965, 0.2742606693898074, 0.2742606693898074, 0.12991294865832984, 0.10826079054860818, 0.07217386036573879, 0.09382601847546043, 0.028869544146295518, 0.028869544146295518, 0.2920725945893297, 0.19471506305955313, 0.11358378678473932, 0.1298100420397021, 0.14603629729466486, 0.0811312762748138, 0.03245251050992552, 0.03245251050992552, 0.25252725874222853, 0.29644504287131174, 0.13175335238724967, 0.09881501429043724, 0.07685612222589563, 0.07685612222589563, 0.03293833809681242, 0.03293833809681242, 0.3038509561264071, 0.3141509885374718, 0.10300032411064648, 0.08755027549404952, 0.07210022687745254, 0.07725024308298487, 0.020600064822129296, 0.015450048616596972, 0.194244314241842, 0.2589924189891227, 0.194244314241842, 0.06474810474728067, 0.12949620949456134, 0.12949620949456134, 0.06474810474728067, 0.3586883275583012, 0.2226341343465318, 0.1113170671732659, 0.09894850415401413, 0.08657994113476236, 0.0742113781155106, 0.0371056890577553, 0.024737126038503532, 0.14359147673283193, 0.14359147673283193, 0.28718295346566386, 0.14359147673283193, 0.14359147673283193, 0.14359147673283193, 0.2368617599454091, 0.2368617599454091, 0.19379598540988016, 0.12919732360658678, 0.06459866180329339, 0.06459866180329339, 0.04306577453552893, 0.021532887267764464, 0.2409178735367057, 0.2409178735367057, 0.2108031393446175, 0.09034420257626465, 0.06022946838417643, 0.09034420257626465, 0.030114734192088214, 0.030114734192088214, 0.2309736608549976, 0.1732302456412482, 0.2309736608549976, 0.0577434152137494, 0.1154868304274988, 0.1154868304274988, 0.0577434152137494, 0.204369348681687, 0.29520017031799234, 0.14760008515899617, 0.1021846743408435, 0.12489237974991983, 0.068123116227229, 0.0340615581136145, 0.022707705409076333, 0.2397745247994571, 0.2397745247994571, 0.11988726239972855, 0.11988726239972855, 0.11988726239972855, 0.11988726239972855, 0.19013584701490832, 0.19013584701490832, 0.19013584701490832, 0.19013584701490832, 0.19013584701490832, 0.19013584701490832, 0.26905344486740046, 0.2222615414122004, 0.15207368622940026, 0.14037571036560023, 0.09358380691040016, 0.07018785518280012, 0.03509392759140006, 0.02339595172760004, 0.3010395581852487, 0.20069303879016578, 0.13379535919344387, 0.10034651939508289, 0.10034651939508289, 0.06689767959672194, 0.03344883979836097, 0.03344883979836097, 0.3264723446152262, 0.1632361723076131, 0.1632361723076131, 0.1632361723076131, 0.1632361723076131, 0.25270388489098927, 0.21660332990656225, 0.14440221993770816, 0.10830166495328113, 0.10830166495328113, 0.07220110996885408, 0.03610055498442704, 0.03610055498442704, 0.21256093298397408, 0.21256093298397408, 0.15942069973798056, 0.10628046649198704, 0.10628046649198704, 0.10628046649198704, 0.05314023324599352, 0.05314023324599352, 0.20053612893322445, 0.360965032079804, 0.16042890314657957, 0.08021445157328978, 0.08021445157328978, 0.08021445157328978, 0.04010722578664489, 0.04010722578664489, 0.2959828298405656, 0.32064806566061277, 0.09866094328018854, 0.09866094328018854, 0.0739957074601414, 0.0739957074601414, 0.024665235820047135, 0.024665235820047135, 0.21407265470315992, 0.21407265470315992, 0.10703632735157996, 0.10703632735157996, 0.10703632735157996, 0.10703632735157996, 0.10703632735157996, 0.45333798879173187, 0.056667248598966484, 0.17000174579689944, 0.11333449719793297, 0.11333449719793297, 0.056667248598966484, 0.056667248598966484, 0.2679037710402257, 0.13395188552011286, 0.16074226262413543, 0.13395188552011286, 0.13395188552011286, 0.08037113131206772, 0.026790377104022572, 0.026790377104022572, 0.35346290552228427, 0.14329577250903416, 0.11463661800722733, 0.13374272100843188, 0.12418966950782961, 0.06687136050421594, 0.03821220600240911, 0.02865915450180683, 0.2941924215677616, 0.19612828104517438, 0.09806414052258719, 0.09806414052258719, 0.09806414052258719, 0.09806414052258719, 0.29555408576795217, 0.1970360571786348, 0.0985180285893174, 0.0985180285893174, 0.0985180285893174, 0.0985180285893174, 0.41761053650652835, 0.08352210730130567, 0.08352210730130567, 0.08352210730130567, 0.08352210730130567, 0.08352210730130567, 0.14776241999372636, 0.2955248399874527, 0.14776241999372636, 0.14776241999372636, 0.14776241999372636, 0.14776241999372636, 0.29007803880008615, 0.20719859914291866, 0.14503901940004307, 0.1243191594857512, 0.10359929957145933, 0.08287943965716747, 0.020719859914291868, 0.041439719828583736, 0.3673372044764952, 0.1836686022382476, 0.1836686022382476, 0.1836686022382476, 0.1836686022382476, 0.19529654464448584, 0.19529654464448584, 0.1464724084833644, 0.1464724084833644, 0.09764827232224292, 0.09764827232224292, 0.04882413616112146, 0.04882413616112146, 0.3285569685138725, 0.131422787405549, 0.131422787405549, 0.0657113937027745, 0.131422787405549, 0.0657113937027745, 0.0657113937027745, 0.0657113937027745, 0.23590545045362613, 0.23590545045362613, 0.11795272522681306, 0.23590545045362613, 0.11795272522681306, 0.11795272522681306, 0.22455946115220543, 0.2591070705602371, 0.17273804704015802, 0.10364282822409482, 0.08636902352007901, 0.10364282822409482, 0.03454760940803161, 0.017273804704015804, 0.2631125594276833, 0.35924984075702915, 0.1264964228017708, 0.08601756750520416, 0.0455387122086375, 0.07589785368106249, 0.025299284560354164, 0.015179570736212499, 0.24044220898995405, 0.3366190925859357, 0.1030466609956946, 0.10991643839540756, 0.07556755139684271, 0.06869777399712973, 0.02747910959885189, 0.02747910959885189, 0.4904302530442155, 0.12260756326105388, 0.12260756326105388, 0.12260756326105388, 0.12260756326105388, 0.12260756326105388, 0.29645780532358107, 0.1581108295059099, 0.1581108295059099, 0.13834697581767116, 0.13834697581767116, 0.05929156106471621, 0.039527707376477476, 0.019763853688238738, 0.18105125346201528, 0.36210250692403056, 0.14484100276961223, 0.18105125346201528, 0.07242050138480612, 0.07242050138480612, 0.03621025069240306, 0.03621025069240306, 0.18142577641513216, 0.18142577641513216, 0.18142577641513216, 0.18142577641513216, 0.18142577641513216, 0.18142577641513216, 0.3550892738175354, 0.11836309127251181, 0.11836309127251181, 0.11836309127251181, 0.11836309127251181, 0.11836309127251181, 0.2651792217584485, 0.19572752082171196, 0.15153098386197056, 0.09470686491373159, 0.07576549193098528, 0.15784477485621934, 0.031568954971243866, 0.025255163976995093, 0.4777651709574524, 0.09555303419149049, 0.09555303419149049, 0.09555303419149049, 0.09555303419149049, 0.09555303419149049, 0.3202655750007515, 0.15317049239166375, 0.15317049239166375, 0.11139672173939182, 0.11139672173939182, 0.06962295108711988, 0.04177377065227193, 0.04177377065227193, 0.34147907648806836, 0.08536976912201709, 0.08536976912201709, 0.08536976912201709, 0.17073953824403418, 0.08536976912201709, 0.4033276461566804, 0.15965052660368598, 0.11763723012903177, 0.1008319115391701, 0.0840265929493084, 0.05881861506451588, 0.05041595576958505, 0.025207977884792523, 0.27930856656699127, 0.20948142492524344, 0.08977775353939005, 0.14962958923231673, 0.09975305948821116, 0.10972836543703228, 0.029925917846463347, 0.029925917846463347, 0.456678870101581, 0.12454878275497663, 0.12454878275497663, 0.0830325218366511, 0.0830325218366511, 0.04151626091832555, 0.04151626091832555, 0.04151626091832555], \"Term\": [\"able\", \"able\", \"able\", \"able\", \"able\", \"able\", \"able\", \"able\", \"according\", \"according\", \"according\", \"according\", \"according\", \"according\", \"action\", \"action\", \"action\", \"action\", \"action\", \"action\", \"action\", \"action\", \"administration\", \"administration\", \"administration\", \"administration\", \"administration\", \"administration\", \"administration\", \"administration\", \"adopt\", \"adopt\", \"adopt\", \"adopt\", \"adopt\", \"adopt\", \"adopt\", \"agencies\", \"agencies\", \"agencies\", \"agencies\", \"agencies\", \"agencies\", \"agencies\", \"aid\", \"aid\", \"aid\", \"aid\", \"aid\", \"aid\", \"aid\", \"aid\", \"aided\", \"aided\", \"aided\", \"aided\", \"aided\", \"aids\", \"aids\", \"aids\", \"aids\", \"allegiance\", \"allegiance\", \"allegiance\", \"allegiance\", \"allegiance\", \"altogether\", \"altogether\", \"altogether\", \"altogether\", \"altogether\", \"altogether\", \"america\", \"america\", \"america\", \"america\", \"america\", \"america\", \"america\", \"america\", \"american\", \"american\", \"american\", \"american\", \"american\", \"american\", \"american\", \"american\", \"americans\", \"americans\", \"americans\", \"americans\", \"americans\", \"americans\", \"americans\", \"americans\", \"appointed\", \"appointed\", \"appointed\", \"appointed\", \"appointed\", \"appointed\", \"article\", \"article\", \"article\", \"article\", \"article\", \"article\", \"ask\", \"ask\", \"ask\", \"ask\", \"ask\", \"ask\", \"ask\", \"ask\", \"assist\", \"assist\", \"assist\", \"assist\", \"assist\", \"assist\", \"assurance\", \"assurance\", \"assurance\", \"assurance\", \"assurance\", \"assurance\", \"attack\", \"attack\", \"attack\", \"attack\", \"attack\", \"attack\", \"attained\", \"attained\", \"attained\", \"attained\", \"attained\", \"attained\", \"attention\", \"attention\", \"attention\", \"attention\", \"attention\", \"attention\", \"attention\", \"attention\", \"authority\", \"authority\", \"authority\", \"authority\", \"authority\", \"authority\", \"authority\", \"authority\", \"authorized\", \"authorized\", \"authorized\", \"authorized\", \"authorized\", \"available\", \"available\", \"available\", \"available\", \"available\", \"believe\", \"believe\", \"believe\", \"believe\", \"believe\", \"believe\", \"believe\", \"believe\", \"best\", \"best\", \"best\", \"best\", \"best\", \"best\", \"best\", \"best\", \"better\", \"better\", \"better\", \"better\", \"better\", \"better\", \"better\", \"better\", \"bible\", \"bible\", \"bible\", \"bible\", \"bible\", \"bible\", \"bill\", \"bill\", \"bill\", \"bill\", \"bill\", \"bill\", \"bill\", \"bill\", \"bind\", \"bind\", \"bind\", \"bind\", \"bind\", \"bind\", \"blessed\", \"blessed\", \"blessed\", \"blessed\", \"blessed\", \"blessed\", \"blessed\", \"borders\", \"borders\", \"borders\", \"borders\", \"borders\", \"branches_government\", \"branches_government\", \"branches_government\", \"branches_government\", \"bright\", \"bright\", \"bright\", \"bright\", \"bright\", \"bright\", \"british\", \"british\", \"british\", \"british\", \"british\", \"british\", \"business\", \"business\", \"business\", \"business\", \"business\", \"business\", \"business\", \"business\", \"called\", \"called\", \"called\", \"called\", \"called\", \"called\", \"called\", \"called\", \"cases\", \"cases\", \"cases\", \"cases\", \"cases\", \"cases\", \"cases\", \"cease\", \"cease\", \"cease\", \"cease\", \"cease\", \"cease\", \"celebrate\", \"celebrate\", \"celebrate\", \"celebrate\", \"celebrate\", \"celebrate\", \"celebrated\", \"celebrated\", \"celebrated\", \"celebrated\", \"celebrated\", \"celebrated\", \"centuries\", \"centuries\", \"centuries\", \"centuries\", \"centuries\", \"centuries\", \"centuries\", \"centuries\", \"century\", \"century\", \"century\", \"century\", \"century\", \"century\", \"century\", \"century\", \"ceremony\", \"ceremony\", \"ceremony\", \"ceremony\", \"ceremony\", \"ceremony\", \"change\", \"change\", \"change\", \"change\", \"change\", \"change\", \"change\", \"change\", \"changes\", \"changes\", \"changes\", \"changes\", \"changes\", \"changes\", \"changes\", \"cherish\", \"cherish\", \"cherish\", \"cherish\", \"cherish\", \"cherish\", \"child\", \"child\", \"child\", \"child\", \"child\", \"child\", \"children\", \"children\", \"children\", \"children\", \"children\", \"children\", \"children\", \"children\", \"choice\", \"choice\", \"choice\", \"choice\", \"choice\", \"choice\", \"choice\", \"choices\", \"choices\", \"choices\", \"choices\", \"choices\", \"citizens\", \"citizens\", \"citizens\", \"citizens\", \"citizens\", \"citizens\", \"citizens\", \"citizens\", \"civil\", \"civil\", \"civil\", \"civil\", \"civil\", \"civil\", \"civil\", \"civil\", \"civilization\", \"civilization\", \"civilization\", \"civilization\", \"civilization\", \"civilization\", \"civilization\", \"civilization\", \"civilized\", \"civilized\", \"civilized\", \"civilized\", \"civilized\", \"civilized\", \"class\", \"class\", \"class\", \"class\", \"class\", \"class\", \"class\", \"class\", \"closed\", \"closed\", \"closed\", \"closed\", \"closed\", \"collected\", \"collected\", \"collected\", \"collected\", \"collected\", \"collected\", \"colored\", \"colored\", \"colored\", \"colored\", \"colored\", \"coming\", \"coming\", \"coming\", \"coming\", \"coming\", \"coming\", \"commitment\", \"commitment\", \"commitment\", \"commitment\", \"commitment\", \"commitment\", \"common\", \"common\", \"common\", \"common\", \"common\", \"common\", \"common\", \"common\", \"communism\", \"communism\", \"communism\", \"communism\", \"communism\", \"communism\", \"complete\", \"complete\", \"complete\", \"complete\", \"complete\", \"complete\", \"complete\", \"complete\", \"conception\", \"conception\", \"conception\", \"conception\", \"conception\", \"conception\", \"concerning\", \"concerning\", \"concerning\", \"concerning\", \"concerning\", \"concerning\", \"condition\", \"condition\", \"condition\", \"condition\", \"condition\", \"condition\", \"condition\", \"condition\", \"conditions\", \"conditions\", \"conditions\", \"conditions\", \"conditions\", \"conditions\", \"conditions\", \"conditions\", \"confidence\", \"confidence\", \"confidence\", \"confidence\", \"confidence\", \"confidence\", \"confidence\", \"confidence\", \"congress\", \"congress\", \"congress\", \"congress\", \"congress\", \"congress\", \"congress\", \"congress\", \"constitution\", \"constitution\", \"constitution\", \"constitution\", \"constitution\", \"constitution\", \"constitution\", \"constitution\", \"constitutional\", \"constitutional\", \"constitutional\", \"constitutional\", \"constitutional\", \"constitutional\", \"constitutional\", \"constitutional\", \"continuance\", \"continuance\", \"continuance\", \"continuance\", \"continuance\", \"continuance\", \"continuance\", \"contribute\", \"contribute\", \"contribute\", \"contribute\", \"contribute\", \"contribute\", \"contributed\", \"contributed\", \"contributed\", \"contributed\", \"contributed\", \"contributed\", \"contributed\", \"contributed\", \"controlled\", \"controlled\", \"controlled\", \"controlled\", \"corrected\", \"corrected\", \"corrected\", \"corrected\", \"corresponding\", \"corresponding\", \"corresponding\", \"corresponding\", \"corresponding\", \"cost\", \"cost\", \"cost\", \"cost\", \"cost\", \"cost\", \"cost\", \"cost\", \"counsel\", \"counsel\", \"counsel\", \"counsel\", \"counsel\", \"counsel\", \"counsel\", \"countries\", \"countries\", \"countries\", \"countries\", \"countries\", \"countries\", \"countries\", \"countries\", \"courts\", \"courts\", \"courts\", \"courts\", \"courts\", \"courts\", \"courts\", \"creation\", \"creation\", \"creation\", \"creation\", \"creation\", \"creed\", \"creed\", \"creed\", \"creed\", \"creed\", \"creed\", \"dare\", \"dare\", \"dare\", \"dare\", \"dare\", \"dare\", \"day\", \"day\", \"day\", \"day\", \"day\", \"day\", \"day\", \"day\", \"deal\", \"deal\", \"deal\", \"deal\", \"deal\", \"deal\", \"decency\", \"decency\", \"decency\", \"decency\", \"decency\", \"decency\", \"decisive\", \"decisive\", \"decisive\", \"decisive\", \"decisive\", \"decisive\", \"dedication\", \"dedication\", \"dedication\", \"dedication\", \"dedication\", \"dedication\", \"dedication\", \"defeat\", \"defeat\", \"defeat\", \"defeat\", \"defeat\", \"defeat\", \"defended\", \"defended\", \"defended\", \"defended\", \"defended\", \"defended\", \"definite\", \"definite\", \"definite\", \"definite\", \"definite\", \"definite\", \"deliberate\", \"deliberate\", \"deliberate\", \"deliberate\", \"deliberate\", \"deliberate\", \"demands\", \"demands\", \"demands\", \"demands\", \"demands\", \"demands\", \"demands\", \"demands\", \"democracy\", \"democracy\", \"democracy\", \"democracy\", \"democracy\", \"democracy\", \"democracy\", \"democracy\", \"departure\", \"departure\", \"departure\", \"departure\", \"departure\", \"desirable\", \"desirable\", \"desirable\", \"desirable\", \"desirable\", \"desirable\", \"desire\", \"desire\", \"desire\", \"desire\", \"desire\", \"desire\", \"desire\", \"desire\", \"differences\", \"differences\", \"differences\", \"differences\", \"differences\", \"differences\", \"differences\", \"differences\", \"direction\", \"direction\", \"direction\", \"direction\", \"direction\", \"direction\", \"direction\", \"direction\", \"discharge\", \"discharge\", \"discharge\", \"discharge\", \"discharge\", \"discharge\", \"discharge\", \"discharge\", \"discretion\", \"discretion\", \"discretion\", \"discretion\", \"discretion\", \"discretion\", \"disputes\", \"disputes\", \"disputes\", \"disputes\", \"disputes\", \"disputes\", \"disregard\", \"disregard\", \"disregard\", \"disregard\", \"disregard\", \"disregard\", \"domain\", \"domain\", \"domain\", \"domain\", \"drawn\", \"drawn\", \"drawn\", \"drawn\", \"drawn\", \"drawn\", \"dream\", \"dream\", \"dream\", \"dream\", \"dream\", \"dream\", \"dream\", \"dream\", \"dreams\", \"dreams\", \"dreams\", \"dreams\", \"dreams\", \"dreams\", \"dreams\", \"duties\", \"duties\", \"duties\", \"duties\", \"duties\", \"duties\", \"duties\", \"duties\", \"duty\", \"duty\", \"duty\", \"duty\", \"duty\", \"duty\", \"duty\", \"duty\", \"earth\", \"earth\", \"earth\", \"earth\", \"earth\", \"earth\", \"earth\", \"earth\", \"ease\", \"ease\", \"ease\", \"ease\", \"ease\", \"ease\", \"economic\", \"economic\", \"economic\", \"economic\", \"economic\", \"economic\", \"economic\", \"economic\", \"effect\", \"effect\", \"effect\", \"effect\", \"effect\", \"effect\", \"effect\", \"effect\", \"effective\", \"effective\", \"effective\", \"effective\", \"effective\", \"effective\", \"effective\", \"effective\", \"effort\", \"effort\", \"effort\", \"effort\", \"effort\", \"effort\", \"effort\", \"effort\", \"elected\", \"elected\", \"elected\", \"elected\", \"elected\", \"elected\", \"elected\", \"elected\", \"ended\", \"ended\", \"ended\", \"ended\", \"energies\", \"energies\", \"energies\", \"energies\", \"energies\", \"energies\", \"enforcement\", \"enforcement\", \"enforcement\", \"enforcement\", \"enforcement\", \"enforcement\", \"enforcement\", \"enforcement\", \"environment\", \"environment\", \"environment\", \"environment\", \"equal\", \"equal\", \"equal\", \"equal\", \"equal\", \"equal\", \"equal\", \"equal\", \"examples\", \"examples\", \"examples\", \"examples\", \"examples\", \"examples\", \"executive\", \"executive\", \"executive\", \"executive\", \"executive\", \"executive\", \"executive\", \"executive\", \"exhibited\", \"exhibited\", \"exhibited\", \"exhibited\", \"exhibited\", \"expected\", \"expected\", \"expected\", \"expected\", \"expected\", \"expected\", \"expected\", \"experience\", \"experience\", \"experience\", \"experience\", \"experience\", \"experience\", \"experience\", \"experience\", \"experienced\", \"experienced\", \"experienced\", \"experienced\", \"experienced\", \"expression\", \"expression\", \"expression\", \"expression\", \"expression\", \"expression\", \"expression\", \"expression\", \"expressly\", \"expressly\", \"expressly\", \"expressly\", \"expressly\", \"expressly\", \"faces\", \"faces\", \"faces\", \"faces\", \"faces\", \"faces\", \"factories\", \"factories\", \"factories\", \"factories\", \"factories\", \"factories\", \"faith\", \"faith\", \"faith\", \"faith\", \"faith\", \"faith\", \"faith\", \"faith\", \"faithful\", \"faithful\", \"faithful\", \"faithful\", \"faithful\", \"faithful\", \"faithful\", \"faithful\", \"far\", \"far\", \"far\", \"far\", \"far\", \"far\", \"far\", \"far\", \"fearful\", \"fearful\", \"fearful\", \"fearful\", \"feeling\", \"feeling\", \"feeling\", \"feeling\", \"feeling\", \"feeling\", \"feeling\", \"feeling\", \"fellow_citizens\", \"fellow_citizens\", \"fellow_citizens\", \"fellow_citizens\", \"fellow_citizens\", \"fellow_citizens\", \"fellow_citizens\", \"fellow_citizens\", \"find\", \"find\", \"find\", \"find\", \"find\", \"find\", \"find\", \"find\", \"fitting\", \"fitting\", \"fitting\", \"fitting\", \"fitting\", \"fitting\", \"force\", \"force\", \"force\", \"force\", \"force\", \"force\", \"force\", \"force\", \"forefathers\", \"forefathers\", \"forefathers\", \"forefathers\", \"forefathers\", \"forefathers\", \"foreign\", \"foreign\", \"foreign\", \"foreign\", \"foreign\", \"foreign\", \"foreign\", \"foreign\", \"forgotten\", \"forgotten\", \"forgotten\", \"forgotten\", \"forgotten\", \"forgotten\", \"forth\", \"forth\", \"forth\", \"forth\", \"forth\", \"forth\", \"forth\", \"forth\", \"forward\", \"forward\", \"forward\", \"forward\", \"forward\", \"forward\", \"forward\", \"forward\", \"founded\", \"founded\", \"founded\", \"founded\", \"founded\", \"founded\", \"freedom\", \"freedom\", \"freedom\", \"freedom\", \"freedom\", \"freedom\", \"freedom\", \"freedom\", \"friends\", \"friends\", \"friends\", \"friends\", \"friends\", \"friends\", \"friends\", \"friends\", \"future\", \"future\", \"future\", \"future\", \"future\", \"future\", \"future\", \"future\", \"generation\", \"generation\", \"generation\", \"generation\", \"generation\", \"generation\", \"generation\", \"generation\", \"gives\", \"gives\", \"gives\", \"gives\", \"gives\", \"gives\", \"god\", \"god\", \"god\", \"god\", \"god\", \"god\", \"god\", \"god\", \"gratifying\", \"gratifying\", \"gratifying\", \"gratifying\", \"gratifying\", \"gratifying\", \"greater\", \"greater\", \"greater\", \"greater\", \"greater\", \"greater\", \"greater\", \"greater\", \"ground\", \"ground\", \"ground\", \"ground\", \"ground\", \"ground\", \"growing\", \"growing\", \"growing\", \"growing\", \"growing\", \"growing\", \"growing\", \"happiness\", \"happiness\", \"happiness\", \"happiness\", \"happiness\", \"happiness\", \"happiness\", \"happiness\", \"help\", \"help\", \"help\", \"help\", \"help\", \"help\", \"help\", \"help\", \"hemisphere\", \"hemisphere\", \"hemisphere\", \"hemisphere\", \"hemisphere\", \"hemisphere\", \"heritage\", \"heritage\", \"heritage\", \"heritage\", \"heritage\", \"heritage\", \"heroes\", \"heroes\", \"heroes\", \"heroes\", \"heroes\", \"heroes\", \"high\", \"high\", \"high\", \"high\", \"high\", \"high\", \"high\", \"high\", \"highest\", \"highest\", \"highest\", \"highest\", \"highest\", \"highest\", \"highest\", \"highest\", \"history\", \"history\", \"history\", \"history\", \"history\", \"history\", \"history\", \"history\", \"home\", \"home\", \"home\", \"home\", \"home\", \"home\", \"home\", \"home\", \"honor\", \"honor\", \"honor\", \"honor\", \"honor\", \"honor\", \"honor\", \"honor\", \"honorable\", \"honorable\", \"honorable\", \"honorable\", \"honorable\", \"honorable\", \"honorable\", \"honorable\", \"hope\", \"hope\", \"hope\", \"hope\", \"hope\", \"hope\", \"hope\", \"hope\", \"hoped\", \"hoped\", \"hoped\", \"hoped\", \"hoped\", \"hoped\", \"humanity\", \"humanity\", \"humanity\", \"humanity\", \"humanity\", \"humanity\", \"humanity\", \"humanity\", \"important\", \"important\", \"important\", \"important\", \"important\", \"important\", \"important\", \"important\", \"imposed\", \"imposed\", \"imposed\", \"imposed\", \"imposed\", \"imposed\", \"imposed\", \"inadequate\", \"inadequate\", \"inadequate\", \"inadequate\", \"inadequate\", \"indispensable\", \"indispensable\", \"indispensable\", \"indispensable\", \"indispensable\", \"indispensable\", \"indispensable\", \"individual\", \"individual\", \"individual\", \"individual\", \"individual\", \"individual\", \"individual\", \"individual\", \"influence\", \"influence\", \"influence\", \"influence\", \"influence\", \"influence\", \"influence\", \"influence\", \"injuries\", \"injuries\", \"injuries\", \"injuries\", \"injuries\", \"injuries\", \"insist\", \"insist\", \"insist\", \"insist\", \"insist\", \"insist\", \"institutions\", \"institutions\", \"institutions\", \"institutions\", \"institutions\", \"institutions\", \"institutions\", \"institutions\", \"insure\", \"insure\", \"insure\", \"insure\", \"insure\", \"insure\", \"interest\", \"interest\", \"interest\", \"interest\", \"interest\", \"interest\", \"interest\", \"interest\", \"interests\", \"interests\", \"interests\", \"interests\", \"interests\", \"interests\", \"interests\", \"interests\", \"international\", \"international\", \"international\", \"international\", \"international\", \"international\", \"international\", \"international\", \"invasion\", \"invasion\", \"invasion\", \"invasion\", \"invasion\", \"invasion\", \"invoking\", \"invoking\", \"invoking\", \"invoking\", \"involve\", \"involve\", \"involve\", \"involve\", \"involve\", \"involve\", \"islands\", \"islands\", \"islands\", \"islands\", \"islands\", \"islands\", \"islands\", \"islands\", \"issues\", \"issues\", \"issues\", \"issues\", \"issues\", \"jobs\", \"jobs\", \"jobs\", \"jobs\", \"jobs\", \"jobs\", \"judgment\", \"judgment\", \"judgment\", \"judgment\", \"judgment\", \"judgment\", \"judgment\", \"judgment\", \"judgments\", \"judgments\", \"judgments\", \"judgments\", \"judgments\", \"judgments\", \"justice\", \"justice\", \"justice\", \"justice\", \"justice\", \"justice\", \"justice\", \"justice\", \"knew\", \"knew\", \"knew\", \"knew\", \"knew\", \"knew\", \"know\", \"know\", \"know\", \"know\", \"know\", \"know\", \"know\", \"know\", \"known\", \"known\", \"known\", \"known\", \"known\", \"known\", \"known\", \"known\", \"labor\", \"labor\", \"labor\", \"labor\", \"labor\", \"labor\", \"labor\", \"labor\", \"land\", \"land\", \"land\", \"land\", \"land\", \"land\", \"land\", \"land\", \"large\", \"large\", \"large\", \"large\", \"large\", \"large\", \"large\", \"large\", \"law\", \"law\", \"law\", \"law\", \"law\", \"law\", \"law\", \"law\", \"laws\", \"laws\", \"laws\", \"laws\", \"laws\", \"laws\", \"laws\", \"laws\", \"leaders\", \"leaders\", \"leaders\", \"leaders\", \"leaders\", \"leaders\", \"leaders\", \"leadership\", \"leadership\", \"leadership\", \"leadership\", \"leadership\", \"leadership\", \"leadership\", \"leadership\", \"leaving\", \"leaving\", \"leaving\", \"leaving\", \"legislation\", \"legislation\", \"legislation\", \"legislation\", \"legislation\", \"legislation\", \"legislation\", \"legislation\", \"let\", \"let\", \"let\", \"let\", \"let\", \"let\", \"let\", \"let\", \"liberty\", \"liberty\", \"liberty\", \"liberty\", \"liberty\", \"liberty\", \"liberty\", \"liberty\", \"life\", \"life\", \"life\", \"life\", \"life\", \"life\", \"life\", \"life\", \"likely\", \"likely\", \"likely\", \"likely\", \"likely\", \"likely\", \"likely\", \"limitation\", \"limitation\", \"limitation\", \"limitation\", \"limitation\", \"limitation\", \"live\", \"live\", \"live\", \"live\", \"live\", \"live\", \"live\", \"live\", \"long\", \"long\", \"long\", \"long\", \"long\", \"long\", \"long\", \"long\", \"longer\", \"longer\", \"longer\", \"longer\", \"longer\", \"longer\", \"longer\", \"longer\", \"lord\", \"lord\", \"lord\", \"lord\", \"lord\", \"magnitude\", \"magnitude\", \"magnitude\", \"magnitude\", \"magnitude\", \"making\", \"making\", \"making\", \"making\", \"making\", \"making\", \"making\", \"making\", \"man\", \"man\", \"man\", \"man\", \"man\", \"man\", \"man\", \"man\", \"masters\", \"masters\", \"masters\", \"masters\", \"masters\", \"masters\", \"meaning\", \"meaning\", \"meaning\", \"meaning\", \"meaning\", \"meaning\", \"meaning\", \"means\", \"means\", \"means\", \"means\", \"means\", \"means\", \"means\", \"means\", \"meant\", \"meant\", \"meant\", \"meant\", \"meant\", \"meant\", \"meantime\", \"meantime\", \"meantime\", \"meantime\", \"meantime\", \"meantime\", \"measures\", \"measures\", \"measures\", \"measures\", \"measures\", \"measures\", \"measures\", \"measures\", \"men\", \"men\", \"men\", \"men\", \"men\", \"men\", \"men\", \"men\", \"method\", \"method\", \"method\", \"method\", \"method\", \"method\", \"middle\", \"middle\", \"middle\", \"middle\", \"middle\", \"middle\", \"moderate\", \"moderate\", \"moderate\", \"moderate\", \"moderate\", \"momentous\", \"momentous\", \"momentous\", \"momentous\", \"national\", \"national\", \"national\", \"national\", \"national\", \"national\", \"national\", \"national\", \"national_debt\", \"national_debt\", \"national_debt\", \"national_debt\", \"national_debt\", \"necessary\", \"necessary\", \"necessary\", \"necessary\", \"necessary\", \"necessary\", \"necessary\", \"necessary\", \"need\", \"need\", \"need\", \"need\", \"need\", \"need\", \"need\", \"need\", \"north\", \"north\", \"north\", \"north\", \"north\", \"north_south\", \"north_south\", \"north_south\", \"north_south\", \"north_south\", \"north_south\", \"oath_office\", \"oath_office\", \"oath_office\", \"oath_office\", \"oath_office\", \"object\", \"object\", \"object\", \"object\", \"object\", \"object\", \"object\", \"object\", \"occasion\", \"occasion\", \"occasion\", \"occasion\", \"occasion\", \"occasion\", \"occasion\", \"occasion\", \"office\", \"office\", \"office\", \"office\", \"office\", \"office\", \"office\", \"office\", \"opinion\", \"opinion\", \"opinion\", \"opinion\", \"opinion\", \"opinion\", \"opinion\", \"opinion\", \"opportunity\", \"opportunity\", \"opportunity\", \"opportunity\", \"opportunity\", \"opportunity\", \"opportunity\", \"opportunity\", \"order\", \"order\", \"order\", \"order\", \"order\", \"order\", \"order\", \"order\", \"pain\", \"pain\", \"pain\", \"pain\", \"party\", \"party\", \"party\", \"party\", \"party\", \"party\", \"party\", \"party\", \"peace\", \"peace\", \"peace\", \"peace\", \"peace\", \"peace\", \"peace\", \"peace\", \"peoples\", \"peoples\", \"peoples\", \"peoples\", \"peoples\", \"peoples\", \"peoples\", \"peoples\", \"perfect\", \"perfect\", \"perfect\", \"perfect\", \"perfect\", \"perfect\", \"perfect\", \"perfect\", \"perfection\", \"perfection\", \"perfection\", \"perfection\", \"perfection\", \"perfection\", \"performance\", \"performance\", \"performance\", \"performance\", \"performance\", \"performance\", \"performance\", \"period\", \"period\", \"period\", \"period\", \"period\", \"period\", \"period\", \"period\", \"person\", \"person\", \"person\", \"person\", \"person\", \"person\", \"person\", \"plainly\", \"plainly\", \"plainly\", \"plainly\", \"plainly\", \"planet\", \"planet\", \"planet\", \"planet\", \"planet\", \"planet\", \"policies\", \"policies\", \"policies\", \"policies\", \"policies\", \"policies\", \"policies\", \"policy\", \"policy\", \"policy\", \"policy\", \"policy\", \"policy\", \"policy\", \"policy\", \"political\", \"political\", \"political\", \"political\", \"political\", \"political\", \"political\", \"political\", \"political_parties\", \"political_parties\", \"political_parties\", \"political_parties\", \"political_parties\", \"political_parties\", \"potent\", \"potent\", \"potent\", \"potent\", \"potent\", \"poverty\", \"poverty\", \"poverty\", \"poverty\", \"poverty\", \"poverty\", \"poverty\", \"poverty\", \"powers\", \"powers\", \"powers\", \"powers\", \"powers\", \"powers\", \"powers\", \"powers\", \"practicable\", \"practicable\", \"practicable\", \"practicable\", \"practicable\", \"practicable\", \"pray\", \"pray\", \"pray\", \"pray\", \"pray\", \"pray\", \"prepared\", \"prepared\", \"prepared\", \"prepared\", \"prepared\", \"prepared\", \"prepared\", \"present\", \"present\", \"present\", \"present\", \"present\", \"present\", \"present\", \"present\", \"presented\", \"presented\", \"presented\", \"presented\", \"presented\", \"presented\", \"preservation\", \"preservation\", \"preservation\", \"preservation\", \"preservation\", \"preservation\", \"preservation\", \"preservation\", \"preserved\", \"preserved\", \"preserved\", \"preserved\", \"preserved\", \"preserved\", \"preserved\", \"preserved\", \"preserving\", \"preserving\", \"preserving\", \"preserving\", \"preserving\", \"preserving\", \"preserving\", \"president\", \"president\", \"president\", \"president\", \"president\", \"president\", \"president\", \"president\", \"prevent\", \"prevent\", \"prevent\", \"prevent\", \"prevent\", \"prevent\", \"prevent\", \"prevent\", \"principle\", \"principle\", \"principle\", \"principle\", \"principle\", \"principle\", \"principle\", \"principle\", \"principles\", \"principles\", \"principles\", \"principles\", \"principles\", \"principles\", \"principles\", \"principles\", \"private\", \"private\", \"private\", \"private\", \"private\", \"private\", \"private\", \"private\", \"problem\", \"problem\", \"problem\", \"problem\", \"problem\", \"problem\", \"problem\", \"problems\", \"problems\", \"problems\", \"problems\", \"problems\", \"problems\", \"problems\", \"problems\", \"processes\", \"processes\", \"processes\", \"processes\", \"processes\", \"processes\", \"profit\", \"profit\", \"profit\", \"profit\", \"profit\", \"profit\", \"program\", \"program\", \"program\", \"program\", \"program\", \"program\", \"program\", \"progress\", \"progress\", \"progress\", \"progress\", \"progress\", \"progress\", \"progress\", \"progress\", \"promise\", \"promise\", \"promise\", \"promise\", \"promise\", \"promise\", \"promise\", \"promise\", \"proper\", \"proper\", \"proper\", \"proper\", \"proper\", \"proper\", \"proper\", \"proper\", \"prosper\", \"prosper\", \"prosper\", \"prosper\", \"prosper\", \"prosperity\", \"prosperity\", \"prosperity\", \"prosperity\", \"prosperity\", \"prosperity\", \"prosperity\", \"prosperity\", \"provided\", \"provided\", \"provided\", \"provided\", \"provided\", \"provided\", \"provided\", \"provided\", \"public\", \"public\", \"public\", \"public\", \"public\", \"public\", \"public\", \"public\", \"purpose\", \"purpose\", \"purpose\", \"purpose\", \"purpose\", \"purpose\", \"purpose\", \"purpose\", \"pursued\", \"pursued\", \"pursued\", \"pursued\", \"pursued\", \"pursued\", \"question\", \"question\", \"question\", \"question\", \"question\", \"question\", \"question\", \"question\", \"races\", \"races\", \"races\", \"races\", \"races\", \"races\", \"realization\", \"realization\", \"realization\", \"realization\", \"realization\", \"realization\", \"reason\", \"reason\", \"reason\", \"reason\", \"reason\", \"reason\", \"reason\", \"reason\", \"recommend\", \"recommend\", \"recommend\", \"recommend\", \"recommend\", \"recommend\", \"recommendations\", \"recommendations\", \"recommendations\", \"recommendations\", \"recommendations\", \"recommendations\", \"reforms\", \"reforms\", \"reforms\", \"reforms\", \"reforms\", \"reforms\", \"reign\", \"reign\", \"reign\", \"reign\", \"reign\", \"relations\", \"relations\", \"relations\", \"relations\", \"relations\", \"relations\", \"relations\", \"relations\", \"remedy\", \"remedy\", \"remedy\", \"remedy\", \"remedy\", \"remedy\", \"rendered\", \"rendered\", \"rendered\", \"rendered\", \"rendered\", \"rendered\", \"repair\", \"repair\", \"repair\", \"repair\", \"repair\", \"repeat\", \"repeat\", \"repeat\", \"repeat\", \"repeat\", \"repeat\", \"republic\", \"republic\", \"republic\", \"republic\", \"republic\", \"republic\", \"republic\", \"republic\", \"requisite\", \"requisite\", \"requisite\", \"requisite\", \"respect\", \"respect\", \"respect\", \"respect\", \"respect\", \"respect\", \"respect\", \"respect\", \"restore\", \"restore\", \"restore\", \"restore\", \"restore\", \"restore\", \"restore\", \"restore\", \"revenues\", \"revenues\", \"revenues\", \"revenues\", \"revenues\", \"revenues\", \"revenues\", \"right\", \"right\", \"right\", \"right\", \"right\", \"right\", \"right\", \"right\", \"rights\", \"rights\", \"rights\", \"rights\", \"rights\", \"rights\", \"rights\", \"rights\", \"ruin\", \"ruin\", \"ruin\", \"ruin\", \"ruin\", \"rule\", \"rule\", \"rule\", \"rule\", \"rule\", \"rule\", \"rule\", \"rule\", \"satisfactory\", \"satisfactory\", \"satisfactory\", \"satisfactory\", \"satisfactory\", \"satisfactory\", \"section\", \"section\", \"section\", \"section\", \"section\", \"section\", \"secure\", \"secure\", \"secure\", \"secure\", \"secure\", \"secure\", \"secure\", \"secure\", \"securing\", \"securing\", \"securing\", \"securing\", \"securing\", \"securing\", \"security\", \"security\", \"security\", \"security\", \"security\", \"security\", \"security\", \"security\", \"self_government\", \"self_government\", \"self_government\", \"self_government\", \"self_government\", \"self_government\", \"self_government\", \"self_government\", \"senator\", \"senator\", \"senator\", \"senator\", \"senator\", \"senator\", \"service\", \"service\", \"service\", \"service\", \"service\", \"service\", \"service\", \"service\", \"session\", \"session\", \"session\", \"session\", \"session\", \"session\", \"session\", \"session\", \"settlement\", \"settlement\", \"settlement\", \"settlement\", \"settlement\", \"settlement\", \"settlement\", \"settlement\", \"shared\", \"shared\", \"shared\", \"shared\", \"shared\", \"shared\", \"sides\", \"sides\", \"sides\", \"sides\", \"sides\", \"sides\", \"sides\", \"slave\", \"slave\", \"slave\", \"slave\", \"slave\", \"slave\", \"small\", \"small\", \"small\", \"small\", \"small\", \"small\", \"small\", \"small\", \"social\", \"social\", \"social\", \"social\", \"social\", \"social\", \"social\", \"social\", \"sole\", \"sole\", \"sole\", \"sole\", \"sole\", \"sole\", \"sound\", \"sound\", \"sound\", \"sound\", \"sound\", \"sound\", \"sound\", \"sound\", \"spirit\", \"spirit\", \"spirit\", \"spirit\", \"spirit\", \"spirit\", \"spirit\", \"spirit\", \"stand\", \"stand\", \"stand\", \"stand\", \"stand\", \"stand\", \"stand\", \"stand\", \"state\", \"state\", \"state\", \"state\", \"state\", \"state\", \"state\", \"state\", \"states\", \"states\", \"states\", \"states\", \"states\", \"states\", \"states\", \"states\", \"station\", \"station\", \"station\", \"station\", \"station\", \"station\", \"station\", \"strength\", \"strength\", \"strength\", \"strength\", \"strength\", \"strength\", \"strength\", \"strength\", \"strongly\", \"strongly\", \"strongly\", \"strongly\", \"strongly\", \"strongly\", \"success\", \"success\", \"success\", \"success\", \"success\", \"success\", \"success\", \"success\", \"sufficient\", \"sufficient\", \"sufficient\", \"sufficient\", \"sufficient\", \"sufficient\", \"sufficient\", \"sufficient\", \"suffrage\", \"suffrage\", \"suffrage\", \"suffrage\", \"suffrage\", \"suffrage\", \"suffrage\", \"support\", \"support\", \"support\", \"support\", \"support\", \"support\", \"support\", \"support\", \"supporting\", \"supporting\", \"supporting\", \"supporting\", \"supporting\", \"supporting\", \"survive\", \"survive\", \"survive\", \"survive\", \"survive\", \"survive\", \"system\", \"system\", \"system\", \"system\", \"system\", \"system\", \"system\", \"system\", \"taken\", \"taken\", \"taken\", \"taken\", \"taken\", \"taken\", \"taken\", \"taken\", \"taken_oath\", \"taken_oath\", \"taken_oath\", \"taken_oath\", \"taken_oath\", \"tariff\", \"tariff\", \"tariff\", \"tariff\", \"tariff\", \"tariff\", \"tariff\", \"tariff\", \"taxation\", \"taxation\", \"taxation\", \"taxation\", \"taxation\", \"taxation\", \"taxation\", \"taxation\", \"terms\", \"terms\", \"terms\", \"terms\", \"terms\", \"terms\", \"terms\", \"terms\", \"territory\", \"territory\", \"territory\", \"territory\", \"territory\", \"territory\", \"territory\", \"territory\", \"test\", \"test\", \"test\", \"test\", \"test\", \"test\", \"test\", \"thank\", \"thank\", \"thank\", \"thank\", \"thank\", \"thank\", \"thank\", \"thought\", \"thought\", \"thought\", \"thought\", \"thought\", \"thought\", \"thought\", \"thought\", \"today\", \"today\", \"today\", \"today\", \"today\", \"today\", \"today\", \"today\", \"toil\", \"toil\", \"toil\", \"toil\", \"toil\", \"toil\", \"tolerance\", \"tolerance\", \"tolerance\", \"tolerance\", \"tolerance\", \"tolerance\", \"tomorrow\", \"tomorrow\", \"tomorrow\", \"tomorrow\", \"tomorrow\", \"tomorrow\", \"total\", \"total\", \"total\", \"total\", \"total\", \"total\", \"trade\", \"trade\", \"trade\", \"trade\", \"trade\", \"trade\", \"trade\", \"trade\", \"tradition\", \"tradition\", \"tradition\", \"tradition\", \"tradition\", \"treaty\", \"treaty\", \"treaty\", \"treaty\", \"treaty\", \"treaty\", \"treaty\", \"treaty\", \"trial\", \"trial\", \"trial\", \"trial\", \"trial\", \"trial\", \"trial\", \"trial\", \"triumphs\", \"triumphs\", \"triumphs\", \"triumphs\", \"triumphs\", \"triumphs\", \"trust\", \"trust\", \"trust\", \"trust\", \"trust\", \"trust\", \"trust\", \"trust\", \"union\", \"union\", \"union\", \"union\", \"union\", \"union\", \"union\", \"union\", \"united_states\", \"united_states\", \"united_states\", \"united_states\", \"united_states\", \"united_states\", \"united_states\", \"united_states\", \"urgent\", \"urgent\", \"urgent\", \"urgent\", \"urgent\", \"urgent\", \"use\", \"use\", \"use\", \"use\", \"use\", \"use\", \"use\", \"use\", \"vast\", \"vast\", \"vast\", \"vast\", \"vast\", \"vast\", \"vast\", \"vast\", \"vitality\", \"vitality\", \"vitality\", \"vitality\", \"vitality\", \"vitality\", \"walk\", \"walk\", \"walk\", \"walk\", \"walk\", \"walk\", \"war\", \"war\", \"war\", \"war\", \"war\", \"war\", \"war\", \"war\", \"watching\", \"watching\", \"watching\", \"watching\", \"watching\", \"watching\", \"way\", \"way\", \"way\", \"way\", \"way\", \"way\", \"way\", \"way\", \"west\", \"west\", \"west\", \"west\", \"west\", \"west\", \"work\", \"work\", \"work\", \"work\", \"work\", \"work\", \"work\", \"work\", \"years\", \"years\", \"years\", \"years\", \"years\", \"years\", \"years\", \"years\", \"young\", \"young\", \"young\", \"young\", \"young\", \"young\", \"young\", \"young\"]}, \"R\": 30, \"lambda.step\": 0.01, \"plot.opts\": {\"xlab\": \"PC1\", \"ylab\": \"PC2\"}, \"topic.order\": [5, 1, 2, 6, 3, 7, 4, 8]};\n",
              "\n",
              "function LDAvis_load_lib(url, callback){\n",
              "  var s = document.createElement('script');\n",
              "  s.src = url;\n",
              "  s.async = true;\n",
              "  s.onreadystatechange = s.onload = callback;\n",
              "  s.onerror = function(){console.warn(\"failed to load library \" + url);};\n",
              "  document.getElementsByTagName(\"head\")[0].appendChild(s);\n",
              "}\n",
              "\n",
              "if(typeof(LDAvis) !== \"undefined\"){\n",
              "   // already loaded: just create the visualization\n",
              "   !function(LDAvis){\n",
              "       new LDAvis(\"#\" + \"ldavis_el581397159592085282600596828\", ldavis_el581397159592085282600596828_data);\n",
              "   }(LDAvis);\n",
              "}else if(typeof define === \"function\" && define.amd){\n",
              "   // require.js is available: use it to load d3/LDAvis\n",
              "   require.config({paths: {d3: \"https://d3js.org/d3.v5\"}});\n",
              "   require([\"d3\"], function(d3){\n",
              "      window.d3 = d3;\n",
              "      LDAvis_load_lib(\"https://cdn.jsdelivr.net/gh/bmabey/pyLDAvis@3.3.1/pyLDAvis/js/ldavis.v3.0.0.js\", function(){\n",
              "        new LDAvis(\"#\" + \"ldavis_el581397159592085282600596828\", ldavis_el581397159592085282600596828_data);\n",
              "      });\n",
              "    });\n",
              "}else{\n",
              "    // require.js not available: dynamically load d3 & LDAvis\n",
              "    LDAvis_load_lib(\"https://d3js.org/d3.v5.js\", function(){\n",
              "         LDAvis_load_lib(\"https://cdn.jsdelivr.net/gh/bmabey/pyLDAvis@3.3.1/pyLDAvis/js/ldavis.v3.0.0.js\", function(){\n",
              "                 new LDAvis(\"#\" + \"ldavis_el581397159592085282600596828\", ldavis_el581397159592085282600596828_data);\n",
              "            })\n",
              "         });\n",
              "}\n",
              "</script>"
            ]
          },
          "metadata": {},
          "execution_count": 128
        }
      ]
    },
    {
      "cell_type": "markdown",
      "source": [
        "- Saliency: a measure of how much the term tells you about the topic\n",
        "\n",
        "- Relevance: a weighted average of the probability of the word given the topic and the word given the topic normalized by the probability of the topic\n",
        "\n",
        "- Size of bubbles: measures the importance of the topics, relative to the data"
      ],
      "metadata": {
        "id": "aw2Om3KNDSXD"
      }
    },
    {
      "cell_type": "markdown",
      "source": [
        "## Round-up\n"
      ],
      "metadata": {
        "id": "q9usVLEVwbWu"
      }
    },
    {
      "cell_type": "markdown",
      "metadata": {
        "id": "KakhcHYQY-0C"
      },
      "source": [
        "By using spaCy, we cleaned up our data super fast. And with Gensim, we built topic models with ease!"
      ]
    },
    {
      "cell_type": "markdown",
      "source": [
        "# Assignment"
      ],
      "metadata": {
        "id": "EoFW6x8JRbWu"
      }
    },
    {
      "cell_type": "markdown",
      "source": [
        "- Check out [this website](https://mimno.infosci.cornell.edu/jsLDA/) to do topic modelling without code.\n",
        "- Train an LDA model on the corpus of movie reviews and display it with `pyLDAvis`. Use [this template](https://colab.research.google.com/github/howard-haowen/NLP-demos/blob/main/gensim_playground.ipynb) to complete the task. What follows is how you could download the corpus."
      ],
      "metadata": {
        "id": "tjfZb7fSRri1"
      }
    },
    {
      "cell_type": "code",
      "source": [
        "nltk.download('movie_reviews')\n",
        "from nltk.corpus import movie_reviews"
      ],
      "metadata": {
        "colab": {
          "base_uri": "https://localhost:8080/"
        },
        "id": "yz9pmvN3LOYl",
        "outputId": "80d6374e-c4a6-4af3-a82f-c46d111ed152"
      },
      "execution_count": null,
      "outputs": [
        {
          "output_type": "stream",
          "name": "stdout",
          "text": [
            "[nltk_data] Downloading package movie_reviews to /root/nltk_data...\n",
            "[nltk_data]   Package movie_reviews is already up-to-date!\n"
          ]
        }
      ]
    },
    {
      "cell_type": "code",
      "source": [
        "file_ids = movie_reviews.fileids()\n",
        "len(file_ids)"
      ],
      "metadata": {
        "colab": {
          "base_uri": "https://localhost:8080/"
        },
        "id": "LTY5VvnLL8k1",
        "outputId": "c902f69a-4b3a-4267-8e04-515e557b7239"
      },
      "execution_count": null,
      "outputs": [
        {
          "output_type": "execute_result",
          "data": {
            "text/plain": [
              "2000"
            ]
          },
          "metadata": {},
          "execution_count": 130
        }
      ]
    },
    {
      "cell_type": "code",
      "source": [
        "movie_reviews.raw(file_ids[0])"
      ],
      "metadata": {
        "colab": {
          "base_uri": "https://localhost:8080/",
          "height": 260
        },
        "id": "4mv9rOunL_JJ",
        "outputId": "31224c95-06a9-4d35-933b-e44e2c0e1ed4"
      },
      "execution_count": null,
      "outputs": [
        {
          "output_type": "execute_result",
          "data": {
            "text/plain": [
              "'plot : two teen couples go to a church party , drink and then drive . \\nthey get into an accident . \\none of the guys dies , but his girlfriend continues to see him in her life , and has nightmares . \\nwhat\\'s the deal ? \\nwatch the movie and \" sorta \" find out . . . \\ncritique : a mind-fuck movie for the teen generation that touches on a very cool idea , but presents it in a very bad package . \\nwhich is what makes this review an even harder one to write , since i generally applaud films which attempt to break the mold , mess with your head and such ( lost highway & memento ) , but there are good and bad ways of making all types of films , and these folks just didn\\'t snag this one correctly . \\nthey seem to have taken this pretty neat concept , but executed it terribly . \\nso what are the problems with the movie ? \\nwell , its main problem is that it\\'s simply too jumbled . \\nit starts off \" normal \" but then downshifts into this \" fantasy \" world in which you , as an audience member , have no idea what\\'s going on . \\nthere are dreams , there are characters coming back from the dead , there are others who look like the dead , there are strange apparitions , there are disappearances , there are a looooot of chase scenes , there are tons of weird things that happen , and most of it is simply not explained . \\nnow i personally don\\'t mind trying to unravel a film every now and then , but when all it does is give me the same clue over and over again , i get kind of fed up after a while , which is this film\\'s biggest problem . \\nit\\'s obviously got this big secret to hide , but it seems to want to hide it completely until its final five minutes . \\nand do they make things entertaining , thrilling or even engaging , in the meantime ? \\nnot really . \\nthe sad part is that the arrow and i both dig on flicks like this , so we actually figured most of it out by the half-way point , so all of the strangeness after that did start to make a little bit of sense , but it still didn\\'t the make the film all that more entertaining . \\ni guess the bottom line with movies like this is that you should always make sure that the audience is \" into it \" even before they are given the secret password to enter your world of understanding . \\ni mean , showing melissa sagemiller running away from visions for about 20 minutes throughout the movie is just plain lazy ! ! \\nokay , we get it . . . there \\nare people chasing her and we don\\'t know who they are . \\ndo we really need to see it over and over again ? \\nhow about giving us different scenes offering further insight into all of the strangeness going down in the movie ? \\napparently , the studio took this film away from its director and chopped it up themselves , and it shows . \\nthere might\\'ve been a pretty decent teen mind-fuck movie in here somewhere , but i guess \" the suits \" decided that turning it into a music video with little edge , would make more sense . \\nthe actors are pretty good for the most part , although wes bentley just seemed to be playing the exact same character that he did in american beauty , only in a new neighborhood . \\nbut my biggest kudos go out to sagemiller , who holds her own throughout the entire film , and actually has you feeling her character\\'s unraveling . \\noverall , the film doesn\\'t stick because it doesn\\'t entertain , it\\'s confusing , it rarely excites and it feels pretty redundant for most of its runtime , despite a pretty cool ending and explanation to all of the craziness that came before it . \\noh , and by the way , this is not a horror or teen slasher flick . . . it\\'s \\njust packaged to look that way because someone is apparently assuming that the genre is still hot with the kids . \\nit also wrapped production two years ago and has been sitting on the shelves ever since . \\nwhatever . . . skip \\nit ! \\nwhere\\'s joblo coming from ? \\na nightmare of elm street 3 ( 7/10 ) - blair witch 2 ( 7/10 ) - the crow ( 9/10 ) - the crow : salvation ( 4/10 ) - lost highway ( 10/10 ) - memento ( 10/10 ) - the others ( 9/10 ) - stir of echoes ( 8/10 ) \\n'"
            ],
            "application/vnd.google.colaboratory.intrinsic+json": {
              "type": "string"
            }
          },
          "metadata": {},
          "execution_count": 131
        }
      ]
    },
    {
      "cell_type": "code",
      "source": [
        "def moviews2df(file_ids):\n",
        "    sentiments = ['pos' if id[:3] == 'pos' else 'neg' for id in file_ids]\n",
        "    texts = [movie_reviews.raw(id) for id in file_ids]\n",
        "    df = pd.DataFrame(\n",
        "        {\n",
        "            \"sentiment\": sentiments,\n",
        "            \"text\": texts,\n",
        "        }\n",
        "    )\n",
        "    return df"
      ],
      "metadata": {
        "id": "ZjmYPufWMByf"
      },
      "execution_count": null,
      "outputs": []
    },
    {
      "cell_type": "code",
      "source": [
        "moviews_df = moviews2df(file_ids)\n",
        "moviews_df"
      ],
      "metadata": {
        "colab": {
          "base_uri": "https://localhost:8080/",
          "height": 423
        },
        "id": "ad1AJ9iqMDn1",
        "outputId": "d2c2bbc9-7884-42ec-cb0b-a536d04fdebb"
      },
      "execution_count": null,
      "outputs": [
        {
          "output_type": "execute_result",
          "data": {
            "text/plain": [
              "     sentiment                                               text\n",
              "0          neg  plot : two teen couples go to a church party ,...\n",
              "1          neg  the happy bastard's quick movie review \\ndamn ...\n",
              "2          neg  it is movies like these that make a jaded movi...\n",
              "3          neg   \" quest for camelot \" is warner bros . ' firs...\n",
              "4          neg  synopsis : a mentally unstable man undergoing ...\n",
              "...        ...                                                ...\n",
              "1995       pos  wow ! what a movie . \\nit's everything a movie...\n",
              "1996       pos  richard gere can be a commanding actor , but h...\n",
              "1997       pos  glory--starring matthew broderick , denzel was...\n",
              "1998       pos  steven spielberg's second epic film on world w...\n",
              "1999       pos  truman ( \" true-man \" ) burbank is the perfect...\n",
              "\n",
              "[2000 rows x 2 columns]"
            ],
            "text/html": [
              "\n",
              "  <div id=\"df-f12b085e-6c12-487f-8d68-7f9fd3ed7658\">\n",
              "    <div class=\"colab-df-container\">\n",
              "      <div>\n",
              "<style scoped>\n",
              "    .dataframe tbody tr th:only-of-type {\n",
              "        vertical-align: middle;\n",
              "    }\n",
              "\n",
              "    .dataframe tbody tr th {\n",
              "        vertical-align: top;\n",
              "    }\n",
              "\n",
              "    .dataframe thead th {\n",
              "        text-align: right;\n",
              "    }\n",
              "</style>\n",
              "<table border=\"1\" class=\"dataframe\">\n",
              "  <thead>\n",
              "    <tr style=\"text-align: right;\">\n",
              "      <th></th>\n",
              "      <th>sentiment</th>\n",
              "      <th>text</th>\n",
              "    </tr>\n",
              "  </thead>\n",
              "  <tbody>\n",
              "    <tr>\n",
              "      <th>0</th>\n",
              "      <td>neg</td>\n",
              "      <td>plot : two teen couples go to a church party ,...</td>\n",
              "    </tr>\n",
              "    <tr>\n",
              "      <th>1</th>\n",
              "      <td>neg</td>\n",
              "      <td>the happy bastard's quick movie review \\ndamn ...</td>\n",
              "    </tr>\n",
              "    <tr>\n",
              "      <th>2</th>\n",
              "      <td>neg</td>\n",
              "      <td>it is movies like these that make a jaded movi...</td>\n",
              "    </tr>\n",
              "    <tr>\n",
              "      <th>3</th>\n",
              "      <td>neg</td>\n",
              "      <td>\" quest for camelot \" is warner bros . ' firs...</td>\n",
              "    </tr>\n",
              "    <tr>\n",
              "      <th>4</th>\n",
              "      <td>neg</td>\n",
              "      <td>synopsis : a mentally unstable man undergoing ...</td>\n",
              "    </tr>\n",
              "    <tr>\n",
              "      <th>...</th>\n",
              "      <td>...</td>\n",
              "      <td>...</td>\n",
              "    </tr>\n",
              "    <tr>\n",
              "      <th>1995</th>\n",
              "      <td>pos</td>\n",
              "      <td>wow ! what a movie . \\nit's everything a movie...</td>\n",
              "    </tr>\n",
              "    <tr>\n",
              "      <th>1996</th>\n",
              "      <td>pos</td>\n",
              "      <td>richard gere can be a commanding actor , but h...</td>\n",
              "    </tr>\n",
              "    <tr>\n",
              "      <th>1997</th>\n",
              "      <td>pos</td>\n",
              "      <td>glory--starring matthew broderick , denzel was...</td>\n",
              "    </tr>\n",
              "    <tr>\n",
              "      <th>1998</th>\n",
              "      <td>pos</td>\n",
              "      <td>steven spielberg's second epic film on world w...</td>\n",
              "    </tr>\n",
              "    <tr>\n",
              "      <th>1999</th>\n",
              "      <td>pos</td>\n",
              "      <td>truman ( \" true-man \" ) burbank is the perfect...</td>\n",
              "    </tr>\n",
              "  </tbody>\n",
              "</table>\n",
              "<p>2000 rows × 2 columns</p>\n",
              "</div>\n",
              "      <button class=\"colab-df-convert\" onclick=\"convertToInteractive('df-f12b085e-6c12-487f-8d68-7f9fd3ed7658')\"\n",
              "              title=\"Convert this dataframe to an interactive table.\"\n",
              "              style=\"display:none;\">\n",
              "        \n",
              "  <svg xmlns=\"http://www.w3.org/2000/svg\" height=\"24px\"viewBox=\"0 0 24 24\"\n",
              "       width=\"24px\">\n",
              "    <path d=\"M0 0h24v24H0V0z\" fill=\"none\"/>\n",
              "    <path d=\"M18.56 5.44l.94 2.06.94-2.06 2.06-.94-2.06-.94-.94-2.06-.94 2.06-2.06.94zm-11 1L8.5 8.5l.94-2.06 2.06-.94-2.06-.94L8.5 2.5l-.94 2.06-2.06.94zm10 10l.94 2.06.94-2.06 2.06-.94-2.06-.94-.94-2.06-.94 2.06-2.06.94z\"/><path d=\"M17.41 7.96l-1.37-1.37c-.4-.4-.92-.59-1.43-.59-.52 0-1.04.2-1.43.59L10.3 9.45l-7.72 7.72c-.78.78-.78 2.05 0 2.83L4 21.41c.39.39.9.59 1.41.59.51 0 1.02-.2 1.41-.59l7.78-7.78 2.81-2.81c.8-.78.8-2.07 0-2.86zM5.41 20L4 18.59l7.72-7.72 1.47 1.35L5.41 20z\"/>\n",
              "  </svg>\n",
              "      </button>\n",
              "      \n",
              "  <style>\n",
              "    .colab-df-container {\n",
              "      display:flex;\n",
              "      flex-wrap:wrap;\n",
              "      gap: 12px;\n",
              "    }\n",
              "\n",
              "    .colab-df-convert {\n",
              "      background-color: #E8F0FE;\n",
              "      border: none;\n",
              "      border-radius: 50%;\n",
              "      cursor: pointer;\n",
              "      display: none;\n",
              "      fill: #1967D2;\n",
              "      height: 32px;\n",
              "      padding: 0 0 0 0;\n",
              "      width: 32px;\n",
              "    }\n",
              "\n",
              "    .colab-df-convert:hover {\n",
              "      background-color: #E2EBFA;\n",
              "      box-shadow: 0px 1px 2px rgba(60, 64, 67, 0.3), 0px 1px 3px 1px rgba(60, 64, 67, 0.15);\n",
              "      fill: #174EA6;\n",
              "    }\n",
              "\n",
              "    [theme=dark] .colab-df-convert {\n",
              "      background-color: #3B4455;\n",
              "      fill: #D2E3FC;\n",
              "    }\n",
              "\n",
              "    [theme=dark] .colab-df-convert:hover {\n",
              "      background-color: #434B5C;\n",
              "      box-shadow: 0px 1px 3px 1px rgba(0, 0, 0, 0.15);\n",
              "      filter: drop-shadow(0px 1px 2px rgba(0, 0, 0, 0.3));\n",
              "      fill: #FFFFFF;\n",
              "    }\n",
              "  </style>\n",
              "\n",
              "      <script>\n",
              "        const buttonEl =\n",
              "          document.querySelector('#df-f12b085e-6c12-487f-8d68-7f9fd3ed7658 button.colab-df-convert');\n",
              "        buttonEl.style.display =\n",
              "          google.colab.kernel.accessAllowed ? 'block' : 'none';\n",
              "\n",
              "        async function convertToInteractive(key) {\n",
              "          const element = document.querySelector('#df-f12b085e-6c12-487f-8d68-7f9fd3ed7658');\n",
              "          const dataTable =\n",
              "            await google.colab.kernel.invokeFunction('convertToInteractive',\n",
              "                                                     [key], {});\n",
              "          if (!dataTable) return;\n",
              "\n",
              "          const docLinkHtml = 'Like what you see? Visit the ' +\n",
              "            '<a target=\"_blank\" href=https://colab.research.google.com/notebooks/data_table.ipynb>data table notebook</a>'\n",
              "            + ' to learn more about interactive tables.';\n",
              "          element.innerHTML = '';\n",
              "          dataTable['output_type'] = 'display_data';\n",
              "          await google.colab.output.renderOutput(dataTable, element);\n",
              "          const docLink = document.createElement('div');\n",
              "          docLink.innerHTML = docLinkHtml;\n",
              "          element.appendChild(docLink);\n",
              "        }\n",
              "      </script>\n",
              "    </div>\n",
              "  </div>\n",
              "  "
            ]
          },
          "metadata": {},
          "execution_count": 133
        }
      ]
    }
  ],
  "metadata": {
    "kernelspec": {
      "display_name": "Python 3",
      "name": "python3"
    },
    "language_info": {
      "name": "python"
    },
    "colab": {
      "name": "W02-topic-modelling.ipynb",
      "provenance": [],
      "toc_visible": true,
      "collapsed_sections": [],
      "include_colab_link": true
    }
  },
  "nbformat": 4,
  "nbformat_minor": 0
}