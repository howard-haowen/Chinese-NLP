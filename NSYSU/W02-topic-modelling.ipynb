{
  "cells": [
    {
      "cell_type": "markdown",
      "metadata": {
        "id": "view-in-github",
        "colab_type": "text"
      },
      "source": [
        "<a href=\"https://colab.research.google.com/github/howard-haowen/NLP-demos/blob/main/NSYSU/W02-topic-modelling.ipynb\" target=\"_parent\"><img src=\"https://colab.research.google.com/assets/colab-badge.svg\" alt=\"Open In Colab\"/></a>"
      ]
    },
    {
      "cell_type": "markdown",
      "source": [
        "This notebook is adapted by [Haowen Jiang](https://howard-haowen.rohan.tw/) from [this one](https://github.com/explosion/spacy-notebooks/blob/master/notebooks/conference_notebooks/pydays/topic_modelling.ipynb) included in the [explosion\n",
        "/spacy-notebooks](https://github.com/explosion/spacy-notebooks) repo. It is meant for the 2022 [NLP Workshop at NSYSU](https://howard-haowen.rohan.tw/NLP-demos/nsysu_workshop)."
      ],
      "metadata": {
        "id": "jU5Ro2QwDLzD"
      }
    },
    {
      "cell_type": "code",
      "source": [
        "from datetime import date\n",
        "\n",
        "today = date.today()\n",
        "print(\"Last updated:\", today)"
      ],
      "metadata": {
        "colab": {
          "base_uri": "https://localhost:8080/"
        },
        "id": "gSR2qNyU-1JB",
        "outputId": "b8d58766-b2d7-42dd-c34a-cea13408f757"
      },
      "execution_count": null,
      "outputs": [
        {
          "output_type": "stream",
          "name": "stdout",
          "text": [
            "Last updated: 2022-04-28\n"
          ]
        }
      ]
    },
    {
      "cell_type": "markdown",
      "source": [
        "# Topic Modelling with Gensim"
      ],
      "metadata": {
        "id": "ODaJRjqDFRBg"
      }
    },
    {
      "cell_type": "markdown",
      "metadata": {
        "collapsed": true,
        "deletable": true,
        "editable": true,
        "id": "SxSB8QGxY-zy"
      },
      "source": [
        "This tutorial will walk you through the entire process of analysing your text - from pre-processing to creating your topic models and visualising them. \n",
        "\n",
        "We will be needing: \n",
        "```\n",
        "- spaCy\n",
        "- gensim\n",
        "- matplotlib\n",
        "- pyLDAVis\n",
        "```\n"
      ]
    },
    {
      "cell_type": "markdown",
      "source": [
        "![](https://miro.medium.com/max/1400/1*jpytbqadO3FtdIyOjx2_yg.png)"
      ],
      "metadata": {
        "id": "LJx0IbUcFbdI"
      }
    },
    {
      "cell_type": "markdown",
      "source": [
        "## Dependencies"
      ],
      "metadata": {
        "id": "S_N6ZizVvxEi"
      }
    },
    {
      "cell_type": "code",
      "source": [
        "!pip install -U pip setuptools wheel\n",
        "!pip install -U spacy\n",
        "!python -m spacy download en_core_web_sm\n",
        "!pip install pyldavis"
      ],
      "metadata": {
        "id": "7n8Mad_wJ64H",
        "colab": {
          "base_uri": "https://localhost:8080/",
          "height": 1000
        },
        "outputId": "75e5650d-5c9e-4fcf-af41-eaebcbc61ee5"
      },
      "execution_count": null,
      "outputs": [
        {
          "output_type": "stream",
          "name": "stdout",
          "text": [
            "Requirement already satisfied: pip in /usr/local/lib/python3.7/dist-packages (21.1.3)\n",
            "Collecting pip\n",
            "  Downloading pip-22.0.4-py3-none-any.whl (2.1 MB)\n",
            "\u001b[K     |████████████████████████████████| 2.1 MB 15.8 MB/s \n",
            "\u001b[?25hRequirement already satisfied: setuptools in /usr/local/lib/python3.7/dist-packages (57.4.0)\n",
            "Collecting setuptools\n",
            "  Downloading setuptools-62.1.0-py3-none-any.whl (1.1 MB)\n",
            "\u001b[K     |████████████████████████████████| 1.1 MB 27.0 MB/s \n",
            "\u001b[?25hRequirement already satisfied: wheel in /usr/local/lib/python3.7/dist-packages (0.37.1)\n",
            "Installing collected packages: setuptools, pip\n",
            "  Attempting uninstall: setuptools\n",
            "    Found existing installation: setuptools 57.4.0\n",
            "    Uninstalling setuptools-57.4.0:\n",
            "      Successfully uninstalled setuptools-57.4.0\n",
            "  Attempting uninstall: pip\n",
            "    Found existing installation: pip 21.1.3\n",
            "    Uninstalling pip-21.1.3:\n",
            "      Successfully uninstalled pip-21.1.3\n",
            "\u001b[31mERROR: pip's dependency resolver does not currently take into account all the packages that are installed. This behaviour is the source of the following dependency conflicts.\n",
            "tensorflow 2.8.0 requires tf-estimator-nightly==2.8.0.dev2021122109, which is not installed.\n",
            "datascience 0.10.6 requires folium==0.2.1, but you have folium 0.8.3 which is incompatible.\u001b[0m\n",
            "Successfully installed pip-22.0.4 setuptools-62.1.0\n"
          ]
        },
        {
          "output_type": "display_data",
          "data": {
            "application/vnd.colab-display-data+json": {
              "pip_warning": {
                "packages": [
                  "pkg_resources"
                ]
              }
            }
          },
          "metadata": {}
        },
        {
          "output_type": "stream",
          "name": "stdout",
          "text": [
            "Requirement already satisfied: spacy in /usr/local/lib/python3.7/dist-packages (2.2.4)\n",
            "Collecting spacy\n",
            "  Downloading spacy-3.2.4-cp37-cp37m-manylinux_2_17_x86_64.manylinux2014_x86_64.whl (6.0 MB)\n",
            "\u001b[2K     \u001b[90m━━━━━━━━━━━━━━━━━━━━━━━━━━━━━━━━━━━━━━━━\u001b[0m \u001b[32m6.0/6.0 MB\u001b[0m \u001b[31m26.8 MB/s\u001b[0m eta \u001b[36m0:00:00\u001b[0m\n",
            "\u001b[?25hCollecting langcodes<4.0.0,>=3.2.0\n",
            "  Downloading langcodes-3.3.0-py3-none-any.whl (181 kB)\n",
            "\u001b[2K     \u001b[90m━━━━━━━━━━━━━━━━━━━━━━━━━━━━━━━━━━━━━━━\u001b[0m \u001b[32m181.6/181.6 KB\u001b[0m \u001b[31m7.5 MB/s\u001b[0m eta \u001b[36m0:00:00\u001b[0m\n",
            "\u001b[?25hRequirement already satisfied: preshed<3.1.0,>=3.0.2 in /usr/local/lib/python3.7/dist-packages (from spacy) (3.0.6)\n",
            "Collecting pydantic!=1.8,!=1.8.1,<1.9.0,>=1.7.4\n",
            "  Downloading pydantic-1.8.2-cp37-cp37m-manylinux2014_x86_64.whl (10.1 MB)\n",
            "\u001b[2K     \u001b[90m━━━━━━━━━━━━━━━━━━━━━━━━━━━━━━━━━━━━━━━━\u001b[0m \u001b[32m10.1/10.1 MB\u001b[0m \u001b[31m18.2 MB/s\u001b[0m eta \u001b[36m0:00:00\u001b[0m\n",
            "\u001b[?25hCollecting catalogue<2.1.0,>=2.0.6\n",
            "  Downloading catalogue-2.0.7-py3-none-any.whl (17 kB)\n",
            "Collecting spacy-legacy<3.1.0,>=3.0.8\n",
            "  Downloading spacy_legacy-3.0.9-py2.py3-none-any.whl (20 kB)\n",
            "Collecting thinc<8.1.0,>=8.0.12\n",
            "  Downloading thinc-8.0.15-cp37-cp37m-manylinux_2_17_x86_64.manylinux2014_x86_64.whl (653 kB)\n",
            "\u001b[2K     \u001b[90m━━━━━━━━━━━━━━━━━━━━━━━━━━━━━━━━━━━━━━\u001b[0m \u001b[32m653.3/653.3 KB\u001b[0m \u001b[31m30.7 MB/s\u001b[0m eta \u001b[36m0:00:00\u001b[0m\n",
            "\u001b[?25hRequirement already satisfied: jinja2 in /usr/local/lib/python3.7/dist-packages (from spacy) (2.11.3)\n",
            "Requirement already satisfied: packaging>=20.0 in /usr/local/lib/python3.7/dist-packages (from spacy) (21.3)\n",
            "Requirement already satisfied: blis<0.8.0,>=0.4.0 in /usr/local/lib/python3.7/dist-packages (from spacy) (0.4.1)\n",
            "Requirement already satisfied: setuptools in /usr/local/lib/python3.7/dist-packages (from spacy) (62.1.0)\n",
            "Collecting typer<0.5.0,>=0.3.0\n",
            "  Downloading typer-0.4.1-py3-none-any.whl (27 kB)\n",
            "Requirement already satisfied: numpy>=1.15.0 in /usr/local/lib/python3.7/dist-packages (from spacy) (1.21.6)\n",
            "Collecting srsly<3.0.0,>=2.4.1\n",
            "  Downloading srsly-2.4.3-cp37-cp37m-manylinux_2_17_x86_64.manylinux2014_x86_64.whl (457 kB)\n",
            "\u001b[2K     \u001b[90m━━━━━━━━━━━━━━━━━━━━━━━━━━━━━━━━━━━━━━\u001b[0m \u001b[32m457.1/457.1 KB\u001b[0m \u001b[31m21.4 MB/s\u001b[0m eta \u001b[36m0:00:00\u001b[0m\n",
            "\u001b[?25hRequirement already satisfied: tqdm<5.0.0,>=4.38.0 in /usr/local/lib/python3.7/dist-packages (from spacy) (4.64.0)\n",
            "Requirement already satisfied: requests<3.0.0,>=2.13.0 in /usr/local/lib/python3.7/dist-packages (from spacy) (2.23.0)\n",
            "Requirement already satisfied: click<8.1.0 in /usr/local/lib/python3.7/dist-packages (from spacy) (7.1.2)\n",
            "Requirement already satisfied: wasabi<1.1.0,>=0.8.1 in /usr/local/lib/python3.7/dist-packages (from spacy) (0.9.1)\n",
            "Collecting spacy-loggers<2.0.0,>=1.0.0\n",
            "  Downloading spacy_loggers-1.0.2-py3-none-any.whl (7.2 kB)\n",
            "Requirement already satisfied: cymem<2.1.0,>=2.0.2 in /usr/local/lib/python3.7/dist-packages (from spacy) (2.0.6)\n",
            "Requirement already satisfied: murmurhash<1.1.0,>=0.28.0 in /usr/local/lib/python3.7/dist-packages (from spacy) (1.0.6)\n",
            "Collecting typing-extensions<4.0.0.0,>=3.7.4\n",
            "  Downloading typing_extensions-3.10.0.2-py3-none-any.whl (26 kB)\n",
            "Collecting pathy>=0.3.5\n",
            "  Downloading pathy-0.6.1-py3-none-any.whl (42 kB)\n",
            "\u001b[2K     \u001b[90m━━━━━━━━━━━━━━━━━━━━━━━━━━━━━━━━━━━━━━━━\u001b[0m \u001b[32m42.8/42.8 KB\u001b[0m \u001b[31m3.4 MB/s\u001b[0m eta \u001b[36m0:00:00\u001b[0m\n",
            "\u001b[?25hRequirement already satisfied: zipp>=0.5 in /usr/local/lib/python3.7/dist-packages (from catalogue<2.1.0,>=2.0.6->spacy) (3.8.0)\n",
            "Requirement already satisfied: pyparsing!=3.0.5,>=2.0.2 in /usr/local/lib/python3.7/dist-packages (from packaging>=20.0->spacy) (3.0.8)\n",
            "Requirement already satisfied: smart-open<6.0.0,>=5.0.0 in /usr/local/lib/python3.7/dist-packages (from pathy>=0.3.5->spacy) (5.2.1)\n",
            "Requirement already satisfied: certifi>=2017.4.17 in /usr/local/lib/python3.7/dist-packages (from requests<3.0.0,>=2.13.0->spacy) (2021.10.8)\n",
            "Requirement already satisfied: idna<3,>=2.5 in /usr/local/lib/python3.7/dist-packages (from requests<3.0.0,>=2.13.0->spacy) (2.10)\n",
            "Requirement already satisfied: chardet<4,>=3.0.2 in /usr/local/lib/python3.7/dist-packages (from requests<3.0.0,>=2.13.0->spacy) (3.0.4)\n",
            "Requirement already satisfied: urllib3!=1.25.0,!=1.25.1,<1.26,>=1.21.1 in /usr/local/lib/python3.7/dist-packages (from requests<3.0.0,>=2.13.0->spacy) (1.24.3)\n",
            "Requirement already satisfied: MarkupSafe>=0.23 in /usr/local/lib/python3.7/dist-packages (from jinja2->spacy) (2.0.1)\n",
            "Installing collected packages: typing-extensions, typer, spacy-loggers, spacy-legacy, pydantic, langcodes, catalogue, srsly, pathy, thinc, spacy\n",
            "  Attempting uninstall: typing-extensions\n",
            "    Found existing installation: typing_extensions 4.2.0\n",
            "    Uninstalling typing_extensions-4.2.0:\n",
            "      Successfully uninstalled typing_extensions-4.2.0\n",
            "  Attempting uninstall: catalogue\n",
            "    Found existing installation: catalogue 1.0.0\n",
            "    Uninstalling catalogue-1.0.0:\n",
            "      Successfully uninstalled catalogue-1.0.0\n",
            "  Attempting uninstall: srsly\n",
            "    Found existing installation: srsly 1.0.5\n",
            "    Uninstalling srsly-1.0.5:\n",
            "      Successfully uninstalled srsly-1.0.5\n",
            "  Attempting uninstall: thinc\n",
            "    Found existing installation: thinc 7.4.0\n",
            "    Uninstalling thinc-7.4.0:\n",
            "      Successfully uninstalled thinc-7.4.0\n",
            "  Attempting uninstall: spacy\n",
            "    Found existing installation: spacy 2.2.4\n",
            "    Uninstalling spacy-2.2.4:\n",
            "      Successfully uninstalled spacy-2.2.4\n",
            "\u001b[31mERROR: pip's dependency resolver does not currently take into account all the packages that are installed. This behaviour is the source of the following dependency conflicts.\n",
            "tensorflow 2.8.0 requires tf-estimator-nightly==2.8.0.dev2021122109, which is not installed.\u001b[0m\u001b[31m\n",
            "\u001b[0mSuccessfully installed catalogue-2.0.7 langcodes-3.3.0 pathy-0.6.1 pydantic-1.8.2 spacy-3.2.4 spacy-legacy-3.0.9 spacy-loggers-1.0.2 srsly-2.4.3 thinc-8.0.15 typer-0.4.1 typing-extensions-3.10.0.2\n",
            "\u001b[33mWARNING: Running pip as the 'root' user can result in broken permissions and conflicting behaviour with the system package manager. It is recommended to use a virtual environment instead: https://pip.pypa.io/warnings/venv\u001b[0m\u001b[33m\n",
            "\u001b[0mCollecting en-core-web-sm==3.2.0\n",
            "  Downloading https://github.com/explosion/spacy-models/releases/download/en_core_web_sm-3.2.0/en_core_web_sm-3.2.0-py3-none-any.whl (13.9 MB)\n",
            "\u001b[2K     \u001b[90m━━━━━━━━━━━━━━━━━━━━━━━━━━━━━━━━━━━━━━━━\u001b[0m \u001b[32m13.9/13.9 MB\u001b[0m \u001b[31m48.9 MB/s\u001b[0m eta \u001b[36m0:00:00\u001b[0m\n",
            "\u001b[?25hRequirement already satisfied: spacy<3.3.0,>=3.2.0 in /usr/local/lib/python3.7/dist-packages (from en-core-web-sm==3.2.0) (3.2.4)\n",
            "Requirement already satisfied: typing-extensions<4.0.0.0,>=3.7.4 in /usr/local/lib/python3.7/dist-packages (from spacy<3.3.0,>=3.2.0->en-core-web-sm==3.2.0) (3.10.0.2)\n",
            "Requirement already satisfied: catalogue<2.1.0,>=2.0.6 in /usr/local/lib/python3.7/dist-packages (from spacy<3.3.0,>=3.2.0->en-core-web-sm==3.2.0) (2.0.7)\n",
            "Requirement already satisfied: setuptools in /usr/local/lib/python3.7/dist-packages (from spacy<3.3.0,>=3.2.0->en-core-web-sm==3.2.0) (62.1.0)\n",
            "Requirement already satisfied: preshed<3.1.0,>=3.0.2 in /usr/local/lib/python3.7/dist-packages (from spacy<3.3.0,>=3.2.0->en-core-web-sm==3.2.0) (3.0.6)\n",
            "Requirement already satisfied: blis<0.8.0,>=0.4.0 in /usr/local/lib/python3.7/dist-packages (from spacy<3.3.0,>=3.2.0->en-core-web-sm==3.2.0) (0.4.1)\n",
            "Requirement already satisfied: srsly<3.0.0,>=2.4.1 in /usr/local/lib/python3.7/dist-packages (from spacy<3.3.0,>=3.2.0->en-core-web-sm==3.2.0) (2.4.3)\n",
            "Requirement already satisfied: thinc<8.1.0,>=8.0.12 in /usr/local/lib/python3.7/dist-packages (from spacy<3.3.0,>=3.2.0->en-core-web-sm==3.2.0) (8.0.15)\n",
            "Requirement already satisfied: jinja2 in /usr/local/lib/python3.7/dist-packages (from spacy<3.3.0,>=3.2.0->en-core-web-sm==3.2.0) (2.11.3)\n",
            "Requirement already satisfied: click<8.1.0 in /usr/local/lib/python3.7/dist-packages (from spacy<3.3.0,>=3.2.0->en-core-web-sm==3.2.0) (7.1.2)\n",
            "Requirement already satisfied: tqdm<5.0.0,>=4.38.0 in /usr/local/lib/python3.7/dist-packages (from spacy<3.3.0,>=3.2.0->en-core-web-sm==3.2.0) (4.64.0)\n",
            "Requirement already satisfied: requests<3.0.0,>=2.13.0 in /usr/local/lib/python3.7/dist-packages (from spacy<3.3.0,>=3.2.0->en-core-web-sm==3.2.0) (2.23.0)\n",
            "Requirement already satisfied: numpy>=1.15.0 in /usr/local/lib/python3.7/dist-packages (from spacy<3.3.0,>=3.2.0->en-core-web-sm==3.2.0) (1.21.6)\n",
            "Requirement already satisfied: cymem<2.1.0,>=2.0.2 in /usr/local/lib/python3.7/dist-packages (from spacy<3.3.0,>=3.2.0->en-core-web-sm==3.2.0) (2.0.6)\n",
            "Requirement already satisfied: typer<0.5.0,>=0.3.0 in /usr/local/lib/python3.7/dist-packages (from spacy<3.3.0,>=3.2.0->en-core-web-sm==3.2.0) (0.4.1)\n",
            "Requirement already satisfied: langcodes<4.0.0,>=3.2.0 in /usr/local/lib/python3.7/dist-packages (from spacy<3.3.0,>=3.2.0->en-core-web-sm==3.2.0) (3.3.0)\n",
            "Requirement already satisfied: pydantic!=1.8,!=1.8.1,<1.9.0,>=1.7.4 in /usr/local/lib/python3.7/dist-packages (from spacy<3.3.0,>=3.2.0->en-core-web-sm==3.2.0) (1.8.2)\n",
            "Requirement already satisfied: murmurhash<1.1.0,>=0.28.0 in /usr/local/lib/python3.7/dist-packages (from spacy<3.3.0,>=3.2.0->en-core-web-sm==3.2.0) (1.0.6)\n",
            "Requirement already satisfied: spacy-legacy<3.1.0,>=3.0.8 in /usr/local/lib/python3.7/dist-packages (from spacy<3.3.0,>=3.2.0->en-core-web-sm==3.2.0) (3.0.9)\n",
            "Requirement already satisfied: pathy>=0.3.5 in /usr/local/lib/python3.7/dist-packages (from spacy<3.3.0,>=3.2.0->en-core-web-sm==3.2.0) (0.6.1)\n",
            "Requirement already satisfied: packaging>=20.0 in /usr/local/lib/python3.7/dist-packages (from spacy<3.3.0,>=3.2.0->en-core-web-sm==3.2.0) (21.3)\n",
            "Requirement already satisfied: spacy-loggers<2.0.0,>=1.0.0 in /usr/local/lib/python3.7/dist-packages (from spacy<3.3.0,>=3.2.0->en-core-web-sm==3.2.0) (1.0.2)\n",
            "Requirement already satisfied: wasabi<1.1.0,>=0.8.1 in /usr/local/lib/python3.7/dist-packages (from spacy<3.3.0,>=3.2.0->en-core-web-sm==3.2.0) (0.9.1)\n",
            "Requirement already satisfied: zipp>=0.5 in /usr/local/lib/python3.7/dist-packages (from catalogue<2.1.0,>=2.0.6->spacy<3.3.0,>=3.2.0->en-core-web-sm==3.2.0) (3.8.0)\n",
            "Requirement already satisfied: pyparsing!=3.0.5,>=2.0.2 in /usr/local/lib/python3.7/dist-packages (from packaging>=20.0->spacy<3.3.0,>=3.2.0->en-core-web-sm==3.2.0) (3.0.8)\n",
            "Requirement already satisfied: smart-open<6.0.0,>=5.0.0 in /usr/local/lib/python3.7/dist-packages (from pathy>=0.3.5->spacy<3.3.0,>=3.2.0->en-core-web-sm==3.2.0) (5.2.1)\n",
            "Requirement already satisfied: urllib3!=1.25.0,!=1.25.1,<1.26,>=1.21.1 in /usr/local/lib/python3.7/dist-packages (from requests<3.0.0,>=2.13.0->spacy<3.3.0,>=3.2.0->en-core-web-sm==3.2.0) (1.24.3)\n",
            "Requirement already satisfied: certifi>=2017.4.17 in /usr/local/lib/python3.7/dist-packages (from requests<3.0.0,>=2.13.0->spacy<3.3.0,>=3.2.0->en-core-web-sm==3.2.0) (2021.10.8)\n",
            "Requirement already satisfied: idna<3,>=2.5 in /usr/local/lib/python3.7/dist-packages (from requests<3.0.0,>=2.13.0->spacy<3.3.0,>=3.2.0->en-core-web-sm==3.2.0) (2.10)\n",
            "Requirement already satisfied: chardet<4,>=3.0.2 in /usr/local/lib/python3.7/dist-packages (from requests<3.0.0,>=2.13.0->spacy<3.3.0,>=3.2.0->en-core-web-sm==3.2.0) (3.0.4)\n",
            "Requirement already satisfied: MarkupSafe>=0.23 in /usr/local/lib/python3.7/dist-packages (from jinja2->spacy<3.3.0,>=3.2.0->en-core-web-sm==3.2.0) (2.0.1)\n",
            "Installing collected packages: en-core-web-sm\n",
            "  Attempting uninstall: en-core-web-sm\n",
            "    Found existing installation: en-core-web-sm 2.2.5\n",
            "    Uninstalling en-core-web-sm-2.2.5:\n",
            "      Successfully uninstalled en-core-web-sm-2.2.5\n",
            "Successfully installed en-core-web-sm-3.2.0\n",
            "\u001b[33mWARNING: Running pip as the 'root' user can result in broken permissions and conflicting behaviour with the system package manager. It is recommended to use a virtual environment instead: https://pip.pypa.io/warnings/venv\u001b[0m\u001b[33m\n",
            "\u001b[0m\u001b[38;5;2m✔ Download and installation successful\u001b[0m\n",
            "You can now load the package via spacy.load('en_core_web_sm')\n",
            "Collecting pyldavis\n",
            "  Downloading pyLDAvis-3.3.1.tar.gz (1.7 MB)\n",
            "\u001b[2K     \u001b[90m━━━━━━━━━━━━━━━━━━━━━━━━━━━━━━━━━━━━━━━━\u001b[0m \u001b[32m1.7/1.7 MB\u001b[0m \u001b[31m29.0 MB/s\u001b[0m eta \u001b[36m0:00:00\u001b[0m\n",
            "\u001b[?25h  Installing build dependencies ... \u001b[?25l\u001b[?25hdone\n",
            "  Getting requirements to build wheel ... \u001b[?25l\u001b[?25hdone\n",
            "  Installing backend dependencies ... \u001b[?25l\u001b[?25hdone\n",
            "  Preparing metadata (pyproject.toml) ... \u001b[?25l\u001b[?25hdone\n",
            "Requirement already satisfied: scipy in /usr/local/lib/python3.7/dist-packages (from pyldavis) (1.4.1)\n",
            "Requirement already satisfied: pandas>=1.2.0 in /usr/local/lib/python3.7/dist-packages (from pyldavis) (1.3.5)\n",
            "Requirement already satisfied: numexpr in /usr/local/lib/python3.7/dist-packages (from pyldavis) (2.8.1)\n",
            "Requirement already satisfied: setuptools in /usr/local/lib/python3.7/dist-packages (from pyldavis) (62.1.0)\n",
            "Requirement already satisfied: gensim in /usr/local/lib/python3.7/dist-packages (from pyldavis) (3.6.0)\n",
            "Requirement already satisfied: numpy>=1.20.0 in /usr/local/lib/python3.7/dist-packages (from pyldavis) (1.21.6)\n",
            "Collecting funcy\n",
            "  Downloading funcy-1.17-py2.py3-none-any.whl (33 kB)\n",
            "Requirement already satisfied: future in /usr/local/lib/python3.7/dist-packages (from pyldavis) (0.16.0)\n",
            "Requirement already satisfied: scikit-learn in /usr/local/lib/python3.7/dist-packages (from pyldavis) (1.0.2)\n",
            "Requirement already satisfied: joblib in /usr/local/lib/python3.7/dist-packages (from pyldavis) (1.1.0)\n",
            "Requirement already satisfied: jinja2 in /usr/local/lib/python3.7/dist-packages (from pyldavis) (2.11.3)\n",
            "Requirement already satisfied: sklearn in /usr/local/lib/python3.7/dist-packages (from pyldavis) (0.0)\n",
            "Requirement already satisfied: pytz>=2017.3 in /usr/local/lib/python3.7/dist-packages (from pandas>=1.2.0->pyldavis) (2022.1)\n",
            "Requirement already satisfied: python-dateutil>=2.7.3 in /usr/local/lib/python3.7/dist-packages (from pandas>=1.2.0->pyldavis) (2.8.2)\n",
            "Requirement already satisfied: six>=1.5.0 in /usr/local/lib/python3.7/dist-packages (from gensim->pyldavis) (1.15.0)\n",
            "Requirement already satisfied: smart-open>=1.2.1 in /usr/local/lib/python3.7/dist-packages (from gensim->pyldavis) (5.2.1)\n",
            "Requirement already satisfied: MarkupSafe>=0.23 in /usr/local/lib/python3.7/dist-packages (from jinja2->pyldavis) (2.0.1)\n",
            "Requirement already satisfied: packaging in /usr/local/lib/python3.7/dist-packages (from numexpr->pyldavis) (21.3)\n",
            "Requirement already satisfied: threadpoolctl>=2.0.0 in /usr/local/lib/python3.7/dist-packages (from scikit-learn->pyldavis) (3.1.0)\n",
            "Requirement already satisfied: pyparsing!=3.0.5,>=2.0.2 in /usr/local/lib/python3.7/dist-packages (from packaging->numexpr->pyldavis) (3.0.8)\n",
            "Building wheels for collected packages: pyldavis\n",
            "  Building wheel for pyldavis (pyproject.toml) ... \u001b[?25l\u001b[?25hdone\n",
            "  Created wheel for pyldavis: filename=pyLDAvis-3.3.1-py2.py3-none-any.whl size=136900 sha256=5f6871d595c9a5c53ecf1c4efe4faf48d3a87a8bafe1b2f5ff98961b23bd4c4d\n",
            "  Stored in directory: /root/.cache/pip/wheels/c9/21/f6/17bcf2667e8a68532ba2fbf6d5c72fdf4c7f7d9abfa4852d2f\n",
            "Successfully built pyldavis\n",
            "Installing collected packages: funcy, pyldavis\n",
            "Successfully installed funcy-1.17 pyldavis-3.3.1\n",
            "\u001b[33mWARNING: Running pip as the 'root' user can result in broken permissions and conflicting behaviour with the system package manager. It is recommended to use a virtual environment instead: https://pip.pypa.io/warnings/venv\u001b[0m\u001b[33m\n",
            "\u001b[0m"
          ]
        }
      ]
    },
    {
      "cell_type": "code",
      "execution_count": null,
      "metadata": {
        "id": "FTcSE2PCY-z3",
        "colab": {
          "base_uri": "https://localhost:8080/"
        },
        "outputId": "84eeecc8-136e-4067-d13e-c1e949a01dc0"
      },
      "outputs": [
        {
          "output_type": "stream",
          "name": "stderr",
          "text": [
            "/usr/local/lib/python3.7/dist-packages/past/types/oldstr.py:5: DeprecationWarning: Using or importing the ABCs from 'collections' instead of from 'collections.abc' is deprecated since Python 3.3,and in 3.9 it will stop working\n",
            "  from collections import Iterable\n"
          ]
        }
      ],
      "source": [
        "# NLP\n",
        "import spacy\n",
        "# corpus\n",
        "import nltk\n",
        "# topic modelling\n",
        "import gensim\n",
        "from gensim.models import LdaModel, HdpModel\n",
        "from gensim.corpora import Dictionary\n",
        "# visualization\n",
        "import pyLDAvis.gensim_models\n",
        "# tabularization of data\n",
        "import pandas as pd\n",
        "# others\n",
        "import warnings\n",
        "warnings.filterwarnings('ignore')  # Let's not pay heed to them right now"
      ]
    },
    {
      "cell_type": "code",
      "source": [
        "spacy.info()"
      ],
      "metadata": {
        "colab": {
          "base_uri": "https://localhost:8080/"
        },
        "id": "Bt0w-DpfLGxF",
        "outputId": "d2fd2547-4e11-4a42-abba-e5240debf3a5"
      },
      "execution_count": null,
      "outputs": [
        {
          "output_type": "execute_result",
          "data": {
            "text/plain": [
              "{'location': '/usr/local/lib/python3.7/dist-packages/spacy',\n",
              " 'pipelines': {'en_core_web_sm': '3.2.0'},\n",
              " 'platform': 'Linux-5.4.144+-x86_64-with-Ubuntu-18.04-bionic',\n",
              " 'python_version': '3.7.13',\n",
              " 'spacy_version': '3.2.4'}"
            ]
          },
          "metadata": {},
          "execution_count": 4
        }
      ]
    },
    {
      "cell_type": "code",
      "source": [
        "pd.options.plotting.backend = \"plotly\""
      ],
      "metadata": {
        "id": "A2NNLUo-AwQA"
      },
      "execution_count": null,
      "outputs": []
    },
    {
      "cell_type": "markdown",
      "source": [
        "## Download the corpus"
      ],
      "metadata": {
        "id": "VmBcqDOMwEbs"
      }
    },
    {
      "cell_type": "markdown",
      "metadata": {
        "id": "kWWwZpWJY-z4"
      },
      "source": [
        "For this tutorial, we will be using the **Inaugural Address Corpus** from NLTK. Visit [here](http://www.nltk.org/nltk_data/) for a complete list of corpora accessible through NLTK.\n",
        "\n",
        "We should keep in mind we can use pretty much any textual dataset and go ahead with what we will be doing. "
      ]
    },
    {
      "cell_type": "code",
      "source": [
        "nltk.download('punkt')\n",
        "nltk.download('inaugural')"
      ],
      "metadata": {
        "colab": {
          "base_uri": "https://localhost:8080/"
        },
        "id": "7teNUstqAfwd",
        "outputId": "b80ca81d-e338-477e-bb8a-b1bb099b98d6"
      },
      "execution_count": null,
      "outputs": [
        {
          "output_type": "stream",
          "name": "stdout",
          "text": [
            "[nltk_data] Downloading package punkt to /root/nltk_data...\n",
            "[nltk_data]   Unzipping tokenizers/punkt.zip.\n",
            "[nltk_data] Downloading package inaugural to /root/nltk_data...\n",
            "[nltk_data]   Unzipping corpora/inaugural.zip.\n"
          ]
        },
        {
          "output_type": "execute_result",
          "data": {
            "text/plain": [
              "True"
            ]
          },
          "metadata": {},
          "execution_count": 6
        }
      ]
    },
    {
      "cell_type": "code",
      "source": [
        "from nltk.corpus import inaugural"
      ],
      "metadata": {
        "id": "tQD-l63F_NDo"
      },
      "execution_count": null,
      "outputs": []
    },
    {
      "cell_type": "code",
      "source": [
        "file_ids = inaugural.fileids()\n",
        "file_ids"
      ],
      "metadata": {
        "colab": {
          "base_uri": "https://localhost:8080/"
        },
        "id": "VSCsrnk0_OyL",
        "outputId": "d03ab881-945f-4495-e962-093015037b3f"
      },
      "execution_count": null,
      "outputs": [
        {
          "output_type": "execute_result",
          "data": {
            "text/plain": [
              "['1789-Washington.txt',\n",
              " '1793-Washington.txt',\n",
              " '1797-Adams.txt',\n",
              " '1801-Jefferson.txt',\n",
              " '1805-Jefferson.txt',\n",
              " '1809-Madison.txt',\n",
              " '1813-Madison.txt',\n",
              " '1817-Monroe.txt',\n",
              " '1821-Monroe.txt',\n",
              " '1825-Adams.txt',\n",
              " '1829-Jackson.txt',\n",
              " '1833-Jackson.txt',\n",
              " '1837-VanBuren.txt',\n",
              " '1841-Harrison.txt',\n",
              " '1845-Polk.txt',\n",
              " '1849-Taylor.txt',\n",
              " '1853-Pierce.txt',\n",
              " '1857-Buchanan.txt',\n",
              " '1861-Lincoln.txt',\n",
              " '1865-Lincoln.txt',\n",
              " '1869-Grant.txt',\n",
              " '1873-Grant.txt',\n",
              " '1877-Hayes.txt',\n",
              " '1881-Garfield.txt',\n",
              " '1885-Cleveland.txt',\n",
              " '1889-Harrison.txt',\n",
              " '1893-Cleveland.txt',\n",
              " '1897-McKinley.txt',\n",
              " '1901-McKinley.txt',\n",
              " '1905-Roosevelt.txt',\n",
              " '1909-Taft.txt',\n",
              " '1913-Wilson.txt',\n",
              " '1917-Wilson.txt',\n",
              " '1921-Harding.txt',\n",
              " '1925-Coolidge.txt',\n",
              " '1929-Hoover.txt',\n",
              " '1933-Roosevelt.txt',\n",
              " '1937-Roosevelt.txt',\n",
              " '1941-Roosevelt.txt',\n",
              " '1945-Roosevelt.txt',\n",
              " '1949-Truman.txt',\n",
              " '1953-Eisenhower.txt',\n",
              " '1957-Eisenhower.txt',\n",
              " '1961-Kennedy.txt',\n",
              " '1965-Johnson.txt',\n",
              " '1969-Nixon.txt',\n",
              " '1973-Nixon.txt',\n",
              " '1977-Carter.txt',\n",
              " '1981-Reagan.txt',\n",
              " '1985-Reagan.txt',\n",
              " '1989-Bush.txt',\n",
              " '1993-Clinton.txt',\n",
              " '1997-Clinton.txt',\n",
              " '2001-Bush.txt',\n",
              " '2005-Bush.txt',\n",
              " '2009-Obama.txt',\n",
              " '2013-Obama.txt',\n",
              " '2017-Trump.txt',\n",
              " '2021-Biden.txt']"
            ]
          },
          "metadata": {},
          "execution_count": 8
        }
      ]
    },
    {
      "cell_type": "code",
      "source": [
        "len(file_ids)"
      ],
      "metadata": {
        "colab": {
          "base_uri": "https://localhost:8080/"
        },
        "id": "0yQCRFHUBltx",
        "outputId": "d6fd1f93-ba50-45e2-b3e0-939ea24dbbdf"
      },
      "execution_count": null,
      "outputs": [
        {
          "output_type": "execute_result",
          "data": {
            "text/plain": [
              "59"
            ]
          },
          "metadata": {},
          "execution_count": 9
        }
      ]
    },
    {
      "cell_type": "code",
      "source": [
        "#show the last speech, which is Biden's\n",
        "inaugural.raw(file_ids[-1])"
      ],
      "metadata": {
        "colab": {
          "base_uri": "https://localhost:8080/",
          "height": 249
        },
        "id": "VzduYFRk_Sgw",
        "outputId": "d08c587c-54d9-471d-e0bb-7761a0e31779"
      },
      "execution_count": null,
      "outputs": [
        {
          "output_type": "execute_result",
          "data": {
            "text/plain": [
              "'Chief Justice Roberts, Vice President Harris, Speaker Pelosi, Leader Schumer, Leader McConnell, Vice President Pence, and my distinguished guests, and my fellow Americans: This is America\\'s day. This is democracy\\'s day, a day of history and hope, of renewal and resolve. Through a crucible for the ages America has been tested anew, and America has risen to the challenge.\\n\\nToday we celebrate the triumph not of a candidate, but of a cause, the cause of democracy. The peopleâ\\x80\\x94the will of the people has been heard, and the will of the people has been heeded. We\\'ve learned again that democracy is precious, democracy is fragile. And at this hour, my friends, democracy has prevailed.\\n\\nSo now, on this hallowed ground where just a few days ago violence sought to shake the Capitol\\'s very foundation, we come together as one Nation under God, indivisible, to carry out the peaceful transfer of power as we have for more than two centuries. As we look ahead in our uniquely American wayâ\\x80\\x94restless, bold, optimisticâ\\x80\\x94and set our sights on the Nation we know we can be and we must be, I thank my predecessors of both parties for their presence here today. I thank them from the bottom of my heart. And I know the resilience of our Constitution and the strength, the strength of our Nation, as does President Carter, who I spoke with last night, who cannot be with us today, but whom we salute for his lifetime of service.\\n\\nI have just taken the sacred oath each of these patriots have taken, the oath first sworn by George Washington. But the American story depends not on any one of us, not on some of us, but on all of us, on \"We the People,\" who seek a more perfect Union.\\n\\nThis is a great Nation; we are good people. Over the centuries, through storm and strife, in peace and in war, we\\'ve come so far. But we still have far to go. We\\'ll press forward with speed and urgency, for we have much to do in this winter of peril and significant possibilities: much to repair, much to restore, much to heal, much to build, and much to gain.\\n\\nFew people in our Nation\\'s history have been more challenged or found a time more challenging or difficult than the time we\\'re in now. A once-in-a-century virus that silently stalks the country has taken as many lives in one year as America lost in all of World War II. Millions of jobs have been lost; hundreds of thousands of businesses closed. A cry for racial justice some 400 years in the making moves us. The dream of justice for all will be deferred no longer. A cry for survival comes from the planet itself, a cry that can\\'t be any more desperate or any more clear. And now, a rise of political extremism, White supremacy, domestic terrorism that we must confront and we will defeat.\\n\\nTo overcome these challengesâ\\x80\\x94to restore the soul and secure the future of Americaâ\\x80\\x94requires so much more than words. It requires the most elusive of all things in a democracy: unity. Unity.\\n\\nIn another January on New Year\\'s Day in 1863, Abraham Lincoln signed the Emancipation Proclamation. When he put pen to paper, the President said, and I quote, \"If my name ever goes down into history it will be for this act, and my whole soul is in it.\" My whole soul is in it.\\n\\nToday, on this January day, my whole soul is in this: bringing America together, uniting our people, uniting our Nation. And I ask every American to join me in this cause: uniting to fight the foes we face: anger, resentment, and hatred; extremism, lawlessness, violence; disease, joblessness, and hopelessness.\\n\\nWith unity we can do great things, important things. We can right wrongs. We can put people to work in good jobs. We can teach our children in safe schools. We can overcome the deadly virus. We can reward work and rebuild the middle class and make health care secure for all. We can deliver racial justice, and we can make America, once again, the leading force for good in the world.\\n\\nI know speaking of unity can sound to some like a foolish fantasy these days. I know the forces that divide us are deep and they are real. But I also know they are not new. Our history has been a constant struggle between the American ideal that we all are created equal and the harsh, ugly reality that racism, nativism, fear, demonization have long torn us apart. The battle is perennial. And victory is never assured.\\n\\nThrough the Civil War, the Great Depression, World War, 9/11, through struggle, sacrifice, and setbacks, our \"better angels\" have always prevailed. In each of these moments, enough of usâ\\x80\\x94enough of usâ\\x80\\x94have come together to carry all of us forward. And we can do that now. History, faith, and reason show the way: the way of unity.\\n\\nWe can see each other not as adversaries, but as neighbors. We can treat each other with dignity and respect. We can join forces, stop the shouting, and lower the temperature. For without unity, there is no peace, only bitterness and fury. No progress, only exhausting outrage. No nation, only a state of chaos.\\n\\nThis is our historic moment of crisis and challenge, and unity is the path forward. And we must meet this moment as the United States of America. If we do that, I guarantee you, we will not fail. We have never, ever, ever, ever failed in America when we have acted together.\\n\\nAnd so today, at this time, in this place, let\\'s start afresh, all of us. Let\\'s begin to listen to one another, hear one another, see one another, show respect to one another. Politics doesn\\'t have to be a raging fire destroying everything in its path. Every disagreement doesn\\'t have to be a cause for total war. And we must reject the culture in which facts themselves are manipulated and even manufactured.\\n\\nMy fellow Americans, we have to be different than this. America has to be better than this. And I believe America is so much better than this.\\n\\nJust look around. Here we stand, in the shadow of the Capitol dome, as was mentioned earlier, completed amid the Civil War, when the Union itself was literally hanging in the balance. Yet we endured, we prevailed.\\n\\nHere we stand looking out on the great Mall where Dr. King spoke of his dream.\\n\\nHere we stand, where 108 years ago, at another Inaugural, thousands of protesters tried to block brave women marching for the right to vote. And today we mark the swearing-in of the first woman in American history elected to national office: Vice President Kamala Harris. Don\\'t tell me things can\\'t change.\\n\\nHere we stand across the Potomac from Arlington Cemetery, where heroes who gave the last full measure of devotion rest in eternal peace.\\n\\nAnd here we stand, just days after a riotous mob thought they could use violence to silence the will of the people, to stop the work of our democracy, to drive us from this sacred ground. It did not happen. It will never happen, not today, not tomorrow, not everâ\\x80\\x94not ever.\\n\\nTo all those who supported our campaign, I am humbled by the faith you\\'ve placed in us. To all those who did not support us, let me say this: Hear me out as we move forward. Take a measure of me and my heart. And if you still disagree, so be it. That\\'s democracy. That\\'s America. The right to dissent peaceably, within the guardrails of our Republic, is perhaps this Nation\\'s greatest strength. Yet hear me clearly: Disagreement must not lead to disunion. And I pledge this to you: I will be a President for all Americansâ\\x80\\x94all Americans. And I promise you, I will fight as hard for those who did not support me as for those who did.\\n\\nMany centuries ago, Saint Augustine, a saint of my church, wrote that a people was a multitude defined by the common objects of their loveâ\\x80\\x94defined by the common objects of their love. What are the common objects we as Americans love? That define us as Americans? I think we know: opportunity, security, liberty, dignity, respect, honor, and yes, the truth.\\n\\nRecent weeks and months have taught us a painful lesson. There is truth, and there are lies: lies told for power and for profit. And each of us has a duty and a responsibility, as citizens, as Americans, and especially as leadersâ\\x80\\x94leaders who have pledged to honor our Constitution and protect our Nationâ\\x80\\x94to defend the truth and defeat the lies.\\n\\nLook, I understand that many of my fellow Americans view the future with fear and trepidation. I understand they worry about their jobs. I understand, like my dad, they lay at bed at night staring at the ceiling, wondering: \"Can I keep my health care? Can I pay my mortgage?\" Thinking about their families, about what comes next. I promise you, I get it. But the answer is not to turn inward, to retreat into competing factions, distrusting those who don\\'t look like you or worship the way you do or don\\'t get their news from the same sources you do. We must end this uncivil war that pits red against blue, rural versus urban, conservative versus liberal. We can do this if we open our souls instead of hardening our hearts, if we show a little tolerance and humility, and if we\\'re willing to stand in the other person\\'s shoes, as my mom would say, just for a moment. Stand in their shoes.\\n\\nBecause here is the thing about life: There is no accounting for what fate will deal you. Some days when you need a hand. There are other days when we\\'re called to lend a hand. That\\'s how it has to be. That is what we do for one another. And if we are this way, our country will be stronger, more prosperous, more ready for the future. And we can still disagree.\\n\\nMy fellow Americans, in the work ahead of us, we\\'re going to need each other. We need all our strength to persevere through this dark winter. We\\'re entering what may be the toughest and deadliest period of the virus. We must set aside politics and finally face this pandemic as one Nation. One Nation. And I promise you this: As the Bible says, \"Weeping may endure for a night, but joy cometh in the morning.\" We will get through this, togetherâ\\x80\\x94together.\\n\\nLook, folks, all my colleagues that I served with in the House and the Senate up here. We all understand the world is watching, watching all of us today. So here is my message to those beyond our borders: America has been tested, and we have come out stronger for it. We will repair our alliances and engage with the world once again, not to meet yesterday\\'s challenges, but today\\'s and tomorrow\\'s challenges. And we\\'ll lead not merely by the example of our power, but by the power of our example. We will be a strong and trusted partner for peace, progress, and security.\\n\\nLook, you all know, we have been through so much in this Nation. And, in my first act as President, I\\'d like to ask you to join me in a moment of silent prayer to remember all those we lost this past year to the pandemic, those 400,000 fellow Americans: moms, dads, husbands, wives, sons, daughters, friends, neighbors, and coworkers. We will honor them by becoming the people and Nation we know we can and should be.\\n\\nSo I ask you, let\\'s say a silent prayer for those who have lost their lives, for those they left behind, and for our country.\\n\\n[At this point, a moment of silence was observed.]\\n\\nAmen.\\n\\nFolks, this is a time of testing. We face an attack on our democracy and on truth, a raging virus, growing inequity, the sting of systemic racism, a climate in crisis, America\\'s role in the world. Any one of these would be enough to challenge us in profound ways. But the fact is, we face them all at once, presenting this Nation with one of the gravest of responsibilities we\\'ve had.\\n\\nNow we\\'re going to be tested. Are we going to step up? All of us? It is time for boldness, for there is so much to do. And this is certain, I promise you: We will be judged, you and I, by how we resolve these cascading crises of our era. Will we rise to the occasion, is the question. Will we master this rare and difficult hour? Will we meet our obligations and pass along a new and better world to our children? I believe we must; I\\'m sure you do as well. I believe we will.\\n\\nAnd when we do, we will write the next great chapter in the history of the United States of America: the American story, a story that might sound something like a song that means a lot to me. It\\'s called \"American Anthem,\" and there\\'s one verse that stands out, at least for me, and it goes like this:\\n\\n\"The work and prayers of centuries have brought us to this day\\nWhat shall be our legacy? What will our children say? . . .\\nLet me know in my heart when my days are through\\nAmerica, America, I gave my best to you.\"\\n\\nLet\\'s addâ\\x80\\x94let\\'s us add our own work and prayers to the unfolding story of our great Nation. If we do this, then when our days are through, our children and our children\\'s children will say of us: \"They gave their best. They did their duty. They healed a broken land.\"\\n\\nMy fellow Americans, I close today where I began, with a sacred oath. Before God and all of you I give you my word: I will always level with you. I will defend the Constitution. I will defend our democracy. I will defend America. And I will give all, all of you, keep everything youâ\\x80\\x94I do, in your service, thinking not of power, but of possibilities; not of personal interest, but of the public good. And together, we shall write an American story of hope, not fear; of unity, not division; of light, not darkness. A story of decency and dignity, love and healing, greatness and goodness.\\n\\nMay this be the story that guides us, the story that inspires us, and the story that tells ages yet to come that we answered the call of history, we met the moment; democracy and hope, truth and justice, did not die on our watch, but thrived; that America secured liberty at home and stood once again as a beacon to the world. That is what we owe our forebearers, one another, and generations to follow.\\n\\nSo with purpose and resolve we turn to those tasks of our time, sustained by faith, driven by conviction, and devoted to one another and the country we love with all our hearts.\\n\\nMay God bless America, and may God protect our troops. Thank you, America.\\n'"
            ],
            "application/vnd.google.colaboratory.intrinsic+json": {
              "type": "string"
            }
          },
          "metadata": {},
          "execution_count": 10
        }
      ]
    },
    {
      "cell_type": "markdown",
      "source": [
        "### Tabularize the dataset"
      ],
      "metadata": {
        "id": "Ns7tXpwFAaBg"
      }
    },
    {
      "cell_type": "code",
      "source": [
        "years = [id[:4] for id in file_ids]\n",
        "presidents = [id[5:].replace(\".txt\", \"\") for id in file_ids]\n",
        "texts = [inaugural.raw(id) for id in file_ids]\n",
        "df = pd.DataFrame(\n",
        "    {\n",
        "        \"year\": years,\n",
        "        \"president\": presidents,\n",
        "        \"text\": texts,\n",
        "    }\n",
        ")"
      ],
      "metadata": {
        "id": "sYu4qa23A968"
      },
      "execution_count": null,
      "outputs": []
    },
    {
      "cell_type": "code",
      "source": [
        "df.set_index(\"year\", inplace=True)\n",
        "df.index = df.index.astype(int)\n",
        "df"
      ],
      "metadata": {
        "colab": {
          "base_uri": "https://localhost:8080/",
          "height": 1000
        },
        "id": "Cr4zbqQTsarW",
        "outputId": "1ea6a0b4-e31d-49e7-e127-c5f5bb7fa3b0"
      },
      "execution_count": null,
      "outputs": [
        {
          "output_type": "execute_result",
          "data": {
            "text/plain": [
              "       president                                               text\n",
              "year                                                               \n",
              "1789  Washington  Fellow-Citizens of the Senate and of the House...\n",
              "1793  Washington  Fellow citizens, I am again called upon by the...\n",
              "1797       Adams  When it was first perceived, in early times, t...\n",
              "1801   Jefferson  Friends and Fellow Citizens:\\n\\nCalled upon to...\n",
              "1805   Jefferson  Proceeding, fellow citizens, to that qualifica...\n",
              "1809     Madison  Unwilling to depart from examples of the most ...\n",
              "1813     Madison  About to add the solemnity of an oath to the o...\n",
              "1817      Monroe  I should be destitute of feeling if I was not ...\n",
              "1821      Monroe  Fellow citizens, I shall not attempt to descri...\n",
              "1825       Adams  In compliance with an usage coeval with the ex...\n",
              "1829     Jackson  Fellow citizens, about to undertake the arduou...\n",
              "1833     Jackson  Fellow citizens, the will of the American peop...\n",
              "1837    VanBuren  Fellow citizens: The practice of all my predec...\n",
              "1841    Harrison  Called from a retirement which I had supposed ...\n",
              "1845        Polk  Fellow citizens, without solicitation on my pa...\n",
              "1849      Taylor  Elected by the American people to the highest ...\n",
              "1853      Pierce  My Countrymen, It a relief to feel that no hea...\n",
              "1857    Buchanan  Fellow citizens, I appear before you this day ...\n",
              "1861     Lincoln  Fellow-Citizens of the United States: In compl...\n",
              "1865     Lincoln  Fellow-Countrymen:\\n\\nAt this second appearing...\n",
              "1869       Grant  Citizens of the United States:\\n\\nYour suffrag...\n",
              "1873       Grant  Fellow-Citizens:\\n\\nUnder Providence I have be...\n",
              "1877       Hayes  Fellow citizens, we have assembled to repeat t...\n",
              "1881    Garfield  Fellow-Citizens:\\n\\nWe stand to-day upon an em...\n",
              "1885   Cleveland  Fellow citizens, in the presence of this vast ...\n",
              "1889    Harrison  Fellow-Citizens, there is no constitutional or...\n",
              "1893   Cleveland  My Fellow citizens, in obedience of the mandat...\n",
              "1897    McKinley  Fellow citizens, In obedience to the will of t...\n",
              "1901    McKinley  My fellow-citizens, when we assembled here on ...\n",
              "1905   Roosevelt  My fellow citizens, no people on earth have mo...\n",
              "1909        Taft  My fellow citizens: Anyone who has taken the o...\n",
              "1913      Wilson  There has been a change of government. It bega...\n",
              "1917      Wilson  My Fellow citizens: The four years which have ...\n",
              "1921     Harding  My Countrymen:\\n\\nWhen one surveys the world a...\n",
              "1925    Coolidge  My countrymen,\\n\\nno one can contemplate curre...\n",
              "1929      Hoover  My Countrymen: This occasion is not alone the ...\n",
              "1933   Roosevelt  I am certain that my fellow Americans expect t...\n",
              "1937   Roosevelt  When four years ago we met to inaugurate a Pre...\n",
              "1941   Roosevelt  On each national day of inauguration since 178...\n",
              "1945   Roosevelt  Chief Justice, Mr. Vice President, my friends,...\n",
              "1949      Truman  Mr. Vice President, Mr. Chief Justice, and fel...\n",
              "1953  Eisenhower  My friends, before I begin the expression of t...\n",
              "1957  Eisenhower  The Price of Peace\\nMr. Chairman, Mr. Vice Pre...\n",
              "1961     Kennedy  Vice President Johnson, Mr. Speaker, Mr. Chief...\n",
              "1965     Johnson  My fellow countrymen, on this occasion, the oa...\n",
              "1969       Nixon  Senator Dirksen, Mr. Chief Justice, Mr. Vice P...\n",
              "1973       Nixon  Mr. Vice President, Mr. Speaker, Mr. Chief Jus...\n",
              "1977      Carter  For myself and for our Nation, I want to thank...\n",
              "1981      Reagan  Senator Hatfield, Mr. Chief Justice, Mr. Presi...\n",
              "1985      Reagan  Senator Mathias, Chief Justice Burger, Vice Pr...\n",
              "1989        Bush  Mr. Chief Justice, Mr. President, Vice Preside...\n",
              "1993     Clinton  My fellow citizens, today we celebrate the mys...\n",
              "1997     Clinton  My fellow citizens: At this last presidential ...\n",
              "2001        Bush  President Clinton, distinguished guests and my...\n",
              "2005        Bush  Vice President Cheney, Mr. Chief Justice, Pres...\n",
              "2009       Obama  My fellow citizens:\\n\\nI stand here today humb...\n",
              "2013       Obama  Thank you. Thank you so much.\\n\\nVice Presiden...\n",
              "2017       Trump  Chief Justice Roberts, President Carter, Presi...\n",
              "2021       Biden  Chief Justice Roberts, Vice President Harris, ..."
            ],
            "text/html": [
              "\n",
              "  <div id=\"df-8d7d8884-c4f5-4eaa-a395-4380c03aadf7\">\n",
              "    <div class=\"colab-df-container\">\n",
              "      <div>\n",
              "<style scoped>\n",
              "    .dataframe tbody tr th:only-of-type {\n",
              "        vertical-align: middle;\n",
              "    }\n",
              "\n",
              "    .dataframe tbody tr th {\n",
              "        vertical-align: top;\n",
              "    }\n",
              "\n",
              "    .dataframe thead th {\n",
              "        text-align: right;\n",
              "    }\n",
              "</style>\n",
              "<table border=\"1\" class=\"dataframe\">\n",
              "  <thead>\n",
              "    <tr style=\"text-align: right;\">\n",
              "      <th></th>\n",
              "      <th>president</th>\n",
              "      <th>text</th>\n",
              "    </tr>\n",
              "    <tr>\n",
              "      <th>year</th>\n",
              "      <th></th>\n",
              "      <th></th>\n",
              "    </tr>\n",
              "  </thead>\n",
              "  <tbody>\n",
              "    <tr>\n",
              "      <th>1789</th>\n",
              "      <td>Washington</td>\n",
              "      <td>Fellow-Citizens of the Senate and of the House...</td>\n",
              "    </tr>\n",
              "    <tr>\n",
              "      <th>1793</th>\n",
              "      <td>Washington</td>\n",
              "      <td>Fellow citizens, I am again called upon by the...</td>\n",
              "    </tr>\n",
              "    <tr>\n",
              "      <th>1797</th>\n",
              "      <td>Adams</td>\n",
              "      <td>When it was first perceived, in early times, t...</td>\n",
              "    </tr>\n",
              "    <tr>\n",
              "      <th>1801</th>\n",
              "      <td>Jefferson</td>\n",
              "      <td>Friends and Fellow Citizens:\\n\\nCalled upon to...</td>\n",
              "    </tr>\n",
              "    <tr>\n",
              "      <th>1805</th>\n",
              "      <td>Jefferson</td>\n",
              "      <td>Proceeding, fellow citizens, to that qualifica...</td>\n",
              "    </tr>\n",
              "    <tr>\n",
              "      <th>1809</th>\n",
              "      <td>Madison</td>\n",
              "      <td>Unwilling to depart from examples of the most ...</td>\n",
              "    </tr>\n",
              "    <tr>\n",
              "      <th>1813</th>\n",
              "      <td>Madison</td>\n",
              "      <td>About to add the solemnity of an oath to the o...</td>\n",
              "    </tr>\n",
              "    <tr>\n",
              "      <th>1817</th>\n",
              "      <td>Monroe</td>\n",
              "      <td>I should be destitute of feeling if I was not ...</td>\n",
              "    </tr>\n",
              "    <tr>\n",
              "      <th>1821</th>\n",
              "      <td>Monroe</td>\n",
              "      <td>Fellow citizens, I shall not attempt to descri...</td>\n",
              "    </tr>\n",
              "    <tr>\n",
              "      <th>1825</th>\n",
              "      <td>Adams</td>\n",
              "      <td>In compliance with an usage coeval with the ex...</td>\n",
              "    </tr>\n",
              "    <tr>\n",
              "      <th>1829</th>\n",
              "      <td>Jackson</td>\n",
              "      <td>Fellow citizens, about to undertake the arduou...</td>\n",
              "    </tr>\n",
              "    <tr>\n",
              "      <th>1833</th>\n",
              "      <td>Jackson</td>\n",
              "      <td>Fellow citizens, the will of the American peop...</td>\n",
              "    </tr>\n",
              "    <tr>\n",
              "      <th>1837</th>\n",
              "      <td>VanBuren</td>\n",
              "      <td>Fellow citizens: The practice of all my predec...</td>\n",
              "    </tr>\n",
              "    <tr>\n",
              "      <th>1841</th>\n",
              "      <td>Harrison</td>\n",
              "      <td>Called from a retirement which I had supposed ...</td>\n",
              "    </tr>\n",
              "    <tr>\n",
              "      <th>1845</th>\n",
              "      <td>Polk</td>\n",
              "      <td>Fellow citizens, without solicitation on my pa...</td>\n",
              "    </tr>\n",
              "    <tr>\n",
              "      <th>1849</th>\n",
              "      <td>Taylor</td>\n",
              "      <td>Elected by the American people to the highest ...</td>\n",
              "    </tr>\n",
              "    <tr>\n",
              "      <th>1853</th>\n",
              "      <td>Pierce</td>\n",
              "      <td>My Countrymen, It a relief to feel that no hea...</td>\n",
              "    </tr>\n",
              "    <tr>\n",
              "      <th>1857</th>\n",
              "      <td>Buchanan</td>\n",
              "      <td>Fellow citizens, I appear before you this day ...</td>\n",
              "    </tr>\n",
              "    <tr>\n",
              "      <th>1861</th>\n",
              "      <td>Lincoln</td>\n",
              "      <td>Fellow-Citizens of the United States: In compl...</td>\n",
              "    </tr>\n",
              "    <tr>\n",
              "      <th>1865</th>\n",
              "      <td>Lincoln</td>\n",
              "      <td>Fellow-Countrymen:\\n\\nAt this second appearing...</td>\n",
              "    </tr>\n",
              "    <tr>\n",
              "      <th>1869</th>\n",
              "      <td>Grant</td>\n",
              "      <td>Citizens of the United States:\\n\\nYour suffrag...</td>\n",
              "    </tr>\n",
              "    <tr>\n",
              "      <th>1873</th>\n",
              "      <td>Grant</td>\n",
              "      <td>Fellow-Citizens:\\n\\nUnder Providence I have be...</td>\n",
              "    </tr>\n",
              "    <tr>\n",
              "      <th>1877</th>\n",
              "      <td>Hayes</td>\n",
              "      <td>Fellow citizens, we have assembled to repeat t...</td>\n",
              "    </tr>\n",
              "    <tr>\n",
              "      <th>1881</th>\n",
              "      <td>Garfield</td>\n",
              "      <td>Fellow-Citizens:\\n\\nWe stand to-day upon an em...</td>\n",
              "    </tr>\n",
              "    <tr>\n",
              "      <th>1885</th>\n",
              "      <td>Cleveland</td>\n",
              "      <td>Fellow citizens, in the presence of this vast ...</td>\n",
              "    </tr>\n",
              "    <tr>\n",
              "      <th>1889</th>\n",
              "      <td>Harrison</td>\n",
              "      <td>Fellow-Citizens, there is no constitutional or...</td>\n",
              "    </tr>\n",
              "    <tr>\n",
              "      <th>1893</th>\n",
              "      <td>Cleveland</td>\n",
              "      <td>My Fellow citizens, in obedience of the mandat...</td>\n",
              "    </tr>\n",
              "    <tr>\n",
              "      <th>1897</th>\n",
              "      <td>McKinley</td>\n",
              "      <td>Fellow citizens, In obedience to the will of t...</td>\n",
              "    </tr>\n",
              "    <tr>\n",
              "      <th>1901</th>\n",
              "      <td>McKinley</td>\n",
              "      <td>My fellow-citizens, when we assembled here on ...</td>\n",
              "    </tr>\n",
              "    <tr>\n",
              "      <th>1905</th>\n",
              "      <td>Roosevelt</td>\n",
              "      <td>My fellow citizens, no people on earth have mo...</td>\n",
              "    </tr>\n",
              "    <tr>\n",
              "      <th>1909</th>\n",
              "      <td>Taft</td>\n",
              "      <td>My fellow citizens: Anyone who has taken the o...</td>\n",
              "    </tr>\n",
              "    <tr>\n",
              "      <th>1913</th>\n",
              "      <td>Wilson</td>\n",
              "      <td>There has been a change of government. It bega...</td>\n",
              "    </tr>\n",
              "    <tr>\n",
              "      <th>1917</th>\n",
              "      <td>Wilson</td>\n",
              "      <td>My Fellow citizens: The four years which have ...</td>\n",
              "    </tr>\n",
              "    <tr>\n",
              "      <th>1921</th>\n",
              "      <td>Harding</td>\n",
              "      <td>My Countrymen:\\n\\nWhen one surveys the world a...</td>\n",
              "    </tr>\n",
              "    <tr>\n",
              "      <th>1925</th>\n",
              "      <td>Coolidge</td>\n",
              "      <td>My countrymen,\\n\\nno one can contemplate curre...</td>\n",
              "    </tr>\n",
              "    <tr>\n",
              "      <th>1929</th>\n",
              "      <td>Hoover</td>\n",
              "      <td>My Countrymen: This occasion is not alone the ...</td>\n",
              "    </tr>\n",
              "    <tr>\n",
              "      <th>1933</th>\n",
              "      <td>Roosevelt</td>\n",
              "      <td>I am certain that my fellow Americans expect t...</td>\n",
              "    </tr>\n",
              "    <tr>\n",
              "      <th>1937</th>\n",
              "      <td>Roosevelt</td>\n",
              "      <td>When four years ago we met to inaugurate a Pre...</td>\n",
              "    </tr>\n",
              "    <tr>\n",
              "      <th>1941</th>\n",
              "      <td>Roosevelt</td>\n",
              "      <td>On each national day of inauguration since 178...</td>\n",
              "    </tr>\n",
              "    <tr>\n",
              "      <th>1945</th>\n",
              "      <td>Roosevelt</td>\n",
              "      <td>Chief Justice, Mr. Vice President, my friends,...</td>\n",
              "    </tr>\n",
              "    <tr>\n",
              "      <th>1949</th>\n",
              "      <td>Truman</td>\n",
              "      <td>Mr. Vice President, Mr. Chief Justice, and fel...</td>\n",
              "    </tr>\n",
              "    <tr>\n",
              "      <th>1953</th>\n",
              "      <td>Eisenhower</td>\n",
              "      <td>My friends, before I begin the expression of t...</td>\n",
              "    </tr>\n",
              "    <tr>\n",
              "      <th>1957</th>\n",
              "      <td>Eisenhower</td>\n",
              "      <td>The Price of Peace\\nMr. Chairman, Mr. Vice Pre...</td>\n",
              "    </tr>\n",
              "    <tr>\n",
              "      <th>1961</th>\n",
              "      <td>Kennedy</td>\n",
              "      <td>Vice President Johnson, Mr. Speaker, Mr. Chief...</td>\n",
              "    </tr>\n",
              "    <tr>\n",
              "      <th>1965</th>\n",
              "      <td>Johnson</td>\n",
              "      <td>My fellow countrymen, on this occasion, the oa...</td>\n",
              "    </tr>\n",
              "    <tr>\n",
              "      <th>1969</th>\n",
              "      <td>Nixon</td>\n",
              "      <td>Senator Dirksen, Mr. Chief Justice, Mr. Vice P...</td>\n",
              "    </tr>\n",
              "    <tr>\n",
              "      <th>1973</th>\n",
              "      <td>Nixon</td>\n",
              "      <td>Mr. Vice President, Mr. Speaker, Mr. Chief Jus...</td>\n",
              "    </tr>\n",
              "    <tr>\n",
              "      <th>1977</th>\n",
              "      <td>Carter</td>\n",
              "      <td>For myself and for our Nation, I want to thank...</td>\n",
              "    </tr>\n",
              "    <tr>\n",
              "      <th>1981</th>\n",
              "      <td>Reagan</td>\n",
              "      <td>Senator Hatfield, Mr. Chief Justice, Mr. Presi...</td>\n",
              "    </tr>\n",
              "    <tr>\n",
              "      <th>1985</th>\n",
              "      <td>Reagan</td>\n",
              "      <td>Senator Mathias, Chief Justice Burger, Vice Pr...</td>\n",
              "    </tr>\n",
              "    <tr>\n",
              "      <th>1989</th>\n",
              "      <td>Bush</td>\n",
              "      <td>Mr. Chief Justice, Mr. President, Vice Preside...</td>\n",
              "    </tr>\n",
              "    <tr>\n",
              "      <th>1993</th>\n",
              "      <td>Clinton</td>\n",
              "      <td>My fellow citizens, today we celebrate the mys...</td>\n",
              "    </tr>\n",
              "    <tr>\n",
              "      <th>1997</th>\n",
              "      <td>Clinton</td>\n",
              "      <td>My fellow citizens: At this last presidential ...</td>\n",
              "    </tr>\n",
              "    <tr>\n",
              "      <th>2001</th>\n",
              "      <td>Bush</td>\n",
              "      <td>President Clinton, distinguished guests and my...</td>\n",
              "    </tr>\n",
              "    <tr>\n",
              "      <th>2005</th>\n",
              "      <td>Bush</td>\n",
              "      <td>Vice President Cheney, Mr. Chief Justice, Pres...</td>\n",
              "    </tr>\n",
              "    <tr>\n",
              "      <th>2009</th>\n",
              "      <td>Obama</td>\n",
              "      <td>My fellow citizens:\\n\\nI stand here today humb...</td>\n",
              "    </tr>\n",
              "    <tr>\n",
              "      <th>2013</th>\n",
              "      <td>Obama</td>\n",
              "      <td>Thank you. Thank you so much.\\n\\nVice Presiden...</td>\n",
              "    </tr>\n",
              "    <tr>\n",
              "      <th>2017</th>\n",
              "      <td>Trump</td>\n",
              "      <td>Chief Justice Roberts, President Carter, Presi...</td>\n",
              "    </tr>\n",
              "    <tr>\n",
              "      <th>2021</th>\n",
              "      <td>Biden</td>\n",
              "      <td>Chief Justice Roberts, Vice President Harris, ...</td>\n",
              "    </tr>\n",
              "  </tbody>\n",
              "</table>\n",
              "</div>\n",
              "      <button class=\"colab-df-convert\" onclick=\"convertToInteractive('df-8d7d8884-c4f5-4eaa-a395-4380c03aadf7')\"\n",
              "              title=\"Convert this dataframe to an interactive table.\"\n",
              "              style=\"display:none;\">\n",
              "        \n",
              "  <svg xmlns=\"http://www.w3.org/2000/svg\" height=\"24px\"viewBox=\"0 0 24 24\"\n",
              "       width=\"24px\">\n",
              "    <path d=\"M0 0h24v24H0V0z\" fill=\"none\"/>\n",
              "    <path d=\"M18.56 5.44l.94 2.06.94-2.06 2.06-.94-2.06-.94-.94-2.06-.94 2.06-2.06.94zm-11 1L8.5 8.5l.94-2.06 2.06-.94-2.06-.94L8.5 2.5l-.94 2.06-2.06.94zm10 10l.94 2.06.94-2.06 2.06-.94-2.06-.94-.94-2.06-.94 2.06-2.06.94z\"/><path d=\"M17.41 7.96l-1.37-1.37c-.4-.4-.92-.59-1.43-.59-.52 0-1.04.2-1.43.59L10.3 9.45l-7.72 7.72c-.78.78-.78 2.05 0 2.83L4 21.41c.39.39.9.59 1.41.59.51 0 1.02-.2 1.41-.59l7.78-7.78 2.81-2.81c.8-.78.8-2.07 0-2.86zM5.41 20L4 18.59l7.72-7.72 1.47 1.35L5.41 20z\"/>\n",
              "  </svg>\n",
              "      </button>\n",
              "      \n",
              "  <style>\n",
              "    .colab-df-container {\n",
              "      display:flex;\n",
              "      flex-wrap:wrap;\n",
              "      gap: 12px;\n",
              "    }\n",
              "\n",
              "    .colab-df-convert {\n",
              "      background-color: #E8F0FE;\n",
              "      border: none;\n",
              "      border-radius: 50%;\n",
              "      cursor: pointer;\n",
              "      display: none;\n",
              "      fill: #1967D2;\n",
              "      height: 32px;\n",
              "      padding: 0 0 0 0;\n",
              "      width: 32px;\n",
              "    }\n",
              "\n",
              "    .colab-df-convert:hover {\n",
              "      background-color: #E2EBFA;\n",
              "      box-shadow: 0px 1px 2px rgba(60, 64, 67, 0.3), 0px 1px 3px 1px rgba(60, 64, 67, 0.15);\n",
              "      fill: #174EA6;\n",
              "    }\n",
              "\n",
              "    [theme=dark] .colab-df-convert {\n",
              "      background-color: #3B4455;\n",
              "      fill: #D2E3FC;\n",
              "    }\n",
              "\n",
              "    [theme=dark] .colab-df-convert:hover {\n",
              "      background-color: #434B5C;\n",
              "      box-shadow: 0px 1px 3px 1px rgba(0, 0, 0, 0.15);\n",
              "      filter: drop-shadow(0px 1px 2px rgba(0, 0, 0, 0.3));\n",
              "      fill: #FFFFFF;\n",
              "    }\n",
              "  </style>\n",
              "\n",
              "      <script>\n",
              "        const buttonEl =\n",
              "          document.querySelector('#df-8d7d8884-c4f5-4eaa-a395-4380c03aadf7 button.colab-df-convert');\n",
              "        buttonEl.style.display =\n",
              "          google.colab.kernel.accessAllowed ? 'block' : 'none';\n",
              "\n",
              "        async function convertToInteractive(key) {\n",
              "          const element = document.querySelector('#df-8d7d8884-c4f5-4eaa-a395-4380c03aadf7');\n",
              "          const dataTable =\n",
              "            await google.colab.kernel.invokeFunction('convertToInteractive',\n",
              "                                                     [key], {});\n",
              "          if (!dataTable) return;\n",
              "\n",
              "          const docLinkHtml = 'Like what you see? Visit the ' +\n",
              "            '<a target=\"_blank\" href=https://colab.research.google.com/notebooks/data_table.ipynb>data table notebook</a>'\n",
              "            + ' to learn more about interactive tables.';\n",
              "          element.innerHTML = '';\n",
              "          dataTable['output_type'] = 'display_data';\n",
              "          await google.colab.output.renderOutput(dataTable, element);\n",
              "          const docLink = document.createElement('div');\n",
              "          docLink.innerHTML = docLinkHtml;\n",
              "          element.appendChild(docLink);\n",
              "        }\n",
              "      </script>\n",
              "    </div>\n",
              "  </div>\n",
              "  "
            ]
          },
          "metadata": {},
          "execution_count": 12
        }
      ]
    },
    {
      "cell_type": "code",
      "source": [
        "df.text.apply(len).plot()"
      ],
      "metadata": {
        "colab": {
          "base_uri": "https://localhost:8080/",
          "height": 542
        },
        "id": "715b2NpCAzCd",
        "outputId": "9e268d8c-c613-4d33-d7a0-436ba1b75a1e"
      },
      "execution_count": null,
      "outputs": [
        {
          "output_type": "display_data",
          "data": {
            "text/html": [
              "<html>\n",
              "<head><meta charset=\"utf-8\" /></head>\n",
              "<body>\n",
              "    <div>            <script src=\"https://cdnjs.cloudflare.com/ajax/libs/mathjax/2.7.5/MathJax.js?config=TeX-AMS-MML_SVG\"></script><script type=\"text/javascript\">if (window.MathJax) {MathJax.Hub.Config({SVG: {font: \"STIX-Web\"}});}</script>                <script type=\"text/javascript\">window.PlotlyConfig = {MathJaxConfig: 'local'};</script>\n",
              "        <script src=\"https://cdn.plot.ly/plotly-2.8.3.min.js\"></script>                <div id=\"da80bbdd-1c0b-45f2-8186-3091ca057a02\" class=\"plotly-graph-div\" style=\"height:525px; width:100%;\"></div>            <script type=\"text/javascript\">                                    window.PLOTLYENV=window.PLOTLYENV || {};                                    if (document.getElementById(\"da80bbdd-1c0b-45f2-8186-3091ca057a02\")) {                    Plotly.newPlot(                        \"da80bbdd-1c0b-45f2-8186-3091ca057a02\",                        [{\"hovertemplate\":\"variable=text<br>year=%{x}<br>value=%{y}<extra></extra>\",\"legendgroup\":\"text\",\"line\":{\"color\":\"#636efa\",\"dash\":\"solid\"},\"marker\":{\"symbol\":\"circle\"},\"mode\":\"lines\",\"name\":\"text\",\"orientation\":\"v\",\"showlegend\":true,\"x\":[1789,1793,1797,1801,1805,1809,1813,1817,1821,1825,1829,1833,1837,1841,1845,1849,1853,1857,1861,1865,1869,1873,1877,1881,1885,1889,1893,1897,1901,1905,1909,1913,1917,1921,1925,1929,1933,1937,1941,1945,1949,1953,1957,1961,1965,1969,1973,1977,1981,1985,1989,1993,1997,2001,2005,2009,2013,2017,2021],\"xaxis\":\"x\",\"y\":[8619,791,13877,10137,12908,7001,7157,19887,26326,17741,6817,7058,23417,49700,28716,6605,20081,16815,21017,3926,6503,7734,14938,17767,10145,26179,12349,23659,13408,5568,32164,9563,8395,20298,23949,21764,10903,10607,7571,3039,13679,13955,9190,7618,8193,11624,9991,6873,13735,14561,12523,9114,12250,9053,12018,13439,11949,8449,13963],\"yaxis\":\"y\",\"type\":\"scatter\"}],                        {\"template\":{\"data\":{\"bar\":[{\"error_x\":{\"color\":\"#2a3f5f\"},\"error_y\":{\"color\":\"#2a3f5f\"},\"marker\":{\"line\":{\"color\":\"#E5ECF6\",\"width\":0.5},\"pattern\":{\"fillmode\":\"overlay\",\"size\":10,\"solidity\":0.2}},\"type\":\"bar\"}],\"barpolar\":[{\"marker\":{\"line\":{\"color\":\"#E5ECF6\",\"width\":0.5},\"pattern\":{\"fillmode\":\"overlay\",\"size\":10,\"solidity\":0.2}},\"type\":\"barpolar\"}],\"carpet\":[{\"aaxis\":{\"endlinecolor\":\"#2a3f5f\",\"gridcolor\":\"white\",\"linecolor\":\"white\",\"minorgridcolor\":\"white\",\"startlinecolor\":\"#2a3f5f\"},\"baxis\":{\"endlinecolor\":\"#2a3f5f\",\"gridcolor\":\"white\",\"linecolor\":\"white\",\"minorgridcolor\":\"white\",\"startlinecolor\":\"#2a3f5f\"},\"type\":\"carpet\"}],\"choropleth\":[{\"colorbar\":{\"outlinewidth\":0,\"ticks\":\"\"},\"type\":\"choropleth\"}],\"contour\":[{\"colorbar\":{\"outlinewidth\":0,\"ticks\":\"\"},\"colorscale\":[[0.0,\"#0d0887\"],[0.1111111111111111,\"#46039f\"],[0.2222222222222222,\"#7201a8\"],[0.3333333333333333,\"#9c179e\"],[0.4444444444444444,\"#bd3786\"],[0.5555555555555556,\"#d8576b\"],[0.6666666666666666,\"#ed7953\"],[0.7777777777777778,\"#fb9f3a\"],[0.8888888888888888,\"#fdca26\"],[1.0,\"#f0f921\"]],\"type\":\"contour\"}],\"contourcarpet\":[{\"colorbar\":{\"outlinewidth\":0,\"ticks\":\"\"},\"type\":\"contourcarpet\"}],\"heatmap\":[{\"colorbar\":{\"outlinewidth\":0,\"ticks\":\"\"},\"colorscale\":[[0.0,\"#0d0887\"],[0.1111111111111111,\"#46039f\"],[0.2222222222222222,\"#7201a8\"],[0.3333333333333333,\"#9c179e\"],[0.4444444444444444,\"#bd3786\"],[0.5555555555555556,\"#d8576b\"],[0.6666666666666666,\"#ed7953\"],[0.7777777777777778,\"#fb9f3a\"],[0.8888888888888888,\"#fdca26\"],[1.0,\"#f0f921\"]],\"type\":\"heatmap\"}],\"heatmapgl\":[{\"colorbar\":{\"outlinewidth\":0,\"ticks\":\"\"},\"colorscale\":[[0.0,\"#0d0887\"],[0.1111111111111111,\"#46039f\"],[0.2222222222222222,\"#7201a8\"],[0.3333333333333333,\"#9c179e\"],[0.4444444444444444,\"#bd3786\"],[0.5555555555555556,\"#d8576b\"],[0.6666666666666666,\"#ed7953\"],[0.7777777777777778,\"#fb9f3a\"],[0.8888888888888888,\"#fdca26\"],[1.0,\"#f0f921\"]],\"type\":\"heatmapgl\"}],\"histogram\":[{\"marker\":{\"pattern\":{\"fillmode\":\"overlay\",\"size\":10,\"solidity\":0.2}},\"type\":\"histogram\"}],\"histogram2d\":[{\"colorbar\":{\"outlinewidth\":0,\"ticks\":\"\"},\"colorscale\":[[0.0,\"#0d0887\"],[0.1111111111111111,\"#46039f\"],[0.2222222222222222,\"#7201a8\"],[0.3333333333333333,\"#9c179e\"],[0.4444444444444444,\"#bd3786\"],[0.5555555555555556,\"#d8576b\"],[0.6666666666666666,\"#ed7953\"],[0.7777777777777778,\"#fb9f3a\"],[0.8888888888888888,\"#fdca26\"],[1.0,\"#f0f921\"]],\"type\":\"histogram2d\"}],\"histogram2dcontour\":[{\"colorbar\":{\"outlinewidth\":0,\"ticks\":\"\"},\"colorscale\":[[0.0,\"#0d0887\"],[0.1111111111111111,\"#46039f\"],[0.2222222222222222,\"#7201a8\"],[0.3333333333333333,\"#9c179e\"],[0.4444444444444444,\"#bd3786\"],[0.5555555555555556,\"#d8576b\"],[0.6666666666666666,\"#ed7953\"],[0.7777777777777778,\"#fb9f3a\"],[0.8888888888888888,\"#fdca26\"],[1.0,\"#f0f921\"]],\"type\":\"histogram2dcontour\"}],\"mesh3d\":[{\"colorbar\":{\"outlinewidth\":0,\"ticks\":\"\"},\"type\":\"mesh3d\"}],\"parcoords\":[{\"line\":{\"colorbar\":{\"outlinewidth\":0,\"ticks\":\"\"}},\"type\":\"parcoords\"}],\"pie\":[{\"automargin\":true,\"type\":\"pie\"}],\"scatter\":[{\"marker\":{\"colorbar\":{\"outlinewidth\":0,\"ticks\":\"\"}},\"type\":\"scatter\"}],\"scatter3d\":[{\"line\":{\"colorbar\":{\"outlinewidth\":0,\"ticks\":\"\"}},\"marker\":{\"colorbar\":{\"outlinewidth\":0,\"ticks\":\"\"}},\"type\":\"scatter3d\"}],\"scattercarpet\":[{\"marker\":{\"colorbar\":{\"outlinewidth\":0,\"ticks\":\"\"}},\"type\":\"scattercarpet\"}],\"scattergeo\":[{\"marker\":{\"colorbar\":{\"outlinewidth\":0,\"ticks\":\"\"}},\"type\":\"scattergeo\"}],\"scattergl\":[{\"marker\":{\"colorbar\":{\"outlinewidth\":0,\"ticks\":\"\"}},\"type\":\"scattergl\"}],\"scattermapbox\":[{\"marker\":{\"colorbar\":{\"outlinewidth\":0,\"ticks\":\"\"}},\"type\":\"scattermapbox\"}],\"scatterpolar\":[{\"marker\":{\"colorbar\":{\"outlinewidth\":0,\"ticks\":\"\"}},\"type\":\"scatterpolar\"}],\"scatterpolargl\":[{\"marker\":{\"colorbar\":{\"outlinewidth\":0,\"ticks\":\"\"}},\"type\":\"scatterpolargl\"}],\"scatterternary\":[{\"marker\":{\"colorbar\":{\"outlinewidth\":0,\"ticks\":\"\"}},\"type\":\"scatterternary\"}],\"surface\":[{\"colorbar\":{\"outlinewidth\":0,\"ticks\":\"\"},\"colorscale\":[[0.0,\"#0d0887\"],[0.1111111111111111,\"#46039f\"],[0.2222222222222222,\"#7201a8\"],[0.3333333333333333,\"#9c179e\"],[0.4444444444444444,\"#bd3786\"],[0.5555555555555556,\"#d8576b\"],[0.6666666666666666,\"#ed7953\"],[0.7777777777777778,\"#fb9f3a\"],[0.8888888888888888,\"#fdca26\"],[1.0,\"#f0f921\"]],\"type\":\"surface\"}],\"table\":[{\"cells\":{\"fill\":{\"color\":\"#EBF0F8\"},\"line\":{\"color\":\"white\"}},\"header\":{\"fill\":{\"color\":\"#C8D4E3\"},\"line\":{\"color\":\"white\"}},\"type\":\"table\"}]},\"layout\":{\"annotationdefaults\":{\"arrowcolor\":\"#2a3f5f\",\"arrowhead\":0,\"arrowwidth\":1},\"autotypenumbers\":\"strict\",\"coloraxis\":{\"colorbar\":{\"outlinewidth\":0,\"ticks\":\"\"}},\"colorscale\":{\"diverging\":[[0,\"#8e0152\"],[0.1,\"#c51b7d\"],[0.2,\"#de77ae\"],[0.3,\"#f1b6da\"],[0.4,\"#fde0ef\"],[0.5,\"#f7f7f7\"],[0.6,\"#e6f5d0\"],[0.7,\"#b8e186\"],[0.8,\"#7fbc41\"],[0.9,\"#4d9221\"],[1,\"#276419\"]],\"sequential\":[[0.0,\"#0d0887\"],[0.1111111111111111,\"#46039f\"],[0.2222222222222222,\"#7201a8\"],[0.3333333333333333,\"#9c179e\"],[0.4444444444444444,\"#bd3786\"],[0.5555555555555556,\"#d8576b\"],[0.6666666666666666,\"#ed7953\"],[0.7777777777777778,\"#fb9f3a\"],[0.8888888888888888,\"#fdca26\"],[1.0,\"#f0f921\"]],\"sequentialminus\":[[0.0,\"#0d0887\"],[0.1111111111111111,\"#46039f\"],[0.2222222222222222,\"#7201a8\"],[0.3333333333333333,\"#9c179e\"],[0.4444444444444444,\"#bd3786\"],[0.5555555555555556,\"#d8576b\"],[0.6666666666666666,\"#ed7953\"],[0.7777777777777778,\"#fb9f3a\"],[0.8888888888888888,\"#fdca26\"],[1.0,\"#f0f921\"]]},\"colorway\":[\"#636efa\",\"#EF553B\",\"#00cc96\",\"#ab63fa\",\"#FFA15A\",\"#19d3f3\",\"#FF6692\",\"#B6E880\",\"#FF97FF\",\"#FECB52\"],\"font\":{\"color\":\"#2a3f5f\"},\"geo\":{\"bgcolor\":\"white\",\"lakecolor\":\"white\",\"landcolor\":\"#E5ECF6\",\"showlakes\":true,\"showland\":true,\"subunitcolor\":\"white\"},\"hoverlabel\":{\"align\":\"left\"},\"hovermode\":\"closest\",\"mapbox\":{\"style\":\"light\"},\"paper_bgcolor\":\"white\",\"plot_bgcolor\":\"#E5ECF6\",\"polar\":{\"angularaxis\":{\"gridcolor\":\"white\",\"linecolor\":\"white\",\"ticks\":\"\"},\"bgcolor\":\"#E5ECF6\",\"radialaxis\":{\"gridcolor\":\"white\",\"linecolor\":\"white\",\"ticks\":\"\"}},\"scene\":{\"xaxis\":{\"backgroundcolor\":\"#E5ECF6\",\"gridcolor\":\"white\",\"gridwidth\":2,\"linecolor\":\"white\",\"showbackground\":true,\"ticks\":\"\",\"zerolinecolor\":\"white\"},\"yaxis\":{\"backgroundcolor\":\"#E5ECF6\",\"gridcolor\":\"white\",\"gridwidth\":2,\"linecolor\":\"white\",\"showbackground\":true,\"ticks\":\"\",\"zerolinecolor\":\"white\"},\"zaxis\":{\"backgroundcolor\":\"#E5ECF6\",\"gridcolor\":\"white\",\"gridwidth\":2,\"linecolor\":\"white\",\"showbackground\":true,\"ticks\":\"\",\"zerolinecolor\":\"white\"}},\"shapedefaults\":{\"line\":{\"color\":\"#2a3f5f\"}},\"ternary\":{\"aaxis\":{\"gridcolor\":\"white\",\"linecolor\":\"white\",\"ticks\":\"\"},\"baxis\":{\"gridcolor\":\"white\",\"linecolor\":\"white\",\"ticks\":\"\"},\"bgcolor\":\"#E5ECF6\",\"caxis\":{\"gridcolor\":\"white\",\"linecolor\":\"white\",\"ticks\":\"\"}},\"title\":{\"x\":0.05},\"xaxis\":{\"automargin\":true,\"gridcolor\":\"white\",\"linecolor\":\"white\",\"ticks\":\"\",\"title\":{\"standoff\":15},\"zerolinecolor\":\"white\",\"zerolinewidth\":2},\"yaxis\":{\"automargin\":true,\"gridcolor\":\"white\",\"linecolor\":\"white\",\"ticks\":\"\",\"title\":{\"standoff\":15},\"zerolinecolor\":\"white\",\"zerolinewidth\":2}}},\"xaxis\":{\"anchor\":\"y\",\"domain\":[0.0,1.0],\"title\":{\"text\":\"year\"}},\"yaxis\":{\"anchor\":\"x\",\"domain\":[0.0,1.0],\"title\":{\"text\":\"value\"}},\"legend\":{\"title\":{\"text\":\"variable\"},\"tracegroupgap\":0},\"margin\":{\"t\":60}},                        {\"responsive\": true}                    ).then(function(){\n",
              "                            \n",
              "var gd = document.getElementById('da80bbdd-1c0b-45f2-8186-3091ca057a02');\n",
              "var x = new MutationObserver(function (mutations, observer) {{\n",
              "        var display = window.getComputedStyle(gd).display;\n",
              "        if (!display || display === 'none') {{\n",
              "            console.log([gd, 'removed!']);\n",
              "            Plotly.purge(gd);\n",
              "            observer.disconnect();\n",
              "        }}\n",
              "}});\n",
              "\n",
              "// Listen for the removal of the full notebook cells\n",
              "var notebookContainer = gd.closest('#notebook-container');\n",
              "if (notebookContainer) {{\n",
              "    x.observe(notebookContainer, {childList: true});\n",
              "}}\n",
              "\n",
              "// Listen for the clearing of the current output cell\n",
              "var outputEl = gd.closest('.output');\n",
              "if (outputEl) {{\n",
              "    x.observe(outputEl, {childList: true});\n",
              "}}\n",
              "\n",
              "                        })                };                            </script>        </div>\n",
              "</body>\n",
              "</html>"
            ]
          },
          "metadata": {}
        }
      ]
    },
    {
      "cell_type": "markdown",
      "metadata": {
        "id": "5DzzqLOSY-z5"
      },
      "source": [
        "## Preprocess data\n",
        "\n",
        "It's been often said in Machine Learning and NLP algorithms - garbage in, garbage out. We can't have state-of-the-art results without data which is aa good. Let's spend this section working on cleaning and understanding our data set.\n",
        "\n",
        "NTLK is usually a popular choice for pre-processing - but is a rather [outdated](https://explosion.ai/blog/dead-code-should-be-buried) and we will be checking out spaCy, an industry grade text-processing package. \n",
        "\n",
        "There is no correct way of doing text preprocessing, but it often involves two steps:\n",
        "- filtering: to remove unwanted tokens\n",
        "- standardization: to reduce the number of unique tokens"
      ]
    },
    {
      "cell_type": "code",
      "source": [
        "year = 2021\n",
        "biden = df.loc[year, 'text']\n",
        "biden"
      ],
      "metadata": {
        "colab": {
          "base_uri": "https://localhost:8080/",
          "height": 249
        },
        "id": "sf4WrihnE3M2",
        "outputId": "d1988626-1cac-493e-94b8-ddca71f0f114"
      },
      "execution_count": null,
      "outputs": [
        {
          "output_type": "execute_result",
          "data": {
            "text/plain": [
              "'Chief Justice Roberts, Vice President Harris, Speaker Pelosi, Leader Schumer, Leader McConnell, Vice President Pence, and my distinguished guests, and my fellow Americans: This is America\\'s day. This is democracy\\'s day, a day of history and hope, of renewal and resolve. Through a crucible for the ages America has been tested anew, and America has risen to the challenge.\\n\\nToday we celebrate the triumph not of a candidate, but of a cause, the cause of democracy. The peopleâ\\x80\\x94the will of the people has been heard, and the will of the people has been heeded. We\\'ve learned again that democracy is precious, democracy is fragile. And at this hour, my friends, democracy has prevailed.\\n\\nSo now, on this hallowed ground where just a few days ago violence sought to shake the Capitol\\'s very foundation, we come together as one Nation under God, indivisible, to carry out the peaceful transfer of power as we have for more than two centuries. As we look ahead in our uniquely American wayâ\\x80\\x94restless, bold, optimisticâ\\x80\\x94and set our sights on the Nation we know we can be and we must be, I thank my predecessors of both parties for their presence here today. I thank them from the bottom of my heart. And I know the resilience of our Constitution and the strength, the strength of our Nation, as does President Carter, who I spoke with last night, who cannot be with us today, but whom we salute for his lifetime of service.\\n\\nI have just taken the sacred oath each of these patriots have taken, the oath first sworn by George Washington. But the American story depends not on any one of us, not on some of us, but on all of us, on \"We the People,\" who seek a more perfect Union.\\n\\nThis is a great Nation; we are good people. Over the centuries, through storm and strife, in peace and in war, we\\'ve come so far. But we still have far to go. We\\'ll press forward with speed and urgency, for we have much to do in this winter of peril and significant possibilities: much to repair, much to restore, much to heal, much to build, and much to gain.\\n\\nFew people in our Nation\\'s history have been more challenged or found a time more challenging or difficult than the time we\\'re in now. A once-in-a-century virus that silently stalks the country has taken as many lives in one year as America lost in all of World War II. Millions of jobs have been lost; hundreds of thousands of businesses closed. A cry for racial justice some 400 years in the making moves us. The dream of justice for all will be deferred no longer. A cry for survival comes from the planet itself, a cry that can\\'t be any more desperate or any more clear. And now, a rise of political extremism, White supremacy, domestic terrorism that we must confront and we will defeat.\\n\\nTo overcome these challengesâ\\x80\\x94to restore the soul and secure the future of Americaâ\\x80\\x94requires so much more than words. It requires the most elusive of all things in a democracy: unity. Unity.\\n\\nIn another January on New Year\\'s Day in 1863, Abraham Lincoln signed the Emancipation Proclamation. When he put pen to paper, the President said, and I quote, \"If my name ever goes down into history it will be for this act, and my whole soul is in it.\" My whole soul is in it.\\n\\nToday, on this January day, my whole soul is in this: bringing America together, uniting our people, uniting our Nation. And I ask every American to join me in this cause: uniting to fight the foes we face: anger, resentment, and hatred; extremism, lawlessness, violence; disease, joblessness, and hopelessness.\\n\\nWith unity we can do great things, important things. We can right wrongs. We can put people to work in good jobs. We can teach our children in safe schools. We can overcome the deadly virus. We can reward work and rebuild the middle class and make health care secure for all. We can deliver racial justice, and we can make America, once again, the leading force for good in the world.\\n\\nI know speaking of unity can sound to some like a foolish fantasy these days. I know the forces that divide us are deep and they are real. But I also know they are not new. Our history has been a constant struggle between the American ideal that we all are created equal and the harsh, ugly reality that racism, nativism, fear, demonization have long torn us apart. The battle is perennial. And victory is never assured.\\n\\nThrough the Civil War, the Great Depression, World War, 9/11, through struggle, sacrifice, and setbacks, our \"better angels\" have always prevailed. In each of these moments, enough of usâ\\x80\\x94enough of usâ\\x80\\x94have come together to carry all of us forward. And we can do that now. History, faith, and reason show the way: the way of unity.\\n\\nWe can see each other not as adversaries, but as neighbors. We can treat each other with dignity and respect. We can join forces, stop the shouting, and lower the temperature. For without unity, there is no peace, only bitterness and fury. No progress, only exhausting outrage. No nation, only a state of chaos.\\n\\nThis is our historic moment of crisis and challenge, and unity is the path forward. And we must meet this moment as the United States of America. If we do that, I guarantee you, we will not fail. We have never, ever, ever, ever failed in America when we have acted together.\\n\\nAnd so today, at this time, in this place, let\\'s start afresh, all of us. Let\\'s begin to listen to one another, hear one another, see one another, show respect to one another. Politics doesn\\'t have to be a raging fire destroying everything in its path. Every disagreement doesn\\'t have to be a cause for total war. And we must reject the culture in which facts themselves are manipulated and even manufactured.\\n\\nMy fellow Americans, we have to be different than this. America has to be better than this. And I believe America is so much better than this.\\n\\nJust look around. Here we stand, in the shadow of the Capitol dome, as was mentioned earlier, completed amid the Civil War, when the Union itself was literally hanging in the balance. Yet we endured, we prevailed.\\n\\nHere we stand looking out on the great Mall where Dr. King spoke of his dream.\\n\\nHere we stand, where 108 years ago, at another Inaugural, thousands of protesters tried to block brave women marching for the right to vote. And today we mark the swearing-in of the first woman in American history elected to national office: Vice President Kamala Harris. Don\\'t tell me things can\\'t change.\\n\\nHere we stand across the Potomac from Arlington Cemetery, where heroes who gave the last full measure of devotion rest in eternal peace.\\n\\nAnd here we stand, just days after a riotous mob thought they could use violence to silence the will of the people, to stop the work of our democracy, to drive us from this sacred ground. It did not happen. It will never happen, not today, not tomorrow, not everâ\\x80\\x94not ever.\\n\\nTo all those who supported our campaign, I am humbled by the faith you\\'ve placed in us. To all those who did not support us, let me say this: Hear me out as we move forward. Take a measure of me and my heart. And if you still disagree, so be it. That\\'s democracy. That\\'s America. The right to dissent peaceably, within the guardrails of our Republic, is perhaps this Nation\\'s greatest strength. Yet hear me clearly: Disagreement must not lead to disunion. And I pledge this to you: I will be a President for all Americansâ\\x80\\x94all Americans. And I promise you, I will fight as hard for those who did not support me as for those who did.\\n\\nMany centuries ago, Saint Augustine, a saint of my church, wrote that a people was a multitude defined by the common objects of their loveâ\\x80\\x94defined by the common objects of their love. What are the common objects we as Americans love? That define us as Americans? I think we know: opportunity, security, liberty, dignity, respect, honor, and yes, the truth.\\n\\nRecent weeks and months have taught us a painful lesson. There is truth, and there are lies: lies told for power and for profit. And each of us has a duty and a responsibility, as citizens, as Americans, and especially as leadersâ\\x80\\x94leaders who have pledged to honor our Constitution and protect our Nationâ\\x80\\x94to defend the truth and defeat the lies.\\n\\nLook, I understand that many of my fellow Americans view the future with fear and trepidation. I understand they worry about their jobs. I understand, like my dad, they lay at bed at night staring at the ceiling, wondering: \"Can I keep my health care? Can I pay my mortgage?\" Thinking about their families, about what comes next. I promise you, I get it. But the answer is not to turn inward, to retreat into competing factions, distrusting those who don\\'t look like you or worship the way you do or don\\'t get their news from the same sources you do. We must end this uncivil war that pits red against blue, rural versus urban, conservative versus liberal. We can do this if we open our souls instead of hardening our hearts, if we show a little tolerance and humility, and if we\\'re willing to stand in the other person\\'s shoes, as my mom would say, just for a moment. Stand in their shoes.\\n\\nBecause here is the thing about life: There is no accounting for what fate will deal you. Some days when you need a hand. There are other days when we\\'re called to lend a hand. That\\'s how it has to be. That is what we do for one another. And if we are this way, our country will be stronger, more prosperous, more ready for the future. And we can still disagree.\\n\\nMy fellow Americans, in the work ahead of us, we\\'re going to need each other. We need all our strength to persevere through this dark winter. We\\'re entering what may be the toughest and deadliest period of the virus. We must set aside politics and finally face this pandemic as one Nation. One Nation. And I promise you this: As the Bible says, \"Weeping may endure for a night, but joy cometh in the morning.\" We will get through this, togetherâ\\x80\\x94together.\\n\\nLook, folks, all my colleagues that I served with in the House and the Senate up here. We all understand the world is watching, watching all of us today. So here is my message to those beyond our borders: America has been tested, and we have come out stronger for it. We will repair our alliances and engage with the world once again, not to meet yesterday\\'s challenges, but today\\'s and tomorrow\\'s challenges. And we\\'ll lead not merely by the example of our power, but by the power of our example. We will be a strong and trusted partner for peace, progress, and security.\\n\\nLook, you all know, we have been through so much in this Nation. And, in my first act as President, I\\'d like to ask you to join me in a moment of silent prayer to remember all those we lost this past year to the pandemic, those 400,000 fellow Americans: moms, dads, husbands, wives, sons, daughters, friends, neighbors, and coworkers. We will honor them by becoming the people and Nation we know we can and should be.\\n\\nSo I ask you, let\\'s say a silent prayer for those who have lost their lives, for those they left behind, and for our country.\\n\\n[At this point, a moment of silence was observed.]\\n\\nAmen.\\n\\nFolks, this is a time of testing. We face an attack on our democracy and on truth, a raging virus, growing inequity, the sting of systemic racism, a climate in crisis, America\\'s role in the world. Any one of these would be enough to challenge us in profound ways. But the fact is, we face them all at once, presenting this Nation with one of the gravest of responsibilities we\\'ve had.\\n\\nNow we\\'re going to be tested. Are we going to step up? All of us? It is time for boldness, for there is so much to do. And this is certain, I promise you: We will be judged, you and I, by how we resolve these cascading crises of our era. Will we rise to the occasion, is the question. Will we master this rare and difficult hour? Will we meet our obligations and pass along a new and better world to our children? I believe we must; I\\'m sure you do as well. I believe we will.\\n\\nAnd when we do, we will write the next great chapter in the history of the United States of America: the American story, a story that might sound something like a song that means a lot to me. It\\'s called \"American Anthem,\" and there\\'s one verse that stands out, at least for me, and it goes like this:\\n\\n\"The work and prayers of centuries have brought us to this day\\nWhat shall be our legacy? What will our children say? . . .\\nLet me know in my heart when my days are through\\nAmerica, America, I gave my best to you.\"\\n\\nLet\\'s addâ\\x80\\x94let\\'s us add our own work and prayers to the unfolding story of our great Nation. If we do this, then when our days are through, our children and our children\\'s children will say of us: \"They gave their best. They did their duty. They healed a broken land.\"\\n\\nMy fellow Americans, I close today where I began, with a sacred oath. Before God and all of you I give you my word: I will always level with you. I will defend the Constitution. I will defend our democracy. I will defend America. And I will give all, all of you, keep everything youâ\\x80\\x94I do, in your service, thinking not of power, but of possibilities; not of personal interest, but of the public good. And together, we shall write an American story of hope, not fear; of unity, not division; of light, not darkness. A story of decency and dignity, love and healing, greatness and goodness.\\n\\nMay this be the story that guides us, the story that inspires us, and the story that tells ages yet to come that we answered the call of history, we met the moment; democracy and hope, truth and justice, did not die on our watch, but thrived; that America secured liberty at home and stood once again as a beacon to the world. That is what we owe our forebearers, one another, and generations to follow.\\n\\nSo with purpose and resolve we turn to those tasks of our time, sustained by faith, driven by conviction, and devoted to one another and the country we love with all our hearts.\\n\\nMay God bless America, and may God protect our troops. Thank you, America.\\n'"
            ],
            "application/vnd.google.colaboratory.intrinsic+json": {
              "type": "string"
            }
          },
          "metadata": {},
          "execution_count": 14
        }
      ]
    },
    {
      "cell_type": "code",
      "source": [
        "clean_biden = [char if char.isascii() else \" \" for char in biden]\n",
        "clean_biden = \"\".join(clean_biden)\n",
        "clean_biden"
      ],
      "metadata": {
        "colab": {
          "base_uri": "https://localhost:8080/",
          "height": 249
        },
        "id": "IMbVwn4MX9-b",
        "outputId": "838c5c36-fc4e-4664-ccc3-17dc9c1b2831"
      },
      "execution_count": null,
      "outputs": [
        {
          "output_type": "execute_result",
          "data": {
            "text/plain": [
              "'Chief Justice Roberts, Vice President Harris, Speaker Pelosi, Leader Schumer, Leader McConnell, Vice President Pence, and my distinguished guests, and my fellow Americans: This is America\\'s day. This is democracy\\'s day, a day of history and hope, of renewal and resolve. Through a crucible for the ages America has been tested anew, and America has risen to the challenge.\\n\\nToday we celebrate the triumph not of a candidate, but of a cause, the cause of democracy. The people   the will of the people has been heard, and the will of the people has been heeded. We\\'ve learned again that democracy is precious, democracy is fragile. And at this hour, my friends, democracy has prevailed.\\n\\nSo now, on this hallowed ground where just a few days ago violence sought to shake the Capitol\\'s very foundation, we come together as one Nation under God, indivisible, to carry out the peaceful transfer of power as we have for more than two centuries. As we look ahead in our uniquely American way   restless, bold, optimistic   and set our sights on the Nation we know we can be and we must be, I thank my predecessors of both parties for their presence here today. I thank them from the bottom of my heart. And I know the resilience of our Constitution and the strength, the strength of our Nation, as does President Carter, who I spoke with last night, who cannot be with us today, but whom we salute for his lifetime of service.\\n\\nI have just taken the sacred oath each of these patriots have taken, the oath first sworn by George Washington. But the American story depends not on any one of us, not on some of us, but on all of us, on \"We the People,\" who seek a more perfect Union.\\n\\nThis is a great Nation; we are good people. Over the centuries, through storm and strife, in peace and in war, we\\'ve come so far. But we still have far to go. We\\'ll press forward with speed and urgency, for we have much to do in this winter of peril and significant possibilities: much to repair, much to restore, much to heal, much to build, and much to gain.\\n\\nFew people in our Nation\\'s history have been more challenged or found a time more challenging or difficult than the time we\\'re in now. A once-in-a-century virus that silently stalks the country has taken as many lives in one year as America lost in all of World War II. Millions of jobs have been lost; hundreds of thousands of businesses closed. A cry for racial justice some 400 years in the making moves us. The dream of justice for all will be deferred no longer. A cry for survival comes from the planet itself, a cry that can\\'t be any more desperate or any more clear. And now, a rise of political extremism, White supremacy, domestic terrorism that we must confront and we will defeat.\\n\\nTo overcome these challenges   to restore the soul and secure the future of America   requires so much more than words. It requires the most elusive of all things in a democracy: unity. Unity.\\n\\nIn another January on New Year\\'s Day in 1863, Abraham Lincoln signed the Emancipation Proclamation. When he put pen to paper, the President said, and I quote, \"If my name ever goes down into history it will be for this act, and my whole soul is in it.\" My whole soul is in it.\\n\\nToday, on this January day, my whole soul is in this: bringing America together, uniting our people, uniting our Nation. And I ask every American to join me in this cause: uniting to fight the foes we face: anger, resentment, and hatred; extremism, lawlessness, violence; disease, joblessness, and hopelessness.\\n\\nWith unity we can do great things, important things. We can right wrongs. We can put people to work in good jobs. We can teach our children in safe schools. We can overcome the deadly virus. We can reward work and rebuild the middle class and make health care secure for all. We can deliver racial justice, and we can make America, once again, the leading force for good in the world.\\n\\nI know speaking of unity can sound to some like a foolish fantasy these days. I know the forces that divide us are deep and they are real. But I also know they are not new. Our history has been a constant struggle between the American ideal that we all are created equal and the harsh, ugly reality that racism, nativism, fear, demonization have long torn us apart. The battle is perennial. And victory is never assured.\\n\\nThrough the Civil War, the Great Depression, World War, 9/11, through struggle, sacrifice, and setbacks, our \"better angels\" have always prevailed. In each of these moments, enough of us   enough of us   have come together to carry all of us forward. And we can do that now. History, faith, and reason show the way: the way of unity.\\n\\nWe can see each other not as adversaries, but as neighbors. We can treat each other with dignity and respect. We can join forces, stop the shouting, and lower the temperature. For without unity, there is no peace, only bitterness and fury. No progress, only exhausting outrage. No nation, only a state of chaos.\\n\\nThis is our historic moment of crisis and challenge, and unity is the path forward. And we must meet this moment as the United States of America. If we do that, I guarantee you, we will not fail. We have never, ever, ever, ever failed in America when we have acted together.\\n\\nAnd so today, at this time, in this place, let\\'s start afresh, all of us. Let\\'s begin to listen to one another, hear one another, see one another, show respect to one another. Politics doesn\\'t have to be a raging fire destroying everything in its path. Every disagreement doesn\\'t have to be a cause for total war. And we must reject the culture in which facts themselves are manipulated and even manufactured.\\n\\nMy fellow Americans, we have to be different than this. America has to be better than this. And I believe America is so much better than this.\\n\\nJust look around. Here we stand, in the shadow of the Capitol dome, as was mentioned earlier, completed amid the Civil War, when the Union itself was literally hanging in the balance. Yet we endured, we prevailed.\\n\\nHere we stand looking out on the great Mall where Dr. King spoke of his dream.\\n\\nHere we stand, where 108 years ago, at another Inaugural, thousands of protesters tried to block brave women marching for the right to vote. And today we mark the swearing-in of the first woman in American history elected to national office: Vice President Kamala Harris. Don\\'t tell me things can\\'t change.\\n\\nHere we stand across the Potomac from Arlington Cemetery, where heroes who gave the last full measure of devotion rest in eternal peace.\\n\\nAnd here we stand, just days after a riotous mob thought they could use violence to silence the will of the people, to stop the work of our democracy, to drive us from this sacred ground. It did not happen. It will never happen, not today, not tomorrow, not ever   not ever.\\n\\nTo all those who supported our campaign, I am humbled by the faith you\\'ve placed in us. To all those who did not support us, let me say this: Hear me out as we move forward. Take a measure of me and my heart. And if you still disagree, so be it. That\\'s democracy. That\\'s America. The right to dissent peaceably, within the guardrails of our Republic, is perhaps this Nation\\'s greatest strength. Yet hear me clearly: Disagreement must not lead to disunion. And I pledge this to you: I will be a President for all Americans   all Americans. And I promise you, I will fight as hard for those who did not support me as for those who did.\\n\\nMany centuries ago, Saint Augustine, a saint of my church, wrote that a people was a multitude defined by the common objects of their love   defined by the common objects of their love. What are the common objects we as Americans love? That define us as Americans? I think we know: opportunity, security, liberty, dignity, respect, honor, and yes, the truth.\\n\\nRecent weeks and months have taught us a painful lesson. There is truth, and there are lies: lies told for power and for profit. And each of us has a duty and a responsibility, as citizens, as Americans, and especially as leaders   leaders who have pledged to honor our Constitution and protect our Nation   to defend the truth and defeat the lies.\\n\\nLook, I understand that many of my fellow Americans view the future with fear and trepidation. I understand they worry about their jobs. I understand, like my dad, they lay at bed at night staring at the ceiling, wondering: \"Can I keep my health care? Can I pay my mortgage?\" Thinking about their families, about what comes next. I promise you, I get it. But the answer is not to turn inward, to retreat into competing factions, distrusting those who don\\'t look like you or worship the way you do or don\\'t get their news from the same sources you do. We must end this uncivil war that pits red against blue, rural versus urban, conservative versus liberal. We can do this if we open our souls instead of hardening our hearts, if we show a little tolerance and humility, and if we\\'re willing to stand in the other person\\'s shoes, as my mom would say, just for a moment. Stand in their shoes.\\n\\nBecause here is the thing about life: There is no accounting for what fate will deal you. Some days when you need a hand. There are other days when we\\'re called to lend a hand. That\\'s how it has to be. That is what we do for one another. And if we are this way, our country will be stronger, more prosperous, more ready for the future. And we can still disagree.\\n\\nMy fellow Americans, in the work ahead of us, we\\'re going to need each other. We need all our strength to persevere through this dark winter. We\\'re entering what may be the toughest and deadliest period of the virus. We must set aside politics and finally face this pandemic as one Nation. One Nation. And I promise you this: As the Bible says, \"Weeping may endure for a night, but joy cometh in the morning.\" We will get through this, together   together.\\n\\nLook, folks, all my colleagues that I served with in the House and the Senate up here. We all understand the world is watching, watching all of us today. So here is my message to those beyond our borders: America has been tested, and we have come out stronger for it. We will repair our alliances and engage with the world once again, not to meet yesterday\\'s challenges, but today\\'s and tomorrow\\'s challenges. And we\\'ll lead not merely by the example of our power, but by the power of our example. We will be a strong and trusted partner for peace, progress, and security.\\n\\nLook, you all know, we have been through so much in this Nation. And, in my first act as President, I\\'d like to ask you to join me in a moment of silent prayer to remember all those we lost this past year to the pandemic, those 400,000 fellow Americans: moms, dads, husbands, wives, sons, daughters, friends, neighbors, and coworkers. We will honor them by becoming the people and Nation we know we can and should be.\\n\\nSo I ask you, let\\'s say a silent prayer for those who have lost their lives, for those they left behind, and for our country.\\n\\n[At this point, a moment of silence was observed.]\\n\\nAmen.\\n\\nFolks, this is a time of testing. We face an attack on our democracy and on truth, a raging virus, growing inequity, the sting of systemic racism, a climate in crisis, America\\'s role in the world. Any one of these would be enough to challenge us in profound ways. But the fact is, we face them all at once, presenting this Nation with one of the gravest of responsibilities we\\'ve had.\\n\\nNow we\\'re going to be tested. Are we going to step up? All of us? It is time for boldness, for there is so much to do. And this is certain, I promise you: We will be judged, you and I, by how we resolve these cascading crises of our era. Will we rise to the occasion, is the question. Will we master this rare and difficult hour? Will we meet our obligations and pass along a new and better world to our children? I believe we must; I\\'m sure you do as well. I believe we will.\\n\\nAnd when we do, we will write the next great chapter in the history of the United States of America: the American story, a story that might sound something like a song that means a lot to me. It\\'s called \"American Anthem,\" and there\\'s one verse that stands out, at least for me, and it goes like this:\\n\\n\"The work and prayers of centuries have brought us to this day\\nWhat shall be our legacy? What will our children say? . . .\\nLet me know in my heart when my days are through\\nAmerica, America, I gave my best to you.\"\\n\\nLet\\'s add   let\\'s us add our own work and prayers to the unfolding story of our great Nation. If we do this, then when our days are through, our children and our children\\'s children will say of us: \"They gave their best. They did their duty. They healed a broken land.\"\\n\\nMy fellow Americans, I close today where I began, with a sacred oath. Before God and all of you I give you my word: I will always level with you. I will defend the Constitution. I will defend our democracy. I will defend America. And I will give all, all of you, keep everything you   I do, in your service, thinking not of power, but of possibilities; not of personal interest, but of the public good. And together, we shall write an American story of hope, not fear; of unity, not division; of light, not darkness. A story of decency and dignity, love and healing, greatness and goodness.\\n\\nMay this be the story that guides us, the story that inspires us, and the story that tells ages yet to come that we answered the call of history, we met the moment; democracy and hope, truth and justice, did not die on our watch, but thrived; that America secured liberty at home and stood once again as a beacon to the world. That is what we owe our forebearers, one another, and generations to follow.\\n\\nSo with purpose and resolve we turn to those tasks of our time, sustained by faith, driven by conviction, and devoted to one another and the country we love with all our hearts.\\n\\nMay God bless America, and may God protect our troops. Thank you, America.\\n'"
            ],
            "application/vnd.google.colaboratory.intrinsic+json": {
              "type": "string"
            }
          },
          "metadata": {},
          "execution_count": 15
        }
      ]
    },
    {
      "cell_type": "code",
      "execution_count": null,
      "metadata": {
        "id": "fY6KHHN6Y-z6"
      },
      "outputs": [],
      "source": [
        "nlp = spacy.load(\"en_core_web_sm\")"
      ]
    },
    {
      "cell_type": "code",
      "execution_count": null,
      "metadata": {
        "id": "DgZL4dczY-z7"
      },
      "outputs": [],
      "source": [
        "doc = nlp(clean_biden)"
      ]
    },
    {
      "cell_type": "code",
      "execution_count": null,
      "metadata": {
        "id": "sKYTBwiQY-z8",
        "outputId": "b4e6d766-0c58-4f08-fff3-ba930b1a0f9d",
        "colab": {
          "base_uri": "https://localhost:8080/"
        }
      },
      "outputs": [
        {
          "output_type": "stream",
          "name": "stdout",
          "text": [
            "Chief|Justice|Roberts|,|Vice|President|Harris|,|Speaker|Pelosi|,|Leader|Schumer|,|Leader|McConnell|,|Vice|President|Pence|,|and|my|distinguished|guests|,|and|my|fellow|Americans|:|This|is|America|'s|day|.|This|is|democracy|"
          ]
        }
      ],
      "source": [
        "for tok in doc[:40]:\n",
        "    print(tok.text, end=\"|\")"
      ]
    },
    {
      "cell_type": "code",
      "source": [
        "for tok in doc[:40]:\n",
        "    print(tok.lemma_, end=\"|\")"
      ],
      "metadata": {
        "colab": {
          "base_uri": "https://localhost:8080/"
        },
        "id": "WuIhQrwd3ixY",
        "outputId": "46d85fbe-11fa-4575-b51a-f61eafeaaa0e"
      },
      "execution_count": null,
      "outputs": [
        {
          "output_type": "stream",
          "name": "stdout",
          "text": [
            "Chief|Justice|Roberts|,|Vice|President|Harris|,|Speaker|Pelosi|,|Leader|Schumer|,|Leader|McConnell|,|Vice|President|Pence|,|and|my|distinguished|guest|,|and|my|fellow|Americans|:|this|be|America|'s|day|.|this|be|democracy|"
          ]
        }
      ]
    },
    {
      "cell_type": "code",
      "source": [
        "for tok in doc[:40]:\n",
        "    print(tok.lemma_.lower(), end=\"|\")"
      ],
      "metadata": {
        "colab": {
          "base_uri": "https://localhost:8080/"
        },
        "id": "QB4x5v-Y7vIc",
        "outputId": "d87e4115-4e3d-49d0-a4c9-f4ac4fab3376"
      },
      "execution_count": null,
      "outputs": [
        {
          "output_type": "stream",
          "name": "stdout",
          "text": [
            "chief|justice|roberts|,|vice|president|harris|,|speaker|pelosi|,|leader|schumer|,|leader|mcconnell|,|vice|president|pence|,|and|my|distinguished|guest|,|and|my|fellow|americans|:|this|be|america|'s|day|.|this|be|democracy|"
          ]
        }
      ]
    },
    {
      "cell_type": "code",
      "source": [
        "toks = [tok.text for tok in doc]\n",
        "len(toks)"
      ],
      "metadata": {
        "colab": {
          "base_uri": "https://localhost:8080/"
        },
        "id": "juy-5ggSz5mx",
        "outputId": "e9f9bfde-339a-428f-e7f9-d11eedb79bca"
      },
      "execution_count": null,
      "outputs": [
        {
          "output_type": "execute_result",
          "data": {
            "text/plain": [
              "3109"
            ]
          },
          "metadata": {},
          "execution_count": 21
        }
      ]
    },
    {
      "cell_type": "code",
      "source": [
        "for tok in doc[:40]:\n",
        "    if (not tok.is_stop) and (not tok.is_punct) and (not tok.like_num) and (not tok.is_space):\n",
        "        print(tok.lemma_.lower(), end=\"|\")"
      ],
      "metadata": {
        "colab": {
          "base_uri": "https://localhost:8080/"
        },
        "id": "zX6q1UCwz9lA",
        "outputId": "3c24d33b-0e3d-4ab1-e7b6-e1134d193194"
      },
      "execution_count": null,
      "outputs": [
        {
          "output_type": "stream",
          "name": "stdout",
          "text": [
            "chief|justice|roberts|vice|president|harris|speaker|pelosi|leader|schumer|leader|mcconnell|vice|president|pence|distinguished|guest|fellow|americans|america|day|democracy|"
          ]
        }
      ]
    },
    {
      "cell_type": "code",
      "source": [
        "toks = [tok.lemma_.lower() for tok in doc if (not tok.is_stop) and (not tok.is_punct) and (not tok.like_num) and (not tok.is_space)]\n",
        "len(toks)"
      ],
      "metadata": {
        "colab": {
          "base_uri": "https://localhost:8080/"
        },
        "id": "rjN9Bv3p0Ovp",
        "outputId": "4b911a4a-3379-453f-ebae-e4beab669cd4"
      },
      "execution_count": null,
      "outputs": [
        {
          "output_type": "execute_result",
          "data": {
            "text/plain": [
              "1020"
            ]
          },
          "metadata": {},
          "execution_count": 23
        }
      ]
    },
    {
      "cell_type": "code",
      "source": [
        "def preprocess_text(text):\n",
        "    clean_text = [char if char.isascii() else \" \" for char in text]\n",
        "    clean_text = \"\".join(clean_text)\n",
        "    doc = nlp(clean_text)\n",
        "    tokens = [tok.lemma_.lower() for tok in doc if (not tok.is_stop) and (not tok.is_punct) and (not tok.like_num) and (not tok.is_space)]\n",
        "    return tokens"
      ],
      "metadata": {
        "id": "5qaXK1usGp9p"
      },
      "execution_count": null,
      "outputs": []
    },
    {
      "cell_type": "code",
      "source": [
        "biden_tokens = preprocess_text(biden)\n",
        "biden_tokens[:40]"
      ],
      "metadata": {
        "colab": {
          "base_uri": "https://localhost:8080/"
        },
        "id": "fdFQlRDeLOzY",
        "outputId": "6db24578-e2df-47e7-e1ad-2c0e547e5f99"
      },
      "execution_count": null,
      "outputs": [
        {
          "output_type": "execute_result",
          "data": {
            "text/plain": [
              "['chief',\n",
              " 'justice',\n",
              " 'roberts',\n",
              " 'vice',\n",
              " 'president',\n",
              " 'harris',\n",
              " 'speaker',\n",
              " 'pelosi',\n",
              " 'leader',\n",
              " 'schumer',\n",
              " 'leader',\n",
              " 'mcconnell',\n",
              " 'vice',\n",
              " 'president',\n",
              " 'pence',\n",
              " 'distinguished',\n",
              " 'guest',\n",
              " 'fellow',\n",
              " 'americans',\n",
              " 'america',\n",
              " 'day',\n",
              " 'democracy',\n",
              " 'day',\n",
              " 'day',\n",
              " 'history',\n",
              " 'hope',\n",
              " 'renewal',\n",
              " 'resolve',\n",
              " 'crucible',\n",
              " 'age',\n",
              " 'america',\n",
              " 'test',\n",
              " 'anew',\n",
              " 'america',\n",
              " 'rise',\n",
              " 'challenge',\n",
              " 'today',\n",
              " 'celebrate',\n",
              " 'triumph',\n",
              " 'candidate']"
            ]
          },
          "metadata": {},
          "execution_count": 25
        }
      ]
    },
    {
      "cell_type": "code",
      "source": [
        "%time df['text'].apply(preprocess_text)"
      ],
      "metadata": {
        "id": "YQJ6KxunLkwK",
        "colab": {
          "base_uri": "https://localhost:8080/"
        },
        "outputId": "6cf587b3-9f88-496e-f08e-bb74a181e711"
      },
      "execution_count": null,
      "outputs": [
        {
          "output_type": "stream",
          "name": "stdout",
          "text": [
            "CPU times: user 32.8 s, sys: 522 ms, total: 33.3 s\n",
            "Wall time: 40.1 s\n"
          ]
        },
        {
          "output_type": "execute_result",
          "data": {
            "text/plain": [
              "year\n",
              "1789    [fellow, citizens, senate, house, representati...\n",
              "1793    [fellow, citizen, call, voice, country, execut...\n",
              "1797    [perceive, early, time, middle, course, americ...\n",
              "1801    [friends, fellow, citizens, call, undertake, d...\n",
              "1805    [proceeding, fellow, citizen, qualification, c...\n",
              "1809    [unwilling, depart, example, revere, authority...\n",
              "1813    [add, solemnity, oath, obligation, impose, sta...\n",
              "1817    [destitute, feeling, deeply, affect, strong, p...\n",
              "1821    [fellow, citizen, shall, attempt, describe, gr...\n",
              "1825    [compliance, usage, coeval, existence, federal...\n",
              "1829    [fellow, citizen, undertake, arduous, duty, ap...\n",
              "1833    [fellow, citizen, american, people, express, u...\n",
              "1837    [fellow, citizen, practice, predecessor, impos...\n",
              "1841    [call, retirement, suppose, continue, residue,...\n",
              "1845    [fellow, citizen, solicitation, choose, free, ...\n",
              "1849    [elect, american, people, high, office, know, ...\n",
              "1853    [countryman, relief, feel, heart, know, person...\n",
              "1857    [fellow, citizen, appear, day, solemn, oath, f...\n",
              "1861    [fellow, citizens, united, states, compliance,...\n",
              "1865    [fellow, countryman, appear, oath, presidentia...\n",
              "1869    [citizen, united, states, suffrage, having, el...\n",
              "1873    [fellow, citizens, providence, call, time, act...\n",
              "1877    [fellow, citizen, assemble, repeat, public, ce...\n",
              "1881    [fellow, citizens, stand, day, eminence, overl...\n",
              "1885    [fellow, citizen, presence, vast, assemblage, ...\n",
              "1889    [fellow, citizens, constitutional, legal, requ...\n",
              "1893    [fellow, citizen, obedience, mandate, countrym...\n",
              "1897    [fellow, citizen, obedience, people, presence,...\n",
              "1901    [fellow, citizen, assemble, march, great, anxi...\n",
              "1905    [fellow, citizen, people, earth, cause, thankf...\n",
              "1909    [fellow, citizen, take, oath, take, feel, heav...\n",
              "1913    [change, government, begin, year, ago, house, ...\n",
              "1917    [fellow, citizen, year, elapse, stand, place, ...\n",
              "1921    [countryman, survey, world, great, storm, note...\n",
              "1925    [countryman, contemplate, current, condition, ...\n",
              "1929    [countryman, occasion, administration, sacred,...\n",
              "1933    [certain, fellow, americans, expect, induction...\n",
              "1937    [year, ago, meet, inaugurate, president, repub...\n",
              "1941    [national, day, inauguration, people, renew, s...\n",
              "1945    [chief, justice, mr., vice, president, friend,...\n",
              "1949    [mr., vice, president, mr., chief, justice, fe...\n",
              "1953    [friend, begin, expression, thought, deem, app...\n",
              "1957    [price, peace, mr., chairman, mr., vice, presi...\n",
              "1961    [vice, president, johnson, mr., speaker, mr., ...\n",
              "1965    [fellow, countryman, occasion, oath, take, god...\n",
              "1969    [senator, dirksen, mr., chief, justice, mr., v...\n",
              "1973    [mr., vice, president, mr., speaker, mr., chie...\n",
              "1977    [nation, want, thank, predecessor, heal, land,...\n",
              "1981    [senator, hatfield, mr., chief, justice, mr., ...\n",
              "1985    [senator, mathias, chief, justice, burger, vic...\n",
              "1989    [mr., chief, justice, mr., president, vice, pr...\n",
              "1993    [fellow, citizen, today, celebrate, mystery, a...\n",
              "1997    [fellow, citizen, presidential, inauguration, ...\n",
              "2001    [president, clinton, distinguished, guest, fel...\n",
              "2005    [vice, president, cheney, mr., chief, justice,...\n",
              "2009    [fellow, citizen, stand, today, humble, task, ...\n",
              "2013    [thank, thank, vice, president, biden, mr., ch...\n",
              "2017    [chief, justice, roberts, president, carter, p...\n",
              "2021    [chief, justice, roberts, vice, president, har...\n",
              "Name: text, dtype: object"
            ]
          },
          "metadata": {},
          "execution_count": 26
        }
      ]
    },
    {
      "cell_type": "code",
      "source": [
        "nlp.pipe_names"
      ],
      "metadata": {
        "colab": {
          "base_uri": "https://localhost:8080/"
        },
        "id": "tUj13C3XsHxM",
        "outputId": "24852660-262b-4712-dd19-07745d2dcc4a"
      },
      "execution_count": null,
      "outputs": [
        {
          "output_type": "execute_result",
          "data": {
            "text/plain": [
              "['tok2vec', 'tagger', 'parser', 'attribute_ruler', 'lemmatizer', 'ner']"
            ]
          },
          "metadata": {},
          "execution_count": 27
        }
      ]
    },
    {
      "cell_type": "code",
      "source": [
        "def preprocess_texts(texts):\n",
        "    clean_texts = []\n",
        "    for text in texts:\n",
        "        clean_text = [char if char.isascii() else \" \" for char in text]\n",
        "        clean_text = \"\".join(clean_text)\n",
        "        clean_texts.append(clean_text)\n",
        "    \n",
        "    # nlp.pipe() is more efficient than nlp()\n",
        "    clean_tokens = []\n",
        "    # NOTE: The lemmatizer requires the `tagger` component, so don't disable it!\n",
        "    for doc in nlp.pipe(clean_texts, disable=[\"ner\", \"parser\"]):\n",
        "        tokens = [tok.lemma_.lower() for tok in doc if (\n",
        "            not tok.is_stop \n",
        "            and not tok.is_punct\n",
        "            and not tok.like_num \n",
        "            and not tok.is_space\n",
        "            )\n",
        "        ]\n",
        "        clean_tokens.append(tokens)\n",
        "\n",
        "    return clean_tokens"
      ],
      "metadata": {
        "id": "x-CbdQsDr27u"
      },
      "execution_count": null,
      "outputs": []
    },
    {
      "cell_type": "code",
      "source": [
        "%time doc_tokens = preprocess_texts(df['text'])"
      ],
      "metadata": {
        "colab": {
          "base_uri": "https://localhost:8080/"
        },
        "id": "k77VX4JatTsn",
        "outputId": "e243cf6f-a6a6-4f82-d771-0bd1043acb57"
      },
      "execution_count": null,
      "outputs": [
        {
          "output_type": "stream",
          "name": "stdout",
          "text": [
            "CPU times: user 9.76 s, sys: 1.92 s, total: 11.7 s\n",
            "Wall time: 11.6 s\n"
          ]
        }
      ]
    },
    {
      "cell_type": "code",
      "source": [
        "df['tokens'] = doc_tokens\n",
        "df"
      ],
      "metadata": {
        "colab": {
          "base_uri": "https://localhost:8080/",
          "height": 1000
        },
        "id": "Nzh8fTfJLswS",
        "outputId": "f9a6805d-d1f8-43bd-f700-0bb8986060bd"
      },
      "execution_count": null,
      "outputs": [
        {
          "output_type": "execute_result",
          "data": {
            "text/plain": [
              "       president                                               text  \\\n",
              "year                                                                  \n",
              "1789  Washington  Fellow-Citizens of the Senate and of the House...   \n",
              "1793  Washington  Fellow citizens, I am again called upon by the...   \n",
              "1797       Adams  When it was first perceived, in early times, t...   \n",
              "1801   Jefferson  Friends and Fellow Citizens:\\n\\nCalled upon to...   \n",
              "1805   Jefferson  Proceeding, fellow citizens, to that qualifica...   \n",
              "1809     Madison  Unwilling to depart from examples of the most ...   \n",
              "1813     Madison  About to add the solemnity of an oath to the o...   \n",
              "1817      Monroe  I should be destitute of feeling if I was not ...   \n",
              "1821      Monroe  Fellow citizens, I shall not attempt to descri...   \n",
              "1825       Adams  In compliance with an usage coeval with the ex...   \n",
              "1829     Jackson  Fellow citizens, about to undertake the arduou...   \n",
              "1833     Jackson  Fellow citizens, the will of the American peop...   \n",
              "1837    VanBuren  Fellow citizens: The practice of all my predec...   \n",
              "1841    Harrison  Called from a retirement which I had supposed ...   \n",
              "1845        Polk  Fellow citizens, without solicitation on my pa...   \n",
              "1849      Taylor  Elected by the American people to the highest ...   \n",
              "1853      Pierce  My Countrymen, It a relief to feel that no hea...   \n",
              "1857    Buchanan  Fellow citizens, I appear before you this day ...   \n",
              "1861     Lincoln  Fellow-Citizens of the United States: In compl...   \n",
              "1865     Lincoln  Fellow-Countrymen:\\n\\nAt this second appearing...   \n",
              "1869       Grant  Citizens of the United States:\\n\\nYour suffrag...   \n",
              "1873       Grant  Fellow-Citizens:\\n\\nUnder Providence I have be...   \n",
              "1877       Hayes  Fellow citizens, we have assembled to repeat t...   \n",
              "1881    Garfield  Fellow-Citizens:\\n\\nWe stand to-day upon an em...   \n",
              "1885   Cleveland  Fellow citizens, in the presence of this vast ...   \n",
              "1889    Harrison  Fellow-Citizens, there is no constitutional or...   \n",
              "1893   Cleveland  My Fellow citizens, in obedience of the mandat...   \n",
              "1897    McKinley  Fellow citizens, In obedience to the will of t...   \n",
              "1901    McKinley  My fellow-citizens, when we assembled here on ...   \n",
              "1905   Roosevelt  My fellow citizens, no people on earth have mo...   \n",
              "1909        Taft  My fellow citizens: Anyone who has taken the o...   \n",
              "1913      Wilson  There has been a change of government. It bega...   \n",
              "1917      Wilson  My Fellow citizens: The four years which have ...   \n",
              "1921     Harding  My Countrymen:\\n\\nWhen one surveys the world a...   \n",
              "1925    Coolidge  My countrymen,\\n\\nno one can contemplate curre...   \n",
              "1929      Hoover  My Countrymen: This occasion is not alone the ...   \n",
              "1933   Roosevelt  I am certain that my fellow Americans expect t...   \n",
              "1937   Roosevelt  When four years ago we met to inaugurate a Pre...   \n",
              "1941   Roosevelt  On each national day of inauguration since 178...   \n",
              "1945   Roosevelt  Chief Justice, Mr. Vice President, my friends,...   \n",
              "1949      Truman  Mr. Vice President, Mr. Chief Justice, and fel...   \n",
              "1953  Eisenhower  My friends, before I begin the expression of t...   \n",
              "1957  Eisenhower  The Price of Peace\\nMr. Chairman, Mr. Vice Pre...   \n",
              "1961     Kennedy  Vice President Johnson, Mr. Speaker, Mr. Chief...   \n",
              "1965     Johnson  My fellow countrymen, on this occasion, the oa...   \n",
              "1969       Nixon  Senator Dirksen, Mr. Chief Justice, Mr. Vice P...   \n",
              "1973       Nixon  Mr. Vice President, Mr. Speaker, Mr. Chief Jus...   \n",
              "1977      Carter  For myself and for our Nation, I want to thank...   \n",
              "1981      Reagan  Senator Hatfield, Mr. Chief Justice, Mr. Presi...   \n",
              "1985      Reagan  Senator Mathias, Chief Justice Burger, Vice Pr...   \n",
              "1989        Bush  Mr. Chief Justice, Mr. President, Vice Preside...   \n",
              "1993     Clinton  My fellow citizens, today we celebrate the mys...   \n",
              "1997     Clinton  My fellow citizens: At this last presidential ...   \n",
              "2001        Bush  President Clinton, distinguished guests and my...   \n",
              "2005        Bush  Vice President Cheney, Mr. Chief Justice, Pres...   \n",
              "2009       Obama  My fellow citizens:\\n\\nI stand here today humb...   \n",
              "2013       Obama  Thank you. Thank you so much.\\n\\nVice Presiden...   \n",
              "2017       Trump  Chief Justice Roberts, President Carter, Presi...   \n",
              "2021       Biden  Chief Justice Roberts, Vice President Harris, ...   \n",
              "\n",
              "                                                 tokens  \n",
              "year                                                     \n",
              "1789  [fellow, citizens, senate, house, representati...  \n",
              "1793  [fellow, citizen, call, voice, country, execut...  \n",
              "1797  [perceive, early, time, middle, course, americ...  \n",
              "1801  [friends, fellow, citizens, call, undertake, d...  \n",
              "1805  [proceeding, fellow, citizen, qualification, c...  \n",
              "1809  [unwilling, depart, example, revere, authority...  \n",
              "1813  [add, solemnity, oath, obligation, impose, sta...  \n",
              "1817  [destitute, feeling, deeply, affect, strong, p...  \n",
              "1821  [fellow, citizen, shall, attempt, describe, gr...  \n",
              "1825  [compliance, usage, coeval, existence, federal...  \n",
              "1829  [fellow, citizen, undertake, arduous, duty, ap...  \n",
              "1833  [fellow, citizen, american, people, express, u...  \n",
              "1837  [fellow, citizen, practice, predecessor, impos...  \n",
              "1841  [call, retirement, suppose, continue, residue,...  \n",
              "1845  [fellow, citizen, solicitation, choose, free, ...  \n",
              "1849  [elect, american, people, high, office, know, ...  \n",
              "1853  [countryman, relief, feel, heart, know, person...  \n",
              "1857  [fellow, citizen, appear, day, solemn, oath, f...  \n",
              "1861  [fellow, citizens, united, states, compliance,...  \n",
              "1865  [fellow, countryman, appear, oath, presidentia...  \n",
              "1869  [citizen, united, states, suffrage, have, elec...  \n",
              "1873  [fellow, citizens, providence, call, time, act...  \n",
              "1877  [fellow, citizen, assemble, repeat, public, ce...  \n",
              "1881  [fellow, citizens, stand, day, eminence, overl...  \n",
              "1885  [fellow, citizen, presence, vast, assemblage, ...  \n",
              "1889  [fellow, citizens, constitutional, legal, requ...  \n",
              "1893  [fellow, citizen, obedience, mandate, countrym...  \n",
              "1897  [fellow, citizen, obedience, people, presence,...  \n",
              "1901  [fellow, citizen, assemble, march, great, anxi...  \n",
              "1905  [fellow, citizen, people, earth, cause, thankf...  \n",
              "1909  [fellow, citizen, take, oath, take, feel, heav...  \n",
              "1913  [change, government, begin, year, ago, house, ...  \n",
              "1917  [fellow, citizen, year, elapse, stand, place, ...  \n",
              "1921  [countryman, survey, world, great, storm, note...  \n",
              "1925  [countryman, contemplate, current, condition, ...  \n",
              "1929  [countryman, occasion, administration, sacred,...  \n",
              "1933  [certain, fellow, americans, expect, induction...  \n",
              "1937  [year, ago, meet, inaugurate, president, repub...  \n",
              "1941  [national, day, inauguration, people, renew, s...  \n",
              "1945  [chief, justice, mr., vice, president, friend,...  \n",
              "1949  [mr., vice, president, mr., chief, justice, fe...  \n",
              "1953  [friend, begin, expression, thought, deem, app...  \n",
              "1957  [price, peace, mr., chairman, mr., vice, presi...  \n",
              "1961  [vice, president, johnson, mr., speaker, mr., ...  \n",
              "1965  [fellow, countryman, occasion, oath, take, god...  \n",
              "1969  [senator, dirksen, mr., chief, justice, mr., v...  \n",
              "1973  [mr., vice, president, mr., speaker, mr., chie...  \n",
              "1977  [nation, want, thank, predecessor, heal, land,...  \n",
              "1981  [senator, hatfield, mr., chief, justice, mr., ...  \n",
              "1985  [senator, mathias, chief, justice, burger, vic...  \n",
              "1989  [mr., chief, justice, mr., president, vice, pr...  \n",
              "1993  [fellow, citizen, today, celebrate, mystery, a...  \n",
              "1997  [fellow, citizen, presidential, inauguration, ...  \n",
              "2001  [president, clinton, distinguished, guest, fel...  \n",
              "2005  [vice, president, cheney, mr., chief, justice,...  \n",
              "2009  [fellow, citizen, stand, today, humble, task, ...  \n",
              "2013  [thank, thank, vice, president, biden, mr., ch...  \n",
              "2017  [chief, justice, roberts, president, carter, p...  \n",
              "2021  [chief, justice, roberts, vice, president, har...  "
            ],
            "text/html": [
              "\n",
              "  <div id=\"df-48550b70-6a01-4f74-a11d-d4b789ff4b6a\">\n",
              "    <div class=\"colab-df-container\">\n",
              "      <div>\n",
              "<style scoped>\n",
              "    .dataframe tbody tr th:only-of-type {\n",
              "        vertical-align: middle;\n",
              "    }\n",
              "\n",
              "    .dataframe tbody tr th {\n",
              "        vertical-align: top;\n",
              "    }\n",
              "\n",
              "    .dataframe thead th {\n",
              "        text-align: right;\n",
              "    }\n",
              "</style>\n",
              "<table border=\"1\" class=\"dataframe\">\n",
              "  <thead>\n",
              "    <tr style=\"text-align: right;\">\n",
              "      <th></th>\n",
              "      <th>president</th>\n",
              "      <th>text</th>\n",
              "      <th>tokens</th>\n",
              "    </tr>\n",
              "    <tr>\n",
              "      <th>year</th>\n",
              "      <th></th>\n",
              "      <th></th>\n",
              "      <th></th>\n",
              "    </tr>\n",
              "  </thead>\n",
              "  <tbody>\n",
              "    <tr>\n",
              "      <th>1789</th>\n",
              "      <td>Washington</td>\n",
              "      <td>Fellow-Citizens of the Senate and of the House...</td>\n",
              "      <td>[fellow, citizens, senate, house, representati...</td>\n",
              "    </tr>\n",
              "    <tr>\n",
              "      <th>1793</th>\n",
              "      <td>Washington</td>\n",
              "      <td>Fellow citizens, I am again called upon by the...</td>\n",
              "      <td>[fellow, citizen, call, voice, country, execut...</td>\n",
              "    </tr>\n",
              "    <tr>\n",
              "      <th>1797</th>\n",
              "      <td>Adams</td>\n",
              "      <td>When it was first perceived, in early times, t...</td>\n",
              "      <td>[perceive, early, time, middle, course, americ...</td>\n",
              "    </tr>\n",
              "    <tr>\n",
              "      <th>1801</th>\n",
              "      <td>Jefferson</td>\n",
              "      <td>Friends and Fellow Citizens:\\n\\nCalled upon to...</td>\n",
              "      <td>[friends, fellow, citizens, call, undertake, d...</td>\n",
              "    </tr>\n",
              "    <tr>\n",
              "      <th>1805</th>\n",
              "      <td>Jefferson</td>\n",
              "      <td>Proceeding, fellow citizens, to that qualifica...</td>\n",
              "      <td>[proceeding, fellow, citizen, qualification, c...</td>\n",
              "    </tr>\n",
              "    <tr>\n",
              "      <th>1809</th>\n",
              "      <td>Madison</td>\n",
              "      <td>Unwilling to depart from examples of the most ...</td>\n",
              "      <td>[unwilling, depart, example, revere, authority...</td>\n",
              "    </tr>\n",
              "    <tr>\n",
              "      <th>1813</th>\n",
              "      <td>Madison</td>\n",
              "      <td>About to add the solemnity of an oath to the o...</td>\n",
              "      <td>[add, solemnity, oath, obligation, impose, sta...</td>\n",
              "    </tr>\n",
              "    <tr>\n",
              "      <th>1817</th>\n",
              "      <td>Monroe</td>\n",
              "      <td>I should be destitute of feeling if I was not ...</td>\n",
              "      <td>[destitute, feeling, deeply, affect, strong, p...</td>\n",
              "    </tr>\n",
              "    <tr>\n",
              "      <th>1821</th>\n",
              "      <td>Monroe</td>\n",
              "      <td>Fellow citizens, I shall not attempt to descri...</td>\n",
              "      <td>[fellow, citizen, shall, attempt, describe, gr...</td>\n",
              "    </tr>\n",
              "    <tr>\n",
              "      <th>1825</th>\n",
              "      <td>Adams</td>\n",
              "      <td>In compliance with an usage coeval with the ex...</td>\n",
              "      <td>[compliance, usage, coeval, existence, federal...</td>\n",
              "    </tr>\n",
              "    <tr>\n",
              "      <th>1829</th>\n",
              "      <td>Jackson</td>\n",
              "      <td>Fellow citizens, about to undertake the arduou...</td>\n",
              "      <td>[fellow, citizen, undertake, arduous, duty, ap...</td>\n",
              "    </tr>\n",
              "    <tr>\n",
              "      <th>1833</th>\n",
              "      <td>Jackson</td>\n",
              "      <td>Fellow citizens, the will of the American peop...</td>\n",
              "      <td>[fellow, citizen, american, people, express, u...</td>\n",
              "    </tr>\n",
              "    <tr>\n",
              "      <th>1837</th>\n",
              "      <td>VanBuren</td>\n",
              "      <td>Fellow citizens: The practice of all my predec...</td>\n",
              "      <td>[fellow, citizen, practice, predecessor, impos...</td>\n",
              "    </tr>\n",
              "    <tr>\n",
              "      <th>1841</th>\n",
              "      <td>Harrison</td>\n",
              "      <td>Called from a retirement which I had supposed ...</td>\n",
              "      <td>[call, retirement, suppose, continue, residue,...</td>\n",
              "    </tr>\n",
              "    <tr>\n",
              "      <th>1845</th>\n",
              "      <td>Polk</td>\n",
              "      <td>Fellow citizens, without solicitation on my pa...</td>\n",
              "      <td>[fellow, citizen, solicitation, choose, free, ...</td>\n",
              "    </tr>\n",
              "    <tr>\n",
              "      <th>1849</th>\n",
              "      <td>Taylor</td>\n",
              "      <td>Elected by the American people to the highest ...</td>\n",
              "      <td>[elect, american, people, high, office, know, ...</td>\n",
              "    </tr>\n",
              "    <tr>\n",
              "      <th>1853</th>\n",
              "      <td>Pierce</td>\n",
              "      <td>My Countrymen, It a relief to feel that no hea...</td>\n",
              "      <td>[countryman, relief, feel, heart, know, person...</td>\n",
              "    </tr>\n",
              "    <tr>\n",
              "      <th>1857</th>\n",
              "      <td>Buchanan</td>\n",
              "      <td>Fellow citizens, I appear before you this day ...</td>\n",
              "      <td>[fellow, citizen, appear, day, solemn, oath, f...</td>\n",
              "    </tr>\n",
              "    <tr>\n",
              "      <th>1861</th>\n",
              "      <td>Lincoln</td>\n",
              "      <td>Fellow-Citizens of the United States: In compl...</td>\n",
              "      <td>[fellow, citizens, united, states, compliance,...</td>\n",
              "    </tr>\n",
              "    <tr>\n",
              "      <th>1865</th>\n",
              "      <td>Lincoln</td>\n",
              "      <td>Fellow-Countrymen:\\n\\nAt this second appearing...</td>\n",
              "      <td>[fellow, countryman, appear, oath, presidentia...</td>\n",
              "    </tr>\n",
              "    <tr>\n",
              "      <th>1869</th>\n",
              "      <td>Grant</td>\n",
              "      <td>Citizens of the United States:\\n\\nYour suffrag...</td>\n",
              "      <td>[citizen, united, states, suffrage, have, elec...</td>\n",
              "    </tr>\n",
              "    <tr>\n",
              "      <th>1873</th>\n",
              "      <td>Grant</td>\n",
              "      <td>Fellow-Citizens:\\n\\nUnder Providence I have be...</td>\n",
              "      <td>[fellow, citizens, providence, call, time, act...</td>\n",
              "    </tr>\n",
              "    <tr>\n",
              "      <th>1877</th>\n",
              "      <td>Hayes</td>\n",
              "      <td>Fellow citizens, we have assembled to repeat t...</td>\n",
              "      <td>[fellow, citizen, assemble, repeat, public, ce...</td>\n",
              "    </tr>\n",
              "    <tr>\n",
              "      <th>1881</th>\n",
              "      <td>Garfield</td>\n",
              "      <td>Fellow-Citizens:\\n\\nWe stand to-day upon an em...</td>\n",
              "      <td>[fellow, citizens, stand, day, eminence, overl...</td>\n",
              "    </tr>\n",
              "    <tr>\n",
              "      <th>1885</th>\n",
              "      <td>Cleveland</td>\n",
              "      <td>Fellow citizens, in the presence of this vast ...</td>\n",
              "      <td>[fellow, citizen, presence, vast, assemblage, ...</td>\n",
              "    </tr>\n",
              "    <tr>\n",
              "      <th>1889</th>\n",
              "      <td>Harrison</td>\n",
              "      <td>Fellow-Citizens, there is no constitutional or...</td>\n",
              "      <td>[fellow, citizens, constitutional, legal, requ...</td>\n",
              "    </tr>\n",
              "    <tr>\n",
              "      <th>1893</th>\n",
              "      <td>Cleveland</td>\n",
              "      <td>My Fellow citizens, in obedience of the mandat...</td>\n",
              "      <td>[fellow, citizen, obedience, mandate, countrym...</td>\n",
              "    </tr>\n",
              "    <tr>\n",
              "      <th>1897</th>\n",
              "      <td>McKinley</td>\n",
              "      <td>Fellow citizens, In obedience to the will of t...</td>\n",
              "      <td>[fellow, citizen, obedience, people, presence,...</td>\n",
              "    </tr>\n",
              "    <tr>\n",
              "      <th>1901</th>\n",
              "      <td>McKinley</td>\n",
              "      <td>My fellow-citizens, when we assembled here on ...</td>\n",
              "      <td>[fellow, citizen, assemble, march, great, anxi...</td>\n",
              "    </tr>\n",
              "    <tr>\n",
              "      <th>1905</th>\n",
              "      <td>Roosevelt</td>\n",
              "      <td>My fellow citizens, no people on earth have mo...</td>\n",
              "      <td>[fellow, citizen, people, earth, cause, thankf...</td>\n",
              "    </tr>\n",
              "    <tr>\n",
              "      <th>1909</th>\n",
              "      <td>Taft</td>\n",
              "      <td>My fellow citizens: Anyone who has taken the o...</td>\n",
              "      <td>[fellow, citizen, take, oath, take, feel, heav...</td>\n",
              "    </tr>\n",
              "    <tr>\n",
              "      <th>1913</th>\n",
              "      <td>Wilson</td>\n",
              "      <td>There has been a change of government. It bega...</td>\n",
              "      <td>[change, government, begin, year, ago, house, ...</td>\n",
              "    </tr>\n",
              "    <tr>\n",
              "      <th>1917</th>\n",
              "      <td>Wilson</td>\n",
              "      <td>My Fellow citizens: The four years which have ...</td>\n",
              "      <td>[fellow, citizen, year, elapse, stand, place, ...</td>\n",
              "    </tr>\n",
              "    <tr>\n",
              "      <th>1921</th>\n",
              "      <td>Harding</td>\n",
              "      <td>My Countrymen:\\n\\nWhen one surveys the world a...</td>\n",
              "      <td>[countryman, survey, world, great, storm, note...</td>\n",
              "    </tr>\n",
              "    <tr>\n",
              "      <th>1925</th>\n",
              "      <td>Coolidge</td>\n",
              "      <td>My countrymen,\\n\\nno one can contemplate curre...</td>\n",
              "      <td>[countryman, contemplate, current, condition, ...</td>\n",
              "    </tr>\n",
              "    <tr>\n",
              "      <th>1929</th>\n",
              "      <td>Hoover</td>\n",
              "      <td>My Countrymen: This occasion is not alone the ...</td>\n",
              "      <td>[countryman, occasion, administration, sacred,...</td>\n",
              "    </tr>\n",
              "    <tr>\n",
              "      <th>1933</th>\n",
              "      <td>Roosevelt</td>\n",
              "      <td>I am certain that my fellow Americans expect t...</td>\n",
              "      <td>[certain, fellow, americans, expect, induction...</td>\n",
              "    </tr>\n",
              "    <tr>\n",
              "      <th>1937</th>\n",
              "      <td>Roosevelt</td>\n",
              "      <td>When four years ago we met to inaugurate a Pre...</td>\n",
              "      <td>[year, ago, meet, inaugurate, president, repub...</td>\n",
              "    </tr>\n",
              "    <tr>\n",
              "      <th>1941</th>\n",
              "      <td>Roosevelt</td>\n",
              "      <td>On each national day of inauguration since 178...</td>\n",
              "      <td>[national, day, inauguration, people, renew, s...</td>\n",
              "    </tr>\n",
              "    <tr>\n",
              "      <th>1945</th>\n",
              "      <td>Roosevelt</td>\n",
              "      <td>Chief Justice, Mr. Vice President, my friends,...</td>\n",
              "      <td>[chief, justice, mr., vice, president, friend,...</td>\n",
              "    </tr>\n",
              "    <tr>\n",
              "      <th>1949</th>\n",
              "      <td>Truman</td>\n",
              "      <td>Mr. Vice President, Mr. Chief Justice, and fel...</td>\n",
              "      <td>[mr., vice, president, mr., chief, justice, fe...</td>\n",
              "    </tr>\n",
              "    <tr>\n",
              "      <th>1953</th>\n",
              "      <td>Eisenhower</td>\n",
              "      <td>My friends, before I begin the expression of t...</td>\n",
              "      <td>[friend, begin, expression, thought, deem, app...</td>\n",
              "    </tr>\n",
              "    <tr>\n",
              "      <th>1957</th>\n",
              "      <td>Eisenhower</td>\n",
              "      <td>The Price of Peace\\nMr. Chairman, Mr. Vice Pre...</td>\n",
              "      <td>[price, peace, mr., chairman, mr., vice, presi...</td>\n",
              "    </tr>\n",
              "    <tr>\n",
              "      <th>1961</th>\n",
              "      <td>Kennedy</td>\n",
              "      <td>Vice President Johnson, Mr. Speaker, Mr. Chief...</td>\n",
              "      <td>[vice, president, johnson, mr., speaker, mr., ...</td>\n",
              "    </tr>\n",
              "    <tr>\n",
              "      <th>1965</th>\n",
              "      <td>Johnson</td>\n",
              "      <td>My fellow countrymen, on this occasion, the oa...</td>\n",
              "      <td>[fellow, countryman, occasion, oath, take, god...</td>\n",
              "    </tr>\n",
              "    <tr>\n",
              "      <th>1969</th>\n",
              "      <td>Nixon</td>\n",
              "      <td>Senator Dirksen, Mr. Chief Justice, Mr. Vice P...</td>\n",
              "      <td>[senator, dirksen, mr., chief, justice, mr., v...</td>\n",
              "    </tr>\n",
              "    <tr>\n",
              "      <th>1973</th>\n",
              "      <td>Nixon</td>\n",
              "      <td>Mr. Vice President, Mr. Speaker, Mr. Chief Jus...</td>\n",
              "      <td>[mr., vice, president, mr., speaker, mr., chie...</td>\n",
              "    </tr>\n",
              "    <tr>\n",
              "      <th>1977</th>\n",
              "      <td>Carter</td>\n",
              "      <td>For myself and for our Nation, I want to thank...</td>\n",
              "      <td>[nation, want, thank, predecessor, heal, land,...</td>\n",
              "    </tr>\n",
              "    <tr>\n",
              "      <th>1981</th>\n",
              "      <td>Reagan</td>\n",
              "      <td>Senator Hatfield, Mr. Chief Justice, Mr. Presi...</td>\n",
              "      <td>[senator, hatfield, mr., chief, justice, mr., ...</td>\n",
              "    </tr>\n",
              "    <tr>\n",
              "      <th>1985</th>\n",
              "      <td>Reagan</td>\n",
              "      <td>Senator Mathias, Chief Justice Burger, Vice Pr...</td>\n",
              "      <td>[senator, mathias, chief, justice, burger, vic...</td>\n",
              "    </tr>\n",
              "    <tr>\n",
              "      <th>1989</th>\n",
              "      <td>Bush</td>\n",
              "      <td>Mr. Chief Justice, Mr. President, Vice Preside...</td>\n",
              "      <td>[mr., chief, justice, mr., president, vice, pr...</td>\n",
              "    </tr>\n",
              "    <tr>\n",
              "      <th>1993</th>\n",
              "      <td>Clinton</td>\n",
              "      <td>My fellow citizens, today we celebrate the mys...</td>\n",
              "      <td>[fellow, citizen, today, celebrate, mystery, a...</td>\n",
              "    </tr>\n",
              "    <tr>\n",
              "      <th>1997</th>\n",
              "      <td>Clinton</td>\n",
              "      <td>My fellow citizens: At this last presidential ...</td>\n",
              "      <td>[fellow, citizen, presidential, inauguration, ...</td>\n",
              "    </tr>\n",
              "    <tr>\n",
              "      <th>2001</th>\n",
              "      <td>Bush</td>\n",
              "      <td>President Clinton, distinguished guests and my...</td>\n",
              "      <td>[president, clinton, distinguished, guest, fel...</td>\n",
              "    </tr>\n",
              "    <tr>\n",
              "      <th>2005</th>\n",
              "      <td>Bush</td>\n",
              "      <td>Vice President Cheney, Mr. Chief Justice, Pres...</td>\n",
              "      <td>[vice, president, cheney, mr., chief, justice,...</td>\n",
              "    </tr>\n",
              "    <tr>\n",
              "      <th>2009</th>\n",
              "      <td>Obama</td>\n",
              "      <td>My fellow citizens:\\n\\nI stand here today humb...</td>\n",
              "      <td>[fellow, citizen, stand, today, humble, task, ...</td>\n",
              "    </tr>\n",
              "    <tr>\n",
              "      <th>2013</th>\n",
              "      <td>Obama</td>\n",
              "      <td>Thank you. Thank you so much.\\n\\nVice Presiden...</td>\n",
              "      <td>[thank, thank, vice, president, biden, mr., ch...</td>\n",
              "    </tr>\n",
              "    <tr>\n",
              "      <th>2017</th>\n",
              "      <td>Trump</td>\n",
              "      <td>Chief Justice Roberts, President Carter, Presi...</td>\n",
              "      <td>[chief, justice, roberts, president, carter, p...</td>\n",
              "    </tr>\n",
              "    <tr>\n",
              "      <th>2021</th>\n",
              "      <td>Biden</td>\n",
              "      <td>Chief Justice Roberts, Vice President Harris, ...</td>\n",
              "      <td>[chief, justice, roberts, vice, president, har...</td>\n",
              "    </tr>\n",
              "  </tbody>\n",
              "</table>\n",
              "</div>\n",
              "      <button class=\"colab-df-convert\" onclick=\"convertToInteractive('df-48550b70-6a01-4f74-a11d-d4b789ff4b6a')\"\n",
              "              title=\"Convert this dataframe to an interactive table.\"\n",
              "              style=\"display:none;\">\n",
              "        \n",
              "  <svg xmlns=\"http://www.w3.org/2000/svg\" height=\"24px\"viewBox=\"0 0 24 24\"\n",
              "       width=\"24px\">\n",
              "    <path d=\"M0 0h24v24H0V0z\" fill=\"none\"/>\n",
              "    <path d=\"M18.56 5.44l.94 2.06.94-2.06 2.06-.94-2.06-.94-.94-2.06-.94 2.06-2.06.94zm-11 1L8.5 8.5l.94-2.06 2.06-.94-2.06-.94L8.5 2.5l-.94 2.06-2.06.94zm10 10l.94 2.06.94-2.06 2.06-.94-2.06-.94-.94-2.06-.94 2.06-2.06.94z\"/><path d=\"M17.41 7.96l-1.37-1.37c-.4-.4-.92-.59-1.43-.59-.52 0-1.04.2-1.43.59L10.3 9.45l-7.72 7.72c-.78.78-.78 2.05 0 2.83L4 21.41c.39.39.9.59 1.41.59.51 0 1.02-.2 1.41-.59l7.78-7.78 2.81-2.81c.8-.78.8-2.07 0-2.86zM5.41 20L4 18.59l7.72-7.72 1.47 1.35L5.41 20z\"/>\n",
              "  </svg>\n",
              "      </button>\n",
              "      \n",
              "  <style>\n",
              "    .colab-df-container {\n",
              "      display:flex;\n",
              "      flex-wrap:wrap;\n",
              "      gap: 12px;\n",
              "    }\n",
              "\n",
              "    .colab-df-convert {\n",
              "      background-color: #E8F0FE;\n",
              "      border: none;\n",
              "      border-radius: 50%;\n",
              "      cursor: pointer;\n",
              "      display: none;\n",
              "      fill: #1967D2;\n",
              "      height: 32px;\n",
              "      padding: 0 0 0 0;\n",
              "      width: 32px;\n",
              "    }\n",
              "\n",
              "    .colab-df-convert:hover {\n",
              "      background-color: #E2EBFA;\n",
              "      box-shadow: 0px 1px 2px rgba(60, 64, 67, 0.3), 0px 1px 3px 1px rgba(60, 64, 67, 0.15);\n",
              "      fill: #174EA6;\n",
              "    }\n",
              "\n",
              "    [theme=dark] .colab-df-convert {\n",
              "      background-color: #3B4455;\n",
              "      fill: #D2E3FC;\n",
              "    }\n",
              "\n",
              "    [theme=dark] .colab-df-convert:hover {\n",
              "      background-color: #434B5C;\n",
              "      box-shadow: 0px 1px 3px 1px rgba(0, 0, 0, 0.15);\n",
              "      filter: drop-shadow(0px 1px 2px rgba(0, 0, 0, 0.3));\n",
              "      fill: #FFFFFF;\n",
              "    }\n",
              "  </style>\n",
              "\n",
              "      <script>\n",
              "        const buttonEl =\n",
              "          document.querySelector('#df-48550b70-6a01-4f74-a11d-d4b789ff4b6a button.colab-df-convert');\n",
              "        buttonEl.style.display =\n",
              "          google.colab.kernel.accessAllowed ? 'block' : 'none';\n",
              "\n",
              "        async function convertToInteractive(key) {\n",
              "          const element = document.querySelector('#df-48550b70-6a01-4f74-a11d-d4b789ff4b6a');\n",
              "          const dataTable =\n",
              "            await google.colab.kernel.invokeFunction('convertToInteractive',\n",
              "                                                     [key], {});\n",
              "          if (!dataTable) return;\n",
              "\n",
              "          const docLinkHtml = 'Like what you see? Visit the ' +\n",
              "            '<a target=\"_blank\" href=https://colab.research.google.com/notebooks/data_table.ipynb>data table notebook</a>'\n",
              "            + ' to learn more about interactive tables.';\n",
              "          element.innerHTML = '';\n",
              "          dataTable['output_type'] = 'display_data';\n",
              "          await google.colab.output.renderOutput(dataTable, element);\n",
              "          const docLink = document.createElement('div');\n",
              "          docLink.innerHTML = docLinkHtml;\n",
              "          element.appendChild(docLink);\n",
              "        }\n",
              "      </script>\n",
              "    </div>\n",
              "  </div>\n",
              "  "
            ]
          },
          "metadata": {},
          "execution_count": 30
        }
      ]
    },
    {
      "cell_type": "markdown",
      "metadata": {
        "id": "ZowfPrd0Y-z-"
      },
      "source": [
        "And this is the magic of spaCy - just like that, we've managed to get rid of stopwords, punctauation markers, and added the lemmatized word. There's lot more we can do with spaCy which I would really recommend checking out."
      ]
    },
    {
      "cell_type": "markdown",
      "source": [
        "### N-gram model"
      ],
      "metadata": {
        "id": "P4NkhPAMSC4C"
      }
    },
    {
      "cell_type": "markdown",
      "source": [
        "![](https://www.oreilly.com/library/view/fasttext-quick-start/9781789130997/assets/4b93186c-0e7e-4b99-81e3-86d6d9646dd5.jpg)"
      ],
      "metadata": {
        "id": "8EXSjqncSHjt"
      }
    },
    {
      "cell_type": "markdown",
      "source": [
        "Sometimes topic models make more sense when 'New' and 'York' are treated as 'New_York' - we can do this by creating a bigram model and modifying our corpus accordingly. Gensim's `Phrases` calculates the collocation probability of a bigram by **Pointwise Mutual Information** (PMI)."
      ],
      "metadata": {
        "id": "w39r5ncpSUTQ"
      }
    },
    {
      "cell_type": "markdown",
      "source": [
        "![](https://slideplayer.com/slide/10047040/32/images/20/Pointwise+Mutual+Information.jpg)"
      ],
      "metadata": {
        "id": "q0F-z7-q6On9"
      }
    },
    {
      "cell_type": "code",
      "source": [
        "texts = df['tokens']"
      ],
      "metadata": {
        "id": "7CFI_xYsMiVD"
      },
      "execution_count": null,
      "outputs": []
    },
    {
      "cell_type": "code",
      "execution_count": null,
      "metadata": {
        "id": "lxu8Rw-kY-z_"
      },
      "outputs": [],
      "source": [
        "# NOTE: gensim.models.Phrases can take Pandas Series as its input.\n",
        "## So there's no need to do df['tokens'].to_list().\n",
        "bigram = gensim.models.Phrases(texts)"
      ]
    },
    {
      "cell_type": "code",
      "execution_count": null,
      "metadata": {
        "collapsed": true,
        "id": "u88f5W8xY-z_"
      },
      "outputs": [],
      "source": [
        "texts = [bigram[text] for text in texts]"
      ]
    },
    {
      "cell_type": "code",
      "source": [
        "texts[0][-30:]"
      ],
      "metadata": {
        "colab": {
          "base_uri": "https://localhost:8080/"
        },
        "id": "uvKTzXIJP1Vd",
        "outputId": "73a784ec-1fb2-4c22-8a30-19f6e5cb61c6"
      },
      "execution_count": null,
      "outputs": [
        {
          "output_type": "execute_result",
          "data": {
            "text/plain": [
              "['supplication',\n",
              " 'pleased',\n",
              " 'favor',\n",
              " 'american_people',\n",
              " 'opportunity',\n",
              " 'deliberate',\n",
              " 'perfect',\n",
              " 'tranquillity',\n",
              " 'disposition',\n",
              " 'decide',\n",
              " 'unparalleled',\n",
              " 'unanimity',\n",
              " 'form_government',\n",
              " 'security',\n",
              " 'union',\n",
              " 'advancement',\n",
              " 'happiness',\n",
              " 'divine',\n",
              " 'blessing',\n",
              " 'equally',\n",
              " 'conspicuous',\n",
              " 'enlarge',\n",
              " 'view',\n",
              " 'temperate',\n",
              " 'consultation',\n",
              " 'wise',\n",
              " 'measure',\n",
              " 'success',\n",
              " 'government',\n",
              " 'depend']"
            ]
          },
          "metadata": {},
          "execution_count": 34
        }
      ]
    },
    {
      "cell_type": "markdown",
      "source": [
        "### Gensim dictionary"
      ],
      "metadata": {
        "id": "xjUwO8Wpgv2O"
      }
    },
    {
      "cell_type": "markdown",
      "source": [
        "A gensim dictionary stores a mapping between tokens and their integer IDs."
      ],
      "metadata": {
        "id": "zrfhyzgMRY89"
      }
    },
    {
      "cell_type": "code",
      "execution_count": null,
      "metadata": {
        "id": "yxzYTKKDY-z_"
      },
      "outputs": [],
      "source": [
        "dictionary = Dictionary(texts)"
      ]
    },
    {
      "cell_type": "markdown",
      "source": [
        "NOTE: The gensim dictionary object has a built-in method `filter_extremes`, which allows you to filter out tokens in the dictionary by their frequency. See [the official documentation](https://radimrehurek.com/gensim/corpora/dictionary.html) for details.\n",
        "\n",
        "Parameters of the `filter_extremes` method:\n",
        "- no_below (int, optional) – Keep tokens which are contained in at least no_below documents.\n",
        "\n",
        "- no_above (float, optional) – Keep tokens which are contained in no more than no_above documents (fraction of total corpus size, not an absolute number).\n",
        "\n",
        "- keep_n (int, optional) – Keep only the first keep_n most frequent tokens.\n",
        "\n",
        "- keep_tokens (iterable of str) – Iterable of tokens that must stay in dictionary after filtering."
      ],
      "metadata": {
        "id": "XQ8Fqz9meIZs"
      }
    },
    {
      "cell_type": "code",
      "source": [
        "dictionary.filter_extremes(no_above=0.8)"
      ],
      "metadata": {
        "id": "oqJg4bJSd0v8"
      },
      "execution_count": null,
      "outputs": []
    },
    {
      "cell_type": "code",
      "source": [
        "dictionary[1]"
      ],
      "metadata": {
        "colab": {
          "base_uri": "https://localhost:8080/",
          "height": 35
        },
        "id": "Fk7RFeLOD9dY",
        "outputId": "d9ec242f-d50f-41b4-8cc8-4376da109994"
      },
      "execution_count": null,
      "outputs": [
        {
          "output_type": "execute_result",
          "data": {
            "text/plain": [
              "'acknowledge'"
            ],
            "application/vnd.google.colaboratory.intrinsic+json": {
              "type": "string"
            }
          },
          "metadata": {},
          "execution_count": 37
        }
      ]
    },
    {
      "cell_type": "code",
      "source": [
        "dictionary.token2id['acknowledge']"
      ],
      "metadata": {
        "colab": {
          "base_uri": "https://localhost:8080/"
        },
        "id": "Iw6H-UcHSbry",
        "outputId": "405d1fac-d251-4152-8d64-7c200e3aa8bf"
      },
      "execution_count": null,
      "outputs": [
        {
          "output_type": "execute_result",
          "data": {
            "text/plain": [
              "1"
            ]
          },
          "metadata": {},
          "execution_count": 38
        }
      ]
    },
    {
      "cell_type": "code",
      "source": [
        "print(dictionary)"
      ],
      "metadata": {
        "colab": {
          "base_uri": "https://localhost:8080/"
        },
        "id": "XYPmMZXlSwhK",
        "outputId": "c26a435f-7270-4df2-8d06-a880422df814"
      },
      "execution_count": null,
      "outputs": [
        {
          "output_type": "stream",
          "name": "stdout",
          "text": [
            "Dictionary(1924 unique tokens: ['accomplish', 'acknowledge', 'act', 'actual', 'add']...)\n"
          ]
        }
      ]
    },
    {
      "cell_type": "markdown",
      "source": [
        "### Bag of words (BOW)"
      ],
      "metadata": {
        "id": "yFh9sepqTLmK"
      }
    },
    {
      "cell_type": "markdown",
      "source": [
        "![](https://miro.medium.com/max/1322/1*3K9GIOVLNu0cRvQap_KaRg.png)"
      ],
      "metadata": {
        "id": "sdRUvVW_TPDz"
      }
    },
    {
      "cell_type": "markdown",
      "source": [
        "A gensim corpus stores a mapping between word IDs and their frequencies in the bag-of-words format."
      ],
      "metadata": {
        "id": "vPlO7An8T2uc"
      }
    },
    {
      "cell_type": "code",
      "source": [
        "corpus = [dictionary.doc2bow(text) for text in texts]"
      ],
      "metadata": {
        "id": "PH_408ZIRdYx"
      },
      "execution_count": null,
      "outputs": []
    },
    {
      "cell_type": "markdown",
      "source": [
        "`docid` can be any number between 0 and 58 because there are 59 documents in the corpus."
      ],
      "metadata": {
        "id": "FRVq1xdJUGfq"
      }
    },
    {
      "cell_type": "code",
      "source": [
        "# docid 58 refers to Biden's speech\n",
        "docid = 58\n",
        "corpus[docid]"
      ],
      "metadata": {
        "colab": {
          "base_uri": "https://localhost:8080/"
        },
        "id": "vDC0mxIQTtoL",
        "outputId": "9b2889d7-d1d9-4e0e-b987-a844bc5f9313"
      },
      "execution_count": null,
      "outputs": [
        {
          "output_type": "execute_result",
          "data": {
            "text/plain": [
              "[(2, 3),\n",
              " (4, 2),\n",
              " (26, 1),\n",
              " (39, 2),\n",
              " (40, 2),\n",
              " (48, 1),\n",
              " (68, 2),\n",
              " (74, 3),\n",
              " (76, 13),\n",
              " (84, 3),\n",
              " (89, 1),\n",
              " (98, 2),\n",
              " (105, 1),\n",
              " (113, 1),\n",
              " (127, 2),\n",
              " (134, 1),\n",
              " (135, 1),\n",
              " (136, 3),\n",
              " (139, 1),\n",
              " (142, 3),\n",
              " (143, 3),\n",
              " (146, 1),\n",
              " (148, 2),\n",
              " (153, 4),\n",
              " (156, 3),\n",
              " (158, 1),\n",
              " (160, 1),\n",
              " (161, 1),\n",
              " (167, 1),\n",
              " (169, 1),\n",
              " (172, 1),\n",
              " (173, 3),\n",
              " (174, 1),\n",
              " (179, 1),\n",
              " (180, 1),\n",
              " (181, 2),\n",
              " (182, 1),\n",
              " (184, 1),\n",
              " (186, 5),\n",
              " (188, 1),\n",
              " (189, 2),\n",
              " (190, 4),\n",
              " (193, 1),\n",
              " (196, 1),\n",
              " (200, 3),\n",
              " (203, 1),\n",
              " (205, 1),\n",
              " (211, 1),\n",
              " (217, 1),\n",
              " (218, 2),\n",
              " (223, 1),\n",
              " (226, 4),\n",
              " (236, 1),\n",
              " (239, 1),\n",
              " (242, 1),\n",
              " (252, 2),\n",
              " (254, 2),\n",
              " (257, 3),\n",
              " (259, 1),\n",
              " (263, 1),\n",
              " (265, 3),\n",
              " (268, 2),\n",
              " (270, 1),\n",
              " (273, 2),\n",
              " (277, 1),\n",
              " (279, 2),\n",
              " (291, 1),\n",
              " (294, 1),\n",
              " (296, 4),\n",
              " (300, 5),\n",
              " (302, 1),\n",
              " (304, 2),\n",
              " (307, 1),\n",
              " (312, 3),\n",
              " (313, 6),\n",
              " (317, 3),\n",
              " (318, 21),\n",
              " (322, 1),\n",
              " (325, 1),\n",
              " (327, 2),\n",
              " (328, 1),\n",
              " (348, 2),\n",
              " (351, 1),\n",
              " (366, 4),\n",
              " (367, 1),\n",
              " (374, 1),\n",
              " (377, 3),\n",
              " (384, 1),\n",
              " (392, 1),\n",
              " (410, 1),\n",
              " (413, 1),\n",
              " (418, 1),\n",
              " (421, 1),\n",
              " (429, 2),\n",
              " (435, 2),\n",
              " (437, 3),\n",
              " (449, 2),\n",
              " (461, 5),\n",
              " (462, 8),\n",
              " (484, 4),\n",
              " (486, 1),\n",
              " (493, 6),\n",
              " (495, 4),\n",
              " (497, 1),\n",
              " (502, 1),\n",
              " (507, 1),\n",
              " (515, 2),\n",
              " (519, 1),\n",
              " (524, 1),\n",
              " (531, 4),\n",
              " (532, 1),\n",
              " (533, 1),\n",
              " (535, 1),\n",
              " (536, 1),\n",
              " (545, 2),\n",
              " (568, 1),\n",
              " (570, 3),\n",
              " (572, 1),\n",
              " (579, 3),\n",
              " (585, 1),\n",
              " (592, 3),\n",
              " (597, 5),\n",
              " (601, 1),\n",
              " (608, 3),\n",
              " (610, 1),\n",
              " (611, 5),\n",
              " (614, 4),\n",
              " (623, 1),\n",
              " (626, 2),\n",
              " (630, 3),\n",
              " (637, 3),\n",
              " (645, 1),\n",
              " (647, 2),\n",
              " (662, 1),\n",
              " (664, 1),\n",
              " (667, 1),\n",
              " (673, 2),\n",
              " (674, 1),\n",
              " (682, 3),\n",
              " (690, 1),\n",
              " (692, 1),\n",
              " (694, 5),\n",
              " (695, 1),\n",
              " (696, 2),\n",
              " (698, 1),\n",
              " (699, 1),\n",
              " (712, 1),\n",
              " (713, 9),\n",
              " (715, 3),\n",
              " (716, 1),\n",
              " (719, 7),\n",
              " (721, 7),\n",
              " (725, 7),\n",
              " (728, 1),\n",
              " (730, 1),\n",
              " (731, 1),\n",
              " (734, 1),\n",
              " (735, 1),\n",
              " (738, 2),\n",
              " (740, 1),\n",
              " (741, 3),\n",
              " (743, 1),\n",
              " (749, 1),\n",
              " (750, 1),\n",
              " (757, 1),\n",
              " (758, 2),\n",
              " (762, 3),\n",
              " (764, 1),\n",
              " (766, 2),\n",
              " (768, 2),\n",
              " (776, 9),\n",
              " (779, 3),\n",
              " (785, 3),\n",
              " (789, 1),\n",
              " (790, 4),\n",
              " (791, 3),\n",
              " (792, 1),\n",
              " (802, 6),\n",
              " (803, 3),\n",
              " (804, 1),\n",
              " (810, 8),\n",
              " (820, 2),\n",
              " (824, 4),\n",
              " (825, 1),\n",
              " (829, 1),\n",
              " (843, 1),\n",
              " (853, 2),\n",
              " (860, 1),\n",
              " (869, 1),\n",
              " (871, 1),\n",
              " (875, 1),\n",
              " (883, 1),\n",
              " (901, 1),\n",
              " (903, 4),\n",
              " (913, 3),\n",
              " (923, 1),\n",
              " (925, 2),\n",
              " (927, 1),\n",
              " (935, 2),\n",
              " (947, 3),\n",
              " (956, 1),\n",
              " (958, 1),\n",
              " (961, 2),\n",
              " (962, 1),\n",
              " (964, 4),\n",
              " (968, 2),\n",
              " (970, 2),\n",
              " (971, 3),\n",
              " (986, 2),\n",
              " (987, 1),\n",
              " (998, 1),\n",
              " (1003, 1),\n",
              " (1009, 4),\n",
              " (1010, 2),\n",
              " (1020, 1),\n",
              " (1023, 1),\n",
              " (1024, 1),\n",
              " (1026, 1),\n",
              " (1030, 1),\n",
              " (1031, 1),\n",
              " (1034, 1),\n",
              " (1037, 2),\n",
              " (1038, 1),\n",
              " (1040, 2),\n",
              " (1051, 1),\n",
              " (1054, 1),\n",
              " (1056, 1),\n",
              " (1069, 1),\n",
              " (1072, 2),\n",
              " (1091, 1),\n",
              " (1096, 1),\n",
              " (1101, 2),\n",
              " (1104, 1),\n",
              " (1105, 1),\n",
              " (1107, 1),\n",
              " (1109, 1),\n",
              " (1132, 1),\n",
              " (1144, 3),\n",
              " (1163, 1),\n",
              " (1196, 4),\n",
              " (1222, 1),\n",
              " (1224, 3),\n",
              " (1230, 2),\n",
              " (1234, 1),\n",
              " (1246, 1),\n",
              " (1256, 2),\n",
              " (1257, 1),\n",
              " (1258, 7),\n",
              " (1269, 1),\n",
              " (1270, 1),\n",
              " (1273, 1),\n",
              " (1308, 1),\n",
              " (1313, 1),\n",
              " (1315, 1),\n",
              " (1331, 1),\n",
              " (1335, 1),\n",
              " (1336, 1),\n",
              " (1342, 1),\n",
              " (1364, 3),\n",
              " (1365, 11),\n",
              " (1367, 1),\n",
              " (1379, 4),\n",
              " (1394, 1),\n",
              " (1396, 1),\n",
              " (1407, 4),\n",
              " (1412, 1),\n",
              " (1416, 1),\n",
              " (1435, 1),\n",
              " (1454, 4),\n",
              " (1457, 1),\n",
              " (1461, 1),\n",
              " (1469, 1),\n",
              " (1486, 2),\n",
              " (1492, 1),\n",
              " (1510, 2),\n",
              " (1519, 2),\n",
              " (1547, 1),\n",
              " (1548, 1),\n",
              " (1549, 2),\n",
              " (1552, 1),\n",
              " (1554, 1),\n",
              " (1558, 1),\n",
              " (1561, 1),\n",
              " (1564, 1),\n",
              " (1568, 1),\n",
              " (1569, 1),\n",
              " (1570, 2),\n",
              " (1583, 1),\n",
              " (1584, 1),\n",
              " (1597, 1),\n",
              " (1608, 1),\n",
              " (1615, 1),\n",
              " (1618, 5),\n",
              " (1627, 1),\n",
              " (1631, 1),\n",
              " (1635, 1),\n",
              " (1640, 2),\n",
              " (1641, 1),\n",
              " (1643, 1),\n",
              " (1647, 1),\n",
              " (1652, 2),\n",
              " (1661, 1),\n",
              " (1671, 1),\n",
              " (1674, 4),\n",
              " (1675, 7),\n",
              " (1678, 1),\n",
              " (1680, 1),\n",
              " (1684, 3),\n",
              " (1688, 1),\n",
              " (1690, 1),\n",
              " (1705, 1),\n",
              " (1716, 1),\n",
              " (1719, 1),\n",
              " (1727, 1),\n",
              " (1733, 2),\n",
              " (1741, 1),\n",
              " (1742, 1),\n",
              " (1747, 1),\n",
              " (1751, 1),\n",
              " (1755, 1),\n",
              " (1759, 1),\n",
              " (1760, 1),\n",
              " (1763, 1),\n",
              " (1768, 1),\n",
              " (1781, 1),\n",
              " (1787, 10),\n",
              " (1796, 1),\n",
              " (1797, 1),\n",
              " (1809, 8),\n",
              " (1813, 1),\n",
              " (1817, 1),\n",
              " (1818, 1),\n",
              " (1828, 2),\n",
              " (1830, 1),\n",
              " (1831, 1),\n",
              " (1832, 1),\n",
              " (1834, 1),\n",
              " (1836, 1),\n",
              " (1838, 1),\n",
              " (1839, 5),\n",
              " (1840, 1),\n",
              " (1843, 1),\n",
              " (1850, 1),\n",
              " (1852, 1),\n",
              " (1853, 3),\n",
              " (1856, 1),\n",
              " (1861, 1),\n",
              " (1863, 1),\n",
              " (1865, 1),\n",
              " (1871, 1),\n",
              " (1872, 2),\n",
              " (1873, 1),\n",
              " (1880, 6),\n",
              " (1883, 2),\n",
              " (1884, 1),\n",
              " (1885, 1),\n",
              " (1886, 1),\n",
              " (1887, 3),\n",
              " (1890, 9),\n",
              " (1892, 1),\n",
              " (1898, 2),\n",
              " (1899, 3),\n",
              " (1900, 1),\n",
              " (1902, 1),\n",
              " (1905, 1),\n",
              " (1917, 1),\n",
              " (1918, 1),\n",
              " (1919, 1),\n",
              " (1920, 1),\n",
              " (1923, 2)]"
            ]
          },
          "metadata": {},
          "execution_count": 41
        }
      ]
    },
    {
      "cell_type": "code",
      "source": [
        "# docid 58 refers to Biden's speech\n",
        "docid = 58\n",
        "for id, freq in corpus[docid]:\n",
        "    print(f\"{dictionary[id]} >>> occurs {freq} times(s) in this doc\")"
      ],
      "metadata": {
        "colab": {
          "base_uri": "https://localhost:8080/"
        },
        "id": "fJryNtgnUAlS",
        "outputId": "d45c2f70-a657-4d73-c95b-590ac8863dc1"
      },
      "execution_count": null,
      "outputs": [
        {
          "output_type": "stream",
          "name": "stdout",
          "text": [
            "act >>> occurs 3 times(s) in this doc\n",
            "add >>> occurs 2 times(s) in this doc\n",
            "assure >>> occurs 1 times(s) in this doc\n",
            "bring >>> occurs 2 times(s) in this doc\n",
            "call >>> occurs 2 times(s) in this doc\n",
            "citizen >>> occurs 1 times(s) in this doc\n",
            "constitution >>> occurs 2 times(s) in this doc\n",
            "crisis >>> occurs 3 times(s) in this doc\n",
            "day >>> occurs 13 times(s) in this doc\n",
            "define >>> occurs 3 times(s) in this doc\n",
            "depend >>> occurs 1 times(s) in this doc\n",
            "duty >>> occurs 2 times(s) in this doc\n",
            "enter >>> occurs 1 times(s) in this doc\n",
            "eternal >>> occurs 1 times(s) in this doc\n",
            "far >>> occurs 2 times(s) in this doc\n",
            "finally >>> occurs 1 times(s) in this doc\n",
            "fire >>> occurs 1 times(s) in this doc\n",
            "force >>> occurs 3 times(s) in this doc\n",
            "foundation >>> occurs 1 times(s) in this doc\n",
            "future >>> occurs 3 times(s) in this doc\n",
            "give >>> occurs 3 times(s) in this doc\n",
            "guide >>> occurs 1 times(s) in this doc\n",
            "hand >>> occurs 2 times(s) in this doc\n",
            "hear >>> occurs 4 times(s) in this doc\n",
            "honor >>> occurs 3 times(s) in this doc\n",
            "house >>> occurs 1 times(s) in this doc\n",
            "humble >>> occurs 1 times(s) in this doc\n",
            "important >>> occurs 1 times(s) in this doc\n",
            "inspire >>> occurs 1 times(s) in this doc\n",
            "instead >>> occurs 1 times(s) in this doc\n",
            "interest >>> occurs 1 times(s) in this doc\n",
            "join >>> occurs 3 times(s) in this doc\n",
            "judge >>> occurs 1 times(s) in this doc\n",
            "leave >>> occurs 1 times(s) in this doc\n",
            "lesson >>> occurs 1 times(s) in this doc\n",
            "liberty >>> occurs 2 times(s) in this doc\n",
            "light >>> occurs 1 times(s) in this doc\n",
            "little >>> occurs 1 times(s) in this doc\n",
            "love >>> occurs 5 times(s) in this doc\n",
            "mean >>> occurs 1 times(s) in this doc\n",
            "measure >>> occurs 2 times(s) in this doc\n",
            "meet >>> occurs 4 times(s) in this doc\n",
            "month >>> occurs 1 times(s) in this doc\n",
            "national >>> occurs 1 times(s) in this doc\n",
            "object >>> occurs 3 times(s) in this doc\n",
            "occasion >>> occurs 1 times(s) in this doc\n",
            "opportunity >>> occurs 1 times(s) in this doc\n",
            "party >>> occurs 1 times(s) in this doc\n",
            "personal >>> occurs 1 times(s) in this doc\n",
            "pledge >>> occurs 2 times(s) in this doc\n",
            "present >>> occurs 1 times(s) in this doc\n",
            "president >>> occurs 4 times(s) in this doc\n",
            "public >>> occurs 1 times(s) in this doc\n",
            "purpose >>> occurs 1 times(s) in this doc\n",
            "question >>> occurs 1 times(s) in this doc\n",
            "repair >>> occurs 2 times(s) in this doc\n",
            "require >>> occurs 2 times(s) in this doc\n",
            "respect >>> occurs 3 times(s) in this doc\n",
            "retreat >>> occurs 1 times(s) in this doc\n",
            "reward >>> occurs 1 times(s) in this doc\n",
            "sacred >>> occurs 3 times(s) in this doc\n",
            "security >>> occurs 2 times(s) in this doc\n",
            "senate >>> occurs 1 times(s) in this doc\n",
            "service >>> occurs 2 times(s) in this doc\n",
            "step >>> occurs 1 times(s) in this doc\n",
            "struggle >>> occurs 2 times(s) in this doc\n",
            "sure >>> occurs 1 times(s) in this doc\n",
            "task >>> occurs 1 times(s) in this doc\n",
            "think >>> occurs 4 times(s) in this doc\n",
            "truth >>> occurs 5 times(s) in this doc\n",
            "union >>> occurs 1 times(s) in this doc\n",
            "united_states >>> occurs 2 times(s) in this doc\n",
            "view >>> occurs 1 times(s) in this doc\n",
            "watch >>> occurs 3 times(s) in this doc\n",
            "way >>> occurs 6 times(s) in this doc\n",
            "year >>> occurs 3 times(s) in this doc\n",
            "america >>> occurs 21 times(s) in this doc\n",
            "distinguished >>> occurs 1 times(s) in this doc\n",
            "find >>> occurs 1 times(s) in this doc\n",
            "oath >>> occurs 2 times(s) in this doc\n",
            "presence >>> occurs 1 times(s) in this doc\n",
            "age >>> occurs 2 times(s) in this doc\n",
            "angel >>> occurs 1 times(s) in this doc\n",
            "cause >>> occurs 4 times(s) in this doc\n",
            "certain >>> occurs 1 times(s) in this doc\n",
            "class >>> occurs 1 times(s) in this doc\n",
            "common >>> occurs 3 times(s) in this doc\n",
            "constant >>> occurs 1 times(s) in this doc\n",
            "conviction >>> occurs 1 times(s) in this doc\n",
            "domestic >>> occurs 1 times(s) in this doc\n",
            "early >>> occurs 1 times(s) in this doc\n",
            "elect >>> occurs 1 times(s) in this doc\n",
            "end >>> occurs 1 times(s) in this doc\n",
            "example >>> occurs 2 times(s) in this doc\n",
            "fact >>> occurs 2 times(s) in this doc\n",
            "faith >>> occurs 3 times(s) in this doc\n",
            "friend >>> occurs 2 times(s) in this doc\n",
            "heart >>> occurs 5 times(s) in this doc\n",
            "history >>> occurs 8 times(s) in this doc\n",
            "justice >>> occurs 4 times(s) in this doc\n",
            "land >>> occurs 1 times(s) in this doc\n",
            "like >>> occurs 6 times(s) in this doc\n",
            "lose >>> occurs 4 times(s) in this doc\n",
            "lot >>> occurs 1 times(s) in this doc\n",
            "manufacture >>> occurs 1 times(s) in this doc\n",
            "middle >>> occurs 1 times(s) in this doc\n",
            "neighbor >>> occurs 2 times(s) in this doc\n",
            "obligation >>> occurs 1 times(s) in this doc\n",
            "open >>> occurs 1 times(s) in this doc\n",
            "peace >>> occurs 4 times(s) in this doc\n",
            "perfect_union >>> occurs 1 times(s) in this doc\n",
            "period >>> occurs 1 times(s) in this doc\n",
            "point >>> occurs 1 times(s) in this doc\n",
            "political >>> occurs 1 times(s) in this doc\n",
            "protect >>> occurs 2 times(s) in this doc\n",
            "school >>> occurs 1 times(s) in this doc\n",
            "secure >>> occurs 3 times(s) in this doc\n",
            "sight >>> occurs 1 times(s) in this doc\n",
            "speak >>> occurs 3 times(s) in this doc\n",
            "state >>> occurs 1 times(s) in this doc\n",
            "support >>> occurs 3 times(s) in this doc\n",
            "thing >>> occurs 5 times(s) in this doc\n",
            "total >>> occurs 1 times(s) in this doc\n",
            "violence >>> occurs 3 times(s) in this doc\n",
            "vote >>> occurs 1 times(s) in this doc\n",
            "war >>> occurs 5 times(s) in this doc\n",
            "well >>> occurs 4 times(s) in this doc\n",
            "alliance >>> occurs 1 times(s) in this doc\n",
            "answer >>> occurs 2 times(s) in this doc\n",
            "ask >>> occurs 3 times(s) in this doc\n",
            "believe >>> occurs 3 times(s) in this doc\n",
            "change >>> occurs 1 times(s) in this doc\n",
            "close >>> occurs 2 times(s) in this doc\n",
            "devote >>> occurs 1 times(s) in this doc\n",
            "different >>> occurs 1 times(s) in this doc\n",
            "divide >>> occurs 1 times(s) in this doc\n",
            "endure >>> occurs 2 times(s) in this doc\n",
            "engage >>> occurs 1 times(s) in this doc\n",
            "fear >>> occurs 3 times(s) in this doc\n",
            "gain >>> occurs 1 times(s) in this doc\n",
            "generation >>> occurs 1 times(s) in this doc\n",
            "go >>> occurs 5 times(s) in this doc\n",
            "greatness >>> occurs 1 times(s) in this doc\n",
            "ground >>> occurs 2 times(s) in this doc\n",
            "hero >>> occurs 1 times(s) in this doc\n",
            "home >>> occurs 1 times(s) in this doc\n",
            "king >>> occurs 1 times(s) in this doc\n",
            "know >>> occurs 9 times(s) in this doc\n",
            "lead >>> occurs 3 times(s) in this doc\n",
            "learn >>> occurs 1 times(s) in this doc\n",
            "let >>> occurs 7 times(s) in this doc\n",
            "look >>> occurs 7 times(s) in this doc\n",
            "moment >>> occurs 7 times(s) in this doc\n",
            "office >>> occurs 1 times(s) in this doc\n",
            "pass >>> occurs 1 times(s) in this doc\n",
            "patriot >>> occurs 1 times(s) in this doc\n",
            "peaceful >>> occurs 1 times(s) in this doc\n",
            "person >>> occurs 1 times(s) in this doc\n",
            "possibility >>> occurs 2 times(s) in this doc\n",
            "press >>> occurs 1 times(s) in this doc\n",
            "prevail >>> occurs 3 times(s) in this doc\n",
            "prosperous >>> occurs 1 times(s) in this doc\n",
            "ready >>> occurs 1 times(s) in this doc\n",
            "reason >>> occurs 1 times(s) in this doc\n",
            "republic >>> occurs 1 times(s) in this doc\n",
            "restore >>> occurs 2 times(s) in this doc\n",
            "rise >>> occurs 3 times(s) in this doc\n",
            "safe >>> occurs 1 times(s) in this doc\n",
            "say >>> occurs 2 times(s) in this doc\n",
            "seek >>> occurs 2 times(s) in this doc\n",
            "stand >>> occurs 9 times(s) in this doc\n",
            "strong >>> occurs 3 times(s) in this doc\n",
            "thank >>> occurs 3 times(s) in this doc\n",
            "try >>> occurs 1 times(s) in this doc\n",
            "understand >>> occurs 4 times(s) in this doc\n",
            "unite >>> occurs 3 times(s) in this doc\n",
            "use >>> occurs 1 times(s) in this doc\n",
            "work >>> occurs 6 times(s) in this doc\n",
            "write >>> occurs 3 times(s) in this doc\n",
            "wrong >>> occurs 1 times(s) in this doc\n",
            "american >>> occurs 8 times(s) in this doc\n",
            "begin >>> occurs 2 times(s) in this doc\n",
            "child >>> occurs 4 times(s) in this doc\n",
            "church >>> occurs 1 times(s) in this doc\n",
            "complete >>> occurs 1 times(s) in this doc\n",
            "deep >>> occurs 1 times(s) in this doc\n",
            "drive >>> occurs 2 times(s) in this doc\n",
            "especially >>> occurs 1 times(s) in this doc\n",
            "family >>> occurs 1 times(s) in this doc\n",
            "fate >>> occurs 1 times(s) in this doc\n",
            "follow >>> occurs 1 times(s) in this doc\n",
            "goodness >>> occurs 1 times(s) in this doc\n",
            "level >>> occurs 1 times(s) in this doc\n",
            "lie >>> occurs 4 times(s) in this doc\n",
            "need >>> occurs 3 times(s) in this doc\n",
            "outrage >>> occurs 1 times(s) in this doc\n",
            "path >>> occurs 2 times(s) in this doc\n",
            "pay >>> occurs 1 times(s) in this doc\n",
            "progress >>> occurs 2 times(s) in this doc\n",
            "resolve >>> occurs 3 times(s) in this doc\n",
            "serve >>> occurs 1 times(s) in this doc\n",
            "shake >>> occurs 1 times(s) in this doc\n",
            "sound >>> occurs 2 times(s) in this doc\n",
            "source >>> occurs 1 times(s) in this doc\n",
            "strength >>> occurs 4 times(s) in this doc\n",
            "take >>> occurs 2 times(s) in this doc\n",
            "teach >>> occurs 2 times(s) in this doc\n",
            "tell >>> occurs 3 times(s) in this doc\n",
            "word >>> occurs 2 times(s) in this doc\n",
            "you >>> occurs 1 times(s) in this doc\n",
            "carry >>> occurs 1 times(s) in this doc\n",
            "devotion >>> occurs 1 times(s) in this doc\n",
            "face >>> occurs 4 times(s) in this doc\n",
            "fail >>> occurs 2 times(s) in this doc\n",
            "liberal >>> occurs 1 times(s) in this doc\n",
            "march >>> occurs 1 times(s) in this doc\n",
            "mark >>> occurs 1 times(s) in this doc\n",
            "observe >>> occurs 1 times(s) in this doc\n",
            "precious >>> occurs 1 times(s) in this doc\n",
            "predecessor >>> occurs 1 times(s) in this doc\n",
            "profound >>> occurs 1 times(s) in this doc\n",
            "rage >>> occurs 2 times(s) in this doc\n",
            "remember >>> occurs 1 times(s) in this doc\n",
            "responsibility >>> occurs 2 times(s) in this doc\n",
            "adversary >>> occurs 1 times(s) in this doc\n",
            "battle >>> occurs 1 times(s) in this doc\n",
            "brave >>> occurs 1 times(s) in this doc\n",
            "exhaust >>> occurs 1 times(s) in this doc\n",
            "fight >>> occurs 2 times(s) in this doc\n",
            "reality >>> occurs 1 times(s) in this doc\n",
            "sacrifice >>> occurs 1 times(s) in this doc\n",
            "thousand >>> occurs 2 times(s) in this doc\n",
            "triumph >>> occurs 1 times(s) in this doc\n",
            "troop >>> occurs 1 times(s) in this doc\n",
            "victory >>> occurs 1 times(s) in this doc\n",
            "wonder >>> occurs 1 times(s) in this doc\n",
            "climate >>> occurs 1 times(s) in this doc\n",
            "dignity >>> occurs 3 times(s) in this doc\n",
            "foe >>> occurs 1 times(s) in this doc\n",
            "prayer >>> occurs 4 times(s) in this doc\n",
            "sustain >>> occurs 1 times(s) in this doc\n",
            "test >>> occurs 3 times(s) in this doc\n",
            "turn >>> occurs 2 times(s) in this doc\n",
            "willing >>> occurs 1 times(s) in this doc\n",
            "attack >>> occurs 1 times(s) in this doc\n",
            "civil_war >>> occurs 2 times(s) in this doc\n",
            "clearly >>> occurs 1 times(s) in this doc\n",
            "come >>> occurs 7 times(s) in this doc\n",
            "depression >>> occurs 1 times(s) in this doc\n",
            "destroy >>> occurs 1 times(s) in this doc\n",
            "division >>> occurs 1 times(s) in this doc\n",
            "peril >>> occurs 1 times(s) in this doc\n",
            "real >>> occurs 1 times(s) in this doc\n",
            "recent >>> occurs 1 times(s) in this doc\n",
            "swear >>> occurs 1 times(s) in this doc\n",
            "transfer >>> occurs 1 times(s) in this doc\n",
            "treat >>> occurs 1 times(s) in this doc\n",
            "year_ago >>> occurs 1 times(s) in this doc\n",
            "defend >>> occurs 3 times(s) in this doc\n",
            "democracy >>> occurs 11 times(s) in this doc\n",
            "disease >>> occurs 1 times(s) in this doc\n",
            "forward >>> occurs 4 times(s) in this doc\n",
            "master >>> occurs 1 times(s) in this doc\n",
            "million >>> occurs 1 times(s) in this doc\n",
            "promise >>> occurs 4 times(s) in this doc\n",
            "strife >>> occurs 1 times(s) in this doc\n",
            "unfold >>> occurs 1 times(s) in this doc\n",
            "lend >>> occurs 1 times(s) in this doc\n",
            "leader >>> occurs 4 times(s) in this doc\n",
            "rest >>> occurs 1 times(s) in this doc\n",
            "son >>> occurs 1 times(s) in this doc\n",
            "balance >>> occurs 1 times(s) in this doc\n",
            "difficult >>> occurs 2 times(s) in this doc\n",
            "faction >>> occurs 1 times(s) in this doc\n",
            "overcome >>> occurs 2 times(s) in this doc\n",
            "set >>> occurs 2 times(s) in this doc\n",
            "bold >>> occurs 1 times(s) in this doc\n",
            "business >>> occurs 1 times(s) in this doc\n",
            "capitol >>> occurs 2 times(s) in this doc\n",
            "celebrate >>> occurs 1 times(s) in this doc\n",
            "clear >>> occurs 1 times(s) in this doc\n",
            "conservative >>> occurs 1 times(s) in this doc\n",
            "culture >>> occurs 1 times(s) in this doc\n",
            "deliver >>> occurs 1 times(s) in this doc\n",
            "die >>> occurs 1 times(s) in this doc\n",
            "distrust >>> occurs 1 times(s) in this doc\n",
            "dream >>> occurs 2 times(s) in this doc\n",
            "grow >>> occurs 1 times(s) in this doc\n",
            "guarantee >>> occurs 1 times(s) in this doc\n",
            "owe >>> occurs 1 times(s) in this doc\n",
            "reject >>> occurs 1 times(s) in this doc\n",
            "shadow >>> occurs 1 times(s) in this doc\n",
            "soul >>> occurs 5 times(s) in this doc\n",
            "worship >>> occurs 1 times(s) in this doc\n",
            "border >>> occurs 1 times(s) in this doc\n",
            "defend_constitution >>> occurs 1 times(s) in this doc\n",
            "hour >>> occurs 2 times(s) in this doc\n",
            "lifetime >>> occurs 1 times(s) in this doc\n",
            "merely >>> occurs 1 times(s) in this doc\n",
            "profit >>> occurs 1 times(s) in this doc\n",
            "stop >>> occurs 2 times(s) in this doc\n",
            "week >>> occurs 1 times(s) in this doc\n",
            "washington >>> occurs 1 times(s) in this doc\n",
            "century >>> occurs 4 times(s) in this doc\n",
            "challenge >>> occurs 7 times(s) in this doc\n",
            "darkness >>> occurs 1 times(s) in this doc\n",
            "deal >>> occurs 1 times(s) in this doc\n",
            "god >>> occurs 3 times(s) in this doc\n",
            "listen >>> occurs 1 times(s) in this doc\n",
            "move >>> occurs 1 times(s) in this doc\n",
            "child_child >>> occurs 1 times(s) in this doc\n",
            "build >>> occurs 1 times(s) in this doc\n",
            "grave >>> occurs 1 times(s) in this doc\n",
            "bible >>> occurs 1 times(s) in this doc\n",
            "defeat >>> occurs 2 times(s) in this doc\n",
            "rebuild >>> occurs 1 times(s) in this doc\n",
            "take_oath >>> occurs 1 times(s) in this doc\n",
            "past_year >>> occurs 1 times(s) in this doc\n",
            "emancipation >>> occurs 1 times(s) in this doc\n",
            "paper >>> occurs 1 times(s) in this doc\n",
            "white >>> occurs 1 times(s) in this doc\n",
            "ago >>> occurs 1 times(s) in this doc\n",
            "aside >>> occurs 1 times(s) in this doc\n",
            "hang >>> occurs 1 times(s) in this doc\n",
            "anew >>> occurs 1 times(s) in this doc\n",
            "today >>> occurs 10 times(s) in this doc\n",
            "hard >>> occurs 1 times(s) in this doc\n",
            "ideal >>> occurs 1 times(s) in this doc\n",
            "unity >>> occurs 8 times(s) in this doc\n",
            "confront >>> occurs 1 times(s) in this doc\n",
            "tear >>> occurs 1 times(s) in this doc\n",
            "chief_justice >>> occurs 1 times(s) in this doc\n",
            "politic >>> occurs 2 times(s) in this doc\n",
            "sign >>> occurs 1 times(s) in this doc\n",
            "century_ago >>> occurs 1 times(s) in this doc\n",
            "dark >>> occurs 1 times(s) in this doc\n",
            "speed >>> occurs 1 times(s) in this doc\n",
            "lincoln >>> occurs 1 times(s) in this doc\n",
            "thrive >>> occurs 1 times(s) in this doc\n",
            "americans >>> occurs 5 times(s) in this doc\n",
            "message >>> occurs 1 times(s) in this doc\n",
            "tolerance >>> occurs 1 times(s) in this doc\n",
            "renewal >>> occurs 1 times(s) in this doc\n",
            "storm >>> occurs 1 times(s) in this doc\n",
            "vice_president >>> occurs 3 times(s) in this doc\n",
            "apart >>> occurs 1 times(s) in this doc\n",
            "era >>> occurs 1 times(s) in this doc\n",
            "hatred >>> occurs 1 times(s) in this doc\n",
            "humility >>> occurs 1 times(s) in this doc\n",
            "start >>> occurs 1 times(s) in this doc\n",
            "tomorrow >>> occurs 2 times(s) in this doc\n",
            "heed >>> occurs 1 times(s) in this doc\n",
            "fellow_americans >>> occurs 6 times(s) in this doc\n",
            "ahead >>> occurs 2 times(s) in this doc\n",
            "chapter >>> occurs 1 times(s) in this doc\n",
            "decency >>> occurs 1 times(s) in this doc\n",
            "historic >>> occurs 1 times(s) in this doc\n",
            "job >>> occurs 3 times(s) in this doc\n",
            "story >>> occurs 9 times(s) in this doc\n",
            "create_equal >>> occurs 1 times(s) in this doc\n",
            "heal >>> occurs 2 times(s) in this doc\n",
            "night >>> occurs 3 times(s) in this doc\n",
            "planet >>> occurs 1 times(s) in this doc\n",
            "role >>> occurs 1 times(s) in this doc\n",
            "speaker >>> occurs 1 times(s) in this doc\n",
            "george >>> occurs 1 times(s) in this doc\n",
            "god_bless >>> occurs 1 times(s) in this doc\n",
            "mall >>> occurs 1 times(s) in this doc\n",
            "yes >>> occurs 1 times(s) in this doc\n",
            "health_care >>> occurs 2 times(s) in this doc\n"
          ]
        }
      ]
    },
    {
      "cell_type": "markdown",
      "metadata": {
        "id": "rBY5JemAY-z_"
      },
      "source": [
        "We're now done with a very important part of any text analysis - the data cleaning and setting up of corpus. It must be kept in mind that we created the corpus the way we did because that's how gensim requires it - most algorithms still require one to clean the data set the way we did, by removing stop words and numbers, adding the lemmatized form of the word, and using bigrams. "
      ]
    },
    {
      "cell_type": "markdown",
      "source": [
        "## Topic models"
      ],
      "metadata": {
        "id": "v6chAS6FwUmB"
      }
    },
    {
      "cell_type": "markdown",
      "source": [
        "### LDA"
      ],
      "metadata": {
        "id": "Wo1c9D6MEl7U"
      }
    },
    {
      "cell_type": "markdown",
      "source": [
        "![](https://miro.medium.com/max/780/0*eTImSma37fd3aPka.png)"
      ],
      "metadata": {
        "id": "C3shBvpfGy57"
      }
    },
    {
      "cell_type": "markdown",
      "source": [
        "In **Latent Dirichlet Allocation** (LDA), the probability of a document is determined by two types of distributions:\n",
        "- Dirichlet distribution\n",
        "- Multinomial distribution\n",
        "\n",
        "Watch the following video starting at 7:00. "
      ],
      "metadata": {
        "id": "y2_W2o_ZMYoJ"
      }
    },
    {
      "cell_type": "code",
      "source": [
        "from IPython.display import YouTubeVideo\n",
        "YouTubeVideo('T05t-SqKArY')"
      ],
      "metadata": {
        "colab": {
          "base_uri": "https://localhost:8080/",
          "height": 321
        },
        "id": "A7Aqbie8Lj-j",
        "outputId": "2ab30d87-c813-410b-ac17-9363607a05ba"
      },
      "execution_count": null,
      "outputs": [
        {
          "output_type": "execute_result",
          "data": {
            "text/plain": [
              "<IPython.lib.display.YouTubeVideo at 0x7f9628f89590>"
            ],
            "text/html": [
              "\n",
              "        <iframe\n",
              "            width=\"400\"\n",
              "            height=\"300\"\n",
              "            src=\"https://www.youtube.com/embed/T05t-SqKArY\"\n",
              "            frameborder=\"0\"\n",
              "            allowfullscreen\n",
              "        ></iframe>\n",
              "        "
            ],
            "image/jpeg": "[encoded data removed]"
          },
          "metadata": {},
          "execution_count": 43
        }
      ]
    },
    {
      "cell_type": "markdown",
      "metadata": {
        "id": "R6Uqt31qY-0B"
      },
      "source": [
        "LDA is arguably the most famous topic modelling algorithm out there. Out here we create a simple topic model with 8 topics, but feel free to change it to any other number."
      ]
    },
    {
      "cell_type": "code",
      "execution_count": null,
      "metadata": {
        "id": "27JlugIzY-0B"
      },
      "outputs": [],
      "source": [
        "Ktopics = 8\n",
        "ldamodel = LdaModel(corpus=corpus, num_topics=Ktopics, id2word=dictionary)"
      ]
    },
    {
      "cell_type": "markdown",
      "source": [
        "**Each topic is a probability distribution over words in the vocabulary.**"
      ],
      "metadata": {
        "id": "9yNY-uz8QkXL"
      }
    },
    {
      "cell_type": "code",
      "execution_count": null,
      "metadata": {
        "id": "Lf5TKZSzY-0C",
        "outputId": "37638544-7cfc-4c3b-a196-4e86c365cf48",
        "colab": {
          "base_uri": "https://localhost:8080/"
        }
      },
      "outputs": [
        {
          "output_type": "execute_result",
          "data": {
            "text/plain": [
              "[(0,\n",
              "  '0.006*\"law\" + 0.005*\"freedom\" + 0.005*\"citizen\" + 0.005*\"peace\" + 0.005*\"constitution\" + 0.005*\"america\" + 0.005*\"state\" + 0.004*\"duty\" + 0.004*\"interest\" + 0.004*\"public\"'),\n",
              " (1,\n",
              "  '0.007*\"law\" + 0.006*\"peace\" + 0.006*\"citizen\" + 0.005*\"america\" + 0.005*\"public\" + 0.005*\"let\" + 0.005*\"constitution\" + 0.005*\"freedom\" + 0.005*\"need\" + 0.004*\"interest\"'),\n",
              " (2,\n",
              "  '0.008*\"america\" + 0.007*\"war\" + 0.005*\"know\" + 0.005*\"freedom\" + 0.005*\"law\" + 0.005*\"peace\" + 0.004*\"interest\" + 0.004*\"union\" + 0.004*\"day\" + 0.004*\"need\"'),\n",
              " (3,\n",
              "  '0.006*\"duty\" + 0.006*\"union\" + 0.006*\"constitution\" + 0.005*\"congress\" + 0.005*\"citizen\" + 0.005*\"peace\" + 0.005*\"state\" + 0.004*\"public\" + 0.004*\"law\" + 0.004*\"interest\"'),\n",
              " (4,\n",
              "  '0.008*\"america\" + 0.005*\"peace\" + 0.005*\"interest\" + 0.005*\"union\" + 0.005*\"american\" + 0.004*\"national\" + 0.004*\"today\" + 0.004*\"law\" + 0.004*\"public\" + 0.004*\"justice\"'),\n",
              " (5,\n",
              "  '0.007*\"peace\" + 0.006*\"war\" + 0.006*\"america\" + 0.005*\"law\" + 0.005*\"duty\" + 0.004*\"year\" + 0.004*\"work\" + 0.004*\"purpose\" + 0.004*\"union\" + 0.004*\"spirit\"'),\n",
              " (6,\n",
              "  '0.006*\"law\" + 0.006*\"peace\" + 0.006*\"interest\" + 0.005*\"duty\" + 0.005*\"union\" + 0.004*\"states\" + 0.004*\"war\" + 0.004*\"work\" + 0.004*\"find\" + 0.004*\"public\"'),\n",
              " (7,\n",
              "  '0.008*\"peace\" + 0.007*\"freedom\" + 0.006*\"law\" + 0.005*\"america\" + 0.005*\"let\" + 0.005*\"come\" + 0.004*\"know\" + 0.004*\"duty\" + 0.004*\"war\" + 0.004*\"union\"')]"
            ]
          },
          "metadata": {},
          "execution_count": 45
        }
      ],
      "source": [
        "ldamodel.show_topics()"
      ]
    },
    {
      "cell_type": "markdown",
      "source": [
        "**Each document is a probability distribution over topics in the corpus.**"
      ],
      "metadata": {
        "id": "svOMJULTRGRH"
      }
    },
    {
      "cell_type": "code",
      "source": [
        "# docid 58 refers to Biden's speech\n",
        "docid = 58\n",
        "doc_bow = corpus[docid]\n",
        "ldamodel.get_document_topics(doc_bow)"
      ],
      "metadata": {
        "colab": {
          "base_uri": "https://localhost:8080/"
        },
        "id": "Ov3fBtE_JIzi",
        "outputId": "b2749f31-ee3e-4ab4-f23a-3acbc3a7ad88"
      },
      "execution_count": null,
      "outputs": [
        {
          "output_type": "execute_result",
          "data": {
            "text/plain": [
              "[(7, 0.9975202)]"
            ]
          },
          "metadata": {},
          "execution_count": 46
        }
      ]
    },
    {
      "cell_type": "markdown",
      "metadata": {
        "id": "Cz48PcmEY-0B"
      },
      "source": [
        "### HDP\n",
        "\n",
        "**Hierarchical Dirichlet Process** (HDP) is an unsupervised topic model which figures out the number of topics on it's own."
      ]
    },
    {
      "cell_type": "code",
      "execution_count": null,
      "metadata": {
        "collapsed": true,
        "id": "2NhoI0GfY-0B"
      },
      "outputs": [],
      "source": [
        "hdpmodel = HdpModel(corpus=corpus, id2word=dictionary)"
      ]
    },
    {
      "cell_type": "code",
      "execution_count": null,
      "metadata": {
        "id": "oiP2X-_cY-0B",
        "outputId": "6fa1f06b-e46a-492e-9fa6-5af858058cbb",
        "colab": {
          "base_uri": "https://localhost:8080/"
        }
      },
      "outputs": [
        {
          "output_type": "execute_result",
          "data": {
            "text/plain": [
              "[(0,\n",
              "  '0.008*constitution + 0.008*union + 0.007*states + 0.007*law + 0.006*duty + 0.006*state + 0.005*interest + 0.005*citizen + 0.004*public + 0.004*principle + 0.003*spirit + 0.003*liberty + 0.003*revenue + 0.003*exist + 0.003*peace + 0.003*united_states + 0.003*institution + 0.003*find + 0.003*exercise + 0.003*fellow_citizen'),\n",
              " (1,\n",
              "  '0.005*congress + 0.005*law + 0.004*public + 0.004*duty + 0.003*united_states + 0.003*need + 0.003*citizen + 0.003*work + 0.003*support + 0.003*day + 0.003*national + 0.003*american + 0.003*revenue + 0.003*importance + 0.003*face + 0.002*action + 0.002*interest + 0.002*thing + 0.002*war + 0.002*constitution'),\n",
              " (2,\n",
              "  '0.007*america + 0.005*peace + 0.005*law + 0.005*let + 0.004*interest + 0.004*responsibility + 0.004*business + 0.004*policy + 0.004*respect + 0.003*work + 0.003*race + 0.003*pass + 0.003*secure + 0.003*american + 0.003*promise + 0.003*force + 0.003*proper + 0.003*build + 0.003*freedom + 0.003*duty'),\n",
              " (3,\n",
              "  '0.006*union + 0.004*peace + 0.004*freedom + 0.003*war + 0.003*reduce + 0.003*executive + 0.003*national + 0.003*public + 0.003*principle + 0.003*work + 0.003*year + 0.003*duty + 0.003*element + 0.003*faith + 0.002*congress + 0.002*administration + 0.002*united_states + 0.002*political + 0.002*believe + 0.002*excuse'),\n",
              " (4,\n",
              "  '0.004*united_states + 0.003*duty + 0.003*union + 0.003*sovereign + 0.003*present + 0.003*war + 0.003*trust + 0.003*high + 0.003*citizen + 0.003*interest + 0.003*public + 0.003*produce + 0.003*ought + 0.003*approach + 0.003*principle + 0.003*incident + 0.002*purpose + 0.002*states + 0.002*state + 0.002*foreign'),\n",
              " (5,\n",
              "  '0.005*war + 0.005*united_states + 0.004*commerce + 0.003*fellow_citizen + 0.003*you + 0.003*party + 0.003*revenue + 0.003*high + 0.003*measure + 0.003*year + 0.003*cultivate + 0.003*advantage + 0.003*invite + 0.003*peace + 0.002*conduct + 0.002*afford + 0.002*support + 0.002*repeat + 0.002*break + 0.002*sacred'),\n",
              " (6,\n",
              "  '0.005*institution + 0.004*impose + 0.003*experience + 0.003*belief + 0.003*inauguration + 0.003*principle + 0.002*look + 0.002*overthrow + 0.002*population + 0.002*present + 0.002*establish + 0.002*preserve + 0.002*sure + 0.002*friendship + 0.002*cost + 0.002*interest + 0.002*kindness + 0.002*conduct + 0.002*pledge + 0.002*exist'),\n",
              " (7,\n",
              "  '0.006*law + 0.005*progress + 0.004*peace + 0.004*justice + 0.004*purpose + 0.003*citizen + 0.003*system + 0.003*enforcement + 0.003*find + 0.003*advance + 0.003*public + 0.002*ideal + 0.002*responsibility + 0.002*home + 0.002*old + 0.002*sound + 0.002*education + 0.002*utter + 0.002*support + 0.002*adapt'),\n",
              " (8,\n",
              "  '0.004*peace + 0.003*public + 0.003*party + 0.003*action + 0.003*economy + 0.003*ought + 0.003*support + 0.003*duty + 0.003*force + 0.003*old + 0.003*position + 0.003*citizen + 0.003*danger + 0.002*justice + 0.002*secure + 0.002*result + 0.002*fundamental + 0.002*law + 0.002*little + 0.002*continue'),\n",
              " (9,\n",
              "  '0.005*america + 0.004*war + 0.004*republic + 0.003*civilization + 0.003*seek + 0.003*god + 0.003*economic + 0.003*last + 0.003*like + 0.003*order + 0.003*today + 0.003*way + 0.003*cherish + 0.002*choice + 0.002*high + 0.002*promote + 0.002*relationship + 0.002*peace + 0.002*inspire + 0.002*understanding'),\n",
              " (10,\n",
              "  '0.005*union + 0.003*question + 0.003*state + 0.003*constitution + 0.003*states + 0.003*necessary + 0.003*congress + 0.003*present + 0.003*war + 0.003*mean + 0.003*humbly + 0.003*love + 0.003*defend + 0.003*public + 0.002*citizen + 0.002*territory + 0.002*mere + 0.002*ruin + 0.002*storm + 0.002*bond'),\n",
              " (11,\n",
              "  '0.003*states + 0.003*observation + 0.003*wealth + 0.003*voice + 0.003*rise + 0.003*wisdom + 0.003*depend + 0.003*guaranty + 0.003*conviction + 0.002*constitutional + 0.002*human + 0.002*regard + 0.002*advantage + 0.002*army + 0.002*decade + 0.002*act + 0.002*start + 0.002*write + 0.002*population + 0.002*north'),\n",
              " (12,\n",
              "  '0.005*member + 0.004*political + 0.003*public + 0.003*question + 0.003*method + 0.003*regard + 0.003*peaceful + 0.003*principle + 0.003*interest + 0.003*party + 0.003*destiny + 0.003*welfare + 0.003*attainment + 0.002*expressly + 0.002*argument + 0.002*mean + 0.002*political_party + 0.002*race + 0.002*chain + 0.002*supply'),\n",
              " (13,\n",
              "  '0.008*america + 0.004*day + 0.004*like + 0.004*today + 0.004*presence + 0.003*democracy + 0.003*history + 0.003*asia + 0.003*general_government + 0.003*unity + 0.003*protect + 0.003*hear + 0.003*stand + 0.003*know + 0.003*require + 0.003*story + 0.003*steadily + 0.003*come + 0.003*american + 0.003*question'),\n",
              " (14,\n",
              "  '0.005*peace + 0.004*faith + 0.004*soldier + 0.004*freedom + 0.003*strength + 0.003*know + 0.003*definition + 0.003*assign + 0.003*sign + 0.003*century + 0.003*fundamental + 0.003*seek + 0.002*turn + 0.002*work + 0.002*summon + 0.002*force + 0.002*provision + 0.002*sight + 0.002*principle + 0.002*mountain'),\n",
              " (15,\n",
              "  '0.005*freedom + 0.004*let + 0.004*history + 0.004*stand + 0.003*transaction + 0.003*finish + 0.003*nuclear + 0.003*human_dignity + 0.003*induce + 0.003*peace + 0.003*federal_government + 0.003*year + 0.003*day + 0.003*god + 0.003*american + 0.003*weapon + 0.002*work + 0.002*decision + 0.002*prayer + 0.002*group'),\n",
              " (16,\n",
              "  '0.004*hear + 0.003*america + 0.003*eastern + 0.003*daily + 0.003*creed + 0.003*year + 0.003*grow + 0.003*amity + 0.003*decency + 0.003*citizen + 0.003*require + 0.002*crisis + 0.002*watchful + 0.002*consent + 0.002*act + 0.002*pride + 0.002*disregard + 0.002*self + 0.002*invite + 0.002*today'),\n",
              " (17,\n",
              "  '0.003*cement + 0.003*america + 0.003*understand + 0.003*productive + 0.003*recognize + 0.003*cast + 0.003*correct + 0.003*work + 0.003*conception + 0.003*today + 0.002*found + 0.002*generation + 0.002*prospect + 0.002*know + 0.002*shall_endeavor + 0.002*hard + 0.002*let + 0.002*promptly + 0.002*small + 0.002*meet'),\n",
              " (18,\n",
              "  '0.005*peace + 0.004*freedom + 0.004*strengthen + 0.004*live + 0.003*divide + 0.003*security + 0.003*area + 0.003*difference + 0.003*believe + 0.003*democracy + 0.003*effort + 0.003*desire + 0.003*despair + 0.003*program + 0.003*increase + 0.003*favorable + 0.003*bring + 0.002*benefit + 0.002*resource + 0.002*help'),\n",
              " (19,\n",
              "  '0.009*freedom + 0.005*liberty + 0.004*america + 0.004*american + 0.003*day + 0.003*heretofore + 0.003*suppose + 0.003*dignity + 0.003*know + 0.003*steady + 0.003*dedication + 0.003*british + 0.003*come + 0.002*agree + 0.002*remember + 0.002*corner + 0.002*fellow_citizen + 0.002*amendment + 0.002*execution + 0.002*freeman')]"
            ]
          },
          "metadata": {},
          "execution_count": 48
        }
      ],
      "source": [
        "hdpmodel.show_topics()"
      ]
    },
    {
      "cell_type": "markdown",
      "source": [
        "## Visualization"
      ],
      "metadata": {
        "id": "dWfd5yPPwRIW"
      }
    },
    {
      "cell_type": "markdown",
      "metadata": {
        "id": "YnEgNlxDY-0C"
      },
      "source": [
        "### pyLDAvis \n",
        "\n",
        "Thanks to pyLDAvis, we can visualize our topic models in a really handy way. All we need to do is enable our notebook and prepare the object."
      ]
    },
    {
      "cell_type": "code",
      "execution_count": null,
      "metadata": {
        "id": "5d4lmzQEY-0C"
      },
      "outputs": [],
      "source": [
        "pyLDAvis.enable_notebook()"
      ]
    },
    {
      "cell_type": "code",
      "source": [
        "pyLDAvis.gensim_models.prepare(ldamodel, corpus, dictionary)"
      ],
      "metadata": {
        "colab": {
          "base_uri": "https://localhost:8080/",
          "height": 881
        },
        "id": "h52Xij6SWOwn",
        "outputId": "d9fdf554-75f5-4a23-d21a-247e68cb2137"
      },
      "execution_count": null,
      "outputs": [
        {
          "output_type": "execute_result",
          "data": {
            "text/plain": [
              "PreparedData(topic_coordinates=              x         y  topics  cluster       Freq\n",
              "topic                                                \n",
              "7      0.008577 -0.002855       1        1  27.442670\n",
              "0     -0.004150 -0.004314       2        1  25.609816\n",
              "6     -0.003770  0.001958       3        1  16.651301\n",
              "1      0.002281  0.002099       4        1  11.403409\n",
              "3     -0.012006  0.000564       5        1  11.110443\n",
              "5      0.000038 -0.003039       6        1   3.221090\n",
              "4      0.003210  0.006308       7        1   2.847352\n",
              "2      0.005821 -0.000720       8        1   1.713918, topic_info=             Term        Freq       Total Category  logprob  loglift\n",
              "318       america  200.000000  200.000000  Default  30.0000  30.0000\n",
              "611           war  172.000000  172.000000  Default  29.0000  29.0000\n",
              "531         peace  256.000000  256.000000  Default  28.0000  28.0000\n",
              "487           law  243.000000  243.000000  Default  27.0000  27.0000\n",
              "302         union  172.000000  172.000000  Default  26.0000  26.0000\n",
              "..            ...         ...         ...      ...      ...      ...\n",
              "802          work    2.155955  144.636174   Topic8  -5.8238  -0.1396\n",
              "181       liberty    2.059089  129.291629   Topic8  -5.8697  -0.0734\n",
              "227     principle    2.097226  147.219167   Topic8  -5.8514  -0.1849\n",
              "586        states    2.044278  139.202767   Topic8  -5.8770  -0.1545\n",
              "68   constitution    2.074379  173.038349   Topic8  -5.8623  -0.3575\n",
              "\n",
              "[629 rows x 6 columns], token_table=      Topic      Freq        Term\n",
              "term                             \n",
              "1663      1  0.151867  acceptance\n",
              "1663      2  0.151867  acceptance\n",
              "1663      3  0.303733  acceptance\n",
              "1663      4  0.151867  acceptance\n",
              "1663      5  0.151867  acceptance\n",
              "...     ...       ...         ...\n",
              "1920      2  0.249544         yes\n",
              "1920      3  0.083181         yes\n",
              "1920      4  0.166363         yes\n",
              "1920      5  0.083181         yes\n",
              "1920      7  0.083181         yes\n",
              "\n",
              "[2443 rows x 3 columns], R=30, lambda_step=0.01, plot_opts={'xlab': 'PC1', 'ylab': 'PC2'}, topic_order=[8, 1, 7, 2, 4, 6, 5, 3])"
            ],
            "text/html": [
              "\n",
              "<link rel=\"stylesheet\" type=\"text/css\" href=\"https://cdn.jsdelivr.net/gh/bmabey/pyLDAvis@3.3.1/pyLDAvis/js/ldavis.v1.0.0.css\">\n",
              "\n",
              "\n",
              "<div id=\"ldavis_el591402829092291365366705718\"></div>\n",
              "<script type=\"text/javascript\">\n",
              "\n",
              "var ldavis_el591402829092291365366705718_data = {\"mdsDat\": {\"x\": [0.0085770706688911, -0.0041504985938428446, -0.0037701379658540628, 0.0022811408746515787, -0.012006122022129709, 3.761769427300457e-05, 0.003210160055678982, 0.005820769288331947], \"y\": [-0.0028553553320426143, -0.004313654747572681, 0.0019575162142360537, 0.0020985358093098907, 0.000563676250356651, -0.0030394195944368515, 0.006308421258800521, -0.0007197198586509591], \"topics\": [1, 2, 3, 4, 5, 6, 7, 8], \"cluster\": [1, 1, 1, 1, 1, 1, 1, 1], \"Freq\": [27.442670141469183, 25.609815997458295, 16.65130083299993, 11.403409293541861, 11.110443071011554, 3.221090304046222, 2.8473519019251996, 1.7139184575477422]}, \"tinfo\": {\"Term\": [\"america\", \"war\", \"peace\", \"law\", \"union\", \"know\", \"interest\", \"freedom\", \"duty\", \"let\", \"year\", \"citizen\", \"american\", \"purpose\", \"need\", \"come\", \"work\", \"national\", \"principle\", \"public\", \"find\", \"spirit\", \"today\", \"change\", \"day\", \"justice\", \"fellow_citizen\", \"congress\", \"united_states\", \"constitution\", \"communism\", \"help\", \"dignity\", \"isolation\", \"senator\", \"human_dignity\", \"retreat\", \"area\", \"dawn\", \"achieve\", \"mr._chief\", \"leader\", \"start\", \"neighborhood\", \"role\", \"night\", \"nuclear\", \"vice_president\", \"dark\", \"bold\", \"heart\", \"agreement\", \"ahead\", \"structure\", \"age\", \"anniversary\", \"democracy\", \"inspire\", \"simple\", \"program\", \"come\", \"today\", \"century\", \"way\", \"freedom\", \"use\", \"let\", \"look\", \"peace\", \"history\", \"build\", \"challenge\", \"know\", \"forward\", \"old\", \"day\", \"advance\", \"america\", \"thing\", \"force\", \"year\", \"need\", \"spirit\", \"security\", \"seek\", \"law\", \"work\", \"american\", \"war\", \"duty\", \"stand\", \"justice\", \"union\", \"policy\", \"support\", \"interest\", \"purpose\", \"national\", \"citizen\", \"states\", \"constitution\", \"virtuous\", \"attachment\", \"animosity\", \"manufacturer\", \"human_mind\", \"removal\", \"decline\", \"intrigue\", \"reflection\", \"enemy\", \"decide\", \"render\", \"legislature\", \"interior\", \"benign\", \"produce\", \"character\", \"jefferson\", \"intention\", \"bulwark\", \"certainly\", \"recommendation\", \"conscious\", \"expose\", \"authority\", \"branch_government\", \"reverence\", \"confederacy\", \"author\", \"error\", \"influence\", \"command\", \"mode\", \"effect\", \"govern\", \"care\", \"opinion\", \"fellow_citizen\", \"trust\", \"administration\", \"state\", \"far\", \"citizen\", \"high\", \"system\", \"constitution\", \"liberty\", \"example\", \"freedom\", \"necessary\", \"united_states\", \"circumstance\", \"faith\", \"congress\", \"law\", \"believe\", \"love\", \"object\", \"present\", \"principle\", \"public\", \"america\", \"justice\", \"duty\", \"service\", \"interest\", \"peace\", \"day\", \"war\", \"purpose\", \"find\", \"spirit\", \"work\", \"union\", \"states\", \"national\", \"american\", \"inaugurate\", \"rest\", \"acceptance\", \"test\", \"controversy\", \"suspicion\", \"universal\", \"solve\", \"color\", \"contract\", \"harmonious\", \"presidential\", \"inestimable\", \"section_country\", \"cement\", \"republic\", \"deem\", \"varied\", \"discover\", \"known\", \"differ\", \"complex\", \"exact\", \"solemnity\", \"federal\", \"forbearance\", \"welfare\", \"deal\", \"institution\", \"rejoice\", \"possibility\", \"enterprise\", \"interest\", \"method\", \"states\", \"independent\", \"maintain\", \"assume\", \"affair\", \"strong\", \"change\", \"find\", \"thought\", \"permit\", \"revenue\", \"form\", \"pay\", \"work\", \"secure\", \"union\", \"executive\", \"law\", \"require\", \"purpose\", \"continue\", \"united_states\", \"principle\", \"peace\", \"duty\", \"danger\", \"national\", \"effort\", \"public\", \"war\", \"day\", \"high\", \"year\", \"party\", \"state\", \"constitution\", \"justice\", \"policy\", \"citizen\", \"come\", \"know\", \"liberty\", \"america\", \"let\", \"side\", \"loyalty\", \"religious\", \"bear\", \"conscience\", \"high_standard\", \"plain\", \"need\", \"confine\", \"ceremony\", \"north_south\", \"partisan\", \"sense_responsibility\", \"merit\", \"slow\", \"forth\", \"tempt\", \"gather\", \"money\", \"dare\", \"planet\", \"enlighten\", \"wage\", \"fairly\", \"infancy\", \"executive_branch\", \"heavy\", \"anew\", \"largely\", \"bless\", \"act\", \"property\", \"let\", \"pledge\", \"begin\", \"public\", \"citizen\", \"commit\", \"pay\", \"realize\", \"law\", \"seek\", \"political\", \"maintain\", \"constitution\", \"arm\", \"america\", \"strength\", \"home\", \"support\", \"mean\", \"peace\", \"live\", \"effort\", \"century\", \"require\", \"know\", \"interest\", \"principle\", \"find\", \"policy\", \"freedom\", \"work\", \"states\", \"fellow_citizen\", \"national\", \"united_states\", \"union\", \"war\", \"year\", \"force\", \"duty\", \"american\", \"liberty\", \"spirit\", \"state\", \"thereof\", \"tendency\", \"chief_magistrate\", \"reverently\", \"jurisdiction\", \"review\", \"south\", \"tariff\", \"rightfully\", \"platform\", \"arrive\", \"proper\", \"banking\", \"amendment\", \"animate\", \"court\", \"invariably\", \"protection\", \"purity\", \"regulation\", \"operate\", \"currency\", \"bank\", \"compose\", \"respective\", \"authorize\", \"bill\", \"removal\", \"exclusively\", \"lay\", \"congress\", \"grant\", \"republic\", \"certainly\", \"slavery\", \"present\", \"give\", \"union\", \"subject\", \"condition\", \"constitution\", \"duty\", \"exist\", \"business\", \"revenue\", \"state\", \"president\", \"cause\", \"race\", \"spirit\", \"public\", \"principle\", \"important\", \"secure\", \"citizen\", \"find\", \"hand\", \"united_states\", \"interest\", \"states\", \"war\", \"peace\", \"law\", \"know\", \"liberty\", \"year\", \"justice\", \"national\", \"freedom\", \"policy\", \"support\", \"british\", \"excite\", \"blood\", \"god_bless\", \"compel\", \"victory\", \"await\", \"destine\", \"exertion\", \"compassion\", \"ensure\", \"enable\", \"stake\", \"submit\", \"reliance\", \"unite\", \"pain\", \"undermine\", \"kind\", \"derive\", \"neutrality\", \"office\", \"proceed\", \"almighty_god\", \"prosper\", \"mother\", \"canal\", \"amidst\", \"appeal\", \"share\", \"war\", \"common\", \"year\", \"lead\", \"term\", \"impose\", \"countryman\", \"purpose\", \"earth\", \"believe\", \"experience\", \"strength\", \"america\", \"confidence\", \"work\", \"give\", \"peace\", \"control\", \"change\", \"limit\", \"duty\", \"spirit\", \"produce\", \"know\", \"support\", \"principle\", \"law\", \"history\", \"stand\", \"american\", \"union\", \"seek\", \"let\", \"public\", \"interest\", \"need\", \"freedom\", \"citizen\", \"national\", \"united_states\", \"constitution\", \"state\", \"come\", \"congress\", \"find\", \"renewal\", \"forth\", \"thank_god\", \"loyalty\", \"capitol\", \"total\", \"pain\", \"inherit\", \"season\", \"hardship\", \"disease\", \"refuse\", \"tomorrow\", \"forget\", \"brave\", \"allegiance\", \"job\", \"technology\", \"today\", \"local_government\", \"spring\", \"hour\", \"fellow_americans\", \"trade\", \"yes\", \"potential\", \"america\", \"bridge\", \"factory\", \"quest\", \"politic\", \"discipline\", \"vision\", \"necessity\", \"opportunity\", \"family\", \"american\", \"americans\", \"national\", \"challenge\", \"proper\", \"question\", \"god\", \"justice\", \"union\", \"interest\", \"strengthen\", \"course\", \"authority\", \"stand\", \"let\", \"increase\", \"necessary\", \"home\", \"force\", \"year\", \"public\", \"way\", \"change\", \"principle\", \"war\", \"party\", \"peace\", \"purpose\", \"system\", \"state\", \"present\", \"law\", \"united_states\", \"citizen\", \"work\", \"duty\", \"congress\", \"states\", \"know\", \"come\", \"bible\", \"finish\", \"pray\", \"feed\", \"ceremony\", \"heal\", \"fate\", \"recall\", \"pass_away\", \"altogether\", \"idealism\", \"wonder\", \"unity\", \"avert\", \"ensure\", \"answer\", \"dollar\", \"humbly\", \"distant\", \"renew\", \"level\", \"sign\", \"sword\", \"play\", \"confront\", \"hero\", \"match\", \"belong\", \"oath\", \"take_oath\", \"war\", \"job\", \"america\", \"know\", \"generation\", \"change\", \"share\", \"need\", \"sacrifice\", \"dream\", \"washington\", \"strength\", \"day\", \"fellow_citizen\", \"act\", \"come\", \"find\", \"cause\", \"maintain\", \"meet\", \"purpose\", \"freedom\", \"year\", \"hand\", \"future\", \"american\", \"faith\", \"seek\", \"stand\", \"interest\", \"let\", \"union\", \"human\", \"land\", \"citizen\", \"law\", \"peace\", \"spirit\", \"duty\", \"policy\", \"work\", \"liberty\", \"principle\", \"states\", \"constitution\"], \"Freq\": [200.0, 172.0, 256.0, 243.0, 172.0, 147.0, 182.0, 202.0, 191.0, 144.0, 124.0, 183.0, 121.0, 125.0, 112.0, 131.0, 144.0, 129.0, 147.0, 160.0, 131.0, 139.0, 105.0, 92.0, 130.0, 134.0, 103.0, 128.0, 144.0, 173.0, 6.759698201017593, 35.79700884205362, 11.403893036988821, 2.710734167743461, 5.126441213290351, 3.693158142460912, 4.560849630622976, 6.161110264500187, 3.0070397125973853, 13.708235944034472, 4.65670380407788, 10.89272515060551, 4.738366874350666, 2.5783701869950417, 6.094420915001195, 4.322880870011499, 4.679094211320777, 8.13921887553405, 6.787683491469072, 6.256538636894574, 32.45994646135934, 4.324313233515154, 4.084899196039847, 5.236027046165347, 16.35609869916235, 2.5492527686639836, 31.964636181271295, 9.682972344410492, 8.289002299508413, 8.055901196032487, 53.43733849204729, 42.186226817545105, 25.20269513348641, 41.37426191574374, 76.71548351565215, 22.586881979012556, 54.69170152044368, 30.233038858430135, 89.79159552679397, 35.799787253442915, 19.99386158489864, 16.94388087181517, 52.522778982604784, 14.830776673159269, 30.85369029028284, 44.67737711148877, 20.409878396306063, 63.956262644610035, 30.99225200426487, 35.16343589421919, 41.35339936290474, 37.3429392315954, 44.516096039404644, 24.88289237049246, 33.61884033832921, 64.42445486832995, 42.88383372023617, 37.43182121003145, 48.362882728744744, 52.21839884956335, 30.41102845928003, 38.78374399490169, 44.90630516067647, 34.38550789123777, 34.33320198602245, 41.423191317098485, 35.025714228299094, 34.90589183888303, 38.54414815090812, 35.21818038555603, 34.54401598913688, 5.021087535518534, 5.085427906275314, 3.6069715954279404, 3.8031142070247848, 2.963893579194937, 3.3222907299989908, 4.359538983343874, 2.8393612002425934, 4.039517912495108, 11.645506894258636, 6.933704666437366, 7.034592235038698, 7.673516814648796, 3.2214085525882052, 3.702736581623394, 18.340454759116497, 25.576612192055396, 4.331153096600373, 5.870992551625262, 3.3695885960512624, 5.331265243815696, 5.816166680796742, 4.117359410024961, 3.349391293490401, 22.59693796387272, 3.561923441477898, 3.1850731968192503, 8.495394299618946, 3.8291615855864656, 8.475488755605316, 24.025984013360105, 8.590616044084612, 5.542211113267056, 17.424473726025827, 11.828501660627639, 14.253868898989488, 24.283670236335443, 35.23709033813238, 25.95131135168593, 31.327711008500415, 49.09207963650307, 29.414127585958312, 57.11801730867054, 39.097740916315225, 31.357310547374624, 53.107874724948665, 40.689715086699294, 18.844817759713216, 59.34123266074917, 26.155560093962936, 43.07393802732458, 16.713418822447903, 24.67891934581436, 37.99802176681783, 65.44428361826417, 29.860934236279064, 22.395728584548596, 22.20660054611065, 29.22659533992217, 41.24292734771029, 43.99888873296945, 52.143965373640626, 37.09902996078391, 48.03673569352395, 27.153830991042156, 44.537444566786114, 54.14438375093095, 34.650518658534175, 41.27671806154123, 33.0704482368771, 33.82492569189082, 32.934458309497714, 33.43617391840717, 35.81522131610768, 31.805299454069367, 30.358306448381065, 30.11000216547231, 1.917469546527707, 13.39720860315297, 1.9714284278219107, 5.247129797682398, 5.583301366631868, 2.4772089413946907, 4.0797379610547075, 2.702881190281792, 1.7499619319536897, 3.006455441255342, 1.51139179304173, 2.9246578029583867, 1.4782748644560346, 3.0725247550669708, 1.5864007805803817, 18.96312817010912, 3.8492819954426936, 1.6922604109063015, 1.9737916251229546, 1.5757791767962421, 2.787062645348433, 1.6844718190162107, 2.822539678314876, 1.5619138213027082, 9.91034263634711, 3.4931507808479005, 10.117068480277949, 3.734607232980348, 20.108922350502578, 2.430415325453534, 3.661855974160637, 9.037993951737084, 41.106718652563515, 7.699110819193769, 30.59741096898389, 7.325467077492069, 17.35932115578268, 6.692853531772269, 7.631977128410847, 16.324743440570955, 19.984880575825606, 26.988787864626577, 8.439928738116098, 7.596313695447882, 14.89444348141457, 15.487987257951769, 9.593173144919234, 28.261581476278995, 21.351449881303726, 32.447924152159, 15.372432456567788, 42.821390776326034, 16.11112739499875, 23.860530747767516, 15.64096062146951, 26.308947487929455, 26.56340657698746, 41.23604395988528, 32.56378577123637, 15.011560413742858, 23.32643207454606, 16.07393977091378, 26.97154009149703, 28.263333306334808, 22.842989662326442, 21.7006628517798, 21.568841763973627, 19.730833876140437, 24.238470761955433, 26.077938508168465, 22.13804302061099, 19.948857539329527, 25.718750663542203, 21.350618504328086, 22.167203897943057, 20.508672813841113, 22.208507167968943, 20.066848737128232, 3.600608949119188, 1.8891388265129518, 3.9059141251122007, 12.81443632354342, 4.945115459486316, 1.286143904605714, 2.4343396522359533, 21.908616013963634, 1.4419114336759817, 1.8279206815886742, 1.8329396919964311, 2.954086471288977, 1.2418956152297067, 2.003608498175805, 1.2535671479152632, 3.1235088209264363, 1.023782312514706, 2.3917737332281765, 4.354023089059534, 2.007801715238471, 1.4405654244137716, 2.816520709727064, 1.8614312569164513, 1.1318657124729756, 1.1608324474693008, 1.2388522673888387, 1.4268957768456851, 1.9668188962976936, 1.7878255057681502, 3.8038659499611316, 16.55256443507885, 5.416686952069116, 24.53720095710702, 9.483279732576639, 7.750678309504241, 25.398061712619576, 28.078681803590012, 4.002758446577687, 6.964523609815937, 5.7428216637576925, 34.090443799735866, 15.29285792032629, 13.047846643081893, 11.805079623828151, 24.10269131838067, 5.193105945657367, 25.759099466834275, 11.180407061774151, 11.24983922398478, 15.706159016972292, 12.856894076049429, 30.37553731337374, 10.814442789395372, 11.462853238672892, 9.230759244608304, 11.157892613938776, 18.206549427957597, 21.453376815890614, 17.723485173957176, 16.234739057110954, 14.670932730933385, 22.01272697796304, 17.275540295486415, 16.514171257751553, 13.405340602873133, 15.481065374050177, 16.64617505825388, 18.35742334068482, 18.186758629581885, 14.549245134025266, 13.07140830080906, 17.482564766651038, 13.919566976469081, 13.831872467860725, 13.369343468890483, 13.333154289943856, 2.0328812399026557, 3.832538104409214, 2.463356915568644, 1.5533538348459752, 3.651132226450209, 1.5293916423876306, 4.969894123772726, 7.066328892465914, 1.199832558583322, 1.9737834321439842, 1.1031655903624775, 12.809185640426985, 1.7185836816618971, 5.6362722026828065, 2.035379310883187, 4.8693345564302115, 1.0977189371150933, 10.538498692001577, 1.5189822107421505, 1.7145169041042874, 1.3652573586723293, 4.382736965240441, 1.228921458038832, 1.9365491455468007, 3.349306862327316, 1.1752987141492046, 3.2898333189378777, 1.5157717417037246, 1.5905700982400717, 2.892051596089896, 23.598037905005807, 6.045469354588266, 13.650578101703653, 2.631643552660792, 4.619235234840026, 15.82930213791391, 14.990366335525184, 27.018411495340253, 13.790839896230935, 13.498697807525332, 26.21824511619027, 27.73980629595429, 9.836083562473416, 10.62490990733914, 10.949059003419901, 21.585037083598262, 10.693715067313118, 12.763890441853743, 7.877264066669492, 19.30314217932343, 20.92116904527687, 19.202097774059705, 9.681288737499724, 14.603503096623612, 21.986214322875142, 17.075746139222634, 13.099771404908775, 17.62880257202421, 19.434527202376138, 16.181160188969553, 18.167313867189517, 21.624334820576347, 20.76950117724791, 15.640961591799224, 14.203297734496397, 13.897296215362047, 14.21637570085237, 13.928385277615098, 15.675712528658092, 13.24889676306715, 13.184996115640066, 0.6949642554475413, 0.3880185256380784, 1.0118007037683725, 0.6416160089962968, 0.5048476920561701, 0.8435335627524468, 0.6811413094159897, 0.3516264747151897, 0.35080595767066236, 0.4376522881181202, 0.385263365736582, 1.0641586338917026, 0.4738146692562445, 1.0231228896704367, 0.6404964186544156, 1.4219319862589743, 0.3052920914043286, 0.27664154360941695, 0.8994009173882312, 0.9912901309926843, 0.42854124228524937, 3.686119792671378, 0.8625897729557004, 0.6858706402669702, 0.48506306406733696, 0.4904271977360538, 0.6418392569617929, 0.2630236370930758, 0.9382482172866623, 2.259728909938065, 8.494760191389997, 3.923179216721054, 5.890879525155549, 3.2647121944163433, 1.8895023337359782, 1.4968276301446717, 2.4131213624971752, 5.671778220101317, 2.77561016501291, 4.405978768988146, 2.5671330220272277, 3.3652499632051183, 7.918705931351791, 3.551040773182509, 5.849165301768107, 3.872930116316462, 9.605454438891993, 2.7112700774246967, 3.8302231833765337, 2.409204770710863, 6.871672733852765, 5.193410281548443, 2.1042399926538384, 5.179797301086013, 4.235592666936127, 5.114308465703216, 7.385602713159865, 3.6005763735680207, 3.5387498099736794, 4.191155592178911, 5.2836437826198, 3.6661054151236283, 4.5317076196223205, 4.777759824323931, 5.061504677842112, 3.8023015918427303, 4.989008800008962, 4.758705927571098, 4.041047122377568, 4.163575434017387, 4.334917549511788, 4.138752270562865, 3.96407112814554, 3.8781728736123, 3.854086823325969, 0.627557970442202, 1.068758884377614, 0.44018146939798497, 0.4803283609456262, 0.44821774437515477, 0.3968750508018084, 0.32412060181590274, 0.3083946834545298, 0.5561056376935315, 0.27933272189067687, 0.5538353082996628, 0.48096034392521475, 0.6032260615834522, 1.0621038116577204, 0.4614689719640775, 0.319980415170665, 0.9668786020822895, 0.309234518457365, 5.4184158721433455, 0.5064998042839058, 0.7090726329534202, 1.0080589712640926, 0.9572465383485254, 2.376561487549545, 0.6034347950826244, 0.2868413982673628, 10.026605024164459, 0.31255070140739055, 0.3895585185473757, 0.33967484392601394, 0.6785677129289464, 0.6168574168505127, 1.023971656744573, 2.0596464930576026, 2.6788597777258003, 1.8633480100262145, 5.45325123657683, 2.7913386444777455, 5.422900821652588, 1.9083527859176834, 2.577397808645709, 3.6560182930881022, 2.9465088711840495, 4.839495768767395, 5.810273526717837, 6.025888461627695, 1.7634210783819277, 2.3090115192413965, 2.406159333587582, 3.3733048465801305, 4.72234719515221, 2.813088957163793, 2.9558657733928912, 2.8345411194327803, 3.4964861003936902, 4.0259084393084885, 4.845315484382155, 3.4793118465685504, 3.193300692845953, 4.367313232626967, 4.796746583992319, 3.5491712818016623, 6.045297292183163, 3.7816338308176847, 3.2034803999427477, 4.163419247840225, 3.1711408111858534, 5.053747730342117, 3.879687238270752, 4.308562086489671, 3.8523366622163713, 4.183863565794965, 3.5428548368733312, 3.5295853098441943, 3.4892060965016127, 3.3787604068605237, 0.3448073538734226, 0.27740975401689333, 0.37852470324543686, 0.31612507485119584, 0.37467371987074616, 0.42547589221008786, 0.4755795527728996, 0.22056939815913515, 0.2475510072990962, 0.2605124841781875, 0.2728975912129902, 0.21290310831472298, 1.0793226032113132, 0.16797486989977223, 0.2196713206851479, 0.5797664724095096, 0.3092650703249162, 0.3164583493537132, 0.5378556384759889, 0.8598359067952476, 0.2957846122696129, 0.2426881454007782, 0.266456052799309, 0.3686451082048824, 0.36655746806187683, 0.34244887911750077, 0.1584541238236554, 0.7160705017050023, 0.8496471260607065, 0.287967337593582, 5.045056826977643, 0.5450785881253375, 5.497878207290033, 3.814133058227163, 1.687351466547921, 2.420427521000108, 1.2338462612039365, 2.841870882991301, 1.0390674238623545, 1.0403458498276883, 0.668059065587084, 1.823154109048058, 2.8481310019024977, 2.331394435725939, 2.153670559718554, 2.8321063199703382, 2.8097897685916857, 1.9148681619817822, 1.797213582132639, 1.6672302864066366, 2.6189164168805714, 3.801195139566106, 2.5813920382505775, 2.0533908236019998, 1.9002311652099486, 2.3886036368730843, 1.7167684223949036, 2.0687119000888647, 1.9363033388752702, 3.0567866908473365, 2.5911167008662206, 2.9290585320722027, 1.6723908520206021, 1.8213336318317346, 2.840099984150949, 3.3247432111228585, 3.3233084944209432, 2.377445785656155, 2.8204109169098275, 2.1097527778447005, 2.155954900370337, 2.059089110848505, 2.097226257830832, 2.044277910604936, 2.0743792857448677], \"Total\": [200.0, 172.0, 256.0, 243.0, 172.0, 147.0, 182.0, 202.0, 191.0, 144.0, 124.0, 183.0, 121.0, 125.0, 112.0, 131.0, 144.0, 129.0, 147.0, 160.0, 131.0, 139.0, 105.0, 92.0, 130.0, 134.0, 103.0, 128.0, 144.0, 173.0, 14.444684948088419, 77.04642404923449, 24.549467668081384, 5.870133693847631, 11.119755179190749, 8.036373338160907, 9.925028840045089, 13.425991458443068, 6.593959834888753, 30.115372621245807, 10.253811402930047, 24.291125669763343, 10.572204384819518, 5.80019460584489, 13.770983526294692, 9.775117952077194, 10.593621637046645, 18.582833304839927, 15.550062246287064, 14.542909207348242, 76.11247782152348, 10.197130584553461, 9.665449778859127, 12.474699071577984, 39.0014702566679, 6.114897224712039, 76.80389451663905, 23.281401288767412, 19.936923106513717, 19.385971759596966, 131.20225837869282, 105.85584473637604, 62.428982875639974, 104.25376621178978, 202.3777606465501, 56.75662172905072, 144.2441575658981, 78.97569702079463, 256.1459555970564, 95.19264529417802, 50.87909957608759, 42.54576450233626, 147.70051607788676, 37.393960908040974, 84.9988192340432, 130.41956561668997, 54.12309442091133, 200.36116367696877, 88.00866591782881, 102.58463961430694, 124.67136256749502, 112.30812581565202, 139.43698691052612, 69.51005427021813, 102.0073744856601, 243.31416789452877, 144.6361740643913, 121.47359945434158, 172.59357019575214, 191.91723859348653, 93.97870188650232, 134.97527089182466, 172.56826130637805, 115.40709844152956, 115.11135992655555, 182.09943838503202, 125.59854981508954, 129.42533134351967, 183.35318024779775, 139.20276746351806, 173.038348546388, 11.145136320444825, 11.44349350915838, 8.193829647195422, 8.944935985034673, 7.202058515238081, 8.077405868318825, 10.626683140549401, 6.946260980897599, 9.893180090337218, 28.689060702494437, 17.174869899057988, 17.789232605987955, 19.476187157999334, 8.197723999187557, 9.430253781089263, 46.74669143346778, 65.73130115295662, 11.161532052663274, 15.45460867622853, 8.92299011103608, 14.124069214628571, 15.582318936493257, 11.05271534899956, 9.002561355787888, 61.08027624279899, 9.66465990268211, 8.645912350044956, 23.118778969335725, 10.420870763796765, 23.19432537116123, 66.37516036762123, 23.587536966636122, 15.172554414418036, 49.13131924456063, 32.998745080230854, 40.08477862346718, 69.85178801748728, 103.42137915541939, 75.50791894425663, 92.67588075560055, 150.66041439805323, 88.56398301530163, 183.35318024779775, 122.75132640322788, 96.49479816383523, 173.038348546388, 129.2916293238791, 55.713566925951724, 202.3777606465501, 81.58466295142921, 144.76791391322834, 49.04626782801073, 77.46328455028585, 128.15973579010847, 243.31416789452877, 97.27030582464843, 69.47735859513722, 68.91349829492034, 96.13888262895512, 147.21916698726963, 160.3596728354918, 200.36116367696877, 134.97527089182466, 191.91723859348653, 89.75030800804099, 182.09943838503202, 256.1459555970564, 130.41956561668997, 172.59357019575214, 125.59854981508954, 131.81355975148549, 139.43698691052612, 144.6361740643913, 172.56826130637805, 139.20276746351806, 129.42533134351967, 121.47359945434158, 5.786798328149833, 43.444201266055096, 6.584722172195372, 18.55146207099901, 19.770141165533015, 8.778420318685269, 14.918479771150604, 9.935268383370865, 6.499159948027131, 11.205601874287256, 5.633937797538285, 11.047237938075376, 5.594566160360704, 11.667035130584267, 6.0506758025972225, 74.93063629337425, 15.309810786126674, 6.746725577893275, 7.880382027161611, 6.306369568010766, 11.154227789685649, 6.75019165138564, 11.355148832608565, 6.286737884712466, 39.96378261546691, 14.091962258196974, 40.93733897231824, 15.143129433224617, 81.94860532235363, 9.931476040330443, 14.981818384504043, 38.13393381973052, 182.09943838503202, 32.384530466257985, 139.20276746351806, 31.075358579277655, 77.56889035047988, 28.305626407855453, 32.7983164275877, 74.33016746152826, 92.94984576558201, 131.81355975148549, 36.78051185011172, 32.794154235050925, 68.79000618339359, 72.18009153950143, 42.41038041384263, 144.6361740643913, 106.61029498391258, 172.56826130637805, 73.40856488947075, 243.31416789452877, 79.07225475212907, 125.59854981508954, 77.08257399013503, 144.76791391322834, 147.21916698726963, 256.1459555970564, 191.91723859348653, 73.79044465077861, 129.42533134351967, 81.09862226589117, 160.3596728354918, 172.59357019575214, 130.41956561668997, 122.75132640322788, 124.67136256749502, 110.07389739463511, 150.66041439805323, 173.038348546388, 134.97527089182466, 115.40709844152956, 183.35318024779775, 131.20225837869282, 147.70051607788676, 129.2916293238791, 200.36116367696877, 144.2441575658981, 14.217174711311682, 8.39610569054051, 17.5033772907195, 60.91191837699311, 24.510866347025797, 6.477431695381592, 12.433091286393072, 112.30812581565202, 7.4191853297878865, 9.437709471111534, 9.53001225262169, 15.379702418576036, 6.465775644450532, 10.576416005103685, 6.6827594580213985, 16.656293728943695, 5.462540237984426, 12.922650726436583, 23.56875584839306, 11.019591838997355, 7.9099844939765065, 15.491061963932028, 10.319505750696052, 6.281391476076718, 6.443783436600605, 6.957372350305153, 8.030726039445147, 11.071736913952472, 10.09431876154772, 21.509368952054796, 94.48236860762758, 30.661498701414548, 144.2441575658981, 55.38990678057051, 45.124774458219065, 160.3596728354918, 183.35318024779775, 23.318476124902674, 42.41038041384263, 34.85956957450886, 243.31416789452877, 102.0073744856601, 86.18743830245526, 77.56889035047988, 173.038348546388, 31.472856514248267, 200.36116367696877, 76.48823477417005, 77.45246774333795, 115.11135992655555, 91.76041705293008, 256.1459555970564, 74.85632479062632, 81.09862226589117, 62.428982875639974, 79.07225475212907, 147.70051607788676, 182.09943838503202, 147.21916698726963, 131.81355975148549, 115.40709844152956, 202.3777606465501, 144.6361740643913, 139.20276746351806, 103.42137915541939, 129.42533134351967, 144.76791391322834, 172.56826130637805, 172.59357019575214, 124.67136256749502, 102.58463961430694, 191.91723859348653, 121.47359945434158, 129.2916293238791, 139.43698691052612, 150.66041439805323, 7.771453060096384, 16.10843207559118, 10.39152247311324, 6.656383777338581, 16.170925815504066, 7.050482432818345, 22.960197702699425, 32.810746760667385, 5.586689669075804, 9.24331296529548, 5.249594959307309, 61.556786284017626, 8.302194926705376, 27.608154547163505, 10.069069549724533, 24.39605074091556, 5.5503774069407354, 54.18333473695649, 7.840874242433538, 8.859566883402762, 7.104309262347981, 22.822094807826893, 6.412631190631183, 10.168292045339717, 17.709839886014684, 6.249470824792909, 17.516899202706337, 8.077405868318825, 8.483784634627302, 15.440126797068475, 128.15973579010847, 32.481655987346855, 74.93063629337425, 14.124069214628571, 25.768882540161542, 96.13888262895512, 90.80986587307424, 172.56826130637805, 83.75382105783933, 82.04702808777948, 173.038348546388, 191.91723859348653, 60.495900293344086, 66.1914126082697, 68.79000618339359, 150.66041439805323, 67.26663509894526, 83.56769279999662, 47.88962422519323, 139.43698691052612, 160.3596728354918, 147.21916698726963, 62.16679015879101, 106.61029498391258, 183.35318024779775, 131.81355975148549, 94.56970120966697, 144.76791391322834, 182.09943838503202, 139.20276746351806, 172.59357019575214, 256.1459555970564, 243.31416789452877, 147.70051607788676, 129.2916293238791, 124.67136256749502, 134.97527089182466, 129.42533134351967, 202.3777606465501, 115.40709844152956, 115.11135992655555, 9.026636212110818, 6.136245359522373, 16.904631435311344, 10.783960946223457, 8.50319587500738, 14.270419917639058, 11.609886511005847, 6.1007655151976, 6.089295346776736, 7.685041922017635, 6.8989285414382095, 19.283738387297767, 8.600155671331859, 18.77897642097739, 11.978819373799004, 26.665135842620153, 5.735137448921574, 5.223414912036181, 17.209410587201724, 18.968299019110596, 8.285160012330643, 71.93561207945106, 16.966780814515754, 13.51031241496187, 9.571219868875632, 9.681041987343443, 12.72846718242032, 5.255510500236469, 18.759324472920067, 45.200983999412145, 172.59357019575214, 80.41418492808074, 124.67136256749502, 68.03391327492884, 38.942384212222116, 30.607533374969385, 50.670553505550814, 125.59854981508954, 58.953984537421995, 97.27030582464843, 56.07549402445205, 76.48823477417005, 200.36116367696877, 81.93104020423381, 144.6361740643913, 90.80986587307424, 256.1459555970564, 61.79198143798656, 92.94984576558201, 54.276883478517604, 191.91723859348653, 139.43698691052612, 46.74669143346778, 147.70051607788676, 115.11135992655555, 147.21916698726963, 243.31416789452877, 95.19264529417802, 93.97870188650232, 121.47359945434158, 172.56826130637805, 102.0073744856601, 144.2441575658981, 160.3596728354918, 182.09943838503202, 112.30812581565202, 202.3777606465501, 183.35318024779775, 129.42533134351967, 144.76791391322834, 173.038348546388, 150.66041439805323, 131.20225837869282, 128.15973579010847, 131.81355975148549, 8.16330738031816, 16.656293728943695, 7.536839873870572, 8.39610569054051, 7.883727963549441, 7.011045637262709, 5.735137448921574, 5.462511294114011, 9.98920794573778, 5.106712779558261, 10.198960381587208, 8.920872985325023, 11.192077415419805, 19.78771018799183, 8.670454736300517, 6.083160790900218, 18.55588192321004, 5.951421000856779, 105.85584473637604, 9.907285006999969, 13.960192680520745, 19.849862981328105, 18.860528497142663, 47.027347045980584, 12.021935562073773, 5.727757028950532, 200.36116367696877, 6.249039371284064, 7.796154258342775, 6.801322405620761, 13.622594238158841, 12.399964723857368, 20.766707632316848, 42.57791026929815, 55.80495966985974, 38.52939071991055, 121.47359945434158, 61.51139672732759, 129.42533134351967, 42.54576450233626, 61.556786284017626, 93.1932651658031, 73.51258837191384, 134.97527089182466, 172.56826130637805, 182.09943838503202, 41.784966720065796, 57.961175296494076, 61.08027624279899, 93.97870188650232, 144.2441575658981, 76.49065190155306, 81.58466295142921, 77.45246774333795, 102.58463961430694, 124.67136256749502, 160.3596728354918, 104.25376621178978, 92.94984576558201, 147.21916698726963, 172.59357019575214, 110.07389739463511, 256.1459555970564, 125.59854981508954, 96.49479816383523, 150.66041439805323, 96.13888262895512, 243.31416789452877, 144.76791391322834, 183.35318024779775, 144.6361740643913, 191.91723859348653, 128.15973579010847, 139.20276746351806, 147.70051607788676, 131.20225837869282, 7.516986882546299, 6.5908304454479465, 9.363962553723987, 7.87946962082773, 9.437709471111534, 11.215591135269333, 13.391104468983174, 6.307032531620396, 7.233444558784035, 7.684448565488891, 8.136724480980021, 6.513042288211922, 33.85937508117338, 5.2731379613039495, 6.8989285414382095, 18.323461360864428, 9.87680474117259, 10.127409618568018, 17.575409959056323, 28.268860256156493, 9.763455297264422, 8.038510725841316, 8.94696917175627, 12.37965885597334, 12.309801164728805, 11.525155844909388, 5.3372886514134255, 24.190020533920023, 28.77627224852006, 9.758742856127633, 172.59357019575214, 18.55588192321004, 200.36116367696877, 147.70051607788676, 62.98285309926305, 92.94984576558201, 45.200983999412145, 112.30812581565202, 38.533918106670995, 39.49978751292941, 24.052907190542136, 76.48823477417005, 130.41956561668997, 103.42137915541939, 94.48236860762758, 131.20225837869282, 131.81355975148549, 83.56769279999662, 77.56889035047988, 71.18560320804266, 125.59854981508954, 202.3777606465501, 124.67136256749502, 94.56970120966697, 86.61221132929869, 121.47359945434158, 77.46328455028585, 102.0073744856601, 93.97870188650232, 182.09943838503202, 144.2441575658981, 172.56826130637805, 77.15166676781115, 87.80233171840395, 183.35318024779775, 243.31416789452877, 256.1459555970564, 139.43698691052612, 191.91723859348653, 115.40709844152956, 144.6361740643913, 129.2916293238791, 147.21916698726963, 139.20276746351806, 173.038348546388], \"Category\": [\"Default\", \"Default\", \"Default\", \"Default\", \"Default\", \"Default\", \"Default\", \"Default\", \"Default\", \"Default\", \"Default\", \"Default\", \"Default\", \"Default\", \"Default\", \"Default\", \"Default\", \"Default\", \"Default\", \"Default\", \"Default\", \"Default\", \"Default\", \"Default\", \"Default\", \"Default\", \"Default\", \"Default\", \"Default\", \"Default\", \"Topic1\", \"Topic1\", \"Topic1\", \"Topic1\", \"Topic1\", \"Topic1\", \"Topic1\", \"Topic1\", \"Topic1\", \"Topic1\", \"Topic1\", \"Topic1\", \"Topic1\", \"Topic1\", \"Topic1\", \"Topic1\", \"Topic1\", \"Topic1\", \"Topic1\", \"Topic1\", \"Topic1\", \"Topic1\", \"Topic1\", \"Topic1\", \"Topic1\", \"Topic1\", \"Topic1\", \"Topic1\", \"Topic1\", \"Topic1\", \"Topic1\", \"Topic1\", \"Topic1\", \"Topic1\", \"Topic1\", \"Topic1\", \"Topic1\", \"Topic1\", \"Topic1\", \"Topic1\", \"Topic1\", \"Topic1\", \"Topic1\", \"Topic1\", \"Topic1\", \"Topic1\", \"Topic1\", \"Topic1\", \"Topic1\", \"Topic1\", \"Topic1\", \"Topic1\", \"Topic1\", \"Topic1\", \"Topic1\", \"Topic1\", \"Topic1\", \"Topic1\", \"Topic1\", \"Topic1\", \"Topic1\", \"Topic1\", \"Topic1\", \"Topic1\", \"Topic1\", \"Topic1\", \"Topic1\", \"Topic1\", \"Topic1\", \"Topic1\", \"Topic1\", \"Topic2\", \"Topic2\", \"Topic2\", \"Topic2\", \"Topic2\", \"Topic2\", \"Topic2\", \"Topic2\", \"Topic2\", \"Topic2\", \"Topic2\", \"Topic2\", \"Topic2\", \"Topic2\", \"Topic2\", \"Topic2\", \"Topic2\", \"Topic2\", \"Topic2\", \"Topic2\", \"Topic2\", \"Topic2\", \"Topic2\", \"Topic2\", \"Topic2\", \"Topic2\", \"Topic2\", \"Topic2\", \"Topic2\", \"Topic2\", \"Topic2\", \"Topic2\", \"Topic2\", \"Topic2\", \"Topic2\", \"Topic2\", \"Topic2\", \"Topic2\", \"Topic2\", \"Topic2\", \"Topic2\", \"Topic2\", \"Topic2\", \"Topic2\", \"Topic2\", \"Topic2\", \"Topic2\", \"Topic2\", \"Topic2\", \"Topic2\", \"Topic2\", \"Topic2\", \"Topic2\", \"Topic2\", \"Topic2\", \"Topic2\", \"Topic2\", \"Topic2\", \"Topic2\", \"Topic2\", \"Topic2\", \"Topic2\", \"Topic2\", \"Topic2\", \"Topic2\", \"Topic2\", \"Topic2\", \"Topic2\", \"Topic2\", \"Topic2\", \"Topic2\", \"Topic2\", \"Topic2\", \"Topic2\", \"Topic2\", \"Topic2\", \"Topic2\", \"Topic3\", \"Topic3\", \"Topic3\", \"Topic3\", \"Topic3\", \"Topic3\", \"Topic3\", \"Topic3\", \"Topic3\", \"Topic3\", \"Topic3\", \"Topic3\", \"Topic3\", \"Topic3\", \"Topic3\", \"Topic3\", \"Topic3\", \"Topic3\", \"Topic3\", \"Topic3\", \"Topic3\", \"Topic3\", \"Topic3\", \"Topic3\", \"Topic3\", \"Topic3\", \"Topic3\", \"Topic3\", \"Topic3\", \"Topic3\", \"Topic3\", \"Topic3\", \"Topic3\", \"Topic3\", \"Topic3\", \"Topic3\", \"Topic3\", \"Topic3\", \"Topic3\", \"Topic3\", \"Topic3\", \"Topic3\", \"Topic3\", \"Topic3\", \"Topic3\", \"Topic3\", \"Topic3\", \"Topic3\", \"Topic3\", \"Topic3\", \"Topic3\", \"Topic3\", \"Topic3\", \"Topic3\", \"Topic3\", \"Topic3\", \"Topic3\", \"Topic3\", \"Topic3\", \"Topic3\", \"Topic3\", \"Topic3\", \"Topic3\", \"Topic3\", \"Topic3\", \"Topic3\", \"Topic3\", \"Topic3\", \"Topic3\", \"Topic3\", \"Topic3\", \"Topic3\", \"Topic3\", \"Topic3\", \"Topic3\", \"Topic3\", \"Topic3\", \"Topic3\", \"Topic4\", \"Topic4\", \"Topic4\", \"Topic4\", \"Topic4\", \"Topic4\", \"Topic4\", \"Topic4\", \"Topic4\", \"Topic4\", \"Topic4\", \"Topic4\", \"Topic4\", \"Topic4\", \"Topic4\", \"Topic4\", \"Topic4\", \"Topic4\", \"Topic4\", \"Topic4\", \"Topic4\", \"Topic4\", \"Topic4\", \"Topic4\", \"Topic4\", \"Topic4\", \"Topic4\", \"Topic4\", \"Topic4\", \"Topic4\", \"Topic4\", \"Topic4\", \"Topic4\", \"Topic4\", \"Topic4\", \"Topic4\", \"Topic4\", \"Topic4\", \"Topic4\", \"Topic4\", \"Topic4\", \"Topic4\", \"Topic4\", \"Topic4\", \"Topic4\", \"Topic4\", \"Topic4\", \"Topic4\", \"Topic4\", \"Topic4\", \"Topic4\", \"Topic4\", \"Topic4\", \"Topic4\", \"Topic4\", \"Topic4\", \"Topic4\", \"Topic4\", \"Topic4\", \"Topic4\", \"Topic4\", \"Topic4\", \"Topic4\", \"Topic4\", \"Topic4\", \"Topic4\", \"Topic4\", \"Topic4\", \"Topic4\", \"Topic4\", \"Topic4\", \"Topic4\", \"Topic4\", \"Topic4\", \"Topic4\", \"Topic4\", \"Topic5\", \"Topic5\", \"Topic5\", \"Topic5\", \"Topic5\", \"Topic5\", \"Topic5\", \"Topic5\", \"Topic5\", \"Topic5\", \"Topic5\", \"Topic5\", \"Topic5\", \"Topic5\", \"Topic5\", \"Topic5\", \"Topic5\", \"Topic5\", \"Topic5\", \"Topic5\", \"Topic5\", \"Topic5\", \"Topic5\", \"Topic5\", \"Topic5\", \"Topic5\", \"Topic5\", \"Topic5\", \"Topic5\", \"Topic5\", \"Topic5\", \"Topic5\", \"Topic5\", \"Topic5\", \"Topic5\", \"Topic5\", \"Topic5\", \"Topic5\", \"Topic5\", \"Topic5\", \"Topic5\", \"Topic5\", \"Topic5\", \"Topic5\", \"Topic5\", \"Topic5\", \"Topic5\", \"Topic5\", \"Topic5\", \"Topic5\", \"Topic5\", \"Topic5\", \"Topic5\", \"Topic5\", \"Topic5\", \"Topic5\", \"Topic5\", \"Topic5\", \"Topic5\", \"Topic5\", \"Topic5\", \"Topic5\", \"Topic5\", \"Topic5\", \"Topic5\", \"Topic5\", \"Topic5\", \"Topic5\", \"Topic5\", \"Topic5\", \"Topic5\", \"Topic6\", \"Topic6\", \"Topic6\", \"Topic6\", \"Topic6\", \"Topic6\", \"Topic6\", \"Topic6\", \"Topic6\", \"Topic6\", \"Topic6\", \"Topic6\", \"Topic6\", \"Topic6\", \"Topic6\", \"Topic6\", \"Topic6\", \"Topic6\", \"Topic6\", \"Topic6\", \"Topic6\", \"Topic6\", \"Topic6\", \"Topic6\", \"Topic6\", \"Topic6\", \"Topic6\", \"Topic6\", \"Topic6\", \"Topic6\", \"Topic6\", \"Topic6\", \"Topic6\", \"Topic6\", \"Topic6\", \"Topic6\", \"Topic6\", \"Topic6\", \"Topic6\", \"Topic6\", \"Topic6\", \"Topic6\", \"Topic6\", \"Topic6\", \"Topic6\", \"Topic6\", \"Topic6\", \"Topic6\", \"Topic6\", \"Topic6\", \"Topic6\", \"Topic6\", \"Topic6\", \"Topic6\", \"Topic6\", \"Topic6\", \"Topic6\", \"Topic6\", \"Topic6\", \"Topic6\", \"Topic6\", \"Topic6\", \"Topic6\", \"Topic6\", \"Topic6\", \"Topic6\", \"Topic6\", \"Topic6\", \"Topic6\", \"Topic6\", \"Topic6\", \"Topic6\", \"Topic6\", \"Topic6\", \"Topic6\", \"Topic7\", \"Topic7\", \"Topic7\", \"Topic7\", \"Topic7\", \"Topic7\", \"Topic7\", \"Topic7\", \"Topic7\", \"Topic7\", \"Topic7\", \"Topic7\", \"Topic7\", \"Topic7\", \"Topic7\", \"Topic7\", \"Topic7\", \"Topic7\", \"Topic7\", \"Topic7\", \"Topic7\", \"Topic7\", \"Topic7\", \"Topic7\", \"Topic7\", \"Topic7\", \"Topic7\", \"Topic7\", \"Topic7\", \"Topic7\", \"Topic7\", \"Topic7\", \"Topic7\", \"Topic7\", \"Topic7\", \"Topic7\", \"Topic7\", \"Topic7\", \"Topic7\", \"Topic7\", \"Topic7\", \"Topic7\", \"Topic7\", \"Topic7\", \"Topic7\", \"Topic7\", \"Topic7\", \"Topic7\", \"Topic7\", \"Topic7\", \"Topic7\", \"Topic7\", \"Topic7\", \"Topic7\", \"Topic7\", \"Topic7\", \"Topic7\", \"Topic7\", \"Topic7\", \"Topic7\", \"Topic7\", \"Topic7\", \"Topic7\", \"Topic7\", \"Topic7\", \"Topic7\", \"Topic7\", \"Topic7\", \"Topic7\", \"Topic7\", \"Topic7\", \"Topic7\", \"Topic7\", \"Topic7\", \"Topic7\", \"Topic7\", \"Topic8\", \"Topic8\", \"Topic8\", \"Topic8\", \"Topic8\", \"Topic8\", \"Topic8\", \"Topic8\", \"Topic8\", \"Topic8\", \"Topic8\", \"Topic8\", \"Topic8\", \"Topic8\", \"Topic8\", \"Topic8\", \"Topic8\", \"Topic8\", \"Topic8\", \"Topic8\", \"Topic8\", \"Topic8\", \"Topic8\", \"Topic8\", \"Topic8\", \"Topic8\", \"Topic8\", \"Topic8\", \"Topic8\", \"Topic8\", \"Topic8\", \"Topic8\", \"Topic8\", \"Topic8\", \"Topic8\", \"Topic8\", \"Topic8\", \"Topic8\", \"Topic8\", \"Topic8\", \"Topic8\", \"Topic8\", \"Topic8\", \"Topic8\", \"Topic8\", \"Topic8\", \"Topic8\", \"Topic8\", \"Topic8\", \"Topic8\", \"Topic8\", \"Topic8\", \"Topic8\", \"Topic8\", \"Topic8\", \"Topic8\", \"Topic8\", \"Topic8\", \"Topic8\", \"Topic8\", \"Topic8\", \"Topic8\", \"Topic8\", \"Topic8\", \"Topic8\", \"Topic8\", \"Topic8\", \"Topic8\", \"Topic8\", \"Topic8\", \"Topic8\", \"Topic8\", \"Topic8\", \"Topic8\", \"Topic8\"], \"logprob\": [30.0, 29.0, 28.0, 27.0, 26.0, 25.0, 24.0, 23.0, 22.0, 21.0, 20.0, 19.0, 18.0, 17.0, 16.0, 15.0, 14.0, 13.0, 12.0, 11.0, 10.0, 9.0, 8.0, 7.0, 6.0, 5.0, 4.0, 3.0, 2.0, 1.0, -7.4543, -5.7875, -6.9314, -8.3681, -7.7309, -8.0588, -7.8478, -7.5471, -8.2644, -6.7473, -7.827, -6.9772, -7.8096, -8.4182, -7.5579, -7.9014, -7.8222, -7.2686, -7.4502, -7.5317, -5.8853, -7.9011, -7.958, -7.7098, -6.5707, -8.4295, -5.9007, -7.0949, -7.2504, -7.2789, -5.3868, -5.6232, -6.1384, -5.6427, -5.0252, -6.2479, -5.3636, -5.9564, -4.8678, -5.7874, -6.3699, -6.5354, -5.4041, -6.6686, -5.9361, -5.5658, -6.3493, -5.2071, -5.9316, -5.8053, -5.6432, -5.7452, -5.5695, -6.1511, -5.8502, -5.1998, -5.6068, -5.7428, -5.4866, -5.4099, -5.9505, -5.7073, -5.5607, -5.8277, -5.8292, -5.6415, -5.8092, -5.8127, -5.7135, -5.8038, -5.8231, -7.6825, -7.6698, -8.0133, -7.9604, -8.2097, -8.0955, -7.8238, -8.2526, -7.9001, -6.8413, -7.3598, -7.3454, -7.2584, -8.1264, -7.9871, -6.3871, -6.0545, -7.8304, -7.5262, -8.0814, -7.6226, -7.5356, -7.881, -8.0874, -6.1784, -8.0259, -8.1377, -7.1567, -7.9535, -7.159, -6.1171, -7.1455, -7.5838, -6.4383, -6.8257, -6.6392, -6.1064, -5.7341, -6.04, -5.8517, -5.4025, -5.9147, -5.2511, -5.6301, -5.8507, -5.3239, -5.5902, -6.36, -5.2129, -6.0321, -5.5333, -6.48, -6.0902, -5.6587, -5.115, -5.8996, -6.1873, -6.1958, -5.9211, -5.5767, -5.512, -5.3422, -5.6826, -5.4242, -5.9947, -5.4999, -5.3045, -5.7509, -5.5759, -5.7976, -5.775, -5.8017, -5.7866, -5.7178, -5.8366, -5.8831, -5.8913, -8.2147, -6.2707, -8.1869, -7.208, -7.1459, -7.9586, -7.4597, -7.8714, -8.3061, -7.7649, -8.4527, -7.7925, -8.4748, -7.7432, -8.4042, -5.9232, -7.5178, -8.3396, -8.1857, -8.411, -7.8407, -8.3443, -7.8281, -8.4198, -6.5721, -7.6149, -6.5515, -7.5481, -5.8645, -7.9776, -7.5677, -6.6643, -5.1495, -6.8246, -5.4448, -6.8743, -6.0116, -6.9647, -6.8334, -6.073, -5.8707, -5.5703, -6.7327, -6.838, -6.1647, -6.1256, -6.6047, -5.5242, -5.8046, -5.3861, -6.1331, -5.1087, -6.0862, -5.6935, -6.1158, -5.5958, -5.5862, -5.1464, -5.3825, -6.1569, -5.7161, -6.0885, -5.5709, -5.5241, -5.7371, -5.7884, -5.7945, -5.8835, -5.6778, -5.6046, -5.7684, -5.8725, -5.6185, -5.8046, -5.7671, -5.8449, -5.7652, -5.8666, -7.206, -7.851, -7.1246, -5.9366, -6.8887, -8.2355, -7.5975, -5.4003, -8.1212, -7.884, -7.8812, -7.4039, -8.2705, -7.7922, -8.2611, -7.3482, -8.4636, -7.6151, -7.016, -7.7901, -8.1221, -7.4516, -7.8658, -8.3633, -8.338, -8.2729, -8.1316, -7.8107, -7.9061, -7.1511, -5.6806, -6.7976, -5.2869, -6.2376, -6.4393, -5.2525, -5.1521, -7.1001, -6.5463, -6.7392, -4.9581, -5.7597, -5.9185, -6.0186, -5.3048, -6.8398, -5.2383, -6.073, -6.0668, -5.7331, -5.9333, -5.0735, -6.1062, -6.048, -6.2646, -6.075, -5.5853, -5.4212, -5.6122, -5.7, -5.8013, -5.3955, -5.6378, -5.6829, -5.8915, -5.7475, -5.6749, -5.5771, -5.5864, -5.8096, -5.9167, -5.6259, -5.8538, -5.8602, -5.8942, -5.8969, -7.7516, -7.1176, -7.5596, -8.0207, -7.1661, -8.0362, -6.8577, -6.5058, -8.2789, -7.7812, -8.3629, -5.9109, -7.9196, -6.7319, -7.7504, -6.8781, -8.3679, -6.1061, -8.0431, -7.922, -8.1498, -6.9834, -8.255, -7.8002, -7.2524, -8.2996, -7.2703, -8.0452, -7.997, -7.3991, -5.2999, -6.6618, -5.8473, -7.4935, -6.9309, -5.6992, -5.7537, -5.1646, -5.8371, -5.8585, -5.1946, -5.1382, -6.175, -6.0979, -6.0678, -5.3891, -6.0914, -5.9145, -6.3971, -5.5008, -5.4203, -5.5061, -6.1909, -5.7798, -5.3707, -5.6234, -5.8885, -5.5916, -5.4941, -5.6773, -5.5615, -5.3873, -5.4276, -5.7112, -5.8076, -5.8294, -5.8067, -5.8272, -5.709, -5.8772, -5.882, -7.5868, -8.1696, -7.2112, -7.6667, -7.9064, -7.3931, -7.6069, -8.2681, -8.2705, -8.0493, -8.1768, -7.1608, -7.9699, -7.2001, -7.6684, -6.8709, -8.4094, -8.508, -7.329, -7.2317, -8.0703, -5.9184, -7.3708, -7.6, -7.9464, -7.9354, -7.6664, -8.5584, -7.2867, -6.4077, -5.0835, -5.856, -5.4495, -6.0398, -6.5866, -6.8196, -6.342, -5.4874, -6.2021, -5.74, -6.2801, -6.0094, -5.1537, -5.9557, -5.4566, -5.8689, -4.9606, -6.2255, -5.88, -6.3436, -5.2955, -5.5755, -6.479, -5.5782, -5.7794, -5.5909, -5.2234, -5.9418, -5.9592, -5.79, -5.5583, -5.9238, -5.7118, -5.659, -5.6013, -5.8873, -5.6157, -5.663, -5.8264, -5.7966, -5.7562, -5.8025, -5.8457, -5.8676, -5.8738, -7.5655, -7.0331, -7.9202, -7.8329, -7.9021, -8.0237, -8.2262, -8.276, -7.6864, -8.375, -7.6905, -7.8316, -7.6051, -7.0394, -7.8729, -8.2391, -7.1333, -8.2733, -5.4098, -7.7798, -7.4434, -7.0916, -7.1433, -6.234, -7.6047, -8.3484, -4.7944, -8.2626, -8.0423, -8.1794, -7.4874, -7.5827, -7.0759, -6.3771, -6.1142, -6.4772, -5.4034, -6.0731, -5.409, -6.4534, -6.1528, -5.8032, -6.019, -5.5228, -5.34, -5.3035, -6.5324, -6.2628, -6.2216, -5.8837, -5.5473, -6.0653, -6.0158, -6.0577, -5.8478, -5.7069, -5.5216, -5.8528, -5.9386, -5.6255, -5.5317, -5.8329, -5.3003, -5.7695, -5.9354, -5.6733, -5.9455, -5.4795, -5.7439, -5.639, -5.7509, -5.6684, -5.8347, -5.8384, -5.8499, -5.8821, -7.6568, -7.8743, -7.5635, -7.7436, -7.5737, -7.4465, -7.3352, -8.1035, -7.9881, -7.9371, -7.8907, -8.1389, -6.5157, -8.3759, -8.1076, -7.1371, -7.7656, -7.7426, -7.2122, -6.743, -7.8101, -8.008, -7.9145, -7.5899, -7.5956, -7.6636, -8.4343, -6.926, -6.7549, -7.8369, -4.9736, -7.1988, -4.8876, -5.2533, -6.0688, -5.7081, -6.3819, -5.5475, -6.5537, -6.5524, -6.9954, -5.9914, -5.5453, -5.7455, -5.8248, -5.551, -5.5589, -5.9424, -6.0058, -6.0808, -5.6292, -5.2567, -5.6437, -5.8725, -5.95, -5.7213, -6.0516, -5.8651, -5.9312, -5.4746, -5.6399, -5.5173, -6.0777, -5.9924, -5.5482, -5.3906, -5.391, -5.726, -5.5551, -5.8454, -5.8238, -5.8697, -5.8514, -5.877, -5.8623], \"loglift\": [30.0, 29.0, 28.0, 27.0, 26.0, 25.0, 24.0, 23.0, 22.0, 21.0, 20.0, 19.0, 18.0, 17.0, 16.0, 15.0, 14.0, 13.0, 12.0, 11.0, 10.0, 9.0, 8.0, 7.0, 6.0, 5.0, 4.0, 3.0, 2.0, 1.0, 0.5337, 0.5265, 0.5263, 0.5204, 0.5188, 0.5156, 0.5155, 0.5141, 0.5079, 0.506, 0.5037, 0.4911, 0.4905, 0.4823, 0.4779, 0.4772, 0.4759, 0.4675, 0.4641, 0.4496, 0.4409, 0.4352, 0.4318, 0.4249, 0.4241, 0.4181, 0.4164, 0.4158, 0.4154, 0.4149, 0.3948, 0.3731, 0.386, 0.3689, 0.323, 0.3717, 0.3233, 0.3329, 0.2448, 0.3151, 0.359, 0.3724, 0.2591, 0.3683, 0.2797, 0.2218, 0.3178, 0.1511, 0.2494, 0.2224, 0.1895, 0.192, 0.1513, 0.2658, 0.1831, -0.0358, 0.0773, 0.1159, 0.0209, -0.0086, 0.1648, 0.046, -0.0531, 0.0822, 0.0833, -0.1876, 0.0161, -0.0174, -0.2665, -0.0813, -0.3182, 0.5648, 0.5512, 0.5417, 0.5069, 0.4743, 0.4738, 0.4712, 0.4676, 0.4665, 0.4606, 0.4551, 0.4344, 0.4308, 0.4282, 0.4273, 0.4266, 0.4183, 0.4156, 0.3943, 0.3884, 0.3879, 0.3767, 0.3747, 0.3735, 0.3678, 0.364, 0.3636, 0.3611, 0.361, 0.3555, 0.346, 0.3521, 0.3551, 0.3256, 0.3362, 0.3282, 0.3056, 0.2855, 0.2942, 0.2776, 0.2409, 0.2599, 0.1959, 0.2181, 0.2382, 0.181, 0.2061, 0.2782, 0.1354, 0.2246, 0.15, 0.2856, 0.2183, 0.1465, 0.049, 0.1813, 0.2301, 0.2297, 0.1715, 0.0898, 0.0689, 0.0161, 0.0707, -0.0229, 0.1667, -0.046, -0.1919, 0.0368, -0.0684, 0.0277, 0.002, -0.0809, -0.1024, -0.2102, -0.1141, -0.0878, -0.0326, 0.6881, 0.6163, 0.5867, 0.5298, 0.5283, 0.5275, 0.4961, 0.4909, 0.4806, 0.477, 0.4769, 0.4637, 0.4618, 0.4584, 0.454, 0.4186, 0.4121, 0.4097, 0.4083, 0.4059, 0.4059, 0.4046, 0.4006, 0.4002, 0.3983, 0.3979, 0.3949, 0.3928, 0.3878, 0.385, 0.3838, 0.353, 0.3043, 0.3561, 0.2777, 0.3476, 0.2956, 0.3507, 0.3347, 0.2768, 0.2556, 0.2067, 0.3207, 0.3301, 0.2626, 0.2536, 0.3063, 0.16, 0.1846, 0.1215, 0.2292, 0.0554, 0.2018, 0.1318, 0.1977, 0.0875, 0.0803, -0.0338, 0.0188, 0.2003, 0.0792, 0.1742, 0.01, -0.0167, 0.0506, 0.0599, 0.0383, 0.0737, -0.0344, -0.0997, -0.0151, 0.0374, -0.1715, -0.023, -0.1039, -0.0485, -0.407, -0.1798, 0.7979, 0.6796, 0.6714, 0.6124, 0.5705, 0.5546, 0.5406, 0.5369, 0.5332, 0.5297, 0.5227, 0.5214, 0.5214, 0.5076, 0.4977, 0.4974, 0.4968, 0.4843, 0.4824, 0.4686, 0.4682, 0.4665, 0.4586, 0.4575, 0.4573, 0.4456, 0.4435, 0.4433, 0.4403, 0.4388, 0.4294, 0.4377, 0.3999, 0.4064, 0.4096, 0.3285, 0.2949, 0.409, 0.3647, 0.3679, 0.2059, 0.2736, 0.2834, 0.2886, 0.2001, 0.3695, 0.1199, 0.2483, 0.2419, 0.1794, 0.206, 0.0391, 0.2366, 0.2147, 0.2598, 0.213, 0.0779, 0.0326, 0.0542, 0.077, 0.1087, -0.0473, 0.0463, 0.0395, 0.1281, 0.0478, 0.0083, -0.0695, -0.079, 0.0231, 0.111, -0.2246, 0.0049, -0.0638, -0.1734, -0.2535, 0.8563, 0.7615, 0.7578, 0.7421, 0.7091, 0.6691, 0.6669, 0.6619, 0.6591, 0.6533, 0.6373, 0.6275, 0.6223, 0.6084, 0.5985, 0.5858, 0.5767, 0.5599, 0.556, 0.5549, 0.5479, 0.5472, 0.5452, 0.5389, 0.5319, 0.5263, 0.525, 0.5241, 0.5232, 0.5223, 0.5052, 0.5159, 0.4945, 0.517, 0.4783, 0.3934, 0.3959, 0.343, 0.3934, 0.3926, 0.3102, 0.2631, 0.3808, 0.3679, 0.3595, 0.2543, 0.3583, 0.3182, 0.3924, 0.2199, 0.1606, 0.1604, 0.3377, 0.2094, 0.0763, 0.1536, 0.2205, 0.0917, -0.0402, 0.0452, -0.054, -0.2746, -0.2636, -0.048, -0.0113, 0.0033, -0.0534, -0.0319, -0.3607, 0.0327, 0.0305, 0.8714, 0.6745, 0.6196, 0.6136, 0.6115, 0.6071, 0.5996, 0.5819, 0.5814, 0.5698, 0.5503, 0.5384, 0.5367, 0.5256, 0.5068, 0.5041, 0.5024, 0.4973, 0.484, 0.4839, 0.4736, 0.4643, 0.4564, 0.4549, 0.4532, 0.4528, 0.4482, 0.4407, 0.44, 0.4396, 0.424, 0.4152, 0.3832, 0.3986, 0.4097, 0.4176, 0.391, 0.3379, 0.3796, 0.3409, 0.3515, 0.3118, 0.2046, 0.2968, 0.2275, 0.2807, 0.152, 0.3091, 0.2463, 0.3206, 0.1058, 0.1452, 0.3347, 0.085, 0.1331, 0.0756, -0.0594, 0.1606, 0.1562, 0.0687, -0.0507, 0.1095, -0.025, -0.078, -0.1474, 0.0498, -0.2674, -0.216, -0.0312, -0.1133, -0.2514, -0.1592, -0.064, -0.0625, -0.0968, 0.9932, 0.8125, 0.7184, 0.6977, 0.6915, 0.6872, 0.6855, 0.6845, 0.6705, 0.6529, 0.6456, 0.6384, 0.6381, 0.634, 0.6255, 0.6138, 0.6043, 0.6015, 0.5865, 0.5853, 0.5788, 0.5786, 0.578, 0.5737, 0.5669, 0.5646, 0.5639, 0.5634, 0.5624, 0.5619, 0.5593, 0.558, 0.5491, 0.53, 0.5223, 0.5297, 0.4553, 0.4661, 0.3863, 0.4544, 0.3856, 0.3205, 0.3419, 0.2305, 0.1676, 0.1503, 0.3935, 0.3358, 0.3246, 0.2316, 0.1396, 0.2559, 0.2409, 0.251, 0.1799, 0.1259, 0.0594, 0.1588, 0.1878, 0.041, -0.0242, 0.1243, -0.1877, 0.0558, 0.1535, -0.0299, 0.1471, -0.3154, -0.0606, -0.192, -0.0668, -0.267, -0.0296, -0.116, -0.1867, -0.1005, 0.9845, 0.8984, 0.858, 0.8505, 0.84, 0.7945, 0.7286, 0.7132, 0.6915, 0.6821, 0.6713, 0.6457, 0.6205, 0.6198, 0.6194, 0.6131, 0.6026, 0.6006, 0.5797, 0.5736, 0.5696, 0.5662, 0.5525, 0.5524, 0.5524, 0.5502, 0.5494, 0.5465, 0.5439, 0.5433, 0.5339, 0.5388, 0.4706, 0.4099, 0.4467, 0.4183, 0.4654, 0.3896, 0.4532, 0.4296, 0.4828, 0.3298, 0.2423, 0.274, 0.2851, 0.2307, 0.2181, 0.2904, 0.3015, 0.3123, 0.1961, 0.0916, 0.189, 0.2365, 0.2469, 0.1374, 0.257, 0.1683, 0.1841, -0.0208, 0.047, -0.0097, 0.2349, 0.1909, -0.1012, -0.2266, -0.2784, -0.0052, -0.1538, 0.0645, -0.1396, -0.0734, -0.1849, -0.1545, -0.3575]}, \"token.table\": {\"Topic\": [1, 2, 3, 4, 5, 1, 2, 3, 4, 5, 6, 7, 1, 2, 3, 4, 5, 6, 7, 8, 1, 2, 3, 4, 5, 6, 7, 8, 1, 2, 3, 4, 5, 6, 7, 8, 1, 2, 3, 4, 5, 6, 7, 8, 1, 2, 3, 4, 5, 6, 7, 8, 1, 2, 3, 4, 5, 1, 2, 3, 4, 5, 1, 2, 3, 4, 5, 1, 2, 3, 4, 5, 6, 1, 2, 3, 4, 5, 1, 2, 3, 4, 5, 6, 7, 1, 2, 3, 4, 5, 6, 7, 8, 1, 2, 3, 4, 5, 6, 7, 8, 1, 2, 3, 4, 5, 6, 7, 8, 1, 2, 3, 5, 1, 2, 3, 4, 5, 1, 2, 3, 4, 5, 1, 2, 3, 4, 5, 1, 2, 3, 4, 1, 2, 3, 4, 5, 6, 7, 8, 1, 2, 3, 4, 5, 6, 1, 2, 3, 4, 5, 1, 2, 3, 4, 5, 6, 7, 8, 1, 2, 3, 4, 5, 1, 2, 3, 4, 5, 6, 7, 1, 2, 3, 4, 5, 1, 2, 3, 4, 5, 1, 2, 3, 4, 5, 6, 7, 8, 1, 2, 3, 4, 5, 1, 2, 3, 4, 5, 1, 2, 3, 4, 5, 6, 1, 2, 3, 4, 5, 1, 2, 3, 4, 5, 1, 2, 3, 4, 5, 6, 7, 8, 1, 2, 3, 4, 5, 6, 7, 8, 1, 2, 3, 4, 5, 6, 7, 8, 1, 2, 3, 4, 5, 6, 7, 8, 1, 2, 3, 4, 5, 1, 2, 3, 4, 5, 1, 2, 3, 4, 5, 6, 7, 1, 2, 3, 4, 5, 6, 7, 1, 2, 3, 4, 5, 6, 7, 1, 2, 3, 4, 5, 1, 2, 3, 4, 5, 1, 2, 3, 4, 5, 1, 2, 3, 4, 5, 1, 2, 3, 4, 5, 6, 1, 2, 3, 4, 5, 6, 7, 8, 1, 2, 3, 4, 5, 1, 2, 3, 4, 5, 6, 7, 8, 1, 2, 3, 4, 5, 6, 1, 2, 3, 4, 5, 1, 2, 3, 4, 5, 6, 7, 8, 1, 2, 3, 4, 5, 6, 7, 8, 1, 2, 3, 4, 5, 1, 2, 3, 4, 5, 6, 7, 8, 1, 2, 3, 4, 5, 1, 2, 3, 4, 5, 1, 2, 3, 4, 5, 6, 7, 8, 1, 2, 3, 4, 5, 6, 7, 8, 1, 2, 3, 4, 5, 6, 7, 8, 1, 2, 3, 4, 5, 1, 2, 3, 4, 5, 6, 7, 1, 2, 3, 4, 5, 6, 7, 8, 1, 2, 3, 4, 1, 2, 3, 4, 5, 6, 7, 8, 1, 2, 3, 4, 5, 6, 7, 1, 2, 3, 4, 5, 6, 7, 1, 2, 3, 4, 5, 6, 7, 8, 1, 2, 3, 4, 5, 1, 2, 3, 4, 5, 1, 2, 3, 4, 5, 6, 1, 2, 3, 4, 5, 1, 2, 3, 4, 5, 1, 2, 3, 4, 5, 6, 7, 8, 1, 2, 3, 4, 5, 6, 1, 2, 3, 4, 5, 6, 7, 8, 1, 2, 3, 4, 5, 1, 2, 3, 4, 5, 1, 2, 3, 4, 5, 6, 7, 8, 1, 2, 3, 4, 5, 6, 7, 1, 2, 3, 4, 5, 1, 2, 3, 4, 5, 6, 7, 8, 1, 2, 3, 4, 5, 6, 7, 8, 1, 2, 3, 4, 5, 1, 2, 3, 4, 5, 6, 7, 8, 1, 2, 3, 4, 5, 6, 7, 1, 2, 3, 4, 5, 6, 7, 8, 1, 2, 3, 4, 5, 6, 7, 8, 1, 2, 3, 4, 5, 6, 7, 1, 2, 3, 4, 5, 6, 7, 1, 2, 3, 4, 5, 6, 7, 8, 1, 2, 3, 4, 5, 1, 2, 3, 4, 5, 6, 7, 1, 2, 3, 4, 1, 2, 3, 4, 5, 6, 7, 8, 1, 2, 3, 4, 5, 1, 2, 3, 4, 5, 7, 1, 2, 3, 4, 5, 1, 2, 3, 4, 5, 6, 1, 2, 3, 4, 5, 6, 7, 8, 1, 2, 3, 4, 5, 6, 7, 1, 2, 3, 4, 5, 1, 2, 3, 4, 5, 1, 2, 3, 4, 5, 6, 8, 1, 2, 3, 4, 5, 6, 7, 1, 2, 3, 4, 5, 1, 2, 3, 4, 5, 7, 1, 2, 3, 4, 5, 6, 8, 1, 2, 3, 4, 5, 1, 2, 3, 4, 5, 6, 7, 8, 1, 2, 3, 4, 5, 6, 7, 8, 1, 2, 3, 4, 5, 6, 7, 8, 1, 2, 3, 4, 5, 6, 7, 1, 2, 3, 4, 5, 6, 7, 8, 1, 2, 3, 4, 5, 6, 7, 1, 2, 3, 4, 5, 6, 7, 8, 1, 2, 3, 4, 5, 6, 1, 2, 3, 4, 1, 2, 3, 4, 5, 6, 7, 8, 1, 2, 3, 4, 5, 6, 1, 2, 3, 4, 5, 1, 2, 3, 4, 5, 6, 7, 8, 1, 2, 3, 4, 5, 1, 2, 3, 4, 5, 1, 2, 3, 4, 5, 6, 7, 8, 1, 2, 3, 4, 5, 1, 2, 3, 4, 5, 1, 2, 3, 4, 5, 6, 7, 8, 1, 2, 3, 4, 5, 6, 7, 8, 1, 2, 3, 4, 5, 1, 2, 3, 4, 5, 1, 2, 3, 4, 5, 1, 2, 3, 4, 5, 6, 7, 8, 1, 2, 3, 4, 5, 6, 7, 8, 1, 2, 3, 4, 5, 6, 7, 8, 1, 2, 3, 4, 5, 1, 2, 3, 4, 5, 6, 7, 8, 1, 2, 3, 4, 5, 1, 2, 3, 4, 5, 6, 7, 1, 2, 3, 4, 5, 6, 7, 8, 1, 2, 3, 4, 5, 6, 7, 8, 1, 2, 3, 4, 1, 2, 3, 4, 5, 6, 1, 2, 3, 4, 5, 6, 7, 8, 1, 2, 3, 4, 5, 6, 7, 1, 2, 3, 4, 5, 6, 7, 8, 1, 2, 3, 4, 5, 6, 7, 1, 2, 3, 4, 5, 6, 7, 8, 1, 2, 3, 4, 5, 6, 7, 8, 1, 2, 3, 4, 5, 6, 7, 8, 1, 2, 3, 4, 5, 1, 2, 3, 4, 5, 6, 7, 8, 1, 2, 3, 4, 5, 6, 7, 8, 1, 2, 3, 4, 5, 6, 7, 8, 1, 2, 3, 4, 5, 6, 1, 2, 3, 4, 5, 6, 7, 8, 1, 2, 3, 4, 5, 6, 7, 1, 2, 3, 4, 5, 6, 7, 8, 1, 2, 3, 4, 1, 2, 3, 4, 5, 1, 2, 3, 4, 5, 1, 2, 3, 4, 5, 6, 7, 8, 1, 2, 3, 4, 5, 1, 2, 3, 4, 5, 6, 7, 8, 1, 2, 3, 4, 5, 1, 2, 3, 4, 5, 6, 7, 8, 1, 2, 3, 4, 1, 2, 3, 4, 5, 6, 7, 8, 1, 2, 3, 4, 5, 6, 7, 8, 1, 2, 3, 4, 5, 6, 7, 1, 2, 3, 4, 5, 6, 7, 8, 1, 2, 3, 4, 5, 1, 2, 3, 5, 1, 2, 3, 4, 5, 1, 2, 3, 4, 5, 1, 2, 3, 4, 5, 6, 7, 8, 1, 2, 3, 4, 5, 6, 7, 8, 1, 2, 3, 4, 5, 1, 2, 3, 4, 5, 6, 7, 8, 1, 2, 3, 4, 5, 6, 7, 8, 1, 2, 3, 4, 5, 1, 2, 3, 4, 5, 1, 2, 3, 4, 5, 6, 7, 8, 1, 2, 3, 4, 1, 2, 3, 4, 5, 6, 8, 1, 2, 3, 4, 5, 6, 7, 8, 1, 2, 3, 4, 5, 1, 2, 3, 4, 5, 6, 7, 8, 1, 2, 3, 4, 5, 1, 2, 3, 5, 1, 2, 3, 5, 1, 2, 3, 4, 1, 2, 3, 4, 5, 6, 1, 2, 3, 4, 5, 6, 7, 8, 1, 2, 3, 4, 5, 6, 7, 1, 2, 3, 4, 5, 6, 7, 8, 1, 2, 3, 4, 5, 6, 7, 1, 2, 3, 4, 5, 6, 7, 8, 1, 2, 3, 4, 5, 1, 2, 3, 4, 5, 6, 7, 8, 1, 2, 3, 4, 5, 1, 2, 3, 4, 5, 6, 7, 8, 1, 2, 3, 4, 5, 1, 2, 3, 4, 5, 6, 7, 8, 1, 2, 3, 4, 5, 6, 1, 2, 3, 4, 5, 1, 2, 3, 4, 5, 6, 7, 8, 1, 2, 3, 4, 5, 1, 2, 3, 4, 5, 6, 7, 8, 1, 2, 3, 4, 5, 6, 7, 8, 1, 2, 3, 4, 5, 6, 7, 8, 1, 2, 3, 4, 5, 7, 1, 2, 3, 4, 5, 6, 7, 8, 1, 2, 3, 4, 5, 6, 7, 8, 1, 2, 3, 4, 5, 1, 2, 3, 4, 5, 6, 7, 8, 1, 2, 3, 4, 5, 1, 2, 3, 4, 1, 2, 3, 4, 5, 6, 7, 8, 1, 2, 3, 4, 5, 6, 7, 8, 1, 2, 3, 4, 5, 1, 2, 3, 4, 5, 6, 7, 8, 1, 2, 3, 4, 5, 1, 2, 3, 4, 5, 6, 7, 1, 2, 3, 4, 5, 1, 2, 3, 4, 5, 1, 2, 3, 4, 5, 6, 7, 8, 1, 2, 3, 4, 5, 6, 7, 8, 1, 2, 3, 4, 5, 6, 7, 8, 1, 2, 3, 4, 5, 6, 7, 8, 1, 2, 3, 1, 2, 3, 4, 5, 1, 2, 3, 4, 5, 1, 2, 3, 4, 5, 1, 2, 3, 4, 1, 2, 3, 4, 5, 6, 7, 8, 1, 2, 3, 4, 5, 6, 7, 8, 1, 2, 3, 4, 5, 6, 7, 8, 1, 2, 3, 4, 5, 6, 7, 8, 1, 2, 3, 4, 5, 1, 2, 3, 4, 5, 6, 7, 8, 1, 2, 3, 4, 5, 6, 7, 8, 1, 2, 3, 4, 1, 2, 3, 4, 5, 1, 2, 3, 4, 5, 6, 7, 8, 1, 2, 3, 4, 5, 1, 2, 3, 4, 5, 6, 7, 8, 1, 2, 3, 4, 5, 6, 7, 8, 1, 2, 3, 4, 5, 6, 7, 8, 1, 2, 3, 4, 5, 7, 1, 2, 3, 4, 5, 1, 2, 3, 4, 5, 1, 2, 3, 4, 5, 1, 2, 3, 4, 5, 6, 7, 8, 1, 2, 3, 4, 5, 6, 7, 8, 1, 2, 3, 4, 5, 6, 7, 1, 2, 3, 4, 5, 6, 7, 8, 1, 2, 3, 4, 5, 1, 2, 3, 4, 5, 1, 2, 3, 4, 5, 1, 2, 3, 4, 5, 6, 7, 8, 1, 2, 3, 4, 5, 6, 7, 8, 1, 2, 3, 4, 5, 1, 2, 3, 4, 5, 6, 7, 8, 1, 2, 3, 4, 5, 6, 7, 1, 2, 3, 4, 5, 6, 7, 8, 1, 2, 3, 4, 5, 6, 7, 1, 2, 3, 4, 5, 6, 7, 8, 1, 2, 3, 4, 5, 6, 7, 1, 2, 3, 4, 5, 1, 2, 3, 4, 5, 6, 7, 8, 1, 2, 3, 4, 5, 6, 7, 8, 1, 2, 3, 4, 5, 1, 2, 3, 4, 5, 6, 7, 8, 1, 2, 3, 4, 5, 1, 2, 3, 4, 5, 6, 7, 8, 1, 2, 3, 4, 5, 6, 7, 8, 1, 2, 3, 4, 5, 6, 7, 8, 1, 2, 3, 4, 5, 1, 2, 3, 4, 5, 1, 2, 3, 4, 5, 1, 2, 3, 4, 5, 1, 2, 3, 4, 5, 1, 2, 3, 4, 5, 1, 2, 3, 4, 5, 6, 1, 2, 3, 4, 5, 6, 1, 2, 3, 4, 5, 1, 2, 3, 4, 5, 6, 1, 2, 3, 4, 5, 6, 7, 8, 1, 2, 3, 4, 7, 1, 2, 3, 4, 5, 6, 7, 8, 1, 2, 3, 4, 5, 6, 7, 8, 1, 2, 3, 4, 5, 1, 2, 3, 4, 5, 6, 7, 8, 1, 2, 3, 4, 5, 1, 2, 3, 4, 5, 6, 7, 8, 1, 2, 3, 4, 5, 1, 2, 3, 4, 5, 1, 2, 3, 4, 5, 1, 2, 3, 4, 5, 1, 2, 3, 4, 5, 6, 1, 2, 3, 4, 5, 6, 7, 8, 1, 2, 3, 4, 5, 7, 1, 2, 3, 4, 5, 1, 2, 3, 4, 5, 6, 7, 8, 1, 2, 3, 4, 5, 6, 7, 8, 1, 2, 3, 4, 5, 6, 7, 8, 1, 2, 3, 4, 5, 1, 2, 3, 4, 5, 1, 2, 3, 4, 5, 6, 7, 8, 1, 2, 3, 4, 5, 6, 7, 8, 1, 2, 3, 4, 5, 7, 1, 2, 3, 4, 5, 1, 2, 3, 4, 5, 6, 1, 2, 3, 4, 5, 6, 7, 1, 2, 3, 4, 1, 2, 3, 4, 5, 1, 2, 3, 4, 5, 1, 2, 3, 4, 5, 6, 7, 1, 2, 3, 4, 5, 6, 7, 8, 1, 2, 3, 4, 5, 7, 1, 2, 3, 4, 5, 1, 2, 3, 4, 5, 6, 7, 8, 1, 2, 3, 4, 5, 1, 2, 3, 4, 5, 6, 7, 8, 1, 2, 3, 4, 5, 6, 7, 8, 1, 2, 3, 4, 5, 6, 7, 8, 1, 2, 3, 4, 5, 6, 7, 8, 1, 2, 3, 4, 5, 6, 7, 8, 1, 2, 3, 4, 5, 1, 2, 3, 4, 5, 6, 7, 8, 1, 2, 3, 4, 5, 6, 7, 1, 2, 3, 4, 5, 6, 7, 8, 1, 2, 3, 4, 5, 1, 2, 3, 4, 5, 1, 2, 3, 4, 5, 6, 7, 8, 1, 2, 3, 4, 5, 1, 2, 3, 4, 5, 6, 7, 1, 2, 3, 4, 1, 2, 3, 4, 5, 1, 2, 3, 4, 5, 6, 1, 2, 3, 4, 5, 6, 7, 8, 1, 2, 3, 4, 5, 6, 7, 1, 2, 3, 4, 5, 1, 2, 3, 4, 5, 1, 2, 3, 4, 5, 6, 7, 8, 1, 2, 3, 4, 5, 6, 7, 8, 1, 2, 3, 4, 5, 6, 7, 8, 1, 2, 3, 4, 5, 7, 1, 2, 3, 5, 1, 2, 3, 4, 5, 6, 7, 8, 1, 2, 3, 4, 5, 6, 7, 8, 1, 2, 3, 4, 5, 1, 2, 3, 4, 5, 6, 7, 8, 1, 2, 3, 4, 5, 6, 7, 8, 1, 2, 3, 4, 5, 6, 7, 8, 1, 2, 3, 4, 5, 6, 7, 8, 1, 2, 3, 4, 5, 1, 2, 3, 4, 5, 6, 7, 8, 1, 2, 3, 4, 5, 1, 2, 3, 4, 5, 6, 1, 2, 3, 4, 5, 6, 7, 1, 2, 3, 4, 5, 1, 2, 3, 4, 5, 6, 7, 1, 2, 3, 4, 5, 1, 2, 3, 4, 5, 6, 7, 8, 1, 2, 3, 4, 5, 6, 7, 8, 1, 2, 3, 4, 5, 6, 7, 8, 1, 2, 3, 4, 5, 6, 7, 8, 1, 2, 3, 4, 5, 1, 2, 3, 4, 5, 6, 7, 8, 1, 2, 3, 4, 5, 6, 7, 8, 1, 2, 3, 4, 5, 7], \"Freq\": [0.15186669594392257, 0.15186669594392257, 0.30373339188784515, 0.15186669594392257, 0.15186669594392257, 0.4648788569238314, 0.1328225305496661, 0.16602816318708266, 0.09961689791224959, 0.09961689791224959, 0.03320563263741653, 0.03320563263741653, 0.2540156470851057, 0.2540156470851057, 0.12700782354255286, 0.17992775001861658, 0.12700782354255286, 0.031751955885638214, 0.021167970590425477, 0.021167970590425477, 0.19422529198798288, 0.3344991139793039, 0.16185440998998574, 0.1294835279919886, 0.10790293999332383, 0.03237088199799715, 0.021580587998664764, 0.021580587998664764, 0.36952802152185665, 0.24019321398920682, 0.1293348075326498, 0.1293348075326498, 0.07390560430437132, 0.01847640107609283, 0.01847640107609283, 0.01847640107609283, 0.15244684924724802, 0.27440432864504644, 0.24391495879559683, 0.12195747939779841, 0.12195747939779841, 0.030489369849449603, 0.030489369849449603, 0.030489369849449603, 0.41024094462860805, 0.20512047231430403, 0.12820029519644002, 0.076920177117864, 0.076920177117864, 0.025640059039288003, 0.025640059039288003, 0.025640059039288003, 0.392267213490349, 0.1961336067451745, 0.09806680337258725, 0.09806680337258725, 0.09806680337258725, 0.41384520032880917, 0.20692260016440459, 0.10346130008220229, 0.10346130008220229, 0.10346130008220229, 0.32877644842000464, 0.16438822421000232, 0.16438822421000232, 0.16438822421000232, 0.16438822421000232, 0.22205260010698774, 0.14803506673799183, 0.22205260010698774, 0.14803506673799183, 0.14803506673799183, 0.07401753336899591, 0.2602659101632959, 0.2602659101632959, 0.13013295508164796, 0.13013295508164796, 0.13013295508164796, 0.18110591171381668, 0.25354827639934335, 0.14488472937105334, 0.10866354702829001, 0.21732709405658002, 0.036221182342763336, 0.036221182342763336, 0.31942317974946316, 0.2595313335464388, 0.10980171803887795, 0.1297656667732194, 0.0648828333866097, 0.039927897468682895, 0.04990987183585362, 0.02495493591792681, 0.304592933495045, 0.24696724337436082, 0.1481803460246165, 0.11525138024136838, 0.08232241445812027, 0.03292896578324811, 0.04116120722906014, 0.016464482891624055, 0.3414001488714425, 0.2763715490864058, 0.13005719957007333, 0.097542899677555, 0.06502859978503667, 0.016257149946259167, 0.0487714498387775, 0.016257149946259167, 0.1902764726576049, 0.3805529453152098, 0.1902764726576049, 0.1902764726576049, 0.3612802608197136, 0.2709601956147852, 0.0903200652049284, 0.1806401304098568, 0.0903200652049284, 0.19862808476228228, 0.2979421271434234, 0.19862808476228228, 0.09931404238114114, 0.19862808476228228, 0.24408610944023698, 0.48817221888047396, 0.12204305472011849, 0.12204305472011849, 0.12204305472011849, 0.49060513852565607, 0.1635350461752187, 0.1635350461752187, 0.1635350461752187, 0.2728742076362869, 0.21829936610902953, 0.16372452458177214, 0.16372452458177214, 0.10914968305451477, 0.05457484152725738, 0.05457484152725738, 0.05457484152725738, 0.31984094142948866, 0.2665341178579072, 0.15992047071474433, 0.10661364714316288, 0.10661364714316288, 0.05330682357158144, 0.44689437041365315, 0.22344718520682658, 0.07448239506894219, 0.07448239506894219, 0.07448239506894219, 0.22241387580536223, 0.22241387580536223, 0.19064046497602477, 0.1588670541466873, 0.09532023248801239, 0.03177341082933746, 0.03177341082933746, 0.03177341082933746, 0.19049088696396327, 0.19049088696396327, 0.19049088696396327, 0.19049088696396327, 0.19049088696396327, 0.2473006567364763, 0.21197199148840826, 0.2473006567364763, 0.14131466099227216, 0.10598599574420413, 0.03532866524806804, 0.03532866524806804, 0.17477180359296515, 0.4369295089824129, 0.17477180359296515, 0.08738590179648258, 0.17477180359296515, 0.1919225413434947, 0.3838450826869894, 0.09596127067174735, 0.09596127067174735, 0.09596127067174735, 0.2292065599760695, 0.3765536342463999, 0.11460327998803475, 0.09823138284688693, 0.11460327998803475, 0.032743794282295645, 0.032743794282295645, 0.016371897141147822, 0.1600135480323868, 0.3200270960647736, 0.1600135480323868, 0.1600135480323868, 0.1600135480323868, 0.18964040147220393, 0.18964040147220393, 0.18964040147220393, 0.18964040147220393, 0.18964040147220393, 0.2584004587087121, 0.2584004587087121, 0.08613348623623737, 0.08613348623623737, 0.17226697247247474, 0.08613348623623737, 0.31188445749413884, 0.15594222874706942, 0.15594222874706942, 0.15594222874706942, 0.15594222874706942, 0.24090014961786443, 0.24090014961786443, 0.12045007480893222, 0.12045007480893222, 0.24090014961786443, 0.22984007683606147, 0.2626743735269274, 0.1641714834543296, 0.2134229284906285, 0.06566859338173185, 0.032834296690865926, 0.016417148345432963, 0.016417148345432963, 0.28809008257839985, 0.24376853141249222, 0.15512542908067686, 0.17728620466363068, 0.06648232674886151, 0.022160775582953835, 0.04432155116590767, 0.022160775582953835, 0.23645448428488203, 0.30841889254549826, 0.17477070577578235, 0.1233675570181993, 0.09252566776364948, 0.041122519006066435, 0.020561259503033218, 0.010280629751516609, 0.24803616812092438, 0.24803616812092438, 0.1653574454139496, 0.12401808406046219, 0.0826787227069748, 0.0413393613534874, 0.0413393613534874, 0.0413393613534874, 0.2120833698039657, 0.4241667396079314, 0.10604168490198285, 0.10604168490198285, 0.10604168490198285, 0.39909608023471527, 0.26606405348981016, 0.13303202674490508, 0.13303202674490508, 0.13303202674490508, 0.22835091723208667, 0.22835091723208667, 0.171263187924065, 0.11417545861604333, 0.171263187924065, 0.05708772930802167, 0.05708772930802167, 0.23245684292947835, 0.23245684292947835, 0.139474105757687, 0.18596547434358268, 0.09298273717179134, 0.04649136858589567, 0.04649136858589567, 0.29577693066739796, 0.29577693066739796, 0.1183107722669592, 0.1183107722669592, 0.1183107722669592, 0.0591553861334796, 0.0591553861334796, 0.4125721968317261, 0.20628609841586304, 0.06876203280528767, 0.13752406561057534, 0.06876203280528767, 0.2069395115957433, 0.4138790231914866, 0.2069395115957433, 0.10346975579787165, 0.10346975579787165, 0.3460026136160917, 0.23066840907739447, 0.11533420453869724, 0.11533420453869724, 0.11533420453869724, 0.32004919175105734, 0.16002459587552867, 0.16002459587552867, 0.16002459587552867, 0.16002459587552867, 0.22156647869741875, 0.22156647869741875, 0.11078323934870937, 0.11078323934870937, 0.11078323934870937, 0.11078323934870937, 0.39308871750159075, 0.2161987946258749, 0.11792661525047722, 0.11792661525047722, 0.09827217937539769, 0.019654435875079538, 0.019654435875079538, 0.019654435875079538, 0.22414011167919728, 0.3362101675187959, 0.11207005583959864, 0.11207005583959864, 0.11207005583959864, 0.2266154990341747, 0.25683089890539795, 0.1964000991629514, 0.09064619961366988, 0.1661846992917281, 0.030215399871223292, 0.030215399871223292, 0.015107699935611646, 0.23569216599335643, 0.23569216599335643, 0.1571281106622376, 0.0785640553311188, 0.1571281106622376, 0.0785640553311188, 0.2536870893119393, 0.2536870893119393, 0.12684354465596964, 0.12684354465596964, 0.12684354465596964, 0.17462987798320856, 0.3492597559664171, 0.17462987798320856, 0.0997885017046906, 0.12473562713086325, 0.02494712542617265, 0.02494712542617265, 0.02494712542617265, 0.2512932844784827, 0.2871923251182659, 0.15556250943906072, 0.08376442815949423, 0.15556250943906072, 0.03589904063978324, 0.023932693759855492, 0.023932693759855492, 0.33054158993967414, 0.16527079496983707, 0.33054158993967414, 0.16527079496983707, 0.16527079496983707, 0.40045502663082944, 0.19221841278279814, 0.1281456085218654, 0.1441638095870986, 0.0640728042609327, 0.03203640213046635, 0.03203640213046635, 0.016018201065233176, 0.2119158261993467, 0.2119158261993467, 0.10595791309967335, 0.2119158261993467, 0.10595791309967335, 0.14160225141976515, 0.3540056285494129, 0.14160225141976515, 0.07080112570988258, 0.21240337712964774, 0.399569738582709, 0.18803281815656894, 0.11752051134785559, 0.14102461361742671, 0.07051230680871336, 0.023504102269571118, 0.047008204539142236, 0.023504102269571118, 0.24744527342203046, 0.22592829312446258, 0.21516980297567864, 0.10758490148783932, 0.0968264113390554, 0.04303396059513573, 0.032275470446351796, 0.021516980297567864, 0.21298832906748683, 0.39554975398247555, 0.09128071245749435, 0.10649416453374341, 0.10649416453374341, 0.045640356228747174, 0.030426904152498116, 0.015213452076249058, 0.19246457919662388, 0.19246457919662388, 0.19246457919662388, 0.09623228959831194, 0.19246457919662388, 0.24466693453781413, 0.3466114905952367, 0.20388911211484512, 0.06116673363445353, 0.08155564484593804, 0.02038891121148451, 0.02038891121148451, 0.21270424623828377, 0.31087543680979934, 0.1418028308255225, 0.15271074088902425, 0.11998701069851905, 0.02726977515875433, 0.021815820127003463, 0.016361865095252597, 0.30773207860611507, 0.15386603930305753, 0.30773207860611507, 0.15386603930305753, 0.40395646122968853, 0.17530186053363842, 0.16005822048723506, 0.09146184027842004, 0.08384002025521838, 0.03048728009280668, 0.02286546006960501, 0.02286546006960501, 0.21197635035283052, 0.38155743063509495, 0.16958108028226443, 0.08479054014113221, 0.1271858102116983, 0.04239527007056611, 0.04239527007056611, 0.1715377959766526, 0.30019114295914207, 0.12865334698248945, 0.1715377959766526, 0.12865334698248945, 0.04288444899416315, 0.04288444899416315, 0.29845480646809575, 0.23627672178724246, 0.14922740323404787, 0.1119205524255359, 0.09948493548936525, 0.04974246774468263, 0.024871233872341313, 0.012435616936170657, 0.4846073157813225, 0.20768884962056677, 0.06922961654018893, 0.06922961654018893, 0.06922961654018893, 0.2602458152206044, 0.2602458152206044, 0.1301229076103022, 0.1301229076103022, 0.1301229076103022, 0.23520568376866471, 0.23520568376866471, 0.11760284188433236, 0.11760284188433236, 0.11760284188433236, 0.11760284188433236, 0.14814394192714897, 0.29628788385429794, 0.29628788385429794, 0.14814394192714897, 0.14814394192714897, 0.19668986601507285, 0.19668986601507285, 0.19668986601507285, 0.09834493300753643, 0.19668986601507285, 0.2559507698137801, 0.24376263791788585, 0.19501011033430868, 0.060940659479471464, 0.1584457146466258, 0.036564395687682875, 0.024376263791788585, 0.012188131895894292, 0.2162743978231678, 0.34603903651706847, 0.17301951825853423, 0.08650975912926712, 0.12976463869390067, 0.04325487956463356, 0.26851849976711445, 0.21969695435491182, 0.1708754089427092, 0.12205386353050657, 0.13425924988355722, 0.04882154541220263, 0.024410772706101314, 0.012205386353050657, 0.2695713762493624, 0.2695713762493624, 0.1347856881246812, 0.1347856881246812, 0.1347856881246812, 0.2437082419004363, 0.32494432253391503, 0.16247216126695752, 0.16247216126695752, 0.08123608063347876, 0.2262801169276307, 0.296504980801723, 0.14044972774818457, 0.0780276265267692, 0.1872663036642461, 0.03121105061070768, 0.03121105061070768, 0.01560552530535384, 0.24478938912447104, 0.20399115760372588, 0.1631929260829807, 0.20399115760372588, 0.08159646304149035, 0.04079823152074517, 0.04079823152074517, 0.271426514234038, 0.3619020189787174, 0.09047550474467934, 0.09047550474467934, 0.09047550474467934, 0.20226730256049125, 0.3062904867344582, 0.15025571047350778, 0.13869757889862255, 0.15025571047350778, 0.023116263149770427, 0.01733719736232782, 0.011558131574885213, 0.2983813177144749, 0.20756961232311297, 0.20756961232311297, 0.10378480616155648, 0.11675790693175105, 0.03891930231058368, 0.03891930231058368, 0.01297310077019456, 0.17848215762414923, 0.17848215762414923, 0.26772323643622387, 0.08924107881207462, 0.17848215762414923, 0.24274994345429365, 0.2912999321451524, 0.1456499660725762, 0.09709997738171747, 0.12946663650895662, 0.048549988690858734, 0.032366659127239156, 0.016183329563619578, 0.15174398477387493, 0.30348796954774987, 0.30348796954774987, 0.10116265651591662, 0.10116265651591662, 0.05058132825795831, 0.05058132825795831, 0.25655926570006554, 0.25655926570006554, 0.15788262504619419, 0.11841196878464565, 0.11841196878464565, 0.039470656261548547, 0.019735328130774273, 0.019735328130774273, 0.2760468523654626, 0.31055270891114545, 0.1207704979098899, 0.10351756963704849, 0.1207704979098899, 0.03450585654568283, 0.03450585654568283, 0.017252928272841413, 0.2049512051397035, 0.2869316871955849, 0.12297072308382209, 0.08198048205588139, 0.2049512051397035, 0.040990241027940695, 0.040990241027940695, 0.1752687487139958, 0.30672031024949264, 0.1752687487139958, 0.0876343743569979, 0.1752687487139958, 0.04381718717849895, 0.04381718717849895, 0.2574859128430461, 0.2574859128430461, 0.2032783522445101, 0.09486323104743805, 0.10841512119707206, 0.04065567044890202, 0.013551890149634007, 0.013551890149634007, 0.27224238826916136, 0.18149492551277424, 0.09074746275638712, 0.18149492551277424, 0.09074746275638712, 0.4501589697283309, 0.12861684849380883, 0.12861684849380883, 0.12861684849380883, 0.06430842424690442, 0.06430842424690442, 0.06430842424690442, 0.4549618249305902, 0.15165394164353005, 0.15165394164353005, 0.15165394164353005, 0.3450402536399898, 0.2683646417199921, 0.1763539074159948, 0.06134048953599819, 0.08434317311199752, 0.030670244767999094, 0.02300268357599932, 0.02300268357599932, 0.330182742084328, 0.1981096452505968, 0.2641461936674624, 0.1320730968337312, 0.0660365484168656, 0.23289841632042832, 0.40757222856074954, 0.11644920816021416, 0.11644920816021416, 0.11644920816021416, 0.05822460408010708, 0.1882054798800183, 0.3764109597600366, 0.09410273994000914, 0.09410273994000914, 0.09410273994000914, 0.19595278099181454, 0.2612703746557527, 0.2612703746557527, 0.06531759366393818, 0.13063518732787635, 0.06531759366393818, 0.41664553863303655, 0.20832276931651827, 0.13020173082282394, 0.10416138465825914, 0.07812103849369435, 0.013020173082282392, 0.026040346164564784, 0.013020173082282392, 0.21087816023830036, 0.31631724035745057, 0.15815862017872528, 0.10543908011915018, 0.15815862017872528, 0.05271954005957509, 0.05271954005957509, 0.32782771195152566, 0.16391385597576283, 0.16391385597576283, 0.16391385597576283, 0.16391385597576283, 0.17930420982162534, 0.17930420982162534, 0.26895631473243803, 0.08965210491081267, 0.17930420982162534, 0.44807488898433145, 0.16293632326702961, 0.12220224245027221, 0.12220224245027221, 0.08146816163351481, 0.040734080816757404, 0.040734080816757404, 0.24193617214313842, 0.24193617214313842, 0.16129078142875894, 0.16129078142875894, 0.08064539071437947, 0.08064539071437947, 0.08064539071437947, 0.2537948024736015, 0.2537948024736015, 0.2537948024736015, 0.12689740123680074, 0.12689740123680074, 0.1960984183849483, 0.1960984183849483, 0.1960984183849483, 0.09804920919247415, 0.09804920919247415, 0.09804920919247415, 0.34138606234378605, 0.2275907082291907, 0.11379535411459535, 0.11379535411459535, 0.11379535411459535, 0.056897677057297674, 0.056897677057297674, 0.40498927586626704, 0.10124731896656676, 0.20249463793313352, 0.20249463793313352, 0.10124731896656676, 0.3797488782715621, 0.20253273507816646, 0.10126636753908323, 0.15189955130862484, 0.07594977565431242, 0.025316591884770808, 0.025316591884770808, 0.025316591884770808, 0.2709501261121461, 0.25010780871890403, 0.17194911849424654, 0.08857984892127851, 0.14589622175269404, 0.03647405543817351, 0.020842317393242004, 0.015631738044931502, 0.3053228741235329, 0.25443572843627743, 0.15266143706176644, 0.1356990551660146, 0.0678495275830073, 0.05088714568725548, 0.016962381895751825, 0.016962381895751825, 0.1831825429966731, 0.34601147010482697, 0.16282892710815386, 0.08141446355407693, 0.14247531121963464, 0.040707231777038465, 0.020353615888519232, 0.2836053111308334, 0.20962131692278993, 0.19729065122144934, 0.13563732271474643, 0.08631465990938408, 0.024661331402681168, 0.036991997104021755, 0.012330665701340584, 0.20742865930160134, 0.2592858241270017, 0.15557149447620103, 0.15557149447620103, 0.15557149447620103, 0.051857164825400336, 0.051857164825400336, 0.2091389488913562, 0.4182778977827124, 0.17428245740946352, 0.1045694744456781, 0.0697129829637854, 0.0348564914818927, 0.0348564914818927, 0.0348564914818927, 0.19366006068434338, 0.2582134142457912, 0.19366006068434338, 0.19366006068434338, 0.1291067071228956, 0.0645533535614478, 0.2899000892656098, 0.2899000892656098, 0.1449500446328049, 0.1449500446328049, 0.2622336328392638, 0.23601026955533747, 0.23601026955533747, 0.07867008985177916, 0.10489345313570554, 0.026223363283926385, 0.05244672656785277, 0.026223363283926385, 0.21556996894666194, 0.3449119503146591, 0.12934198136799718, 0.08622798757866477, 0.12934198136799718, 0.04311399378933239, 0.2641973297069347, 0.17613155313795648, 0.2641973297069347, 0.17613155313795648, 0.08806577656897824, 0.305132141738376, 0.34103004076642024, 0.16154054562619907, 0.07179579805608848, 0.07179579805608848, 0.01794894951402212, 0.01794894951402212, 0.01794894951402212, 0.32593220818596375, 0.16296610409298187, 0.16296610409298187, 0.16296610409298187, 0.16296610409298187, 0.23574384383083308, 0.23574384383083308, 0.23574384383083308, 0.11787192191541654, 0.23574384383083308, 0.19071344087817835, 0.28607016131726754, 0.20433582951233395, 0.09535672043908917, 0.13622388634155597, 0.04086716590246679, 0.027244777268311194, 0.013622388634155597, 0.1437324250665037, 0.1437324250665037, 0.1437324250665037, 0.1437324250665037, 0.1437324250665037, 0.16422261412058667, 0.32844522824117334, 0.16422261412058667, 0.16422261412058667, 0.16422261412058667, 0.18183050333429368, 0.2975408236379351, 0.18183050333429368, 0.11571032030364144, 0.16530045757663062, 0.03306009151532612, 0.03306009151532612, 0.01653004575766306, 0.23183032492466804, 0.2853296306765145, 0.19616412109010373, 0.10699861150369294, 0.08916550958641078, 0.05349930575184647, 0.017833101917282157, 0.017833101917282157, 0.22215899686306148, 0.3332384952945922, 0.11107949843153074, 0.11107949843153074, 0.11107949843153074, 0.2565367402600804, 0.2565367402600804, 0.1282683701300402, 0.1282683701300402, 0.1282683701300402, 0.3184007886814875, 0.15920039434074376, 0.15920039434074376, 0.15920039434074376, 0.15920039434074376, 0.18073078208956914, 0.3227335394456592, 0.19364012366739553, 0.1161840742004373, 0.09036539104478457, 0.038728024733479104, 0.025818683155652736, 0.025818683155652736, 0.25954212649494024, 0.28549633914443423, 0.12977106324747012, 0.12977106324747012, 0.10381685059797609, 0.025954212649494022, 0.051908425298988044, 0.025954212649494022, 0.24840797862714636, 0.327446880917602, 0.12420398931357318, 0.11291271755779379, 0.10162144580201442, 0.03387381526733814, 0.02258254351155876, 0.01129127175577938, 0.29870575718865494, 0.2240293178914912, 0.14935287859432747, 0.14935287859432747, 0.07467643929716374, 0.2252039074128281, 0.2752492201712344, 0.25022656379203123, 0.07506796913760937, 0.1000906255168125, 0.025022656379203125, 0.025022656379203125, 0.025022656379203125, 0.38073628611627963, 0.25382419074418644, 0.12691209537209322, 0.12691209537209322, 0.12691209537209322, 0.37114548518937246, 0.21208313439392712, 0.10604156719696356, 0.10604156719696356, 0.10604156719696356, 0.05302078359848178, 0.05302078359848178, 0.2127219746986634, 0.33842132338423725, 0.11603016801745278, 0.12569934868557384, 0.11603016801745278, 0.029007542004363195, 0.029007542004363195, 0.01933836133624213, 0.21242124143213917, 0.25794007888188325, 0.2048347685238485, 0.12138356653265095, 0.12897003944094163, 0.030345891633162737, 0.022759418724872055, 0.022759418724872055, 0.3034518967759714, 0.3034518967759714, 0.1517259483879857, 0.1517259483879857, 0.21288731441605788, 0.21288731441605788, 0.21288731441605788, 0.1419248762773719, 0.07096243813868595, 0.07096243813868595, 0.3411816830627997, 0.17546486557515414, 0.16571681748764558, 0.12672462513761132, 0.1072285289625942, 0.029244144262525692, 0.029244144262525692, 0.019496096175017127, 0.30321851002452516, 0.2526820916871043, 0.15160925501226258, 0.10107283667484172, 0.10107283667484172, 0.05053641833742086, 0.05053641833742086, 0.20781353528474078, 0.29093894939863707, 0.20781353528474078, 0.0969796497995457, 0.11083388548519509, 0.04156270705694815, 0.02770847137129877, 0.013854235685649386, 0.2401494633256369, 0.18011209749422769, 0.18011209749422769, 0.18011209749422769, 0.12007473166281846, 0.06003736583140923, 0.06003736583140923, 0.4011342910928296, 0.16045371643713185, 0.16045371643713185, 0.10696914429142124, 0.08022685821856593, 0.05348457214571062, 0.02674228607285531, 0.02674228607285531, 0.3804765887022508, 0.2915340095251013, 0.08400132477841901, 0.10870759677207166, 0.07906007037968849, 0.02470627199365265, 0.014823763196191591, 0.01976501759492212, 0.2886429016914286, 0.25400575348845716, 0.15009430887954286, 0.11545716067657144, 0.11545716067657144, 0.02309143213531429, 0.03463714820297143, 0.02309143213531429, 0.3095340178015473, 0.23215051335116052, 0.07738350445038683, 0.15476700890077366, 0.07738350445038683, 0.34930141963126493, 0.23816005883949884, 0.11114136079176612, 0.1428960353036993, 0.07938668627983295, 0.01587733725596659, 0.03175467451193318, 0.03175467451193318, 0.24226442565997836, 0.20922836761543584, 0.18720432891907418, 0.0991081741336275, 0.16518029022271252, 0.04404807739272334, 0.0330360580445425, 0.02202403869636167, 0.31287158443719504, 0.2448560226030222, 0.1904435731356839, 0.10882489893467652, 0.05441244946733826, 0.02720622473366913, 0.0408093371005037, 0.02720622473366913, 0.37092122458036164, 0.2781909184352712, 0.09273030614509041, 0.09273030614509041, 0.09273030614509041, 0.09273030614509041, 0.18182509623963025, 0.3636501924792605, 0.1515209135330252, 0.09091254811981513, 0.12121673082642016, 0.03030418270660504, 0.03030418270660504, 0.03030418270660504, 0.21550625382914074, 0.24629286151901797, 0.15393303844938624, 0.12314643075950898, 0.18471964613926348, 0.030786607689877246, 0.030786607689877246, 0.2960779154617634, 0.24320685912930562, 0.13746474646439014, 0.1057421126649155, 0.13746474646439014, 0.031722633799474646, 0.0211484225329831, 0.0211484225329831, 0.195820686059125, 0.195820686059125, 0.195820686059125, 0.195820686059125, 0.17749574736819848, 0.17749574736819848, 0.35499149473639696, 0.17749574736819848, 0.17749574736819848, 0.3566463819656656, 0.1783231909828328, 0.1783231909828328, 0.0891615954914164, 0.0891615954914164, 0.42043040662842374, 0.19707675310707362, 0.15766140248565888, 0.06569225103569121, 0.06569225103569121, 0.026276900414276484, 0.026276900414276484, 0.013138450207138242, 0.12452174250350735, 0.12452174250350735, 0.2490434850070147, 0.12452174250350735, 0.12452174250350735, 0.46725075750426975, 0.207667003335231, 0.1038335016676155, 0.1038335016676155, 0.05191675083380775, 0.025958375416903875, 0.025958375416903875, 0.012979187708451937, 0.2603001677695393, 0.2603001677695393, 0.08676672258984643, 0.17353344517969285, 0.08676672258984643, 0.26883619889855814, 0.31771550778920504, 0.17922413259903874, 0.09775861778129387, 0.0733189633359704, 0.024439654445323467, 0.016293102963548977, 0.016293102963548977, 0.30876435199247254, 0.15438217599623627, 0.15438217599623627, 0.15438217599623627, 0.3781804769554162, 0.2416153047215159, 0.10505013248761562, 0.10505013248761562, 0.09454511923885404, 0.04202005299504624, 0.02101002649752312, 0.01050501324876156, 0.322778611558834, 0.1936671669353004, 0.15493373354824033, 0.14202258908588697, 0.10328915569882688, 0.02582228892470672, 0.03873343338706008, 0.01291114446235336, 0.3526472704917204, 0.251890907494086, 0.1511345444964516, 0.10075636299763441, 0.050378181498817204, 0.050378181498817204, 0.050378181498817204, 0.3369985521926222, 0.20738372442622904, 0.15553779331967177, 0.14257631054303246, 0.06480741388319658, 0.02592296555327863, 0.03888444832991794, 0.02592296555327863, 0.4977369556745089, 0.24886847783725444, 0.12443423891862722, 0.12443423891862722, 0.12443423891862722, 0.13884919122556486, 0.4165475736766946, 0.13884919122556486, 0.13884919122556486, 0.296225798401565, 0.19748386560104333, 0.19748386560104333, 0.09874193280052167, 0.09874193280052167, 0.24579915476738762, 0.24579915476738762, 0.12289957738369381, 0.12289957738369381, 0.12289957738369381, 0.22520062503211385, 0.2734579018247097, 0.17694334823951804, 0.11260031251605693, 0.16085758930865277, 0.03217151786173055, 0.03217151786173055, 0.016085758930865276, 0.19603017095480016, 0.32671695159133357, 0.16335847579566679, 0.09801508547740008, 0.13068678063653344, 0.03267169515913336, 0.03267169515913336, 0.03267169515913336, 0.1728071281032049, 0.1728071281032049, 0.3456142562064098, 0.1728071281032049, 0.1728071281032049, 0.2745433523958974, 0.28761684536713056, 0.1699554086260317, 0.09151445079863245, 0.10458794376986566, 0.039220478913699626, 0.039220478913699626, 0.013073492971233207, 0.19307902705911334, 0.25743870274548447, 0.22525886490229888, 0.09653951352955667, 0.12871935137274224, 0.03217983784318556, 0.03217983784318556, 0.03217983784318556, 0.17874486981409227, 0.17874486981409227, 0.17874486981409227, 0.17874486981409227, 0.17874486981409227, 0.3103766629772233, 0.15518833148861166, 0.15518833148861166, 0.15518833148861166, 0.15518833148861166, 0.1807905236467613, 0.3615810472935226, 0.1506587697056344, 0.13559289273507097, 0.10546113879394409, 0.030131753941126882, 0.030131753941126882, 0.015065876970563441, 0.3661319661077953, 0.3661319661077953, 0.18306598305389765, 0.18306598305389765, 0.42952741014024376, 0.1718109640560975, 0.12885822304207312, 0.12885822304207312, 0.08590548202804875, 0.042952741014024375, 0.042952741014024375, 0.25625817446671906, 0.25625817446671906, 0.24405540425401817, 0.09762216170160727, 0.08541939148890636, 0.024405540425401818, 0.024405540425401818, 0.012202770212700909, 0.12941123530848733, 0.38823370592546197, 0.19411685296273098, 0.12941123530848733, 0.12941123530848733, 0.22515171031614817, 0.24711773083479677, 0.22515171031614817, 0.11532160772290516, 0.10433859746358086, 0.027457525648310752, 0.032949030777972906, 0.016474515388986453, 0.24397015564298233, 0.3659552334644735, 0.12198507782149116, 0.12198507782149116, 0.12198507782149116, 0.14396234215069464, 0.43188702645208393, 0.14396234215069464, 0.14396234215069464, 0.1801679285357248, 0.1801679285357248, 0.1801679285357248, 0.1801679285357248, 0.5110616140045054, 0.17035387133483518, 0.17035387133483518, 0.17035387133483518, 0.17918687063419544, 0.3583737412683909, 0.08959343531709772, 0.08959343531709772, 0.08959343531709772, 0.08959343531709772, 0.2694563384640806, 0.2155650707712645, 0.16167380307844836, 0.16167380307844836, 0.053891267692816124, 0.053891267692816124, 0.053891267692816124, 0.053891267692816124, 0.18551813509179013, 0.24735751345572018, 0.12367875672786009, 0.12367875672786009, 0.24735751345572018, 0.061839378363930046, 0.061839378363930046, 0.2889418168403335, 0.2741242877715985, 0.16299281975608557, 0.0889051744124103, 0.10372270348114536, 0.029635058137470104, 0.03704382267183763, 0.014817529068735052, 0.17432322767817723, 0.23243097023756965, 0.17432322767817723, 0.17432322767817723, 0.11621548511878482, 0.05810774255939241, 0.05810774255939241, 0.3588342235178892, 0.18280234028269826, 0.14895005504516154, 0.12186822685513217, 0.10832731276011748, 0.033852285237536715, 0.020311371142522027, 0.02708182819002937, 0.3171396757565645, 0.15856983787828224, 0.3171396757565645, 0.15856983787828224, 0.15856983787828224, 0.2619520410205581, 0.2619520410205581, 0.1708382876221031, 0.12528141092287562, 0.10250297257326187, 0.03416765752442062, 0.03416765752442062, 0.022778438349613746, 0.19813125058211933, 0.19813125058211933, 0.19813125058211933, 0.19813125058211933, 0.09906562529105967, 0.26303441576711867, 0.2671443285134799, 0.17672624809353288, 0.1397370333762818, 0.08630816767358582, 0.028769389224528607, 0.020549563731806147, 0.012329738239083688, 0.25906523000571835, 0.25906523000571835, 0.19429892250428876, 0.06476630750142959, 0.19429892250428876, 0.29397103646204925, 0.2645739328158443, 0.14698551823102463, 0.1175884145848197, 0.08819131093861476, 0.04409565546930738, 0.029397103646204924, 0.014698551823102462, 0.45284027383269343, 0.20583648810576974, 0.08233459524230789, 0.08233459524230789, 0.08233459524230789, 0.041167297621153946, 0.15403425607192467, 0.4107580161917991, 0.15403425607192467, 0.051344752023974885, 0.15403425607192467, 0.3812979390508291, 0.16638455522217996, 0.13865379601848332, 0.17331724502310414, 0.06239420820831749, 0.03466344900462083, 0.03466344900462083, 0.020798069402772495, 0.3072682681141129, 0.20484551207607526, 0.10242275603803763, 0.10242275603803763, 0.10242275603803763, 0.24750248850093082, 0.31711256339181765, 0.16242350807873585, 0.10828233871915724, 0.10828233871915724, 0.030937811062616352, 0.015468905531308176, 0.015468905531308176, 0.3132088452854607, 0.20266454694941577, 0.20266454694941577, 0.0921202486133708, 0.12896834805871912, 0.03684809944534832, 0.01842404972267416, 0.01842404972267416, 0.2805374169615881, 0.2805374169615881, 0.13358924617218482, 0.1469481707894033, 0.09351247232052937, 0.02671784923443696, 0.02671784923443696, 0.02671784923443696, 0.2018716528884457, 0.30280747933266855, 0.10093582644422285, 0.10093582644422285, 0.10093582644422285, 0.10093582644422285, 0.3798636939171411, 0.18993184695857054, 0.17726972382799916, 0.08863486191399958, 0.08863486191399958, 0.025324246261142738, 0.025324246261142738, 0.012662123130571369, 0.30225674125541396, 0.31664991941043363, 0.1151454252401577, 0.08635906893011827, 0.10075224708513798, 0.028786356310039424, 0.014393178155019712, 0.014393178155019712, 0.23820567221459635, 0.23820567221459635, 0.11910283610729817, 0.23820567221459635, 0.11910283610729817, 0.20626825944920865, 0.23205179188035974, 0.21916002566478418, 0.15470119458690648, 0.10313412972460433, 0.02578353243115108, 0.02578353243115108, 0.02578353243115108, 0.22359019710661993, 0.44718039421323985, 0.11179509855330996, 0.11179509855330996, 0.11179509855330996, 0.1873610488979604, 0.1873610488979604, 0.1873610488979604, 0.1873610488979604, 0.31604041188339366, 0.23975479522188484, 0.1307753428483008, 0.1416732880856592, 0.10897945237358402, 0.021795890474716802, 0.021795890474716802, 0.021795890474716802, 0.35119460780484696, 0.1966689803707143, 0.15452562743413267, 0.11238227449755103, 0.09833449018535716, 0.042143352936581634, 0.028095568624387758, 0.028095568624387758, 0.18909997479627252, 0.28364996219440874, 0.18909997479627252, 0.18909997479627252, 0.09454998739813626, 0.3087894082768678, 0.1543947041384339, 0.24703152662149422, 0.12351576331074711, 0.12351576331074711, 0.030878940827686777, 0.030878940827686777, 0.030878940827686777, 0.13181696010919944, 0.3954508803275983, 0.19772544016379914, 0.06590848005459972, 0.13181696010919944, 0.21214526690177007, 0.25457432028212407, 0.12728716014106203, 0.16971621352141605, 0.12728716014106203, 0.04242905338035401, 0.04242905338035401, 0.30988399842930797, 0.20658933228620532, 0.10329466614310266, 0.10329466614310266, 0.10329466614310266, 0.487623558062638, 0.19504942322505522, 0.09752471161252761, 0.09752471161252761, 0.09752471161252761, 0.27042619583567673, 0.23179388214486576, 0.17770864297773042, 0.11589694107243288, 0.1081704783342707, 0.030905850952648767, 0.03863231369081096, 0.015452925476324384, 0.2206297035352853, 0.31868734955096767, 0.14708646902352354, 0.09805764601568236, 0.12257205751960294, 0.036771617255880885, 0.036771617255880885, 0.012257205751960295, 0.25834992676782026, 0.21137721281003477, 0.187890855831142, 0.11743178489446376, 0.11743178489446376, 0.02348635697889275, 0.0469727139577855, 0.02348635697889275, 0.3294507831137133, 0.15136927872792233, 0.15136927872792233, 0.19588965482437007, 0.08904075219289549, 0.0356163008771582, 0.026712225657868648, 0.026712225657868648, 0.5172240250313123, 0.17240800834377076, 0.17240800834377076, 0.2413954585093636, 0.2413954585093636, 0.1206977292546818, 0.1206977292546818, 0.1206977292546818, 0.40920222340130513, 0.20460111170065257, 0.10230055585032628, 0.10230055585032628, 0.10230055585032628, 0.2098633188482841, 0.2098633188482841, 0.2098633188482841, 0.2098633188482841, 0.10493165942414205, 0.47198212011977525, 0.1887928480479101, 0.09439642402395505, 0.09439642402395505, 0.1737542638191139, 0.24325596934675944, 0.20850511658293666, 0.13900341105529113, 0.13900341105529113, 0.03475085276382278, 0.03475085276382278, 0.03475085276382278, 0.21766417858815418, 0.3192407952626261, 0.15962039763131305, 0.10157661667447195, 0.1305985071528925, 0.029021890478420555, 0.029021890478420555, 0.014510945239210277, 0.20851980773351703, 0.27802641031135605, 0.19461848721794922, 0.11121056412454242, 0.11121056412454242, 0.05560528206227121, 0.027802641031135604, 0.013901320515567802, 0.36471094868555626, 0.23529738624874597, 0.1294135624368103, 0.1294135624368103, 0.07058921587462379, 0.023529738624874598, 0.023529738624874598, 0.011764869312437299, 0.14075963799885297, 0.28151927599770593, 0.14075963799885297, 0.14075963799885297, 0.14075963799885297, 0.24337243873763229, 0.3435846193943044, 0.15747628388905618, 0.0858961548485761, 0.10021218065667212, 0.04294807742428805, 0.028632051616192034, 0.014316025808096017, 0.26879331315244187, 0.26879331315244187, 0.14335643368130235, 0.12543687947113955, 0.07167821684065118, 0.03583910842032559, 0.05375866263048838, 0.017919554210162794, 0.3487274747662895, 0.17436373738314476, 0.17436373738314476, 0.17436373738314476, 0.26008305564928796, 0.195062291736966, 0.13004152782464398, 0.195062291736966, 0.13004152782464398, 0.2725441790476856, 0.2725441790476856, 0.1816961193651237, 0.1181024775873304, 0.09993286565081803, 0.01816961193651237, 0.03633922387302474, 0.01816961193651237, 0.41474016640618444, 0.13824672213539482, 0.13824672213539482, 0.13824672213539482, 0.13824672213539482, 0.3065287288900817, 0.14147479794926848, 0.2357913299154475, 0.16505393094081325, 0.09431653196617899, 0.023579132991544748, 0.023579132991544748, 0.023579132991544748, 0.3513621747031569, 0.21081730482189415, 0.16006499069810481, 0.1171207249010523, 0.08588853159410502, 0.0390402416336841, 0.02342414498021046, 0.01171207249010523, 0.21345267665169076, 0.24394591617336087, 0.24394591617336087, 0.09147971856501032, 0.15246619760835053, 0.030493239521670108, 0.030493239521670108, 0.030493239521670108, 0.24129156063409885, 0.16086104042273255, 0.16086104042273255, 0.16086104042273255, 0.16086104042273255, 0.08043052021136628, 0.2528449962857715, 0.2528449962857715, 0.12642249814288575, 0.12642249814288575, 0.12642249814288575, 0.21637263690076367, 0.21637263690076367, 0.21637263690076367, 0.10818631845038183, 0.21637263690076367, 0.3231106807171791, 0.2423330105378843, 0.08077767017929477, 0.16155534035858954, 0.08077767017929477, 0.32496895276079396, 0.19859213779826299, 0.144430645671464, 0.16248447638039698, 0.09026915354466498, 0.036107661417866, 0.036107661417866, 0.018053830708933, 0.2946092611211947, 0.22528943497503123, 0.17329956536540864, 0.12997467402405646, 0.11264471748751562, 0.025994934804811295, 0.017329956536540864, 0.017329956536540864, 0.2202223708312892, 0.2202223708312892, 0.14681491388752613, 0.14681491388752613, 0.07340745694376306, 0.07340745694376306, 0.07340745694376306, 0.22044975896979105, 0.2552576156492318, 0.17403928339720345, 0.15083404561090966, 0.1276288078246159, 0.023205237786293794, 0.03480785667944069, 0.011602618893146897, 0.2669902876500806, 0.2669902876500806, 0.2669902876500806, 0.06674757191252015, 0.06674757191252015, 0.3491768226010889, 0.17458841130054445, 0.17458841130054445, 0.17458841130054445, 0.17458841130054445, 0.32037718890780054, 0.21358479260520036, 0.21358479260520036, 0.10679239630260018, 0.10679239630260018, 0.16642589930810284, 0.3016469424959364, 0.16642589930810284, 0.11441780577432069, 0.16642589930810284, 0.03120485612026928, 0.03120485612026928, 0.010401618706756427, 0.25272558936527745, 0.2378593782261435, 0.1783945336696076, 0.0891972668348038, 0.16352832253047367, 0.029732422278267938, 0.029732422278267938, 0.014866211139133969, 0.27156109217673396, 0.18104072811782265, 0.27156109217673396, 0.09052036405891133, 0.09052036405891133, 0.21057040760650847, 0.2784963455440918, 0.1834000324314751, 0.12226668828765007, 0.1290592820814084, 0.03396296896879169, 0.02717037517503335, 0.013585187587516675, 0.17681609922333533, 0.2946934987055589, 0.17681609922333533, 0.11787739948222356, 0.11787739948222356, 0.05893869974111178, 0.05893869974111178, 0.23531077093778385, 0.3850539888072827, 0.08556755306828503, 0.1069594413353563, 0.1069594413353563, 0.04278377653414252, 0.02139188826707126, 0.02139188826707126, 0.41266953749891977, 0.20633476874945988, 0.10316738437472994, 0.10316738437472994, 0.05158369218736497, 0.05158369218736497, 0.05158369218736497, 0.22743227587296752, 0.25992260099767717, 0.16245162562354823, 0.06498065024941929, 0.2111871133106127, 0.032490325124709646, 0.04873548768706447, 0.016245162562354823, 0.2282993427088109, 0.2609135345243553, 0.16307095907772207, 0.16307095907772207, 0.09784257544663325, 0.03261419181554441, 0.03261419181554441, 0.20895978019518088, 0.3134396702927713, 0.10447989009759044, 0.10447989009759044, 0.10447989009759044, 0.25838202960311907, 0.22147031108838774, 0.12919101480155953, 0.12919101480155953, 0.2030144518310221, 0.036911718514731295, 0.018455859257365648, 0.018455859257365648, 0.1995514173493472, 0.2743831988553524, 0.1683715083885117, 0.1558995448041775, 0.1309556176355091, 0.0311799089608355, 0.0311799089608355, 0.0124719635843342, 0.2550735974282466, 0.2550735974282466, 0.1275367987141233, 0.1275367987141233, 0.2550735974282466, 0.27866563787184, 0.2627418871363063, 0.19108500882640458, 0.09554250441320229, 0.07961875367766857, 0.047771252206601146, 0.03184750147106743, 0.023885626103300573, 0.29406046070498826, 0.14703023035249413, 0.14703023035249413, 0.14703023035249413, 0.14703023035249413, 0.2575293392424961, 0.2575293392424961, 0.13949505875635204, 0.12876466962124805, 0.12876466962124805, 0.03219116740531201, 0.04292155654041602, 0.02146077827020801, 0.22969484889407932, 0.20881349899461757, 0.18793214909515582, 0.12528809939677055, 0.16705079919569404, 0.04176269979892351, 0.04176269979892351, 0.020881349899461756, 0.22949221971604658, 0.22949221971604658, 0.20080569225154077, 0.17211916478703493, 0.11474610985802329, 0.028686527464505823, 0.028686527464505823, 0.028686527464505823, 0.31710633962532647, 0.15855316981266324, 0.15855316981266324, 0.15855316981266324, 0.15855316981266324, 0.19252590145450704, 0.3850518029090141, 0.19252590145450704, 0.06417530048483569, 0.12835060096967138, 0.20215946558512796, 0.4043189311702559, 0.20215946558512796, 0.10107973279256398, 0.10107973279256398, 0.22419330521688086, 0.3362899578253213, 0.22419330521688086, 0.11209665260844043, 0.11209665260844043, 0.22574466972496568, 0.33861700458744853, 0.22574466972496568, 0.11287233486248284, 0.22574466972496568, 0.3020699025821929, 0.2013799350547953, 0.2013799350547953, 0.10068996752739764, 0.10068996752739764, 0.16696136218353488, 0.33392272436706977, 0.16696136218353488, 0.16696136218353488, 0.16696136218353488, 0.08348068109176744, 0.22852732553053337, 0.2856591569131667, 0.11426366276526669, 0.22852732553053337, 0.05713183138263334, 0.05713183138263334, 0.12380212363999149, 0.37140637091997447, 0.12380212363999149, 0.12380212363999149, 0.24760424727998298, 0.22485511818275836, 0.39349645681982715, 0.11242755909137918, 0.05621377954568959, 0.11242755909137918, 0.05621377954568959, 0.2122476798014274, 0.24762229310166528, 0.1768730665011895, 0.14149845320095158, 0.1061238399007137, 0.035374613300237896, 0.035374613300237896, 0.035374613300237896, 0.2449987372547095, 0.2449987372547095, 0.12249936862735475, 0.12249936862735475, 0.12249936862735475, 0.18683946503785331, 0.20018514111198568, 0.2535678454085152, 0.10676540859305902, 0.18683946503785331, 0.026691352148264756, 0.026691352148264756, 0.013345676074132378, 0.2149932369235021, 0.24028655891450235, 0.20234657592800198, 0.13911327095050136, 0.12646660995500122, 0.025293321991000248, 0.025293321991000248, 0.025293321991000248, 0.2258631374278413, 0.2258631374278413, 0.2258631374278413, 0.05646578435696033, 0.16939735307088097, 0.2531983482130397, 0.1381081899343853, 0.29923441152450153, 0.11509015827865443, 0.09207212662292354, 0.023018031655730884, 0.023018031655730884, 0.023018031655730884, 0.5037768736576573, 0.20151074946306294, 0.10075537473153147, 0.10075537473153147, 0.10075537473153147, 0.23259192559663583, 0.1889809395472666, 0.2180549302468461, 0.13083295814810766, 0.15990694884768714, 0.02907399069957948, 0.02907399069957948, 0.01453699534978974, 0.23132318707690816, 0.34698478061536225, 0.11566159353845408, 0.11566159353845408, 0.11566159353845408, 0.1502317224262916, 0.3004634448525832, 0.1502317224262916, 0.1502317224262916, 0.3004634448525832, 0.1418342658858682, 0.2836685317717364, 0.1418342658858682, 0.1418342658858682, 0.2836685317717364, 0.17899687636765194, 0.17899687636765194, 0.17899687636765194, 0.17899687636765194, 0.17899687636765194, 0.43569872758495687, 0.14523290919498563, 0.07261645459749282, 0.14523290919498563, 0.07261645459749282, 0.07261645459749282, 0.25951163264315963, 0.25951163264315963, 0.18165814285021173, 0.10380465305726384, 0.07785348979294789, 0.02595116326431596, 0.02595116326431596, 0.02595116326431596, 0.2002160742737731, 0.3003241114106597, 0.10010803713688655, 0.10010803713688655, 0.10010803713688655, 0.10010803713688655, 0.2571347361538085, 0.2571347361538085, 0.2571347361538085, 0.08571157871793617, 0.17142315743587233, 0.2438788862175401, 0.25325884337975313, 0.19697910040647468, 0.10317952878434387, 0.1406993574331962, 0.02813987148663924, 0.01875991432442616, 0.01875991432442616, 0.3596601997002231, 0.27334175177216957, 0.12947767189208031, 0.07193203994004461, 0.08631844792805354, 0.02877281597601785, 0.02877281597601785, 0.014386407988008925, 0.3333092354492432, 0.215670681761275, 0.14704819210996023, 0.14704819210996023, 0.07842570245864545, 0.03921285122932273, 0.029409638421992044, 0.019606425614661364, 0.4496501873851399, 0.2697901124310839, 0.08993003747702798, 0.08993003747702798, 0.08993003747702798, 0.15466048545286032, 0.30932097090572064, 0.15466048545286032, 0.15466048545286032, 0.15466048545286032, 0.2562665300038788, 0.3008346221784664, 0.15598832261105666, 0.10027820739282214, 0.11142023043646905, 0.02228404608729381, 0.03342606913094071, 0.011142023043646905, 0.30972777053220957, 0.2433575339895932, 0.13274047308523265, 0.13274047308523265, 0.08849364872348844, 0.04424682436174422, 0.02212341218087211, 0.02212341218087211, 0.28134985193770323, 0.14067492596885162, 0.14067492596885162, 0.28134985193770323, 0.07033746298442581, 0.07033746298442581, 0.24880230532884914, 0.24880230532884914, 0.12440115266442457, 0.12440115266442457, 0.12440115266442457, 0.40126552915210223, 0.20063276457605111, 0.15047457343203832, 0.10031638228802556, 0.10031638228802556, 0.05015819114401278, 0.3104519564452114, 0.23283896733390858, 0.11641948366695429, 0.07761298911130285, 0.19403247277825714, 0.038806494555651425, 0.038806494555651425, 0.29927756828047664, 0.29927756828047664, 0.14963878414023832, 0.14963878414023832, 0.1590650061030398, 0.3181300122060796, 0.3181300122060796, 0.1590650061030398, 0.1590650061030398, 0.2013030672978594, 0.2013030672978594, 0.3019546009467891, 0.1006515336489297, 0.1006515336489297, 0.2177681596971681, 0.2613217916366017, 0.17421452775773447, 0.04355363193943362, 0.2177681596971681, 0.04355363193943362, 0.04355363193943362, 0.322726422859923, 0.2366660434306102, 0.13626226742974526, 0.09323207771508887, 0.13626226742974526, 0.03585849142888033, 0.0215150948573282, 0.014343396571552133, 0.286528996521758, 0.3581612456521975, 0.143264498260879, 0.0716322491304395, 0.0716322491304395, 0.0716322491304395, 0.23255393000232413, 0.23255393000232413, 0.11627696500116207, 0.11627696500116207, 0.11627696500116207, 0.3192212639437271, 0.22345488476060896, 0.180892049568112, 0.10640708798124236, 0.06384425278874542, 0.04256283519249694, 0.03192212639437271, 0.02128141759624847, 0.4729382650962964, 0.18917530603851854, 0.18917530603851854, 0.09458765301925927, 0.09458765301925927, 0.21239819449490038, 0.3252347353203162, 0.1592986458711753, 0.08628676651355328, 0.146023758715244, 0.026549774311862548, 0.026549774311862548, 0.013274887155931274, 0.25143178284277085, 0.22988048717053336, 0.22269672194645418, 0.12212400880934585, 0.11494024358526668, 0.0215512956722375, 0.02873506089631667, 0.014367530448158335, 0.3006998405428891, 0.24840421610064753, 0.14381296721616435, 0.14381296721616435, 0.07844343666336237, 0.039221718331681185, 0.013073906110560396, 0.02614781222112079, 0.31111667713156743, 0.21538846878339282, 0.16752436460930553, 0.11966026043521824, 0.0957282083481746, 0.02393205208704365, 0.0478641041740873, 0.02393205208704365, 0.28252324348480934, 0.2152558045598547, 0.2152558045598547, 0.08072092670994552, 0.12108139006491828, 0.04036046335497276, 0.04036046335497276, 0.01345348778499092, 0.40081127178385123, 0.1603245087135405, 0.1603245087135405, 0.08016225435677025, 0.08016225435677025, 0.22685532146502116, 0.27461433651028877, 0.16715655265843665, 0.09551803009053522, 0.16715655265843665, 0.03581926128395071, 0.023879507522633805, 0.011939753761316903, 0.266255193462763, 0.266255193462763, 0.1597531160776578, 0.10650207738510521, 0.1597531160776578, 0.053251038692552606, 0.053251038692552606, 0.2953661569257196, 0.2258682376490797, 0.1476830784628598, 0.13899583855327982, 0.11293411882453985, 0.034748959638319955, 0.017374479819159978, 0.017374479819159978, 0.22783142380900906, 0.22783142380900906, 0.22783142380900906, 0.11391571190450453, 0.11391571190450453, 0.22353938653478161, 0.22353938653478161, 0.11176969326739081, 0.11176969326739081, 0.11176969326739081, 0.30053433502976906, 0.32126084089389106, 0.14508554104885402, 0.07254277052442701, 0.08290602345648801, 0.020726505864122002, 0.031089758796183007, 0.020726505864122002, 0.30741664620420484, 0.10247221540140161, 0.20494443080280322, 0.10247221540140161, 0.10247221540140161, 0.21334473278101082, 0.182866913812295, 0.21334473278101082, 0.0914334569061475, 0.21334473278101082, 0.030477818968715834, 0.030477818968715834, 0.33605419608393955, 0.33605419608393955, 0.16802709804196977, 0.16802709804196977, 0.3661300261172927, 0.18306501305864634, 0.18306501305864634, 0.18306501305864634, 0.18306501305864634, 0.18623786510828988, 0.3103964418471498, 0.12415857673885992, 0.06207928836942996, 0.24831715347771985, 0.06207928836942996, 0.17975273321357252, 0.28246858076418535, 0.17975273321357252, 0.10271584755061286, 0.1540737713259193, 0.05135792377530643, 0.025678961887653215, 0.025678961887653215, 0.26952053594828856, 0.16171232156897314, 0.26952053594828856, 0.10780821437931543, 0.10780821437931543, 0.05390410718965771, 0.05390410718965771, 0.26536320705628746, 0.26536320705628746, 0.13268160352814373, 0.13268160352814373, 0.13268160352814373, 0.25735213023022435, 0.25735213023022435, 0.12867606511511218, 0.12867606511511218, 0.25735213023022435, 0.35223804016008853, 0.2386128659148987, 0.1477127265187468, 0.10226265682067087, 0.09090013939615188, 0.034087552273556955, 0.02272503484903797, 0.011362517424518985, 0.27188311138116, 0.190318177966812, 0.21750648910492798, 0.13594155569058, 0.08156493341434799, 0.027188311138115998, 0.027188311138115998, 0.027188311138115998, 0.39676599912453603, 0.1700425710533726, 0.16059576155040745, 0.12280852353854688, 0.05668085701779086, 0.02834042850889543, 0.04723404751482572, 0.018893619005930288, 0.2680467520593426, 0.2680467520593426, 0.17869783470622838, 0.08934891735311419, 0.08934891735311419, 0.08934891735311419, 0.4278962304931275, 0.1426320768310425, 0.1426320768310425, 0.1426320768310425, 0.2551706773564561, 0.23390645424341808, 0.17011378490430407, 0.10632111556519004, 0.14884956179126604, 0.04252844622607602, 0.04252844622607602, 0.02126422311303801, 0.25162923658413444, 0.3443347447993419, 0.1456800843381831, 0.09270550821520743, 0.07946186418446351, 0.026487288061487837, 0.026487288061487837, 0.013243644030743918, 0.19144563792849878, 0.19144563792849878, 0.19144563792849878, 0.19144563792849878, 0.19144563792849878, 0.26076637534237485, 0.20861310027389987, 0.18543386691013322, 0.10430655013694994, 0.1564598252054249, 0.028974041704708315, 0.03476885004564998, 0.01738442502282499, 0.30001722275921133, 0.2625150699143099, 0.15000861137960567, 0.11250645853470424, 0.07500430568980283, 0.03750215284490142, 0.03750215284490142, 0.03750215284490142, 0.2141358479378305, 0.2970271439137649, 0.17959780794785785, 0.11742933596590704, 0.12433694396390157, 0.02763043199197813, 0.02763043199197813, 0.013815215995989064, 0.3839409312438347, 0.20673742451591098, 0.14766958893993642, 0.08860175336396185, 0.05906783557597457, 0.029533917787987286, 0.029533917787987286, 0.029533917787987286, 0.20109287581710625, 0.3351547930285104, 0.2681238344228083, 0.06703095860570207, 0.06703095860570207, 0.40523905932596255, 0.21142907443093698, 0.1233336267513799, 0.10571453721546849, 0.08809544767955707, 0.03523817907182283, 0.03523817907182283, 0.017619089535911413, 0.14822004963069194, 0.29644009926138387, 0.29644009926138387, 0.14822004963069194, 0.14822004963069194, 0.4305048572930151, 0.16143932148488066, 0.10762621432325377, 0.16143932148488066, 0.053813107161626884, 0.053813107161626884, 0.3503751136166437, 0.2102250681699862, 0.14015004544665746, 0.14015004544665746, 0.07007502272332873, 0.07007502272332873, 0.07007502272332873, 0.17945047440390355, 0.4486261860097589, 0.17945047440390355, 0.08972523720195177, 0.08972523720195177, 0.38523198485014143, 0.19261599242507071, 0.14446199431880302, 0.14446199431880302, 0.04815399810626768, 0.04815399810626768, 0.04815399810626768, 0.19380773152484554, 0.19380773152484554, 0.19380773152484554, 0.19380773152484554, 0.09690386576242277, 0.2781100127053364, 0.23755230251914153, 0.1622308407447796, 0.10429125476450116, 0.10429125476450116, 0.046351668784222734, 0.02896979299013921, 0.02896979299013921, 0.29102511162361594, 0.29102511162361594, 0.12472504783869255, 0.12472504783869255, 0.0831500318924617, 0.04157501594623085, 0.04157501594623085, 0.04157501594623085, 0.3932711641007691, 0.21102355146870538, 0.16306365340763598, 0.07673583689771105, 0.06714385728549717, 0.028775938836641646, 0.028775938836641646, 0.00959197961221388, 0.21984819301727906, 0.24427577001919895, 0.24427577001919895, 0.12213788500959948, 0.12213788500959948, 0.024427577001919894, 0.024427577001919894, 0.024427577001919894, 0.30707615757690343, 0.15353807878845172, 0.15353807878845172, 0.15353807878845172, 0.15353807878845172, 0.2972976869593952, 0.228158689992094, 0.1935891915084434, 0.11753629484441205, 0.07605289666403134, 0.04148339818038073, 0.027655598786920484, 0.013827799393460242, 0.3288646177890554, 0.16844285301390644, 0.17646394125266388, 0.12031632358136174, 0.11229523534260429, 0.048126529432544696, 0.032084352955029795, 0.024063264716272348, 0.33272512394917575, 0.2495438429618818, 0.08318128098729394, 0.16636256197458787, 0.08318128098729394, 0.08318128098729394], \"Term\": [\"acceptance\", \"acceptance\", \"acceptance\", \"acceptance\", \"acceptance\", \"achieve\", \"achieve\", \"achieve\", \"achieve\", \"achieve\", \"achieve\", \"achieve\", \"act\", \"act\", \"act\", \"act\", \"act\", \"act\", \"act\", \"act\", \"administration\", \"administration\", \"administration\", \"administration\", \"administration\", \"administration\", \"administration\", \"administration\", \"advance\", \"advance\", \"advance\", \"advance\", \"advance\", \"advance\", \"advance\", \"advance\", \"affair\", \"affair\", \"affair\", \"affair\", \"affair\", \"affair\", \"affair\", \"affair\", \"age\", \"age\", \"age\", \"age\", \"age\", \"age\", \"age\", \"age\", \"agreement\", \"agreement\", \"agreement\", \"agreement\", \"agreement\", \"ahead\", \"ahead\", \"ahead\", \"ahead\", \"ahead\", \"allegiance\", \"allegiance\", \"allegiance\", \"allegiance\", \"allegiance\", \"almighty_god\", \"almighty_god\", \"almighty_god\", \"almighty_god\", \"almighty_god\", \"almighty_god\", \"altogether\", \"altogether\", \"altogether\", \"altogether\", \"altogether\", \"amendment\", \"amendment\", \"amendment\", \"amendment\", \"amendment\", \"amendment\", \"amendment\", \"america\", \"america\", \"america\", \"america\", \"america\", \"america\", \"america\", \"america\", \"american\", \"american\", \"american\", \"american\", \"american\", \"american\", \"american\", \"american\", \"americans\", \"americans\", \"americans\", \"americans\", \"americans\", \"americans\", \"americans\", \"americans\", \"amidst\", \"amidst\", \"amidst\", \"amidst\", \"anew\", \"anew\", \"anew\", \"anew\", \"anew\", \"animate\", \"animate\", \"animate\", \"animate\", \"animate\", \"animosity\", \"animosity\", \"animosity\", \"animosity\", \"animosity\", \"anniversary\", \"anniversary\", \"anniversary\", \"anniversary\", \"answer\", \"answer\", \"answer\", \"answer\", \"answer\", \"answer\", \"answer\", \"answer\", \"appeal\", \"appeal\", \"appeal\", \"appeal\", \"appeal\", \"appeal\", \"area\", \"area\", \"area\", \"area\", \"area\", \"arm\", \"arm\", \"arm\", \"arm\", \"arm\", \"arm\", \"arm\", \"arm\", \"arrive\", \"arrive\", \"arrive\", \"arrive\", \"arrive\", \"assume\", \"assume\", \"assume\", \"assume\", \"assume\", \"assume\", \"assume\", \"attachment\", \"attachment\", \"attachment\", \"attachment\", \"attachment\", \"author\", \"author\", \"author\", \"author\", \"author\", \"authority\", \"authority\", \"authority\", \"authority\", \"authority\", \"authority\", \"authority\", \"authority\", \"authorize\", \"authorize\", \"authorize\", \"authorize\", \"authorize\", \"avert\", \"avert\", \"avert\", \"avert\", \"avert\", \"await\", \"await\", \"await\", \"await\", \"await\", \"await\", \"bank\", \"bank\", \"bank\", \"bank\", \"bank\", \"banking\", \"banking\", \"banking\", \"banking\", \"banking\", \"bear\", \"bear\", \"bear\", \"bear\", \"bear\", \"bear\", \"bear\", \"bear\", \"begin\", \"begin\", \"begin\", \"begin\", \"begin\", \"begin\", \"begin\", \"begin\", \"believe\", \"believe\", \"believe\", \"believe\", \"believe\", \"believe\", \"believe\", \"believe\", \"belong\", \"belong\", \"belong\", \"belong\", \"belong\", \"belong\", \"belong\", \"belong\", \"benign\", \"benign\", \"benign\", \"benign\", \"benign\", \"bible\", \"bible\", \"bible\", \"bible\", \"bible\", \"bill\", \"bill\", \"bill\", \"bill\", \"bill\", \"bill\", \"bill\", \"bless\", \"bless\", \"bless\", \"bless\", \"bless\", \"bless\", \"bless\", \"blood\", \"blood\", \"blood\", \"blood\", \"blood\", \"blood\", \"blood\", \"bold\", \"bold\", \"bold\", \"bold\", \"bold\", \"branch_government\", \"branch_government\", \"branch_government\", \"branch_government\", \"branch_government\", \"brave\", \"brave\", \"brave\", \"brave\", \"brave\", \"bridge\", \"bridge\", \"bridge\", \"bridge\", \"bridge\", \"british\", \"british\", \"british\", \"british\", \"british\", \"british\", \"build\", \"build\", \"build\", \"build\", \"build\", \"build\", \"build\", \"build\", \"bulwark\", \"bulwark\", \"bulwark\", \"bulwark\", \"bulwark\", \"business\", \"business\", \"business\", \"business\", \"business\", \"business\", \"business\", \"business\", \"canal\", \"canal\", \"canal\", \"canal\", \"canal\", \"canal\", \"capitol\", \"capitol\", \"capitol\", \"capitol\", \"capitol\", \"care\", \"care\", \"care\", \"care\", \"care\", \"care\", \"care\", \"care\", \"cause\", \"cause\", \"cause\", \"cause\", \"cause\", \"cause\", \"cause\", \"cause\", \"cement\", \"cement\", \"cement\", \"cement\", \"cement\", \"century\", \"century\", \"century\", \"century\", \"century\", \"century\", \"century\", \"century\", \"ceremony\", \"ceremony\", \"ceremony\", \"ceremony\", \"ceremony\", \"certainly\", \"certainly\", \"certainly\", \"certainly\", \"certainly\", \"challenge\", \"challenge\", \"challenge\", \"challenge\", \"challenge\", \"challenge\", \"challenge\", \"challenge\", \"change\", \"change\", \"change\", \"change\", \"change\", \"change\", \"change\", \"change\", \"character\", \"character\", \"character\", \"character\", \"character\", \"character\", \"character\", \"character\", \"chief_magistrate\", \"chief_magistrate\", \"chief_magistrate\", \"chief_magistrate\", \"chief_magistrate\", \"circumstance\", \"circumstance\", \"circumstance\", \"circumstance\", \"circumstance\", \"circumstance\", \"circumstance\", \"citizen\", \"citizen\", \"citizen\", \"citizen\", \"citizen\", \"citizen\", \"citizen\", \"citizen\", \"color\", \"color\", \"color\", \"color\", \"come\", \"come\", \"come\", \"come\", \"come\", \"come\", \"come\", \"come\", \"command\", \"command\", \"command\", \"command\", \"command\", \"command\", \"command\", \"commit\", \"commit\", \"commit\", \"commit\", \"commit\", \"commit\", \"commit\", \"common\", \"common\", \"common\", \"common\", \"common\", \"common\", \"common\", \"common\", \"communism\", \"communism\", \"communism\", \"communism\", \"communism\", \"compassion\", \"compassion\", \"compassion\", \"compassion\", \"compassion\", \"compel\", \"compel\", \"compel\", \"compel\", \"compel\", \"compel\", \"complex\", \"complex\", \"complex\", \"complex\", \"complex\", \"compose\", \"compose\", \"compose\", \"compose\", \"compose\", \"condition\", \"condition\", \"condition\", \"condition\", \"condition\", \"condition\", \"condition\", \"condition\", \"confederacy\", \"confederacy\", \"confederacy\", \"confederacy\", \"confederacy\", \"confederacy\", \"confidence\", \"confidence\", \"confidence\", \"confidence\", \"confidence\", \"confidence\", \"confidence\", \"confidence\", \"confine\", \"confine\", \"confine\", \"confine\", \"confine\", \"confront\", \"confront\", \"confront\", \"confront\", \"confront\", \"congress\", \"congress\", \"congress\", \"congress\", \"congress\", \"congress\", \"congress\", \"congress\", \"conscience\", \"conscience\", \"conscience\", \"conscience\", \"conscience\", \"conscience\", \"conscience\", \"conscious\", \"conscious\", \"conscious\", \"conscious\", \"conscious\", \"constitution\", \"constitution\", \"constitution\", \"constitution\", \"constitution\", \"constitution\", \"constitution\", \"constitution\", \"continue\", \"continue\", \"continue\", \"continue\", \"continue\", \"continue\", \"continue\", \"continue\", \"contract\", \"contract\", \"contract\", \"contract\", \"contract\", \"control\", \"control\", \"control\", \"control\", \"control\", \"control\", \"control\", \"control\", \"controversy\", \"controversy\", \"controversy\", \"controversy\", \"controversy\", \"controversy\", \"controversy\", \"countryman\", \"countryman\", \"countryman\", \"countryman\", \"countryman\", \"countryman\", \"countryman\", \"countryman\", \"course\", \"course\", \"course\", \"course\", \"course\", \"course\", \"course\", \"course\", \"court\", \"court\", \"court\", \"court\", \"court\", \"court\", \"court\", \"currency\", \"currency\", \"currency\", \"currency\", \"currency\", \"currency\", \"currency\", \"danger\", \"danger\", \"danger\", \"danger\", \"danger\", \"danger\", \"danger\", \"danger\", \"dare\", \"dare\", \"dare\", \"dare\", \"dare\", \"dark\", \"dark\", \"dark\", \"dark\", \"dark\", \"dark\", \"dark\", \"dawn\", \"dawn\", \"dawn\", \"dawn\", \"day\", \"day\", \"day\", \"day\", \"day\", \"day\", \"day\", \"day\", \"deal\", \"deal\", \"deal\", \"deal\", \"deal\", \"decide\", \"decide\", \"decide\", \"decide\", \"decide\", \"decide\", \"decline\", \"decline\", \"decline\", \"decline\", \"decline\", \"deem\", \"deem\", \"deem\", \"deem\", \"deem\", \"deem\", \"democracy\", \"democracy\", \"democracy\", \"democracy\", \"democracy\", \"democracy\", \"democracy\", \"democracy\", \"derive\", \"derive\", \"derive\", \"derive\", \"derive\", \"derive\", \"derive\", \"destine\", \"destine\", \"destine\", \"destine\", \"destine\", \"differ\", \"differ\", \"differ\", \"differ\", \"differ\", \"dignity\", \"dignity\", \"dignity\", \"dignity\", \"dignity\", \"dignity\", \"dignity\", \"discipline\", \"discipline\", \"discipline\", \"discipline\", \"discipline\", \"discipline\", \"discipline\", \"discover\", \"discover\", \"discover\", \"discover\", \"discover\", \"disease\", \"disease\", \"disease\", \"disease\", \"disease\", \"disease\", \"distant\", \"distant\", \"distant\", \"distant\", \"distant\", \"distant\", \"distant\", \"dollar\", \"dollar\", \"dollar\", \"dollar\", \"dollar\", \"dream\", \"dream\", \"dream\", \"dream\", \"dream\", \"dream\", \"dream\", \"dream\", \"duty\", \"duty\", \"duty\", \"duty\", \"duty\", \"duty\", \"duty\", \"duty\", \"earth\", \"earth\", \"earth\", \"earth\", \"earth\", \"earth\", \"earth\", \"earth\", \"effect\", \"effect\", \"effect\", \"effect\", \"effect\", \"effect\", \"effect\", \"effort\", \"effort\", \"effort\", \"effort\", \"effort\", \"effort\", \"effort\", \"effort\", \"enable\", \"enable\", \"enable\", \"enable\", \"enable\", \"enable\", \"enable\", \"enemy\", \"enemy\", \"enemy\", \"enemy\", \"enemy\", \"enemy\", \"enemy\", \"enemy\", \"enlighten\", \"enlighten\", \"enlighten\", \"enlighten\", \"enlighten\", \"enlighten\", \"ensure\", \"ensure\", \"ensure\", \"ensure\", \"enterprise\", \"enterprise\", \"enterprise\", \"enterprise\", \"enterprise\", \"enterprise\", \"enterprise\", \"enterprise\", \"error\", \"error\", \"error\", \"error\", \"error\", \"error\", \"exact\", \"exact\", \"exact\", \"exact\", \"exact\", \"example\", \"example\", \"example\", \"example\", \"example\", \"example\", \"example\", \"example\", \"excite\", \"excite\", \"excite\", \"excite\", \"excite\", \"exclusively\", \"exclusively\", \"exclusively\", \"exclusively\", \"exclusively\", \"executive\", \"executive\", \"executive\", \"executive\", \"executive\", \"executive\", \"executive\", \"executive\", \"executive_branch\", \"executive_branch\", \"executive_branch\", \"executive_branch\", \"executive_branch\", \"exertion\", \"exertion\", \"exertion\", \"exertion\", \"exertion\", \"exist\", \"exist\", \"exist\", \"exist\", \"exist\", \"exist\", \"exist\", \"exist\", \"experience\", \"experience\", \"experience\", \"experience\", \"experience\", \"experience\", \"experience\", \"experience\", \"expose\", \"expose\", \"expose\", \"expose\", \"expose\", \"factory\", \"factory\", \"factory\", \"factory\", \"factory\", \"fairly\", \"fairly\", \"fairly\", \"fairly\", \"fairly\", \"faith\", \"faith\", \"faith\", \"faith\", \"faith\", \"faith\", \"faith\", \"faith\", \"family\", \"family\", \"family\", \"family\", \"family\", \"family\", \"family\", \"family\", \"far\", \"far\", \"far\", \"far\", \"far\", \"far\", \"far\", \"far\", \"fate\", \"fate\", \"fate\", \"fate\", \"fate\", \"federal\", \"federal\", \"federal\", \"federal\", \"federal\", \"federal\", \"federal\", \"federal\", \"feed\", \"feed\", \"feed\", \"feed\", \"feed\", \"fellow_americans\", \"fellow_americans\", \"fellow_americans\", \"fellow_americans\", \"fellow_americans\", \"fellow_americans\", \"fellow_americans\", \"fellow_citizen\", \"fellow_citizen\", \"fellow_citizen\", \"fellow_citizen\", \"fellow_citizen\", \"fellow_citizen\", \"fellow_citizen\", \"fellow_citizen\", \"find\", \"find\", \"find\", \"find\", \"find\", \"find\", \"find\", \"find\", \"finish\", \"finish\", \"finish\", \"finish\", \"forbearance\", \"forbearance\", \"forbearance\", \"forbearance\", \"forbearance\", \"forbearance\", \"force\", \"force\", \"force\", \"force\", \"force\", \"force\", \"force\", \"force\", \"forget\", \"forget\", \"forget\", \"forget\", \"forget\", \"forget\", \"forget\", \"form\", \"form\", \"form\", \"form\", \"form\", \"form\", \"form\", \"form\", \"forth\", \"forth\", \"forth\", \"forth\", \"forth\", \"forth\", \"forth\", \"forward\", \"forward\", \"forward\", \"forward\", \"forward\", \"forward\", \"forward\", \"forward\", \"freedom\", \"freedom\", \"freedom\", \"freedom\", \"freedom\", \"freedom\", \"freedom\", \"freedom\", \"future\", \"future\", \"future\", \"future\", \"future\", \"future\", \"future\", \"future\", \"gather\", \"gather\", \"gather\", \"gather\", \"gather\", \"generation\", \"generation\", \"generation\", \"generation\", \"generation\", \"generation\", \"generation\", \"generation\", \"give\", \"give\", \"give\", \"give\", \"give\", \"give\", \"give\", \"give\", \"god\", \"god\", \"god\", \"god\", \"god\", \"god\", \"god\", \"god\", \"god_bless\", \"god_bless\", \"god_bless\", \"god_bless\", \"god_bless\", \"god_bless\", \"govern\", \"govern\", \"govern\", \"govern\", \"govern\", \"govern\", \"govern\", \"govern\", \"grant\", \"grant\", \"grant\", \"grant\", \"grant\", \"grant\", \"grant\", \"hand\", \"hand\", \"hand\", \"hand\", \"hand\", \"hand\", \"hand\", \"hand\", \"hardship\", \"hardship\", \"hardship\", \"hardship\", \"harmonious\", \"harmonious\", \"harmonious\", \"harmonious\", \"harmonious\", \"heal\", \"heal\", \"heal\", \"heal\", \"heal\", \"heart\", \"heart\", \"heart\", \"heart\", \"heart\", \"heart\", \"heart\", \"heart\", \"heavy\", \"heavy\", \"heavy\", \"heavy\", \"heavy\", \"help\", \"help\", \"help\", \"help\", \"help\", \"help\", \"help\", \"help\", \"hero\", \"hero\", \"hero\", \"hero\", \"hero\", \"high\", \"high\", \"high\", \"high\", \"high\", \"high\", \"high\", \"high\", \"high_standard\", \"high_standard\", \"high_standard\", \"high_standard\", \"history\", \"history\", \"history\", \"history\", \"history\", \"history\", \"history\", \"history\", \"home\", \"home\", \"home\", \"home\", \"home\", \"home\", \"home\", \"home\", \"hour\", \"hour\", \"hour\", \"hour\", \"hour\", \"hour\", \"hour\", \"human\", \"human\", \"human\", \"human\", \"human\", \"human\", \"human\", \"human\", \"human_dignity\", \"human_dignity\", \"human_dignity\", \"human_dignity\", \"human_dignity\", \"human_mind\", \"human_mind\", \"human_mind\", \"human_mind\", \"humbly\", \"humbly\", \"humbly\", \"humbly\", \"humbly\", \"idealism\", \"idealism\", \"idealism\", \"idealism\", \"idealism\", \"important\", \"important\", \"important\", \"important\", \"important\", \"important\", \"important\", \"important\", \"impose\", \"impose\", \"impose\", \"impose\", \"impose\", \"impose\", \"impose\", \"impose\", \"inaugurate\", \"inaugurate\", \"inaugurate\", \"inaugurate\", \"inaugurate\", \"increase\", \"increase\", \"increase\", \"increase\", \"increase\", \"increase\", \"increase\", \"increase\", \"independent\", \"independent\", \"independent\", \"independent\", \"independent\", \"independent\", \"independent\", \"independent\", \"inestimable\", \"inestimable\", \"inestimable\", \"inestimable\", \"inestimable\", \"infancy\", \"infancy\", \"infancy\", \"infancy\", \"infancy\", \"influence\", \"influence\", \"influence\", \"influence\", \"influence\", \"influence\", \"influence\", \"influence\", \"inherit\", \"inherit\", \"inherit\", \"inherit\", \"inspire\", \"inspire\", \"inspire\", \"inspire\", \"inspire\", \"inspire\", \"inspire\", \"institution\", \"institution\", \"institution\", \"institution\", \"institution\", \"institution\", \"institution\", \"institution\", \"intention\", \"intention\", \"intention\", \"intention\", \"intention\", \"interest\", \"interest\", \"interest\", \"interest\", \"interest\", \"interest\", \"interest\", \"interest\", \"interior\", \"interior\", \"interior\", \"interior\", \"interior\", \"intrigue\", \"intrigue\", \"intrigue\", \"intrigue\", \"invariably\", \"invariably\", \"invariably\", \"invariably\", \"isolation\", \"isolation\", \"isolation\", \"isolation\", \"jefferson\", \"jefferson\", \"jefferson\", \"jefferson\", \"jefferson\", \"jefferson\", \"job\", \"job\", \"job\", \"job\", \"job\", \"job\", \"job\", \"job\", \"jurisdiction\", \"jurisdiction\", \"jurisdiction\", \"jurisdiction\", \"jurisdiction\", \"jurisdiction\", \"jurisdiction\", \"justice\", \"justice\", \"justice\", \"justice\", \"justice\", \"justice\", \"justice\", \"justice\", \"kind\", \"kind\", \"kind\", \"kind\", \"kind\", \"kind\", \"kind\", \"know\", \"know\", \"know\", \"know\", \"know\", \"know\", \"know\", \"know\", \"known\", \"known\", \"known\", \"known\", \"known\", \"land\", \"land\", \"land\", \"land\", \"land\", \"land\", \"land\", \"land\", \"largely\", \"largely\", \"largely\", \"largely\", \"largely\", \"law\", \"law\", \"law\", \"law\", \"law\", \"law\", \"law\", \"law\", \"lay\", \"lay\", \"lay\", \"lay\", \"lay\", \"lead\", \"lead\", \"lead\", \"lead\", \"lead\", \"lead\", \"lead\", \"lead\", \"leader\", \"leader\", \"leader\", \"leader\", \"leader\", \"leader\", \"legislature\", \"legislature\", \"legislature\", \"legislature\", \"legislature\", \"let\", \"let\", \"let\", \"let\", \"let\", \"let\", \"let\", \"let\", \"level\", \"level\", \"level\", \"level\", \"level\", \"liberty\", \"liberty\", \"liberty\", \"liberty\", \"liberty\", \"liberty\", \"liberty\", \"liberty\", \"limit\", \"limit\", \"limit\", \"limit\", \"limit\", \"limit\", \"limit\", \"limit\", \"live\", \"live\", \"live\", \"live\", \"live\", \"live\", \"live\", \"live\", \"local_government\", \"local_government\", \"local_government\", \"local_government\", \"local_government\", \"local_government\", \"look\", \"look\", \"look\", \"look\", \"look\", \"look\", \"look\", \"look\", \"love\", \"love\", \"love\", \"love\", \"love\", \"love\", \"love\", \"love\", \"loyalty\", \"loyalty\", \"loyalty\", \"loyalty\", \"loyalty\", \"maintain\", \"maintain\", \"maintain\", \"maintain\", \"maintain\", \"maintain\", \"maintain\", \"maintain\", \"manufacturer\", \"manufacturer\", \"manufacturer\", \"manufacturer\", \"manufacturer\", \"match\", \"match\", \"match\", \"match\", \"mean\", \"mean\", \"mean\", \"mean\", \"mean\", \"mean\", \"mean\", \"mean\", \"meet\", \"meet\", \"meet\", \"meet\", \"meet\", \"meet\", \"meet\", \"meet\", \"merit\", \"merit\", \"merit\", \"merit\", \"merit\", \"method\", \"method\", \"method\", \"method\", \"method\", \"method\", \"method\", \"method\", \"mode\", \"mode\", \"mode\", \"mode\", \"mode\", \"money\", \"money\", \"money\", \"money\", \"money\", \"money\", \"money\", \"mother\", \"mother\", \"mother\", \"mother\", \"mother\", \"mr._chief\", \"mr._chief\", \"mr._chief\", \"mr._chief\", \"mr._chief\", \"national\", \"national\", \"national\", \"national\", \"national\", \"national\", \"national\", \"national\", \"necessary\", \"necessary\", \"necessary\", \"necessary\", \"necessary\", \"necessary\", \"necessary\", \"necessary\", \"necessity\", \"necessity\", \"necessity\", \"necessity\", \"necessity\", \"necessity\", \"necessity\", \"necessity\", \"need\", \"need\", \"need\", \"need\", \"need\", \"need\", \"need\", \"need\", \"neighborhood\", \"neighborhood\", \"neighborhood\", \"neutrality\", \"neutrality\", \"neutrality\", \"neutrality\", \"neutrality\", \"night\", \"night\", \"night\", \"night\", \"night\", \"north_south\", \"north_south\", \"north_south\", \"north_south\", \"north_south\", \"nuclear\", \"nuclear\", \"nuclear\", \"nuclear\", \"oath\", \"oath\", \"oath\", \"oath\", \"oath\", \"oath\", \"oath\", \"oath\", \"object\", \"object\", \"object\", \"object\", \"object\", \"object\", \"object\", \"object\", \"office\", \"office\", \"office\", \"office\", \"office\", \"office\", \"office\", \"office\", \"old\", \"old\", \"old\", \"old\", \"old\", \"old\", \"old\", \"old\", \"operate\", \"operate\", \"operate\", \"operate\", \"operate\", \"opinion\", \"opinion\", \"opinion\", \"opinion\", \"opinion\", \"opinion\", \"opinion\", \"opinion\", \"opportunity\", \"opportunity\", \"opportunity\", \"opportunity\", \"opportunity\", \"opportunity\", \"opportunity\", \"opportunity\", \"pain\", \"pain\", \"pain\", \"pain\", \"partisan\", \"partisan\", \"partisan\", \"partisan\", \"partisan\", \"party\", \"party\", \"party\", \"party\", \"party\", \"party\", \"party\", \"party\", \"pass_away\", \"pass_away\", \"pass_away\", \"pass_away\", \"pass_away\", \"pay\", \"pay\", \"pay\", \"pay\", \"pay\", \"pay\", \"pay\", \"pay\", \"peace\", \"peace\", \"peace\", \"peace\", \"peace\", \"peace\", \"peace\", \"peace\", \"permit\", \"permit\", \"permit\", \"permit\", \"permit\", \"permit\", \"permit\", \"permit\", \"plain\", \"plain\", \"plain\", \"plain\", \"plain\", \"plain\", \"planet\", \"planet\", \"planet\", \"planet\", \"planet\", \"platform\", \"platform\", \"platform\", \"platform\", \"platform\", \"play\", \"play\", \"play\", \"play\", \"play\", \"pledge\", \"pledge\", \"pledge\", \"pledge\", \"pledge\", \"pledge\", \"pledge\", \"pledge\", \"policy\", \"policy\", \"policy\", \"policy\", \"policy\", \"policy\", \"policy\", \"policy\", \"politic\", \"politic\", \"politic\", \"politic\", \"politic\", \"politic\", \"politic\", \"political\", \"political\", \"political\", \"political\", \"political\", \"political\", \"political\", \"political\", \"possibility\", \"possibility\", \"possibility\", \"possibility\", \"possibility\", \"potential\", \"potential\", \"potential\", \"potential\", \"potential\", \"pray\", \"pray\", \"pray\", \"pray\", \"pray\", \"present\", \"present\", \"present\", \"present\", \"present\", \"present\", \"present\", \"present\", \"president\", \"president\", \"president\", \"president\", \"president\", \"president\", \"president\", \"president\", \"presidential\", \"presidential\", \"presidential\", \"presidential\", \"presidential\", \"principle\", \"principle\", \"principle\", \"principle\", \"principle\", \"principle\", \"principle\", \"principle\", \"proceed\", \"proceed\", \"proceed\", \"proceed\", \"proceed\", \"proceed\", \"proceed\", \"produce\", \"produce\", \"produce\", \"produce\", \"produce\", \"produce\", \"produce\", \"produce\", \"program\", \"program\", \"program\", \"program\", \"program\", \"program\", \"program\", \"proper\", \"proper\", \"proper\", \"proper\", \"proper\", \"proper\", \"proper\", \"proper\", \"property\", \"property\", \"property\", \"property\", \"property\", \"property\", \"property\", \"prosper\", \"prosper\", \"prosper\", \"prosper\", \"prosper\", \"protection\", \"protection\", \"protection\", \"protection\", \"protection\", \"protection\", \"protection\", \"protection\", \"public\", \"public\", \"public\", \"public\", \"public\", \"public\", \"public\", \"public\", \"purity\", \"purity\", \"purity\", \"purity\", \"purity\", \"purpose\", \"purpose\", \"purpose\", \"purpose\", \"purpose\", \"purpose\", \"purpose\", \"purpose\", \"quest\", \"quest\", \"quest\", \"quest\", \"quest\", \"question\", \"question\", \"question\", \"question\", \"question\", \"question\", \"question\", \"question\", \"race\", \"race\", \"race\", \"race\", \"race\", \"race\", \"race\", \"race\", \"realize\", \"realize\", \"realize\", \"realize\", \"realize\", \"realize\", \"realize\", \"realize\", \"recall\", \"recall\", \"recall\", \"recall\", \"recall\", \"recommendation\", \"recommendation\", \"recommendation\", \"recommendation\", \"recommendation\", \"reflection\", \"reflection\", \"reflection\", \"reflection\", \"reflection\", \"refuse\", \"refuse\", \"refuse\", \"refuse\", \"refuse\", \"regulation\", \"regulation\", \"regulation\", \"regulation\", \"regulation\", \"rejoice\", \"rejoice\", \"rejoice\", \"rejoice\", \"rejoice\", \"reliance\", \"reliance\", \"reliance\", \"reliance\", \"reliance\", \"reliance\", \"religious\", \"religious\", \"religious\", \"religious\", \"religious\", \"religious\", \"removal\", \"removal\", \"removal\", \"removal\", \"removal\", \"render\", \"render\", \"render\", \"render\", \"render\", \"render\", \"renew\", \"renew\", \"renew\", \"renew\", \"renew\", \"renew\", \"renew\", \"renew\", \"renewal\", \"renewal\", \"renewal\", \"renewal\", \"renewal\", \"republic\", \"republic\", \"republic\", \"republic\", \"republic\", \"republic\", \"republic\", \"republic\", \"require\", \"require\", \"require\", \"require\", \"require\", \"require\", \"require\", \"require\", \"respective\", \"respective\", \"respective\", \"respective\", \"respective\", \"rest\", \"rest\", \"rest\", \"rest\", \"rest\", \"rest\", \"rest\", \"rest\", \"retreat\", \"retreat\", \"retreat\", \"retreat\", \"retreat\", \"revenue\", \"revenue\", \"revenue\", \"revenue\", \"revenue\", \"revenue\", \"revenue\", \"revenue\", \"reverence\", \"reverence\", \"reverence\", \"reverence\", \"reverence\", \"reverently\", \"reverently\", \"reverently\", \"reverently\", \"reverently\", \"review\", \"review\", \"review\", \"review\", \"review\", \"rightfully\", \"rightfully\", \"rightfully\", \"rightfully\", \"rightfully\", \"role\", \"role\", \"role\", \"role\", \"role\", \"role\", \"sacrifice\", \"sacrifice\", \"sacrifice\", \"sacrifice\", \"sacrifice\", \"sacrifice\", \"sacrifice\", \"sacrifice\", \"season\", \"season\", \"season\", \"season\", \"season\", \"season\", \"section_country\", \"section_country\", \"section_country\", \"section_country\", \"section_country\", \"secure\", \"secure\", \"secure\", \"secure\", \"secure\", \"secure\", \"secure\", \"secure\", \"security\", \"security\", \"security\", \"security\", \"security\", \"security\", \"security\", \"security\", \"seek\", \"seek\", \"seek\", \"seek\", \"seek\", \"seek\", \"seek\", \"seek\", \"senator\", \"senator\", \"senator\", \"senator\", \"senator\", \"sense_responsibility\", \"sense_responsibility\", \"sense_responsibility\", \"sense_responsibility\", \"sense_responsibility\", \"service\", \"service\", \"service\", \"service\", \"service\", \"service\", \"service\", \"service\", \"share\", \"share\", \"share\", \"share\", \"share\", \"share\", \"share\", \"share\", \"side\", \"side\", \"side\", \"side\", \"side\", \"side\", \"sign\", \"sign\", \"sign\", \"sign\", \"sign\", \"simple\", \"simple\", \"simple\", \"simple\", \"simple\", \"simple\", \"slavery\", \"slavery\", \"slavery\", \"slavery\", \"slavery\", \"slavery\", \"slavery\", \"slow\", \"slow\", \"slow\", \"slow\", \"solemnity\", \"solemnity\", \"solemnity\", \"solemnity\", \"solemnity\", \"solve\", \"solve\", \"solve\", \"solve\", \"solve\", \"south\", \"south\", \"south\", \"south\", \"south\", \"south\", \"south\", \"spirit\", \"spirit\", \"spirit\", \"spirit\", \"spirit\", \"spirit\", \"spirit\", \"spirit\", \"spring\", \"spring\", \"spring\", \"spring\", \"spring\", \"spring\", \"stake\", \"stake\", \"stake\", \"stake\", \"stake\", \"stand\", \"stand\", \"stand\", \"stand\", \"stand\", \"stand\", \"stand\", \"stand\", \"start\", \"start\", \"start\", \"start\", \"start\", \"state\", \"state\", \"state\", \"state\", \"state\", \"state\", \"state\", \"state\", \"states\", \"states\", \"states\", \"states\", \"states\", \"states\", \"states\", \"states\", \"strength\", \"strength\", \"strength\", \"strength\", \"strength\", \"strength\", \"strength\", \"strength\", \"strengthen\", \"strengthen\", \"strengthen\", \"strengthen\", \"strengthen\", \"strengthen\", \"strengthen\", \"strengthen\", \"strong\", \"strong\", \"strong\", \"strong\", \"strong\", \"strong\", \"strong\", \"strong\", \"structure\", \"structure\", \"structure\", \"structure\", \"structure\", \"subject\", \"subject\", \"subject\", \"subject\", \"subject\", \"subject\", \"subject\", \"subject\", \"submit\", \"submit\", \"submit\", \"submit\", \"submit\", \"submit\", \"submit\", \"support\", \"support\", \"support\", \"support\", \"support\", \"support\", \"support\", \"support\", \"suspicion\", \"suspicion\", \"suspicion\", \"suspicion\", \"suspicion\", \"sword\", \"sword\", \"sword\", \"sword\", \"sword\", \"system\", \"system\", \"system\", \"system\", \"system\", \"system\", \"system\", \"system\", \"take_oath\", \"take_oath\", \"take_oath\", \"take_oath\", \"take_oath\", \"tariff\", \"tariff\", \"tariff\", \"tariff\", \"tariff\", \"tariff\", \"tariff\", \"technology\", \"technology\", \"technology\", \"technology\", \"tempt\", \"tempt\", \"tempt\", \"tempt\", \"tempt\", \"tendency\", \"tendency\", \"tendency\", \"tendency\", \"tendency\", \"tendency\", \"term\", \"term\", \"term\", \"term\", \"term\", \"term\", \"term\", \"term\", \"test\", \"test\", \"test\", \"test\", \"test\", \"test\", \"test\", \"thank_god\", \"thank_god\", \"thank_god\", \"thank_god\", \"thank_god\", \"thereof\", \"thereof\", \"thereof\", \"thereof\", \"thereof\", \"thing\", \"thing\", \"thing\", \"thing\", \"thing\", \"thing\", \"thing\", \"thing\", \"thought\", \"thought\", \"thought\", \"thought\", \"thought\", \"thought\", \"thought\", \"thought\", \"today\", \"today\", \"today\", \"today\", \"today\", \"today\", \"today\", \"today\", \"tomorrow\", \"tomorrow\", \"tomorrow\", \"tomorrow\", \"tomorrow\", \"tomorrow\", \"total\", \"total\", \"total\", \"total\", \"trade\", \"trade\", \"trade\", \"trade\", \"trade\", \"trade\", \"trade\", \"trade\", \"trust\", \"trust\", \"trust\", \"trust\", \"trust\", \"trust\", \"trust\", \"trust\", \"undermine\", \"undermine\", \"undermine\", \"undermine\", \"undermine\", \"union\", \"union\", \"union\", \"union\", \"union\", \"union\", \"union\", \"union\", \"unite\", \"unite\", \"unite\", \"unite\", \"unite\", \"unite\", \"unite\", \"unite\", \"united_states\", \"united_states\", \"united_states\", \"united_states\", \"united_states\", \"united_states\", \"united_states\", \"united_states\", \"unity\", \"unity\", \"unity\", \"unity\", \"unity\", \"unity\", \"unity\", \"unity\", \"universal\", \"universal\", \"universal\", \"universal\", \"universal\", \"use\", \"use\", \"use\", \"use\", \"use\", \"use\", \"use\", \"use\", \"varied\", \"varied\", \"varied\", \"varied\", \"varied\", \"vice_president\", \"vice_president\", \"vice_president\", \"vice_president\", \"vice_president\", \"vice_president\", \"victory\", \"victory\", \"victory\", \"victory\", \"victory\", \"victory\", \"victory\", \"virtuous\", \"virtuous\", \"virtuous\", \"virtuous\", \"virtuous\", \"vision\", \"vision\", \"vision\", \"vision\", \"vision\", \"vision\", \"vision\", \"wage\", \"wage\", \"wage\", \"wage\", \"wage\", \"war\", \"war\", \"war\", \"war\", \"war\", \"war\", \"war\", \"war\", \"washington\", \"washington\", \"washington\", \"washington\", \"washington\", \"washington\", \"washington\", \"washington\", \"way\", \"way\", \"way\", \"way\", \"way\", \"way\", \"way\", \"way\", \"welfare\", \"welfare\", \"welfare\", \"welfare\", \"welfare\", \"welfare\", \"welfare\", \"welfare\", \"wonder\", \"wonder\", \"wonder\", \"wonder\", \"wonder\", \"work\", \"work\", \"work\", \"work\", \"work\", \"work\", \"work\", \"work\", \"year\", \"year\", \"year\", \"year\", \"year\", \"year\", \"year\", \"year\", \"yes\", \"yes\", \"yes\", \"yes\", \"yes\", \"yes\"]}, \"R\": 30, \"lambda.step\": 0.01, \"plot.opts\": {\"xlab\": \"PC1\", \"ylab\": \"PC2\"}, \"topic.order\": [8, 1, 7, 2, 4, 6, 5, 3]};\n",
              "\n",
              "function LDAvis_load_lib(url, callback){\n",
              "  var s = document.createElement('script');\n",
              "  s.src = url;\n",
              "  s.async = true;\n",
              "  s.onreadystatechange = s.onload = callback;\n",
              "  s.onerror = function(){console.warn(\"failed to load library \" + url);};\n",
              "  document.getElementsByTagName(\"head\")[0].appendChild(s);\n",
              "}\n",
              "\n",
              "if(typeof(LDAvis) !== \"undefined\"){\n",
              "   // already loaded: just create the visualization\n",
              "   !function(LDAvis){\n",
              "       new LDAvis(\"#\" + \"ldavis_el591402829092291365366705718\", ldavis_el591402829092291365366705718_data);\n",
              "   }(LDAvis);\n",
              "}else if(typeof define === \"function\" && define.amd){\n",
              "   // require.js is available: use it to load d3/LDAvis\n",
              "   require.config({paths: {d3: \"https://d3js.org/d3.v5\"}});\n",
              "   require([\"d3\"], function(d3){\n",
              "      window.d3 = d3;\n",
              "      LDAvis_load_lib(\"https://cdn.jsdelivr.net/gh/bmabey/pyLDAvis@3.3.1/pyLDAvis/js/ldavis.v3.0.0.js\", function(){\n",
              "        new LDAvis(\"#\" + \"ldavis_el591402829092291365366705718\", ldavis_el591402829092291365366705718_data);\n",
              "      });\n",
              "    });\n",
              "}else{\n",
              "    // require.js not available: dynamically load d3 & LDAvis\n",
              "    LDAvis_load_lib(\"https://d3js.org/d3.v5.js\", function(){\n",
              "         LDAvis_load_lib(\"https://cdn.jsdelivr.net/gh/bmabey/pyLDAvis@3.3.1/pyLDAvis/js/ldavis.v3.0.0.js\", function(){\n",
              "                 new LDAvis(\"#\" + \"ldavis_el591402829092291365366705718\", ldavis_el591402829092291365366705718_data);\n",
              "            })\n",
              "         });\n",
              "}\n",
              "</script>"
            ]
          },
          "metadata": {},
          "execution_count": 50
        }
      ]
    },
    {
      "cell_type": "markdown",
      "source": [
        "- Saliency: a measure of how much the term tells you about the topic\n",
        "\n",
        "- Relevance: a weighted average of the probability of the word given the topic and the word given the topic normalized by the probability of the topic\n",
        "\n",
        "- Size of bubbles: measures the importance of the topics, relative to the data"
      ],
      "metadata": {
        "id": "aw2Om3KNDSXD"
      }
    },
    {
      "cell_type": "markdown",
      "source": [
        "## Round-up\n"
      ],
      "metadata": {
        "id": "q9usVLEVwbWu"
      }
    },
    {
      "cell_type": "markdown",
      "metadata": {
        "id": "KakhcHYQY-0C"
      },
      "source": [
        "By using spaCy, we cleaned up our data super fast. And with Gensim, we built topic models with ease!"
      ]
    },
    {
      "cell_type": "markdown",
      "source": [
        "# Assignment"
      ],
      "metadata": {
        "id": "EoFW6x8JRbWu"
      }
    },
    {
      "cell_type": "markdown",
      "source": [
        "- Check out [this website](https://mimno.infosci.cornell.edu/jsLDA/) to do topic modelling without code.\n",
        "- Train an LDA model on the corpus of movie reviews and display it with `pyLDAvis`. Use [this template](https://colab.research.google.com/github/howard-haowen/NLP-demos/blob/main/gensim_playground.ipynb) to complete the task. What follows is how you could download the corpus."
      ],
      "metadata": {
        "id": "tjfZb7fSRri1"
      }
    },
    {
      "cell_type": "code",
      "source": [
        "nltk.download('movie_reviews')\n",
        "from nltk.corpus import movie_reviews"
      ],
      "metadata": {
        "colab": {
          "base_uri": "https://localhost:8080/"
        },
        "id": "yz9pmvN3LOYl",
        "outputId": "03bde160-a841-4a5a-c94b-7a8b767fc4d0"
      },
      "execution_count": null,
      "outputs": [
        {
          "output_type": "stream",
          "name": "stdout",
          "text": [
            "[nltk_data] Downloading package movie_reviews to /root/nltk_data...\n",
            "[nltk_data]   Unzipping corpora/movie_reviews.zip.\n"
          ]
        }
      ]
    },
    {
      "cell_type": "code",
      "source": [
        "file_ids = movie_reviews.fileids()\n",
        "len(file_ids)"
      ],
      "metadata": {
        "colab": {
          "base_uri": "https://localhost:8080/"
        },
        "id": "LTY5VvnLL8k1",
        "outputId": "f0c2221c-8064-4b1a-f355-c9ae70f65296"
      },
      "execution_count": null,
      "outputs": [
        {
          "output_type": "execute_result",
          "data": {
            "text/plain": [
              "2000"
            ]
          },
          "metadata": {},
          "execution_count": 52
        }
      ]
    },
    {
      "cell_type": "code",
      "source": [
        "movie_reviews.raw(file_ids[0])"
      ],
      "metadata": {
        "colab": {
          "base_uri": "https://localhost:8080/",
          "height": 249
        },
        "id": "4mv9rOunL_JJ",
        "outputId": "343217c6-a04d-4402-c676-a053e48bee41"
      },
      "execution_count": null,
      "outputs": [
        {
          "output_type": "execute_result",
          "data": {
            "text/plain": [
              "'plot : two teen couples go to a church party , drink and then drive . \\nthey get into an accident . \\none of the guys dies , but his girlfriend continues to see him in her life , and has nightmares . \\nwhat\\'s the deal ? \\nwatch the movie and \" sorta \" find out . . . \\ncritique : a mind-fuck movie for the teen generation that touches on a very cool idea , but presents it in a very bad package . \\nwhich is what makes this review an even harder one to write , since i generally applaud films which attempt to break the mold , mess with your head and such ( lost highway & memento ) , but there are good and bad ways of making all types of films , and these folks just didn\\'t snag this one correctly . \\nthey seem to have taken this pretty neat concept , but executed it terribly . \\nso what are the problems with the movie ? \\nwell , its main problem is that it\\'s simply too jumbled . \\nit starts off \" normal \" but then downshifts into this \" fantasy \" world in which you , as an audience member , have no idea what\\'s going on . \\nthere are dreams , there are characters coming back from the dead , there are others who look like the dead , there are strange apparitions , there are disappearances , there are a looooot of chase scenes , there are tons of weird things that happen , and most of it is simply not explained . \\nnow i personally don\\'t mind trying to unravel a film every now and then , but when all it does is give me the same clue over and over again , i get kind of fed up after a while , which is this film\\'s biggest problem . \\nit\\'s obviously got this big secret to hide , but it seems to want to hide it completely until its final five minutes . \\nand do they make things entertaining , thrilling or even engaging , in the meantime ? \\nnot really . \\nthe sad part is that the arrow and i both dig on flicks like this , so we actually figured most of it out by the half-way point , so all of the strangeness after that did start to make a little bit of sense , but it still didn\\'t the make the film all that more entertaining . \\ni guess the bottom line with movies like this is that you should always make sure that the audience is \" into it \" even before they are given the secret password to enter your world of understanding . \\ni mean , showing melissa sagemiller running away from visions for about 20 minutes throughout the movie is just plain lazy ! ! \\nokay , we get it . . . there \\nare people chasing her and we don\\'t know who they are . \\ndo we really need to see it over and over again ? \\nhow about giving us different scenes offering further insight into all of the strangeness going down in the movie ? \\napparently , the studio took this film away from its director and chopped it up themselves , and it shows . \\nthere might\\'ve been a pretty decent teen mind-fuck movie in here somewhere , but i guess \" the suits \" decided that turning it into a music video with little edge , would make more sense . \\nthe actors are pretty good for the most part , although wes bentley just seemed to be playing the exact same character that he did in american beauty , only in a new neighborhood . \\nbut my biggest kudos go out to sagemiller , who holds her own throughout the entire film , and actually has you feeling her character\\'s unraveling . \\noverall , the film doesn\\'t stick because it doesn\\'t entertain , it\\'s confusing , it rarely excites and it feels pretty redundant for most of its runtime , despite a pretty cool ending and explanation to all of the craziness that came before it . \\noh , and by the way , this is not a horror or teen slasher flick . . . it\\'s \\njust packaged to look that way because someone is apparently assuming that the genre is still hot with the kids . \\nit also wrapped production two years ago and has been sitting on the shelves ever since . \\nwhatever . . . skip \\nit ! \\nwhere\\'s joblo coming from ? \\na nightmare of elm street 3 ( 7/10 ) - blair witch 2 ( 7/10 ) - the crow ( 9/10 ) - the crow : salvation ( 4/10 ) - lost highway ( 10/10 ) - memento ( 10/10 ) - the others ( 9/10 ) - stir of echoes ( 8/10 ) \\n'"
            ],
            "application/vnd.google.colaboratory.intrinsic+json": {
              "type": "string"
            }
          },
          "metadata": {},
          "execution_count": 53
        }
      ]
    },
    {
      "cell_type": "code",
      "source": [
        "def moviews2df(file_ids):\n",
        "    sentiments = ['pos' if id[:3] == 'pos' else 'neg' for id in file_ids]\n",
        "    texts = [movie_reviews.raw(id) for id in file_ids]\n",
        "    df = pd.DataFrame(\n",
        "        {\n",
        "            \"sentiment\": sentiments,\n",
        "            \"text\": texts,\n",
        "        }\n",
        "    )\n",
        "    return df"
      ],
      "metadata": {
        "id": "ZjmYPufWMByf"
      },
      "execution_count": null,
      "outputs": []
    },
    {
      "cell_type": "code",
      "source": [
        "moviews_df = moviews2df(file_ids)\n",
        "moviews_df"
      ],
      "metadata": {
        "colab": {
          "base_uri": "https://localhost:8080/",
          "height": 423
        },
        "id": "ad1AJ9iqMDn1",
        "outputId": "cb07d941-ace1-49a3-a595-92de51dfd75b"
      },
      "execution_count": null,
      "outputs": [
        {
          "output_type": "execute_result",
          "data": {
            "text/plain": [
              "     sentiment                                               text\n",
              "0          neg  plot : two teen couples go to a church party ,...\n",
              "1          neg  the happy bastard's quick movie review \\ndamn ...\n",
              "2          neg  it is movies like these that make a jaded movi...\n",
              "3          neg   \" quest for camelot \" is warner bros . ' firs...\n",
              "4          neg  synopsis : a mentally unstable man undergoing ...\n",
              "...        ...                                                ...\n",
              "1995       pos  wow ! what a movie . \\nit's everything a movie...\n",
              "1996       pos  richard gere can be a commanding actor , but h...\n",
              "1997       pos  glory--starring matthew broderick , denzel was...\n",
              "1998       pos  steven spielberg's second epic film on world w...\n",
              "1999       pos  truman ( \" true-man \" ) burbank is the perfect...\n",
              "\n",
              "[2000 rows x 2 columns]"
            ],
            "text/html": [
              "\n",
              "  <div id=\"df-38660f69-846d-4584-b058-e1a84f4e4293\">\n",
              "    <div class=\"colab-df-container\">\n",
              "      <div>\n",
              "<style scoped>\n",
              "    .dataframe tbody tr th:only-of-type {\n",
              "        vertical-align: middle;\n",
              "    }\n",
              "\n",
              "    .dataframe tbody tr th {\n",
              "        vertical-align: top;\n",
              "    }\n",
              "\n",
              "    .dataframe thead th {\n",
              "        text-align: right;\n",
              "    }\n",
              "</style>\n",
              "<table border=\"1\" class=\"dataframe\">\n",
              "  <thead>\n",
              "    <tr style=\"text-align: right;\">\n",
              "      <th></th>\n",
              "      <th>sentiment</th>\n",
              "      <th>text</th>\n",
              "    </tr>\n",
              "  </thead>\n",
              "  <tbody>\n",
              "    <tr>\n",
              "      <th>0</th>\n",
              "      <td>neg</td>\n",
              "      <td>plot : two teen couples go to a church party ,...</td>\n",
              "    </tr>\n",
              "    <tr>\n",
              "      <th>1</th>\n",
              "      <td>neg</td>\n",
              "      <td>the happy bastard's quick movie review \\ndamn ...</td>\n",
              "    </tr>\n",
              "    <tr>\n",
              "      <th>2</th>\n",
              "      <td>neg</td>\n",
              "      <td>it is movies like these that make a jaded movi...</td>\n",
              "    </tr>\n",
              "    <tr>\n",
              "      <th>3</th>\n",
              "      <td>neg</td>\n",
              "      <td>\" quest for camelot \" is warner bros . ' firs...</td>\n",
              "    </tr>\n",
              "    <tr>\n",
              "      <th>4</th>\n",
              "      <td>neg</td>\n",
              "      <td>synopsis : a mentally unstable man undergoing ...</td>\n",
              "    </tr>\n",
              "    <tr>\n",
              "      <th>...</th>\n",
              "      <td>...</td>\n",
              "      <td>...</td>\n",
              "    </tr>\n",
              "    <tr>\n",
              "      <th>1995</th>\n",
              "      <td>pos</td>\n",
              "      <td>wow ! what a movie . \\nit's everything a movie...</td>\n",
              "    </tr>\n",
              "    <tr>\n",
              "      <th>1996</th>\n",
              "      <td>pos</td>\n",
              "      <td>richard gere can be a commanding actor , but h...</td>\n",
              "    </tr>\n",
              "    <tr>\n",
              "      <th>1997</th>\n",
              "      <td>pos</td>\n",
              "      <td>glory--starring matthew broderick , denzel was...</td>\n",
              "    </tr>\n",
              "    <tr>\n",
              "      <th>1998</th>\n",
              "      <td>pos</td>\n",
              "      <td>steven spielberg's second epic film on world w...</td>\n",
              "    </tr>\n",
              "    <tr>\n",
              "      <th>1999</th>\n",
              "      <td>pos</td>\n",
              "      <td>truman ( \" true-man \" ) burbank is the perfect...</td>\n",
              "    </tr>\n",
              "  </tbody>\n",
              "</table>\n",
              "<p>2000 rows × 2 columns</p>\n",
              "</div>\n",
              "      <button class=\"colab-df-convert\" onclick=\"convertToInteractive('df-38660f69-846d-4584-b058-e1a84f4e4293')\"\n",
              "              title=\"Convert this dataframe to an interactive table.\"\n",
              "              style=\"display:none;\">\n",
              "        \n",
              "  <svg xmlns=\"http://www.w3.org/2000/svg\" height=\"24px\"viewBox=\"0 0 24 24\"\n",
              "       width=\"24px\">\n",
              "    <path d=\"M0 0h24v24H0V0z\" fill=\"none\"/>\n",
              "    <path d=\"M18.56 5.44l.94 2.06.94-2.06 2.06-.94-2.06-.94-.94-2.06-.94 2.06-2.06.94zm-11 1L8.5 8.5l.94-2.06 2.06-.94-2.06-.94L8.5 2.5l-.94 2.06-2.06.94zm10 10l.94 2.06.94-2.06 2.06-.94-2.06-.94-.94-2.06-.94 2.06-2.06.94z\"/><path d=\"M17.41 7.96l-1.37-1.37c-.4-.4-.92-.59-1.43-.59-.52 0-1.04.2-1.43.59L10.3 9.45l-7.72 7.72c-.78.78-.78 2.05 0 2.83L4 21.41c.39.39.9.59 1.41.59.51 0 1.02-.2 1.41-.59l7.78-7.78 2.81-2.81c.8-.78.8-2.07 0-2.86zM5.41 20L4 18.59l7.72-7.72 1.47 1.35L5.41 20z\"/>\n",
              "  </svg>\n",
              "      </button>\n",
              "      \n",
              "  <style>\n",
              "    .colab-df-container {\n",
              "      display:flex;\n",
              "      flex-wrap:wrap;\n",
              "      gap: 12px;\n",
              "    }\n",
              "\n",
              "    .colab-df-convert {\n",
              "      background-color: #E8F0FE;\n",
              "      border: none;\n",
              "      border-radius: 50%;\n",
              "      cursor: pointer;\n",
              "      display: none;\n",
              "      fill: #1967D2;\n",
              "      height: 32px;\n",
              "      padding: 0 0 0 0;\n",
              "      width: 32px;\n",
              "    }\n",
              "\n",
              "    .colab-df-convert:hover {\n",
              "      background-color: #E2EBFA;\n",
              "      box-shadow: 0px 1px 2px rgba(60, 64, 67, 0.3), 0px 1px 3px 1px rgba(60, 64, 67, 0.15);\n",
              "      fill: #174EA6;\n",
              "    }\n",
              "\n",
              "    [theme=dark] .colab-df-convert {\n",
              "      background-color: #3B4455;\n",
              "      fill: #D2E3FC;\n",
              "    }\n",
              "\n",
              "    [theme=dark] .colab-df-convert:hover {\n",
              "      background-color: #434B5C;\n",
              "      box-shadow: 0px 1px 3px 1px rgba(0, 0, 0, 0.15);\n",
              "      filter: drop-shadow(0px 1px 2px rgba(0, 0, 0, 0.3));\n",
              "      fill: #FFFFFF;\n",
              "    }\n",
              "  </style>\n",
              "\n",
              "      <script>\n",
              "        const buttonEl =\n",
              "          document.querySelector('#df-38660f69-846d-4584-b058-e1a84f4e4293 button.colab-df-convert');\n",
              "        buttonEl.style.display =\n",
              "          google.colab.kernel.accessAllowed ? 'block' : 'none';\n",
              "\n",
              "        async function convertToInteractive(key) {\n",
              "          const element = document.querySelector('#df-38660f69-846d-4584-b058-e1a84f4e4293');\n",
              "          const dataTable =\n",
              "            await google.colab.kernel.invokeFunction('convertToInteractive',\n",
              "                                                     [key], {});\n",
              "          if (!dataTable) return;\n",
              "\n",
              "          const docLinkHtml = 'Like what you see? Visit the ' +\n",
              "            '<a target=\"_blank\" href=https://colab.research.google.com/notebooks/data_table.ipynb>data table notebook</a>'\n",
              "            + ' to learn more about interactive tables.';\n",
              "          element.innerHTML = '';\n",
              "          dataTable['output_type'] = 'display_data';\n",
              "          await google.colab.output.renderOutput(dataTable, element);\n",
              "          const docLink = document.createElement('div');\n",
              "          docLink.innerHTML = docLinkHtml;\n",
              "          element.appendChild(docLink);\n",
              "        }\n",
              "      </script>\n",
              "    </div>\n",
              "  </div>\n",
              "  "
            ]
          },
          "metadata": {},
          "execution_count": 55
        }
      ]
    },
    {
      "cell_type": "code",
      "source": [
        "# moviews_df['tokens'] = preprocess_texts(moviews_df['text'])"
      ],
      "metadata": {
        "id": "Lygld-Lzh_yp"
      },
      "execution_count": null,
      "outputs": []
    },
    {
      "cell_type": "code",
      "source": [
        "# moviews_df.head()"
      ],
      "metadata": {
        "colab": {
          "base_uri": "https://localhost:8080/",
          "height": 337
        },
        "id": "J5u8E2v3pYa5",
        "outputId": "2cbd7674-c32a-4843-a985-c1206a90dceb"
      },
      "execution_count": null,
      "outputs": [
        {
          "output_type": "execute_result",
          "data": {
            "text/plain": [
              "  sentiment                                               text  \\\n",
              "0       neg  plot : two teen couples go to a church party ,...   \n",
              "1       neg  the happy bastard's quick movie review \\ndamn ...   \n",
              "2       neg  it is movies like these that make a jaded movi...   \n",
              "3       neg   \" quest for camelot \" is warner bros . ' firs...   \n",
              "4       neg  synopsis : a mentally unstable man undergoing ...   \n",
              "\n",
              "                                              tokens  \n",
              "0  [plot, teen, couple, church, party, drink, dri...  \n",
              "1  [happy, bastard, quick, movie, review, damn, y...  \n",
              "2  [movie, like, jaded, movie, viewer, thankful, ...  \n",
              "3  [quest, camelot, warner, bros, feature, length...  \n",
              "4  [synopsis, mentally, unstable, man, undergo, p...  "
            ],
            "text/html": [
              "\n",
              "  <div id=\"df-878185a0-a4f7-41a6-8f14-87934daac01c\">\n",
              "    <div class=\"colab-df-container\">\n",
              "      <div>\n",
              "<style scoped>\n",
              "    .dataframe tbody tr th:only-of-type {\n",
              "        vertical-align: middle;\n",
              "    }\n",
              "\n",
              "    .dataframe tbody tr th {\n",
              "        vertical-align: top;\n",
              "    }\n",
              "\n",
              "    .dataframe thead th {\n",
              "        text-align: right;\n",
              "    }\n",
              "</style>\n",
              "<table border=\"1\" class=\"dataframe\">\n",
              "  <thead>\n",
              "    <tr style=\"text-align: right;\">\n",
              "      <th></th>\n",
              "      <th>sentiment</th>\n",
              "      <th>text</th>\n",
              "      <th>tokens</th>\n",
              "    </tr>\n",
              "  </thead>\n",
              "  <tbody>\n",
              "    <tr>\n",
              "      <th>0</th>\n",
              "      <td>neg</td>\n",
              "      <td>plot : two teen couples go to a church party ,...</td>\n",
              "      <td>[plot, teen, couple, church, party, drink, dri...</td>\n",
              "    </tr>\n",
              "    <tr>\n",
              "      <th>1</th>\n",
              "      <td>neg</td>\n",
              "      <td>the happy bastard's quick movie review \\ndamn ...</td>\n",
              "      <td>[happy, bastard, quick, movie, review, damn, y...</td>\n",
              "    </tr>\n",
              "    <tr>\n",
              "      <th>2</th>\n",
              "      <td>neg</td>\n",
              "      <td>it is movies like these that make a jaded movi...</td>\n",
              "      <td>[movie, like, jaded, movie, viewer, thankful, ...</td>\n",
              "    </tr>\n",
              "    <tr>\n",
              "      <th>3</th>\n",
              "      <td>neg</td>\n",
              "      <td>\" quest for camelot \" is warner bros . ' firs...</td>\n",
              "      <td>[quest, camelot, warner, bros, feature, length...</td>\n",
              "    </tr>\n",
              "    <tr>\n",
              "      <th>4</th>\n",
              "      <td>neg</td>\n",
              "      <td>synopsis : a mentally unstable man undergoing ...</td>\n",
              "      <td>[synopsis, mentally, unstable, man, undergo, p...</td>\n",
              "    </tr>\n",
              "  </tbody>\n",
              "</table>\n",
              "</div>\n",
              "      <button class=\"colab-df-convert\" onclick=\"convertToInteractive('df-878185a0-a4f7-41a6-8f14-87934daac01c')\"\n",
              "              title=\"Convert this dataframe to an interactive table.\"\n",
              "              style=\"display:none;\">\n",
              "        \n",
              "  <svg xmlns=\"http://www.w3.org/2000/svg\" height=\"24px\"viewBox=\"0 0 24 24\"\n",
              "       width=\"24px\">\n",
              "    <path d=\"M0 0h24v24H0V0z\" fill=\"none\"/>\n",
              "    <path d=\"M18.56 5.44l.94 2.06.94-2.06 2.06-.94-2.06-.94-.94-2.06-.94 2.06-2.06.94zm-11 1L8.5 8.5l.94-2.06 2.06-.94-2.06-.94L8.5 2.5l-.94 2.06-2.06.94zm10 10l.94 2.06.94-2.06 2.06-.94-2.06-.94-.94-2.06-.94 2.06-2.06.94z\"/><path d=\"M17.41 7.96l-1.37-1.37c-.4-.4-.92-.59-1.43-.59-.52 0-1.04.2-1.43.59L10.3 9.45l-7.72 7.72c-.78.78-.78 2.05 0 2.83L4 21.41c.39.39.9.59 1.41.59.51 0 1.02-.2 1.41-.59l7.78-7.78 2.81-2.81c.8-.78.8-2.07 0-2.86zM5.41 20L4 18.59l7.72-7.72 1.47 1.35L5.41 20z\"/>\n",
              "  </svg>\n",
              "      </button>\n",
              "      \n",
              "  <style>\n",
              "    .colab-df-container {\n",
              "      display:flex;\n",
              "      flex-wrap:wrap;\n",
              "      gap: 12px;\n",
              "    }\n",
              "\n",
              "    .colab-df-convert {\n",
              "      background-color: #E8F0FE;\n",
              "      border: none;\n",
              "      border-radius: 50%;\n",
              "      cursor: pointer;\n",
              "      display: none;\n",
              "      fill: #1967D2;\n",
              "      height: 32px;\n",
              "      padding: 0 0 0 0;\n",
              "      width: 32px;\n",
              "    }\n",
              "\n",
              "    .colab-df-convert:hover {\n",
              "      background-color: #E2EBFA;\n",
              "      box-shadow: 0px 1px 2px rgba(60, 64, 67, 0.3), 0px 1px 3px 1px rgba(60, 64, 67, 0.15);\n",
              "      fill: #174EA6;\n",
              "    }\n",
              "\n",
              "    [theme=dark] .colab-df-convert {\n",
              "      background-color: #3B4455;\n",
              "      fill: #D2E3FC;\n",
              "    }\n",
              "\n",
              "    [theme=dark] .colab-df-convert:hover {\n",
              "      background-color: #434B5C;\n",
              "      box-shadow: 0px 1px 3px 1px rgba(0, 0, 0, 0.15);\n",
              "      filter: drop-shadow(0px 1px 2px rgba(0, 0, 0, 0.3));\n",
              "      fill: #FFFFFF;\n",
              "    }\n",
              "  </style>\n",
              "\n",
              "      <script>\n",
              "        const buttonEl =\n",
              "          document.querySelector('#df-878185a0-a4f7-41a6-8f14-87934daac01c button.colab-df-convert');\n",
              "        buttonEl.style.display =\n",
              "          google.colab.kernel.accessAllowed ? 'block' : 'none';\n",
              "\n",
              "        async function convertToInteractive(key) {\n",
              "          const element = document.querySelector('#df-878185a0-a4f7-41a6-8f14-87934daac01c');\n",
              "          const dataTable =\n",
              "            await google.colab.kernel.invokeFunction('convertToInteractive',\n",
              "                                                     [key], {});\n",
              "          if (!dataTable) return;\n",
              "\n",
              "          const docLinkHtml = 'Like what you see? Visit the ' +\n",
              "            '<a target=\"_blank\" href=https://colab.research.google.com/notebooks/data_table.ipynb>data table notebook</a>'\n",
              "            + ' to learn more about interactive tables.';\n",
              "          element.innerHTML = '';\n",
              "          dataTable['output_type'] = 'display_data';\n",
              "          await google.colab.output.renderOutput(dataTable, element);\n",
              "          const docLink = document.createElement('div');\n",
              "          docLink.innerHTML = docLinkHtml;\n",
              "          element.appendChild(docLink);\n",
              "        }\n",
              "      </script>\n",
              "    </div>\n",
              "  </div>\n",
              "  "
            ]
          },
          "metadata": {},
          "execution_count": 58
        }
      ]
    },
    {
      "cell_type": "code",
      "source": [
        "def create_lda(texts, dict_filter_no_above=0.8, Ktopics=8):\n",
        "    \"\"\"\n",
        "    texts: a list of lists of token strings\n",
        "    dict_filter_no_above: a float number for filtering the Gensim dictionary\n",
        "    Ktopics: an integer for the number of topics in LDA\n",
        "    \"\"\"\n",
        "    bigram = gensim.models.Phrases(texts)\n",
        "    texts = [bigram[text] for text in texts]\n",
        "    dictionary = Dictionary(texts)\n",
        "    dictionary.filter_extremes(no_above=dict_filter_no_above)\n",
        "    corpus = [dictionary.doc2bow(text) for text in texts]\n",
        "    ldamodel = LdaModel(corpus=corpus, num_topics=Ktopics, id2word=dictionary)\n",
        "    return ldamodel, corpus, dictionary"
      ],
      "metadata": {
        "id": "RIep-7YyRmyu"
      },
      "execution_count": null,
      "outputs": []
    },
    {
      "cell_type": "code",
      "source": [
        "# ldamodel, corpus, dictionary = create_lda(moviews_df['tokens'], Ktopics=5)"
      ],
      "metadata": {
        "id": "ErK2NNAMTOgF"
      },
      "execution_count": null,
      "outputs": []
    },
    {
      "cell_type": "code",
      "source": [
        "# pyLDAvis.gensim_models.prepare(ldamodel, corpus, dictionary)"
      ],
      "metadata": {
        "colab": {
          "base_uri": "https://localhost:8080/",
          "height": 881
        },
        "id": "8E-TKl2_TFzx",
        "outputId": "4ad38840-1493-4bf1-c367-241344f06bf0"
      },
      "execution_count": null,
      "outputs": [
        {
          "output_type": "execute_result",
          "data": {
            "text/plain": [
              "PreparedData(topic_coordinates=              x         y  topics  cluster       Freq\n",
              "topic                                                \n",
              "2     -0.003662  0.003231       1        1  24.402663\n",
              "0      0.001249 -0.005325       2        1  20.088145\n",
              "3     -0.004444  0.003657       3        1  19.710146\n",
              "4      0.008004  0.003600       4        1  18.501184\n",
              "1     -0.001147 -0.005163       5        1  17.297862, topic_info=        Term         Freq        Total Category  logprob  loglift\n",
              "3478       =   279.000000   279.000000  Default  30.0000  30.0000\n",
              "126     play  2282.000000  2282.000000  Default  29.0000  29.0000\n",
              "72      give  1241.000000  1241.000000  Default  28.0000  28.0000\n",
              "123   people  1354.000000  1354.000000  Default  27.0000  27.0000\n",
              "233     time  2507.000000  2507.000000  Default  26.0000  26.0000\n",
              "...      ...          ...          ...      ...      ...      ...\n",
              "160     take   194.335620  1058.404557   Topic5  -6.1257   0.0597\n",
              "302      man   234.819447  1563.787548   Topic5  -5.9365  -0.1415\n",
              "227     star   185.557231   971.267882   Topic5  -6.1719   0.0993\n",
              "332      see   211.586161  1518.063243   Topic5  -6.0406  -0.2160\n",
              "95    little   196.700733  1322.512093   Topic5  -6.1136  -0.1510\n",
              "\n",
              "[441 rows x 6 columns], token_table=      Topic      Freq  Term\n",
              "term                       \n",
              "3478      1  0.093038     =\n",
              "3478      2  0.128821     =\n",
              "3478      3  0.289848     =\n",
              "3478      4  0.454453     =\n",
              "3478      5  0.032205     =\n",
              "...     ...       ...   ...\n",
              "507       1  0.218844  year\n",
              "507       2  0.149370  year\n",
              "507       3  0.200607  year\n",
              "507       4  0.210160  year\n",
              "507       5  0.221449  year\n",
              "\n",
              "[1457 rows x 3 columns], R=30, lambda_step=0.01, plot_opts={'xlab': 'PC1', 'ylab': 'PC2'}, topic_order=[3, 1, 4, 5, 2])"
            ],
            "text/html": [
              "\n",
              "<link rel=\"stylesheet\" type=\"text/css\" href=\"https://cdn.jsdelivr.net/gh/bmabey/pyLDAvis@3.3.1/pyLDAvis/js/ldavis.v1.0.0.css\">\n",
              "\n",
              "\n",
              "<div id=\"ldavis_el591402828525989926629990632\"></div>\n",
              "<script type=\"text/javascript\">\n",
              "\n",
              "var ldavis_el591402828525989926629990632_data = {\"mdsDat\": {\"x\": [-0.003661851680590069, 0.001249165164417805, -0.004444315565697117, 0.008003858435305548, -0.0011468563534361713], \"y\": [0.0032307252103848994, -0.005324819080568572, 0.0036572495089443975, 0.0036000762507092795, -0.005163231889470002], \"topics\": [1, 2, 3, 4, 5], \"cluster\": [1, 1, 1, 1, 1], \"Freq\": [24.402662552949167, 20.08814522763474, 19.7101463032751, 18.501183542703785, 17.297862373437216]}, \"tinfo\": {\"Term\": [\"=\", \"play\", \"give\", \"people\", \"time\", \"get\", \"life\", \"audience\", \"look\", \"way\", \"character\", \"story\", \"like\", \"see\", \"plot\", \"start\", \"year\", \"man\", \"good\", \"turn\", \"real\", \"kill\", \"use\", \"come\", \"new\", \"godzilla\", \"work\", \"know\", \"`\", \"face\", \"metro\", \"street_fighter\", \"slim\", \"cindy\", \"hacker\", \"derek\", \"organisation\", \"judith\", \"=_=\", \"boob\", \"lambert\", \"computer_geek\", \"cindy_crawford\", \"swan\", \"mummy\", \"undeveloped\", \"anna_king\", \"robocop\", \"silverman\", \"hartnett\", \"hugh_grant\", \"parking\", \"grainy\", \"alan_cumming\", \"butcher_boy\", \"low_brow\", \"estella\", \"`\", \"joe_pantoliano\", \"seattle\", \"s\", \"carter\", \"sly\", \"kelley\", \"action\", \"murphy\", \"girl\", \"jimmy\", \"cop\", \"william\", \"doll\", \"past\", \"character\", \"play\", \"king\", \"live\", \"include\", \"like\", \"performance\", \"course\", \"help\", \"think\", \"talk\", \"bad\", \"great\", \"time\", \"try\", \"plot\", \"bring\", \"thing\", \"come\", \"friend\", \"good\", \"little\", \"end\", \"story\", \"find\", \"say\", \"love\", \"scene\", \"want\", \"go\", \"know\", \"actually\", \"watch\", \"make\", \"man\", \"get\", \"people\", \"life\", \"way\", \"work\", \"look\", \"christmas_eve\", \"ace_ventura\", \"gloria\", \"pimp\", \"penguin\", \"tara_reid\", \"crowe\", \"carrey\", \"nephew\", \"harper\", \"beavis_butthead\", \"psychlo\", \"moses\", \"ace\", \"bill_murray\", \"bowling\", \"flamboyant\", \"alan_smithee\", \"mr_magoo\", \"pesky\", \"opening_night\", \"thomas_ian\", \"october_sky\", \"strategic\", \"edwards\", \"jerry_springer\", \"angus\", \"frog\", \"mib\", \"crichton\", \"hamlet\", \"shakespeare\", \"ant\", \"breakdown\", \"shine\", \"christmas\", \"batman\", \"day\", \"leave\", \"see\", \"give\", \"play\", \"man\", \"little\", \"new\", \"know\", \"want\", \"good\", \"audience\", \"life\", \"funny\", \"probably\", \"sure\", \"time\", \"scene\", \"think\", \"actor\", \"rest\", \"work\", \"people\", \"picture\", \"star\", \"way\", \"story\", \"look\", \"bad\", \"go\", \"like\", \"get\", \"set\", \"watch\", \"character\", \"thing\", \"find\", \"come\", \"plot\", \"end\", \"make\", \"jimmy_stewart\", \"tango\", \"matron\", \"commentary_track\", \"sid_james\", \"barbara_windsor\", \"major_league\", \"oeuvre\", \"english_patient\", \"jawbreaker\", \"underwater\", \"ariel\", \"minor_league\", \"milton\", \"pam\", \"vike\", \"splendor\", \"informative\", \"booth\", \"courtney\", \"mcdermott\", \"filmgoer\", \"christ\", \"drug_use\", \"quaid\", \"scarface\", \"nora\", \"oscar\", \"sheen\", \"overwhelm\", \"dream\", \"stuart\", \"star_trek\", \"start\", \"sinclair\", \"truman\", \"spawn\", \"duke\", \"hewitt\", \"mean\", \"woman\", \"begin\", \"time\", \"explore\", \"look\", \"man\", \"great\", \"scream\", \"series\", \"need\", \"=\", \"character\", \"music\", \"go\", \"thing\", \"well\", \"interesting\", \"make\", \"show\", \"come\", \"set\", \"like\", \"change\", \"life\", \"good\", \"way\", \"know\", \"see\", \"big\", \"scene\", \"find\", \"work\", \"take\", \"end\", \"role\", \"year\", \"give\", \"try\", \"bad\", \"story\", \"get\", \"think\", \"little\", \"play\", \"frequency\", \"danielle\", \"caviezel\", \"=\", \"peter_butterworth\", \"suspense_thriller\", \"sullivan\", \"kenneth_connor\", \"schroeder\", \"kurosawa\", \"timeline\", \"cinderella\", \"event_horizon\", \"nuke\", \"sonnenfeld\", \"patricia_arquette\", \"buildup\", \"bomber\", \"harry\", \"pleasantville\", \"sewell\", \"barry_sonnenfeld\", \"palmetto\", \"rhea\", \"coma\", \"mo\", \"snipe\", \"april\", \"freakish\", \"misogynistic\", \"armageddon\", \"anaconda\", \"larry\", \"logical\", \"dennis_quaid\", \"smith\", \"woody\", \"u_s\", \"frank\", \"plot\", \"bond\", \"bob\", \"script\", \"like\", \"story\", \"thriller\", \"get\", \"cast\", \"kind\", \"good\", \"turn\", \"real\", \"scene\", \"dialogue\", \"wife\", \"use\", \"work\", \"try\", \"people\", \"see\", \"year\", \"bad\", \"murder\", \"way\", \"actor\", \"long\", \"run\", \"take\", \"character\", \"play\", \"make\", \"come\", \"end\", \"think\", \"director\", \"go\", \"find\", \"want\", \"know\", \"thing\", \"time\", \"give\", \"little\", \"morris\", \"jule\", \"intimacy\", \"mulder\", \"godzilla\", \"ebert\", \"emperor\", \"mushu\", \"butch\", \"maria_pitillo\", \"lorraine\", \"mcconaughey\", \"giant_lizard\", \"chad\", \"clifford\", \"discourage\", \"tate\", \"duchovny\", \"fierstein\", \"sil\", \"drawer\", \"hillbilly\", \"meat_loaf\", \"shue\", \"prof\", \"ordell\", \"economic\", \"coolidge\", \"invisible_man\", \"donnie\", \"mulan\", \"paulie\", \"bobby\", \"scary\", \"x_file\", \"virus\", \"saint\", \"ricky\", \"china\", \"face\", \"stahl\", \"hero\", \"people\", \"let\", \"kill\", \"give\", \"audience\", \"year\", \"family\", \"way\", \"get\", \"life\", \"find\", \"look\", \"fall\", \"come\", \"character\", \"special_effect\", \"use\", \"time\", \"go\", \"play\", \"new\", \"prove\", \"story\", \"know\", \"funny\", \"turn\", \"good\", \"instead\", \"make\", \"actor\", \"scene\", \"thing\", \"work\", \"bad\", \"end\", \"like\", \"take\", \"man\", \"star\", \"see\", \"little\"], \"Freq\": [279.0, 2282.0, 1241.0, 1354.0, 2507.0, 1675.0, 1437.0, 992.0, 1483.0, 1804.0, 3374.0, 1893.0, 3302.0, 1518.0, 1238.0, 742.0, 1151.0, 1563.0, 3052.0, 988.0, 671.0, 661.0, 548.0, 1806.0, 922.0, 130.0, 1562.0, 1787.0, 442.0, 464.0, 17.43446313785714, 3.8615040323918777, 11.392059797159837, 13.971821902724468, 9.122140196000581, 35.244106265027426, 2.972259694785317, 14.328880371510486, 57.64788289288795, 4.380889221925721, 7.110549672711743, 3.7723813103785124, 4.706717062782793, 6.538150891491294, 14.420256306906277, 4.151239396215387, 4.981228122841026, 20.87068996870466, 4.054981992766829, 4.0569356749989955, 4.92092403877054, 3.1085121490583814, 6.679531419432838, 3.545436846367297, 6.226180871848042, 3.9854104650952804, 10.620130838187116, 196.7825687014545, 3.534936830942274, 7.06311744364683, 67.59168197513289, 63.3161674924907, 14.999067290389888, 8.270403180967504, 323.06485055090366, 45.80383446814869, 188.04019020354227, 26.28277300567487, 106.04531675635772, 47.365291038840304, 17.442799822057545, 109.05587446295247, 1015.604478392384, 697.800206973263, 80.86007698575465, 214.50089885636493, 201.09857669308062, 956.9633949181826, 339.02009609868185, 209.3927014636359, 215.07640746899463, 402.8612848938811, 146.77144258971344, 436.07927759518714, 339.8264622429697, 642.3194714185357, 339.63835394307824, 343.7539895109454, 196.32905892101147, 397.8600335813061, 456.873274814296, 179.97601775550257, 692.1494243004295, 349.3011403370986, 348.51722921960624, 456.60617971663885, 381.81704114728547, 217.5155081038802, 263.4465208065274, 493.9318655055932, 311.34639259462654, 415.33240965208336, 407.96292682039996, 233.90775066532268, 273.75349490683544, 333.0703900067256, 351.70753664167086, 350.81654804269726, 311.5432317826999, 318.34479807843337, 352.7525275960663, 315.80031357917215, 291.06378014049733, 3.533840857655716, 12.064119216958254, 18.858582088530856, 14.395924260609902, 3.7295976299978686, 3.5116872678647333, 10.798748263824026, 31.112419774849613, 6.386714228008854, 3.731756500778395, 4.237916675445884, 14.315354962705344, 11.419100608898422, 6.36404458246762, 15.976204150843857, 8.65103465368844, 4.314562973123825, 6.296929541539405, 9.820378673941883, 3.4700283481772516, 3.494192452110224, 4.7079345438608895, 7.034460344699198, 2.329673966266696, 9.281680320372283, 6.263722067624958, 4.641214619853536, 9.629808374565682, 9.13488837488929, 5.366222244788714, 12.59866057995742, 26.17792023082572, 14.00890348076148, 9.9892881529189, 36.584506687793, 27.555658379919645, 40.054790059153966, 225.31113642680762, 249.5890911221252, 399.29522070376277, 329.9575915089085, 565.6940696764858, 392.0585776785474, 335.9639456067595, 243.8736873032163, 434.2767515647307, 303.1542537744582, 686.9012059902018, 254.3717185386589, 349.80129472892736, 210.2925349411422, 131.768854988357, 138.02030777418176, 537.3146390892862, 477.3521038173281, 323.1867958404263, 273.2130086281057, 106.3717008166113, 345.67316121482565, 299.98778977536296, 138.5295789312214, 223.02841226622098, 365.00950426154384, 373.07332681410196, 308.05709288505915, 323.97056358622837, 357.2655491380904, 561.5381247386616, 330.62749346890837, 185.48117540735257, 221.7240637048993, 495.432798341153, 271.0696059989754, 265.51260951138084, 280.8576887472604, 243.4513959532117, 245.9468763033982, 246.94154934888945, 4.084242767612748, 7.594730179025567, 5.243942983351263, 4.310674851912908, 8.036482025357428, 3.3639896803090674, 7.502332144346054, 2.5229430629437846, 4.512682233178349, 12.91709548206964, 11.070096623099031, 5.876678701761844, 3.886750481274453, 5.405971579669643, 7.771336281876195, 4.602881314917095, 2.672285576555706, 3.0606036403168493, 4.939807928468462, 8.009065684988514, 3.3969548114319834, 2.6652713699530426, 10.969642025793233, 6.065208237224926, 10.472590953655168, 4.9051100209541465, 4.8882296391199285, 50.046349922018955, 5.202928659982288, 4.05256966414365, 77.01647567937336, 19.410413728864015, 42.82928244806016, 234.82731884603473, 6.643998300158016, 49.518571734713944, 33.811805025584526, 14.641140921053086, 11.951019208607208, 144.63787461647425, 193.1321580776538, 198.13162260071874, 610.6456010017216, 36.339951576968666, 368.90821460340516, 383.9320919992734, 299.18571484158474, 94.79014170081626, 124.80174035531043, 169.06784305082635, 81.40987088820853, 728.7128657432817, 111.6895862864535, 409.90682137358374, 344.2766161512552, 227.41328238273374, 154.50880669142757, 323.13669110943135, 178.15927192034903, 393.2654698145884, 194.10904596187143, 641.2218533298732, 103.9429275116538, 313.19611188948363, 572.4269365567029, 370.3367240101168, 362.6814343649169, 316.58375090882754, 204.83751293179614, 415.84576762713755, 312.87837184973955, 313.467978682694, 227.64880435696804, 259.0754216742061, 204.97567513138202, 230.82155846671364, 239.21079647123625, 231.3626976792944, 262.09494263087737, 281.2355724359832, 260.4060996019348, 238.0110400815583, 229.5480275191141, 229.45378099307362, 18.448615654880054, 5.854182605589639, 3.63283046915043, 126.74472137919258, 4.800515080764969, 2.900340820818612, 4.146998030117294, 3.183136991965924, 4.321953948036411, 6.656069920740809, 2.7358208165288267, 3.8734175569697777, 17.573151499237458, 2.6882816998833006, 3.818615606204413, 3.3981024918436473, 4.879860056089139, 5.675241745345292, 59.872136786450824, 10.099653680107343, 3.6990240970559416, 2.238902659554145, 10.680328268089674, 3.6939259998346525, 6.284581974434353, 2.5915503381745166, 9.643974141556681, 8.075649585852803, 2.208376340950242, 3.2933140748710374, 26.19380075363807, 16.4761370032568, 16.86642612883938, 9.75949803466328, 7.483929235862724, 61.90667122916584, 22.259961162746848, 36.88632529746585, 46.10887103322144, 328.06124032878915, 38.02415086076688, 40.932710452173716, 197.95338259708117, 741.0071539957002, 441.34892216852, 75.62937912495177, 384.30624386832017, 150.33977520328415, 150.98771575608242, 634.8725100454639, 237.1546992573265, 169.44643351648904, 458.54576366450533, 118.22114006192457, 136.18914538283175, 137.12234139041112, 324.4775595571407, 259.0537948356526, 280.07759783224174, 304.40283699101064, 241.6429840753708, 306.163450926003, 85.78164511303639, 337.2500302822648, 233.59833747917435, 173.26771647427938, 153.7816584438598, 214.81672869758168, 521.291160094932, 385.41711295718363, 267.86662761931115, 317.23364284406244, 246.62746062861177, 246.58670352405204, 199.22112558214792, 282.92747361326747, 252.755571352057, 216.97034650011568, 260.76218388761595, 226.06611018886562, 268.2248960729179, 209.56528314711875, 210.99824626870324, 8.978754226055804, 6.608702066638115, 4.352228689468996, 8.633479048867713, 53.054481538154356, 4.862395624476229, 15.317116125897615, 5.142724840513185, 4.369366865610659, 3.2033677157689655, 2.429949261937216, 5.550544609603823, 2.4232113594132527, 9.591850153683769, 2.4038432248919253, 2.3771260919280883, 3.4016402849354983, 8.01214440336251, 2.0115173812682285, 3.340398415636763, 2.6611267347273277, 3.347454398518435, 3.002227087006949, 3.96712150734408, 2.6513731328688936, 16.549553805117004, 4.244834282004462, 2.611445234870492, 2.6196291336113484, 6.828739288323554, 31.618381610796852, 12.78076178828461, 21.554271227226266, 60.73443361804512, 22.714775850177155, 22.346085948294228, 8.960871221176161, 12.297014442846102, 18.128650238311753, 124.05147146030592, 11.094214673113644, 83.90275098438927, 310.5864970298198, 118.5203415572331, 158.4320881239478, 277.65079249017913, 225.059360920166, 254.96542168944057, 151.15283126591845, 379.1192584270002, 349.4886555709178, 302.5097928248863, 317.983643168326, 308.7967657462251, 85.72022883641152, 358.54593861411155, 613.2437471866554, 94.9124827382954, 127.19995665001318, 449.35469249769966, 335.94044398462404, 403.8590137182823, 191.42435178199824, 75.8625178376948, 341.68664342835086, 321.46460076039654, 167.4776039726984, 197.52147649325295, 465.7559467936925, 123.29341368424677, 250.06350033567446, 212.79790291303567, 340.886453507544, 257.3597818505719, 262.6858189723955, 258.12509451080405, 229.59545396331, 401.4842138012122, 194.33561985311974, 234.81944663727984, 185.55723070249826, 211.58616131744665, 196.7007327921786], \"Total\": [279.0, 2282.0, 1241.0, 1354.0, 2507.0, 1675.0, 1437.0, 992.0, 1483.0, 1804.0, 3374.0, 1893.0, 3302.0, 1518.0, 1238.0, 742.0, 1151.0, 1563.0, 3052.0, 988.0, 671.0, 661.0, 548.0, 1806.0, 922.0, 130.0, 1562.0, 1787.0, 442.0, 464.0, 30.259386059689938, 7.0308346544287526, 21.112927283698767, 26.17471062064079, 18.022845039600085, 70.26507373157361, 5.9908222183736735, 28.989382627728432, 117.97187911749587, 8.996529498583262, 14.978977315464446, 7.987886565294223, 9.998552576142968, 13.908657226240326, 30.761447320364404, 8.991660244205717, 10.898361066750445, 45.8043032867725, 8.945724804726062, 8.999068237650238, 10.954599845043784, 6.932844680992661, 14.897672640427466, 7.930569838365056, 13.936032562069236, 8.938183409750655, 23.830692280319493, 442.5553543183529, 7.967086561381788, 15.928222984102081, 159.09619693663683, 152.1099410107538, 34.736292977775655, 18.84883849194632, 845.0857990052933, 110.96975529576441, 500.5823256454945, 63.25078992876911, 281.7654711692896, 120.03987348000271, 41.671616841097446, 299.19932298769993, 3374.285049758406, 2282.2241843182883, 219.27012642912356, 634.449550871312, 593.5533630983425, 3302.21474078363, 1074.6773823312215, 641.8117942108588, 669.2212898476596, 1389.8987573334803, 449.35939331634114, 1586.4333292490999, 1195.8704123243965, 2507.8593000801607, 1207.36073921747, 1238.6976117721404, 643.3756410992089, 1496.6321477709741, 1806.7760148343186, 582.8607382437913, 3052.1060236864905, 1322.512092523854, 1329.7624417891325, 1893.9506445635948, 1530.947237028789, 740.2223281482916, 953.0151944278093, 2186.561954122108, 1191.0735513832217, 1801.3726977616489, 1787.14789739806, 821.6995171299793, 1032.648013560678, 1421.078758420032, 1563.7875480811626, 1675.6450405527785, 1354.6978117472, 1437.5472602021225, 1804.4680445769918, 1562.104832006228, 1483.1423237373874, 6.854933001465108, 23.417218372820727, 38.22424078958974, 29.488530718959854, 7.773625421686559, 7.799110241311704, 24.320779431127377, 70.5114489933541, 14.54931228021119, 8.731632589471303, 9.93259019422564, 33.98666493671777, 27.449978091833877, 15.566211837012958, 39.19785835622055, 21.34131003395692, 10.72914595472558, 15.68233293168744, 24.45753856944516, 8.691990583941188, 8.754400866299054, 11.801348526302409, 17.644130726483237, 5.848477129901643, 23.327594410250605, 15.754212105469179, 11.760848887462377, 24.521552556334598, 23.296533060314353, 13.69398881504757, 32.20493481110101, 67.81517252793346, 37.00646812838773, 26.349946250891517, 106.483528011045, 78.56874796273107, 120.39394559315566, 788.1112538636767, 893.7800262538857, 1518.063243289688, 1241.9841807722378, 2282.2241843182883, 1563.7875480811626, 1322.512092523854, 922.9749733820852, 1787.14789739806, 1191.0735513832217, 3052.1060236864905, 992.617041146364, 1437.5472602021225, 802.1253422391695, 483.6517578212806, 514.7058567414638, 2507.8593000801607, 2186.561954122108, 1389.8987573334803, 1150.8236339903922, 382.9020166701435, 1562.104832006228, 1354.6978117472, 538.4179135202534, 971.2678819417276, 1804.4680445769918, 1893.9506445635948, 1483.1423237373874, 1586.4333292490999, 1801.3726977616489, 3302.21474078363, 1675.6450405527785, 793.634160896188, 1032.648013560678, 3374.285049758406, 1496.6321477709741, 1530.947237028789, 1806.7760148343186, 1238.6976117721404, 1329.7624417891325, 1421.078758420032, 8.794018602739827, 16.52052048760936, 11.653577720278308, 9.754221970725563, 18.47370871931507, 7.791365930474878, 17.380630428490687, 5.866434139469762, 10.71942052701239, 31.26535191347488, 27.37099715198867, 14.58225029728614, 9.65875729010224, 13.659728978771522, 19.681815113755505, 11.702917871991977, 6.806614398624657, 7.811189093132475, 12.646059200306233, 20.56230986814035, 8.722146311490798, 6.850321293105071, 28.21040117363378, 15.640986747877673, 27.01049247345226, 12.757373260076259, 12.76627997653832, 130.83252864085534, 13.659862219464983, 10.678562308625466, 209.4617632653513, 52.02405669022923, 118.39776487439939, 742.4302281551913, 17.611498123711076, 146.03569946115024, 98.77594817942943, 40.922892421424436, 32.916861187993675, 495.60017620013275, 685.9949426324065, 720.6093625959877, 2507.8593000801607, 112.16563115645121, 1483.1423237373874, 1563.7875480811626, 1195.8704123243965, 329.05984299279487, 448.6115768023265, 633.586403827893, 279.4567913352972, 3374.285049758406, 401.7639455747104, 1801.3726977616489, 1496.6321477709741, 937.3612118794283, 598.8418026223952, 1421.078758420032, 708.6196841192914, 1806.7760148343186, 793.634160896188, 3302.21474078363, 378.52126079951245, 1437.5472602021225, 3052.1060236864905, 1804.4680445769918, 1787.14789739806, 1518.063243289688, 875.5104942055162, 2186.561954122108, 1530.947237028789, 1562.104832006228, 1058.4045573191347, 1329.7624417891325, 935.5104518589269, 1151.5055453352138, 1241.9841807722378, 1207.36073921747, 1586.4333292490999, 1893.9506445635948, 1675.6450405527785, 1389.8987573334803, 1322.512092523854, 2282.2241843182883, 30.90791853927608, 11.62625508773694, 7.727570423335397, 279.4567913352972, 10.667718351335637, 6.758172097355188, 9.711454568924156, 7.792919676346011, 10.612697135130928, 16.397812569370267, 6.754221713884638, 9.719453208856894, 44.26315861261547, 6.775228411832201, 9.715318638865883, 8.701373627757901, 12.553151214287361, 14.62678958037449, 154.82673771784624, 26.16021686228647, 9.660431507141244, 5.85133381041548, 27.96600350560637, 9.67915267791989, 16.47066957496214, 6.800719129824463, 25.382210012147628, 21.320401568638708, 5.838427110469545, 8.711828249819572, 69.92171742841062, 44.34867058030105, 45.604842087898234, 26.134285498220617, 20.250485818661588, 188.77637141127607, 64.01897759630114, 110.5729925041132, 144.92298738659582, 1238.6976117721404, 119.62002096462976, 130.1462943627477, 759.0910379941984, 3302.21474078363, 1893.9506445635948, 264.43812783598935, 1675.6450405527785, 577.2218484473409, 580.2907209310295, 3052.1060236864905, 988.5447837694251, 671.887107305555, 2186.561954122108, 452.34796800372976, 536.9197373097363, 548.7008768013679, 1562.104832006228, 1207.36073921747, 1354.6978117472, 1518.063243289688, 1151.5055453352138, 1586.4333292490999, 325.28272480972146, 1804.4680445769918, 1150.8236339903922, 795.6567468907156, 683.0437044334469, 1058.4045573191347, 3374.285049758406, 2282.2241843182883, 1421.078758420032, 1806.7760148343186, 1329.7624417891325, 1389.8987573334803, 1010.139552140572, 1801.3726977616489, 1530.947237028789, 1191.0735513832217, 1787.14789739806, 1496.6321477709741, 2507.8593000801607, 1241.9841807722378, 1322.512092523854, 19.960096948285695, 15.369802872200012, 10.503306993708083, 20.963441048620542, 130.40040553770763, 12.471351646373822, 39.361720977573206, 13.45861981528665, 11.555163009641209, 8.662697301343842, 6.702890078208869, 15.37379254611125, 6.746183218142237, 26.849137713341047, 6.754927645747756, 6.726134768324563, 9.62678456507678, 22.93176648241923, 5.767782703046146, 9.606532139273192, 7.693718627041211, 9.682702822294168, 8.686214316665252, 11.504966637476029, 7.726616730907976, 48.69774922046696, 12.496944530685495, 7.719568531261581, 7.743836859706093, 20.312148367457752, 94.42305819045865, 38.499070814834475, 65.65886977240773, 191.23414509654822, 69.46338315171548, 68.70213964655602, 26.948173862881788, 37.47230574271597, 58.10755872796109, 464.6263596609441, 34.699848453144185, 312.00550676323417, 1354.6978117472, 474.7182862369831, 661.3028245081243, 1241.9841807722378, 992.617041146364, 1151.5055453352138, 641.8307731165, 1804.4680445769918, 1675.6450405527785, 1437.5472602021225, 1530.947237028789, 1483.1423237373874, 341.5896129401835, 1806.7760148343186, 3374.285049758406, 388.35647216834167, 548.7008768013679, 2507.8593000801607, 1801.3726977616489, 2282.2241843182883, 922.9749733820852, 300.1975430909378, 1893.9506445635948, 1787.14789739806, 802.1253422391695, 988.5447837694251, 3052.1060236864905, 551.4917149980705, 1421.078758420032, 1150.8236339903922, 2186.561954122108, 1496.6321477709741, 1562.104832006228, 1586.4333292490999, 1329.7624417891325, 3302.21474078363, 1058.4045573191347, 1563.7875480811626, 971.2678819417276, 1518.063243289688, 1322.512092523854], \"Category\": [\"Default\", \"Default\", \"Default\", \"Default\", \"Default\", \"Default\", \"Default\", \"Default\", \"Default\", \"Default\", \"Default\", \"Default\", \"Default\", \"Default\", \"Default\", \"Default\", \"Default\", \"Default\", \"Default\", \"Default\", \"Default\", \"Default\", \"Default\", \"Default\", \"Default\", \"Default\", \"Default\", \"Default\", \"Default\", \"Default\", \"Topic1\", \"Topic1\", \"Topic1\", \"Topic1\", \"Topic1\", \"Topic1\", \"Topic1\", \"Topic1\", \"Topic1\", \"Topic1\", \"Topic1\", \"Topic1\", \"Topic1\", \"Topic1\", \"Topic1\", \"Topic1\", \"Topic1\", \"Topic1\", \"Topic1\", \"Topic1\", \"Topic1\", \"Topic1\", \"Topic1\", \"Topic1\", \"Topic1\", \"Topic1\", \"Topic1\", \"Topic1\", \"Topic1\", \"Topic1\", \"Topic1\", \"Topic1\", \"Topic1\", \"Topic1\", \"Topic1\", \"Topic1\", \"Topic1\", \"Topic1\", \"Topic1\", \"Topic1\", \"Topic1\", \"Topic1\", \"Topic1\", \"Topic1\", \"Topic1\", \"Topic1\", \"Topic1\", \"Topic1\", \"Topic1\", \"Topic1\", \"Topic1\", \"Topic1\", \"Topic1\", \"Topic1\", \"Topic1\", \"Topic1\", \"Topic1\", \"Topic1\", \"Topic1\", \"Topic1\", \"Topic1\", \"Topic1\", \"Topic1\", \"Topic1\", \"Topic1\", \"Topic1\", \"Topic1\", \"Topic1\", \"Topic1\", \"Topic1\", \"Topic1\", \"Topic1\", \"Topic1\", \"Topic1\", \"Topic1\", \"Topic1\", \"Topic1\", \"Topic1\", \"Topic1\", \"Topic1\", \"Topic1\", \"Topic1\", \"Topic1\", \"Topic2\", \"Topic2\", \"Topic2\", \"Topic2\", \"Topic2\", \"Topic2\", \"Topic2\", \"Topic2\", \"Topic2\", \"Topic2\", \"Topic2\", \"Topic2\", \"Topic2\", \"Topic2\", \"Topic2\", \"Topic2\", \"Topic2\", \"Topic2\", \"Topic2\", \"Topic2\", \"Topic2\", \"Topic2\", \"Topic2\", \"Topic2\", \"Topic2\", \"Topic2\", \"Topic2\", \"Topic2\", \"Topic2\", \"Topic2\", \"Topic2\", \"Topic2\", \"Topic2\", \"Topic2\", \"Topic2\", \"Topic2\", \"Topic2\", \"Topic2\", \"Topic2\", \"Topic2\", \"Topic2\", \"Topic2\", \"Topic2\", \"Topic2\", \"Topic2\", \"Topic2\", \"Topic2\", \"Topic2\", \"Topic2\", \"Topic2\", \"Topic2\", \"Topic2\", \"Topic2\", \"Topic2\", \"Topic2\", \"Topic2\", \"Topic2\", \"Topic2\", \"Topic2\", \"Topic2\", \"Topic2\", \"Topic2\", \"Topic2\", \"Topic2\", \"Topic2\", \"Topic2\", \"Topic2\", \"Topic2\", \"Topic2\", \"Topic2\", \"Topic2\", \"Topic2\", \"Topic2\", \"Topic2\", \"Topic2\", \"Topic2\", \"Topic2\", \"Topic2\", \"Topic3\", \"Topic3\", \"Topic3\", \"Topic3\", \"Topic3\", \"Topic3\", \"Topic3\", \"Topic3\", \"Topic3\", \"Topic3\", \"Topic3\", \"Topic3\", \"Topic3\", \"Topic3\", \"Topic3\", \"Topic3\", \"Topic3\", \"Topic3\", \"Topic3\", \"Topic3\", \"Topic3\", \"Topic3\", \"Topic3\", \"Topic3\", \"Topic3\", \"Topic3\", \"Topic3\", \"Topic3\", \"Topic3\", \"Topic3\", \"Topic3\", \"Topic3\", \"Topic3\", \"Topic3\", \"Topic3\", \"Topic3\", \"Topic3\", \"Topic3\", \"Topic3\", \"Topic3\", \"Topic3\", \"Topic3\", \"Topic3\", \"Topic3\", \"Topic3\", \"Topic3\", \"Topic3\", \"Topic3\", \"Topic3\", \"Topic3\", \"Topic3\", \"Topic3\", \"Topic3\", \"Topic3\", \"Topic3\", \"Topic3\", \"Topic3\", \"Topic3\", \"Topic3\", \"Topic3\", \"Topic3\", \"Topic3\", \"Topic3\", \"Topic3\", \"Topic3\", \"Topic3\", \"Topic3\", \"Topic3\", \"Topic3\", \"Topic3\", \"Topic3\", \"Topic3\", \"Topic3\", \"Topic3\", \"Topic3\", \"Topic3\", \"Topic3\", \"Topic3\", \"Topic3\", \"Topic3\", \"Topic3\", \"Topic3\", \"Topic3\", \"Topic3\", \"Topic4\", \"Topic4\", \"Topic4\", \"Topic4\", \"Topic4\", \"Topic4\", \"Topic4\", \"Topic4\", \"Topic4\", \"Topic4\", \"Topic4\", \"Topic4\", \"Topic4\", \"Topic4\", \"Topic4\", \"Topic4\", \"Topic4\", \"Topic4\", \"Topic4\", \"Topic4\", \"Topic4\", \"Topic4\", \"Topic4\", \"Topic4\", \"Topic4\", \"Topic4\", \"Topic4\", \"Topic4\", \"Topic4\", \"Topic4\", \"Topic4\", \"Topic4\", \"Topic4\", \"Topic4\", \"Topic4\", \"Topic4\", \"Topic4\", \"Topic4\", \"Topic4\", \"Topic4\", \"Topic4\", \"Topic4\", \"Topic4\", \"Topic4\", \"Topic4\", \"Topic4\", \"Topic4\", \"Topic4\", \"Topic4\", \"Topic4\", \"Topic4\", \"Topic4\", \"Topic4\", \"Topic4\", \"Topic4\", \"Topic4\", \"Topic4\", \"Topic4\", \"Topic4\", \"Topic4\", \"Topic4\", \"Topic4\", \"Topic4\", \"Topic4\", \"Topic4\", \"Topic4\", \"Topic4\", \"Topic4\", \"Topic4\", \"Topic4\", \"Topic4\", \"Topic4\", \"Topic4\", \"Topic4\", \"Topic4\", \"Topic4\", \"Topic4\", \"Topic4\", \"Topic4\", \"Topic4\", \"Topic4\", \"Topic4\", \"Topic4\", \"Topic5\", \"Topic5\", \"Topic5\", \"Topic5\", \"Topic5\", \"Topic5\", \"Topic5\", \"Topic5\", \"Topic5\", \"Topic5\", \"Topic5\", \"Topic5\", \"Topic5\", \"Topic5\", \"Topic5\", \"Topic5\", \"Topic5\", \"Topic5\", \"Topic5\", \"Topic5\", \"Topic5\", \"Topic5\", \"Topic5\", \"Topic5\", \"Topic5\", \"Topic5\", \"Topic5\", \"Topic5\", \"Topic5\", \"Topic5\", \"Topic5\", \"Topic5\", \"Topic5\", \"Topic5\", \"Topic5\", \"Topic5\", \"Topic5\", \"Topic5\", \"Topic5\", \"Topic5\", \"Topic5\", \"Topic5\", \"Topic5\", \"Topic5\", \"Topic5\", \"Topic5\", \"Topic5\", \"Topic5\", \"Topic5\", \"Topic5\", \"Topic5\", \"Topic5\", \"Topic5\", \"Topic5\", \"Topic5\", \"Topic5\", \"Topic5\", \"Topic5\", \"Topic5\", \"Topic5\", \"Topic5\", \"Topic5\", \"Topic5\", \"Topic5\", \"Topic5\", \"Topic5\", \"Topic5\", \"Topic5\", \"Topic5\", \"Topic5\", \"Topic5\", \"Topic5\", \"Topic5\", \"Topic5\", \"Topic5\", \"Topic5\", \"Topic5\", \"Topic5\", \"Topic5\", \"Topic5\", \"Topic5\", \"Topic5\", \"Topic5\"], \"logprob\": [30.0, 29.0, 28.0, 27.0, 26.0, 25.0, 24.0, 23.0, 22.0, 21.0, 20.0, 19.0, 18.0, 17.0, 16.0, 15.0, 14.0, 13.0, 12.0, 11.0, 10.0, 9.0, 8.0, 7.0, 6.0, 5.0, 4.0, 3.0, 2.0, 1.0, -8.8809, -10.3883, -9.3065, -9.1023, -9.5287, -8.1771, -10.6501, -9.0771, -7.685, -10.2621, -9.7778, -10.4117, -10.1904, -9.8617, -9.0707, -10.316, -10.1337, -8.701, -10.3394, -10.339, -10.1459, -10.6052, -9.8403, -10.4737, -9.9106, -10.3567, -9.3766, -6.4573, -10.4767, -9.7845, -7.5259, -7.5912, -9.0314, -9.6267, -5.9615, -7.915, -6.5027, -8.4705, -7.0755, -7.8815, -8.8805, -7.0475, -4.8161, -5.1914, -7.3467, -6.3711, -6.4356, -4.8756, -5.9133, -6.3952, -6.3684, -5.7408, -6.7505, -5.6616, -5.9109, -5.2743, -5.9115, -5.8995, -6.4596, -5.7533, -5.615, -6.5466, -5.1996, -5.8834, -5.8857, -5.6156, -5.7944, -6.3571, -6.1655, -5.537, -5.9985, -5.7103, -5.7282, -6.2845, -6.1271, -5.931, -5.8766, -5.8791, -5.9978, -5.9762, -5.8736, -5.9843, -6.0658, -10.2824, -9.0546, -8.6078, -8.8779, -10.2285, -10.2887, -9.1654, -8.1072, -9.6906, -10.2279, -10.1007, -8.8835, -9.1095, -9.6942, -8.7737, -9.3871, -10.0828, -9.7048, -9.2604, -10.3007, -10.2937, -9.9956, -9.594, -10.6991, -9.3168, -9.71, -10.0098, -9.28, -9.3327, -9.8647, -9.0112, -8.2799, -8.9051, -9.2433, -7.9452, -8.2286, -7.8546, -6.1273, -6.025, -5.5551, -5.7459, -5.2068, -5.5734, -5.7278, -6.0482, -5.4711, -5.8306, -5.0126, -6.006, -5.6875, -6.1963, -6.6638, -6.6174, -5.2582, -5.3766, -5.7666, -5.9346, -6.8779, -5.6993, -5.8411, -6.6137, -6.1375, -5.6449, -5.623, -5.8145, -5.7642, -5.6663, -5.2141, -5.7438, -6.3219, -6.1434, -5.3394, -5.9424, -5.9632, -5.907, -6.0499, -6.0397, -6.0357, -10.1187, -9.4984, -9.8687, -10.0647, -9.4418, -10.3127, -9.5106, -10.6004, -10.0189, -8.9673, -9.1216, -9.7548, -10.1682, -9.8383, -9.4754, -9.9991, -10.5429, -10.4072, -9.9285, -9.4452, -10.3029, -10.5455, -9.1307, -9.7233, -9.1771, -9.9355, -9.939, -7.6129, -9.8766, -10.1265, -7.1818, -8.56, -7.7686, -6.067, -9.6321, -7.6235, -8.005, -8.842, -9.045, -6.5516, -6.2624, -6.2369, -5.1113, -7.9329, -5.6153, -5.5754, -5.8248, -6.9742, -6.6991, -6.3955, -7.1263, -4.9345, -6.8101, -5.5099, -5.6844, -6.0991, -6.4856, -5.7477, -6.3431, -5.5513, -6.2574, -5.0624, -6.882, -5.779, -5.1759, -5.6114, -5.6323, -5.7682, -6.2036, -5.4955, -5.78, -5.7781, -6.098, -5.9687, -6.2029, -6.0842, -6.0485, -6.0818, -5.9571, -5.8866, -5.9636, -6.0535, -6.0897, -6.0901, -8.5475, -9.6954, -10.1725, -6.6203, -9.8938, -10.3977, -10.0401, -10.3047, -9.9988, -9.567, -10.4561, -10.1084, -8.5961, -10.4736, -10.1226, -10.2393, -9.8774, -9.7264, -7.3703, -9.15, -10.1545, -10.6565, -9.0941, -10.1558, -9.6244, -10.5103, -9.1962, -9.3737, -10.6703, -10.2706, -8.197, -8.6606, -8.6372, -9.1843, -9.4498, -7.3369, -8.3597, -7.8547, -7.6315, -5.6693, -7.8243, -7.7506, -6.1745, -4.8545, -5.3727, -7.1367, -5.5111, -6.4496, -6.4453, -5.0091, -5.9938, -6.33, -5.3345, -6.69, -6.5485, -6.5416, -5.6803, -5.9055, -5.8275, -5.7442, -5.9751, -5.7384, -7.0107, -5.6417, -6.0089, -6.3077, -6.427, -6.0927, -5.2062, -5.5082, -5.872, -5.7029, -5.9546, -5.9548, -6.1681, -5.8173, -5.9301, -6.0828, -5.8989, -6.0417, -5.8707, -6.1175, -6.1107, -9.2004, -9.5069, -9.9246, -9.2396, -7.4239, -9.8137, -8.6663, -9.7577, -9.9207, -10.2311, -10.5074, -9.6814, -10.5102, -9.1344, -10.5182, -10.5294, -10.171, -9.3143, -10.6964, -10.1892, -10.4165, -10.1871, -10.2959, -10.0172, -10.4202, -8.5889, -9.9496, -10.4354, -10.4322, -9.4741, -7.9415, -8.8473, -8.3247, -7.2888, -8.2723, -8.2886, -9.2024, -8.8859, -8.4978, -6.5746, -8.9888, -6.9656, -5.6568, -6.6202, -6.3299, -5.7689, -5.9789, -5.8541, -6.377, -5.4574, -5.5388, -5.6832, -5.6333, -5.6626, -6.9442, -5.5132, -4.9765, -6.8423, -6.5495, -5.2875, -5.5783, -5.3942, -6.1408, -7.0663, -5.5614, -5.6224, -6.2744, -6.1094, -5.2516, -6.5807, -5.8736, -6.0349, -5.5637, -5.8448, -5.8243, -5.8418, -5.9589, -5.4001, -6.1257, -5.9365, -6.1719, -6.0406, -6.1136], \"loglift\": [30.0, 29.0, 28.0, 27.0, 26.0, 25.0, 24.0, 23.0, 22.0, 21.0, 20.0, 19.0, 18.0, 17.0, 16.0, 15.0, 14.0, 13.0, 12.0, 11.0, 10.0, 9.0, 8.0, 7.0, 6.0, 5.0, 4.0, 3.0, 2.0, 1.0, 0.8591, 0.8112, 0.7935, 0.7827, 0.7295, 0.7205, 0.7096, 0.7058, 0.6944, 0.6909, 0.6654, 0.6603, 0.657, 0.6556, 0.6528, 0.6376, 0.6275, 0.6244, 0.6192, 0.6138, 0.6102, 0.6084, 0.6083, 0.6054, 0.6048, 0.6028, 0.6023, 0.6, 0.5979, 0.5973, 0.5545, 0.534, 0.5707, 0.5867, 0.4489, 0.5256, 0.4314, 0.5323, 0.4333, 0.4805, 0.5396, 0.4012, 0.2098, 0.2255, 0.4129, 0.326, 0.3281, 0.1719, 0.2568, 0.2904, 0.2754, 0.1721, 0.2915, 0.1191, 0.1523, 0.0484, 0.1422, 0.1286, 0.2235, 0.0856, 0.0356, 0.2354, -0.0733, 0.0791, 0.0714, -0.0121, 0.0218, 0.1858, 0.1247, -0.0772, 0.0688, -0.0567, -0.0667, 0.154, 0.0828, -0.0403, -0.0816, -0.1532, -0.0593, -0.0971, -0.2218, -0.1882, -0.2179, 0.9425, 0.9418, 0.8985, 0.888, 0.8706, 0.8071, 0.7931, 0.7869, 0.7817, 0.755, 0.7533, 0.7404, 0.728, 0.7106, 0.7075, 0.7021, 0.6941, 0.6926, 0.6926, 0.6868, 0.6866, 0.6861, 0.6855, 0.6846, 0.6834, 0.6827, 0.6752, 0.6704, 0.6688, 0.6682, 0.6665, 0.6532, 0.6336, 0.6351, 0.5367, 0.5573, 0.5045, 0.3529, 0.3294, 0.2696, 0.2795, 0.2102, 0.2216, 0.2348, 0.2741, 0.1903, 0.2367, 0.1136, 0.2435, 0.1917, 0.2663, 0.3047, 0.2888, 0.0644, 0.0832, 0.1463, 0.1671, 0.3242, 0.0967, 0.0974, 0.2475, 0.1337, 0.0069, -0.0196, 0.0334, 0.0164, -0.0128, -0.1666, -0.0179, 0.1514, 0.0666, -0.3135, -0.1036, -0.1469, -0.2564, -0.0219, -0.0826, -0.145, 0.8571, 0.8469, 0.8255, 0.8074, 0.7917, 0.7841, 0.7839, 0.7802, 0.7589, 0.7401, 0.7188, 0.7152, 0.7137, 0.6971, 0.6948, 0.6909, 0.6891, 0.6871, 0.684, 0.6812, 0.6811, 0.68, 0.6795, 0.6767, 0.6766, 0.6682, 0.6641, 0.6631, 0.6588, 0.6551, 0.6235, 0.6381, 0.6072, 0.473, 0.6492, 0.5425, 0.552, 0.5962, 0.6109, 0.3925, 0.3565, 0.3329, 0.2114, 0.497, 0.2327, 0.2196, 0.2385, 0.3795, 0.3446, 0.3029, 0.3907, 0.0914, 0.3439, 0.1437, 0.1545, 0.2077, 0.2693, 0.1429, 0.2434, 0.0992, 0.2158, -0.0149, 0.3316, 0.1002, -0.0497, 0.0404, 0.0292, 0.0564, 0.1714, -0.0357, 0.0362, 0.0179, 0.0873, -0.0116, 0.1058, 0.0169, -0.0231, -0.0282, -0.1765, -0.2832, -0.2377, -0.1406, -0.1271, -0.6732, 1.1713, 1.0012, 0.9326, 0.8967, 0.8888, 0.8414, 0.8364, 0.792, 0.789, 0.7857, 0.7836, 0.7673, 0.7636, 0.763, 0.7535, 0.7471, 0.7425, 0.7406, 0.7372, 0.7356, 0.7274, 0.7267, 0.7247, 0.7241, 0.7239, 0.7226, 0.7196, 0.7165, 0.7151, 0.7145, 0.7055, 0.6972, 0.6926, 0.7023, 0.6919, 0.5724, 0.6309, 0.5895, 0.5421, 0.3587, 0.5412, 0.5306, 0.3432, 0.193, 0.2308, 0.4356, 0.2148, 0.342, 0.341, 0.1172, 0.2598, 0.3098, 0.1253, 0.3454, 0.3155, 0.3007, 0.1158, 0.1482, 0.1111, 0.0805, 0.126, 0.0422, 0.3544, 0.0101, 0.0927, 0.163, 0.1963, 0.0926, -0.1803, -0.0912, 0.0187, -0.0523, 0.0025, -0.0419, 0.0639, -0.1638, -0.1139, -0.0155, -0.2374, -0.2028, -0.548, -0.0921, -0.1481, 0.9557, 0.9106, 0.8736, 0.8675, 0.8553, 0.8127, 0.8108, 0.7926, 0.7821, 0.7598, 0.7399, 0.7358, 0.7307, 0.7253, 0.7214, 0.7145, 0.7143, 0.703, 0.7012, 0.6982, 0.6929, 0.6924, 0.6922, 0.6898, 0.685, 0.6753, 0.6748, 0.6707, 0.6707, 0.6645, 0.6605, 0.6519, 0.6407, 0.6076, 0.6368, 0.6315, 0.6535, 0.6403, 0.5898, 0.4341, 0.6143, 0.4412, 0.2817, 0.367, 0.3257, 0.2565, 0.2706, 0.2469, 0.3086, 0.1944, 0.1871, 0.196, 0.1829, 0.1854, 0.3721, 0.1373, 0.0494, 0.3456, 0.2928, 0.0352, 0.0752, 0.0227, 0.1815, 0.3791, 0.0421, 0.0391, 0.1882, 0.1442, -0.1253, 0.2565, 0.0171, 0.0667, -0.1039, -0.0059, -0.0282, -0.0612, -0.0018, -0.3526, 0.0597, -0.1415, 0.0993, -0.216, -0.151]}, \"token.table\": {\"Topic\": [1, 2, 3, 4, 5, 1, 2, 3, 4, 5, 1, 2, 3, 4, 5, 1, 2, 3, 4, 5, 1, 2, 3, 4, 5, 1, 2, 3, 4, 5, 1, 2, 3, 4, 5, 1, 2, 3, 4, 5, 1, 2, 3, 4, 5, 1, 2, 3, 4, 5, 1, 2, 3, 4, 5, 1, 2, 3, 4, 5, 1, 2, 3, 4, 5, 1, 2, 3, 4, 5, 1, 2, 3, 4, 5, 1, 2, 3, 4, 5, 1, 2, 3, 4, 5, 1, 2, 3, 4, 5, 1, 2, 3, 4, 5, 1, 2, 3, 4, 5, 1, 2, 3, 4, 5, 1, 2, 3, 4, 5, 1, 2, 3, 4, 5, 1, 2, 3, 4, 5, 1, 2, 3, 4, 5, 1, 2, 3, 4, 5, 1, 2, 3, 4, 5, 1, 2, 3, 4, 5, 1, 2, 3, 4, 5, 1, 2, 3, 4, 5, 1, 2, 3, 4, 5, 1, 2, 3, 4, 5, 1, 2, 3, 4, 5, 1, 2, 3, 4, 5, 1, 2, 3, 4, 5, 1, 2, 3, 4, 5, 1, 2, 3, 4, 5, 1, 2, 3, 4, 5, 1, 2, 3, 4, 5, 1, 2, 3, 4, 5, 1, 2, 3, 4, 5, 1, 2, 3, 4, 5, 1, 2, 3, 4, 5, 1, 2, 3, 4, 5, 1, 2, 3, 4, 5, 1, 2, 3, 4, 5, 1, 2, 3, 4, 5, 1, 2, 3, 4, 5, 1, 2, 3, 4, 5, 1, 2, 3, 4, 5, 1, 2, 3, 4, 5, 1, 2, 3, 4, 5, 1, 2, 3, 4, 5, 1, 2, 3, 4, 5, 1, 2, 3, 4, 5, 1, 2, 3, 4, 5, 1, 2, 3, 4, 5, 1, 2, 3, 4, 5, 1, 2, 3, 4, 5, 1, 2, 3, 4, 5, 1, 2, 3, 4, 5, 1, 2, 3, 4, 5, 1, 2, 3, 4, 5, 1, 2, 3, 4, 5, 1, 2, 3, 4, 5, 1, 2, 3, 4, 5, 1, 2, 3, 4, 5, 1, 2, 3, 4, 5, 1, 2, 3, 4, 5, 1, 2, 3, 4, 5, 1, 2, 3, 4, 5, 1, 2, 3, 4, 5, 1, 2, 3, 4, 5, 1, 2, 3, 4, 5, 1, 2, 3, 4, 5, 1, 2, 3, 4, 5, 1, 2, 3, 4, 5, 1, 2, 3, 4, 5, 1, 2, 3, 4, 5, 1, 2, 3, 4, 5, 1, 2, 3, 4, 5, 1, 2, 3, 4, 5, 1, 2, 3, 4, 5, 1, 2, 3, 4, 5, 1, 2, 3, 4, 5, 1, 2, 3, 4, 5, 1, 2, 3, 4, 5, 1, 2, 3, 4, 5, 1, 2, 3, 4, 5, 1, 2, 3, 4, 5, 1, 2, 3, 4, 5, 1, 2, 3, 4, 5, 1, 2, 3, 4, 5, 1, 2, 3, 4, 5, 1, 2, 3, 4, 5, 1, 2, 3, 4, 5, 1, 2, 3, 4, 5, 1, 2, 3, 4, 5, 1, 2, 3, 4, 5, 1, 2, 3, 4, 5, 1, 2, 3, 4, 5, 1, 2, 3, 4, 5, 1, 2, 3, 4, 5, 1, 2, 3, 4, 5, 1, 2, 3, 4, 5, 1, 2, 3, 4, 5, 1, 2, 3, 4, 5, 1, 2, 3, 4, 5, 1, 2, 3, 4, 5, 1, 2, 3, 4, 5, 1, 2, 3, 4, 5, 1, 2, 3, 4, 5, 1, 2, 3, 4, 5, 1, 2, 3, 4, 5, 1, 2, 3, 4, 5, 1, 2, 3, 4, 5, 1, 2, 3, 4, 5, 1, 2, 3, 4, 5, 1, 2, 3, 4, 5, 1, 2, 3, 4, 5, 1, 2, 3, 4, 5, 1, 2, 3, 4, 5, 1, 2, 3, 4, 5, 1, 2, 3, 4, 5, 1, 2, 3, 4, 5, 1, 2, 3, 4, 5, 1, 2, 3, 4, 5, 1, 2, 3, 4, 5, 1, 2, 3, 5, 1, 2, 3, 4, 5, 1, 2, 3, 4, 5, 1, 2, 3, 4, 5, 1, 2, 3, 4, 5, 1, 3, 4, 5, 1, 2, 3, 4, 5, 1, 2, 3, 4, 5, 1, 2, 3, 4, 5, 1, 2, 3, 4, 5, 1, 2, 3, 4, 5, 1, 2, 3, 4, 5, 1, 2, 3, 4, 5, 1, 2, 3, 4, 5, 1, 2, 3, 4, 5, 1, 2, 3, 4, 5, 1, 2, 3, 4, 5, 1, 2, 3, 4, 5, 1, 2, 3, 4, 5, 1, 2, 3, 4, 5, 1, 2, 3, 4, 5, 1, 2, 3, 4, 5, 1, 2, 3, 4, 5, 1, 2, 3, 4, 5, 1, 2, 3, 4, 5, 1, 2, 3, 4, 5, 1, 2, 3, 4, 5, 1, 2, 3, 4, 5, 1, 2, 3, 4, 5, 1, 2, 3, 4, 5, 1, 2, 3, 4, 5, 1, 2, 3, 4, 5, 1, 2, 3, 4, 5, 1, 2, 3, 4, 5, 1, 2, 3, 4, 5, 1, 2, 3, 4, 5, 1, 2, 3, 4, 5, 1, 2, 3, 4, 5, 1, 2, 3, 4, 5, 1, 2, 3, 4, 5, 1, 2, 3, 4, 5, 1, 2, 3, 4, 5, 1, 2, 3, 4, 5, 1, 2, 3, 4, 5, 1, 2, 3, 4, 5, 1, 2, 3, 4, 5, 1, 2, 3, 4, 5, 1, 2, 3, 4, 5, 1, 2, 3, 4, 5, 1, 2, 3, 4, 5, 1, 2, 3, 4, 5, 1, 2, 3, 4, 5, 1, 2, 3, 4, 5, 1, 2, 3, 4, 5, 1, 2, 3, 4, 5, 1, 2, 3, 4, 5, 1, 2, 3, 4, 5, 1, 2, 3, 4, 5, 1, 2, 3, 4, 5, 1, 3, 4, 5, 1, 2, 3, 4, 5, 1, 2, 3, 4, 5, 1, 2, 3, 4, 5, 1, 2, 3, 4, 5, 1, 2, 3, 4, 5, 1, 2, 3, 4, 5, 1, 2, 3, 4, 5, 1, 2, 3, 4, 5, 1, 2, 3, 4, 5, 1, 2, 3, 4, 5, 1, 2, 3, 4, 5, 1, 2, 3, 4, 5, 1, 2, 3, 4, 5, 1, 2, 3, 4, 5, 1, 2, 3, 4, 5, 1, 2, 3, 4, 5, 1, 2, 3, 4, 5, 1, 2, 3, 4, 5, 1, 2, 3, 4, 5, 1, 2, 3, 4, 5, 1, 2, 3, 4, 5, 1, 2, 3, 4, 5, 1, 2, 3, 4, 5, 1, 2, 3, 4, 5, 1, 2, 3, 4, 5, 1, 2, 3, 4, 5, 1, 2, 3, 4, 5, 1, 2, 3, 4, 5, 1, 2, 3, 4, 5, 1, 2, 3, 4, 5, 1, 2, 3, 4, 5, 1, 2, 3, 4, 5, 1, 2, 3, 4, 5, 1, 2, 3, 4, 5, 1, 2, 3, 4, 5, 1, 2, 3, 4, 5, 1, 2, 3, 4, 5, 1, 2, 3, 4, 5, 1, 2, 3, 4, 5, 1, 2, 3, 4, 5, 1, 2, 3, 4, 5, 1, 2, 3, 4, 5, 1, 2, 3, 4, 5, 1, 2, 3, 4, 5, 1, 2, 3, 4, 5, 1, 2, 3, 4, 5, 1, 2, 3, 4, 5, 1, 2, 3, 4, 5, 1, 2, 3, 4, 5, 1, 2, 3, 4, 5, 1, 2, 3, 4, 5, 1, 2, 3, 4, 5, 1, 2, 3, 4, 5, 1, 2, 3, 4, 5, 1, 2, 3, 4, 5, 1, 2, 3, 4, 5, 1, 2, 3, 4, 5, 1, 2, 3, 4, 5, 1, 2, 3, 4, 5, 1, 2, 3, 4, 5, 1, 2, 3, 4, 5, 1, 2, 3, 4, 5, 1, 2, 3, 4, 5, 1, 2, 3, 4, 5, 1, 2, 3, 4, 5, 1, 2, 3, 4, 5, 1, 2, 3, 4, 5, 1, 2, 3, 4, 5, 1, 2, 3, 4, 5, 1, 2, 3, 4, 5, 1, 2, 3, 4, 5, 1, 2, 3, 4, 5, 1, 2, 3, 4, 5, 1, 2, 3, 4, 5, 1, 2, 3, 4, 5, 1, 2, 3, 4, 5, 1, 2, 3, 4, 5, 1, 2, 3, 4, 5, 1, 2, 3, 4, 5, 1, 2, 3, 4, 5, 1, 2, 3, 4, 5, 1, 2, 3, 4, 5, 1, 2, 3, 4, 5, 1, 2, 3, 4, 5, 1, 2, 3, 4, 5, 1, 2, 3, 4, 5, 1, 2, 3, 4, 5, 1, 2, 3, 4, 5, 1, 2, 3, 4, 5, 1, 2, 3, 4, 5, 1, 2, 3, 4, 5, 1, 2, 3, 4, 5, 1, 2, 3, 4, 5, 1, 2, 3, 4, 5, 1, 2, 3, 4, 5, 1, 2, 3, 4, 5, 1, 2, 3, 4, 5, 1, 2, 3, 4, 5, 1, 2, 3, 4, 5, 1, 2, 3, 4, 5, 1, 2, 3, 4, 5, 1, 2, 3, 4, 5, 1, 2, 3, 4, 5, 1, 2, 3, 4, 5], \"Freq\": [0.09303763875541224, 0.12882134596903233, 0.28984802843032276, 0.45445308161297515, 0.03220533649225808, 0.49164258833441166, 0.05085957810355983, 0.24582129416720583, 0.10171915620711966, 0.11019575255771295, 0.4451420552880437, 0.09490338234567429, 0.1785087429835302, 0.1536530952263298, 0.12879744746912938, 0.12848341143889927, 0.38545023431669784, 0.12848341143889927, 0.19272511715834892, 0.12848341143889927, 0.12811086065977675, 0.512443442639107, 0.12811086065977675, 0.08540724043985116, 0.12811086065977675, 0.3822097121738249, 0.19879638280248477, 0.16566365233540398, 0.1443640398922806, 0.10768137401801259, 0.22853197677915926, 0.23722140555403226, 0.1468513462953533, 0.20333263333202764, 0.18508483290479438, 0.28477563284607, 0.21540720946048886, 0.20202032073695564, 0.14482179619095012, 0.1533407253786531, 0.5043773753368306, 0.12609434383420765, 0.12609434383420765, 0.12609434383420765, 0.12609434383420765, 0.19129806853789297, 0.38259613707578594, 0.19129806853789297, 0.12753204569192864, 0.12753204569192864, 0.15784013158467225, 0.1352915413582905, 0.11274295113190874, 0.360777443622108, 0.20293731203743573, 0.25508362778116656, 0.42513937963527765, 0.17005575185411106, 0.08502787592705553, 0.17005575185411106, 0.45878457956897606, 0.09175691591379521, 0.09175691591379521, 0.09175691591379521, 0.18351383182759043, 0.1891561219977728, 0.3783122439955456, 0.13511151571269484, 0.10808921257015588, 0.1891561219977728, 0.187613727026784, 0.140710295270088, 0.140710295270088, 0.375227454053568, 0.140710295270088, 0.13715304285870158, 0.13715304285870158, 0.4114591285761048, 0.13715304285870158, 0.13715304285870158, 0.17162049848512667, 0.17162049848512667, 0.17162049848512667, 0.37184441338444113, 0.10011195744965723, 0.17529418979050476, 0.25588921957924254, 0.1470859293644465, 0.19443550936532997, 0.2266735212808251, 0.2748303328992528, 0.20423171527375664, 0.1651503376596427, 0.19288550886965905, 0.16262895845873215, 0.12834719982649445, 0.12834719982649445, 0.3850415994794833, 0.2566943996529889, 0.12834719982649445, 0.17090120516111762, 0.17090120516111762, 0.17090120516111762, 0.34180241032223524, 0.17090120516111762, 0.15781524483138246, 0.33224262069764726, 0.16612131034882363, 0.17442737586626483, 0.17442737586626483, 0.3020360189373427, 0.402714691916457, 0.10067867297911424, 0.10067867297911424, 0.10067867297911424, 0.24978859468540887, 0.16513801537535364, 0.27476745415394976, 0.17207658744994833, 0.13738372707697488, 0.20445214670148976, 0.1804661406638848, 0.23414910655757207, 0.20445214670148976, 0.17589737760910293, 0.22960438088760363, 0.40818556602240647, 0.10204639150560162, 0.12755798938200202, 0.12755798938200202, 0.14598955808178926, 0.09220393142007743, 0.2381934895018667, 0.3150300990185979, 0.20745884569517423, 0.21322328648860348, 0.16753258224104559, 0.10661164324430174, 0.18276281699023156, 0.33506516448209117, 0.20510310779511404, 0.20510310779511404, 0.06836770259837135, 0.4102062155902281, 0.06836770259837135, 0.19227550550923939, 0.19227550550923939, 0.16719609174716468, 0.3176725743196129, 0.12539706881037352, 0.4446158933430835, 0.22230794667154175, 0.11115397333577087, 0.11115397333577087, 0.11115397333577087, 0.158152035216755, 0.158152035216755, 0.3953800880418875, 0.158152035216755, 0.158152035216755, 0.140572438862778, 0.42171731658833406, 0.140572438862778, 0.140572438862778, 0.18742991848370402, 0.15180296619636047, 0.37950741549090117, 0.18975370774545058, 0.18975370774545058, 0.07590148309818023, 0.30464317807421726, 0.1305613620318074, 0.211385062337212, 0.18029902375821022, 0.1725275141134598, 0.0796612725306655, 0.159322545061331, 0.2389838175919965, 0.3983063626533275, 0.0796612725306655, 0.1730828027550345, 0.1730828027550345, 0.1730828027550345, 0.1730828027550345, 0.346165605510069, 0.43053860367194163, 0.21526930183597082, 0.1435128678906472, 0.1435128678906472, 0.1435128678906472, 0.18436722242405326, 0.4396449150112039, 0.1418209403261948, 0.1418209403261948, 0.09927465822833637, 0.4141741136796973, 0.13805803789323245, 0.1972257684189035, 0.13805803789323245, 0.11176126877071198, 0.20789233866109874, 0.23041400868271775, 0.1455246370627691, 0.2598654233263734, 0.15591925399582404, 0.12940677926146638, 0.12940677926146638, 0.12940677926146638, 0.5176271170458655, 0.12940677926146638, 0.14898057593903447, 0.18622571992379308, 0.14898057593903447, 0.14898057593903447, 0.37245143984758616, 0.2906045482561747, 0.1532278527168921, 0.27475339107856517, 0.1585115717760953, 0.12416739789127464, 0.3011008213644381, 0.14669774269231975, 0.21604576651050728, 0.15440307867211836, 0.1816681136775596, 0.22372304541069044, 0.15488518528432413, 0.1893041153475073, 0.120466255221141, 0.30977037056864826, 0.14179167376529583, 0.24813542908926772, 0.38992710285456356, 0.14179167376529583, 0.10634375532397189, 0.2545541391277733, 0.35637579477888265, 0.152732483476664, 0.10182165565110933, 0.152732483476664, 0.14588034628292787, 0.5835213851317115, 0.14588034628292787, 0.14588034628292787, 0.14588034628292787, 0.20577289246863098, 0.20577289246863098, 0.20577289246863098, 0.41154578493726196, 0.10288644623431549, 0.5348674223339804, 0.0764096317619972, 0.2292288952859916, 0.0764096317619972, 0.0764096317619972, 0.5000723816695472, 0.10001447633390942, 0.20002895266781884, 0.10001447633390942, 0.10001447633390942, 0.29608015139273997, 0.14804007569636998, 0.14804007569636998, 0.14804007569636998, 0.29608015139273997, 0.18214195763847055, 0.12142797175898036, 0.12142797175898036, 0.3642839152769411, 0.18214195763847055, 0.25293672057181193, 0.15552564218966994, 0.21751451025103302, 0.17545063549510806, 0.19869646101811922, 0.2050394184182412, 0.1025197092091206, 0.4100788368364824, 0.1025197092091206, 0.1025197092091206, 0.5007582377770866, 0.12518955944427165, 0.2503791188885433, 0.12518955944427165, 0.12518955944427165, 0.2590818375276665, 0.2590818375276665, 0.12954091876383325, 0.12954091876383325, 0.3886227562914997, 0.37619939576028943, 0.15970729065295308, 0.14551108703935725, 0.18100159607334682, 0.13486393432916036, 0.32564063466140636, 0.22748101751466665, 0.18541261016606392, 0.11062433043521461, 0.15113464862275797, 0.24316334264308986, 0.04863266852861797, 0.3890613482289438, 0.1945306741144719, 0.09726533705723595, 0.14604948397521036, 0.3651237099380259, 0.21907422596281553, 0.14604948397521036, 0.14604948397521036, 0.12335130987456748, 0.4522881362067474, 0.20558551645761247, 0.16446841316608996, 0.08223420658304498, 0.17202443821394783, 0.08601221910697392, 0.17202443821394783, 0.5160733146418436, 0.08601221910697392, 0.2842238312190709, 0.28549268760844176, 0.13449877727331036, 0.154800479503244, 0.1408430592201646, 0.09876306266968293, 0.1481445940045244, 0.24690765667420736, 0.34567071934389026, 0.1481445940045244, 0.49811375895949217, 0.11385457347645535, 0.18501368189923995, 0.1565500385301261, 0.056927286738227674, 0.2697038754001744, 0.17243362525584918, 0.12821987519024683, 0.2608611253870539, 0.16580156274600885, 0.2583801410873564, 0.1999723697304444, 0.19799244527766774, 0.1970024830512794, 0.14651440950547412, 0.14867379772247613, 0.14867379772247613, 0.14867379772247613, 0.14867379772247613, 0.29734759544495226, 0.4079515336499791, 0.11998574519117032, 0.1919771923058725, 0.09598859615293626, 0.16798004326763843, 0.24615810743143932, 0.19692648594515144, 0.09846324297257572, 0.09846324297257572, 0.34462135040401504, 0.12997615957585026, 0.25995231915170053, 0.12997615957585026, 0.12997615957585026, 0.3899284787275508, 0.18619150050118619, 0.17186907738571033, 0.36760885996388043, 0.11457938492380688, 0.15754665427023448, 0.19180375562987229, 0.19180375562987229, 0.38360751125974457, 0.12786917041991486, 0.12786917041991486, 0.08721526104555928, 0.17443052209111856, 0.2180381526138982, 0.17443052209111856, 0.3488610441822371, 0.17105340277304731, 0.1466172023768977, 0.36654300594224426, 0.17105340277304731, 0.12218100198074809, 0.16036754128262604, 0.24055131192393903, 0.08018377064131302, 0.16036754128262604, 0.40091885320656506, 0.16003911956951722, 0.2400586793542758, 0.16003911956951722, 0.16003911956951722, 0.32007823913903444, 0.12860305898844593, 0.3858091769653378, 0.12860305898844593, 0.21433843164740987, 0.12860305898844593, 0.20324314591219456, 0.10162157295609728, 0.12702696619512158, 0.20324314591219456, 0.38108089858536476, 0.2624528931125751, 0.18499544901344833, 0.19477163127838665, 0.1857474630338282, 0.17296322468737038, 0.18657724967129544, 0.18657724967129544, 0.4664431241782386, 0.18657724967129544, 0.09328862483564772, 0.46158961185883457, 0.08392538397433356, 0.12588807596150034, 0.2098134599358339, 0.12588807596150034, 0.09036860733341243, 0.18073721466682485, 0.18073721466682485, 0.40665873300035593, 0.13555291100011865, 0.19613851206626648, 0.18722312515416345, 0.3209539288357088, 0.13373080368154533, 0.15156157750575136, 0.2066176358785475, 0.18509496547453214, 0.148506425787706, 0.19370403363613828, 0.2668811130097905, 0.25469158517778107, 0.16101192166411446, 0.18150434805772903, 0.1522294532097082, 0.251764095692979, 0.22903233400016132, 0.17294278281644834, 0.15113017957833774, 0.21189386002736013, 0.23526450635390722, 0.1733768506001221, 0.1733768506001221, 0.1733768506001221, 0.1733768506001221, 0.3467537012002442, 0.2919571089334195, 0.14597855446670974, 0.4379356634001292, 0.14597855446670974, 0.14597855446670974, 0.2495187232849205, 0.17374863977431637, 0.20444858740361288, 0.16525716489812797, 0.20771453927906994, 0.1864081268387549, 0.3728162536775098, 0.1864081268387549, 0.09320406341937745, 0.1864081268387549, 0.23460736362894435, 0.14490454812375975, 0.13800433154643785, 0.31740996255680703, 0.16560519785572542, 0.17127900735572887, 0.17127900735572887, 0.17127900735572887, 0.34255801471145775, 0.17127900735572887, 0.1294166734300474, 0.1294166734300474, 0.09706250507253555, 0.5823750304352133, 0.0647083367150237, 0.3088216244284273, 0.13553837961025422, 0.19215567742213255, 0.2024497315697468, 0.16127351497928982, 0.20390226061393332, 0.40780452122786665, 0.16312180849114666, 0.16312180849114666, 0.08156090424557333, 0.23313064698589495, 0.26180446987720823, 0.14087573855297394, 0.15458930602273246, 0.20819688794997035, 0.20947157154728224, 0.19753586946481602, 0.15516412707206093, 0.22916547998335152, 0.20827800133903562, 0.14823196578929854, 0.14823196578929854, 0.14823196578929854, 0.14823196578929854, 0.2964639315785971, 0.3755626005324427, 0.1598138725669969, 0.1737975864166091, 0.1598138725669969, 0.13184644486777244, 0.149760361588784, 0.26570386733493934, 0.19243401300924395, 0.16908427921314323, 0.2238353791488277, 0.1831298635473861, 0.4970667724857623, 0.07848422723459404, 0.15696845446918808, 0.07848422723459404, 0.2303798655967591, 0.19818219763383854, 0.22760420456547284, 0.157102414370802, 0.18652442130243627, 0.1610424439510464, 0.23772932202297326, 0.08435556587911953, 0.10736162930069759, 0.4064404537812123, 0.22672868983894826, 0.22509047676207725, 0.18741157599404396, 0.2080530607626187, 0.15268145876437847, 0.4698720510883199, 0.1342491574538057, 0.1342491574538057, 0.1342491574538057, 0.20137373618070853, 0.28431174188777425, 0.17393188915487368, 0.2500270906601309, 0.14633692597164852, 0.14550071496609623, 0.49936621994058406, 0.16645540664686134, 0.11097027109790757, 0.16645540664686134, 0.11097027109790757, 0.21735799314790435, 0.40366484441753664, 0.1242045675130882, 0.09315342563481616, 0.1863068512696323, 0.11452611980098783, 0.4581044792039513, 0.11452611980098783, 0.22905223960197565, 0.11452611980098783, 0.12917665446421586, 0.1614708180802698, 0.23251797803558855, 0.38752996339264756, 0.0904236581249511, 0.44449046216416366, 0.22224523108208183, 0.11112261554104091, 0.11112261554104091, 0.11112261554104091, 0.321268918460353, 0.18977280299751084, 0.18379570684010893, 0.15092167797439837, 0.15540450009244983, 0.17627893997953323, 0.17948401161552474, 0.19230429815949077, 0.17948401161552474, 0.2692260174232871, 0.12151826922850675, 0.18227740384276012, 0.36455480768552023, 0.15189783653563343, 0.18227740384276012, 0.20655389685151265, 0.20655389685151265, 0.10327694842575633, 0.10327694842575633, 0.309830845277269, 0.456429269049217, 0.1825717076196868, 0.0912858538098434, 0.0912858538098434, 0.0912858538098434, 0.3386384653787185, 0.16173777450923868, 0.19037883874524972, 0.17353115390053736, 0.1347814787576989, 0.2560429630052589, 0.12802148150262946, 0.38406444450788835, 0.12802148150262946, 0.12802148150262946, 0.2556702053094185, 0.13780805392564402, 0.21577840022567946, 0.16682027580472697, 0.2230314556954502, 0.25549318589650205, 0.20205670257174344, 0.25883296610429946, 0.1386008786235926, 0.14528043903918744, 0.09520810927444485, 0.09520810927444485, 0.1904162185488897, 0.09520810927444485, 0.3808324370977794, 0.2582699036967971, 0.12913495184839854, 0.12913495184839854, 0.12913495184839854, 0.3874048555451956, 0.1919057241576767, 0.06396857471922557, 0.4157957356749662, 0.2558742988769023, 0.06396857471922557, 0.253900352059585, 0.38085052808937747, 0.1269501760297925, 0.06347508801489625, 0.1269501760297925, 0.41106205992494826, 0.14229071305094362, 0.11067055459517837, 0.126480633823061, 0.20553102996247413, 0.11371365528934, 0.22742731057868, 0.45485462115736, 0.11371365528934, 0.5020655881145908, 0.1255163970286477, 0.1255163970286477, 0.1255163970286477, 0.1255163970286477, 0.4829354312157361, 0.0689907758879623, 0.24146771560786806, 0.10348616383194345, 0.1379815517759246, 0.19518792953592282, 0.13012528635728188, 0.13012528635728188, 0.13012528635728188, 0.45543850225048654, 0.4244293357077794, 0.1591610008904173, 0.10610733392694485, 0.1591610008904173, 0.1591610008904173, 0.25664322013617513, 0.25664322013617513, 0.3849648302042627, 0.12832161006808757, 0.25404397769653875, 0.1723869848655084, 0.12248548924654545, 0.2117033147471156, 0.23892231235745903, 0.20851617238660183, 0.22230236560224495, 0.18439033425922643, 0.26021439694526344, 0.12235246478883248, 0.36940736669927665, 0.15505988231821488, 0.1961051452848012, 0.1140146193516286, 0.16418105186634518, 0.22829671824811723, 0.24284503852863448, 0.20311693314722193, 0.14604275358519264, 0.17961580038638633, 0.18295123128823582, 0.18295123128823582, 0.06098374376274527, 0.4268862063392169, 0.18295123128823582, 0.4673216236714058, 0.13352046390611594, 0.13352046390611594, 0.06676023195305797, 0.13352046390611594, 0.15349247315686967, 0.15349247315686967, 0.24120245781793806, 0.3727674348095406, 0.08770998466106839, 0.21258027078133532, 0.27971088260702015, 0.18796571311191754, 0.1834903389902052, 0.13649891071222583, 0.19379914923705482, 0.19590566172876195, 0.2022251992038833, 0.15798843687803382, 0.250674986513147, 0.2212101186539693, 0.24347025638015488, 0.2177319721342528, 0.10712691280726815, 0.2107756790948198, 0.2898055017987412, 0.1701888108786756, 0.19411214906268873, 0.22439485562473063, 0.12143365331378811, 0.26389172694366503, 0.2540619491492019, 0.17391145328665605, 0.15954485497167142, 0.14895894042378802, 0.3388764318687481, 0.17180247011020253, 0.19859735076959192, 0.16549779230799327, 0.12609355604418535, 0.15305564792549406, 0.15305564792549406, 0.19131955990686758, 0.38263911981373516, 0.11479173594412055, 0.22999867809219404, 0.18349621312273404, 0.22497138458198215, 0.2174304443166643, 0.14453468841859188, 0.19620504070486355, 0.20766719084913393, 0.24879608254328056, 0.13889428998351164, 0.20834143497526747, 0.14918937776572008, 0.14918937776572008, 0.14918937776572008, 0.14918937776572008, 0.29837875553144017, 0.2759662191513172, 0.1899235196440624, 0.18572631479004997, 0.18467701357654687, 0.16264168809298163, 0.4475182278802205, 0.11187955697005512, 0.11187955697005512, 0.11187955697005512, 0.11187955697005512, 0.11507062463750216, 0.11507062463750216, 0.46028249855000863, 0.17260593695625323, 0.17260593695625323, 0.23432902506419304, 0.1738116191917588, 0.22729211740460764, 0.1885891252768881, 0.1759226914896344, 0.22509451519288523, 0.2506734373738949, 0.24555765293769297, 0.12853408395957366, 0.1502761678134319, 0.23087497235875257, 0.23087497235875257, 0.11543748617937628, 0.11543748617937628, 0.34631245853812886, 0.17162111482037093, 0.08581055741018546, 0.4290527870509273, 0.17162111482037093, 0.17162111482037093, 0.1951372760496134, 0.1951372760496134, 0.06504575868320447, 0.1951372760496134, 0.3902745520992268, 0.11465067934971146, 0.11465067934971146, 0.3439520380491344, 0.11465067934971146, 0.22930135869942292, 0.20782882038041617, 0.15133166532554576, 0.29257455296272183, 0.17756248731530702, 0.1715092207022852, 0.2302499025568397, 0.11512495127841985, 0.2302499025568397, 0.11512495127841985, 0.3453748538352595, 0.5618091512651858, 0.09914279139973868, 0.06609519426649245, 0.16523798566623113, 0.06609519426649245, 0.1287745259019034, 0.38632357770571024, 0.17169936786920456, 0.2146242098365057, 0.1287745259019034, 0.2196236839444089, 0.1464157892962726, 0.3660394732406815, 0.1464157892962726, 0.1464157892962726, 0.10353298772966835, 0.10353298772966835, 0.4141319509186734, 0.2070659754593367, 0.2070659754593367, 0.22957293723523778, 0.11478646861761889, 0.11478646861761889, 0.3443594058528567, 0.11478646861761889, 0.14704327305836132, 0.14704327305836132, 0.14704327305836132, 0.441129819175084, 0.14704327305836132, 0.15029987117661067, 0.10019991411774046, 0.05009995705887023, 0.25049978529435113, 0.45089961352983204, 0.18214950785288442, 0.40072891727634574, 0.14571960628230754, 0.14571960628230754, 0.07285980314115377, 0.1635487556788403, 0.40887188919710077, 0.1635487556788403, 0.1635487556788403, 0.08177437783942015, 0.22240330277845236, 0.08472506772512471, 0.10590633465640588, 0.2541752031753741, 0.33890027090049885, 0.0954041846165139, 0.14310627692477085, 0.23851046154128477, 0.0954041846165139, 0.42931883077431254, 0.45511512687284555, 0.13003289339224158, 0.09752467004418118, 0.09752467004418118, 0.22755756343642278, 0.16600943081618624, 0.1506381872220949, 0.23364290263018803, 0.2643853898183707, 0.1844549231290958, 0.41452736268001633, 0.1622063593095716, 0.12616050168522236, 0.1351719660913097, 0.1622063593095716, 0.2229054718220454, 0.0743018239406818, 0.0743018239406818, 0.2229054718220454, 0.371509119703409, 0.14436337714931802, 0.1941438520283932, 0.278770659322821, 0.20409994700420825, 0.17920970956467064, 0.1862413702173657, 0.19255463700439504, 0.2667355217519899, 0.168879886553035, 0.18466305352060838, 0.1374635420204871, 0.4123906260614613, 0.1374635420204871, 0.20619531303073066, 0.1374635420204871, 0.21885750516051944, 0.26436253098597395, 0.15059996642233764, 0.15926759038909089, 0.20693952220623374, 0.2349940629152232, 0.2349940629152232, 0.391656771525372, 0.0783313543050744, 0.0783313543050744, 0.14759649995764107, 0.14759649995764107, 0.14759649995764107, 0.4427894998729232, 0.14759649995764107, 0.170028212015971, 0.3967324947039323, 0.2267042826879613, 0.11335214134398065, 0.11335214134398065, 0.17046130174238777, 0.17046130174238777, 0.5113839052271633, 0.17046130174238777, 0.17046130174238777, 0.1142282624787723, 0.3426847874363169, 0.1142282624787723, 0.1142282624787723, 0.1142282624787723, 0.3285572794661202, 0.08213931986653004, 0.10267414983316256, 0.12320897979979507, 0.3490921094327527, 0.5007659868121422, 0.16692199560404744, 0.16692199560404744, 0.16692199560404744, 0.19108397781278683, 0.19108397781278683, 0.38216795562557365, 0.09172030935013768, 0.14522382313771798, 0.18729112985411217, 0.18729112985411217, 0.37458225970822434, 0.18729112985411217, 0.09364556492705609, 0.10727310390984494, 0.14303080521312658, 0.2145462078196899, 0.3933347143360981, 0.14303080521312658, 0.2540416100395908, 0.15242496602375447, 0.40646657606334524, 0.10161664401583631, 0.050808322007918155, 0.4327228054343853, 0.14424093514479508, 0.14424093514479508, 0.14424093514479508, 0.14424093514479508, 0.3643056371637612, 0.19050845246178336, 0.12700563497452225, 0.1704549311500167, 0.1470591562862889, 0.1149243835260608, 0.1149243835260608, 0.1149243835260608, 0.3447731505781824, 0.1149243835260608, 0.15584791718370714, 0.18182257004765834, 0.2077972229116095, 0.10389861145580476, 0.3376704872313655, 0.1286401062251133, 0.5145604249004532, 0.1286401062251133, 0.1286401062251133, 0.1286401062251133, 0.2303096655907364, 0.22145160152955423, 0.11294031678007266, 0.20668816142758395, 0.2295714935856379, 0.3154435047889734, 0.15818700830125507, 0.1879633863344325, 0.172144685504307, 0.16563110280954943, 0.11504844492670545, 0.34514533478011633, 0.11504844492670545, 0.11504844492670545, 0.2300968898534109, 0.18748151517794737, 0.09374075758897368, 0.18748151517794737, 0.46870378794486844, 0.09374075758897368, 0.2637356529829843, 0.25816377299038606, 0.1392969998149565, 0.17458557310141215, 0.1652991064470817, 0.2034689370312458, 0.4747608530729069, 0.13564595802083054, 0.06782297901041527, 0.06782297901041527, 0.3058419960651219, 0.24800368162300718, 0.10034071217609301, 0.16869508378950135, 0.17702029571677544, 0.19112991403401489, 0.11467794842040893, 0.1529039312272119, 0.38225982806802977, 0.1529039312272119, 0.27771103837671657, 0.1961737858300643, 0.1348190215375339, 0.2647942458940786, 0.1259387267057203, 0.21089554281676182, 0.27292364364522115, 0.16747587223684027, 0.18194909576348078, 0.1654082688758916, 0.25884550375064025, 0.12942275187532012, 0.12942275187532012, 0.12942275187532012, 0.38826825562596035, 0.23317978981192108, 0.1499012934505207, 0.216524090539641, 0.14657015359606468, 0.25316662893865716, 0.14711652376924483, 0.41192626655388553, 0.05884660950769793, 0.1765398285230938, 0.1765398285230938, 0.07404529932083746, 0.18511324830209366, 0.3702264966041873, 0.22213589796251237, 0.14809059864167493, 0.1592529441874518, 0.22622848146254837, 0.19943826655250976, 0.2515303510998071, 0.16222963473301166, 0.206319101390515, 0.2768332246505644, 0.18020275944234854, 0.15147478329936545, 0.1828143936371652, 0.10331482860903753, 0.20662965721807505, 0.20662965721807505, 0.4132593144361501, 0.10331482860903753, 0.13343187457771857, 0.26686374915543715, 0.10674549966217485, 0.16011824949326228, 0.32023649898652456, 0.45847220660737437, 0.1528240688691248, 0.109160049192232, 0.1964880885460176, 0.109160049192232, 0.26509591582563946, 0.191339390858022, 0.21913170461393583, 0.20202874230260426, 0.1229275416126957, 0.27084650484180794, 0.18300439516338374, 0.16690000838900595, 0.22546141484128876, 0.15518772709854942, 0.42741436507801833, 0.1508521288510653, 0.15713763421985968, 0.1508521288510653, 0.11313909663829898, 0.18554132927303701, 0.22264959512764443, 0.14843306341842963, 0.14843306341842963, 0.33397439269146667, 0.2945061121640838, 0.1850795292040343, 0.1864304746726769, 0.19048331107860467, 0.14455116514475672, 0.23515812689971158, 0.07838604229990385, 0.3919302114995193, 0.07838604229990385, 0.1567720845998077, 0.20916766710152748, 0.10981302522830193, 0.22485524213414204, 0.13595898361599285, 0.3189806923298294, 0.22592545300109648, 0.21815069044842716, 0.19025301305355494, 0.2099185889220714, 0.15595259002707268, 0.09422675379001694, 0.18845350758003387, 0.18845350758003387, 0.37690701516006775, 0.09422675379001694, 0.21576622463031633, 0.15802596733487956, 0.2887012864771838, 0.22184414645088862, 0.11851947550115967, 0.254251453830858, 0.21341313741243004, 0.16203590062795614, 0.2608382790596367, 0.1093412987977265, 0.43947149703935473, 0.12556328486838708, 0.1883449273025806, 0.12556328486838708, 0.12556328486838708, 0.1883979480197607, 0.26283489951008576, 0.2088187046233012, 0.20025516153149392, 0.1396516258048576, 0.23182638473421727, 0.14712059031209943, 0.27863748165170343, 0.15826608957816754, 0.18501528781673107, 0.19782414585419608, 0.23310488524220557, 0.24444512290263717, 0.1789237497534767, 0.14490303677218183, 0.10351504477421881, 0.20703008954843763, 0.10351504477421881, 0.41406017909687526, 0.10351504477421881, 0.2654273273814307, 0.38339502843984435, 0.08847577579381025, 0.10322173842611194, 0.14745962632301707, 0.14641436113096712, 0.21962154169645068, 0.36603590282741777, 0.07320718056548356, 0.14641436113096712, 0.19721360094137544, 0.3474715826109948, 0.1878224770870242, 0.15025798166961937, 0.13147573396091694, 0.22720226887304013, 0.217323909356821, 0.2511925705552866, 0.1552313638263007, 0.14958658695988977, 0.17383796607329946, 0.08691898303664973, 0.08691898303664973, 0.2607569491099492, 0.3476759321465989, 0.1623929469486205, 0.05413098231620683, 0.43304785852965466, 0.27065491158103416, 0.05413098231620683, 0.1040958366143204, 0.2081916732286408, 0.2081916732286408, 0.1040958366143204, 0.3122875098429612, 0.44714096256200325, 0.11178524064050081, 0.22357048128100163, 0.11178524064050081, 0.11178524064050081, 0.2271243463731593, 0.11356217318657966, 0.39746760615302884, 0.11356217318657966, 0.1703432597798695, 0.521007809679384, 0.14209303900346834, 0.0947286926689789, 0.0947286926689789, 0.0947286926689789, 0.43182500820099107, 0.17273000328039642, 0.11515333552026429, 0.14394166940033035, 0.14394166940033035, 0.1907018327074891, 0.1165400088767989, 0.18540455957672553, 0.32843093410734236, 0.18010728644596194, 0.23638603561819363, 0.11819301780909681, 0.1575906904121291, 0.3939767260303227, 0.07879534520606454, 0.2058604637010104, 0.1029302318505052, 0.2058604637010104, 0.4117209274020208, 0.1029302318505052, 0.19235451899166725, 0.24297412925263231, 0.34421334977456247, 0.13161098667850918, 0.10123922052193013, 0.1699469552586492, 0.26779520222575026, 0.18797163233153621, 0.13132264724531983, 0.24462061741775262, 0.14691591758188327, 0.14691591758188327, 0.4407477527456498, 0.14691591758188327, 0.14691591758188327, 0.2017299876526038, 0.17291141798794613, 0.14409284832328845, 0.17291141798794613, 0.3170042663112346, 0.1873839374119439, 0.22959680243331587, 0.2028276685173239, 0.1894431015593279, 0.1915022657067119, 0.21959874012471212, 0.1435837916200041, 0.3631825317447162, 0.15202989700941608, 0.11824547545176807, 0.2195492503114082, 0.12391736827392365, 0.31652806026491365, 0.1939576199070109, 0.1454682149302582, 0.24129456663074883, 0.1969428300946812, 0.14836711865041669, 0.23284661681435498, 0.18057492732541816, 0.17098468161690794, 0.3419693632338159, 0.17098468161690794, 0.17098468161690794, 0.17098468161690794, 0.5689224959202224, 0.1422306239800556, 0.1422306239800556, 0.1422306239800556, 0.1422306239800556, 0.24988439631701315, 0.1345531364783917, 0.3652156561556346, 0.15377501311816194, 0.07688750655908097, 0.20594237308176605, 0.10297118654088303, 0.20594237308176605, 0.4118847461635321, 0.10297118654088303, 0.26617144181597097, 0.2681142990555036, 0.18262858051606765, 0.16514286536027395, 0.11851429161149071, 0.14796900487209408, 0.14796900487209408, 0.14796900487209408, 0.4439070146162822, 0.14796900487209408, 0.5032836661466984, 0.07189766659238549, 0.07189766659238549, 0.14379533318477097, 0.14379533318477097, 0.19652220746937216, 0.20219111730021944, 0.2154185735721964, 0.20313593560536067, 0.1832947511973952, 0.32713236261763107, 0.19583433952620088, 0.18470738841675766, 0.1535519253103166, 0.13797419375709608, 0.12106156107490863, 0.18159234161236296, 0.48424624429963453, 0.060530780537454316, 0.18159234161236296, 0.12821975444109296, 0.5128790177643718, 0.12821975444109296, 0.12821975444109296, 0.12821975444109296, 0.20775368831410518, 0.20775368831410518, 0.10387684415705259, 0.20775368831410518, 0.31163053247115774, 0.2659304095483755, 0.18107321856183356, 0.22984939920764114, 0.15100570994455492, 0.17171888254756912, 0.2899491764228606, 0.2323910272570322, 0.17123549376833952, 0.1777107855494952, 0.12878635875854105, 0.25420823673783643, 0.4236803945630607, 0.1694721578252243, 0.08473607891261214, 0.08473607891261214, 0.1550457202806592, 0.19286174961740532, 0.215551367219453, 0.2874018229592707, 0.1550457202806592, 0.2559952226903157, 0.21412684514750707, 0.24363408265386743, 0.1068640493473592, 0.17903715730210554, 0.1480555484200796, 0.1480555484200796, 0.1480555484200796, 0.4441666452602388, 0.1480555484200796, 0.21227686185217268, 0.23966742467180788, 0.3423820352454398, 0.10271461057363195, 0.10956225127854075, 0.28160597653719066, 0.1904981605986878, 0.191326413470856, 0.21451749389156582, 0.12258142508089476, 0.22356093889576129, 0.17196995299673945, 0.164888837285109, 0.23974634623663088, 0.20029441584326124, 0.189919794376722, 0.189919794376722, 0.13565699598337283, 0.3346205900923197, 0.15374459544782254, 0.18267511308541126, 0.14614009046832901, 0.40188524878790477, 0.10960506785124675, 0.10960506785124675, 0.4448566662177461, 0.11121416655443653, 0.11121416655443653, 0.11121416655443653, 0.11121416655443653, 0.2168759064022391, 0.16584628136641813, 0.1348640090232411, 0.2496806653538383, 0.2314557992696165, 0.17089755066866721, 0.17089755066866721, 0.4272438766716681, 0.08544877533433361, 0.17089755066866721, 0.218333811394649, 0.18922263654202914, 0.20377822396833908, 0.07277793713154967, 0.3202229233788185, 0.26110897991045845, 0.2543923502021508, 0.1645574278535365, 0.18218858083784398, 0.13769090902030606, 0.26533726536229846, 0.21498128799427102, 0.1975503727514923, 0.1452576270231561, 0.17721430496825044, 0.1956255202528406, 0.20227567958154907, 0.20504657930184425, 0.186758641147896, 0.21003419879837562, 0.19949620021620182, 0.18456065581498884, 0.24216918421966743, 0.1909616034155087, 0.18242700661481556, 0.19369747985257033, 0.22908451944102068, 0.17507272217443856, 0.25329670442259195, 0.15086053719286727, 0.39153656728761604, 0.18327243575165006, 0.1499501747058955, 0.15828073996733416, 0.11662791366014096, 0.2346956077871154, 0.16326650976494983, 0.2813431820056725, 0.20845634728917703, 0.11224572546340301, 0.1405833135410772, 0.1718240498835388, 0.2655462589109236, 0.3436480997670776, 0.0937222090273848, 0.20229116095502875, 0.22149601800772134, 0.2003706752497595, 0.2074124561690801, 0.16836258016193847, 0.18714896122474492, 0.12956466546328496, 0.2591293309265699, 0.10077251758255497, 0.3311097006283949, 0.21884393090494453, 0.14936966712559707, 0.20060693666286583, 0.2101596479325261, 0.22144921579667007], \"Term\": [\"=\", \"=\", \"=\", \"=\", \"=\", \"=_=\", \"=_=\", \"=_=\", \"=_=\", \"=_=\", \"`\", \"`\", \"`\", \"`\", \"`\", \"ace\", \"ace\", \"ace\", \"ace\", \"ace\", \"ace_ventura\", \"ace_ventura\", \"ace_ventura\", \"ace_ventura\", \"ace_ventura\", \"action\", \"action\", \"action\", \"action\", \"action\", \"actor\", \"actor\", \"actor\", \"actor\", \"actor\", \"actually\", \"actually\", \"actually\", \"actually\", \"actually\", \"alan_cumming\", \"alan_cumming\", \"alan_cumming\", \"alan_cumming\", \"alan_cumming\", \"alan_smithee\", \"alan_smithee\", \"alan_smithee\", \"alan_smithee\", \"alan_smithee\", \"anaconda\", \"anaconda\", \"anaconda\", \"anaconda\", \"anaconda\", \"angus\", \"angus\", \"angus\", \"angus\", \"angus\", \"anna_king\", \"anna_king\", \"anna_king\", \"anna_king\", \"anna_king\", \"ant\", \"ant\", \"ant\", \"ant\", \"ant\", \"april\", \"april\", \"april\", \"april\", \"april\", \"ariel\", \"ariel\", \"ariel\", \"ariel\", \"ariel\", \"armageddon\", \"armageddon\", \"armageddon\", \"armageddon\", \"armageddon\", \"audience\", \"audience\", \"audience\", \"audience\", \"audience\", \"bad\", \"bad\", \"bad\", \"bad\", \"bad\", \"barbara_windsor\", \"barbara_windsor\", \"barbara_windsor\", \"barbara_windsor\", \"barbara_windsor\", \"barry_sonnenfeld\", \"barry_sonnenfeld\", \"barry_sonnenfeld\", \"barry_sonnenfeld\", \"barry_sonnenfeld\", \"batman\", \"batman\", \"batman\", \"batman\", \"batman\", \"beavis_butthead\", \"beavis_butthead\", \"beavis_butthead\", \"beavis_butthead\", \"beavis_butthead\", \"begin\", \"begin\", \"begin\", \"begin\", \"begin\", \"big\", \"big\", \"big\", \"big\", \"big\", \"bill_murray\", \"bill_murray\", \"bill_murray\", \"bill_murray\", \"bill_murray\", \"bob\", \"bob\", \"bob\", \"bob\", \"bob\", \"bobby\", \"bobby\", \"bobby\", \"bobby\", \"bobby\", \"bomber\", \"bomber\", \"bomber\", \"bomber\", \"bomber\", \"bond\", \"bond\", \"bond\", \"bond\", \"bond\", \"boob\", \"boob\", \"boob\", \"boob\", \"boob\", \"booth\", \"booth\", \"booth\", \"booth\", \"booth\", \"bowling\", \"bowling\", \"bowling\", \"bowling\", \"bowling\", \"breakdown\", \"breakdown\", \"breakdown\", \"breakdown\", \"breakdown\", \"bring\", \"bring\", \"bring\", \"bring\", \"bring\", \"buildup\", \"buildup\", \"buildup\", \"buildup\", \"buildup\", \"butch\", \"butch\", \"butch\", \"butch\", \"butch\", \"butcher_boy\", \"butcher_boy\", \"butcher_boy\", \"butcher_boy\", \"butcher_boy\", \"carrey\", \"carrey\", \"carrey\", \"carrey\", \"carrey\", \"carter\", \"carter\", \"carter\", \"carter\", \"carter\", \"cast\", \"cast\", \"cast\", \"cast\", \"cast\", \"caviezel\", \"caviezel\", \"caviezel\", \"caviezel\", \"caviezel\", \"chad\", \"chad\", \"chad\", \"chad\", \"chad\", \"change\", \"change\", \"change\", \"change\", \"change\", \"character\", \"character\", \"character\", \"character\", \"character\", \"china\", \"china\", \"china\", \"china\", \"china\", \"christ\", \"christ\", \"christ\", \"christ\", \"christ\", \"christmas\", \"christmas\", \"christmas\", \"christmas\", \"christmas\", \"christmas_eve\", \"christmas_eve\", \"christmas_eve\", \"christmas_eve\", \"christmas_eve\", \"cinderella\", \"cinderella\", \"cinderella\", \"cinderella\", \"cinderella\", \"cindy\", \"cindy\", \"cindy\", \"cindy\", \"cindy\", \"cindy_crawford\", \"cindy_crawford\", \"cindy_crawford\", \"cindy_crawford\", \"cindy_crawford\", \"clifford\", \"clifford\", \"clifford\", \"clifford\", \"clifford\", \"coma\", \"coma\", \"coma\", \"coma\", \"coma\", \"come\", \"come\", \"come\", \"come\", \"come\", \"commentary_track\", \"commentary_track\", \"commentary_track\", \"commentary_track\", \"commentary_track\", \"computer_geek\", \"computer_geek\", \"computer_geek\", \"computer_geek\", \"computer_geek\", \"coolidge\", \"coolidge\", \"coolidge\", \"coolidge\", \"coolidge\", \"cop\", \"cop\", \"cop\", \"cop\", \"cop\", \"course\", \"course\", \"course\", \"course\", \"course\", \"courtney\", \"courtney\", \"courtney\", \"courtney\", \"courtney\", \"crichton\", \"crichton\", \"crichton\", \"crichton\", \"crichton\", \"crowe\", \"crowe\", \"crowe\", \"crowe\", \"crowe\", \"danielle\", \"danielle\", \"danielle\", \"danielle\", \"danielle\", \"day\", \"day\", \"day\", \"day\", \"day\", \"dennis_quaid\", \"dennis_quaid\", \"dennis_quaid\", \"dennis_quaid\", \"dennis_quaid\", \"derek\", \"derek\", \"derek\", \"derek\", \"derek\", \"dialogue\", \"dialogue\", \"dialogue\", \"dialogue\", \"dialogue\", \"director\", \"director\", \"director\", \"director\", \"director\", \"discourage\", \"discourage\", \"discourage\", \"discourage\", \"discourage\", \"doll\", \"doll\", \"doll\", \"doll\", \"doll\", \"donnie\", \"donnie\", \"donnie\", \"donnie\", \"donnie\", \"drawer\", \"drawer\", \"drawer\", \"drawer\", \"drawer\", \"dream\", \"dream\", \"dream\", \"dream\", \"dream\", \"drug_use\", \"drug_use\", \"drug_use\", \"drug_use\", \"drug_use\", \"duchovny\", \"duchovny\", \"duchovny\", \"duchovny\", \"duchovny\", \"duke\", \"duke\", \"duke\", \"duke\", \"duke\", \"ebert\", \"ebert\", \"ebert\", \"ebert\", \"ebert\", \"economic\", \"economic\", \"economic\", \"economic\", \"economic\", \"edwards\", \"edwards\", \"edwards\", \"edwards\", \"edwards\", \"emperor\", \"emperor\", \"emperor\", \"emperor\", \"emperor\", \"end\", \"end\", \"end\", \"end\", \"end\", \"english_patient\", \"english_patient\", \"english_patient\", \"english_patient\", \"english_patient\", \"estella\", \"estella\", \"estella\", \"estella\", \"estella\", \"event_horizon\", \"event_horizon\", \"event_horizon\", \"event_horizon\", \"event_horizon\", \"explore\", \"explore\", \"explore\", \"explore\", \"explore\", \"face\", \"face\", \"face\", \"face\", \"face\", \"fall\", \"fall\", \"fall\", \"fall\", \"fall\", \"family\", \"family\", \"family\", \"family\", \"family\", \"fierstein\", \"fierstein\", \"fierstein\", \"fierstein\", \"fierstein\", \"filmgoer\", \"filmgoer\", \"filmgoer\", \"filmgoer\", \"filmgoer\", \"find\", \"find\", \"find\", \"find\", \"find\", \"flamboyant\", \"flamboyant\", \"flamboyant\", \"flamboyant\", \"flamboyant\", \"frank\", \"frank\", \"frank\", \"frank\", \"frank\", \"freakish\", \"freakish\", \"freakish\", \"freakish\", \"freakish\", \"frequency\", \"frequency\", \"frequency\", \"frequency\", \"frequency\", \"friend\", \"friend\", \"friend\", \"friend\", \"friend\", \"frog\", \"frog\", \"frog\", \"frog\", \"frog\", \"funny\", \"funny\", \"funny\", \"funny\", \"funny\", \"get\", \"get\", \"get\", \"get\", \"get\", \"giant_lizard\", \"giant_lizard\", \"giant_lizard\", \"giant_lizard\", \"giant_lizard\", \"girl\", \"girl\", \"girl\", \"girl\", \"girl\", \"give\", \"give\", \"give\", \"give\", \"give\", \"gloria\", \"gloria\", \"gloria\", \"gloria\", \"gloria\", \"go\", \"go\", \"go\", \"go\", \"go\", \"godzilla\", \"godzilla\", \"godzilla\", \"godzilla\", \"godzilla\", \"good\", \"good\", \"good\", \"good\", \"good\", \"grainy\", \"grainy\", \"grainy\", \"grainy\", \"grainy\", \"great\", \"great\", \"great\", \"great\", \"great\", \"hacker\", \"hacker\", \"hacker\", \"hacker\", \"hacker\", \"hamlet\", \"hamlet\", \"hamlet\", \"hamlet\", \"hamlet\", \"harper\", \"harper\", \"harper\", \"harper\", \"harper\", \"harry\", \"harry\", \"harry\", \"harry\", \"harry\", \"hartnett\", \"hartnett\", \"hartnett\", \"hartnett\", \"hartnett\", \"help\", \"help\", \"help\", \"help\", \"help\", \"hero\", \"hero\", \"hero\", \"hero\", \"hero\", \"hewitt\", \"hewitt\", \"hewitt\", \"hewitt\", \"hewitt\", \"hillbilly\", \"hillbilly\", \"hillbilly\", \"hillbilly\", \"hillbilly\", \"hugh_grant\", \"hugh_grant\", \"hugh_grant\", \"hugh_grant\", \"hugh_grant\", \"include\", \"include\", \"include\", \"include\", \"include\", \"informative\", \"informative\", \"informative\", \"informative\", \"informative\", \"instead\", \"instead\", \"instead\", \"instead\", \"instead\", \"interesting\", \"interesting\", \"interesting\", \"interesting\", \"interesting\", \"intimacy\", \"intimacy\", \"intimacy\", \"intimacy\", \"intimacy\", \"invisible_man\", \"invisible_man\", \"invisible_man\", \"invisible_man\", \"invisible_man\", \"jawbreaker\", \"jawbreaker\", \"jawbreaker\", \"jawbreaker\", \"jawbreaker\", \"jerry_springer\", \"jerry_springer\", \"jerry_springer\", \"jerry_springer\", \"jerry_springer\", \"jimmy\", \"jimmy\", \"jimmy\", \"jimmy\", \"jimmy\", \"jimmy_stewart\", \"jimmy_stewart\", \"jimmy_stewart\", \"jimmy_stewart\", \"joe_pantoliano\", \"joe_pantoliano\", \"joe_pantoliano\", \"joe_pantoliano\", \"joe_pantoliano\", \"judith\", \"judith\", \"judith\", \"judith\", \"judith\", \"jule\", \"jule\", \"jule\", \"jule\", \"jule\", \"kelley\", \"kelley\", \"kelley\", \"kelley\", \"kelley\", \"kenneth_connor\", \"kenneth_connor\", \"kenneth_connor\", \"kenneth_connor\", \"kill\", \"kill\", \"kill\", \"kill\", \"kill\", \"kind\", \"kind\", \"kind\", \"kind\", \"kind\", \"king\", \"king\", \"king\", \"king\", \"king\", \"know\", \"know\", \"know\", \"know\", \"know\", \"kurosawa\", \"kurosawa\", \"kurosawa\", \"kurosawa\", \"kurosawa\", \"lambert\", \"lambert\", \"lambert\", \"lambert\", \"lambert\", \"larry\", \"larry\", \"larry\", \"larry\", \"larry\", \"leave\", \"leave\", \"leave\", \"leave\", \"leave\", \"let\", \"let\", \"let\", \"let\", \"let\", \"life\", \"life\", \"life\", \"life\", \"life\", \"like\", \"like\", \"like\", \"like\", \"like\", \"little\", \"little\", \"little\", \"little\", \"little\", \"live\", \"live\", \"live\", \"live\", \"live\", \"logical\", \"logical\", \"logical\", \"logical\", \"logical\", \"long\", \"long\", \"long\", \"long\", \"long\", \"look\", \"look\", \"look\", \"look\", \"look\", \"lorraine\", \"lorraine\", \"lorraine\", \"lorraine\", \"lorraine\", \"love\", \"love\", \"love\", \"love\", \"love\", \"low_brow\", \"low_brow\", \"low_brow\", \"low_brow\", \"low_brow\", \"major_league\", \"major_league\", \"major_league\", \"major_league\", \"major_league\", \"make\", \"make\", \"make\", \"make\", \"make\", \"man\", \"man\", \"man\", \"man\", \"man\", \"maria_pitillo\", \"maria_pitillo\", \"maria_pitillo\", \"maria_pitillo\", \"maria_pitillo\", \"matron\", \"matron\", \"matron\", \"matron\", \"matron\", \"mcconaughey\", \"mcconaughey\", \"mcconaughey\", \"mcconaughey\", \"mcconaughey\", \"mcdermott\", \"mcdermott\", \"mcdermott\", \"mcdermott\", \"mcdermott\", \"mean\", \"mean\", \"mean\", \"mean\", \"mean\", \"meat_loaf\", \"meat_loaf\", \"meat_loaf\", \"meat_loaf\", \"meat_loaf\", \"metro\", \"metro\", \"metro\", \"metro\", \"metro\", \"mib\", \"mib\", \"mib\", \"mib\", \"mib\", \"milton\", \"milton\", \"milton\", \"milton\", \"milton\", \"minor_league\", \"minor_league\", \"minor_league\", \"minor_league\", \"minor_league\", \"misogynistic\", \"misogynistic\", \"misogynistic\", \"misogynistic\", \"misogynistic\", \"mo\", \"mo\", \"mo\", \"mo\", \"mo\", \"morris\", \"morris\", \"morris\", \"morris\", \"morris\", \"moses\", \"moses\", \"moses\", \"moses\", \"moses\", \"mr_magoo\", \"mr_magoo\", \"mr_magoo\", \"mr_magoo\", \"mr_magoo\", \"mulan\", \"mulan\", \"mulan\", \"mulan\", \"mulan\", \"mulder\", \"mulder\", \"mulder\", \"mulder\", \"mulder\", \"mummy\", \"mummy\", \"mummy\", \"mummy\", \"mummy\", \"murder\", \"murder\", \"murder\", \"murder\", \"murder\", \"murphy\", \"murphy\", \"murphy\", \"murphy\", \"murphy\", \"mushu\", \"mushu\", \"mushu\", \"mushu\", \"mushu\", \"music\", \"music\", \"music\", \"music\", \"music\", \"need\", \"need\", \"need\", \"need\", \"need\", \"nephew\", \"nephew\", \"nephew\", \"nephew\", \"nephew\", \"new\", \"new\", \"new\", \"new\", \"new\", \"nora\", \"nora\", \"nora\", \"nora\", \"nora\", \"nuke\", \"nuke\", \"nuke\", \"nuke\", \"nuke\", \"october_sky\", \"october_sky\", \"october_sky\", \"october_sky\", \"october_sky\", \"oeuvre\", \"oeuvre\", \"oeuvre\", \"oeuvre\", \"oeuvre\", \"opening_night\", \"opening_night\", \"opening_night\", \"opening_night\", \"opening_night\", \"ordell\", \"ordell\", \"ordell\", \"ordell\", \"ordell\", \"organisation\", \"organisation\", \"organisation\", \"organisation\", \"oscar\", \"oscar\", \"oscar\", \"oscar\", \"oscar\", \"overwhelm\", \"overwhelm\", \"overwhelm\", \"overwhelm\", \"overwhelm\", \"palmetto\", \"palmetto\", \"palmetto\", \"palmetto\", \"palmetto\", \"pam\", \"pam\", \"pam\", \"pam\", \"pam\", \"parking\", \"parking\", \"parking\", \"parking\", \"parking\", \"past\", \"past\", \"past\", \"past\", \"past\", \"patricia_arquette\", \"patricia_arquette\", \"patricia_arquette\", \"patricia_arquette\", \"patricia_arquette\", \"paulie\", \"paulie\", \"paulie\", \"paulie\", \"paulie\", \"penguin\", \"penguin\", \"penguin\", \"penguin\", \"penguin\", \"people\", \"people\", \"people\", \"people\", \"people\", \"performance\", \"performance\", \"performance\", \"performance\", \"performance\", \"pesky\", \"pesky\", \"pesky\", \"pesky\", \"pesky\", \"peter_butterworth\", \"peter_butterworth\", \"peter_butterworth\", \"peter_butterworth\", \"peter_butterworth\", \"picture\", \"picture\", \"picture\", \"picture\", \"picture\", \"pimp\", \"pimp\", \"pimp\", \"pimp\", \"pimp\", \"play\", \"play\", \"play\", \"play\", \"play\", \"pleasantville\", \"pleasantville\", \"pleasantville\", \"pleasantville\", \"pleasantville\", \"plot\", \"plot\", \"plot\", \"plot\", \"plot\", \"probably\", \"probably\", \"probably\", \"probably\", \"probably\", \"prof\", \"prof\", \"prof\", \"prof\", \"prof\", \"prove\", \"prove\", \"prove\", \"prove\", \"prove\", \"psychlo\", \"psychlo\", \"psychlo\", \"psychlo\", \"psychlo\", \"quaid\", \"quaid\", \"quaid\", \"quaid\", \"quaid\", \"real\", \"real\", \"real\", \"real\", \"real\", \"rest\", \"rest\", \"rest\", \"rest\", \"rest\", \"rhea\", \"rhea\", \"rhea\", \"rhea\", \"rhea\", \"ricky\", \"ricky\", \"ricky\", \"ricky\", \"ricky\", \"robocop\", \"robocop\", \"robocop\", \"robocop\", \"robocop\", \"role\", \"role\", \"role\", \"role\", \"role\", \"run\", \"run\", \"run\", \"run\", \"run\", \"s\", \"s\", \"s\", \"s\", \"s\", \"saint\", \"saint\", \"saint\", \"saint\", \"saint\", \"say\", \"say\", \"say\", \"say\", \"say\", \"scarface\", \"scarface\", \"scarface\", \"scarface\", \"scarface\", \"scary\", \"scary\", \"scary\", \"scary\", \"scary\", \"scene\", \"scene\", \"scene\", \"scene\", \"scene\", \"schroeder\", \"schroeder\", \"schroeder\", \"schroeder\", \"schroeder\", \"scream\", \"scream\", \"scream\", \"scream\", \"scream\", \"script\", \"script\", \"script\", \"script\", \"script\", \"seattle\", \"seattle\", \"seattle\", \"seattle\", \"seattle\", \"see\", \"see\", \"see\", \"see\", \"see\", \"series\", \"series\", \"series\", \"series\", \"series\", \"set\", \"set\", \"set\", \"set\", \"set\", \"sewell\", \"sewell\", \"sewell\", \"sewell\", \"sewell\", \"shakespeare\", \"shakespeare\", \"shakespeare\", \"shakespeare\", \"shakespeare\", \"sheen\", \"sheen\", \"sheen\", \"sheen\", \"sheen\", \"shine\", \"shine\", \"shine\", \"shine\", \"shine\", \"show\", \"show\", \"show\", \"show\", \"show\", \"shue\", \"shue\", \"shue\", \"shue\", \"shue\", \"sid_james\", \"sid_james\", \"sid_james\", \"sid_james\", \"sid_james\", \"sil\", \"sil\", \"sil\", \"sil\", \"sil\", \"silverman\", \"silverman\", \"silverman\", \"silverman\", \"silverman\", \"sinclair\", \"sinclair\", \"sinclair\", \"sinclair\", \"sinclair\", \"slim\", \"slim\", \"slim\", \"slim\", \"slim\", \"sly\", \"sly\", \"sly\", \"sly\", \"sly\", \"smith\", \"smith\", \"smith\", \"smith\", \"smith\", \"snipe\", \"snipe\", \"snipe\", \"snipe\", \"snipe\", \"sonnenfeld\", \"sonnenfeld\", \"sonnenfeld\", \"sonnenfeld\", \"sonnenfeld\", \"spawn\", \"spawn\", \"spawn\", \"spawn\", \"spawn\", \"special_effect\", \"special_effect\", \"special_effect\", \"special_effect\", \"special_effect\", \"splendor\", \"splendor\", \"splendor\", \"splendor\", \"splendor\", \"stahl\", \"stahl\", \"stahl\", \"stahl\", \"stahl\", \"star\", \"star\", \"star\", \"star\", \"star\", \"star_trek\", \"star_trek\", \"star_trek\", \"star_trek\", \"star_trek\", \"start\", \"start\", \"start\", \"start\", \"start\", \"story\", \"story\", \"story\", \"story\", \"story\", \"strategic\", \"strategic\", \"strategic\", \"strategic\", \"strategic\", \"street_fighter\", \"street_fighter\", \"street_fighter\", \"street_fighter\", \"street_fighter\", \"stuart\", \"stuart\", \"stuart\", \"stuart\", \"stuart\", \"sullivan\", \"sullivan\", \"sullivan\", \"sullivan\", \"sullivan\", \"sure\", \"sure\", \"sure\", \"sure\", \"sure\", \"suspense_thriller\", \"suspense_thriller\", \"suspense_thriller\", \"suspense_thriller\", \"suspense_thriller\", \"swan\", \"swan\", \"swan\", \"swan\", \"swan\", \"take\", \"take\", \"take\", \"take\", \"take\", \"talk\", \"talk\", \"talk\", \"talk\", \"talk\", \"tango\", \"tango\", \"tango\", \"tango\", \"tango\", \"tara_reid\", \"tara_reid\", \"tara_reid\", \"tara_reid\", \"tara_reid\", \"tate\", \"tate\", \"tate\", \"tate\", \"tate\", \"thing\", \"thing\", \"thing\", \"thing\", \"thing\", \"think\", \"think\", \"think\", \"think\", \"think\", \"thomas_ian\", \"thomas_ian\", \"thomas_ian\", \"thomas_ian\", \"thomas_ian\", \"thriller\", \"thriller\", \"thriller\", \"thriller\", \"thriller\", \"time\", \"time\", \"time\", \"time\", \"time\", \"timeline\", \"timeline\", \"timeline\", \"timeline\", \"timeline\", \"truman\", \"truman\", \"truman\", \"truman\", \"truman\", \"try\", \"try\", \"try\", \"try\", \"try\", \"turn\", \"turn\", \"turn\", \"turn\", \"turn\", \"u_s\", \"u_s\", \"u_s\", \"u_s\", \"u_s\", \"underwater\", \"underwater\", \"underwater\", \"underwater\", \"underwater\", \"undeveloped\", \"undeveloped\", \"undeveloped\", \"undeveloped\", \"undeveloped\", \"use\", \"use\", \"use\", \"use\", \"use\", \"vike\", \"vike\", \"vike\", \"vike\", \"vike\", \"virus\", \"virus\", \"virus\", \"virus\", \"virus\", \"want\", \"want\", \"want\", \"want\", \"want\", \"watch\", \"watch\", \"watch\", \"watch\", \"watch\", \"way\", \"way\", \"way\", \"way\", \"way\", \"well\", \"well\", \"well\", \"well\", \"well\", \"wife\", \"wife\", \"wife\", \"wife\", \"wife\", \"william\", \"william\", \"william\", \"william\", \"william\", \"woman\", \"woman\", \"woman\", \"woman\", \"woman\", \"woody\", \"woody\", \"woody\", \"woody\", \"woody\", \"work\", \"work\", \"work\", \"work\", \"work\", \"x_file\", \"x_file\", \"x_file\", \"x_file\", \"x_file\", \"year\", \"year\", \"year\", \"year\", \"year\"]}, \"R\": 30, \"lambda.step\": 0.01, \"plot.opts\": {\"xlab\": \"PC1\", \"ylab\": \"PC2\"}, \"topic.order\": [3, 1, 4, 5, 2]};\n",
              "\n",
              "function LDAvis_load_lib(url, callback){\n",
              "  var s = document.createElement('script');\n",
              "  s.src = url;\n",
              "  s.async = true;\n",
              "  s.onreadystatechange = s.onload = callback;\n",
              "  s.onerror = function(){console.warn(\"failed to load library \" + url);};\n",
              "  document.getElementsByTagName(\"head\")[0].appendChild(s);\n",
              "}\n",
              "\n",
              "if(typeof(LDAvis) !== \"undefined\"){\n",
              "   // already loaded: just create the visualization\n",
              "   !function(LDAvis){\n",
              "       new LDAvis(\"#\" + \"ldavis_el591402828525989926629990632\", ldavis_el591402828525989926629990632_data);\n",
              "   }(LDAvis);\n",
              "}else if(typeof define === \"function\" && define.amd){\n",
              "   // require.js is available: use it to load d3/LDAvis\n",
              "   require.config({paths: {d3: \"https://d3js.org/d3.v5\"}});\n",
              "   require([\"d3\"], function(d3){\n",
              "      window.d3 = d3;\n",
              "      LDAvis_load_lib(\"https://cdn.jsdelivr.net/gh/bmabey/pyLDAvis@3.3.1/pyLDAvis/js/ldavis.v3.0.0.js\", function(){\n",
              "        new LDAvis(\"#\" + \"ldavis_el591402828525989926629990632\", ldavis_el591402828525989926629990632_data);\n",
              "      });\n",
              "    });\n",
              "}else{\n",
              "    // require.js not available: dynamically load d3 & LDAvis\n",
              "    LDAvis_load_lib(\"https://d3js.org/d3.v5.js\", function(){\n",
              "         LDAvis_load_lib(\"https://cdn.jsdelivr.net/gh/bmabey/pyLDAvis@3.3.1/pyLDAvis/js/ldavis.v3.0.0.js\", function(){\n",
              "                 new LDAvis(\"#\" + \"ldavis_el591402828525989926629990632\", ldavis_el591402828525989926629990632_data);\n",
              "            })\n",
              "         });\n",
              "}\n",
              "</script>"
            ]
          },
          "metadata": {},
          "execution_count": 65
        }
      ]
    }
  ],
  "metadata": {
    "kernelspec": {
      "display_name": "Python 3",
      "name": "python3"
    },
    "language_info": {
      "name": "python"
    },
    "colab": {
      "name": "W02-topic-modelling.ipynb",
      "provenance": [],
      "collapsed_sections": [],
      "toc_visible": true,
      "include_colab_link": true
    }
  },
  "nbformat": 4,
  "nbformat_minor": 0
}