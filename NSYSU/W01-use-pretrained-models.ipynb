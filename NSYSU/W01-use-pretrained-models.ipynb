{
  "cells": [
    {
      "cell_type": "markdown",
      "metadata": {
        "id": "view-in-github",
        "colab_type": "text"
      },
      "source": [
        "<a href=\"https://colab.research.google.com/github/howard-haowen/NLP-demos/blob/main/NSYSU/W01-use-pretrained-models.ipynb\" target=\"_parent\"><img src=\"https://colab.research.google.com/assets/colab-badge.svg\" alt=\"Open In Colab\"/></a>"
      ]
    },
    {
      "cell_type": "markdown",
      "metadata": {
        "id": "FGALGAK2wk-0"
      },
      "source": [
        "# NLP with pretrained models - spaCy and StanfordNLP"
      ]
    },
    {
      "cell_type": "code",
      "source": [
        "!pip install -U pip setuptools wheel\n",
        "!pip install -U spacy\n",
        "!python -m spacy download en_core_web_md\n",
        "!python -m spacy download zh_core_web_md"
      ],
      "metadata": {
        "colab": {
          "base_uri": "https://localhost:8080/"
        },
        "id": "5T0bh4HV62Vo",
        "outputId": "0cf5f0ba-7d2e-465f-aa77-3407d7d98f7b"
      },
      "execution_count": 3,
      "outputs": [
        {
          "output_type": "stream",
          "name": "stdout",
          "text": [
            "Requirement already satisfied: pip in /usr/local/lib/python3.7/dist-packages (22.0.4)\n",
            "Requirement already satisfied: setuptools in /usr/local/lib/python3.7/dist-packages (62.0.0)\n",
            "Requirement already satisfied: wheel in /usr/local/lib/python3.7/dist-packages (0.37.1)\n",
            "\u001b[33mWARNING: Running pip as the 'root' user can result in broken permissions and conflicting behaviour with the system package manager. It is recommended to use a virtual environment instead: https://pip.pypa.io/warnings/venv\u001b[0m\u001b[33m\n",
            "\u001b[0mRequirement already satisfied: spacy in /usr/local/lib/python3.7/dist-packages (3.2.4)\n",
            "Requirement already satisfied: typing-extensions<4.0.0.0,>=3.7.4 in /usr/local/lib/python3.7/dist-packages (from spacy) (3.10.0.2)\n",
            "Requirement already satisfied: packaging>=20.0 in /usr/local/lib/python3.7/dist-packages (from spacy) (21.3)\n",
            "Requirement already satisfied: srsly<3.0.0,>=2.4.1 in /usr/local/lib/python3.7/dist-packages (from spacy) (2.4.2)\n",
            "Requirement already satisfied: spacy-loggers<2.0.0,>=1.0.0 in /usr/local/lib/python3.7/dist-packages (from spacy) (1.0.2)\n",
            "Requirement already satisfied: setuptools in /usr/local/lib/python3.7/dist-packages (from spacy) (62.0.0)\n",
            "Requirement already satisfied: murmurhash<1.1.0,>=0.28.0 in /usr/local/lib/python3.7/dist-packages (from spacy) (1.0.6)\n",
            "Requirement already satisfied: spacy-legacy<3.1.0,>=3.0.8 in /usr/local/lib/python3.7/dist-packages (from spacy) (3.0.9)\n",
            "Requirement already satisfied: click<8.1.0 in /usr/local/lib/python3.7/dist-packages (from spacy) (7.1.2)\n",
            "Requirement already satisfied: cymem<2.1.0,>=2.0.2 in /usr/local/lib/python3.7/dist-packages (from spacy) (2.0.6)\n",
            "Requirement already satisfied: langcodes<4.0.0,>=3.2.0 in /usr/local/lib/python3.7/dist-packages (from spacy) (3.3.0)\n",
            "Requirement already satisfied: blis<0.8.0,>=0.4.0 in /usr/local/lib/python3.7/dist-packages (from spacy) (0.4.1)\n",
            "Requirement already satisfied: pydantic!=1.8,!=1.8.1,<1.9.0,>=1.7.4 in /usr/local/lib/python3.7/dist-packages (from spacy) (1.8.2)\n",
            "Requirement already satisfied: numpy>=1.15.0 in /usr/local/lib/python3.7/dist-packages (from spacy) (1.21.5)\n",
            "Requirement already satisfied: preshed<3.1.0,>=3.0.2 in /usr/local/lib/python3.7/dist-packages (from spacy) (3.0.6)\n",
            "Requirement already satisfied: jinja2 in /usr/local/lib/python3.7/dist-packages (from spacy) (2.11.3)\n",
            "Requirement already satisfied: wasabi<1.1.0,>=0.8.1 in /usr/local/lib/python3.7/dist-packages (from spacy) (0.9.0)\n",
            "Requirement already satisfied: catalogue<2.1.0,>=2.0.6 in /usr/local/lib/python3.7/dist-packages (from spacy) (2.0.7)\n",
            "Requirement already satisfied: typer<0.5.0,>=0.3.0 in /usr/local/lib/python3.7/dist-packages (from spacy) (0.4.1)\n",
            "Requirement already satisfied: thinc<8.1.0,>=8.0.12 in /usr/local/lib/python3.7/dist-packages (from spacy) (8.0.15)\n",
            "Requirement already satisfied: pathy>=0.3.5 in /usr/local/lib/python3.7/dist-packages (from spacy) (0.6.1)\n",
            "Requirement already satisfied: requests<3.0.0,>=2.13.0 in /usr/local/lib/python3.7/dist-packages (from spacy) (2.23.0)\n",
            "Requirement already satisfied: tqdm<5.0.0,>=4.38.0 in /usr/local/lib/python3.7/dist-packages (from spacy) (4.63.0)\n",
            "Requirement already satisfied: zipp>=0.5 in /usr/local/lib/python3.7/dist-packages (from catalogue<2.1.0,>=2.0.6->spacy) (3.7.0)\n",
            "Requirement already satisfied: pyparsing!=3.0.5,>=2.0.2 in /usr/local/lib/python3.7/dist-packages (from packaging>=20.0->spacy) (3.0.7)\n",
            "Requirement already satisfied: smart-open<6.0.0,>=5.0.0 in /usr/local/lib/python3.7/dist-packages (from pathy>=0.3.5->spacy) (5.2.1)\n",
            "Requirement already satisfied: idna<3,>=2.5 in /usr/local/lib/python3.7/dist-packages (from requests<3.0.0,>=2.13.0->spacy) (2.10)\n",
            "Requirement already satisfied: chardet<4,>=3.0.2 in /usr/local/lib/python3.7/dist-packages (from requests<3.0.0,>=2.13.0->spacy) (3.0.4)\n",
            "Requirement already satisfied: urllib3!=1.25.0,!=1.25.1,<1.26,>=1.21.1 in /usr/local/lib/python3.7/dist-packages (from requests<3.0.0,>=2.13.0->spacy) (1.24.3)\n",
            "Requirement already satisfied: certifi>=2017.4.17 in /usr/local/lib/python3.7/dist-packages (from requests<3.0.0,>=2.13.0->spacy) (2021.10.8)\n",
            "Requirement already satisfied: MarkupSafe>=0.23 in /usr/local/lib/python3.7/dist-packages (from jinja2->spacy) (2.0.1)\n",
            "\u001b[33mWARNING: Running pip as the 'root' user can result in broken permissions and conflicting behaviour with the system package manager. It is recommended to use a virtual environment instead: https://pip.pypa.io/warnings/venv\u001b[0m\u001b[33m\n",
            "\u001b[0mCollecting en-core-web-md==3.2.0\n",
            "  Downloading https://github.com/explosion/spacy-models/releases/download/en_core_web_md-3.2.0/en_core_web_md-3.2.0-py3-none-any.whl (45.7 MB)\n",
            "\u001b[2K     \u001b[90m━━━━━━━━━━━━━━━━━━━━━━━━━━━━━━━━━━━━━━━━\u001b[0m \u001b[32m45.7/45.7 MB\u001b[0m \u001b[31m11.2 MB/s\u001b[0m eta \u001b[36m0:00:00\u001b[0m\n",
            "\u001b[?25hRequirement already satisfied: spacy<3.3.0,>=3.2.0 in /usr/local/lib/python3.7/dist-packages (from en-core-web-md==3.2.0) (3.2.4)\n",
            "Requirement already satisfied: requests<3.0.0,>=2.13.0 in /usr/local/lib/python3.7/dist-packages (from spacy<3.3.0,>=3.2.0->en-core-web-md==3.2.0) (2.23.0)\n",
            "Requirement already satisfied: murmurhash<1.1.0,>=0.28.0 in /usr/local/lib/python3.7/dist-packages (from spacy<3.3.0,>=3.2.0->en-core-web-md==3.2.0) (1.0.6)\n",
            "Requirement already satisfied: jinja2 in /usr/local/lib/python3.7/dist-packages (from spacy<3.3.0,>=3.2.0->en-core-web-md==3.2.0) (2.11.3)\n",
            "Requirement already satisfied: catalogue<2.1.0,>=2.0.6 in /usr/local/lib/python3.7/dist-packages (from spacy<3.3.0,>=3.2.0->en-core-web-md==3.2.0) (2.0.7)\n",
            "Requirement already satisfied: pathy>=0.3.5 in /usr/local/lib/python3.7/dist-packages (from spacy<3.3.0,>=3.2.0->en-core-web-md==3.2.0) (0.6.1)\n",
            "Requirement already satisfied: langcodes<4.0.0,>=3.2.0 in /usr/local/lib/python3.7/dist-packages (from spacy<3.3.0,>=3.2.0->en-core-web-md==3.2.0) (3.3.0)\n",
            "Requirement already satisfied: wasabi<1.1.0,>=0.8.1 in /usr/local/lib/python3.7/dist-packages (from spacy<3.3.0,>=3.2.0->en-core-web-md==3.2.0) (0.9.0)\n",
            "Requirement already satisfied: pydantic!=1.8,!=1.8.1,<1.9.0,>=1.7.4 in /usr/local/lib/python3.7/dist-packages (from spacy<3.3.0,>=3.2.0->en-core-web-md==3.2.0) (1.8.2)\n",
            "Requirement already satisfied: setuptools in /usr/local/lib/python3.7/dist-packages (from spacy<3.3.0,>=3.2.0->en-core-web-md==3.2.0) (62.0.0)\n",
            "Requirement already satisfied: cymem<2.1.0,>=2.0.2 in /usr/local/lib/python3.7/dist-packages (from spacy<3.3.0,>=3.2.0->en-core-web-md==3.2.0) (2.0.6)\n",
            "Requirement already satisfied: spacy-legacy<3.1.0,>=3.0.8 in /usr/local/lib/python3.7/dist-packages (from spacy<3.3.0,>=3.2.0->en-core-web-md==3.2.0) (3.0.9)\n",
            "Requirement already satisfied: spacy-loggers<2.0.0,>=1.0.0 in /usr/local/lib/python3.7/dist-packages (from spacy<3.3.0,>=3.2.0->en-core-web-md==3.2.0) (1.0.2)\n",
            "Requirement already satisfied: click<8.1.0 in /usr/local/lib/python3.7/dist-packages (from spacy<3.3.0,>=3.2.0->en-core-web-md==3.2.0) (7.1.2)\n",
            "Requirement already satisfied: typer<0.5.0,>=0.3.0 in /usr/local/lib/python3.7/dist-packages (from spacy<3.3.0,>=3.2.0->en-core-web-md==3.2.0) (0.4.1)\n",
            "Requirement already satisfied: tqdm<5.0.0,>=4.38.0 in /usr/local/lib/python3.7/dist-packages (from spacy<3.3.0,>=3.2.0->en-core-web-md==3.2.0) (4.63.0)\n",
            "Requirement already satisfied: srsly<3.0.0,>=2.4.1 in /usr/local/lib/python3.7/dist-packages (from spacy<3.3.0,>=3.2.0->en-core-web-md==3.2.0) (2.4.2)\n",
            "Requirement already satisfied: thinc<8.1.0,>=8.0.12 in /usr/local/lib/python3.7/dist-packages (from spacy<3.3.0,>=3.2.0->en-core-web-md==3.2.0) (8.0.15)\n",
            "Requirement already satisfied: blis<0.8.0,>=0.4.0 in /usr/local/lib/python3.7/dist-packages (from spacy<3.3.0,>=3.2.0->en-core-web-md==3.2.0) (0.4.1)\n",
            "Requirement already satisfied: numpy>=1.15.0 in /usr/local/lib/python3.7/dist-packages (from spacy<3.3.0,>=3.2.0->en-core-web-md==3.2.0) (1.21.5)\n",
            "Requirement already satisfied: packaging>=20.0 in /usr/local/lib/python3.7/dist-packages (from spacy<3.3.0,>=3.2.0->en-core-web-md==3.2.0) (21.3)\n",
            "Requirement already satisfied: typing-extensions<4.0.0.0,>=3.7.4 in /usr/local/lib/python3.7/dist-packages (from spacy<3.3.0,>=3.2.0->en-core-web-md==3.2.0) (3.10.0.2)\n",
            "Requirement already satisfied: preshed<3.1.0,>=3.0.2 in /usr/local/lib/python3.7/dist-packages (from spacy<3.3.0,>=3.2.0->en-core-web-md==3.2.0) (3.0.6)\n",
            "Requirement already satisfied: zipp>=0.5 in /usr/local/lib/python3.7/dist-packages (from catalogue<2.1.0,>=2.0.6->spacy<3.3.0,>=3.2.0->en-core-web-md==3.2.0) (3.7.0)\n",
            "Requirement already satisfied: pyparsing!=3.0.5,>=2.0.2 in /usr/local/lib/python3.7/dist-packages (from packaging>=20.0->spacy<3.3.0,>=3.2.0->en-core-web-md==3.2.0) (3.0.7)\n",
            "Requirement already satisfied: smart-open<6.0.0,>=5.0.0 in /usr/local/lib/python3.7/dist-packages (from pathy>=0.3.5->spacy<3.3.0,>=3.2.0->en-core-web-md==3.2.0) (5.2.1)\n",
            "Requirement already satisfied: chardet<4,>=3.0.2 in /usr/local/lib/python3.7/dist-packages (from requests<3.0.0,>=2.13.0->spacy<3.3.0,>=3.2.0->en-core-web-md==3.2.0) (3.0.4)\n",
            "Requirement already satisfied: certifi>=2017.4.17 in /usr/local/lib/python3.7/dist-packages (from requests<3.0.0,>=2.13.0->spacy<3.3.0,>=3.2.0->en-core-web-md==3.2.0) (2021.10.8)\n",
            "Requirement already satisfied: idna<3,>=2.5 in /usr/local/lib/python3.7/dist-packages (from requests<3.0.0,>=2.13.0->spacy<3.3.0,>=3.2.0->en-core-web-md==3.2.0) (2.10)\n",
            "Requirement already satisfied: urllib3!=1.25.0,!=1.25.1,<1.26,>=1.21.1 in /usr/local/lib/python3.7/dist-packages (from requests<3.0.0,>=2.13.0->spacy<3.3.0,>=3.2.0->en-core-web-md==3.2.0) (1.24.3)\n",
            "Requirement already satisfied: MarkupSafe>=0.23 in /usr/local/lib/python3.7/dist-packages (from jinja2->spacy<3.3.0,>=3.2.0->en-core-web-md==3.2.0) (2.0.1)\n",
            "\u001b[33mWARNING: Running pip as the 'root' user can result in broken permissions and conflicting behaviour with the system package manager. It is recommended to use a virtual environment instead: https://pip.pypa.io/warnings/venv\u001b[0m\u001b[33m\n",
            "\u001b[0m\u001b[38;5;2m✔ Download and installation successful\u001b[0m\n",
            "You can now load the package via spacy.load('en_core_web_md')\n",
            "Collecting zh-core-web-md==3.2.0\n",
            "  Downloading https://github.com/explosion/spacy-models/releases/download/zh_core_web_md-3.2.0/zh_core_web_md-3.2.0-py3-none-any.whl (79.0 MB)\n",
            "\u001b[2K     \u001b[90m━━━━━━━━━━━━━━━━━━━━━━━━━━━━━━━━━━━━━━━━\u001b[0m \u001b[32m79.0/79.0 MB\u001b[0m \u001b[31m9.2 MB/s\u001b[0m eta \u001b[36m0:00:00\u001b[0m\n",
            "\u001b[?25hRequirement already satisfied: spacy-pkuseg<0.1.0,>=0.0.27 in /usr/local/lib/python3.7/dist-packages (from zh-core-web-md==3.2.0) (0.0.28)\n",
            "Requirement already satisfied: spacy<3.3.0,>=3.2.0 in /usr/local/lib/python3.7/dist-packages (from zh-core-web-md==3.2.0) (3.2.4)\n",
            "Requirement already satisfied: pydantic!=1.8,!=1.8.1,<1.9.0,>=1.7.4 in /usr/local/lib/python3.7/dist-packages (from spacy<3.3.0,>=3.2.0->zh-core-web-md==3.2.0) (1.8.2)\n",
            "Requirement already satisfied: cymem<2.1.0,>=2.0.2 in /usr/local/lib/python3.7/dist-packages (from spacy<3.3.0,>=3.2.0->zh-core-web-md==3.2.0) (2.0.6)\n",
            "Requirement already satisfied: spacy-legacy<3.1.0,>=3.0.8 in /usr/local/lib/python3.7/dist-packages (from spacy<3.3.0,>=3.2.0->zh-core-web-md==3.2.0) (3.0.9)\n",
            "Requirement already satisfied: requests<3.0.0,>=2.13.0 in /usr/local/lib/python3.7/dist-packages (from spacy<3.3.0,>=3.2.0->zh-core-web-md==3.2.0) (2.23.0)\n",
            "Requirement already satisfied: srsly<3.0.0,>=2.4.1 in /usr/local/lib/python3.7/dist-packages (from spacy<3.3.0,>=3.2.0->zh-core-web-md==3.2.0) (2.4.2)\n",
            "Requirement already satisfied: typer<0.5.0,>=0.3.0 in /usr/local/lib/python3.7/dist-packages (from spacy<3.3.0,>=3.2.0->zh-core-web-md==3.2.0) (0.4.1)\n",
            "Requirement already satisfied: murmurhash<1.1.0,>=0.28.0 in /usr/local/lib/python3.7/dist-packages (from spacy<3.3.0,>=3.2.0->zh-core-web-md==3.2.0) (1.0.6)\n",
            "Requirement already satisfied: numpy>=1.15.0 in /usr/local/lib/python3.7/dist-packages (from spacy<3.3.0,>=3.2.0->zh-core-web-md==3.2.0) (1.21.5)\n",
            "Requirement already satisfied: catalogue<2.1.0,>=2.0.6 in /usr/local/lib/python3.7/dist-packages (from spacy<3.3.0,>=3.2.0->zh-core-web-md==3.2.0) (2.0.7)\n",
            "Requirement already satisfied: spacy-loggers<2.0.0,>=1.0.0 in /usr/local/lib/python3.7/dist-packages (from spacy<3.3.0,>=3.2.0->zh-core-web-md==3.2.0) (1.0.2)\n",
            "Requirement already satisfied: tqdm<5.0.0,>=4.38.0 in /usr/local/lib/python3.7/dist-packages (from spacy<3.3.0,>=3.2.0->zh-core-web-md==3.2.0) (4.63.0)\n",
            "Requirement already satisfied: typing-extensions<4.0.0.0,>=3.7.4 in /usr/local/lib/python3.7/dist-packages (from spacy<3.3.0,>=3.2.0->zh-core-web-md==3.2.0) (3.10.0.2)\n",
            "Requirement already satisfied: preshed<3.1.0,>=3.0.2 in /usr/local/lib/python3.7/dist-packages (from spacy<3.3.0,>=3.2.0->zh-core-web-md==3.2.0) (3.0.6)\n",
            "Requirement already satisfied: setuptools in /usr/local/lib/python3.7/dist-packages (from spacy<3.3.0,>=3.2.0->zh-core-web-md==3.2.0) (62.0.0)\n",
            "Requirement already satisfied: wasabi<1.1.0,>=0.8.1 in /usr/local/lib/python3.7/dist-packages (from spacy<3.3.0,>=3.2.0->zh-core-web-md==3.2.0) (0.9.0)\n",
            "Requirement already satisfied: jinja2 in /usr/local/lib/python3.7/dist-packages (from spacy<3.3.0,>=3.2.0->zh-core-web-md==3.2.0) (2.11.3)\n",
            "Requirement already satisfied: pathy>=0.3.5 in /usr/local/lib/python3.7/dist-packages (from spacy<3.3.0,>=3.2.0->zh-core-web-md==3.2.0) (0.6.1)\n",
            "Requirement already satisfied: thinc<8.1.0,>=8.0.12 in /usr/local/lib/python3.7/dist-packages (from spacy<3.3.0,>=3.2.0->zh-core-web-md==3.2.0) (8.0.15)\n",
            "Requirement already satisfied: packaging>=20.0 in /usr/local/lib/python3.7/dist-packages (from spacy<3.3.0,>=3.2.0->zh-core-web-md==3.2.0) (21.3)\n",
            "Requirement already satisfied: click<8.1.0 in /usr/local/lib/python3.7/dist-packages (from spacy<3.3.0,>=3.2.0->zh-core-web-md==3.2.0) (7.1.2)\n",
            "Requirement already satisfied: langcodes<4.0.0,>=3.2.0 in /usr/local/lib/python3.7/dist-packages (from spacy<3.3.0,>=3.2.0->zh-core-web-md==3.2.0) (3.3.0)\n",
            "Requirement already satisfied: blis<0.8.0,>=0.4.0 in /usr/local/lib/python3.7/dist-packages (from spacy<3.3.0,>=3.2.0->zh-core-web-md==3.2.0) (0.4.1)\n",
            "Requirement already satisfied: cython>=0.25 in /usr/local/lib/python3.7/dist-packages (from spacy-pkuseg<0.1.0,>=0.0.27->zh-core-web-md==3.2.0) (0.29.28)\n",
            "Requirement already satisfied: zipp>=0.5 in /usr/local/lib/python3.7/dist-packages (from catalogue<2.1.0,>=2.0.6->spacy<3.3.0,>=3.2.0->zh-core-web-md==3.2.0) (3.7.0)\n",
            "Requirement already satisfied: pyparsing!=3.0.5,>=2.0.2 in /usr/local/lib/python3.7/dist-packages (from packaging>=20.0->spacy<3.3.0,>=3.2.0->zh-core-web-md==3.2.0) (3.0.7)\n",
            "Requirement already satisfied: smart-open<6.0.0,>=5.0.0 in /usr/local/lib/python3.7/dist-packages (from pathy>=0.3.5->spacy<3.3.0,>=3.2.0->zh-core-web-md==3.2.0) (5.2.1)\n",
            "Requirement already satisfied: idna<3,>=2.5 in /usr/local/lib/python3.7/dist-packages (from requests<3.0.0,>=2.13.0->spacy<3.3.0,>=3.2.0->zh-core-web-md==3.2.0) (2.10)\n",
            "Requirement already satisfied: certifi>=2017.4.17 in /usr/local/lib/python3.7/dist-packages (from requests<3.0.0,>=2.13.0->spacy<3.3.0,>=3.2.0->zh-core-web-md==3.2.0) (2021.10.8)\n",
            "Requirement already satisfied: chardet<4,>=3.0.2 in /usr/local/lib/python3.7/dist-packages (from requests<3.0.0,>=2.13.0->spacy<3.3.0,>=3.2.0->zh-core-web-md==3.2.0) (3.0.4)\n",
            "Requirement already satisfied: urllib3!=1.25.0,!=1.25.1,<1.26,>=1.21.1 in /usr/local/lib/python3.7/dist-packages (from requests<3.0.0,>=2.13.0->spacy<3.3.0,>=3.2.0->zh-core-web-md==3.2.0) (1.24.3)\n",
            "Requirement already satisfied: MarkupSafe>=0.23 in /usr/local/lib/python3.7/dist-packages (from jinja2->spacy<3.3.0,>=3.2.0->zh-core-web-md==3.2.0) (2.0.1)\n",
            "\u001b[33mWARNING: Running pip as the 'root' user can result in broken permissions and conflicting behaviour with the system package manager. It is recommended to use a virtual environment instead: https://pip.pypa.io/warnings/venv\u001b[0m\u001b[33m\n",
            "\u001b[0m\u001b[38;5;2m✔ Download and installation successful\u001b[0m\n",
            "You can now load the package via spacy.load('zh_core_web_md')\n"
          ]
        }
      ]
    },
    {
      "cell_type": "markdown",
      "source": [
        "![](https://spacy.io/pipeline-fde48da9b43661abcdf62ab70a546d71.svg)"
      ],
      "metadata": {
        "id": "4xxgDzNgA__e"
      }
    },
    {
      "cell_type": "code",
      "execution_count": 4,
      "metadata": {
        "id": "AG9Fr9tMwk-5"
      },
      "outputs": [],
      "source": [
        "import spacy\n",
        "from IPython.display import HTML, display\n",
        "import tabulate"
      ]
    },
    {
      "cell_type": "code",
      "source": [
        "spacy.info()"
      ],
      "metadata": {
        "id": "sZ0etPoz2Xuy",
        "outputId": "a44472f4-977e-4b73-bc2e-acd406b56caa",
        "colab": {
          "base_uri": "https://localhost:8080/"
        }
      },
      "execution_count": 5,
      "outputs": [
        {
          "output_type": "execute_result",
          "data": {
            "text/plain": [
              "{'location': '/usr/local/lib/python3.7/dist-packages/spacy',\n",
              " 'pipelines': {'en_core_web_md': '3.2.0', 'zh_core_web_md': '3.2.0'},\n",
              " 'platform': 'Linux-5.4.144+-x86_64-with-Ubuntu-18.04-bionic',\n",
              " 'python_version': '3.7.13',\n",
              " 'spacy_version': '3.2.4'}"
            ]
          },
          "metadata": {},
          "execution_count": 5
        }
      ]
    },
    {
      "cell_type": "markdown",
      "source": [
        "- Play with [this Web App](https://share.streamlit.io/howard-haowen/spacy-streamlit/app.py) that I created, which is powered by spaCy."
      ],
      "metadata": {
        "id": "kUXK0igWCdoq"
      }
    },
    {
      "cell_type": "markdown",
      "source": [
        "## English NLP"
      ],
      "metadata": {
        "id": "bDns3sBg2rvZ"
      }
    },
    {
      "cell_type": "code",
      "source": [
        "en = spacy.load(\"en_core_web_md\")"
      ],
      "metadata": {
        "id": "fy_QA0ib7hE1"
      },
      "execution_count": 6,
      "outputs": []
    },
    {
      "cell_type": "code",
      "execution_count": 7,
      "metadata": {
        "id": "xlVecKvxwk-7",
        "outputId": "2e813f0b-3c5b-47ff-c400-eb281f8b53b0",
        "colab": {
          "base_uri": "https://localhost:8080/"
        }
      },
      "outputs": [
        {
          "output_type": "stream",
          "name": "stdout",
          "text": [
            "Donald John Trump (born June 14, 1946) is the 45th and current president of the United States.  Before entering politics, he was a businessman and television personality.\n"
          ]
        }
      ],
      "source": [
        "text = (\"Donald John Trump (born June 14, 1946) is the 45th and current president of \"\n",
        "        \"the United States.  Before entering politics, he was a businessman and television personality.\")\n",
        "print(text)"
      ]
    },
    {
      "cell_type": "code",
      "execution_count": 8,
      "metadata": {
        "id": "3l3k7kszwk-7"
      },
      "outputs": [],
      "source": [
        "doc_en = en(text)"
      ]
    },
    {
      "cell_type": "markdown",
      "metadata": {
        "id": "zSv5WA3twk-8"
      },
      "source": [
        "First spaCy splits your document into sentences, and the sentences in tokens."
      ]
    },
    {
      "cell_type": "code",
      "execution_count": 9,
      "metadata": {
        "id": "1IduCRRqwk-8",
        "outputId": "293c8111-7313-427b-be59-ff43640c3449",
        "colab": {
          "base_uri": "https://localhost:8080/"
        }
      },
      "outputs": [
        {
          "output_type": "execute_result",
          "data": {
            "text/plain": [
              "[Donald John Trump (born June 14, 1946) is the 45th and current president of the United States.,\n",
              "  Before entering politics, he was a businessman and television personality.]"
            ]
          },
          "metadata": {},
          "execution_count": 9
        }
      ],
      "source": [
        "list(doc_en.sents)"
      ]
    },
    {
      "cell_type": "code",
      "execution_count": 51,
      "metadata": {
        "id": "4g_rM0qIwk-8",
        "outputId": "e8cf22ee-f576-46d7-cc9b-368e5514cd2c",
        "colab": {
          "base_uri": "https://localhost:8080/"
        }
      },
      "outputs": [
        {
          "output_type": "stream",
          "name": "stdout",
          "text": [
            "['Donald', 'John', 'Trump', '(', 'born', 'June', '14', ',', '1946', ')', 'is', 'the', '45th', 'and', 'current', 'president', 'of', 'the', 'United', 'States', '.', ' ', 'Before', 'entering', 'politics', ',', 'he', 'was', 'a', 'businessman', 'and', 'television', 'personality', '.']\n"
          ]
        }
      ],
      "source": [
        "tokens = [token.text for token in doc_en]\n",
        "print(tokens)"
      ]
    },
    {
      "cell_type": "markdown",
      "metadata": {
        "id": "hokEXPh0wk-9"
      },
      "source": [
        "In addition, spaCy also identifies a number of linguistic features for every token. The most basic of these are the lemma, and two types of parts-of-speech tags: the `pos_` attribute contains the [Universal POS tags](https://universaldependencies.org/u/pos/) from the [Universal Dependencies](https://universaldependencies.org/), while the `tag_` attribute contains more fine-grained, language-specific part-of-speech tags."
      ]
    },
    {
      "cell_type": "code",
      "execution_count": 11,
      "metadata": {
        "id": "0fQ81Ye9wk-_",
        "outputId": "30e5390c-bde3-45e3-d316-5de133127a0a",
        "colab": {
          "base_uri": "https://localhost:8080/",
          "height": 745
        }
      },
      "outputs": [
        {
          "output_type": "display_data",
          "data": {
            "text/plain": [
              "<IPython.core.display.HTML object>"
            ],
            "text/html": [
              "<table>\n",
              "<tbody>\n",
              "<tr><td>Donald     </td><td>Donald     </td><td>PROPN</td><td>NNP  </td></tr>\n",
              "<tr><td>John       </td><td>John       </td><td>PROPN</td><td>NNP  </td></tr>\n",
              "<tr><td>Trump      </td><td>Trump      </td><td>PROPN</td><td>NNP  </td></tr>\n",
              "<tr><td>(          </td><td>(          </td><td>PUNCT</td><td>-LRB-</td></tr>\n",
              "<tr><td>born       </td><td>bear       </td><td>VERB </td><td>VBN  </td></tr>\n",
              "<tr><td>June       </td><td>June       </td><td>PROPN</td><td>NNP  </td></tr>\n",
              "<tr><td>14         </td><td>14         </td><td>NUM  </td><td>CD   </td></tr>\n",
              "<tr><td>,          </td><td>,          </td><td>PUNCT</td><td>,    </td></tr>\n",
              "<tr><td>1946       </td><td>1946       </td><td>NUM  </td><td>CD   </td></tr>\n",
              "<tr><td>)          </td><td>)          </td><td>PUNCT</td><td>-RRB-</td></tr>\n",
              "<tr><td>is         </td><td>be         </td><td>AUX  </td><td>VBZ  </td></tr>\n",
              "<tr><td>the        </td><td>the        </td><td>DET  </td><td>DT   </td></tr>\n",
              "<tr><td>45th       </td><td>45th       </td><td>ADJ  </td><td>JJ   </td></tr>\n",
              "<tr><td>and        </td><td>and        </td><td>CCONJ</td><td>CC   </td></tr>\n",
              "<tr><td>current    </td><td>current    </td><td>ADJ  </td><td>JJ   </td></tr>\n",
              "<tr><td>president  </td><td>president  </td><td>NOUN </td><td>NN   </td></tr>\n",
              "<tr><td>of         </td><td>of         </td><td>ADP  </td><td>IN   </td></tr>\n",
              "<tr><td>the        </td><td>the        </td><td>DET  </td><td>DT   </td></tr>\n",
              "<tr><td>United     </td><td>United     </td><td>PROPN</td><td>NNP  </td></tr>\n",
              "<tr><td>States     </td><td>States     </td><td>PROPN</td><td>NNP  </td></tr>\n",
              "<tr><td>.          </td><td>.          </td><td>PUNCT</td><td>.    </td></tr>\n",
              "<tr><td>           </td><td>           </td><td>SPACE</td><td>_SP  </td></tr>\n",
              "<tr><td>Before     </td><td>before     </td><td>ADP  </td><td>IN   </td></tr>\n",
              "<tr><td>entering   </td><td>enter      </td><td>VERB </td><td>VBG  </td></tr>\n",
              "<tr><td>politics   </td><td>politic    </td><td>NOUN </td><td>NNS  </td></tr>\n",
              "<tr><td>,          </td><td>,          </td><td>PUNCT</td><td>,    </td></tr>\n",
              "<tr><td>he         </td><td>he         </td><td>PRON </td><td>PRP  </td></tr>\n",
              "<tr><td>was        </td><td>be         </td><td>AUX  </td><td>VBD  </td></tr>\n",
              "<tr><td>a          </td><td>a          </td><td>DET  </td><td>DT   </td></tr>\n",
              "<tr><td>businessman</td><td>businessman</td><td>NOUN </td><td>NN   </td></tr>\n",
              "<tr><td>and        </td><td>and        </td><td>CCONJ</td><td>CC   </td></tr>\n",
              "<tr><td>television </td><td>television </td><td>NOUN </td><td>NN   </td></tr>\n",
              "<tr><td>personality</td><td>personality</td><td>NOUN </td><td>NN   </td></tr>\n",
              "<tr><td>.          </td><td>.          </td><td>PUNCT</td><td>.    </td></tr>\n",
              "</tbody>\n",
              "</table>"
            ]
          },
          "metadata": {}
        }
      ],
      "source": [
        "features = [[t.orth_, t.lemma_, t.pos_, t.tag_] for t in doc_en]\n",
        "display(HTML(tabulate.tabulate(features, tablefmt='html')))"
      ]
    },
    {
      "cell_type": "markdown",
      "metadata": {
        "id": "c1ZjaXBfwk_A"
      },
      "source": [
        "Next, spaCy also offers pre-trained models for named entity recognition. Their results can be found on the `ent_iob_` and `ent_type` attributes. The `ent_type` attribute tells us what type of entity the token refers to. In the English models, these entity types follow the [OntoNotes standard](https://catalog.ldc.upenn.edu/docs/LDC2013T19/OntoNotes-Release-5.0.pdf). In our example, we see that `Donald John Trump` refers to a person, `June 14, 1946` to a date, `45th` to an ordinal number, and `the United States` to a geo-political entity (GPE). \n",
        "\n",
        "The letters on the `ent_iob_` attribute give the position of the token in the entity. `O` means the token is outside of an entity, `B` means the token is at the beginning of an entity, and `I` means it is inside an entity (at any position except for the beginning). In this way, we can tell apart several entities of the same type that immediately follow each other. Together these letters form the so-called `BIO` tagging scheme. There are other tagging schemes, such as `BILUO`, which also has letters for the last position and single (unique) tokens in an entity, but the BIO scheme gives you all the information you need.  "
      ]
    },
    {
      "cell_type": "code",
      "execution_count": 12,
      "metadata": {
        "id": "n-es444kwk_A",
        "outputId": "79db7daa-e7a5-4dd4-d7df-d60dbf2e2681",
        "colab": {
          "base_uri": "https://localhost:8080/",
          "height": 745
        }
      },
      "outputs": [
        {
          "output_type": "display_data",
          "data": {
            "text/plain": [
              "<IPython.core.display.HTML object>"
            ],
            "text/html": [
              "<table>\n",
              "<tbody>\n",
              "<tr><td>Donald     </td><td>B</td><td>PERSON </td></tr>\n",
              "<tr><td>John       </td><td>I</td><td>PERSON </td></tr>\n",
              "<tr><td>Trump      </td><td>I</td><td>PERSON </td></tr>\n",
              "<tr><td>(          </td><td>O</td><td>       </td></tr>\n",
              "<tr><td>born       </td><td>O</td><td>       </td></tr>\n",
              "<tr><td>June       </td><td>B</td><td>DATE   </td></tr>\n",
              "<tr><td>14         </td><td>I</td><td>DATE   </td></tr>\n",
              "<tr><td>,          </td><td>I</td><td>DATE   </td></tr>\n",
              "<tr><td>1946       </td><td>I</td><td>DATE   </td></tr>\n",
              "<tr><td>)          </td><td>O</td><td>       </td></tr>\n",
              "<tr><td>is         </td><td>O</td><td>       </td></tr>\n",
              "<tr><td>the        </td><td>O</td><td>       </td></tr>\n",
              "<tr><td>45th       </td><td>B</td><td>ORDINAL</td></tr>\n",
              "<tr><td>and        </td><td>O</td><td>       </td></tr>\n",
              "<tr><td>current    </td><td>O</td><td>       </td></tr>\n",
              "<tr><td>president  </td><td>O</td><td>       </td></tr>\n",
              "<tr><td>of         </td><td>O</td><td>       </td></tr>\n",
              "<tr><td>the        </td><td>B</td><td>GPE    </td></tr>\n",
              "<tr><td>United     </td><td>I</td><td>GPE    </td></tr>\n",
              "<tr><td>States     </td><td>I</td><td>GPE    </td></tr>\n",
              "<tr><td>.          </td><td>O</td><td>       </td></tr>\n",
              "<tr><td>           </td><td>O</td><td>       </td></tr>\n",
              "<tr><td>Before     </td><td>O</td><td>       </td></tr>\n",
              "<tr><td>entering   </td><td>O</td><td>       </td></tr>\n",
              "<tr><td>politics   </td><td>O</td><td>       </td></tr>\n",
              "<tr><td>,          </td><td>O</td><td>       </td></tr>\n",
              "<tr><td>he         </td><td>O</td><td>       </td></tr>\n",
              "<tr><td>was        </td><td>O</td><td>       </td></tr>\n",
              "<tr><td>a          </td><td>O</td><td>       </td></tr>\n",
              "<tr><td>businessman</td><td>O</td><td>       </td></tr>\n",
              "<tr><td>and        </td><td>O</td><td>       </td></tr>\n",
              "<tr><td>television </td><td>O</td><td>       </td></tr>\n",
              "<tr><td>personality</td><td>O</td><td>       </td></tr>\n",
              "<tr><td>.          </td><td>O</td><td>       </td></tr>\n",
              "</tbody>\n",
              "</table>"
            ]
          },
          "metadata": {}
        }
      ],
      "source": [
        "entities = [(t.orth_, t.ent_iob_, t.ent_type_) for t in doc_en]\n",
        "display(HTML(tabulate.tabulate(entities, tablefmt='html')))"
      ]
    },
    {
      "cell_type": "markdown",
      "metadata": {
        "id": "sAnHlup7wk_B"
      },
      "source": [
        "You can also access the entities directly on the `ents` attribute of the document: "
      ]
    },
    {
      "cell_type": "code",
      "execution_count": 13,
      "metadata": {
        "id": "eguxaqnVwk_B",
        "outputId": "ebb611fc-4368-4ae1-f579-a15c3a2c6db4",
        "colab": {
          "base_uri": "https://localhost:8080/"
        }
      },
      "outputs": [
        {
          "output_type": "stream",
          "name": "stdout",
          "text": [
            "[('Donald John Trump', 'PERSON'), ('June 14, 1946', 'DATE'), ('45th', 'ORDINAL'), ('the United States', 'GPE')]\n"
          ]
        }
      ],
      "source": [
        "print([(ent.text, ent.label_) for ent in doc_en.ents])"
      ]
    },
    {
      "cell_type": "markdown",
      "metadata": {
        "id": "R_lp-ih4wk_B"
      },
      "source": [
        "spaCy also contains a dependency parser, which analyzes the grammatical relations between the tokens. "
      ]
    },
    {
      "cell_type": "code",
      "execution_count": 14,
      "metadata": {
        "id": "QZHHNKwTwk_C",
        "outputId": "29b5c83a-b2b9-4b7e-add0-8058ab93d613",
        "colab": {
          "base_uri": "https://localhost:8080/",
          "height": 745
        }
      },
      "outputs": [
        {
          "output_type": "display_data",
          "data": {
            "text/plain": [
              "<IPython.core.display.HTML object>"
            ],
            "text/html": [
              "<table>\n",
              "<tbody>\n",
              "<tr><td>Donald     </td><td>compound</td><td>Trump      </td></tr>\n",
              "<tr><td>John       </td><td>compound</td><td>Trump      </td></tr>\n",
              "<tr><td>Trump      </td><td>nsubj   </td><td>is         </td></tr>\n",
              "<tr><td>(          </td><td>punct   </td><td>Trump      </td></tr>\n",
              "<tr><td>born       </td><td>acl     </td><td>Trump      </td></tr>\n",
              "<tr><td>June       </td><td>npadvmod</td><td>born       </td></tr>\n",
              "<tr><td>14         </td><td>nummod  </td><td>June       </td></tr>\n",
              "<tr><td>,          </td><td>punct   </td><td>June       </td></tr>\n",
              "<tr><td>1946       </td><td>nummod  </td><td>June       </td></tr>\n",
              "<tr><td>)          </td><td>punct   </td><td>Trump      </td></tr>\n",
              "<tr><td>is         </td><td>ROOT    </td><td>is         </td></tr>\n",
              "<tr><td>the        </td><td>det     </td><td>president  </td></tr>\n",
              "<tr><td>45th       </td><td>amod    </td><td>president  </td></tr>\n",
              "<tr><td>and        </td><td>cc      </td><td>45th       </td></tr>\n",
              "<tr><td>current    </td><td>conj    </td><td>45th       </td></tr>\n",
              "<tr><td>president  </td><td>attr    </td><td>is         </td></tr>\n",
              "<tr><td>of         </td><td>prep    </td><td>president  </td></tr>\n",
              "<tr><td>the        </td><td>det     </td><td>States     </td></tr>\n",
              "<tr><td>United     </td><td>compound</td><td>States     </td></tr>\n",
              "<tr><td>States     </td><td>pobj    </td><td>of         </td></tr>\n",
              "<tr><td>.          </td><td>punct   </td><td>is         </td></tr>\n",
              "<tr><td>           </td><td>dep     </td><td>was        </td></tr>\n",
              "<tr><td>Before     </td><td>prep    </td><td>was        </td></tr>\n",
              "<tr><td>entering   </td><td>pcomp   </td><td>Before     </td></tr>\n",
              "<tr><td>politics   </td><td>dobj    </td><td>entering   </td></tr>\n",
              "<tr><td>,          </td><td>punct   </td><td>was        </td></tr>\n",
              "<tr><td>he         </td><td>nsubj   </td><td>was        </td></tr>\n",
              "<tr><td>was        </td><td>ROOT    </td><td>was        </td></tr>\n",
              "<tr><td>a          </td><td>det     </td><td>personality</td></tr>\n",
              "<tr><td>businessman</td><td>nmod    </td><td>personality</td></tr>\n",
              "<tr><td>and        </td><td>cc      </td><td>businessman</td></tr>\n",
              "<tr><td>television </td><td>conj    </td><td>businessman</td></tr>\n",
              "<tr><td>personality</td><td>attr    </td><td>was        </td></tr>\n",
              "<tr><td>.          </td><td>punct   </td><td>was        </td></tr>\n",
              "</tbody>\n",
              "</table>"
            ]
          },
          "metadata": {}
        }
      ],
      "source": [
        "syntax = [[token.text, token.dep_, token.head.text ] for token in doc_en]\n",
        "display(HTML(tabulate.tabulate(syntax, tablefmt='html')))"
      ]
    },
    {
      "cell_type": "markdown",
      "source": [
        "Finally, the English spaCy model contains a morphological parser."
      ],
      "metadata": {
        "id": "umAUHhTdQU8b"
      }
    },
    {
      "cell_type": "code",
      "source": [
        "features = [[t.text, t.morph] for t in doc_en]\n",
        "display(HTML(tabulate.tabulate(features, tablefmt='html')))"
      ],
      "metadata": {
        "colab": {
          "base_uri": "https://localhost:8080/",
          "height": 728
        },
        "id": "xpFmyJaVQVm2",
        "outputId": "d19d990d-fd19-4912-cbae-4c4ce72168f5"
      },
      "execution_count": 42,
      "outputs": [
        {
          "output_type": "display_data",
          "data": {
            "text/plain": [
              "<IPython.core.display.HTML object>"
            ],
            "text/html": [
              "<table>\n",
              "<tbody>\n",
              "<tr><td>Donald     </td><td>Number=Sing                                           </td></tr>\n",
              "<tr><td>John       </td><td>Number=Sing                                           </td></tr>\n",
              "<tr><td>Trump      </td><td>Number=Sing                                           </td></tr>\n",
              "<tr><td>(          </td><td>PunctSide=Ini|PunctType=Brck                          </td></tr>\n",
              "<tr><td>born       </td><td>Aspect=Perf|Tense=Past|VerbForm=Part                  </td></tr>\n",
              "<tr><td>June       </td><td>Number=Sing                                           </td></tr>\n",
              "<tr><td>14         </td><td>NumType=Card                                          </td></tr>\n",
              "<tr><td>,          </td><td>PunctType=Comm                                        </td></tr>\n",
              "<tr><td>1946       </td><td>NumType=Card                                          </td></tr>\n",
              "<tr><td>)          </td><td>PunctSide=Fin|PunctType=Brck                          </td></tr>\n",
              "<tr><td>is         </td><td>Mood=Ind|Number=Sing|Person=3|Tense=Pres|VerbForm=Fin </td></tr>\n",
              "<tr><td>the        </td><td>Definite=Def|PronType=Art                             </td></tr>\n",
              "<tr><td>45th       </td><td>Degree=Pos                                            </td></tr>\n",
              "<tr><td>and        </td><td>ConjType=Cmp                                          </td></tr>\n",
              "<tr><td>current    </td><td>Degree=Pos                                            </td></tr>\n",
              "<tr><td>president  </td><td>Number=Sing                                           </td></tr>\n",
              "<tr><td>of         </td><td>                                                      </td></tr>\n",
              "<tr><td>the        </td><td>Definite=Def|PronType=Art                             </td></tr>\n",
              "<tr><td>United     </td><td>Number=Sing                                           </td></tr>\n",
              "<tr><td>States     </td><td>Number=Sing                                           </td></tr>\n",
              "<tr><td>.          </td><td>PunctType=Peri                                        </td></tr>\n",
              "<tr><td>           </td><td>                                                      </td></tr>\n",
              "<tr><td>Before     </td><td>                                                      </td></tr>\n",
              "<tr><td>entering   </td><td>Aspect=Prog|Tense=Pres|VerbForm=Part                  </td></tr>\n",
              "<tr><td>politics   </td><td>Number=Plur                                           </td></tr>\n",
              "<tr><td>,          </td><td>PunctType=Comm                                        </td></tr>\n",
              "<tr><td>he         </td><td>Case=Nom|Gender=Masc|Number=Sing|Person=3|PronType=Prs</td></tr>\n",
              "<tr><td>was        </td><td>Mood=Ind|Number=Sing|Person=3|Tense=Past|VerbForm=Fin </td></tr>\n",
              "<tr><td>a          </td><td>Definite=Ind|PronType=Art                             </td></tr>\n",
              "<tr><td>businessman</td><td>Number=Sing                                           </td></tr>\n",
              "<tr><td>and        </td><td>ConjType=Cmp                                          </td></tr>\n",
              "<tr><td>television </td><td>Number=Sing                                           </td></tr>\n",
              "<tr><td>personality</td><td>Number=Sing                                           </td></tr>\n",
              "<tr><td>.          </td><td>PunctType=Peri                                        </td></tr>\n",
              "</tbody>\n",
              "</table>"
            ]
          },
          "metadata": {}
        }
      ]
    },
    {
      "cell_type": "markdown",
      "metadata": {
        "id": "vLClbFviwk_C"
      },
      "source": [
        "## Multingual NLP"
      ]
    },
    {
      "cell_type": "markdown",
      "metadata": {
        "id": "Ckbp79ilwk_C"
      },
      "source": [
        "SpaCy doesn't only have models for English, but also for many other languages."
      ]
    },
    {
      "cell_type": "code",
      "source": [
        "zh = spacy.load(\"zh_core_web_md\")"
      ],
      "metadata": {
        "id": "q5zp8GAz8hxh"
      },
      "execution_count": 15,
      "outputs": []
    },
    {
      "cell_type": "code",
      "execution_count": 16,
      "metadata": {
        "id": "5HemfWhawk_C"
      },
      "outputs": [],
      "source": [
        "text_zh = \"中山大學人文暨科技跨領域學士學位學程助理教授宋世祥表示，2021年聖誕節假期期間，師生舉辦「街頭玩童～鹽埕兒童街區遊戲日」成果展。活動中可看見學生運用贊助單位瑞儀教育基金會致贈的廢棄木棧板，製作了6具兒童創意遊具，一方面展示學習成果，也希望藉此呼籲高雄民眾重視兒童的遊戲權。\"\n",
        "doc_zh = zh(text_zh)"
      ]
    },
    {
      "cell_type": "markdown",
      "metadata": {
        "id": "xsF4wHjwwk_D"
      },
      "source": [
        "The tokens in the Chinese document have the same attributes as those in the English one. Take care, however, because the functionality of the models can differ across languages. Here are three main differences between the English and the Chinese model: \n",
        "\n",
        "- The Chinese model does not offer lemmatization: the `text` attribute is identical to the `orth_` attribute.\n",
        "- The Chinese model has a very different fine-grained part-of-speech tags on the `tag_` attribute.\n",
        "- The Chinese model has different entity types (PER, LOC and ORG) than the English one. \n",
        "\n",
        "This is a result of the training corpora that were used to build the models, whose annotation guidelines may be very different."
      ]
    },
    {
      "cell_type": "code",
      "source": [
        "list(doc_zh.sents)"
      ],
      "metadata": {
        "colab": {
          "base_uri": "https://localhost:8080/"
        },
        "id": "AogpQPsO8DRR",
        "outputId": "1f399254-4ff0-4f2c-88a4-1e2d1e8a7b2f"
      },
      "execution_count": 17,
      "outputs": [
        {
          "output_type": "execute_result",
          "data": {
            "text/plain": [
              "[中山大學人文暨科技跨領域學士學位學程助理教授宋世祥表示，2021年聖誕節假期期間，師生舉辦「街頭玩童～鹽埕兒童街區遊戲日」成果展。,\n",
              " 活動中可看見學生運用贊助單位瑞儀教育基金會致贈的廢棄木棧板，製作了6具兒童創意遊具，一方面展示學習成果，也希望藉此呼籲高雄民眾重視兒童的遊戲權。]"
            ]
          },
          "metadata": {},
          "execution_count": 17
        }
      ]
    },
    {
      "cell_type": "code",
      "source": [
        "tok_text = [tok.text for tok in doc_zh]\n",
        "tok_orth = [tok.orth_ for tok in doc_zh]\n",
        "print(tok_text)\n",
        "print(tok_orth)"
      ],
      "metadata": {
        "colab": {
          "base_uri": "https://localhost:8080/"
        },
        "id": "Q7uMi5669USU",
        "outputId": "9c61a2c9-37e9-4970-cab2-0525f968564d"
      },
      "execution_count": 18,
      "outputs": [
        {
          "output_type": "stream",
          "name": "stdout",
          "text": [
            "['中山', '大學', '人文', '暨', '科技', '跨領域', '學士', '學位', '學程', '助理', '教授', '宋世祥', '表示', '，', '2021年', '聖誕', '節', '假期', '期間', '，', '師生', '舉辦', '「', '街頭', '玩童', '～鹽', '埕兒', '童街', '區遊', '戲日', '」', '成果', '展', '。', '活動', '中', '可', '看見', '學生', '運用', '贊助', '單位', '瑞儀', '教育', '基金會', '致贈', '的', '廢棄木', '棧板', '，', '製作', '了', '6', '具', '兒童', '創意', '遊具', '，', '一方面', '展示', '學習', '成果', '，', '也', '希望', '藉此', '呼籲', '高雄', '民眾', '重視', '兒童', '的', '遊戲權', '。']\n",
            "['中山', '大學', '人文', '暨', '科技', '跨領域', '學士', '學位', '學程', '助理', '教授', '宋世祥', '表示', '，', '2021年', '聖誕', '節', '假期', '期間', '，', '師生', '舉辦', '「', '街頭', '玩童', '～鹽', '埕兒', '童街', '區遊', '戲日', '」', '成果', '展', '。', '活動', '中', '可', '看見', '學生', '運用', '贊助', '單位', '瑞儀', '教育', '基金會', '致贈', '的', '廢棄木', '棧板', '，', '製作', '了', '6', '具', '兒童', '創意', '遊具', '，', '一方面', '展示', '學習', '成果', '，', '也', '希望', '藉此', '呼籲', '高雄', '民眾', '重視', '兒童', '的', '遊戲權', '。']\n"
          ]
        }
      ]
    },
    {
      "cell_type": "code",
      "source": [
        "info = [(t.text, t.pos_, t.tag_, t.ent_iob_, t.ent_type_) for t in doc_zh]\n",
        "display(HTML(tabulate.tabulate(info, tablefmt='html')))"
      ],
      "metadata": {
        "colab": {
          "base_uri": "https://localhost:8080/",
          "height": 1000
        },
        "id": "V3hIsara5th9",
        "outputId": "a216a992-4387-4729-e972-2a399d6f9b4f"
      },
      "execution_count": 19,
      "outputs": [
        {
          "output_type": "display_data",
          "data": {
            "text/plain": [
              "<IPython.core.display.HTML object>"
            ],
            "text/html": [
              "<table>\n",
              "<tbody>\n",
              "<tr><td>中山  </td><td>PROPN</td><td>NR </td><td>B</td><td>ORG     </td></tr>\n",
              "<tr><td>大學  </td><td>NOUN </td><td>NN </td><td>I</td><td>ORG     </td></tr>\n",
              "<tr><td>人文  </td><td>NOUN </td><td>NN </td><td>I</td><td>ORG     </td></tr>\n",
              "<tr><td>暨    </td><td>CCONJ</td><td>CC </td><td>I</td><td>ORG     </td></tr>\n",
              "<tr><td>科技  </td><td>NOUN </td><td>NN </td><td>I</td><td>ORG     </td></tr>\n",
              "<tr><td>跨領域</td><td>ADJ  </td><td>JJ </td><td>I</td><td>ORG     </td></tr>\n",
              "<tr><td>學士  </td><td>NOUN </td><td>NN </td><td>O</td><td>        </td></tr>\n",
              "<tr><td>學位  </td><td>NOUN </td><td>NN </td><td>O</td><td>        </td></tr>\n",
              "<tr><td>學程  </td><td>NOUN </td><td>NN </td><td>O</td><td>        </td></tr>\n",
              "<tr><td>助理  </td><td>NOUN </td><td>NN </td><td>O</td><td>        </td></tr>\n",
              "<tr><td>教授  </td><td>NOUN </td><td>NN </td><td>O</td><td>        </td></tr>\n",
              "<tr><td>宋世祥</td><td>PROPN</td><td>NR </td><td>B</td><td>PERSON  </td></tr>\n",
              "<tr><td>表示  </td><td>VERB </td><td>VV </td><td>O</td><td>        </td></tr>\n",
              "<tr><td>，    </td><td>PUNCT</td><td>PU </td><td>O</td><td>        </td></tr>\n",
              "<tr><td>2021年</td><td>NOUN </td><td>NT </td><td>B</td><td>DATE    </td></tr>\n",
              "<tr><td>聖誕  </td><td>NOUN </td><td>NN </td><td>O</td><td>        </td></tr>\n",
              "<tr><td>節    </td><td>DET  </td><td>DT </td><td>O</td><td>        </td></tr>\n",
              "<tr><td>假期  </td><td>NOUN </td><td>NN </td><td>O</td><td>        </td></tr>\n",
              "<tr><td>期間  </td><td>PART </td><td>LC </td><td>O</td><td>        </td></tr>\n",
              "<tr><td>，    </td><td>PUNCT</td><td>PU </td><td>O</td><td>        </td></tr>\n",
              "<tr><td>師生  </td><td>NOUN </td><td>NN </td><td>O</td><td>        </td></tr>\n",
              "<tr><td>舉辦  </td><td>VERB </td><td>VV </td><td>O</td><td>        </td></tr>\n",
              "<tr><td>「    </td><td>PUNCT</td><td>PU </td><td>O</td><td>        </td></tr>\n",
              "<tr><td>街頭  </td><td>NOUN </td><td>NN </td><td>O</td><td>        </td></tr>\n",
              "<tr><td>玩童  </td><td>NOUN </td><td>NN </td><td>O</td><td>        </td></tr>\n",
              "<tr><td>～鹽  </td><td>NOUN </td><td>NN </td><td>O</td><td>        </td></tr>\n",
              "<tr><td>埕兒  </td><td>NOUN </td><td>NN </td><td>O</td><td>        </td></tr>\n",
              "<tr><td>童街  </td><td>PROPN</td><td>NR </td><td>O</td><td>        </td></tr>\n",
              "<tr><td>區遊  </td><td>PROPN</td><td>NR </td><td>O</td><td>        </td></tr>\n",
              "<tr><td>戲日  </td><td>NOUN </td><td>NN </td><td>O</td><td>        </td></tr>\n",
              "<tr><td>」    </td><td>PUNCT</td><td>PU </td><td>O</td><td>        </td></tr>\n",
              "<tr><td>成果  </td><td>NOUN </td><td>NN </td><td>O</td><td>        </td></tr>\n",
              "<tr><td>展    </td><td>NOUN </td><td>NN </td><td>O</td><td>        </td></tr>\n",
              "<tr><td>。    </td><td>PUNCT</td><td>PU </td><td>O</td><td>        </td></tr>\n",
              "<tr><td>活動  </td><td>NOUN </td><td>NN </td><td>O</td><td>        </td></tr>\n",
              "<tr><td>中    </td><td>PART </td><td>LC </td><td>O</td><td>        </td></tr>\n",
              "<tr><td>可    </td><td>VERB </td><td>VV </td><td>O</td><td>        </td></tr>\n",
              "<tr><td>看見  </td><td>VERB </td><td>VV </td><td>O</td><td>        </td></tr>\n",
              "<tr><td>學生  </td><td>NOUN </td><td>NN </td><td>O</td><td>        </td></tr>\n",
              "<tr><td>運用  </td><td>VERB </td><td>VV </td><td>O</td><td>        </td></tr>\n",
              "<tr><td>贊助  </td><td>NOUN </td><td>NN </td><td>O</td><td>        </td></tr>\n",
              "<tr><td>單位  </td><td>NOUN </td><td>NN </td><td>B</td><td>ORG     </td></tr>\n",
              "<tr><td>瑞儀  </td><td>PROPN</td><td>NR </td><td>I</td><td>ORG     </td></tr>\n",
              "<tr><td>教育  </td><td>NOUN </td><td>NN </td><td>I</td><td>ORG     </td></tr>\n",
              "<tr><td>基金會</td><td>NOUN </td><td>NN </td><td>I</td><td>ORG     </td></tr>\n",
              "<tr><td>致贈  </td><td>NOUN </td><td>NN </td><td>O</td><td>        </td></tr>\n",
              "<tr><td>的    </td><td>PART </td><td>DEG</td><td>O</td><td>        </td></tr>\n",
              "<tr><td>廢棄木</td><td>NOUN </td><td>NN </td><td>O</td><td>        </td></tr>\n",
              "<tr><td>棧板  </td><td>NOUN </td><td>NN </td><td>O</td><td>        </td></tr>\n",
              "<tr><td>，    </td><td>PUNCT</td><td>PU </td><td>O</td><td>        </td></tr>\n",
              "<tr><td>製作  </td><td>VERB </td><td>VV </td><td>O</td><td>        </td></tr>\n",
              "<tr><td>了    </td><td>PART </td><td>AS </td><td>O</td><td>        </td></tr>\n",
              "<tr><td>6     </td><td>NUM  </td><td>CD </td><td>B</td><td>CARDINAL</td></tr>\n",
              "<tr><td>具    </td><td>NUM  </td><td>M  </td><td>O</td><td>        </td></tr>\n",
              "<tr><td>兒童  </td><td>NOUN </td><td>NN </td><td>O</td><td>        </td></tr>\n",
              "<tr><td>創意  </td><td>ADJ  </td><td>JJ </td><td>O</td><td>        </td></tr>\n",
              "<tr><td>遊具  </td><td>NOUN </td><td>NN </td><td>O</td><td>        </td></tr>\n",
              "<tr><td>，    </td><td>PUNCT</td><td>PU </td><td>O</td><td>        </td></tr>\n",
              "<tr><td>一方面</td><td>ADV  </td><td>AD </td><td>O</td><td>        </td></tr>\n",
              "<tr><td>展示  </td><td>VERB </td><td>VV </td><td>O</td><td>        </td></tr>\n",
              "<tr><td>學習  </td><td>NOUN </td><td>NN </td><td>O</td><td>        </td></tr>\n",
              "<tr><td>成果  </td><td>NOUN </td><td>NN </td><td>O</td><td>        </td></tr>\n",
              "<tr><td>，    </td><td>PUNCT</td><td>PU </td><td>O</td><td>        </td></tr>\n",
              "<tr><td>也    </td><td>ADV  </td><td>AD </td><td>O</td><td>        </td></tr>\n",
              "<tr><td>希望  </td><td>VERB </td><td>VV </td><td>O</td><td>        </td></tr>\n",
              "<tr><td>藉此  </td><td>ADV  </td><td>AD </td><td>O</td><td>        </td></tr>\n",
              "<tr><td>呼籲  </td><td>VERB </td><td>VV </td><td>O</td><td>        </td></tr>\n",
              "<tr><td>高雄  </td><td>PROPN</td><td>NR </td><td>B</td><td>NORP    </td></tr>\n",
              "<tr><td>民眾  </td><td>NOUN </td><td>NN </td><td>O</td><td>        </td></tr>\n",
              "<tr><td>重視  </td><td>VERB </td><td>VV </td><td>O</td><td>        </td></tr>\n",
              "<tr><td>兒童  </td><td>NOUN </td><td>NN </td><td>O</td><td>        </td></tr>\n",
              "<tr><td>的    </td><td>PART </td><td>DEC</td><td>O</td><td>        </td></tr>\n",
              "<tr><td>遊戲權</td><td>PROPN</td><td>NR </td><td>O</td><td>        </td></tr>\n",
              "<tr><td>。    </td><td>PUNCT</td><td>PU </td><td>O</td><td>        </td></tr>\n",
              "</tbody>\n",
              "</table>"
            ]
          },
          "metadata": {}
        }
      ]
    },
    {
      "cell_type": "code",
      "source": [
        "for tok in list(doc_zh.sents)[1]:\n",
        "    print(f\"{tok.text} >>> {tok.pos_}\")"
      ],
      "metadata": {
        "colab": {
          "base_uri": "https://localhost:8080/"
        },
        "id": "7zf3TSWY95hc",
        "outputId": "7c9b2f1e-4516-4e24-dbc8-ff0fc23c3a09"
      },
      "execution_count": 20,
      "outputs": [
        {
          "output_type": "stream",
          "name": "stdout",
          "text": [
            "活動 >>> NOUN\n",
            "中 >>> PART\n",
            "可 >>> VERB\n",
            "看見 >>> VERB\n",
            "學生 >>> NOUN\n",
            "運用 >>> VERB\n",
            "贊助 >>> NOUN\n",
            "單位 >>> NOUN\n",
            "瑞儀 >>> PROPN\n",
            "教育 >>> NOUN\n",
            "基金會 >>> NOUN\n",
            "致贈 >>> NOUN\n",
            "的 >>> PART\n",
            "廢棄木 >>> NOUN\n",
            "棧板 >>> NOUN\n",
            "， >>> PUNCT\n",
            "製作 >>> VERB\n",
            "了 >>> PART\n",
            "6 >>> NUM\n",
            "具 >>> NUM\n",
            "兒童 >>> NOUN\n",
            "創意 >>> ADJ\n",
            "遊具 >>> NOUN\n",
            "， >>> PUNCT\n",
            "一方面 >>> ADV\n",
            "展示 >>> VERB\n",
            "學習 >>> NOUN\n",
            "成果 >>> NOUN\n",
            "， >>> PUNCT\n",
            "也 >>> ADV\n",
            "希望 >>> VERB\n",
            "藉此 >>> ADV\n",
            "呼籲 >>> VERB\n",
            "高雄 >>> PROPN\n",
            "民眾 >>> NOUN\n",
            "重視 >>> VERB\n",
            "兒童 >>> NOUN\n",
            "的 >>> PART\n",
            "遊戲權 >>> PROPN\n",
            "。 >>> PUNCT\n"
          ]
        }
      ]
    },
    {
      "cell_type": "code",
      "source": [
        "for tok in list(doc_zh.sents)[1]:\n",
        "    print(f\"{tok.text} >>> {tok.tag_} | {spacy.explain(tok.tag_)}\")"
      ],
      "metadata": {
        "colab": {
          "base_uri": "https://localhost:8080/"
        },
        "id": "IgpNWCl4AAke",
        "outputId": "1aebcc4f-bff5-4bb8-9c5a-1dac883e68e2"
      },
      "execution_count": 21,
      "outputs": [
        {
          "output_type": "stream",
          "name": "stdout",
          "text": [
            "活動 >>> NN | noun, singular or mass\n",
            "中 >>> LC | localizer\n",
            "可 >>> VV | other verb\n",
            "看見 >>> VV | other verb\n",
            "學生 >>> NN | noun, singular or mass\n",
            "運用 >>> VV | other verb\n",
            "贊助 >>> NN | noun, singular or mass\n",
            "單位 >>> NN | noun, singular or mass\n",
            "瑞儀 >>> NR | proper noun\n",
            "教育 >>> NN | noun, singular or mass\n",
            "基金會 >>> NN | noun, singular or mass\n",
            "致贈 >>> NN | noun, singular or mass\n",
            "的 >>> DEG | associative 的\n",
            "廢棄木 >>> NN | noun, singular or mass\n",
            "棧板 >>> NN | noun, singular or mass\n",
            "， >>> PU | punctuation\n",
            "製作 >>> VV | other verb\n",
            "了 >>> AS | aspect marker\n",
            "6 >>> CD | cardinal number\n",
            "具 >>> M | measure word\n",
            "兒童 >>> NN | noun, singular or mass\n",
            "創意 >>> JJ | adjective (English), other noun-modifier (Chinese)\n",
            "遊具 >>> NN | noun, singular or mass\n",
            "， >>> PU | punctuation\n",
            "一方面 >>> AD | adverb\n",
            "展示 >>> VV | other verb\n",
            "學習 >>> NN | noun, singular or mass\n",
            "成果 >>> NN | noun, singular or mass\n",
            "， >>> PU | punctuation\n",
            "也 >>> AD | adverb\n",
            "希望 >>> VV | other verb\n",
            "藉此 >>> AD | adverb\n",
            "呼籲 >>> VV | other verb\n",
            "高雄 >>> NR | proper noun\n",
            "民眾 >>> NN | noun, singular or mass\n",
            "重視 >>> VV | other verb\n",
            "兒童 >>> NN | noun, singular or mass\n",
            "的 >>> DEC | 的 in a relative clause\n",
            "遊戲權 >>> NR | proper noun\n",
            "。 >>> PU | punctuation\n"
          ]
        }
      ]
    },
    {
      "cell_type": "markdown",
      "source": [
        "## Visualization"
      ],
      "metadata": {
        "id": "3GyNQ4UjDqTH"
      }
    },
    {
      "cell_type": "code",
      "source": [
        "from spacy import displacy"
      ],
      "metadata": {
        "id": "DoENmU8oBQMt"
      },
      "execution_count": 22,
      "outputs": []
    },
    {
      "cell_type": "code",
      "source": [
        "displacy.render(doc_zh, style='ent',jupyter=True, options={'distance':130})"
      ],
      "metadata": {
        "colab": {
          "base_uri": "https://localhost:8080/",
          "height": 157
        },
        "id": "UNGB9n6nDuTE",
        "outputId": "56bcc899-7bdf-4580-97ca-c08457c15f75"
      },
      "execution_count": 23,
      "outputs": [
        {
          "output_type": "display_data",
          "data": {
            "text/plain": [
              "<IPython.core.display.HTML object>"
            ],
            "text/html": [
              "<span class=\"tex2jax_ignore\"><div class=\"entities\" style=\"line-height: 2.5; direction: ltr\">\n",
              "<mark class=\"entity\" style=\"background: #7aecec; padding: 0.45em 0.6em; margin: 0 0.25em; line-height: 1; border-radius: 0.35em;\">\n",
              "    中山大學人文暨科技跨領域\n",
              "    <span style=\"font-size: 0.8em; font-weight: bold; line-height: 1; border-radius: 0.35em; vertical-align: middle; margin-left: 0.5rem\">ORG</span>\n",
              "</mark>\n",
              "學士學位學程助理教授\n",
              "<mark class=\"entity\" style=\"background: #aa9cfc; padding: 0.45em 0.6em; margin: 0 0.25em; line-height: 1; border-radius: 0.35em;\">\n",
              "    宋世祥\n",
              "    <span style=\"font-size: 0.8em; font-weight: bold; line-height: 1; border-radius: 0.35em; vertical-align: middle; margin-left: 0.5rem\">PERSON</span>\n",
              "</mark>\n",
              "表示，\n",
              "<mark class=\"entity\" style=\"background: #bfe1d9; padding: 0.45em 0.6em; margin: 0 0.25em; line-height: 1; border-radius: 0.35em;\">\n",
              "    2021年\n",
              "    <span style=\"font-size: 0.8em; font-weight: bold; line-height: 1; border-radius: 0.35em; vertical-align: middle; margin-left: 0.5rem\">DATE</span>\n",
              "</mark>\n",
              "聖誕節假期期間，師生舉辦「街頭玩童～鹽埕兒童街區遊戲日」成果展。活動中可看見學生運用贊助\n",
              "<mark class=\"entity\" style=\"background: #7aecec; padding: 0.45em 0.6em; margin: 0 0.25em; line-height: 1; border-radius: 0.35em;\">\n",
              "    單位瑞儀教育基金會\n",
              "    <span style=\"font-size: 0.8em; font-weight: bold; line-height: 1; border-radius: 0.35em; vertical-align: middle; margin-left: 0.5rem\">ORG</span>\n",
              "</mark>\n",
              "致贈的廢棄木棧板，製作了\n",
              "<mark class=\"entity\" style=\"background: #e4e7d2; padding: 0.45em 0.6em; margin: 0 0.25em; line-height: 1; border-radius: 0.35em;\">\n",
              "    6\n",
              "    <span style=\"font-size: 0.8em; font-weight: bold; line-height: 1; border-radius: 0.35em; vertical-align: middle; margin-left: 0.5rem\">CARDINAL</span>\n",
              "</mark>\n",
              "具兒童創意遊具，一方面展示學習成果，也希望藉此呼籲\n",
              "<mark class=\"entity\" style=\"background: #c887fb; padding: 0.45em 0.6em; margin: 0 0.25em; line-height: 1; border-radius: 0.35em;\">\n",
              "    高雄\n",
              "    <span style=\"font-size: 0.8em; font-weight: bold; line-height: 1; border-radius: 0.35em; vertical-align: middle; margin-left: 0.5rem\">NORP</span>\n",
              "</mark>\n",
              "民眾重視兒童的遊戲權。</div></span>"
            ]
          },
          "metadata": {}
        }
      ]
    },
    {
      "cell_type": "code",
      "source": [
        "text = \"我想要三份2號餐\"\n",
        "doc = zh(text)\n",
        "displacy.render(doc, style='dep',jupyter=True, options={'distance':130})"
      ],
      "metadata": {
        "colab": {
          "base_uri": "https://localhost:8080/",
          "height": 373
        },
        "id": "8bZWBpW8BR73",
        "outputId": "e6f8a37e-b97f-45c5-e867-907dee8ce92c"
      },
      "execution_count": 24,
      "outputs": [
        {
          "output_type": "display_data",
          "data": {
            "text/plain": [
              "<IPython.core.display.HTML object>"
            ],
            "text/html": [
              "<span class=\"tex2jax_ignore\"><svg xmlns=\"http://www.w3.org/2000/svg\" xmlns:xlink=\"http://www.w3.org/1999/xlink\" xml:lang=\"zh\" id=\"daf48e6f75be405f9934dc8e716c9f0d-0\" class=\"displacy\" width=\"830\" height=\"332.0\" direction=\"ltr\" style=\"max-width: none; height: 332.0px; color: #000000; background: #ffffff; font-family: Arial; direction: ltr\">\n",
              "<text class=\"displacy-token\" fill=\"currentColor\" text-anchor=\"middle\" y=\"242.0\">\n",
              "    <tspan class=\"displacy-word\" fill=\"currentColor\" x=\"50\">我</tspan>\n",
              "    <tspan class=\"displacy-tag\" dy=\"2em\" fill=\"currentColor\" x=\"50\">PRON</tspan>\n",
              "</text>\n",
              "\n",
              "<text class=\"displacy-token\" fill=\"currentColor\" text-anchor=\"middle\" y=\"242.0\">\n",
              "    <tspan class=\"displacy-word\" fill=\"currentColor\" x=\"180\">想要</tspan>\n",
              "    <tspan class=\"displacy-tag\" dy=\"2em\" fill=\"currentColor\" x=\"180\">VERB</tspan>\n",
              "</text>\n",
              "\n",
              "<text class=\"displacy-token\" fill=\"currentColor\" text-anchor=\"middle\" y=\"242.0\">\n",
              "    <tspan class=\"displacy-word\" fill=\"currentColor\" x=\"310\">三份</tspan>\n",
              "    <tspan class=\"displacy-tag\" dy=\"2em\" fill=\"currentColor\" x=\"310\">PROPN</tspan>\n",
              "</text>\n",
              "\n",
              "<text class=\"displacy-token\" fill=\"currentColor\" text-anchor=\"middle\" y=\"242.0\">\n",
              "    <tspan class=\"displacy-word\" fill=\"currentColor\" x=\"440\">2</tspan>\n",
              "    <tspan class=\"displacy-tag\" dy=\"2em\" fill=\"currentColor\" x=\"440\">NUM</tspan>\n",
              "</text>\n",
              "\n",
              "<text class=\"displacy-token\" fill=\"currentColor\" text-anchor=\"middle\" y=\"242.0\">\n",
              "    <tspan class=\"displacy-word\" fill=\"currentColor\" x=\"570\">號</tspan>\n",
              "    <tspan class=\"displacy-tag\" dy=\"2em\" fill=\"currentColor\" x=\"570\">NUM</tspan>\n",
              "</text>\n",
              "\n",
              "<text class=\"displacy-token\" fill=\"currentColor\" text-anchor=\"middle\" y=\"242.0\">\n",
              "    <tspan class=\"displacy-word\" fill=\"currentColor\" x=\"700\">餐</tspan>\n",
              "    <tspan class=\"displacy-tag\" dy=\"2em\" fill=\"currentColor\" x=\"700\">NOUN</tspan>\n",
              "</text>\n",
              "\n",
              "<g class=\"displacy-arrow\">\n",
              "    <path class=\"displacy-arc\" id=\"arrow-daf48e6f75be405f9934dc8e716c9f0d-0-0\" stroke-width=\"2px\" d=\"M70,197.0 C70,132.0 170.0,132.0 170.0,197.0\" fill=\"none\" stroke=\"currentColor\"/>\n",
              "    <text dy=\"1.25em\" style=\"font-size: 0.8em; letter-spacing: 1px\">\n",
              "        <textPath xlink:href=\"#arrow-daf48e6f75be405f9934dc8e716c9f0d-0-0\" class=\"displacy-label\" startOffset=\"50%\" side=\"left\" fill=\"currentColor\" text-anchor=\"middle\">nsubj</textPath>\n",
              "    </text>\n",
              "    <path class=\"displacy-arrowhead\" d=\"M70,199.0 L62,187.0 78,187.0\" fill=\"currentColor\"/>\n",
              "</g>\n",
              "\n",
              "<g class=\"displacy-arrow\">\n",
              "    <path class=\"displacy-arc\" id=\"arrow-daf48e6f75be405f9934dc8e716c9f0d-0-1\" stroke-width=\"2px\" d=\"M330,197.0 C330,67.0 565.0,67.0 565.0,197.0\" fill=\"none\" stroke=\"currentColor\"/>\n",
              "    <text dy=\"1.25em\" style=\"font-size: 0.8em; letter-spacing: 1px\">\n",
              "        <textPath xlink:href=\"#arrow-daf48e6f75be405f9934dc8e716c9f0d-0-1\" class=\"displacy-label\" startOffset=\"50%\" side=\"left\" fill=\"currentColor\" text-anchor=\"middle\">compound:nn</textPath>\n",
              "    </text>\n",
              "    <path class=\"displacy-arrowhead\" d=\"M330,199.0 L322,187.0 338,187.0\" fill=\"currentColor\"/>\n",
              "</g>\n",
              "\n",
              "<g class=\"displacy-arrow\">\n",
              "    <path class=\"displacy-arc\" id=\"arrow-daf48e6f75be405f9934dc8e716c9f0d-0-2\" stroke-width=\"2px\" d=\"M460,197.0 C460,132.0 560.0,132.0 560.0,197.0\" fill=\"none\" stroke=\"currentColor\"/>\n",
              "    <text dy=\"1.25em\" style=\"font-size: 0.8em; letter-spacing: 1px\">\n",
              "        <textPath xlink:href=\"#arrow-daf48e6f75be405f9934dc8e716c9f0d-0-2\" class=\"displacy-label\" startOffset=\"50%\" side=\"left\" fill=\"currentColor\" text-anchor=\"middle\">dep</textPath>\n",
              "    </text>\n",
              "    <path class=\"displacy-arrowhead\" d=\"M460,199.0 L452,187.0 468,187.0\" fill=\"currentColor\"/>\n",
              "</g>\n",
              "\n",
              "<g class=\"displacy-arrow\">\n",
              "    <path class=\"displacy-arc\" id=\"arrow-daf48e6f75be405f9934dc8e716c9f0d-0-3\" stroke-width=\"2px\" d=\"M590,197.0 C590,132.0 690.0,132.0 690.0,197.0\" fill=\"none\" stroke=\"currentColor\"/>\n",
              "    <text dy=\"1.25em\" style=\"font-size: 0.8em; letter-spacing: 1px\">\n",
              "        <textPath xlink:href=\"#arrow-daf48e6f75be405f9934dc8e716c9f0d-0-3\" class=\"displacy-label\" startOffset=\"50%\" side=\"left\" fill=\"currentColor\" text-anchor=\"middle\">compound:nn</textPath>\n",
              "    </text>\n",
              "    <path class=\"displacy-arrowhead\" d=\"M590,199.0 L582,187.0 598,187.0\" fill=\"currentColor\"/>\n",
              "</g>\n",
              "\n",
              "<g class=\"displacy-arrow\">\n",
              "    <path class=\"displacy-arc\" id=\"arrow-daf48e6f75be405f9934dc8e716c9f0d-0-4\" stroke-width=\"2px\" d=\"M200,197.0 C200,2.0 700.0,2.0 700.0,197.0\" fill=\"none\" stroke=\"currentColor\"/>\n",
              "    <text dy=\"1.25em\" style=\"font-size: 0.8em; letter-spacing: 1px\">\n",
              "        <textPath xlink:href=\"#arrow-daf48e6f75be405f9934dc8e716c9f0d-0-4\" class=\"displacy-label\" startOffset=\"50%\" side=\"left\" fill=\"currentColor\" text-anchor=\"middle\">dobj</textPath>\n",
              "    </text>\n",
              "    <path class=\"displacy-arrowhead\" d=\"M700.0,199.0 L708.0,187.0 692.0,187.0\" fill=\"currentColor\"/>\n",
              "</g>\n",
              "</svg></span>"
            ]
          },
          "metadata": {}
        }
      ]
    },
    {
      "cell_type": "markdown",
      "source": [
        "## DataFrame + spaCy = dframcy"
      ],
      "metadata": {
        "id": "6-A6lmiG_1Yd"
      }
    },
    {
      "cell_type": "code",
      "source": [
        "!pip install dframcy"
      ],
      "metadata": {
        "colab": {
          "base_uri": "https://localhost:8080/"
        },
        "id": "xQBGx3gB-sQK",
        "outputId": "a0817112-66f0-4d1a-de4a-1ea174da5ffe"
      },
      "execution_count": 25,
      "outputs": [
        {
          "output_type": "stream",
          "name": "stdout",
          "text": [
            "Requirement already satisfied: dframcy in /usr/local/lib/python3.7/dist-packages (0.1.6)\n",
            "Requirement already satisfied: tox-travis in /usr/local/lib/python3.7/dist-packages (from dframcy) (0.12)\n",
            "Requirement already satisfied: pytest-cov in /usr/local/lib/python3.7/dist-packages (from dframcy) (2.9.0)\n",
            "Requirement already satisfied: click in /usr/local/lib/python3.7/dist-packages (from dframcy) (7.1.2)\n",
            "Requirement already satisfied: pytest in /usr/local/lib/python3.7/dist-packages (from dframcy) (3.6.4)\n",
            "Requirement already satisfied: spacy>=3.0.0 in /usr/local/lib/python3.7/dist-packages (from dframcy) (3.2.4)\n",
            "Requirement already satisfied: pandas in /usr/local/lib/python3.7/dist-packages (from dframcy) (1.3.5)\n",
            "Requirement already satisfied: tox in /usr/local/lib/python3.7/dist-packages (from dframcy) (3.12.1)\n",
            "Requirement already satisfied: xlrd in /usr/local/lib/python3.7/dist-packages (from dframcy) (1.1.0)\n",
            "Requirement already satisfied: wasabi in /usr/local/lib/python3.7/dist-packages (from dframcy) (0.9.0)\n",
            "Requirement already satisfied: blis<0.8.0,>=0.4.0 in /usr/local/lib/python3.7/dist-packages (from spacy>=3.0.0->dframcy) (0.4.1)\n",
            "Requirement already satisfied: thinc<8.1.0,>=8.0.12 in /usr/local/lib/python3.7/dist-packages (from spacy>=3.0.0->dframcy) (8.0.15)\n",
            "Requirement already satisfied: jinja2 in /usr/local/lib/python3.7/dist-packages (from spacy>=3.0.0->dframcy) (2.11.3)\n",
            "Requirement already satisfied: cymem<2.1.0,>=2.0.2 in /usr/local/lib/python3.7/dist-packages (from spacy>=3.0.0->dframcy) (2.0.6)\n",
            "Requirement already satisfied: srsly<3.0.0,>=2.4.1 in /usr/local/lib/python3.7/dist-packages (from spacy>=3.0.0->dframcy) (2.4.2)\n",
            "Requirement already satisfied: spacy-legacy<3.1.0,>=3.0.8 in /usr/local/lib/python3.7/dist-packages (from spacy>=3.0.0->dframcy) (3.0.9)\n",
            "Requirement already satisfied: langcodes<4.0.0,>=3.2.0 in /usr/local/lib/python3.7/dist-packages (from spacy>=3.0.0->dframcy) (3.3.0)\n",
            "Requirement already satisfied: pathy>=0.3.5 in /usr/local/lib/python3.7/dist-packages (from spacy>=3.0.0->dframcy) (0.6.1)\n",
            "Requirement already satisfied: setuptools in /usr/local/lib/python3.7/dist-packages (from spacy>=3.0.0->dframcy) (62.0.0)\n",
            "Requirement already satisfied: requests<3.0.0,>=2.13.0 in /usr/local/lib/python3.7/dist-packages (from spacy>=3.0.0->dframcy) (2.23.0)\n",
            "Requirement already satisfied: typing-extensions<4.0.0.0,>=3.7.4 in /usr/local/lib/python3.7/dist-packages (from spacy>=3.0.0->dframcy) (3.10.0.2)\n",
            "Requirement already satisfied: catalogue<2.1.0,>=2.0.6 in /usr/local/lib/python3.7/dist-packages (from spacy>=3.0.0->dframcy) (2.0.7)\n",
            "Requirement already satisfied: spacy-loggers<2.0.0,>=1.0.0 in /usr/local/lib/python3.7/dist-packages (from spacy>=3.0.0->dframcy) (1.0.2)\n",
            "Requirement already satisfied: tqdm<5.0.0,>=4.38.0 in /usr/local/lib/python3.7/dist-packages (from spacy>=3.0.0->dframcy) (4.63.0)\n",
            "Requirement already satisfied: numpy>=1.15.0 in /usr/local/lib/python3.7/dist-packages (from spacy>=3.0.0->dframcy) (1.21.5)\n",
            "Requirement already satisfied: pydantic!=1.8,!=1.8.1,<1.9.0,>=1.7.4 in /usr/local/lib/python3.7/dist-packages (from spacy>=3.0.0->dframcy) (1.8.2)\n",
            "Requirement already satisfied: murmurhash<1.1.0,>=0.28.0 in /usr/local/lib/python3.7/dist-packages (from spacy>=3.0.0->dframcy) (1.0.6)\n",
            "Requirement already satisfied: typer<0.5.0,>=0.3.0 in /usr/local/lib/python3.7/dist-packages (from spacy>=3.0.0->dframcy) (0.4.1)\n",
            "Requirement already satisfied: packaging>=20.0 in /usr/local/lib/python3.7/dist-packages (from spacy>=3.0.0->dframcy) (21.3)\n",
            "Requirement already satisfied: preshed<3.1.0,>=3.0.2 in /usr/local/lib/python3.7/dist-packages (from spacy>=3.0.0->dframcy) (3.0.6)\n",
            "Requirement already satisfied: python-dateutil>=2.7.3 in /usr/local/lib/python3.7/dist-packages (from pandas->dframcy) (2.8.2)\n",
            "Requirement already satisfied: pytz>=2017.3 in /usr/local/lib/python3.7/dist-packages (from pandas->dframcy) (2018.9)\n",
            "Requirement already satisfied: atomicwrites>=1.0 in /usr/local/lib/python3.7/dist-packages (from pytest->dframcy) (1.4.0)\n",
            "Requirement already satisfied: py>=1.5.0 in /usr/local/lib/python3.7/dist-packages (from pytest->dframcy) (1.11.0)\n",
            "Requirement already satisfied: more-itertools>=4.0.0 in /usr/local/lib/python3.7/dist-packages (from pytest->dframcy) (8.12.0)\n",
            "Requirement already satisfied: pluggy<0.8,>=0.5 in /usr/local/lib/python3.7/dist-packages (from pytest->dframcy) (0.7.1)\n",
            "Requirement already satisfied: attrs>=17.4.0 in /usr/local/lib/python3.7/dist-packages (from pytest->dframcy) (21.4.0)\n",
            "Requirement already satisfied: six>=1.10.0 in /usr/local/lib/python3.7/dist-packages (from pytest->dframcy) (1.15.0)\n",
            "Requirement already satisfied: coverage>=4.4 in /usr/local/lib/python3.7/dist-packages (from pytest-cov->dframcy) (6.3.2)\n",
            "Requirement already satisfied: virtualenv>=14.0.0 in /usr/local/lib/python3.7/dist-packages (from tox->dframcy) (20.14.0)\n",
            "Requirement already satisfied: filelock<4,>=3.0.0 in /usr/local/lib/python3.7/dist-packages (from tox->dframcy) (3.6.0)\n",
            "Requirement already satisfied: toml>=0.9.4 in /usr/local/lib/python3.7/dist-packages (from tox->dframcy) (0.10.2)\n",
            "Requirement already satisfied: zipp>=0.5 in /usr/local/lib/python3.7/dist-packages (from catalogue<2.1.0,>=2.0.6->spacy>=3.0.0->dframcy) (3.7.0)\n",
            "Requirement already satisfied: pyparsing!=3.0.5,>=2.0.2 in /usr/local/lib/python3.7/dist-packages (from packaging>=20.0->spacy>=3.0.0->dframcy) (3.0.7)\n",
            "Requirement already satisfied: smart-open<6.0.0,>=5.0.0 in /usr/local/lib/python3.7/dist-packages (from pathy>=0.3.5->spacy>=3.0.0->dframcy) (5.2.1)\n",
            "Requirement already satisfied: idna<3,>=2.5 in /usr/local/lib/python3.7/dist-packages (from requests<3.0.0,>=2.13.0->spacy>=3.0.0->dframcy) (2.10)\n",
            "Requirement already satisfied: urllib3!=1.25.0,!=1.25.1,<1.26,>=1.21.1 in /usr/local/lib/python3.7/dist-packages (from requests<3.0.0,>=2.13.0->spacy>=3.0.0->dframcy) (1.24.3)\n",
            "Requirement already satisfied: certifi>=2017.4.17 in /usr/local/lib/python3.7/dist-packages (from requests<3.0.0,>=2.13.0->spacy>=3.0.0->dframcy) (2021.10.8)\n",
            "Requirement already satisfied: chardet<4,>=3.0.2 in /usr/local/lib/python3.7/dist-packages (from requests<3.0.0,>=2.13.0->spacy>=3.0.0->dframcy) (3.0.4)\n",
            "Requirement already satisfied: distlib<1,>=0.3.1 in /usr/local/lib/python3.7/dist-packages (from virtualenv>=14.0.0->tox->dframcy) (0.3.4)\n",
            "Requirement already satisfied: platformdirs<3,>=2 in /usr/local/lib/python3.7/dist-packages (from virtualenv>=14.0.0->tox->dframcy) (2.5.1)\n",
            "Requirement already satisfied: importlib-metadata>=0.12 in /usr/local/lib/python3.7/dist-packages (from virtualenv>=14.0.0->tox->dframcy) (4.11.3)\n",
            "Requirement already satisfied: MarkupSafe>=0.23 in /usr/local/lib/python3.7/dist-packages (from jinja2->spacy>=3.0.0->dframcy) (2.0.1)\n",
            "\u001b[33mWARNING: Running pip as the 'root' user can result in broken permissions and conflicting behaviour with the system package manager. It is recommended to use a virtual environment instead: https://pip.pypa.io/warnings/venv\u001b[0m\u001b[33m\n",
            "\u001b[0m"
          ]
        }
      ]
    },
    {
      "cell_type": "code",
      "source": [
        "from dframcy import DframCy"
      ],
      "metadata": {
        "id": "u0sexga0-yWU"
      },
      "execution_count": 26,
      "outputs": []
    },
    {
      "cell_type": "code",
      "source": [
        "nlp = spacy.load('zh_core_web_md')\n",
        "dframcy = DframCy(nlp)\n",
        "doc = dframcy.nlp(text_zh)\n",
        "annotation_dataframe = dframcy.to_dataframe(doc)\n",
        "annotation_dataframe"
      ],
      "metadata": {
        "colab": {
          "base_uri": "https://localhost:8080/",
          "height": 487
        },
        "id": "UDO97xhS-pnj",
        "outputId": "061337ad-2492-4634-ba1c-21e076b80891"
      },
      "execution_count": 27,
      "outputs": [
        {
          "output_type": "execute_result",
          "data": {
            "text/plain": [
              "   token_text  token_start  token_end token_pos_ token_tag_   token_dep_  \\\n",
              "0          中山            0          2      PROPN         NR  compound:nn   \n",
              "1          大學            2          4       NOUN         NN  nmod:assmod   \n",
              "2          人文            4          6       NOUN         NN         conj   \n",
              "3           暨            6          7      CCONJ         CC           cc   \n",
              "4          科技            7          9       NOUN         NN  compound:nn   \n",
              "..        ...          ...        ...        ...        ...          ...   \n",
              "69         重視          128        130       VERB         VV        ccomp   \n",
              "70         兒童          130        132       NOUN         NN         dobj   \n",
              "71          的          132        133       PART        DEC         mark   \n",
              "72        遊戲權          133        136      PROPN         NR         dobj   \n",
              "73          。          136        137      PUNCT         PU        punct   \n",
              "\n",
              "   token_head token_ent_type_  \n",
              "0          大學             ORG  \n",
              "1          科技             ORG  \n",
              "2          科技             ORG  \n",
              "3          科技             ORG  \n",
              "4         跨領域             ORG  \n",
              "..        ...             ...  \n",
              "69         呼籲                  \n",
              "70         重視                  \n",
              "71         重視                  \n",
              "72         呼籲                  \n",
              "73         看見                  \n",
              "\n",
              "[74 rows x 8 columns]"
            ],
            "text/html": [
              "\n",
              "  <div id=\"df-ed9e074c-f6fb-465a-a098-58b3a6e0f7d0\">\n",
              "    <div class=\"colab-df-container\">\n",
              "      <div>\n",
              "<style scoped>\n",
              "    .dataframe tbody tr th:only-of-type {\n",
              "        vertical-align: middle;\n",
              "    }\n",
              "\n",
              "    .dataframe tbody tr th {\n",
              "        vertical-align: top;\n",
              "    }\n",
              "\n",
              "    .dataframe thead th {\n",
              "        text-align: right;\n",
              "    }\n",
              "</style>\n",
              "<table border=\"1\" class=\"dataframe\">\n",
              "  <thead>\n",
              "    <tr style=\"text-align: right;\">\n",
              "      <th></th>\n",
              "      <th>token_text</th>\n",
              "      <th>token_start</th>\n",
              "      <th>token_end</th>\n",
              "      <th>token_pos_</th>\n",
              "      <th>token_tag_</th>\n",
              "      <th>token_dep_</th>\n",
              "      <th>token_head</th>\n",
              "      <th>token_ent_type_</th>\n",
              "    </tr>\n",
              "  </thead>\n",
              "  <tbody>\n",
              "    <tr>\n",
              "      <th>0</th>\n",
              "      <td>中山</td>\n",
              "      <td>0</td>\n",
              "      <td>2</td>\n",
              "      <td>PROPN</td>\n",
              "      <td>NR</td>\n",
              "      <td>compound:nn</td>\n",
              "      <td>大學</td>\n",
              "      <td>ORG</td>\n",
              "    </tr>\n",
              "    <tr>\n",
              "      <th>1</th>\n",
              "      <td>大學</td>\n",
              "      <td>2</td>\n",
              "      <td>4</td>\n",
              "      <td>NOUN</td>\n",
              "      <td>NN</td>\n",
              "      <td>nmod:assmod</td>\n",
              "      <td>科技</td>\n",
              "      <td>ORG</td>\n",
              "    </tr>\n",
              "    <tr>\n",
              "      <th>2</th>\n",
              "      <td>人文</td>\n",
              "      <td>4</td>\n",
              "      <td>6</td>\n",
              "      <td>NOUN</td>\n",
              "      <td>NN</td>\n",
              "      <td>conj</td>\n",
              "      <td>科技</td>\n",
              "      <td>ORG</td>\n",
              "    </tr>\n",
              "    <tr>\n",
              "      <th>3</th>\n",
              "      <td>暨</td>\n",
              "      <td>6</td>\n",
              "      <td>7</td>\n",
              "      <td>CCONJ</td>\n",
              "      <td>CC</td>\n",
              "      <td>cc</td>\n",
              "      <td>科技</td>\n",
              "      <td>ORG</td>\n",
              "    </tr>\n",
              "    <tr>\n",
              "      <th>4</th>\n",
              "      <td>科技</td>\n",
              "      <td>7</td>\n",
              "      <td>9</td>\n",
              "      <td>NOUN</td>\n",
              "      <td>NN</td>\n",
              "      <td>compound:nn</td>\n",
              "      <td>跨領域</td>\n",
              "      <td>ORG</td>\n",
              "    </tr>\n",
              "    <tr>\n",
              "      <th>...</th>\n",
              "      <td>...</td>\n",
              "      <td>...</td>\n",
              "      <td>...</td>\n",
              "      <td>...</td>\n",
              "      <td>...</td>\n",
              "      <td>...</td>\n",
              "      <td>...</td>\n",
              "      <td>...</td>\n",
              "    </tr>\n",
              "    <tr>\n",
              "      <th>69</th>\n",
              "      <td>重視</td>\n",
              "      <td>128</td>\n",
              "      <td>130</td>\n",
              "      <td>VERB</td>\n",
              "      <td>VV</td>\n",
              "      <td>ccomp</td>\n",
              "      <td>呼籲</td>\n",
              "      <td></td>\n",
              "    </tr>\n",
              "    <tr>\n",
              "      <th>70</th>\n",
              "      <td>兒童</td>\n",
              "      <td>130</td>\n",
              "      <td>132</td>\n",
              "      <td>NOUN</td>\n",
              "      <td>NN</td>\n",
              "      <td>dobj</td>\n",
              "      <td>重視</td>\n",
              "      <td></td>\n",
              "    </tr>\n",
              "    <tr>\n",
              "      <th>71</th>\n",
              "      <td>的</td>\n",
              "      <td>132</td>\n",
              "      <td>133</td>\n",
              "      <td>PART</td>\n",
              "      <td>DEC</td>\n",
              "      <td>mark</td>\n",
              "      <td>重視</td>\n",
              "      <td></td>\n",
              "    </tr>\n",
              "    <tr>\n",
              "      <th>72</th>\n",
              "      <td>遊戲權</td>\n",
              "      <td>133</td>\n",
              "      <td>136</td>\n",
              "      <td>PROPN</td>\n",
              "      <td>NR</td>\n",
              "      <td>dobj</td>\n",
              "      <td>呼籲</td>\n",
              "      <td></td>\n",
              "    </tr>\n",
              "    <tr>\n",
              "      <th>73</th>\n",
              "      <td>。</td>\n",
              "      <td>136</td>\n",
              "      <td>137</td>\n",
              "      <td>PUNCT</td>\n",
              "      <td>PU</td>\n",
              "      <td>punct</td>\n",
              "      <td>看見</td>\n",
              "      <td></td>\n",
              "    </tr>\n",
              "  </tbody>\n",
              "</table>\n",
              "<p>74 rows × 8 columns</p>\n",
              "</div>\n",
              "      <button class=\"colab-df-convert\" onclick=\"convertToInteractive('df-ed9e074c-f6fb-465a-a098-58b3a6e0f7d0')\"\n",
              "              title=\"Convert this dataframe to an interactive table.\"\n",
              "              style=\"display:none;\">\n",
              "        \n",
              "  <svg xmlns=\"http://www.w3.org/2000/svg\" height=\"24px\"viewBox=\"0 0 24 24\"\n",
              "       width=\"24px\">\n",
              "    <path d=\"M0 0h24v24H0V0z\" fill=\"none\"/>\n",
              "    <path d=\"M18.56 5.44l.94 2.06.94-2.06 2.06-.94-2.06-.94-.94-2.06-.94 2.06-2.06.94zm-11 1L8.5 8.5l.94-2.06 2.06-.94-2.06-.94L8.5 2.5l-.94 2.06-2.06.94zm10 10l.94 2.06.94-2.06 2.06-.94-2.06-.94-.94-2.06-.94 2.06-2.06.94z\"/><path d=\"M17.41 7.96l-1.37-1.37c-.4-.4-.92-.59-1.43-.59-.52 0-1.04.2-1.43.59L10.3 9.45l-7.72 7.72c-.78.78-.78 2.05 0 2.83L4 21.41c.39.39.9.59 1.41.59.51 0 1.02-.2 1.41-.59l7.78-7.78 2.81-2.81c.8-.78.8-2.07 0-2.86zM5.41 20L4 18.59l7.72-7.72 1.47 1.35L5.41 20z\"/>\n",
              "  </svg>\n",
              "      </button>\n",
              "      \n",
              "  <style>\n",
              "    .colab-df-container {\n",
              "      display:flex;\n",
              "      flex-wrap:wrap;\n",
              "      gap: 12px;\n",
              "    }\n",
              "\n",
              "    .colab-df-convert {\n",
              "      background-color: #E8F0FE;\n",
              "      border: none;\n",
              "      border-radius: 50%;\n",
              "      cursor: pointer;\n",
              "      display: none;\n",
              "      fill: #1967D2;\n",
              "      height: 32px;\n",
              "      padding: 0 0 0 0;\n",
              "      width: 32px;\n",
              "    }\n",
              "\n",
              "    .colab-df-convert:hover {\n",
              "      background-color: #E2EBFA;\n",
              "      box-shadow: 0px 1px 2px rgba(60, 64, 67, 0.3), 0px 1px 3px 1px rgba(60, 64, 67, 0.15);\n",
              "      fill: #174EA6;\n",
              "    }\n",
              "\n",
              "    [theme=dark] .colab-df-convert {\n",
              "      background-color: #3B4455;\n",
              "      fill: #D2E3FC;\n",
              "    }\n",
              "\n",
              "    [theme=dark] .colab-df-convert:hover {\n",
              "      background-color: #434B5C;\n",
              "      box-shadow: 0px 1px 3px 1px rgba(0, 0, 0, 0.15);\n",
              "      filter: drop-shadow(0px 1px 2px rgba(0, 0, 0, 0.3));\n",
              "      fill: #FFFFFF;\n",
              "    }\n",
              "  </style>\n",
              "\n",
              "      <script>\n",
              "        const buttonEl =\n",
              "          document.querySelector('#df-ed9e074c-f6fb-465a-a098-58b3a6e0f7d0 button.colab-df-convert');\n",
              "        buttonEl.style.display =\n",
              "          google.colab.kernel.accessAllowed ? 'block' : 'none';\n",
              "\n",
              "        async function convertToInteractive(key) {\n",
              "          const element = document.querySelector('#df-ed9e074c-f6fb-465a-a098-58b3a6e0f7d0');\n",
              "          const dataTable =\n",
              "            await google.colab.kernel.invokeFunction('convertToInteractive',\n",
              "                                                     [key], {});\n",
              "          if (!dataTable) return;\n",
              "\n",
              "          const docLinkHtml = 'Like what you see? Visit the ' +\n",
              "            '<a target=\"_blank\" href=https://colab.research.google.com/notebooks/data_table.ipynb>data table notebook</a>'\n",
              "            + ' to learn more about interactive tables.';\n",
              "          element.innerHTML = '';\n",
              "          dataTable['output_type'] = 'display_data';\n",
              "          await google.colab.output.renderOutput(dataTable, element);\n",
              "          const docLink = document.createElement('div');\n",
              "          docLink.innerHTML = docLinkHtml;\n",
              "          element.appendChild(docLink);\n",
              "        }\n",
              "      </script>\n",
              "    </div>\n",
              "  </div>\n",
              "  "
            ]
          },
          "metadata": {},
          "execution_count": 27
        }
      ]
    },
    {
      "cell_type": "code",
      "source": [
        "nn_filt = annotation_dataframe['token_tag_'] == 'NN'\n",
        "dobj_filt = annotation_dataframe['token_dep_'] == 'dobj'\n",
        "annotation_dataframe[(nn_filt) & dobj_filt]"
      ],
      "metadata": {
        "colab": {
          "base_uri": "https://localhost:8080/",
          "height": 301
        },
        "id": "YK2eJJojEf_I",
        "outputId": "0a0c3897-125d-4424-c040-7267de16614c"
      },
      "execution_count": 28,
      "outputs": [
        {
          "output_type": "execute_result",
          "data": {
            "text/plain": [
              "   token_text  token_start  token_end token_pos_ token_tag_ token_dep_  \\\n",
              "29         戲日           58         60       NOUN         NN       dobj   \n",
              "32          展           63         64       NOUN         NN       dobj   \n",
              "48         棧板           92         94       NOUN         NN       dobj   \n",
              "56         遊具          104        106       NOUN         NN       dobj   \n",
              "61         成果          114        116       NOUN         NN       dobj   \n",
              "70         兒童          130        132       NOUN         NN       dobj   \n",
              "\n",
              "   token_head token_ent_type_  \n",
              "29         舉辦                  \n",
              "32         舉辦                  \n",
              "48         運用                  \n",
              "56         製作                  \n",
              "61         展示                  \n",
              "70         重視                  "
            ],
            "text/html": [
              "\n",
              "  <div id=\"df-05743941-4eb1-4e5c-932e-a3d94e2ab406\">\n",
              "    <div class=\"colab-df-container\">\n",
              "      <div>\n",
              "<style scoped>\n",
              "    .dataframe tbody tr th:only-of-type {\n",
              "        vertical-align: middle;\n",
              "    }\n",
              "\n",
              "    .dataframe tbody tr th {\n",
              "        vertical-align: top;\n",
              "    }\n",
              "\n",
              "    .dataframe thead th {\n",
              "        text-align: right;\n",
              "    }\n",
              "</style>\n",
              "<table border=\"1\" class=\"dataframe\">\n",
              "  <thead>\n",
              "    <tr style=\"text-align: right;\">\n",
              "      <th></th>\n",
              "      <th>token_text</th>\n",
              "      <th>token_start</th>\n",
              "      <th>token_end</th>\n",
              "      <th>token_pos_</th>\n",
              "      <th>token_tag_</th>\n",
              "      <th>token_dep_</th>\n",
              "      <th>token_head</th>\n",
              "      <th>token_ent_type_</th>\n",
              "    </tr>\n",
              "  </thead>\n",
              "  <tbody>\n",
              "    <tr>\n",
              "      <th>29</th>\n",
              "      <td>戲日</td>\n",
              "      <td>58</td>\n",
              "      <td>60</td>\n",
              "      <td>NOUN</td>\n",
              "      <td>NN</td>\n",
              "      <td>dobj</td>\n",
              "      <td>舉辦</td>\n",
              "      <td></td>\n",
              "    </tr>\n",
              "    <tr>\n",
              "      <th>32</th>\n",
              "      <td>展</td>\n",
              "      <td>63</td>\n",
              "      <td>64</td>\n",
              "      <td>NOUN</td>\n",
              "      <td>NN</td>\n",
              "      <td>dobj</td>\n",
              "      <td>舉辦</td>\n",
              "      <td></td>\n",
              "    </tr>\n",
              "    <tr>\n",
              "      <th>48</th>\n",
              "      <td>棧板</td>\n",
              "      <td>92</td>\n",
              "      <td>94</td>\n",
              "      <td>NOUN</td>\n",
              "      <td>NN</td>\n",
              "      <td>dobj</td>\n",
              "      <td>運用</td>\n",
              "      <td></td>\n",
              "    </tr>\n",
              "    <tr>\n",
              "      <th>56</th>\n",
              "      <td>遊具</td>\n",
              "      <td>104</td>\n",
              "      <td>106</td>\n",
              "      <td>NOUN</td>\n",
              "      <td>NN</td>\n",
              "      <td>dobj</td>\n",
              "      <td>製作</td>\n",
              "      <td></td>\n",
              "    </tr>\n",
              "    <tr>\n",
              "      <th>61</th>\n",
              "      <td>成果</td>\n",
              "      <td>114</td>\n",
              "      <td>116</td>\n",
              "      <td>NOUN</td>\n",
              "      <td>NN</td>\n",
              "      <td>dobj</td>\n",
              "      <td>展示</td>\n",
              "      <td></td>\n",
              "    </tr>\n",
              "    <tr>\n",
              "      <th>70</th>\n",
              "      <td>兒童</td>\n",
              "      <td>130</td>\n",
              "      <td>132</td>\n",
              "      <td>NOUN</td>\n",
              "      <td>NN</td>\n",
              "      <td>dobj</td>\n",
              "      <td>重視</td>\n",
              "      <td></td>\n",
              "    </tr>\n",
              "  </tbody>\n",
              "</table>\n",
              "</div>\n",
              "      <button class=\"colab-df-convert\" onclick=\"convertToInteractive('df-05743941-4eb1-4e5c-932e-a3d94e2ab406')\"\n",
              "              title=\"Convert this dataframe to an interactive table.\"\n",
              "              style=\"display:none;\">\n",
              "        \n",
              "  <svg xmlns=\"http://www.w3.org/2000/svg\" height=\"24px\"viewBox=\"0 0 24 24\"\n",
              "       width=\"24px\">\n",
              "    <path d=\"M0 0h24v24H0V0z\" fill=\"none\"/>\n",
              "    <path d=\"M18.56 5.44l.94 2.06.94-2.06 2.06-.94-2.06-.94-.94-2.06-.94 2.06-2.06.94zm-11 1L8.5 8.5l.94-2.06 2.06-.94-2.06-.94L8.5 2.5l-.94 2.06-2.06.94zm10 10l.94 2.06.94-2.06 2.06-.94-2.06-.94-.94-2.06-.94 2.06-2.06.94z\"/><path d=\"M17.41 7.96l-1.37-1.37c-.4-.4-.92-.59-1.43-.59-.52 0-1.04.2-1.43.59L10.3 9.45l-7.72 7.72c-.78.78-.78 2.05 0 2.83L4 21.41c.39.39.9.59 1.41.59.51 0 1.02-.2 1.41-.59l7.78-7.78 2.81-2.81c.8-.78.8-2.07 0-2.86zM5.41 20L4 18.59l7.72-7.72 1.47 1.35L5.41 20z\"/>\n",
              "  </svg>\n",
              "      </button>\n",
              "      \n",
              "  <style>\n",
              "    .colab-df-container {\n",
              "      display:flex;\n",
              "      flex-wrap:wrap;\n",
              "      gap: 12px;\n",
              "    }\n",
              "\n",
              "    .colab-df-convert {\n",
              "      background-color: #E8F0FE;\n",
              "      border: none;\n",
              "      border-radius: 50%;\n",
              "      cursor: pointer;\n",
              "      display: none;\n",
              "      fill: #1967D2;\n",
              "      height: 32px;\n",
              "      padding: 0 0 0 0;\n",
              "      width: 32px;\n",
              "    }\n",
              "\n",
              "    .colab-df-convert:hover {\n",
              "      background-color: #E2EBFA;\n",
              "      box-shadow: 0px 1px 2px rgba(60, 64, 67, 0.3), 0px 1px 3px 1px rgba(60, 64, 67, 0.15);\n",
              "      fill: #174EA6;\n",
              "    }\n",
              "\n",
              "    [theme=dark] .colab-df-convert {\n",
              "      background-color: #3B4455;\n",
              "      fill: #D2E3FC;\n",
              "    }\n",
              "\n",
              "    [theme=dark] .colab-df-convert:hover {\n",
              "      background-color: #434B5C;\n",
              "      box-shadow: 0px 1px 3px 1px rgba(0, 0, 0, 0.15);\n",
              "      filter: drop-shadow(0px 1px 2px rgba(0, 0, 0, 0.3));\n",
              "      fill: #FFFFFF;\n",
              "    }\n",
              "  </style>\n",
              "\n",
              "      <script>\n",
              "        const buttonEl =\n",
              "          document.querySelector('#df-05743941-4eb1-4e5c-932e-a3d94e2ab406 button.colab-df-convert');\n",
              "        buttonEl.style.display =\n",
              "          google.colab.kernel.accessAllowed ? 'block' : 'none';\n",
              "\n",
              "        async function convertToInteractive(key) {\n",
              "          const element = document.querySelector('#df-05743941-4eb1-4e5c-932e-a3d94e2ab406');\n",
              "          const dataTable =\n",
              "            await google.colab.kernel.invokeFunction('convertToInteractive',\n",
              "                                                     [key], {});\n",
              "          if (!dataTable) return;\n",
              "\n",
              "          const docLinkHtml = 'Like what you see? Visit the ' +\n",
              "            '<a target=\"_blank\" href=https://colab.research.google.com/notebooks/data_table.ipynb>data table notebook</a>'\n",
              "            + ' to learn more about interactive tables.';\n",
              "          element.innerHTML = '';\n",
              "          dataTable['output_type'] = 'display_data';\n",
              "          await google.colab.output.renderOutput(dataTable, element);\n",
              "          const docLink = document.createElement('div');\n",
              "          docLink.innerHTML = docLinkHtml;\n",
              "          element.appendChild(docLink);\n",
              "        }\n",
              "      </script>\n",
              "    </div>\n",
              "  </div>\n",
              "  "
            ]
          },
          "metadata": {},
          "execution_count": 28
        }
      ]
    },
    {
      "cell_type": "markdown",
      "source": [
        "## Vectors"
      ],
      "metadata": {
        "id": "rCpCdxLhF0Pq"
      }
    },
    {
      "cell_type": "code",
      "source": [
        "doc = zh(\"教授\")\n",
        "tok = doc[0]\n",
        "tok.vector"
      ],
      "metadata": {
        "colab": {
          "base_uri": "https://localhost:8080/"
        },
        "id": "2120c0njF2T1",
        "outputId": "33f530fe-e144-488e-fb42-d4e284f04329"
      },
      "execution_count": 29,
      "outputs": [
        {
          "output_type": "execute_result",
          "data": {
            "text/plain": [
              "array([ 2.2328  , -1.1713  , -3.3528  , -1.1691  , -0.26724 ,  4.4476  ,\n",
              "       -0.66089 ,  2.6248  , -1.5367  , -2.8449  , -4.0233  ,  1.5727  ,\n",
              "        1.978   ,  2.7964  ,  1.003   ,  0.29978 ,  0.056525,  3.7048  ,\n",
              "        2.0446  ,  2.2452  , -5.7184  ,  0.77814 , -1.8383  , -0.017231,\n",
              "       -1.91    , -6.4355  , -4.6737  , -0.13519 ,  0.66087 , -1.6718  ,\n",
              "        3.5934  ,  2.3382  , -4.5406  ,  1.6124  , -2.2361  , -6.0387  ,\n",
              "       -3.4078  ,  1.1304  ,  0.80933 ,  1.9734  ,  2.3314  , -0.9882  ,\n",
              "       -1.1947  ,  2.2628  , -1.3687  , -6.4278  ,  0.15906 ,  0.047335,\n",
              "       -2.8157  , -1.6407  ,  2.4385  , -0.84336 ,  3.081   ,  5.9188  ,\n",
              "       -1.3019  ,  1.2971  ,  7.2325  ,  2.9722  , -0.45552 ,  1.5148  ,\n",
              "       -1.1193  ,  3.8739  ,  1.482   , -2.4657  ,  1.4627  , -3.562   ,\n",
              "       -2.1737  , -1.4306  ,  3.4363  , -1.2796  , -1.4106  ,  2.2146  ,\n",
              "        2.9325  , -2.5172  ,  2.7192  , -0.84556 , -2.5362  ,  2.2079  ,\n",
              "       -3.2217  , -2.2081  ,  4.6204  ,  0.98445 , -0.53713 ,  1.5325  ,\n",
              "        0.60471 ,  1.774   ,  2.5593  ,  4.8882  , -2.9012  ,  0.56529 ,\n",
              "       -0.16369 , -2.6124  , -0.89601 ,  3.6279  , -3.0837  ,  7.4534  ,\n",
              "        5.5267  ,  0.30507 , -0.21904 ,  2.1489  , -3.5027  , -2.8241  ,\n",
              "        1.7284  , -1.7447  ,  0.05638 , -7.6138  , -3.8239  , -0.44218 ,\n",
              "        2.7571  ,  2.5495  , -3.6081  , -0.30223 ,  2.2124  , -0.82708 ,\n",
              "       -1.4102  , -0.81168 , -1.8045  ,  1.6797  , -0.43188 , -2.769   ,\n",
              "       -4.9266  ,  1.0018  ,  0.022032,  1.6223  , -0.097899,  1.541   ,\n",
              "       -4.1115  , -4.2305  , -2.0175  , -2.7113  ,  1.8462  ,  1.115   ,\n",
              "       -2.4203  ,  7.1492  , -1.3467  ,  5.1815  , -1.6418  , -0.90401 ,\n",
              "       -0.030428,  2.4756  , -3.3246  ,  1.2715  , -3.9147  , -2.4505  ,\n",
              "       -1.9256  ,  0.61014 ,  1.52    ,  0.20039 ,  6.3868  , -3.6932  ,\n",
              "       -0.25369 ,  1.993   ,  1.2806  , -1.4946  , -3.8367  ,  0.44791 ,\n",
              "        2.2502  ,  2.687   , -1.9332  ,  1.6963  ,  3.1247  , -4.6094  ,\n",
              "       -0.90111 ,  4.4618  , -5.5256  , -0.044889, -1.496   ,  2.8646  ,\n",
              "        1.9181  ,  0.82574 ,  0.024646, -4.0564  ,  1.1392  , -1.8365  ,\n",
              "       -0.38447 ,  0.063265,  1.2402  , -0.45659 , -1.7064  , -3.4588  ,\n",
              "       -0.23503 , -3.1285  , -2.8034  ,  2.1534  , -1.2622  , -4.0139  ,\n",
              "       -3.3527  ,  3.9156  ,  4.1822  , -1.1544  , -1.8433  , -3.4078  ,\n",
              "        0.43852 , -1.3131  , -0.92715 ,  4.6758  ,  1.8561  ,  3.4259  ,\n",
              "        1.2407  , -0.10015 , -0.4736  , -1.1884  ,  2.5849  , -1.7642  ,\n",
              "       -5.4619  ,  2.8648  ,  5.4742  , -1.9069  ,  0.87298 , -3.3007  ,\n",
              "        0.64926 ,  1.2753  ,  0.57441 ,  5.3602  ,  3.4332  , -3.4726  ,\n",
              "        0.41052 , -4.5747  ,  1.3222  ,  0.64865 , -1.7875  ,  0.68921 ,\n",
              "       -0.16166 ,  2.2868  ,  0.91401 ,  1.388   ,  7.0462  , -1.5426  ,\n",
              "        0.47719 , -3.237   , -1.0982  ,  4.7626  ,  3.4092  , -0.2124  ,\n",
              "       -0.4526  ,  4.4247  , -0.83311 , -0.99074 ,  2.1257  , -0.91728 ,\n",
              "        2.3176  ,  0.91452 , -1.436   ,  2.2201  ,  0.90931 , -0.46145 ,\n",
              "       -1.7671  , -1.594   ,  1.4875  , -3.7585  , -3.826   ,  4.4597  ,\n",
              "       -8.0136  , -1.7391  , -4.4454  ,  1.2797  ,  1.2241  , -0.85194 ,\n",
              "        0.42698 , -0.9868  , -5.0362  , -6.1074  ,  3.8487  ,  3.2342  ,\n",
              "        1.6124  , -1.2368  , -1.0743  , -1.1119  ,  2.7379  ,  4.4379  ,\n",
              "        3.8747  ,  0.83282 , -4.6553  , -1.303   , -0.27529 , -1.2466  ,\n",
              "       -1.5356  , -4.7198  , -5.2186  ,  1.2375  ,  1.3111  , -0.26792 ,\n",
              "        0.79845 , -0.25837 ,  2.2433  , -2.5042  ,  2.5327  ,  1.6947  ,\n",
              "       -3.1678  , -0.55927 , -1.17    , -1.2356  ,  0.3977  ,  1.8565  ,\n",
              "       -1.4511  ,  2.0813  ,  1.5979  , -0.50737 ,  2.5565  ,  0.63113 ],\n",
              "      dtype=float32)"
            ]
          },
          "metadata": {},
          "execution_count": 29
        }
      ]
    },
    {
      "cell_type": "code",
      "source": [
        "tok.vector.shape"
      ],
      "metadata": {
        "colab": {
          "base_uri": "https://localhost:8080/"
        },
        "id": "EX_NjkK1F-mP",
        "outputId": "26278311-e83e-48fa-8eda-9865cf0b936a"
      },
      "execution_count": 30,
      "outputs": [
        {
          "output_type": "execute_result",
          "data": {
            "text/plain": [
              "(300,)"
            ]
          },
          "metadata": {},
          "execution_count": 30
        }
      ]
    },
    {
      "cell_type": "code",
      "source": [
        "word_1 = nlp.vocab[\"高興\"]\n",
        "word_2 = nlp.vocab[\"高雄\"]\n",
        "word_3 = nlp.vocab[\"開心\"]\n",
        "word_1_word_2 = word_1.similarity(word_2)\n",
        "word_1_word_3 = word_1.similarity(word_3)\n",
        "print(f\"Distance btn Word 1 and 2: {word_1_word_2}\")\n",
        "print(f\"Distance btn Word 1 and 3: {word_1_word_3}\")"
      ],
      "metadata": {
        "colab": {
          "base_uri": "https://localhost:8080/"
        },
        "id": "TMz2mPd0GBaX",
        "outputId": "68bce931-c4fc-4396-e512-c61870920e03"
      },
      "execution_count": 31,
      "outputs": [
        {
          "output_type": "stream",
          "name": "stdout",
          "text": [
            "Distance btn Word 1 and 2: 0.27085748314857483\n",
            "Distance btn Word 1 and 3: 0.8141297101974487\n"
          ]
        }
      ]
    },
    {
      "cell_type": "markdown",
      "source": [
        "- Cosine similarity \n",
        "\n",
        "![](https://datascience-enthusiast.com/figures/cosine_sim.png)\n",
        "\n",
        "- Formula for calculating cosine similarity between two vectors\n",
        "\n",
        "![](https://miro.medium.com/max/1400/1*LfW66-WsYkFqWc4XYJbEJg.png)"
      ],
      "metadata": {
        "id": "PTJbrvaAGNvq"
      }
    },
    {
      "cell_type": "markdown",
      "source": [
        "Finally, the Chinese spaCy model **does NOT** contain a morphological parser, for which we'll turn to StandfordNLP."
      ],
      "metadata": {
        "id": "XoSWRXdHRzlw"
      }
    },
    {
      "cell_type": "code",
      "source": [
        "features = [[t.text, t.morph] for t in doc_zh]\n",
        "display(HTML(tabulate.tabulate(features, tablefmt='html')))"
      ],
      "metadata": {
        "colab": {
          "base_uri": "https://localhost:8080/",
          "height": 1000
        },
        "id": "XXF7uzlJRtX0",
        "outputId": "d087508a-e50d-4c2f-b8a9-ec285e0bc2b7"
      },
      "execution_count": 52,
      "outputs": [
        {
          "output_type": "display_data",
          "data": {
            "text/plain": [
              "<IPython.core.display.HTML object>"
            ],
            "text/html": [
              "<table>\n",
              "<tbody>\n",
              "<tr><td>中山  </td><td></td></tr>\n",
              "<tr><td>大學  </td><td></td></tr>\n",
              "<tr><td>人文  </td><td></td></tr>\n",
              "<tr><td>暨    </td><td></td></tr>\n",
              "<tr><td>科技  </td><td></td></tr>\n",
              "<tr><td>跨領域</td><td></td></tr>\n",
              "<tr><td>學士  </td><td></td></tr>\n",
              "<tr><td>學位  </td><td></td></tr>\n",
              "<tr><td>學程  </td><td></td></tr>\n",
              "<tr><td>助理  </td><td></td></tr>\n",
              "<tr><td>教授  </td><td></td></tr>\n",
              "<tr><td>宋世祥</td><td></td></tr>\n",
              "<tr><td>表示  </td><td></td></tr>\n",
              "<tr><td>，    </td><td></td></tr>\n",
              "<tr><td>2021年</td><td></td></tr>\n",
              "<tr><td>聖誕  </td><td></td></tr>\n",
              "<tr><td>節    </td><td></td></tr>\n",
              "<tr><td>假期  </td><td></td></tr>\n",
              "<tr><td>期間  </td><td></td></tr>\n",
              "<tr><td>，    </td><td></td></tr>\n",
              "<tr><td>師生  </td><td></td></tr>\n",
              "<tr><td>舉辦  </td><td></td></tr>\n",
              "<tr><td>「    </td><td></td></tr>\n",
              "<tr><td>街頭  </td><td></td></tr>\n",
              "<tr><td>玩童  </td><td></td></tr>\n",
              "<tr><td>～鹽  </td><td></td></tr>\n",
              "<tr><td>埕兒  </td><td></td></tr>\n",
              "<tr><td>童街  </td><td></td></tr>\n",
              "<tr><td>區遊  </td><td></td></tr>\n",
              "<tr><td>戲日  </td><td></td></tr>\n",
              "<tr><td>」    </td><td></td></tr>\n",
              "<tr><td>成果  </td><td></td></tr>\n",
              "<tr><td>展    </td><td></td></tr>\n",
              "<tr><td>。    </td><td></td></tr>\n",
              "<tr><td>活動  </td><td></td></tr>\n",
              "<tr><td>中    </td><td></td></tr>\n",
              "<tr><td>可    </td><td></td></tr>\n",
              "<tr><td>看見  </td><td></td></tr>\n",
              "<tr><td>學生  </td><td></td></tr>\n",
              "<tr><td>運用  </td><td></td></tr>\n",
              "<tr><td>贊助  </td><td></td></tr>\n",
              "<tr><td>單位  </td><td></td></tr>\n",
              "<tr><td>瑞儀  </td><td></td></tr>\n",
              "<tr><td>教育  </td><td></td></tr>\n",
              "<tr><td>基金會</td><td></td></tr>\n",
              "<tr><td>致贈  </td><td></td></tr>\n",
              "<tr><td>的    </td><td></td></tr>\n",
              "<tr><td>廢棄木</td><td></td></tr>\n",
              "<tr><td>棧板  </td><td></td></tr>\n",
              "<tr><td>，    </td><td></td></tr>\n",
              "<tr><td>製作  </td><td></td></tr>\n",
              "<tr><td>了    </td><td></td></tr>\n",
              "<tr><td>6     </td><td></td></tr>\n",
              "<tr><td>具    </td><td></td></tr>\n",
              "<tr><td>兒童  </td><td></td></tr>\n",
              "<tr><td>創意  </td><td></td></tr>\n",
              "<tr><td>遊具  </td><td></td></tr>\n",
              "<tr><td>，    </td><td></td></tr>\n",
              "<tr><td>一方面</td><td></td></tr>\n",
              "<tr><td>展示  </td><td></td></tr>\n",
              "<tr><td>學習  </td><td></td></tr>\n",
              "<tr><td>成果  </td><td></td></tr>\n",
              "<tr><td>，    </td><td></td></tr>\n",
              "<tr><td>也    </td><td></td></tr>\n",
              "<tr><td>希望  </td><td></td></tr>\n",
              "<tr><td>藉此  </td><td></td></tr>\n",
              "<tr><td>呼籲  </td><td></td></tr>\n",
              "<tr><td>高雄  </td><td></td></tr>\n",
              "<tr><td>民眾  </td><td></td></tr>\n",
              "<tr><td>重視  </td><td></td></tr>\n",
              "<tr><td>兒童  </td><td></td></tr>\n",
              "<tr><td>的    </td><td></td></tr>\n",
              "<tr><td>遊戲權</td><td></td></tr>\n",
              "<tr><td>。    </td><td></td></tr>\n",
              "</tbody>\n",
              "</table>"
            ]
          },
          "metadata": {}
        }
      ]
    },
    {
      "cell_type": "markdown",
      "metadata": {
        "id": "04olEHqfwk_D"
      },
      "source": [
        "## StanfordNLP"
      ]
    },
    {
      "cell_type": "markdown",
      "metadata": {
        "id": "ghzefh-xwk_D"
      },
      "source": [
        "Another library whose functionality overlaps with that of spaCy is StanfordNLP. [StanfordNLP](https://stanfordnlp.github.io/stanfordnlp/), not to be confused with Stanford's Java [CoreNLP](https://stanfordnlp.github.io/CoreNLP/) library, is a [Python library](https://github.com/stanfordnlp/stanfordnlp) built on top of PyTorch that offers a fully neural pipeline with tokenization (including multi-word units), lemmatization, part-of-speech tagging (including morphological features) and dependency parsing. These components were built and trained for the [CoNLL-2018 shared task](https://nlp.stanford.edu/pubs/qi2018universal.pdf). There are no named entities, but the quality of the dependency parsing is state of the art. On top of that, it also offers a Python interface to CoreNLP. "
      ]
    },
    {
      "cell_type": "markdown",
      "metadata": {
        "id": "I9UtQCFzwk_D"
      },
      "source": [
        "**`stanfordnlp` has been renamed to `stanza`.**"
      ]
    },
    {
      "cell_type": "code",
      "source": [
        "!pip install spacy-stanza"
      ],
      "metadata": {
        "colab": {
          "base_uri": "https://localhost:8080/"
        },
        "id": "ZncAMak2G-0S",
        "outputId": "52bc9fa9-0e27-45af-93a8-1167d783aedf"
      },
      "execution_count": 32,
      "outputs": [
        {
          "output_type": "stream",
          "name": "stdout",
          "text": [
            "Requirement already satisfied: spacy-stanza in /usr/local/lib/python3.7/dist-packages (1.0.1)\n",
            "Requirement already satisfied: stanza<1.4.0,>=1.2.0 in /usr/local/lib/python3.7/dist-packages (from spacy-stanza) (1.3.0)\n",
            "Requirement already satisfied: spacy<4.0.0,>=3.0.0 in /usr/local/lib/python3.7/dist-packages (from spacy-stanza) (3.2.4)\n",
            "Requirement already satisfied: catalogue<2.1.0,>=2.0.6 in /usr/local/lib/python3.7/dist-packages (from spacy<4.0.0,>=3.0.0->spacy-stanza) (2.0.7)\n",
            "Requirement already satisfied: preshed<3.1.0,>=3.0.2 in /usr/local/lib/python3.7/dist-packages (from spacy<4.0.0,>=3.0.0->spacy-stanza) (3.0.6)\n",
            "Requirement already satisfied: tqdm<5.0.0,>=4.38.0 in /usr/local/lib/python3.7/dist-packages (from spacy<4.0.0,>=3.0.0->spacy-stanza) (4.63.0)\n",
            "Requirement already satisfied: jinja2 in /usr/local/lib/python3.7/dist-packages (from spacy<4.0.0,>=3.0.0->spacy-stanza) (2.11.3)\n",
            "Requirement already satisfied: requests<3.0.0,>=2.13.0 in /usr/local/lib/python3.7/dist-packages (from spacy<4.0.0,>=3.0.0->spacy-stanza) (2.23.0)\n",
            "Requirement already satisfied: click<8.1.0 in /usr/local/lib/python3.7/dist-packages (from spacy<4.0.0,>=3.0.0->spacy-stanza) (7.1.2)\n",
            "Requirement already satisfied: wasabi<1.1.0,>=0.8.1 in /usr/local/lib/python3.7/dist-packages (from spacy<4.0.0,>=3.0.0->spacy-stanza) (0.9.0)\n",
            "Requirement already satisfied: cymem<2.1.0,>=2.0.2 in /usr/local/lib/python3.7/dist-packages (from spacy<4.0.0,>=3.0.0->spacy-stanza) (2.0.6)\n",
            "Requirement already satisfied: murmurhash<1.1.0,>=0.28.0 in /usr/local/lib/python3.7/dist-packages (from spacy<4.0.0,>=3.0.0->spacy-stanza) (1.0.6)\n",
            "Requirement already satisfied: spacy-loggers<2.0.0,>=1.0.0 in /usr/local/lib/python3.7/dist-packages (from spacy<4.0.0,>=3.0.0->spacy-stanza) (1.0.2)\n",
            "Requirement already satisfied: blis<0.8.0,>=0.4.0 in /usr/local/lib/python3.7/dist-packages (from spacy<4.0.0,>=3.0.0->spacy-stanza) (0.4.1)\n",
            "Requirement already satisfied: spacy-legacy<3.1.0,>=3.0.8 in /usr/local/lib/python3.7/dist-packages (from spacy<4.0.0,>=3.0.0->spacy-stanza) (3.0.9)\n",
            "Requirement already satisfied: pathy>=0.3.5 in /usr/local/lib/python3.7/dist-packages (from spacy<4.0.0,>=3.0.0->spacy-stanza) (0.6.1)\n",
            "Requirement already satisfied: thinc<8.1.0,>=8.0.12 in /usr/local/lib/python3.7/dist-packages (from spacy<4.0.0,>=3.0.0->spacy-stanza) (8.0.15)\n",
            "Requirement already satisfied: typer<0.5.0,>=0.3.0 in /usr/local/lib/python3.7/dist-packages (from spacy<4.0.0,>=3.0.0->spacy-stanza) (0.4.1)\n",
            "Requirement already satisfied: packaging>=20.0 in /usr/local/lib/python3.7/dist-packages (from spacy<4.0.0,>=3.0.0->spacy-stanza) (21.3)\n",
            "Requirement already satisfied: langcodes<4.0.0,>=3.2.0 in /usr/local/lib/python3.7/dist-packages (from spacy<4.0.0,>=3.0.0->spacy-stanza) (3.3.0)\n",
            "Requirement already satisfied: typing-extensions<4.0.0.0,>=3.7.4 in /usr/local/lib/python3.7/dist-packages (from spacy<4.0.0,>=3.0.0->spacy-stanza) (3.10.0.2)\n",
            "Requirement already satisfied: numpy>=1.15.0 in /usr/local/lib/python3.7/dist-packages (from spacy<4.0.0,>=3.0.0->spacy-stanza) (1.21.5)\n",
            "Requirement already satisfied: srsly<3.0.0,>=2.4.1 in /usr/local/lib/python3.7/dist-packages (from spacy<4.0.0,>=3.0.0->spacy-stanza) (2.4.2)\n",
            "Requirement already satisfied: pydantic!=1.8,!=1.8.1,<1.9.0,>=1.7.4 in /usr/local/lib/python3.7/dist-packages (from spacy<4.0.0,>=3.0.0->spacy-stanza) (1.8.2)\n",
            "Requirement already satisfied: setuptools in /usr/local/lib/python3.7/dist-packages (from spacy<4.0.0,>=3.0.0->spacy-stanza) (62.0.0)\n",
            "Requirement already satisfied: emoji in /usr/local/lib/python3.7/dist-packages (from stanza<1.4.0,>=1.2.0->spacy-stanza) (1.7.0)\n",
            "Requirement already satisfied: six in /usr/local/lib/python3.7/dist-packages (from stanza<1.4.0,>=1.2.0->spacy-stanza) (1.15.0)\n",
            "Requirement already satisfied: protobuf in /usr/local/lib/python3.7/dist-packages (from stanza<1.4.0,>=1.2.0->spacy-stanza) (3.17.3)\n",
            "Requirement already satisfied: torch>=1.3.0 in /usr/local/lib/python3.7/dist-packages (from stanza<1.4.0,>=1.2.0->spacy-stanza) (1.10.0+cu111)\n",
            "Requirement already satisfied: zipp>=0.5 in /usr/local/lib/python3.7/dist-packages (from catalogue<2.1.0,>=2.0.6->spacy<4.0.0,>=3.0.0->spacy-stanza) (3.7.0)\n",
            "Requirement already satisfied: pyparsing!=3.0.5,>=2.0.2 in /usr/local/lib/python3.7/dist-packages (from packaging>=20.0->spacy<4.0.0,>=3.0.0->spacy-stanza) (3.0.7)\n",
            "Requirement already satisfied: smart-open<6.0.0,>=5.0.0 in /usr/local/lib/python3.7/dist-packages (from pathy>=0.3.5->spacy<4.0.0,>=3.0.0->spacy-stanza) (5.2.1)\n",
            "Requirement already satisfied: urllib3!=1.25.0,!=1.25.1,<1.26,>=1.21.1 in /usr/local/lib/python3.7/dist-packages (from requests<3.0.0,>=2.13.0->spacy<4.0.0,>=3.0.0->spacy-stanza) (1.24.3)\n",
            "Requirement already satisfied: certifi>=2017.4.17 in /usr/local/lib/python3.7/dist-packages (from requests<3.0.0,>=2.13.0->spacy<4.0.0,>=3.0.0->spacy-stanza) (2021.10.8)\n",
            "Requirement already satisfied: idna<3,>=2.5 in /usr/local/lib/python3.7/dist-packages (from requests<3.0.0,>=2.13.0->spacy<4.0.0,>=3.0.0->spacy-stanza) (2.10)\n",
            "Requirement already satisfied: chardet<4,>=3.0.2 in /usr/local/lib/python3.7/dist-packages (from requests<3.0.0,>=2.13.0->spacy<4.0.0,>=3.0.0->spacy-stanza) (3.0.4)\n",
            "Requirement already satisfied: MarkupSafe>=0.23 in /usr/local/lib/python3.7/dist-packages (from jinja2->spacy<4.0.0,>=3.0.0->spacy-stanza) (2.0.1)\n",
            "\u001b[33mWARNING: Running pip as the 'root' user can result in broken permissions and conflicting behaviour with the system package manager. It is recommended to use a virtual environment instead: https://pip.pypa.io/warnings/venv\u001b[0m\u001b[33m\n",
            "\u001b[0m"
          ]
        }
      ]
    },
    {
      "cell_type": "code",
      "source": [
        "import stanza\n",
        "import spacy_stanza"
      ],
      "metadata": {
        "id": "-ct8iirDHhUa"
      },
      "execution_count": 33,
      "outputs": []
    },
    {
      "cell_type": "code",
      "source": [
        "stanza.download(\"zh-hant\")"
      ],
      "metadata": {
        "colab": {
          "base_uri": "https://localhost:8080/",
          "height": 177,
          "referenced_widgets": [
            "a33df8d7931a49da8cb8a7a87c6599d4",
            "3cffff0c1e8940a686dbcc7e0563d3a7",
            "713d382257714d4790dd631f20d4dee4",
            "783c4e4eda9a4ead899142f271c7044c",
            "35e1df5d79cc4e9d9a279634f76a3b4c",
            "86bdb347e5d4492b9ba07a17e1181e0a",
            "f3c76699ca9d4f1795203e6e3223276e",
            "838c4f3b59f44300b58b47e196ca4819",
            "33120bfa2c424cdbba86a57581609d38",
            "b93ed6f431594dd29f2eb6969bf0765d",
            "4a8f8d62f4f7432da86af9401f78f9bd"
          ]
        },
        "id": "C7S29T-ZKjWg",
        "outputId": "eee1877c-0d2a-479e-ecc3-15919b7f1231"
      },
      "execution_count": 34,
      "outputs": [
        {
          "output_type": "display_data",
          "data": {
            "text/plain": [
              "Downloading https://raw.githubusercontent.com/stanfordnlp/stanza-resources/main/resources_1.3.0.json:   0%|   …"
            ],
            "application/vnd.jupyter.widget-view+json": {
              "version_major": 2,
              "version_minor": 0,
              "model_id": "a33df8d7931a49da8cb8a7a87c6599d4"
            }
          },
          "metadata": {}
        },
        {
          "output_type": "stream",
          "name": "stderr",
          "text": [
            "2022-04-07 08:51:43 INFO: Downloading default packages for language: zh-hant (Traditional_Chinese)...\n",
            "2022-04-07 08:51:43 INFO: File exists: /root/stanza_resources/zh-hant/default.zip.\n",
            "2022-04-07 08:51:48 INFO: Finished downloading models and saved to /root/stanza_resources.\n"
          ]
        }
      ]
    },
    {
      "cell_type": "code",
      "source": [
        "nlp = spacy_stanza.load_pipeline(\"zh\")"
      ],
      "metadata": {
        "colab": {
          "base_uri": "https://localhost:8080/"
        },
        "id": "b5NFJi_WMByF",
        "outputId": "51213c76-e8a2-43cf-9ad7-4de5f73e110b"
      },
      "execution_count": 35,
      "outputs": [
        {
          "output_type": "stream",
          "name": "stderr",
          "text": [
            "2022-04-07 08:51:48 INFO: \"zh\" is an alias for \"zh-hans\"\n",
            "2022-04-07 08:51:48 INFO: Loading these models for language: zh-hans (Simplified_Chinese):\n",
            "=========================\n",
            "| Processor | Package   |\n",
            "-------------------------\n",
            "| tokenize  | gsdsimp   |\n",
            "| pos       | gsdsimp   |\n",
            "| lemma     | gsdsimp   |\n",
            "| depparse  | gsdsimp   |\n",
            "| sentiment | ren       |\n",
            "| ner       | ontonotes |\n",
            "=========================\n",
            "\n",
            "2022-04-07 08:51:48 INFO: Use device: cpu\n",
            "2022-04-07 08:51:48 INFO: Loading: tokenize\n",
            "2022-04-07 08:51:48 INFO: Loading: pos\n",
            "2022-04-07 08:51:50 INFO: Loading: lemma\n",
            "2022-04-07 08:51:50 INFO: Loading: depparse\n",
            "2022-04-07 08:51:51 INFO: Loading: sentiment\n",
            "2022-04-07 08:51:52 INFO: Loading: ner\n",
            "2022-04-07 08:51:53 INFO: Done loading processors!\n"
          ]
        }
      ]
    },
    {
      "cell_type": "code",
      "source": [
        "text_zh = \"中山大學人文暨科技跨領域學士學位學程助理教授宋世祥表示，2021年聖誕節假期期間，師生舉辦「街頭玩童～鹽埕兒童街區遊戲日」成果展。活動中可看見學生運用贊助單位瑞儀教育基金會致贈的廢棄木棧板，製作了6具兒童創意遊具，一方面展示學習成果，也希望藉此呼籲高雄民眾重視兒童的遊戲權。\"\n",
        "doc = nlp(text_zh)"
      ],
      "metadata": {
        "id": "ZmZRFfdYHSnL"
      },
      "execution_count": 50,
      "outputs": []
    },
    {
      "cell_type": "markdown",
      "source": [
        "Different models often produce different tokenization results, which in turn would have impact on POS, TAG, DEP, and NER.  "
      ],
      "metadata": {
        "id": "RXC7KjTsVFQ6"
      }
    },
    {
      "cell_type": "markdown",
      "source": [
        "- Here're the results based on StandfordNLP."
      ],
      "metadata": {
        "id": "kci7Uko7VZcg"
      }
    },
    {
      "cell_type": "code",
      "source": [
        "features = [[t.text, t.pos_, t.tag_, t.dep_, t.ent_type_, t.head.text] for t in doc]\n",
        "display(HTML(tabulate.tabulate(features, tablefmt='html')))"
      ],
      "metadata": {
        "colab": {
          "base_uri": "https://localhost:8080/",
          "height": 1000
        },
        "id": "XiZR1UXBIhpM",
        "outputId": "244428b1-7a3b-4c5f-e01a-ecd23f8db35d"
      },
      "execution_count": 37,
      "outputs": [
        {
          "output_type": "display_data",
          "data": {
            "text/plain": [
              "<IPython.core.display.HTML object>"
            ],
            "text/html": [
              "<table>\n",
              "<tbody>\n",
              "<tr><td>中山</td><td>PROPN</td><td>NNP</td><td>nmod     </td><td>ORG     </td><td>人文</td></tr>\n",
              "<tr><td>大學</td><td>PROPN</td><td>NNP</td><td>nmod     </td><td>ORG     </td><td>人文</td></tr>\n",
              "<tr><td>人文</td><td>NOUN </td><td>NN </td><td>nmod     </td><td>ORG     </td><td>教授</td></tr>\n",
              "<tr><td>暨  </td><td>CCONJ</td><td>CC </td><td>cc       </td><td>ORG     </td><td>領域</td></tr>\n",
              "<tr><td>科技</td><td>NOUN </td><td>NN </td><td>nsubj    </td><td>ORG     </td><td>跨  </td></tr>\n",
              "<tr><td>跨  </td><td>VERB </td><td>VV </td><td>conj     </td><td>ORG     </td><td>人文</td></tr>\n",
              "<tr><td>領域</td><td>NOUN </td><td>NN </td><td>conj     </td><td>ORG     </td><td>人文</td></tr>\n",
              "<tr><td>學士</td><td>NOUN </td><td>NN </td><td>nmod     </td><td>ORG     </td><td>教授</td></tr>\n",
              "<tr><td>學  </td><td>NUM  </td><td>CD </td><td>nummod   </td><td>ORG     </td><td>位  </td></tr>\n",
              "<tr><td>位  </td><td>NOUN </td><td>NNB</td><td>clf      </td><td>ORG     </td><td>教授</td></tr>\n",
              "<tr><td>學程</td><td>NOUN </td><td>NN </td><td>nmod     </td><td>ORG     </td><td>教授</td></tr>\n",
              "<tr><td>助理</td><td>NOUN </td><td>NN </td><td>nmod     </td><td>        </td><td>教授</td></tr>\n",
              "<tr><td>教授</td><td>NOUN </td><td>NN </td><td>nsubj    </td><td>        </td><td>表示</td></tr>\n",
              "<tr><td>宋  </td><td>PROPN</td><td>NNP</td><td>appos    </td><td>PERSON  </td><td>教授</td></tr>\n",
              "<tr><td>世祥</td><td>PROPN</td><td>NNP</td><td>flat:name</td><td>PERSON  </td><td>宋  </td></tr>\n",
              "<tr><td>表示</td><td>VERB </td><td>VV </td><td>root     </td><td>        </td><td>表示</td></tr>\n",
              "<tr><td>，  </td><td>PUNCT</td><td>,  </td><td>punct    </td><td>        </td><td>表示</td></tr>\n",
              "<tr><td>2021</td><td>NUM  </td><td>CD </td><td>nummod   </td><td>DATE    </td><td>年  </td></tr>\n",
              "<tr><td>年  </td><td>NOUN </td><td>NNB</td><td>nmod:tmod</td><td>DATE    </td><td>聖  </td></tr>\n",
              "<tr><td>聖  </td><td>VERB </td><td>VV </td><td>advcl    </td><td>DATE    </td><td>生  </td></tr>\n",
              "<tr><td>誕  </td><td>PROPN</td><td>NNP</td><td>nmod     </td><td>DATE    </td><td>期間</td></tr>\n",
              "<tr><td>節  </td><td>NOUN </td><td>NN </td><td>nmod     </td><td>DATE    </td><td>期間</td></tr>\n",
              "<tr><td>假期</td><td>NOUN </td><td>NN </td><td>nmod     </td><td>        </td><td>期間</td></tr>\n",
              "<tr><td>期間</td><td>NOUN </td><td>NN </td><td>obj      </td><td>        </td><td>聖  </td></tr>\n",
              "<tr><td>，  </td><td>PUNCT</td><td>,  </td><td>punct    </td><td>        </td><td>生  </td></tr>\n",
              "<tr><td>師  </td><td>VERB </td><td>VV </td><td>advcl    </td><td>        </td><td>生  </td></tr>\n",
              "<tr><td>生  </td><td>VERB </td><td>VV </td><td>xcomp    </td><td>        </td><td>表示</td></tr>\n",
              "<tr><td>舉  </td><td>PROPN</td><td>NNP</td><td>nmod     </td><td>        </td><td>玩童</td></tr>\n",
              "<tr><td>辦  </td><td>PROPN</td><td>NNP</td><td>nmod     </td><td>        </td><td>玩童</td></tr>\n",
              "<tr><td>「  </td><td>PUNCT</td><td>`` </td><td>punct    </td><td>        </td><td>玩童</td></tr>\n",
              "<tr><td>街  </td><td>NOUN </td><td>NN </td><td>nmod     </td><td>        </td><td>玩童</td></tr>\n",
              "<tr><td>頭  </td><td>PROPN</td><td>NNP</td><td>nmod     </td><td>        </td><td>玩童</td></tr>\n",
              "<tr><td>玩童</td><td>NOUN </td><td>NN </td><td>nsubj    </td><td>        </td><td>遊  </td></tr>\n",
              "<tr><td>～  </td><td>PUNCT</td><td>(  </td><td>punct    </td><td>        </td><td>街  </td></tr>\n",
              "<tr><td>鹽  </td><td>PROPN</td><td>NNP</td><td>compound </td><td>        </td><td>埕  </td></tr>\n",
              "<tr><td>埕  </td><td>PART </td><td>SFN</td><td>nmod     </td><td>        </td><td>街  </td></tr>\n",
              "<tr><td>兒童</td><td>PROPN</td><td>NNP</td><td>compound </td><td>        </td><td>街  </td></tr>\n",
              "<tr><td>街  </td><td>PART </td><td>SFN</td><td>appos    </td><td>        </td><td>玩童</td></tr>\n",
              "<tr><td>區  </td><td>PUNCT</td><td>)  </td><td>punct    </td><td>        </td><td>街  </td></tr>\n",
              "<tr><td>遊  </td><td>VERB </td><td>VV </td><td>ccomp    </td><td>        </td><td>表示</td></tr>\n",
              "<tr><td>戲  </td><td>VERB </td><td>VV </td><td>acl:relcl</td><td>        </td><td>展  </td></tr>\n",
              "<tr><td>日  </td><td>PROPN</td><td>NNP</td><td>obj      </td><td>        </td><td>戲  </td></tr>\n",
              "<tr><td>」  </td><td>PUNCT</td><td>&#x27;&#x27; </td><td>punct    </td><td>        </td><td>戲  </td></tr>\n",
              "<tr><td>成果</td><td>NOUN </td><td>NN </td><td>compound </td><td>        </td><td>展  </td></tr>\n",
              "<tr><td>展  </td><td>PART </td><td>SFN</td><td>obj      </td><td>        </td><td>遊  </td></tr>\n",
              "<tr><td>。  </td><td>PUNCT</td><td>.  </td><td>punct    </td><td>        </td><td>表示</td></tr>\n",
              "<tr><td>活動</td><td>NOUN </td><td>NN </td><td>nsubj    </td><td>        </td><td>看  </td></tr>\n",
              "<tr><td>中  </td><td>ADP  </td><td>IN </td><td>acl      </td><td>        </td><td>活動</td></tr>\n",
              "<tr><td>可  </td><td>AUX  </td><td>MD </td><td>aux      </td><td>        </td><td>看  </td></tr>\n",
              "<tr><td>看  </td><td>VERB </td><td>VV </td><td>root     </td><td>        </td><td>看  </td></tr>\n",
              "<tr><td>見  </td><td>VERB </td><td>VV </td><td>xcomp    </td><td>        </td><td>看  </td></tr>\n",
              "<tr><td>學  </td><td>VERB </td><td>VV </td><td>compound </td><td>        </td><td>生  </td></tr>\n",
              "<tr><td>生  </td><td>PART </td><td>SFN</td><td>nsubj    </td><td>        </td><td>用  </td></tr>\n",
              "<tr><td>運  </td><td>PUNCT</td><td>,  </td><td>punct    </td><td>        </td><td>看  </td></tr>\n",
              "<tr><td>用  </td><td>VERB </td><td>VV </td><td>ccomp    </td><td>        </td><td>看  </td></tr>\n",
              "<tr><td>贊助</td><td>VERB </td><td>VV </td><td>xcomp    </td><td>        </td><td>用  </td></tr>\n",
              "<tr><td>單  </td><td>NUM  </td><td>CD </td><td>nummod   </td><td>        </td><td>位  </td></tr>\n",
              "<tr><td>位  </td><td>NOUN </td><td>NNB</td><td>clf      </td><td>        </td><td>基金</td></tr>\n",
              "<tr><td>瑞儀</td><td>PROPN</td><td>NNP</td><td>nmod     </td><td>ORG     </td><td>基金</td></tr>\n",
              "<tr><td>教育</td><td>NOUN </td><td>NN </td><td>nmod     </td><td>ORG     </td><td>基金</td></tr>\n",
              "<tr><td>基金</td><td>NOUN </td><td>NN </td><td>nsubj    </td><td>ORG     </td><td>會  </td></tr>\n",
              "<tr><td>會  </td><td>VERB </td><td>VV </td><td>acl:relcl</td><td>ORG     </td><td>棧板</td></tr>\n",
              "<tr><td>致贈</td><td>VERB </td><td>VV </td><td>acl:relcl</td><td>        </td><td>棧板</td></tr>\n",
              "<tr><td>的  </td><td>PART </td><td>DEC</td><td>mark:rel </td><td>        </td><td>致贈</td></tr>\n",
              "<tr><td>廢  </td><td>PROPN</td><td>NNP</td><td>nmod     </td><td>        </td><td>棧板</td></tr>\n",
              "<tr><td>棄木</td><td>PROPN</td><td>NNP</td><td>nmod     </td><td>        </td><td>棧板</td></tr>\n",
              "<tr><td>棧板</td><td>NOUN </td><td>NN </td><td>obj      </td><td>        </td><td>用  </td></tr>\n",
              "<tr><td>，  </td><td>PUNCT</td><td>,  </td><td>punct    </td><td>        </td><td>希望</td></tr>\n",
              "<tr><td>製作</td><td>VERB </td><td>VV </td><td>advcl    </td><td>        </td><td>希望</td></tr>\n",
              "<tr><td>了  </td><td>AUX  </td><td>AS </td><td>aux      </td><td>        </td><td>製作</td></tr>\n",
              "<tr><td>6   </td><td>NUM  </td><td>CD </td><td>advmod   </td><td>CARDINAL</td><td>具  </td></tr>\n",
              "<tr><td>具  </td><td>VERB </td><td>VV </td><td>acl:relcl</td><td>        </td><td>意  </td></tr>\n",
              "<tr><td>兒童</td><td>NOUN </td><td>NN </td><td>obj      </td><td>        </td><td>具  </td></tr>\n",
              "<tr><td>創  </td><td>PART </td><td>DEC</td><td>mark:rel </td><td>        </td><td>具  </td></tr>\n",
              "<tr><td>意  </td><td>NOUN </td><td>NN </td><td>nsubj    </td><td>        </td><td>具  </td></tr>\n",
              "<tr><td>遊  </td><td>ADV  </td><td>RB </td><td>advmod   </td><td>        </td><td>具  </td></tr>\n",
              "<tr><td>具  </td><td>VERB </td><td>VV </td><td>advcl    </td><td>        </td><td>希望</td></tr>\n",
              "<tr><td>，  </td><td>PUNCT</td><td>,  </td><td>punct    </td><td>        </td><td>希望</td></tr>\n",
              "<tr><td>一  </td><td>NUM  </td><td>CD </td><td>nummod   </td><td>        </td><td>方面</td></tr>\n",
              "<tr><td>方面</td><td>NOUN </td><td>NN </td><td>nsubj    </td><td>        </td><td>展示</td></tr>\n",
              "<tr><td>展示</td><td>VERB </td><td>VV </td><td>advcl    </td><td>        </td><td>希望</td></tr>\n",
              "<tr><td>學  </td><td>PROPN</td><td>NNP</td><td>nmod     </td><td>        </td><td>成果</td></tr>\n",
              "<tr><td>習  </td><td>NOUN </td><td>NN </td><td>nmod     </td><td>        </td><td>成果</td></tr>\n",
              "<tr><td>成果</td><td>NOUN </td><td>NN </td><td>obj      </td><td>        </td><td>展示</td></tr>\n",
              "<tr><td>，  </td><td>PUNCT</td><td>,  </td><td>punct    </td><td>        </td><td>希望</td></tr>\n",
              "<tr><td>也  </td><td>ADV  </td><td>RB </td><td>mark     </td><td>        </td><td>希望</td></tr>\n",
              "<tr><td>希望</td><td>VERB </td><td>VV </td><td>ccomp    </td><td>        </td><td>看  </td></tr>\n",
              "<tr><td>藉  </td><td>ADP  </td><td>IN </td><td>case     </td><td>        </td><td>此  </td></tr>\n",
              "<tr><td>此  </td><td>PRON </td><td>PRD</td><td>obl      </td><td>        </td><td>呼籲</td></tr>\n",
              "<tr><td>呼籲</td><td>VERB </td><td>VV </td><td>xcomp    </td><td>        </td><td>希望</td></tr>\n",
              "<tr><td>高雄</td><td>PROPN</td><td>NNP</td><td>nmod     </td><td>NORP    </td><td>民眾</td></tr>\n",
              "<tr><td>民眾</td><td>NOUN </td><td>NN </td><td>nsubj    </td><td>        </td><td>重視</td></tr>\n",
              "<tr><td>重視</td><td>VERB </td><td>VV </td><td>advcl    </td><td>        </td><td>兒童</td></tr>\n",
              "<tr><td>兒童</td><td>VERB </td><td>VV </td><td>acl:relcl</td><td>        </td><td>權  </td></tr>\n",
              "<tr><td>的  </td><td>PART </td><td>DEC</td><td>mark:rel </td><td>        </td><td>兒童</td></tr>\n",
              "<tr><td>遊  </td><td>NOUN </td><td>NN </td><td>nmod     </td><td>        </td><td>權  </td></tr>\n",
              "<tr><td>戲  </td><td>NOUN </td><td>NN </td><td>nmod     </td><td>        </td><td>權  </td></tr>\n",
              "<tr><td>權  </td><td>NOUN </td><td>NN </td><td>obj      </td><td>        </td><td>呼籲</td></tr>\n",
              "<tr><td>。  </td><td>PUNCT</td><td>.  </td><td>punct    </td><td>        </td><td>看  </td></tr>\n",
              "</tbody>\n",
              "</table>"
            ]
          },
          "metadata": {}
        }
      ]
    },
    {
      "cell_type": "markdown",
      "source": [
        "- Here're the results based on spaCy."
      ],
      "metadata": {
        "id": "PL_LtCGgVhYE"
      }
    },
    {
      "cell_type": "code",
      "source": [
        "features = [[t.text, t.pos_, t.tag_, t.dep_, t.ent_type_, t.head.text] for t in doc_zh]\n",
        "display(HTML(tabulate.tabulate(features, tablefmt='html')))"
      ],
      "metadata": {
        "colab": {
          "base_uri": "https://localhost:8080/",
          "height": 1000
        },
        "id": "iizDgP-DUzxB",
        "outputId": "72793d1a-51a5-4c1d-d5c0-47e06885f533"
      },
      "execution_count": 53,
      "outputs": [
        {
          "output_type": "display_data",
          "data": {
            "text/plain": [
              "<IPython.core.display.HTML object>"
            ],
            "text/html": [
              "<table>\n",
              "<tbody>\n",
              "<tr><td>中山  </td><td>PROPN</td><td>NR </td><td>compound:nn</td><td>ORG     </td><td>大學  </td></tr>\n",
              "<tr><td>大學  </td><td>NOUN </td><td>NN </td><td>nmod:assmod</td><td>ORG     </td><td>科技  </td></tr>\n",
              "<tr><td>人文  </td><td>NOUN </td><td>NN </td><td>conj       </td><td>ORG     </td><td>科技  </td></tr>\n",
              "<tr><td>暨    </td><td>CCONJ</td><td>CC </td><td>cc         </td><td>ORG     </td><td>科技  </td></tr>\n",
              "<tr><td>科技  </td><td>NOUN </td><td>NN </td><td>compound:nn</td><td>ORG     </td><td>跨領域</td></tr>\n",
              "<tr><td>跨領域</td><td>ADJ  </td><td>JJ </td><td>amod       </td><td>ORG     </td><td>教授  </td></tr>\n",
              "<tr><td>學士  </td><td>NOUN </td><td>NN </td><td>compound:nn</td><td>        </td><td>教授  </td></tr>\n",
              "<tr><td>學位  </td><td>NOUN </td><td>NN </td><td>compound:nn</td><td>        </td><td>學程  </td></tr>\n",
              "<tr><td>學程  </td><td>NOUN </td><td>NN </td><td>compound:nn</td><td>        </td><td>教授  </td></tr>\n",
              "<tr><td>助理  </td><td>NOUN </td><td>NN </td><td>compound:nn</td><td>        </td><td>教授  </td></tr>\n",
              "<tr><td>教授  </td><td>NOUN </td><td>NN </td><td>appos      </td><td>        </td><td>宋世祥</td></tr>\n",
              "<tr><td>宋世祥</td><td>PROPN</td><td>NR </td><td>nsubj      </td><td>PERSON  </td><td>表示  </td></tr>\n",
              "<tr><td>表示  </td><td>VERB </td><td>VV </td><td>ROOT       </td><td>        </td><td>表示  </td></tr>\n",
              "<tr><td>，    </td><td>PUNCT</td><td>PU </td><td>punct      </td><td>        </td><td>表示  </td></tr>\n",
              "<tr><td>2021年</td><td>NOUN </td><td>NT </td><td>compound:nn</td><td>DATE    </td><td>聖誕  </td></tr>\n",
              "<tr><td>聖誕  </td><td>NOUN </td><td>NN </td><td>advmod:loc </td><td>        </td><td>舉辦  </td></tr>\n",
              "<tr><td>節    </td><td>DET  </td><td>DT </td><td>compound:nn</td><td>        </td><td>假期  </td></tr>\n",
              "<tr><td>假期  </td><td>NOUN </td><td>NN </td><td>compound:nn</td><td>        </td><td>期間  </td></tr>\n",
              "<tr><td>期間  </td><td>PART </td><td>LC </td><td>case       </td><td>        </td><td>聖誕  </td></tr>\n",
              "<tr><td>，    </td><td>PUNCT</td><td>PU </td><td>punct      </td><td>        </td><td>舉辦  </td></tr>\n",
              "<tr><td>師生  </td><td>NOUN </td><td>NN </td><td>nsubj      </td><td>        </td><td>舉辦  </td></tr>\n",
              "<tr><td>舉辦  </td><td>VERB </td><td>VV </td><td>ccomp      </td><td>        </td><td>表示  </td></tr>\n",
              "<tr><td>「    </td><td>PUNCT</td><td>PU </td><td>punct      </td><td>        </td><td>戲日  </td></tr>\n",
              "<tr><td>街頭  </td><td>NOUN </td><td>NN </td><td>compound:nn</td><td>        </td><td>～鹽  </td></tr>\n",
              "<tr><td>玩童  </td><td>NOUN </td><td>NN </td><td>compound:nn</td><td>        </td><td>～鹽  </td></tr>\n",
              "<tr><td>～鹽  </td><td>NOUN </td><td>NN </td><td>compound:nn</td><td>        </td><td>埕兒  </td></tr>\n",
              "<tr><td>埕兒  </td><td>NOUN </td><td>NN </td><td>compound:nn</td><td>        </td><td>戲日  </td></tr>\n",
              "<tr><td>童街  </td><td>PROPN</td><td>NR </td><td>dep        </td><td>        </td><td>戲日  </td></tr>\n",
              "<tr><td>區遊  </td><td>PROPN</td><td>NR </td><td>dep        </td><td>        </td><td>戲日  </td></tr>\n",
              "<tr><td>戲日  </td><td>NOUN </td><td>NN </td><td>dobj       </td><td>        </td><td>舉辦  </td></tr>\n",
              "<tr><td>」    </td><td>PUNCT</td><td>PU </td><td>punct      </td><td>        </td><td>戲日  </td></tr>\n",
              "<tr><td>成果  </td><td>NOUN </td><td>NN </td><td>compound:nn</td><td>        </td><td>展    </td></tr>\n",
              "<tr><td>展    </td><td>NOUN </td><td>NN </td><td>dobj       </td><td>        </td><td>舉辦  </td></tr>\n",
              "<tr><td>。    </td><td>PUNCT</td><td>PU </td><td>punct      </td><td>        </td><td>表示  </td></tr>\n",
              "<tr><td>活動  </td><td>NOUN </td><td>NN </td><td>advmod:loc </td><td>        </td><td>看見  </td></tr>\n",
              "<tr><td>中    </td><td>PART </td><td>LC </td><td>case       </td><td>        </td><td>活動  </td></tr>\n",
              "<tr><td>可    </td><td>VERB </td><td>VV </td><td>aux:modal  </td><td>        </td><td>看見  </td></tr>\n",
              "<tr><td>看見  </td><td>VERB </td><td>VV </td><td>ROOT       </td><td>        </td><td>看見  </td></tr>\n",
              "<tr><td>學生  </td><td>NOUN </td><td>NN </td><td>nsubj      </td><td>        </td><td>運用  </td></tr>\n",
              "<tr><td>運用  </td><td>VERB </td><td>VV </td><td>ccomp      </td><td>        </td><td>看見  </td></tr>\n",
              "<tr><td>贊助  </td><td>NOUN </td><td>NN </td><td>compound:nn</td><td>        </td><td>單位  </td></tr>\n",
              "<tr><td>單位  </td><td>NOUN </td><td>NN </td><td>appos      </td><td>ORG     </td><td>瑞儀  </td></tr>\n",
              "<tr><td>瑞儀  </td><td>PROPN</td><td>NR </td><td>compound:nn</td><td>ORG     </td><td>基金會</td></tr>\n",
              "<tr><td>教育  </td><td>NOUN </td><td>NN </td><td>compound:nn</td><td>ORG     </td><td>基金會</td></tr>\n",
              "<tr><td>基金會</td><td>NOUN </td><td>NN </td><td>nmod       </td><td>ORG     </td><td>棧板  </td></tr>\n",
              "<tr><td>致贈  </td><td>NOUN </td><td>NN </td><td>nmod:assmod</td><td>        </td><td>棧板  </td></tr>\n",
              "<tr><td>的    </td><td>PART </td><td>DEG</td><td>case       </td><td>        </td><td>致贈  </td></tr>\n",
              "<tr><td>廢棄木</td><td>NOUN </td><td>NN </td><td>compound:nn</td><td>        </td><td>棧板  </td></tr>\n",
              "<tr><td>棧板  </td><td>NOUN </td><td>NN </td><td>dobj       </td><td>        </td><td>運用  </td></tr>\n",
              "<tr><td>，    </td><td>PUNCT</td><td>PU </td><td>punct      </td><td>        </td><td>運用  </td></tr>\n",
              "<tr><td>製作  </td><td>VERB </td><td>VV </td><td>conj       </td><td>        </td><td>運用  </td></tr>\n",
              "<tr><td>了    </td><td>PART </td><td>AS </td><td>aux:asp    </td><td>        </td><td>製作  </td></tr>\n",
              "<tr><td>6     </td><td>NUM  </td><td>CD </td><td>nummod     </td><td>CARDINAL</td><td>遊具  </td></tr>\n",
              "<tr><td>具    </td><td>NUM  </td><td>M  </td><td>mark:clf   </td><td>        </td><td>6     </td></tr>\n",
              "<tr><td>兒童  </td><td>NOUN </td><td>NN </td><td>compound:nn</td><td>        </td><td>遊具  </td></tr>\n",
              "<tr><td>創意  </td><td>ADJ  </td><td>JJ </td><td>amod       </td><td>        </td><td>遊具  </td></tr>\n",
              "<tr><td>遊具  </td><td>NOUN </td><td>NN </td><td>dobj       </td><td>        </td><td>製作  </td></tr>\n",
              "<tr><td>，    </td><td>PUNCT</td><td>PU </td><td>punct      </td><td>        </td><td>看見  </td></tr>\n",
              "<tr><td>一方面</td><td>ADV  </td><td>AD </td><td>advmod     </td><td>        </td><td>展示  </td></tr>\n",
              "<tr><td>展示  </td><td>VERB </td><td>VV </td><td>conj       </td><td>        </td><td>看見  </td></tr>\n",
              "<tr><td>學習  </td><td>NOUN </td><td>NN </td><td>compound:nn</td><td>        </td><td>成果  </td></tr>\n",
              "<tr><td>成果  </td><td>NOUN </td><td>NN </td><td>dobj       </td><td>        </td><td>展示  </td></tr>\n",
              "<tr><td>，    </td><td>PUNCT</td><td>PU </td><td>punct      </td><td>        </td><td>看見  </td></tr>\n",
              "<tr><td>也    </td><td>ADV  </td><td>AD </td><td>advmod     </td><td>        </td><td>希望  </td></tr>\n",
              "<tr><td>希望  </td><td>VERB </td><td>VV </td><td>conj       </td><td>        </td><td>看見  </td></tr>\n",
              "<tr><td>藉此  </td><td>ADV  </td><td>AD </td><td>advmod     </td><td>        </td><td>呼籲  </td></tr>\n",
              "<tr><td>呼籲  </td><td>VERB </td><td>VV </td><td>ccomp      </td><td>        </td><td>希望  </td></tr>\n",
              "<tr><td>高雄  </td><td>PROPN</td><td>NR </td><td>nmod:assmod</td><td>NORP    </td><td>民眾  </td></tr>\n",
              "<tr><td>民眾  </td><td>NOUN </td><td>NN </td><td>nsubj      </td><td>        </td><td>重視  </td></tr>\n",
              "<tr><td>重視  </td><td>VERB </td><td>VV </td><td>ccomp      </td><td>        </td><td>呼籲  </td></tr>\n",
              "<tr><td>兒童  </td><td>NOUN </td><td>NN </td><td>dobj       </td><td>        </td><td>重視  </td></tr>\n",
              "<tr><td>的    </td><td>PART </td><td>DEC</td><td>mark       </td><td>        </td><td>重視  </td></tr>\n",
              "<tr><td>遊戲權</td><td>PROPN</td><td>NR </td><td>dobj       </td><td>        </td><td>呼籲  </td></tr>\n",
              "<tr><td>。    </td><td>PUNCT</td><td>PU </td><td>punct      </td><td>        </td><td>看見  </td></tr>\n",
              "</tbody>\n",
              "</table>"
            ]
          },
          "metadata": {}
        }
      ]
    },
    {
      "cell_type": "markdown",
      "source": [
        "Unlike spaCy, StanfordNLP has a morphological parser. Refer to [this page](https://universaldependencies.org/treebanks/zh_gsd/index.html) for details of the supported features.  "
      ],
      "metadata": {
        "id": "c8bl1ZhJPmmj"
      }
    },
    {
      "cell_type": "code",
      "source": [
        "text = \"他們吃飽了就睡，睡飽了就吃，其他的事情都不想做\"\n",
        "doc = nlp(text)\n",
        "features = [[t.text, t.morph] for t in doc]\n",
        "display(HTML(tabulate.tabulate(features, tablefmt='html')))"
      ],
      "metadata": {
        "colab": {
          "base_uri": "https://localhost:8080/",
          "height": 403
        },
        "id": "r86UYMuJPc-X",
        "outputId": "ddc1d691-c24e-4777-e4b9-ef4653aeccd1"
      },
      "execution_count": 60,
      "outputs": [
        {
          "output_type": "display_data",
          "data": {
            "text/plain": [
              "<IPython.core.display.HTML object>"
            ],
            "text/html": [
              "<table>\n",
              "<tbody>\n",
              "<tr><td>他  </td><td>Person=3   </td></tr>\n",
              "<tr><td>們  </td><td>           </td></tr>\n",
              "<tr><td>吃飽</td><td>           </td></tr>\n",
              "<tr><td>了  </td><td>Aspect=Perf</td></tr>\n",
              "<tr><td>就  </td><td>           </td></tr>\n",
              "<tr><td>睡  </td><td>           </td></tr>\n",
              "<tr><td>，  </td><td>           </td></tr>\n",
              "<tr><td>睡飽</td><td>           </td></tr>\n",
              "<tr><td>了  </td><td>Aspect=Perf</td></tr>\n",
              "<tr><td>就  </td><td>           </td></tr>\n",
              "<tr><td>吃  </td><td>           </td></tr>\n",
              "<tr><td>，  </td><td>           </td></tr>\n",
              "<tr><td>其他</td><td>           </td></tr>\n",
              "<tr><td>的  </td><td>Case=Gen   </td></tr>\n",
              "<tr><td>事情</td><td>           </td></tr>\n",
              "<tr><td>都  </td><td>           </td></tr>\n",
              "<tr><td>不想</td><td>           </td></tr>\n",
              "<tr><td>做  </td><td>           </td></tr>\n",
              "</tbody>\n",
              "</table>"
            ]
          },
          "metadata": {}
        }
      ]
    }
  ],
  "metadata": {
    "kernelspec": {
      "display_name": "Python 3",
      "language": "python",
      "name": "python3"
    },
    "language_info": {
      "codemirror_mode": {
        "name": "ipython",
        "version": 3
      },
      "file_extension": ".py",
      "mimetype": "text/x-python",
      "name": "python",
      "nbconvert_exporter": "python",
      "pygments_lexer": "ipython3",
      "version": "3.6.3"
    },
    "colab": {
      "name": "W01-use-pretrained-models.ipynb",
      "provenance": [],
      "collapsed_sections": [],
      "toc_visible": true,
      "include_colab_link": true
    },
    "widgets": {
      "application/vnd.jupyter.widget-state+json": {
        "a33df8d7931a49da8cb8a7a87c6599d4": {
          "model_module": "@jupyter-widgets/controls",
          "model_name": "HBoxModel",
          "model_module_version": "1.5.0",
          "state": {
            "_dom_classes": [],
            "_model_module": "@jupyter-widgets/controls",
            "_model_module_version": "1.5.0",
            "_model_name": "HBoxModel",
            "_view_count": null,
            "_view_module": "@jupyter-widgets/controls",
            "_view_module_version": "1.5.0",
            "_view_name": "HBoxView",
            "box_style": "",
            "children": [
              "IPY_MODEL_3cffff0c1e8940a686dbcc7e0563d3a7",
              "IPY_MODEL_713d382257714d4790dd631f20d4dee4",
              "IPY_MODEL_783c4e4eda9a4ead899142f271c7044c"
            ],
            "layout": "IPY_MODEL_35e1df5d79cc4e9d9a279634f76a3b4c"
          }
        },
        "3cffff0c1e8940a686dbcc7e0563d3a7": {
          "model_module": "@jupyter-widgets/controls",
          "model_name": "HTMLModel",
          "model_module_version": "1.5.0",
          "state": {
            "_dom_classes": [],
            "_model_module": "@jupyter-widgets/controls",
            "_model_module_version": "1.5.0",
            "_model_name": "HTMLModel",
            "_view_count": null,
            "_view_module": "@jupyter-widgets/controls",
            "_view_module_version": "1.5.0",
            "_view_name": "HTMLView",
            "description": "",
            "description_tooltip": null,
            "layout": "IPY_MODEL_86bdb347e5d4492b9ba07a17e1181e0a",
            "placeholder": "​",
            "style": "IPY_MODEL_f3c76699ca9d4f1795203e6e3223276e",
            "value": "Downloading https://raw.githubusercontent.com/stanfordnlp/stanza-resources/main/resources_1.3.0.json: "
          }
        },
        "713d382257714d4790dd631f20d4dee4": {
          "model_module": "@jupyter-widgets/controls",
          "model_name": "FloatProgressModel",
          "model_module_version": "1.5.0",
          "state": {
            "_dom_classes": [],
            "_model_module": "@jupyter-widgets/controls",
            "_model_module_version": "1.5.0",
            "_model_name": "FloatProgressModel",
            "_view_count": null,
            "_view_module": "@jupyter-widgets/controls",
            "_view_module_version": "1.5.0",
            "_view_name": "ProgressView",
            "bar_style": "success",
            "description": "",
            "description_tooltip": null,
            "layout": "IPY_MODEL_838c4f3b59f44300b58b47e196ca4819",
            "max": 24459,
            "min": 0,
            "orientation": "horizontal",
            "style": "IPY_MODEL_33120bfa2c424cdbba86a57581609d38",
            "value": 24459
          }
        },
        "783c4e4eda9a4ead899142f271c7044c": {
          "model_module": "@jupyter-widgets/controls",
          "model_name": "HTMLModel",
          "model_module_version": "1.5.0",
          "state": {
            "_dom_classes": [],
            "_model_module": "@jupyter-widgets/controls",
            "_model_module_version": "1.5.0",
            "_model_name": "HTMLModel",
            "_view_count": null,
            "_view_module": "@jupyter-widgets/controls",
            "_view_module_version": "1.5.0",
            "_view_name": "HTMLView",
            "description": "",
            "description_tooltip": null,
            "layout": "IPY_MODEL_b93ed6f431594dd29f2eb6969bf0765d",
            "placeholder": "​",
            "style": "IPY_MODEL_4a8f8d62f4f7432da86af9401f78f9bd",
            "value": " 142k/? [00:00&lt;00:00, 2.32MB/s]"
          }
        },
        "35e1df5d79cc4e9d9a279634f76a3b4c": {
          "model_module": "@jupyter-widgets/base",
          "model_name": "LayoutModel",
          "model_module_version": "1.2.0",
          "state": {
            "_model_module": "@jupyter-widgets/base",
            "_model_module_version": "1.2.0",
            "_model_name": "LayoutModel",
            "_view_count": null,
            "_view_module": "@jupyter-widgets/base",
            "_view_module_version": "1.2.0",
            "_view_name": "LayoutView",
            "align_content": null,
            "align_items": null,
            "align_self": null,
            "border": null,
            "bottom": null,
            "display": null,
            "flex": null,
            "flex_flow": null,
            "grid_area": null,
            "grid_auto_columns": null,
            "grid_auto_flow": null,
            "grid_auto_rows": null,
            "grid_column": null,
            "grid_gap": null,
            "grid_row": null,
            "grid_template_areas": null,
            "grid_template_columns": null,
            "grid_template_rows": null,
            "height": null,
            "justify_content": null,
            "justify_items": null,
            "left": null,
            "margin": null,
            "max_height": null,
            "max_width": null,
            "min_height": null,
            "min_width": null,
            "object_fit": null,
            "object_position": null,
            "order": null,
            "overflow": null,
            "overflow_x": null,
            "overflow_y": null,
            "padding": null,
            "right": null,
            "top": null,
            "visibility": null,
            "width": null
          }
        },
        "86bdb347e5d4492b9ba07a17e1181e0a": {
          "model_module": "@jupyter-widgets/base",
          "model_name": "LayoutModel",
          "model_module_version": "1.2.0",
          "state": {
            "_model_module": "@jupyter-widgets/base",
            "_model_module_version": "1.2.0",
            "_model_name": "LayoutModel",
            "_view_count": null,
            "_view_module": "@jupyter-widgets/base",
            "_view_module_version": "1.2.0",
            "_view_name": "LayoutView",
            "align_content": null,
            "align_items": null,
            "align_self": null,
            "border": null,
            "bottom": null,
            "display": null,
            "flex": null,
            "flex_flow": null,
            "grid_area": null,
            "grid_auto_columns": null,
            "grid_auto_flow": null,
            "grid_auto_rows": null,
            "grid_column": null,
            "grid_gap": null,
            "grid_row": null,
            "grid_template_areas": null,
            "grid_template_columns": null,
            "grid_template_rows": null,
            "height": null,
            "justify_content": null,
            "justify_items": null,
            "left": null,
            "margin": null,
            "max_height": null,
            "max_width": null,
            "min_height": null,
            "min_width": null,
            "object_fit": null,
            "object_position": null,
            "order": null,
            "overflow": null,
            "overflow_x": null,
            "overflow_y": null,
            "padding": null,
            "right": null,
            "top": null,
            "visibility": null,
            "width": null
          }
        },
        "f3c76699ca9d4f1795203e6e3223276e": {
          "model_module": "@jupyter-widgets/controls",
          "model_name": "DescriptionStyleModel",
          "model_module_version": "1.5.0",
          "state": {
            "_model_module": "@jupyter-widgets/controls",
            "_model_module_version": "1.5.0",
            "_model_name": "DescriptionStyleModel",
            "_view_count": null,
            "_view_module": "@jupyter-widgets/base",
            "_view_module_version": "1.2.0",
            "_view_name": "StyleView",
            "description_width": ""
          }
        },
        "838c4f3b59f44300b58b47e196ca4819": {
          "model_module": "@jupyter-widgets/base",
          "model_name": "LayoutModel",
          "model_module_version": "1.2.0",
          "state": {
            "_model_module": "@jupyter-widgets/base",
            "_model_module_version": "1.2.0",
            "_model_name": "LayoutModel",
            "_view_count": null,
            "_view_module": "@jupyter-widgets/base",
            "_view_module_version": "1.2.0",
            "_view_name": "LayoutView",
            "align_content": null,
            "align_items": null,
            "align_self": null,
            "border": null,
            "bottom": null,
            "display": null,
            "flex": null,
            "flex_flow": null,
            "grid_area": null,
            "grid_auto_columns": null,
            "grid_auto_flow": null,
            "grid_auto_rows": null,
            "grid_column": null,
            "grid_gap": null,
            "grid_row": null,
            "grid_template_areas": null,
            "grid_template_columns": null,
            "grid_template_rows": null,
            "height": null,
            "justify_content": null,
            "justify_items": null,
            "left": null,
            "margin": null,
            "max_height": null,
            "max_width": null,
            "min_height": null,
            "min_width": null,
            "object_fit": null,
            "object_position": null,
            "order": null,
            "overflow": null,
            "overflow_x": null,
            "overflow_y": null,
            "padding": null,
            "right": null,
            "top": null,
            "visibility": null,
            "width": null
          }
        },
        "33120bfa2c424cdbba86a57581609d38": {
          "model_module": "@jupyter-widgets/controls",
          "model_name": "ProgressStyleModel",
          "model_module_version": "1.5.0",
          "state": {
            "_model_module": "@jupyter-widgets/controls",
            "_model_module_version": "1.5.0",
            "_model_name": "ProgressStyleModel",
            "_view_count": null,
            "_view_module": "@jupyter-widgets/base",
            "_view_module_version": "1.2.0",
            "_view_name": "StyleView",
            "bar_color": null,
            "description_width": ""
          }
        },
        "b93ed6f431594dd29f2eb6969bf0765d": {
          "model_module": "@jupyter-widgets/base",
          "model_name": "LayoutModel",
          "model_module_version": "1.2.0",
          "state": {
            "_model_module": "@jupyter-widgets/base",
            "_model_module_version": "1.2.0",
            "_model_name": "LayoutModel",
            "_view_count": null,
            "_view_module": "@jupyter-widgets/base",
            "_view_module_version": "1.2.0",
            "_view_name": "LayoutView",
            "align_content": null,
            "align_items": null,
            "align_self": null,
            "border": null,
            "bottom": null,
            "display": null,
            "flex": null,
            "flex_flow": null,
            "grid_area": null,
            "grid_auto_columns": null,
            "grid_auto_flow": null,
            "grid_auto_rows": null,
            "grid_column": null,
            "grid_gap": null,
            "grid_row": null,
            "grid_template_areas": null,
            "grid_template_columns": null,
            "grid_template_rows": null,
            "height": null,
            "justify_content": null,
            "justify_items": null,
            "left": null,
            "margin": null,
            "max_height": null,
            "max_width": null,
            "min_height": null,
            "min_width": null,
            "object_fit": null,
            "object_position": null,
            "order": null,
            "overflow": null,
            "overflow_x": null,
            "overflow_y": null,
            "padding": null,
            "right": null,
            "top": null,
            "visibility": null,
            "width": null
          }
        },
        "4a8f8d62f4f7432da86af9401f78f9bd": {
          "model_module": "@jupyter-widgets/controls",
          "model_name": "DescriptionStyleModel",
          "model_module_version": "1.5.0",
          "state": {
            "_model_module": "@jupyter-widgets/controls",
            "_model_module_version": "1.5.0",
            "_model_name": "DescriptionStyleModel",
            "_view_count": null,
            "_view_module": "@jupyter-widgets/base",
            "_view_module_version": "1.2.0",
            "_view_name": "StyleView",
            "description_width": ""
          }
        }
      }
    }
  },
  "nbformat": 4,
  "nbformat_minor": 0
}