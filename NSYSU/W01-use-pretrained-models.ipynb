{
  "cells": [
    {
      "cell_type": "markdown",
      "metadata": {
        "id": "view-in-github",
        "colab_type": "text"
      },
      "source": [
        "<a href=\"https://colab.research.google.com/github/howard-haowen/NLP-demos/blob/main/NSYSU/W01-use-pretrained-models.ipynb\" target=\"_parent\"><img src=\"https://colab.research.google.com/assets/colab-badge.svg\" alt=\"Open In Colab\"/></a>"
      ]
    },
    {
      "cell_type": "markdown",
      "source": [
        "This notebook is adapted by [Haowen Jiang](https://howard-haowen.rohan.tw/) from [this one](https://github.com/nlptown/nlp-notebooks/blob/master/NLP%20with%20pretrained%20models%20-%20spaCy%20and%20StanfordNLP.ipynb) included in the [nlptown\n",
        "/nlp-notebooks](https://github.com/nlptown/nlp-notebooks) repo. It is meant for the 2022 [NLP Workshop at NSYSU](https://howard-haowen.rohan.tw/NLP-demos/nsysu_workshop)."
      ],
      "metadata": {
        "id": "3gHdfxlxuvo3"
      }
    },
    {
      "cell_type": "code",
      "source": [
        "from datetime import date\n",
        "\n",
        "today = date.today()\n",
        "print(\"Last updated:\", today)"
      ],
      "metadata": {
        "colab": {
          "base_uri": "https://localhost:8080/"
        },
        "id": "XUnEs1QovufO",
        "outputId": "0e85fc81-e76c-493b-8362-e1095fe4bb5a"
      },
      "execution_count": null,
      "outputs": [
        {
          "output_type": "stream",
          "name": "stdout",
          "text": [
            "Last updated: 2022-04-13\n"
          ]
        }
      ]
    },
    {
      "cell_type": "markdown",
      "metadata": {
        "id": "FGALGAK2wk-0"
      },
      "source": [
        "# NLP with pretrained models - spaCy and StanfordNLP"
      ]
    },
    {
      "cell_type": "code",
      "source": [
        "!pip install -U pip setuptools wheel\n",
        "!pip install -U spacy\n",
        "!python -m spacy download en_core_web_md\n",
        "!python -m spacy download zh_core_web_md"
      ],
      "metadata": {
        "id": "5T0bh4HV62Vo"
      },
      "execution_count": null,
      "outputs": []
    },
    {
      "cell_type": "markdown",
      "source": [
        "![](https://spacy.io/pipeline-fde48da9b43661abcdf62ab70a546d71.svg)"
      ],
      "metadata": {
        "id": "4xxgDzNgA__e"
      }
    },
    {
      "cell_type": "code",
      "execution_count": null,
      "metadata": {
        "id": "AG9Fr9tMwk-5"
      },
      "outputs": [],
      "source": [
        "import spacy\n",
        "from IPython.display import HTML, display\n",
        "import tabulate"
      ]
    },
    {
      "cell_type": "code",
      "source": [
        "spacy.info()"
      ],
      "metadata": {
        "id": "sZ0etPoz2Xuy",
        "outputId": "f079648d-39c6-4ddc-fc6b-d3261dfc7d50",
        "colab": {
          "base_uri": "https://localhost:8080/"
        }
      },
      "execution_count": null,
      "outputs": [
        {
          "output_type": "execute_result",
          "data": {
            "text/plain": [
              "{'location': '/usr/local/lib/python3.7/dist-packages/spacy',\n",
              " 'pipelines': {},\n",
              " 'platform': 'Linux-5.4.144+-x86_64-with-Ubuntu-18.04-bionic',\n",
              " 'python_version': '3.7.13',\n",
              " 'spacy_version': '3.2.4'}"
            ]
          },
          "metadata": {},
          "execution_count": 12
        }
      ]
    },
    {
      "cell_type": "markdown",
      "source": [
        "- To get you started, play with [this Web App](https://share.streamlit.io/howard-haowen/spacy-streamlit/app.py) that I created, which is powered by spaCy."
      ],
      "metadata": {
        "id": "kUXK0igWCdoq"
      }
    },
    {
      "cell_type": "markdown",
      "source": [
        "## English NLP"
      ],
      "metadata": {
        "id": "bDns3sBg2rvZ"
      }
    },
    {
      "cell_type": "code",
      "source": [
        "en = spacy.load(\"en_core_web_md\")"
      ],
      "metadata": {
        "id": "fy_QA0ib7hE1"
      },
      "execution_count": null,
      "outputs": []
    },
    {
      "cell_type": "code",
      "execution_count": null,
      "metadata": {
        "id": "xlVecKvxwk-7",
        "outputId": "2dda5587-3fc0-442c-df01-b91881d2ace7",
        "colab": {
          "base_uri": "https://localhost:8080/"
        }
      },
      "outputs": [
        {
          "output_type": "stream",
          "name": "stdout",
          "text": [
            "Donald John Trump (born June 14, 1946) is the 45th and current president of the United States.  Before entering politics, he was a businessman and television personality.\n"
          ]
        }
      ],
      "source": [
        "text = (\"Donald John Trump (born June 14, 1946) is the 45th and current president of \"\n",
        "        \"the United States.  Before entering politics, he was a businessman and television personality.\")\n",
        "print(text)"
      ]
    },
    {
      "cell_type": "code",
      "execution_count": null,
      "metadata": {
        "id": "3l3k7kszwk-7"
      },
      "outputs": [],
      "source": [
        "doc_en = en(text)"
      ]
    },
    {
      "cell_type": "markdown",
      "metadata": {
        "id": "zSv5WA3twk-8"
      },
      "source": [
        "First spaCy splits your document into sentences, and the sentences in tokens."
      ]
    },
    {
      "cell_type": "markdown",
      "source": [
        "- doc.sents = generator \n",
        "- type(doc.sents)\n"
      ],
      "metadata": {
        "id": "VzyyySXdZnkA"
      }
    },
    {
      "cell_type": "code",
      "execution_count": null,
      "metadata": {
        "id": "1IduCRRqwk-8",
        "outputId": "22ab84a6-129d-4d23-f6a5-4a54b4d9f966",
        "colab": {
          "base_uri": "https://localhost:8080/"
        }
      },
      "outputs": [
        {
          "output_type": "execute_result",
          "data": {
            "text/plain": [
              "[Donald John Trump (born June 14, 1946) is the 45th and current president of the United States.,\n",
              "  Before entering politics, he was a businessman and television personality.]"
            ]
          },
          "metadata": {},
          "execution_count": 16
        }
      ],
      "source": [
        "list(doc_en.sents)"
      ]
    },
    {
      "cell_type": "code",
      "execution_count": null,
      "metadata": {
        "id": "4g_rM0qIwk-8",
        "outputId": "647019b9-a066-4206-9db6-c5cc211a135e",
        "colab": {
          "base_uri": "https://localhost:8080/"
        }
      },
      "outputs": [
        {
          "output_type": "stream",
          "name": "stdout",
          "text": [
            "['Donald', 'John', 'Trump', '(', 'born', 'June', '14', ',', '1946', ')', 'is', 'the', '45th', 'and', 'current', 'president', 'of', 'the', 'United', 'States', '.', ' ', 'Before', 'entering', 'politics', ',', 'he', 'was', 'a', 'businessman', 'and', 'television', 'personality', '.']\n"
          ]
        }
      ],
      "source": [
        "tokens = [token.text for token in doc_en]\n",
        "print(tokens)"
      ]
    },
    {
      "cell_type": "markdown",
      "metadata": {
        "id": "hokEXPh0wk-9"
      },
      "source": [
        "In addition, spaCy also identifies a number of linguistic features for every token. The most basic of these are the lemma, and two types of parts-of-speech tags: the `pos_` attribute contains the [Universal POS tags](https://universaldependencies.org/u/pos/) from the [Universal Dependencies](https://universaldependencies.org/), while the `tag_` attribute contains more fine-grained, language-specific part-of-speech tags."
      ]
    },
    {
      "cell_type": "code",
      "execution_count": null,
      "metadata": {
        "id": "0fQ81Ye9wk-_",
        "outputId": "1ece6a5d-7469-4112-8426-70fb40c75771",
        "colab": {
          "base_uri": "https://localhost:8080/",
          "height": 745
        }
      },
      "outputs": [
        {
          "output_type": "display_data",
          "data": {
            "text/plain": [
              "<IPython.core.display.HTML object>"
            ],
            "text/html": [
              "<table>\n",
              "<tbody>\n",
              "<tr><td>Donald     </td><td>Donald     </td><td>PROPN</td><td>NNP  </td></tr>\n",
              "<tr><td>John       </td><td>John       </td><td>PROPN</td><td>NNP  </td></tr>\n",
              "<tr><td>Trump      </td><td>Trump      </td><td>PROPN</td><td>NNP  </td></tr>\n",
              "<tr><td>(          </td><td>(          </td><td>PUNCT</td><td>-LRB-</td></tr>\n",
              "<tr><td>born       </td><td>bear       </td><td>VERB </td><td>VBN  </td></tr>\n",
              "<tr><td>June       </td><td>June       </td><td>PROPN</td><td>NNP  </td></tr>\n",
              "<tr><td>14         </td><td>14         </td><td>NUM  </td><td>CD   </td></tr>\n",
              "<tr><td>,          </td><td>,          </td><td>PUNCT</td><td>,    </td></tr>\n",
              "<tr><td>1946       </td><td>1946       </td><td>NUM  </td><td>CD   </td></tr>\n",
              "<tr><td>)          </td><td>)          </td><td>PUNCT</td><td>-RRB-</td></tr>\n",
              "<tr><td>is         </td><td>be         </td><td>AUX  </td><td>VBZ  </td></tr>\n",
              "<tr><td>the        </td><td>the        </td><td>DET  </td><td>DT   </td></tr>\n",
              "<tr><td>45th       </td><td>45th       </td><td>ADJ  </td><td>JJ   </td></tr>\n",
              "<tr><td>and        </td><td>and        </td><td>CCONJ</td><td>CC   </td></tr>\n",
              "<tr><td>current    </td><td>current    </td><td>ADJ  </td><td>JJ   </td></tr>\n",
              "<tr><td>president  </td><td>president  </td><td>NOUN </td><td>NN   </td></tr>\n",
              "<tr><td>of         </td><td>of         </td><td>ADP  </td><td>IN   </td></tr>\n",
              "<tr><td>the        </td><td>the        </td><td>DET  </td><td>DT   </td></tr>\n",
              "<tr><td>United     </td><td>United     </td><td>PROPN</td><td>NNP  </td></tr>\n",
              "<tr><td>States     </td><td>States     </td><td>PROPN</td><td>NNP  </td></tr>\n",
              "<tr><td>.          </td><td>.          </td><td>PUNCT</td><td>.    </td></tr>\n",
              "<tr><td>           </td><td>           </td><td>SPACE</td><td>_SP  </td></tr>\n",
              "<tr><td>Before     </td><td>before     </td><td>ADP  </td><td>IN   </td></tr>\n",
              "<tr><td>entering   </td><td>enter      </td><td>VERB </td><td>VBG  </td></tr>\n",
              "<tr><td>politics   </td><td>politic    </td><td>NOUN </td><td>NNS  </td></tr>\n",
              "<tr><td>,          </td><td>,          </td><td>PUNCT</td><td>,    </td></tr>\n",
              "<tr><td>he         </td><td>he         </td><td>PRON </td><td>PRP  </td></tr>\n",
              "<tr><td>was        </td><td>be         </td><td>AUX  </td><td>VBD  </td></tr>\n",
              "<tr><td>a          </td><td>a          </td><td>DET  </td><td>DT   </td></tr>\n",
              "<tr><td>businessman</td><td>businessman</td><td>NOUN </td><td>NN   </td></tr>\n",
              "<tr><td>and        </td><td>and        </td><td>CCONJ</td><td>CC   </td></tr>\n",
              "<tr><td>television </td><td>television </td><td>NOUN </td><td>NN   </td></tr>\n",
              "<tr><td>personality</td><td>personality</td><td>NOUN </td><td>NN   </td></tr>\n",
              "<tr><td>.          </td><td>.          </td><td>PUNCT</td><td>.    </td></tr>\n",
              "</tbody>\n",
              "</table>"
            ]
          },
          "metadata": {}
        }
      ],
      "source": [
        "features = [[t.orth_, t.lemma_, t.pos_, t.tag_] for t in doc_en]\n",
        "display(HTML(tabulate.tabulate(features, tablefmt='html')))"
      ]
    },
    {
      "cell_type": "markdown",
      "metadata": {
        "id": "c1ZjaXBfwk_A"
      },
      "source": [
        "Next, spaCy also offers pre-trained models for named entity recognition. Their results can be found on the `ent_iob_` and `ent_type` attributes. The `ent_type` attribute tells us what type of entity the token refers to. In the English models, these entity types follow the [OntoNotes standard](https://catalog.ldc.upenn.edu/docs/LDC2013T19/OntoNotes-Release-5.0.pdf). In our example, we see that `Donald John Trump` refers to a person, `June 14, 1946` to a date, `45th` to an ordinal number, and `the United States` to a geo-political entity (GPE). \n",
        "\n",
        "The letters on the `ent_iob_` attribute give the position of the token in the entity. `O` means the token is outside of an entity, `B` means the token is at the beginning of an entity, and `I` means it is inside an entity (at any position except for the beginning). In this way, we can tell apart several entities of the same type that immediately follow each other. Together these letters form the so-called `BIO` tagging scheme. There are other tagging schemes, such as `BILUO`, which also has letters for the last position and single (unique) tokens in an entity, but the BIO scheme gives you all the information you need.  "
      ]
    },
    {
      "cell_type": "code",
      "execution_count": null,
      "metadata": {
        "id": "n-es444kwk_A",
        "outputId": "1330788e-e74c-43ad-9c30-a119654cf98b",
        "colab": {
          "base_uri": "https://localhost:8080/",
          "height": 745
        }
      },
      "outputs": [
        {
          "output_type": "display_data",
          "data": {
            "text/plain": [
              "<IPython.core.display.HTML object>"
            ],
            "text/html": [
              "<table>\n",
              "<tbody>\n",
              "<tr><td>Donald     </td><td>B</td><td>PERSON </td></tr>\n",
              "<tr><td>John       </td><td>I</td><td>PERSON </td></tr>\n",
              "<tr><td>Trump      </td><td>I</td><td>PERSON </td></tr>\n",
              "<tr><td>(          </td><td>O</td><td>       </td></tr>\n",
              "<tr><td>born       </td><td>O</td><td>       </td></tr>\n",
              "<tr><td>June       </td><td>B</td><td>DATE   </td></tr>\n",
              "<tr><td>14         </td><td>I</td><td>DATE   </td></tr>\n",
              "<tr><td>,          </td><td>I</td><td>DATE   </td></tr>\n",
              "<tr><td>1946       </td><td>I</td><td>DATE   </td></tr>\n",
              "<tr><td>)          </td><td>O</td><td>       </td></tr>\n",
              "<tr><td>is         </td><td>O</td><td>       </td></tr>\n",
              "<tr><td>the        </td><td>O</td><td>       </td></tr>\n",
              "<tr><td>45th       </td><td>B</td><td>ORDINAL</td></tr>\n",
              "<tr><td>and        </td><td>O</td><td>       </td></tr>\n",
              "<tr><td>current    </td><td>O</td><td>       </td></tr>\n",
              "<tr><td>president  </td><td>O</td><td>       </td></tr>\n",
              "<tr><td>of         </td><td>O</td><td>       </td></tr>\n",
              "<tr><td>the        </td><td>B</td><td>GPE    </td></tr>\n",
              "<tr><td>United     </td><td>I</td><td>GPE    </td></tr>\n",
              "<tr><td>States     </td><td>I</td><td>GPE    </td></tr>\n",
              "<tr><td>.          </td><td>O</td><td>       </td></tr>\n",
              "<tr><td>           </td><td>O</td><td>       </td></tr>\n",
              "<tr><td>Before     </td><td>O</td><td>       </td></tr>\n",
              "<tr><td>entering   </td><td>O</td><td>       </td></tr>\n",
              "<tr><td>politics   </td><td>O</td><td>       </td></tr>\n",
              "<tr><td>,          </td><td>O</td><td>       </td></tr>\n",
              "<tr><td>he         </td><td>O</td><td>       </td></tr>\n",
              "<tr><td>was        </td><td>O</td><td>       </td></tr>\n",
              "<tr><td>a          </td><td>O</td><td>       </td></tr>\n",
              "<tr><td>businessman</td><td>O</td><td>       </td></tr>\n",
              "<tr><td>and        </td><td>O</td><td>       </td></tr>\n",
              "<tr><td>television </td><td>O</td><td>       </td></tr>\n",
              "<tr><td>personality</td><td>O</td><td>       </td></tr>\n",
              "<tr><td>.          </td><td>O</td><td>       </td></tr>\n",
              "</tbody>\n",
              "</table>"
            ]
          },
          "metadata": {}
        }
      ],
      "source": [
        "entities = [(t.orth_, t.ent_iob_, t.ent_type_) for t in doc_en]\n",
        "display(HTML(tabulate.tabulate(entities, tablefmt='html')))"
      ]
    },
    {
      "cell_type": "markdown",
      "metadata": {
        "id": "sAnHlup7wk_B"
      },
      "source": [
        "You can also access the entities directly on the `ents` attribute of the document: "
      ]
    },
    {
      "cell_type": "code",
      "execution_count": null,
      "metadata": {
        "id": "eguxaqnVwk_B",
        "outputId": "9b4d61ca-73f7-4cc5-e636-90c25d288973",
        "colab": {
          "base_uri": "https://localhost:8080/"
        }
      },
      "outputs": [
        {
          "output_type": "stream",
          "name": "stdout",
          "text": [
            "[('Donald John Trump', 'PERSON'), ('June 14, 1946', 'DATE'), ('45th', 'ORDINAL'), ('the United States', 'GPE')]\n"
          ]
        }
      ],
      "source": [
        "print([(ent.text, ent.label_) for ent in doc_en.ents])"
      ]
    },
    {
      "cell_type": "markdown",
      "metadata": {
        "id": "R_lp-ih4wk_B"
      },
      "source": [
        "spaCy also contains a dependency parser, which analyzes the grammatical relations between the tokens. "
      ]
    },
    {
      "cell_type": "code",
      "execution_count": null,
      "metadata": {
        "id": "QZHHNKwTwk_C",
        "outputId": "132e2f50-3b7c-428d-9207-054baf7b83a4",
        "colab": {
          "base_uri": "https://localhost:8080/",
          "height": 745
        }
      },
      "outputs": [
        {
          "output_type": "display_data",
          "data": {
            "text/plain": [
              "<IPython.core.display.HTML object>"
            ],
            "text/html": [
              "<table>\n",
              "<tbody>\n",
              "<tr><td>Donald     </td><td>compound</td><td>Trump      </td></tr>\n",
              "<tr><td>John       </td><td>compound</td><td>Trump      </td></tr>\n",
              "<tr><td>Trump      </td><td>nsubj   </td><td>is         </td></tr>\n",
              "<tr><td>(          </td><td>punct   </td><td>Trump      </td></tr>\n",
              "<tr><td>born       </td><td>acl     </td><td>Trump      </td></tr>\n",
              "<tr><td>June       </td><td>npadvmod</td><td>born       </td></tr>\n",
              "<tr><td>14         </td><td>nummod  </td><td>June       </td></tr>\n",
              "<tr><td>,          </td><td>punct   </td><td>June       </td></tr>\n",
              "<tr><td>1946       </td><td>nummod  </td><td>June       </td></tr>\n",
              "<tr><td>)          </td><td>punct   </td><td>Trump      </td></tr>\n",
              "<tr><td>is         </td><td>ROOT    </td><td>is         </td></tr>\n",
              "<tr><td>the        </td><td>det     </td><td>president  </td></tr>\n",
              "<tr><td>45th       </td><td>amod    </td><td>president  </td></tr>\n",
              "<tr><td>and        </td><td>cc      </td><td>45th       </td></tr>\n",
              "<tr><td>current    </td><td>conj    </td><td>45th       </td></tr>\n",
              "<tr><td>president  </td><td>attr    </td><td>is         </td></tr>\n",
              "<tr><td>of         </td><td>prep    </td><td>president  </td></tr>\n",
              "<tr><td>the        </td><td>det     </td><td>States     </td></tr>\n",
              "<tr><td>United     </td><td>compound</td><td>States     </td></tr>\n",
              "<tr><td>States     </td><td>pobj    </td><td>of         </td></tr>\n",
              "<tr><td>.          </td><td>punct   </td><td>is         </td></tr>\n",
              "<tr><td>           </td><td>dep     </td><td>was        </td></tr>\n",
              "<tr><td>Before     </td><td>prep    </td><td>was        </td></tr>\n",
              "<tr><td>entering   </td><td>pcomp   </td><td>Before     </td></tr>\n",
              "<tr><td>politics   </td><td>dobj    </td><td>entering   </td></tr>\n",
              "<tr><td>,          </td><td>punct   </td><td>was        </td></tr>\n",
              "<tr><td>he         </td><td>nsubj   </td><td>was        </td></tr>\n",
              "<tr><td>was        </td><td>ROOT    </td><td>was        </td></tr>\n",
              "<tr><td>a          </td><td>det     </td><td>personality</td></tr>\n",
              "<tr><td>businessman</td><td>nmod    </td><td>personality</td></tr>\n",
              "<tr><td>and        </td><td>cc      </td><td>businessman</td></tr>\n",
              "<tr><td>television </td><td>conj    </td><td>businessman</td></tr>\n",
              "<tr><td>personality</td><td>attr    </td><td>was        </td></tr>\n",
              "<tr><td>.          </td><td>punct   </td><td>was        </td></tr>\n",
              "</tbody>\n",
              "</table>"
            ]
          },
          "metadata": {}
        }
      ],
      "source": [
        "syntax = [[token.text, token.dep_, token.head.text ] for token in doc_en]\n",
        "display(HTML(tabulate.tabulate(syntax, tablefmt='html')))"
      ]
    },
    {
      "cell_type": "markdown",
      "source": [
        "Finally, the English spaCy model contains a morphological parser."
      ],
      "metadata": {
        "id": "umAUHhTdQU8b"
      }
    },
    {
      "cell_type": "code",
      "source": [
        "features = [[t.text, t.morph] for t in doc_en]\n",
        "display(HTML(tabulate.tabulate(features, tablefmt='html')))"
      ],
      "metadata": {
        "colab": {
          "base_uri": "https://localhost:8080/",
          "height": 728
        },
        "id": "xpFmyJaVQVm2",
        "outputId": "3fe00ca9-06f4-4159-9cd2-7aaf614c26b3"
      },
      "execution_count": null,
      "outputs": [
        {
          "output_type": "display_data",
          "data": {
            "text/plain": [
              "<IPython.core.display.HTML object>"
            ],
            "text/html": [
              "<table>\n",
              "<tbody>\n",
              "<tr><td>Donald     </td><td>Number=Sing                                           </td></tr>\n",
              "<tr><td>John       </td><td>Number=Sing                                           </td></tr>\n",
              "<tr><td>Trump      </td><td>Number=Sing                                           </td></tr>\n",
              "<tr><td>(          </td><td>PunctSide=Ini|PunctType=Brck                          </td></tr>\n",
              "<tr><td>born       </td><td>Aspect=Perf|Tense=Past|VerbForm=Part                  </td></tr>\n",
              "<tr><td>June       </td><td>Number=Sing                                           </td></tr>\n",
              "<tr><td>14         </td><td>NumType=Card                                          </td></tr>\n",
              "<tr><td>,          </td><td>PunctType=Comm                                        </td></tr>\n",
              "<tr><td>1946       </td><td>NumType=Card                                          </td></tr>\n",
              "<tr><td>)          </td><td>PunctSide=Fin|PunctType=Brck                          </td></tr>\n",
              "<tr><td>is         </td><td>Mood=Ind|Number=Sing|Person=3|Tense=Pres|VerbForm=Fin </td></tr>\n",
              "<tr><td>the        </td><td>Definite=Def|PronType=Art                             </td></tr>\n",
              "<tr><td>45th       </td><td>Degree=Pos                                            </td></tr>\n",
              "<tr><td>and        </td><td>ConjType=Cmp                                          </td></tr>\n",
              "<tr><td>current    </td><td>Degree=Pos                                            </td></tr>\n",
              "<tr><td>president  </td><td>Number=Sing                                           </td></tr>\n",
              "<tr><td>of         </td><td>                                                      </td></tr>\n",
              "<tr><td>the        </td><td>Definite=Def|PronType=Art                             </td></tr>\n",
              "<tr><td>United     </td><td>Number=Sing                                           </td></tr>\n",
              "<tr><td>States     </td><td>Number=Sing                                           </td></tr>\n",
              "<tr><td>.          </td><td>PunctType=Peri                                        </td></tr>\n",
              "<tr><td>           </td><td>                                                      </td></tr>\n",
              "<tr><td>Before     </td><td>                                                      </td></tr>\n",
              "<tr><td>entering   </td><td>Aspect=Prog|Tense=Pres|VerbForm=Part                  </td></tr>\n",
              "<tr><td>politics   </td><td>Number=Plur                                           </td></tr>\n",
              "<tr><td>,          </td><td>PunctType=Comm                                        </td></tr>\n",
              "<tr><td>he         </td><td>Case=Nom|Gender=Masc|Number=Sing|Person=3|PronType=Prs</td></tr>\n",
              "<tr><td>was        </td><td>Mood=Ind|Number=Sing|Person=3|Tense=Past|VerbForm=Fin </td></tr>\n",
              "<tr><td>a          </td><td>Definite=Ind|PronType=Art                             </td></tr>\n",
              "<tr><td>businessman</td><td>Number=Sing                                           </td></tr>\n",
              "<tr><td>and        </td><td>ConjType=Cmp                                          </td></tr>\n",
              "<tr><td>television </td><td>Number=Sing                                           </td></tr>\n",
              "<tr><td>personality</td><td>Number=Sing                                           </td></tr>\n",
              "<tr><td>.          </td><td>PunctType=Peri                                        </td></tr>\n",
              "</tbody>\n",
              "</table>"
            ]
          },
          "metadata": {}
        }
      ]
    },
    {
      "cell_type": "markdown",
      "metadata": {
        "id": "vLClbFviwk_C"
      },
      "source": [
        "## Multilingual NLP"
      ]
    },
    {
      "cell_type": "markdown",
      "metadata": {
        "id": "Ckbp79ilwk_C"
      },
      "source": [
        "SpaCy doesn't only have models for English, but also for many other languages."
      ]
    },
    {
      "cell_type": "code",
      "source": [
        "zh = spacy.load(\"zh_core_web_md\")"
      ],
      "metadata": {
        "id": "q5zp8GAz8hxh"
      },
      "execution_count": null,
      "outputs": []
    },
    {
      "cell_type": "code",
      "execution_count": null,
      "metadata": {
        "id": "5HemfWhawk_C"
      },
      "outputs": [],
      "source": [
        "text_zh = \"中山大學人文暨科技跨領域學士學位學程助理教授宋世祥表示，2021年聖誕節假期期間，師生舉辦「街頭玩童～鹽埕兒童街區遊戲日」成果展。活動中可看見學生運用贊助單位瑞儀教育基金會致贈的廢棄木棧板，製作了6具兒童創意遊具，一方面展示學習成果，也希望藉此呼籲高雄民眾重視兒童的遊戲權。\"\n",
        "doc_zh = zh(text_zh)"
      ]
    },
    {
      "cell_type": "markdown",
      "metadata": {
        "id": "xsF4wHjwwk_D"
      },
      "source": [
        "The tokens in the Chinese document have the same attributes as those in the English one. Take care, however, because the functionality of the models can differ across languages. Here are three main differences between the English and the Chinese model: \n",
        "\n",
        "- The Chinese model does not offer lemmatization: the `text` attribute is identical to the `orth_` attribute."
      ]
    },
    {
      "cell_type": "code",
      "source": [
        "list(doc_zh.sents)"
      ],
      "metadata": {
        "colab": {
          "base_uri": "https://localhost:8080/"
        },
        "id": "AogpQPsO8DRR",
        "outputId": "f4a5dde3-ba91-4b41-ccc5-d1dd8548739b"
      },
      "execution_count": null,
      "outputs": [
        {
          "output_type": "execute_result",
          "data": {
            "text/plain": [
              "[中山大學人文暨科技跨領域學士學位學程助理教授宋世祥表示，2021年聖誕節假期期間，師生舉辦「街頭玩童～鹽埕兒童街區遊戲日」成果展。,\n",
              " 活動中可看見學生運用贊助單位瑞儀教育基金會致贈的廢棄木棧板，製作了6具兒童創意遊具，一方面展示學習成果，也希望藉此呼籲高雄民眾重視兒童的遊戲權。]"
            ]
          },
          "metadata": {},
          "execution_count": 25
        }
      ]
    },
    {
      "cell_type": "code",
      "source": [
        "tok_text = [tok.text for tok in doc_zh]\n",
        "tok_orth = [tok.orth_ for tok in doc_zh]\n",
        "print(tok_text)\n",
        "print(tok_orth)"
      ],
      "metadata": {
        "colab": {
          "base_uri": "https://localhost:8080/"
        },
        "id": "Q7uMi5669USU",
        "outputId": "e7119207-2e54-438c-83a0-925b401256a7"
      },
      "execution_count": null,
      "outputs": [
        {
          "output_type": "stream",
          "name": "stdout",
          "text": [
            "['中山', '大學', '人文', '暨', '科技', '跨領域', '學士', '學位', '學程', '助理', '教授', '宋世祥', '表示', '，', '2021年', '聖誕', '節', '假期', '期間', '，', '師生', '舉辦', '「', '街頭', '玩童', '～鹽', '埕兒', '童街', '區遊', '戲日', '」', '成果', '展', '。', '活動', '中', '可', '看見', '學生', '運用', '贊助', '單位', '瑞儀', '教育', '基金會', '致贈', '的', '廢棄木', '棧板', '，', '製作', '了', '6', '具', '兒童', '創意', '遊具', '，', '一方面', '展示', '學習', '成果', '，', '也', '希望', '藉此', '呼籲', '高雄', '民眾', '重視', '兒童', '的', '遊戲權', '。']\n",
            "['中山', '大學', '人文', '暨', '科技', '跨領域', '學士', '學位', '學程', '助理', '教授', '宋世祥', '表示', '，', '2021年', '聖誕', '節', '假期', '期間', '，', '師生', '舉辦', '「', '街頭', '玩童', '～鹽', '埕兒', '童街', '區遊', '戲日', '」', '成果', '展', '。', '活動', '中', '可', '看見', '學生', '運用', '贊助', '單位', '瑞儀', '教育', '基金會', '致贈', '的', '廢棄木', '棧板', '，', '製作', '了', '6', '具', '兒童', '創意', '遊具', '，', '一方面', '展示', '學習', '成果', '，', '也', '希望', '藉此', '呼籲', '高雄', '民眾', '重視', '兒童', '的', '遊戲權', '。']\n"
          ]
        }
      ]
    },
    {
      "cell_type": "markdown",
      "source": [
        "- The Chinese model has a very different fine-grained part-of-speech tags on the `tag_` attribute."
      ],
      "metadata": {
        "id": "fF8SN7SUAX8y"
      }
    },
    {
      "cell_type": "code",
      "source": [
        "for tok in list(doc_zh.sents)[1]:\n",
        "    print(f\"{tok.text} >>> {tok.pos_}\")"
      ],
      "metadata": {
        "colab": {
          "base_uri": "https://localhost:8080/"
        },
        "id": "7zf3TSWY95hc",
        "outputId": "044105bd-5a00-44fd-d2ba-5efa6fe435d2"
      },
      "execution_count": null,
      "outputs": [
        {
          "output_type": "stream",
          "name": "stdout",
          "text": [
            "活動 >>> NOUN\n",
            "中 >>> PART\n",
            "可 >>> VERB\n",
            "看見 >>> VERB\n",
            "學生 >>> NOUN\n",
            "運用 >>> VERB\n",
            "贊助 >>> NOUN\n",
            "單位 >>> NOUN\n",
            "瑞儀 >>> PROPN\n",
            "教育 >>> NOUN\n",
            "基金會 >>> NOUN\n",
            "致贈 >>> NOUN\n",
            "的 >>> PART\n",
            "廢棄木 >>> NOUN\n",
            "棧板 >>> NOUN\n",
            "， >>> PUNCT\n",
            "製作 >>> VERB\n",
            "了 >>> PART\n",
            "6 >>> NUM\n",
            "具 >>> NUM\n",
            "兒童 >>> NOUN\n",
            "創意 >>> ADJ\n",
            "遊具 >>> NOUN\n",
            "， >>> PUNCT\n",
            "一方面 >>> ADV\n",
            "展示 >>> VERB\n",
            "學習 >>> NOUN\n",
            "成果 >>> NOUN\n",
            "， >>> PUNCT\n",
            "也 >>> ADV\n",
            "希望 >>> VERB\n",
            "藉此 >>> ADV\n",
            "呼籲 >>> VERB\n",
            "高雄 >>> PROPN\n",
            "民眾 >>> NOUN\n",
            "重視 >>> VERB\n",
            "兒童 >>> NOUN\n",
            "的 >>> PART\n",
            "遊戲權 >>> PROPN\n",
            "。 >>> PUNCT\n"
          ]
        }
      ]
    },
    {
      "cell_type": "code",
      "source": [
        "for tok in list(doc_zh.sents)[1]:\n",
        "    print(f\"{tok.text} >>> {tok.tag_} | {spacy.explain(tok.tag_)}\")"
      ],
      "metadata": {
        "colab": {
          "base_uri": "https://localhost:8080/"
        },
        "id": "IgpNWCl4AAke",
        "outputId": "96d20198-159f-4572-86ee-6a70a9c7b28a"
      },
      "execution_count": null,
      "outputs": [
        {
          "output_type": "stream",
          "name": "stdout",
          "text": [
            "活動 >>> NN | noun, singular or mass\n",
            "中 >>> LC | localizer\n",
            "可 >>> VV | other verb\n",
            "看見 >>> VV | other verb\n",
            "學生 >>> NN | noun, singular or mass\n",
            "運用 >>> VV | other verb\n",
            "贊助 >>> NN | noun, singular or mass\n",
            "單位 >>> NN | noun, singular or mass\n",
            "瑞儀 >>> NR | proper noun\n",
            "教育 >>> NN | noun, singular or mass\n",
            "基金會 >>> NN | noun, singular or mass\n",
            "致贈 >>> NN | noun, singular or mass\n",
            "的 >>> DEG | associative 的\n",
            "廢棄木 >>> NN | noun, singular or mass\n",
            "棧板 >>> NN | noun, singular or mass\n",
            "， >>> PU | punctuation\n",
            "製作 >>> VV | other verb\n",
            "了 >>> AS | aspect marker\n",
            "6 >>> CD | cardinal number\n",
            "具 >>> M | measure word\n",
            "兒童 >>> NN | noun, singular or mass\n",
            "創意 >>> JJ | adjective (English), other noun-modifier (Chinese)\n",
            "遊具 >>> NN | noun, singular or mass\n",
            "， >>> PU | punctuation\n",
            "一方面 >>> AD | adverb\n",
            "展示 >>> VV | other verb\n",
            "學習 >>> NN | noun, singular or mass\n",
            "成果 >>> NN | noun, singular or mass\n",
            "， >>> PU | punctuation\n",
            "也 >>> AD | adverb\n",
            "希望 >>> VV | other verb\n",
            "藉此 >>> AD | adverb\n",
            "呼籲 >>> VV | other verb\n",
            "高雄 >>> NR | proper noun\n",
            "民眾 >>> NN | noun, singular or mass\n",
            "重視 >>> VV | other verb\n",
            "兒童 >>> NN | noun, singular or mass\n",
            "的 >>> DEC | 的 in a relative clause\n",
            "遊戲權 >>> NR | proper noun\n",
            "。 >>> PU | punctuation\n"
          ]
        }
      ]
    },
    {
      "cell_type": "markdown",
      "source": [
        "- The Chinese model has different entity types (PER, LOC and ORG) than the English one. \n",
        "\n",
        "This is a result of the training corpora that were used to build the models, whose annotation guidelines may be very different."
      ],
      "metadata": {
        "id": "vZmsq_gYAc0T"
      }
    },
    {
      "cell_type": "code",
      "source": [
        "info = [(t.text, t.pos_, t.tag_, t.ent_iob_, t.ent_type_) for t in doc_zh]\n",
        "display(HTML(tabulate.tabulate(info, tablefmt='html')))"
      ],
      "metadata": {
        "colab": {
          "base_uri": "https://localhost:8080/",
          "height": 1000
        },
        "id": "V3hIsara5th9",
        "outputId": "f2156ae4-c454-40e6-ab8a-22cf813e4ea7"
      },
      "execution_count": null,
      "outputs": [
        {
          "output_type": "display_data",
          "data": {
            "text/plain": [
              "<IPython.core.display.HTML object>"
            ],
            "text/html": [
              "<table>\n",
              "<tbody>\n",
              "<tr><td>中山  </td><td>PROPN</td><td>NR </td><td>B</td><td>ORG     </td></tr>\n",
              "<tr><td>大學  </td><td>NOUN </td><td>NN </td><td>I</td><td>ORG     </td></tr>\n",
              "<tr><td>人文  </td><td>NOUN </td><td>NN </td><td>I</td><td>ORG     </td></tr>\n",
              "<tr><td>暨    </td><td>CCONJ</td><td>CC </td><td>I</td><td>ORG     </td></tr>\n",
              "<tr><td>科技  </td><td>NOUN </td><td>NN </td><td>I</td><td>ORG     </td></tr>\n",
              "<tr><td>跨領域</td><td>ADJ  </td><td>JJ </td><td>I</td><td>ORG     </td></tr>\n",
              "<tr><td>學士  </td><td>NOUN </td><td>NN </td><td>O</td><td>        </td></tr>\n",
              "<tr><td>學位  </td><td>NOUN </td><td>NN </td><td>O</td><td>        </td></tr>\n",
              "<tr><td>學程  </td><td>NOUN </td><td>NN </td><td>O</td><td>        </td></tr>\n",
              "<tr><td>助理  </td><td>NOUN </td><td>NN </td><td>O</td><td>        </td></tr>\n",
              "<tr><td>教授  </td><td>NOUN </td><td>NN </td><td>O</td><td>        </td></tr>\n",
              "<tr><td>宋世祥</td><td>PROPN</td><td>NR </td><td>B</td><td>PERSON  </td></tr>\n",
              "<tr><td>表示  </td><td>VERB </td><td>VV </td><td>O</td><td>        </td></tr>\n",
              "<tr><td>，    </td><td>PUNCT</td><td>PU </td><td>O</td><td>        </td></tr>\n",
              "<tr><td>2021年</td><td>NOUN </td><td>NT </td><td>B</td><td>DATE    </td></tr>\n",
              "<tr><td>聖誕  </td><td>NOUN </td><td>NN </td><td>O</td><td>        </td></tr>\n",
              "<tr><td>節    </td><td>DET  </td><td>DT </td><td>O</td><td>        </td></tr>\n",
              "<tr><td>假期  </td><td>NOUN </td><td>NN </td><td>O</td><td>        </td></tr>\n",
              "<tr><td>期間  </td><td>PART </td><td>LC </td><td>O</td><td>        </td></tr>\n",
              "<tr><td>，    </td><td>PUNCT</td><td>PU </td><td>O</td><td>        </td></tr>\n",
              "<tr><td>師生  </td><td>NOUN </td><td>NN </td><td>O</td><td>        </td></tr>\n",
              "<tr><td>舉辦  </td><td>VERB </td><td>VV </td><td>O</td><td>        </td></tr>\n",
              "<tr><td>「    </td><td>PUNCT</td><td>PU </td><td>O</td><td>        </td></tr>\n",
              "<tr><td>街頭  </td><td>NOUN </td><td>NN </td><td>O</td><td>        </td></tr>\n",
              "<tr><td>玩童  </td><td>NOUN </td><td>NN </td><td>O</td><td>        </td></tr>\n",
              "<tr><td>～鹽  </td><td>NOUN </td><td>NN </td><td>O</td><td>        </td></tr>\n",
              "<tr><td>埕兒  </td><td>NOUN </td><td>NN </td><td>O</td><td>        </td></tr>\n",
              "<tr><td>童街  </td><td>PROPN</td><td>NR </td><td>O</td><td>        </td></tr>\n",
              "<tr><td>區遊  </td><td>PROPN</td><td>NR </td><td>O</td><td>        </td></tr>\n",
              "<tr><td>戲日  </td><td>NOUN </td><td>NN </td><td>O</td><td>        </td></tr>\n",
              "<tr><td>」    </td><td>PUNCT</td><td>PU </td><td>O</td><td>        </td></tr>\n",
              "<tr><td>成果  </td><td>NOUN </td><td>NN </td><td>O</td><td>        </td></tr>\n",
              "<tr><td>展    </td><td>NOUN </td><td>NN </td><td>O</td><td>        </td></tr>\n",
              "<tr><td>。    </td><td>PUNCT</td><td>PU </td><td>O</td><td>        </td></tr>\n",
              "<tr><td>活動  </td><td>NOUN </td><td>NN </td><td>O</td><td>        </td></tr>\n",
              "<tr><td>中    </td><td>PART </td><td>LC </td><td>O</td><td>        </td></tr>\n",
              "<tr><td>可    </td><td>VERB </td><td>VV </td><td>O</td><td>        </td></tr>\n",
              "<tr><td>看見  </td><td>VERB </td><td>VV </td><td>O</td><td>        </td></tr>\n",
              "<tr><td>學生  </td><td>NOUN </td><td>NN </td><td>O</td><td>        </td></tr>\n",
              "<tr><td>運用  </td><td>VERB </td><td>VV </td><td>O</td><td>        </td></tr>\n",
              "<tr><td>贊助  </td><td>NOUN </td><td>NN </td><td>O</td><td>        </td></tr>\n",
              "<tr><td>單位  </td><td>NOUN </td><td>NN </td><td>B</td><td>ORG     </td></tr>\n",
              "<tr><td>瑞儀  </td><td>PROPN</td><td>NR </td><td>I</td><td>ORG     </td></tr>\n",
              "<tr><td>教育  </td><td>NOUN </td><td>NN </td><td>I</td><td>ORG     </td></tr>\n",
              "<tr><td>基金會</td><td>NOUN </td><td>NN </td><td>I</td><td>ORG     </td></tr>\n",
              "<tr><td>致贈  </td><td>NOUN </td><td>NN </td><td>O</td><td>        </td></tr>\n",
              "<tr><td>的    </td><td>PART </td><td>DEG</td><td>O</td><td>        </td></tr>\n",
              "<tr><td>廢棄木</td><td>NOUN </td><td>NN </td><td>O</td><td>        </td></tr>\n",
              "<tr><td>棧板  </td><td>NOUN </td><td>NN </td><td>O</td><td>        </td></tr>\n",
              "<tr><td>，    </td><td>PUNCT</td><td>PU </td><td>O</td><td>        </td></tr>\n",
              "<tr><td>製作  </td><td>VERB </td><td>VV </td><td>O</td><td>        </td></tr>\n",
              "<tr><td>了    </td><td>PART </td><td>AS </td><td>O</td><td>        </td></tr>\n",
              "<tr><td>6     </td><td>NUM  </td><td>CD </td><td>B</td><td>CARDINAL</td></tr>\n",
              "<tr><td>具    </td><td>NUM  </td><td>M  </td><td>O</td><td>        </td></tr>\n",
              "<tr><td>兒童  </td><td>NOUN </td><td>NN </td><td>O</td><td>        </td></tr>\n",
              "<tr><td>創意  </td><td>ADJ  </td><td>JJ </td><td>O</td><td>        </td></tr>\n",
              "<tr><td>遊具  </td><td>NOUN </td><td>NN </td><td>O</td><td>        </td></tr>\n",
              "<tr><td>，    </td><td>PUNCT</td><td>PU </td><td>O</td><td>        </td></tr>\n",
              "<tr><td>一方面</td><td>ADV  </td><td>AD </td><td>O</td><td>        </td></tr>\n",
              "<tr><td>展示  </td><td>VERB </td><td>VV </td><td>O</td><td>        </td></tr>\n",
              "<tr><td>學習  </td><td>NOUN </td><td>NN </td><td>O</td><td>        </td></tr>\n",
              "<tr><td>成果  </td><td>NOUN </td><td>NN </td><td>O</td><td>        </td></tr>\n",
              "<tr><td>，    </td><td>PUNCT</td><td>PU </td><td>O</td><td>        </td></tr>\n",
              "<tr><td>也    </td><td>ADV  </td><td>AD </td><td>O</td><td>        </td></tr>\n",
              "<tr><td>希望  </td><td>VERB </td><td>VV </td><td>O</td><td>        </td></tr>\n",
              "<tr><td>藉此  </td><td>ADV  </td><td>AD </td><td>O</td><td>        </td></tr>\n",
              "<tr><td>呼籲  </td><td>VERB </td><td>VV </td><td>O</td><td>        </td></tr>\n",
              "<tr><td>高雄  </td><td>PROPN</td><td>NR </td><td>B</td><td>NORP    </td></tr>\n",
              "<tr><td>民眾  </td><td>NOUN </td><td>NN </td><td>O</td><td>        </td></tr>\n",
              "<tr><td>重視  </td><td>VERB </td><td>VV </td><td>O</td><td>        </td></tr>\n",
              "<tr><td>兒童  </td><td>NOUN </td><td>NN </td><td>O</td><td>        </td></tr>\n",
              "<tr><td>的    </td><td>PART </td><td>DEC</td><td>O</td><td>        </td></tr>\n",
              "<tr><td>遊戲權</td><td>PROPN</td><td>NR </td><td>O</td><td>        </td></tr>\n",
              "<tr><td>。    </td><td>PUNCT</td><td>PU </td><td>O</td><td>        </td></tr>\n",
              "</tbody>\n",
              "</table>"
            ]
          },
          "metadata": {}
        }
      ]
    },
    {
      "cell_type": "markdown",
      "source": [
        "## Visualization"
      ],
      "metadata": {
        "id": "3GyNQ4UjDqTH"
      }
    },
    {
      "cell_type": "code",
      "source": [
        "from spacy import displacy"
      ],
      "metadata": {
        "id": "DoENmU8oBQMt"
      },
      "execution_count": null,
      "outputs": []
    },
    {
      "cell_type": "code",
      "source": [
        "displacy.render(doc_zh, style='ent',jupyter=True, options={'distance':130})"
      ],
      "metadata": {
        "colab": {
          "base_uri": "https://localhost:8080/",
          "height": 157
        },
        "id": "UNGB9n6nDuTE",
        "outputId": "ebebc409-b2e0-4f5c-b3c0-1ccc0c0544ac"
      },
      "execution_count": null,
      "outputs": [
        {
          "output_type": "display_data",
          "data": {
            "text/plain": [
              "<IPython.core.display.HTML object>"
            ],
            "text/html": [
              "<span class=\"tex2jax_ignore\"><div class=\"entities\" style=\"line-height: 2.5; direction: ltr\">\n",
              "<mark class=\"entity\" style=\"background: #7aecec; padding: 0.45em 0.6em; margin: 0 0.25em; line-height: 1; border-radius: 0.35em;\">\n",
              "    中山大學人文暨科技跨領域\n",
              "    <span style=\"font-size: 0.8em; font-weight: bold; line-height: 1; border-radius: 0.35em; vertical-align: middle; margin-left: 0.5rem\">ORG</span>\n",
              "</mark>\n",
              "學士學位學程助理教授\n",
              "<mark class=\"entity\" style=\"background: #aa9cfc; padding: 0.45em 0.6em; margin: 0 0.25em; line-height: 1; border-radius: 0.35em;\">\n",
              "    宋世祥\n",
              "    <span style=\"font-size: 0.8em; font-weight: bold; line-height: 1; border-radius: 0.35em; vertical-align: middle; margin-left: 0.5rem\">PERSON</span>\n",
              "</mark>\n",
              "表示，\n",
              "<mark class=\"entity\" style=\"background: #bfe1d9; padding: 0.45em 0.6em; margin: 0 0.25em; line-height: 1; border-radius: 0.35em;\">\n",
              "    2021年\n",
              "    <span style=\"font-size: 0.8em; font-weight: bold; line-height: 1; border-radius: 0.35em; vertical-align: middle; margin-left: 0.5rem\">DATE</span>\n",
              "</mark>\n",
              "聖誕節假期期間，師生舉辦「街頭玩童～鹽埕兒童街區遊戲日」成果展。活動中可看見學生運用贊助\n",
              "<mark class=\"entity\" style=\"background: #7aecec; padding: 0.45em 0.6em; margin: 0 0.25em; line-height: 1; border-radius: 0.35em;\">\n",
              "    單位瑞儀教育基金會\n",
              "    <span style=\"font-size: 0.8em; font-weight: bold; line-height: 1; border-radius: 0.35em; vertical-align: middle; margin-left: 0.5rem\">ORG</span>\n",
              "</mark>\n",
              "致贈的廢棄木棧板，製作了\n",
              "<mark class=\"entity\" style=\"background: #e4e7d2; padding: 0.45em 0.6em; margin: 0 0.25em; line-height: 1; border-radius: 0.35em;\">\n",
              "    6\n",
              "    <span style=\"font-size: 0.8em; font-weight: bold; line-height: 1; border-radius: 0.35em; vertical-align: middle; margin-left: 0.5rem\">CARDINAL</span>\n",
              "</mark>\n",
              "具兒童創意遊具，一方面展示學習成果，也希望藉此呼籲\n",
              "<mark class=\"entity\" style=\"background: #c887fb; padding: 0.45em 0.6em; margin: 0 0.25em; line-height: 1; border-radius: 0.35em;\">\n",
              "    高雄\n",
              "    <span style=\"font-size: 0.8em; font-weight: bold; line-height: 1; border-radius: 0.35em; vertical-align: middle; margin-left: 0.5rem\">NORP</span>\n",
              "</mark>\n",
              "民眾重視兒童的遊戲權。</div></span>"
            ]
          },
          "metadata": {}
        }
      ]
    },
    {
      "cell_type": "code",
      "source": [
        "text = \"我想要三份2號餐\"\n",
        "doc = zh(text)\n",
        "displacy.render(doc, style='dep',jupyter=True, options={'distance':130})"
      ],
      "metadata": {
        "colab": {
          "base_uri": "https://localhost:8080/",
          "height": 373
        },
        "id": "8bZWBpW8BR73",
        "outputId": "20a46d60-b974-45b0-bdb4-3d2f647903c0"
      },
      "execution_count": null,
      "outputs": [
        {
          "output_type": "display_data",
          "data": {
            "text/plain": [
              "<IPython.core.display.HTML object>"
            ],
            "text/html": [
              "<span class=\"tex2jax_ignore\"><svg xmlns=\"http://www.w3.org/2000/svg\" xmlns:xlink=\"http://www.w3.org/1999/xlink\" xml:lang=\"zh\" id=\"50543645b66d4814821c64a908d1c71d-0\" class=\"displacy\" width=\"830\" height=\"332.0\" direction=\"ltr\" style=\"max-width: none; height: 332.0px; color: #000000; background: #ffffff; font-family: Arial; direction: ltr\">\n",
              "<text class=\"displacy-token\" fill=\"currentColor\" text-anchor=\"middle\" y=\"242.0\">\n",
              "    <tspan class=\"displacy-word\" fill=\"currentColor\" x=\"50\">我</tspan>\n",
              "    <tspan class=\"displacy-tag\" dy=\"2em\" fill=\"currentColor\" x=\"50\">PRON</tspan>\n",
              "</text>\n",
              "\n",
              "<text class=\"displacy-token\" fill=\"currentColor\" text-anchor=\"middle\" y=\"242.0\">\n",
              "    <tspan class=\"displacy-word\" fill=\"currentColor\" x=\"180\">想要</tspan>\n",
              "    <tspan class=\"displacy-tag\" dy=\"2em\" fill=\"currentColor\" x=\"180\">VERB</tspan>\n",
              "</text>\n",
              "\n",
              "<text class=\"displacy-token\" fill=\"currentColor\" text-anchor=\"middle\" y=\"242.0\">\n",
              "    <tspan class=\"displacy-word\" fill=\"currentColor\" x=\"310\">三份</tspan>\n",
              "    <tspan class=\"displacy-tag\" dy=\"2em\" fill=\"currentColor\" x=\"310\">PROPN</tspan>\n",
              "</text>\n",
              "\n",
              "<text class=\"displacy-token\" fill=\"currentColor\" text-anchor=\"middle\" y=\"242.0\">\n",
              "    <tspan class=\"displacy-word\" fill=\"currentColor\" x=\"440\">2</tspan>\n",
              "    <tspan class=\"displacy-tag\" dy=\"2em\" fill=\"currentColor\" x=\"440\">NUM</tspan>\n",
              "</text>\n",
              "\n",
              "<text class=\"displacy-token\" fill=\"currentColor\" text-anchor=\"middle\" y=\"242.0\">\n",
              "    <tspan class=\"displacy-word\" fill=\"currentColor\" x=\"570\">號</tspan>\n",
              "    <tspan class=\"displacy-tag\" dy=\"2em\" fill=\"currentColor\" x=\"570\">NUM</tspan>\n",
              "</text>\n",
              "\n",
              "<text class=\"displacy-token\" fill=\"currentColor\" text-anchor=\"middle\" y=\"242.0\">\n",
              "    <tspan class=\"displacy-word\" fill=\"currentColor\" x=\"700\">餐</tspan>\n",
              "    <tspan class=\"displacy-tag\" dy=\"2em\" fill=\"currentColor\" x=\"700\">NOUN</tspan>\n",
              "</text>\n",
              "\n",
              "<g class=\"displacy-arrow\">\n",
              "    <path class=\"displacy-arc\" id=\"arrow-50543645b66d4814821c64a908d1c71d-0-0\" stroke-width=\"2px\" d=\"M70,197.0 C70,132.0 170.0,132.0 170.0,197.0\" fill=\"none\" stroke=\"currentColor\"/>\n",
              "    <text dy=\"1.25em\" style=\"font-size: 0.8em; letter-spacing: 1px\">\n",
              "        <textPath xlink:href=\"#arrow-50543645b66d4814821c64a908d1c71d-0-0\" class=\"displacy-label\" startOffset=\"50%\" side=\"left\" fill=\"currentColor\" text-anchor=\"middle\">nsubj</textPath>\n",
              "    </text>\n",
              "    <path class=\"displacy-arrowhead\" d=\"M70,199.0 L62,187.0 78,187.0\" fill=\"currentColor\"/>\n",
              "</g>\n",
              "\n",
              "<g class=\"displacy-arrow\">\n",
              "    <path class=\"displacy-arc\" id=\"arrow-50543645b66d4814821c64a908d1c71d-0-1\" stroke-width=\"2px\" d=\"M330,197.0 C330,67.0 565.0,67.0 565.0,197.0\" fill=\"none\" stroke=\"currentColor\"/>\n",
              "    <text dy=\"1.25em\" style=\"font-size: 0.8em; letter-spacing: 1px\">\n",
              "        <textPath xlink:href=\"#arrow-50543645b66d4814821c64a908d1c71d-0-1\" class=\"displacy-label\" startOffset=\"50%\" side=\"left\" fill=\"currentColor\" text-anchor=\"middle\">compound:nn</textPath>\n",
              "    </text>\n",
              "    <path class=\"displacy-arrowhead\" d=\"M330,199.0 L322,187.0 338,187.0\" fill=\"currentColor\"/>\n",
              "</g>\n",
              "\n",
              "<g class=\"displacy-arrow\">\n",
              "    <path class=\"displacy-arc\" id=\"arrow-50543645b66d4814821c64a908d1c71d-0-2\" stroke-width=\"2px\" d=\"M460,197.0 C460,132.0 560.0,132.0 560.0,197.0\" fill=\"none\" stroke=\"currentColor\"/>\n",
              "    <text dy=\"1.25em\" style=\"font-size: 0.8em; letter-spacing: 1px\">\n",
              "        <textPath xlink:href=\"#arrow-50543645b66d4814821c64a908d1c71d-0-2\" class=\"displacy-label\" startOffset=\"50%\" side=\"left\" fill=\"currentColor\" text-anchor=\"middle\">dep</textPath>\n",
              "    </text>\n",
              "    <path class=\"displacy-arrowhead\" d=\"M460,199.0 L452,187.0 468,187.0\" fill=\"currentColor\"/>\n",
              "</g>\n",
              "\n",
              "<g class=\"displacy-arrow\">\n",
              "    <path class=\"displacy-arc\" id=\"arrow-50543645b66d4814821c64a908d1c71d-0-3\" stroke-width=\"2px\" d=\"M590,197.0 C590,132.0 690.0,132.0 690.0,197.0\" fill=\"none\" stroke=\"currentColor\"/>\n",
              "    <text dy=\"1.25em\" style=\"font-size: 0.8em; letter-spacing: 1px\">\n",
              "        <textPath xlink:href=\"#arrow-50543645b66d4814821c64a908d1c71d-0-3\" class=\"displacy-label\" startOffset=\"50%\" side=\"left\" fill=\"currentColor\" text-anchor=\"middle\">compound:nn</textPath>\n",
              "    </text>\n",
              "    <path class=\"displacy-arrowhead\" d=\"M590,199.0 L582,187.0 598,187.0\" fill=\"currentColor\"/>\n",
              "</g>\n",
              "\n",
              "<g class=\"displacy-arrow\">\n",
              "    <path class=\"displacy-arc\" id=\"arrow-50543645b66d4814821c64a908d1c71d-0-4\" stroke-width=\"2px\" d=\"M200,197.0 C200,2.0 700.0,2.0 700.0,197.0\" fill=\"none\" stroke=\"currentColor\"/>\n",
              "    <text dy=\"1.25em\" style=\"font-size: 0.8em; letter-spacing: 1px\">\n",
              "        <textPath xlink:href=\"#arrow-50543645b66d4814821c64a908d1c71d-0-4\" class=\"displacy-label\" startOffset=\"50%\" side=\"left\" fill=\"currentColor\" text-anchor=\"middle\">dobj</textPath>\n",
              "    </text>\n",
              "    <path class=\"displacy-arrowhead\" d=\"M700.0,199.0 L708.0,187.0 692.0,187.0\" fill=\"currentColor\"/>\n",
              "</g>\n",
              "</svg></span>"
            ]
          },
          "metadata": {}
        }
      ]
    },
    {
      "cell_type": "markdown",
      "source": [
        "## DataFrame + spaCy = dframcy"
      ],
      "metadata": {
        "id": "6-A6lmiG_1Yd"
      }
    },
    {
      "cell_type": "code",
      "source": [
        "!pip install dframcy"
      ],
      "metadata": {
        "id": "xQBGx3gB-sQK"
      },
      "execution_count": null,
      "outputs": []
    },
    {
      "cell_type": "code",
      "source": [
        "from dframcy import DframCy"
      ],
      "metadata": {
        "id": "u0sexga0-yWU"
      },
      "execution_count": null,
      "outputs": []
    },
    {
      "cell_type": "code",
      "source": [
        "nlp = spacy.load('zh_core_web_md')\n",
        "dframcy = DframCy(nlp)\n",
        "doc = dframcy.nlp(text_zh)\n",
        "annotation_dataframe = dframcy.to_dataframe(doc)\n",
        "annotation_dataframe"
      ],
      "metadata": {
        "colab": {
          "base_uri": "https://localhost:8080/",
          "height": 487
        },
        "id": "UDO97xhS-pnj",
        "outputId": "e93d00ef-56c4-4d73-f4fa-a1a0d69171a7"
      },
      "execution_count": null,
      "outputs": [
        {
          "output_type": "execute_result",
          "data": {
            "text/plain": [
              "   token_text  token_start  token_end token_pos_ token_tag_   token_dep_  \\\n",
              "0          中山            0          2      PROPN         NR  compound:nn   \n",
              "1          大學            2          4       NOUN         NN  nmod:assmod   \n",
              "2          人文            4          6       NOUN         NN         conj   \n",
              "3           暨            6          7      CCONJ         CC           cc   \n",
              "4          科技            7          9       NOUN         NN  compound:nn   \n",
              "..        ...          ...        ...        ...        ...          ...   \n",
              "69         重視          128        130       VERB         VV        ccomp   \n",
              "70         兒童          130        132       NOUN         NN         dobj   \n",
              "71          的          132        133       PART        DEC         mark   \n",
              "72        遊戲權          133        136      PROPN         NR         dobj   \n",
              "73          。          136        137      PUNCT         PU        punct   \n",
              "\n",
              "   token_head token_ent_type_  \n",
              "0          大學             ORG  \n",
              "1          科技             ORG  \n",
              "2          科技             ORG  \n",
              "3          科技             ORG  \n",
              "4         跨領域             ORG  \n",
              "..        ...             ...  \n",
              "69         呼籲                  \n",
              "70         重視                  \n",
              "71         重視                  \n",
              "72         呼籲                  \n",
              "73         看見                  \n",
              "\n",
              "[74 rows x 8 columns]"
            ],
            "text/html": [
              "\n",
              "  <div id=\"df-e9aca9b8-20db-4220-876a-7163556e4f6a\">\n",
              "    <div class=\"colab-df-container\">\n",
              "      <div>\n",
              "<style scoped>\n",
              "    .dataframe tbody tr th:only-of-type {\n",
              "        vertical-align: middle;\n",
              "    }\n",
              "\n",
              "    .dataframe tbody tr th {\n",
              "        vertical-align: top;\n",
              "    }\n",
              "\n",
              "    .dataframe thead th {\n",
              "        text-align: right;\n",
              "    }\n",
              "</style>\n",
              "<table border=\"1\" class=\"dataframe\">\n",
              "  <thead>\n",
              "    <tr style=\"text-align: right;\">\n",
              "      <th></th>\n",
              "      <th>token_text</th>\n",
              "      <th>token_start</th>\n",
              "      <th>token_end</th>\n",
              "      <th>token_pos_</th>\n",
              "      <th>token_tag_</th>\n",
              "      <th>token_dep_</th>\n",
              "      <th>token_head</th>\n",
              "      <th>token_ent_type_</th>\n",
              "    </tr>\n",
              "  </thead>\n",
              "  <tbody>\n",
              "    <tr>\n",
              "      <th>0</th>\n",
              "      <td>中山</td>\n",
              "      <td>0</td>\n",
              "      <td>2</td>\n",
              "      <td>PROPN</td>\n",
              "      <td>NR</td>\n",
              "      <td>compound:nn</td>\n",
              "      <td>大學</td>\n",
              "      <td>ORG</td>\n",
              "    </tr>\n",
              "    <tr>\n",
              "      <th>1</th>\n",
              "      <td>大學</td>\n",
              "      <td>2</td>\n",
              "      <td>4</td>\n",
              "      <td>NOUN</td>\n",
              "      <td>NN</td>\n",
              "      <td>nmod:assmod</td>\n",
              "      <td>科技</td>\n",
              "      <td>ORG</td>\n",
              "    </tr>\n",
              "    <tr>\n",
              "      <th>2</th>\n",
              "      <td>人文</td>\n",
              "      <td>4</td>\n",
              "      <td>6</td>\n",
              "      <td>NOUN</td>\n",
              "      <td>NN</td>\n",
              "      <td>conj</td>\n",
              "      <td>科技</td>\n",
              "      <td>ORG</td>\n",
              "    </tr>\n",
              "    <tr>\n",
              "      <th>3</th>\n",
              "      <td>暨</td>\n",
              "      <td>6</td>\n",
              "      <td>7</td>\n",
              "      <td>CCONJ</td>\n",
              "      <td>CC</td>\n",
              "      <td>cc</td>\n",
              "      <td>科技</td>\n",
              "      <td>ORG</td>\n",
              "    </tr>\n",
              "    <tr>\n",
              "      <th>4</th>\n",
              "      <td>科技</td>\n",
              "      <td>7</td>\n",
              "      <td>9</td>\n",
              "      <td>NOUN</td>\n",
              "      <td>NN</td>\n",
              "      <td>compound:nn</td>\n",
              "      <td>跨領域</td>\n",
              "      <td>ORG</td>\n",
              "    </tr>\n",
              "    <tr>\n",
              "      <th>...</th>\n",
              "      <td>...</td>\n",
              "      <td>...</td>\n",
              "      <td>...</td>\n",
              "      <td>...</td>\n",
              "      <td>...</td>\n",
              "      <td>...</td>\n",
              "      <td>...</td>\n",
              "      <td>...</td>\n",
              "    </tr>\n",
              "    <tr>\n",
              "      <th>69</th>\n",
              "      <td>重視</td>\n",
              "      <td>128</td>\n",
              "      <td>130</td>\n",
              "      <td>VERB</td>\n",
              "      <td>VV</td>\n",
              "      <td>ccomp</td>\n",
              "      <td>呼籲</td>\n",
              "      <td></td>\n",
              "    </tr>\n",
              "    <tr>\n",
              "      <th>70</th>\n",
              "      <td>兒童</td>\n",
              "      <td>130</td>\n",
              "      <td>132</td>\n",
              "      <td>NOUN</td>\n",
              "      <td>NN</td>\n",
              "      <td>dobj</td>\n",
              "      <td>重視</td>\n",
              "      <td></td>\n",
              "    </tr>\n",
              "    <tr>\n",
              "      <th>71</th>\n",
              "      <td>的</td>\n",
              "      <td>132</td>\n",
              "      <td>133</td>\n",
              "      <td>PART</td>\n",
              "      <td>DEC</td>\n",
              "      <td>mark</td>\n",
              "      <td>重視</td>\n",
              "      <td></td>\n",
              "    </tr>\n",
              "    <tr>\n",
              "      <th>72</th>\n",
              "      <td>遊戲權</td>\n",
              "      <td>133</td>\n",
              "      <td>136</td>\n",
              "      <td>PROPN</td>\n",
              "      <td>NR</td>\n",
              "      <td>dobj</td>\n",
              "      <td>呼籲</td>\n",
              "      <td></td>\n",
              "    </tr>\n",
              "    <tr>\n",
              "      <th>73</th>\n",
              "      <td>。</td>\n",
              "      <td>136</td>\n",
              "      <td>137</td>\n",
              "      <td>PUNCT</td>\n",
              "      <td>PU</td>\n",
              "      <td>punct</td>\n",
              "      <td>看見</td>\n",
              "      <td></td>\n",
              "    </tr>\n",
              "  </tbody>\n",
              "</table>\n",
              "<p>74 rows × 8 columns</p>\n",
              "</div>\n",
              "      <button class=\"colab-df-convert\" onclick=\"convertToInteractive('df-e9aca9b8-20db-4220-876a-7163556e4f6a')\"\n",
              "              title=\"Convert this dataframe to an interactive table.\"\n",
              "              style=\"display:none;\">\n",
              "        \n",
              "  <svg xmlns=\"http://www.w3.org/2000/svg\" height=\"24px\"viewBox=\"0 0 24 24\"\n",
              "       width=\"24px\">\n",
              "    <path d=\"M0 0h24v24H0V0z\" fill=\"none\"/>\n",
              "    <path d=\"M18.56 5.44l.94 2.06.94-2.06 2.06-.94-2.06-.94-.94-2.06-.94 2.06-2.06.94zm-11 1L8.5 8.5l.94-2.06 2.06-.94-2.06-.94L8.5 2.5l-.94 2.06-2.06.94zm10 10l.94 2.06.94-2.06 2.06-.94-2.06-.94-.94-2.06-.94 2.06-2.06.94z\"/><path d=\"M17.41 7.96l-1.37-1.37c-.4-.4-.92-.59-1.43-.59-.52 0-1.04.2-1.43.59L10.3 9.45l-7.72 7.72c-.78.78-.78 2.05 0 2.83L4 21.41c.39.39.9.59 1.41.59.51 0 1.02-.2 1.41-.59l7.78-7.78 2.81-2.81c.8-.78.8-2.07 0-2.86zM5.41 20L4 18.59l7.72-7.72 1.47 1.35L5.41 20z\"/>\n",
              "  </svg>\n",
              "      </button>\n",
              "      \n",
              "  <style>\n",
              "    .colab-df-container {\n",
              "      display:flex;\n",
              "      flex-wrap:wrap;\n",
              "      gap: 12px;\n",
              "    }\n",
              "\n",
              "    .colab-df-convert {\n",
              "      background-color: #E8F0FE;\n",
              "      border: none;\n",
              "      border-radius: 50%;\n",
              "      cursor: pointer;\n",
              "      display: none;\n",
              "      fill: #1967D2;\n",
              "      height: 32px;\n",
              "      padding: 0 0 0 0;\n",
              "      width: 32px;\n",
              "    }\n",
              "\n",
              "    .colab-df-convert:hover {\n",
              "      background-color: #E2EBFA;\n",
              "      box-shadow: 0px 1px 2px rgba(60, 64, 67, 0.3), 0px 1px 3px 1px rgba(60, 64, 67, 0.15);\n",
              "      fill: #174EA6;\n",
              "    }\n",
              "\n",
              "    [theme=dark] .colab-df-convert {\n",
              "      background-color: #3B4455;\n",
              "      fill: #D2E3FC;\n",
              "    }\n",
              "\n",
              "    [theme=dark] .colab-df-convert:hover {\n",
              "      background-color: #434B5C;\n",
              "      box-shadow: 0px 1px 3px 1px rgba(0, 0, 0, 0.15);\n",
              "      filter: drop-shadow(0px 1px 2px rgba(0, 0, 0, 0.3));\n",
              "      fill: #FFFFFF;\n",
              "    }\n",
              "  </style>\n",
              "\n",
              "      <script>\n",
              "        const buttonEl =\n",
              "          document.querySelector('#df-e9aca9b8-20db-4220-876a-7163556e4f6a button.colab-df-convert');\n",
              "        buttonEl.style.display =\n",
              "          google.colab.kernel.accessAllowed ? 'block' : 'none';\n",
              "\n",
              "        async function convertToInteractive(key) {\n",
              "          const element = document.querySelector('#df-e9aca9b8-20db-4220-876a-7163556e4f6a');\n",
              "          const dataTable =\n",
              "            await google.colab.kernel.invokeFunction('convertToInteractive',\n",
              "                                                     [key], {});\n",
              "          if (!dataTable) return;\n",
              "\n",
              "          const docLinkHtml = 'Like what you see? Visit the ' +\n",
              "            '<a target=\"_blank\" href=https://colab.research.google.com/notebooks/data_table.ipynb>data table notebook</a>'\n",
              "            + ' to learn more about interactive tables.';\n",
              "          element.innerHTML = '';\n",
              "          dataTable['output_type'] = 'display_data';\n",
              "          await google.colab.output.renderOutput(dataTable, element);\n",
              "          const docLink = document.createElement('div');\n",
              "          docLink.innerHTML = docLinkHtml;\n",
              "          element.appendChild(docLink);\n",
              "        }\n",
              "      </script>\n",
              "    </div>\n",
              "  </div>\n",
              "  "
            ]
          },
          "metadata": {},
          "execution_count": 35
        }
      ]
    },
    {
      "cell_type": "markdown",
      "source": [
        "Once annotations are stored as a DataFrame object, filtering can be easily done by leveraging the power of `pandas` syntax. "
      ],
      "metadata": {
        "id": "S7u0msqWA2Km"
      }
    },
    {
      "cell_type": "code",
      "source": [
        "nn_filt = annotation_dataframe['token_tag_'] == 'NN'\n",
        "dobj_filt = annotation_dataframe['token_dep_'] == 'dobj'\n",
        "annotation_dataframe[(nn_filt) & dobj_filt]"
      ],
      "metadata": {
        "colab": {
          "base_uri": "https://localhost:8080/",
          "height": 301
        },
        "id": "YK2eJJojEf_I",
        "outputId": "7886093c-2337-42fa-efa8-b10f4336615f"
      },
      "execution_count": null,
      "outputs": [
        {
          "output_type": "execute_result",
          "data": {
            "text/plain": [
              "   token_text  token_start  token_end token_pos_ token_tag_ token_dep_  \\\n",
              "29         戲日           58         60       NOUN         NN       dobj   \n",
              "32          展           63         64       NOUN         NN       dobj   \n",
              "48         棧板           92         94       NOUN         NN       dobj   \n",
              "56         遊具          104        106       NOUN         NN       dobj   \n",
              "61         成果          114        116       NOUN         NN       dobj   \n",
              "70         兒童          130        132       NOUN         NN       dobj   \n",
              "\n",
              "   token_head token_ent_type_  \n",
              "29         舉辦                  \n",
              "32         舉辦                  \n",
              "48         運用                  \n",
              "56         製作                  \n",
              "61         展示                  \n",
              "70         重視                  "
            ],
            "text/html": [
              "\n",
              "  <div id=\"df-ed6ce89d-1d1c-4af5-9c3d-22f0c69643a8\">\n",
              "    <div class=\"colab-df-container\">\n",
              "      <div>\n",
              "<style scoped>\n",
              "    .dataframe tbody tr th:only-of-type {\n",
              "        vertical-align: middle;\n",
              "    }\n",
              "\n",
              "    .dataframe tbody tr th {\n",
              "        vertical-align: top;\n",
              "    }\n",
              "\n",
              "    .dataframe thead th {\n",
              "        text-align: right;\n",
              "    }\n",
              "</style>\n",
              "<table border=\"1\" class=\"dataframe\">\n",
              "  <thead>\n",
              "    <tr style=\"text-align: right;\">\n",
              "      <th></th>\n",
              "      <th>token_text</th>\n",
              "      <th>token_start</th>\n",
              "      <th>token_end</th>\n",
              "      <th>token_pos_</th>\n",
              "      <th>token_tag_</th>\n",
              "      <th>token_dep_</th>\n",
              "      <th>token_head</th>\n",
              "      <th>token_ent_type_</th>\n",
              "    </tr>\n",
              "  </thead>\n",
              "  <tbody>\n",
              "    <tr>\n",
              "      <th>29</th>\n",
              "      <td>戲日</td>\n",
              "      <td>58</td>\n",
              "      <td>60</td>\n",
              "      <td>NOUN</td>\n",
              "      <td>NN</td>\n",
              "      <td>dobj</td>\n",
              "      <td>舉辦</td>\n",
              "      <td></td>\n",
              "    </tr>\n",
              "    <tr>\n",
              "      <th>32</th>\n",
              "      <td>展</td>\n",
              "      <td>63</td>\n",
              "      <td>64</td>\n",
              "      <td>NOUN</td>\n",
              "      <td>NN</td>\n",
              "      <td>dobj</td>\n",
              "      <td>舉辦</td>\n",
              "      <td></td>\n",
              "    </tr>\n",
              "    <tr>\n",
              "      <th>48</th>\n",
              "      <td>棧板</td>\n",
              "      <td>92</td>\n",
              "      <td>94</td>\n",
              "      <td>NOUN</td>\n",
              "      <td>NN</td>\n",
              "      <td>dobj</td>\n",
              "      <td>運用</td>\n",
              "      <td></td>\n",
              "    </tr>\n",
              "    <tr>\n",
              "      <th>56</th>\n",
              "      <td>遊具</td>\n",
              "      <td>104</td>\n",
              "      <td>106</td>\n",
              "      <td>NOUN</td>\n",
              "      <td>NN</td>\n",
              "      <td>dobj</td>\n",
              "      <td>製作</td>\n",
              "      <td></td>\n",
              "    </tr>\n",
              "    <tr>\n",
              "      <th>61</th>\n",
              "      <td>成果</td>\n",
              "      <td>114</td>\n",
              "      <td>116</td>\n",
              "      <td>NOUN</td>\n",
              "      <td>NN</td>\n",
              "      <td>dobj</td>\n",
              "      <td>展示</td>\n",
              "      <td></td>\n",
              "    </tr>\n",
              "    <tr>\n",
              "      <th>70</th>\n",
              "      <td>兒童</td>\n",
              "      <td>130</td>\n",
              "      <td>132</td>\n",
              "      <td>NOUN</td>\n",
              "      <td>NN</td>\n",
              "      <td>dobj</td>\n",
              "      <td>重視</td>\n",
              "      <td></td>\n",
              "    </tr>\n",
              "  </tbody>\n",
              "</table>\n",
              "</div>\n",
              "      <button class=\"colab-df-convert\" onclick=\"convertToInteractive('df-ed6ce89d-1d1c-4af5-9c3d-22f0c69643a8')\"\n",
              "              title=\"Convert this dataframe to an interactive table.\"\n",
              "              style=\"display:none;\">\n",
              "        \n",
              "  <svg xmlns=\"http://www.w3.org/2000/svg\" height=\"24px\"viewBox=\"0 0 24 24\"\n",
              "       width=\"24px\">\n",
              "    <path d=\"M0 0h24v24H0V0z\" fill=\"none\"/>\n",
              "    <path d=\"M18.56 5.44l.94 2.06.94-2.06 2.06-.94-2.06-.94-.94-2.06-.94 2.06-2.06.94zm-11 1L8.5 8.5l.94-2.06 2.06-.94-2.06-.94L8.5 2.5l-.94 2.06-2.06.94zm10 10l.94 2.06.94-2.06 2.06-.94-2.06-.94-.94-2.06-.94 2.06-2.06.94z\"/><path d=\"M17.41 7.96l-1.37-1.37c-.4-.4-.92-.59-1.43-.59-.52 0-1.04.2-1.43.59L10.3 9.45l-7.72 7.72c-.78.78-.78 2.05 0 2.83L4 21.41c.39.39.9.59 1.41.59.51 0 1.02-.2 1.41-.59l7.78-7.78 2.81-2.81c.8-.78.8-2.07 0-2.86zM5.41 20L4 18.59l7.72-7.72 1.47 1.35L5.41 20z\"/>\n",
              "  </svg>\n",
              "      </button>\n",
              "      \n",
              "  <style>\n",
              "    .colab-df-container {\n",
              "      display:flex;\n",
              "      flex-wrap:wrap;\n",
              "      gap: 12px;\n",
              "    }\n",
              "\n",
              "    .colab-df-convert {\n",
              "      background-color: #E8F0FE;\n",
              "      border: none;\n",
              "      border-radius: 50%;\n",
              "      cursor: pointer;\n",
              "      display: none;\n",
              "      fill: #1967D2;\n",
              "      height: 32px;\n",
              "      padding: 0 0 0 0;\n",
              "      width: 32px;\n",
              "    }\n",
              "\n",
              "    .colab-df-convert:hover {\n",
              "      background-color: #E2EBFA;\n",
              "      box-shadow: 0px 1px 2px rgba(60, 64, 67, 0.3), 0px 1px 3px 1px rgba(60, 64, 67, 0.15);\n",
              "      fill: #174EA6;\n",
              "    }\n",
              "\n",
              "    [theme=dark] .colab-df-convert {\n",
              "      background-color: #3B4455;\n",
              "      fill: #D2E3FC;\n",
              "    }\n",
              "\n",
              "    [theme=dark] .colab-df-convert:hover {\n",
              "      background-color: #434B5C;\n",
              "      box-shadow: 0px 1px 3px 1px rgba(0, 0, 0, 0.15);\n",
              "      filter: drop-shadow(0px 1px 2px rgba(0, 0, 0, 0.3));\n",
              "      fill: #FFFFFF;\n",
              "    }\n",
              "  </style>\n",
              "\n",
              "      <script>\n",
              "        const buttonEl =\n",
              "          document.querySelector('#df-ed6ce89d-1d1c-4af5-9c3d-22f0c69643a8 button.colab-df-convert');\n",
              "        buttonEl.style.display =\n",
              "          google.colab.kernel.accessAllowed ? 'block' : 'none';\n",
              "\n",
              "        async function convertToInteractive(key) {\n",
              "          const element = document.querySelector('#df-ed6ce89d-1d1c-4af5-9c3d-22f0c69643a8');\n",
              "          const dataTable =\n",
              "            await google.colab.kernel.invokeFunction('convertToInteractive',\n",
              "                                                     [key], {});\n",
              "          if (!dataTable) return;\n",
              "\n",
              "          const docLinkHtml = 'Like what you see? Visit the ' +\n",
              "            '<a target=\"_blank\" href=https://colab.research.google.com/notebooks/data_table.ipynb>data table notebook</a>'\n",
              "            + ' to learn more about interactive tables.';\n",
              "          element.innerHTML = '';\n",
              "          dataTable['output_type'] = 'display_data';\n",
              "          await google.colab.output.renderOutput(dataTable, element);\n",
              "          const docLink = document.createElement('div');\n",
              "          docLink.innerHTML = docLinkHtml;\n",
              "          element.appendChild(docLink);\n",
              "        }\n",
              "      </script>\n",
              "    </div>\n",
              "  </div>\n",
              "  "
            ]
          },
          "metadata": {},
          "execution_count": 36
        }
      ]
    },
    {
      "cell_type": "markdown",
      "source": [
        "## Vectors"
      ],
      "metadata": {
        "id": "rCpCdxLhF0Pq"
      }
    },
    {
      "cell_type": "code",
      "source": [
        "doc = zh(\"教授\")\n",
        "tok = doc[0]\n",
        "tok.vector"
      ],
      "metadata": {
        "colab": {
          "base_uri": "https://localhost:8080/"
        },
        "id": "2120c0njF2T1",
        "outputId": "5dc13fe6-5c66-4a1d-b186-0bc34d27ea04"
      },
      "execution_count": null,
      "outputs": [
        {
          "output_type": "execute_result",
          "data": {
            "text/plain": [
              "array([ 2.2328  , -1.1713  , -3.3528  , -1.1691  , -0.26724 ,  4.4476  ,\n",
              "       -0.66089 ,  2.6248  , -1.5367  , -2.8449  , -4.0233  ,  1.5727  ,\n",
              "        1.978   ,  2.7964  ,  1.003   ,  0.29978 ,  0.056525,  3.7048  ,\n",
              "        2.0446  ,  2.2452  , -5.7184  ,  0.77814 , -1.8383  , -0.017231,\n",
              "       -1.91    , -6.4355  , -4.6737  , -0.13519 ,  0.66087 , -1.6718  ,\n",
              "        3.5934  ,  2.3382  , -4.5406  ,  1.6124  , -2.2361  , -6.0387  ,\n",
              "       -3.4078  ,  1.1304  ,  0.80933 ,  1.9734  ,  2.3314  , -0.9882  ,\n",
              "       -1.1947  ,  2.2628  , -1.3687  , -6.4278  ,  0.15906 ,  0.047335,\n",
              "       -2.8157  , -1.6407  ,  2.4385  , -0.84336 ,  3.081   ,  5.9188  ,\n",
              "       -1.3019  ,  1.2971  ,  7.2325  ,  2.9722  , -0.45552 ,  1.5148  ,\n",
              "       -1.1193  ,  3.8739  ,  1.482   , -2.4657  ,  1.4627  , -3.562   ,\n",
              "       -2.1737  , -1.4306  ,  3.4363  , -1.2796  , -1.4106  ,  2.2146  ,\n",
              "        2.9325  , -2.5172  ,  2.7192  , -0.84556 , -2.5362  ,  2.2079  ,\n",
              "       -3.2217  , -2.2081  ,  4.6204  ,  0.98445 , -0.53713 ,  1.5325  ,\n",
              "        0.60471 ,  1.774   ,  2.5593  ,  4.8882  , -2.9012  ,  0.56529 ,\n",
              "       -0.16369 , -2.6124  , -0.89601 ,  3.6279  , -3.0837  ,  7.4534  ,\n",
              "        5.5267  ,  0.30507 , -0.21904 ,  2.1489  , -3.5027  , -2.8241  ,\n",
              "        1.7284  , -1.7447  ,  0.05638 , -7.6138  , -3.8239  , -0.44218 ,\n",
              "        2.7571  ,  2.5495  , -3.6081  , -0.30223 ,  2.2124  , -0.82708 ,\n",
              "       -1.4102  , -0.81168 , -1.8045  ,  1.6797  , -0.43188 , -2.769   ,\n",
              "       -4.9266  ,  1.0018  ,  0.022032,  1.6223  , -0.097899,  1.541   ,\n",
              "       -4.1115  , -4.2305  , -2.0175  , -2.7113  ,  1.8462  ,  1.115   ,\n",
              "       -2.4203  ,  7.1492  , -1.3467  ,  5.1815  , -1.6418  , -0.90401 ,\n",
              "       -0.030428,  2.4756  , -3.3246  ,  1.2715  , -3.9147  , -2.4505  ,\n",
              "       -1.9256  ,  0.61014 ,  1.52    ,  0.20039 ,  6.3868  , -3.6932  ,\n",
              "       -0.25369 ,  1.993   ,  1.2806  , -1.4946  , -3.8367  ,  0.44791 ,\n",
              "        2.2502  ,  2.687   , -1.9332  ,  1.6963  ,  3.1247  , -4.6094  ,\n",
              "       -0.90111 ,  4.4618  , -5.5256  , -0.044889, -1.496   ,  2.8646  ,\n",
              "        1.9181  ,  0.82574 ,  0.024646, -4.0564  ,  1.1392  , -1.8365  ,\n",
              "       -0.38447 ,  0.063265,  1.2402  , -0.45659 , -1.7064  , -3.4588  ,\n",
              "       -0.23503 , -3.1285  , -2.8034  ,  2.1534  , -1.2622  , -4.0139  ,\n",
              "       -3.3527  ,  3.9156  ,  4.1822  , -1.1544  , -1.8433  , -3.4078  ,\n",
              "        0.43852 , -1.3131  , -0.92715 ,  4.6758  ,  1.8561  ,  3.4259  ,\n",
              "        1.2407  , -0.10015 , -0.4736  , -1.1884  ,  2.5849  , -1.7642  ,\n",
              "       -5.4619  ,  2.8648  ,  5.4742  , -1.9069  ,  0.87298 , -3.3007  ,\n",
              "        0.64926 ,  1.2753  ,  0.57441 ,  5.3602  ,  3.4332  , -3.4726  ,\n",
              "        0.41052 , -4.5747  ,  1.3222  ,  0.64865 , -1.7875  ,  0.68921 ,\n",
              "       -0.16166 ,  2.2868  ,  0.91401 ,  1.388   ,  7.0462  , -1.5426  ,\n",
              "        0.47719 , -3.237   , -1.0982  ,  4.7626  ,  3.4092  , -0.2124  ,\n",
              "       -0.4526  ,  4.4247  , -0.83311 , -0.99074 ,  2.1257  , -0.91728 ,\n",
              "        2.3176  ,  0.91452 , -1.436   ,  2.2201  ,  0.90931 , -0.46145 ,\n",
              "       -1.7671  , -1.594   ,  1.4875  , -3.7585  , -3.826   ,  4.4597  ,\n",
              "       -8.0136  , -1.7391  , -4.4454  ,  1.2797  ,  1.2241  , -0.85194 ,\n",
              "        0.42698 , -0.9868  , -5.0362  , -6.1074  ,  3.8487  ,  3.2342  ,\n",
              "        1.6124  , -1.2368  , -1.0743  , -1.1119  ,  2.7379  ,  4.4379  ,\n",
              "        3.8747  ,  0.83282 , -4.6553  , -1.303   , -0.27529 , -1.2466  ,\n",
              "       -1.5356  , -4.7198  , -5.2186  ,  1.2375  ,  1.3111  , -0.26792 ,\n",
              "        0.79845 , -0.25837 ,  2.2433  , -2.5042  ,  2.5327  ,  1.6947  ,\n",
              "       -3.1678  , -0.55927 , -1.17    , -1.2356  ,  0.3977  ,  1.8565  ,\n",
              "       -1.4511  ,  2.0813  ,  1.5979  , -0.50737 ,  2.5565  ,  0.63113 ],\n",
              "      dtype=float32)"
            ]
          },
          "metadata": {},
          "execution_count": 37
        }
      ]
    },
    {
      "cell_type": "code",
      "source": [
        "tok.vector.shape"
      ],
      "metadata": {
        "colab": {
          "base_uri": "https://localhost:8080/"
        },
        "id": "EX_NjkK1F-mP",
        "outputId": "238f7501-b266-48a6-8d91-666e515e8f13"
      },
      "execution_count": null,
      "outputs": [
        {
          "output_type": "execute_result",
          "data": {
            "text/plain": [
              "(300,)"
            ]
          },
          "metadata": {},
          "execution_count": 38
        }
      ]
    },
    {
      "cell_type": "code",
      "source": [
        "word_1 = nlp.vocab[\"高興\"]\n",
        "word_2 = nlp.vocab[\"高雄\"]\n",
        "word_3 = nlp.vocab[\"開心\"]\n",
        "word_1_word_2 = word_1.similarity(word_2)\n",
        "word_1_word_3 = word_1.similarity(word_3)\n",
        "print(f\"Distance btn Word 1 and 2: {word_1_word_2}\")\n",
        "print(f\"Distance btn Word 1 and 3: {word_1_word_3}\")"
      ],
      "metadata": {
        "colab": {
          "base_uri": "https://localhost:8080/"
        },
        "id": "TMz2mPd0GBaX",
        "outputId": "979ee6e4-b62b-41eb-b3d0-2e4aa5444921"
      },
      "execution_count": null,
      "outputs": [
        {
          "output_type": "stream",
          "name": "stdout",
          "text": [
            "Distance btn Word 1 and 2: 0.27085748314857483\n",
            "Distance btn Word 1 and 3: 0.8141297101974487\n"
          ]
        }
      ]
    },
    {
      "cell_type": "markdown",
      "source": [
        "- Cosine similarity \n",
        "\n",
        "![](https://datascience-enthusiast.com/figures/cosine_sim.png)\n",
        "\n",
        "- Formula for calculating cosine similarity between two vectors\n",
        "\n",
        "![](https://miro.medium.com/max/1400/1*LfW66-WsYkFqWc4XYJbEJg.png)"
      ],
      "metadata": {
        "id": "PTJbrvaAGNvq"
      }
    },
    {
      "cell_type": "markdown",
      "metadata": {
        "id": "04olEHqfwk_D"
      },
      "source": [
        "## StanfordNLP"
      ]
    },
    {
      "cell_type": "markdown",
      "metadata": {
        "id": "ghzefh-xwk_D"
      },
      "source": [
        "Another library whose functionality overlaps with that of spaCy is StanfordNLP. [StanfordNLP](https://stanfordnlp.github.io/stanfordnlp/), not to be confused with Stanford's Java [CoreNLP](https://stanfordnlp.github.io/CoreNLP/) library, is a [Python library](https://github.com/stanfordnlp/stanfordnlp) built on top of PyTorch that offers a fully neural pipeline with tokenization (including multi-word units), lemmatization, part-of-speech tagging (including morphological features) and dependency parsing. These components were built and trained for the [CoNLL-2018 shared task](https://nlp.stanford.edu/pubs/qi2018universal.pdf). There are no named entities, but the quality of the dependency parsing is state of the art. On top of that, it also offers a Python interface to CoreNLP. "
      ]
    },
    {
      "cell_type": "markdown",
      "metadata": {
        "id": "I9UtQCFzwk_D"
      },
      "source": [
        "**`stanfordnlp` has been renamed to `stanza`.**"
      ]
    },
    {
      "cell_type": "code",
      "source": [
        "!pip install stanza"
      ],
      "metadata": {
        "id": "ZncAMak2G-0S"
      },
      "execution_count": null,
      "outputs": []
    },
    {
      "cell_type": "code",
      "source": [
        "import stanza"
      ],
      "metadata": {
        "id": "-ct8iirDHhUa"
      },
      "execution_count": null,
      "outputs": []
    },
    {
      "cell_type": "code",
      "source": [
        "stanza.download(\"zh-hant\")"
      ],
      "metadata": {
        "colab": {
          "base_uri": "https://localhost:8080/",
          "height": 177,
          "referenced_widgets": [
            "8bf2e099b10b4346bdc739ec7effc4fc",
            "8595cf895583400895ddc5079ba3e397",
            "4f71412fd2754da6b61f176f03a03984",
            "fb34814e1c4d4901b6ec55aa95b9f261",
            "cafe3d6c0b1a4a4b88f610e5b726b38e",
            "7ae5b50ed23446df82c389ac692a7ac9",
            "bf476254ec084c6fa6e4e63a758c368c",
            "174d60b8705f4f9e83cba4719e0536c4",
            "fec47f060fd147218ff6def51d80de12",
            "da5097f12d3d47c3b2fea7f5cc10d26a",
            "c2e9f1758f0048e9a355b9caa919d319"
          ]
        },
        "id": "C7S29T-ZKjWg",
        "outputId": "23131ac2-2a14-4d34-bffb-cade4dcf84c9"
      },
      "execution_count": null,
      "outputs": [
        {
          "output_type": "display_data",
          "data": {
            "text/plain": [
              "Downloading https://raw.githubusercontent.com/stanfordnlp/stanza-resources/main/resources_1.3.0.json:   0%|   …"
            ],
            "application/vnd.jupyter.widget-view+json": {
              "version_major": 2,
              "version_minor": 0,
              "model_id": "8bf2e099b10b4346bdc739ec7effc4fc"
            }
          },
          "metadata": {}
        },
        {
          "output_type": "stream",
          "name": "stderr",
          "text": [
            "2022-04-08 07:17:38 INFO: Downloading default packages for language: zh-hant (Traditional_Chinese)...\n",
            "2022-04-08 07:17:38 INFO: File exists: /root/stanza_resources/zh-hant/default.zip.\n",
            "2022-04-08 07:17:41 INFO: Finished downloading models and saved to /root/stanza_resources.\n"
          ]
        }
      ]
    },
    {
      "cell_type": "code",
      "source": [
        "stf_nlp = stanza.Pipeline('zh-hant')"
      ],
      "metadata": {
        "colab": {
          "base_uri": "https://localhost:8080/"
        },
        "id": "b5NFJi_WMByF",
        "outputId": "c0465d1b-58ba-4c4a-fbcc-37619636d35a"
      },
      "execution_count": null,
      "outputs": [
        {
          "output_type": "stream",
          "name": "stderr",
          "text": [
            "2022-04-08 07:17:42 INFO: Loading these models for language: zh-hant (Traditional_Chinese):\n",
            "=======================\n",
            "| Processor | Package |\n",
            "-----------------------\n",
            "| tokenize  | gsd     |\n",
            "| pos       | gsd     |\n",
            "| lemma     | gsd     |\n",
            "| depparse  | gsd     |\n",
            "=======================\n",
            "\n",
            "2022-04-08 07:17:42 INFO: Use device: cpu\n",
            "2022-04-08 07:17:42 INFO: Loading: tokenize\n",
            "2022-04-08 07:17:42 INFO: Loading: pos\n",
            "2022-04-08 07:17:42 INFO: Loading: lemma\n",
            "2022-04-08 07:17:42 INFO: Loading: depparse\n",
            "2022-04-08 07:17:43 INFO: Done loading processors!\n"
          ]
        }
      ]
    },
    {
      "cell_type": "code",
      "source": [
        "text_zh = \"中山大學人文暨科技跨領域學士學位學程助理教授宋世祥表示，2021年聖誕節假期期間，師生舉辦「街頭玩童～鹽埕兒童街區遊戲日」成果展。活動中可看見學生運用贊助單位瑞儀教育基金會致贈的廢棄木棧板，製作了6具兒童創意遊具，一方面展示學習成果，也希望藉此呼籲高雄民眾重視兒童的遊戲權。\"\n",
        "doc = stf_nlp(text_zh)\n",
        "type(doc)"
      ],
      "metadata": {
        "colab": {
          "base_uri": "https://localhost:8080/"
        },
        "id": "ZmZRFfdYHSnL",
        "outputId": "a041df4d-bb5a-434b-b2d1-2c8abe7565c3"
      },
      "execution_count": null,
      "outputs": [
        {
          "output_type": "execute_result",
          "data": {
            "text/plain": [
              "stanza.models.common.doc.Document"
            ]
          },
          "metadata": {},
          "execution_count": 44
        }
      ]
    },
    {
      "cell_type": "markdown",
      "source": [
        "Different models often produce different tokenization results, which in turn would have impact on POS and DEP tagging. "
      ],
      "metadata": {
        "id": "RXC7KjTsVFQ6"
      }
    },
    {
      "cell_type": "markdown",
      "source": [
        "- Here're the results based on StandfordNLP."
      ],
      "metadata": {
        "id": "kci7Uko7VZcg"
      }
    },
    {
      "cell_type": "code",
      "source": [
        "for i, sent in enumerate(doc.sentences):\n",
        "    print(\"[Sentence {}]\".format(i+1))\n",
        "    for word in sent.words:\n",
        "        print(\"{:12s}\\t{:12s}\\t{:6s}\\t{:d}\\t{:12s}\".format(\\\n",
        "              word.text, word.lemma, word.pos, word.head, word.deprel))\n",
        "    print(\"\")"
      ],
      "metadata": {
        "colab": {
          "base_uri": "https://localhost:8080/"
        },
        "id": "ENBx-6QY74qU",
        "outputId": "e7b09609-020c-4a7f-e1e9-4959c4e1b39d"
      },
      "execution_count": null,
      "outputs": [
        {
          "output_type": "stream",
          "name": "stdout",
          "text": [
            "[Sentence 1]\n",
            "中山          \t中山          \tPROPN \t3\tnmod        \n",
            "大學          \t大學          \tNOUN  \t3\tnmod        \n",
            "人文          \t人文          \tNOUN  \t12\tnmod        \n",
            "暨           \t暨           \tCCONJ \t6\tcc          \n",
            "科技          \t科技          \tNOUN  \t6\tcompound    \n",
            "跨           \t跨           \tPART  \t3\tconj        \n",
            "領域          \t領域          \tNOUN  \t12\tnmod        \n",
            "學士          \t學士          \tNOUN  \t12\tnmod        \n",
            "學位          \t學位          \tNOUN  \t12\tnmod        \n",
            "學程          \t學程          \tNOUN  \t12\tnmod        \n",
            "助理          \t助理          \tNOUN  \t12\tnmod        \n",
            "教授          \t教授          \tNOUN  \t15\tnsubj       \n",
            "宋           \t宋           \tPROPN \t12\tappos       \n",
            "世祥          \t世祥          \tPROPN \t13\tflat:name   \n",
            "表示          \t表示          \tVERB  \t0\troot        \n",
            "，           \t，           \tPUNCT \t15\tpunct       \n",
            "2021        \t2021        \tNUM   \t18\tnummod      \n",
            "年           \t年           \tNOUN  \t22\tclf         \n",
            "聖誕          \t聖誕          \tPROPN \t20\tcompound    \n",
            "節           \t節           \tPART  \t22\tnmod        \n",
            "假期          \t假期          \tNOUN  \t22\tnmod        \n",
            "期間          \t期間          \tNOUN  \t25\tnmod:tmod   \n",
            "，           \t，           \tPUNCT \t25\tpunct       \n",
            "師生          \t師生          \tNOUN  \t25\tnsubj       \n",
            "舉辦          \t舉辦          \tVERB  \t15\tparataxis   \n",
            "「           \t「           \tPUNCT \t35\tpunct       \n",
            "街頭          \t街頭          \tNOUN  \t35\tnmod        \n",
            "玩童          \t玩童          \tNOUN  \t29\tcompound    \n",
            "～           \t～           \tPART  \t30\tcompound    \n",
            "鹽           \t鹽           \tPART  \t31\tcompound    \n",
            "埕           \t埕           \tPART  \t35\tnmod        \n",
            "兒童          \t兒童          \tNOUN  \t35\tnmod        \n",
            "街區          \t街區          \tNOUN  \t35\tnmod        \n",
            "遊戲          \t遊戲          \tNOUN  \t35\tcompound    \n",
            "日           \t日           \tPART  \t38\tnmod        \n",
            "」           \t」           \tPUNCT \t35\tpunct       \n",
            "成果          \t成果          \tVERB  \t38\tcompound    \n",
            "展           \t展           \tPART  \t25\tobj         \n",
            "。           \t。           \tPUNCT \t15\tpunct       \n",
            "\n",
            "[Sentence 2]\n",
            "活動          \t活動          \tNOUN  \t34\tadvmod      \n",
            "中           \t中           \tADP   \t1\tacl         \n",
            "可           \t可           \tAUX   \t4\taux         \n",
            "看見          \t看見          \tVERB  \t34\tadvcl       \n",
            "學生          \t學生          \tNOUN  \t6\tnsubj       \n",
            "運用          \t運用          \tVERB  \t4\tccomp       \n",
            "贊助          \t贊助          \tNOUN  \t8\tnmod        \n",
            "單位          \t單位          \tNOUN  \t13\tnsubj       \n",
            "瑞儀          \t瑞儀          \tPROPN \t12\tnmod        \n",
            "教育          \t教育          \tNOUN  \t12\tnmod        \n",
            "基金          \t基金          \tNOUN  \t12\tcompound    \n",
            "會           \t會           \tPART  \t13\tnsubj       \n",
            "致贈          \t致贈          \tVERB  \t17\tacl:relcl   \n",
            "的           \t的           \tPART  \t13\tmark:rel    \n",
            "廢棄          \t廢棄          \tVERB  \t17\tamod        \n",
            "木棧          \t木棧          \tNOUN  \t17\tcompound    \n",
            "板           \t板           \tPART  \t6\tobj         \n",
            "，           \t，           \tPUNCT \t34\tpunct       \n",
            "製作          \t製作          \tVERB  \t34\tadvcl       \n",
            "了           \t了           \tAUX   \t19\taux         \n",
            "6           \t6           \tNUM   \t22\tadvmod      \n",
            "具           \t具           \tVERB  \t25\tamod        \n",
            "兒童          \t兒童          \tNOUN  \t25\tnmod        \n",
            "創意          \t創意          \tNOUN  \t25\tnmod        \n",
            "遊具          \t遊具          \tNOUN  \t19\tobj         \n",
            "，           \t，           \tPUNCT \t34\tpunct       \n",
            "一           \t一           \tNUM   \t28\tnummod      \n",
            "方面          \t方面          \tNOUN  \t29\tadvmod      \n",
            "展示          \t展示          \tVERB  \t34\tadvcl       \n",
            "學習          \t學習          \tNOUN  \t31\tnmod        \n",
            "成果          \t成果          \tNOUN  \t29\tobj         \n",
            "，           \t，           \tPUNCT \t34\tpunct       \n",
            "也           \t也           \tADV   \t34\tmark        \n",
            "希望          \t希望          \tVERB  \t0\troot        \n",
            "藉此          \t藉此          \tADV   \t36\tadvmod      \n",
            "呼籲          \t呼籲          \tVERB  \t34\txcomp       \n",
            "高雄          \t高雄          \tPROPN \t38\tnmod        \n",
            "民眾          \t民眾          \tNOUN  \t39\tnsubj       \n",
            "重視          \t重視          \tVERB  \t43\tacl:relcl   \n",
            "兒童          \t兒童          \tNOUN  \t39\tobj         \n",
            "的           \t的           \tPART  \t39\tmark:rel    \n",
            "遊戲          \t遊戲          \tNOUN  \t43\tcompound    \n",
            "權           \t權           \tPART  \t36\tobj         \n",
            "。           \t。           \tPUNCT \t34\tpunct       \n",
            "\n"
          ]
        }
      ]
    },
    {
      "cell_type": "markdown",
      "source": [
        "# Assignment\n"
      ],
      "metadata": {
        "id": "RE5T8kxWSwmH"
      }
    },
    {
      "cell_type": "markdown",
      "source": [
        "## Analyze Enlgish"
      ],
      "metadata": {
        "id": "hfDmTaw0TrZ7"
      }
    },
    {
      "cell_type": "markdown",
      "source": [
        "- Input: any English news article of your choice \n",
        "- Ouput:\n",
        "    - A list of unique lemmas of all verbs in lower case\n",
        "    - A list of unique tuples of (NER text, NER label)\n",
        "\n",
        "\n"
      ],
      "metadata": {
        "id": "wFjZct1ES--5"
      }
    },
    {
      "cell_type": "code",
      "source": [
        "# Change this to any other article of your choice.\n",
        "\n",
        "en_input = \"\"\"\n",
        "Taipei, April 7 (CNA) Health and Welfare Minister Chen Shih-chung (陳時中) said Thursday that COVID-19 contact tracing has been partially suspended in Taiwan and a new disease control model is being put in place, amid a rise in domestic cases.\n",
        "\n",
        "The immediate suspension of contract tracing applies only to travelers who test positive for COVID-19 in Taiwan, either on arrival at the airport or during mandatory quarantine, Chen said.\n",
        "\n",
        "That decision was made in a bid to free up resources to monitor the growing number of domestic COVID-19 cases, he said at a press briefing, after he reported 531 new cases -- 382 domestically transmitted and 149 imported.\n",
        "\n",
        "Chen said contact tracing on new imported cases will only be done if any of them are believed to be linked to COVID-19 clusters at quarantine hotels or quarantine centers in Taiwan.\n",
        "\n",
        "Prior to Thursday, Taiwan had been reporting its contact tracing information on imported COVID-19 cases via the World Health Organization's International Health Regulations (IHR) mechanism, he said.\n",
        "\n",
        "Regarding the recent daily rise in domestic infections, Chen said the current goal is to bring the situation under control, even though it is impossible to achieve zero new domestic cases at this time.\n",
        "\n",
        "Despite the recent spike, the daily number of domestic COVID-19 cases in Taiwan is still low compared to many other countries, he said, citing as an example the 534 new cases per 100,000 population reported in South Korea on Tuesday.\n",
        "\n",
        "Once people in Taiwan stick together and do their part to prevent the spread of the virus, the situation will be manageable, Chen said.\n",
        "\n",
        "Based on the trajectory of COVID-19 Omicron outbreaks observed in many other countries around the world, he said, it is likely that the infections in Taiwan will peak in a month or two.\n",
        "\n",
        "\"We do not expect the outbreak to stop growing now, but we hope it will rise slowly, so that Taiwan's medical capacity will not be overloaded,\" Chen said.\n",
        "\n",
        "Meanwhile, earlier in the day, the Cabinet announced that Taiwan was adopting a new model for the control of COVID-19 infections.\n",
        "\n",
        "Under the \"new Taiwan model,\" the country has let go of its goal to achieve zero COVID-19 cases, but this does not mean allowing the pandemic go unmanaged, Cabinet spokesman Lo Ping-cheng (羅秉成) said, citing Premier Su Tseng-chang (蘇貞昌).\n",
        "\n",
        "In a meeting earlier with Ministry of Health and Welfare (MOHW) officials, Premier Su said that as Taiwan moves towards a new stage of epidemic prevention, he hopes that the central and local governments will work together to gradually open up the country, in the interests of its people and economy, according to Lo.\n",
        "\n",
        "In a report presented to the Cabinet on Thursday, the MOHW said Taiwan will continue to actively manage the COVID-19 situation, while steadily opening up its borders, in consideration of national economic factors and the people's livelihood.\n",
        "\"\"\""
      ],
      "metadata": {
        "id": "mWg-kuyPXagy"
      },
      "execution_count": null,
      "outputs": []
    },
    {
      "cell_type": "code",
      "source": [
        "# Start by turning a text into a spaCy Doc object\n",
        "# en_doc = en(en_input)"
      ],
      "metadata": {
        "id": "Fsb37mkWDTlR"
      },
      "execution_count": null,
      "outputs": []
    },
    {
      "cell_type": "code",
      "source": [
        "#===Write your code below and save the output as `verbs`.===#\n",
        "\n",
        "\n",
        "# verbs = "
      ],
      "metadata": {
        "colab": {
          "base_uri": "https://localhost:8080/"
        },
        "id": "FHBSsFhDHahi",
        "outputId": "260d416a-ffd9-4b61-e96d-717eebe8a8be"
      },
      "execution_count": null,
      "outputs": [
        {
          "output_type": "execute_result",
          "data": {
            "text/plain": [
              "['say',\n",
              " 'do',\n",
              " 'accord',\n",
              " 'bring',\n",
              " 'monitor',\n",
              " 'import',\n",
              " 'free',\n",
              " 'achieve',\n",
              " 'manage',\n",
              " 'apply',\n",
              " 'suspend',\n",
              " 'move',\n",
              " 'put',\n",
              " 'go',\n",
              " 'regard',\n",
              " 'let',\n",
              " 'observe',\n",
              " 'stop',\n",
              " 'trace',\n",
              " 'allow',\n",
              " 'make',\n",
              " 'work',\n",
              " 'peak',\n",
              " 'report',\n",
              " 'mean',\n",
              " 'test',\n",
              " 'adopt',\n",
              " 'stick',\n",
              " 'compare',\n",
              " 'announce',\n",
              " 'grow',\n",
              " 'prevent',\n",
              " 'present',\n",
              " 'base',\n",
              " 'continue',\n",
              " 'hope',\n",
              " 'open',\n",
              " 'transmit',\n",
              " 'link',\n",
              " 'believe',\n",
              " 'overload',\n",
              " 'expect',\n",
              " 'cite',\n",
              " 'rise']"
            ]
          },
          "metadata": {},
          "execution_count": 71
        }
      ]
    },
    {
      "cell_type": "code",
      "source": [
        "#===Write your code below and save the output as `en_ents`.===#\n",
        "\n",
        "\n",
        "# en_ents ="
      ],
      "metadata": {
        "colab": {
          "base_uri": "https://localhost:8080/"
        },
        "id": "b_cLlJhODK-K",
        "outputId": "d0e353e1-8983-4dc7-a674-1263869b76b8"
      },
      "execution_count": null,
      "outputs": [
        {
          "output_type": "execute_result",
          "data": {
            "text/plain": [
              "[('Taipei', 'GPE'),\n",
              " ('April 7', 'DATE'),\n",
              " ('CNA) Health and', 'ORG'),\n",
              " ('Welfare', 'ORG'),\n",
              " ('Chen Shih-chung', 'PERSON'),\n",
              " ('Thursday', 'DATE'),\n",
              " ('COVID-19', 'PERSON'),\n",
              " ('Taiwan', 'GPE'),\n",
              " ('Chen', 'PERSON'),\n",
              " ('COVID-19', 'PRODUCT'),\n",
              " ('531', 'CARDINAL'),\n",
              " ('382', 'CARDINAL'),\n",
              " ('149', 'CARDINAL'),\n",
              " (\"the World Health Organization's\", 'ORG'),\n",
              " ('daily', 'DATE'),\n",
              " ('zero', 'CARDINAL'),\n",
              " ('534', 'CARDINAL'),\n",
              " ('100,000', 'CARDINAL'),\n",
              " ('South Korea', 'GPE'),\n",
              " ('Tuesday', 'DATE'),\n",
              " ('COVID-19 Omicron', 'PERSON'),\n",
              " ('a month', 'DATE'),\n",
              " ('two', 'CARDINAL'),\n",
              " ('earlier in the day', 'DATE'),\n",
              " ('Cabinet', 'ORG'),\n",
              " ('Lo Ping-cheng', 'PERSON'),\n",
              " ('Su Tseng-chang', 'PERSON'),\n",
              " ('Ministry of Health and Welfare', 'ORG'),\n",
              " ('Su', 'PERSON'),\n",
              " ('Lo', 'ORG'),\n",
              " ('MOHW', 'ORG')]"
            ]
          },
          "metadata": {},
          "execution_count": 52
        }
      ]
    },
    {
      "cell_type": "markdown",
      "source": [
        "## Analyze Chinese"
      ],
      "metadata": {
        "id": "54HIkSkRTzqe"
      }
    },
    {
      "cell_type": "markdown",
      "source": [
        "- Input 1: any Chinese news article from Taiwan media of your choice \n",
        "- Ouput 1:\n",
        "    - A list of unique tokens except for punctuations\n",
        "    - A list of unique tuples of (NER text, NER label)"
      ],
      "metadata": {
        "id": "WaHx9Pj-VpPj"
      }
    },
    {
      "cell_type": "code",
      "source": [
        "# Change this to any other article of your choice.\n",
        "\n",
        "zh_input = \"\"\"\n",
        "本土個案昨增三八二例再創新高，確診案例遍及十九縣市，境外增一四九例，單日破五百案例。\n",
        "\n",
        "中央疫情指揮中心指揮官陳時中表示，個案數還會往上升，預估一至兩個月內達最高峰，疫情將持續到六月底且還不會到尾聲；他也首度鬆口「清零不可能」，未來將走向與病毒共存，下周擬試辦「輕症在家」隔離，同時也將調整停課標準。\n",
        "\n",
        "擬以居家快篩取代停課\n",
        "國內確診個案上升，全國累積十四縣市共一三九所校園停課，各縣市對畢業旅行、戶外教學是否取消標準不一，教師團體認為政府應該明確表態，否則會造成校園恐慌或影響學生受教權。陳時中表示，未來必然走向與病毒共存，下周將與教育部檢討停課標準，縮小匡列範圍，並在合理範圍以居家快篩來取代停課。\n",
        "\n",
        "疫情一至兩個月達高峰\n",
        "指揮中心比照韓國、紐西蘭及香港疫情發展，推估未來一至兩個月確診案例將飆至最高峰，陳時中表示，目前Omicron確診數仍算低，但規模難以預估，未來單日恐超過一千五百例，屆時致死率、個案數飆高或疫情高峰下不來，社會將承擔不起，因此仍須積極因應，朝「緩坡上升」方向努力。\n",
        "\n",
        "輕症在家指引至今沒譜\n",
        "總統蔡英文日前宣布防疫以「減災」為目標避免醫療量能超載，「輕症在家」隔離為其中配套，單日確診數若達一千五百人將啟動。指揮中心下周將擬定「輕症在家照護指引」，如設醫療遠距平台、送藥、戶政及警政系統聯繫、關懷中心運作等，若未遵守隔離規定將有罰則，並因應地方疫情升溫和醫療量能吃緊，將從新北試辦。\n",
        "\n",
        "立委賴惠員、蔣萬安昨於衛環委員會質詢時，質疑各地方早已喊話希望指揮中心相關指引快出來，但至今連社區溝通、徵求試辦的地方政府意願統統沒有譜。\n",
        "\n",
        "台北市長柯文哲昨晚也在臉書表示「北市防疫旅館量能告急」，因每天確診人數不斷攀升，近期有近萬名移工入境，幾乎把北市的防疫旅館量能占滿。北市已發出徵召令，徵用加強版防疫專責旅館，讓輕症、低危險確診者入住。\n",
        "\n",
        "總統府、監察院傳確診者\n",
        "本土疫情多點爆發，公務機關包括總統府、監察院、台北市議會都傳出有確診者，北中南八大行業確診人數也驟增，未來場所是否新增禁令，指揮中心將再討論。\n",
        "\n",
        "境外移入昨增一四九例個案，有七十八例為航班落地採檢陽性，越南有十七例居冠。指揮中心表示，目前落地採檢陽性率約落在四％到五％間，即日起越南航空、越捷航空及越竹航空等三航空公司班機，增加「搭機前六小時內抗原快篩報告」才可入境。\n",
        "\"\"\""
      ],
      "metadata": {
        "id": "ZHfzWXqpXrsI"
      },
      "execution_count": null,
      "outputs": []
    },
    {
      "cell_type": "code",
      "source": [
        "# Start by turning a text into a spaCy Doc object\n",
        "# zh_doc = zh(zh_input)"
      ],
      "metadata": {
        "id": "zNBQwui9Dwk4"
      },
      "execution_count": null,
      "outputs": []
    },
    {
      "cell_type": "code",
      "source": [
        "#===Write your code below and save the output as `zh_toks`.===#\n",
        "\n",
        "# zh_toks = "
      ],
      "metadata": {
        "colab": {
          "base_uri": "https://localhost:8080/"
        },
        "id": "7R7DG4a3Dv9I",
        "outputId": "88998649-1d1b-40b3-f849-76bd3f4ca2cf"
      },
      "execution_count": null,
      "outputs": [
        {
          "output_type": "execute_result",
          "data": {
            "text/plain": [
              "['輕症',\n",
              " '紐西蘭',\n",
              " '發出',\n",
              " '罰則',\n",
              " '校園',\n",
              " '一',\n",
              " '啟動',\n",
              " '再',\n",
              " '也',\n",
              " '教師',\n",
              " '與',\n",
              " '新高',\n",
              " '照護',\n",
              " '單日',\n",
              " '越南',\n",
              " '表態',\n",
              " '其中',\n",
              " '尾聲',\n",
              " '質疑',\n",
              " '規定',\n",
              " '擬定',\n",
              " '最高峰',\n",
              " '療量',\n",
              " '政府',\n",
              " '應該',\n",
              " '\\n\\n',\n",
              " '造成',\n",
              " '高峰',\n",
              " '傳出',\n",
              " '吃緊',\n",
              " '飆高',\n",
              " '徵求',\n",
              " '可',\n",
              " '所',\n",
              " '爆發',\n",
              " '六月',\n",
              " '未',\n",
              " '把',\n",
              " '表示',\n",
              " '下',\n",
              " '連社',\n",
              " '攀升',\n",
              " '遠距',\n",
              " '避免',\n",
              " '昨增',\n",
              " '社會',\n",
              " '間',\n",
              " '一三九',\n",
              " '居冠',\n",
              " '旅行',\n",
              " '可能',\n",
              " '於衛',\n",
              " '小',\n",
              " '個案',\n",
              " '越竹',\n",
              " '但',\n",
              " '累積',\n",
              " '防疫',\n",
              " '早已',\n",
              " '機關',\n",
              " '增加',\n",
              " '加強版',\n",
              " '喊話',\n",
              " '抗原',\n",
              " '十七',\n",
              " '例遍',\n",
              " '疫情',\n",
              " '統沒',\n",
              " '是否',\n",
              " '因',\n",
              " '昨晚',\n",
              " '地方',\n",
              " '報告',\n",
              " '為目',\n",
              " '確診',\n",
              " '搭機',\n",
              " '緩坡',\n",
              " '檢討',\n",
              " '推估',\n",
              " '走向',\n",
              " '譜',\n",
              " '送藥',\n",
              " '診數',\n",
              " '匡列',\n",
              " '例為',\n",
              " '屆時',\n",
              " '指揮官',\n",
              " '共存',\n",
              " '學生',\n",
              " '否則',\n",
              " '及',\n",
              " '陳時',\n",
              " '詢時',\n",
              " '仍',\n",
              " '到',\n",
              " '擬以',\n",
              " '篩來',\n",
              " '認為',\n",
              " '還',\n",
              " '平台',\n",
              " '將與',\n",
              " '區溝通',\n",
              " '沒譜',\n",
              " '至',\n",
              " '合理',\n",
              " '點',\n",
              " '如',\n",
              " '數還',\n",
              " '臉書',\n",
              " '移工',\n",
              " '都',\n",
              " '萬名',\n",
              " '遵守',\n",
              " '必然',\n",
              " '居家',\n",
              " '一四九例',\n",
              " '會到',\n",
              " '三',\n",
              " '來將',\n",
              " '快篩',\n",
              " '並',\n",
              " '出來',\n",
              " '隔離',\n",
              " '越捷',\n",
              " '賴惠員',\n",
              " '意願',\n",
              " '新增',\n",
              " '即',\n",
              " '恐慌',\n",
              " '前',\n",
              " '柯文哲',\n",
              " '運作',\n",
              " '度',\n",
              " '為',\n",
              " '低',\n",
              " '試辦',\n",
              " '將調',\n",
              " '航空',\n",
              " '關懷',\n",
              " '周擬',\n",
              " '台北市',\n",
              " '他',\n",
              " '超過',\n",
              " '日起',\n",
              " '香港',\n",
              " '標準',\n",
              " '入境',\n",
              " '整',\n",
              " '市對',\n",
              " '設醫療',\n",
              " '能',\n",
              " '傳確',\n",
              " '發展',\n",
              " '立委',\n",
              " '告急',\n",
              " '系統',\n",
              " '日前',\n",
              " '市',\n",
              " '討論',\n",
              " '監察院',\n",
              " '下周',\n",
              " '國內',\n",
              " '在',\n",
              " '有',\n",
              " '入住',\n",
              " '因此',\n",
              " '戶政',\n",
              " '各',\n",
              " '每天',\n",
              " '地方政府',\n",
              " '同時',\n",
              " '移入',\n",
              " '總統府',\n",
              " '單',\n",
              " '的',\n",
              " '朝',\n",
              " '指揮',\n",
              " '宣布',\n",
              " '教權',\n",
              " '長',\n",
              " '採檢',\n",
              " '北市',\n",
              " '達',\n",
              " '幾乎',\n",
              " '超載',\n",
              " '以',\n",
              " '標',\n",
              " '近期',\n",
              " '蔣萬',\n",
              " '案例',\n",
              " '創',\n",
              " '驟增',\n",
              " '數',\n",
              " '若',\n",
              " '人',\n",
              " '起',\n",
              " '受',\n",
              " '危險',\n",
              " '中',\n",
              " '本土',\n",
              " '目前',\n",
              " '配套',\n",
              " '徵召令',\n",
              " '縣',\n",
              " '教學',\n",
              " '十九縣市',\n",
              " '八大',\n",
              " '承擔',\n",
              " '不一',\n",
              " '旅館量',\n",
              " '班機',\n",
              " '禁令',\n",
              " '醫',\n",
              " '例',\n",
              " '航班',\n",
              " '取消',\n",
              " '會',\n",
              " '確診人',\n",
              " '陽性率',\n",
              " '五％',\n",
              " '續到',\n",
              " '減災',\n",
              " '公司',\n",
              " '共',\n",
              " '一千五百',\n",
              " '六',\n",
              " '和',\n",
              " '努力',\n",
              " '近',\n",
              " '蔡英文',\n",
              " '篩',\n",
              " 'Omicron',\n",
              " '環委',\n",
              " '旅館',\n",
              " '至今',\n",
              " '範圍',\n",
              " '快',\n",
              " '戶外',\n",
              " '等',\n",
              " '規模難',\n",
              " '積極',\n",
              " '清零',\n",
              " '日破',\n",
              " '不',\n",
              " '首',\n",
              " '達高峰',\n",
              " '確診案',\n",
              " '占滿',\n",
              " '兩個月',\n",
              " '鬆口',\n",
              " '讓輕症',\n",
              " '將持',\n",
              " '希望',\n",
              " '致死率',\n",
              " '總統',\n",
              " '將從',\n",
              " '\\n',\n",
              " '增',\n",
              " '醫療量',\n",
              " '時內',\n",
              " '聯繫',\n",
              " '一千五百例',\n",
              " '指引',\n",
              " '專責',\n",
              " '公務',\n",
              " '境外',\n",
              " '停課',\n",
              " '安昨',\n",
              " '團體',\n",
              " '升溫',\n",
              " '包括',\n",
              " '相關',\n",
              " '五百',\n",
              " '北',\n",
              " '來',\n",
              " '上升',\n",
              " '十四',\n",
              " '日恐',\n",
              " '陽性',\n",
              " '新北',\n",
              " '韓國',\n",
              " '比照',\n",
              " '七十八',\n",
              " '確診者',\n",
              " '須',\n",
              " '取代',\n",
              " '數不斷',\n",
              " '全',\n",
              " '影響',\n",
              " '因應',\n",
              " '行業',\n",
              " '議會',\n",
              " '中南',\n",
              " '才',\n",
              " '將飆',\n",
              " '底且',\n",
              " '畢業',\n",
              " '算',\n",
              " '國',\n",
              " '病毒',\n",
              " '來場',\n",
              " '周將',\n",
              " '三八二',\n",
              " '員會質',\n",
              " '確',\n",
              " '多',\n",
              " '警政',\n",
              " '中央',\n",
              " '會往',\n",
              " '統',\n",
              " '約落',\n",
              " '明確',\n",
              " '預估',\n",
              " '縮',\n",
              " '教育部',\n",
              " '一四九',\n",
              " '或',\n",
              " '方向',\n",
              " '落地',\n",
              " '已',\n",
              " '徵用',\n",
              " '在家',\n",
              " '內達',\n",
              " '四％',\n",
              " '診者',\n",
              " '將',\n",
              " '中心']"
            ]
          },
          "metadata": {},
          "execution_count": 54
        }
      ]
    },
    {
      "cell_type": "code",
      "source": [
        "#===Write your code below and save the output as `zh_ents`.===#\n",
        "\n",
        "\n",
        "# zh_ents ="
      ],
      "metadata": {
        "colab": {
          "base_uri": "https://localhost:8080/"
        },
        "id": "blh1uKC6EEbk",
        "outputId": "e7587d16-33aa-47a5-92c8-c6f45f34605d"
      },
      "execution_count": null,
      "outputs": [
        {
          "output_type": "execute_result",
          "data": {
            "text/plain": [
              "[('三八二', 'CARDINAL'),\n",
              " ('日破', 'GPE'),\n",
              " ('五百', 'CARDINAL'),\n",
              " ('一至兩個月', 'DATE'),\n",
              " ('六月', 'DATE'),\n",
              " ('底且', 'PERSON'),\n",
              " ('周擬', 'PERSON'),\n",
              " ('將調', 'PERSON'),\n",
              " ('十四縣', 'CARDINAL'),\n",
              " ('一三九所校園停課', 'FAC'),\n",
              " ('下周', 'DATE'),\n",
              " ('教育部', 'ORG'),\n",
              " ('韓國', 'GPE'),\n",
              " ('紐西蘭', 'GPE'),\n",
              " ('香港', 'GPE'),\n",
              " ('沒譜', 'ORG'),\n",
              " ('蔡英文', 'PERSON'),\n",
              " ('日前', 'DATE'),\n",
              " ('一千五百人', 'CARDINAL'),\n",
              " ('關懷中心', 'ORG'),\n",
              " ('新北', 'GPE'),\n",
              " ('台北市', 'GPE'),\n",
              " ('柯文哲', 'PERSON'),\n",
              " ('昨晚', 'TIME'),\n",
              " ('北市防疫旅館量', 'EVENT'),\n",
              " ('近萬名', 'CARDINAL'),\n",
              " ('北市', 'GPE'),\n",
              " ('徵召令', 'PERSON'),\n",
              " ('徵用加強版防疫專責', 'ORG'),\n",
              " ('監察院', 'ORG'),\n",
              " ('中南', 'LOC'),\n",
              " ('驟增', 'PERSON'),\n",
              " ('一四九', 'CARDINAL'),\n",
              " ('七十八', 'CARDINAL'),\n",
              " ('越南', 'GPE'),\n",
              " ('十七', 'CARDINAL'),\n",
              " ('四％到', 'DATE'),\n",
              " ('五％', 'CARDINAL'),\n",
              " ('越南航空、越捷航空', 'ORG'),\n",
              " ('越竹航空', 'ORG')]"
            ]
          },
          "metadata": {},
          "execution_count": 66
        }
      ]
    },
    {
      "cell_type": "markdown",
      "source": [
        "- Input 2: Simplified version of Input 1 (Use `opencc` to do the conversion.)\n",
        "- Ouput 2:\n",
        "    - A list of unique tokens except for punctuations\n",
        "    - A list of unique tuples of (NER text, NER label)"
      ],
      "metadata": {
        "id": "hpyxvj-kXSEZ"
      }
    },
    {
      "cell_type": "code",
      "source": [
        "!pip install opencc"
      ],
      "metadata": {
        "colab": {
          "base_uri": "https://localhost:8080/"
        },
        "id": "d7nTkl1vS9oz",
        "outputId": "e8e3e291-5f9e-45c3-e148-166ebbb84949"
      },
      "execution_count": null,
      "outputs": [
        {
          "output_type": "stream",
          "name": "stdout",
          "text": [
            "Collecting opencc\n",
            "  Downloading OpenCC-1.1.3-cp37-cp37m-manylinux1_x86_64.whl (766 kB)\n",
            "\u001b[?25l     \u001b[90m━━━━━━━━━━━━━━━━━━━━━━━━━━━━━━━━━━━━━━━━\u001b[0m \u001b[32m0.0/766.2 KB\u001b[0m \u001b[31m?\u001b[0m eta \u001b[36m-:--:--\u001b[0m\r\u001b[2K     \u001b[90m━━━━━━━━━━━━━━━━━━━━━━━━━━━━━━━━━━━━━━\u001b[0m \u001b[32m766.2/766.2 KB\u001b[0m \u001b[31m24.2 MB/s\u001b[0m eta \u001b[36m0:00:00\u001b[0m\n",
            "\u001b[?25hInstalling collected packages: opencc\n",
            "Successfully installed opencc-1.1.3\n",
            "\u001b[33mWARNING: Running pip as the 'root' user can result in broken permissions and conflicting behaviour with the system package manager. It is recommended to use a virtual environment instead: https://pip.pypa.io/warnings/venv\u001b[0m\u001b[33m\n",
            "\u001b[0m"
          ]
        }
      ]
    },
    {
      "cell_type": "code",
      "source": [
        "import opencc"
      ],
      "metadata": {
        "id": "dJH14sEYEs_F"
      },
      "execution_count": null,
      "outputs": []
    },
    {
      "cell_type": "code",
      "source": [
        "converter = opencc.OpenCC('t2s.json')\n",
        "sim_zh_input = converter.convert(zh_input)\n",
        "sim_zh_input"
      ],
      "metadata": {
        "colab": {
          "base_uri": "https://localhost:8080/",
          "height": 417
        },
        "id": "n9kuUV-wEr_t",
        "outputId": "cd7a4e0e-fded-45e0-e792-133a0688def1"
      },
      "execution_count": null,
      "outputs": [
        {
          "output_type": "execute_result",
          "data": {
            "text/plain": [
              "'\\n本土个案昨增三八二例再创新高，确诊案例遍及十九县市，境外增一四九例，单日破五百案例。\\n\\n中央疫情指挥中心指挥官陈时中表示，个案数还会往上升，预估一至两个月内达最高峰，疫情将持续到六月底且还不会到尾声；他也首度松口「清零不可能」，未来将走向与病毒共存，下周拟试办「轻症在家」隔离，同时也将调整停课标准。\\n\\n拟以居家快筛取代停课\\n国内确诊个案上升，全国累积十四县市共一三九所校园停课，各县市对毕业旅行、户外教学是否取消标准不一，教师团体认为政府应该明确表态，否则会造成校园恐慌或影响学生受教权。陈时中表示，未来必然走向与病毒共存，下周将与教育部检讨停课标准，缩小匡列范围，并在合理范围以居家快筛来取代停课。\\n\\n疫情一至两个月达高峰\\n指挥中心比照韩国、纽西兰及香港疫情发展，推估未来一至两个月确诊案例将飙至最高峰，陈时中表示，目前Omicron确诊数仍算低，但规模难以预估，未来单日恐超过一千五百例，届时致死率、个案数飙高或疫情高峰下不来，社会将承担不起，因此仍须积极因应，朝「缓坡上升」方向努力。\\n\\n轻症在家指引至今没谱\\n总统蔡英文日前宣布防疫以「减灾」为目标避免医疗量能超载，「轻症在家」隔离为其中配套，单日确诊数若达一千五百人将启动。指挥中心下周将拟定「轻症在家照护指引」，如设医疗远距平台、送药、户政及警政系统联系、关怀中心运作等，若未遵守隔离规定将有罚则，并因应地方疫情升温和医疗量能吃紧，将从新北试办。\\n\\n立委赖惠员、蒋万安昨于卫环委员会质询时，质疑各地方早已喊话希望指挥中心相关指引快出来，但至今连社区沟通、征求试办的地方政府意愿统统没有谱。\\n\\n台北市长柯文哲昨晚也在脸书表示「北市防疫旅馆量能告急」，因每天确诊人数不断攀升，近期有近万名移工入境，几乎把北市的防疫旅馆量能占满。北市已发出征召令，征用加强版防疫专责旅馆，让轻症、低危险确诊者入住。\\n\\n总统府、监察院传确诊者\\n本土疫情多点爆发，公务机关包括总统府、监察院、台北市议会都传出有确诊者，北中南八大行业确诊人数也骤增，未来场所是否新增禁令，指挥中心将再讨论。\\n\\n境外移入昨增一四九例个案，有七十八例为航班落地采检阳性，越南有十七例居冠。指挥中心表示，目前落地采检阳性率约落在四％到五％间，即日起越南航空、越捷航空及越竹航空等三航空公司班机，增加「搭机前六小时内抗原快筛报告」才可入境。\\n'"
            ],
            "application/vnd.google.colaboratory.intrinsic+json": {
              "type": "string"
            }
          },
          "metadata": {},
          "execution_count": 73
        }
      ]
    },
    {
      "cell_type": "code",
      "source": [
        "# Start by turning a text into a spaCy Doc object\n",
        "# sim_zh_doc = zh(sim_zh_input)"
      ],
      "metadata": {
        "id": "kIPXxptSFANd"
      },
      "execution_count": null,
      "outputs": []
    },
    {
      "cell_type": "code",
      "source": [
        "#===Write your code below and save the output as `sim_zh_toks`.===#\n",
        "\n",
        "\n",
        "# sim_zh_toks = "
      ],
      "metadata": {
        "colab": {
          "base_uri": "https://localhost:8080/"
        },
        "id": "-e9YFa0UE6UO",
        "outputId": "a71029fe-ccf6-4131-ca11-b6ba56022605"
      },
      "execution_count": null,
      "outputs": [
        {
          "output_type": "execute_result",
          "data": {
            "text/plain": [
              "['对',\n",
              " '诊者',\n",
              " '议会',\n",
              " '一',\n",
              " '再',\n",
              " '也',\n",
              " '超载',\n",
              " '日确',\n",
              " '场所',\n",
              " '否则',\n",
              " '越南',\n",
              " '会',\n",
              " '台北',\n",
              " '其中',\n",
              " '脸书',\n",
              " '最高峰',\n",
              " '联系',\n",
              " '政府',\n",
              " '\\n\\n',\n",
              " '造成',\n",
              " '高峰',\n",
              " '社区',\n",
              " '缓坡',\n",
              " '例为',\n",
              " '可',\n",
              " '所',\n",
              " '六月',\n",
              " '未',\n",
              " '应该',\n",
              " '把',\n",
              " '表示',\n",
              " '须',\n",
              " '关怀',\n",
              " '下',\n",
              " '攀升',\n",
              " '避免',\n",
              " '昨增',\n",
              " '高',\n",
              " '一三九',\n",
              " '教学',\n",
              " '骤增',\n",
              " '居冠',\n",
              " '旅行',\n",
              " '月',\n",
              " '可能',\n",
              " '预估',\n",
              " '统统',\n",
              " '越竹',\n",
              " '与',\n",
              " '但',\n",
              " '届时',\n",
              " '防疫',\n",
              " '早已',\n",
              " '难以',\n",
              " '增加',\n",
              " '将',\n",
              " '轻症',\n",
              " '抗原',\n",
              " '万',\n",
              " '来',\n",
              " '承担',\n",
              " '公务',\n",
              " '十七',\n",
              " '危险',\n",
              " '疫情',\n",
              " '是否',\n",
              " '因',\n",
              " '持续',\n",
              " '旅馆',\n",
              " '传出',\n",
              " '昨晚',\n",
              " '地方',\n",
              " 'Omicron确',\n",
              " '讨论',\n",
              " '推估',\n",
              " '指挥官',\n",
              " '送药',\n",
              " '运作',\n",
              " '超过',\n",
              " '出来',\n",
              " '走向',\n",
              " '征召令',\n",
              " '蒋万安',\n",
              " '停课',\n",
              " '市长',\n",
              " '匡列',\n",
              " '相关',\n",
              " '同时',\n",
              " '班机',\n",
              " '共存',\n",
              " '创新',\n",
              " '飙高',\n",
              " '及',\n",
              " '周拟',\n",
              " '检讨',\n",
              " '仍',\n",
              " '到',\n",
              " '陈时',\n",
              " '还',\n",
              " '平台',\n",
              " '设',\n",
              " '至',\n",
              " '系统',\n",
              " '名',\n",
              " '合理',\n",
              " '如',\n",
              " '内',\n",
              " '移工',\n",
              " '都',\n",
              " '遵守',\n",
              " '必然',\n",
              " '让',\n",
              " '几乎',\n",
              " '确诊',\n",
              " '积极',\n",
              " '居家',\n",
              " '一四九例',\n",
              " '赖惠员',\n",
              " '目标',\n",
              " '纽西兰',\n",
              " '三',\n",
              " '升温',\n",
              " '点',\n",
              " '达',\n",
              " '越捷',\n",
              " '个',\n",
              " '新增',\n",
              " '昨于',\n",
              " '爆发',\n",
              " '即',\n",
              " '恐慌',\n",
              " '前',\n",
              " '认为',\n",
              " '报告',\n",
              " '柯文哲',\n",
              " '时',\n",
              " '度',\n",
              " '飙至',\n",
              " '标准',\n",
              " '低',\n",
              " '规模',\n",
              " '航空',\n",
              " '学生',\n",
              " '台北市',\n",
              " '他',\n",
              " '日起',\n",
              " '香港',\n",
              " '入境',\n",
              " '沟通',\n",
              " '遍及',\n",
              " '能',\n",
              " '行业',\n",
              " '征用',\n",
              " '缩小',\n",
              " '诊数',\n",
              " '约落',\n",
              " '喊话',\n",
              " '罚则',\n",
              " '质询',\n",
              " '案数',\n",
              " '立委',\n",
              " '未来',\n",
              " '告急',\n",
              " '委员会',\n",
              " '日前',\n",
              " '市',\n",
              " '调整',\n",
              " '拟',\n",
              " '下周',\n",
              " '内达',\n",
              " '发出',\n",
              " '在',\n",
              " '恐',\n",
              " '有',\n",
              " '入住',\n",
              " '往',\n",
              " '因此',\n",
              " '各',\n",
              " '每天',\n",
              " '没有',\n",
              " '地方政府',\n",
              " '全国',\n",
              " '移入',\n",
              " '没',\n",
              " '筛',\n",
              " '韩国',\n",
              " '征求',\n",
              " '的',\n",
              " '朝',\n",
              " '宣布',\n",
              " '机关',\n",
              " '北市',\n",
              " '采检',\n",
              " '以',\n",
              " '近期',\n",
              " '案例',\n",
              " '指挥',\n",
              " '表态',\n",
              " '若',\n",
              " '人',\n",
              " '起',\n",
              " '受教权',\n",
              " '连',\n",
              " '中',\n",
              " '快筛',\n",
              " '本土',\n",
              " '目前',\n",
              " '配套',\n",
              " '人数',\n",
              " '拟定',\n",
              " '单',\n",
              " '八大',\n",
              " '不一',\n",
              " '禁令',\n",
              " '总统府',\n",
              " '例',\n",
              " '航班',\n",
              " '取消',\n",
              " '各县',\n",
              " '户政',\n",
              " '搭机',\n",
              " '五％',\n",
              " '公司',\n",
              " '共',\n",
              " '一千五百',\n",
              " '六',\n",
              " '因应',\n",
              " '吃紧',\n",
              " '和',\n",
              " '努力',\n",
              " '近',\n",
              " '蔡英文',\n",
              " '单日',\n",
              " '专责',\n",
              " '至今',\n",
              " '范围',\n",
              " '快',\n",
              " '破',\n",
              " '监察院',\n",
              " '十九',\n",
              " '等',\n",
              " '清零',\n",
              " '影响',\n",
              " '不',\n",
              " '首',\n",
              " '不断',\n",
              " '质疑',\n",
              " '致死率',\n",
              " '希望',\n",
              " '\\n',\n",
              " '试办',\n",
              " '规定',\n",
              " '增',\n",
              " '阳性率',\n",
              " '一千五百例',\n",
              " '指引',\n",
              " '隔离',\n",
              " '境外',\n",
              " '传确',\n",
              " '总统',\n",
              " '户外',\n",
              " '包括',\n",
              " '北',\n",
              " '五百',\n",
              " '并',\n",
              " '上升',\n",
              " '从',\n",
              " '十四',\n",
              " '远距',\n",
              " '国内',\n",
              " '新北',\n",
              " '比照',\n",
              " '七十八',\n",
              " '县',\n",
              " '减灾',\n",
              " '取代',\n",
              " '教师',\n",
              " '陈时中',\n",
              " '阳性',\n",
              " '发展',\n",
              " '中南',\n",
              " '医疗',\n",
              " '小时',\n",
              " '才',\n",
              " '明确',\n",
              " '松口',\n",
              " '底且',\n",
              " '算',\n",
              " '个案',\n",
              " '病毒',\n",
              " '两',\n",
              " '间',\n",
              " '确诊者',\n",
              " '累积',\n",
              " '三八二',\n",
              " '多',\n",
              " '团体',\n",
              " '警政',\n",
              " '中央',\n",
              " '校园',\n",
              " '占满',\n",
              " '社会',\n",
              " '教育部',\n",
              " '一四九',\n",
              " '或',\n",
              " '医疗量',\n",
              " '加强版',\n",
              " '谱',\n",
              " '落地',\n",
              " '方向',\n",
              " '旅馆量',\n",
              " '尾声',\n",
              " '已',\n",
              " '启动',\n",
              " '为',\n",
              " '在家',\n",
              " '四％',\n",
              " '卫环',\n",
              " '毕业',\n",
              " '照护',\n",
              " '意愿',\n",
              " '中心']"
            ]
          },
          "metadata": {},
          "execution_count": 62
        }
      ]
    },
    {
      "cell_type": "markdown",
      "source": [
        "Evaluate whether `zh_toks` is equal to `sim_zh_toks`."
      ],
      "metadata": {
        "id": "rb_arUXbG-7L"
      }
    },
    {
      "cell_type": "code",
      "source": [
        "# zh_toks == sim_zh_toks"
      ],
      "metadata": {
        "colab": {
          "base_uri": "https://localhost:8080/"
        },
        "id": "Eq437wxjFZCX",
        "outputId": "8f9d39f5-1fea-4218-a626-689dd193f35a"
      },
      "execution_count": null,
      "outputs": [
        {
          "output_type": "execute_result",
          "data": {
            "text/plain": [
              "False"
            ]
          },
          "metadata": {},
          "execution_count": 64
        }
      ]
    },
    {
      "cell_type": "code",
      "source": [
        "#===Write your code below and save the output as `sim_zh_ents`.===#\n",
        "\n",
        "\n",
        "# sim_zh_ents ="
      ],
      "metadata": {
        "colab": {
          "base_uri": "https://localhost:8080/"
        },
        "id": "XMnHvEMsFM_7",
        "outputId": "02a2d98f-b5cb-4eaa-82b4-2a038df4c621"
      },
      "execution_count": null,
      "outputs": [
        {
          "output_type": "execute_result",
          "data": {
            "text/plain": [
              "[('三八二例', 'CARDINAL'),\n",
              " ('十九', 'CARDINAL'),\n",
              " ('五百', 'CARDINAL'),\n",
              " ('陈时中', 'PERSON'),\n",
              " ('一至两个月', 'DATE'),\n",
              " ('内达', 'GPE'),\n",
              " ('六月', 'DATE'),\n",
              " ('底且', 'PERSON'),\n",
              " ('周拟', 'PERSON'),\n",
              " ('十四县', 'CARDINAL'),\n",
              " ('陈时', 'PERSON'),\n",
              " ('下周', 'DATE'),\n",
              " ('教育部', 'ORG'),\n",
              " ('韩国', 'GPE'),\n",
              " ('纽西兰', 'GPE'),\n",
              " ('香港', 'GPE'),\n",
              " ('一千五百例', 'CARDINAL'),\n",
              " ('蔡英文', 'PERSON'),\n",
              " ('一千五百人', 'CARDINAL'),\n",
              " ('新北', 'GPE'),\n",
              " ('赖惠员', 'PERSON'),\n",
              " ('蒋万安昨于卫环委员会', 'ORG'),\n",
              " ('台北', 'GPE'),\n",
              " ('柯文哲', 'PERSON'),\n",
              " ('昨晚', 'TIME'),\n",
              " ('北市', 'GPE'),\n",
              " ('旅馆量', 'GPE'),\n",
              " ('近万', 'CARDINAL'),\n",
              " ('监察院', 'ORG'),\n",
              " ('总统府', 'ORG'),\n",
              " ('台北市议会', 'ORG'),\n",
              " ('确诊者', 'FAC'),\n",
              " ('中南', 'LOC'),\n",
              " ('一四九', 'CARDINAL'),\n",
              " ('七十八', 'CARDINAL'),\n",
              " ('越南', 'GPE'),\n",
              " ('十七', 'CARDINAL'),\n",
              " ('约落', 'PERSON'),\n",
              " ('四％到', 'DATE'),\n",
              " ('五％', 'CARDINAL'),\n",
              " ('越南航空、越捷航空', 'ORG'),\n",
              " ('越竹航空', 'ORG'),\n",
              " ('六小时', 'TIME')]"
            ]
          },
          "metadata": {},
          "execution_count": 67
        }
      ]
    },
    {
      "cell_type": "markdown",
      "source": [
        "Evaluate whether `zh_ents` is equal to `sim_zh_ents`."
      ],
      "metadata": {
        "id": "i2h24d8dHJiD"
      }
    },
    {
      "cell_type": "code",
      "source": [
        "# zh_ents == sim_zh_ents"
      ],
      "metadata": {
        "colab": {
          "base_uri": "https://localhost:8080/"
        },
        "id": "m8VTxRwWFjX-",
        "outputId": "67fc5b92-0e95-4295-e1bd-6c06156557a6"
      },
      "execution_count": null,
      "outputs": [
        {
          "output_type": "execute_result",
          "data": {
            "text/plain": [
              "False"
            ]
          },
          "metadata": {},
          "execution_count": 68
        }
      ]
    }
  ],
  "metadata": {
    "kernelspec": {
      "display_name": "Python 3",
      "language": "python",
      "name": "python3"
    },
    "language_info": {
      "codemirror_mode": {
        "name": "ipython",
        "version": 3
      },
      "file_extension": ".py",
      "mimetype": "text/x-python",
      "name": "python",
      "nbconvert_exporter": "python",
      "pygments_lexer": "ipython3",
      "version": "3.6.3"
    },
    "colab": {
      "name": "W01-use-pretrained-models.ipynb",
      "provenance": [],
      "collapsed_sections": [],
      "toc_visible": true,
      "include_colab_link": true
    },
    "widgets": {
      "application/vnd.jupyter.widget-state+json": {
        "8bf2e099b10b4346bdc739ec7effc4fc": {
          "model_module": "@jupyter-widgets/controls",
          "model_name": "HBoxModel",
          "model_module_version": "1.5.0",
          "state": {
            "_dom_classes": [],
            "_model_module": "@jupyter-widgets/controls",
            "_model_module_version": "1.5.0",
            "_model_name": "HBoxModel",
            "_view_count": null,
            "_view_module": "@jupyter-widgets/controls",
            "_view_module_version": "1.5.0",
            "_view_name": "HBoxView",
            "box_style": "",
            "children": [
              "IPY_MODEL_8595cf895583400895ddc5079ba3e397",
              "IPY_MODEL_4f71412fd2754da6b61f176f03a03984",
              "IPY_MODEL_fb34814e1c4d4901b6ec55aa95b9f261"
            ],
            "layout": "IPY_MODEL_cafe3d6c0b1a4a4b88f610e5b726b38e"
          }
        },
        "8595cf895583400895ddc5079ba3e397": {
          "model_module": "@jupyter-widgets/controls",
          "model_name": "HTMLModel",
          "model_module_version": "1.5.0",
          "state": {
            "_dom_classes": [],
            "_model_module": "@jupyter-widgets/controls",
            "_model_module_version": "1.5.0",
            "_model_name": "HTMLModel",
            "_view_count": null,
            "_view_module": "@jupyter-widgets/controls",
            "_view_module_version": "1.5.0",
            "_view_name": "HTMLView",
            "description": "",
            "description_tooltip": null,
            "layout": "IPY_MODEL_7ae5b50ed23446df82c389ac692a7ac9",
            "placeholder": "​",
            "style": "IPY_MODEL_bf476254ec084c6fa6e4e63a758c368c",
            "value": "Downloading https://raw.githubusercontent.com/stanfordnlp/stanza-resources/main/resources_1.3.0.json: "
          }
        },
        "4f71412fd2754da6b61f176f03a03984": {
          "model_module": "@jupyter-widgets/controls",
          "model_name": "FloatProgressModel",
          "model_module_version": "1.5.0",
          "state": {
            "_dom_classes": [],
            "_model_module": "@jupyter-widgets/controls",
            "_model_module_version": "1.5.0",
            "_model_name": "FloatProgressModel",
            "_view_count": null,
            "_view_module": "@jupyter-widgets/controls",
            "_view_module_version": "1.5.0",
            "_view_name": "ProgressView",
            "bar_style": "success",
            "description": "",
            "description_tooltip": null,
            "layout": "IPY_MODEL_174d60b8705f4f9e83cba4719e0536c4",
            "max": 24459,
            "min": 0,
            "orientation": "horizontal",
            "style": "IPY_MODEL_fec47f060fd147218ff6def51d80de12",
            "value": 24459
          }
        },
        "fb34814e1c4d4901b6ec55aa95b9f261": {
          "model_module": "@jupyter-widgets/controls",
          "model_name": "HTMLModel",
          "model_module_version": "1.5.0",
          "state": {
            "_dom_classes": [],
            "_model_module": "@jupyter-widgets/controls",
            "_model_module_version": "1.5.0",
            "_model_name": "HTMLModel",
            "_view_count": null,
            "_view_module": "@jupyter-widgets/controls",
            "_view_module_version": "1.5.0",
            "_view_name": "HTMLView",
            "description": "",
            "description_tooltip": null,
            "layout": "IPY_MODEL_da5097f12d3d47c3b2fea7f5cc10d26a",
            "placeholder": "​",
            "style": "IPY_MODEL_c2e9f1758f0048e9a355b9caa919d319",
            "value": " 142k/? [00:00&lt;00:00, 1.99MB/s]"
          }
        },
        "cafe3d6c0b1a4a4b88f610e5b726b38e": {
          "model_module": "@jupyter-widgets/base",
          "model_name": "LayoutModel",
          "model_module_version": "1.2.0",
          "state": {
            "_model_module": "@jupyter-widgets/base",
            "_model_module_version": "1.2.0",
            "_model_name": "LayoutModel",
            "_view_count": null,
            "_view_module": "@jupyter-widgets/base",
            "_view_module_version": "1.2.0",
            "_view_name": "LayoutView",
            "align_content": null,
            "align_items": null,
            "align_self": null,
            "border": null,
            "bottom": null,
            "display": null,
            "flex": null,
            "flex_flow": null,
            "grid_area": null,
            "grid_auto_columns": null,
            "grid_auto_flow": null,
            "grid_auto_rows": null,
            "grid_column": null,
            "grid_gap": null,
            "grid_row": null,
            "grid_template_areas": null,
            "grid_template_columns": null,
            "grid_template_rows": null,
            "height": null,
            "justify_content": null,
            "justify_items": null,
            "left": null,
            "margin": null,
            "max_height": null,
            "max_width": null,
            "min_height": null,
            "min_width": null,
            "object_fit": null,
            "object_position": null,
            "order": null,
            "overflow": null,
            "overflow_x": null,
            "overflow_y": null,
            "padding": null,
            "right": null,
            "top": null,
            "visibility": null,
            "width": null
          }
        },
        "7ae5b50ed23446df82c389ac692a7ac9": {
          "model_module": "@jupyter-widgets/base",
          "model_name": "LayoutModel",
          "model_module_version": "1.2.0",
          "state": {
            "_model_module": "@jupyter-widgets/base",
            "_model_module_version": "1.2.0",
            "_model_name": "LayoutModel",
            "_view_count": null,
            "_view_module": "@jupyter-widgets/base",
            "_view_module_version": "1.2.0",
            "_view_name": "LayoutView",
            "align_content": null,
            "align_items": null,
            "align_self": null,
            "border": null,
            "bottom": null,
            "display": null,
            "flex": null,
            "flex_flow": null,
            "grid_area": null,
            "grid_auto_columns": null,
            "grid_auto_flow": null,
            "grid_auto_rows": null,
            "grid_column": null,
            "grid_gap": null,
            "grid_row": null,
            "grid_template_areas": null,
            "grid_template_columns": null,
            "grid_template_rows": null,
            "height": null,
            "justify_content": null,
            "justify_items": null,
            "left": null,
            "margin": null,
            "max_height": null,
            "max_width": null,
            "min_height": null,
            "min_width": null,
            "object_fit": null,
            "object_position": null,
            "order": null,
            "overflow": null,
            "overflow_x": null,
            "overflow_y": null,
            "padding": null,
            "right": null,
            "top": null,
            "visibility": null,
            "width": null
          }
        },
        "bf476254ec084c6fa6e4e63a758c368c": {
          "model_module": "@jupyter-widgets/controls",
          "model_name": "DescriptionStyleModel",
          "model_module_version": "1.5.0",
          "state": {
            "_model_module": "@jupyter-widgets/controls",
            "_model_module_version": "1.5.0",
            "_model_name": "DescriptionStyleModel",
            "_view_count": null,
            "_view_module": "@jupyter-widgets/base",
            "_view_module_version": "1.2.0",
            "_view_name": "StyleView",
            "description_width": ""
          }
        },
        "174d60b8705f4f9e83cba4719e0536c4": {
          "model_module": "@jupyter-widgets/base",
          "model_name": "LayoutModel",
          "model_module_version": "1.2.0",
          "state": {
            "_model_module": "@jupyter-widgets/base",
            "_model_module_version": "1.2.0",
            "_model_name": "LayoutModel",
            "_view_count": null,
            "_view_module": "@jupyter-widgets/base",
            "_view_module_version": "1.2.0",
            "_view_name": "LayoutView",
            "align_content": null,
            "align_items": null,
            "align_self": null,
            "border": null,
            "bottom": null,
            "display": null,
            "flex": null,
            "flex_flow": null,
            "grid_area": null,
            "grid_auto_columns": null,
            "grid_auto_flow": null,
            "grid_auto_rows": null,
            "grid_column": null,
            "grid_gap": null,
            "grid_row": null,
            "grid_template_areas": null,
            "grid_template_columns": null,
            "grid_template_rows": null,
            "height": null,
            "justify_content": null,
            "justify_items": null,
            "left": null,
            "margin": null,
            "max_height": null,
            "max_width": null,
            "min_height": null,
            "min_width": null,
            "object_fit": null,
            "object_position": null,
            "order": null,
            "overflow": null,
            "overflow_x": null,
            "overflow_y": null,
            "padding": null,
            "right": null,
            "top": null,
            "visibility": null,
            "width": null
          }
        },
        "fec47f060fd147218ff6def51d80de12": {
          "model_module": "@jupyter-widgets/controls",
          "model_name": "ProgressStyleModel",
          "model_module_version": "1.5.0",
          "state": {
            "_model_module": "@jupyter-widgets/controls",
            "_model_module_version": "1.5.0",
            "_model_name": "ProgressStyleModel",
            "_view_count": null,
            "_view_module": "@jupyter-widgets/base",
            "_view_module_version": "1.2.0",
            "_view_name": "StyleView",
            "bar_color": null,
            "description_width": ""
          }
        },
        "da5097f12d3d47c3b2fea7f5cc10d26a": {
          "model_module": "@jupyter-widgets/base",
          "model_name": "LayoutModel",
          "model_module_version": "1.2.0",
          "state": {
            "_model_module": "@jupyter-widgets/base",
            "_model_module_version": "1.2.0",
            "_model_name": "LayoutModel",
            "_view_count": null,
            "_view_module": "@jupyter-widgets/base",
            "_view_module_version": "1.2.0",
            "_view_name": "LayoutView",
            "align_content": null,
            "align_items": null,
            "align_self": null,
            "border": null,
            "bottom": null,
            "display": null,
            "flex": null,
            "flex_flow": null,
            "grid_area": null,
            "grid_auto_columns": null,
            "grid_auto_flow": null,
            "grid_auto_rows": null,
            "grid_column": null,
            "grid_gap": null,
            "grid_row": null,
            "grid_template_areas": null,
            "grid_template_columns": null,
            "grid_template_rows": null,
            "height": null,
            "justify_content": null,
            "justify_items": null,
            "left": null,
            "margin": null,
            "max_height": null,
            "max_width": null,
            "min_height": null,
            "min_width": null,
            "object_fit": null,
            "object_position": null,
            "order": null,
            "overflow": null,
            "overflow_x": null,
            "overflow_y": null,
            "padding": null,
            "right": null,
            "top": null,
            "visibility": null,
            "width": null
          }
        },
        "c2e9f1758f0048e9a355b9caa919d319": {
          "model_module": "@jupyter-widgets/controls",
          "model_name": "DescriptionStyleModel",
          "model_module_version": "1.5.0",
          "state": {
            "_model_module": "@jupyter-widgets/controls",
            "_model_module_version": "1.5.0",
            "_model_name": "DescriptionStyleModel",
            "_view_count": null,
            "_view_module": "@jupyter-widgets/base",
            "_view_module_version": "1.2.0",
            "_view_name": "StyleView",
            "description_width": ""
          }
        }
      }
    }
  },
  "nbformat": 4,
  "nbformat_minor": 0
}