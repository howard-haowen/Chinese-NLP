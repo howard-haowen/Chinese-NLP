{
  "cells": [
    {
      "cell_type": "markdown",
      "metadata": {
        "id": "view-in-github",
        "colab_type": "text"
      },
      "source": [
        "<a href=\"https://colab.research.google.com/github/howard-haowen/NLP-demos/blob/main/train_FAQ_model_with_spaCy.ipynb\" target=\"_parent\"><img src=\"https://colab.research.google.com/assets/colab-badge.svg\" alt=\"Open In Colab\"/></a>"
      ]
    },
    {
      "cell_type": "markdown",
      "source": [
        "# Download a model"
      ],
      "metadata": {
        "id": "Hpg_AqsVh-uW"
      }
    },
    {
      "cell_type": "code",
      "source": [
        "!pip install -q spacy"
      ],
      "metadata": {
        "id": "RNNbvxygh3Wz"
      },
      "execution_count": 1,
      "outputs": []
    },
    {
      "cell_type": "code",
      "source": [
        "!python -m spacy download en_core_web_md"
      ],
      "metadata": {
        "colab": {
          "base_uri": "https://localhost:8080/"
        },
        "id": "ZTIqyxpeTs7B",
        "outputId": "14a0c3dc-cfba-4fa2-b198-fe0600124bde"
      },
      "execution_count": 2,
      "outputs": [
        {
          "output_type": "stream",
          "name": "stdout",
          "text": [
            "/usr/local/lib/python3.8/dist-packages/torch/cuda/__init__.py:497: UserWarning: Can't initialize NVML\n",
            "  warnings.warn(\"Can't initialize NVML\")\n",
            "2023-03-05 15:31:12.361275: I tensorflow/core/platform/cpu_feature_guard.cc:193] This TensorFlow binary is optimized with oneAPI Deep Neural Network Library (oneDNN) to use the following CPU instructions in performance-critical operations:  AVX2 FMA\n",
            "To enable them in other operations, rebuild TensorFlow with the appropriate compiler flags.\n",
            "2023-03-05 15:31:16.674066: W tensorflow/compiler/xla/stream_executor/platform/default/dso_loader.cc:64] Could not load dynamic library 'libnvinfer.so.7'; dlerror: libnvinfer.so.7: cannot open shared object file: No such file or directory; LD_LIBRARY_PATH: /usr/local/nvidia/lib:/usr/local/nvidia/lib64\n",
            "2023-03-05 15:31:16.674243: W tensorflow/compiler/xla/stream_executor/platform/default/dso_loader.cc:64] Could not load dynamic library 'libnvinfer_plugin.so.7'; dlerror: libnvinfer_plugin.so.7: cannot open shared object file: No such file or directory; LD_LIBRARY_PATH: /usr/local/nvidia/lib:/usr/local/nvidia/lib64\n",
            "2023-03-05 15:31:16.674271: W tensorflow/compiler/tf2tensorrt/utils/py_utils.cc:38] TF-TRT Warning: Cannot dlopen some TensorRT libraries. If you would like to use Nvidia GPU with TensorRT, please make sure the missing libraries mentioned above are installed properly.\n",
            "2023-03-05 15:31:22.030803: E tensorflow/compiler/xla/stream_executor/cuda/cuda_driver.cc:267] failed call to cuInit: CUDA_ERROR_NO_DEVICE: no CUDA-capable device is detected\n",
            "Looking in indexes: https://pypi.org/simple, https://us-python.pkg.dev/colab-wheels/public/simple/\n",
            "Collecting en-core-web-md==3.4.1\n",
            "  Downloading https://github.com/explosion/spacy-models/releases/download/en_core_web_md-3.4.1/en_core_web_md-3.4.1-py3-none-any.whl (42.8 MB)\n",
            "\u001b[2K     \u001b[90m━━━━━━━━━━━━━━━━━━━━━━━━━━━━━━━━━━━━━━━━\u001b[0m \u001b[32m42.8/42.8 MB\u001b[0m \u001b[31m14.6 MB/s\u001b[0m eta \u001b[36m0:00:00\u001b[0m\n",
            "\u001b[?25hRequirement already satisfied: spacy<3.5.0,>=3.4.0 in /usr/local/lib/python3.8/dist-packages (from en-core-web-md==3.4.1) (3.4.4)\n",
            "Requirement already satisfied: catalogue<2.1.0,>=2.0.6 in /usr/local/lib/python3.8/dist-packages (from spacy<3.5.0,>=3.4.0->en-core-web-md==3.4.1) (2.0.8)\n",
            "Requirement already satisfied: spacy-legacy<3.1.0,>=3.0.10 in /usr/local/lib/python3.8/dist-packages (from spacy<3.5.0,>=3.4.0->en-core-web-md==3.4.1) (3.0.12)\n",
            "Requirement already satisfied: murmurhash<1.1.0,>=0.28.0 in /usr/local/lib/python3.8/dist-packages (from spacy<3.5.0,>=3.4.0->en-core-web-md==3.4.1) (1.0.9)\n",
            "Requirement already satisfied: preshed<3.1.0,>=3.0.2 in /usr/local/lib/python3.8/dist-packages (from spacy<3.5.0,>=3.4.0->en-core-web-md==3.4.1) (3.0.8)\n",
            "Requirement already satisfied: thinc<8.2.0,>=8.1.0 in /usr/local/lib/python3.8/dist-packages (from spacy<3.5.0,>=3.4.0->en-core-web-md==3.4.1) (8.1.7)\n",
            "Requirement already satisfied: numpy>=1.15.0 in /usr/local/lib/python3.8/dist-packages (from spacy<3.5.0,>=3.4.0->en-core-web-md==3.4.1) (1.22.4)\n",
            "Requirement already satisfied: wasabi<1.1.0,>=0.9.1 in /usr/local/lib/python3.8/dist-packages (from spacy<3.5.0,>=3.4.0->en-core-web-md==3.4.1) (0.10.1)\n",
            "Requirement already satisfied: pathy>=0.3.5 in /usr/local/lib/python3.8/dist-packages (from spacy<3.5.0,>=3.4.0->en-core-web-md==3.4.1) (0.10.1)\n",
            "Requirement already satisfied: tqdm<5.0.0,>=4.38.0 in /usr/local/lib/python3.8/dist-packages (from spacy<3.5.0,>=3.4.0->en-core-web-md==3.4.1) (4.64.1)\n",
            "Requirement already satisfied: pydantic!=1.8,!=1.8.1,<1.11.0,>=1.7.4 in /usr/local/lib/python3.8/dist-packages (from spacy<3.5.0,>=3.4.0->en-core-web-md==3.4.1) (1.10.5)\n",
            "Requirement already satisfied: langcodes<4.0.0,>=3.2.0 in /usr/local/lib/python3.8/dist-packages (from spacy<3.5.0,>=3.4.0->en-core-web-md==3.4.1) (3.3.0)\n",
            "Requirement already satisfied: packaging>=20.0 in /usr/local/lib/python3.8/dist-packages (from spacy<3.5.0,>=3.4.0->en-core-web-md==3.4.1) (23.0)\n",
            "Requirement already satisfied: typer<0.8.0,>=0.3.0 in /usr/local/lib/python3.8/dist-packages (from spacy<3.5.0,>=3.4.0->en-core-web-md==3.4.1) (0.7.0)\n",
            "Requirement already satisfied: spacy-loggers<2.0.0,>=1.0.0 in /usr/local/lib/python3.8/dist-packages (from spacy<3.5.0,>=3.4.0->en-core-web-md==3.4.1) (1.0.4)\n",
            "Requirement already satisfied: jinja2 in /usr/local/lib/python3.8/dist-packages (from spacy<3.5.0,>=3.4.0->en-core-web-md==3.4.1) (3.1.2)\n",
            "Requirement already satisfied: cymem<2.1.0,>=2.0.2 in /usr/local/lib/python3.8/dist-packages (from spacy<3.5.0,>=3.4.0->en-core-web-md==3.4.1) (2.0.7)\n",
            "Requirement already satisfied: srsly<3.0.0,>=2.4.3 in /usr/local/lib/python3.8/dist-packages (from spacy<3.5.0,>=3.4.0->en-core-web-md==3.4.1) (2.4.6)\n",
            "Requirement already satisfied: setuptools in /usr/local/lib/python3.8/dist-packages (from spacy<3.5.0,>=3.4.0->en-core-web-md==3.4.1) (57.4.0)\n",
            "Requirement already satisfied: requests<3.0.0,>=2.13.0 in /usr/local/lib/python3.8/dist-packages (from spacy<3.5.0,>=3.4.0->en-core-web-md==3.4.1) (2.25.1)\n",
            "Requirement already satisfied: smart-open<7.0.0,>=5.2.1 in /usr/local/lib/python3.8/dist-packages (from spacy<3.5.0,>=3.4.0->en-core-web-md==3.4.1) (6.3.0)\n",
            "Requirement already satisfied: typing-extensions>=4.2.0 in /usr/local/lib/python3.8/dist-packages (from pydantic!=1.8,!=1.8.1,<1.11.0,>=1.7.4->spacy<3.5.0,>=3.4.0->en-core-web-md==3.4.1) (4.5.0)\n",
            "Requirement already satisfied: certifi>=2017.4.17 in /usr/local/lib/python3.8/dist-packages (from requests<3.0.0,>=2.13.0->spacy<3.5.0,>=3.4.0->en-core-web-md==3.4.1) (2022.12.7)\n",
            "Requirement already satisfied: chardet<5,>=3.0.2 in /usr/local/lib/python3.8/dist-packages (from requests<3.0.0,>=2.13.0->spacy<3.5.0,>=3.4.0->en-core-web-md==3.4.1) (4.0.0)\n",
            "Requirement already satisfied: urllib3<1.27,>=1.21.1 in /usr/local/lib/python3.8/dist-packages (from requests<3.0.0,>=2.13.0->spacy<3.5.0,>=3.4.0->en-core-web-md==3.4.1) (1.26.14)\n",
            "Requirement already satisfied: idna<3,>=2.5 in /usr/local/lib/python3.8/dist-packages (from requests<3.0.0,>=2.13.0->spacy<3.5.0,>=3.4.0->en-core-web-md==3.4.1) (2.10)\n",
            "Requirement already satisfied: confection<1.0.0,>=0.0.1 in /usr/local/lib/python3.8/dist-packages (from thinc<8.2.0,>=8.1.0->spacy<3.5.0,>=3.4.0->en-core-web-md==3.4.1) (0.0.4)\n",
            "Requirement already satisfied: blis<0.8.0,>=0.7.8 in /usr/local/lib/python3.8/dist-packages (from thinc<8.2.0,>=8.1.0->spacy<3.5.0,>=3.4.0->en-core-web-md==3.4.1) (0.7.9)\n",
            "Requirement already satisfied: click<9.0.0,>=7.1.1 in /usr/local/lib/python3.8/dist-packages (from typer<0.8.0,>=0.3.0->spacy<3.5.0,>=3.4.0->en-core-web-md==3.4.1) (8.1.3)\n",
            "Requirement already satisfied: MarkupSafe>=2.0 in /usr/local/lib/python3.8/dist-packages (from jinja2->spacy<3.5.0,>=3.4.0->en-core-web-md==3.4.1) (2.1.2)\n",
            "Installing collected packages: en-core-web-md\n",
            "Successfully installed en-core-web-md-3.4.1\n",
            "\u001b[38;5;2m✔ Download and installation successful\u001b[0m\n",
            "You can now load the package via spacy.load('en_core_web_md')\n"
          ]
        }
      ]
    },
    {
      "cell_type": "markdown",
      "source": [
        "# Load a model"
      ],
      "metadata": {
        "id": "0ybi2PIPiFFv"
      }
    },
    {
      "cell_type": "code",
      "source": [
        "import spacy"
      ],
      "metadata": {
        "id": "gI7nLclph7t0",
        "colab": {
          "base_uri": "https://localhost:8080/"
        },
        "outputId": "0285572d-ec70-4afc-fdd7-47d2ec45f42e"
      },
      "execution_count": 3,
      "outputs": [
        {
          "output_type": "stream",
          "name": "stderr",
          "text": [
            "/usr/local/lib/python3.8/dist-packages/torch/cuda/__init__.py:497: UserWarning: Can't initialize NVML\n",
            "  warnings.warn(\"Can't initialize NVML\")\n"
          ]
        }
      ]
    },
    {
      "cell_type": "code",
      "source": [
        "nlp = spacy.load(\"en_core_web_md\")\n",
        "nlp.pipe_names"
      ],
      "metadata": {
        "colab": {
          "base_uri": "https://localhost:8080/"
        },
        "id": "SwroFOI-iC77",
        "outputId": "43ed4f98-d0ec-4751-de9c-6873978eb2d7"
      },
      "execution_count": 4,
      "outputs": [
        {
          "output_type": "execute_result",
          "data": {
            "text/plain": [
              "['tok2vec', 'tagger', 'parser', 'attribute_ruler', 'lemmatizer', 'ner']"
            ]
          },
          "metadata": {},
          "execution_count": 4
        }
      ]
    },
    {
      "cell_type": "markdown",
      "source": [
        "# Load a dataset"
      ],
      "metadata": {
        "id": "y-KmhGiabEz-"
      }
    },
    {
      "cell_type": "code",
      "source": [
        "!wget https://download.microsoft.com/download/A/A/9/AA9C9802-B448-4361-89E0-DBF24D5A5C2C/WikiQACodePackage.zip\n",
        "!unzip WikiQACodePackage.zip"
      ],
      "metadata": {
        "colab": {
          "base_uri": "https://localhost:8080/"
        },
        "id": "tYRKkeUIXFja",
        "outputId": "bf6519d9-5020-4944-a54e-a5350736f37d"
      },
      "execution_count": 5,
      "outputs": [
        {
          "output_type": "stream",
          "name": "stdout",
          "text": [
            "--2023-03-05 15:31:47--  https://download.microsoft.com/download/A/A/9/AA9C9802-B448-4361-89E0-DBF24D5A5C2C/WikiQACodePackage.zip\n",
            "Resolving download.microsoft.com (download.microsoft.com)... 69.192.209.23, 2600:1407:3c00:397::317f, 2600:1407:3c00:398::317f\n",
            "Connecting to download.microsoft.com (download.microsoft.com)|69.192.209.23|:443... connected.\n",
            "HTTP request sent, awaiting response... 200 OK\n",
            "Length: 2072275 (2.0M) [application/octet-stream]\n",
            "Saving to: ‘WikiQACodePackage.zip.1’\n",
            "\n",
            "WikiQACodePackage.z 100%[===================>]   1.98M  --.-KB/s    in 0.08s   \n",
            "\n",
            "2023-03-05 15:31:48 (24.1 MB/s) - ‘WikiQACodePackage.zip.1’ saved [2072275/2072275]\n",
            "\n",
            "Archive:  WikiQACodePackage.zip\n",
            "replace WikiQACodePackage/code/go_trec.sh? [y]es, [n]o, [A]ll, [N]one, [r]ename: "
          ]
        }
      ]
    },
    {
      "cell_type": "code",
      "source": [
        "import pandas as pd"
      ],
      "metadata": {
        "id": "5PIsoodCXWDK"
      },
      "execution_count": 6,
      "outputs": []
    },
    {
      "cell_type": "code",
      "source": [
        "def create_faq_format(input_path):\n",
        "    faq_list = []\n",
        "    \n",
        "    with open(input_path) as f:\n",
        "        lines = [line.strip('\\n') for line in f]\n",
        "    for i in range(2, len(lines)):\n",
        "        l = lines[i].split('\\t')\n",
        "        if l[2]==\"1\":\n",
        "            faq_list.append({\"Question\":l[0],\"Answer\":l[1]})\n",
        "                \n",
        "    return faq_list\n",
        "    \n",
        "qa_list = create_faq_format(\"WikiQACodePackage/data/wiki/WikiQASent-train.txt\")\n",
        "df = pd.DataFrame(qa_list, columns=[\"Question\",\"Answer\"])\n",
        "df = df.drop_duplicates(subset='Question', keep=\"first\")"
      ],
      "metadata": {
        "id": "KBjMEW9FXXOt"
      },
      "execution_count": 7,
      "outputs": []
    },
    {
      "cell_type": "code",
      "source": [
        "df"
      ],
      "metadata": {
        "colab": {
          "base_uri": "https://localhost:8080/",
          "height": 624
        },
        "id": "uyLHcudIXluq",
        "outputId": "86d8f67d-247d-4e46-9f5b-3d0efb5fc217"
      },
      "execution_count": 11,
      "outputs": [
        {
          "output_type": "execute_result",
          "data": {
            "text/plain": [
              "                                               Question  \\\n",
              "0                        how are glacier caves formed ?   \n",
              "1                     how much is 1 tablespoon of water   \n",
              "4            how much are the harry potter movies worth   \n",
              "5                             how a rocket engine works   \n",
              "6     how are cholera and typhus transmitted and pre...   \n",
              "...                                                 ...   \n",
              "1032                     what is melissa and joey about   \n",
              "1033                      What is an economic feature ?   \n",
              "1036                what is the average american income   \n",
              "1037                    When was Apple Computer founded   \n",
              "1038                      what is section eight housing   \n",
              "\n",
              "                                                 Answer  \n",
              "0     A glacier cave is a cave formed within the ice...  \n",
              "1       This tablespoon has a capacity of about 15 mL .  \n",
              "4     The series also originated much tie-in merchan...  \n",
              "5     A rocket engine , or simply `` rocket '' , is ...  \n",
              "6     Transmission occurs primarily by drinking wate...  \n",
              "...                                                 ...  \n",
              "1032  The series follows local politician Mel Burke ...  \n",
              "1033  Other broad distinctions include those between...  \n",
              "1036  U.S. median household income fell from $ 51,14...  \n",
              "1037  The company was founded on April 1 , 1976 , an...  \n",
              "1038  Section 8 of the Housing Act of 1937 ( ) , oft...  \n",
              "\n",
              "[873 rows x 2 columns]"
            ],
            "text/html": [
              "\n",
              "  <div id=\"df-a5ec7f24-26c4-4a67-9e39-bd24fe94ad4b\">\n",
              "    <div class=\"colab-df-container\">\n",
              "      <div>\n",
              "<style scoped>\n",
              "    .dataframe tbody tr th:only-of-type {\n",
              "        vertical-align: middle;\n",
              "    }\n",
              "\n",
              "    .dataframe tbody tr th {\n",
              "        vertical-align: top;\n",
              "    }\n",
              "\n",
              "    .dataframe thead th {\n",
              "        text-align: right;\n",
              "    }\n",
              "</style>\n",
              "<table border=\"1\" class=\"dataframe\">\n",
              "  <thead>\n",
              "    <tr style=\"text-align: right;\">\n",
              "      <th></th>\n",
              "      <th>Question</th>\n",
              "      <th>Answer</th>\n",
              "    </tr>\n",
              "  </thead>\n",
              "  <tbody>\n",
              "    <tr>\n",
              "      <th>0</th>\n",
              "      <td>how are glacier caves formed ?</td>\n",
              "      <td>A glacier cave is a cave formed within the ice...</td>\n",
              "    </tr>\n",
              "    <tr>\n",
              "      <th>1</th>\n",
              "      <td>how much is 1 tablespoon of water</td>\n",
              "      <td>This tablespoon has a capacity of about 15 mL .</td>\n",
              "    </tr>\n",
              "    <tr>\n",
              "      <th>4</th>\n",
              "      <td>how much are the harry potter movies worth</td>\n",
              "      <td>The series also originated much tie-in merchan...</td>\n",
              "    </tr>\n",
              "    <tr>\n",
              "      <th>5</th>\n",
              "      <td>how a rocket engine works</td>\n",
              "      <td>A rocket engine , or simply `` rocket '' , is ...</td>\n",
              "    </tr>\n",
              "    <tr>\n",
              "      <th>6</th>\n",
              "      <td>how are cholera and typhus transmitted and pre...</td>\n",
              "      <td>Transmission occurs primarily by drinking wate...</td>\n",
              "    </tr>\n",
              "    <tr>\n",
              "      <th>...</th>\n",
              "      <td>...</td>\n",
              "      <td>...</td>\n",
              "    </tr>\n",
              "    <tr>\n",
              "      <th>1032</th>\n",
              "      <td>what is melissa and joey about</td>\n",
              "      <td>The series follows local politician Mel Burke ...</td>\n",
              "    </tr>\n",
              "    <tr>\n",
              "      <th>1033</th>\n",
              "      <td>What is an economic feature ?</td>\n",
              "      <td>Other broad distinctions include those between...</td>\n",
              "    </tr>\n",
              "    <tr>\n",
              "      <th>1036</th>\n",
              "      <td>what is the average american income</td>\n",
              "      <td>U.S. median household income fell from $ 51,14...</td>\n",
              "    </tr>\n",
              "    <tr>\n",
              "      <th>1037</th>\n",
              "      <td>When was Apple Computer founded</td>\n",
              "      <td>The company was founded on April 1 , 1976 , an...</td>\n",
              "    </tr>\n",
              "    <tr>\n",
              "      <th>1038</th>\n",
              "      <td>what is section eight housing</td>\n",
              "      <td>Section 8 of the Housing Act of 1937 ( ) , oft...</td>\n",
              "    </tr>\n",
              "  </tbody>\n",
              "</table>\n",
              "<p>873 rows × 2 columns</p>\n",
              "</div>\n",
              "      <button class=\"colab-df-convert\" onclick=\"convertToInteractive('df-a5ec7f24-26c4-4a67-9e39-bd24fe94ad4b')\"\n",
              "              title=\"Convert this dataframe to an interactive table.\"\n",
              "              style=\"display:none;\">\n",
              "        \n",
              "  <svg xmlns=\"http://www.w3.org/2000/svg\" height=\"24px\"viewBox=\"0 0 24 24\"\n",
              "       width=\"24px\">\n",
              "    <path d=\"M0 0h24v24H0V0z\" fill=\"none\"/>\n",
              "    <path d=\"M18.56 5.44l.94 2.06.94-2.06 2.06-.94-2.06-.94-.94-2.06-.94 2.06-2.06.94zm-11 1L8.5 8.5l.94-2.06 2.06-.94-2.06-.94L8.5 2.5l-.94 2.06-2.06.94zm10 10l.94 2.06.94-2.06 2.06-.94-2.06-.94-.94-2.06-.94 2.06-2.06.94z\"/><path d=\"M17.41 7.96l-1.37-1.37c-.4-.4-.92-.59-1.43-.59-.52 0-1.04.2-1.43.59L10.3 9.45l-7.72 7.72c-.78.78-.78 2.05 0 2.83L4 21.41c.39.39.9.59 1.41.59.51 0 1.02-.2 1.41-.59l7.78-7.78 2.81-2.81c.8-.78.8-2.07 0-2.86zM5.41 20L4 18.59l7.72-7.72 1.47 1.35L5.41 20z\"/>\n",
              "  </svg>\n",
              "      </button>\n",
              "      \n",
              "  <style>\n",
              "    .colab-df-container {\n",
              "      display:flex;\n",
              "      flex-wrap:wrap;\n",
              "      gap: 12px;\n",
              "    }\n",
              "\n",
              "    .colab-df-convert {\n",
              "      background-color: #E8F0FE;\n",
              "      border: none;\n",
              "      border-radius: 50%;\n",
              "      cursor: pointer;\n",
              "      display: none;\n",
              "      fill: #1967D2;\n",
              "      height: 32px;\n",
              "      padding: 0 0 0 0;\n",
              "      width: 32px;\n",
              "    }\n",
              "\n",
              "    .colab-df-convert:hover {\n",
              "      background-color: #E2EBFA;\n",
              "      box-shadow: 0px 1px 2px rgba(60, 64, 67, 0.3), 0px 1px 3px 1px rgba(60, 64, 67, 0.15);\n",
              "      fill: #174EA6;\n",
              "    }\n",
              "\n",
              "    [theme=dark] .colab-df-convert {\n",
              "      background-color: #3B4455;\n",
              "      fill: #D2E3FC;\n",
              "    }\n",
              "\n",
              "    [theme=dark] .colab-df-convert:hover {\n",
              "      background-color: #434B5C;\n",
              "      box-shadow: 0px 1px 3px 1px rgba(0, 0, 0, 0.15);\n",
              "      filter: drop-shadow(0px 1px 2px rgba(0, 0, 0, 0.3));\n",
              "      fill: #FFFFFF;\n",
              "    }\n",
              "  </style>\n",
              "\n",
              "      <script>\n",
              "        const buttonEl =\n",
              "          document.querySelector('#df-a5ec7f24-26c4-4a67-9e39-bd24fe94ad4b button.colab-df-convert');\n",
              "        buttonEl.style.display =\n",
              "          google.colab.kernel.accessAllowed ? 'block' : 'none';\n",
              "\n",
              "        async function convertToInteractive(key) {\n",
              "          const element = document.querySelector('#df-a5ec7f24-26c4-4a67-9e39-bd24fe94ad4b');\n",
              "          const dataTable =\n",
              "            await google.colab.kernel.invokeFunction('convertToInteractive',\n",
              "                                                     [key], {});\n",
              "          if (!dataTable) return;\n",
              "\n",
              "          const docLinkHtml = 'Like what you see? Visit the ' +\n",
              "            '<a target=\"_blank\" href=https://colab.research.google.com/notebooks/data_table.ipynb>data table notebook</a>'\n",
              "            + ' to learn more about interactive tables.';\n",
              "          element.innerHTML = '';\n",
              "          dataTable['output_type'] = 'display_data';\n",
              "          await google.colab.output.renderOutput(dataTable, element);\n",
              "          const docLink = document.createElement('div');\n",
              "          docLink.innerHTML = docLinkHtml;\n",
              "          element.appendChild(docLink);\n",
              "        }\n",
              "      </script>\n",
              "    </div>\n",
              "  </div>\n",
              "  "
            ]
          },
          "metadata": {},
          "execution_count": 11
        }
      ]
    },
    {
      "cell_type": "code",
      "source": [
        "df.loc[872, 'Question']"
      ],
      "metadata": {
        "colab": {
          "base_uri": "https://localhost:8080/",
          "height": 35
        },
        "id": "i-1FSa_OhIe8",
        "outputId": "3421ab14-6f06-49b6-9e88-e251f6148844"
      },
      "execution_count": 32,
      "outputs": [
        {
          "output_type": "execute_result",
          "data": {
            "text/plain": [
              "'what is the disease osteonecrosis of the jaw ?'"
            ],
            "application/vnd.google.colaboratory.intrinsic+json": {
              "type": "string"
            }
          },
          "metadata": {},
          "execution_count": 32
        }
      ]
    },
    {
      "cell_type": "markdown",
      "source": [
        "# Convert the dataset to spaCy objects"
      ],
      "metadata": {
        "id": "-BL3Bt0snkLY"
      }
    },
    {
      "cell_type": "code",
      "source": [
        "from spacy.tokens import Doc\n",
        "\n",
        "if not Doc.has_extension(\"answer\"):\n",
        "    Doc.set_extension(\"answer\", default=None)"
      ],
      "metadata": {
        "id": "IE66Q0MQeiIM"
      },
      "execution_count": 20,
      "outputs": []
    },
    {
      "cell_type": "code",
      "source": [
        "df.shape[0]"
      ],
      "metadata": {
        "colab": {
          "base_uri": "https://localhost:8080/"
        },
        "id": "o4HTixzDhu5h",
        "outputId": "11f8692f-7586-441a-93d8-860500321ae6"
      },
      "execution_count": 36,
      "outputs": [
        {
          "output_type": "execute_result",
          "data": {
            "text/plain": [
              "873"
            ]
          },
          "metadata": {},
          "execution_count": 36
        }
      ]
    },
    {
      "cell_type": "code",
      "source": [
        "questions = df['Question'].to_list()\n",
        "questions"
      ],
      "metadata": {
        "id": "I2ZV9ltVhhq_"
      },
      "execution_count": null,
      "outputs": []
    },
    {
      "cell_type": "code",
      "source": [
        "def convert_df2docs(df: pd.DataFrame, qcol: str, acol: str) -> list:\n",
        "    \"\"\"\n",
        "    df: The dataset in DataFrame \n",
        "    qcol: Column name for questions\n",
        "    acol: Column name for answers\n",
        "    \"\"\"\n",
        "    questions = df[qcol].to_list()\n",
        "    answers = df[acol].to_list()\n",
        "    qa_tuples = [(q, {\"answer\": a}) for q, a in zip(questions, answers)]\n",
        "    doc_tuples = nlp.pipe(qa_tuples, as_tuples=True,)\n",
        "    docs = []\n",
        "    for doc, context in doc_tuples:\n",
        "        doc._.answer = context[\"answer\"]\n",
        "        docs.append(doc)\n",
        "    return docs"
      ],
      "metadata": {
        "id": "m8mF1dpGvqoP"
      },
      "execution_count": 40,
      "outputs": []
    },
    {
      "cell_type": "code",
      "source": [
        "docs = convert_df2docs(df, 'Question', 'Answer')"
      ],
      "metadata": {
        "id": "5fO5V9Sxw9w-"
      },
      "execution_count": 41,
      "outputs": []
    },
    {
      "cell_type": "code",
      "source": [
        "q1 = docs[1]\n",
        "q1.text"
      ],
      "metadata": {
        "id": "MhsWZ_cmiWi1",
        "colab": {
          "base_uri": "https://localhost:8080/",
          "height": 35
        },
        "outputId": "1e5fe53c-fcb7-4b3d-8987-5085c328f2f3"
      },
      "execution_count": 42,
      "outputs": [
        {
          "output_type": "execute_result",
          "data": {
            "text/plain": [
              "'how much is 1 tablespoon of water'"
            ],
            "application/vnd.google.colaboratory.intrinsic+json": {
              "type": "string"
            }
          },
          "metadata": {},
          "execution_count": 42
        }
      ]
    },
    {
      "cell_type": "code",
      "source": [
        "q1._.answer"
      ],
      "metadata": {
        "colab": {
          "base_uri": "https://localhost:8080/",
          "height": 35
        },
        "id": "no7keqGhnY6N",
        "outputId": "e07237ff-5969-4e97-d0b8-d444f0b9899c"
      },
      "execution_count": 43,
      "outputs": [
        {
          "output_type": "execute_result",
          "data": {
            "text/plain": [
              "'This tablespoon has a capacity of about 15 mL .'"
            ],
            "application/vnd.google.colaboratory.intrinsic+json": {
              "type": "string"
            }
          },
          "metadata": {},
          "execution_count": 43
        }
      ]
    },
    {
      "cell_type": "code",
      "source": [
        "q1.vector"
      ],
      "metadata": {
        "colab": {
          "base_uri": "https://localhost:8080/"
        },
        "id": "CxmnhBCNchbM",
        "outputId": "a26aa105-2a7a-4903-e2e6-a2ae5941b9f9"
      },
      "execution_count": 44,
      "outputs": [
        {
          "output_type": "execute_result",
          "data": {
            "text/plain": [
              "array([ 1.0898571e-01, -8.7722576e-01, -2.6414273e+00, -2.3487136e-01,\n",
              "        4.9898944e+00, -1.5851715e+00,  8.0134708e-01,  3.9403498e+00,\n",
              "       -3.3021432e-01, -9.1020584e-01,  7.9969711e+00,  1.8998331e+00,\n",
              "       -1.0153342e+00,  3.6278853e-01, -1.7037715e-01, -2.1751431e-01,\n",
              "        2.5533772e+00,  2.0110865e+00, -1.6006700e+00, -1.9568501e+00,\n",
              "       -1.1215000e+00,  3.8781431e-01, -2.3038445e+00,  4.3978575e-01,\n",
              "       -1.5860214e+00, -1.1137357e+00,  1.6348000e+00,  3.1899378e+00,\n",
              "       -1.0150316e+00,  3.8759027e+00,  4.9552426e-01, -1.6056372e+00,\n",
              "       -8.4532130e-01, -2.6308057e+00,  4.2058426e-01, -2.8168628e+00,\n",
              "        2.5657177e-02,  3.8742044e+00,  2.5730498e+00,  2.6965156e+00,\n",
              "       -1.9868528e+00,  6.4258152e-01, -8.8113278e-01, -1.5081428e-01,\n",
              "       -2.6078515e+00,  5.4305573e+00,  3.8217087e+00, -7.2506338e-01,\n",
              "        2.2679179e+00,  3.9423904e-01, -3.3076853e-01,  1.6842000e+00,\n",
              "        1.4710844e+00, -2.9776883e+00, -9.2154139e-01, -3.6331374e-02,\n",
              "       -2.3899672e+00,  3.1531999e+00,  6.2361431e-01, -2.8572428e+00,\n",
              "        1.3602000e+00,  1.2379735e+00,  1.8023430e-01, -2.9434879e+00,\n",
              "        4.6601377e-02,  1.8716171e+00, -1.5805414e+00, -3.2019622e+00,\n",
              "        2.0898285e+00,  3.0520670e+00, -2.6233572e-01,  3.3959999e+00,\n",
              "       -4.4339471e+00,  1.0791814e+00, -2.9620957e+00,  2.0991714e+00,\n",
              "       -5.3615851e+00,  2.6675014e+00, -3.9981372e+00,  3.7382071e+00,\n",
              "       -2.5229728e+00, -2.5302145e-01, -1.8649371e+00,  4.4712001e-01,\n",
              "        1.9681243e+00,  1.5803297e-01, -3.3582141e+00, -2.4939702e+00,\n",
              "        2.5390570e+00,  6.7429000e-01, -1.4096442e+00, -4.0065852e-01,\n",
              "        2.6596172e+00, -3.1453571e+00, -1.4745702e+00, -1.2962402e+00,\n",
              "        7.8354436e-01, -3.8464141e-01, -1.4227287e+00, -2.4502747e+00,\n",
              "        3.3727887e+00, -1.9095285e+00,  2.4490397e+00,  3.6912096e+00,\n",
              "        8.7829155e-01,  3.8861041e+00, -5.2546996e-01, -1.4339371e+00,\n",
              "       -6.1858483e-02,  1.0836285e+00,  1.5729914e+00, -3.3619300e-01,\n",
              "       -2.1619323e-01,  1.2288779e+00, -3.3442017e-01,  1.8024542e+00,\n",
              "       -1.5064915e+00,  1.4930143e+00, -2.1839428e+00, -3.0497068e-01,\n",
              "       -1.9229429e+00, -5.2015573e-01, -9.9892861e-01,  7.5208431e-01,\n",
              "       -2.8533828e+00, -5.5036988e+00, -1.0635374e+00, -2.1671345e+00,\n",
              "        1.0641000e+00, -1.8010411e-02, -2.5460715e+00,  7.8018147e-01,\n",
              "        5.0470572e+00,  7.9565935e-02,  1.7613728e+00,  1.0878422e-01,\n",
              "       -4.3824294e-01, -1.2507857e+00,  1.0132573e+00, -3.1889427e+00,\n",
              "        1.0755385e+00, -4.0914997e-01,  2.5514789e+00,  2.4796500e+00,\n",
              "        1.5968473e+00, -1.3467148e-01, -4.7542405e+00, -1.3791727e+00,\n",
              "       -1.8455862e-01,  3.1989789e+00, -9.3186283e-01,  7.2942144e-01,\n",
              "       -8.0865544e-01, -3.6179826e+00,  2.2165298e+00, -7.2002858e-01,\n",
              "        3.0659943e+00,  1.8054914e-01,  6.4860147e-01, -2.5733230e+00,\n",
              "        3.7143558e-01,  3.7493591e+00,  2.6593611e+00, -5.5703306e-01,\n",
              "       -8.1472862e-01, -1.3755541e+00, -1.7652571e+00, -5.0140762e-01,\n",
              "        1.8276318e+00,  1.1100457e+00, -1.9060341e+00, -2.3190141e+00,\n",
              "        2.5119426e+00,  1.2525709e-01, -2.6444287e+00, -5.3995574e-01,\n",
              "       -7.9594851e-01, -1.6283281e-01, -2.6303713e+00, -1.8611629e+00,\n",
              "       -1.6125343e+00,  2.3995030e+00, -1.2065432e-01, -1.3320371e+00,\n",
              "       -2.9869754e+00, -1.4399856e+00, -3.2288864e+00,  7.7011067e-01,\n",
              "        4.7750115e-02,  2.9290268e+00, -6.6090000e-01, -1.1304144e+00,\n",
              "        1.4040573e-01, -1.5829285e+00,  1.5478386e+00,  2.5191815e+00,\n",
              "       -6.3522714e-01, -8.1220001e-01, -7.0443153e-03, -2.2921672e+00,\n",
              "       -9.4005722e-01, -2.8197572e+00, -1.6874716e+00, -1.6074226e+00,\n",
              "        3.7790673e+00, -6.3420719e-01, -5.7016807e+00,  4.3981603e-01,\n",
              "        3.0468857e+00,  5.7436240e-01,  1.4076244e+00,  3.0672042e+00,\n",
              "       -2.7885957e+00,  5.5468571e-01, -6.4016569e-01, -3.6167857e-01,\n",
              "        1.8189474e+00, -5.6228485e+00, -4.0060258e+00,  1.6478713e+00,\n",
              "       -1.2087514e+00,  1.2609986e+00,  4.7309846e-03, -3.2809854e+00,\n",
              "       -1.3419571e+00, -8.2368577e-01,  6.0305578e-01,  1.2637243e+00,\n",
              "        9.6287155e-01,  6.9315720e-01,  2.3318286e+00, -4.5790143e+00,\n",
              "        4.3438287e+00,  1.4421929e+00, -1.5951570e+00,  2.5731986e+00,\n",
              "       -2.9009981e-02,  3.1026688e-01,  2.8477025e-01,  6.0074419e-01,\n",
              "       -5.8471870e-01,  5.3039283e-01, -6.3349563e-01,  1.8510371e+00,\n",
              "        5.2348566e-01, -9.2503119e-01, -3.8452954e+00,  2.5639572e+00,\n",
              "        1.3164314e+00,  9.8131561e-01,  2.0359528e+00,  8.8115704e-01,\n",
              "       -4.0933571e+00, -9.4528919e-01,  1.2216243e+00, -3.3544660e+00,\n",
              "        1.7007000e+00,  1.6978613e+00,  1.5645702e-01, -1.5346258e+00,\n",
              "       -2.3245675e-02,  7.1720853e+00,  5.5042191e+00,  3.5467358e+00,\n",
              "        1.7449877e-01,  1.5622957e+00,  1.3641714e+00,  4.1384134e+00,\n",
              "       -3.3595569e+00,  9.6336138e-01,  3.8123572e+00, -6.2911421e-01,\n",
              "        1.9809257e+00, -1.0632156e+00,  2.1784015e+00,  7.6200002e-01,\n",
              "        3.3678601e+00,  3.0119708e-01,  2.6786859e+00,  9.8128520e-02,\n",
              "        1.7339067e+00, -1.0099572e+00,  1.6979572e+00,  5.3250068e-01,\n",
              "        4.4828629e+00, -3.0727859e+00,  1.3999426e+00, -1.1481936e+00,\n",
              "       -1.3080586e-01, -6.4993709e-01,  1.6858031e+00, -9.5857143e-02,\n",
              "        2.4140029e+00, -4.1238546e-02,  6.2177248e-02, -1.7381856e+00,\n",
              "        1.4542927e+00, -2.2508538e+00, -8.4494436e-01,  1.3526503e+00],\n",
              "      dtype=float32)"
            ]
          },
          "metadata": {},
          "execution_count": 44
        }
      ]
    },
    {
      "cell_type": "markdown",
      "source": [
        "# Create numpy 2D arrays for questions"
      ],
      "metadata": {
        "id": "lrUrsb1aeJM-"
      }
    },
    {
      "cell_type": "code",
      "source": [
        "import numpy as np\n",
        "\n",
        "def create_2dvectors_from_docs(docs: list) -> np.array:\n",
        "    doc_vectors1D = [doc.vector for doc in docs]\n",
        "    doc_vectors2D = np.array(doc_vectors1D)\n",
        "    return doc_vectors2D"
      ],
      "metadata": {
        "id": "S4LsjPYVx38_"
      },
      "execution_count": 45,
      "outputs": []
    },
    {
      "cell_type": "code",
      "source": [
        "doc_vectors2D = create_2dvectors_from_docs(docs)\n",
        "doc_vectors2D.shape"
      ],
      "metadata": {
        "colab": {
          "base_uri": "https://localhost:8080/"
        },
        "id": "Wi-fhg5d07kT",
        "outputId": "2ba71f23-63f1-46f5-91f9-b67b79fa1115"
      },
      "execution_count": 46,
      "outputs": [
        {
          "output_type": "execute_result",
          "data": {
            "text/plain": [
              "(873, 300)"
            ]
          },
          "metadata": {},
          "execution_count": 46
        }
      ]
    },
    {
      "cell_type": "markdown",
      "source": [
        "# Compute cosine similarity"
      ],
      "metadata": {
        "id": "0GScd1j0oqfl"
      }
    },
    {
      "cell_type": "code",
      "source": [
        "from numpy.linalg import norm\n",
        "\n",
        "def find_most_similar(query: str, docs: list, topK: int):\n",
        "    query_vector = nlp(query).vector\n",
        "    doc_vectors2D = create_2dvectors_from_docs(docs)\n",
        "    cos_sim = np.dot(doc_vectors2D,query_vector)/(norm(doc_vectors2D, axis=1)*norm(query_vector))\n",
        "    sorted_ids = np.argsort(cos_sim)\n",
        "    top_sim_ids = sorted_ids[::-1][:topK] # in descending order\n",
        "    print(f\"Query: {query}\")\n",
        "    print(\"=\"*20)\n",
        "    for id in top_sim_ids:\n",
        "        score = cos_sim[id]\n",
        "        doc = docs[id]\n",
        "        print(f\"Corpus question: {doc.text}\")\n",
        "        print(f\"Corpus answer: {doc._.answer}\")\n",
        "        print(f\"Score: {score}\")\n",
        "        print(\"=\"*10)"
      ],
      "metadata": {
        "id": "JP5dYVmSH9fQ"
      },
      "execution_count": 47,
      "outputs": []
    },
    {
      "cell_type": "code",
      "source": [
        "query = \"What does my life insurance include?\"\n",
        "topK = 5\n",
        "find_most_similar(query, docs, topK)"
      ],
      "metadata": {
        "colab": {
          "base_uri": "https://localhost:8080/"
        },
        "id": "B3YfvDyzoaze",
        "outputId": "244922e6-696a-4b14-89b9-4c305c119482"
      },
      "execution_count": 49,
      "outputs": [
        {
          "output_type": "stream",
          "name": "stdout",
          "text": [
            "Query: What does my life insurance include?\n",
            "====================\n",
            "Corpus question: what does life insurance cover ?\n",
            "Corpus answer: Life insurance is a contract between an insured ( insurance policy holder ) and an insurer , where the insurer promises to pay a designated beneficiary a sum of money ( the `` benefits '' ) upon the death of the insured person .\n",
            "Score: 0.8638259172439575\n",
            "==========\n",
            "Corpus question: what does add my two cents mean\n",
            "Corpus answer: `` My two cents '' ( 2¢ ) and its longer version `` put my two cents in '' is an United States ( US ) idiomatic expression , taken from the original English idiom expression : to put in `` my two pennies worth '' or `` my tuppence worth . ''\n",
            "Score: 0.7863685488700867\n",
            "==========\n",
            "Corpus question: what does salesforce.com do ?\n",
            "Corpus answer: Though best known for its customer relationship management ( CRM ) product , Salesforce has also expanded into the `` social enterprise arena '' through acquisitions .\n",
            "Score: 0.7341700792312622\n",
            "==========\n",
            "Corpus question: what does Mazel tov ! mean\n",
            "Corpus answer: `` good luck '' ) is a phrase used to express congratulations for a happy and significant occasion or event .\n",
            "Score: 0.7226611971855164\n",
            "==========\n",
            "Corpus question: what does barefoot and pregnant mean\n",
            "Corpus answer: `` Barefoot and pregnant '' is a phrase most commonly associated with the controversial idea that women should not work outside the home and should have many children during their reproductive years .\n",
            "Score: 0.7220290303230286\n",
            "==========\n"
          ]
        }
      ]
    }
  ],
  "metadata": {
    "celltoolbar": "Slideshow",
    "kernelspec": {
      "display_name": "Python 3",
      "language": "python",
      "name": "python3"
    },
    "language_info": {
      "codemirror_mode": {
        "name": "ipython",
        "version": 3
      },
      "file_extension": ".py",
      "mimetype": "text/x-python",
      "name": "python",
      "nbconvert_exporter": "python",
      "pygments_lexer": "ipython3",
      "version": "3.6.2"
    },
    "livereveal": {
      "autolaunch": true,
      "scroll": true
    },
    "colab": {
      "provenance": [],
      "toc_visible": true,
      "include_colab_link": true
    }
  },
  "nbformat": 4,
  "nbformat_minor": 0
}