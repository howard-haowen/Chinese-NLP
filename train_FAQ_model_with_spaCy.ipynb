{
  "cells": [
    {
      "cell_type": "markdown",
      "metadata": {
        "id": "view-in-github",
        "colab_type": "text"
      },
      "source": [
        "<a href=\"https://colab.research.google.com/github/howard-haowen/NLP-demos/blob/main/train_FAQ_model_with_spaCy.ipynb\" target=\"_parent\"><img src=\"https://colab.research.google.com/assets/colab-badge.svg\" alt=\"Open In Colab\"/></a>"
      ]
    },
    {
      "cell_type": "markdown",
      "source": [
        "*   Author: [Haowen Jiang](https://howard-haowen.rohan.tw/)"
      ],
      "metadata": {
        "id": "jOQLkjikfCcj"
      }
    },
    {
      "cell_type": "markdown",
      "source": [
        "# Download a model"
      ],
      "metadata": {
        "id": "Hpg_AqsVh-uW"
      }
    },
    {
      "cell_type": "code",
      "source": [
        "!pip install -q spacy"
      ],
      "metadata": {
        "id": "RNNbvxygh3Wz"
      },
      "execution_count": null,
      "outputs": []
    },
    {
      "cell_type": "code",
      "source": [
        "!python -m spacy download en_core_web_md"
      ],
      "metadata": {
        "colab": {
          "base_uri": "https://localhost:8080/"
        },
        "id": "ZTIqyxpeTs7B",
        "outputId": "0aa0bef3-e03f-4bf9-8f10-e19d96840d71"
      },
      "execution_count": null,
      "outputs": [
        {
          "output_type": "stream",
          "name": "stdout",
          "text": [
            "/usr/local/lib/python3.8/dist-packages/torch/cuda/__init__.py:497: UserWarning: Can't initialize NVML\n",
            "  warnings.warn(\"Can't initialize NVML\")\n",
            "2023-03-06 13:57:20.596574: I tensorflow/core/platform/cpu_feature_guard.cc:193] This TensorFlow binary is optimized with oneAPI Deep Neural Network Library (oneDNN) to use the following CPU instructions in performance-critical operations:  AVX2 FMA\n",
            "To enable them in other operations, rebuild TensorFlow with the appropriate compiler flags.\n",
            "2023-03-06 13:57:23.063323: W tensorflow/compiler/xla/stream_executor/platform/default/dso_loader.cc:64] Could not load dynamic library 'libnvinfer.so.7'; dlerror: libnvinfer.so.7: cannot open shared object file: No such file or directory; LD_LIBRARY_PATH: /usr/local/nvidia/lib:/usr/local/nvidia/lib64\n",
            "2023-03-06 13:57:23.063536: W tensorflow/compiler/xla/stream_executor/platform/default/dso_loader.cc:64] Could not load dynamic library 'libnvinfer_plugin.so.7'; dlerror: libnvinfer_plugin.so.7: cannot open shared object file: No such file or directory; LD_LIBRARY_PATH: /usr/local/nvidia/lib:/usr/local/nvidia/lib64\n",
            "2023-03-06 13:57:23.063561: W tensorflow/compiler/tf2tensorrt/utils/py_utils.cc:38] TF-TRT Warning: Cannot dlopen some TensorRT libraries. If you would like to use Nvidia GPU with TensorRT, please make sure the missing libraries mentioned above are installed properly.\n",
            "2023-03-06 13:57:28.600990: E tensorflow/compiler/xla/stream_executor/cuda/cuda_driver.cc:267] failed call to cuInit: CUDA_ERROR_NO_DEVICE: no CUDA-capable device is detected\n",
            "Looking in indexes: https://pypi.org/simple, https://us-python.pkg.dev/colab-wheels/public/simple/\n",
            "Collecting en-core-web-md==3.4.1\n",
            "  Downloading https://github.com/explosion/spacy-models/releases/download/en_core_web_md-3.4.1/en_core_web_md-3.4.1-py3-none-any.whl (42.8 MB)\n",
            "\u001b[2K     \u001b[90m━━━━━━━━━━━━━━━━━━━━━━━━━━━━━━━━━━━━━━━━\u001b[0m \u001b[32m42.8/42.8 MB\u001b[0m \u001b[31m6.9 MB/s\u001b[0m eta \u001b[36m0:00:00\u001b[0m\n",
            "\u001b[?25hRequirement already satisfied: spacy<3.5.0,>=3.4.0 in /usr/local/lib/python3.8/dist-packages (from en-core-web-md==3.4.1) (3.4.4)\n",
            "Requirement already satisfied: langcodes<4.0.0,>=3.2.0 in /usr/local/lib/python3.8/dist-packages (from spacy<3.5.0,>=3.4.0->en-core-web-md==3.4.1) (3.3.0)\n",
            "Requirement already satisfied: typer<0.8.0,>=0.3.0 in /usr/local/lib/python3.8/dist-packages (from spacy<3.5.0,>=3.4.0->en-core-web-md==3.4.1) (0.7.0)\n",
            "Requirement already satisfied: numpy>=1.15.0 in /usr/local/lib/python3.8/dist-packages (from spacy<3.5.0,>=3.4.0->en-core-web-md==3.4.1) (1.22.4)\n",
            "Requirement already satisfied: wasabi<1.1.0,>=0.9.1 in /usr/local/lib/python3.8/dist-packages (from spacy<3.5.0,>=3.4.0->en-core-web-md==3.4.1) (0.10.1)\n",
            "Requirement already satisfied: spacy-legacy<3.1.0,>=3.0.10 in /usr/local/lib/python3.8/dist-packages (from spacy<3.5.0,>=3.4.0->en-core-web-md==3.4.1) (3.0.12)\n",
            "Requirement already satisfied: srsly<3.0.0,>=2.4.3 in /usr/local/lib/python3.8/dist-packages (from spacy<3.5.0,>=3.4.0->en-core-web-md==3.4.1) (2.4.6)\n",
            "Requirement already satisfied: setuptools in /usr/local/lib/python3.8/dist-packages (from spacy<3.5.0,>=3.4.0->en-core-web-md==3.4.1) (57.4.0)\n",
            "Requirement already satisfied: thinc<8.2.0,>=8.1.0 in /usr/local/lib/python3.8/dist-packages (from spacy<3.5.0,>=3.4.0->en-core-web-md==3.4.1) (8.1.7)\n",
            "Requirement already satisfied: cymem<2.1.0,>=2.0.2 in /usr/local/lib/python3.8/dist-packages (from spacy<3.5.0,>=3.4.0->en-core-web-md==3.4.1) (2.0.7)\n",
            "Requirement already satisfied: spacy-loggers<2.0.0,>=1.0.0 in /usr/local/lib/python3.8/dist-packages (from spacy<3.5.0,>=3.4.0->en-core-web-md==3.4.1) (1.0.4)\n",
            "Requirement already satisfied: packaging>=20.0 in /usr/local/lib/python3.8/dist-packages (from spacy<3.5.0,>=3.4.0->en-core-web-md==3.4.1) (23.0)\n",
            "Requirement already satisfied: pathy>=0.3.5 in /usr/local/lib/python3.8/dist-packages (from spacy<3.5.0,>=3.4.0->en-core-web-md==3.4.1) (0.10.1)\n",
            "Requirement already satisfied: murmurhash<1.1.0,>=0.28.0 in /usr/local/lib/python3.8/dist-packages (from spacy<3.5.0,>=3.4.0->en-core-web-md==3.4.1) (1.0.9)\n",
            "Requirement already satisfied: catalogue<2.1.0,>=2.0.6 in /usr/local/lib/python3.8/dist-packages (from spacy<3.5.0,>=3.4.0->en-core-web-md==3.4.1) (2.0.8)\n",
            "Requirement already satisfied: preshed<3.1.0,>=3.0.2 in /usr/local/lib/python3.8/dist-packages (from spacy<3.5.0,>=3.4.0->en-core-web-md==3.4.1) (3.0.8)\n",
            "Requirement already satisfied: jinja2 in /usr/local/lib/python3.8/dist-packages (from spacy<3.5.0,>=3.4.0->en-core-web-md==3.4.1) (3.1.2)\n",
            "Requirement already satisfied: smart-open<7.0.0,>=5.2.1 in /usr/local/lib/python3.8/dist-packages (from spacy<3.5.0,>=3.4.0->en-core-web-md==3.4.1) (6.3.0)\n",
            "Requirement already satisfied: tqdm<5.0.0,>=4.38.0 in /usr/local/lib/python3.8/dist-packages (from spacy<3.5.0,>=3.4.0->en-core-web-md==3.4.1) (4.64.1)\n",
            "Requirement already satisfied: requests<3.0.0,>=2.13.0 in /usr/local/lib/python3.8/dist-packages (from spacy<3.5.0,>=3.4.0->en-core-web-md==3.4.1) (2.25.1)\n",
            "Requirement already satisfied: pydantic!=1.8,!=1.8.1,<1.11.0,>=1.7.4 in /usr/local/lib/python3.8/dist-packages (from spacy<3.5.0,>=3.4.0->en-core-web-md==3.4.1) (1.10.5)\n",
            "Requirement already satisfied: typing-extensions>=4.2.0 in /usr/local/lib/python3.8/dist-packages (from pydantic!=1.8,!=1.8.1,<1.11.0,>=1.7.4->spacy<3.5.0,>=3.4.0->en-core-web-md==3.4.1) (4.5.0)\n",
            "Requirement already satisfied: urllib3<1.27,>=1.21.1 in /usr/local/lib/python3.8/dist-packages (from requests<3.0.0,>=2.13.0->spacy<3.5.0,>=3.4.0->en-core-web-md==3.4.1) (1.26.14)\n",
            "Requirement already satisfied: idna<3,>=2.5 in /usr/local/lib/python3.8/dist-packages (from requests<3.0.0,>=2.13.0->spacy<3.5.0,>=3.4.0->en-core-web-md==3.4.1) (2.10)\n",
            "Requirement already satisfied: chardet<5,>=3.0.2 in /usr/local/lib/python3.8/dist-packages (from requests<3.0.0,>=2.13.0->spacy<3.5.0,>=3.4.0->en-core-web-md==3.4.1) (4.0.0)\n",
            "Requirement already satisfied: certifi>=2017.4.17 in /usr/local/lib/python3.8/dist-packages (from requests<3.0.0,>=2.13.0->spacy<3.5.0,>=3.4.0->en-core-web-md==3.4.1) (2022.12.7)\n",
            "Requirement already satisfied: blis<0.8.0,>=0.7.8 in /usr/local/lib/python3.8/dist-packages (from thinc<8.2.0,>=8.1.0->spacy<3.5.0,>=3.4.0->en-core-web-md==3.4.1) (0.7.9)\n",
            "Requirement already satisfied: confection<1.0.0,>=0.0.1 in /usr/local/lib/python3.8/dist-packages (from thinc<8.2.0,>=8.1.0->spacy<3.5.0,>=3.4.0->en-core-web-md==3.4.1) (0.0.4)\n",
            "Requirement already satisfied: click<9.0.0,>=7.1.1 in /usr/local/lib/python3.8/dist-packages (from typer<0.8.0,>=0.3.0->spacy<3.5.0,>=3.4.0->en-core-web-md==3.4.1) (8.1.3)\n",
            "Requirement already satisfied: MarkupSafe>=2.0 in /usr/local/lib/python3.8/dist-packages (from jinja2->spacy<3.5.0,>=3.4.0->en-core-web-md==3.4.1) (2.1.2)\n",
            "Installing collected packages: en-core-web-md\n",
            "Successfully installed en-core-web-md-3.4.1\n",
            "\u001b[38;5;2m✔ Download and installation successful\u001b[0m\n",
            "You can now load the package via spacy.load('en_core_web_md')\n"
          ]
        }
      ]
    },
    {
      "cell_type": "markdown",
      "source": [
        "# Load a model"
      ],
      "metadata": {
        "id": "0ybi2PIPiFFv"
      }
    },
    {
      "cell_type": "code",
      "source": [
        "import spacy"
      ],
      "metadata": {
        "id": "gI7nLclph7t0",
        "colab": {
          "base_uri": "https://localhost:8080/"
        },
        "outputId": "46f090c8-7c65-4b57-9980-ef033fa86aca"
      },
      "execution_count": null,
      "outputs": [
        {
          "output_type": "stream",
          "name": "stderr",
          "text": [
            "/usr/local/lib/python3.8/dist-packages/torch/cuda/__init__.py:497: UserWarning: Can't initialize NVML\n",
            "  warnings.warn(\"Can't initialize NVML\")\n"
          ]
        }
      ]
    },
    {
      "cell_type": "code",
      "source": [
        "nlp = spacy.load(\"en_core_web_md\")\n",
        "nlp.pipe_names"
      ],
      "metadata": {
        "colab": {
          "base_uri": "https://localhost:8080/"
        },
        "id": "SwroFOI-iC77",
        "outputId": "fe47ef96-71eb-4fa6-d7fa-f778de73613e"
      },
      "execution_count": null,
      "outputs": [
        {
          "output_type": "execute_result",
          "data": {
            "text/plain": [
              "['tok2vec', 'tagger', 'parser', 'attribute_ruler', 'lemmatizer', 'ner']"
            ]
          },
          "metadata": {},
          "execution_count": 4
        }
      ]
    },
    {
      "cell_type": "markdown",
      "source": [
        "# Load a dataset"
      ],
      "metadata": {
        "id": "y-KmhGiabEz-"
      }
    },
    {
      "cell_type": "code",
      "source": [
        "!pip install -q datasets"
      ],
      "metadata": {
        "id": "tYRKkeUIXFja"
      },
      "execution_count": null,
      "outputs": []
    },
    {
      "cell_type": "code",
      "source": [
        "from datasets import load_dataset\n",
        "\n",
        "dataset = load_dataset(\"web_questions\")"
      ],
      "metadata": {
        "colab": {
          "base_uri": "https://localhost:8080/",
          "height": 87,
          "referenced_widgets": [
            "3b56d67726334716afc877129712a23a",
            "09a9836b92764009a75d0a08cdfa2b3d",
            "8c104538de8c4f319a80fd06a2bca826",
            "25b4b76fab694b60b356a64ec8ab16cb",
            "2dac171126844efd8d4e1d96bc87e618",
            "1912f9a6934c4b0b935f06d114415dd5",
            "681c8920a4e44502b8ff8e938f7dc5e8",
            "777f68e0f4024dc89ee26ba55495f502",
            "b6ea5eae40af40c4bc36f77afb26dcfb",
            "6c550b1c28f44b1a8a882b65b793dbd8",
            "73ee6f4417eb44d286dd2819798e006c"
          ]
        },
        "id": "hnMHO45l8pyr",
        "outputId": "159b564f-32ba-4680-cdf6-b571ae9860b9"
      },
      "execution_count": null,
      "outputs": [
        {
          "output_type": "stream",
          "name": "stderr",
          "text": [
            "WARNING:datasets.builder:Found cached dataset web_questions (/root/.cache/huggingface/datasets/web_questions/default/1.0.0/e6742cc64f6652db0c52cb07b5414e3c001512bf5bde7aa5587353c31db1ed8b)\n"
          ]
        },
        {
          "output_type": "display_data",
          "data": {
            "text/plain": [
              "  0%|          | 0/2 [00:00<?, ?it/s]"
            ],
            "application/vnd.jupyter.widget-view+json": {
              "version_major": 2,
              "version_minor": 0,
              "model_id": "3b56d67726334716afc877129712a23a"
            }
          },
          "metadata": {}
        }
      ]
    },
    {
      "cell_type": "code",
      "source": [
        "print(dataset)"
      ],
      "metadata": {
        "colab": {
          "base_uri": "https://localhost:8080/"
        },
        "id": "YsduxrsM8zRa",
        "outputId": "7b977899-97c8-4e14-a1d8-9d71a50573a7"
      },
      "execution_count": null,
      "outputs": [
        {
          "output_type": "stream",
          "name": "stdout",
          "text": [
            "DatasetDict({\n",
            "    train: Dataset({\n",
            "        features: ['url', 'question', 'answers'],\n",
            "        num_rows: 3778\n",
            "    })\n",
            "    test: Dataset({\n",
            "        features: ['url', 'question', 'answers'],\n",
            "        num_rows: 2032\n",
            "    })\n",
            "})\n"
          ]
        }
      ]
    },
    {
      "cell_type": "code",
      "source": [
        "def dataset2df(dataset, split='train'):\n",
        "    df = dataset[split].to_pandas()\n",
        "    df = df[['question', 'answers']]\n",
        "    df.loc[:, 'answers'] = df['answers'].apply(lambda arr: \", \".join([i for i in arr]))\n",
        "    return df"
      ],
      "metadata": {
        "id": "MVKuIhZuPWeY"
      },
      "execution_count": null,
      "outputs": []
    },
    {
      "cell_type": "code",
      "source": [
        "df = dataset2df(dataset)\n",
        "df"
      ],
      "metadata": {
        "colab": {
          "base_uri": "https://localhost:8080/",
          "height": 554
        },
        "id": "2tlqc7UkQASt",
        "outputId": "b2a8325f-e1a9-4189-b357-4014b439310f"
      },
      "execution_count": null,
      "outputs": [
        {
          "output_type": "execute_result",
          "data": {
            "text/plain": [
              "                                               question  \\\n",
              "0            what is the name of justin bieber brother?   \n",
              "1     what character did natalie portman play in sta...   \n",
              "2                         what state does selena gomez?   \n",
              "3           what country is the grand bahama island in?   \n",
              "4                what kind of money to take to bahamas?   \n",
              "...                                                 ...   \n",
              "3773                 where did sir donald bradman live?   \n",
              "3774  what are the holydays of obligation in the cat...   \n",
              "3775            what is the name of the broncos mascot?   \n",
              "3776  what caused the russian financial crisis of 1998?   \n",
              "3777             what kind government does the us have?   \n",
              "\n",
              "                                                answers  \n",
              "0                           Jazmyn Bieber, Jaxon Bieber  \n",
              "1                                         Padmé Amidala  \n",
              "2                                         New York City  \n",
              "3                                               Bahamas  \n",
              "4                                       Bahamian dollar  \n",
              "...                                                 ...  \n",
              "3773                                           Adelaide  \n",
              "3774  Name day, Saint Patrick's Day, Maundy Thursday...  \n",
              "3775                                              Miles  \n",
              "3776                             Allies of World War II  \n",
              "3777  Presidential system, Federal republic, Represe...  \n",
              "\n",
              "[3778 rows x 2 columns]"
            ],
            "text/html": [
              "\n",
              "  <div id=\"df-0a58f884-2bb5-4886-ad05-78ff8061151f\">\n",
              "    <div class=\"colab-df-container\">\n",
              "      <div>\n",
              "<style scoped>\n",
              "    .dataframe tbody tr th:only-of-type {\n",
              "        vertical-align: middle;\n",
              "    }\n",
              "\n",
              "    .dataframe tbody tr th {\n",
              "        vertical-align: top;\n",
              "    }\n",
              "\n",
              "    .dataframe thead th {\n",
              "        text-align: right;\n",
              "    }\n",
              "</style>\n",
              "<table border=\"1\" class=\"dataframe\">\n",
              "  <thead>\n",
              "    <tr style=\"text-align: right;\">\n",
              "      <th></th>\n",
              "      <th>question</th>\n",
              "      <th>answers</th>\n",
              "    </tr>\n",
              "  </thead>\n",
              "  <tbody>\n",
              "    <tr>\n",
              "      <th>0</th>\n",
              "      <td>what is the name of justin bieber brother?</td>\n",
              "      <td>Jazmyn Bieber, Jaxon Bieber</td>\n",
              "    </tr>\n",
              "    <tr>\n",
              "      <th>1</th>\n",
              "      <td>what character did natalie portman play in sta...</td>\n",
              "      <td>Padmé Amidala</td>\n",
              "    </tr>\n",
              "    <tr>\n",
              "      <th>2</th>\n",
              "      <td>what state does selena gomez?</td>\n",
              "      <td>New York City</td>\n",
              "    </tr>\n",
              "    <tr>\n",
              "      <th>3</th>\n",
              "      <td>what country is the grand bahama island in?</td>\n",
              "      <td>Bahamas</td>\n",
              "    </tr>\n",
              "    <tr>\n",
              "      <th>4</th>\n",
              "      <td>what kind of money to take to bahamas?</td>\n",
              "      <td>Bahamian dollar</td>\n",
              "    </tr>\n",
              "    <tr>\n",
              "      <th>...</th>\n",
              "      <td>...</td>\n",
              "      <td>...</td>\n",
              "    </tr>\n",
              "    <tr>\n",
              "      <th>3773</th>\n",
              "      <td>where did sir donald bradman live?</td>\n",
              "      <td>Adelaide</td>\n",
              "    </tr>\n",
              "    <tr>\n",
              "      <th>3774</th>\n",
              "      <td>what are the holydays of obligation in the cat...</td>\n",
              "      <td>Name day, Saint Patrick's Day, Maundy Thursday...</td>\n",
              "    </tr>\n",
              "    <tr>\n",
              "      <th>3775</th>\n",
              "      <td>what is the name of the broncos mascot?</td>\n",
              "      <td>Miles</td>\n",
              "    </tr>\n",
              "    <tr>\n",
              "      <th>3776</th>\n",
              "      <td>what caused the russian financial crisis of 1998?</td>\n",
              "      <td>Allies of World War II</td>\n",
              "    </tr>\n",
              "    <tr>\n",
              "      <th>3777</th>\n",
              "      <td>what kind government does the us have?</td>\n",
              "      <td>Presidential system, Federal republic, Represe...</td>\n",
              "    </tr>\n",
              "  </tbody>\n",
              "</table>\n",
              "<p>3778 rows × 2 columns</p>\n",
              "</div>\n",
              "      <button class=\"colab-df-convert\" onclick=\"convertToInteractive('df-0a58f884-2bb5-4886-ad05-78ff8061151f')\"\n",
              "              title=\"Convert this dataframe to an interactive table.\"\n",
              "              style=\"display:none;\">\n",
              "        \n",
              "  <svg xmlns=\"http://www.w3.org/2000/svg\" height=\"24px\"viewBox=\"0 0 24 24\"\n",
              "       width=\"24px\">\n",
              "    <path d=\"M0 0h24v24H0V0z\" fill=\"none\"/>\n",
              "    <path d=\"M18.56 5.44l.94 2.06.94-2.06 2.06-.94-2.06-.94-.94-2.06-.94 2.06-2.06.94zm-11 1L8.5 8.5l.94-2.06 2.06-.94-2.06-.94L8.5 2.5l-.94 2.06-2.06.94zm10 10l.94 2.06.94-2.06 2.06-.94-2.06-.94-.94-2.06-.94 2.06-2.06.94z\"/><path d=\"M17.41 7.96l-1.37-1.37c-.4-.4-.92-.59-1.43-.59-.52 0-1.04.2-1.43.59L10.3 9.45l-7.72 7.72c-.78.78-.78 2.05 0 2.83L4 21.41c.39.39.9.59 1.41.59.51 0 1.02-.2 1.41-.59l7.78-7.78 2.81-2.81c.8-.78.8-2.07 0-2.86zM5.41 20L4 18.59l7.72-7.72 1.47 1.35L5.41 20z\"/>\n",
              "  </svg>\n",
              "      </button>\n",
              "      \n",
              "  <style>\n",
              "    .colab-df-container {\n",
              "      display:flex;\n",
              "      flex-wrap:wrap;\n",
              "      gap: 12px;\n",
              "    }\n",
              "\n",
              "    .colab-df-convert {\n",
              "      background-color: #E8F0FE;\n",
              "      border: none;\n",
              "      border-radius: 50%;\n",
              "      cursor: pointer;\n",
              "      display: none;\n",
              "      fill: #1967D2;\n",
              "      height: 32px;\n",
              "      padding: 0 0 0 0;\n",
              "      width: 32px;\n",
              "    }\n",
              "\n",
              "    .colab-df-convert:hover {\n",
              "      background-color: #E2EBFA;\n",
              "      box-shadow: 0px 1px 2px rgba(60, 64, 67, 0.3), 0px 1px 3px 1px rgba(60, 64, 67, 0.15);\n",
              "      fill: #174EA6;\n",
              "    }\n",
              "\n",
              "    [theme=dark] .colab-df-convert {\n",
              "      background-color: #3B4455;\n",
              "      fill: #D2E3FC;\n",
              "    }\n",
              "\n",
              "    [theme=dark] .colab-df-convert:hover {\n",
              "      background-color: #434B5C;\n",
              "      box-shadow: 0px 1px 3px 1px rgba(0, 0, 0, 0.15);\n",
              "      filter: drop-shadow(0px 1px 2px rgba(0, 0, 0, 0.3));\n",
              "      fill: #FFFFFF;\n",
              "    }\n",
              "  </style>\n",
              "\n",
              "      <script>\n",
              "        const buttonEl =\n",
              "          document.querySelector('#df-0a58f884-2bb5-4886-ad05-78ff8061151f button.colab-df-convert');\n",
              "        buttonEl.style.display =\n",
              "          google.colab.kernel.accessAllowed ? 'block' : 'none';\n",
              "\n",
              "        async function convertToInteractive(key) {\n",
              "          const element = document.querySelector('#df-0a58f884-2bb5-4886-ad05-78ff8061151f');\n",
              "          const dataTable =\n",
              "            await google.colab.kernel.invokeFunction('convertToInteractive',\n",
              "                                                     [key], {});\n",
              "          if (!dataTable) return;\n",
              "\n",
              "          const docLinkHtml = 'Like what you see? Visit the ' +\n",
              "            '<a target=\"_blank\" href=https://colab.research.google.com/notebooks/data_table.ipynb>data table notebook</a>'\n",
              "            + ' to learn more about interactive tables.';\n",
              "          element.innerHTML = '';\n",
              "          dataTable['output_type'] = 'display_data';\n",
              "          await google.colab.output.renderOutput(dataTable, element);\n",
              "          const docLink = document.createElement('div');\n",
              "          docLink.innerHTML = docLinkHtml;\n",
              "          element.appendChild(docLink);\n",
              "        }\n",
              "      </script>\n",
              "    </div>\n",
              "  </div>\n",
              "  "
            ]
          },
          "metadata": {},
          "execution_count": 28
        }
      ]
    },
    {
      "cell_type": "markdown",
      "source": [
        "# Convert the dataset to spaCy objects"
      ],
      "metadata": {
        "id": "-BL3Bt0snkLY"
      }
    },
    {
      "cell_type": "code",
      "source": [
        "from spacy.tokens import Doc\n",
        "\n",
        "if not Doc.has_extension(\"answer\"):\n",
        "    Doc.set_extension(\"answer\", default=None)"
      ],
      "metadata": {
        "id": "IE66Q0MQeiIM"
      },
      "execution_count": null,
      "outputs": []
    },
    {
      "cell_type": "code",
      "source": [
        "import pandas as pd\n",
        "\n",
        "def convert_df2docs(df: pd.DataFrame, qcol: str, acol: str) -> list:\n",
        "    \"\"\"\n",
        "    df: The dataset in DataFrame \n",
        "    qcol: Column name for questions\n",
        "    acol: Column name for answers\n",
        "    \"\"\"\n",
        "    questions = df[qcol].to_list()\n",
        "    answers = df[acol].to_list()\n",
        "    qa_tuples = [(q, {\"answer\": a}) for q, a in zip(questions, answers)]\n",
        "    doc_tuples = nlp.pipe(qa_tuples, as_tuples=True,)\n",
        "    docs = []\n",
        "    for doc, context in doc_tuples:\n",
        "        doc._.answer = context[\"answer\"]\n",
        "        docs.append(doc)\n",
        "    return docs"
      ],
      "metadata": {
        "id": "m8mF1dpGvqoP"
      },
      "execution_count": null,
      "outputs": []
    },
    {
      "cell_type": "code",
      "source": [
        "docs = convert_df2docs(df, 'question', 'answers')"
      ],
      "metadata": {
        "id": "5fO5V9Sxw9w-"
      },
      "execution_count": null,
      "outputs": []
    },
    {
      "cell_type": "code",
      "source": [
        "q1 = docs[1]\n",
        "q1.text"
      ],
      "metadata": {
        "id": "MhsWZ_cmiWi1",
        "colab": {
          "base_uri": "https://localhost:8080/",
          "height": 36
        },
        "outputId": "56f9d297-f588-4a49-86b0-cf5620eb70b3"
      },
      "execution_count": null,
      "outputs": [
        {
          "output_type": "execute_result",
          "data": {
            "text/plain": [
              "'what character did natalie portman play in star wars?'"
            ],
            "application/vnd.google.colaboratory.intrinsic+json": {
              "type": "string"
            }
          },
          "metadata": {},
          "execution_count": 18
        }
      ]
    },
    {
      "cell_type": "code",
      "source": [
        "q1._.answer"
      ],
      "metadata": {
        "colab": {
          "base_uri": "https://localhost:8080/",
          "height": 36
        },
        "id": "no7keqGhnY6N",
        "outputId": "587ba6c2-1e07-4da3-c67c-47b0ef69966d"
      },
      "execution_count": null,
      "outputs": [
        {
          "output_type": "execute_result",
          "data": {
            "text/plain": [
              "'Padmé Amidala'"
            ],
            "application/vnd.google.colaboratory.intrinsic+json": {
              "type": "string"
            }
          },
          "metadata": {},
          "execution_count": 19
        }
      ]
    },
    {
      "cell_type": "code",
      "source": [
        "q1.vector"
      ],
      "metadata": {
        "colab": {
          "base_uri": "https://localhost:8080/"
        },
        "id": "CxmnhBCNchbM",
        "outputId": "8e62c7eb-625c-44a5-bcac-aa089bfeee0c"
      },
      "execution_count": null,
      "outputs": [
        {
          "output_type": "execute_result",
          "data": {
            "text/plain": [
              "array([-1.6279961 ,  2.4959083 , -2.588559  , -2.332141  ,  1.2626406 ,\n",
              "        1.716149  ,  0.912531  ,  2.4241168 , -0.06311016, -0.28046352,\n",
              "        2.943069  ,  0.22578308, -2.2698054 ,  1.412488  ,  1.9777391 ,\n",
              "       -1.195561  , -0.45647997, -0.198733  ,  1.5510001 ,  0.7685981 ,\n",
              "        1.0977949 ,  0.6495772 , -0.45109797, -2.036414  , -0.17086908,\n",
              "        0.910155  , -2.427465  , -0.57002395,  1.0054638 ,  2.96036   ,\n",
              "        0.6996047 , -0.88964194,  0.5209521 , -1.198046  , -0.9824816 ,\n",
              "       -0.06232102, -1.866366  ,  0.49036592, -0.95985997,  1.875222  ,\n",
              "       -1.3045189 ,  0.029563  ,  2.12781   , -1.220001  ,  0.64616704,\n",
              "        2.3855002 , -1.856546  , -3.2135062 ,  0.37537998,  1.863395  ,\n",
              "       -1.624996  ,  0.365358  ,  1.2175821 , -2.234212  , -1.577785  ,\n",
              "       -1.3475698 , -0.22315402, -0.28250003,  1.4990139 ,  1.5962719 ,\n",
              "       -0.9409919 , -1.441222  , -0.31776   , -1.577894  ,  1.3866299 ,\n",
              "        1.3931592 , -4.06257   , -4.663712  , -1.2520559 ,  2.2700763 ,\n",
              "       -0.24959895,  0.09190607, -1.6159312 , -1.7952023 ,  1.001181  ,\n",
              "        1.332209  , -0.14400001,  2.781539  , -1.5951929 ,  0.02982001,\n",
              "       -1.2012402 , -0.8986701 ,  1.4358051 ,  2.0387661 ,  2.156831  ,\n",
              "       -2.2519403 , -1.666745  , -2.0194972 , -1.830896  , -0.43522   ,\n",
              "       -2.59016   ,  1.1918719 ,  0.99850196, -1.5893769 ,  0.4443615 ,\n",
              "       -0.55783   ,  1.3158414 , -1.9922371 , -0.19187051,  1.598901  ,\n",
              "        0.54456013,  0.15597942,  1.0457299 ,  2.2661319 , -1.89969   ,\n",
              "        1.831905  ,  0.55153304,  0.985606  , -1.092325  , -1.8747797 ,\n",
              "       -0.751365  ,  0.29569   , -1.1830734 ,  0.9177699 ,  2.3983696 ,\n",
              "       -0.00518999, -2.0802212 , -0.53857607,  1.440461  , -0.46696275,\n",
              "       -0.57529604, -0.5391089 ,  0.22333904, -1.135234  ,  0.587055  ,\n",
              "       -0.99655306,  0.913962  , -0.24885297,  0.85313904, -0.734969  ,\n",
              "       -0.65104306, -0.2315536 ,  2.467923  , -0.20998001,  0.78454906,\n",
              "        0.09637102, -0.77500695,  0.5723921 ,  1.5555239 , -4.024029  ,\n",
              "       -1.5809734 ,  0.40363598,  0.87229025,  1.0843861 , -0.11708601,\n",
              "        1.9662123 , -3.245484  , -1.2238    ,  0.20346197, -0.6697434 ,\n",
              "        0.08930993,  1.0566629 ,  0.7534465 ,  1.594984  , -2.572933  ,\n",
              "        1.262933  ,  1.787438  ,  1.4297631 , -1.1789559 , -1.646377  ,\n",
              "       -2.3693748 , -2.834629  , -2.2155929 ,  0.868511  , -3.686823  ,\n",
              "       -1.0868561 , -0.8299735 ,  0.35323796, -2.9555526 , -0.48694897,\n",
              "        0.694548  ,  1.842424  , -0.20835504,  1.2058579 ,  0.91934794,\n",
              "       -1.7634261 , -0.99203193,  0.764677  , -0.46509308, -0.72165495,\n",
              "       -0.42347392,  0.78987396,  0.533321  , -2.087166  , -1.093441  ,\n",
              "        1.66872   , -0.71022   ,  0.17467503,  0.54108703, -0.364628  ,\n",
              "       -0.34199002, -0.718593  ,  0.973787  , -0.7029689 ,  0.13819389,\n",
              "       -1.4392791 , -1.0083331 ,  2.3077228 , -1.214035  ,  2.24511   ,\n",
              "        0.13346995, -0.62129796, -2.43185   , -3.1954272 ,  0.1513607 ,\n",
              "        0.22358699,  0.52006304, -0.68127906, -1.0844629 , -0.08251297,\n",
              "        1.9642614 , -1.34126   ,  0.588786  ,  2.570729  ,  1.6776628 ,\n",
              "        2.1568837 , -2.015668  ,  1.6346136 , -1.020245  ,  0.43970704,\n",
              "       -1.4478159 , -0.76170456,  0.02518806,  2.715345  , -3.529739  ,\n",
              "        0.47814894,  0.48901302,  1.788621  ,  1.9956398 ,  1.552803  ,\n",
              "        1.1661699 ,  1.4491179 , -0.60736597,  1.9111649 ,  0.11216702,\n",
              "        1.519886  , -1.3267319 ,  0.959805  , -0.29013756, -1.38138   ,\n",
              "       -2.7068279 ,  1.1936891 ,  0.40331203,  1.40892   , -1.187295  ,\n",
              "        0.674961  , -1.1228089 ,  0.15365103, -0.52609795,  2.3368535 ,\n",
              "        1.2007123 , -0.97689897, -3.350701  ,  1.6334689 ,  0.954059  ,\n",
              "       -1.5506799 ,  2.501165  , -0.07567304, -1.587616  ,  2.07375   ,\n",
              "        0.1602211 ,  1.012172  ,  1.3273814 ,  1.3241628 ,  1.225577  ,\n",
              "       -1.0176346 , -0.20457502,  1.0115769 , -2.57579   , -0.16244757,\n",
              "        1.508902  , -0.00512187, -0.38728994, -0.562828  ,  0.266772  ,\n",
              "       -1.0416921 ,  2.7715    , -1.165269  , -0.149654  ,  2.8127127 ,\n",
              "       -2.3277688 , -1.1514001 ,  0.5302714 , -0.22895798,  3.073674  ,\n",
              "        0.59190637, -0.322482  ,  0.2724069 , -2.268319  ,  0.49624604,\n",
              "        3.0612156 , -1.915036  ,  1.2278084 , -0.353419  , -0.80805194,\n",
              "       -1.3610979 ,  0.30818   ,  0.62203807, -1.206525  , -0.34185004],\n",
              "      dtype=float32)"
            ]
          },
          "metadata": {},
          "execution_count": 20
        }
      ]
    },
    {
      "cell_type": "markdown",
      "source": [
        "# Create numpy 2D arrays for questions"
      ],
      "metadata": {
        "id": "lrUrsb1aeJM-"
      }
    },
    {
      "cell_type": "code",
      "source": [
        "import numpy as np\n",
        "\n",
        "def create_2dvectors_from_docs(docs: list) -> np.array:\n",
        "    doc_vectors1D = [doc.vector for doc in docs]\n",
        "    doc_vectors2D = np.array(doc_vectors1D)\n",
        "    return doc_vectors2D"
      ],
      "metadata": {
        "id": "S4LsjPYVx38_"
      },
      "execution_count": null,
      "outputs": []
    },
    {
      "cell_type": "code",
      "source": [
        "doc_vectors2D = create_2dvectors_from_docs(docs)\n",
        "doc_vectors2D.shape"
      ],
      "metadata": {
        "colab": {
          "base_uri": "https://localhost:8080/"
        },
        "id": "Wi-fhg5d07kT",
        "outputId": "2f5c3f4e-32fe-4420-ecdd-35704f914be1"
      },
      "execution_count": null,
      "outputs": [
        {
          "output_type": "execute_result",
          "data": {
            "text/plain": [
              "(3778, 300)"
            ]
          },
          "metadata": {},
          "execution_count": 22
        }
      ]
    },
    {
      "cell_type": "markdown",
      "source": [
        "# Compute cosine similarity"
      ],
      "metadata": {
        "id": "0GScd1j0oqfl"
      }
    },
    {
      "cell_type": "code",
      "source": [
        "from numpy.linalg import norm\n",
        "\n",
        "def find_most_similar(query: str, docs: list, topK: int):\n",
        "    query_vector = nlp(query).vector\n",
        "    doc_vectors2D = create_2dvectors_from_docs(docs)\n",
        "    cos_sim = np.dot(doc_vectors2D,query_vector)/(norm(doc_vectors2D, axis=1)*norm(query_vector))\n",
        "    sorted_ids = np.argsort(cos_sim)\n",
        "    top_sim_ids = sorted_ids[::-1][:topK] # in descending order\n",
        "    print(f\"Query: {query}\")\n",
        "    print(\"=\"*20)\n",
        "    for id in top_sim_ids:\n",
        "        score = cos_sim[id]\n",
        "        doc = docs[id]\n",
        "        print(f\"Corpus question: {doc.text}\")\n",
        "        print(f\"Corpus answer: {doc._.answer}\")\n",
        "        print(f\"Score: {score}\")\n",
        "        print(\"=\"*10)"
      ],
      "metadata": {
        "id": "JP5dYVmSH9fQ"
      },
      "execution_count": null,
      "outputs": []
    },
    {
      "cell_type": "code",
      "source": [
        "query = \"What did Michael Jordan major in college'?\"\n",
        "topK = 5\n",
        "find_most_similar(query, docs, topK)"
      ],
      "metadata": {
        "colab": {
          "base_uri": "https://localhost:8080/"
        },
        "id": "B3YfvDyzoaze",
        "outputId": "5907f9ce-4b8c-485c-9561-96661a01b06d"
      },
      "execution_count": null,
      "outputs": [
        {
          "output_type": "stream",
          "name": "stdout",
          "text": [
            "Query: What did Michael Jordan major in college'?\n",
            "====================\n",
            "Corpus question: what did jeff corwin major in?\n",
            "Corpus answer: Biologist\n",
            "Score: 0.8347316980361938\n",
            "==========\n",
            "Corpus question: what did shawnee smith star in?\n",
            "Corpus answer: The Grudge 3, Saw IV, Summer School, Saw II, Saw III, The Island, Saw, The Blob, Who's Harry Crumb?\n",
            "Score: 0.804623544216156\n",
            "==========\n",
            "Corpus question: when did michael jordan started playing basketball in the nba?\n",
            "Corpus answer: 1984\n",
            "Score: 0.8012731075286865\n",
            "==========\n",
            "Corpus question: what shows did kellie martin star in?\n",
            "Corpus answer: A Pup Named Scooby-Doo, Crisis Center, Father Murphy, Life Goes On, Christy\n",
            "Score: 0.7991346120834351\n",
            "==========\n",
            "Corpus question: what did charles dickens believe in?\n",
            "Corpus answer: Anglicanism\n",
            "Score: 0.7923551797866821\n",
            "==========\n"
          ]
        }
      ]
    }
  ],
  "metadata": {
    "celltoolbar": "Slideshow",
    "kernelspec": {
      "display_name": "Python 3",
      "language": "python",
      "name": "python3"
    },
    "language_info": {
      "codemirror_mode": {
        "name": "ipython",
        "version": 3
      },
      "file_extension": ".py",
      "mimetype": "text/x-python",
      "name": "python",
      "nbconvert_exporter": "python",
      "pygments_lexer": "ipython3",
      "version": "3.6.2"
    },
    "livereveal": {
      "autolaunch": true,
      "scroll": true
    },
    "colab": {
      "provenance": [],
      "toc_visible": true,
      "include_colab_link": true
    },
    "widgets": {
      "application/vnd.jupyter.widget-state+json": {
        "3b56d67726334716afc877129712a23a": {
          "model_module": "@jupyter-widgets/controls",
          "model_name": "HBoxModel",
          "model_module_version": "1.5.0",
          "state": {
            "_dom_classes": [],
            "_model_module": "@jupyter-widgets/controls",
            "_model_module_version": "1.5.0",
            "_model_name": "HBoxModel",
            "_view_count": null,
            "_view_module": "@jupyter-widgets/controls",
            "_view_module_version": "1.5.0",
            "_view_name": "HBoxView",
            "box_style": "",
            "children": [
              "IPY_MODEL_09a9836b92764009a75d0a08cdfa2b3d",
              "IPY_MODEL_8c104538de8c4f319a80fd06a2bca826",
              "IPY_MODEL_25b4b76fab694b60b356a64ec8ab16cb"
            ],
            "layout": "IPY_MODEL_2dac171126844efd8d4e1d96bc87e618"
          }
        },
        "09a9836b92764009a75d0a08cdfa2b3d": {
          "model_module": "@jupyter-widgets/controls",
          "model_name": "HTMLModel",
          "model_module_version": "1.5.0",
          "state": {
            "_dom_classes": [],
            "_model_module": "@jupyter-widgets/controls",
            "_model_module_version": "1.5.0",
            "_model_name": "HTMLModel",
            "_view_count": null,
            "_view_module": "@jupyter-widgets/controls",
            "_view_module_version": "1.5.0",
            "_view_name": "HTMLView",
            "description": "",
            "description_tooltip": null,
            "layout": "IPY_MODEL_1912f9a6934c4b0b935f06d114415dd5",
            "placeholder": "​",
            "style": "IPY_MODEL_681c8920a4e44502b8ff8e938f7dc5e8",
            "value": "100%"
          }
        },
        "8c104538de8c4f319a80fd06a2bca826": {
          "model_module": "@jupyter-widgets/controls",
          "model_name": "FloatProgressModel",
          "model_module_version": "1.5.0",
          "state": {
            "_dom_classes": [],
            "_model_module": "@jupyter-widgets/controls",
            "_model_module_version": "1.5.0",
            "_model_name": "FloatProgressModel",
            "_view_count": null,
            "_view_module": "@jupyter-widgets/controls",
            "_view_module_version": "1.5.0",
            "_view_name": "ProgressView",
            "bar_style": "success",
            "description": "",
            "description_tooltip": null,
            "layout": "IPY_MODEL_777f68e0f4024dc89ee26ba55495f502",
            "max": 2,
            "min": 0,
            "orientation": "horizontal",
            "style": "IPY_MODEL_b6ea5eae40af40c4bc36f77afb26dcfb",
            "value": 2
          }
        },
        "25b4b76fab694b60b356a64ec8ab16cb": {
          "model_module": "@jupyter-widgets/controls",
          "model_name": "HTMLModel",
          "model_module_version": "1.5.0",
          "state": {
            "_dom_classes": [],
            "_model_module": "@jupyter-widgets/controls",
            "_model_module_version": "1.5.0",
            "_model_name": "HTMLModel",
            "_view_count": null,
            "_view_module": "@jupyter-widgets/controls",
            "_view_module_version": "1.5.0",
            "_view_name": "HTMLView",
            "description": "",
            "description_tooltip": null,
            "layout": "IPY_MODEL_6c550b1c28f44b1a8a882b65b793dbd8",
            "placeholder": "​",
            "style": "IPY_MODEL_73ee6f4417eb44d286dd2819798e006c",
            "value": " 2/2 [00:00&lt;00:00, 28.25it/s]"
          }
        },
        "2dac171126844efd8d4e1d96bc87e618": {
          "model_module": "@jupyter-widgets/base",
          "model_name": "LayoutModel",
          "model_module_version": "1.2.0",
          "state": {
            "_model_module": "@jupyter-widgets/base",
            "_model_module_version": "1.2.0",
            "_model_name": "LayoutModel",
            "_view_count": null,
            "_view_module": "@jupyter-widgets/base",
            "_view_module_version": "1.2.0",
            "_view_name": "LayoutView",
            "align_content": null,
            "align_items": null,
            "align_self": null,
            "border": null,
            "bottom": null,
            "display": null,
            "flex": null,
            "flex_flow": null,
            "grid_area": null,
            "grid_auto_columns": null,
            "grid_auto_flow": null,
            "grid_auto_rows": null,
            "grid_column": null,
            "grid_gap": null,
            "grid_row": null,
            "grid_template_areas": null,
            "grid_template_columns": null,
            "grid_template_rows": null,
            "height": null,
            "justify_content": null,
            "justify_items": null,
            "left": null,
            "margin": null,
            "max_height": null,
            "max_width": null,
            "min_height": null,
            "min_width": null,
            "object_fit": null,
            "object_position": null,
            "order": null,
            "overflow": null,
            "overflow_x": null,
            "overflow_y": null,
            "padding": null,
            "right": null,
            "top": null,
            "visibility": null,
            "width": null
          }
        },
        "1912f9a6934c4b0b935f06d114415dd5": {
          "model_module": "@jupyter-widgets/base",
          "model_name": "LayoutModel",
          "model_module_version": "1.2.0",
          "state": {
            "_model_module": "@jupyter-widgets/base",
            "_model_module_version": "1.2.0",
            "_model_name": "LayoutModel",
            "_view_count": null,
            "_view_module": "@jupyter-widgets/base",
            "_view_module_version": "1.2.0",
            "_view_name": "LayoutView",
            "align_content": null,
            "align_items": null,
            "align_self": null,
            "border": null,
            "bottom": null,
            "display": null,
            "flex": null,
            "flex_flow": null,
            "grid_area": null,
            "grid_auto_columns": null,
            "grid_auto_flow": null,
            "grid_auto_rows": null,
            "grid_column": null,
            "grid_gap": null,
            "grid_row": null,
            "grid_template_areas": null,
            "grid_template_columns": null,
            "grid_template_rows": null,
            "height": null,
            "justify_content": null,
            "justify_items": null,
            "left": null,
            "margin": null,
            "max_height": null,
            "max_width": null,
            "min_height": null,
            "min_width": null,
            "object_fit": null,
            "object_position": null,
            "order": null,
            "overflow": null,
            "overflow_x": null,
            "overflow_y": null,
            "padding": null,
            "right": null,
            "top": null,
            "visibility": null,
            "width": null
          }
        },
        "681c8920a4e44502b8ff8e938f7dc5e8": {
          "model_module": "@jupyter-widgets/controls",
          "model_name": "DescriptionStyleModel",
          "model_module_version": "1.5.0",
          "state": {
            "_model_module": "@jupyter-widgets/controls",
            "_model_module_version": "1.5.0",
            "_model_name": "DescriptionStyleModel",
            "_view_count": null,
            "_view_module": "@jupyter-widgets/base",
            "_view_module_version": "1.2.0",
            "_view_name": "StyleView",
            "description_width": ""
          }
        },
        "777f68e0f4024dc89ee26ba55495f502": {
          "model_module": "@jupyter-widgets/base",
          "model_name": "LayoutModel",
          "model_module_version": "1.2.0",
          "state": {
            "_model_module": "@jupyter-widgets/base",
            "_model_module_version": "1.2.0",
            "_model_name": "LayoutModel",
            "_view_count": null,
            "_view_module": "@jupyter-widgets/base",
            "_view_module_version": "1.2.0",
            "_view_name": "LayoutView",
            "align_content": null,
            "align_items": null,
            "align_self": null,
            "border": null,
            "bottom": null,
            "display": null,
            "flex": null,
            "flex_flow": null,
            "grid_area": null,
            "grid_auto_columns": null,
            "grid_auto_flow": null,
            "grid_auto_rows": null,
            "grid_column": null,
            "grid_gap": null,
            "grid_row": null,
            "grid_template_areas": null,
            "grid_template_columns": null,
            "grid_template_rows": null,
            "height": null,
            "justify_content": null,
            "justify_items": null,
            "left": null,
            "margin": null,
            "max_height": null,
            "max_width": null,
            "min_height": null,
            "min_width": null,
            "object_fit": null,
            "object_position": null,
            "order": null,
            "overflow": null,
            "overflow_x": null,
            "overflow_y": null,
            "padding": null,
            "right": null,
            "top": null,
            "visibility": null,
            "width": null
          }
        },
        "b6ea5eae40af40c4bc36f77afb26dcfb": {
          "model_module": "@jupyter-widgets/controls",
          "model_name": "ProgressStyleModel",
          "model_module_version": "1.5.0",
          "state": {
            "_model_module": "@jupyter-widgets/controls",
            "_model_module_version": "1.5.0",
            "_model_name": "ProgressStyleModel",
            "_view_count": null,
            "_view_module": "@jupyter-widgets/base",
            "_view_module_version": "1.2.0",
            "_view_name": "StyleView",
            "bar_color": null,
            "description_width": ""
          }
        },
        "6c550b1c28f44b1a8a882b65b793dbd8": {
          "model_module": "@jupyter-widgets/base",
          "model_name": "LayoutModel",
          "model_module_version": "1.2.0",
          "state": {
            "_model_module": "@jupyter-widgets/base",
            "_model_module_version": "1.2.0",
            "_model_name": "LayoutModel",
            "_view_count": null,
            "_view_module": "@jupyter-widgets/base",
            "_view_module_version": "1.2.0",
            "_view_name": "LayoutView",
            "align_content": null,
            "align_items": null,
            "align_self": null,
            "border": null,
            "bottom": null,
            "display": null,
            "flex": null,
            "flex_flow": null,
            "grid_area": null,
            "grid_auto_columns": null,
            "grid_auto_flow": null,
            "grid_auto_rows": null,
            "grid_column": null,
            "grid_gap": null,
            "grid_row": null,
            "grid_template_areas": null,
            "grid_template_columns": null,
            "grid_template_rows": null,
            "height": null,
            "justify_content": null,
            "justify_items": null,
            "left": null,
            "margin": null,
            "max_height": null,
            "max_width": null,
            "min_height": null,
            "min_width": null,
            "object_fit": null,
            "object_position": null,
            "order": null,
            "overflow": null,
            "overflow_x": null,
            "overflow_y": null,
            "padding": null,
            "right": null,
            "top": null,
            "visibility": null,
            "width": null
          }
        },
        "73ee6f4417eb44d286dd2819798e006c": {
          "model_module": "@jupyter-widgets/controls",
          "model_name": "DescriptionStyleModel",
          "model_module_version": "1.5.0",
          "state": {
            "_model_module": "@jupyter-widgets/controls",
            "_model_module_version": "1.5.0",
            "_model_name": "DescriptionStyleModel",
            "_view_count": null,
            "_view_module": "@jupyter-widgets/base",
            "_view_module_version": "1.2.0",
            "_view_name": "StyleView",
            "description_width": ""
          }
        }
      }
    }
  },
  "nbformat": 4,
  "nbformat_minor": 0
}