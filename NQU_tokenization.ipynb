{
  "cells": [
    {
      "cell_type": "markdown",
      "metadata": {
        "id": "view-in-github",
        "colab_type": "text"
      },
      "source": [
        "<a href=\"https://colab.research.google.com/github/howard-haowen/NLP-demos/blob/main/NQU_tokenization.ipynb\" target=\"_parent\"><img src=\"https://colab.research.google.com/assets/colab-badge.svg\" alt=\"Open In Colab\"/></a>"
      ]
    },
    {
      "cell_type": "markdown",
      "metadata": {
        "id": "BkUGVmFCX8bw"
      },
      "source": [
        "# 邁向NLP的第一步：中文分詞實作"
      ]
    },
    {
      "cell_type": "markdown",
      "source": [
        "![](https://github.com/howard-haowen/NLP-demos/raw/main/img/NQU_tokenization.png)"
      ],
      "metadata": {
        "id": "72MCBZpXSKot"
      }
    },
    {
      "cell_type": "markdown",
      "source": [
        "### 目標"
      ],
      "metadata": {
        "id": "RTtGaOGFcQL3"
      }
    },
    {
      "cell_type": "markdown",
      "source": [
        "- <font size=\"10\">學習中文分詞的工具與方法</font>\n",
        "- <font size=\"10\">了解用程式解決問題的基本方法</font>\n",
        "- <font size=\"10\">培養人文觀點的數據思維</font>"
      ],
      "metadata": {
        "id": "E2hzm3ouyjn4"
      }
    },
    {
      "cell_type": "markdown",
      "source": [
        "## 大綱"
      ],
      "metadata": {
        "id": "x4PfPGXRcWTq"
      }
    },
    {
      "cell_type": "markdown",
      "source": [
        "- <font size=\"10\">什麼是分詞</font>\n",
        "- <font size=\"10\">如何使用程式分詞</font>\n",
        "- <font size=\"10\">如何訓練分詞模型</font>"
      ],
      "metadata": {
        "id": "O34jvolvxSBB"
      }
    },
    {
      "cell_type": "markdown",
      "source": [
        "## 什麼是分詞"
      ],
      "metadata": {
        "id": "q-N-z1A6ycID"
      }
    },
    {
      "cell_type": "markdown",
      "source": [
        "### 分詞的顆粒度"
      ],
      "metadata": {
        "id": "wt_KY1C4bsqU"
      }
    },
    {
      "cell_type": "markdown",
      "source": [
        "- 三種常見的分詞顆粒度\n",
        "\n",
        "![](https://www.freecodecamp.org/news/content/images/size/w2000/2021/10/IMG_0079.jpg)"
      ],
      "metadata": {
        "id": "xgx0cSn4y9hJ"
      }
    },
    {
      "cell_type": "markdown",
      "source": [
        "### 分詞的應用"
      ],
      "metadata": {
        "id": "0bG-9Vlrbo4J"
      }
    },
    {
      "cell_type": "markdown",
      "source": [
        "- 詞頻分析與詞雲\n",
        "\n",
        "![](https://resilienteducator.com/wp-content/uploads/2015/09/Revising-With-Pictures-How-Word-Clouds-Help-Students-Become-Better-Writers.jpg)"
      ],
      "metadata": {
        "id": "4mj9apMddApc"
      }
    },
    {
      "cell_type": "markdown",
      "source": [
        "- 相似文本查找\n",
        "\n",
        "![](https://miro.medium.com/max/926/1*u2ZZPh5er5YbmOg7k-s0-A.png)"
      ],
      "metadata": {
        "id": "WCx_YM8QdUEp"
      }
    },
    {
      "cell_type": "markdown",
      "source": [
        "- 文本自動分類\n",
        "![](https://miro.medium.com/max/1400/1*Vjw0aSQDfmoclwgkiU3dfA.png)"
      ],
      "metadata": {
        "id": "23Yz7MwpfX7n"
      }
    },
    {
      "cell_type": "markdown",
      "source": [
        "- 意圖理解\n",
        "![](https://www.interactions.com/wp-content/uploads/2020/03/nlp_graphics_2.svg)"
      ],
      "metadata": {
        "id": "U1ToXtrLd582"
      }
    },
    {
      "cell_type": "markdown",
      "source": [
        "- NLP技術應用的第一步都是分詞\n",
        "![](https://www.xenonstack.com/hubfs/nlp-applications.png)"
      ],
      "metadata": {
        "id": "XmYu5-j9gB3Q"
      }
    },
    {
      "cell_type": "markdown",
      "source": [
        "### 分詞的手段"
      ],
      "metadata": {
        "id": "ZuA3C62scAOg"
      }
    },
    {
      "cell_type": "markdown",
      "source": [
        "\n",
        "- <font size=\"8\"><font size=\"8\">幾種分詞的手段</font></font>\n",
        "<font size=\"8\"></font>\n",
        "    - <font size=\"8\">使用套裝軟體，例如[TagAnt](https://www.laurenceanthony.net/software/tagant/)</font>\n",
        "    - <font size=\"8\">使用線上工具，例如[TOCFL華語詞彙通](http://huayutools.mtc.ntnu.edu.tw/ts/TextSegmentation.aspx)或是[我寫的網頁應用程式](https://howard-haowen-spacy-streamlit-app-c97wq4.streamlit.app/Mandarin)</font>\n",
        "    - <font size=\"8\">使用程式語言，例如Python</font>"
      ],
      "metadata": {
        "id": "nBXXM7p-iHyI"
      }
    },
    {
      "cell_type": "markdown",
      "source": [
        "## 如何使用程式分詞"
      ],
      "metadata": {
        "id": "A5fCd-yARKGa"
      }
    },
    {
      "cell_type": "markdown",
      "source": [
        "### 中文分詞模型"
      ],
      "metadata": {
        "id": "Etvx59ddgm_W"
      }
    },
    {
      "cell_type": "markdown",
      "source": [
        "- <font size=\"8\">幾個代表性的中文分詞模型</font>\n",
        "    - <font size=\"8\">結巴 jieba</font>\n",
        "    - <font size=\"8\">北大分詞 PKUSeg </font>\n",
        "    - <font size=\"8\">中研院 CKIP Transformers</font>"
      ],
      "metadata": {
        "id": "0IU6THfTb3Fi"
      }
    },
    {
      "cell_type": "markdown",
      "source": [
        "### NLP框架"
      ],
      "metadata": {
        "id": "hPEUzH8TgxY_"
      }
    },
    {
      "cell_type": "markdown",
      "source": [
        "- 使用NLP框架`spaCy`整合各種模型的使用\n",
        "\n",
        "![](https://d33wubrfki0l68.cloudfront.net/3ad0582d97663a1272ffc4ccf09f1c5b335b17e9/7f49c/pipeline-fde48da9b43661abcdf62ab70a546d71.svg)"
      ],
      "metadata": {
        "id": "L-3l_YmmfjDd"
      }
    },
    {
      "cell_type": "code",
      "source": [
        "#@title\n",
        "!pip install -q -U pip setuptools wheel\n",
        "!pip install -q -U spacy\n",
        "!python -m spacy download zh_core_web_sm"
      ],
      "metadata": {
        "colab": {
          "base_uri": "https://localhost:8080/"
        },
        "cellView": "form",
        "id": "W75zNlFhxpNw",
        "outputId": "5b99db0b-d5ad-44b8-f9a5-b6aee6e801ff"
      },
      "execution_count": 1,
      "outputs": [
        {
          "output_type": "stream",
          "name": "stdout",
          "text": [
            "\u001b[33mWARNING: Running pip as the 'root' user can result in broken permissions and conflicting behaviour with the system package manager. It is recommended to use a virtual environment instead: https://pip.pypa.io/warnings/venv\u001b[0m\u001b[33m\n",
            "\u001b[0m\u001b[33mWARNING: Running pip as the 'root' user can result in broken permissions and conflicting behaviour with the system package manager. It is recommended to use a virtual environment instead: https://pip.pypa.io/warnings/venv\u001b[0m\u001b[33m\n",
            "\u001b[0m2022-11-17 14:17:06.038963: E tensorflow/stream_executor/cuda/cuda_driver.cc:271] failed call to cuInit: CUDA_ERROR_NO_DEVICE: no CUDA-capable device is detected\n",
            "Looking in indexes: https://pypi.org/simple, https://us-python.pkg.dev/colab-wheels/public/simple/\n",
            "Collecting zh-core-web-sm==3.4.0\n",
            "  Downloading https://github.com/explosion/spacy-models/releases/download/zh_core_web_sm-3.4.0/zh_core_web_sm-3.4.0-py3-none-any.whl (48.4 MB)\n",
            "\u001b[2K     \u001b[90m━━━━━━━━━━━━━━━━━━━━━━━━━━━━━━━━━━━━━━━━\u001b[0m \u001b[32m48.4/48.4 MB\u001b[0m \u001b[31m12.2 MB/s\u001b[0m eta \u001b[36m0:00:00\u001b[0m\n",
            "\u001b[?25hRequirement already satisfied: spacy<3.5.0,>=3.4.0 in /usr/local/lib/python3.7/dist-packages (from zh-core-web-sm==3.4.0) (3.4.3)\n",
            "Requirement already satisfied: spacy-pkuseg<0.1.0,>=0.0.27 in /usr/local/lib/python3.7/dist-packages (from zh-core-web-sm==3.4.0) (0.0.32)\n",
            "Requirement already satisfied: jinja2 in /usr/local/lib/python3.7/dist-packages (from spacy<3.5.0,>=3.4.0->zh-core-web-sm==3.4.0) (2.11.3)\n",
            "Requirement already satisfied: spacy-loggers<2.0.0,>=1.0.0 in /usr/local/lib/python3.7/dist-packages (from spacy<3.5.0,>=3.4.0->zh-core-web-sm==3.4.0) (1.0.3)\n",
            "Requirement already satisfied: wasabi<1.1.0,>=0.9.1 in /usr/local/lib/python3.7/dist-packages (from spacy<3.5.0,>=3.4.0->zh-core-web-sm==3.4.0) (0.10.1)\n",
            "Requirement already satisfied: thinc<8.2.0,>=8.1.0 in /usr/local/lib/python3.7/dist-packages (from spacy<3.5.0,>=3.4.0->zh-core-web-sm==3.4.0) (8.1.5)\n",
            "Requirement already satisfied: preshed<3.1.0,>=3.0.2 in /usr/local/lib/python3.7/dist-packages (from spacy<3.5.0,>=3.4.0->zh-core-web-sm==3.4.0) (3.0.8)\n",
            "Requirement already satisfied: packaging>=20.0 in /usr/local/lib/python3.7/dist-packages (from spacy<3.5.0,>=3.4.0->zh-core-web-sm==3.4.0) (21.3)\n",
            "Requirement already satisfied: pydantic!=1.8,!=1.8.1,<1.11.0,>=1.7.4 in /usr/local/lib/python3.7/dist-packages (from spacy<3.5.0,>=3.4.0->zh-core-web-sm==3.4.0) (1.10.2)\n",
            "Requirement already satisfied: numpy>=1.15.0 in /usr/local/lib/python3.7/dist-packages (from spacy<3.5.0,>=3.4.0->zh-core-web-sm==3.4.0) (1.21.6)\n",
            "Requirement already satisfied: cymem<2.1.0,>=2.0.2 in /usr/local/lib/python3.7/dist-packages (from spacy<3.5.0,>=3.4.0->zh-core-web-sm==3.4.0) (2.0.7)\n",
            "Requirement already satisfied: langcodes<4.0.0,>=3.2.0 in /usr/local/lib/python3.7/dist-packages (from spacy<3.5.0,>=3.4.0->zh-core-web-sm==3.4.0) (3.3.0)\n",
            "Requirement already satisfied: typer<0.8.0,>=0.3.0 in /usr/local/lib/python3.7/dist-packages (from spacy<3.5.0,>=3.4.0->zh-core-web-sm==3.4.0) (0.4.2)\n",
            "Requirement already satisfied: catalogue<2.1.0,>=2.0.6 in /usr/local/lib/python3.7/dist-packages (from spacy<3.5.0,>=3.4.0->zh-core-web-sm==3.4.0) (2.0.8)\n",
            "Requirement already satisfied: pathy>=0.3.5 in /usr/local/lib/python3.7/dist-packages (from spacy<3.5.0,>=3.4.0->zh-core-web-sm==3.4.0) (0.6.2)\n",
            "Requirement already satisfied: srsly<3.0.0,>=2.4.3 in /usr/local/lib/python3.7/dist-packages (from spacy<3.5.0,>=3.4.0->zh-core-web-sm==3.4.0) (2.4.5)\n",
            "Requirement already satisfied: murmurhash<1.1.0,>=0.28.0 in /usr/local/lib/python3.7/dist-packages (from spacy<3.5.0,>=3.4.0->zh-core-web-sm==3.4.0) (1.0.9)\n",
            "Requirement already satisfied: tqdm<5.0.0,>=4.38.0 in /usr/local/lib/python3.7/dist-packages (from spacy<3.5.0,>=3.4.0->zh-core-web-sm==3.4.0) (4.64.1)\n",
            "Requirement already satisfied: setuptools in /usr/local/lib/python3.7/dist-packages (from spacy<3.5.0,>=3.4.0->zh-core-web-sm==3.4.0) (65.5.1)\n",
            "Requirement already satisfied: requests<3.0.0,>=2.13.0 in /usr/local/lib/python3.7/dist-packages (from spacy<3.5.0,>=3.4.0->zh-core-web-sm==3.4.0) (2.23.0)\n",
            "Requirement already satisfied: spacy-legacy<3.1.0,>=3.0.10 in /usr/local/lib/python3.7/dist-packages (from spacy<3.5.0,>=3.4.0->zh-core-web-sm==3.4.0) (3.0.10)\n",
            "Requirement already satisfied: typing-extensions<4.2.0,>=3.7.4 in /usr/local/lib/python3.7/dist-packages (from spacy<3.5.0,>=3.4.0->zh-core-web-sm==3.4.0) (4.1.1)\n",
            "Requirement already satisfied: zipp>=0.5 in /usr/local/lib/python3.7/dist-packages (from catalogue<2.1.0,>=2.0.6->spacy<3.5.0,>=3.4.0->zh-core-web-sm==3.4.0) (3.10.0)\n",
            "Requirement already satisfied: pyparsing!=3.0.5,>=2.0.2 in /usr/local/lib/python3.7/dist-packages (from packaging>=20.0->spacy<3.5.0,>=3.4.0->zh-core-web-sm==3.4.0) (3.0.9)\n",
            "Requirement already satisfied: smart-open<6.0.0,>=5.2.1 in /usr/local/lib/python3.7/dist-packages (from pathy>=0.3.5->spacy<3.5.0,>=3.4.0->zh-core-web-sm==3.4.0) (5.2.1)\n",
            "Requirement already satisfied: chardet<4,>=3.0.2 in /usr/local/lib/python3.7/dist-packages (from requests<3.0.0,>=2.13.0->spacy<3.5.0,>=3.4.0->zh-core-web-sm==3.4.0) (3.0.4)\n",
            "Requirement already satisfied: idna<3,>=2.5 in /usr/local/lib/python3.7/dist-packages (from requests<3.0.0,>=2.13.0->spacy<3.5.0,>=3.4.0->zh-core-web-sm==3.4.0) (2.10)\n",
            "Requirement already satisfied: urllib3!=1.25.0,!=1.25.1,<1.26,>=1.21.1 in /usr/local/lib/python3.7/dist-packages (from requests<3.0.0,>=2.13.0->spacy<3.5.0,>=3.4.0->zh-core-web-sm==3.4.0) (1.24.3)\n",
            "Requirement already satisfied: certifi>=2017.4.17 in /usr/local/lib/python3.7/dist-packages (from requests<3.0.0,>=2.13.0->spacy<3.5.0,>=3.4.0->zh-core-web-sm==3.4.0) (2022.9.24)\n",
            "Requirement already satisfied: blis<0.8.0,>=0.7.8 in /usr/local/lib/python3.7/dist-packages (from thinc<8.2.0,>=8.1.0->spacy<3.5.0,>=3.4.0->zh-core-web-sm==3.4.0) (0.7.9)\n",
            "Requirement already satisfied: confection<1.0.0,>=0.0.1 in /usr/local/lib/python3.7/dist-packages (from thinc<8.2.0,>=8.1.0->spacy<3.5.0,>=3.4.0->zh-core-web-sm==3.4.0) (0.0.3)\n",
            "Requirement already satisfied: click<9.0.0,>=7.1.1 in /usr/local/lib/python3.7/dist-packages (from typer<0.8.0,>=0.3.0->spacy<3.5.0,>=3.4.0->zh-core-web-sm==3.4.0) (7.1.2)\n",
            "Requirement already satisfied: MarkupSafe>=0.23 in /usr/local/lib/python3.7/dist-packages (from jinja2->spacy<3.5.0,>=3.4.0->zh-core-web-sm==3.4.0) (2.0.1)\n",
            "\u001b[33mWARNING: Running pip as the 'root' user can result in broken permissions and conflicting behaviour with the system package manager. It is recommended to use a virtual environment instead: https://pip.pypa.io/warnings/venv\u001b[0m\u001b[33m\n",
            "\u001b[0m\u001b[38;5;2m✔ Download and installation successful\u001b[0m\n",
            "You can now load the package via spacy.load('zh_core_web_sm')\n"
          ]
        }
      ]
    },
    {
      "cell_type": "code",
      "source": [
        "#@title\n",
        "\n",
        "from spacy.lang.zh import Chinese\n",
        "\n",
        "def text2tokens(text, \n",
        "                segmenter=\"char\", \n",
        "                seperator=\"|\",\n",
        "                pkuseg_model=\"mixed\"):\n",
        "    \n",
        "    tokenizers = [\"jieba\", \"pkuseg\"]\n",
        "    pkuseg_models = [\"mixed\", \"news\", \"web\", \"tourism\", \"spacy_ontonotes\"]\n",
        "\n",
        "    if segmenter == \"char\":\n",
        "        nlp = Chinese()\n",
        "    else:\n",
        "        if segmenter in tokenizers:\n",
        "            cfg = {\"segmenter\": segmenter}\n",
        "            nlp = Chinese.from_config({\"nlp\": {\"tokenizer\": cfg}})\n",
        "        else:\n",
        "            print(\"Use /jieba/ or /pkuseg/ for the segmenter parameter!\")\n",
        "            pass\n",
        "\n",
        "        if (segmenter == \"pkuseg\") and (pkuseg_model in pkuseg_models):\n",
        "            nlp.tokenizer.initialize(pkuseg_model=pkuseg_model)\n",
        "\n",
        "    doc = nlp(text)\n",
        "    tokens = [token.text for token in doc]\n",
        "    print(f\"Tokens by {segmenter}:\")\n",
        "    print(\"=====\")\n",
        "    print(f\"{seperator}\".join(tokens))"
      ],
      "metadata": {
        "cellView": "form",
        "id": "nlmWmDkshnWR"
      },
      "execution_count": 2,
      "outputs": []
    },
    {
      "cell_type": "markdown",
      "source": [
        "### 以字為切分單位"
      ],
      "metadata": {
        "id": "oY5xfebakWWa"
      }
    },
    {
      "cell_type": "code",
      "source": [
        "TEST = \"宜家家居新店店店長的名字好長喔\"\n",
        "text2tokens(TEST, \n",
        "            segmenter=\"char\", \n",
        "            seperator=\"|\")"
      ],
      "metadata": {
        "colab": {
          "base_uri": "https://localhost:8080/"
        },
        "id": "KTZ79bp9kkbs",
        "outputId": "66c15647-3821-43bd-cc9b-ce110a46f76f"
      },
      "execution_count": 3,
      "outputs": [
        {
          "output_type": "stream",
          "name": "stdout",
          "text": [
            "Tokens by char:\n",
            "=====\n",
            "宜|家|家|居|新|店|店|店|長|的|名|字|好|長|喔\n"
          ]
        }
      ]
    },
    {
      "cell_type": "markdown",
      "source": [
        "### 使用spaCy內建的jieba模型斷詞"
      ],
      "metadata": {
        "id": "x-EyznJcl0qo"
      }
    },
    {
      "cell_type": "code",
      "source": [
        "TEST = \"宜家家居新店店店長的名字好長喔\"\n",
        "text2tokens(TEST, \n",
        "            segmenter=\"jieba\", \n",
        "            seperator=\"|\")"
      ],
      "metadata": {
        "colab": {
          "base_uri": "https://localhost:8080/"
        },
        "id": "5xFbOG5pyxCV",
        "outputId": "d4f7aca4-384f-4372-cee2-de62ec02afb0"
      },
      "execution_count": 4,
      "outputs": [
        {
          "output_type": "stream",
          "name": "stderr",
          "text": [
            "Building prefix dict from the default dictionary ...\n",
            "DEBUG:jieba:Building prefix dict from the default dictionary ...\n",
            "Dumping model to file cache /tmp/jieba.cache\n",
            "DEBUG:jieba:Dumping model to file cache /tmp/jieba.cache\n",
            "Loading model cost 1.214 seconds.\n",
            "DEBUG:jieba:Loading model cost 1.214 seconds.\n",
            "Prefix dict has been built successfully.\n",
            "DEBUG:jieba:Prefix dict has been built successfully.\n"
          ]
        },
        {
          "output_type": "stream",
          "name": "stdout",
          "text": [
            "Tokens by jieba:\n",
            "=====\n",
            "宜家|家居|新店|店店|長|的|名字|好長|喔\n"
          ]
        }
      ]
    },
    {
      "cell_type": "markdown",
      "source": [
        "### ✍ 練習時間"
      ],
      "metadata": {
        "id": "Z_iFQr9-94lO"
      }
    },
    {
      "cell_type": "markdown",
      "source": [
        "- 在TEST的引號內輸入一段文字\n",
        "- 在seperator的引號內輸入一個符號\n",
        "- 刪除頭尾的 \"\"\" 之後執行"
      ],
      "metadata": {
        "id": "Hq7XGaCPAXxS"
      }
    },
    {
      "cell_type": "code",
      "source": [
        "\"\"\"\n",
        "TEST = \"\"\n",
        "text2tokens(TEST, \n",
        "            segmenter=\"jieba\", \n",
        "            seperator=\"\")\n",
        "\"\"\""
      ],
      "metadata": {
        "colab": {
          "base_uri": "https://localhost:8080/",
          "height": 53
        },
        "id": "tKw1bYIe906z",
        "outputId": "748f42e1-3c48-4bfb-f937-cbb43b054111"
      },
      "execution_count": 5,
      "outputs": [
        {
          "output_type": "execute_result",
          "data": {
            "text/plain": [
              "'\\nTEST = \"\"\\ntext2tokens(TEST, \\n            segmenter=\"jieba\", \\n            seperator=\"\")\\n'"
            ],
            "application/vnd.google.colaboratory.intrinsic+json": {
              "type": "string"
            }
          },
          "metadata": {},
          "execution_count": 5
        }
      ]
    },
    {
      "cell_type": "markdown",
      "source": [
        "### 使用spaCy內建的PKUSeg模型斷詞"
      ],
      "metadata": {
        "id": "AM76wvmQm_gx"
      }
    },
    {
      "cell_type": "code",
      "source": [
        "TEST = \"宜家家居新店店店長的名字好長喔\"\n",
        "text2tokens(TEST, \n",
        "            segmenter=\"pkuseg\", \n",
        "            seperator=\"|\",\n",
        "            pkuseg_model=\"mixed\")"
      ],
      "metadata": {
        "colab": {
          "base_uri": "https://localhost:8080/"
        },
        "id": "3q7aZkvIoYfb",
        "outputId": "562d6251-7832-4b66-e12b-aa9b8f55b762"
      },
      "execution_count": 6,
      "outputs": [
        {
          "output_type": "stream",
          "name": "stderr",
          "text": [
            "Downloading: \"https://github.com/lancopku/pkuseg-python/releases/download/v0.0.16/mixed.zip\" to /root/.pkuseg/mixed.zip\n",
            "100%|██████████| 47330222/47330222 [00:03<00:00, 15626661.33it/s]\n",
            "WARNING: features.msgpack does not exist, try loading features.pkl\n"
          ]
        },
        {
          "output_type": "stream",
          "name": "stdout",
          "text": [
            "Tokens by pkuseg:\n",
            "=====\n",
            "宜家|家居|新店|店|店長|的|名字|好長|喔\n"
          ]
        }
      ]
    },
    {
      "cell_type": "markdown",
      "source": [
        "#### PKUSeg的多領域模型"
      ],
      "metadata": {
        "id": "wew6lkMjp9lq"
      }
    },
    {
      "cell_type": "markdown",
      "source": [
        "- PKUSeg內建的幾種領域文本模型\n",
        "    - 混合領域: `mixed`\n",
        "    - 新聞領域: `news`\n",
        "    - 網路領域: `web`\n",
        "    - 旅遊領域: `tourism`\n",
        "- spaCy根據[OntoNotes 5.0](https://catalog.ldc.upenn.edu/LDC2013T19)語料訓練的模型: `spacy_ontonotes`"
      ],
      "metadata": {
        "id": "zAWyQ5lnpsxY"
      }
    },
    {
      "cell_type": "code",
      "source": [
        "TEST = \"\"\"前年九月，打著金門大學新生的名號，我來到了中外馳名的離島金門。\\n  初來乍到，我看到金門有許多與台灣不同的人事物，像是古色古香的閩南建築；像是富思古幽情的眾多古蹟；像是慎終追遠的大小宗祠；像是令人口頰留香的傳統美食……等。\"\"\"\n",
        "TEST"
      ],
      "metadata": {
        "colab": {
          "base_uri": "https://localhost:8080/",
          "height": 71
        },
        "id": "hxgISulH0bd3",
        "outputId": "e8260662-2d87-4f85-b84c-f425a649d9fe"
      },
      "execution_count": 7,
      "outputs": [
        {
          "output_type": "execute_result",
          "data": {
            "text/plain": [
              "'前年九月，打著金門大學新生的名號，我來到了中外馳名的離島金門。\\n  初來乍到，我看到金門有許多與台灣不同的人事物，像是古色古香的閩南建築；像是富思古幽情的眾多古蹟；像是慎終追遠的大小宗祠；像是令人口頰留香的傳統美食……等。'"
            ],
            "application/vnd.google.colaboratory.intrinsic+json": {
              "type": "string"
            }
          },
          "metadata": {},
          "execution_count": 7
        }
      ]
    },
    {
      "cell_type": "code",
      "source": [
        "text2tokens(TEST, \n",
        "            segmenter=\"pkuseg\", \n",
        "            seperator=\"|\",\n",
        "            pkuseg_model=\"mixed\")"
      ],
      "metadata": {
        "colab": {
          "base_uri": "https://localhost:8080/"
        },
        "id": "QVh0KXOVpBFu",
        "outputId": "e0d99dd7-d5cc-434b-ccba-5c586010135a"
      },
      "execution_count": 8,
      "outputs": [
        {
          "output_type": "stream",
          "name": "stderr",
          "text": [
            "WARNING: features.msgpack does not exist, try loading features.pkl\n"
          ]
        },
        {
          "output_type": "stream",
          "name": "stdout",
          "text": [
            "Tokens by pkuseg:\n",
            "=====\n",
            "前年|九月|，|打著|金門|大學|新生|的|名號|，|我|來到|了|中外|馳名|的|離島|金門|。|\n",
            "  |初來|乍到|，|我|看到|金門|有|許|多|與|台灣|不同|的|人|事物|，|像是|古色古香|的|閩南|建築|；|像是|富思古|幽情|的|眾多|古蹟|；|像是|慎終|追遠|的|大小|宗祠|；|像是|令|人口|頰留香|的|傳統|美食|……|等|。\n"
          ]
        }
      ]
    },
    {
      "cell_type": "code",
      "source": [
        "text2tokens(TEST, \n",
        "            segmenter=\"pkuseg\", \n",
        "            seperator=\"|\",\n",
        "            pkuseg_model=\"news\")"
      ],
      "metadata": {
        "colab": {
          "base_uri": "https://localhost:8080/"
        },
        "id": "rErTIFy5o38d",
        "outputId": "a7926423-57e2-4a89-c440-0a2ac9aa3e4b"
      },
      "execution_count": 9,
      "outputs": [
        {
          "output_type": "stream",
          "name": "stderr",
          "text": [
            "Downloading: \"https://github.com/lancopku/pkuseg-python/releases/download/v0.0.16/news.zip\" to /root/.pkuseg/news.zip\n",
            "100%|██████████| 43767759/43767759 [00:01<00:00, 36648913.37it/s]\n",
            "WARNING: features.msgpack does not exist, try loading features.pkl\n"
          ]
        },
        {
          "output_type": "stream",
          "name": "stdout",
          "text": [
            "Tokens by pkuseg:\n",
            "=====\n",
            "前年九月|，|打著|金門|大學|新生|的|名號|，|我|來|到|了|中外|馳名|的|離島|金門|。|\n",
            "  |初來|乍|到|，|我|看到|金|門|有|許|多|與|台灣|不同|的|人|事物|，|像|是|古色古香|的|閩|南|建|築|；|像|是|富思|古|幽情|的|眾|多|古蹟|；|像|是|慎終|追遠|的|大小|宗祠|；|像|是|令人|口頰|留|香|的|傳統|美食|……|等|。\n"
          ]
        }
      ]
    },
    {
      "cell_type": "code",
      "source": [
        "text2tokens(TEST, \n",
        "            segmenter=\"pkuseg\", \n",
        "            seperator=\"|\",\n",
        "            pkuseg_model=\"web\")"
      ],
      "metadata": {
        "colab": {
          "base_uri": "https://localhost:8080/"
        },
        "id": "QoFvWTCAo-th",
        "outputId": "e71fb181-daad-494b-d2ed-0803af8c341f"
      },
      "execution_count": 10,
      "outputs": [
        {
          "output_type": "stream",
          "name": "stderr",
          "text": [
            "Downloading: \"https://github.com/lancopku/pkuseg-python/releases/download/v0.0.16/web.zip\" to /root/.pkuseg/web.zip\n",
            "100%|██████████| 17478354/17478354 [00:00<00:00, 38405921.44it/s]\n",
            "WARNING: features.msgpack does not exist, try loading features.pkl\n"
          ]
        },
        {
          "output_type": "stream",
          "name": "stdout",
          "text": [
            "Tokens by pkuseg:\n",
            "=====\n",
            "前年|九月|，|打著|金門|大學|新生|的|名號|，|我|來到|了|中外|馳名|的|離島|金門|。|\n",
            "  |初來|乍到|，|我|看到|金門|有|許多|與|台灣|不同|的|人|事物|，|像|是|古色古香|的|閩南|建築|；|像|是|富思古|幽情|的|眾多|古蹟|；|像是|慎終|追遠|的|大小|宗祠|；|像是|令|人|口頰|留香|的|傳統|美食|……|等|。\n"
          ]
        }
      ]
    },
    {
      "cell_type": "code",
      "source": [
        "text2tokens(TEST, \n",
        "            segmenter=\"pkuseg\", \n",
        "            seperator=\"|\",\n",
        "            pkuseg_model=\"tourism\")"
      ],
      "metadata": {
        "colab": {
          "base_uri": "https://localhost:8080/"
        },
        "id": "C-SFMzxVpCOy",
        "outputId": "7a3d6b10-c6dc-482d-ef5f-28f73d059013"
      },
      "execution_count": 11,
      "outputs": [
        {
          "output_type": "stream",
          "name": "stderr",
          "text": [
            "Downloading: \"https://github.com/lancopku/pkuseg-python/releases/download/v0.0.16/tourism.zip\" to /root/.pkuseg/tourism.zip\n",
            "100%|██████████| 45390798/45390798 [00:03<00:00, 12713984.74it/s]\n",
            "WARNING: features.msgpack does not exist, try loading features.pkl\n"
          ]
        },
        {
          "output_type": "stream",
          "name": "stdout",
          "text": [
            "Tokens by pkuseg:\n",
            "=====\n",
            "前年|九月|，|打著|金門|大學|新生|的|名號|，|我|來|到|了|中外|馳名|的|離島|金門|。|\n",
            "  |初|來|乍到|，|我|看到|金門|有|許|多|與|台灣|不同|的|人|事物|，|像|是|古色古香|的|閩南|建築|；|像|是|富思古|幽情|的|眾多|古蹟|；|像|是|慎終|追遠|的|大小|宗祠|；|像|是|令|人口|頰留香|的|傳統|美食|……|等|。\n"
          ]
        }
      ]
    },
    {
      "cell_type": "code",
      "source": [
        "text2tokens(TEST, \n",
        "            segmenter=\"pkuseg\", \n",
        "            seperator=\"|\",\n",
        "            pkuseg_model=\"spacy_ontonotes\")"
      ],
      "metadata": {
        "colab": {
          "base_uri": "https://localhost:8080/"
        },
        "id": "WpzqKMi4pWv4",
        "outputId": "2715f9bf-37cd-4bd8-d35d-46765f234689"
      },
      "execution_count": 12,
      "outputs": [
        {
          "output_type": "stream",
          "name": "stderr",
          "text": [
            "Downloading: \"https://github.com/explosion/spacy-pkuseg/releases/download/v0.0.26/spacy_ontonotes.zip\" to /root/.pkuseg/spacy_ontonotes.zip\n",
            "100%|██████████| 34567143/34567143 [00:01<00:00, 30710338.75it/s]\n"
          ]
        },
        {
          "output_type": "stream",
          "name": "stdout",
          "text": [
            "Tokens by pkuseg:\n",
            "=====\n",
            "前年|九月|，|打著|金門|大學|新生|的|名號|，|我|來到|了|中外|馳名|的|離島|金門|。|\n",
            "  |初來|乍到|，|我|看到|金門|有|許|多|與|台灣|不同|的|人|事物|，|像是|古色古香|的|閩南|建築|；|像是|富思古|幽情|的|眾多|古蹟|；|像是|慎終|追遠|的|大小|宗祠|；|像|是|令|人口|頰|留香|的|傳統|美食|……|等|。\n"
          ]
        }
      ]
    },
    {
      "cell_type": "markdown",
      "source": [
        "#### ✍ 練習時間"
      ],
      "metadata": {
        "id": "wY0_A-S39lPw"
      }
    },
    {
      "cell_type": "markdown",
      "source": [
        "- 在TEST的引號內輸入一段文字\n",
        "- 在seperator的引號內輸入一個符號\n",
        "- 在pkuseg_model的引號內輸入以下任何一個\n",
        "    - `mixed`\n",
        "    - `news`\n",
        "    - `web`\n",
        "    - `tourism`\n",
        "    - `spacy_ontonotes`\n",
        "- 刪除頭尾的 \"\"\" 之後執行\n",
        "- 至少比較三種模型的結果差異"
      ],
      "metadata": {
        "id": "obaf3houAheU"
      }
    },
    {
      "cell_type": "code",
      "source": [
        "\"\"\"\n",
        "TEST = \"\"\n",
        "text2tokens(TEST, \n",
        "            segmenter=\"pkuseg\", \n",
        "            seperator=\"\",\n",
        "            pkuseg_model=\"\")\n",
        "\"\"\""
      ],
      "metadata": {
        "colab": {
          "base_uri": "https://localhost:8080/",
          "height": 53
        },
        "id": "UKZZYmil_26q",
        "outputId": "f8f0563f-435c-478c-9225-fb9f9991a7f1"
      },
      "execution_count": 13,
      "outputs": [
        {
          "output_type": "execute_result",
          "data": {
            "text/plain": [
              "'\\nTEST = \"\"\\ntext2tokens(TEST, \\n            segmenter=\"pkuseg\", \\n            seperator=\"\",\\n            pkuseg_model=\"\")\\n'"
            ],
            "application/vnd.google.colaboratory.intrinsic+json": {
              "type": "string"
            }
          },
          "metadata": {},
          "execution_count": 13
        }
      ]
    },
    {
      "cell_type": "markdown",
      "source": [
        "### 更新詞典修改分詞結果"
      ],
      "metadata": {
        "id": "Utn61HRV4Qy1"
      }
    },
    {
      "cell_type": "markdown",
      "source": [
        "#### 小量更新"
      ],
      "metadata": {
        "id": "ENIU650g1Pkh"
      }
    },
    {
      "cell_type": "code",
      "source": [
        "#@title\n",
        "def init_pkuseg(pkuseg_model=\"mixed\"):\n",
        "    cfg = {\"segmenter\": \"pkuseg\"}\n",
        "    nlp = Chinese.from_config({\"nlp\": {\"tokenizer\": cfg}})\n",
        "    nlp.tokenizer.initialize(pkuseg_model=pkuseg_model)\n",
        "    return nlp"
      ],
      "metadata": {
        "cellView": "form",
        "id": "av-jQePdswGB"
      },
      "execution_count": 14,
      "outputs": []
    },
    {
      "cell_type": "code",
      "source": [
        "#@title\n",
        "def update_pkuseg(nlp, wordlist):\n",
        "    nlp.tokenizer.pkuseg_update_user_dict(wordlist)\n",
        "    return nlp"
      ],
      "metadata": {
        "cellView": "form",
        "id": "6YUMuEx_q4JC"
      },
      "execution_count": 15,
      "outputs": []
    },
    {
      "cell_type": "code",
      "source": [
        "#@title\n",
        "def show_tokens(nlp, text, seperator=\"|\"):\n",
        "    doc = nlp(text)\n",
        "    tokens = [token.text for token in doc]\n",
        "    print(f\"{seperator}\".join(tokens))"
      ],
      "metadata": {
        "cellView": "form",
        "id": "UDTxK2SFvSmv"
      },
      "execution_count": 16,
      "outputs": []
    },
    {
      "cell_type": "code",
      "source": [
        "default_nlp = init_pkuseg()\n",
        "show_tokens(default_nlp, TEST)"
      ],
      "metadata": {
        "colab": {
          "base_uri": "https://localhost:8080/"
        },
        "id": "sAufP6wA4gvv",
        "outputId": "0c4f72a1-6d53-4cf4-bdde-fd78e252d0a0"
      },
      "execution_count": 17,
      "outputs": [
        {
          "output_type": "stream",
          "name": "stderr",
          "text": [
            "WARNING: features.msgpack does not exist, try loading features.pkl\n"
          ]
        },
        {
          "output_type": "stream",
          "name": "stdout",
          "text": [
            "前年|九月|，|打著|金門|大學|新生|的|名號|，|我|來到|了|中外|馳名|的|離島|金門|。|\n",
            "  |初來|乍到|，|我|看到|金門|有|許|多|與|台灣|不同|的|人|事物|，|像是|古色古香|的|閩南|建築|；|像是|富思古|幽情|的|眾多|古蹟|；|像是|慎終|追遠|的|大小|宗祠|；|像是|令|人口|頰留香|的|傳統|美食|……|等|。\n"
          ]
        }
      ]
    },
    {
      "cell_type": "code",
      "source": [
        "WORDLIST = [\"思古幽情\", \"口頰留香\"]\n",
        "updated_nlp = update_pkuseg(default_nlp, WORDLIST)\n",
        "show_tokens(updated_nlp, TEST)"
      ],
      "metadata": {
        "colab": {
          "base_uri": "https://localhost:8080/"
        },
        "id": "8QB_Buousq9Q",
        "outputId": "cd95fdc4-d7d1-46cd-b83e-b13f5ada088f"
      },
      "execution_count": 18,
      "outputs": [
        {
          "output_type": "stream",
          "name": "stdout",
          "text": [
            "前年|九月|，|打著|金門|大學|新生|的|名號|，|我|來到|了|中外|馳名|的|離島|金門|。|\n",
            "  |初來|乍到|，|我|看到|金門|有|許|多|與|台灣|不同|的|人|事物|，|像是|古色古香|的|閩南|建築|；|像是|富|思古幽情|的|眾多|古蹟|；|像是|慎終|追遠|的|大小|宗祠|；|像是|令|人|口頰留香|的|傳統|美食|……|等|。\n"
          ]
        }
      ]
    },
    {
      "cell_type": "code",
      "source": [
        "TEST = \"金門貢糖真美味口頰留香的味道令人懷念不已\"\n",
        "show_tokens(updated_nlp, TEST)"
      ],
      "metadata": {
        "colab": {
          "base_uri": "https://localhost:8080/"
        },
        "id": "2PnzetQ2xPCR",
        "outputId": "5bcc5089-8674-48cb-f5bb-52a745699681"
      },
      "execution_count": 19,
      "outputs": [
        {
          "output_type": "stream",
          "name": "stdout",
          "text": [
            "金門|貢糖|真|美味|口頰留香|的|味道|令|人|懷念|不已\n"
          ]
        }
      ]
    },
    {
      "cell_type": "markdown",
      "source": [
        "#### ✍ 練習時間"
      ],
      "metadata": {
        "id": "UgWJ9YvXBhzR"
      }
    },
    {
      "cell_type": "markdown",
      "source": [
        "- 在TEST的引號內輸入一段文字\n",
        "- 刪除頭尾的 \"\"\" 之後執行"
      ],
      "metadata": {
        "id": "ThtkKZIOBo4-"
      }
    },
    {
      "cell_type": "code",
      "source": [
        "\"\"\"\n",
        "TEST = \"\"\n",
        "show_tokens(default_nlp, TEST)\n",
        "\"\"\""
      ],
      "metadata": {
        "colab": {
          "base_uri": "https://localhost:8080/",
          "height": 35
        },
        "id": "71ZVZ6KsB6zP",
        "outputId": "ceb76385-2b5c-4395-f48b-69e71b4913ca"
      },
      "execution_count": 20,
      "outputs": [
        {
          "output_type": "execute_result",
          "data": {
            "text/plain": [
              "'\\nTEST = \"\"\\nshow_tokens(default_nlp, TEST)\\n'"
            ],
            "application/vnd.google.colaboratory.intrinsic+json": {
              "type": "string"
            }
          },
          "metadata": {},
          "execution_count": 20
        }
      ]
    },
    {
      "cell_type": "markdown",
      "source": [
        "- 找出上面錯誤的分詞結果，並且把正確的詞加到WORDLIST列表當中的引號內\n",
        "- 刪除頭尾的 \"\"\" 之後執行\n",
        "- 比較更新辭典前後的分詞結果"
      ],
      "metadata": {
        "id": "lc4pjJzVBns_"
      }
    },
    {
      "cell_type": "code",
      "source": [
        "\"\"\"\n",
        "WORDLIST = [\"\", \"\"]\n",
        "updated_nlp = update_pkuseg(default_nlp, WORDLIST)\n",
        "show_tokens(updated_nlp, TEST)\n",
        "\"\"\""
      ],
      "metadata": {
        "colab": {
          "base_uri": "https://localhost:8080/",
          "height": 53
        },
        "id": "8uUvRD5DCZ41",
        "outputId": "aba01821-038b-4fe3-ab74-ed91fb4828d8"
      },
      "execution_count": 21,
      "outputs": [
        {
          "output_type": "execute_result",
          "data": {
            "text/plain": [
              "'\\nWORDLIST = [\"\", \"\"]\\nupdated_nlp = update_pkuseg(default_nlp, WORDLIST)\\nshow_tokens(updated_nlp, TEST)\\n'"
            ],
            "application/vnd.google.colaboratory.intrinsic+json": {
              "type": "string"
            }
          },
          "metadata": {},
          "execution_count": 21
        }
      ]
    },
    {
      "cell_type": "markdown",
      "source": [
        "#### 大量更新"
      ],
      "metadata": {
        "id": "A2gxrQRq1Uf7"
      }
    },
    {
      "cell_type": "markdown",
      "source": [
        "- 詞表來源\n",
        "  - [教育部成語典原始資料](https://github.com/BuzzAcademy/idioms-moe-unformatted-data/tree/master/basic-idiom-list)\n",
        "  - [結巴繁體中文詞表](https://raw.githubusercontent.com/ldkrsi/jieba-zh_TW/master/jieba/dict.txt)"
      ],
      "metadata": {
        "id": "MrLDEhK31bHT"
      }
    },
    {
      "cell_type": "code",
      "source": [
        "!wget https://raw.githubusercontent.com/BuzzAcademy/idioms-moe-unformatted-data/master/basic-idiom-list/5.txt -O idioms.txt"
      ],
      "metadata": {
        "colab": {
          "base_uri": "https://localhost:8080/"
        },
        "id": "Ddf2urJEx06K",
        "outputId": "2a17d9d9-9ddd-43a8-f80b-c6edbf7a1e1c"
      },
      "execution_count": 22,
      "outputs": [
        {
          "output_type": "stream",
          "name": "stdout",
          "text": [
            "--2022-11-17 14:18:05--  https://raw.githubusercontent.com/BuzzAcademy/idioms-moe-unformatted-data/master/basic-idiom-list/5.txt\n",
            "Resolving raw.githubusercontent.com (raw.githubusercontent.com)... 185.199.110.133, 185.199.111.133, 185.199.109.133, ...\n",
            "Connecting to raw.githubusercontent.com (raw.githubusercontent.com)|185.199.110.133|:443... connected.\n",
            "HTTP request sent, awaiting response... 200 OK\n",
            "Length: 870 [text/plain]\n",
            "Saving to: ‘idioms.txt’\n",
            "\n",
            "idioms.txt          100%[===================>]     870  --.-KB/s    in 0s      \n",
            "\n",
            "2022-11-17 14:18:05 (29.0 MB/s) - ‘idioms.txt’ saved [870/870]\n",
            "\n"
          ]
        }
      ]
    },
    {
      "cell_type": "code",
      "source": [
        "TEST = \"他痛心疾首不願同流合汙隨後便脫胎換骨令人嘆為觀止\"\n",
        "show_tokens(default_nlp, TEST)"
      ],
      "metadata": {
        "colab": {
          "base_uri": "https://localhost:8080/"
        },
        "id": "Z8ijG-2O1kkg",
        "outputId": "d932b25b-2c9c-4f7d-b969-83fa62454602"
      },
      "execution_count": 23,
      "outputs": [
        {
          "output_type": "stream",
          "name": "stdout",
          "text": [
            "他|痛心疾首|不|願|同|流合|汙隨|後|便|脫胎|換骨|令|人|嘆為|觀止\n"
          ]
        }
      ]
    },
    {
      "cell_type": "code",
      "source": [
        "#@title\n",
        "def init_pkuseg_with_dict(dict_path, pkuseg_model=\"mixed\"):\n",
        "    cfg = {\"segmenter\": \"pkuseg\"}\n",
        "    nlp = Chinese.from_config({\"nlp\": {\"tokenizer\": cfg}})\n",
        "    nlp.tokenizer.initialize(pkuseg_model=pkuseg_model,\n",
        "                             pkuseg_user_dict=dict_path)\n",
        "    return nlp"
      ],
      "metadata": {
        "cellView": "form",
        "id": "OWBNn6M43ZCu"
      },
      "execution_count": 24,
      "outputs": []
    },
    {
      "cell_type": "code",
      "source": [
        "DICT_PATH = \"./idioms.txt\"\n",
        "user_nlp = init_pkuseg_with_dict(DICT_PATH, pkuseg_model=\"mixed\")\n",
        "show_tokens(user_nlp, TEST)"
      ],
      "metadata": {
        "colab": {
          "base_uri": "https://localhost:8080/"
        },
        "id": "P-qWgTSs4D8v",
        "outputId": "be870ee1-0a3d-4e26-b9ae-e29e8f8a1a4c"
      },
      "execution_count": 25,
      "outputs": [
        {
          "output_type": "stream",
          "name": "stderr",
          "text": [
            "WARNING: features.msgpack does not exist, try loading features.pkl\n"
          ]
        },
        {
          "output_type": "stream",
          "name": "stdout",
          "text": [
            "他|痛心疾首|不|願|同流合汙|隨後|便|脫胎換骨|令|人|嘆為觀止\n"
          ]
        }
      ]
    },
    {
      "cell_type": "markdown",
      "source": [
        "#### ✍ 練習時間"
      ],
      "metadata": {
        "id": "9ar_CA2zDZDC"
      }
    },
    {
      "cell_type": "markdown",
      "source": [
        "- 從[教育部成語典原始資料](https://github.com/BuzzAcademy/idioms-moe-unformatted-data/tree/master/basic-idiom-list)選擇另一個詞表\n",
        "- 修改TEST的文字內容後重複上面三個動作"
      ],
      "metadata": {
        "id": "odKyfvS0EEdC"
      }
    },
    {
      "cell_type": "markdown",
      "source": [
        "#### 儲存模型"
      ],
      "metadata": {
        "id": "nEBhOKyy42ic"
      }
    },
    {
      "cell_type": "code",
      "source": [
        "MODEL_PATH = \"./my_nlp\"\n",
        "user_nlp.to_disk(MODEL_PATH)"
      ],
      "metadata": {
        "id": "klwwWr_T5839"
      },
      "execution_count": 26,
      "outputs": []
    },
    {
      "cell_type": "markdown",
      "source": [
        "#### 載入模型"
      ],
      "metadata": {
        "id": "0s6YsXUc6rFQ"
      }
    },
    {
      "cell_type": "code",
      "source": [
        "loaded_nlp = Chinese().from_disk(MODEL_PATH)\n",
        "show_tokens(loaded_nlp, TEST)"
      ],
      "metadata": {
        "colab": {
          "base_uri": "https://localhost:8080/"
        },
        "id": "VTRf_S036vXs",
        "outputId": "169a837c-e147-4cea-c00f-2826dcb030b2"
      },
      "execution_count": 27,
      "outputs": [
        {
          "output_type": "stream",
          "name": "stdout",
          "text": [
            "他|痛心疾首|不|願|同流合汙|隨後|便|脫胎換骨|令|人|嘆為觀止\n"
          ]
        }
      ]
    },
    {
      "cell_type": "markdown",
      "source": [
        "## 如何訓練分詞模型"
      ],
      "metadata": {
        "id": "BDmZLUK8Q_Xp"
      }
    },
    {
      "cell_type": "markdown",
      "source": [
        "### 監督式學習"
      ],
      "metadata": {
        "id": "Hos_R6hgHYx4"
      }
    },
    {
      "cell_type": "markdown",
      "source": [
        "- <font size=\"8\">需要人工驗證過的正確答案</font>\n",
        "- <font size=\"8\">模型表現較佳</font>\n",
        "- <font size=\"8\">但取得正確標記的資料需消耗較多的人力（財力）</font>\n",
        "![](https://miro.medium.com/max/1400/0*BxXP6WPtwl8sgA03)"
      ],
      "metadata": {
        "id": "BFDcnefzwW45"
      }
    },
    {
      "cell_type": "markdown",
      "source": [
        "### 非監督式學習"
      ],
      "metadata": {
        "id": "vY57joK2HmC5"
      }
    },
    {
      "cell_type": "markdown",
      "source": [
        "- <font size=\"8\">不需要人工驗證過的正確答案</font>\n",
        "- <font size=\"8\">模型表現較差</font>\n",
        "- <font size=\"8\">但可以快速取得初步結果，再逐步優化</font>\n",
        "![](https://learn.g2crowd.com/hubfs/unsupervised-learning.png)"
      ],
      "metadata": {
        "id": "bfCJYaGywayw"
      }
    },
    {
      "cell_type": "markdown",
      "source": [
        "### 準備文本"
      ],
      "metadata": {
        "id": "DmUGvNtpRTta"
      }
    },
    {
      "cell_type": "code",
      "source": [
        "#@title\n",
        "import requests\n",
        "import pandas as pd\n",
        "\n",
        "def fetch_data(keyword, limit='100'):\n",
        "    payload = {'limit': limit, \n",
        "               'offset': '0',\n",
        "               'keyword': keyword}\n",
        "    url = f\"https://api10.daoyidh.com/yhl/zh-tw/search/keyword/1.0\"\n",
        "    resp = requests.get(url, params=payload)\n",
        "    data = resp.json().get(\"data\")\n",
        "    df = pd.DataFrame(data)\n",
        "    return df"
      ],
      "metadata": {
        "cellView": "form",
        "id": "K-cYaYr7Uh2Y"
      },
      "execution_count": 28,
      "outputs": []
    },
    {
      "cell_type": "code",
      "source": [
        "KEYWORD = \"金門大學\"\n",
        "df = fetch_data(KEYWORD)\n",
        "df"
      ],
      "metadata": {
        "colab": {
          "base_uri": "https://localhost:8080/",
          "height": 815
        },
        "id": "DJ0Gy1GiZtM5",
        "outputId": "7e100cc1-1cdd-44db-fde6-66abacf39400"
      },
      "execution_count": 29,
      "outputs": [
        {
          "output_type": "execute_result",
          "data": {
            "text/plain": [
              "          date     artId author                                    label  \\\n",
              "0   2022-06-11  ART34335    陳長慶  珍惜活在當下的每一個時光 ──《浯鄉縮影：陳長慶散文集2014~2021》自序   \n",
              "1   2022-05-18  ART34425    魏千宸                          首次訪金，首次穿梭特色金大校園   \n",
              "2   2022-05-18  ART34424    洪春柳              認識自我 有取有捨 ──訪金中輔導老師李瓊芳談生活小道   \n",
              "3   2022-05-06  ART34478    陳為學                                  金嶝親橋一線牽   \n",
              "4   2022-03-29  ART34641    黃克全                  知人論世和以意逆志——談楊樹清、陳慶瀚與吳鈞堯   \n",
              "..         ...       ...    ...                                      ...   \n",
              "95  2015-05-21  ART45069    陳麗玉                                   話說后宅洋樓   \n",
              "96  2015-05-09  ART45110    蔡宜庭                               DOBGFamily   \n",
              "97  2015-05-08  ART45112    李金振                            眾志成城共創金大奇蹟（下）   \n",
              "98  2015-05-08  ART45113    莊舒惠                         建立和諧的人際關係──非暴力溝通   \n",
              "99  2015-05-07  ART45116    李金振                            眾志成城共創金大奇蹟（上）   \n",
              "\n",
              "   dataset                                            content  \n",
              "0     副刊文學  《浯鄉縮影》是我從2014至2021年，陸續在報刊發表的散文作品。即使只有少數的二十三篇，然...  \n",
              "1     副刊文學  首次乘著飛機盤桓在這座古稱浯洲的上空，正當飛機下了雲層，地表上漸漸清晰之際，首先映入眼簾的是...  \n",
              "2     副刊文學  輔導的精義：在一段時間裡，陪伴一個人，盡力地幫一個人認識自己。輔導學生認識自我，肯定自我。輔...  \n",
              "3     副刊文學  金門大學前院長陳益源教授於2018年4月29日，在金門日報的「浯江夜話」發表他借調金門後的第...  \n",
              "4     副刊文學  楊樹清竟是一個不折不扣的阜內思。我閱讀波赫士這篇小說時有兩張臉重疊著，意思是以下的敘述主體可...  \n",
              "..     ...                                                ...  \n",
              "95    副刊文學  洋樓的滄桑與興修_x000D_\\n  「王金城洋樓」於民國21年興建完工，當時因王金鎖等兄弟...  \n",
              "96    副刊文學  對我們身邊很多人來說，金門離島亂遠的，到底是國內還是國外傻傻分不清楚，十分不解大部分的我們怎...  \n",
              "97    副刊文學  五、從落榜生到榜首_x000D_\\n辦學的最終目的是得天下英才而教育之。本校創設之單純目的，...  \n",
              "98    副刊文學  在我們的日常生活中難免會與他人發生爭執，歸究其原因，也許是我們習慣以先入為主的觀念做比較與批...  \n",
              "99    副刊文學  1997年，教育部長吳京院士徵詢交待我一個不平凡的使命，為金門籌設第一所高等學府。這件突如其...  \n",
              "\n",
              "[100 rows x 6 columns]"
            ],
            "text/html": [
              "\n",
              "  <div id=\"df-acae5e43-4df5-4c10-9de6-1d7b59860304\">\n",
              "    <div class=\"colab-df-container\">\n",
              "      <div>\n",
              "<style scoped>\n",
              "    .dataframe tbody tr th:only-of-type {\n",
              "        vertical-align: middle;\n",
              "    }\n",
              "\n",
              "    .dataframe tbody tr th {\n",
              "        vertical-align: top;\n",
              "    }\n",
              "\n",
              "    .dataframe thead th {\n",
              "        text-align: right;\n",
              "    }\n",
              "</style>\n",
              "<table border=\"1\" class=\"dataframe\">\n",
              "  <thead>\n",
              "    <tr style=\"text-align: right;\">\n",
              "      <th></th>\n",
              "      <th>date</th>\n",
              "      <th>artId</th>\n",
              "      <th>author</th>\n",
              "      <th>label</th>\n",
              "      <th>dataset</th>\n",
              "      <th>content</th>\n",
              "    </tr>\n",
              "  </thead>\n",
              "  <tbody>\n",
              "    <tr>\n",
              "      <th>0</th>\n",
              "      <td>2022-06-11</td>\n",
              "      <td>ART34335</td>\n",
              "      <td>陳長慶</td>\n",
              "      <td>珍惜活在當下的每一個時光 ──《浯鄉縮影：陳長慶散文集2014~2021》自序</td>\n",
              "      <td>副刊文學</td>\n",
              "      <td>《浯鄉縮影》是我從2014至2021年，陸續在報刊發表的散文作品。即使只有少數的二十三篇，然...</td>\n",
              "    </tr>\n",
              "    <tr>\n",
              "      <th>1</th>\n",
              "      <td>2022-05-18</td>\n",
              "      <td>ART34425</td>\n",
              "      <td>魏千宸</td>\n",
              "      <td>首次訪金，首次穿梭特色金大校園</td>\n",
              "      <td>副刊文學</td>\n",
              "      <td>首次乘著飛機盤桓在這座古稱浯洲的上空，正當飛機下了雲層，地表上漸漸清晰之際，首先映入眼簾的是...</td>\n",
              "    </tr>\n",
              "    <tr>\n",
              "      <th>2</th>\n",
              "      <td>2022-05-18</td>\n",
              "      <td>ART34424</td>\n",
              "      <td>洪春柳</td>\n",
              "      <td>認識自我 有取有捨 ──訪金中輔導老師李瓊芳談生活小道</td>\n",
              "      <td>副刊文學</td>\n",
              "      <td>輔導的精義：在一段時間裡，陪伴一個人，盡力地幫一個人認識自己。輔導學生認識自我，肯定自我。輔...</td>\n",
              "    </tr>\n",
              "    <tr>\n",
              "      <th>3</th>\n",
              "      <td>2022-05-06</td>\n",
              "      <td>ART34478</td>\n",
              "      <td>陳為學</td>\n",
              "      <td>金嶝親橋一線牽</td>\n",
              "      <td>副刊文學</td>\n",
              "      <td>金門大學前院長陳益源教授於2018年4月29日，在金門日報的「浯江夜話」發表他借調金門後的第...</td>\n",
              "    </tr>\n",
              "    <tr>\n",
              "      <th>4</th>\n",
              "      <td>2022-03-29</td>\n",
              "      <td>ART34641</td>\n",
              "      <td>黃克全</td>\n",
              "      <td>知人論世和以意逆志——談楊樹清、陳慶瀚與吳鈞堯</td>\n",
              "      <td>副刊文學</td>\n",
              "      <td>楊樹清竟是一個不折不扣的阜內思。我閱讀波赫士這篇小說時有兩張臉重疊著，意思是以下的敘述主體可...</td>\n",
              "    </tr>\n",
              "    <tr>\n",
              "      <th>...</th>\n",
              "      <td>...</td>\n",
              "      <td>...</td>\n",
              "      <td>...</td>\n",
              "      <td>...</td>\n",
              "      <td>...</td>\n",
              "      <td>...</td>\n",
              "    </tr>\n",
              "    <tr>\n",
              "      <th>95</th>\n",
              "      <td>2015-05-21</td>\n",
              "      <td>ART45069</td>\n",
              "      <td>陳麗玉</td>\n",
              "      <td>話說后宅洋樓</td>\n",
              "      <td>副刊文學</td>\n",
              "      <td>洋樓的滄桑與興修_x000D_\\n  「王金城洋樓」於民國21年興建完工，當時因王金鎖等兄弟...</td>\n",
              "    </tr>\n",
              "    <tr>\n",
              "      <th>96</th>\n",
              "      <td>2015-05-09</td>\n",
              "      <td>ART45110</td>\n",
              "      <td>蔡宜庭</td>\n",
              "      <td>DOBGFamily</td>\n",
              "      <td>副刊文學</td>\n",
              "      <td>對我們身邊很多人來說，金門離島亂遠的，到底是國內還是國外傻傻分不清楚，十分不解大部分的我們怎...</td>\n",
              "    </tr>\n",
              "    <tr>\n",
              "      <th>97</th>\n",
              "      <td>2015-05-08</td>\n",
              "      <td>ART45112</td>\n",
              "      <td>李金振</td>\n",
              "      <td>眾志成城共創金大奇蹟（下）</td>\n",
              "      <td>副刊文學</td>\n",
              "      <td>五、從落榜生到榜首_x000D_\\n辦學的最終目的是得天下英才而教育之。本校創設之單純目的，...</td>\n",
              "    </tr>\n",
              "    <tr>\n",
              "      <th>98</th>\n",
              "      <td>2015-05-08</td>\n",
              "      <td>ART45113</td>\n",
              "      <td>莊舒惠</td>\n",
              "      <td>建立和諧的人際關係──非暴力溝通</td>\n",
              "      <td>副刊文學</td>\n",
              "      <td>在我們的日常生活中難免會與他人發生爭執，歸究其原因，也許是我們習慣以先入為主的觀念做比較與批...</td>\n",
              "    </tr>\n",
              "    <tr>\n",
              "      <th>99</th>\n",
              "      <td>2015-05-07</td>\n",
              "      <td>ART45116</td>\n",
              "      <td>李金振</td>\n",
              "      <td>眾志成城共創金大奇蹟（上）</td>\n",
              "      <td>副刊文學</td>\n",
              "      <td>1997年，教育部長吳京院士徵詢交待我一個不平凡的使命，為金門籌設第一所高等學府。這件突如其...</td>\n",
              "    </tr>\n",
              "  </tbody>\n",
              "</table>\n",
              "<p>100 rows × 6 columns</p>\n",
              "</div>\n",
              "      <button class=\"colab-df-convert\" onclick=\"convertToInteractive('df-acae5e43-4df5-4c10-9de6-1d7b59860304')\"\n",
              "              title=\"Convert this dataframe to an interactive table.\"\n",
              "              style=\"display:none;\">\n",
              "        \n",
              "  <svg xmlns=\"http://www.w3.org/2000/svg\" height=\"24px\"viewBox=\"0 0 24 24\"\n",
              "       width=\"24px\">\n",
              "    <path d=\"M0 0h24v24H0V0z\" fill=\"none\"/>\n",
              "    <path d=\"M18.56 5.44l.94 2.06.94-2.06 2.06-.94-2.06-.94-.94-2.06-.94 2.06-2.06.94zm-11 1L8.5 8.5l.94-2.06 2.06-.94-2.06-.94L8.5 2.5l-.94 2.06-2.06.94zm10 10l.94 2.06.94-2.06 2.06-.94-2.06-.94-.94-2.06-.94 2.06-2.06.94z\"/><path d=\"M17.41 7.96l-1.37-1.37c-.4-.4-.92-.59-1.43-.59-.52 0-1.04.2-1.43.59L10.3 9.45l-7.72 7.72c-.78.78-.78 2.05 0 2.83L4 21.41c.39.39.9.59 1.41.59.51 0 1.02-.2 1.41-.59l7.78-7.78 2.81-2.81c.8-.78.8-2.07 0-2.86zM5.41 20L4 18.59l7.72-7.72 1.47 1.35L5.41 20z\"/>\n",
              "  </svg>\n",
              "      </button>\n",
              "      \n",
              "  <style>\n",
              "    .colab-df-container {\n",
              "      display:flex;\n",
              "      flex-wrap:wrap;\n",
              "      gap: 12px;\n",
              "    }\n",
              "\n",
              "    .colab-df-convert {\n",
              "      background-color: #E8F0FE;\n",
              "      border: none;\n",
              "      border-radius: 50%;\n",
              "      cursor: pointer;\n",
              "      display: none;\n",
              "      fill: #1967D2;\n",
              "      height: 32px;\n",
              "      padding: 0 0 0 0;\n",
              "      width: 32px;\n",
              "    }\n",
              "\n",
              "    .colab-df-convert:hover {\n",
              "      background-color: #E2EBFA;\n",
              "      box-shadow: 0px 1px 2px rgba(60, 64, 67, 0.3), 0px 1px 3px 1px rgba(60, 64, 67, 0.15);\n",
              "      fill: #174EA6;\n",
              "    }\n",
              "\n",
              "    [theme=dark] .colab-df-convert {\n",
              "      background-color: #3B4455;\n",
              "      fill: #D2E3FC;\n",
              "    }\n",
              "\n",
              "    [theme=dark] .colab-df-convert:hover {\n",
              "      background-color: #434B5C;\n",
              "      box-shadow: 0px 1px 3px 1px rgba(0, 0, 0, 0.15);\n",
              "      filter: drop-shadow(0px 1px 2px rgba(0, 0, 0, 0.3));\n",
              "      fill: #FFFFFF;\n",
              "    }\n",
              "  </style>\n",
              "\n",
              "      <script>\n",
              "        const buttonEl =\n",
              "          document.querySelector('#df-acae5e43-4df5-4c10-9de6-1d7b59860304 button.colab-df-convert');\n",
              "        buttonEl.style.display =\n",
              "          google.colab.kernel.accessAllowed ? 'block' : 'none';\n",
              "\n",
              "        async function convertToInteractive(key) {\n",
              "          const element = document.querySelector('#df-acae5e43-4df5-4c10-9de6-1d7b59860304');\n",
              "          const dataTable =\n",
              "            await google.colab.kernel.invokeFunction('convertToInteractive',\n",
              "                                                     [key], {});\n",
              "          if (!dataTable) return;\n",
              "\n",
              "          const docLinkHtml = 'Like what you see? Visit the ' +\n",
              "            '<a target=\"_blank\" href=https://colab.research.google.com/notebooks/data_table.ipynb>data table notebook</a>'\n",
              "            + ' to learn more about interactive tables.';\n",
              "          element.innerHTML = '';\n",
              "          dataTable['output_type'] = 'display_data';\n",
              "          await google.colab.output.renderOutput(dataTable, element);\n",
              "          const docLink = document.createElement('div');\n",
              "          docLink.innerHTML = docLinkHtml;\n",
              "          element.appendChild(docLink);\n",
              "        }\n",
              "      </script>\n",
              "    </div>\n",
              "  </div>\n",
              "  "
            ]
          },
          "metadata": {},
          "execution_count": 29
        }
      ]
    },
    {
      "cell_type": "markdown",
      "source": [
        "### 文本前處理"
      ],
      "metadata": {
        "id": "HhNCEL43p-F1"
      }
    },
    {
      "cell_type": "code",
      "source": [
        "MODEL_FDR = './models'\n",
        "DATA_FDR = './data'\n",
        "!mkdir {MODEL_FDR} {DATA_FDR}"
      ],
      "metadata": {
        "colab": {
          "base_uri": "https://localhost:8080/"
        },
        "id": "wSIgw8Ei353Y",
        "outputId": "6007006b-7dfb-45c5-9c5c-4a8e8f9ff396"
      },
      "execution_count": 30,
      "outputs": [
        {
          "output_type": "stream",
          "name": "stdout",
          "text": [
            "mkdir: cannot create directory ‘./models’: File exists\n",
            "mkdir: cannot create directory ‘./data’: File exists\n"
          ]
        }
      ]
    },
    {
      "cell_type": "code",
      "source": [
        "MODEL_A = 'lines_bpe'\n",
        "MODEL_B = 'sentences_bpe'"
      ],
      "metadata": {
        "id": "1huIW2rD30fX"
      },
      "execution_count": 31,
      "outputs": []
    },
    {
      "cell_type": "markdown",
      "source": [
        "#### 使用規則斷句"
      ],
      "metadata": {
        "id": "MpN4BSlSyxhq"
      }
    },
    {
      "cell_type": "code",
      "source": [
        "sample_text = df.at[1, 'content']\n",
        "sample_text"
      ],
      "metadata": {
        "colab": {
          "base_uri": "https://localhost:8080/",
          "height": 356
        },
        "id": "1MG7S37cb9-s",
        "outputId": "41a32814-626a-4cd0-810c-355fd4a34f90"
      },
      "execution_count": 32,
      "outputs": [
        {
          "output_type": "execute_result",
          "data": {
            "text/plain": [
              "'首次乘著飛機盤桓在這座古稱浯洲的上空，正當飛機下了雲層，地表上漸漸清晰之際，首先映入眼簾的是行駛在海上的一艘艘貨船，宛若風中小筏，乘風而前欲往之處。飛機隨一秒秒的時間靠近金門島上，一幢幢紅屋瓦舍屋頂漸現，空中彷彿流竄著一絲絲閩風，空中散發出與台灣不同的氣氛，像是穿越時光與空間，穿越到當年陶淵明所述的桃花源，心中滿滿是說不出的感動及雀躍，正因飛機即將降落的是我未來即將要生活多年的地方─金門。\\n\\xa0\\xa0剛出尚義機場，薰風迎面而來，或許是風獅爺的庇佑，矗立在風頭的島鄉竟風不比號稱風城的故土新竹，浯洲的風是柔情的風、是舒適的風。在金門夏日的蒼穹湛藍無雲，透徹的天際映著蒼茫的海水，大武山特立天際，一排排蒼翠的大樹，短綴著金門獨特的紅土。讓酷熱的夏日，有可以在大樹下休憩的機會。或許是拜當年軍管之賜，雖令浯島居民曾經歷生活不自由的日子，卻意外地將金門最具價值的文化資產，原汁原味的保存下來。\\n\\xa0\\xa0金門的王宅十八間、得月樓等建築聞名全台，位於金寧盤山的金門大學卻意外的令我驚豔，其中幢幢閩式風情的校舍，不只是照片上風格在地化特別的風味，當場觀看，龐大的建築量體，紅磚外牆，黑瓦燕脊，鑲著閩式特有的建築裝飾，富文化特色的校園建築，動人的令我無法自已，有著閩式建築小巧精緻的裝飾特色，又有建築大型量體的氣派，綜合教學大樓正立面上兩旁八角式的處理，增強正立面的氣勢。圖資大樓旁的高台讓人聯想當初聚落為海防而建的得月樓，一棟棟風格相似的校舍宛若一個小型聚落，讓我不禁讚嘆當年設計校舍的建築師是如何發揮此種巧思，也許是金門的建築特色太讓人目眩神迷了吧!\\n\\xa0\\xa0在後現代全球國際主義風潮下的建築，大多都走向幾何建構的極簡風，大多建築乍看之下都有屬於各自的建築設計巧思，卻鮮有應屬於當地特有的建築特色，金門大學所採當地閩風建築為風格建設校舍，我個人認為是台灣各大學中最具有特色的其中之一，雖沒有台大等老校有校內古蹟加持，卻在一片追求新穎、炫麗的現代建築中走出屬於自己的一條路。\\n\\xa0\\xa0許多現代建築師想要創造屬於東方風格建築的風氣，卻常敗筆在大量體建築物與東方傳統小巧結構風格衝突，常造成太過具象化的建築詭譎，像是只是扣著琉璃大盤帽的西方建築，我覺得有時與其將北方傳統大型建築特色硬融入當今建築，不妨參考金大校舍，將閩南地區特有的紅磚、板瓦融入建物中，配合著古代的窗櫺，在大型立方體中貫穿著由數百年、甚至千年先祖所留下的建築藝術融入進現代民居中。我相信在這樣的建築中會更有故事、會更能展現屬於我們自己的文化，讓我們後代的子孫們，不管身在何處，都能認知到屬於我們自己先祖的一脈血緣。'"
            ],
            "application/vnd.google.colaboratory.intrinsic+json": {
              "type": "string"
            }
          },
          "metadata": {},
          "execution_count": 32
        }
      ]
    },
    {
      "cell_type": "code",
      "source": [
        "#@title\n",
        "import re\n",
        "\n",
        "def text2lines(text, seperators='[，。：；！.\\n\\xa0]'):\n",
        "    lines = re.split(seperators, text)\n",
        "    lines = [line.strip() for line in lines if line.strip()]\n",
        "    return lines"
      ],
      "metadata": {
        "cellView": "form",
        "id": "uLQbLhk3Rvvq"
      },
      "execution_count": 33,
      "outputs": []
    },
    {
      "cell_type": "code",
      "source": [
        "lines = text2lines(sample_text)\n",
        "lines"
      ],
      "metadata": {
        "colab": {
          "base_uri": "https://localhost:8080/"
        },
        "id": "-fRm22KfVNmk",
        "outputId": "33434bd4-4f3d-4f76-a80e-730c5e482ddd"
      },
      "execution_count": 34,
      "outputs": [
        {
          "output_type": "execute_result",
          "data": {
            "text/plain": [
              "['首次乘著飛機盤桓在這座古稱浯洲的上空',\n",
              " '正當飛機下了雲層',\n",
              " '地表上漸漸清晰之際',\n",
              " '首先映入眼簾的是行駛在海上的一艘艘貨船',\n",
              " '宛若風中小筏',\n",
              " '乘風而前欲往之處',\n",
              " '飛機隨一秒秒的時間靠近金門島上',\n",
              " '一幢幢紅屋瓦舍屋頂漸現',\n",
              " '空中彷彿流竄著一絲絲閩風',\n",
              " '空中散發出與台灣不同的氣氛',\n",
              " '像是穿越時光與空間',\n",
              " '穿越到當年陶淵明所述的桃花源',\n",
              " '心中滿滿是說不出的感動及雀躍',\n",
              " '正因飛機即將降落的是我未來即將要生活多年的地方─金門',\n",
              " '剛出尚義機場',\n",
              " '薰風迎面而來',\n",
              " '或許是風獅爺的庇佑',\n",
              " '矗立在風頭的島鄉竟風不比號稱風城的故土新竹',\n",
              " '浯洲的風是柔情的風、是舒適的風',\n",
              " '在金門夏日的蒼穹湛藍無雲',\n",
              " '透徹的天際映著蒼茫的海水',\n",
              " '大武山特立天際',\n",
              " '一排排蒼翠的大樹',\n",
              " '短綴著金門獨特的紅土',\n",
              " '讓酷熱的夏日',\n",
              " '有可以在大樹下休憩的機會',\n",
              " '或許是拜當年軍管之賜',\n",
              " '雖令浯島居民曾經歷生活不自由的日子',\n",
              " '卻意外地將金門最具價值的文化資產',\n",
              " '原汁原味的保存下來',\n",
              " '金門的王宅十八間、得月樓等建築聞名全台',\n",
              " '位於金寧盤山的金門大學卻意外的令我驚豔',\n",
              " '其中幢幢閩式風情的校舍',\n",
              " '不只是照片上風格在地化特別的風味',\n",
              " '當場觀看',\n",
              " '龐大的建築量體',\n",
              " '紅磚外牆',\n",
              " '黑瓦燕脊',\n",
              " '鑲著閩式特有的建築裝飾',\n",
              " '富文化特色的校園建築',\n",
              " '動人的令我無法自已',\n",
              " '有著閩式建築小巧精緻的裝飾特色',\n",
              " '又有建築大型量體的氣派',\n",
              " '綜合教學大樓正立面上兩旁八角式的處理',\n",
              " '增強正立面的氣勢',\n",
              " '圖資大樓旁的高台讓人聯想當初聚落為海防而建的得月樓',\n",
              " '一棟棟風格相似的校舍宛若一個小型聚落',\n",
              " '讓我不禁讚嘆當年設計校舍的建築師是如何發揮此種巧思',\n",
              " '也許是金門的建築特色太讓人目眩神迷了吧!',\n",
              " '在後現代全球國際主義風潮下的建築',\n",
              " '大多都走向幾何建構的極簡風',\n",
              " '大多建築乍看之下都有屬於各自的建築設計巧思',\n",
              " '卻鮮有應屬於當地特有的建築特色',\n",
              " '金門大學所採當地閩風建築為風格建設校舍',\n",
              " '我個人認為是台灣各大學中最具有特色的其中之一',\n",
              " '雖沒有台大等老校有校內古蹟加持',\n",
              " '卻在一片追求新穎、炫麗的現代建築中走出屬於自己的一條路',\n",
              " '許多現代建築師想要創造屬於東方風格建築的風氣',\n",
              " '卻常敗筆在大量體建築物與東方傳統小巧結構風格衝突',\n",
              " '常造成太過具象化的建築詭譎',\n",
              " '像是只是扣著琉璃大盤帽的西方建築',\n",
              " '我覺得有時與其將北方傳統大型建築特色硬融入當今建築',\n",
              " '不妨參考金大校舍',\n",
              " '將閩南地區特有的紅磚、板瓦融入建物中',\n",
              " '配合著古代的窗櫺',\n",
              " '在大型立方體中貫穿著由數百年、甚至千年先祖所留下的建築藝術融入進現代民居中',\n",
              " '我相信在這樣的建築中會更有故事、會更能展現屬於我們自己的文化',\n",
              " '讓我們後代的子孫們',\n",
              " '不管身在何處',\n",
              " '都能認知到屬於我們自己先祖的一脈血緣']"
            ]
          },
          "metadata": {},
          "execution_count": 34
        }
      ]
    },
    {
      "cell_type": "code",
      "source": [
        "#@title\n",
        "import itertools\n",
        "\n",
        "def process_texts(df, custom_func=text2lines):\n",
        "    nested_lines = [custom_func(row) for row in df['content']]\n",
        "    flat_lines = list(itertools.chain(*nested_lines))\n",
        "    return flat_lines"
      ],
      "metadata": {
        "cellView": "form",
        "id": "icVAkBdWUW6n"
      },
      "execution_count": 35,
      "outputs": []
    },
    {
      "cell_type": "code",
      "source": [
        "flat_lines = process_texts(df)\n",
        "len(flat_lines)"
      ],
      "metadata": {
        "colab": {
          "base_uri": "https://localhost:8080/"
        },
        "id": "NlHXL-OBf1Jh",
        "outputId": "129fbb48-b996-4521-806b-7ef2175464a2"
      },
      "execution_count": 36,
      "outputs": [
        {
          "output_type": "execute_result",
          "data": {
            "text/plain": [
              "17994"
            ]
          },
          "metadata": {},
          "execution_count": 36
        }
      ]
    },
    {
      "cell_type": "code",
      "source": [
        "#@title\n",
        "def write_processed_data(lines, file_path):\n",
        "    with open(file_path, 'w') as f:\n",
        "        f.write('\\n'.join(lines))"
      ],
      "metadata": {
        "cellView": "form",
        "id": "e0_KUDBDWVHQ"
      },
      "execution_count": 37,
      "outputs": []
    },
    {
      "cell_type": "code",
      "source": [
        "write_processed_data(flat_lines, f\"{DATA_FDR}/{MODEL_A}.txt\")"
      ],
      "metadata": {
        "id": "e6mDZ6_UVo4R"
      },
      "execution_count": 38,
      "outputs": []
    },
    {
      "cell_type": "markdown",
      "source": [
        "#### 使用模型斷句"
      ],
      "metadata": {
        "id": "rAyX3roQy_PA"
      }
    },
    {
      "cell_type": "code",
      "source": [
        "import spacy\n",
        "nlp = spacy.load('zh_core_web_sm')"
      ],
      "metadata": {
        "id": "hh1UjG-Dynw5"
      },
      "execution_count": 39,
      "outputs": []
    },
    {
      "cell_type": "code",
      "source": [
        "def text2sentences(text):\n",
        "    doc = nlp(sample_text)\n",
        "    sentences = [sent.text for sent in doc.sents]\n",
        "    return sentences"
      ],
      "metadata": {
        "id": "PHgcP-5YzoLF"
      },
      "execution_count": 40,
      "outputs": []
    },
    {
      "cell_type": "code",
      "source": [
        "sentences = text2sentences(sample_text)\n",
        "sentences"
      ],
      "metadata": {
        "colab": {
          "base_uri": "https://localhost:8080/"
        },
        "id": "UfbL4hq5zQQ3",
        "outputId": "4ba3cc19-0aa7-45f5-ed36-ccc2a917757d"
      },
      "execution_count": 41,
      "outputs": [
        {
          "output_type": "execute_result",
          "data": {
            "text/plain": [
              "['首次乘著飛機盤桓在這座古稱浯洲的上空，正當飛機下了雲層，地表上漸漸清晰之際，首先映入眼簾的是行駛在海上的一艘艘貨船，宛若風中小筏，乘風而前欲往之處。',\n",
              " '飛機隨一秒秒的時間靠近金門島上，一幢幢紅屋瓦舍屋頂漸現，空中彷彿流竄著一絲絲閩風，空中散發出與台灣不同的氣氛，像是穿越時光與空間，穿越到當年陶淵明所述的桃花源，心中滿滿是說不出的感動及雀躍，正因飛機即將降落的是我未來即將要生活多年的地方─金門。',\n",
              " '\\n\\xa0\\xa0剛出尚義機場，薰風迎面而來，或許是風獅爺的庇佑，矗立在風頭的島鄉竟風不比號稱風城的故土新竹，浯洲的風是柔情的風、是舒適的風。',\n",
              " '在金門夏日的蒼穹湛藍無雲，透徹的天際映著蒼茫的海水，大武山特立天際，一排排蒼翠的大樹，短綴著金門獨特的紅土。',\n",
              " '讓酷熱的夏日，有可以在大樹下休憩的機會。',\n",
              " '或許是拜當年軍管之賜，雖令浯島居民曾經歷生活不自由的日子，卻意外地將金門最具價值的文化資產，原汁原味的保存下來。',\n",
              " '\\n\\xa0\\xa0金門的王宅十八間、得月樓等建築聞名全台，位於金寧盤山的金門大學卻意外的令我驚豔，其中幢幢閩式風情的校舍，不只是照片上風格在地化特別的風味，當場觀看，龐大的建築量體，紅磚外牆，黑瓦燕脊，鑲著閩式特有的建築裝飾，富文化特色的校園建築，動人的令我無法自已，有著閩式建築小巧精緻的裝飾特色，又有建築大型量體的氣派，綜合教學大樓正立面上兩旁八角式的處理，增強正立面的氣勢。',\n",
              " '圖資大樓旁的高台讓人聯想當初聚落為海防而建的得月樓，一棟棟風格相似的校舍宛若一個小型聚落，讓我不禁讚嘆當年設計校舍的建築師是如何發揮此種巧思，也許是金門的建築特色太讓人目眩神迷了吧!',\n",
              " '\\n\\xa0\\xa0在後現代全球國際主義風潮下的建築，大多都走向幾何建構的極簡風，大多建築乍看之下都有屬於各自的建築設計巧思，卻鮮有應屬於當地特有的建築特色，金門大學所採當地閩風建築為風格建設校舍，我個人認為是台灣各大學中最具有特色的其中之一，雖沒有台大等老校有校內古蹟加持，卻在一片追求新穎、炫麗的現代建築中走出屬於自己的一條路。',\n",
              " '\\n\\xa0\\xa0許多現代建築師想要創造屬於東方風格建築的風氣，卻常敗筆在大量體建築物與東方傳統小巧結構風格衝突，常造成太過具象化的建築詭譎，像是只是扣著琉璃大盤帽的西方建築，我覺得有時與其將北方傳統大型建築特色硬融入當今建築，不妨參考金大校舍，將閩南地區特有的紅磚、板瓦融入建物中，配合著古代的窗櫺，在大型立方體中貫穿著由數百年、甚至千年先祖所留下的建築藝術融入進現代民居中。',\n",
              " '我相信在這樣的建築中會更有故事、會更能展現屬於我們自己的文化，讓我們後代的子孫們，不管身在何處，都能認知到屬於我們自己先祖的一脈血緣。']"
            ]
          },
          "metadata": {},
          "execution_count": 41
        }
      ]
    },
    {
      "cell_type": "code",
      "source": [
        "flat_sentences = process_texts(df, custom_func=text2sentences)\n",
        "len(flat_sentences)"
      ],
      "metadata": {
        "colab": {
          "base_uri": "https://localhost:8080/"
        },
        "id": "lRjfM1nqziSg",
        "outputId": "565d5ca8-846e-4391-ded8-97f7ecc4c250"
      },
      "execution_count": 42,
      "outputs": [
        {
          "output_type": "execute_result",
          "data": {
            "text/plain": [
              "1100"
            ]
          },
          "metadata": {},
          "execution_count": 42
        }
      ]
    },
    {
      "cell_type": "code",
      "source": [
        "write_processed_data(flat_lines, f\"{DATA_FDR}/{MODEL_B}.txt\")"
      ],
      "metadata": {
        "id": "m0Xms6hm0r74"
      },
      "execution_count": 43,
      "outputs": []
    },
    {
      "cell_type": "markdown",
      "source": [
        "### Byte Pair Encodings演算法"
      ],
      "metadata": {
        "id": "U-8WjpVAMHY3"
      }
    },
    {
      "cell_type": "markdown",
      "source": [
        "- 初始狀態\n",
        "![](https://miro.medium.com/max/1400/1*OrhMLzcmWhUTfuZR2-SFsA.png)"
      ],
      "metadata": {
        "id": "omiKIqwIMLNj"
      }
    },
    {
      "cell_type": "markdown",
      "source": [
        "- 合併最高頻的組合\n",
        "![](https://miro.medium.com/max/1400/1*CdX4npQhK3gfyiulpjLPpg.jpeg)"
      ],
      "metadata": {
        "id": "znD682SkMXk9"
      }
    },
    {
      "cell_type": "markdown",
      "source": [
        "- 依序結合，直到滿足預先設定的詞彙量\n",
        "![](https://miro.medium.com/max/1400/1*6ucVXiDhALKRq4P_wNG9AA.png)"
      ],
      "metadata": {
        "id": "fqLC8swMMqxl"
      }
    },
    {
      "cell_type": "markdown",
      "source": [
        "### 訓練BPE模型"
      ],
      "metadata": {
        "id": "UqZ6noyzx3ST"
      }
    },
    {
      "cell_type": "code",
      "source": [
        "#@title\n",
        "!pip -q install sentencepiece"
      ],
      "metadata": {
        "colab": {
          "base_uri": "https://localhost:8080/"
        },
        "cellView": "form",
        "id": "nic3zjZiMlWV",
        "outputId": "fed4b27c-595e-450f-93e6-8c37fa991601"
      },
      "execution_count": 44,
      "outputs": [
        {
          "output_type": "stream",
          "name": "stdout",
          "text": [
            "\u001b[33mWARNING: Running pip as the 'root' user can result in broken permissions and conflicting behaviour with the system package manager. It is recommended to use a virtual environment instead: https://pip.pypa.io/warnings/venv\u001b[0m\u001b[33m\n",
            "\u001b[0m"
          ]
        }
      ]
    },
    {
      "cell_type": "code",
      "execution_count": 45,
      "metadata": {
        "id": "wzuOlM59X8b0"
      },
      "outputs": [],
      "source": [
        "import sentencepiece as spm"
      ]
    },
    {
      "cell_type": "code",
      "execution_count": 46,
      "metadata": {
        "id": "QO4BMQKdX8b5",
        "outputId": "019eca11-43dc-44f9-f0fc-91d535b4abba",
        "colab": {
          "base_uri": "https://localhost:8080/",
          "height": 53
        }
      },
      "outputs": [
        {
          "output_type": "execute_result",
          "data": {
            "text/plain": [
              "'\\n            --model_type=bpe\\n            --input=./data/lines_bpe.txt\\n            --model_prefix=./models/lines_bpe\\n            --vocab_size=10000\\n            '"
            ],
            "application/vnd.google.colaboratory.intrinsic+json": {
              "type": "string"
            }
          },
          "metadata": {},
          "execution_count": 46
        }
      ],
      "source": [
        "VOCAB_SIZE = 10000\n",
        "bpe_params = f\"\"\"\n",
        "            --model_type=bpe\n",
        "            --input={DATA_FDR}/{MODEL_A}.txt\n",
        "            --model_prefix={MODEL_FDR}/{MODEL_A}\n",
        "            --vocab_size={VOCAB_SIZE}\n",
        "            \"\"\"\n",
        "bpe_params"
      ]
    },
    {
      "cell_type": "code",
      "source": [
        "#@title\n",
        "def join_parameters(parameters):\n",
        "    return \" \".join(parameters.split())"
      ],
      "metadata": {
        "cellView": "form",
        "id": "J_C8yNkEZVQ3"
      },
      "execution_count": 47,
      "outputs": []
    },
    {
      "cell_type": "code",
      "source": [
        "bpe_command = join_parameters(bpe_params)\n",
        "bpe_command"
      ],
      "metadata": {
        "colab": {
          "base_uri": "https://localhost:8080/",
          "height": 53
        },
        "id": "zZw-j7GcRVY8",
        "outputId": "da89c083-aa50-4c6c-c899-9eaee723e279"
      },
      "execution_count": 48,
      "outputs": [
        {
          "output_type": "execute_result",
          "data": {
            "text/plain": [
              "'--model_type=bpe --input=./data/lines_bpe.txt --model_prefix=./models/lines_bpe --vocab_size=10000'"
            ],
            "application/vnd.google.colaboratory.intrinsic+json": {
              "type": "string"
            }
          },
          "metadata": {},
          "execution_count": 48
        }
      ]
    },
    {
      "cell_type": "code",
      "source": [
        "spm.SentencePieceTrainer.train(bpe_command)"
      ],
      "metadata": {
        "id": "8zspH43PQS90"
      },
      "execution_count": 49,
      "outputs": []
    },
    {
      "cell_type": "markdown",
      "source": [
        "### 載入BPE模型"
      ],
      "metadata": {
        "id": "B_RlkQYS2liD"
      }
    },
    {
      "cell_type": "code",
      "execution_count": 50,
      "metadata": {
        "id": "D67piRZ3X8b6",
        "outputId": "97751e38-f19e-4bff-f3d7-998dc8cdcfdf",
        "colab": {
          "base_uri": "https://localhost:8080/"
        }
      },
      "outputs": [
        {
          "output_type": "execute_result",
          "data": {
            "text/plain": [
              "True"
            ]
          },
          "metadata": {},
          "execution_count": 50
        }
      ],
      "source": [
        "sp_bpe = spm.SentencePieceProcessor()\n",
        "sp_bpe.load(f'{MODEL_FDR}/{MODEL_A}.model')"
      ]
    },
    {
      "cell_type": "markdown",
      "source": [
        "### 使用BPE模型分詞"
      ],
      "metadata": {
        "id": "WxEHIzQO2qbA"
      }
    },
    {
      "cell_type": "code",
      "execution_count": 51,
      "metadata": {
        "id": "x9dwyU_IX8b7",
        "outputId": "b0b0d854-4b7d-45d2-9e56-8f713f966bb4",
        "colab": {
          "base_uri": "https://localhost:8080/"
        }
      },
      "outputs": [
        {
          "output_type": "execute_result",
          "data": {
            "text/plain": [
              "['▁金門', '地區', '以', '木', '棟', '架', '構', '見', '稱', '的', '閩南', '建築']"
            ]
          },
          "metadata": {},
          "execution_count": 51
        }
      ],
      "source": [
        "TEST = '金門地區以木棟架構見稱的閩南建築'\n",
        "sp_bpe.encode_as_pieces(TEST)"
      ]
    },
    {
      "cell_type": "markdown",
      "source": [
        "- BPE模型詞彙，由長到短排序"
      ],
      "metadata": {
        "id": "4NFHJiLclI9j"
      }
    },
    {
      "cell_type": "code",
      "execution_count": 52,
      "metadata": {
        "id": "E21sufhvX8b9",
        "colab": {
          "base_uri": "https://localhost:8080/"
        },
        "outputId": "5db8a9e8-d72c-4131-fa95-3701b3bed7d7"
      },
      "outputs": [
        {
          "output_type": "stream",
          "name": "stdout",
          "text": [
            "['行政院金馬聯合服務中心', '▁空大金門學習指導中心', '社會工作學系二年級學生', '胡志明市人文社科大學', '金門學國際學術研討會', '大金門學習指導中心', '拿督斯里楊忠禮博士', '陳長慶短篇小說集', '丹斯里楊忠禮博士', '金門縣生命線協會', '為國立金門大學', '行政院金馬聯合', '......」', '國際學術研討會', '胡璉將軍的後代', '國立台灣文學館', '▁......', '▁楊忠禮賢伉儷', '人文與社會科學', '文學獎報導文學', '......', '國立金門大學', '▁楊忠禮博士', '學習指導中心', '▁親愛的金門', '金門技術學院', 'Quemoy', '國立清華大學', '▁金門縣政府', '▁陳開蓉女士', '人文社會學院', '人文社科大學', '▁楊樹清老師', '▁金門大學的', '▁陳益源院長', '楊忠禮博士的', '發生在金門的', '金門縣文化局', '▁李瓊芳老師', '▁李金振校長', '傳統建築測繪', '八三么的女兒', '前後任理事長', '古寧頭戰史館', '國立成功大學', '國賓繩仔鼓店', '活化再利用之', '漂流的文學樹', '的金門馬拉松', '社會工作學系', '終身名譽校長', '翻譯成越南文', '陳益源院長的', '高雄科技學院', '<unk>', '楊忠禮博士', '陳益源院長', '金門大學的', '新書發表會', '短篇小說集', '陳開蓉女士', '睿友文學館', '▁金門大學', '親愛的金門', '台灣文學館', '學術研討會', '王金城洋樓', '金門縣政府', '生命線協會', '▁楊董事長', '▁民國九十', '八二三砲戰', '李金振校長', '▁2017', '挫折與困境', '文學作品展', '金門的歷史', '黎光長主任', '▁2014', '▁2016', '▁如果沒有', '▁飲水思源', '古寧頭戰役', '月二十三日', '楊樹清先生', '浯島文學獎', '王先正老師', '王銀娘女士', '的金門鄉親', '金門育嬰堂', '陵水認真情', '▁2010', '▁2018', '▁對我來說', '▁民國七十', '▁金門社大', '世界金門日', '九龍江酒廠', '人文與社會', '古寧頭北山', '在馬來西亞', '志工老師們', '敬意和謝意', '校長李金振', '楊忠禮集團', '活化再利用', '福建省政府', '藝文界人士', '蘇碩斌館長', '金大風獅爺', '金門大學城', '金門馬拉松', '金門高粱酒', '阮黃燕博士', 'ation', '▁2015', '▁主辦單位', '▁另一方面', '▁大學畢業', '▁大學精神', '▁妳最期盼', '▁愛上一座', '▁我知道妳', '▁接著我們', '▁有的同學', '▁每一個人', '▁老闆娘說', '▁胡璉將軍', '▁通識教育', '▁金門日報', '▁金門雖然', '▁黃奇校長', '中華金門筆', '二年級學生', '出版社出版', '到金門大學', '區域文學史', '協會理事長', '博士候選人', '回金門大學', '屬於自己的', '於金門大學', '東林佛祖廟', '校長陳建民', '永遠在一起', '的大學生活', '的金門日報', '育嬰堂碑記', '越南新住民', '金城鎮公所', '金門文學的', '金門日報的', '陳福海縣長', '陳長慶小說', '馬來西亞時', '</s>', '金門大學', '....', '金門日報', '益源院長', '馬來西亞', '▁201', '▁金門縣', '新書發表', '胡璉將軍', '報導文學', '短篇小說', '▁在金門', '在金門的', '通識教育', '▁尤其是', '這塊土地', '▁金門的', '睿友學校', '中華民國', '學習指導', '▁第一次', '技術學院', '講座教授', '▁199', '▁200', '▁蔣孟育', '▁還記得', '田野調查', '金門文藝', '▁我知道', '▁所以我', '▁楊樹清', '中越文本', '寫作協會', '燕南書院', '的楊樹清', '的金門人', '胡志明市', '▁於是我', '▁林長鴻', '▁金門人', '來到金門', '呂世宜的', '金門文學', '離開金門', '黃氏族人', '2014', 'Quem', '▁一方面', '▁也就是', '▁何仁慈', '▁我們的', '▁有一天', '▁李金振', '▁這本書', '地理位置', '家扶中心', '師範大學', '我的作品', '戰地政務', '浯江夜話', '興華中學', '道光二十', '金門人的', '金門分部', '金門鄉親', '閩南文化', '飲水思源', '▁就這樣', '▁是為了', '▁楊忠禮', '傳統建築', '回到金門', '國家公園', '國立清華', '國語日報', '恬庵遺稿', '服務中心', '楊董事長', '的一部分', '縣定古蹟', '蘇蘭老師', '這個國家', '金馬聯合', '2015', '2018', '▁一路上', '▁丹斯里', '▁也因為', '▁也許是', '▁何再桐', '▁台山兄', '▁張允中', '▁我必須', '▁我開始', '▁楊校長', '▁沒想到', '▁老人家', '▁老闆娘', '▁薛承泰', '▁讓我們', '▁陳開蓉', '三十八年', '博士學位', '各界人士', '拿督斯里', '文學創作', '校務發展', '現代文學', '社區大學', '科技學院', '落地生根', '蒞館參觀', '2017', '▁也讓我', '▁但是我', '▁在這個', '▁埔後村', '▁大家都', '▁我一直', '▁我相信', '▁我覺得', '▁生命線', '▁終於在', '▁蔡漣清', '▁這是我', '▁還有一', '▁陳再傳', '主辦單位', '人文社會', '人文社科', '任理事長', '古寧頭大', '台灣海峽', '名譽校長', '喜歡小喬', '尚義機場', '建築設計', '成功大學', '成功海灘', '文學史論', '民情風俗', '特約茶室', '特聘教授', '理工學院', '瓊芳老師', '籌備工作', '軍中樂園', '這篇文章', '金城酒廠', '金門會館', '金門縣志', '金門酒廠', '隨風飛揚', '駐校作家', '黃氏家廟', '龍江酒廠', '(184', '2010', '2019', '2020', '▁一九九', '▁一個人', '▁一直到', '▁卻發現', '▁台北的', '▁君不見', '▁呂世宜', '▁因為我', '▁在台灣', '▁多年來', '▁實際上', '▁我們也', '▁我離開', '▁接下來', '▁教育部', '▁於民國', '▁是因為', '▁當我們', '▁當時的', '▁發行人', '▁而金門', '▁這樣的', '▁那時我', '▁陳慶瀚', '▁陳漢魂', '▁風獅爺', '一段時間', '丞李湘洲', '中央大學', '九十七年', '何嘗不是', '作文比賽', '出版發行', '博士論文', '印象深刻', '回金門的', '大學生活', '專家學者', '我們一起', '戰地金門', '映入眼簾', '是金門人', '楊校長的', '武功之最', '水頭碼頭', '浯島情懷', '環島北路', '留在金門', '的文學樹', '的那一刻', '的重要性', '社會工作', '科技大學', '與金門的', '蓬勃發展', '蔣孟育的', '這個地方', '那個年代', '重要的是', '金沙校區', '...」', '1997', '2005', '2016', '▁一開始', '▁一首是', '▁不僅是', '▁不管是', '▁也可以', '▁也是我', '▁他們的', '▁他總是', '▁但還是', '▁何國傑', '▁其實是', '▁再加上', '▁到金門', '▁只是想', '▁大部分', '▁完成了', '▁就如同', '▁我們在', '▁我已經', '▁我沒有', '▁或許是', '▁文化局', '▁文學院', '▁於是在', '▁是金門', '▁李主任', '▁李校長', '▁李老師', '▁桂香齋', '▁榜林村', '▁正因為', '▁然後再', '▁王銀娘', '▁當時我', '▁第二天', '▁第二年', '▁而父親', '▁讓他們', '▁這一年', '▁這也是', '▁這裡是', '▁那就是', '▁陳董青', '不一樣的', '不可或缺', '不計其數', '中國時報', '中央政府', '中華民族', '九十六年', '九十大壽', '交流活動', '企劃秘書', '停下腳步', '傑出校友', '兩岸三地', '六篇作品', '到吉隆坡', '前來金門', '前理事長', '可見一斑', '圖資大樓', '在自己的', '地方文獻', '大同之家', '大學教授', '大學生的', '大學畢業', '她的大學', '學研究所', '學習中心', '安瀾國小', '客觀存在', '家鄉金門', '寫成文章', '封面設計', '對我來說', '年久失修', '建築學系', '從來沒有', '我的心情', '政府官員', '教育事業', '教育心理', '文事之最', '文化園區', '文化藝術', '文學金門', '文風鼎盛', '晉匾活動', '暴力溝通', '最後一次', '楊忠禮園', '樂善好施', '歷史建築', '民防坑道', '洪家兄弟', '牛津大學', '王老師的', '生命故事', '的文學史', '的朋友們', '的自籌款', '的薛承泰', '碧山國校', '算和員額', '紫雲衍派', '縣文化局', '縣籍作家', '著作等身', '親朋好友', '觀光金門', '講金門人', '貞節牌坊', '辛酸故事', '辦公大樓', '這些筆記', '這座島嶼', '都不知道', '金城國中', '金沙水庫', '金門地區', '金門文化', '金門現代', '鍥而不捨', '長林金生', '長篇小說', '電子郵件', '風獅爺的', '黃奇校長', '點點滴滴', '齊聚一堂', '<s>', '000', '▁金門', '▁我們', '金門的', '楊忠禮', '的金門', '▁因為', '自己的', '▁所以', '201', '▁民國', '▁」_', '到金門', '▁因此', '在金門', '》、《', '▁除了', '▁以及', '▁雖然', '▁後來', '金門縣', '▁甚至', '理事長', '▁但是', '▁讓我', '▁他們', '▁如果', '文化局', '金門人', '」、「', '生命線', '200', '▁尤其', '呂世宜', '楊樹清', '▁還有', '▁沒有', '古寧頭', '風獅爺', '▁最後', '文學館', '▁就是', '▁於是', '▁老師', '▁而且', '蔣孟育', '▁也是', '▁然後', '第一次', '▁當時', '是一個', '的時候', '▁希望', '▁大家', '▁為了', '文學史', '陳長慶', '▁19', '▁對於', '▁然而', '的地方', '篇小說', '董事長', '我們的', '▁只是', '▁我想', '來金門', '陳開蓉', '高粱酒', '▁其中', '▁其實', '▁如今', '育嬰堂', '▁原來', '▁或許', '▁父親', '▁現在', '▁進而', '丹斯里', '吉隆坡', '文學的', '的故事', '▁一個', '▁但我', '▁這是', '▁都是', '▁首先', '一個人', '新加坡', '重要的', '▁不僅', '▁同時', '▁奎新', '▁成發', '▁我也', '回金門', '楊校長', '為金門', '馬拉松', '▁一直', '▁我在', '▁由於', '的大學', '▁大學', '▁而我', '的文學', '的精神', '研究所', '蔡漣清', '▁可以', '▁我的', '▁接著', '▁有的', '▁這樣', '不同的', '李金振', '▁即便', '▁當然', '▁終於', '▁而是', '在台灣', '於金門', '桂香齋', '歷史的', '(19', '▁台灣', '▁因而', '▁更是', '▁母親', '▁直到', '▁第二', '▁經過', '▁這些', '了一個', '八二三', '出來的', '對金門', '文學獎', '生命的', '研討會', '老師的', '行政院', '▁不過', '▁即使', '▁只要', '▁台北', '▁我不', '▁至於', '▁開始', '大學的', '有機會', '福建省', '篇文章', '老人家', '與金門', '越來越', '(18', '101', '▁20', '▁包括', '▁此外', '▁每天', '▁特別', '▁當年', '▁透過', '教育部', '的重要', '?」_', '▁之後', '▁似乎', '▁但在', '▁只好', '▁只有', '▁大多', '▁感謝', '▁有人', '▁本校', '▁那時', '去金門', '執行長', '張允中', '是什麼', '是因為', '是金門', '會會長', '的時間', '的朋友', '的歷史', '的母親', '縣政府', '菲律賓', '薛承泰', '▁一位', '▁並且', '▁令人', '▁到了', '▁此時', '▁自己', '▁隨著', '企業家', '在一起', '埔後村', '所有的', '是一位', '是一種', '最大的', '最後的', '月二十', '海內外', '王金城', '的人生', '的工作', '的情感', '的日子', '的生活', '的關係', '賢伉儷', '越南文', '...', '▁不能', '▁今年', '▁使得', '▁例如', '▁其他', '▁加上', '▁可是', '▁在此', '▁已經', '▁從此', '▁所有', '▁才能', '▁時間', '▁無論', '▁第一', '▁經常', '▁記得', '▁這個', '▁這種', '▁離開', '不知道', '並沒有', '人生的', '來參加', '內心的', '圖書館', '多年來', '感受到', '我們到', '教育的', '料羅灣', '有一個', '熟悉的', '王銀娘', '的人文', '的文化', '的研究', '的記憶', '莒光樓', '金城鎮', '陵水湖', '麻花捲', '▁10', '▁一九', '▁也有', '▁只能', '▁我才', '▁文學', '▁楊老', '▁生活', '▁畢竟', '▁當我', '▁目前', '▁筆者', '▁覺得', '▁這時', '▁還是', '到台灣', '志明市', '憨目仔', '成長的', '未來的', '東南亞', '母親的', '每一個', '的心情', '的方式', '的機會', '相關的', '給我們', '總兵署', '鄭成功', '金大的', '金門學', '▁不知', '▁乃至', '▁但卻', '▁像是', '▁儘管', '▁在我', '▁如此', '▁建築', '▁成為', '▁我很', '▁我會', '▁我與', '▁我還', '▁振漢', '▁擔任', '▁有些', '▁研究', '▁突然', '▁而後', '▁臺灣', '一定會', '了一些', '了不少', '作品展', '出版社', '別人的', '四十年', '地瓜酒', '扶中心', '文學系', '於民國', '時代的', '李福井', '為什麼', '的就是', '的教育', '紀念館', '老師們', '老闆娘', '藝文界', '過程中', '金寧鄉', '阮黃燕', '陳建民', '館參觀', '199', '▁」「', '▁不會', '▁不管', '▁並於', '▁也許', '▁今天', '▁他的', '▁作為', '▁反而', '▁如何', '▁對我', '▁就像', '▁幾乎', '▁我就', '▁我是', '▁承蒙', '▁晚上', '▁最終', '▁每年', '▁準備', '▁發現', '▁真是', '▁竟然', '▁結果', '▁聽到', '▁譬如', '▁讓人', '▁這裡', '▁選擇', '▁金大', '一定要', '之所以', '了許多', '了金門', '他們的', '做什麼', '博士班', '完成了', '找不到', '是我的', '模範街', '王先正', '當時的', '白襪貓', '的後代', '的鄉親', '看到了', '秘書長', '與社會', '要感謝', '讓我們', '越南籍', '這本書', '鄭愁予', '陌生的', '陳再傳', '黃守恭', '▁一般', '▁一路', '▁不然', '▁也在', '▁二十', '▁作者', '▁值得', '▁兩岸', '▁可能', '▁可說', '▁國立', '▁廈門', '▁或是', '▁所謂', '▁是一', '▁是我', '▁曾經', '▁榜林', '▁歷史', '▁浦邊', '▁獲得', '▁的確', '▁看到', '▁真的', '▁繼而', '▁自然', '▁至今', '▁趕緊', '▁輔導', '▁非常', '一樣的', '不可能', '了起來', '些什麼', '任校長', '偉大的', '八三么', '大學之', '大家庭', '大金門', '太武山', '奇校長', '孩子們', '學生的', '小時候', '建築物', '挫折與', '最後一', '有一位', '特別的', '獨特的', '當年的', '的事情', '的第一', '真的很', '變成了', '金湖鎮', '阿兵哥', '198', '823', '▁一種', '▁三年', '▁也就', '▁他也', '▁他在', '▁他說', '▁令我', '▁倘若', '▁內心', '▁共同', '▁十年', '▁原本', '▁取得', '▁可惜', '▁可見', '▁台南', '▁告訴', '▁大概', '▁學校', '▁學生', '▁實在', '▁幸好', '▁彼此', '▁恐怕', '▁應該', '▁成基', '▁我和', '▁或者', '▁是為', '▁更有', '▁有一', '▁本書', '▁此刻', '▁每個', '▁留下', '▁相信', '▁看著', '▁縱使', '▁而今', '▁肯定', '▁能夠', '▁裡面', '▁許多', '▁那是', '▁院長', '〉、〈', '一次的', '不斷的', '中文系', '主持人', '也沒有', '二十五', '五十年', '五安祖', '出版了', '出版的', '出金門', '副校長', '台灣的', '呂坤和', '家兄弟', '對故鄉', '小三通', '年輕人', '成功的', '戰史館', '教授的', '新住民', '方面的', '昇恆昌', '昭武第', '曾祖父', '最好的', '有一天', '有許多', '朋友們', '李湘洲', '村莊的', '歲進士', '每一位', '潘斯里', '父親的', '的一些', '的一片', '的人們', '的力量', '的同學', '的土地', '的女兒', '的學生', '的念頭', '的感覺', '的戰地', '的經費', '的老師', '的論文', '的那一', '與會的', '蘇碩斌', '論文的', '讀者們', '辦公室', '這樣的', '進一步', '都沒有', '金門志', '金門與', '開元寺', '閩南語', '陳益源', '高祖父', '黎主任', '黎光長', '(16', '109', '196', '▁25', '▁一定', '▁一生', '▁上了', '▁下午', '▁不但', '▁並由', '▁中午', '▁主要', '▁以下', '▁以前', '▁但他', '▁便是', '▁偶爾', '▁先後', '▁兩人', '▁其次', '▁其餘', '▁分享', '▁即是', '▁可謂', '▁同學', '▁同年', '▁回到', '▁國軍', '▁就在', '▁師生', '▁從小', '▁從而', '▁心情', '▁必須', '▁我跟', '▁拙作', '▁持續', '▁提供', '▁曾任', '▁有了', '▁有如', '▁期待', '▁未來', '▁村民', '▁校長', '▁每次', '▁每當', '▁漸漸', '▁無不', '▁站在', '▁與其', '▁認識', '▁迄今', '▁逐漸', '▁這次', '▁這麼', '▁過去', '▁那些', '▁那麼', '▁鄉親', '▁重新', '▁金城', '▁長期', '▁陳榛', '▁需要', '▁面對', '下來的', '不需要', '了我們', '交流的', '什麼呢', '任職於', '何仁慈', '佰萬元', '來到了', '侯日權', '個人的', '停車場', '全世界', '動人的', '十年來', '博士生', '另一種', '可能有', '台北的', '同安縣', '同鄉會', '吳鼎仁', '和金門', '和陳榛', '在今年', '在海外', '在這裡', '天助師', '妳期盼', '學校的', '寫文章', '島上的', '已經不', '年輕的', '從金門', '心靈的', '慈德宮', '慢慢地', '散文集', '新台幣', '是一件', '更多的', '書寫的', '有沒有', '本校的', '李校長', '林焜熿', '楊肅斌', '段期間', '沈從文', '現實的', '的一生', '的人格', '的原因', '的回憶', '的夥伴', '的年代', '的心靈', '的思考', '的文字', '的環境', '的社會', '的能力', '的重視', '研究院', '經營的', '聚一堂', '能見度', '能體會', '自己是', '與臺灣', '被遺忘', '觀光客', '認真情', '課程的', '譚元春', '貴賓和', '追思會', '這件事', '這句話', '那麼多', '金門日', '顏應佑', '100', '195', '?」「', '▁一一', '▁一點', '▁不再', '▁不如', '▁不敢', '▁不禁', '▁不論', '▁中國', '▁事業', '▁人們', '▁人生', '▁今日', '▁以一', '▁以上', '▁以為', '▁但因', '▁但見', '▁何況', '▁作家', '▁個人', '▁凡此', '▁努力', '▁即將', '▁及至', '▁另外', '▁否則', '▁因緣', '▁多少', '▁女兒', '▁她們', '▁孟育', '▁學習', '▁就算', '▁就讀', '▁席間', '▁帶動', '▁彷彿', '▁往往', '▁得知', '▁心靈', '▁怎麼', '▁想著', '▁想要', '▁愛上', '▁我卻', '▁我曾', '▁我有', '▁才會', '▁故而', '▁教授', '▁有時', '▁本村', '▁根據', '▁樹清', '▁正如', '▁清代', '▁為人', '▁無法', '▁現任', '▁現場', '▁畢業', '▁當他', '▁當天', '▁知道', '▁社會', '▁第三', '▁終究', '▁繼續', '▁腦海', '▁自覺', '▁詩人', '▁認為', '▁足見', '▁這位', '▁這才', '▁這本', '▁造福', '▁遠遠', '▁針對', '▁顯示', '▁馬上', '▁高中', '一方面', '三個月', '不容易', '不會有', '中國人', '之間的', '二十三', '二年級', '今日之', '以金門', '位進士', '你們的', '使命感', '候選人', '偕夫人', '價值的', '先生的', '克英的', '入眼簾', '兩岸三', '再利用', '到現在', '副縣長', '十一月', '十二月', '博物館', '參加了', '只是一', '只有一', '可愛的', '同學們', '和謝意', '回來了', '回台灣', '國語文', '在他的', '在其中', '在台北', '在我們', '在越南', '地下化', '基鄉親', '基金會', '多少人', '多年前', '多年的', '大自然', '太多的', '太陽餅', '好朋友', '子世昌', '客觀性', '家鄉的', '寫史詩', '對不起', '小小的', '小時的', '居住的', '崇高的', '帶來的', '帶領下', '建築師', '很大的', '從台灣', '忍不住', '志工團', '意義的', '愛金門', '或許是', '所大學', '把這些', '把金門', '文學與', '是我們', '是為了', '會不會', '有一次', '有什麼', '有名的', '李主任', '李台山', '李沛慶', '李炷烽', '歲月的', '歷史與', '沒想到', '深規院', '漫長的', '為中心', '為他們', '燦爛的', '父母親', '特有的', '王國才', '現在的', '理監事', '生活的', '留下的', '的一種', '的付出', '的問題', '的報導', '的導遊', '的思想', '的思維', '的情懷', '的成長', '的文章', '的氣氛', '的照片', '的發展', '的經濟', '的角色', '的訊息', '的連結', '的風景', '省主席', '知識的', '第一個', '籍作家', '系主任', '紀念品', '給我的', '總經理', '總編輯', '美麗的', '翁明志', '而來的', '能成為', '腳踏車', '與台灣', '與歷史', '葉歸根', '著我的', '蔡復一', '薛芳千', '誕生的', '讓自己', '賴明宇', '走出來', '輔導室', '這一天', '這一年', '這麼多', '都可以', '鄭垂莊', '金沙鎮', '金門和', '金門是', '金門最', '附近的', '陳福海', '陳董青', '雜貨店', '餘年的', '黃克全', '黃振良', '龍鳳宮', 'ati', '──「', '▁16', '▁17', '▁18', '▁一切', '▁一是', '▁一股', '▁一起', '▁一邊', '▁不久', '▁不可', '▁不斷', '▁不是', '▁不要', '▁並將', '▁丫頭', '▁中間', '▁之前', '▁也會', '▁也讓', '▁交通', '▁亦有', '▁仍然', '▁他以', '▁但也', '▁何處', '▁依然', '▁傳承', '▁僅僅', '▁兒子', '▁內容', '▁其一', '▁其二', '▁其間', '▁具有', '▁凡事', '▁十分', '▁卒於', '▁博得', '▁印象', '▁卻也', '▁卻在', '▁去年', '▁參與', '▁又是', '▁又有', '▁受到', '▁受聘', '▁同樣', '▁咱們', '▁唯有', '▁回想', '▁坐在', '▁培育', '▁基本', '▁如同', '▁妳最', '▁媒體', '▁完全', '▁完成', '▁家族', '▁家裡', '▁小侯', '▁展現', '▁工作', '▁已是', '▁帶著', '▁帶領', '▁常常', '▁幫助', '▁平常', '▁建立', '▁很少', '▁很快', '▁後因', '▁得以', '▁想到', '▁想必', '▁成了', '▁我以', '▁我又', '▁我更', '▁我看', '▁我這', '▁所幸', '▁才有', '▁據說', '▁故鄉', '▁整個', '▁明清', '▁是日', '▁時常', '▁最近', '▁村莊', '▁楊肅', '▁正好', '▁正是', '▁此書', '▁每一', '▁每到', '▁每每', '▁準此', '▁為何', '▁為我', '▁無奈', '▁無疑', '▁猶如', '▁珠山', '▁理應', '▁當下', '▁當初', '▁登山', '▁發展', '▁發表', '▁百年', '▁看見', '▁積極', '▁簡單', '▁簡直', '▁紛紛', '▁結合', '▁結束', '▁總是', '▁而這', '▁而非', '▁至少', '▁藉由', '▁親自', '▁說是', '▁談到', '▁謝謝', '▁越南', '▁身為', '▁這一', '▁通過', '▁過了', '▁達成', '▁邀請', '▁還得', '▁那位', '▁那年', '▁重視', '▁開啟', '▁隻身', '▁難怪', '▁非僅', '▁駐軍', '一下子', '一大片', '一家人', '一年的', '一本書', '七十年', '三兄弟', '上學堂', '下一代', '不斷地', '不清楚', '不能不', '主任和', '之紀錄', '也不是', '也可以', '了一位', '了一切', '了他的', '了好幾', '了我的', '仔鼓店', '仟萬元', '代華僑', '任何人', '任教於', '佛祖廟', '來不及', '侍應生', '個中的', '個年頭', '做生意', '充滿著', '先生和', '出席的', '出現在', '出生的', '到哪裡', '到廈門', '前局長', '副教授', '努力的', '協會的', '古區村', '另一個', '台內著', '台南的', '台灣人', '各界的', '名作家', '向前的', '否認地', '吳鈞堯', '呈現在', '告訴我', '和員額', '和時間', '啟用的', '善好施', '囊相授', '四個字', '四十四', '四嬸婆', '四年級', '回到了', '回家了', '回憶錄', '國賓繩', '在校園', '在這座', '地區的', '壽溪宮', '大學生', '大嶝島', '大校園', '太平洋', '失去了', '姊妹們', '孫中山', '學博士', '學員的', '完整的', '家戶戶', '家洋樓', '寫春聯', '對我說', '小吃店', '小虎斑', '小金門', '就沒有', '帶來了', '年日軍', '幾個月', '建立起', '張國治', '張建騰', '張邦育', '忘在莒', '快樂的', '成立的', '我們回', '我已經', '我的心', '我自己', '戰役的', '房地產', '所說的', '才知道', '找到了', '捨不得', '提供我', '搭飛機', '支持與', '教務長', '教育家', '散發出', '數家珍', '文化有', '日子裡', '日正式', '明天的', '是不是', '更好的', '最高的', '會議廳', '有一些', '有心人', '有興趣', '有責任', '李子恆', '李錫隆', '林金生', '林長鴻', '校園的', '校本部', '棟洋樓', '植物系', '楊清國', '楊清廉', '楊筑君', '毛毛蟲', '毫不猶', '氏宗親', '氏家廟', '水馬龍', '江柏煒', '沐春風', '沒關係', '深刻的', '游泳館', '溫媽媽', '為主題', '燕南山', '特殊的', '王仁乾', '王仁忠', '王振漢', '王金鎖', '生活在', '產生了', '番仔樓', '瘋狂的', '發展史', '發生的', '百年的', '的一位', '的一次', '的傳奇', '的共同', '的專業', '的小說', '的情景', '的情況', '的意思', '的成就', '的我們', '的支持', '的方法', '的時刻', '的橋樑', '的消息', '的熱情', '的父親', '的現實', '的生命', '的目的', '的美好', '的老人', '的解說', '的變遷', '的身分', '的遊客', '真正的', '知名度', '石曉楓', '神主牌', '稿費捐', '第一名', '第一屆', '第一所', '第一篇', '第三名', '籌備會', '紀傳體', '紀念酒', '結束後', '經歷了', '綠建築', '美好的', '翻譯成', '老朋友', '而不捨', '腦海裡', '自己要', '與其他', '與未來', '與研究', '舉辦的', '良好的', '色的是', '華麗的', '著你的', '著金門', '薛師弼', '見識到', '覺得他', '計收錄', '許多人', '詩文集', '說的話', '請我們', '講故事', '讓大家', '豐富了', '豐富的', '賢內助', '跨領域', '辣椒醬', '退休後', '這麼說', '過去了', '那麼地', '郭台銘', '鄉親的', '金城的', '金屬的', '金門筆', '銀一百', '錢出力', '閱讀島', '陳慶瀚', '陳榮昌', '陳秀竹', '陸軍第', '階段的', '離金門', '難想像', '領導人', '馬總統', '體會到', '黃娟娟', '黃雅芬', '點點頭', '金門', '▁我', '大學', '00', '▁「', '..', '▁在', '▁一', '▁但', '文學', '▁這', '▁也', '我們', '▁_', '▁不', '▁而', '▁」', '▁他', '一個', '自己', '▁因', '▁是', '老師', '▁有', '沒有', '▁以', '▁當', '台灣', '博士', '就是', '文化', '的人', '▁其', '教育', '校長', '歷史', '20', '▁並', '▁讓', '民國', '人的', '可以', '▁還', '生活', '研究', '▁就', '我的', '▁只', '忠禮', '建築', '▁如', '▁從', '時間', '第一', '先生', '▁所', '什麼', '▁為', '教授', '▁大', '的一', '▁對', '▁那', '▁更', '生命', '▁每', '19', '學生', '社會', '工作', '這個', '開始', '他們', '有一', '發展', '10', '都是', '地方', '之後', '到了', '了一', '來的', '是一', '大的', '已經', '年的', '母親', '國立', '▁再', '故事', '知道', '鄉親', '二十', '父親', '▁可', '▁最', '是我', '▁卻', '▁於', '成為', '▁或', '▁除', '不是', '台北', '活動', '▁即', '學校', '▁後', '主任', '文章', '、《', '事長', '出版', '越南', '金大', '金城', '▁此', '▁然', '特別', '現在', '的是', '院長', '中心', '他的', '希望', '政府', '生的', '精神', '作家', '朋友', '雖然', '中的', '重要', '學習', '日報', '▁由', '▁陳', '十年', '因為', '作品', '時候', '個人', '同學', '服務', '▁又', '記憶', '參加', '家鄉', '發現', '許多', '這樣', '成功', '故鄉', '臺灣', '離開', '▁人', '樹清', '?」', '▁才', '世界', '感謝', '的心', '覺得', '▁無', '一起', '發表', '土地', '擔任', '▁《', '洋樓', '甚至', '這些', '需要', '▁楊', '▁經', '上的', '事業', '大家', '▁她', '不同', '小說', '是在', '認識', '傳統', '國家', '相關', '還是', '▁與', '、「', '中國', '協會', '國際', '孩子', '機會', '課程', '▁自', '後的', '高粱', '18', '▁何', '令人', '時的', '益源', '第二', '記得', '關係', '▁你', '▁成', '回到', '報導', '提供', '期間', '本校', '▁亦', '學院', '書寫', '的情', '▁同', '問題', '本書', '論文', '非常', '▁兩', '▁到', '▁尤', '▁想', '▁看', '▁至', '必須', '──', '▁原', '三年', '不能', '可能', '完成', '廈門', '有的', '為了', '環境', '舉辦', '▁曾', '▁都', '喜歡', '如何', '成長', '斯里', '書法', '現代', '畢業', '的事', '真的', '閩南', '一年', '下的', '努力', '孟育', '方面', '設計', '讓我', '過程', '馬來', '▁(', '一天', '三十', '來自', '大陸', '家族', '怎麼', '戰地', '有人', '觀光', '這麼', '▁正', '▁總', '一位', '一定', '一直', '不會', '了解', '家的', '西亞', '▁老', '一次', '不少', '世宜', '也是', '以及', '作者', '參與', '好的', '校園', '起來', '部分', '開蓉', '▁回', '▁能', '古寧', '多年', '女士', '家庭', '性的', '文字', '時期', '更是', '獅爺', '相當', '認為', '▁接', '▁進', '學系', '家人', '福建', '紀念', '還有', '▁全', '▁故', '▁李', '▁要', '▁說', '一些', '參觀', '奎新', '心的', '感動', '時代', '未來', '睿友', '科學', '返鄉', '飛機', '▁今', '▁首', '一樣', '人家', '人文', '企業', '兩岸', '女兒', '寫作', '感受', '教學', '準備', '無法', '熟悉', '知識', '能力', '退休', '金馬', '隨著', '▁且', '▁乃', '▁已', '▁很', '不到', '中華', '九十', '來到', '價值', '國小', '大樓', '想到', '接受', '方式', '日子', '曾經', '機場', '當時', '看到', '經營', '繼續', '行政', '透過', '邀請', '酒廠', '▁直', '之間', '人物', '代表', '公司', '分享', '十分', '台南', '在這', '學者', '獲得', '的小', '終於', '縣長', '自然', '資料', '輔導', '重視', '長慶', '▁使', '人生', '作為', '前往', '只有', '媽媽', '安排', '屬於', '年代', '影響', '最後', '特色', '裡的', '過去', '選擇', '▁小', '來了', '地區', '如此', '將軍', '感到', '應該', '成了', '指導', '有了', '期待', '熱情', '突然', '筆者', '詩人', '語言', '通識', '金振', '▁中', '▁另', '▁妳', '▁把', '▁沒', '▁真', '一種', '之一', '仍然', '似乎', '共同', '其他', '回家', '多的', '年輕', '會的', '歲月', '浯江', '發生', '的老', '祖父', '空間', '而不', '華僑', '▁便', '▁四', '▁將', '▁現', '▁開', '之前', '也不', '來說', '傳承', '兒子', '十二', '印象', '只是', '天的', '子孫', '志工', '永遠', '碧山', '聽到', '胡璉', '落番', '親自', '讀者', '▁二', '▁各', '▁好', '▁它', '▁帶', '▁心', '▁明', '交流', '人士', '們的', '兄弟', '前的', '協助', '南洋', '意義', '新書', '有著', '比賽', '留下', '當年', '百年', '科技', '紀錄', '總是', '舉行', '記錄', '豐富', '都有', '高雄', '▁時', '▁相', '主持', '之際', '個月', '創作', '包括', '告訴', '回憶', '嬰堂', '學術', '島嶼', '幾乎', '成立', '戰役', '戰爭', '期盼', '的大', '竟然', '聚落', '規劃', '過的', '閱讀', '高中', '黃氏', '--', '▁先', '▁村', '▁深', '一下', '一段', '一生', '一般', '任何', '加上', '古蹟', '吉隆', '四十', '夫婦', '成就', '所有', '持續', '決定', '浯島', '溝通', '第三', '美麗', '肯定', '興建', '著作', '藝術', '討論', '讀書', '路上', '那麼', '電話', '面對', '11', '▁上', '▁下', '▁則', '▁實', '▁黃', '一座', '一點', '七年', '不可', '不斷', '五年', '加坡', '句話', '呈現', '在我', '天下', '技術', '投入', '整理', '是否', '書院', '照顧', '的風', '研討', '秘書', '蘇蘭', '賽事', '17', '▁用', '▁走', '主要', '之中', '今日', '以為', '值得', '名的', '哪裡', '四年', '很多', '情感', '拉松', '振漢', '文獻', '文藝', '漣清', '等等', '萬元', '講座', '身分', '這塊', '金沙', '長的', '長輩', '階段', '16', '▁依', '▁往', '不僅', '之所', '介紹', '付出', '以來', '任教', '伉儷', '內容', '出生', '各界', '各種', '夫人', '存在', '尋找', '對於', '後代', '拙作', '會有', '東西', '正式', '民間', '浦邊', '照片', '的不', '的思', '目前', '看見', '祖先', '經歷', '經濟', '進士', '進行', '高的', '鼓勵', '23', '▁及', '▁反', '▁會', '▁林', '▁王', '▁結', '▁連', '▁長', '一步', '七十', '下來', '不知', '之外', '了我', '今天', '全國', '八年', '出來', '出發', '則是', '單位', '埔後', '堅持', '多少', '夢想', '學會', '家廟', '專業', '尚義', '幾年', '彼此', '得以', '心中', '感覺', '投稿', '支持', '文本', '新聞', '會長', '海外', '燕南', '的那', '看著', '社區', '美的', '而已', '聯合', '計畫', '認真', '調查', '貴賓', '這位', '進入', '都不', '領域', '30', '▁令', '▁前', '▁本', '▁清', '▁身', '一場', '休息', '使用', '像是', '內心', '其中', '出現', '利用', '力量', '和平', '回來', '國語', '報到', '小學', '帶著', '年我', '得知', '意思', '成績', '捐贈', '教師', '有關', '村莊', '現實', '理解', '的我', '種種', '筆記', '給我', '經費', '編輯', '行程', '表示', '設立', '辛苦', '過世', '過了', '陵水', '集團', '難以', '▁2', '▁仍', '▁做', '▁十', '▁台', '▁寫', '▁常', '▁早', '▁若', '▁請', '▁金', '▁雖', '一切', '不見', '中央', '主席', '充滿', '兩個', '公里', '六年', '受到', '唯一', '國軍', '城市', '多次', '居住', '島上', '幫助', '建設', '強調', '得到', '快樂', '提出', '晚上', '桂香', '比較', '當然', '相信', '瞭解', '社大', '移民', '經常', '腳步', '著我', '規模', '親愛', '記載', '訪問', '許是', '讓人', '運動', '那個', '闆娘', '12', '▁三', '▁五', '▁天', '▁家', '▁發', '▁等', '中文', '二三', '交通', '人員', '仁慈', '件事', '任職', '保存', '內外', '具有', '再傳', '古厝', '回答', '回饋', '圖書', '基礎', '報名', '天地', '委員', '子的', '宗親', '容易', '建立', '心情', '感恩', '散文', '會議', '有些', '有所', '校務', '榜林', '正在', '民族', '泉州', '用的', '田野', '白襪', '的美', '的陳', '祝福', '等待', '翻譯', '自我', '興奮', '莒光', '行李', '表達', '變成', '通過', '那些', '鄉土', '醫院', '面的', '順利', '?_', '▁僅', '▁凡', '▁平', '▁幸', '▁空', '一代', '一日', '一片', '一路', '不起', '之心', '今年', '以後', '來越', '創校', '創業', '力的', '取得', '只能', '回應', '因此', '國中', '地瓜', '執行', '基金', '媽祖', '子女', '學員', '宗祠', '客觀', '對我', '年來', '年前', '張允', '從事', '才能', '承泰', '挫折', '日軍', '月初', '民眾', '水頭', '海峽', '深刻', '清楚', '滿足', '演講', '為主', '熱水', '王國', '的話', '目的', '砲戰', '碼頭', '美國', '而言', '藝文', '說是', '變遷', '負責', '逐漸', '這座', '這種', '這裡', '遇到', '道光', '部隊', '重新', '銀娘', '附近', '陪同', '願意', '體會', '▁〈', '▁來', '▁和', '▁唯', '▁承', '▁聽', '上了', '上課', '不得', '不足', '九年', '人口', '人才', '人間', '位置', '你的', '六十', '典禮', '出去', '分別', '創造', '勇氣', '原來', '原因', '可見', '地的', '坐在', '大小', '失去', '媒體', '完全', '定的', '宿舍', '導遊', '工程', '帶領', '想要', '愛的', '找到', '探索', '接待', '推動', '料羅', '有多', '有點', '村的', '歲的', '海邊', '溫暖', '熱愛', '珠山', '的前', '的身', '目標', '真實', '碩士', '籌備', '結束', '經過', '能夠', '英雄', '補助', '解說', '貢生', '長鴻', '除了', '電影', '需求', '風格', '香港', '體驗', ')、', '▁出', '▁初', '▁吃', '▁惟', '▁愛', '▁轉', '▁遠', '不在', '不曾', '世紀', '中越', '也有', '二年', '你們', '俗語', '兒孫', '北風', '合作', '團隊', '地理', '坑道', '培育', '大師', '好幾', '實在', '實現', '局長', '幸福', '延續', '律賓', '思考', '想起', '抵達', '捐款', '文史', '族譜', '早已', '明宇', '時光', '時空', '智慧', '楊老', '極為', '榕樹', '正是', '每個', '為人', '為何', '無奈', '異鄉', '的氣', '管理', '紫雲', '經驗', '總兵', '腦海', '與我', '舞台', '行動', '視野', '觀點', '角色', '這是', '連結', '達到', '都會', '金寧', '關懷', '陪伴', '陳氏', '13', '24', '▁年', '▁應', '▁整', '▁新', '▁歷', '▁被', '▁離', '一大', '一輩', '下了', '下午', '不再', '不太', '中學', '之下', '五十', '交換', '享受', '住在', '僑鄉', '兩位', '分部', '剛剛', '印尼', '參訪', '同安', '名為', '呂氏', '太太', '太武', '奉獻', '始終', '它的', '守恭', '小喬', '小時', '左右', '師生', '常常', '幾個', '張燮', '後人', '後浦', '心靈', '念頭', '情懷', '情的', '想像', '意識', '慢慢', '成發', '我一', '所謂', '放棄', '政務', '方法', '旅程', '族人', '景點', '更加', '更多', '書中', '村史', '校舍', '條件', '次的', '毫不', '民宿', '烈嶼', '無數', '父母', '獨特', '現場', '生意', '畢竟', '的夜', '的家', '的確', '祖母', '福井', '空軍', '簡單', '結婚', '美食', '興趣', '花捲', '言之', '誕生', '諸多', '資格', '趕緊', '迄今', '配合', '金湖', '開心', '陳建', '館長', '龍溪', '49', 'in', '▁例', '▁多', '▁據', '▁日', '▁竟', '▁終', '▁見', '▁誰', '▁談', '▁豈', '▁近', '▁馬', '一百', '下去', '不及', '不要', '不過', '中山', '主辦', '之最', '任務', '位於', '使命', '依然', '儀式', '全球', '兩年', '其實', '具體', '再度', '出席', '出的', '加以', '動力', '千里', '名字', '問我', '喜愛', '回頭', '在一', '在心', '在此', '基本', '報告', '夏興', '多了', '多元', '太陽', '好友', '學位', '安全', '官員', '少年', '尚未', '展開', '幫忙', '年間', '心理', '恐怕', '愁予', '或者', '房間', '所以', '手機', '捷運', '提到', '擔心', '收錄', '改變', '文中', '新鮮', '旅遊', '星期', '模範', '為榮', '熱鬧', '申請', '當地', '百姓', '的新', '的自', '的長', '真是', '真正', '祭祖', '給予', '習慣', '興華', '落地', '西方', '觀察', '訓練', '記者', '詮釋', '說明', '論述', '議題', '責任', '資源', '身上', '軍中', '軍事', '追思', '造成', '遊客', '陌生', '音樂', '餐廳', '餵食', '魅力', '黃偉', '21', '▁事', '▁去', '▁受', '▁專', '▁必', '▁打', '▁猶', '▁生', '▁致', '▁試', '▁謹', '▁足', '▁關', '▁隨', '▁難', '▁高', '」(', '一帶', '一張', '三個', '上學', '不敢', '不絕', '主張', '之餘', '也在', '也沒', '保護', '偉大', '傳奇', '傳遞', '僑領', '儘管', '公園', '分鐘', '到我', '加油', '南亞', '卻是', '古代', '各地', '同時', '同鄉', '哥哥', '困境', '增加', '大馬', '天氣', '如同', '子弟', '學子', '家長', '對話', '小島', '小的', '就在', '展現', '山兄', '影片', '彷彿', '律師', '後來', '志明', '思想', '想著', '慈善', '慶瀚', '憨目', '成果', '成的', '我在', '或許', '戰史', '政治', '文物', '明的', '最佳', '會友', '會在', '會館', '東洲', '林羽', '校友', '根本', '業務', '此時', '歷程', '氣息', '海堤', '溫馨', '滿了', '漸漸', '獨立', '珍貴', '理工', '瓊林', '發行', '的好', '的愛', '社工', '積極', '站在', '答應', '系統', '絕對', '縣府', '總統', '者的', '背景', '艱辛', '落成', '處理', '行的', '表演', '說的', '變化', '資訊', '超過', '辦公', '辦理', '追求', '這一', '這段', '遺忘', '部份', '鄉愁', '重點', '錄取', '門口', '隊伍', '離島', '青春', '面前', '風景', '飲水', '驚喜', '驚訝', '高興', '點點', 'er', '▁倘', '▁向', '▁外', '▁建', '▁數', '▁既', '▁海', '▁百', '▁盡', '▁繼', '▁莫', '▁詩', '▁讀', '▁跟', '▁非', '一人', '一句', '一條', '不堪', '不已', '丫頭', '主動', '之情', '事務', '互動', '人潮', '人類', '他人', '以前', '住民', '佩服', '來時', '做了', '儒學', '優秀', '元寺', '兄長', '先正', '公所', '出身', '別人', '到處', '前後', '副刊', '十月', '即將', '原本', '古文', '另一', '史料', '回鄉', '因緣', '國文', '夥伴', '大多', '天空', '夫婿', '好好', '妳的', '姊妹', '學問', '守護', '宗族', '官兵', '家中', '小吃', '小姐', '就像', '就會', '已在', '師範', '年度', '年紀', '從來', '心力', '感念', '感激', '懷念', '成員', '或是', '所長', '才有', '打拚', '敘述', '教諭', '敬意', '文壇', '新的', '方向', '旅居', '日本', '早年', '時刻', '有更', '有限', '未曾', '本地', '本身', '朱熹', '根據', '榮獲', '欣慰', '歡迎', '每次', '海灘', '深深', '為我', '物質', '王仁', '玻璃', '理由', '環島', '生之', '生涯', '當初', '當天', '的他', '的手', '相互', '相同', '相繼', '看看', '瞬間', '知名', '研習', '確實', '福利', '稱為', '算是', '紛紛', '綜合', '美景', '義理', '聲響', '自由', '至今', '英國', '荔枝', '裡面', '角度', '解決', '訊息', '評審', '認同', '譬如', '變得', '貢獻', '走向', '走過', '起了', '距離', '跟我', '這份', '逝世', '重心', '長年', '開放', '開車', '阮黃', '陳榮', '隻身', '電視', '驕傲', '14', '15', 'Qu', 'em', 'oy', '▁)', '▁共', '▁問', '▁均', '▁學', '▁尚', '▁待', '▁特', '▁登', '▁禮', '▁第', '▁萬', '▁著', '▁藉', '▁隔', '▁領', '一一', '一書', '一部', '三大', '不上', '不了', '不住', '不想', '世代', '主編', '之於', '之美', '之處', '之道', '也很', '也許', '了吧', '五月', '交談', '人在', '人數', '仍是', '他在', '作文', '停車', '僑社', '元春', '充實', '先賢', '兒女', '兩人', '八三', '八十', '公益', '共有', '典範', '再桐', '再次', '出了', '出洋', '區域', '十一', '千萬', '半年', '即是', '厲害', '參考', '及其', '台金', '同仁', '同意', '君子', '告別', '命運', '回去', '在地', '基於', '報紙', '外的', '夜話', '大會', '奉祀', '奮鬥', '婦女', '子裡', '孔子', '完整', '寫的', '將來', '專家', '尋親', '小三', '少女', '就讀', '屋頂', '島民', '師者', '帶給', '幫我', '年會', '幾位', '強烈', '形成', '往事', '後裔', '復一', '思源', '恬庵', '想法', '成熟', '我是', '把它', '拜訪', '推廣', '收穫', '放下', '放榜', '方的', '日後', '日的', '早上', '春秋', '春風', '是好', '書名', '有心', '有成', '校區', '楊肅', '榮譽', '樣的', '每一', '氣質', '水庫', '汶萊', '深入', '漂流', '特殊', '狀況', '王金', '珍惜', '理想', '瓊芳', '生根', '產業', '痛苦', '發出', '發覺', '百萬', '的主', '的感', '的路', '監事', '相處', '社團', '禮物', '範圍', '系的', '終身', '緊張', '總會', '聲音', '自身', '致詞', '英文', '董青', '衣服', '複雜', '西元', '要去', '要求', '見到', '訓導', '許久', '語文', '象徵', '貢糖', '資助', '身邊', '辛酸', '農曆', '造就', '遊戲', '運用', '過著', '道路', '還會', '鄉人', '鄉情', '開館', '關心', '陸續', '陽光', '電腦', '露出', '青年', '飯店', '駐軍', '麵線', '22', '75', '80', '▁3', '▁6', '▁傳', '▁分', '▁剛', '▁南', '▁合', '▁引', '▁怎', '▁按', '▁營', '▁縱', '▁落', '▁蔡', '▁該', '▁跑', '▁軍', '▁造', '▁顯', '」、', '一家', '一手', '一時', '一無', '一篇', '三日', '三月', '不久', '不好', '不安', '不平', '不忘', '不錯', '世昌', '中正', '主義', '久了', '之初', '之名', '之家', '事件', '互相', '五安', '人們', '令我', '休閒', '來看', '來金', '信仰', '個性', '停下', '健康', '偶爾', '傑出', '光中', '內的', '兩地', '六月', '兵哥', '分會', '助人', '勇敢', '動容', '勝利', '化的', '北山', '匾額', '十九', '十餘', '協談', '古區', '台幣', '各個', '各自', '各項', '員工', '哲學', '團長', '地下', '地位', '地說', '多人', '多半', '夜市', '大嶝', '大橋', '大量', '天助', '好像', '如今', '如果', '始祖', '子張', '學業', '宇宙', '宣傳', '寫下', '寫了', '專輯', '小孩', '居民', '展示', '島的', '島鄉', '差異', '師資', '建議', '式的', '影印', '很有', '從文', '忙碌', '快速', '思潮', '情景', '想念', '愉快', '愛上', '感慨', '態度', '成人', '戰鬥', '打開', '承辦', '把我', '抒發', '拍照', '拿督', '指責', '挑戰', '振良', '推薦', '提醒', '收入', '收到', '改造', '放在', '政策', '故里', '教室', '教材', '文集', '文館', '方便', '方能', '明成', '春聯', '昭武', '時報', '時常', '晉匾', '晚宴', '景觀', '最好', '期的', '李錫', '材料', '村落', '杜甫', '東林', '梓鄉', '楊清', '榮幸', '樂齡', '樹森', '橋樑', '機構', '每天', '民情', '水泥', '求學', '活化', '流傳', '海上', '海岸', '清華', '湘洲', '為之', '無限', '然而', '牌坊', '特地', '特約', '犧牲', '獎金', '獨自', '理事', '生動', '生日', '用心', '發揮', '的名', '的說', '看來', '看過', '眼光', '眼前', '眼睛', '砲火', '砲聲', '確定', '祭拜', '科長', '等人', '節目', '精彩', '系列', '約定', '累積', '組的', '結果', '結構', '經理', '維護', '練習', '縣定', '美女', '老街', '考試', '考量', '聆聽', '聊天', '聯絡', '聯繫', '至少', '臺北', '興起', '般的', '茶室', '華人', '著一', '著手', '藏在', '處處', '行人', '表現', '見面', '親人', '親切', '計劃', '講學', '講師', '講述', '貴族', '走了', '走走', '跟著', '路跑', '車的', '車站', '輕鬆', '辦法', '迎接', '遊覽', '運作', '道德', '道的', '遠的', '遺稿', '都能', '都要', '酒店', '釀酒', '長者', '開啟', '關於', '防部', '阿背', '陳榛', '電子', '題目', '飛揚', '高度', '26', '38', '60', 'al', '▁1', '▁久', '▁乘', '▁似', '▁余', '▁取', '▁君', '▁吳', '▁啊', '▁增', '▁夜', '▁山', '▁復', '▁悲', '▁敬', '▁文', '▁書', '▁未', '▁熱', '▁甚', '▁立', '▁舉', '▁花', '▁親', '▁靠', '▁風', '▁飛', '、〈', '》(', '一向', '一堂', '一所', '一文', '一棟', '一番', '一趟', '一身', '七歲', '上班', '上述', '不幸', '不成', '不捨', '不說', '並不', '中最', '之地', '之路', '乙本', '也就', '人人', '人心', '以一', '似的', '住宿', '何等', '信心', '修復', '僑居', '僑親', '僑辦', '先後', '先祖', '光長', '克英', '免費', '入了', '內在', '內涵', '內陸', '全家', '八百', '公職', '六篇', '兼任', '分之', '初衷', '創辦', '助理', '勢必', '十五', '十六', '午後', '半馬', '去看', '又有', '友誼', '台大', '史詩', '名詞', '名譽', '吸引', '呂坤', '和我', '善意', '善用', '四個', '回味', '因素', '困難', '國傑', '國內', '國校', '圍牆', '圓滿', '團體', '在他', '報社', '場面', '壓力', '士兵', '大哥', '大概', '天堂', '天際', '太平', '女性', '好奇', '婉拒', '孤獨', '學府', '學的', '完了', '宗叔', '宗教', '定位', '宣布', '寂寞', '寫在', '寫道', '寺廟', '專程', '尊重', '小侯', '就業', '就要', '展覽', '屬的', '平台', '平日', '年後', '幾次', '廩生', '建寺', '建校', '建構', '形容', '很難', '後山', '從小', '忘了', '思維', '恆昌', '感佩', '感觸', '慶幸', '成一', '我不', '我到', '所屬', '手續', '打字', '打造', '把握', '抒情', '拍攝', '招待', '指揮', '授課', '排隊', '接近', '提升', '攝影', '敘事', '教職', '整個', '數十', '數百', '方案', '於是', '旁邊', '旅客', '旅行', '日權', '明白', '昔日', '春天', '是從', '是有', '晚年', '暑假', '會場', '有三', '有何', '有個', '木棉', '李前', '村民', '東堡', '桌上', '植物', '榮耀', '樓房', '機票', '步調', '民防', '氛圍', '水果', '沛慶', '法院', '注意', '浪貓', '浯洲', '深思', '澳門', '濃厚', '濃濃', '灘塗', '炷烽', '為例', '無比', '無私', '熱烈', '燈火', '爸爸', '片刻', '獎章', '甚麼', '生了', '由於', '當場', '疲憊', '的水', '的無', '的起', '盡的', '直接', '短暫', '碩斌', '神主', '程序', '程度', '稿費', '究竟', '穿著', '立在', '答案', '級的', '結合', '給了', '繼承', '缺乏', '老家', '老朽', '者之', '者是', '而來', '而出', '肉體', '能在', '能見', '能量', '腳踏', '臉上', '致謝', '色彩', '荷蘭', '葉華', '蓬勃', '虎斑', '衍派', '要我', '角落', '解釋', '言談', '設備', '設校', '訴說', '說不', '赴台', '轉型', '農村', '返回', '途中', '這部', '進了', '運輸', '過後', '都在', '鄰居', '重大', '重的', '金錢', '銀行', '長大', '開線', '關注', '阿伯', '陸軍', '隨風', '雜誌', '離職', '非凡', '面上', '頗有', '風俗', '風氣', '駐校', '體認', '默默', '鼎仁', '龍江', '(6', '1)', '25', '40', '50', '70', '90', 'an', 'on', '▁8', '▁七', '▁九', '▁享', '▁任', '▁供', '▁倒', '▁假', '▁充', '▁別', '▁卒', '▁呂', '▁喝', '▁國', '▁始', '▁席', '▁張', '▁愚', '▁搭', '▁望', '▁期', '▁東', '▁樂', '▁水', '▁沿', '▁活', '▁理', '▁留', '▁皆', '▁積', '▁絕', '▁臨', '▁西', '▁觀', '▁起', '▁趁', '▁車', '▁酒', '▁重', '▁針', '▁順', '一再', '一同', '一塊', '一群', '一職', '一邊', '一面', '三人', '三角', '上午', '不倦', '不停', '不出', '不小', '不打', '不用', '不管', '不自', '不著', '並非', '主角', '之大', '之意', '之深', '也會', '了個', '事例', '事宜', '事情', '五個', '人所', '人格', '仔細', '他是', '付梓', '伯玉', '作業', '來台', '依舊', '侯導', '促進', '信封', '修建', '停止', '健走', '側的', '傳來', '傳達', '僅是', '克全', '全力', '全島', '全部', '全體', '兩句', '兩種', '再現', '冷戰', '凌晨', '分析', '分的', '刊登', '列為', '列車', '到底', '則有', '前來', '前身', '前輩', '前面', '剛好', '創立', '功課', '募款', '勳章', '北路', '半個', '南山', '原則', '去年', '去過', '參議', '又是', '口氣', '可是', '可說', '司令', '哪些', '喜悅', '四百', '四種', '四處', '回歸', '困擾', '團結', '在金', '地上', '地在', '均為', '城的', '堅強', '境界', '多麼', '大同', '大約', '失敗', '女子', '她們', '她的', '好了', '委會', '嬰兒', '孤寂', '學而', '安瀾', '完後', '宛如', '害怕', '家裡', '寫得', '封面', '尋根', '導演', '小組', '就跟', '展出', '山外', '崇敬', '已有', '巴生', '師表', '帶來', '平時', '年少', '年華', '幾天', '廣東', '影像', '很大', '後輩', '得一', '得很', '從前', '微瀾', '德宮', '忘記', '性質', '情形', '想過', '意外', '愛與', '應佑', '懷抱', '成基', '成大', '我心', '我想', '我會', '戒嚴', '戰場', '所在', '才是', '扮演', '技巧', '拜拜', '拜會', '拿起', '提督', '揭牌', '搜集', '搭乘', '撰寫', '擁有', '支援', '支撐', '改為', '敬佩', '文教', '文風', '新生', '方略', '旁的', '日期', '明年', '是以', '是個', '是大', '時我', '暫時', '暴力', '更為', '書的', '書籍', '最多', '最大', '會上', '會兒', '會員', '有加', '有時', '有餘', '未必', '杏壇', '松山', '林焜', '林金', '校本', '核心', '桑梓', '概念', '構想', '樂園', '標準', '模式', '樣子', '橘貓', '檢視', '正向', '此生', '歸宿', '殊榮', '毅力', '母子', '每月', '毫無', '氣氛', '決心', '海的', '消失', '消息', '深情', '減少', '渴望', '滄桑', '滄海', '漂亮', '漢魂', '為文', '為題', '無人', '無論', '然後', '燦爛', '物資', '特聘', '特質', '狀態', '獲獎', '王爺', '班機', '現今', '現象', '理論', '瑞芬', '璀璨', '生前', '生於', '生物', '男女', '畫面', '當下', '當中', '當代', '登上', '登陸', '白色', '百忙', '的光', '的夢', '的意', '的詩', '的開', '盡力', '相遇', '真心', '真理', '眼眶', '矛盾', '碑記', '社科', '秀竹', '私人', '空中', '穿梭', '童年', '等著', '策略', '篇章', '籌款', '約了', '純粹', '組織', '綠色', '網路', '繁榮', '而為', '背後', '脾氣', '致上', '臺大', '與會', '茁壯', '華麗', '萬分', '萬曆', '萬里', '落實', '製作', '要找', '要說', '規院', '親臨', '親身', '說了', '說服', '課堂', '謝意', '謝謝', '議員', '費用', '資產', '贈送', '走出', '走到', '起家', '超越', '越過', '足以', '路人', '踏上', '身處', '軍妓', '軍管', '辭世', '返金', '退伍', '這場', '這本', '進修', '進步', '過往', '達成', '遭受', '遲遲', '遺憾', '遺跡', '避免', '邀約', '還能', '邊緣', '那年', '那樣', '部門', '都市', '都很', '鄉鎮', '酒坊', '重鎮', '金的', '長子', '長官', '長達', '開創', '開發', '間的', '關鍵', '陳福', '陷入', '際上', '隨時', '雙重', '雜貨', '霧中', '靈魂', '面向', '韓愈', '頒獎', '頓時', '頻繁', '風光', '風貌', '食物', '首次', '體例', '體悟', '鼎盛', '28', '29', '45', '61', 'at', 'el', 'en', '——', '▁9', '▁俟', '▁像', '▁內', '▁六', '▁博', '▁名', '▁否', '▁咱', '▁喜', '▁嘗', '▁固', '▁報', '▁夫', '▁婚', '▁字', '▁巧', '▁幾', '▁忠', '▁情', '▁戰', '▁手', '▁抱', '▁拉', '▁指', '▁捐', '▁探', '▁推', '▁提', '▁換', '▁改', '▁教', '▁果', '▁極', '▁次', '▁況', '▁準', '▁滿', '▁牠', '▁男', '▁病', '▁白', '▁端', '▁簡', '▁美', '▁胡', '▁臺', '▁草', '▁號', '▁表', '▁計', '▁諸', '▁買', '▁踏', '▁較', '▁載', '▁輸', '▁選', '▁邊', '▁集', '▁霧', '▁預', '○○', '》、', '」?', '一屆', '一把', '一斑', '一本', '一波', '一班', '一遍', '一陣', '七日', '上下', '上天', '上過', '不動', '不吃', '不大', '不如', '不必', '不忍', '不怕', '不改', '不解', '不計', '世間', '中午', '中有', '中蘭', '主管', '主觀', '主題', '之不', '之便', '之友', '之旅', '之行', '之隔', '也都', '了好', '了幾', '事先', '交給', '亦有', '人對', '代替', '伸出', '住的', '何嘗', '何方', '佛祖', '來臨', '保留', '個個', '候選', '做為', '偶然', '備感', '傷害', '傾斜', '僅有', '億元', '優良', '元旦', '先父', '克服', '入眼', '全數', '兩樣', '兩次', '八月', '公共', '公車', '其是', '凝聚', '凡的', '出外', '出書', '初的', '到的', '前進', '剩下', '創意', '創新', '創設', '力與', '功德', '勉勵', '動工', '務長', '勞動', '勞的', '包含', '包裝', '化了', '十三', '十八', '十幾', '十足', '千元', '升格', '午餐', '南安', '博物', '厚的', '原鄉', '去了', '去吃', '又要', '及時', '友們', '叢書', '口味', '口述', '召開', '台中', '台山', '各式', '同事', '同行', '名單', '名氣', '否認', '吳玉', '告知', '周邊', '味道', '和他', '咸豐', '哭了', '商店', '啟蒙', '嚴謹', '四月', '四次', '回事', '回顧', '國共', '國民', '圍繞', '園區', '圖片', '團聚', '地將', '坎坷', '垂莊', '埔保', '培訓', '培養', '基地', '場合', '塑造', '墳墓', '壞事', '外國', '夜的', '夥兒', '大人', '大型', '大壽', '天涯', '太多', '奇蹟', '奈何', '奔波', '她在', '她就', '如下', '姓名', '娟娟', '婆婆', '字第', '存的', '孫子', '學人', '學期', '學長', '安逸', '宋代', '宗長', '家住', '家戶', '寄給', '寒假', '實踐', '寫照', '寬廣', '寶三', '專員', '對待', '對照', '導師', '小人', '小型', '少數', '就學', '尷尬', '屋內', '山水', '工具', '已然', '市場', '師道', '平安', '年久', '年年', '年齡', '座的', '廁所', '建了', '建的', '弟妹', '張國', '形式', '得分', '德威', '必然', '忙著', '忽然', '恢復', '恩師', '意見', '愛鄉', '慈湖', '慷慨', '憂患', '懂得', '懷疑', '我也', '我沒', '我與', '所知', '所能', '手的', '手稿', '才會', '承受', '投資', '拒絕', '招生', '掉了', '掌握', '排除', '採訪', '接到', '接著', '接觸', '摯友', '撫慰', '改建', '政部', '教化', '整修', '文采', '旅外', '日在', '日夜', '日記', '早日', '明天', '明志', '明確', '明鄭', '明顯', '是說', '時曾', '普世', '景仰', '景象', '曉楓', '更深', '書信', '書房', '最有', '最終', '最高', '有過', '朗誦', '未到', '未能', '本文', '本縣', '東方', '楊氏', '楷模', '模糊', '機關', '欄杆', '欲求', '正好', '正確', '此一', '此地', '此次', '此種', '武功', '歲時', '歷代', '歷經', '歸根', '毅然', '每年', '民俗', '民生', '永恆', '永續', '沒人', '沙灘', '沙美', '活躍', '浮現', '浯鄉', '海龜', '涉及', '涵蘊', '涵養', '深度', '深滬', '淵源', '清代', '清朝', '游泳', '湖南', '湖畔', '滿滿', '漏水', '演員', '漫步', '激勵', '激發', '為他', '為其', '為民', '為的', '無可', '無窮', '無關', '焦慮', '煩惱', '父老', '爾後', '牛津', '物品', '特產', '狂的', '獎的', '獨中', '獲頒', '理念', '生平', '生態', '生產', '用來', '用手', '由我', '留意', '留有', '留給', '番薯', '畫作', '病魔', '發電', '白米', '的三', '的可', '的地', '的寶', '的燈', '的神', '的空', '的精', '的紅', '的軍', '的鄉', '的金', '盛事', '盛況', '目中', '省思', '看了', '真情', '真誠', '眾多', '短期', '砲彈', '碉堡', '社長', '祝賀', '祭祀', '秉持', '競爭', '競賽', '笑著', '等地', '策展', '節奏', '粗桶', '級分', '細細', '終究', '組成', '絡繹', '給他', '給你', '統一', '網頁', '綿延', '緊密', '緊緊', '線索', '編撰', '編號', '縣市', '美金', '翻成', '老人', '考慮', '考證', '考驗', '者與', '聞名', '聯誼', '聲地', '聽聞', '聽見', '聽過', '自家', '自行', '自豪', '興修', '良多', '艱苦', '花蓮', '芳千', '若干', '苦難', '落在', '著的', '處長', '蛻變', '街道', '西園', '要到', '要有', '見證', '規定', '親朋', '解嚴', '解答', '記述', '訪談', '設施', '設置', '評估', '詢問', '詩詞', '誠摯', '說著', '課題', '談話', '請我', '諸位', '諸君', '證明', '識之', '護理', '貞節', '負擔', '購物', '起步', '足夠', '路的', '軍方', '輕輕', '輝煌', '輪流', '輾轉', '辦學', '迷航', '追隨', '這篇', '通知', '逛逛', '速度', '連續', '進度', '進食', '進駐', '過年', '遑論', '還沒', '那一', '那兒', '那天', '那時', '那棵', '郵件', '都以', '鄉訊', '鄉賢', '鄉里', '酒的', '重重', '金僑', '銅像', '門生', '開了', '開闢', '閩風', '閱報', '阿公', '阿嬤', '限於', '陪著', '陳德', '離去', '離鄉', '難忘', '雲南', '靠近', '面子', '面積', '革命', '領導', '顯影', '風情', '風的', '風華', '風雨', '養育', '馬路', '驚艷', '體制', '體力', '高等', '高齡', '魯王', '鮮少', '鳳宮', '黃府', '黃金', '黴菌', '鼓舞', '31', '34', '35', '41', '44', '63', '7)', '76', '78', '8)', '86', '87', '89', '▁4', '▁傾', '▁入', '▁創', '▁功', '▁動', '▁叫', '▁周', '▁夏', '▁夢', '▁女', '▁媽', '▁官', '▁富', '▁寒', '▁少', '▁居', '▁府', '▁得', '▁悠', '▁您', '▁意', '▁振', '▁擴', '▁收', '▁放', '▁易', '▁月', '▁朝', '▁歸', '▁知', '▁祇', '▁祈', '▁給', '▁絲', '▁緣', '▁緩', '▁縣', '▁續', '▁義', '▁腦', '▁蓋', '▁行', '▁視', '▁訂', '▁註', '▁話', '▁誠', '▁送', '▁通', '▁適', '▁願', '▁顧', '▁點', '〉(', '一件', '一來', '一則', '一千', '一只', '一小', '一度', '一看', '一眼', '一腳', '一色', '一行', '一角', '七月', '三百', '三餐', '上市', '上海', '上說', '上還', '下店', '不下', '不勝', '不夠', '不失', '不懂', '不懈', '不接', '不時', '不滿', '不畏', '不禁', '不言', '不該', '不論', '不負', '不辭', '中卻', '中大', '中年', '中西', '之故', '之時', '之用', '之苦', '之高', '九月', '也曾', '了很', '事實', '事物', '事蹟', '二人', '二專', '二月', '二者', '五日', '交往', '交集', '亦以', '亦是', '人以', '人性', '人是', '人有', '人道', '仁愛', '仁者', '介入', '仔樓', '仔鼓', '仙洲', '代價', '以上', '以其', '以往', '以此', '企劃', '位子', '低沉', '住宅', '來回', '來往', '來此', '來源', '來賓', '侍應', '依賴', '依靠', '侯選', '保持', '修課', '修辭', '修養', '個年', '倒是', '借調', '倡建', '倡議', '做人', '做的', '傳體', '傷心', '僑光', '儉樸', '優異', '優美', '儼然', '兄妹', '光的', '光采', '兒時', '兒童', '入學', '入手', '內助', '內著', '全書', '兩篇', '兩邊', '八個', '八方', '公務', '公子', '公民', '六六', '共襄', '共識', '共鳴', '其數', '兼具', '冀望', '冒險', '冷水', '凸顯', '出其', '出力', '分為', '列入', '別的', '到他', '到外', '到過', '到達', '刻苦', '前去', '前線', '前鋒', '創傷', '力行', '功能', '功臣', '加入', '助錢', '動了', '動的', '匱乏', '十四', '十點', '升學', '卓環', '卓絕', '南路', '印製', '危機', '危險', '即可', '原先', '友人', '反思', '反應', '反映', '叔公', '叔叔', '口的', '口號', '古典', '古籍', '只要', '叫做', '召集', '可供', '可從', '可惜', '可言', '台越', '台銘', '史實', '右手', '右營', '司馬', '吃的', '合的', '合辦', '吏部', '吩咐', '含著', '吳鈞', '周的', '呼呼', '命的', '和員', '品味', '品德', '品質', '哲人', '唐敏', '商業', '問世', '問他', '啟發', '善好', '善良', '喚醒', '喧囂', '單獨', '單純', '嘉惠', '嘗試', '嚴格', '囊相', '四嬸', '四季', '四日', '四面', '四點', '回首', '國度', '國欽', '國賓', '圖資', '團部', '在同', '在耳', '在莒', '在說', '在身', '地主', '地名', '地圖', '地地', '地產', '坐船', '垃圾', '基業', '堪輿', '報端', '場景', '壁畫', '士官', '壽溪', '多久', '多種', '大了', '大事', '大作', '大哭', '大廳', '大方', '大米', '大膽', '天爺', '太湖', '太過', '失修', '契機', '奔放', '女張', '好啦', '好處', '如能', '姐姐', '娓娓', '媳婦', '子恆', '孝子', '孝順', '學測', '守節', '安定', '完工', '宏偉', '官澳', '客人', '客廳', '客戶', '家園', '家常', '家書', '家珍', '家門', '寒暄', '實質', '實際', '審查', '寫出', '寫成', '寶塔', '將其', '將近', '專欄', '專長', '專門', '對他', '小坐', '小妹', '小羽', '少校', '就有', '就算', '就近', '屋主', '山海', '崗石', '巍峨', '巡安', '工夫', '巧合', '已是', '已遠', '帥哥', '師大', '師弼', '帶我', '常說', '幕式', '平凡', '平常', '平方', '平民', '平靜', '年體', '幹事', '床上', '底蘊', '府志', '度過', '廚房', '廣播', '廣闊', '延伸', '建島', '建騰', '引發', '引薦', '引起', '弟兄', '弱勢', '張火', '張邦', '形的', '往往', '往後', '很久', '很快', '很近', '後再', '後悔', '得不', '從不', '御史', '復興', '微薄', '德政', '心地', '心得', '心態', '忍受', '忽視', '怎會', '思念', '思索', '思鄉', '性格', '悄悄', '悲傷', '悲劇', '情況', '想我', '愛心', '感傷', '感悟', '感情', '感想', '感而', '慈悲', '慚愧', '慶祝', '應用', '成冊', '成書', '成章', '我和', '我說', '或缺', '戰亂', '戰車', '所作', '扇窗', '手裡', '才剛', '才華', '打交', '打的', '抉擇', '拐杖', '拖著', '拿到', '拿著', '指標', '挹注', '捐出', '捐助', '捐資', '捐銀', '掙扎', '掛在', '掛牌', '探究', '探險', '提筆', '揮灑', '撥冗', '播音', '據點', '收藏', '故吏', '教導', '教書', '散步', '散的', '數人', '數的', '文事', '文件', '文心', '文書', '新年', '於我', '旅費', '旅館', '族群', '族親', '既有', '日常', '日益', '早餐', '昆仲', '明日', '明月', '是位', '是台', '是要', '時分', '時日', '時有', '時而', '晚輩', '晚餐', '普通', '景物', '景色', '智能', '更有', '更甚', '書包', '書店', '最美', '會與', '會面', '有之', '有其', '有效', '期望', '木質', '本來', '本島', '本質', '本體', '朱子', '松江', '果實', '柏煒', '某種', '柔腸', '查詢', '校歌', '校門', '格局', '格蘭', '桑園', '椒醬', '楊天', '楊筑', '極大', '榜題', '樓的', '標校', '標題', '樣貌', '樹下', '樹林', '樹梅', '橋內', '機的', '機車', '次年', '欣喜', '欣賞', '歡笑', '此事', '此刻', '死亡', '殘破', '段的', '每人', '每位', '毛毛', '氣的', '水馬', '江南', '江山', '決議', '沉重', '沒錯', '沙頭', '沛涵', '治國', '治學', '泉茂', '法律', '注視', '洗塵', '洗澡', '洪明', '流離', '海風', '消逝', '淋漓', '淡淡', '淪為', '深圳', '深耕', '深造', '清的', '測繪', '源於', '源自', '溫度', '滴滴', '滿地', '滿意', '演唱', '演練', '漳州', '潛能', '澎湖', '激起', '灰暗', '烽火', '無不', '無從', '無聊', '無邊', '照護', '熱心', '熱忱', '熱的', '營造', '營運', '爭取', '爾時', '牆壁', '牆面', '獻地', '王姓', '玩笑', '班級', '現存', '理性', '瓜雪', '甜甜', '生下', '產品', '用一', '由來', '男丁', '留傳', '留在', '番客', '異於', '當作', '疑問', '癸未', '發明', '的下', '的作', '的外', '的女', '的對', '的數', '的案', '的樂', '的歌', '的清', '的獅', '的行', '盡心', '監生', '直到', '直覺', '相伴', '相對', '盼望', '看書', '眼的', '知縣', '破壞', '破曉', '社福', '社群', '社論', '祖德', '禮拜', '秋賢', '種植', '稱讚', '穩定', '空氣', '空白', '突破', '窗外', '立了', '立刻', '立體', '笑容', '笑我', '笑聲', '第四', '筆下', '等身', '答辯', '管制', '管道', '篆刻', '簽名', '籌設', '精力', '精湛', '系上', '系所', '純樸', '紙上', '紳士', '終點', '結緣', '經商', '維持', '編寫', '縈繞', '縮影', '繁華', '繞樑', '繳交', '繽紛', '羅馬', '美好', '美學', '羽球', '翁維', '翻閱', '老夫', '老爸', '老闆', '考察', '而且', '而作', '而過', '聘請', '聚會', '聚集', '聯想', '聲有', '職業', '職的', '聽說', '肩上', '背井', '膽島', '自信', '自在', '至情', '至此', '至為', '臺閣', '舅舅', '與世', '舉人', '舒適', '航空', '船務', '船隻', '艦隊', '良好', '花生', '華語', '萬的', '萬難', '落後', '落的', '著那', '著頭', '蒼蒼', '蔣公', '藉口', '藉著', '藏著', '藏頭', '號碼', '融入', '血淚', '行走', '行銷', '街上', '衛生', '表揚', '衷心', '被人', '被我', '裔孫', '見識', '見過', '視為', '親友', '親近', '觀看', '解除', '言論', '記下', '許獬', '詩中', '話題', '詳細', '認知', '說我', '說法', '調整', '談天', '論壇', '諸生', '謀生', '證書', '譽之', '讀詩', '讓他', '讚嘆', '讚美', '貓奴', '財富', '販賣', '貴氣', '貿易', '資金', '賜評', '賞心', '賢慧', '賦予', '購買', '賽道', '贊助', '走去', '走的', '走著', '走進', '起床', '趁著', '足跡', '跑步', '跑者', '跑馬', '跟隨', '跨海', '跨越', '路口', '身影', '身後', '身旁', '身為', '軍人', '軍民', '軍隊', '輕易', '迎賓', '近了', '述說', '迷人', '迷霧', '追憶', '送給', '送行', '逐一', '連串', '連鎖', '週年', '進展', '進的', '進而', '過來', '道上', '道來', '遠去', '遠見', '遷台', '遷徙', '選舉', '遺產', '遼闊', '邁向', '還在', '邊陲', '那位', '那裡', '郵票', '鄒魯', '釀造', '里岸', '金廈', '金石', '金酒', '間小', '閩式', '關照', '關門', '阮的', '防衛', '限制', '院士', '陣地', '陳國', '陳思', '陳樂', '陳為', '際會', '隨之', '雅芬', '雙手', '雪芳', '雲臺', '靈感', '青睞', '面世', '面試', '鞭策', '項目', '頒發', '領取', '頻頻', '願以', '顧問', '風水', '風而', '風采', '風雲', '養分', '首先', '首是', '首獎', '首詩', '香的', '馬祖', '騰的', '驟然', '高手', '鮭魚', '鹽場', '黃玉', '黃的', '黑暗', '龐大', '(9', '3)', '36', '4)', '46', '51', '54', '58', '68', '77', '93', '94', '95', '▁', '的', '一', '是', '我', '金', '、', '門', '有', '在', '人', '不', '學', '0', '大', '了', '年', '「', '」', '文', '為', '生', '到', '來', '之', '這', '中', '時', '以', '會', '家', '長', '.', '_', '後', '們', '與', '他', '地', '也', '上', '個', '而', '國', '成', '於', '心', '著', '自', '出', '就', '事', '作', '1', '下', '說', '多', '十', '所', '小', '日', '能', '和', '書', '得', '要', '過', '鄉', '當', '發', '教', '校', '老', '前', '開', '其', '可', '子', '天', '台', '親', '然', '對', '都', 'D', 'x', '回', '因', '師', '此', '同', '陳', '民', '好', '如', '者', '情', '間', '感', '經', '三', '想', '現', '無', '行', '建', '及', '從', '月', '本', '還', '二', '《', '》', '2', '去', '但', '任', '方', '最', '沒', '分', '士', '看', '位', '道', '那', '楊', '力', '已', '新', '?', '起', '更', '高', '史', '名', '先', '動', '主', '等', '海', '重', '南', '風', '代', '理', '相', '讓', '兩', '寫', '再', ')', '(', '業', '面', '知', '外', '育', '記', '意', '身', '報', '只', '期', '用', '化', '第', '世', '或', '活', '山', '立', '次', '實', '頭', '清', '灣', '何', '四', '工', '麼', '傳', '很', '正', '己', '社', '見', '明', '關', '機', '美', '戰', '才', '歷', '又', '進', '水', '院', '些', '加', '故', '裡', '程', '軍', '每', '至', '你', '常', '點', '縣', '9', '公', '光', '定', '將', '全', '深', '真', '種', '路', '內', '馬', '展', '並', '部', '愛', '島', '許', '友', '女', '體', '思', '華', '今', '由', '論', '場', '走', '特', '手', '法', '表', '曾', '落', '觀', '卻', '博', '禮', '導', '李', '村', '黃', '受', '政', '五', '各', '樣', '給', '8', '讀', '越', '入', '酒', '識', '古', '務', '氣', '處', '祖', '性', '接', '參', '少', '王', '把', '父', '興', '帶', '百', '研', '命', '安', '幾', '總', '別', '樓', '即', '問', '空', '員', '認', '通', '原', '解', '館', '林', '物', '離', '應', '遠', '她', '向', '數', '往', '提', '助', '望', '母', '辦', '3', '張', '忠', '設', '做', '究', '被', '平', '話', '始', '未', '6', '兒', '北', '系', '言', '資', '城', '歲', '邊', '樹', '滿', '西', '八', '完', '度', '課', '車', '念', '創', '太', '聲', '合', '授', '東', '直', '萬', '題', '景', '福', '篇', '結', '詩', '4', '九', '熱', '目', '難', '交', '章', '語', '近', '使', '則', '口', '流', '集', '字', '影', '請', '筆', '精', '神', '義', '功', '區', '志', '族', '築', '覺', '5', '品', '住', '像', '放', '界', '留', '專', '待', '樂', '源', '舉', '續', '隨', '7', '便', '初', '打', '持', '計', '里', '除', '僑', '式', '早', '服', '步', '洋', '首', '元', '府', '聽', '色', '變', '七', '共', '喜', '終', '妳', '科', '雖', '非', '且', '什', '座', '必', '承', '習', '視', '達', '領', '六', '團', '德', '榮', '照', '講', '居', '紀', '際', '土', '憶', '果', '比', '片', '─', '造', '求', '白', '連', '園', '基', '獎', '統', '線', '錄', '僅', '它', '考', '亦', '花', '令', '信', '捐', '整', '聯', '臺', '談', '謝', '備', '境', '宗', '市', '氏', '湖', '足', '運', '仁', '跟', '夜', '客', '段', '職', '〈', '〉', '修', '找', '苦', '轉', '遊', '電', '飛', '媽', '懷', '隊', '吃', '堂', '夫', '協', '局', '甚', '選', '仍', '官', '擔', '春', '存', '容', '指', '晚', '版', '善', '慶', '益', '竟', '量', '久', '啊', '營', '刻', '收', '料', '旅', '格', '管', '述', '需', '候', '改', '取', '術', '調', '費', '件', '號', '利', '半', '失', '強', '快', '獨', '眼', '訪', '送', '環', '跑', '陸', '餘', '盡', '約', '返', '振', '藝', '印', '幸', '朋', '獲', '值', '單', '節', '編', '-', '依', '告', '夢', '店', '江', '食', '屬', '推', '繼', '致', '該', '賽', '具', '希', '稱', '蔡', '呂', '孫', '岸', '演', '聚', '議', '輕', '輩', '雲', '供', '浯', '緣', '諸', '鎮', '休', '切', '獻', '貴', '退', '保', '寧', '產', '畫', '規', '兄', '包', '千', '孩', '尋', '投', '排', '象', '願', '香', '似', '係', '剛', '吧', '廟', '技', '火', '若', '角', '質', '反', '尚', '歡', '歸', '永', '班', '英', '乎', '組', '青', '龍', '兵', '商', '奇', '室', '息', '根', '般', '邀', '份', '引', '弟', '稿', '賢', '遺', '例', '另', '房', '極', '站', '討', '較', '午', '呢', '嗎', '笑', '賓', '享', '幫', '復', '忘', '畢', '答', '蘭', '閩', '亞', '吳', '味', '富', '怎', '拿', '敬', '木', '模', '沙', '番', '養', '庭', '形', '熟', '爭', '短', '籍', '顧', '劃', '句', '坡', '恩', '拜', '散', '群', '聞', '音', '驚', '典', '坐', '守', '宜', '尤', '追', '雄', '靈', '司', '忙', '支', '斯', '條', '範', '緊', '胡', '良', '街', '錢', '陪', '乃', '列', '圖', '治', '準', '確', '護', '阿', '響', '須', '副', '慈', '拉', '斷', '爺', '田', '示', '維', '腳', '停', '姓', '案', '決', '辛', '鄭', '順', '充', '廈', '探', '異', '責', 'e', '伴', '傷', '優', '增', '婦', '星', '標', '溫', '漸', '登', '粱', '絕', '試', '啟', '塊', '易', '獅', '盛', '石', '籌', '置', '負', '遷', '陽', '叫', '周', '哥', '宿', '廣', '烈', '省', '突', '紅', '背', '芳', '董', '否', '席', '款', '武', '豐', '迎', '哪', '屆', '微', '洲', '算', '藏', '透', '隆', '顯', '企', '價', '孟', '廠', '延', '換', '況', '眾', '祭', '積', '舊', '舍', '蔣', '訓', '偉', '困', '均', '夏', '奉', '怕', '智', '朝', '松', '漢', '潮', '燕', '砲', '級', '細', '蓉', '裝', '誰', '贈', '載', '雜', '予', '凡', '型', '娘', '嶼', '悉', '據', '構', '濟', '牌', '秀', '蘇', '訊', '詞', '謂', '證', '貓', '賣', '輔', '遇', '銀', '閱', '靠', '麗', '鼓', '互', '制', '擇', '旁', '某', '歌', '移', '船', '防', '雙', '項', '餐', '驗', '介', '仔', '假', '努', '埔', '奎', '廳', '慢', '榜', '死', '泉', '浦', '牆', '翻', '莊', '貢', '兼', '厝', '吉', '執', '堅', '奮', '宮', '屋', '序', '折', '略', '病', '簡', '腦', '評', '趕', '踏', '野', '顏', '/', '侯', '倒', '嚴', '查', '燈', '玉', '秋', '誠', '蹟', '逐', 'i', 'n', '勵', '君', '唯', '州', '律', '敢', '既', '盼', '睿', '限', '類', '駐', '勞', '婚', '巧', '悲', '搭', '注', '球', '秘', '穿', '臨', '訴', '輯', '辭', '迷', '靜', '付', '克', '冷', '刊', '勢', '圍', '夠', '委', '差', '權', '爸', '綠', '莫', '衣', '赴', '農', '厚', '域', '嬰', '寺', '材', '浪', '珍', '祝', '練', '葉', '譽', '霧', '俗', '升', '宇', '寄', '底', '彩', '役', '態', '戶', '抱', '招', '揮', '港', '男', '索', '補', '醫', '錯', '附', '頂', '勇', '勝', '封', '愈', '拍', '橋', '激', '濃', '痛', '碧', '缺', '羽', '聘', '肯', '舞', '遍', '適', 'a', '妹', '寒', '敘', '止', '消', '灘', '爾', '玩', '藉', '冊', '呼', '培', '害', '布', '徵', '慧', '戲', '拙', '揚', '施', '棟', '涵', '猶', '破', '策', '羅', '采', '隔', '鼎', 'o', '『', '』', '乘', '井', '佩', '叔', '呈', '堡', '寶', '層', '彼', '欣', '狀', '私', '端', '純', '聊', '航', '超', '釀', '陣', '○', '傑', '免', '奔', '婆', '密', '尊', '恐', '惜', '愁', '板', '溝', '珠', '皆', '窗', '素', '薛', '賜', '途', '配', '醒', '閒', '階', '露', '鮮', '丹', '伯', '佳', '右', '括', '擊', '暖', '束', '毫', '沉', '溪', '璉', '碩', '碼', '績', '臉', '蒙', '蓋', '譯', '趣', '釋', '闆', '阮', '隻', '額', '鬥', '魂', '麻', '健', '儒', '喝', '器', '壯', '姐', '懂', '抵', '暫', '桂', '概', '波', '泰', '淚', '漣', '童', '紙', '累', '網', '草', '誼', '財', '跡', '飲', '亂', '匾', '左', '慰', '殊', '洗', '派', '瑞', '瓜', '紛', '耳', '股', '製', '買', '跨', '逝', '陵', '雨', '仰', '唐', '圓', '壽', '奈', '孔', '孤', '宣', '寂', '察', '審', '崇', '忍', '掛', '梓', '棄', '油', '監', '祠', '禁', '紹', '繞', '蒼', '觸', '譜', '輪', '隱', '低', '偏', '允', '姊', '威', '幕', '庫', '恭', '採', '撰', '昌', '曉', '桑', '森', '楚', '測', '瓊', '碑', '脫', '週', '鐘', '雅', '預', '頗', '飯', '默', 'l', '借', '唱', '嘗', '壇', '孝', '急', '惠', '掌', '映', '枝', '率', '疑', '瞭', '票', '米', '繁', '艱', '莒', '衷', '誕', '謹', '讚', '遭', '饋', '騰', '齡', 'r', '乏', '伉', '儀', '儷', '勉', '壓', '央', '宴', '忽', '恆', '悟', '慨', '捷', '擁', '效', '斌', '榛', '檔', '欲', '淡', '牠', '脈', '血', '速', '陌', '險', '亮', '伍', '偶', '傲', '劇', '哭', '坑', '塔', '夥', '套', '宅', '尼', '巴', '捨', '掉', '撥', '普', '曆', '替', '植', '沿', '渡', '漂', '漫', '絡', '聖', '茶', '衝', '賞', '賴', '跳', '輸', '頒', '麵', '黑', '齋', 't', '乾', '勤', '吾', '嚇', '固', '堪', '塵', '扶', '挫', '握', '斑', '朗', '末', '河', '甜', '甲', '盤', '督', '祀', '箱', '翁', '耀', '耐', '肅', '膽', '蘊', '襪', '覽', '豪', '躍', '逛', '齊', 'u', '乙', '側', '剩', '含', '墓', '媒', '寬', '床', '康', '您', '慣', '挑', '播', '攻', '敏', '救', '暗', '曲', '氛', '沛', '涯', '牽', '礎', '窮', '納', '紫', '緒', '菲', '薄', '衛', '賀', '購', '逢', '遲', '郵', '頻', '鳴', '鴻', '余', '佛', '嘆', '塑', '壁', '尾', '怪', '抒', '拒', '拚', '捲', '攝', '敗', '昔', '毛', '浮', '減', '滄', '澳', '牛', '申', '繫', '署', '肉', '艦', '蓮', '藍', '融', '詢', '詳', '謀', '豈', '貌', '貧', '趟', '輝', '避', '鄰', '闊', '雪', '零', '鬧', 's', '倡', '吹', '坊', '壞', '峽', '廉', '愚', '按', '摯', '操', '旗', '昇', '晉', '暑', '朱', '朽', '榕', '樑', '潔', '睡', '耕', '荒', '蒞', '虎', '警', '貫', '迄', '餅', '餵', '黎', 'm', '儘', '冬', '危', '叢', '召', '后', '吸', '喬', '喻', '嘉', '夕', '妻', '季', '幹', '彈', '惟', '慮', '晨', '柏', '核', '桌', '欄', '汶', '洪', '瀾', '疏', '穩', '綜', '肩', '芬', '菜', '裔', '複', '註', '誌', '貼', '迫', '逃', '遞', '酸', '針', '革', '頁', '骨', '魯', '偷', '傾', '劉', '卒', '哲', '垂', '墨', '循', '怨', '悠', '憑', '拓', '撫', '擾', '斜', '旋', '晃', '樸', '毅', '沈', '涼', '淵', '焉', '甫', '疲', '竹', '絲', '胸', '蚵', '貨', '逸', '～', '丫', '佈', '促', '冒', '冠', '卓', '堤', '嫁', '嶝', '巨', '巷', '幣', '幼', '徐', '悅', '惡', '戀', '挺', '損', '擠', '擴', '擺', '昭', '架', '梯', '檢', '歐', '殘', '津', '滴', '澤', '瀚', '灰', '燮', '瓶', '畏', '睛', '磨', '稀', '簽', '紳', '緩', '縱', '罷', '蕭', '詮', '距', '銘', '鎖', '鐵', '閃', '閣', '雕', '顆', '馨', '驕', '鬆', 'C', 'y', '—', '丟', '串', '亡', '佑', '冰', '卡', '厲', '哈', '啦', '堆', '奏', '婿', '宏', '履', '庵', '弄', '弱', '悔', '憂', '憨', '批', '援', '撐', '撤', '攜', '斥', '暢', '曬', '棉', '欽', '汗', '混', '游', '燒', '皮', '瞬', '競', '艘', '茂', '茫', '薦', '衍', '覆', '訂', '訝', '賺', '趁', '邦', '郭', '錫', '鍵', '鍾', '陶', '陷', '飄', '魅', '魚', '鳳', 'g', '么', '仙', '估', '伸', '偕', '准', '厭', '吏', '喊', '姿', '娟', '婉', '宋', '川', '廢', '彰', '彷', '彿', '怡', '悄', '愉', '愧', '慾', '憾', '抽', '搶', '柔', '淺', '湘', '炎', '烽', '煙', '煩', '熹', '爬', '牙', '狂', '狗', '璃', '畔', '眷', '碌', '磚', '祂', '祈', '糖', '綿', '縮', '舅', '萊', '託', '諭', '迴', '鈞', '鍊', '閉', '頓', '龐', 'P', '‧', '丁', '云', '併', '俱', '倆', '倘', '億', '募', '卷', '圈', '址', '坤', '埋', '姑', '射', '屏', '幽', '徹', '恬', '慌', '慎', '慘', '抗', '抬', '描', '揭', '昏', '暨', '暴', '曰', '杜', '殺', '泛', '浩', '添', '潘', '猛', '玻', '秉', '稍', '粹', '織', '聆', '腸', '荔', '荷', '蓬', '蕩', '謙', '譬', '躲', '酬', '銷', '鑑', '闢', '韓', '頌', '飽', '驅', '鬱', '鳥', '鹽', '麥', '龜', 'Q', 'h', '丞', '佔', '倍', '倦', '刀', '勁', '占', '吐', '唸', '坦', '塗', '塞', '夾', '契', '妙', '宛', '崗', '巡', '幻', '廩', '廷', '怒', '憤', '戴', '扇', '插', '搖', '搜', '搬', '撞', '旦', '桐', '桶', '梅', '槍', '毋', '泥', '泳', '淪', '湧', '滋', '滾', '漏', '燦', '瓦', '疊', '矣', '穫', '籠', '胞', '舒', '薪', '虛', '蟲', '衰', '袋', '誤', '誦', '豆', '貞', '辯', '邁', '鋒', '鏡', '降', '鞭', '韻', 'B', 'c', '京', '仲', '仿', '佰', '侍', '倫', '儉', '凌', '凝', '勃', '勳', '卑', '吞', '咬', '咱', '喚', '喪', '奪', '娓', '娶', '宙', '寓', '帝', '幅', '廁', '徒', '恰', '惱', '戒', '扮', '披', '拖', '拼', '控', '摸', '敲', '敵', '昂', '杏', '析', '染', '桃', '楷', '橘', '櫃', '沾', '洞', '涉', '淨', '溺', '漳', '潛', '澎', '炮', '煌', '熬', '燃', '爆', '牲', '犧', '疾', '瘋', '睹', '瞻', '硬', '粗', '糊', '繪', '翔', '翠', '薰', '誇', '販', '賦', '趙', '趨', '辣', '辨', '逼', '錦', '隅', '震', '駕', '騎', '驟', 'A', 'M', '于', '亭', '伊', '俊', '催', '僕', '兮', '凋', '判', '刺', '劍', '哀', '喔', '嘴', '圳', '墳', '墾', '奢', '奶', '寞', '尺', '屈', '屢', '巍', '帥', '干', '廿', '徑', '徙', '忌', '患', '惑', '憊', '憐', '懸', '扭', '拋', '拾', '掙', '摩', '棒', '椅', '歉', '殿', '渠', '渴', '湯', '溯', '滅', '濤', '炷', '爛', '盪', '禪', '篤', '簾', '糧', '翰', '肆', '肚', '臣', '茲', '褲', '襲', '諾', '譚', '豫', '貝', '贏', '踐', '蹤', '軸', '辰', '逆', '遂', '遙', '遮', '郁', '鍋', '雀', '雞', '顛', '魔', '鶴', '*', '乖', '仟', '伏', '侃', '侵', '傍', '兢', '冀', '勸', '匯', '卸', '吵', '啪', '嘯', '囊', '坎', '坷', '填', '壘', '奧', '妓', '媳', '孜', '寡', '寢', '寥', '尖', '庸', '彌', '忱', '恢', '悵', '悶', '慕', '戎', '托', '抓', '拔', '拳', '挖', '挨', '措', '斗', '旨', '旬', '昆', '曠', '枯', '柱', '梨', '梭', '棲', '棵', '楓', '歇', '殷', '泣', '淑', '湊', '澡', '濱', '災', '炳', '烏', '焜', '焦', '煎', '熿', '爐', '爽', '狠', '琪', '璀', '璨', '瓷', '甘', '疫', '瘠', '皇', '盈', '盾', '眶', '矛', '碰', '祥', '禍', '租', '穎', '窖', '篆', '綱', '綽', '繩', '繳', '罰', '羨', '聰', '脆', '脾', '腹', '艇', '艷', '茁', '莘', '莽', '葬', '蒸', '薯', '藩', '蛻', '蝶', '衡', '袍', '裏', '裹', '襟', '覓', '諱', '贊', '跌', '軀', '迢', '遑', '郎', '銅', '銳', '鋪', '鑽', '闖', '障', '霞', '鞋', '馳', '鬼', '鶯', '鹹', '黛', '鼻', 'I', 'K', 'N', 'S', 'd', '乳', '仕', '仗', '俟', '償', '儲', '兆', '冗', '冤', '凸', '刷', '劣', '勒', '勿', '匪', '呀', '咐', '咸', '哇', '哉', '喘', '喧', '嘲', '囂', '坪', '堯', '奠', '妨', '姨', '姻', '娃', '嬌', '嬤', '嬸', '尬', '尷', '峰', '帆', '廊', '廚', '弦', '御', '忝', '恕', '悼', '慚', '慷', '懈', '扣', '扯', '抑', '拘', '掃', '掘', '掩', '揉', '搞', '摘', '撒', '擎', '擬', '敷', '昧', '杆', '株', '械', '棋', '洽', '淋', '湛', '溢', '滬', '漪', '澀', '濯', '灑', '炙', '烤', '煥', '牧', '犯', '獸', '琳', '痕', '癸', '盒', '盧', '眠', '瞧', '碉', '碎', '碗', '秒', '窺', '符', '簫', '糕', '糾', '綻', '縈', '縷', '繹', '繽', '耆', '胃', '腔', '芽', '菌', '虔', '螢', '衫', '襄', '諒', '貿', '赤', '赫', '踢', '軌', '輾', '轟', '迅', '遐', '違', '遜', '酷', '醉', '醬', '銜', '陋', '陰', '雷', '餞', '騷', '魄', '黴', '$', ',', 'E', 'R', 'T', 'U', 'b', 'k', 'v', '丈', '伐', '佚', '佼', '俠', '俸', '倚', '僻', '儼', '凱', '刮', '勾', '匠', '匱', '卯', '吟', '吩', '吻', '咖', '哦', '售', '嗲', '嘛', '噓', '噬', '嚐', '嚼', '囑', '圾', '垃', '垵', '塘', '墟', '墩', '奴', '妝', '姚', '娛', '宦', '寐', '寸', '尉', '尿', '屁', '峨', '巢', '巾', '帳', '帽', '幢', '庠', '弼', '征', '怯', '惘', '憩', '憫', '懋', '懼', '懿', '截', '扎', '扛', '抉', '押', '拐', '挹', '揣', '搏', '擅', '擋', '擦', '攪', '攬', '敞', '晶', '暄', '暇', '杖', '杭', '杯', '柳', '梁', '椒', '樁', '橫', '檀', '欠', '歪', '殯', '殼', '毀', '汀', '汁', '汝', '池', '沐', '泊', '泡', '浸', '淘', '漁', '漓', '漿', '潑', '澄', '煒', '煞', '熙', '熾', '爍', '牢', '狼', '獬', '玄', '玲', '琅', '琉', '瑣', '睜', '睞', '礙', '祇', '稚', '竄', '竭', '筋', '筑', '筒', '粉', '粥', '粵', '紮', '締', '緻', '繕', '羞', '翼', '耶', '肺', '腐', '腰', '膀', '膚', '膜', '膩', '膺', '臂', '臘', '舖', '芋', '芝', '苗', '蒜', '蔥', '藥', '虞', '蜻', '裕', '裙', '裸', '襯', '誨', '谷', '豔', '賤', '躬', '躺', '輛', '輿', '轎', '迪', '迭', '逾', '遼', '邱', '郡', '鄒', '釬', '鉅', '鍥', '鑫', '閨', '闡', '阜', '阻', '陲', '隙', '霜', '靖', '靡', '頹', '飾', '餃', '餓', '髮', '鮭', '鯉', '鴨', '鵬', '黨', 'J', 'W', 'f', 'w', '~', '■', '丰', '乍', '倖', '傅', '傘', '傻', '僱', '冥', '冶', '函', '刪', '剎', '剝', '剪', '割', '劑', '勖', '匆', '匡', '匹', '叭', '叮', '啜', '啡', '啼', '喇', '嗚', '嗯', '嘟', '噴', '囉', '囝', '塾', '壢', '壤', '壬', '夷', '奕', '妥', '姆', '娥', '婷', '嫂', '孕', '寵', '尢', '屎', '岩', '崔', '嶄', '帷', '幄', '庇', '彎', '彙', '徊', '徘', '徽', '忐', '忑', '忖', '恨', '恪', '惆', '惕', '惦', '惶', '憲', '懵', '戚', '扔', '拆', '拈', '拌', '拯', '挽', '捉', '捏', '捕', '掀', '掠', '搓', '摧', '撇', '撿', '攏', '攤', '攸', '晟', '晰', '晴', '暮', '曹', '枕', '栽', '梳', '椰', '櫥', '汙', '沃', '沖', '沫', '洛', '洩', '洵', '洶', '浴', '湃', '滯', '澈', '濕', '灌', '炯', '炸', '烊', '焚', '煮', '牘', '猜', '珊', '琢', '琿', '瑛', '瑜', '甥', '疆', '痠', '瘦', '癱', '皎', '盟', '盲', '矗', '矚', '砂', '砍', '祿', '禎', '秦', '穗', '穹', '窒', '窘', '窩', '竿', '篳', '簿', '籬', '糞', '紋', '紐', '綴', '緬', '纂', '纏', '罔', '罕', '罪', '羈', '翅', '翌', '翟', '耗', '耘', '肖', '肥', '胎', '膛', '臻', '舟', '芒', '苟', '范', '莞', '菁', '萌', '葛', '蔽', '薈', '蜓', '蟬', '蟻', '蠟', '裁', '裂', '裳', '褪', '詹', '誘', '諺', '謬', '谿', '賠', '踩', '踴', '踵', '蹂', '蹋', '躪', '軟', '輟', '轄', '逗', '遵', '邇', '邏', '邑', '邪', '酥', '醞', '醮', '釘', '鈴', '鋁', '鋸', '錶', '鍛', '鎬', '鏟', '鑄', '鑿', '隧', '隸', '雛', '駛', '駱', '騙', '驥', '髒', 'F', 'H', 'L', 'O', 'Y', '●', '丑', '丘', '亟', '亨', '仇', '佐', '侈', '侷', '俚', '俯', '倉', '偵', '兇', '兌', '兜', '凍', '凳', '凶', '刃', '削', '劈', '劫', '勘', '勰', '匿', '叛', '叟', '吁', '吊', '吶', '吼', '呆', '呵', '咀', '咦', '咫', '哩', '唉', '唏', '唳', '啕', '啖', '啻', '喁', '喉', '喲', '嗆', '嗣', '嗷', '嘎', '噹', '嚀', '嚙', '囈', '囪', '囿', '垣', '埕', '墅', '壕', '夙', '妣', '婁', '嫋', '嫌', '嫗', '嫩', '嫻', '嬉', '孚', '屐', '屑', '屜', '屹', '岐', '岔', '岡', '崛', '嵩', '嶺', '巫', '幟', '庚', '庶', '廂', '弊', '弓', '弔', '弘', '彤', '徨', '徬', '忿', '怖', '怙', '恃', '恤', '恥', '悴', '悻', '惰', '惴', '惻', '愜', '慍', '憔', '憧', '憬', '懇', '懊', '懍', '懶', '戊', '戮', '扞', '扼', '抄', '抖', '拂', '拮', '拱', '捩', '据', '掏', '掖', '揪', '撩', '撼', '擄', '擘', '擷', '攘', '敝', '敦', '斐', '斤', '斬', '旭', '旺', '昨', '晏', '晤', '晦', '暈', '曙', '曳', '枉', '枚', '柴', '栖', '框', '桿', '梧', '棘', '樊', '樾', '橄', '檯', '櫸', '櫺', '櫻', '歎', '殖', '毓', '氓', '汪', '汰', '汲', '汽', '沸', '沽', '洳', '浙', '浹', '涓', '涔', '液', '淆', '淒', '淫', '淹', '渺', '渾', '溉', '漆', '漠', '潤', '潭', '潸', '澆', '澹', '濁', '瀉', '灶', '灼', '炬', '烘', '烙', '焰', '煦', '熄', '熠', '燙', '牟', '犬', '狹', '狽', '猙', '獄', '獰', '玫', '珞', '琴', '瑄', '璽', '甄', '甌', '疇', '疚', '疼', '痰', '瘁', '療', '癡', '盎', '盜', '盞', '眈', '眨', '眸', '眺', '瞞', '矢', '矻', '碣', '磅', '磋', '礡', '礦', '祉', '禽', '穀', '穴', '窄', '窣', '窸', '竊', '竣', '筏', '箇', '箏', '箴', '籟', '籲', '粒', '粿', '糟', '糰', '紓', '紗', '絃', '絆', '綢', '綵', '緜', '縛', '縫', '纍', '缽', '罈', '罐', '罩', '羊', '羹', '翹', '耿', '聳', '肇', '肌', '肝', '肢', '脛', '脹', '腿', '膏', '膨', '臥', '舛', '舜', '舢', '舨', '艙', '芭', '芻', '苓', '茹', '荊', '莎', '莪', '菊', '葵', '蓄', '蔚', '蔭', '蕆', '蕉', '蕙', '蕞', '蕾', '薑', '藻', '蘄', '蘆', '蘋', '虐', '虹', '蚊', '蛋', '蛙', '蛛', '蜜', '蝦', '蝴', '螺', '蠕', '蠶', '衿', '褰', '覷', '觴', '訟', '訣', '詭', '詰', '誓', '諦', '諮', '諷', '謁', '譎', '豬', '貪', '貲', '貶', '貸', '貽', '賁', '跋', '踽', '蹄', '蹭', '蹲', '躁', '躡', '軒', '輒', '轍', '迨', '迺', '遣', '遶', '郊', '酣', '醇', '醺', '釐', '鈍', '鉛', '鋼', '鑼', '鑾', '閑', '閥', '閭', '雇', '霄', '霍', '霏', '霖', '靶', '鞏', '鞠', '韋', '韌', '韶', '頃', '頑', '頰', '頷', '頸', '飢', '饒', '饗', '馭', '駁', '鬚', '魁', '魏', '鯨', '鱗', '鷹', '麓', '黏', '龔', '龕', '!', '%', \"'\", ':', '<', '>', 'G', 'V', 'p', 'z', '·', 'ˋ', 'ㄒ', 'ㄙ', 'ㄚ', 'ㄨ', '丕', '丙', '丸', '仆', '伎', '伕', '伙', '佇', '侄', '侑', '侮', '侶', '俐', '俞', '倏', '倭', '偈', '偌', '偽', '傀', '傢', '僚', '僥', '僧', '僵', '儕', '儡', '兀', '凕', '凜', '刑', '划', '刱', '券', '剋', '剔', '匍', '匣', '卌', '卜', '卦', '卿', '叄', '叉', '叼', '吆', '吝', '咎', '咕', '咧', '咻', '咽', '哨', '哺', '哼', '唁', '唇', '唷', '唾', '啃', '啄', '啞', '啷', '喂', '喵', '嗅', '嗓', '嗜', '嗟', '嘈', '嘮', '噙', '噢', '嚎', '嚕', '嚮', '囍', '囚', '囡', '囥', '圃', '圜', '圭', '垮', '埂', '埃', '埸', '堵', '塚', '塽', '墜', '墬', '墮', '壅', '壑', '壟', '壺', '壼', '夤', '夭', '妃', '妄', '妖', '妗', '姃', '姪', '姵', '娑', '婪', '媚', '媛', '媲', '嬋', '嬿', '孰', '孱', '孺', '宕', '宵', '寅', '寇', '寮', '寰', '岑', '岳', '峇', '峙', '峻', '崧', '嶽', '巳', '帖', '帙', '幀', '庄', '庖', '廓', '廖', '弁', '弗', '彥', '彬', '彭', '徉', '徜', '怍', '怠', '怹', '恍', '恒', '恣', '恧', '恿', '悌', '悖', '悱', '悸', '惺', '愍', '愫', '慫', '懦', '懾', '戇', '戈', '戌', '扈', '扉', '扳', '抨', '抹', '拭', '挂', '挪', '挾', '捆', '捧', '捫', '捻', '掣', '掬', '揄', '揶', '揹', '摭', '摳', '摹', '撲', '擲', '攀', '攔', '攢', '斂', '斃', '旌', '旱', '昱', '晒', '晝', '晷', '晹', '暉', '曜', '曼', '朔', '札', '朵', '杉', '杰', '枋', '柄', '柑', '柢', '柩', '栓', '桉', '桎', '桓', '梏', '梗', '梵', '棠', '椽', '楂', '楝', '楞', '楠', '楣', '楨', '楹', '榆', '榷', '樟', '樽', '檄', '檠', '檬', '檸', '櫓', '欖', '欸', '欺', '歆', '歧', '歹', '殆', '殞', '殫', '殲', '毒', '毯', '氤', '氧', '氳', '氾', '汴', '沂', '沼', '泅', '泯', '洌', '浚', '涎', '涕', '淌', '淍', '淳', '渣', '渤', '渥', '渲', '湄', '湮', '溘', '溼', '溽', '滑', '滔', '滲', '漬', '漱', '漾', '潦', '澂', '澱', '濛', '濡', '濫', '瀆', '瀕', '瀛', '炊', '炫', '烜', '煇', '煉', '煤', '煽', '熊', '燉', '燭', '燼', '爨', '爪', '爰', '爵', '牒', '犀', '犢', '狄', '猖', '猴', '玨', '琍', '琦', '琵', '琶', '瑩', '瑰', '瑱', '瑾', '璐', '璞', '璣', '璧', '璩', '甕', '甦', '甩', '甯', '町', '症', '痲', '痴', '癒', '癢', '癮', '皺', '皿', '盃', '盆', '盯', '眩', '睦', '瞎', '瞥', '瞪', '矩', '砥', '碘', '碟', '碳', '碾', '磁', '磕', '磻', '礁', '礐', '礪', '祐', '祺', '禱', '禹', '禿', '秩', '稅', '稔', '稟', '稭', '稻', '稽', '窪', '窳', '竅', '笈', '笛', '笳', '筧', '筱', '筷', '箝', '篷', '簇', '籃', '籽', '粟', '粽', '糜', '糯', '紉', '紊', '絀', '絢', '絮', '綺', '緝', '緞', '緯', '緲', '縝', '繐', '繡', '繭', '纓', '纘', '纛', '罡', '罵', '罹', '羔', '羡', '羸', '翡', '耍', '耙', '耽', '聱', '聵', '聾', '肘', '肱', '肴', '胖', '胝', '胼', '脅', '脊', '脖', '脯', '腆', '腑', '腕', '腮', '腴', '腼', '膝', '膠', '膾', '膿', '臆', '臊', '臍', '臚', '臬', '臭', '舌', '舔', '舷', '艫', '艾', '芙', '芛', '芥', '芸', '芹', '苑', '苒', '苡', '苹', '茅', '荏', '莆', '莉', '菡', '菱', '菸', '菽', '萃', '萄', '萍', '萎', '葆', '葚', '葡', '葦', '葺', '蓊', '蔓', '蔔', '蔗', '蕃', '蕊', '蕪', '蕹', '薏', '薾', '藤', '藹', '蘅', '蘖', '蘿', '虧', '蛀', '蛆', '蛇', '蛉', '蛤', '蜀', '蜆', '蜘', '螞', '蠻', '衙', '袁', '袂', '袓', '袖', '裴', '褒', '褓', '褥', '褻', '襁', '訥', '診', '証', '詁', '詔', '詠', '詣', '誅', '誣', '誥', '誹', '諍', '諡', '諫', '諳', '謅', '謎', '謗', '譾', '讖', '豁', '豎', '豹', '貯', '貳', '賂', '賃', '賄', '賑', '賬', '賭', '贄', '贅', '贖', '跪', '踝', '踞', '踮', '踱']\n"
          ]
        }
      ],
      "source": [
        "vocabs = [sp_bpe.id_to_piece(id) for id in range(sp_bpe.get_piece_size())]\n",
        "bpe_list = sorted(vocabs, key=lambda x: len(x), reverse=True)\n",
        "print(bpe_list)"
      ]
    },
    {
      "cell_type": "markdown",
      "source": [
        "### ✍ 練習時間"
      ],
      "metadata": {
        "id": "fn3PBKtN2Yxi"
      }
    },
    {
      "cell_type": "markdown",
      "source": [
        "- 仿照上述步驟，使用`./data/sentences_bpe.txt`語料訓練BPE模型\n",
        "- 載入新訓練的模型\n",
        "- 使用新訓練的模型分詞，並且比較上述模型的分詞結果\n",
        "- 比較兩個模型的詞彙"
      ],
      "metadata": {
        "id": "wOE1PNLJ7EFc"
      }
    },
    {
      "cell_type": "markdown",
      "source": [
        "## 結語"
      ],
      "metadata": {
        "id": "9Wn0XqROQ6eI"
      }
    },
    {
      "cell_type": "markdown",
      "source": [
        "![](https://www.azquotes.com/picture-quotes/quote-if-you-re-overwhelmed-by-the-size-of-a-problem-break-it-down-into-smaller-pieces-chuck-close-85-90-60.jpg)"
      ],
      "metadata": {
        "id": "DQ_9EmJiQ8Bs"
      }
    }
  ],
  "metadata": {
    "kernelspec": {
      "display_name": "Python 3",
      "language": "python",
      "name": "python3"
    },
    "language_info": {
      "codemirror_mode": {
        "name": "ipython",
        "version": 3
      },
      "file_extension": ".py",
      "mimetype": "text/x-python",
      "name": "python",
      "nbconvert_exporter": "python",
      "pygments_lexer": "ipython3",
      "version": "3.7.5"
    },
    "colab": {
      "provenance": [],
      "collapsed_sections": [],
      "toc_visible": true,
      "include_colab_link": true
    }
  },
  "nbformat": 4,
  "nbformat_minor": 0
}