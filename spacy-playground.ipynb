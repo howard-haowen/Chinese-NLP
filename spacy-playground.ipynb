{
  "cells": [
    {
      "cell_type": "markdown",
      "metadata": {
        "id": "view-in-github",
        "colab_type": "text"
      },
      "source": [
        "<a href=\"https://colab.research.google.com/github/howard-haowen/NLP-demos/blob/main/spacy-playground.ipynb\" target=\"_parent\"><img src=\"https://colab.research.google.com/assets/colab-badge.svg\" alt=\"Open In Colab\"/></a>"
      ]
    },
    {
      "cell_type": "code",
      "source": [
        "from traitlets.config.manager import BaseJSONConfigManager\n",
        "from pathlib import Path"
      ],
      "metadata": {
        "id": "khjAr7jUheat"
      },
      "execution_count": 1,
      "outputs": []
    },
    {
      "cell_type": "code",
      "source": [
        "path = Path.home() / \".jupyter\" / \"nbconfig\"\n",
        "cm = BaseJSONConfigManager(config_dir=str(path))\n",
        "cm.update(\n",
        "    \"rise\",\n",
        "    {\n",
        "        \"autolaunch\": False,\n",
        "        \"enable_chalkboard\": True,\n",
        "        \"scroll\": True,\n",
        "        \"slideNumber\": True,\n",
        "        \"controls\": True,\n",
        "        \"progress\": True,\n",
        "        \"history\": True,\n",
        "        \"center\": True,\n",
        "        \"width\": \"100%\",\n",
        "        \"height\": \"100%\",\n",
        "        \"theme\": \"beige\",\n",
        "        \"transition\": \"concave\",\n",
        "        \"start_slideshow_at\": \"selected\"\n",
        "     }\n",
        ")"
      ],
      "metadata": {
        "id": "BtC-1ouFhojP"
      },
      "execution_count": null,
      "outputs": []
    },
    {
      "cell_type": "markdown",
      "source": [
        "# Download a model"
      ],
      "metadata": {
        "id": "Hpg_AqsVh-uW"
      }
    },
    {
      "cell_type": "code",
      "source": [
        "!pip install -U pip setuptools wheel\n",
        "!pip install -U spacy\n",
        "!python -m spacy download zh_core_web_md"
      ],
      "metadata": {
        "id": "AHUDYoJMhsoY"
      },
      "execution_count": null,
      "outputs": []
    },
    {
      "cell_type": "code",
      "source": [
        "!pip show spacy"
      ],
      "metadata": {
        "colab": {
          "base_uri": "https://localhost:8080/"
        },
        "id": "RNNbvxygh3Wz",
        "outputId": "bf9508bb-e9c7-4860-a079-1f004028e91f"
      },
      "execution_count": 4,
      "outputs": [
        {
          "output_type": "stream",
          "name": "stdout",
          "text": [
            "Name: spacy\n",
            "Version: 3.2.4\n",
            "Summary: Industrial-strength Natural Language Processing (NLP) in Python\n",
            "Home-page: https://spacy.io\n",
            "Author: Explosion\n",
            "Author-email: contact@explosion.ai\n",
            "License: MIT\n",
            "Location: /usr/local/lib/python3.7/dist-packages\n",
            "Requires: blis, catalogue, click, cymem, jinja2, langcodes, murmurhash, numpy, packaging, pathy, preshed, pydantic, requests, setuptools, spacy-legacy, spacy-loggers, srsly, thinc, tqdm, typer, typing-extensions, wasabi\n",
            "Required-by: en-core-web-sm, fastai, zh-core-web-md\n"
          ]
        }
      ]
    },
    {
      "cell_type": "markdown",
      "source": [
        "# Import a model"
      ],
      "metadata": {
        "id": "tDlT4UHyiDZL"
      }
    },
    {
      "cell_type": "code",
      "source": [
        "import spacy"
      ],
      "metadata": {
        "id": "gI7nLclph7t0"
      },
      "execution_count": 6,
      "outputs": []
    },
    {
      "cell_type": "markdown",
      "source": [
        "# Load a model"
      ],
      "metadata": {
        "id": "0ybi2PIPiFFv"
      }
    },
    {
      "cell_type": "code",
      "source": [
        "nlp = spacy.load(\"zh_core_web_md\")\n",
        "nlp.pipe_names"
      ],
      "metadata": {
        "colab": {
          "base_uri": "https://localhost:8080/"
        },
        "id": "SwroFOI-iC77",
        "outputId": "89d4fdf6-60a9-4850-c793-5f46701f39e6"
      },
      "execution_count": 7,
      "outputs": [
        {
          "output_type": "execute_result",
          "data": {
            "text/plain": [
              "['tok2vec', 'tagger', 'parser', 'attribute_ruler', 'ner']"
            ]
          },
          "metadata": {},
          "execution_count": 7
        }
      ]
    },
    {
      "cell_type": "markdown",
      "source": [
        "# Convert a raw text to a Doc object"
      ],
      "metadata": {
        "id": "bJBJmGQXiMKV"
      }
    },
    {
      "cell_type": "code",
      "source": [
        "text = \"\"\"隨著金融科技發展與數位化浪潮，許多金融機構積極推動數位轉型，發展數位支付、網路銀行和智能客服等服務。新光產物保險(新光產險)以智能客服、核保與理賠三大系統導入保險客戶服務，榮獲第九屆臺灣保險卓越獎「保戶服務」金質獎。其中，智能客服採用由經濟部技術處科技專案支持、財團法人資訊工業策進會數位轉型研究所(資策會數位所)所開發的「文字對話虛擬助理」技術，成功將AI人工智慧技術應用於產險業，提昇客戶服務品質與效率。\"\"\"\n",
        "doc = nlp(text)"
      ],
      "metadata": {
        "id": "MhsWZ_cmiWi1"
      },
      "execution_count": 27,
      "outputs": []
    },
    {
      "cell_type": "markdown",
      "source": [
        "# Sentences"
      ],
      "metadata": {
        "id": "MIo663BMkfVX"
      }
    },
    {
      "cell_type": "code",
      "source": [
        "for sentence in doc.sents:\n",
        "    print(sentence.text)"
      ],
      "metadata": {
        "colab": {
          "base_uri": "https://localhost:8080/"
        },
        "id": "y4E0Z1C8khXq",
        "outputId": "bc9ca40e-eaaf-4115-cedf-d0f63d957872"
      },
      "execution_count": 28,
      "outputs": [
        {
          "output_type": "stream",
          "name": "stdout",
          "text": [
            "隨著金融科技發展與數位化浪潮，許多金融機構積極推動數位轉型，發展數位支付、網路銀行和智能客服等服務。\n",
            "新光產物保險(新光產險)以智能客服、核保與理賠三大系統導入保險客戶服務，榮獲第九屆臺灣保險卓越獎「保戶服務」金質獎。\n",
            "其中，智能客服採用由經濟部技術處科技專案支持、財團法人資訊工業策進會數位轉型研究所(資策會數位所)所開發的「文字對話虛擬助理」技術，成功將AI人工智慧技術應用於產險業，提昇客戶服務品質與效率。\n"
          ]
        }
      ]
    },
    {
      "cell_type": "markdown",
      "source": [
        "# Token texts"
      ],
      "metadata": {
        "id": "ngj2wsHojKnU"
      }
    },
    {
      "cell_type": "code",
      "source": [
        "for token in doc:\n",
        "    print(token.text, end=\"|\")"
      ],
      "metadata": {
        "colab": {
          "base_uri": "https://localhost:8080/"
        },
        "id": "AAZzxhFfjaKr",
        "outputId": "a8b6a790-9366-42b3-cfea-e274405e10fb"
      },
      "execution_count": 29,
      "outputs": [
        {
          "output_type": "stream",
          "name": "stdout",
          "text": [
            "隨著|金融|科技|發展|與數|位化|浪潮|，|許多|金融|機構|積極|推動|數位|轉型|，|發展|數位|支付|、|網路|銀行|和|智能|客服|等|服務|。|新光|產物|保險|(新|光產|險)|以|智能|客服|、|核保與|理賠|三大|系統|導入|保險|客戶|服務|，|榮獲|第九|屆|臺灣|保險|卓越|獎|「|保戶|服務|」|金質獎|。|其中|，|智能|客服|採用|由|經濟部|技術|處|科技|專案|支持|、|財團|法人|資|訊工|業策|進會|數位|轉型|研究所|(資|策會|數位|所|)|所|開發|的|「|文字|對話|虛擬|助理|」|技術|，|成功|將A|I|人工|智慧|技術|應用|於產|險業|，|提昇|客|戶服|務品|質與|效率|。|"
          ]
        }
      ]
    },
    {
      "cell_type": "markdown",
      "source": [
        "# Parts of speech (POS)"
      ],
      "metadata": {
        "id": "-n7Y2hgJjPzc"
      }
    },
    {
      "cell_type": "code",
      "source": [
        "for token in doc:\n",
        "    print(token.text, token.pos_, sep=\">>>\")"
      ],
      "metadata": {
        "colab": {
          "base_uri": "https://localhost:8080/"
        },
        "id": "_HhjbCg_kMbK",
        "outputId": "4be8ffc9-8c73-492c-9d9f-b4332e2ae252"
      },
      "execution_count": 30,
      "outputs": [
        {
          "output_type": "stream",
          "name": "stdout",
          "text": [
            "隨著>>>VERB\n",
            "金融>>>NOUN\n",
            "科技>>>NOUN\n",
            "發展>>>NOUN\n",
            "與數>>>ADJ\n",
            "位化>>>NOUN\n",
            "浪潮>>>NOUN\n",
            "，>>>PUNCT\n",
            "許多>>>NUM\n",
            "金融>>>NOUN\n",
            "機構>>>NOUN\n",
            "積極>>>ADV\n",
            "推動>>>VERB\n",
            "數位>>>PROPN\n",
            "轉型>>>NOUN\n",
            "，>>>PUNCT\n",
            "發展>>>VERB\n",
            "數位>>>PROPN\n",
            "支付>>>VERB\n",
            "、>>>PUNCT\n",
            "網路>>>NOUN\n",
            "銀行>>>NOUN\n",
            "和>>>CCONJ\n",
            "智能>>>NOUN\n",
            "客服>>>NOUN\n",
            "等>>>PART\n",
            "服務>>>NOUN\n",
            "。>>>PUNCT\n",
            "新光>>>PROPN\n",
            "產物>>>NOUN\n",
            "保險>>>NOUN\n",
            "(新>>>VERB\n",
            "光產>>>NOUN\n",
            "險)>>>PUNCT\n",
            "以>>>ADP\n",
            "智能>>>NOUN\n",
            "客服>>>NOUN\n",
            "、>>>PUNCT\n",
            "核保與>>>NOUN\n",
            "理賠>>>VERB\n",
            "三大>>>PART\n",
            "系統>>>NOUN\n",
            "導入>>>VERB\n",
            "保險>>>NOUN\n",
            "客戶>>>NOUN\n",
            "服務>>>VERB\n",
            "，>>>PUNCT\n",
            "榮獲>>>ADP\n",
            "第九>>>NUM\n",
            "屆>>>NUM\n",
            "臺灣>>>PROPN\n",
            "保險>>>NOUN\n",
            "卓越>>>ADJ\n",
            "獎>>>PROPN\n",
            "「>>>PUNCT\n",
            "保戶>>>NOUN\n",
            "服務>>>NOUN\n",
            "」>>>PUNCT\n",
            "金質獎>>>NOUN\n",
            "。>>>PUNCT\n",
            "其中>>>NOUN\n",
            "，>>>PUNCT\n",
            "智能>>>NOUN\n",
            "客服>>>NOUN\n",
            "採用>>>VERB\n",
            "由>>>ADP\n",
            "經濟部>>>PROPN\n",
            "技術>>>NOUN\n",
            "處>>>PROPN\n",
            "科技>>>NOUN\n",
            "專案>>>ADJ\n",
            "支持>>>NOUN\n",
            "、>>>PUNCT\n",
            "財團>>>ADJ\n",
            "法人>>>NOUN\n",
            "資>>>NOUN\n",
            "訊工>>>NOUN\n",
            "業策>>>NOUN\n",
            "進會>>>NOUN\n",
            "數位>>>PROPN\n",
            "轉型>>>NOUN\n",
            "研究所>>>NOUN\n",
            "(資>>>NOUN\n",
            "策會>>>NOUN\n",
            "數位>>>PROPN\n",
            "所>>>VERB\n",
            ")>>>PROPN\n",
            "所>>>PART\n",
            "開發>>>VERB\n",
            "的>>>PART\n",
            "「>>>PUNCT\n",
            "文字>>>NOUN\n",
            "對話>>>VERB\n",
            "虛擬>>>ADJ\n",
            "助理>>>NOUN\n",
            "」>>>PUNCT\n",
            "技術>>>NOUN\n",
            "，>>>PUNCT\n",
            "成功>>>ADV\n",
            "將A>>>NOUN\n",
            "I>>>PRON\n",
            "人工>>>ADJ\n",
            "智慧>>>NOUN\n",
            "技術>>>NOUN\n",
            "應用>>>VERB\n",
            "於產>>>NOUN\n",
            "險業>>>NOUN\n",
            "，>>>PUNCT\n",
            "提昇>>>VERB\n",
            "客>>>NOUN\n",
            "戶服>>>NOUN\n",
            "務品>>>NOUN\n",
            "質與>>>ADJ\n",
            "效率>>>NOUN\n",
            "。>>>PUNCT\n"
          ]
        }
      ]
    },
    {
      "cell_type": "code",
      "source": [
        "for token in doc:\n",
        "    print(token.text, token.tag_, spacy.explain(token.tag_), sep=\">>>\")"
      ],
      "metadata": {
        "colab": {
          "base_uri": "https://localhost:8080/"
        },
        "id": "I2-oKhqyk_un",
        "outputId": "6453a483-811d-4bcb-8ba0-cb993fa8036a"
      },
      "execution_count": 31,
      "outputs": [
        {
          "output_type": "stream",
          "name": "stdout",
          "text": [
            "隨著>>>VV>>>other verb\n",
            "金融>>>NN>>>noun, singular or mass\n",
            "科技>>>NN>>>noun, singular or mass\n",
            "發展>>>NN>>>noun, singular or mass\n",
            "與數>>>JJ>>>adjective (English), other noun-modifier (Chinese)\n",
            "位化>>>NN>>>noun, singular or mass\n",
            "浪潮>>>NN>>>noun, singular or mass\n",
            "，>>>PU>>>punctuation\n",
            "許多>>>CD>>>cardinal number\n",
            "金融>>>NN>>>noun, singular or mass\n",
            "機構>>>NN>>>noun, singular or mass\n",
            "積極>>>AD>>>adverb\n",
            "推動>>>VV>>>other verb\n",
            "數位>>>NR>>>proper noun\n",
            "轉型>>>NN>>>noun, singular or mass\n",
            "，>>>PU>>>punctuation\n",
            "發展>>>VV>>>other verb\n",
            "數位>>>NR>>>proper noun\n",
            "支付>>>VV>>>other verb\n",
            "、>>>PU>>>punctuation\n",
            "網路>>>NN>>>noun, singular or mass\n",
            "銀行>>>NN>>>noun, singular or mass\n",
            "和>>>CC>>>conjunction, coordinating\n",
            "智能>>>NN>>>noun, singular or mass\n",
            "客服>>>NN>>>noun, singular or mass\n",
            "等>>>ETC>>>for words 等, 等等\n",
            "服務>>>NN>>>noun, singular or mass\n",
            "。>>>PU>>>punctuation\n",
            "新光>>>NR>>>proper noun\n",
            "產物>>>NN>>>noun, singular or mass\n",
            "保險>>>NN>>>noun, singular or mass\n",
            "(新>>>VV>>>other verb\n",
            "光產>>>NN>>>noun, singular or mass\n",
            "險)>>>PU>>>punctuation\n",
            "以>>>P>>>preposition excluding 把 and 被\n",
            "智能>>>NN>>>noun, singular or mass\n",
            "客服>>>NN>>>noun, singular or mass\n",
            "、>>>PU>>>punctuation\n",
            "核保與>>>NN>>>noun, singular or mass\n",
            "理賠>>>VV>>>other verb\n",
            "三大>>>ETC>>>for words 等, 等等\n",
            "系統>>>NN>>>noun, singular or mass\n",
            "導入>>>VV>>>other verb\n",
            "保險>>>NN>>>noun, singular or mass\n",
            "客戶>>>NN>>>noun, singular or mass\n",
            "服務>>>VV>>>other verb\n",
            "，>>>PU>>>punctuation\n",
            "榮獲>>>P>>>preposition excluding 把 and 被\n",
            "第九>>>OD>>>ordinal number\n",
            "屆>>>M>>>measure word\n",
            "臺灣>>>NR>>>proper noun\n",
            "保險>>>NN>>>noun, singular or mass\n",
            "卓越>>>JJ>>>adjective (English), other noun-modifier (Chinese)\n",
            "獎>>>NR>>>proper noun\n",
            "「>>>PU>>>punctuation\n",
            "保戶>>>NN>>>noun, singular or mass\n",
            "服務>>>NN>>>noun, singular or mass\n",
            "」>>>PU>>>punctuation\n",
            "金質獎>>>NN>>>noun, singular or mass\n",
            "。>>>PU>>>punctuation\n",
            "其中>>>NN>>>noun, singular or mass\n",
            "，>>>PU>>>punctuation\n",
            "智能>>>NN>>>noun, singular or mass\n",
            "客服>>>NN>>>noun, singular or mass\n",
            "採用>>>VV>>>other verb\n",
            "由>>>P>>>preposition excluding 把 and 被\n",
            "經濟部>>>NR>>>proper noun\n",
            "技術>>>NN>>>noun, singular or mass\n",
            "處>>>NR>>>proper noun\n",
            "科技>>>NN>>>noun, singular or mass\n",
            "專案>>>JJ>>>adjective (English), other noun-modifier (Chinese)\n",
            "支持>>>NN>>>noun, singular or mass\n",
            "、>>>PU>>>punctuation\n",
            "財團>>>JJ>>>adjective (English), other noun-modifier (Chinese)\n",
            "法人>>>NN>>>noun, singular or mass\n",
            "資>>>NN>>>noun, singular or mass\n",
            "訊工>>>NN>>>noun, singular or mass\n",
            "業策>>>NN>>>noun, singular or mass\n",
            "進會>>>NN>>>noun, singular or mass\n",
            "數位>>>NR>>>proper noun\n",
            "轉型>>>NN>>>noun, singular or mass\n",
            "研究所>>>NN>>>noun, singular or mass\n",
            "(資>>>NN>>>noun, singular or mass\n",
            "策會>>>NN>>>noun, singular or mass\n",
            "數位>>>NR>>>proper noun\n",
            "所>>>VV>>>other verb\n",
            ")>>>NR>>>proper noun\n",
            "所>>>MSP>>>other particle\n",
            "開發>>>VV>>>other verb\n",
            "的>>>DEC>>>的 in a relative clause\n",
            "「>>>PU>>>punctuation\n",
            "文字>>>NN>>>noun, singular or mass\n",
            "對話>>>VV>>>other verb\n",
            "虛擬>>>JJ>>>adjective (English), other noun-modifier (Chinese)\n",
            "助理>>>NN>>>noun, singular or mass\n",
            "」>>>PU>>>punctuation\n",
            "技術>>>NN>>>noun, singular or mass\n",
            "，>>>PU>>>punctuation\n",
            "成功>>>AD>>>adverb\n",
            "將A>>>NN>>>noun, singular or mass\n",
            "I>>>PN>>>pronoun\n",
            "人工>>>JJ>>>adjective (English), other noun-modifier (Chinese)\n",
            "智慧>>>NN>>>noun, singular or mass\n",
            "技術>>>NN>>>noun, singular or mass\n",
            "應用>>>VV>>>other verb\n",
            "於產>>>NN>>>noun, singular or mass\n",
            "險業>>>NN>>>noun, singular or mass\n",
            "，>>>PU>>>punctuation\n",
            "提昇>>>VV>>>other verb\n",
            "客>>>NN>>>noun, singular or mass\n",
            "戶服>>>NN>>>noun, singular or mass\n",
            "務品>>>NN>>>noun, singular or mass\n",
            "質與>>>JJ>>>adjective (English), other noun-modifier (Chinese)\n",
            "效率>>>NN>>>noun, singular or mass\n",
            "。>>>PU>>>punctuation\n"
          ]
        }
      ]
    },
    {
      "cell_type": "markdown",
      "source": [
        "# Dependency tags (DEP)"
      ],
      "metadata": {
        "id": "qH-trar8jrMA"
      }
    },
    {
      "cell_type": "code",
      "source": [
        "for token in doc:\n",
        "    print(token.text, token.dep_, token.head.text, sep=\">>>\")"
      ],
      "metadata": {
        "colab": {
          "base_uri": "https://localhost:8080/"
        },
        "id": "IG75l5RBp_l3",
        "outputId": "2f58f019-226d-4581-affd-0d3b4448b3f5"
      },
      "execution_count": 34,
      "outputs": [
        {
          "output_type": "stream",
          "name": "stdout",
          "text": [
            "隨著>>>ROOT>>>隨著\n",
            "金融>>>compound:nn>>>發展\n",
            "科技>>>compound:nn>>>發展\n",
            "發展>>>compound:nn>>>浪潮\n",
            "與數>>>amod>>>浪潮\n",
            "位化>>>compound:nn>>>浪潮\n",
            "浪潮>>>dobj>>>隨著\n",
            "，>>>punct>>>隨著\n",
            "許多>>>dep>>>推動\n",
            "金融>>>compound:nn>>>機構\n",
            "機構>>>nsubj>>>推動\n",
            "積極>>>advmod>>>推動\n",
            "推動>>>conj>>>隨著\n",
            "數位>>>nmod:assmod>>>轉型\n",
            "轉型>>>dobj>>>推動\n",
            "，>>>punct>>>推動\n",
            "發展>>>conj>>>推動\n",
            "數位>>>nsubj>>>支付\n",
            "支付>>>acl>>>服務\n",
            "、>>>punct>>>客服\n",
            "網路>>>compound:nn>>>客服\n",
            "銀行>>>conj>>>客服\n",
            "和>>>cc>>>客服\n",
            "智能>>>compound:nn>>>客服\n",
            "客服>>>dobj>>>支付\n",
            "等>>>etc>>>客服\n",
            "服務>>>dobj>>>發展\n",
            "。>>>punct>>>隨著\n",
            "新光>>>compound:nn>>>保險\n",
            "產物>>>compound:nn>>>保險\n",
            "保險>>>nsubj>>>(新\n",
            "(新>>>nmod:prep>>>服務\n",
            "光產>>>dobj>>>(新\n",
            "險)>>>punct>>>(新\n",
            "以>>>case>>>理賠\n",
            "智能>>>compound:nn>>>客服\n",
            "客服>>>conj>>>理賠\n",
            "、>>>punct>>>理賠\n",
            "核保與>>>nsubj>>>理賠\n",
            "理賠>>>nmod:prep>>>導入\n",
            "三大>>>etc>>>理賠\n",
            "系統>>>nsubj>>>導入\n",
            "導入>>>conj>>>(新\n",
            "保險>>>compound:nn>>>客戶\n",
            "客戶>>>nsubj>>>服務\n",
            "服務>>>ROOT>>>服務\n",
            "，>>>punct>>>服務\n",
            "榮獲>>>case>>>保險\n",
            "第九>>>nummod>>>保險\n",
            "屆>>>mark:clf>>>第九\n",
            "臺灣>>>compound:nn>>>保險\n",
            "保險>>>nsubj>>>獎\n",
            "卓越>>>amod>>>獎\n",
            "獎>>>nsubj>>>金質獎\n",
            "「>>>punct>>>服務\n",
            "保戶>>>compound:nn>>>服務\n",
            "服務>>>compound:nn>>>金質獎\n",
            "」>>>punct>>>服務\n",
            "金質獎>>>conj>>>服務\n",
            "。>>>punct>>>服務\n",
            "其中>>>nmod:topic>>>採用\n",
            "，>>>punct>>>採用\n",
            "智能>>>compound:nn>>>客服\n",
            "客服>>>nsubj>>>採用\n",
            "採用>>>ROOT>>>採用\n",
            "由>>>case>>>研究所\n",
            "經濟部>>>compound:nn>>>技術\n",
            "技術>>>compound:nn>>>支持\n",
            "處>>>dep>>>技術\n",
            "科技>>>compound:nn>>>支持\n",
            "專案>>>amod>>>支持\n",
            "支持>>>conj>>>研究所\n",
            "、>>>punct>>>研究所\n",
            "財團>>>amod>>>法人\n",
            "法人>>>compound:nn>>>資\n",
            "資>>>compound:nn>>>進會\n",
            "訊工>>>compound:nn>>>進會\n",
            "業策>>>compound:nn>>>進會\n",
            "進會>>>compound:nn>>>研究所\n",
            "數位>>>compound:nn>>>研究所\n",
            "轉型>>>compound:nn>>>研究所\n",
            "研究所>>>nmod:prep>>>(資\n",
            "(資>>>dep>>>策會\n",
            "策會>>>advmod>>>數位\n",
            "數位>>>nsubj>>>所\n",
            "所>>>aux:prtmod>>>開發\n",
            ")>>>nsubj>>>開發\n",
            "所>>>aux:prtmod>>>開發\n",
            "開發>>>conj>>>採用\n",
            "的>>>mark>>>開發\n",
            "「>>>punct>>>對話\n",
            "文字>>>nsubj>>>對話\n",
            "對話>>>compound:nn>>>助理\n",
            "虛擬>>>amod>>>助理\n",
            "助理>>>compound:nn>>>技術\n",
            "」>>>punct>>>助理\n",
            "技術>>>dobj>>>採用\n",
            "，>>>punct>>>採用\n",
            "成功>>>dep>>>採用\n",
            "將A>>>dep>>>成功\n",
            "I>>>compound:nn>>>智慧\n",
            "人工>>>amod>>>智慧\n",
            "智慧>>>compound:nn>>>技術\n",
            "技術>>>nsubj>>>應用\n",
            "應用>>>conj>>>採用\n",
            "於產>>>compound:nn>>>險業\n",
            "險業>>>dobj>>>應用\n",
            "，>>>punct>>>應用\n",
            "提昇>>>conj>>>應用\n",
            "客>>>compound:nn>>>戶服\n",
            "戶服>>>compound:nn>>>務品\n",
            "務品>>>dobj>>>提昇\n",
            "質與>>>conj>>>應用\n",
            "效率>>>dobj>>>應用\n",
            "。>>>punct>>>採用\n"
          ]
        }
      ]
    },
    {
      "cell_type": "markdown",
      "source": [
        "# Named entities (NER)"
      ],
      "metadata": {
        "id": "9ujmiEygjag9"
      }
    },
    {
      "cell_type": "code",
      "source": [
        "for entity in doc.ents:\n",
        "    print(entity.text, entity.label_, sep=\">>>\")"
      ],
      "metadata": {
        "colab": {
          "base_uri": "https://localhost:8080/"
        },
        "id": "6E2sLI-Tk7Bj",
        "outputId": "1a679709-584c-4800-9748-cf683653f5cf"
      },
      "execution_count": 32,
      "outputs": [
        {
          "output_type": "stream",
          "name": "stdout",
          "text": [
            "新光產物保險(新光產>>>ORG\n",
            "三大>>>CARDINAL\n",
            "第九>>>ORDINAL\n",
            "經濟部>>>ORG\n",
            "訊工業策進會>>>ORG\n",
            "數位轉型研究所>>>ORG\n"
          ]
        }
      ]
    }
  ],
  "metadata": {
    "celltoolbar": "Slideshow",
    "kernelspec": {
      "display_name": "Python 3",
      "language": "python",
      "name": "python3"
    },
    "language_info": {
      "codemirror_mode": {
        "name": "ipython",
        "version": 3
      },
      "file_extension": ".py",
      "mimetype": "text/x-python",
      "name": "python",
      "nbconvert_exporter": "python",
      "pygments_lexer": "ipython3",
      "version": "3.6.2"
    },
    "livereveal": {
      "autolaunch": true,
      "scroll": true
    },
    "colab": {
      "name": "spaCy playground.ipynb",
      "provenance": [],
      "include_colab_link": true
    }
  },
  "nbformat": 4,
  "nbformat_minor": 0
}