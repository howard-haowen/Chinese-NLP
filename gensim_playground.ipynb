{
  "nbformat": 4,
  "nbformat_minor": 0,
  "metadata": {
    "colab": {
      "name": "Gensim playground.ipynb",
      "provenance": [],
      "collapsed_sections": [],
      "toc_visible": true,
      "authorship_tag": "ABX9TyOiwiAs3V8KSn0NP3qSuY1X",
      "include_colab_link": true
    },
    "kernelspec": {
      "name": "python3",
      "display_name": "Python 3"
    },
    "language_info": {
      "name": "python"
    }
  },
  "cells": [
    {
      "cell_type": "markdown",
      "metadata": {
        "id": "view-in-github",
        "colab_type": "text"
      },
      "source": [
        "<a href=\"https://colab.research.google.com/github/howard-haowen/NLP-demos/blob/main/gensim_playground.ipynb\" target=\"_parent\"><img src=\"https://colab.research.google.com/assets/colab-badge.svg\" alt=\"Open In Colab\"/></a>"
      ]
    },
    {
      "cell_type": "code",
      "execution_count": 1,
      "metadata": {
        "id": "FqDpf9n4GUaq"
      },
      "outputs": [],
      "source": [
        "from traitlets.config.manager import BaseJSONConfigManager\n",
        "from pathlib import Path"
      ]
    },
    {
      "cell_type": "code",
      "source": [
        "path = Path.home() / \".jupyter\" / \"nbconfig\"\n",
        "cm = BaseJSONConfigManager(config_dir=str(path))\n",
        "cm.update(\n",
        "    \"rise\",\n",
        "    {\n",
        "        \"autolaunch\": False,\n",
        "        \"enable_chalkboard\": True,\n",
        "        \"scroll\": True,\n",
        "        \"slideNumber\": True,\n",
        "        \"controls\": True,\n",
        "        \"progress\": True,\n",
        "        \"history\": True,\n",
        "        \"center\": True,\n",
        "        \"width\": \"100%\",\n",
        "        \"height\": \"100%\",\n",
        "        \"theme\": \"beige\",\n",
        "        \"transition\": \"concave\",\n",
        "        \"start_slideshow_at\": \"selected\"\n",
        "     }\n",
        ")"
      ],
      "metadata": {
        "id": "8u6jpKZEGfqU",
        "colab": {
          "base_uri": "https://localhost:8080/"
        },
        "outputId": "fdc6c180-6ff8-4931-af4b-703a8caefcf7"
      },
      "execution_count": 2,
      "outputs": [
        {
          "output_type": "execute_result",
          "data": {
            "text/plain": [
              "{'autolaunch': False,\n",
              " 'center': True,\n",
              " 'controls': True,\n",
              " 'enable_chalkboard': True,\n",
              " 'height': '100%',\n",
              " 'history': True,\n",
              " 'progress': True,\n",
              " 'scroll': True,\n",
              " 'slideNumber': True,\n",
              " 'start_slideshow_at': 'selected',\n",
              " 'theme': 'beige',\n",
              " 'transition': 'concave',\n",
              " 'width': '100%'}"
            ]
          },
          "metadata": {},
          "execution_count": 2
        }
      ]
    },
    {
      "cell_type": "markdown",
      "source": [
        "## Dependencies"
      ],
      "metadata": {
        "id": "UZyGm7rIGmsz"
      }
    },
    {
      "cell_type": "code",
      "source": [
        "!pip install -U pip setuptools wheel\n",
        "!pip install -U spacy\n",
        "!python -m spacy download en_core_web_sm\n",
        "!pip install pyldavis\n",
        "!pip install nltk"
      ],
      "metadata": {
        "id": "ldix_r78GgS3"
      },
      "execution_count": null,
      "outputs": []
    },
    {
      "cell_type": "code",
      "source": [
        "# NLP\n",
        "import spacy\n",
        "# corpus\n",
        "import nltk\n",
        "# topic modelling\n",
        "import gensim\n",
        "from gensim.models import LdaModel, HdpModel\n",
        "from gensim.corpora import Dictionary\n",
        "# visualization\n",
        "import pyLDAvis.gensim_models\n",
        "# tabularization of data\n",
        "import pandas as pd\n",
        "# others\n",
        "import warnings\n",
        "warnings.filterwarnings('ignore')  # Let's not pay heed to them right now"
      ],
      "metadata": {
        "id": "DxvFLyAzGwPK",
        "colab": {
          "base_uri": "https://localhost:8080/"
        },
        "outputId": "0e72aa49-7513-4845-c2be-5a86be0ed64c"
      },
      "execution_count": 4,
      "outputs": [
        {
          "output_type": "stream",
          "name": "stderr",
          "text": [
            "/usr/local/lib/python3.7/dist-packages/past/types/oldstr.py:5: DeprecationWarning: Using or importing the ABCs from 'collections' instead of from 'collections.abc' is deprecated since Python 3.3,and in 3.9 it will stop working\n",
            "  from collections import Iterable\n"
          ]
        }
      ]
    },
    {
      "cell_type": "markdown",
      "source": [
        "## Download the corpus"
      ],
      "metadata": {
        "id": "473O8H9eG6aE"
      }
    },
    {
      "cell_type": "code",
      "source": [
        "nltk.download('inaugural')\n",
        "from nltk.corpus import inaugural"
      ],
      "metadata": {
        "id": "FlLhyTrHG6wk",
        "colab": {
          "base_uri": "https://localhost:8080/"
        },
        "outputId": "7827bc66-98b3-4b06-8ef2-eaacbcb6a985"
      },
      "execution_count": 5,
      "outputs": [
        {
          "output_type": "stream",
          "name": "stdout",
          "text": [
            "[nltk_data] Downloading package inaugural to /root/nltk_data...\n",
            "[nltk_data]   Unzipping corpora/inaugural.zip.\n"
          ]
        }
      ]
    },
    {
      "cell_type": "code",
      "source": [
        "file_ids = inaugural.fileids()\n",
        "len(file_ids)"
      ],
      "metadata": {
        "id": "ETWDI5ulHKEI",
        "colab": {
          "base_uri": "https://localhost:8080/"
        },
        "outputId": "39940d5d-2207-45ea-d965-2eae8db21241"
      },
      "execution_count": 6,
      "outputs": [
        {
          "output_type": "execute_result",
          "data": {
            "text/plain": [
              "59"
            ]
          },
          "metadata": {},
          "execution_count": 6
        }
      ]
    },
    {
      "cell_type": "code",
      "source": [
        "inaugural.raw(file_ids[0])"
      ],
      "metadata": {
        "id": "vXVqbMTeHLFr",
        "colab": {
          "base_uri": "https://localhost:8080/",
          "height": 249
        },
        "outputId": "62c3030b-2a92-4f18-8f80-02d744bddd0b"
      },
      "execution_count": 7,
      "outputs": [
        {
          "output_type": "execute_result",
          "data": {
            "text/plain": [
              "'Fellow-Citizens of the Senate and of the House of Representatives:\\n\\nAmong the vicissitudes incident to life no event could have filled me with greater anxieties than that of which the notification was transmitted by your order, and received on the 14th day of the present month. On the one hand, I was summoned by my Country, whose voice I can never hear but with veneration and love, from a retreat which I had chosen with the fondest predilection, and, in my flattering hopes, with an immutable decision, as the asylum of my declining years -- a retreat which was rendered every day more necessary as well as more dear to me by the addition of habit to inclination, and of frequent interruptions in my health to the gradual waste committed on it by time. On the other hand, the magnitude and difficulty of the trust to which the voice of my country called me, being sufficient to awaken in the wisest and most experienced of her citizens a distrustful scrutiny into his qualifications, could not but overwhelm with despondence one who (inheriting inferior endowments from nature and unpracticed in the duties of civil administration) ought to be peculiarly conscious of his own deficiencies. In this conflict of emotions all I dare aver is that it has been my faithful study to collect my duty from a just appreciation of every circumstance by which it might be affected. All I dare hope is that if, in executing this task, I have been too much swayed by a grateful remembrance of former instances, or by an affectionate sensibility to this transcendent proof of the confidence of my fellow citizens, and have thence too little consulted my incapacity as well as disinclination for the weighty and untried cares before me, my error will be palliated by the motives which mislead me, and its consequences be judged by my country with some share of the partiality in which they originated.\\n\\nSuch being the impressions under which I have, in obedience to the public summons, repaired to the present station, it would be peculiarly improper to omit in this first official act my fervent supplications to that Almighty Being who rules over the universe, who presides in the councils of nations, and whose providential aids can supply every human defect, that His benediction may consecrate to the liberties and happiness of the people of the United States a Government instituted by themselves for these essential purposes, and may enable every instrument employed in its administration to execute with success the functions allotted to his charge. In tendering this homage to the Great Author of every public and private good, I assure myself that it expresses your sentiments not less than my own, nor those of my fellow citizens at large less than either. No people can be bound to acknowledge and adore the Invisible Hand which conducts the affairs of men more than those of the United States. Every step by which they have advanced to the character of an independent nation seems to have been distinguished by some token of providential agency; and in the important revolution just accomplished in the system of their united government the tranquil deliberations and voluntary consent of so many distinct communities from which the event has resulted can not be compared with the means by which most governments have been established without some return of pious gratitude, along with an humble anticipation of the future blessings which the past seem to presage. These reflections, arising out of the present crisis, have forced themselves too strongly on my mind to be suppressed. You will join with me, I trust, in thinking that there are none under the influence of which the proceedings of a new and free government can more auspiciously commence.\\n\\nBy the article establishing the executive department it is made the duty of the President \"to recommend to your consideration such measures as he shall judge necessary and expedient.\" The circumstances under which I now meet you will acquit me from entering into that subject further than to refer to the great constitutional charter under which you are assembled, and which, in defining your powers, designates the objects to which your attention is to be given. It will be more consistent with those circumstances, and far more congenial with the feelings which actuate me, to substitute, in place of a recommendation of particular measures, the tribute that is due to the talents, the rectitude, and the patriotism which adorn the characters selected to devise and adopt them. In these honorable qualifications I behold the surest pledges that as on one side no local prejudices or attachments, no separate views nor party animosities, will misdirect the comprehensive and equal eye which ought to watch over this great assemblage of communities and interests, so, on another, that the foundation of our national policy will be laid in the pure and immutable principles of private morality, and the preeminence of free government be exemplified by all the attributes which can win the affections of its citizens and command the respect of the world. I dwell on this prospect with every satisfaction which an ardent love for my country can inspire, since there is no truth more thoroughly established than that there exists in the economy and course of nature an indissoluble union between virtue and happiness; between duty and advantage; between the genuine maxims of an honest and magnanimous policy and the solid rewards of public prosperity and felicity; since we ought to be no less persuaded that the propitious smiles of Heaven can never be expected on a nation that disregards the eternal rules of order and right which Heaven itself has ordained; and since the preservation of the sacred fire of liberty and the destiny of the republican model of government are justly considered, perhaps, as deeply, as finally, staked on the experiment entrusted to the hands of the American people.\\n\\nBesides the ordinary objects submitted to your care, it will remain with your judgment to decide how far an exercise of the occasional power delegated by the fifth article of the Constitution is rendered expedient at the present juncture by the nature of objections which have been urged against the system, or by the degree of inquietude which has given birth to them. Instead of undertaking particular recommendations on this subject, in which I could be guided by no lights derived from official opportunities, I shall again give way to my entire confidence in your discernment and pursuit of the public good; for I assure myself that whilst you carefully avoid every alteration which might endanger the benefits of an united and effective government, or which ought to await the future lessons of experience, a reverence for the characteristic rights of freemen and a regard for the public harmony will sufficiently influence your deliberations on the question how far the former can be impregnably fortified or the latter be safely and advantageously promoted.\\n\\nTo the foregoing observations I have one to add, which will be most properly addressed to the House of Representatives. It concerns myself, and will therefore be as brief as possible. When I was first honored with a call into the service of my country, then on the eve of an arduous struggle for its liberties, the light in which I contemplated my duty required that I should renounce every pecuniary compensation. From this resolution I have in no instance departed; and being still under the impressions which produced it, I must decline as inapplicable to myself any share in the personal emoluments which may be indispensably included in a permanent provision for the executive department, and must accordingly pray that the pecuniary estimates for the station in which I am placed may during my continuance in it be limited to such actual expenditures as the public good may be thought to require.\\n\\nHaving thus imparted to you my sentiments as they have been awakened by the occasion which brings us together, I shall take my present leave; but not without resorting once more to the benign Parent of the Human Race in humble supplication that, since He has been pleased to favor the American people with opportunities for deliberating in perfect tranquillity, and dispositions for deciding with unparalleled unanimity on a form of government for the security of their union and the advancement of their happiness, so His divine blessing may be equally conspicuous in the enlarged views, the temperate consultations, and the wise measures on which the success of this Government must depend. \\n'"
            ],
            "application/vnd.google.colaboratory.intrinsic+json": {
              "type": "string"
            }
          },
          "metadata": {},
          "execution_count": 7
        }
      ]
    },
    {
      "cell_type": "code",
      "source": [
        "def inaugura2df(file_ids):\n",
        "    years = [id[:4] for id in file_ids]\n",
        "    presidents = [id[5:].replace(\".txt\", \"\") for id in file_ids]\n",
        "    texts = [inaugural.raw(id) for id in file_ids]\n",
        "    df = pd.DataFrame(\n",
        "        {\n",
        "            \"year\": years,\n",
        "            \"president\": presidents,\n",
        "            \"text\": texts,\n",
        "        }\n",
        "    )\n",
        "    df.set_index(\"year\", inplace=True)\n",
        "    df.index = df.index.astype(int)\n",
        "    return df"
      ],
      "metadata": {
        "id": "CtFDj9d0HMqW"
      },
      "execution_count": 16,
      "outputs": []
    },
    {
      "cell_type": "code",
      "source": [
        "df = inaugura2df(file_ids)\n",
        "df"
      ],
      "metadata": {
        "id": "3Trg2i7dHN_L",
        "colab": {
          "base_uri": "https://localhost:8080/",
          "height": 1000
        },
        "outputId": "c0a47c9f-da9c-4dde-9741-ce299bdd86d3"
      },
      "execution_count": 17,
      "outputs": [
        {
          "output_type": "execute_result",
          "data": {
            "text/plain": [
              "       president                                               text\n",
              "year                                                               \n",
              "1789  Washington  Fellow-Citizens of the Senate and of the House...\n",
              "1793  Washington  Fellow citizens, I am again called upon by the...\n",
              "1797       Adams  When it was first perceived, in early times, t...\n",
              "1801   Jefferson  Friends and Fellow Citizens:\\n\\nCalled upon to...\n",
              "1805   Jefferson  Proceeding, fellow citizens, to that qualifica...\n",
              "1809     Madison  Unwilling to depart from examples of the most ...\n",
              "1813     Madison  About to add the solemnity of an oath to the o...\n",
              "1817      Monroe  I should be destitute of feeling if I was not ...\n",
              "1821      Monroe  Fellow citizens, I shall not attempt to descri...\n",
              "1825       Adams  In compliance with an usage coeval with the ex...\n",
              "1829     Jackson  Fellow citizens, about to undertake the arduou...\n",
              "1833     Jackson  Fellow citizens, the will of the American peop...\n",
              "1837    VanBuren  Fellow citizens: The practice of all my predec...\n",
              "1841    Harrison  Called from a retirement which I had supposed ...\n",
              "1845        Polk  Fellow citizens, without solicitation on my pa...\n",
              "1849      Taylor  Elected by the American people to the highest ...\n",
              "1853      Pierce  My Countrymen, It a relief to feel that no hea...\n",
              "1857    Buchanan  Fellow citizens, I appear before you this day ...\n",
              "1861     Lincoln  Fellow-Citizens of the United States: In compl...\n",
              "1865     Lincoln  Fellow-Countrymen:\\n\\nAt this second appearing...\n",
              "1869       Grant  Citizens of the United States:\\n\\nYour suffrag...\n",
              "1873       Grant  Fellow-Citizens:\\n\\nUnder Providence I have be...\n",
              "1877       Hayes  Fellow citizens, we have assembled to repeat t...\n",
              "1881    Garfield  Fellow-Citizens:\\n\\nWe stand to-day upon an em...\n",
              "1885   Cleveland  Fellow citizens, in the presence of this vast ...\n",
              "1889    Harrison  Fellow-Citizens, there is no constitutional or...\n",
              "1893   Cleveland  My Fellow citizens, in obedience of the mandat...\n",
              "1897    McKinley  Fellow citizens, In obedience to the will of t...\n",
              "1901    McKinley  My fellow-citizens, when we assembled here on ...\n",
              "1905   Roosevelt  My fellow citizens, no people on earth have mo...\n",
              "1909        Taft  My fellow citizens: Anyone who has taken the o...\n",
              "1913      Wilson  There has been a change of government. It bega...\n",
              "1917      Wilson  My Fellow citizens: The four years which have ...\n",
              "1921     Harding  My Countrymen:\\n\\nWhen one surveys the world a...\n",
              "1925    Coolidge  My countrymen,\\n\\nno one can contemplate curre...\n",
              "1929      Hoover  My Countrymen: This occasion is not alone the ...\n",
              "1933   Roosevelt  I am certain that my fellow Americans expect t...\n",
              "1937   Roosevelt  When four years ago we met to inaugurate a Pre...\n",
              "1941   Roosevelt  On each national day of inauguration since 178...\n",
              "1945   Roosevelt  Chief Justice, Mr. Vice President, my friends,...\n",
              "1949      Truman  Mr. Vice President, Mr. Chief Justice, and fel...\n",
              "1953  Eisenhower  My friends, before I begin the expression of t...\n",
              "1957  Eisenhower  The Price of Peace\\nMr. Chairman, Mr. Vice Pre...\n",
              "1961     Kennedy  Vice President Johnson, Mr. Speaker, Mr. Chief...\n",
              "1965     Johnson  My fellow countrymen, on this occasion, the oa...\n",
              "1969       Nixon  Senator Dirksen, Mr. Chief Justice, Mr. Vice P...\n",
              "1973       Nixon  Mr. Vice President, Mr. Speaker, Mr. Chief Jus...\n",
              "1977      Carter  For myself and for our Nation, I want to thank...\n",
              "1981      Reagan  Senator Hatfield, Mr. Chief Justice, Mr. Presi...\n",
              "1985      Reagan  Senator Mathias, Chief Justice Burger, Vice Pr...\n",
              "1989        Bush  Mr. Chief Justice, Mr. President, Vice Preside...\n",
              "1993     Clinton  My fellow citizens, today we celebrate the mys...\n",
              "1997     Clinton  My fellow citizens: At this last presidential ...\n",
              "2001        Bush  President Clinton, distinguished guests and my...\n",
              "2005        Bush  Vice President Cheney, Mr. Chief Justice, Pres...\n",
              "2009       Obama  My fellow citizens:\\n\\nI stand here today humb...\n",
              "2013       Obama  Thank you. Thank you so much.\\n\\nVice Presiden...\n",
              "2017       Trump  Chief Justice Roberts, President Carter, Presi...\n",
              "2021       Biden  Chief Justice Roberts, Vice President Harris, ..."
            ],
            "text/html": [
              "\n",
              "  <div id=\"df-36a255e6-c3da-4b82-95c2-a8aeece7a674\">\n",
              "    <div class=\"colab-df-container\">\n",
              "      <div>\n",
              "<style scoped>\n",
              "    .dataframe tbody tr th:only-of-type {\n",
              "        vertical-align: middle;\n",
              "    }\n",
              "\n",
              "    .dataframe tbody tr th {\n",
              "        vertical-align: top;\n",
              "    }\n",
              "\n",
              "    .dataframe thead th {\n",
              "        text-align: right;\n",
              "    }\n",
              "</style>\n",
              "<table border=\"1\" class=\"dataframe\">\n",
              "  <thead>\n",
              "    <tr style=\"text-align: right;\">\n",
              "      <th></th>\n",
              "      <th>president</th>\n",
              "      <th>text</th>\n",
              "    </tr>\n",
              "    <tr>\n",
              "      <th>year</th>\n",
              "      <th></th>\n",
              "      <th></th>\n",
              "    </tr>\n",
              "  </thead>\n",
              "  <tbody>\n",
              "    <tr>\n",
              "      <th>1789</th>\n",
              "      <td>Washington</td>\n",
              "      <td>Fellow-Citizens of the Senate and of the House...</td>\n",
              "    </tr>\n",
              "    <tr>\n",
              "      <th>1793</th>\n",
              "      <td>Washington</td>\n",
              "      <td>Fellow citizens, I am again called upon by the...</td>\n",
              "    </tr>\n",
              "    <tr>\n",
              "      <th>1797</th>\n",
              "      <td>Adams</td>\n",
              "      <td>When it was first perceived, in early times, t...</td>\n",
              "    </tr>\n",
              "    <tr>\n",
              "      <th>1801</th>\n",
              "      <td>Jefferson</td>\n",
              "      <td>Friends and Fellow Citizens:\\n\\nCalled upon to...</td>\n",
              "    </tr>\n",
              "    <tr>\n",
              "      <th>1805</th>\n",
              "      <td>Jefferson</td>\n",
              "      <td>Proceeding, fellow citizens, to that qualifica...</td>\n",
              "    </tr>\n",
              "    <tr>\n",
              "      <th>1809</th>\n",
              "      <td>Madison</td>\n",
              "      <td>Unwilling to depart from examples of the most ...</td>\n",
              "    </tr>\n",
              "    <tr>\n",
              "      <th>1813</th>\n",
              "      <td>Madison</td>\n",
              "      <td>About to add the solemnity of an oath to the o...</td>\n",
              "    </tr>\n",
              "    <tr>\n",
              "      <th>1817</th>\n",
              "      <td>Monroe</td>\n",
              "      <td>I should be destitute of feeling if I was not ...</td>\n",
              "    </tr>\n",
              "    <tr>\n",
              "      <th>1821</th>\n",
              "      <td>Monroe</td>\n",
              "      <td>Fellow citizens, I shall not attempt to descri...</td>\n",
              "    </tr>\n",
              "    <tr>\n",
              "      <th>1825</th>\n",
              "      <td>Adams</td>\n",
              "      <td>In compliance with an usage coeval with the ex...</td>\n",
              "    </tr>\n",
              "    <tr>\n",
              "      <th>1829</th>\n",
              "      <td>Jackson</td>\n",
              "      <td>Fellow citizens, about to undertake the arduou...</td>\n",
              "    </tr>\n",
              "    <tr>\n",
              "      <th>1833</th>\n",
              "      <td>Jackson</td>\n",
              "      <td>Fellow citizens, the will of the American peop...</td>\n",
              "    </tr>\n",
              "    <tr>\n",
              "      <th>1837</th>\n",
              "      <td>VanBuren</td>\n",
              "      <td>Fellow citizens: The practice of all my predec...</td>\n",
              "    </tr>\n",
              "    <tr>\n",
              "      <th>1841</th>\n",
              "      <td>Harrison</td>\n",
              "      <td>Called from a retirement which I had supposed ...</td>\n",
              "    </tr>\n",
              "    <tr>\n",
              "      <th>1845</th>\n",
              "      <td>Polk</td>\n",
              "      <td>Fellow citizens, without solicitation on my pa...</td>\n",
              "    </tr>\n",
              "    <tr>\n",
              "      <th>1849</th>\n",
              "      <td>Taylor</td>\n",
              "      <td>Elected by the American people to the highest ...</td>\n",
              "    </tr>\n",
              "    <tr>\n",
              "      <th>1853</th>\n",
              "      <td>Pierce</td>\n",
              "      <td>My Countrymen, It a relief to feel that no hea...</td>\n",
              "    </tr>\n",
              "    <tr>\n",
              "      <th>1857</th>\n",
              "      <td>Buchanan</td>\n",
              "      <td>Fellow citizens, I appear before you this day ...</td>\n",
              "    </tr>\n",
              "    <tr>\n",
              "      <th>1861</th>\n",
              "      <td>Lincoln</td>\n",
              "      <td>Fellow-Citizens of the United States: In compl...</td>\n",
              "    </tr>\n",
              "    <tr>\n",
              "      <th>1865</th>\n",
              "      <td>Lincoln</td>\n",
              "      <td>Fellow-Countrymen:\\n\\nAt this second appearing...</td>\n",
              "    </tr>\n",
              "    <tr>\n",
              "      <th>1869</th>\n",
              "      <td>Grant</td>\n",
              "      <td>Citizens of the United States:\\n\\nYour suffrag...</td>\n",
              "    </tr>\n",
              "    <tr>\n",
              "      <th>1873</th>\n",
              "      <td>Grant</td>\n",
              "      <td>Fellow-Citizens:\\n\\nUnder Providence I have be...</td>\n",
              "    </tr>\n",
              "    <tr>\n",
              "      <th>1877</th>\n",
              "      <td>Hayes</td>\n",
              "      <td>Fellow citizens, we have assembled to repeat t...</td>\n",
              "    </tr>\n",
              "    <tr>\n",
              "      <th>1881</th>\n",
              "      <td>Garfield</td>\n",
              "      <td>Fellow-Citizens:\\n\\nWe stand to-day upon an em...</td>\n",
              "    </tr>\n",
              "    <tr>\n",
              "      <th>1885</th>\n",
              "      <td>Cleveland</td>\n",
              "      <td>Fellow citizens, in the presence of this vast ...</td>\n",
              "    </tr>\n",
              "    <tr>\n",
              "      <th>1889</th>\n",
              "      <td>Harrison</td>\n",
              "      <td>Fellow-Citizens, there is no constitutional or...</td>\n",
              "    </tr>\n",
              "    <tr>\n",
              "      <th>1893</th>\n",
              "      <td>Cleveland</td>\n",
              "      <td>My Fellow citizens, in obedience of the mandat...</td>\n",
              "    </tr>\n",
              "    <tr>\n",
              "      <th>1897</th>\n",
              "      <td>McKinley</td>\n",
              "      <td>Fellow citizens, In obedience to the will of t...</td>\n",
              "    </tr>\n",
              "    <tr>\n",
              "      <th>1901</th>\n",
              "      <td>McKinley</td>\n",
              "      <td>My fellow-citizens, when we assembled here on ...</td>\n",
              "    </tr>\n",
              "    <tr>\n",
              "      <th>1905</th>\n",
              "      <td>Roosevelt</td>\n",
              "      <td>My fellow citizens, no people on earth have mo...</td>\n",
              "    </tr>\n",
              "    <tr>\n",
              "      <th>1909</th>\n",
              "      <td>Taft</td>\n",
              "      <td>My fellow citizens: Anyone who has taken the o...</td>\n",
              "    </tr>\n",
              "    <tr>\n",
              "      <th>1913</th>\n",
              "      <td>Wilson</td>\n",
              "      <td>There has been a change of government. It bega...</td>\n",
              "    </tr>\n",
              "    <tr>\n",
              "      <th>1917</th>\n",
              "      <td>Wilson</td>\n",
              "      <td>My Fellow citizens: The four years which have ...</td>\n",
              "    </tr>\n",
              "    <tr>\n",
              "      <th>1921</th>\n",
              "      <td>Harding</td>\n",
              "      <td>My Countrymen:\\n\\nWhen one surveys the world a...</td>\n",
              "    </tr>\n",
              "    <tr>\n",
              "      <th>1925</th>\n",
              "      <td>Coolidge</td>\n",
              "      <td>My countrymen,\\n\\nno one can contemplate curre...</td>\n",
              "    </tr>\n",
              "    <tr>\n",
              "      <th>1929</th>\n",
              "      <td>Hoover</td>\n",
              "      <td>My Countrymen: This occasion is not alone the ...</td>\n",
              "    </tr>\n",
              "    <tr>\n",
              "      <th>1933</th>\n",
              "      <td>Roosevelt</td>\n",
              "      <td>I am certain that my fellow Americans expect t...</td>\n",
              "    </tr>\n",
              "    <tr>\n",
              "      <th>1937</th>\n",
              "      <td>Roosevelt</td>\n",
              "      <td>When four years ago we met to inaugurate a Pre...</td>\n",
              "    </tr>\n",
              "    <tr>\n",
              "      <th>1941</th>\n",
              "      <td>Roosevelt</td>\n",
              "      <td>On each national day of inauguration since 178...</td>\n",
              "    </tr>\n",
              "    <tr>\n",
              "      <th>1945</th>\n",
              "      <td>Roosevelt</td>\n",
              "      <td>Chief Justice, Mr. Vice President, my friends,...</td>\n",
              "    </tr>\n",
              "    <tr>\n",
              "      <th>1949</th>\n",
              "      <td>Truman</td>\n",
              "      <td>Mr. Vice President, Mr. Chief Justice, and fel...</td>\n",
              "    </tr>\n",
              "    <tr>\n",
              "      <th>1953</th>\n",
              "      <td>Eisenhower</td>\n",
              "      <td>My friends, before I begin the expression of t...</td>\n",
              "    </tr>\n",
              "    <tr>\n",
              "      <th>1957</th>\n",
              "      <td>Eisenhower</td>\n",
              "      <td>The Price of Peace\\nMr. Chairman, Mr. Vice Pre...</td>\n",
              "    </tr>\n",
              "    <tr>\n",
              "      <th>1961</th>\n",
              "      <td>Kennedy</td>\n",
              "      <td>Vice President Johnson, Mr. Speaker, Mr. Chief...</td>\n",
              "    </tr>\n",
              "    <tr>\n",
              "      <th>1965</th>\n",
              "      <td>Johnson</td>\n",
              "      <td>My fellow countrymen, on this occasion, the oa...</td>\n",
              "    </tr>\n",
              "    <tr>\n",
              "      <th>1969</th>\n",
              "      <td>Nixon</td>\n",
              "      <td>Senator Dirksen, Mr. Chief Justice, Mr. Vice P...</td>\n",
              "    </tr>\n",
              "    <tr>\n",
              "      <th>1973</th>\n",
              "      <td>Nixon</td>\n",
              "      <td>Mr. Vice President, Mr. Speaker, Mr. Chief Jus...</td>\n",
              "    </tr>\n",
              "    <tr>\n",
              "      <th>1977</th>\n",
              "      <td>Carter</td>\n",
              "      <td>For myself and for our Nation, I want to thank...</td>\n",
              "    </tr>\n",
              "    <tr>\n",
              "      <th>1981</th>\n",
              "      <td>Reagan</td>\n",
              "      <td>Senator Hatfield, Mr. Chief Justice, Mr. Presi...</td>\n",
              "    </tr>\n",
              "    <tr>\n",
              "      <th>1985</th>\n",
              "      <td>Reagan</td>\n",
              "      <td>Senator Mathias, Chief Justice Burger, Vice Pr...</td>\n",
              "    </tr>\n",
              "    <tr>\n",
              "      <th>1989</th>\n",
              "      <td>Bush</td>\n",
              "      <td>Mr. Chief Justice, Mr. President, Vice Preside...</td>\n",
              "    </tr>\n",
              "    <tr>\n",
              "      <th>1993</th>\n",
              "      <td>Clinton</td>\n",
              "      <td>My fellow citizens, today we celebrate the mys...</td>\n",
              "    </tr>\n",
              "    <tr>\n",
              "      <th>1997</th>\n",
              "      <td>Clinton</td>\n",
              "      <td>My fellow citizens: At this last presidential ...</td>\n",
              "    </tr>\n",
              "    <tr>\n",
              "      <th>2001</th>\n",
              "      <td>Bush</td>\n",
              "      <td>President Clinton, distinguished guests and my...</td>\n",
              "    </tr>\n",
              "    <tr>\n",
              "      <th>2005</th>\n",
              "      <td>Bush</td>\n",
              "      <td>Vice President Cheney, Mr. Chief Justice, Pres...</td>\n",
              "    </tr>\n",
              "    <tr>\n",
              "      <th>2009</th>\n",
              "      <td>Obama</td>\n",
              "      <td>My fellow citizens:\\n\\nI stand here today humb...</td>\n",
              "    </tr>\n",
              "    <tr>\n",
              "      <th>2013</th>\n",
              "      <td>Obama</td>\n",
              "      <td>Thank you. Thank you so much.\\n\\nVice Presiden...</td>\n",
              "    </tr>\n",
              "    <tr>\n",
              "      <th>2017</th>\n",
              "      <td>Trump</td>\n",
              "      <td>Chief Justice Roberts, President Carter, Presi...</td>\n",
              "    </tr>\n",
              "    <tr>\n",
              "      <th>2021</th>\n",
              "      <td>Biden</td>\n",
              "      <td>Chief Justice Roberts, Vice President Harris, ...</td>\n",
              "    </tr>\n",
              "  </tbody>\n",
              "</table>\n",
              "</div>\n",
              "      <button class=\"colab-df-convert\" onclick=\"convertToInteractive('df-36a255e6-c3da-4b82-95c2-a8aeece7a674')\"\n",
              "              title=\"Convert this dataframe to an interactive table.\"\n",
              "              style=\"display:none;\">\n",
              "        \n",
              "  <svg xmlns=\"http://www.w3.org/2000/svg\" height=\"24px\"viewBox=\"0 0 24 24\"\n",
              "       width=\"24px\">\n",
              "    <path d=\"M0 0h24v24H0V0z\" fill=\"none\"/>\n",
              "    <path d=\"M18.56 5.44l.94 2.06.94-2.06 2.06-.94-2.06-.94-.94-2.06-.94 2.06-2.06.94zm-11 1L8.5 8.5l.94-2.06 2.06-.94-2.06-.94L8.5 2.5l-.94 2.06-2.06.94zm10 10l.94 2.06.94-2.06 2.06-.94-2.06-.94-.94-2.06-.94 2.06-2.06.94z\"/><path d=\"M17.41 7.96l-1.37-1.37c-.4-.4-.92-.59-1.43-.59-.52 0-1.04.2-1.43.59L10.3 9.45l-7.72 7.72c-.78.78-.78 2.05 0 2.83L4 21.41c.39.39.9.59 1.41.59.51 0 1.02-.2 1.41-.59l7.78-7.78 2.81-2.81c.8-.78.8-2.07 0-2.86zM5.41 20L4 18.59l7.72-7.72 1.47 1.35L5.41 20z\"/>\n",
              "  </svg>\n",
              "      </button>\n",
              "      \n",
              "  <style>\n",
              "    .colab-df-container {\n",
              "      display:flex;\n",
              "      flex-wrap:wrap;\n",
              "      gap: 12px;\n",
              "    }\n",
              "\n",
              "    .colab-df-convert {\n",
              "      background-color: #E8F0FE;\n",
              "      border: none;\n",
              "      border-radius: 50%;\n",
              "      cursor: pointer;\n",
              "      display: none;\n",
              "      fill: #1967D2;\n",
              "      height: 32px;\n",
              "      padding: 0 0 0 0;\n",
              "      width: 32px;\n",
              "    }\n",
              "\n",
              "    .colab-df-convert:hover {\n",
              "      background-color: #E2EBFA;\n",
              "      box-shadow: 0px 1px 2px rgba(60, 64, 67, 0.3), 0px 1px 3px 1px rgba(60, 64, 67, 0.15);\n",
              "      fill: #174EA6;\n",
              "    }\n",
              "\n",
              "    [theme=dark] .colab-df-convert {\n",
              "      background-color: #3B4455;\n",
              "      fill: #D2E3FC;\n",
              "    }\n",
              "\n",
              "    [theme=dark] .colab-df-convert:hover {\n",
              "      background-color: #434B5C;\n",
              "      box-shadow: 0px 1px 3px 1px rgba(0, 0, 0, 0.15);\n",
              "      filter: drop-shadow(0px 1px 2px rgba(0, 0, 0, 0.3));\n",
              "      fill: #FFFFFF;\n",
              "    }\n",
              "  </style>\n",
              "\n",
              "      <script>\n",
              "        const buttonEl =\n",
              "          document.querySelector('#df-36a255e6-c3da-4b82-95c2-a8aeece7a674 button.colab-df-convert');\n",
              "        buttonEl.style.display =\n",
              "          google.colab.kernel.accessAllowed ? 'block' : 'none';\n",
              "\n",
              "        async function convertToInteractive(key) {\n",
              "          const element = document.querySelector('#df-36a255e6-c3da-4b82-95c2-a8aeece7a674');\n",
              "          const dataTable =\n",
              "            await google.colab.kernel.invokeFunction('convertToInteractive',\n",
              "                                                     [key], {});\n",
              "          if (!dataTable) return;\n",
              "\n",
              "          const docLinkHtml = 'Like what you see? Visit the ' +\n",
              "            '<a target=\"_blank\" href=https://colab.research.google.com/notebooks/data_table.ipynb>data table notebook</a>'\n",
              "            + ' to learn more about interactive tables.';\n",
              "          element.innerHTML = '';\n",
              "          dataTable['output_type'] = 'display_data';\n",
              "          await google.colab.output.renderOutput(dataTable, element);\n",
              "          const docLink = document.createElement('div');\n",
              "          docLink.innerHTML = docLinkHtml;\n",
              "          element.appendChild(docLink);\n",
              "        }\n",
              "      </script>\n",
              "    </div>\n",
              "  </div>\n",
              "  "
            ]
          },
          "metadata": {},
          "execution_count": 17
        }
      ]
    },
    {
      "cell_type": "markdown",
      "source": [
        "## Preprocess data"
      ],
      "metadata": {
        "id": "C7KOvv3nHXaU"
      }
    },
    {
      "cell_type": "code",
      "source": [
        "nlp = spacy.load(\"en_core_web_sm\")"
      ],
      "metadata": {
        "id": "hnty9gsmHXxh"
      },
      "execution_count": 10,
      "outputs": []
    },
    {
      "cell_type": "markdown",
      "source": [
        "## Build a topic model"
      ],
      "metadata": {
        "id": "4mgkazs9H4GF"
      }
    },
    {
      "cell_type": "code",
      "source": [
        "# corpus = \n",
        "# dictionary = \n",
        "# model = "
      ],
      "metadata": {
        "id": "XMUuyJfNH9-c"
      },
      "execution_count": 13,
      "outputs": []
    },
    {
      "cell_type": "markdown",
      "source": [
        "## Visualize the built model"
      ],
      "metadata": {
        "id": "acQukv0vIOsw"
      }
    },
    {
      "cell_type": "code",
      "source": [
        "pyLDAvis.enable_notebook()"
      ],
      "metadata": {
        "id": "GyRPYPGGIQ-2"
      },
      "execution_count": 14,
      "outputs": []
    },
    {
      "cell_type": "code",
      "source": [
        "# pyLDAvis.gensim_models.prepare(model, corpus, dictionary)"
      ],
      "metadata": {
        "id": "uujsiuAwIgH_"
      },
      "execution_count": 15,
      "outputs": []
    }
  ]
}