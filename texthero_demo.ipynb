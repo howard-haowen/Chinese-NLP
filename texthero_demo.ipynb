{
  "nbformat": 4,
  "nbformat_minor": 0,
  "metadata": {
    "colab": {
      "name": "Texthero demo.ipynb",
      "provenance": [],
      "collapsed_sections": [],
      "toc_visible": true,
      "authorship_tag": "ABX9TyNhTfjsxNQ18bsKZ8+gQUNe",
      "include_colab_link": true
    },
    "kernelspec": {
      "name": "python3",
      "display_name": "Python 3"
    },
    "language_info": {
      "name": "python"
    }
  },
  "cells": [
    {
      "cell_type": "markdown",
      "metadata": {
        "id": "view-in-github",
        "colab_type": "text"
      },
      "source": [
        "<a href=\"https://colab.research.google.com/github/howard-haowen/NLP-demos/blob/main/texthero_demo.ipynb\" target=\"_parent\"><img src=\"https://colab.research.google.com/assets/colab-badge.svg\" alt=\"Open In Colab\"/></a>"
      ]
    },
    {
      "cell_type": "code",
      "execution_count": 52,
      "metadata": {
        "id": "DBJTdTxxHXUb"
      },
      "outputs": [],
      "source": [
        "!pip install texthero -U -q"
      ]
    },
    {
      "cell_type": "code",
      "source": [
        "import pandas as pd"
      ],
      "metadata": {
        "id": "EtAsZY2s-eQK"
      },
      "execution_count": 6,
      "outputs": []
    },
    {
      "cell_type": "code",
      "source": [
        "import texthero as hero"
      ],
      "metadata": {
        "id": "PUY2STMnHvWY"
      },
      "execution_count": 53,
      "outputs": []
    },
    {
      "cell_type": "code",
      "source": [
        "pd.options.plotting.backend = \"plotly\""
      ],
      "metadata": {
        "id": "1HPCWNKfLVnn"
      },
      "execution_count": 54,
      "outputs": []
    },
    {
      "cell_type": "markdown",
      "source": [
        "# Download a dataset"
      ],
      "metadata": {
        "id": "mcw6uWUiOnXR"
      }
    },
    {
      "cell_type": "code",
      "source": [
        "df = pd.read_csv(\n",
        "   \"https://github.com/jbesomi/texthero/raw/master/dataset/bbcsport.csv\"\n",
        ")"
      ],
      "metadata": {
        "id": "1Avou1_rI4gq"
      },
      "execution_count": 7,
      "outputs": []
    },
    {
      "cell_type": "code",
      "source": [
        "df"
      ],
      "metadata": {
        "colab": {
          "base_uri": "https://localhost:8080/",
          "height": 424
        },
        "id": "7sUn_laoK28-",
        "outputId": "936c6b94-0614-4760-b454-9ed27ae9ea0f"
      },
      "execution_count": 56,
      "outputs": [
        {
          "output_type": "execute_result",
          "data": {
            "text/plain": [
              "                                                  text      topic\n",
              "0    Claxton hunting first major medal\\n\\nBritish h...  athletics\n",
              "1    O'Sullivan could run in Worlds\\n\\nSonia O'Sull...  athletics\n",
              "2    Greene sets sights on world title\\n\\nMaurice G...  athletics\n",
              "3    IAAF launches fight against drugs\\n\\nThe IAAF ...  athletics\n",
              "4    Dibaba breaks 5,000m world record\\n\\nEthiopia'...  athletics\n",
              "..                                                 ...        ...\n",
              "732  Agassi into second round in Dubai\\n\\nFourth se...     tennis\n",
              "733  Mauresmo fights back to win title\\n\\nWorld num...     tennis\n",
              "734  Federer wins title in Rotterdam\\n\\nWorld numbe...     tennis\n",
              "735  GB players warned over security\\n\\nBritain's D...     tennis\n",
              "736  Sharapova overcomes tough Molik\\n\\nWimbledon c...     tennis\n",
              "\n",
              "[737 rows x 2 columns]"
            ],
            "text/html": [
              "\n",
              "  <div id=\"df-19e48204-00f9-4753-8a04-7b782dad30a3\">\n",
              "    <div class=\"colab-df-container\">\n",
              "      <div>\n",
              "<style scoped>\n",
              "    .dataframe tbody tr th:only-of-type {\n",
              "        vertical-align: middle;\n",
              "    }\n",
              "\n",
              "    .dataframe tbody tr th {\n",
              "        vertical-align: top;\n",
              "    }\n",
              "\n",
              "    .dataframe thead th {\n",
              "        text-align: right;\n",
              "    }\n",
              "</style>\n",
              "<table border=\"1\" class=\"dataframe\">\n",
              "  <thead>\n",
              "    <tr style=\"text-align: right;\">\n",
              "      <th></th>\n",
              "      <th>text</th>\n",
              "      <th>topic</th>\n",
              "    </tr>\n",
              "  </thead>\n",
              "  <tbody>\n",
              "    <tr>\n",
              "      <th>0</th>\n",
              "      <td>Claxton hunting first major medal\\n\\nBritish h...</td>\n",
              "      <td>athletics</td>\n",
              "    </tr>\n",
              "    <tr>\n",
              "      <th>1</th>\n",
              "      <td>O'Sullivan could run in Worlds\\n\\nSonia O'Sull...</td>\n",
              "      <td>athletics</td>\n",
              "    </tr>\n",
              "    <tr>\n",
              "      <th>2</th>\n",
              "      <td>Greene sets sights on world title\\n\\nMaurice G...</td>\n",
              "      <td>athletics</td>\n",
              "    </tr>\n",
              "    <tr>\n",
              "      <th>3</th>\n",
              "      <td>IAAF launches fight against drugs\\n\\nThe IAAF ...</td>\n",
              "      <td>athletics</td>\n",
              "    </tr>\n",
              "    <tr>\n",
              "      <th>4</th>\n",
              "      <td>Dibaba breaks 5,000m world record\\n\\nEthiopia'...</td>\n",
              "      <td>athletics</td>\n",
              "    </tr>\n",
              "    <tr>\n",
              "      <th>...</th>\n",
              "      <td>...</td>\n",
              "      <td>...</td>\n",
              "    </tr>\n",
              "    <tr>\n",
              "      <th>732</th>\n",
              "      <td>Agassi into second round in Dubai\\n\\nFourth se...</td>\n",
              "      <td>tennis</td>\n",
              "    </tr>\n",
              "    <tr>\n",
              "      <th>733</th>\n",
              "      <td>Mauresmo fights back to win title\\n\\nWorld num...</td>\n",
              "      <td>tennis</td>\n",
              "    </tr>\n",
              "    <tr>\n",
              "      <th>734</th>\n",
              "      <td>Federer wins title in Rotterdam\\n\\nWorld numbe...</td>\n",
              "      <td>tennis</td>\n",
              "    </tr>\n",
              "    <tr>\n",
              "      <th>735</th>\n",
              "      <td>GB players warned over security\\n\\nBritain's D...</td>\n",
              "      <td>tennis</td>\n",
              "    </tr>\n",
              "    <tr>\n",
              "      <th>736</th>\n",
              "      <td>Sharapova overcomes tough Molik\\n\\nWimbledon c...</td>\n",
              "      <td>tennis</td>\n",
              "    </tr>\n",
              "  </tbody>\n",
              "</table>\n",
              "<p>737 rows × 2 columns</p>\n",
              "</div>\n",
              "      <button class=\"colab-df-convert\" onclick=\"convertToInteractive('df-19e48204-00f9-4753-8a04-7b782dad30a3')\"\n",
              "              title=\"Convert this dataframe to an interactive table.\"\n",
              "              style=\"display:none;\">\n",
              "        \n",
              "  <svg xmlns=\"http://www.w3.org/2000/svg\" height=\"24px\"viewBox=\"0 0 24 24\"\n",
              "       width=\"24px\">\n",
              "    <path d=\"M0 0h24v24H0V0z\" fill=\"none\"/>\n",
              "    <path d=\"M18.56 5.44l.94 2.06.94-2.06 2.06-.94-2.06-.94-.94-2.06-.94 2.06-2.06.94zm-11 1L8.5 8.5l.94-2.06 2.06-.94-2.06-.94L8.5 2.5l-.94 2.06-2.06.94zm10 10l.94 2.06.94-2.06 2.06-.94-2.06-.94-.94-2.06-.94 2.06-2.06.94z\"/><path d=\"M17.41 7.96l-1.37-1.37c-.4-.4-.92-.59-1.43-.59-.52 0-1.04.2-1.43.59L10.3 9.45l-7.72 7.72c-.78.78-.78 2.05 0 2.83L4 21.41c.39.39.9.59 1.41.59.51 0 1.02-.2 1.41-.59l7.78-7.78 2.81-2.81c.8-.78.8-2.07 0-2.86zM5.41 20L4 18.59l7.72-7.72 1.47 1.35L5.41 20z\"/>\n",
              "  </svg>\n",
              "      </button>\n",
              "      \n",
              "  <style>\n",
              "    .colab-df-container {\n",
              "      display:flex;\n",
              "      flex-wrap:wrap;\n",
              "      gap: 12px;\n",
              "    }\n",
              "\n",
              "    .colab-df-convert {\n",
              "      background-color: #E8F0FE;\n",
              "      border: none;\n",
              "      border-radius: 50%;\n",
              "      cursor: pointer;\n",
              "      display: none;\n",
              "      fill: #1967D2;\n",
              "      height: 32px;\n",
              "      padding: 0 0 0 0;\n",
              "      width: 32px;\n",
              "    }\n",
              "\n",
              "    .colab-df-convert:hover {\n",
              "      background-color: #E2EBFA;\n",
              "      box-shadow: 0px 1px 2px rgba(60, 64, 67, 0.3), 0px 1px 3px 1px rgba(60, 64, 67, 0.15);\n",
              "      fill: #174EA6;\n",
              "    }\n",
              "\n",
              "    [theme=dark] .colab-df-convert {\n",
              "      background-color: #3B4455;\n",
              "      fill: #D2E3FC;\n",
              "    }\n",
              "\n",
              "    [theme=dark] .colab-df-convert:hover {\n",
              "      background-color: #434B5C;\n",
              "      box-shadow: 0px 1px 3px 1px rgba(0, 0, 0, 0.15);\n",
              "      filter: drop-shadow(0px 1px 2px rgba(0, 0, 0, 0.3));\n",
              "      fill: #FFFFFF;\n",
              "    }\n",
              "  </style>\n",
              "\n",
              "      <script>\n",
              "        const buttonEl =\n",
              "          document.querySelector('#df-19e48204-00f9-4753-8a04-7b782dad30a3 button.colab-df-convert');\n",
              "        buttonEl.style.display =\n",
              "          google.colab.kernel.accessAllowed ? 'block' : 'none';\n",
              "\n",
              "        async function convertToInteractive(key) {\n",
              "          const element = document.querySelector('#df-19e48204-00f9-4753-8a04-7b782dad30a3');\n",
              "          const dataTable =\n",
              "            await google.colab.kernel.invokeFunction('convertToInteractive',\n",
              "                                                     [key], {});\n",
              "          if (!dataTable) return;\n",
              "\n",
              "          const docLinkHtml = 'Like what you see? Visit the ' +\n",
              "            '<a target=\"_blank\" href=https://colab.research.google.com/notebooks/data_table.ipynb>data table notebook</a>'\n",
              "            + ' to learn more about interactive tables.';\n",
              "          element.innerHTML = '';\n",
              "          dataTable['output_type'] = 'display_data';\n",
              "          await google.colab.output.renderOutput(dataTable, element);\n",
              "          const docLink = document.createElement('div');\n",
              "          docLink.innerHTML = docLinkHtml;\n",
              "          element.appendChild(docLink);\n",
              "        }\n",
              "      </script>\n",
              "    </div>\n",
              "  </div>\n",
              "  "
            ]
          },
          "metadata": {},
          "execution_count": 56
        }
      ]
    },
    {
      "cell_type": "code",
      "source": [
        "topic_counts = df['topic'].value_counts()\n",
        "topic_counts.plot.bar()"
      ],
      "metadata": {
        "colab": {
          "base_uri": "https://localhost:8080/",
          "height": 542
        },
        "id": "66rx7bwsLDHd",
        "outputId": "0f0b239d-09a9-4742-e3b5-1546f4338cb3"
      },
      "execution_count": 57,
      "outputs": [
        {
          "output_type": "display_data",
          "data": {
            "text/html": [
              "<html>\n",
              "<head><meta charset=\"utf-8\" /></head>\n",
              "<body>\n",
              "    <div>            <script src=\"https://cdnjs.cloudflare.com/ajax/libs/mathjax/2.7.5/MathJax.js?config=TeX-AMS-MML_SVG\"></script><script type=\"text/javascript\">if (window.MathJax) {MathJax.Hub.Config({SVG: {font: \"STIX-Web\"}});}</script>                <script type=\"text/javascript\">window.PlotlyConfig = {MathJaxConfig: 'local'};</script>\n",
              "        <script src=\"https://cdn.plot.ly/plotly-2.8.3.min.js\"></script>                <div id=\"0dc34b80-1e0a-4ae7-b34a-b027a458d0b6\" class=\"plotly-graph-div\" style=\"height:525px; width:100%;\"></div>            <script type=\"text/javascript\">                                    window.PLOTLYENV=window.PLOTLYENV || {};                                    if (document.getElementById(\"0dc34b80-1e0a-4ae7-b34a-b027a458d0b6\")) {                    Plotly.newPlot(                        \"0dc34b80-1e0a-4ae7-b34a-b027a458d0b6\",                        [{\"alignmentgroup\":\"True\",\"hovertemplate\":\"variable=topic<br>index=%{x}<br>value=%{y}<extra></extra>\",\"legendgroup\":\"topic\",\"marker\":{\"color\":\"#636efa\",\"pattern\":{\"shape\":\"\"}},\"name\":\"topic\",\"offsetgroup\":\"topic\",\"orientation\":\"v\",\"showlegend\":true,\"textposition\":\"auto\",\"x\":[\"football\",\"rugby\",\"cricket\",\"athletics\",\"tennis\"],\"xaxis\":\"x\",\"y\":[265,147,124,101,100],\"yaxis\":\"y\",\"type\":\"bar\"}],                        {\"template\":{\"data\":{\"bar\":[{\"error_x\":{\"color\":\"#2a3f5f\"},\"error_y\":{\"color\":\"#2a3f5f\"},\"marker\":{\"line\":{\"color\":\"#E5ECF6\",\"width\":0.5},\"pattern\":{\"fillmode\":\"overlay\",\"size\":10,\"solidity\":0.2}},\"type\":\"bar\"}],\"barpolar\":[{\"marker\":{\"line\":{\"color\":\"#E5ECF6\",\"width\":0.5},\"pattern\":{\"fillmode\":\"overlay\",\"size\":10,\"solidity\":0.2}},\"type\":\"barpolar\"}],\"carpet\":[{\"aaxis\":{\"endlinecolor\":\"#2a3f5f\",\"gridcolor\":\"white\",\"linecolor\":\"white\",\"minorgridcolor\":\"white\",\"startlinecolor\":\"#2a3f5f\"},\"baxis\":{\"endlinecolor\":\"#2a3f5f\",\"gridcolor\":\"white\",\"linecolor\":\"white\",\"minorgridcolor\":\"white\",\"startlinecolor\":\"#2a3f5f\"},\"type\":\"carpet\"}],\"choropleth\":[{\"colorbar\":{\"outlinewidth\":0,\"ticks\":\"\"},\"type\":\"choropleth\"}],\"contour\":[{\"colorbar\":{\"outlinewidth\":0,\"ticks\":\"\"},\"colorscale\":[[0.0,\"#0d0887\"],[0.1111111111111111,\"#46039f\"],[0.2222222222222222,\"#7201a8\"],[0.3333333333333333,\"#9c179e\"],[0.4444444444444444,\"#bd3786\"],[0.5555555555555556,\"#d8576b\"],[0.6666666666666666,\"#ed7953\"],[0.7777777777777778,\"#fb9f3a\"],[0.8888888888888888,\"#fdca26\"],[1.0,\"#f0f921\"]],\"type\":\"contour\"}],\"contourcarpet\":[{\"colorbar\":{\"outlinewidth\":0,\"ticks\":\"\"},\"type\":\"contourcarpet\"}],\"heatmap\":[{\"colorbar\":{\"outlinewidth\":0,\"ticks\":\"\"},\"colorscale\":[[0.0,\"#0d0887\"],[0.1111111111111111,\"#46039f\"],[0.2222222222222222,\"#7201a8\"],[0.3333333333333333,\"#9c179e\"],[0.4444444444444444,\"#bd3786\"],[0.5555555555555556,\"#d8576b\"],[0.6666666666666666,\"#ed7953\"],[0.7777777777777778,\"#fb9f3a\"],[0.8888888888888888,\"#fdca26\"],[1.0,\"#f0f921\"]],\"type\":\"heatmap\"}],\"heatmapgl\":[{\"colorbar\":{\"outlinewidth\":0,\"ticks\":\"\"},\"colorscale\":[[0.0,\"#0d0887\"],[0.1111111111111111,\"#46039f\"],[0.2222222222222222,\"#7201a8\"],[0.3333333333333333,\"#9c179e\"],[0.4444444444444444,\"#bd3786\"],[0.5555555555555556,\"#d8576b\"],[0.6666666666666666,\"#ed7953\"],[0.7777777777777778,\"#fb9f3a\"],[0.8888888888888888,\"#fdca26\"],[1.0,\"#f0f921\"]],\"type\":\"heatmapgl\"}],\"histogram\":[{\"marker\":{\"pattern\":{\"fillmode\":\"overlay\",\"size\":10,\"solidity\":0.2}},\"type\":\"histogram\"}],\"histogram2d\":[{\"colorbar\":{\"outlinewidth\":0,\"ticks\":\"\"},\"colorscale\":[[0.0,\"#0d0887\"],[0.1111111111111111,\"#46039f\"],[0.2222222222222222,\"#7201a8\"],[0.3333333333333333,\"#9c179e\"],[0.4444444444444444,\"#bd3786\"],[0.5555555555555556,\"#d8576b\"],[0.6666666666666666,\"#ed7953\"],[0.7777777777777778,\"#fb9f3a\"],[0.8888888888888888,\"#fdca26\"],[1.0,\"#f0f921\"]],\"type\":\"histogram2d\"}],\"histogram2dcontour\":[{\"colorbar\":{\"outlinewidth\":0,\"ticks\":\"\"},\"colorscale\":[[0.0,\"#0d0887\"],[0.1111111111111111,\"#46039f\"],[0.2222222222222222,\"#7201a8\"],[0.3333333333333333,\"#9c179e\"],[0.4444444444444444,\"#bd3786\"],[0.5555555555555556,\"#d8576b\"],[0.6666666666666666,\"#ed7953\"],[0.7777777777777778,\"#fb9f3a\"],[0.8888888888888888,\"#fdca26\"],[1.0,\"#f0f921\"]],\"type\":\"histogram2dcontour\"}],\"mesh3d\":[{\"colorbar\":{\"outlinewidth\":0,\"ticks\":\"\"},\"type\":\"mesh3d\"}],\"parcoords\":[{\"line\":{\"colorbar\":{\"outlinewidth\":0,\"ticks\":\"\"}},\"type\":\"parcoords\"}],\"pie\":[{\"automargin\":true,\"type\":\"pie\"}],\"scatter\":[{\"marker\":{\"colorbar\":{\"outlinewidth\":0,\"ticks\":\"\"}},\"type\":\"scatter\"}],\"scatter3d\":[{\"line\":{\"colorbar\":{\"outlinewidth\":0,\"ticks\":\"\"}},\"marker\":{\"colorbar\":{\"outlinewidth\":0,\"ticks\":\"\"}},\"type\":\"scatter3d\"}],\"scattercarpet\":[{\"marker\":{\"colorbar\":{\"outlinewidth\":0,\"ticks\":\"\"}},\"type\":\"scattercarpet\"}],\"scattergeo\":[{\"marker\":{\"colorbar\":{\"outlinewidth\":0,\"ticks\":\"\"}},\"type\":\"scattergeo\"}],\"scattergl\":[{\"marker\":{\"colorbar\":{\"outlinewidth\":0,\"ticks\":\"\"}},\"type\":\"scattergl\"}],\"scattermapbox\":[{\"marker\":{\"colorbar\":{\"outlinewidth\":0,\"ticks\":\"\"}},\"type\":\"scattermapbox\"}],\"scatterpolar\":[{\"marker\":{\"colorbar\":{\"outlinewidth\":0,\"ticks\":\"\"}},\"type\":\"scatterpolar\"}],\"scatterpolargl\":[{\"marker\":{\"colorbar\":{\"outlinewidth\":0,\"ticks\":\"\"}},\"type\":\"scatterpolargl\"}],\"scatterternary\":[{\"marker\":{\"colorbar\":{\"outlinewidth\":0,\"ticks\":\"\"}},\"type\":\"scatterternary\"}],\"surface\":[{\"colorbar\":{\"outlinewidth\":0,\"ticks\":\"\"},\"colorscale\":[[0.0,\"#0d0887\"],[0.1111111111111111,\"#46039f\"],[0.2222222222222222,\"#7201a8\"],[0.3333333333333333,\"#9c179e\"],[0.4444444444444444,\"#bd3786\"],[0.5555555555555556,\"#d8576b\"],[0.6666666666666666,\"#ed7953\"],[0.7777777777777778,\"#fb9f3a\"],[0.8888888888888888,\"#fdca26\"],[1.0,\"#f0f921\"]],\"type\":\"surface\"}],\"table\":[{\"cells\":{\"fill\":{\"color\":\"#EBF0F8\"},\"line\":{\"color\":\"white\"}},\"header\":{\"fill\":{\"color\":\"#C8D4E3\"},\"line\":{\"color\":\"white\"}},\"type\":\"table\"}]},\"layout\":{\"annotationdefaults\":{\"arrowcolor\":\"#2a3f5f\",\"arrowhead\":0,\"arrowwidth\":1},\"autotypenumbers\":\"strict\",\"coloraxis\":{\"colorbar\":{\"outlinewidth\":0,\"ticks\":\"\"}},\"colorscale\":{\"diverging\":[[0,\"#8e0152\"],[0.1,\"#c51b7d\"],[0.2,\"#de77ae\"],[0.3,\"#f1b6da\"],[0.4,\"#fde0ef\"],[0.5,\"#f7f7f7\"],[0.6,\"#e6f5d0\"],[0.7,\"#b8e186\"],[0.8,\"#7fbc41\"],[0.9,\"#4d9221\"],[1,\"#276419\"]],\"sequential\":[[0.0,\"#0d0887\"],[0.1111111111111111,\"#46039f\"],[0.2222222222222222,\"#7201a8\"],[0.3333333333333333,\"#9c179e\"],[0.4444444444444444,\"#bd3786\"],[0.5555555555555556,\"#d8576b\"],[0.6666666666666666,\"#ed7953\"],[0.7777777777777778,\"#fb9f3a\"],[0.8888888888888888,\"#fdca26\"],[1.0,\"#f0f921\"]],\"sequentialminus\":[[0.0,\"#0d0887\"],[0.1111111111111111,\"#46039f\"],[0.2222222222222222,\"#7201a8\"],[0.3333333333333333,\"#9c179e\"],[0.4444444444444444,\"#bd3786\"],[0.5555555555555556,\"#d8576b\"],[0.6666666666666666,\"#ed7953\"],[0.7777777777777778,\"#fb9f3a\"],[0.8888888888888888,\"#fdca26\"],[1.0,\"#f0f921\"]]},\"colorway\":[\"#636efa\",\"#EF553B\",\"#00cc96\",\"#ab63fa\",\"#FFA15A\",\"#19d3f3\",\"#FF6692\",\"#B6E880\",\"#FF97FF\",\"#FECB52\"],\"font\":{\"color\":\"#2a3f5f\"},\"geo\":{\"bgcolor\":\"white\",\"lakecolor\":\"white\",\"landcolor\":\"#E5ECF6\",\"showlakes\":true,\"showland\":true,\"subunitcolor\":\"white\"},\"hoverlabel\":{\"align\":\"left\"},\"hovermode\":\"closest\",\"mapbox\":{\"style\":\"light\"},\"paper_bgcolor\":\"white\",\"plot_bgcolor\":\"#E5ECF6\",\"polar\":{\"angularaxis\":{\"gridcolor\":\"white\",\"linecolor\":\"white\",\"ticks\":\"\"},\"bgcolor\":\"#E5ECF6\",\"radialaxis\":{\"gridcolor\":\"white\",\"linecolor\":\"white\",\"ticks\":\"\"}},\"scene\":{\"xaxis\":{\"backgroundcolor\":\"#E5ECF6\",\"gridcolor\":\"white\",\"gridwidth\":2,\"linecolor\":\"white\",\"showbackground\":true,\"ticks\":\"\",\"zerolinecolor\":\"white\"},\"yaxis\":{\"backgroundcolor\":\"#E5ECF6\",\"gridcolor\":\"white\",\"gridwidth\":2,\"linecolor\":\"white\",\"showbackground\":true,\"ticks\":\"\",\"zerolinecolor\":\"white\"},\"zaxis\":{\"backgroundcolor\":\"#E5ECF6\",\"gridcolor\":\"white\",\"gridwidth\":2,\"linecolor\":\"white\",\"showbackground\":true,\"ticks\":\"\",\"zerolinecolor\":\"white\"}},\"shapedefaults\":{\"line\":{\"color\":\"#2a3f5f\"}},\"ternary\":{\"aaxis\":{\"gridcolor\":\"white\",\"linecolor\":\"white\",\"ticks\":\"\"},\"baxis\":{\"gridcolor\":\"white\",\"linecolor\":\"white\",\"ticks\":\"\"},\"bgcolor\":\"#E5ECF6\",\"caxis\":{\"gridcolor\":\"white\",\"linecolor\":\"white\",\"ticks\":\"\"}},\"title\":{\"x\":0.05},\"xaxis\":{\"automargin\":true,\"gridcolor\":\"white\",\"linecolor\":\"white\",\"ticks\":\"\",\"title\":{\"standoff\":15},\"zerolinecolor\":\"white\",\"zerolinewidth\":2},\"yaxis\":{\"automargin\":true,\"gridcolor\":\"white\",\"linecolor\":\"white\",\"ticks\":\"\",\"title\":{\"standoff\":15},\"zerolinecolor\":\"white\",\"zerolinewidth\":2}}},\"xaxis\":{\"anchor\":\"y\",\"domain\":[0.0,1.0],\"title\":{\"text\":\"index\"}},\"yaxis\":{\"anchor\":\"x\",\"domain\":[0.0,1.0],\"title\":{\"text\":\"value\"}},\"legend\":{\"title\":{\"text\":\"variable\"},\"tracegroupgap\":0},\"margin\":{\"t\":60},\"barmode\":\"relative\"},                        {\"responsive\": true}                    ).then(function(){\n",
              "                            \n",
              "var gd = document.getElementById('0dc34b80-1e0a-4ae7-b34a-b027a458d0b6');\n",
              "var x = new MutationObserver(function (mutations, observer) {{\n",
              "        var display = window.getComputedStyle(gd).display;\n",
              "        if (!display || display === 'none') {{\n",
              "            console.log([gd, 'removed!']);\n",
              "            Plotly.purge(gd);\n",
              "            observer.disconnect();\n",
              "        }}\n",
              "}});\n",
              "\n",
              "// Listen for the removal of the full notebook cells\n",
              "var notebookContainer = gd.closest('#notebook-container');\n",
              "if (notebookContainer) {{\n",
              "    x.observe(notebookContainer, {childList: true});\n",
              "}}\n",
              "\n",
              "// Listen for the clearing of the current output cell\n",
              "var outputEl = gd.closest('.output');\n",
              "if (outputEl) {{\n",
              "    x.observe(outputEl, {childList: true});\n",
              "}}\n",
              "\n",
              "                        })                };                            </script>        </div>\n",
              "</body>\n",
              "</html>"
            ]
          },
          "metadata": {}
        }
      ]
    },
    {
      "cell_type": "markdown",
      "source": [
        "> Feel free to change `TOPIC` to any of `football`, `rugby`, `criket`, `athletics`, `tennis`, and rerun the cell."
      ],
      "metadata": {
        "id": "px-58gcJOnue"
      }
    },
    {
      "cell_type": "code",
      "source": [
        "TOPIC = 'tennis'\n",
        "filt = df['topic'] == TOPIC\n",
        "sample_text = df[filt].sample(1).iloc[0, 0]\n",
        "sample_text"
      ],
      "metadata": {
        "colab": {
          "base_uri": "https://localhost:8080/",
          "height": 261
        },
        "id": "N6-JYjQOJArc",
        "outputId": "f9c21e3c-793a-4aee-9933-63026d83f44b"
      },
      "execution_count": 58,
      "outputs": [
        {
          "output_type": "execute_result",
          "data": {
            "text/plain": [
              "'Federer claims Dubai crown\\n\\nWorld number one Roger Federer added the Dubai Championship trophy to his long list of successes - but not before he was given a test by Ivan Ljubicic.\\n\\nTop seed Federer looked to be on course for a easy victory when he thumped the eighth seed 6-1 in the first set. But Ljubicic, who beat Tim Henman in the last eight, dug deep to secure the second set after a tense tiebreak. Swiss star Federer was not about to lose his cool, though, turning on the style to win the deciding set 6-3. The match was a re-run of last week\\'s final at the World Indoor Tournament in Rotterdam, where Federer triumphed, but not until Ljubicic had stretched him for five sets. \"I really wanted to get off to a good start this time, and I did, and I could really play with confidence while he still looking for his rhythm,\" Federer said.\\n\\n\"That took me all the way through to 6-1 3-1 0-30 on his serve and I almost ran away with it. But he came back, and that was a good effort on his side.\" Ljubicic was at a loss to explain his poor showing in the first set. \"I didn\\'t start badly, but then suddenly I felt like my racket was loose and the balls were flying a little bit too much. And with Roger, if you relax for a second it just goes very quick,\" he said. \"After those first three games it was no match at all. I don\\'t know, it was really weird. I was playing really well the whole year, and then suddenly I found myself in trouble just to put the ball in the court.\" But despite his defeat, the world number 14 was pleased with his overall performance. \"I had a chance in the third, and for me it\\'s really positive to twice in two weeks have a chance against Roger to win the match. \"It\\'s an absolutely great boost to my confidence that I\\'m up there and belong with top-class players.\"\\n'"
            ],
            "application/vnd.google.colaboratory.intrinsic+json": {
              "type": "string"
            }
          },
          "metadata": {},
          "execution_count": 58
        }
      ]
    },
    {
      "cell_type": "markdown",
      "source": [
        "# Clean texts"
      ],
      "metadata": {
        "id": "P7uBL0zeOtWu"
      }
    },
    {
      "cell_type": "code",
      "source": [
        "df['clean_text'] = hero.clean(df['text'])\n",
        "df"
      ],
      "metadata": {
        "colab": {
          "base_uri": "https://localhost:8080/",
          "height": 641
        },
        "id": "h73hsNN_NJRn",
        "outputId": "a4f81eac-68d3-4043-9b65-f1df3fd6eabd"
      },
      "execution_count": 59,
      "outputs": [
        {
          "output_type": "execute_result",
          "data": {
            "text/plain": [
              "                                                  text      topic  \\\n",
              "0    Claxton hunting first major medal\\n\\nBritish h...  athletics   \n",
              "1    O'Sullivan could run in Worlds\\n\\nSonia O'Sull...  athletics   \n",
              "2    Greene sets sights on world title\\n\\nMaurice G...  athletics   \n",
              "3    IAAF launches fight against drugs\\n\\nThe IAAF ...  athletics   \n",
              "4    Dibaba breaks 5,000m world record\\n\\nEthiopia'...  athletics   \n",
              "..                                                 ...        ...   \n",
              "732  Agassi into second round in Dubai\\n\\nFourth se...     tennis   \n",
              "733  Mauresmo fights back to win title\\n\\nWorld num...     tennis   \n",
              "734  Federer wins title in Rotterdam\\n\\nWorld numbe...     tennis   \n",
              "735  GB players warned over security\\n\\nBritain's D...     tennis   \n",
              "736  Sharapova overcomes tough Molik\\n\\nWimbledon c...     tennis   \n",
              "\n",
              "                                            clean_text  \n",
              "0    claxton hunting first major medal british hurd...  \n",
              "1    sullivan could run worlds sonia sullivan indic...  \n",
              "2    greene sets sights world title maurice greene ...  \n",
              "3    iaaf launches fight drugs iaaf athletics world...  \n",
              "4    dibaba breaks 000m world record ethiopia tirun...  \n",
              "..                                                 ...  \n",
              "732  agassi second round dubai fourth seed andre ag...  \n",
              "733  mauresmo fights back win title world number tw...  \n",
              "734  federer wins title rotterdam world number one ...  \n",
              "735  gb players warned security britain davis cup p...  \n",
              "736  sharapova overcomes tough molik wimbledon cham...  \n",
              "\n",
              "[737 rows x 3 columns]"
            ],
            "text/html": [
              "\n",
              "  <div id=\"df-efeb9ac3-c5bb-4756-b010-ec25de1328bf\">\n",
              "    <div class=\"colab-df-container\">\n",
              "      <div>\n",
              "<style scoped>\n",
              "    .dataframe tbody tr th:only-of-type {\n",
              "        vertical-align: middle;\n",
              "    }\n",
              "\n",
              "    .dataframe tbody tr th {\n",
              "        vertical-align: top;\n",
              "    }\n",
              "\n",
              "    .dataframe thead th {\n",
              "        text-align: right;\n",
              "    }\n",
              "</style>\n",
              "<table border=\"1\" class=\"dataframe\">\n",
              "  <thead>\n",
              "    <tr style=\"text-align: right;\">\n",
              "      <th></th>\n",
              "      <th>text</th>\n",
              "      <th>topic</th>\n",
              "      <th>clean_text</th>\n",
              "    </tr>\n",
              "  </thead>\n",
              "  <tbody>\n",
              "    <tr>\n",
              "      <th>0</th>\n",
              "      <td>Claxton hunting first major medal\\n\\nBritish h...</td>\n",
              "      <td>athletics</td>\n",
              "      <td>claxton hunting first major medal british hurd...</td>\n",
              "    </tr>\n",
              "    <tr>\n",
              "      <th>1</th>\n",
              "      <td>O'Sullivan could run in Worlds\\n\\nSonia O'Sull...</td>\n",
              "      <td>athletics</td>\n",
              "      <td>sullivan could run worlds sonia sullivan indic...</td>\n",
              "    </tr>\n",
              "    <tr>\n",
              "      <th>2</th>\n",
              "      <td>Greene sets sights on world title\\n\\nMaurice G...</td>\n",
              "      <td>athletics</td>\n",
              "      <td>greene sets sights world title maurice greene ...</td>\n",
              "    </tr>\n",
              "    <tr>\n",
              "      <th>3</th>\n",
              "      <td>IAAF launches fight against drugs\\n\\nThe IAAF ...</td>\n",
              "      <td>athletics</td>\n",
              "      <td>iaaf launches fight drugs iaaf athletics world...</td>\n",
              "    </tr>\n",
              "    <tr>\n",
              "      <th>4</th>\n",
              "      <td>Dibaba breaks 5,000m world record\\n\\nEthiopia'...</td>\n",
              "      <td>athletics</td>\n",
              "      <td>dibaba breaks 000m world record ethiopia tirun...</td>\n",
              "    </tr>\n",
              "    <tr>\n",
              "      <th>...</th>\n",
              "      <td>...</td>\n",
              "      <td>...</td>\n",
              "      <td>...</td>\n",
              "    </tr>\n",
              "    <tr>\n",
              "      <th>732</th>\n",
              "      <td>Agassi into second round in Dubai\\n\\nFourth se...</td>\n",
              "      <td>tennis</td>\n",
              "      <td>agassi second round dubai fourth seed andre ag...</td>\n",
              "    </tr>\n",
              "    <tr>\n",
              "      <th>733</th>\n",
              "      <td>Mauresmo fights back to win title\\n\\nWorld num...</td>\n",
              "      <td>tennis</td>\n",
              "      <td>mauresmo fights back win title world number tw...</td>\n",
              "    </tr>\n",
              "    <tr>\n",
              "      <th>734</th>\n",
              "      <td>Federer wins title in Rotterdam\\n\\nWorld numbe...</td>\n",
              "      <td>tennis</td>\n",
              "      <td>federer wins title rotterdam world number one ...</td>\n",
              "    </tr>\n",
              "    <tr>\n",
              "      <th>735</th>\n",
              "      <td>GB players warned over security\\n\\nBritain's D...</td>\n",
              "      <td>tennis</td>\n",
              "      <td>gb players warned security britain davis cup p...</td>\n",
              "    </tr>\n",
              "    <tr>\n",
              "      <th>736</th>\n",
              "      <td>Sharapova overcomes tough Molik\\n\\nWimbledon c...</td>\n",
              "      <td>tennis</td>\n",
              "      <td>sharapova overcomes tough molik wimbledon cham...</td>\n",
              "    </tr>\n",
              "  </tbody>\n",
              "</table>\n",
              "<p>737 rows × 3 columns</p>\n",
              "</div>\n",
              "      <button class=\"colab-df-convert\" onclick=\"convertToInteractive('df-efeb9ac3-c5bb-4756-b010-ec25de1328bf')\"\n",
              "              title=\"Convert this dataframe to an interactive table.\"\n",
              "              style=\"display:none;\">\n",
              "        \n",
              "  <svg xmlns=\"http://www.w3.org/2000/svg\" height=\"24px\"viewBox=\"0 0 24 24\"\n",
              "       width=\"24px\">\n",
              "    <path d=\"M0 0h24v24H0V0z\" fill=\"none\"/>\n",
              "    <path d=\"M18.56 5.44l.94 2.06.94-2.06 2.06-.94-2.06-.94-.94-2.06-.94 2.06-2.06.94zm-11 1L8.5 8.5l.94-2.06 2.06-.94-2.06-.94L8.5 2.5l-.94 2.06-2.06.94zm10 10l.94 2.06.94-2.06 2.06-.94-2.06-.94-.94-2.06-.94 2.06-2.06.94z\"/><path d=\"M17.41 7.96l-1.37-1.37c-.4-.4-.92-.59-1.43-.59-.52 0-1.04.2-1.43.59L10.3 9.45l-7.72 7.72c-.78.78-.78 2.05 0 2.83L4 21.41c.39.39.9.59 1.41.59.51 0 1.02-.2 1.41-.59l7.78-7.78 2.81-2.81c.8-.78.8-2.07 0-2.86zM5.41 20L4 18.59l7.72-7.72 1.47 1.35L5.41 20z\"/>\n",
              "  </svg>\n",
              "      </button>\n",
              "      \n",
              "  <style>\n",
              "    .colab-df-container {\n",
              "      display:flex;\n",
              "      flex-wrap:wrap;\n",
              "      gap: 12px;\n",
              "    }\n",
              "\n",
              "    .colab-df-convert {\n",
              "      background-color: #E8F0FE;\n",
              "      border: none;\n",
              "      border-radius: 50%;\n",
              "      cursor: pointer;\n",
              "      display: none;\n",
              "      fill: #1967D2;\n",
              "      height: 32px;\n",
              "      padding: 0 0 0 0;\n",
              "      width: 32px;\n",
              "    }\n",
              "\n",
              "    .colab-df-convert:hover {\n",
              "      background-color: #E2EBFA;\n",
              "      box-shadow: 0px 1px 2px rgba(60, 64, 67, 0.3), 0px 1px 3px 1px rgba(60, 64, 67, 0.15);\n",
              "      fill: #174EA6;\n",
              "    }\n",
              "\n",
              "    [theme=dark] .colab-df-convert {\n",
              "      background-color: #3B4455;\n",
              "      fill: #D2E3FC;\n",
              "    }\n",
              "\n",
              "    [theme=dark] .colab-df-convert:hover {\n",
              "      background-color: #434B5C;\n",
              "      box-shadow: 0px 1px 3px 1px rgba(0, 0, 0, 0.15);\n",
              "      filter: drop-shadow(0px 1px 2px rgba(0, 0, 0, 0.3));\n",
              "      fill: #FFFFFF;\n",
              "    }\n",
              "  </style>\n",
              "\n",
              "      <script>\n",
              "        const buttonEl =\n",
              "          document.querySelector('#df-efeb9ac3-c5bb-4756-b010-ec25de1328bf button.colab-df-convert');\n",
              "        buttonEl.style.display =\n",
              "          google.colab.kernel.accessAllowed ? 'block' : 'none';\n",
              "\n",
              "        async function convertToInteractive(key) {\n",
              "          const element = document.querySelector('#df-efeb9ac3-c5bb-4756-b010-ec25de1328bf');\n",
              "          const dataTable =\n",
              "            await google.colab.kernel.invokeFunction('convertToInteractive',\n",
              "                                                     [key], {});\n",
              "          if (!dataTable) return;\n",
              "\n",
              "          const docLinkHtml = 'Like what you see? Visit the ' +\n",
              "            '<a target=\"_blank\" href=https://colab.research.google.com/notebooks/data_table.ipynb>data table notebook</a>'\n",
              "            + ' to learn more about interactive tables.';\n",
              "          element.innerHTML = '';\n",
              "          dataTable['output_type'] = 'display_data';\n",
              "          await google.colab.output.renderOutput(dataTable, element);\n",
              "          const docLink = document.createElement('div');\n",
              "          docLink.innerHTML = docLinkHtml;\n",
              "          element.appendChild(docLink);\n",
              "        }\n",
              "      </script>\n",
              "    </div>\n",
              "  </div>\n",
              "  "
            ]
          },
          "metadata": {},
          "execution_count": 59
        }
      ]
    },
    {
      "cell_type": "markdown",
      "source": [
        "> Feel free to change `TOPIC` to any of `football`, `rugby`, `criket`, `athletics`, `tennis`, and rerun the cell."
      ],
      "metadata": {
        "id": "KB0hJSKgPAo5"
      }
    },
    {
      "cell_type": "code",
      "source": [
        "TOPIC = 'tennis'\n",
        "filt = df['topic'] == TOPIC\n",
        "sample = df[filt].sample(1)\n",
        "raw_text = sample.iloc[0, 0]\n",
        "clean_text = sample.iloc[0, 2]\n",
        "print('Before cleaning >>>')\n",
        "print(raw_text)\n",
        "print('After cleaning >>>')\n",
        "print(clean_text)"
      ],
      "metadata": {
        "colab": {
          "base_uri": "https://localhost:8080/"
        },
        "id": "-ALu_K5kNZy8",
        "outputId": "b9121aa1-e4da-48fb-fb79-3940a98d2351"
      },
      "execution_count": 60,
      "outputs": [
        {
          "output_type": "stream",
          "name": "stdout",
          "text": [
            "Before cleaning >>>\n",
            "Roche 'turns down Federer offer'\n",
            "\n",
            "Australian tennis coach Tony Roche has turned down an approach from Roger Federer to be the world number one's new full-time coach, say reports.\n",
            "\n",
            "Melbourne's Herald-Sun said Roche, troubled by a hip complaint, did not want to travel full-time again. However, Roche is happy to work with the Swiss star on a casual basis and is helping him prepare for next month's defence of his Australian Open crown. Federer has been without a coach since splitting with Peter Lundgren in 2003. Roche, a former Davis Cup player for Australia, won the French Open, reached the Wimbledon and US Open finals and won five Wimbledon doubles titles with John Newcombe.\n",
            "\n",
            "He also coached former number one Ivan Lendl and Pat Rafter to Grand Slam victories and has worked with Australia's Lleyton Hewitt. Some reports claim Federer initially wanted Andre Agassi's Australian coach Darren Cahill, before Agassi confirmed he would play on in 2005. Federer was named Swiss sportsman of the year on Saturday, to add to the BBC overseas sportsman and European Sports Journalists Association awards he has already won.\n",
            "\n",
            "After cleaning >>>\n",
            "roche turns federer offer australian tennis coach tony roche turned approach roger federer world number one new full time coach say reports melbourne herald sun said roche troubled hip complaint want travel full time however roche happy work swiss star casual basis helping prepare next month defence australian open crown federer without coach since splitting peter lundgren roche former davis cup player australia french open reached wimbledon us open finals five wimbledon doubles titles john newcombe also coached former number one ivan lendl pat rafter grand slam victories worked australia lleyton hewitt reports claim federer initially wanted andre agassi australian coach darren cahill agassi confirmed would play federer named swiss sportsman year saturday add bbc overseas sportsman european sports journalists association awards already\n"
          ]
        }
      ]
    },
    {
      "cell_type": "markdown",
      "source": [
        "## Preprocessing operations"
      ],
      "metadata": {
        "id": "Hyvf8vl6ggf-"
      }
    },
    {
      "cell_type": "markdown",
      "source": [
        "- Lowercase all texts\n",
        "- Remove digits\n",
        "- Remove punctuations\n",
        "- Remove diacritics\n",
        "- Remove whitespaces\n",
        "- Remove stopwords\n"
      ],
      "metadata": {
        "id": "huLNcruwglWC"
      }
    },
    {
      "cell_type": "markdown",
      "source": [
        "- Examples of stopwords\n",
        "\n",
        "![](https://www.computerhope.com/jargon/s/stop-words.png)"
      ],
      "metadata": {
        "id": "GzKqzpy6hT5O"
      }
    },
    {
      "cell_type": "markdown",
      "source": [
        "# Top words per topic"
      ],
      "metadata": {
        "id": "_NS41dulQHXS"
      }
    },
    {
      "cell_type": "markdown",
      "source": [
        "> Feel free to change `NUM_TOP_WORDS` to other intergers."
      ],
      "metadata": {
        "id": "GaEvL5jJPDsU"
      }
    },
    {
      "cell_type": "code",
      "source": [
        "NUM_TOP_WORDS = 10\n",
        "df.groupby('topic')['clean_text'].apply(lambda x: hero.top_words(x)[:NUM_TOP_WORDS])"
      ],
      "metadata": {
        "colab": {
          "base_uri": "https://localhost:8080/"
        },
        "id": "kT2ekLlWP9aC",
        "outputId": "1d50dd8a-cc2a-47b7-f06d-9e128c9a6b39"
      },
      "execution_count": 61,
      "outputs": [
        {
          "output_type": "execute_result",
          "data": {
            "text/plain": [
              "topic               \n",
              "athletics  said         181\n",
              "           world        160\n",
              "           year         159\n",
              "           olympic      137\n",
              "           race         112\n",
              "           athens        99\n",
              "           champion      99\n",
              "           indoor        96\n",
              "           european      94\n",
              "           time          83\n",
              "cricket    test         232\n",
              "           england      225\n",
              "           first        219\n",
              "           cricket      216\n",
              "           one          212\n",
              "           said         203\n",
              "           day          203\n",
              "           series       169\n",
              "           australia    144\n",
              "           south        143\n",
              "football   said         475\n",
              "           chelsea      305\n",
              "           game         297\n",
              "           would        287\n",
              "           club         274\n",
              "           arsenal      247\n",
              "           united       246\n",
              "           players      240\n",
              "           league       237\n",
              "           time         220\n",
              "rugby      england      395\n",
              "           said         262\n",
              "           wales        247\n",
              "           ireland      229\n",
              "           rugby        223\n",
              "           game         204\n",
              "           six          199\n",
              "           half         181\n",
              "           nations      180\n",
              "           first        175\n",
              "tennis     said         217\n",
              "           open         164\n",
              "           first        149\n",
              "           set          140\n",
              "           year         131\n",
              "           roddick      125\n",
              "           win          116\n",
              "           final        105\n",
              "           match        103\n",
              "           seed         101\n",
              "Name: clean_text, dtype: int64"
            ]
          },
          "metadata": {},
          "execution_count": 61
        }
      ]
    },
    {
      "cell_type": "markdown",
      "source": [
        "# Vectorize texts"
      ],
      "metadata": {
        "id": "2tjELV8_O0bF"
      }
    },
    {
      "cell_type": "markdown",
      "source": [
        "![](https://miro.medium.com/max/1000/1*vWWmJlDykVRkjg9c38VbxQ.png)"
      ],
      "metadata": {
        "id": "8lCtSuGztpF7"
      }
    },
    {
      "cell_type": "markdown",
      "source": [
        "- To convert a document into number, we'll need the Document-Term Matrix (DTM).\n",
        "![](https://rlads2021.github.io/LabBook/assets/img/dtm.png)"
      ],
      "metadata": {
        "id": "U6k90GnNt1Xw"
      }
    },
    {
      "cell_type": "code",
      "source": [
        "df['tfidf'] = hero.tfidf(df['clean_text'])\n",
        "df"
      ],
      "metadata": {
        "colab": {
          "base_uri": "https://localhost:8080/",
          "height": 832
        },
        "id": "ix3oWOOjO5-n",
        "outputId": "0df8d1ff-f83d-43b9-cf8c-6455ac419f5f"
      },
      "execution_count": 62,
      "outputs": [
        {
          "output_type": "execute_result",
          "data": {
            "text/plain": [
              "                                                  text      topic  \\\n",
              "0    Claxton hunting first major medal\\n\\nBritish h...  athletics   \n",
              "1    O'Sullivan could run in Worlds\\n\\nSonia O'Sull...  athletics   \n",
              "2    Greene sets sights on world title\\n\\nMaurice G...  athletics   \n",
              "3    IAAF launches fight against drugs\\n\\nThe IAAF ...  athletics   \n",
              "4    Dibaba breaks 5,000m world record\\n\\nEthiopia'...  athletics   \n",
              "..                                                 ...        ...   \n",
              "732  Agassi into second round in Dubai\\n\\nFourth se...     tennis   \n",
              "733  Mauresmo fights back to win title\\n\\nWorld num...     tennis   \n",
              "734  Federer wins title in Rotterdam\\n\\nWorld numbe...     tennis   \n",
              "735  GB players warned over security\\n\\nBritain's D...     tennis   \n",
              "736  Sharapova overcomes tough Molik\\n\\nWimbledon c...     tennis   \n",
              "\n",
              "                                            clean_text  \\\n",
              "0    claxton hunting first major medal british hurd...   \n",
              "1    sullivan could run worlds sonia sullivan indic...   \n",
              "2    greene sets sights world title maurice greene ...   \n",
              "3    iaaf launches fight drugs iaaf athletics world...   \n",
              "4    dibaba breaks 000m world record ethiopia tirun...   \n",
              "..                                                 ...   \n",
              "732  agassi second round dubai fourth seed andre ag...   \n",
              "733  mauresmo fights back win title world number tw...   \n",
              "734  federer wins title rotterdam world number one ...   \n",
              "735  gb players warned security britain davis cup p...   \n",
              "736  sharapova overcomes tough molik wimbledon cham...   \n",
              "\n",
              "                                                 tfidf  \n",
              "0    [0.0, 0.0, 0.0, 0.0, 0.0, 0.0, 0.0, 0.0, 0.0, ...  \n",
              "1    [0.0, 0.0, 0.0, 0.0, 0.0, 0.0, 0.0, 0.0, 0.0, ...  \n",
              "2    [0.0, 0.0, 0.0, 0.0, 0.0, 0.0, 0.0533678197008...  \n",
              "3    [0.0, 0.0, 0.0, 0.0, 0.0, 0.0, 0.0, 0.0, 0.0, ...  \n",
              "4    [0.24734311047947527, 0.0, 0.0, 0.0, 0.0, 0.0,...  \n",
              "..                                                 ...  \n",
              "732  [0.0, 0.0, 0.0, 0.0, 0.0, 0.0, 0.0, 0.0, 0.0, ...  \n",
              "733  [0.0, 0.0, 0.0, 0.0, 0.0, 0.0, 0.0, 0.0, 0.0, ...  \n",
              "734  [0.0, 0.0, 0.0, 0.0, 0.0, 0.0, 0.0, 0.0, 0.0, ...  \n",
              "735  [0.0, 0.0, 0.0, 0.0, 0.0, 0.0, 0.0, 0.0, 0.0, ...  \n",
              "736  [0.0, 0.0, 0.0, 0.0, 0.0, 0.0, 0.0, 0.0, 0.0, ...  \n",
              "\n",
              "[737 rows x 4 columns]"
            ],
            "text/html": [
              "\n",
              "  <div id=\"df-4e83a09c-3a3c-48cd-b81a-7600cab05f91\">\n",
              "    <div class=\"colab-df-container\">\n",
              "      <div>\n",
              "<style scoped>\n",
              "    .dataframe tbody tr th:only-of-type {\n",
              "        vertical-align: middle;\n",
              "    }\n",
              "\n",
              "    .dataframe tbody tr th {\n",
              "        vertical-align: top;\n",
              "    }\n",
              "\n",
              "    .dataframe thead th {\n",
              "        text-align: right;\n",
              "    }\n",
              "</style>\n",
              "<table border=\"1\" class=\"dataframe\">\n",
              "  <thead>\n",
              "    <tr style=\"text-align: right;\">\n",
              "      <th></th>\n",
              "      <th>text</th>\n",
              "      <th>topic</th>\n",
              "      <th>clean_text</th>\n",
              "      <th>tfidf</th>\n",
              "    </tr>\n",
              "  </thead>\n",
              "  <tbody>\n",
              "    <tr>\n",
              "      <th>0</th>\n",
              "      <td>Claxton hunting first major medal\\n\\nBritish h...</td>\n",
              "      <td>athletics</td>\n",
              "      <td>claxton hunting first major medal british hurd...</td>\n",
              "      <td>[0.0, 0.0, 0.0, 0.0, 0.0, 0.0, 0.0, 0.0, 0.0, ...</td>\n",
              "    </tr>\n",
              "    <tr>\n",
              "      <th>1</th>\n",
              "      <td>O'Sullivan could run in Worlds\\n\\nSonia O'Sull...</td>\n",
              "      <td>athletics</td>\n",
              "      <td>sullivan could run worlds sonia sullivan indic...</td>\n",
              "      <td>[0.0, 0.0, 0.0, 0.0, 0.0, 0.0, 0.0, 0.0, 0.0, ...</td>\n",
              "    </tr>\n",
              "    <tr>\n",
              "      <th>2</th>\n",
              "      <td>Greene sets sights on world title\\n\\nMaurice G...</td>\n",
              "      <td>athletics</td>\n",
              "      <td>greene sets sights world title maurice greene ...</td>\n",
              "      <td>[0.0, 0.0, 0.0, 0.0, 0.0, 0.0, 0.0533678197008...</td>\n",
              "    </tr>\n",
              "    <tr>\n",
              "      <th>3</th>\n",
              "      <td>IAAF launches fight against drugs\\n\\nThe IAAF ...</td>\n",
              "      <td>athletics</td>\n",
              "      <td>iaaf launches fight drugs iaaf athletics world...</td>\n",
              "      <td>[0.0, 0.0, 0.0, 0.0, 0.0, 0.0, 0.0, 0.0, 0.0, ...</td>\n",
              "    </tr>\n",
              "    <tr>\n",
              "      <th>4</th>\n",
              "      <td>Dibaba breaks 5,000m world record\\n\\nEthiopia'...</td>\n",
              "      <td>athletics</td>\n",
              "      <td>dibaba breaks 000m world record ethiopia tirun...</td>\n",
              "      <td>[0.24734311047947527, 0.0, 0.0, 0.0, 0.0, 0.0,...</td>\n",
              "    </tr>\n",
              "    <tr>\n",
              "      <th>...</th>\n",
              "      <td>...</td>\n",
              "      <td>...</td>\n",
              "      <td>...</td>\n",
              "      <td>...</td>\n",
              "    </tr>\n",
              "    <tr>\n",
              "      <th>732</th>\n",
              "      <td>Agassi into second round in Dubai\\n\\nFourth se...</td>\n",
              "      <td>tennis</td>\n",
              "      <td>agassi second round dubai fourth seed andre ag...</td>\n",
              "      <td>[0.0, 0.0, 0.0, 0.0, 0.0, 0.0, 0.0, 0.0, 0.0, ...</td>\n",
              "    </tr>\n",
              "    <tr>\n",
              "      <th>733</th>\n",
              "      <td>Mauresmo fights back to win title\\n\\nWorld num...</td>\n",
              "      <td>tennis</td>\n",
              "      <td>mauresmo fights back win title world number tw...</td>\n",
              "      <td>[0.0, 0.0, 0.0, 0.0, 0.0, 0.0, 0.0, 0.0, 0.0, ...</td>\n",
              "    </tr>\n",
              "    <tr>\n",
              "      <th>734</th>\n",
              "      <td>Federer wins title in Rotterdam\\n\\nWorld numbe...</td>\n",
              "      <td>tennis</td>\n",
              "      <td>federer wins title rotterdam world number one ...</td>\n",
              "      <td>[0.0, 0.0, 0.0, 0.0, 0.0, 0.0, 0.0, 0.0, 0.0, ...</td>\n",
              "    </tr>\n",
              "    <tr>\n",
              "      <th>735</th>\n",
              "      <td>GB players warned over security\\n\\nBritain's D...</td>\n",
              "      <td>tennis</td>\n",
              "      <td>gb players warned security britain davis cup p...</td>\n",
              "      <td>[0.0, 0.0, 0.0, 0.0, 0.0, 0.0, 0.0, 0.0, 0.0, ...</td>\n",
              "    </tr>\n",
              "    <tr>\n",
              "      <th>736</th>\n",
              "      <td>Sharapova overcomes tough Molik\\n\\nWimbledon c...</td>\n",
              "      <td>tennis</td>\n",
              "      <td>sharapova overcomes tough molik wimbledon cham...</td>\n",
              "      <td>[0.0, 0.0, 0.0, 0.0, 0.0, 0.0, 0.0, 0.0, 0.0, ...</td>\n",
              "    </tr>\n",
              "  </tbody>\n",
              "</table>\n",
              "<p>737 rows × 4 columns</p>\n",
              "</div>\n",
              "      <button class=\"colab-df-convert\" onclick=\"convertToInteractive('df-4e83a09c-3a3c-48cd-b81a-7600cab05f91')\"\n",
              "              title=\"Convert this dataframe to an interactive table.\"\n",
              "              style=\"display:none;\">\n",
              "        \n",
              "  <svg xmlns=\"http://www.w3.org/2000/svg\" height=\"24px\"viewBox=\"0 0 24 24\"\n",
              "       width=\"24px\">\n",
              "    <path d=\"M0 0h24v24H0V0z\" fill=\"none\"/>\n",
              "    <path d=\"M18.56 5.44l.94 2.06.94-2.06 2.06-.94-2.06-.94-.94-2.06-.94 2.06-2.06.94zm-11 1L8.5 8.5l.94-2.06 2.06-.94-2.06-.94L8.5 2.5l-.94 2.06-2.06.94zm10 10l.94 2.06.94-2.06 2.06-.94-2.06-.94-.94-2.06-.94 2.06-2.06.94z\"/><path d=\"M17.41 7.96l-1.37-1.37c-.4-.4-.92-.59-1.43-.59-.52 0-1.04.2-1.43.59L10.3 9.45l-7.72 7.72c-.78.78-.78 2.05 0 2.83L4 21.41c.39.39.9.59 1.41.59.51 0 1.02-.2 1.41-.59l7.78-7.78 2.81-2.81c.8-.78.8-2.07 0-2.86zM5.41 20L4 18.59l7.72-7.72 1.47 1.35L5.41 20z\"/>\n",
              "  </svg>\n",
              "      </button>\n",
              "      \n",
              "  <style>\n",
              "    .colab-df-container {\n",
              "      display:flex;\n",
              "      flex-wrap:wrap;\n",
              "      gap: 12px;\n",
              "    }\n",
              "\n",
              "    .colab-df-convert {\n",
              "      background-color: #E8F0FE;\n",
              "      border: none;\n",
              "      border-radius: 50%;\n",
              "      cursor: pointer;\n",
              "      display: none;\n",
              "      fill: #1967D2;\n",
              "      height: 32px;\n",
              "      padding: 0 0 0 0;\n",
              "      width: 32px;\n",
              "    }\n",
              "\n",
              "    .colab-df-convert:hover {\n",
              "      background-color: #E2EBFA;\n",
              "      box-shadow: 0px 1px 2px rgba(60, 64, 67, 0.3), 0px 1px 3px 1px rgba(60, 64, 67, 0.15);\n",
              "      fill: #174EA6;\n",
              "    }\n",
              "\n",
              "    [theme=dark] .colab-df-convert {\n",
              "      background-color: #3B4455;\n",
              "      fill: #D2E3FC;\n",
              "    }\n",
              "\n",
              "    [theme=dark] .colab-df-convert:hover {\n",
              "      background-color: #434B5C;\n",
              "      box-shadow: 0px 1px 3px 1px rgba(0, 0, 0, 0.15);\n",
              "      filter: drop-shadow(0px 1px 2px rgba(0, 0, 0, 0.3));\n",
              "      fill: #FFFFFF;\n",
              "    }\n",
              "  </style>\n",
              "\n",
              "      <script>\n",
              "        const buttonEl =\n",
              "          document.querySelector('#df-4e83a09c-3a3c-48cd-b81a-7600cab05f91 button.colab-df-convert');\n",
              "        buttonEl.style.display =\n",
              "          google.colab.kernel.accessAllowed ? 'block' : 'none';\n",
              "\n",
              "        async function convertToInteractive(key) {\n",
              "          const element = document.querySelector('#df-4e83a09c-3a3c-48cd-b81a-7600cab05f91');\n",
              "          const dataTable =\n",
              "            await google.colab.kernel.invokeFunction('convertToInteractive',\n",
              "                                                     [key], {});\n",
              "          if (!dataTable) return;\n",
              "\n",
              "          const docLinkHtml = 'Like what you see? Visit the ' +\n",
              "            '<a target=\"_blank\" href=https://colab.research.google.com/notebooks/data_table.ipynb>data table notebook</a>'\n",
              "            + ' to learn more about interactive tables.';\n",
              "          element.innerHTML = '';\n",
              "          dataTable['output_type'] = 'display_data';\n",
              "          await google.colab.output.renderOutput(dataTable, element);\n",
              "          const docLink = document.createElement('div');\n",
              "          docLink.innerHTML = docLinkHtml;\n",
              "          element.appendChild(docLink);\n",
              "        }\n",
              "      </script>\n",
              "    </div>\n",
              "  </div>\n",
              "  "
            ]
          },
          "metadata": {},
          "execution_count": 62
        }
      ]
    },
    {
      "cell_type": "markdown",
      "source": [
        "# Train a clustering model"
      ],
      "metadata": {
        "id": "I7CEGISyvlZW"
      }
    },
    {
      "cell_type": "markdown",
      "source": [
        "K-Means is one of the most popular \"clustering\" algorithms. K-means stores $k$ centroids that it uses to define clusters. A point is considered to be in a particular cluster if it is closer to that cluster's centroid than any other centroid.\n",
        "\n",
        "K-Means finds the best centroids by alternating between \n",
        "\n",
        "1. assigning data points to clusters based on the current centroids \n",
        "2. chosing centroids (points which are the center of a cluster) based on the current assignment of data points to clusters.\n",
        "\n",
        "till convergence..\n",
        "\n",
        "![](https://i.imgur.com/42n9uvR.png)"
      ],
      "metadata": {
        "id": "o3Qw16oLxTnr"
      }
    },
    {
      "cell_type": "code",
      "source": [
        "from sklearn.cluster import KMeans"
      ],
      "metadata": {
        "id": "juiJWCr6vnrc"
      },
      "execution_count": 63,
      "outputs": []
    },
    {
      "cell_type": "code",
      "source": [
        "NUM_CLUSTERS = 5\n",
        "doc_term_matrix = df['tfidf'].to_list()\n",
        "km = KMeans(\n",
        "    n_clusters=NUM_CLUSTERS, \n",
        "    max_iter=10000, \n",
        "    random_state=123,\n",
        "    ).fit(doc_term_matrix)"
      ],
      "metadata": {
        "id": "6bC41OhUvo5e"
      },
      "execution_count": 64,
      "outputs": []
    },
    {
      "cell_type": "code",
      "source": [
        "from collections import Counter"
      ],
      "metadata": {
        "id": "lXjSY4Q7cH_G"
      },
      "execution_count": null,
      "outputs": []
    },
    {
      "cell_type": "code",
      "source": [
        "Counter(km.labels_)"
      ],
      "metadata": {
        "colab": {
          "base_uri": "https://localhost:8080/"
        },
        "id": "9YUaglmbw0LS",
        "outputId": "9a817caf-1bf4-4839-a0b7-b554c2c68447"
      },
      "execution_count": 65,
      "outputs": [
        {
          "output_type": "execute_result",
          "data": {
            "text/plain": [
              "Counter({0: 97, 1: 114, 2: 279, 3: 152, 4: 95})"
            ]
          },
          "metadata": {},
          "execution_count": 65
        }
      ]
    },
    {
      "cell_type": "code",
      "source": [
        "df['cluster'] = km.labels_\n",
        "df"
      ],
      "metadata": {
        "colab": {
          "base_uri": "https://localhost:8080/",
          "height": 936
        },
        "id": "caxFTkYhw3a8",
        "outputId": "a31673f2-3942-4201-feb4-8a6de864f2cb"
      },
      "execution_count": 66,
      "outputs": [
        {
          "output_type": "execute_result",
          "data": {
            "text/plain": [
              "                                                  text      topic  \\\n",
              "0    Claxton hunting first major medal\\n\\nBritish h...  athletics   \n",
              "1    O'Sullivan could run in Worlds\\n\\nSonia O'Sull...  athletics   \n",
              "2    Greene sets sights on world title\\n\\nMaurice G...  athletics   \n",
              "3    IAAF launches fight against drugs\\n\\nThe IAAF ...  athletics   \n",
              "4    Dibaba breaks 5,000m world record\\n\\nEthiopia'...  athletics   \n",
              "..                                                 ...        ...   \n",
              "732  Agassi into second round in Dubai\\n\\nFourth se...     tennis   \n",
              "733  Mauresmo fights back to win title\\n\\nWorld num...     tennis   \n",
              "734  Federer wins title in Rotterdam\\n\\nWorld numbe...     tennis   \n",
              "735  GB players warned over security\\n\\nBritain's D...     tennis   \n",
              "736  Sharapova overcomes tough Molik\\n\\nWimbledon c...     tennis   \n",
              "\n",
              "                                            clean_text  \\\n",
              "0    claxton hunting first major medal british hurd...   \n",
              "1    sullivan could run worlds sonia sullivan indic...   \n",
              "2    greene sets sights world title maurice greene ...   \n",
              "3    iaaf launches fight drugs iaaf athletics world...   \n",
              "4    dibaba breaks 000m world record ethiopia tirun...   \n",
              "..                                                 ...   \n",
              "732  agassi second round dubai fourth seed andre ag...   \n",
              "733  mauresmo fights back win title world number tw...   \n",
              "734  federer wins title rotterdam world number one ...   \n",
              "735  gb players warned security britain davis cup p...   \n",
              "736  sharapova overcomes tough molik wimbledon cham...   \n",
              "\n",
              "                                                 tfidf  cluster  \n",
              "0    [0.0, 0.0, 0.0, 0.0, 0.0, 0.0, 0.0, 0.0, 0.0, ...        0  \n",
              "1    [0.0, 0.0, 0.0, 0.0, 0.0, 0.0, 0.0, 0.0, 0.0, ...        3  \n",
              "2    [0.0, 0.0, 0.0, 0.0, 0.0, 0.0, 0.0533678197008...        0  \n",
              "3    [0.0, 0.0, 0.0, 0.0, 0.0, 0.0, 0.0, 0.0, 0.0, ...        0  \n",
              "4    [0.24734311047947527, 0.0, 0.0, 0.0, 0.0, 0.0,...        0  \n",
              "..                                                 ...      ...  \n",
              "732  [0.0, 0.0, 0.0, 0.0, 0.0, 0.0, 0.0, 0.0, 0.0, ...        4  \n",
              "733  [0.0, 0.0, 0.0, 0.0, 0.0, 0.0, 0.0, 0.0, 0.0, ...        4  \n",
              "734  [0.0, 0.0, 0.0, 0.0, 0.0, 0.0, 0.0, 0.0, 0.0, ...        4  \n",
              "735  [0.0, 0.0, 0.0, 0.0, 0.0, 0.0, 0.0, 0.0, 0.0, ...        2  \n",
              "736  [0.0, 0.0, 0.0, 0.0, 0.0, 0.0, 0.0, 0.0, 0.0, ...        4  \n",
              "\n",
              "[737 rows x 5 columns]"
            ],
            "text/html": [
              "\n",
              "  <div id=\"df-8900e562-b622-403f-ae5c-ea02637bd1bd\">\n",
              "    <div class=\"colab-df-container\">\n",
              "      <div>\n",
              "<style scoped>\n",
              "    .dataframe tbody tr th:only-of-type {\n",
              "        vertical-align: middle;\n",
              "    }\n",
              "\n",
              "    .dataframe tbody tr th {\n",
              "        vertical-align: top;\n",
              "    }\n",
              "\n",
              "    .dataframe thead th {\n",
              "        text-align: right;\n",
              "    }\n",
              "</style>\n",
              "<table border=\"1\" class=\"dataframe\">\n",
              "  <thead>\n",
              "    <tr style=\"text-align: right;\">\n",
              "      <th></th>\n",
              "      <th>text</th>\n",
              "      <th>topic</th>\n",
              "      <th>clean_text</th>\n",
              "      <th>tfidf</th>\n",
              "      <th>cluster</th>\n",
              "    </tr>\n",
              "  </thead>\n",
              "  <tbody>\n",
              "    <tr>\n",
              "      <th>0</th>\n",
              "      <td>Claxton hunting first major medal\\n\\nBritish h...</td>\n",
              "      <td>athletics</td>\n",
              "      <td>claxton hunting first major medal british hurd...</td>\n",
              "      <td>[0.0, 0.0, 0.0, 0.0, 0.0, 0.0, 0.0, 0.0, 0.0, ...</td>\n",
              "      <td>0</td>\n",
              "    </tr>\n",
              "    <tr>\n",
              "      <th>1</th>\n",
              "      <td>O'Sullivan could run in Worlds\\n\\nSonia O'Sull...</td>\n",
              "      <td>athletics</td>\n",
              "      <td>sullivan could run worlds sonia sullivan indic...</td>\n",
              "      <td>[0.0, 0.0, 0.0, 0.0, 0.0, 0.0, 0.0, 0.0, 0.0, ...</td>\n",
              "      <td>3</td>\n",
              "    </tr>\n",
              "    <tr>\n",
              "      <th>2</th>\n",
              "      <td>Greene sets sights on world title\\n\\nMaurice G...</td>\n",
              "      <td>athletics</td>\n",
              "      <td>greene sets sights world title maurice greene ...</td>\n",
              "      <td>[0.0, 0.0, 0.0, 0.0, 0.0, 0.0, 0.0533678197008...</td>\n",
              "      <td>0</td>\n",
              "    </tr>\n",
              "    <tr>\n",
              "      <th>3</th>\n",
              "      <td>IAAF launches fight against drugs\\n\\nThe IAAF ...</td>\n",
              "      <td>athletics</td>\n",
              "      <td>iaaf launches fight drugs iaaf athletics world...</td>\n",
              "      <td>[0.0, 0.0, 0.0, 0.0, 0.0, 0.0, 0.0, 0.0, 0.0, ...</td>\n",
              "      <td>0</td>\n",
              "    </tr>\n",
              "    <tr>\n",
              "      <th>4</th>\n",
              "      <td>Dibaba breaks 5,000m world record\\n\\nEthiopia'...</td>\n",
              "      <td>athletics</td>\n",
              "      <td>dibaba breaks 000m world record ethiopia tirun...</td>\n",
              "      <td>[0.24734311047947527, 0.0, 0.0, 0.0, 0.0, 0.0,...</td>\n",
              "      <td>0</td>\n",
              "    </tr>\n",
              "    <tr>\n",
              "      <th>...</th>\n",
              "      <td>...</td>\n",
              "      <td>...</td>\n",
              "      <td>...</td>\n",
              "      <td>...</td>\n",
              "      <td>...</td>\n",
              "    </tr>\n",
              "    <tr>\n",
              "      <th>732</th>\n",
              "      <td>Agassi into second round in Dubai\\n\\nFourth se...</td>\n",
              "      <td>tennis</td>\n",
              "      <td>agassi second round dubai fourth seed andre ag...</td>\n",
              "      <td>[0.0, 0.0, 0.0, 0.0, 0.0, 0.0, 0.0, 0.0, 0.0, ...</td>\n",
              "      <td>4</td>\n",
              "    </tr>\n",
              "    <tr>\n",
              "      <th>733</th>\n",
              "      <td>Mauresmo fights back to win title\\n\\nWorld num...</td>\n",
              "      <td>tennis</td>\n",
              "      <td>mauresmo fights back win title world number tw...</td>\n",
              "      <td>[0.0, 0.0, 0.0, 0.0, 0.0, 0.0, 0.0, 0.0, 0.0, ...</td>\n",
              "      <td>4</td>\n",
              "    </tr>\n",
              "    <tr>\n",
              "      <th>734</th>\n",
              "      <td>Federer wins title in Rotterdam\\n\\nWorld numbe...</td>\n",
              "      <td>tennis</td>\n",
              "      <td>federer wins title rotterdam world number one ...</td>\n",
              "      <td>[0.0, 0.0, 0.0, 0.0, 0.0, 0.0, 0.0, 0.0, 0.0, ...</td>\n",
              "      <td>4</td>\n",
              "    </tr>\n",
              "    <tr>\n",
              "      <th>735</th>\n",
              "      <td>GB players warned over security\\n\\nBritain's D...</td>\n",
              "      <td>tennis</td>\n",
              "      <td>gb players warned security britain davis cup p...</td>\n",
              "      <td>[0.0, 0.0, 0.0, 0.0, 0.0, 0.0, 0.0, 0.0, 0.0, ...</td>\n",
              "      <td>2</td>\n",
              "    </tr>\n",
              "    <tr>\n",
              "      <th>736</th>\n",
              "      <td>Sharapova overcomes tough Molik\\n\\nWimbledon c...</td>\n",
              "      <td>tennis</td>\n",
              "      <td>sharapova overcomes tough molik wimbledon cham...</td>\n",
              "      <td>[0.0, 0.0, 0.0, 0.0, 0.0, 0.0, 0.0, 0.0, 0.0, ...</td>\n",
              "      <td>4</td>\n",
              "    </tr>\n",
              "  </tbody>\n",
              "</table>\n",
              "<p>737 rows × 5 columns</p>\n",
              "</div>\n",
              "      <button class=\"colab-df-convert\" onclick=\"convertToInteractive('df-8900e562-b622-403f-ae5c-ea02637bd1bd')\"\n",
              "              title=\"Convert this dataframe to an interactive table.\"\n",
              "              style=\"display:none;\">\n",
              "        \n",
              "  <svg xmlns=\"http://www.w3.org/2000/svg\" height=\"24px\"viewBox=\"0 0 24 24\"\n",
              "       width=\"24px\">\n",
              "    <path d=\"M0 0h24v24H0V0z\" fill=\"none\"/>\n",
              "    <path d=\"M18.56 5.44l.94 2.06.94-2.06 2.06-.94-2.06-.94-.94-2.06-.94 2.06-2.06.94zm-11 1L8.5 8.5l.94-2.06 2.06-.94-2.06-.94L8.5 2.5l-.94 2.06-2.06.94zm10 10l.94 2.06.94-2.06 2.06-.94-2.06-.94-.94-2.06-.94 2.06-2.06.94z\"/><path d=\"M17.41 7.96l-1.37-1.37c-.4-.4-.92-.59-1.43-.59-.52 0-1.04.2-1.43.59L10.3 9.45l-7.72 7.72c-.78.78-.78 2.05 0 2.83L4 21.41c.39.39.9.59 1.41.59.51 0 1.02-.2 1.41-.59l7.78-7.78 2.81-2.81c.8-.78.8-2.07 0-2.86zM5.41 20L4 18.59l7.72-7.72 1.47 1.35L5.41 20z\"/>\n",
              "  </svg>\n",
              "      </button>\n",
              "      \n",
              "  <style>\n",
              "    .colab-df-container {\n",
              "      display:flex;\n",
              "      flex-wrap:wrap;\n",
              "      gap: 12px;\n",
              "    }\n",
              "\n",
              "    .colab-df-convert {\n",
              "      background-color: #E8F0FE;\n",
              "      border: none;\n",
              "      border-radius: 50%;\n",
              "      cursor: pointer;\n",
              "      display: none;\n",
              "      fill: #1967D2;\n",
              "      height: 32px;\n",
              "      padding: 0 0 0 0;\n",
              "      width: 32px;\n",
              "    }\n",
              "\n",
              "    .colab-df-convert:hover {\n",
              "      background-color: #E2EBFA;\n",
              "      box-shadow: 0px 1px 2px rgba(60, 64, 67, 0.3), 0px 1px 3px 1px rgba(60, 64, 67, 0.15);\n",
              "      fill: #174EA6;\n",
              "    }\n",
              "\n",
              "    [theme=dark] .colab-df-convert {\n",
              "      background-color: #3B4455;\n",
              "      fill: #D2E3FC;\n",
              "    }\n",
              "\n",
              "    [theme=dark] .colab-df-convert:hover {\n",
              "      background-color: #434B5C;\n",
              "      box-shadow: 0px 1px 3px 1px rgba(0, 0, 0, 0.15);\n",
              "      filter: drop-shadow(0px 1px 2px rgba(0, 0, 0, 0.3));\n",
              "      fill: #FFFFFF;\n",
              "    }\n",
              "  </style>\n",
              "\n",
              "      <script>\n",
              "        const buttonEl =\n",
              "          document.querySelector('#df-8900e562-b622-403f-ae5c-ea02637bd1bd button.colab-df-convert');\n",
              "        buttonEl.style.display =\n",
              "          google.colab.kernel.accessAllowed ? 'block' : 'none';\n",
              "\n",
              "        async function convertToInteractive(key) {\n",
              "          const element = document.querySelector('#df-8900e562-b622-403f-ae5c-ea02637bd1bd');\n",
              "          const dataTable =\n",
              "            await google.colab.kernel.invokeFunction('convertToInteractive',\n",
              "                                                     [key], {});\n",
              "          if (!dataTable) return;\n",
              "\n",
              "          const docLinkHtml = 'Like what you see? Visit the ' +\n",
              "            '<a target=\"_blank\" href=https://colab.research.google.com/notebooks/data_table.ipynb>data table notebook</a>'\n",
              "            + ' to learn more about interactive tables.';\n",
              "          element.innerHTML = '';\n",
              "          dataTable['output_type'] = 'display_data';\n",
              "          await google.colab.output.renderOutput(dataTable, element);\n",
              "          const docLink = document.createElement('div');\n",
              "          docLink.innerHTML = docLinkHtml;\n",
              "          element.appendChild(docLink);\n",
              "        }\n",
              "      </script>\n",
              "    </div>\n",
              "  </div>\n",
              "  "
            ]
          },
          "metadata": {},
          "execution_count": 66
        }
      ]
    },
    {
      "cell_type": "markdown",
      "source": [
        "# Reduce dimensions"
      ],
      "metadata": {
        "id": "ifSlcAAkPCkW"
      }
    },
    {
      "cell_type": "markdown",
      "source": [
        "- **Principal Component Analysis** (PCA) is a common technique for reducing dimensions.\n",
        "\n",
        "![](https://miro.medium.com/max/1400/1*mgncZaKaVx9U6OCQu_m8Bg.jpeg)"
      ],
      "metadata": {
        "id": "FXQ8X--RvZFF"
      }
    },
    {
      "cell_type": "code",
      "source": [
        "df['pca'] = hero.pca(df['tfidf'])\n",
        "df"
      ],
      "metadata": {
        "colab": {
          "base_uri": "https://localhost:8080/",
          "height": 1000
        },
        "id": "tCb9iMOUMQ-K",
        "outputId": "33e8c100-29ce-4309-e7c6-86d8138d58ea"
      },
      "execution_count": 67,
      "outputs": [
        {
          "output_type": "execute_result",
          "data": {
            "text/plain": [
              "                                                  text      topic  \\\n",
              "0    Claxton hunting first major medal\\n\\nBritish h...  athletics   \n",
              "1    O'Sullivan could run in Worlds\\n\\nSonia O'Sull...  athletics   \n",
              "2    Greene sets sights on world title\\n\\nMaurice G...  athletics   \n",
              "3    IAAF launches fight against drugs\\n\\nThe IAAF ...  athletics   \n",
              "4    Dibaba breaks 5,000m world record\\n\\nEthiopia'...  athletics   \n",
              "..                                                 ...        ...   \n",
              "732  Agassi into second round in Dubai\\n\\nFourth se...     tennis   \n",
              "733  Mauresmo fights back to win title\\n\\nWorld num...     tennis   \n",
              "734  Federer wins title in Rotterdam\\n\\nWorld numbe...     tennis   \n",
              "735  GB players warned over security\\n\\nBritain's D...     tennis   \n",
              "736  Sharapova overcomes tough Molik\\n\\nWimbledon c...     tennis   \n",
              "\n",
              "                                            clean_text  \\\n",
              "0    claxton hunting first major medal british hurd...   \n",
              "1    sullivan could run worlds sonia sullivan indic...   \n",
              "2    greene sets sights world title maurice greene ...   \n",
              "3    iaaf launches fight drugs iaaf athletics world...   \n",
              "4    dibaba breaks 000m world record ethiopia tirun...   \n",
              "..                                                 ...   \n",
              "732  agassi second round dubai fourth seed andre ag...   \n",
              "733  mauresmo fights back win title world number tw...   \n",
              "734  federer wins title rotterdam world number one ...   \n",
              "735  gb players warned security britain davis cup p...   \n",
              "736  sharapova overcomes tough molik wimbledon cham...   \n",
              "\n",
              "                                                 tfidf  cluster  \\\n",
              "0    [0.0, 0.0, 0.0, 0.0, 0.0, 0.0, 0.0, 0.0, 0.0, ...        0   \n",
              "1    [0.0, 0.0, 0.0, 0.0, 0.0, 0.0, 0.0, 0.0, 0.0, ...        3   \n",
              "2    [0.0, 0.0, 0.0, 0.0, 0.0, 0.0, 0.0533678197008...        0   \n",
              "3    [0.0, 0.0, 0.0, 0.0, 0.0, 0.0, 0.0, 0.0, 0.0, ...        0   \n",
              "4    [0.24734311047947527, 0.0, 0.0, 0.0, 0.0, 0.0,...        0   \n",
              "..                                                 ...      ...   \n",
              "732  [0.0, 0.0, 0.0, 0.0, 0.0, 0.0, 0.0, 0.0, 0.0, ...        4   \n",
              "733  [0.0, 0.0, 0.0, 0.0, 0.0, 0.0, 0.0, 0.0, 0.0, ...        4   \n",
              "734  [0.0, 0.0, 0.0, 0.0, 0.0, 0.0, 0.0, 0.0, 0.0, ...        4   \n",
              "735  [0.0, 0.0, 0.0, 0.0, 0.0, 0.0, 0.0, 0.0, 0.0, ...        2   \n",
              "736  [0.0, 0.0, 0.0, 0.0, 0.0, 0.0, 0.0, 0.0, 0.0, ...        4   \n",
              "\n",
              "                                                pca  \n",
              "0       [-0.09106000168473471, 0.10349560238655374]  \n",
              "1    [-0.0003837513189644131, 0.024830609265307845]  \n",
              "2       [-0.11767252493749902, 0.12865305467843438]  \n",
              "3       [-0.09133068203435618, 0.15403298214830907]  \n",
              "4       [-0.09129515194120927, 0.13499357178481047]  \n",
              "..                                              ...  \n",
              "732      [-0.06663426167725048, 0.1087933230927288]  \n",
              "733    [-0.048151757363650766, 0.05289538850721994]  \n",
              "734    [-0.049762751202150894, 0.06020561675666957]  \n",
              "735    [-0.04870969774446013, 0.013944823139749788]  \n",
              "736    [-0.029134478120574396, 0.07144500504300397]  \n",
              "\n",
              "[737 rows x 6 columns]"
            ],
            "text/html": [
              "\n",
              "  <div id=\"df-55025fa8-3426-4d55-96bf-47d38c53205f\">\n",
              "    <div class=\"colab-df-container\">\n",
              "      <div>\n",
              "<style scoped>\n",
              "    .dataframe tbody tr th:only-of-type {\n",
              "        vertical-align: middle;\n",
              "    }\n",
              "\n",
              "    .dataframe tbody tr th {\n",
              "        vertical-align: top;\n",
              "    }\n",
              "\n",
              "    .dataframe thead th {\n",
              "        text-align: right;\n",
              "    }\n",
              "</style>\n",
              "<table border=\"1\" class=\"dataframe\">\n",
              "  <thead>\n",
              "    <tr style=\"text-align: right;\">\n",
              "      <th></th>\n",
              "      <th>text</th>\n",
              "      <th>topic</th>\n",
              "      <th>clean_text</th>\n",
              "      <th>tfidf</th>\n",
              "      <th>cluster</th>\n",
              "      <th>pca</th>\n",
              "    </tr>\n",
              "  </thead>\n",
              "  <tbody>\n",
              "    <tr>\n",
              "      <th>0</th>\n",
              "      <td>Claxton hunting first major medal\\n\\nBritish h...</td>\n",
              "      <td>athletics</td>\n",
              "      <td>claxton hunting first major medal british hurd...</td>\n",
              "      <td>[0.0, 0.0, 0.0, 0.0, 0.0, 0.0, 0.0, 0.0, 0.0, ...</td>\n",
              "      <td>0</td>\n",
              "      <td>[-0.09106000168473471, 0.10349560238655374]</td>\n",
              "    </tr>\n",
              "    <tr>\n",
              "      <th>1</th>\n",
              "      <td>O'Sullivan could run in Worlds\\n\\nSonia O'Sull...</td>\n",
              "      <td>athletics</td>\n",
              "      <td>sullivan could run worlds sonia sullivan indic...</td>\n",
              "      <td>[0.0, 0.0, 0.0, 0.0, 0.0, 0.0, 0.0, 0.0, 0.0, ...</td>\n",
              "      <td>3</td>\n",
              "      <td>[-0.0003837513189644131, 0.024830609265307845]</td>\n",
              "    </tr>\n",
              "    <tr>\n",
              "      <th>2</th>\n",
              "      <td>Greene sets sights on world title\\n\\nMaurice G...</td>\n",
              "      <td>athletics</td>\n",
              "      <td>greene sets sights world title maurice greene ...</td>\n",
              "      <td>[0.0, 0.0, 0.0, 0.0, 0.0, 0.0, 0.0533678197008...</td>\n",
              "      <td>0</td>\n",
              "      <td>[-0.11767252493749902, 0.12865305467843438]</td>\n",
              "    </tr>\n",
              "    <tr>\n",
              "      <th>3</th>\n",
              "      <td>IAAF launches fight against drugs\\n\\nThe IAAF ...</td>\n",
              "      <td>athletics</td>\n",
              "      <td>iaaf launches fight drugs iaaf athletics world...</td>\n",
              "      <td>[0.0, 0.0, 0.0, 0.0, 0.0, 0.0, 0.0, 0.0, 0.0, ...</td>\n",
              "      <td>0</td>\n",
              "      <td>[-0.09133068203435618, 0.15403298214830907]</td>\n",
              "    </tr>\n",
              "    <tr>\n",
              "      <th>4</th>\n",
              "      <td>Dibaba breaks 5,000m world record\\n\\nEthiopia'...</td>\n",
              "      <td>athletics</td>\n",
              "      <td>dibaba breaks 000m world record ethiopia tirun...</td>\n",
              "      <td>[0.24734311047947527, 0.0, 0.0, 0.0, 0.0, 0.0,...</td>\n",
              "      <td>0</td>\n",
              "      <td>[-0.09129515194120927, 0.13499357178481047]</td>\n",
              "    </tr>\n",
              "    <tr>\n",
              "      <th>...</th>\n",
              "      <td>...</td>\n",
              "      <td>...</td>\n",
              "      <td>...</td>\n",
              "      <td>...</td>\n",
              "      <td>...</td>\n",
              "      <td>...</td>\n",
              "    </tr>\n",
              "    <tr>\n",
              "      <th>732</th>\n",
              "      <td>Agassi into second round in Dubai\\n\\nFourth se...</td>\n",
              "      <td>tennis</td>\n",
              "      <td>agassi second round dubai fourth seed andre ag...</td>\n",
              "      <td>[0.0, 0.0, 0.0, 0.0, 0.0, 0.0, 0.0, 0.0, 0.0, ...</td>\n",
              "      <td>4</td>\n",
              "      <td>[-0.06663426167725048, 0.1087933230927288]</td>\n",
              "    </tr>\n",
              "    <tr>\n",
              "      <th>733</th>\n",
              "      <td>Mauresmo fights back to win title\\n\\nWorld num...</td>\n",
              "      <td>tennis</td>\n",
              "      <td>mauresmo fights back win title world number tw...</td>\n",
              "      <td>[0.0, 0.0, 0.0, 0.0, 0.0, 0.0, 0.0, 0.0, 0.0, ...</td>\n",
              "      <td>4</td>\n",
              "      <td>[-0.048151757363650766, 0.05289538850721994]</td>\n",
              "    </tr>\n",
              "    <tr>\n",
              "      <th>734</th>\n",
              "      <td>Federer wins title in Rotterdam\\n\\nWorld numbe...</td>\n",
              "      <td>tennis</td>\n",
              "      <td>federer wins title rotterdam world number one ...</td>\n",
              "      <td>[0.0, 0.0, 0.0, 0.0, 0.0, 0.0, 0.0, 0.0, 0.0, ...</td>\n",
              "      <td>4</td>\n",
              "      <td>[-0.049762751202150894, 0.06020561675666957]</td>\n",
              "    </tr>\n",
              "    <tr>\n",
              "      <th>735</th>\n",
              "      <td>GB players warned over security\\n\\nBritain's D...</td>\n",
              "      <td>tennis</td>\n",
              "      <td>gb players warned security britain davis cup p...</td>\n",
              "      <td>[0.0, 0.0, 0.0, 0.0, 0.0, 0.0, 0.0, 0.0, 0.0, ...</td>\n",
              "      <td>2</td>\n",
              "      <td>[-0.04870969774446013, 0.013944823139749788]</td>\n",
              "    </tr>\n",
              "    <tr>\n",
              "      <th>736</th>\n",
              "      <td>Sharapova overcomes tough Molik\\n\\nWimbledon c...</td>\n",
              "      <td>tennis</td>\n",
              "      <td>sharapova overcomes tough molik wimbledon cham...</td>\n",
              "      <td>[0.0, 0.0, 0.0, 0.0, 0.0, 0.0, 0.0, 0.0, 0.0, ...</td>\n",
              "      <td>4</td>\n",
              "      <td>[-0.029134478120574396, 0.07144500504300397]</td>\n",
              "    </tr>\n",
              "  </tbody>\n",
              "</table>\n",
              "<p>737 rows × 6 columns</p>\n",
              "</div>\n",
              "      <button class=\"colab-df-convert\" onclick=\"convertToInteractive('df-55025fa8-3426-4d55-96bf-47d38c53205f')\"\n",
              "              title=\"Convert this dataframe to an interactive table.\"\n",
              "              style=\"display:none;\">\n",
              "        \n",
              "  <svg xmlns=\"http://www.w3.org/2000/svg\" height=\"24px\"viewBox=\"0 0 24 24\"\n",
              "       width=\"24px\">\n",
              "    <path d=\"M0 0h24v24H0V0z\" fill=\"none\"/>\n",
              "    <path d=\"M18.56 5.44l.94 2.06.94-2.06 2.06-.94-2.06-.94-.94-2.06-.94 2.06-2.06.94zm-11 1L8.5 8.5l.94-2.06 2.06-.94-2.06-.94L8.5 2.5l-.94 2.06-2.06.94zm10 10l.94 2.06.94-2.06 2.06-.94-2.06-.94-.94-2.06-.94 2.06-2.06.94z\"/><path d=\"M17.41 7.96l-1.37-1.37c-.4-.4-.92-.59-1.43-.59-.52 0-1.04.2-1.43.59L10.3 9.45l-7.72 7.72c-.78.78-.78 2.05 0 2.83L4 21.41c.39.39.9.59 1.41.59.51 0 1.02-.2 1.41-.59l7.78-7.78 2.81-2.81c.8-.78.8-2.07 0-2.86zM5.41 20L4 18.59l7.72-7.72 1.47 1.35L5.41 20z\"/>\n",
              "  </svg>\n",
              "      </button>\n",
              "      \n",
              "  <style>\n",
              "    .colab-df-container {\n",
              "      display:flex;\n",
              "      flex-wrap:wrap;\n",
              "      gap: 12px;\n",
              "    }\n",
              "\n",
              "    .colab-df-convert {\n",
              "      background-color: #E8F0FE;\n",
              "      border: none;\n",
              "      border-radius: 50%;\n",
              "      cursor: pointer;\n",
              "      display: none;\n",
              "      fill: #1967D2;\n",
              "      height: 32px;\n",
              "      padding: 0 0 0 0;\n",
              "      width: 32px;\n",
              "    }\n",
              "\n",
              "    .colab-df-convert:hover {\n",
              "      background-color: #E2EBFA;\n",
              "      box-shadow: 0px 1px 2px rgba(60, 64, 67, 0.3), 0px 1px 3px 1px rgba(60, 64, 67, 0.15);\n",
              "      fill: #174EA6;\n",
              "    }\n",
              "\n",
              "    [theme=dark] .colab-df-convert {\n",
              "      background-color: #3B4455;\n",
              "      fill: #D2E3FC;\n",
              "    }\n",
              "\n",
              "    [theme=dark] .colab-df-convert:hover {\n",
              "      background-color: #434B5C;\n",
              "      box-shadow: 0px 1px 3px 1px rgba(0, 0, 0, 0.15);\n",
              "      filter: drop-shadow(0px 1px 2px rgba(0, 0, 0, 0.3));\n",
              "      fill: #FFFFFF;\n",
              "    }\n",
              "  </style>\n",
              "\n",
              "      <script>\n",
              "        const buttonEl =\n",
              "          document.querySelector('#df-55025fa8-3426-4d55-96bf-47d38c53205f button.colab-df-convert');\n",
              "        buttonEl.style.display =\n",
              "          google.colab.kernel.accessAllowed ? 'block' : 'none';\n",
              "\n",
              "        async function convertToInteractive(key) {\n",
              "          const element = document.querySelector('#df-55025fa8-3426-4d55-96bf-47d38c53205f');\n",
              "          const dataTable =\n",
              "            await google.colab.kernel.invokeFunction('convertToInteractive',\n",
              "                                                     [key], {});\n",
              "          if (!dataTable) return;\n",
              "\n",
              "          const docLinkHtml = 'Like what you see? Visit the ' +\n",
              "            '<a target=\"_blank\" href=https://colab.research.google.com/notebooks/data_table.ipynb>data table notebook</a>'\n",
              "            + ' to learn more about interactive tables.';\n",
              "          element.innerHTML = '';\n",
              "          dataTable['output_type'] = 'display_data';\n",
              "          await google.colab.output.renderOutput(dataTable, element);\n",
              "          const docLink = document.createElement('div');\n",
              "          docLink.innerHTML = docLinkHtml;\n",
              "          element.appendChild(docLink);\n",
              "        }\n",
              "      </script>\n",
              "    </div>\n",
              "  </div>\n",
              "  "
            ]
          },
          "metadata": {},
          "execution_count": 67
        }
      ]
    },
    {
      "cell_type": "markdown",
      "source": [
        "# Visualize texts"
      ],
      "metadata": {
        "id": "qvfs7vLYPRQs"
      }
    },
    {
      "cell_type": "code",
      "source": [
        "import plotly.express as px"
      ],
      "metadata": {
        "id": "Bh5lS2F11M_7"
      },
      "execution_count": 73,
      "outputs": []
    },
    {
      "cell_type": "code",
      "source": [
        "df['pca_0'] = df['pca'].apply(lambda x: x[0])\n",
        "df['pca_1'] = df['pca'].apply(lambda x: x[1])"
      ],
      "metadata": {
        "id": "6qs9-2wd1dHm"
      },
      "execution_count": 74,
      "outputs": []
    },
    {
      "cell_type": "code",
      "source": [
        "fig = px.scatter(df, x=\"pca_0\", y=\"pca_1\", \n",
        "                 color=\"topic\",\n",
        "                 title=\"PCA BBC Sport news labelled by topics\",\n",
        "                 hover_name=df.index,)\n",
        "fig.show()"
      ],
      "metadata": {
        "colab": {
          "base_uri": "https://localhost:8080/",
          "height": 542
        },
        "id": "S8CCJSLp0jWI",
        "outputId": "db35b200-fcd9-46a0-a683-2b5706e86d32"
      },
      "execution_count": 75,
      "outputs": [
        {
          "output_type": "display_data",
          "data": {
            "text/html": [
              "<html>\n",
              "<head><meta charset=\"utf-8\" /></head>\n",
              "<body>\n",
              "    <div>            <script src=\"https://cdnjs.cloudflare.com/ajax/libs/mathjax/2.7.5/MathJax.js?config=TeX-AMS-MML_SVG\"></script><script type=\"text/javascript\">if (window.MathJax) {MathJax.Hub.Config({SVG: {font: \"STIX-Web\"}});}</script>                <script type=\"text/javascript\">window.PlotlyConfig = {MathJaxConfig: 'local'};</script>\n",
              "        <script src=\"https://cdn.plot.ly/plotly-2.8.3.min.js\"></script>                <div id=\"993a7bf7-0744-492c-81ae-eef13a95677f\" class=\"plotly-graph-div\" style=\"height:525px; width:100%;\"></div>            <script type=\"text/javascript\">                                    window.PLOTLYENV=window.PLOTLYENV || {};                                    if (document.getElementById(\"993a7bf7-0744-492c-81ae-eef13a95677f\")) {                    Plotly.newPlot(                        \"993a7bf7-0744-492c-81ae-eef13a95677f\",                        [{\"hovertemplate\":\"<b>%{hovertext}</b><br><br>topic=athletics<br>pca_0=%{x}<br>pca_1=%{y}<extra></extra>\",\"hovertext\":[0.0,1.0,2.0,3.0,4.0,5.0,6.0,7.0,8.0,9.0,10.0,11.0,12.0,13.0,14.0,15.0,16.0,17.0,18.0,19.0,20.0,21.0,22.0,23.0,24.0,25.0,26.0,27.0,28.0,29.0,30.0,31.0,32.0,33.0,34.0,35.0,36.0,37.0,38.0,39.0,40.0,41.0,42.0,43.0,44.0,45.0,46.0,47.0,48.0,49.0,50.0,51.0,52.0,53.0,54.0,55.0,56.0,57.0,58.0,59.0,60.0,61.0,62.0,63.0,64.0,65.0,66.0,67.0,68.0,69.0,70.0,71.0,72.0,73.0,74.0,75.0,76.0,77.0,78.0,79.0,80.0,81.0,82.0,83.0,84.0,85.0,86.0,87.0,88.0,89.0,90.0,91.0,92.0,93.0,94.0,95.0,96.0,97.0,98.0,99.0,100.0],\"legendgroup\":\"athletics\",\"marker\":{\"color\":\"#636efa\",\"symbol\":\"circle\"},\"mode\":\"markers\",\"name\":\"athletics\",\"orientation\":\"v\",\"showlegend\":true,\"x\":[-0.09106000168473471,-0.0003837513189644131,-0.11767252493749902,-0.09133068203435618,-0.09129515194120927,-0.11040729424734513,-0.029007960470081934,-0.042973380892341546,-0.1289388976562592,-0.15755921367082046,-0.09580914957999173,-0.10785409935789932,-0.08965875107710826,-0.08055076569681413,-0.07797402853229649,-0.12052296253701217,-0.14093659285222196,-0.10526796412610144,-0.1113278480083232,-0.10785409935789932,-0.09691425159816065,-0.10717993629551906,-0.1457315617739591,-0.07465924965414528,-0.10884523685790896,-0.08574822912612963,-0.09927637560886399,-0.11475353638421618,-0.10919968932735091,-0.0743732638155452,-0.04976675498798352,-0.13240098587619403,-0.1510972091143389,-0.13164878080357928,-0.08915267205429357,-0.05459269791576943,-0.10209025655036588,-0.10200858413892293,-0.05777600109650802,-0.07941453200560551,-0.06950218610485809,-0.09028300558144067,-0.06169446579585194,-0.05627898537562384,-0.09402798621684894,-0.08165844065403231,-0.11263234455247467,-0.1270863621370645,-0.054556283675813395,-0.1212213292288545,-0.1281533191960591,-0.09405407839418485,-0.09626034911926534,-0.1434952283684987,-0.0969241568748239,-0.10458041470125355,-0.12827070953626823,-0.1384097121061726,-0.11368509857278633,-0.10015079943533803,-0.1121161772681367,-0.06180160348365661,-0.1216449586691414,-0.06481485468955796,-0.1101396334934403,-0.16007639568882073,-0.11229192269790202,-0.03025342629077275,-0.17673186886833947,-0.1072375145660341,-0.10588115634732656,-0.059227276800241827,-0.10769113085477033,-0.10510309677675225,-0.10486520230719107,-0.06412785269514679,-0.01492315898055379,-0.0809754348928593,-0.1353218775368493,-0.13046987916946923,-0.14643390155377514,-0.1278655789888115,-0.06365098566795092,-0.09405407839418485,-0.07470147171980783,-0.08023861265381352,-0.0836315268770629,-0.054556283675813395,-0.13202521263484365,-0.09233838429586834,-0.0698013827802435,-0.07748692654824633,-0.02265518793958986,-0.08834575663966368,-0.15275829739522884,-0.11295047089445111,-0.04431529383915352,-0.10725615283898601,-0.1379959200829703,-0.06298519524809915,-0.058464360570765726],\"xaxis\":\"x\",\"y\":[0.10349560238655374,0.024830609265307845,0.12865305467843438,0.15403298214830907,0.13499357178481047,0.15749230887482416,0.07046781928344989,0.034677492490894975,0.17066180833209701,0.24025301700827856,0.11536948284860984,0.10873203876361323,0.11725959844392755,0.048779326772186014,0.130143518914215,0.33153448555125653,0.3339747669177721,0.1769409362296418,0.1351960193864681,0.10873203876361323,0.15764849155678495,0.13097166527740076,0.3345826476656529,0.11132625115785089,0.15293438761399872,0.18019333989212408,0.15870487105762598,0.13614438206975885,0.1611229615926212,0.10386130154570954,0.07712831003552548,0.20821640254332252,0.3367877806995082,0.15886853838077006,0.16933208238449393,0.12928050560825874,0.1361672666097762,0.08943635157591066,0.12305200107918152,0.08381687796021199,0.09687571487897084,0.12556697492571806,0.120524745426418,0.0795644057184661,0.16009585887139194,0.11343361554885445,0.25879686871308055,0.30350721445876827,0.13484442938036229,0.32249217798179314,0.3439818772034557,0.15300146124247183,0.11294055641238464,0.31466471903875187,0.1383246670300881,0.1336081215177885,0.15058755179789116,0.1640174870271466,0.08921566612279869,0.13699131570345152,0.15011819886105318,0.0859717943713445,0.1560918709158276,0.10145713835558712,0.13166605585529223,0.29481139645582227,0.15621889635655112,0.08143723043010305,0.24978941556923642,0.08377361566537762,0.1181654543553521,0.06556722751367314,0.08475201979028898,0.1284973780789982,0.18545934120619093,0.10178018487127863,0.05043510598634954,0.11178586204635185,0.32714375362446635,0.2780489318116825,0.3430278629107295,0.3381179297418303,0.10778942377871717,0.15300146124247183,0.10396218747315676,0.09753257382340398,0.12024364629219551,0.13484442938036229,0.3084041783414252,0.09770924459330642,0.1343968435145855,0.10343870359822371,0.013238126563577037,0.11297473843568205,0.2208165192537767,0.12437402955919666,0.056536786104905784,0.15195509861044956,0.17963770281227592,0.01761335478377105,0.11549296193233272],\"yaxis\":\"y\",\"type\":\"scatter\"},{\"hovertemplate\":\"<b>%{hovertext}</b><br><br>topic=cricket<br>pca_0=%{x}<br>pca_1=%{y}<extra></extra>\",\"hovertext\":[101.0,102.0,103.0,104.0,105.0,106.0,107.0,108.0,109.0,110.0,111.0,112.0,113.0,114.0,115.0,116.0,117.0,118.0,119.0,120.0,121.0,122.0,123.0,124.0,125.0,126.0,127.0,128.0,129.0,130.0,131.0,132.0,133.0,134.0,135.0,136.0,137.0,138.0,139.0,140.0,141.0,142.0,143.0,144.0,145.0,146.0,147.0,148.0,149.0,150.0,151.0,152.0,153.0,154.0,155.0,156.0,157.0,158.0,159.0,160.0,161.0,162.0,163.0,164.0,165.0,166.0,167.0,168.0,169.0,170.0,171.0,172.0,173.0,174.0,175.0,176.0,177.0,178.0,179.0,180.0,181.0,182.0,183.0,184.0,185.0,186.0,187.0,188.0,189.0,190.0,191.0,192.0,193.0,194.0,195.0,196.0,197.0,198.0,199.0,200.0,201.0,202.0,203.0,204.0,205.0,206.0,207.0,208.0,209.0,210.0,211.0,212.0,213.0,214.0,215.0,216.0,217.0,218.0,219.0,220.0,221.0,222.0,223.0,224.0],\"legendgroup\":\"cricket\",\"marker\":{\"color\":\"#EF553B\",\"symbol\":\"circle\"},\"mode\":\"markers\",\"name\":\"cricket\",\"orientation\":\"v\",\"showlegend\":true,\"x\":[0.25341466608433816,0.21417913523938634,0.22595588367350927,0.21751606283503627,0.11991490006808599,0.1397998035655476,0.12119135469116366,0.10649744118512995,0.14944482995763617,0.10167463255202894,0.12007519257922075,0.052526193132803385,0.3133459168190575,0.0632318904381694,0.20981920615902885,0.032184660961996577,0.061573212441582786,0.14882597390072042,0.22554586550054967,0.17601082955676584,0.061573212441582786,0.18919867615123515,0.1395027189217035,0.1619723696544268,0.0727078676705707,0.2148789222913861,0.23006270536946952,0.2114536207575545,0.13967673993505245,0.1052594159349318,0.2520685047980974,0.1619723696544268,0.0727078676705707,0.19227039691655276,0.09283338051129342,0.11186070242828135,0.08183267895209777,0.16462981556181341,0.11101927356161732,0.18274040244331477,0.12951182365449718,0.24585999002351241,0.25081683436505414,0.214353748806103,0.26279850750611494,0.1663874056884901,0.061298935482368776,0.19765942236203435,0.13307490784822096,0.1882836292567232,0.03106353880981018,0.2656258360249099,0.2661371465145281,0.23026626148917625,0.12786667771019292,0.2240372590279421,0.11937318768761929,0.056256454530747756,0.20611464395323126,0.1673424795565584,0.16721818771048397,0.2297426888968557,0.29794003618961545,0.20879656814099457,0.15737692742677856,0.12858788161011026,0.1926579229106407,0.37110995388506407,0.13076027697390546,0.25752100688658036,0.3417724648746106,0.1552336606406643,0.3050178313603183,0.2493778581675286,0.3513830534431395,0.19602527558368954,0.16877549137335665,0.06191390103810984,0.18965950047233837,0.2469242373719545,0.17394573324863527,0.27556346666333914,0.32696187681893113,0.32745351161101316,0.10465232368047446,0.2664860513211643,0.27983772284048974,0.2831272387560836,0.27700405186873295,0.1387832752227186,-0.026185414613084494,0.08985320065327393,0.20740888814254224,0.031037102537719925,0.14529613719487242,0.17699986887931837,0.11107331519450478,0.17791563272216976,0.10030589481897614,0.16846778700758894,0.08756699109570883,0.01733461832034793,0.08969076687398389,0.09364900583298592,0.06736145031824065,0.04712639011426328,0.2053793801972283,0.03901358946564485,0.2861493043449241,0.20414479454831963,0.11363602314750207,-0.03353235498764455,0.16616681996862764,0.12969004342586077,0.10109502106647988,0.02840406022470989,0.20865323734991303,0.1136386578044896,0.23120879853302959,0.10357252423563437,0.1347606951624229,0.08427041384178632,0.11015275984194485,0.11965205972774176],\"xaxis\":\"x\",\"y\":[0.11899442692622385,0.05719703487343804,0.09693430726328103,0.17746426759267248,0.00900267441817493,0.028582410471926025,0.1068544292798943,0.0731829835659491,0.1464144095336459,0.059427871527002296,0.10363754839014605,-0.00617625102615722,0.0715784898682716,0.02841886308765224,0.07530518397971157,0.0019235907193753843,0.06380257242165263,0.047149963053277885,0.06452644650409703,0.03182523247592265,0.06380257242165263,0.17115924893470083,0.11002699818191854,0.14011118473772624,0.1124664119176233,0.17316225699094076,0.09091471115340523,0.13314113353500787,0.10975131292716947,0.031800420901849244,0.07436942938539436,0.14011118473772624,0.1124664119176233,0.17611658966259588,0.07631687654316842,0.04342874501003815,0.09413178445863862,0.09444959549742511,0.06107504086630131,0.041223771321731696,0.1226775860012336,0.030928330823600598,0.05995716917713923,0.16262273036453156,0.1756308686900963,0.09045856904492015,0.07769177815384787,0.03512531592748648,0.06973955271203786,0.05035413429041472,0.008457690905535362,0.11450040103694502,0.11557791433339963,0.15626070407048143,0.11068511695755466,0.11078708942726362,0.10200473595600384,0.08055244904407508,0.11245212621046574,0.16229827034637023,0.1617948943067498,0.1656340105600471,0.017488220639049486,0.054597798700193205,0.15511429417295122,0.07710315187652754,0.027025915713240062,0.06913403736465834,0.028537362143343466,0.20626194147684915,0.01654217348081684,0.09797895647758642,0.07113055419668166,0.2029463522558018,0.06691155349147354,-0.00017673583551946784,0.13899866169761657,0.0594981686352907,0.038852596948972695,0.06028915652548718,0.12907094926258814,0.17857913345484877,0.06351927489180886,0.06616237224338752,0.09647416784243038,0.2142215166720321,0.20439222801135057,0.20598762070159463,0.018937089450856724,0.11354365124147275,0.06440024782848172,0.050591380932794375,0.06029955265402459,0.07003931367077039,0.015892045735244227,0.028905046564917512,-0.01925610646189057,0.12802626458343222,0.053932346088743956,0.1365260612666998,0.07630397294870433,0.06488857572920062,0.06615394957050358,0.12305127946094808,0.0644764423965029,0.05725533532901472,0.031436416798147744,0.012010467956079986,0.02234542858853045,0.12197497794234653,0.10747412207461558,0.06284748247583172,0.11710815441757702,0.12301338365180021,0.07434250206564863,-0.004355654357988621,0.02758586055078088,0.04950209767375331,0.021571902068814264,0.07447737153889193,0.10313917185296656,-0.0021432966753304828,-0.04181599538760249,0.0818940583674962],\"yaxis\":\"y\",\"type\":\"scatter\"},{\"hovertemplate\":\"<b>%{hovertext}</b><br><br>topic=football<br>pca_0=%{x}<br>pca_1=%{y}<extra></extra>\",\"hovertext\":[225.0,226.0,227.0,228.0,229.0,230.0,231.0,232.0,233.0,234.0,235.0,236.0,237.0,238.0,239.0,240.0,241.0,242.0,243.0,244.0,245.0,246.0,247.0,248.0,249.0,250.0,251.0,252.0,253.0,254.0,255.0,256.0,257.0,258.0,259.0,260.0,261.0,262.0,263.0,264.0,265.0,266.0,267.0,268.0,269.0,270.0,271.0,272.0,273.0,274.0,275.0,276.0,277.0,278.0,279.0,280.0,281.0,282.0,283.0,284.0,285.0,286.0,287.0,288.0,289.0,290.0,291.0,292.0,293.0,294.0,295.0,296.0,297.0,298.0,299.0,300.0,301.0,302.0,303.0,304.0,305.0,306.0,307.0,308.0,309.0,310.0,311.0,312.0,313.0,314.0,315.0,316.0,317.0,318.0,319.0,320.0,321.0,322.0,323.0,324.0,325.0,326.0,327.0,328.0,329.0,330.0,331.0,332.0,333.0,334.0,335.0,336.0,337.0,338.0,339.0,340.0,341.0,342.0,343.0,344.0,345.0,346.0,347.0,348.0,349.0,350.0,351.0,352.0,353.0,354.0,355.0,356.0,357.0,358.0,359.0,360.0,361.0,362.0,363.0,364.0,365.0,366.0,367.0,368.0,369.0,370.0,371.0,372.0,373.0,374.0,375.0,376.0,377.0,378.0,379.0,380.0,381.0,382.0,383.0,384.0,385.0,386.0,387.0,388.0,389.0,390.0,391.0,392.0,393.0,394.0,395.0,396.0,397.0,398.0,399.0,400.0,401.0,402.0,403.0,404.0,405.0,406.0,407.0,408.0,409.0,410.0,411.0,412.0,413.0,414.0,415.0,416.0,417.0,418.0,419.0,420.0,421.0,422.0,423.0,424.0,425.0,426.0,427.0,428.0,429.0,430.0,431.0,432.0,433.0,434.0,435.0,436.0,437.0,438.0,439.0,440.0,441.0,442.0,443.0,444.0,445.0,446.0,447.0,448.0,449.0,450.0,451.0,452.0,453.0,454.0,455.0,456.0,457.0,458.0,459.0,460.0,461.0,462.0,463.0,464.0,465.0,466.0,467.0,468.0,469.0,470.0,471.0,472.0,473.0,474.0,475.0,476.0,477.0,478.0,479.0,480.0,481.0,482.0,483.0,484.0,485.0,486.0,487.0,488.0,489.0],\"legendgroup\":\"football\",\"marker\":{\"color\":\"#00cc96\",\"symbol\":\"circle\"},\"mode\":\"markers\",\"name\":\"football\",\"orientation\":\"v\",\"showlegend\":true,\"x\":[-0.04692972658926532,-0.11360594204857272,-0.08364839053513501,-0.09689363927748562,0.07298494473102468,-0.03374200791522216,-0.07623552903618844,-0.19872064820500526,-0.10024360561189237,-0.12676545108783896,-0.006130680715831698,-0.01643359733383288,-0.011322652156454846,-0.0020004217551698074,-0.005085242719125872,-0.05496579834998922,-0.12323658790260514,-0.17124345927466597,-0.004577894938234113,-0.04145356834613376,-0.03801068544591349,-0.04715211127502298,-0.05176610784095139,-0.1382586823662374,-0.023956178376657516,-0.011065375175907608,-0.17136512241810511,-0.10740298789374593,0.004937350683049625,-0.06754751875728016,-0.13752448993246455,-0.06455179717511203,-0.017122881910209796,0.016464801235043902,0.006805496263176606,-0.05995296513170122,-0.04318001258065037,0.0030283821509291525,0.014956482929024541,0.021652685736605892,-0.031359019065697116,-0.0599878129201692,-0.07745299408868521,-0.06606859639534998,-0.06377047657998935,-0.10989260295342086,-0.1486121046618599,-0.04868381258538647,-0.056493140504635546,-0.08697071771756303,-0.02426632525960893,-0.026990034912565693,-0.04028515655560549,-0.0540100007734539,-0.047600597351933095,-0.04750182501856501,-0.05519792296958915,-0.10669254727865808,-0.060711816489352186,-0.1269680744617791,-0.08859114968552573,-0.07402886573924823,-0.11317541280830369,-0.09671186996904033,-0.18484862059137055,-0.0550963745185134,-0.0830241676568045,-0.05017735189061684,-0.07083982639498206,-0.05944231275426197,-0.08766951491017745,-0.06605232244757234,-0.10996915746049976,-0.13247057289067762,-0.2021468960842092,-0.08609942617221975,-0.03334238406446794,-0.07564929272709947,-0.008635409236456669,-0.12728293071896446,-0.07645627714005986,-0.07534455592885812,-0.18262227813631657,-0.08684744006456177,-0.05190254657268471,-0.07308077128551463,-0.1303771962030765,-0.1303771962030765,-0.1493766183823535,-0.11786211446788158,-0.03605965402097537,-0.08000416813737242,-0.07821980433252995,-0.10673990569517018,-0.07583850295343857,0.022042949995396542,-0.03843124133612311,-0.09019336209819895,-0.10608293653809484,-0.050306274460400806,-0.07612167190145483,-0.11813577442387492,-0.09969388819143256,-0.11966425489968635,-0.1407450928843188,-0.06871422802567566,-0.12773352410028463,-0.05122518215249402,-0.07087202961035033,-0.04927768574430589,-0.059672724064274894,-0.11691394977637856,-0.04540690430991386,-0.05454121573730513,-0.16298198529497937,-0.04032525938409255,-0.11231958500048034,-0.031867225149284736,-0.02553619710029109,-5.622741783679853e-05,-0.014133316485225445,-0.03235958517338415,-0.021916215740023167,-0.17499673179512107,0.017019017511614526,-0.061752245142501966,-0.05158036503070281,-0.04637210997382927,-0.0948963003881607,-0.020877471243816094,0.0050852613682641256,-0.03893717409410604,-0.11322567308610729,-0.11356158045379866,-0.06049650816551511,-0.05463029206008393,-0.13229011689980807,-0.032580310459540865,-0.0576888655932766,-0.06949812091678217,-0.13110649358680576,-0.10567747878110806,-0.11638511743651868,-0.09556948293010799,-0.1309590020272585,-0.017959640486287436,-0.06380388246241601,-0.10097699666816629,-0.19358989230708437,-0.06324804860199179,-0.052860238724420965,-0.11607544410731165,-0.05109951212005276,-0.09781900520855759,-0.07207585285972262,-0.05696011207277157,-0.07892839613919275,-0.1464977044911334,-0.04458061189287302,-0.11372643726222056,-0.1464977044911334,-0.06709971799808659,-0.06835565420078238,-0.06835565420078238,-0.09294930291919659,-0.06945344848848965,-0.06026817358704551,-0.05177512403888492,-0.03617053411249712,-0.06024218877415114,-0.0872545844437668,-0.13343150102887416,-0.0724209218619831,-0.04072065233838639,-0.04012123015811884,-0.060380660121508625,-0.07178454885864076,-0.15660098294562685,-0.07464076844757753,-0.16990243747576417,-0.09021893450084739,-0.055211780389936,-0.04015620762074999,-0.061771095465298416,-0.08173990725859709,-0.12834407899146508,-0.08678867105382358,-0.09581714436186942,-0.0798389290643239,-0.1610907411035104,-0.15683294980870643,-0.11927963307365967,-0.07910844883789526,-0.07277561977299135,-0.059147909396414025,0.005151297848921143,-0.036881605282762416,-0.10088809017557951,-0.07657819435913066,-0.06756348887584908,-0.05356371935044663,-0.19567961827665986,-0.05513628878044794,-0.06536990590974028,-0.07690703478087028,-0.042750186681645416,-0.20012994518585187,-0.051966310385620065,-0.14452686137390983,-0.08364839053513501,-0.06636223683757549,-0.07775969635247508,-0.035386813987774275,-0.04741858594404762,-0.12168448670778781,-0.07008432951292937,-0.030230308533139332,-0.05995104549244091,-0.0228916410628434,0.0024999391600572535,-0.13376671817293928,-0.005700848294067427,-0.10055255327338503,-0.03256336552896476,-0.04226335680702108,-0.09713775071417365,-0.03232594022757725,-0.0820593831797802,-0.18140294890268008,-0.12585862397417383,-0.060235226070467204,-0.08685759305235297,-0.09171920501403351,-0.060265368283292195,-0.048790113385350616,-0.024563349605890687,-0.08935776795901054,-0.06680242270722819,-0.18561446160709177,-0.11393730085871517,-0.12259805702617742,-0.06407558409382634,-0.17254207367591506,-0.0805785923291558,-0.13006332289690836,-0.07574262208624614,-0.025412200643146032,-0.045414529501563515,-0.057990115398294836,-0.149152621565361,-0.07928970920219477,-0.12635114979153642,-0.07908304928635856,-0.04089665673144765,-0.03995833398191391,-0.05489962173871455,-0.10141698285690622,-0.009435303568362223,-0.051766714380033434,-0.0830708749648957,-0.0216970854578652,-0.09840933922120694,-0.06485689526515623,-0.035683407883779425,-0.002836540127336209],\"xaxis\":\"x\",\"y\":[-0.08553501288657755,-0.11580712180066444,-0.06971939409967749,-0.06791657511475113,-0.06193795876929405,-0.009019432448150594,-0.09488455834290889,-0.21804521623095274,-0.12040070253064328,-0.16676163795922028,-0.056195836605001964,-0.04588253107157488,-0.04290783773894266,-0.02715859679732048,-0.018016262895615157,-0.05854510217223902,-0.1997283256082479,-0.17037460210542363,-0.045285159276509286,-0.0435273325028326,-0.10393047772264034,-0.033532561482893436,-0.015617532790852975,-0.12684875931462208,-0.12844419185574854,-0.07963095308809881,-0.17010057419106783,-0.12166049644218448,-0.07092557762374888,-0.03286387798423908,-0.14239582311940652,-0.07833289007758464,-0.014413766246524636,-0.04263145332774746,-0.04928912667776786,-0.008993378800683379,0.014938294703029157,-0.020023762680550953,-0.11199696850913803,-0.009641316048467418,-0.0202751979492209,0.03677512758327187,-0.07425654167694036,-0.058073500042243174,-0.08308208146654672,-0.10135958338800058,-0.17314298348517773,-0.14261457650700132,-0.03393414817047096,-0.08122169349202542,-0.05137445027181404,-0.018811876954027567,-0.03149002966688641,-0.007394646452847124,0.006431558504390648,-0.08556660112250507,-0.11060202636706198,-0.11045759441657345,-0.0132384460729133,-0.0889219967689638,-0.11291415646646619,-0.07777366841233779,-0.1136116827920226,-0.06936091383479925,-0.2415190647131574,-0.11230252022797962,-0.05721191157765329,-0.05849759387883611,-0.07280381924464471,-0.028252668263673914,-0.07377642791917935,-0.03492902000113485,-0.09098106907849653,-0.08568790717399337,-0.1829053429918514,-0.005779430026682689,-0.005066844067308781,-0.06807112407757988,0.013571099228635279,-0.08180374357306382,-0.019071738877701628,-0.07476854788356363,-0.16531351941502573,-0.06493008087117955,-0.06240487963533485,-0.10404710102008266,-0.14171580500639347,-0.14171580500639347,-0.15616409202877546,-0.12267286193771855,-0.038979842425051606,-0.06130131727514451,-0.04767475246029927,-0.0801224114136207,-0.060072545354652854,0.038248366818675966,-0.005906544987075962,-0.09562532160601545,-0.05620088704868623,-0.013176556147734915,-0.06938937257246838,-0.1049685820900288,-0.06987214221632977,-0.09706752387653339,-0.001110146505857379,-0.08899017272795316,-0.05070349244645149,-0.020893986755582357,-0.016892648139468176,0.004637382297072393,-0.06714498419995671,-0.08672971010265254,-0.025504082990815354,-0.0761392995676815,-0.17268017204855116,-0.005494135684895257,-0.06936886367548317,-0.046862627720155474,-0.007870773296112526,0.010142656863373331,0.0018752646271720766,-0.07624589123039367,-0.08120985060801872,-0.200271008538012,-0.0063907678827174585,-0.029935962916093888,-0.04170483332610678,-0.06713336793030887,-0.13535753777914392,0.011135847623679578,0.0002444536642747377,-0.05572770564549113,-0.12257909522403125,-0.1444510228695151,-0.06884618674017291,-0.026440434974021362,-0.14892446510185353,-0.05578814450140738,-0.03383927455946374,-0.003979318552564899,-0.14984538140411727,-0.15905272529942882,-0.09436549556157454,-0.11965434292829773,-0.13246505349708548,-0.05330606974371198,0.04317126058532877,-0.0890827165263392,-0.1975041413063221,-0.050531017712574795,-0.037284900336413476,-0.13697293498540022,-0.06687694959448816,-0.11085851933970742,-0.03529060445506417,-0.06460913687677586,-0.03979454892057841,-0.167065297775956,0.0017466144228526145,-0.0919271846734564,-0.167065297775956,-0.054844804351764344,-0.014085403841327459,-0.014085403841327459,-0.09675498312408912,-0.06512812464128907,-0.03237115923034338,-0.0011874790963242526,-0.051795397906611876,-0.03354163913457731,-0.029084737893819167,-0.10615629974677028,-0.09207676345988568,-0.08684313271421484,-0.06589151080848989,-0.0717068063452696,0.01818626693831854,-0.094237744190739,-0.04771986029946802,-0.19745087471984174,-0.06692584205247251,-0.03074498711934319,-0.020388427863454763,-0.09038876708435684,-0.06378778577132803,-0.13720998063384215,-0.12922258939245565,-0.11131957326743416,-0.11832597574345445,-0.13187593509498063,-0.19403617099897094,-0.1689555391196341,-0.09035992999992629,-0.09262069569992021,-0.03401715530857944,-0.0374991856304969,0.00545281731639426,-0.1489866199314707,-0.17768814245020575,-0.1498547046456906,-0.062113848403558644,-0.24824860505175486,-0.0729372466669376,-0.06566206753979908,-0.11673994895344418,-0.026838881332741777,-0.2182420002691945,-0.0428888408759781,-0.17275047498654605,-0.06971939409967749,-0.12638196505106716,-0.12787656527894248,-0.029486405948584846,-0.055557172585157,-0.13726894298306713,-0.09123336671579575,-0.010822548547984276,-0.061748189022350755,-0.010165763799362262,0.00901677054962464,-0.18618453401291155,-0.05291607522898903,-0.06323897583411696,-0.0002619743723925149,-0.008316975111355644,-0.1186445010520415,-0.01266236911155383,-0.058304722849287616,-0.18865102199190906,-0.10188630850048379,0.05192666812031071,-0.05736198016896495,-0.06474932685729319,-0.03856260755765358,-0.01476455468498946,-0.08403267071559635,-0.09275904452336459,-0.08458393519838875,-0.16922080988945593,-0.1319961539679768,-0.10830455448031476,-0.024309462424328545,-0.20372353496461376,-0.03525395272222313,-0.11521422049555712,-0.06469057727592913,-0.07020755215441385,0.02358566863691276,-0.09670617525209599,-0.1525656428546369,-0.09434007463558969,-0.1223473159717414,-0.09525716005047377,-0.05340515414436837,-0.01080135362293983,0.023203920683463358,-0.006706102837967081,0.031034108335060102,-0.04366670700755992,-0.11107502243274894,-0.02293285708327028,-0.10863120182946454,-0.028367995584072193,-0.022250443652477442,-0.020993422164380077],\"yaxis\":\"y\",\"type\":\"scatter\"},{\"hovertemplate\":\"<b>%{hovertext}</b><br><br>topic=rugby<br>pca_0=%{x}<br>pca_1=%{y}<extra></extra>\",\"hovertext\":[490.0,491.0,492.0,493.0,494.0,495.0,496.0,497.0,498.0,499.0,500.0,501.0,502.0,503.0,504.0,505.0,506.0,507.0,508.0,509.0,510.0,511.0,512.0,513.0,514.0,515.0,516.0,517.0,518.0,519.0,520.0,521.0,522.0,523.0,524.0,525.0,526.0,527.0,528.0,529.0,530.0,531.0,532.0,533.0,534.0,535.0,536.0,537.0,538.0,539.0,540.0,541.0,542.0,543.0,544.0,545.0,546.0,547.0,548.0,549.0,550.0,551.0,552.0,553.0,554.0,555.0,556.0,557.0,558.0,559.0,560.0,561.0,562.0,563.0,564.0,565.0,566.0,567.0,568.0,569.0,570.0,571.0,572.0,573.0,574.0,575.0,576.0,577.0,578.0,579.0,580.0,581.0,582.0,583.0,584.0,585.0,586.0,587.0,588.0,589.0,590.0,591.0,592.0,593.0,594.0,595.0,596.0,597.0,598.0,599.0,600.0,601.0,602.0,603.0,604.0,605.0,606.0,607.0,608.0,609.0,610.0,611.0,612.0,613.0,614.0,615.0,616.0,617.0,618.0,619.0,620.0,621.0,622.0,623.0,624.0,625.0,626.0,627.0,628.0,629.0,630.0,631.0,632.0,633.0,634.0,635.0,636.0],\"legendgroup\":\"rugby\",\"marker\":{\"color\":\"#ab63fa\",\"symbol\":\"circle\"},\"mode\":\"markers\",\"name\":\"rugby\",\"orientation\":\"v\",\"showlegend\":true,\"x\":[0.13159674138991703,0.1912521587425424,0.1372506189677808,0.057031854753781405,0.06666109071046161,0.1515806445360584,0.13513800780673202,0.12862256412033826,0.10030159570972336,0.04000552087557203,0.0097729038182673,0.0605477646362028,0.08260360489147786,0.030357933124174192,0.03814253807305914,0.15787561406108178,0.19667881154445577,0.08507142977472468,0.15896660196618007,0.15244384148188794,0.1623024337137531,0.09140860606800874,0.06224038856165498,0.09354859269914059,0.1488994127291191,0.027344623156766137,0.13533766337869035,0.18693589908998245,0.2228201004364554,0.10960388484668429,0.15612048897025677,0.21105733848801206,0.06192604096034785,-0.008917526509888396,0.04048653538210093,-0.007417446412815093,0.21158736763609154,0.034826613508674865,0.18239798134474106,0.27890891085569725,0.02529364777411308,0.03651281288937056,0.1389437715703204,0.044219555915673406,0.12283114931325248,0.12151029313338044,0.13731235607461006,0.23971191473396503,0.10392016211653902,0.1326103546985525,0.1831335782230428,0.09507893509492736,0.12659146269053573,0.11121259139928598,0.13414526388219233,0.26883810200921826,0.127699036840657,0.06997796165230731,0.20732026090030167,0.10945943320029093,0.10392016211653902,0.14111787073451262,0.06407280340119387,0.10096038525042968,0.10404741447600087,0.15174323105189202,0.04710966787903664,0.2118734538296758,0.10302990686529176,0.04502271027103651,0.038829415066383335,0.11928794430516385,0.1462524271355534,0.06716359369999333,0.08645634343696676,0.05879210281164441,0.057375686737224874,-0.024878941632500685,0.053337233587998224,0.004162974075871355,0.0902326596724486,-0.0020651649422574877,0.025082673986002252,0.0578102326213452,0.1730197654845687,0.09535754079313895,0.11914976415162697,0.17188768248016892,-0.016535135807650536,0.20462707175609615,0.02121564965004177,0.1189257673038851,0.05129204125512864,0.1763699598680482,0.10929828240970807,0.057851449729464724,0.06600063280153905,0.09404196018782153,0.06376792082179933,0.16273320385285286,0.01514651148084637,0.13237187525501332,0.044679830542650935,0.13204072958625637,0.12988357993102997,0.11262009704450807,0.035606821867069906,0.04510239668629877,0.08230860687206547,0.02242109521803011,0.0020997622973113928,-0.05510520922855318,-0.053922679602678825,0.028879517711201935,0.027176799171150696,-0.04071072656874188,0.18429536005552713,0.06384405708298403,0.052267382627962204,-0.0022407718968518687,0.1301913316715178,0.13857110015507268,0.09656662565251974,-0.031212403538947896,-0.021898066060708075,-0.04796974172099881,0.11040203228537464,0.1174886919105329,0.1438968353938471,0.1806432977737279,0.15132840434249345,0.2627663780736944,0.15164118276885352,0.15179670162865427,0.09507893509492736,0.11918864205653758,0.11908577040775783,0.03628199268041388,0.12702389109470108,0.0697376591517694,0.2252676896531028,0.14062801287830481,0.22351089513469638,0.12435942838073508,0.1371820356616098,0.08030476248900068,0.046055649568563575],\"xaxis\":\"x\",\"y\":[-0.18030801182772802,-0.2051263763410247,-0.1653004704546098,-0.04932263918272317,-0.10298748803056049,-0.20094061145275147,-0.17679059124246313,-0.14556346265223624,-0.12934411127684167,-0.04252552948887484,-0.055756864566867605,-0.03396976294926705,-0.10259441385614293,-0.08597993625227043,-0.03994242113344554,-0.15976266742787096,-0.16143477193410394,-0.10697747796253503,-0.11327010448378061,-0.1579350608839545,-0.14677962946683681,-0.09945125403694766,-0.04840561429764076,-0.08055650357097359,-0.15829062861139337,-0.09785993357558959,-0.09753884977396872,-0.12537239984003587,-0.11773411229113215,-0.14788919578297308,-0.110898373105713,-0.16131349580018445,-0.12508479433584732,-0.012489944961986523,-0.06471649848036919,0.019350959463197048,-0.1243264695333047,-0.05425426169476863,-0.08267716940798682,-0.21977435573626025,0.006601920373412751,0.007957384543536847,-0.17842152340882467,-0.11664703278629919,-0.07791398898856305,-0.07685829835032171,-0.14949288894092386,-0.140034300105039,-0.0843133130260611,-0.09007579495273017,-0.15537167976224184,-0.08951618975943562,-0.1500775334705198,-0.09166709984269791,-0.16712819463919254,-0.09796925874669553,-0.12893814592656652,-0.06802452502702826,-0.18696021754019457,-0.10791487953564446,-0.0843133130260611,-0.1169067871125859,-0.10147873764908913,-0.11742760652062889,-0.12706513438072434,-0.15473152930736506,-0.024760039648206108,-0.16042802727815064,-0.11440798730309422,-0.018492292576349562,-0.08736543966819248,-0.09993534549182347,-0.1450014512452884,-0.11407725498099937,-0.14190066462243495,-0.09316082085664483,-0.12645447738962926,-0.026570033115120413,-0.04228693372225167,-0.025916823213945252,-0.10691714366257923,-0.05016546795244198,-0.027345389286431293,-0.057136454593068396,-0.09351092708763006,-0.01780560994916487,-0.08238562238638492,-0.06807166421574629,-0.02497763705974813,-0.15920257895517406,-0.007996250574762298,-0.07642762248909328,-0.09760786318469754,-0.09717184714444124,-0.05569775431870832,-0.02157963567031251,-0.06756608670255561,-0.038440211791538,-0.01881431887216399,-0.1410221389959652,-0.016177501944311678,-0.09177404393025064,0.008277972231045384,-0.09141535656414264,-0.08044598271010239,-0.06312201326832394,-0.08644849995332156,-0.09437224095564735,-0.004111687413902817,-0.08103614845061172,-0.07228655103906514,-0.03055009415309915,-0.03158506141772333,-0.025681425550418344,-0.019598167910715867,-0.05767943186115073,-0.18819966694846077,-0.013293242488954346,-0.08374186298894233,-0.06529102311772732,-0.11684830978487698,-0.12161261782350227,-0.10957532270862133,-0.05493299196083456,-0.07851381199159319,-0.0405486889723922,-0.04768285751258982,-0.11149907519492569,0.004688870768460094,-0.1575996751761633,-0.18843921207077488,-0.21710572286572566,-0.2007011695086674,-0.07617720829049317,-0.08951618975943562,-0.1424795911122073,-0.048690306627178485,-0.06134349988801002,-0.13346711334188419,-0.10622237648814707,-0.1594087678189792,-0.16176028296325992,-0.11763934228532695,-0.0830331123728466,-0.07413654892087922,-0.04381115101664203,-0.04326422540077591],\"yaxis\":\"y\",\"type\":\"scatter\"},{\"hovertemplate\":\"<b>%{hovertext}</b><br><br>topic=tennis<br>pca_0=%{x}<br>pca_1=%{y}<extra></extra>\",\"hovertext\":[637.0,638.0,639.0,640.0,641.0,642.0,643.0,644.0,645.0,646.0,647.0,648.0,649.0,650.0,651.0,652.0,653.0,654.0,655.0,656.0,657.0,658.0,659.0,660.0,661.0,662.0,663.0,664.0,665.0,666.0,667.0,668.0,669.0,670.0,671.0,672.0,673.0,674.0,675.0,676.0,677.0,678.0,679.0,680.0,681.0,682.0,683.0,684.0,685.0,686.0,687.0,688.0,689.0,690.0,691.0,692.0,693.0,694.0,695.0,696.0,697.0,698.0,699.0,700.0,701.0,702.0,703.0,704.0,705.0,706.0,707.0,708.0,709.0,710.0,711.0,712.0,713.0,714.0,715.0,716.0,717.0,718.0,719.0,720.0,721.0,722.0,723.0,724.0,725.0,726.0,727.0,728.0,729.0,730.0,731.0,732.0,733.0,734.0,735.0,736.0],\"legendgroup\":\"tennis\",\"marker\":{\"color\":\"#FFA15A\",\"symbol\":\"circle\"},\"mode\":\"markers\",\"name\":\"tennis\",\"orientation\":\"v\",\"showlegend\":true,\"x\":[-0.04264475879039015,-0.05496141985552137,-0.055696972283373426,-0.06918215456684725,-0.03800552205874207,-0.054380270729638205,-0.059748817033471346,-0.048834834758508416,-0.05566609772752401,-0.05149883878676358,-0.02743402071661737,-0.07349389981383109,-0.03812454274400617,-0.040106362397104516,-0.046820724589129274,-0.05149883878676358,-0.06407728949652813,-0.07349389981383109,-0.040713531657958095,-0.04663210367875659,-0.06792839021452582,-0.060424687087795574,-0.0557683720609112,-0.07343635383401695,-0.04488914150126079,-0.041909460652886164,-0.02253694884265029,-0.060542711480786424,-0.057853139585493686,-0.06101235741728024,-0.04140456619125106,-0.056252819869301814,-0.06229485073451833,-0.04823424194978059,-0.03350876736433266,-0.025942584471964555,-0.0688886351160522,-0.07577368637831619,-0.051497576028643285,-0.055804057028104065,-0.05140241765079039,-0.043292770802233864,-0.06591923088029507,-0.06648066068564608,-0.048210399853994175,-0.0702367657992618,-0.054738290387818966,-0.056603090184852656,-0.07556272498243898,-0.07556272498243898,-0.058341265598595995,-0.0560957077180032,-0.04830804280122894,-0.03195051798314411,-0.04937083310910142,-0.08161995614934214,-0.06956671774490333,-0.04115510837681245,-0.04008249158636591,-0.06207953666244742,-0.06267539086088811,-0.03866318120206441,-0.04616600914006122,-0.0999782674649363,-0.053907055276392744,-0.06482673128522179,-0.054587066434244075,-0.02541787709949772,-0.08053452151439915,-0.08062217459318348,-0.05110654008198588,-0.07712885510671633,-0.057816083228305525,-0.048221154105851836,-0.10312541016582731,-0.03595065930807512,-0.029689149959167986,-0.04722427030892311,-0.0798959456608967,-0.07197064069361798,-0.04188669489524736,-0.07207664177054138,-0.06631874078111279,-0.03235955864143903,-0.051006830041340136,-0.0276369582860222,-0.0609100193621626,-0.020833547923037134,-0.06212594862196956,-0.03784705008621517,-0.07886576178383786,0.017128924756193795,-0.031830903936745286,-0.06330787676940733,-0.04153563086619402,-0.06663426167725048,-0.048151757363650766,-0.049762751202150894,-0.04870969774446013,-0.029134478120574396],\"xaxis\":\"x\",\"y\":[0.07820116546180818,0.10533912355872631,0.048370027867795616,0.06959466454908274,0.08919175734667709,0.08613808873825567,0.0790648798859685,0.09591401124948001,0.07996923655555656,0.11592423054190833,0.03342359191554769,0.05495211593867599,0.08720635893037242,0.09621350118136199,0.08777967168234384,0.11592423054190833,0.051772624562840035,0.05495211593867599,0.08930712554645917,0.10606767502744184,0.1424412546615773,0.05982974362303334,0.06546433243384295,0.11736366645546358,0.03111345744087295,0.09656458964778741,0.07488751922348733,0.11587912964733954,0.03922543136652091,0.10750756153334465,0.059568845653733514,0.07148386082943921,0.09255810709263998,0.07226130362325628,0.03611111157443678,0.0419239762508913,0.13556909262242206,0.11931139536990244,0.10174086511776789,0.04855494324316925,0.0679724473427501,0.06686482001246839,0.09688712831633457,0.011700398035014504,0.10565466366329523,0.05956122666227506,0.1389465147836508,0.07911495774903828,0.022806604044876846,0.022806604044876846,0.14546217636002426,0.03386872403212657,0.05274853126744756,0.04281330211897927,0.08001018253684192,0.15126617620149405,0.11062461475699847,0.0755637830672157,0.07338286734663553,0.09704783178486377,0.06325792138586522,0.012798736645228317,0.09343274678815194,0.14925127001558908,0.11408110991065802,0.08124127082153748,0.07482736401625605,0.03638421855869968,0.04472199370314736,0.044909586911001415,0.05450960592840256,0.11029095798862802,0.02727693590316057,0.08258392522240945,0.134592969572199,0.04496277855640758,0.03842495744374231,0.07824739187507736,0.03645482846450902,0.04770388555832297,0.06917050589573481,0.064064984893844,0.045872211456965475,0.028564440690084465,0.06757098660965241,0.1060672135046232,0.0706898666345563,0.06845887167045252,0.07757954130224436,0.07590929074775597,0.07614825439486565,0.04697318721785069,0.06717851463654617,0.07964128944061179,0.105238827850824,0.1087933230927288,0.05289538850721994,0.06020561675666957,0.013944823139749788,0.07144500504300397],\"yaxis\":\"y\",\"type\":\"scatter\"}],                        {\"template\":{\"data\":{\"bar\":[{\"error_x\":{\"color\":\"#2a3f5f\"},\"error_y\":{\"color\":\"#2a3f5f\"},\"marker\":{\"line\":{\"color\":\"#E5ECF6\",\"width\":0.5},\"pattern\":{\"fillmode\":\"overlay\",\"size\":10,\"solidity\":0.2}},\"type\":\"bar\"}],\"barpolar\":[{\"marker\":{\"line\":{\"color\":\"#E5ECF6\",\"width\":0.5},\"pattern\":{\"fillmode\":\"overlay\",\"size\":10,\"solidity\":0.2}},\"type\":\"barpolar\"}],\"carpet\":[{\"aaxis\":{\"endlinecolor\":\"#2a3f5f\",\"gridcolor\":\"white\",\"linecolor\":\"white\",\"minorgridcolor\":\"white\",\"startlinecolor\":\"#2a3f5f\"},\"baxis\":{\"endlinecolor\":\"#2a3f5f\",\"gridcolor\":\"white\",\"linecolor\":\"white\",\"minorgridcolor\":\"white\",\"startlinecolor\":\"#2a3f5f\"},\"type\":\"carpet\"}],\"choropleth\":[{\"colorbar\":{\"outlinewidth\":0,\"ticks\":\"\"},\"type\":\"choropleth\"}],\"contour\":[{\"colorbar\":{\"outlinewidth\":0,\"ticks\":\"\"},\"colorscale\":[[0.0,\"#0d0887\"],[0.1111111111111111,\"#46039f\"],[0.2222222222222222,\"#7201a8\"],[0.3333333333333333,\"#9c179e\"],[0.4444444444444444,\"#bd3786\"],[0.5555555555555556,\"#d8576b\"],[0.6666666666666666,\"#ed7953\"],[0.7777777777777778,\"#fb9f3a\"],[0.8888888888888888,\"#fdca26\"],[1.0,\"#f0f921\"]],\"type\":\"contour\"}],\"contourcarpet\":[{\"colorbar\":{\"outlinewidth\":0,\"ticks\":\"\"},\"type\":\"contourcarpet\"}],\"heatmap\":[{\"colorbar\":{\"outlinewidth\":0,\"ticks\":\"\"},\"colorscale\":[[0.0,\"#0d0887\"],[0.1111111111111111,\"#46039f\"],[0.2222222222222222,\"#7201a8\"],[0.3333333333333333,\"#9c179e\"],[0.4444444444444444,\"#bd3786\"],[0.5555555555555556,\"#d8576b\"],[0.6666666666666666,\"#ed7953\"],[0.7777777777777778,\"#fb9f3a\"],[0.8888888888888888,\"#fdca26\"],[1.0,\"#f0f921\"]],\"type\":\"heatmap\"}],\"heatmapgl\":[{\"colorbar\":{\"outlinewidth\":0,\"ticks\":\"\"},\"colorscale\":[[0.0,\"#0d0887\"],[0.1111111111111111,\"#46039f\"],[0.2222222222222222,\"#7201a8\"],[0.3333333333333333,\"#9c179e\"],[0.4444444444444444,\"#bd3786\"],[0.5555555555555556,\"#d8576b\"],[0.6666666666666666,\"#ed7953\"],[0.7777777777777778,\"#fb9f3a\"],[0.8888888888888888,\"#fdca26\"],[1.0,\"#f0f921\"]],\"type\":\"heatmapgl\"}],\"histogram\":[{\"marker\":{\"pattern\":{\"fillmode\":\"overlay\",\"size\":10,\"solidity\":0.2}},\"type\":\"histogram\"}],\"histogram2d\":[{\"colorbar\":{\"outlinewidth\":0,\"ticks\":\"\"},\"colorscale\":[[0.0,\"#0d0887\"],[0.1111111111111111,\"#46039f\"],[0.2222222222222222,\"#7201a8\"],[0.3333333333333333,\"#9c179e\"],[0.4444444444444444,\"#bd3786\"],[0.5555555555555556,\"#d8576b\"],[0.6666666666666666,\"#ed7953\"],[0.7777777777777778,\"#fb9f3a\"],[0.8888888888888888,\"#fdca26\"],[1.0,\"#f0f921\"]],\"type\":\"histogram2d\"}],\"histogram2dcontour\":[{\"colorbar\":{\"outlinewidth\":0,\"ticks\":\"\"},\"colorscale\":[[0.0,\"#0d0887\"],[0.1111111111111111,\"#46039f\"],[0.2222222222222222,\"#7201a8\"],[0.3333333333333333,\"#9c179e\"],[0.4444444444444444,\"#bd3786\"],[0.5555555555555556,\"#d8576b\"],[0.6666666666666666,\"#ed7953\"],[0.7777777777777778,\"#fb9f3a\"],[0.8888888888888888,\"#fdca26\"],[1.0,\"#f0f921\"]],\"type\":\"histogram2dcontour\"}],\"mesh3d\":[{\"colorbar\":{\"outlinewidth\":0,\"ticks\":\"\"},\"type\":\"mesh3d\"}],\"parcoords\":[{\"line\":{\"colorbar\":{\"outlinewidth\":0,\"ticks\":\"\"}},\"type\":\"parcoords\"}],\"pie\":[{\"automargin\":true,\"type\":\"pie\"}],\"scatter\":[{\"marker\":{\"colorbar\":{\"outlinewidth\":0,\"ticks\":\"\"}},\"type\":\"scatter\"}],\"scatter3d\":[{\"line\":{\"colorbar\":{\"outlinewidth\":0,\"ticks\":\"\"}},\"marker\":{\"colorbar\":{\"outlinewidth\":0,\"ticks\":\"\"}},\"type\":\"scatter3d\"}],\"scattercarpet\":[{\"marker\":{\"colorbar\":{\"outlinewidth\":0,\"ticks\":\"\"}},\"type\":\"scattercarpet\"}],\"scattergeo\":[{\"marker\":{\"colorbar\":{\"outlinewidth\":0,\"ticks\":\"\"}},\"type\":\"scattergeo\"}],\"scattergl\":[{\"marker\":{\"colorbar\":{\"outlinewidth\":0,\"ticks\":\"\"}},\"type\":\"scattergl\"}],\"scattermapbox\":[{\"marker\":{\"colorbar\":{\"outlinewidth\":0,\"ticks\":\"\"}},\"type\":\"scattermapbox\"}],\"scatterpolar\":[{\"marker\":{\"colorbar\":{\"outlinewidth\":0,\"ticks\":\"\"}},\"type\":\"scatterpolar\"}],\"scatterpolargl\":[{\"marker\":{\"colorbar\":{\"outlinewidth\":0,\"ticks\":\"\"}},\"type\":\"scatterpolargl\"}],\"scatterternary\":[{\"marker\":{\"colorbar\":{\"outlinewidth\":0,\"ticks\":\"\"}},\"type\":\"scatterternary\"}],\"surface\":[{\"colorbar\":{\"outlinewidth\":0,\"ticks\":\"\"},\"colorscale\":[[0.0,\"#0d0887\"],[0.1111111111111111,\"#46039f\"],[0.2222222222222222,\"#7201a8\"],[0.3333333333333333,\"#9c179e\"],[0.4444444444444444,\"#bd3786\"],[0.5555555555555556,\"#d8576b\"],[0.6666666666666666,\"#ed7953\"],[0.7777777777777778,\"#fb9f3a\"],[0.8888888888888888,\"#fdca26\"],[1.0,\"#f0f921\"]],\"type\":\"surface\"}],\"table\":[{\"cells\":{\"fill\":{\"color\":\"#EBF0F8\"},\"line\":{\"color\":\"white\"}},\"header\":{\"fill\":{\"color\":\"#C8D4E3\"},\"line\":{\"color\":\"white\"}},\"type\":\"table\"}]},\"layout\":{\"annotationdefaults\":{\"arrowcolor\":\"#2a3f5f\",\"arrowhead\":0,\"arrowwidth\":1},\"autotypenumbers\":\"strict\",\"coloraxis\":{\"colorbar\":{\"outlinewidth\":0,\"ticks\":\"\"}},\"colorscale\":{\"diverging\":[[0,\"#8e0152\"],[0.1,\"#c51b7d\"],[0.2,\"#de77ae\"],[0.3,\"#f1b6da\"],[0.4,\"#fde0ef\"],[0.5,\"#f7f7f7\"],[0.6,\"#e6f5d0\"],[0.7,\"#b8e186\"],[0.8,\"#7fbc41\"],[0.9,\"#4d9221\"],[1,\"#276419\"]],\"sequential\":[[0.0,\"#0d0887\"],[0.1111111111111111,\"#46039f\"],[0.2222222222222222,\"#7201a8\"],[0.3333333333333333,\"#9c179e\"],[0.4444444444444444,\"#bd3786\"],[0.5555555555555556,\"#d8576b\"],[0.6666666666666666,\"#ed7953\"],[0.7777777777777778,\"#fb9f3a\"],[0.8888888888888888,\"#fdca26\"],[1.0,\"#f0f921\"]],\"sequentialminus\":[[0.0,\"#0d0887\"],[0.1111111111111111,\"#46039f\"],[0.2222222222222222,\"#7201a8\"],[0.3333333333333333,\"#9c179e\"],[0.4444444444444444,\"#bd3786\"],[0.5555555555555556,\"#d8576b\"],[0.6666666666666666,\"#ed7953\"],[0.7777777777777778,\"#fb9f3a\"],[0.8888888888888888,\"#fdca26\"],[1.0,\"#f0f921\"]]},\"colorway\":[\"#636efa\",\"#EF553B\",\"#00cc96\",\"#ab63fa\",\"#FFA15A\",\"#19d3f3\",\"#FF6692\",\"#B6E880\",\"#FF97FF\",\"#FECB52\"],\"font\":{\"color\":\"#2a3f5f\"},\"geo\":{\"bgcolor\":\"white\",\"lakecolor\":\"white\",\"landcolor\":\"#E5ECF6\",\"showlakes\":true,\"showland\":true,\"subunitcolor\":\"white\"},\"hoverlabel\":{\"align\":\"left\"},\"hovermode\":\"closest\",\"mapbox\":{\"style\":\"light\"},\"paper_bgcolor\":\"white\",\"plot_bgcolor\":\"#E5ECF6\",\"polar\":{\"angularaxis\":{\"gridcolor\":\"white\",\"linecolor\":\"white\",\"ticks\":\"\"},\"bgcolor\":\"#E5ECF6\",\"radialaxis\":{\"gridcolor\":\"white\",\"linecolor\":\"white\",\"ticks\":\"\"}},\"scene\":{\"xaxis\":{\"backgroundcolor\":\"#E5ECF6\",\"gridcolor\":\"white\",\"gridwidth\":2,\"linecolor\":\"white\",\"showbackground\":true,\"ticks\":\"\",\"zerolinecolor\":\"white\"},\"yaxis\":{\"backgroundcolor\":\"#E5ECF6\",\"gridcolor\":\"white\",\"gridwidth\":2,\"linecolor\":\"white\",\"showbackground\":true,\"ticks\":\"\",\"zerolinecolor\":\"white\"},\"zaxis\":{\"backgroundcolor\":\"#E5ECF6\",\"gridcolor\":\"white\",\"gridwidth\":2,\"linecolor\":\"white\",\"showbackground\":true,\"ticks\":\"\",\"zerolinecolor\":\"white\"}},\"shapedefaults\":{\"line\":{\"color\":\"#2a3f5f\"}},\"ternary\":{\"aaxis\":{\"gridcolor\":\"white\",\"linecolor\":\"white\",\"ticks\":\"\"},\"baxis\":{\"gridcolor\":\"white\",\"linecolor\":\"white\",\"ticks\":\"\"},\"bgcolor\":\"#E5ECF6\",\"caxis\":{\"gridcolor\":\"white\",\"linecolor\":\"white\",\"ticks\":\"\"}},\"title\":{\"x\":0.05},\"xaxis\":{\"automargin\":true,\"gridcolor\":\"white\",\"linecolor\":\"white\",\"ticks\":\"\",\"title\":{\"standoff\":15},\"zerolinecolor\":\"white\",\"zerolinewidth\":2},\"yaxis\":{\"automargin\":true,\"gridcolor\":\"white\",\"linecolor\":\"white\",\"ticks\":\"\",\"title\":{\"standoff\":15},\"zerolinecolor\":\"white\",\"zerolinewidth\":2}}},\"xaxis\":{\"anchor\":\"y\",\"domain\":[0.0,1.0],\"title\":{\"text\":\"pca_0\"}},\"yaxis\":{\"anchor\":\"x\",\"domain\":[0.0,1.0],\"title\":{\"text\":\"pca_1\"}},\"legend\":{\"title\":{\"text\":\"topic\"},\"tracegroupgap\":0},\"title\":{\"text\":\"PCA BBC Sport news labelled by topics\"}},                        {\"responsive\": true}                    ).then(function(){\n",
              "                            \n",
              "var gd = document.getElementById('993a7bf7-0744-492c-81ae-eef13a95677f');\n",
              "var x = new MutationObserver(function (mutations, observer) {{\n",
              "        var display = window.getComputedStyle(gd).display;\n",
              "        if (!display || display === 'none') {{\n",
              "            console.log([gd, 'removed!']);\n",
              "            Plotly.purge(gd);\n",
              "            observer.disconnect();\n",
              "        }}\n",
              "}});\n",
              "\n",
              "// Listen for the removal of the full notebook cells\n",
              "var notebookContainer = gd.closest('#notebook-container');\n",
              "if (notebookContainer) {{\n",
              "    x.observe(notebookContainer, {childList: true});\n",
              "}}\n",
              "\n",
              "// Listen for the clearing of the current output cell\n",
              "var outputEl = gd.closest('.output');\n",
              "if (outputEl) {{\n",
              "    x.observe(outputEl, {childList: true});\n",
              "}}\n",
              "\n",
              "                        })                };                            </script>        </div>\n",
              "</body>\n",
              "</html>"
            ]
          },
          "metadata": {}
        }
      ]
    },
    {
      "cell_type": "code",
      "source": [
        "fig = px.scatter(df, x=\"pca_0\", y=\"pca_1\", \n",
        "                 color=\"cluster\",\n",
        "                 title=\"PCA BBC Sport news labelled by clusters\",\n",
        "                 hover_name=df.index,)\n",
        "fig.show()"
      ],
      "metadata": {
        "colab": {
          "base_uri": "https://localhost:8080/",
          "height": 542
        },
        "id": "Es_9nkSj2siw",
        "outputId": "5400d704-0e05-410c-93bd-8f726980b81e"
      },
      "execution_count": 80,
      "outputs": [
        {
          "output_type": "display_data",
          "data": {
            "text/html": [
              "<html>\n",
              "<head><meta charset=\"utf-8\" /></head>\n",
              "<body>\n",
              "    <div>            <script src=\"https://cdnjs.cloudflare.com/ajax/libs/mathjax/2.7.5/MathJax.js?config=TeX-AMS-MML_SVG\"></script><script type=\"text/javascript\">if (window.MathJax) {MathJax.Hub.Config({SVG: {font: \"STIX-Web\"}});}</script>                <script type=\"text/javascript\">window.PlotlyConfig = {MathJaxConfig: 'local'};</script>\n",
              "        <script src=\"https://cdn.plot.ly/plotly-2.8.3.min.js\"></script>                <div id=\"f7b0cf42-54e8-4546-b240-f5e49883796f\" class=\"plotly-graph-div\" style=\"height:525px; width:100%;\"></div>            <script type=\"text/javascript\">                                    window.PLOTLYENV=window.PLOTLYENV || {};                                    if (document.getElementById(\"f7b0cf42-54e8-4546-b240-f5e49883796f\")) {                    Plotly.newPlot(                        \"f7b0cf42-54e8-4546-b240-f5e49883796f\",                        [{\"hovertemplate\":\"<b>%{hovertext}</b><br><br>pca_0=%{x}<br>pca_1=%{y}<br>cluster=%{marker.color}<extra></extra>\",\"hovertext\":[0.0,1.0,2.0,3.0,4.0,5.0,6.0,7.0,8.0,9.0,10.0,11.0,12.0,13.0,14.0,15.0,16.0,17.0,18.0,19.0,20.0,21.0,22.0,23.0,24.0,25.0,26.0,27.0,28.0,29.0,30.0,31.0,32.0,33.0,34.0,35.0,36.0,37.0,38.0,39.0,40.0,41.0,42.0,43.0,44.0,45.0,46.0,47.0,48.0,49.0,50.0,51.0,52.0,53.0,54.0,55.0,56.0,57.0,58.0,59.0,60.0,61.0,62.0,63.0,64.0,65.0,66.0,67.0,68.0,69.0,70.0,71.0,72.0,73.0,74.0,75.0,76.0,77.0,78.0,79.0,80.0,81.0,82.0,83.0,84.0,85.0,86.0,87.0,88.0,89.0,90.0,91.0,92.0,93.0,94.0,95.0,96.0,97.0,98.0,99.0,100.0,101.0,102.0,103.0,104.0,105.0,106.0,107.0,108.0,109.0,110.0,111.0,112.0,113.0,114.0,115.0,116.0,117.0,118.0,119.0,120.0,121.0,122.0,123.0,124.0,125.0,126.0,127.0,128.0,129.0,130.0,131.0,132.0,133.0,134.0,135.0,136.0,137.0,138.0,139.0,140.0,141.0,142.0,143.0,144.0,145.0,146.0,147.0,148.0,149.0,150.0,151.0,152.0,153.0,154.0,155.0,156.0,157.0,158.0,159.0,160.0,161.0,162.0,163.0,164.0,165.0,166.0,167.0,168.0,169.0,170.0,171.0,172.0,173.0,174.0,175.0,176.0,177.0,178.0,179.0,180.0,181.0,182.0,183.0,184.0,185.0,186.0,187.0,188.0,189.0,190.0,191.0,192.0,193.0,194.0,195.0,196.0,197.0,198.0,199.0,200.0,201.0,202.0,203.0,204.0,205.0,206.0,207.0,208.0,209.0,210.0,211.0,212.0,213.0,214.0,215.0,216.0,217.0,218.0,219.0,220.0,221.0,222.0,223.0,224.0,225.0,226.0,227.0,228.0,229.0,230.0,231.0,232.0,233.0,234.0,235.0,236.0,237.0,238.0,239.0,240.0,241.0,242.0,243.0,244.0,245.0,246.0,247.0,248.0,249.0,250.0,251.0,252.0,253.0,254.0,255.0,256.0,257.0,258.0,259.0,260.0,261.0,262.0,263.0,264.0,265.0,266.0,267.0,268.0,269.0,270.0,271.0,272.0,273.0,274.0,275.0,276.0,277.0,278.0,279.0,280.0,281.0,282.0,283.0,284.0,285.0,286.0,287.0,288.0,289.0,290.0,291.0,292.0,293.0,294.0,295.0,296.0,297.0,298.0,299.0,300.0,301.0,302.0,303.0,304.0,305.0,306.0,307.0,308.0,309.0,310.0,311.0,312.0,313.0,314.0,315.0,316.0,317.0,318.0,319.0,320.0,321.0,322.0,323.0,324.0,325.0,326.0,327.0,328.0,329.0,330.0,331.0,332.0,333.0,334.0,335.0,336.0,337.0,338.0,339.0,340.0,341.0,342.0,343.0,344.0,345.0,346.0,347.0,348.0,349.0,350.0,351.0,352.0,353.0,354.0,355.0,356.0,357.0,358.0,359.0,360.0,361.0,362.0,363.0,364.0,365.0,366.0,367.0,368.0,369.0,370.0,371.0,372.0,373.0,374.0,375.0,376.0,377.0,378.0,379.0,380.0,381.0,382.0,383.0,384.0,385.0,386.0,387.0,388.0,389.0,390.0,391.0,392.0,393.0,394.0,395.0,396.0,397.0,398.0,399.0,400.0,401.0,402.0,403.0,404.0,405.0,406.0,407.0,408.0,409.0,410.0,411.0,412.0,413.0,414.0,415.0,416.0,417.0,418.0,419.0,420.0,421.0,422.0,423.0,424.0,425.0,426.0,427.0,428.0,429.0,430.0,431.0,432.0,433.0,434.0,435.0,436.0,437.0,438.0,439.0,440.0,441.0,442.0,443.0,444.0,445.0,446.0,447.0,448.0,449.0,450.0,451.0,452.0,453.0,454.0,455.0,456.0,457.0,458.0,459.0,460.0,461.0,462.0,463.0,464.0,465.0,466.0,467.0,468.0,469.0,470.0,471.0,472.0,473.0,474.0,475.0,476.0,477.0,478.0,479.0,480.0,481.0,482.0,483.0,484.0,485.0,486.0,487.0,488.0,489.0,490.0,491.0,492.0,493.0,494.0,495.0,496.0,497.0,498.0,499.0,500.0,501.0,502.0,503.0,504.0,505.0,506.0,507.0,508.0,509.0,510.0,511.0,512.0,513.0,514.0,515.0,516.0,517.0,518.0,519.0,520.0,521.0,522.0,523.0,524.0,525.0,526.0,527.0,528.0,529.0,530.0,531.0,532.0,533.0,534.0,535.0,536.0,537.0,538.0,539.0,540.0,541.0,542.0,543.0,544.0,545.0,546.0,547.0,548.0,549.0,550.0,551.0,552.0,553.0,554.0,555.0,556.0,557.0,558.0,559.0,560.0,561.0,562.0,563.0,564.0,565.0,566.0,567.0,568.0,569.0,570.0,571.0,572.0,573.0,574.0,575.0,576.0,577.0,578.0,579.0,580.0,581.0,582.0,583.0,584.0,585.0,586.0,587.0,588.0,589.0,590.0,591.0,592.0,593.0,594.0,595.0,596.0,597.0,598.0,599.0,600.0,601.0,602.0,603.0,604.0,605.0,606.0,607.0,608.0,609.0,610.0,611.0,612.0,613.0,614.0,615.0,616.0,617.0,618.0,619.0,620.0,621.0,622.0,623.0,624.0,625.0,626.0,627.0,628.0,629.0,630.0,631.0,632.0,633.0,634.0,635.0,636.0,637.0,638.0,639.0,640.0,641.0,642.0,643.0,644.0,645.0,646.0,647.0,648.0,649.0,650.0,651.0,652.0,653.0,654.0,655.0,656.0,657.0,658.0,659.0,660.0,661.0,662.0,663.0,664.0,665.0,666.0,667.0,668.0,669.0,670.0,671.0,672.0,673.0,674.0,675.0,676.0,677.0,678.0,679.0,680.0,681.0,682.0,683.0,684.0,685.0,686.0,687.0,688.0,689.0,690.0,691.0,692.0,693.0,694.0,695.0,696.0,697.0,698.0,699.0,700.0,701.0,702.0,703.0,704.0,705.0,706.0,707.0,708.0,709.0,710.0,711.0,712.0,713.0,714.0,715.0,716.0,717.0,718.0,719.0,720.0,721.0,722.0,723.0,724.0,725.0,726.0,727.0,728.0,729.0,730.0,731.0,732.0,733.0,734.0,735.0,736.0],\"legendgroup\":\"\",\"marker\":{\"color\":[0,3,0,0,0,0,0,2,0,0,0,0,0,0,0,0,0,0,0,0,0,0,0,0,0,0,0,0,0,0,0,0,0,0,0,0,0,0,0,0,0,0,0,0,0,0,0,0,0,0,0,0,0,0,0,0,0,0,0,0,0,0,0,0,0,0,0,0,0,0,0,0,0,0,0,0,0,0,0,0,0,0,0,0,0,0,0,0,0,0,0,0,2,0,0,0,0,0,0,2,0,1,1,1,1,1,1,1,1,1,1,1,3,1,1,1,2,1,1,1,1,1,1,1,1,1,1,1,1,1,1,1,1,1,1,1,1,1,1,1,1,1,1,1,1,1,1,1,1,1,1,3,1,1,1,1,1,1,1,1,1,1,1,1,1,1,1,1,1,1,1,1,1,1,1,1,1,1,1,1,1,1,1,1,1,1,1,1,1,1,1,2,1,1,1,1,1,3,1,1,1,1,1,1,1,1,1,1,2,1,1,1,2,1,1,1,2,1,1,1,1,1,3,3,1,2,2,2,2,3,2,2,2,2,2,2,2,2,2,2,2,2,2,2,2,2,2,2,2,2,2,2,2,2,2,2,2,2,2,2,2,2,3,3,3,2,2,2,2,2,2,2,2,2,2,2,2,2,2,2,2,2,2,2,2,2,2,2,2,2,2,2,2,2,2,2,2,2,2,2,2,2,2,2,2,2,2,2,2,2,2,2,2,2,2,2,2,2,2,2,2,2,2,2,2,2,2,2,2,2,2,2,2,2,2,2,2,2,2,2,2,2,2,2,2,2,2,2,2,2,2,2,2,2,2,2,2,2,2,2,2,2,2,2,2,2,2,2,2,2,2,2,2,2,2,2,2,2,2,2,2,2,2,2,2,2,2,2,2,2,2,2,2,2,2,2,2,2,2,2,2,2,2,2,2,2,2,2,2,2,2,2,2,2,2,2,2,2,2,2,3,2,2,2,2,2,2,2,2,2,2,2,2,2,2,2,2,2,2,2,2,2,2,2,2,2,2,2,2,2,2,2,2,2,2,2,2,2,2,2,2,2,2,2,2,2,2,2,2,2,2,2,2,2,2,2,2,2,2,2,2,2,2,2,2,2,2,2,2,2,3,3,3,3,3,3,3,3,3,3,3,3,3,3,3,3,3,3,3,3,3,3,3,3,3,3,3,3,3,3,3,3,3,3,3,2,3,3,3,3,3,3,3,3,3,3,3,3,3,3,3,3,3,3,3,3,3,3,3,3,3,3,3,3,3,3,3,3,3,3,3,3,3,3,3,3,3,2,3,3,3,3,3,3,3,3,3,3,3,3,3,3,3,3,3,3,3,3,3,3,3,3,3,3,3,3,3,3,3,3,3,2,2,2,3,3,3,3,3,3,3,3,3,3,3,2,3,3,3,3,3,3,3,3,3,3,3,3,3,3,3,3,3,3,3,3,3,4,4,4,4,4,4,4,4,4,4,4,4,4,4,4,4,4,4,4,4,4,4,4,4,4,4,4,4,4,4,4,4,4,4,4,4,4,4,4,4,4,4,4,2,4,4,4,4,4,4,4,4,4,4,4,4,4,4,4,4,4,2,4,4,4,4,4,4,4,4,4,4,2,4,4,4,4,4,4,4,4,4,4,4,4,4,4,4,4,4,4,2,4,4,4,4,4,4,2,4],\"coloraxis\":\"coloraxis\",\"symbol\":\"circle\"},\"mode\":\"markers\",\"name\":\"\",\"orientation\":\"v\",\"showlegend\":false,\"x\":[-0.09106000168473471,-0.0003837513189644131,-0.11767252493749902,-0.09133068203435618,-0.09129515194120927,-0.11040729424734513,-0.029007960470081934,-0.042973380892341546,-0.1289388976562592,-0.15755921367082046,-0.09580914957999173,-0.10785409935789932,-0.08965875107710826,-0.08055076569681413,-0.07797402853229649,-0.12052296253701217,-0.14093659285222196,-0.10526796412610144,-0.1113278480083232,-0.10785409935789932,-0.09691425159816065,-0.10717993629551906,-0.1457315617739591,-0.07465924965414528,-0.10884523685790896,-0.08574822912612963,-0.09927637560886399,-0.11475353638421618,-0.10919968932735091,-0.0743732638155452,-0.04976675498798352,-0.13240098587619403,-0.1510972091143389,-0.13164878080357928,-0.08915267205429357,-0.05459269791576943,-0.10209025655036588,-0.10200858413892293,-0.05777600109650802,-0.07941453200560551,-0.06950218610485809,-0.09028300558144067,-0.06169446579585194,-0.05627898537562384,-0.09402798621684894,-0.08165844065403231,-0.11263234455247467,-0.1270863621370645,-0.054556283675813395,-0.1212213292288545,-0.1281533191960591,-0.09405407839418485,-0.09626034911926534,-0.1434952283684987,-0.0969241568748239,-0.10458041470125355,-0.12827070953626823,-0.1384097121061726,-0.11368509857278633,-0.10015079943533803,-0.1121161772681367,-0.06180160348365661,-0.1216449586691414,-0.06481485468955796,-0.1101396334934403,-0.16007639568882073,-0.11229192269790202,-0.03025342629077275,-0.17673186886833947,-0.1072375145660341,-0.10588115634732656,-0.059227276800241827,-0.10769113085477033,-0.10510309677675225,-0.10486520230719107,-0.06412785269514679,-0.01492315898055379,-0.0809754348928593,-0.1353218775368493,-0.13046987916946923,-0.14643390155377514,-0.1278655789888115,-0.06365098566795092,-0.09405407839418485,-0.07470147171980783,-0.08023861265381352,-0.0836315268770629,-0.054556283675813395,-0.13202521263484365,-0.09233838429586834,-0.0698013827802435,-0.07748692654824633,-0.02265518793958986,-0.08834575663966368,-0.15275829739522884,-0.11295047089445111,-0.04431529383915352,-0.10725615283898601,-0.1379959200829703,-0.06298519524809915,-0.058464360570765726,0.25341466608433816,0.21417913523938634,0.22595588367350927,0.21751606283503627,0.11991490006808599,0.1397998035655476,0.12119135469116366,0.10649744118512995,0.14944482995763617,0.10167463255202894,0.12007519257922075,0.052526193132803385,0.3133459168190575,0.0632318904381694,0.20981920615902885,0.032184660961996577,0.061573212441582786,0.14882597390072042,0.22554586550054967,0.17601082955676584,0.061573212441582786,0.18919867615123515,0.1395027189217035,0.1619723696544268,0.0727078676705707,0.2148789222913861,0.23006270536946952,0.2114536207575545,0.13967673993505245,0.1052594159349318,0.2520685047980974,0.1619723696544268,0.0727078676705707,0.19227039691655276,0.09283338051129342,0.11186070242828135,0.08183267895209777,0.16462981556181341,0.11101927356161732,0.18274040244331477,0.12951182365449718,0.24585999002351241,0.25081683436505414,0.214353748806103,0.26279850750611494,0.1663874056884901,0.061298935482368776,0.19765942236203435,0.13307490784822096,0.1882836292567232,0.03106353880981018,0.2656258360249099,0.2661371465145281,0.23026626148917625,0.12786667771019292,0.2240372590279421,0.11937318768761929,0.056256454530747756,0.20611464395323126,0.1673424795565584,0.16721818771048397,0.2297426888968557,0.29794003618961545,0.20879656814099457,0.15737692742677856,0.12858788161011026,0.1926579229106407,0.37110995388506407,0.13076027697390546,0.25752100688658036,0.3417724648746106,0.1552336606406643,0.3050178313603183,0.2493778581675286,0.3513830534431395,0.19602527558368954,0.16877549137335665,0.06191390103810984,0.18965950047233837,0.2469242373719545,0.17394573324863527,0.27556346666333914,0.32696187681893113,0.32745351161101316,0.10465232368047446,0.2664860513211643,0.27983772284048974,0.2831272387560836,0.27700405186873295,0.1387832752227186,-0.026185414613084494,0.08985320065327393,0.20740888814254224,0.031037102537719925,0.14529613719487242,0.17699986887931837,0.11107331519450478,0.17791563272216976,0.10030589481897614,0.16846778700758894,0.08756699109570883,0.01733461832034793,0.08969076687398389,0.09364900583298592,0.06736145031824065,0.04712639011426328,0.2053793801972283,0.03901358946564485,0.2861493043449241,0.20414479454831963,0.11363602314750207,-0.03353235498764455,0.16616681996862764,0.12969004342586077,0.10109502106647988,0.02840406022470989,0.20865323734991303,0.1136386578044896,0.23120879853302959,0.10357252423563437,0.1347606951624229,0.08427041384178632,0.11015275984194485,0.11965205972774176,-0.04692972658926532,-0.11360594204857272,-0.08364839053513501,-0.09689363927748562,0.07298494473102468,-0.03374200791522216,-0.07623552903618844,-0.19872064820500526,-0.10024360561189237,-0.12676545108783896,-0.006130680715831698,-0.01643359733383288,-0.011322652156454846,-0.0020004217551698074,-0.005085242719125872,-0.05496579834998922,-0.12323658790260514,-0.17124345927466597,-0.004577894938234113,-0.04145356834613376,-0.03801068544591349,-0.04715211127502298,-0.05176610784095139,-0.1382586823662374,-0.023956178376657516,-0.011065375175907608,-0.17136512241810511,-0.10740298789374593,0.004937350683049625,-0.06754751875728016,-0.13752448993246455,-0.06455179717511203,-0.017122881910209796,0.016464801235043902,0.006805496263176606,-0.05995296513170122,-0.04318001258065037,0.0030283821509291525,0.014956482929024541,0.021652685736605892,-0.031359019065697116,-0.0599878129201692,-0.07745299408868521,-0.06606859639534998,-0.06377047657998935,-0.10989260295342086,-0.1486121046618599,-0.04868381258538647,-0.056493140504635546,-0.08697071771756303,-0.02426632525960893,-0.026990034912565693,-0.04028515655560549,-0.0540100007734539,-0.047600597351933095,-0.04750182501856501,-0.05519792296958915,-0.10669254727865808,-0.060711816489352186,-0.1269680744617791,-0.08859114968552573,-0.07402886573924823,-0.11317541280830369,-0.09671186996904033,-0.18484862059137055,-0.0550963745185134,-0.0830241676568045,-0.05017735189061684,-0.07083982639498206,-0.05944231275426197,-0.08766951491017745,-0.06605232244757234,-0.10996915746049976,-0.13247057289067762,-0.2021468960842092,-0.08609942617221975,-0.03334238406446794,-0.07564929272709947,-0.008635409236456669,-0.12728293071896446,-0.07645627714005986,-0.07534455592885812,-0.18262227813631657,-0.08684744006456177,-0.05190254657268471,-0.07308077128551463,-0.1303771962030765,-0.1303771962030765,-0.1493766183823535,-0.11786211446788158,-0.03605965402097537,-0.08000416813737242,-0.07821980433252995,-0.10673990569517018,-0.07583850295343857,0.022042949995396542,-0.03843124133612311,-0.09019336209819895,-0.10608293653809484,-0.050306274460400806,-0.07612167190145483,-0.11813577442387492,-0.09969388819143256,-0.11966425489968635,-0.1407450928843188,-0.06871422802567566,-0.12773352410028463,-0.05122518215249402,-0.07087202961035033,-0.04927768574430589,-0.059672724064274894,-0.11691394977637856,-0.04540690430991386,-0.05454121573730513,-0.16298198529497937,-0.04032525938409255,-0.11231958500048034,-0.031867225149284736,-0.02553619710029109,-5.622741783679853e-05,-0.014133316485225445,-0.03235958517338415,-0.021916215740023167,-0.17499673179512107,0.017019017511614526,-0.061752245142501966,-0.05158036503070281,-0.04637210997382927,-0.0948963003881607,-0.020877471243816094,0.0050852613682641256,-0.03893717409410604,-0.11322567308610729,-0.11356158045379866,-0.06049650816551511,-0.05463029206008393,-0.13229011689980807,-0.032580310459540865,-0.0576888655932766,-0.06949812091678217,-0.13110649358680576,-0.10567747878110806,-0.11638511743651868,-0.09556948293010799,-0.1309590020272585,-0.017959640486287436,-0.06380388246241601,-0.10097699666816629,-0.19358989230708437,-0.06324804860199179,-0.052860238724420965,-0.11607544410731165,-0.05109951212005276,-0.09781900520855759,-0.07207585285972262,-0.05696011207277157,-0.07892839613919275,-0.1464977044911334,-0.04458061189287302,-0.11372643726222056,-0.1464977044911334,-0.06709971799808659,-0.06835565420078238,-0.06835565420078238,-0.09294930291919659,-0.06945344848848965,-0.06026817358704551,-0.05177512403888492,-0.03617053411249712,-0.06024218877415114,-0.0872545844437668,-0.13343150102887416,-0.0724209218619831,-0.04072065233838639,-0.04012123015811884,-0.060380660121508625,-0.07178454885864076,-0.15660098294562685,-0.07464076844757753,-0.16990243747576417,-0.09021893450084739,-0.055211780389936,-0.04015620762074999,-0.061771095465298416,-0.08173990725859709,-0.12834407899146508,-0.08678867105382358,-0.09581714436186942,-0.0798389290643239,-0.1610907411035104,-0.15683294980870643,-0.11927963307365967,-0.07910844883789526,-0.07277561977299135,-0.059147909396414025,0.005151297848921143,-0.036881605282762416,-0.10088809017557951,-0.07657819435913066,-0.06756348887584908,-0.05356371935044663,-0.19567961827665986,-0.05513628878044794,-0.06536990590974028,-0.07690703478087028,-0.042750186681645416,-0.20012994518585187,-0.051966310385620065,-0.14452686137390983,-0.08364839053513501,-0.06636223683757549,-0.07775969635247508,-0.035386813987774275,-0.04741858594404762,-0.12168448670778781,-0.07008432951292937,-0.030230308533139332,-0.05995104549244091,-0.0228916410628434,0.0024999391600572535,-0.13376671817293928,-0.005700848294067427,-0.10055255327338503,-0.03256336552896476,-0.04226335680702108,-0.09713775071417365,-0.03232594022757725,-0.0820593831797802,-0.18140294890268008,-0.12585862397417383,-0.060235226070467204,-0.08685759305235297,-0.09171920501403351,-0.060265368283292195,-0.048790113385350616,-0.024563349605890687,-0.08935776795901054,-0.06680242270722819,-0.18561446160709177,-0.11393730085871517,-0.12259805702617742,-0.06407558409382634,-0.17254207367591506,-0.0805785923291558,-0.13006332289690836,-0.07574262208624614,-0.025412200643146032,-0.045414529501563515,-0.057990115398294836,-0.149152621565361,-0.07928970920219477,-0.12635114979153642,-0.07908304928635856,-0.04089665673144765,-0.03995833398191391,-0.05489962173871455,-0.10141698285690622,-0.009435303568362223,-0.051766714380033434,-0.0830708749648957,-0.0216970854578652,-0.09840933922120694,-0.06485689526515623,-0.035683407883779425,-0.002836540127336209,0.13159674138991703,0.1912521587425424,0.1372506189677808,0.057031854753781405,0.06666109071046161,0.1515806445360584,0.13513800780673202,0.12862256412033826,0.10030159570972336,0.04000552087557203,0.0097729038182673,0.0605477646362028,0.08260360489147786,0.030357933124174192,0.03814253807305914,0.15787561406108178,0.19667881154445577,0.08507142977472468,0.15896660196618007,0.15244384148188794,0.1623024337137531,0.09140860606800874,0.06224038856165498,0.09354859269914059,0.1488994127291191,0.027344623156766137,0.13533766337869035,0.18693589908998245,0.2228201004364554,0.10960388484668429,0.15612048897025677,0.21105733848801206,0.06192604096034785,-0.008917526509888396,0.04048653538210093,-0.007417446412815093,0.21158736763609154,0.034826613508674865,0.18239798134474106,0.27890891085569725,0.02529364777411308,0.03651281288937056,0.1389437715703204,0.044219555915673406,0.12283114931325248,0.12151029313338044,0.13731235607461006,0.23971191473396503,0.10392016211653902,0.1326103546985525,0.1831335782230428,0.09507893509492736,0.12659146269053573,0.11121259139928598,0.13414526388219233,0.26883810200921826,0.127699036840657,0.06997796165230731,0.20732026090030167,0.10945943320029093,0.10392016211653902,0.14111787073451262,0.06407280340119387,0.10096038525042968,0.10404741447600087,0.15174323105189202,0.04710966787903664,0.2118734538296758,0.10302990686529176,0.04502271027103651,0.038829415066383335,0.11928794430516385,0.1462524271355534,0.06716359369999333,0.08645634343696676,0.05879210281164441,0.057375686737224874,-0.024878941632500685,0.053337233587998224,0.004162974075871355,0.0902326596724486,-0.0020651649422574877,0.025082673986002252,0.0578102326213452,0.1730197654845687,0.09535754079313895,0.11914976415162697,0.17188768248016892,-0.016535135807650536,0.20462707175609615,0.02121564965004177,0.1189257673038851,0.05129204125512864,0.1763699598680482,0.10929828240970807,0.057851449729464724,0.06600063280153905,0.09404196018782153,0.06376792082179933,0.16273320385285286,0.01514651148084637,0.13237187525501332,0.044679830542650935,0.13204072958625637,0.12988357993102997,0.11262009704450807,0.035606821867069906,0.04510239668629877,0.08230860687206547,0.02242109521803011,0.0020997622973113928,-0.05510520922855318,-0.053922679602678825,0.028879517711201935,0.027176799171150696,-0.04071072656874188,0.18429536005552713,0.06384405708298403,0.052267382627962204,-0.0022407718968518687,0.1301913316715178,0.13857110015507268,0.09656662565251974,-0.031212403538947896,-0.021898066060708075,-0.04796974172099881,0.11040203228537464,0.1174886919105329,0.1438968353938471,0.1806432977737279,0.15132840434249345,0.2627663780736944,0.15164118276885352,0.15179670162865427,0.09507893509492736,0.11918864205653758,0.11908577040775783,0.03628199268041388,0.12702389109470108,0.0697376591517694,0.2252676896531028,0.14062801287830481,0.22351089513469638,0.12435942838073508,0.1371820356616098,0.08030476248900068,0.046055649568563575,-0.04264475879039015,-0.05496141985552137,-0.055696972283373426,-0.06918215456684725,-0.03800552205874207,-0.054380270729638205,-0.059748817033471346,-0.048834834758508416,-0.05566609772752401,-0.05149883878676358,-0.02743402071661737,-0.07349389981383109,-0.03812454274400617,-0.040106362397104516,-0.046820724589129274,-0.05149883878676358,-0.06407728949652813,-0.07349389981383109,-0.040713531657958095,-0.04663210367875659,-0.06792839021452582,-0.060424687087795574,-0.0557683720609112,-0.07343635383401695,-0.04488914150126079,-0.041909460652886164,-0.02253694884265029,-0.060542711480786424,-0.057853139585493686,-0.06101235741728024,-0.04140456619125106,-0.056252819869301814,-0.06229485073451833,-0.04823424194978059,-0.03350876736433266,-0.025942584471964555,-0.0688886351160522,-0.07577368637831619,-0.051497576028643285,-0.055804057028104065,-0.05140241765079039,-0.043292770802233864,-0.06591923088029507,-0.06648066068564608,-0.048210399853994175,-0.0702367657992618,-0.054738290387818966,-0.056603090184852656,-0.07556272498243898,-0.07556272498243898,-0.058341265598595995,-0.0560957077180032,-0.04830804280122894,-0.03195051798314411,-0.04937083310910142,-0.08161995614934214,-0.06956671774490333,-0.04115510837681245,-0.04008249158636591,-0.06207953666244742,-0.06267539086088811,-0.03866318120206441,-0.04616600914006122,-0.0999782674649363,-0.053907055276392744,-0.06482673128522179,-0.054587066434244075,-0.02541787709949772,-0.08053452151439915,-0.08062217459318348,-0.05110654008198588,-0.07712885510671633,-0.057816083228305525,-0.048221154105851836,-0.10312541016582731,-0.03595065930807512,-0.029689149959167986,-0.04722427030892311,-0.0798959456608967,-0.07197064069361798,-0.04188669489524736,-0.07207664177054138,-0.06631874078111279,-0.03235955864143903,-0.051006830041340136,-0.0276369582860222,-0.0609100193621626,-0.020833547923037134,-0.06212594862196956,-0.03784705008621517,-0.07886576178383786,0.017128924756193795,-0.031830903936745286,-0.06330787676940733,-0.04153563086619402,-0.06663426167725048,-0.048151757363650766,-0.049762751202150894,-0.04870969774446013,-0.029134478120574396],\"xaxis\":\"x\",\"y\":[0.10349560238655374,0.024830609265307845,0.12865305467843438,0.15403298214830907,0.13499357178481047,0.15749230887482416,0.07046781928344989,0.034677492490894975,0.17066180833209701,0.24025301700827856,0.11536948284860984,0.10873203876361323,0.11725959844392755,0.048779326772186014,0.130143518914215,0.33153448555125653,0.3339747669177721,0.1769409362296418,0.1351960193864681,0.10873203876361323,0.15764849155678495,0.13097166527740076,0.3345826476656529,0.11132625115785089,0.15293438761399872,0.18019333989212408,0.15870487105762598,0.13614438206975885,0.1611229615926212,0.10386130154570954,0.07712831003552548,0.20821640254332252,0.3367877806995082,0.15886853838077006,0.16933208238449393,0.12928050560825874,0.1361672666097762,0.08943635157591066,0.12305200107918152,0.08381687796021199,0.09687571487897084,0.12556697492571806,0.120524745426418,0.0795644057184661,0.16009585887139194,0.11343361554885445,0.25879686871308055,0.30350721445876827,0.13484442938036229,0.32249217798179314,0.3439818772034557,0.15300146124247183,0.11294055641238464,0.31466471903875187,0.1383246670300881,0.1336081215177885,0.15058755179789116,0.1640174870271466,0.08921566612279869,0.13699131570345152,0.15011819886105318,0.0859717943713445,0.1560918709158276,0.10145713835558712,0.13166605585529223,0.29481139645582227,0.15621889635655112,0.08143723043010305,0.24978941556923642,0.08377361566537762,0.1181654543553521,0.06556722751367314,0.08475201979028898,0.1284973780789982,0.18545934120619093,0.10178018487127863,0.05043510598634954,0.11178586204635185,0.32714375362446635,0.2780489318116825,0.3430278629107295,0.3381179297418303,0.10778942377871717,0.15300146124247183,0.10396218747315676,0.09753257382340398,0.12024364629219551,0.13484442938036229,0.3084041783414252,0.09770924459330642,0.1343968435145855,0.10343870359822371,0.013238126563577037,0.11297473843568205,0.2208165192537767,0.12437402955919666,0.056536786104905784,0.15195509861044956,0.17963770281227592,0.01761335478377105,0.11549296193233272,0.11899442692622385,0.05719703487343804,0.09693430726328103,0.17746426759267248,0.00900267441817493,0.028582410471926025,0.1068544292798943,0.0731829835659491,0.1464144095336459,0.059427871527002296,0.10363754839014605,-0.00617625102615722,0.0715784898682716,0.02841886308765224,0.07530518397971157,0.0019235907193753843,0.06380257242165263,0.047149963053277885,0.06452644650409703,0.03182523247592265,0.06380257242165263,0.17115924893470083,0.11002699818191854,0.14011118473772624,0.1124664119176233,0.17316225699094076,0.09091471115340523,0.13314113353500787,0.10975131292716947,0.031800420901849244,0.07436942938539436,0.14011118473772624,0.1124664119176233,0.17611658966259588,0.07631687654316842,0.04342874501003815,0.09413178445863862,0.09444959549742511,0.06107504086630131,0.041223771321731696,0.1226775860012336,0.030928330823600598,0.05995716917713923,0.16262273036453156,0.1756308686900963,0.09045856904492015,0.07769177815384787,0.03512531592748648,0.06973955271203786,0.05035413429041472,0.008457690905535362,0.11450040103694502,0.11557791433339963,0.15626070407048143,0.11068511695755466,0.11078708942726362,0.10200473595600384,0.08055244904407508,0.11245212621046574,0.16229827034637023,0.1617948943067498,0.1656340105600471,0.017488220639049486,0.054597798700193205,0.15511429417295122,0.07710315187652754,0.027025915713240062,0.06913403736465834,0.028537362143343466,0.20626194147684915,0.01654217348081684,0.09797895647758642,0.07113055419668166,0.2029463522558018,0.06691155349147354,-0.00017673583551946784,0.13899866169761657,0.0594981686352907,0.038852596948972695,0.06028915652548718,0.12907094926258814,0.17857913345484877,0.06351927489180886,0.06616237224338752,0.09647416784243038,0.2142215166720321,0.20439222801135057,0.20598762070159463,0.018937089450856724,0.11354365124147275,0.06440024782848172,0.050591380932794375,0.06029955265402459,0.07003931367077039,0.015892045735244227,0.028905046564917512,-0.01925610646189057,0.12802626458343222,0.053932346088743956,0.1365260612666998,0.07630397294870433,0.06488857572920062,0.06615394957050358,0.12305127946094808,0.0644764423965029,0.05725533532901472,0.031436416798147744,0.012010467956079986,0.02234542858853045,0.12197497794234653,0.10747412207461558,0.06284748247583172,0.11710815441757702,0.12301338365180021,0.07434250206564863,-0.004355654357988621,0.02758586055078088,0.04950209767375331,0.021571902068814264,0.07447737153889193,0.10313917185296656,-0.0021432966753304828,-0.04181599538760249,0.0818940583674962,-0.08553501288657755,-0.11580712180066444,-0.06971939409967749,-0.06791657511475113,-0.06193795876929405,-0.009019432448150594,-0.09488455834290889,-0.21804521623095274,-0.12040070253064328,-0.16676163795922028,-0.056195836605001964,-0.04588253107157488,-0.04290783773894266,-0.02715859679732048,-0.018016262895615157,-0.05854510217223902,-0.1997283256082479,-0.17037460210542363,-0.045285159276509286,-0.0435273325028326,-0.10393047772264034,-0.033532561482893436,-0.015617532790852975,-0.12684875931462208,-0.12844419185574854,-0.07963095308809881,-0.17010057419106783,-0.12166049644218448,-0.07092557762374888,-0.03286387798423908,-0.14239582311940652,-0.07833289007758464,-0.014413766246524636,-0.04263145332774746,-0.04928912667776786,-0.008993378800683379,0.014938294703029157,-0.020023762680550953,-0.11199696850913803,-0.009641316048467418,-0.0202751979492209,0.03677512758327187,-0.07425654167694036,-0.058073500042243174,-0.08308208146654672,-0.10135958338800058,-0.17314298348517773,-0.14261457650700132,-0.03393414817047096,-0.08122169349202542,-0.05137445027181404,-0.018811876954027567,-0.03149002966688641,-0.007394646452847124,0.006431558504390648,-0.08556660112250507,-0.11060202636706198,-0.11045759441657345,-0.0132384460729133,-0.0889219967689638,-0.11291415646646619,-0.07777366841233779,-0.1136116827920226,-0.06936091383479925,-0.2415190647131574,-0.11230252022797962,-0.05721191157765329,-0.05849759387883611,-0.07280381924464471,-0.028252668263673914,-0.07377642791917935,-0.03492902000113485,-0.09098106907849653,-0.08568790717399337,-0.1829053429918514,-0.005779430026682689,-0.005066844067308781,-0.06807112407757988,0.013571099228635279,-0.08180374357306382,-0.019071738877701628,-0.07476854788356363,-0.16531351941502573,-0.06493008087117955,-0.06240487963533485,-0.10404710102008266,-0.14171580500639347,-0.14171580500639347,-0.15616409202877546,-0.12267286193771855,-0.038979842425051606,-0.06130131727514451,-0.04767475246029927,-0.0801224114136207,-0.060072545354652854,0.038248366818675966,-0.005906544987075962,-0.09562532160601545,-0.05620088704868623,-0.013176556147734915,-0.06938937257246838,-0.1049685820900288,-0.06987214221632977,-0.09706752387653339,-0.001110146505857379,-0.08899017272795316,-0.05070349244645149,-0.020893986755582357,-0.016892648139468176,0.004637382297072393,-0.06714498419995671,-0.08672971010265254,-0.025504082990815354,-0.0761392995676815,-0.17268017204855116,-0.005494135684895257,-0.06936886367548317,-0.046862627720155474,-0.007870773296112526,0.010142656863373331,0.0018752646271720766,-0.07624589123039367,-0.08120985060801872,-0.200271008538012,-0.0063907678827174585,-0.029935962916093888,-0.04170483332610678,-0.06713336793030887,-0.13535753777914392,0.011135847623679578,0.0002444536642747377,-0.05572770564549113,-0.12257909522403125,-0.1444510228695151,-0.06884618674017291,-0.026440434974021362,-0.14892446510185353,-0.05578814450140738,-0.03383927455946374,-0.003979318552564899,-0.14984538140411727,-0.15905272529942882,-0.09436549556157454,-0.11965434292829773,-0.13246505349708548,-0.05330606974371198,0.04317126058532877,-0.0890827165263392,-0.1975041413063221,-0.050531017712574795,-0.037284900336413476,-0.13697293498540022,-0.06687694959448816,-0.11085851933970742,-0.03529060445506417,-0.06460913687677586,-0.03979454892057841,-0.167065297775956,0.0017466144228526145,-0.0919271846734564,-0.167065297775956,-0.054844804351764344,-0.014085403841327459,-0.014085403841327459,-0.09675498312408912,-0.06512812464128907,-0.03237115923034338,-0.0011874790963242526,-0.051795397906611876,-0.03354163913457731,-0.029084737893819167,-0.10615629974677028,-0.09207676345988568,-0.08684313271421484,-0.06589151080848989,-0.0717068063452696,0.01818626693831854,-0.094237744190739,-0.04771986029946802,-0.19745087471984174,-0.06692584205247251,-0.03074498711934319,-0.020388427863454763,-0.09038876708435684,-0.06378778577132803,-0.13720998063384215,-0.12922258939245565,-0.11131957326743416,-0.11832597574345445,-0.13187593509498063,-0.19403617099897094,-0.1689555391196341,-0.09035992999992629,-0.09262069569992021,-0.03401715530857944,-0.0374991856304969,0.00545281731639426,-0.1489866199314707,-0.17768814245020575,-0.1498547046456906,-0.062113848403558644,-0.24824860505175486,-0.0729372466669376,-0.06566206753979908,-0.11673994895344418,-0.026838881332741777,-0.2182420002691945,-0.0428888408759781,-0.17275047498654605,-0.06971939409967749,-0.12638196505106716,-0.12787656527894248,-0.029486405948584846,-0.055557172585157,-0.13726894298306713,-0.09123336671579575,-0.010822548547984276,-0.061748189022350755,-0.010165763799362262,0.00901677054962464,-0.18618453401291155,-0.05291607522898903,-0.06323897583411696,-0.0002619743723925149,-0.008316975111355644,-0.1186445010520415,-0.01266236911155383,-0.058304722849287616,-0.18865102199190906,-0.10188630850048379,0.05192666812031071,-0.05736198016896495,-0.06474932685729319,-0.03856260755765358,-0.01476455468498946,-0.08403267071559635,-0.09275904452336459,-0.08458393519838875,-0.16922080988945593,-0.1319961539679768,-0.10830455448031476,-0.024309462424328545,-0.20372353496461376,-0.03525395272222313,-0.11521422049555712,-0.06469057727592913,-0.07020755215441385,0.02358566863691276,-0.09670617525209599,-0.1525656428546369,-0.09434007463558969,-0.1223473159717414,-0.09525716005047377,-0.05340515414436837,-0.01080135362293983,0.023203920683463358,-0.006706102837967081,0.031034108335060102,-0.04366670700755992,-0.11107502243274894,-0.02293285708327028,-0.10863120182946454,-0.028367995584072193,-0.022250443652477442,-0.020993422164380077,-0.18030801182772802,-0.2051263763410247,-0.1653004704546098,-0.04932263918272317,-0.10298748803056049,-0.20094061145275147,-0.17679059124246313,-0.14556346265223624,-0.12934411127684167,-0.04252552948887484,-0.055756864566867605,-0.03396976294926705,-0.10259441385614293,-0.08597993625227043,-0.03994242113344554,-0.15976266742787096,-0.16143477193410394,-0.10697747796253503,-0.11327010448378061,-0.1579350608839545,-0.14677962946683681,-0.09945125403694766,-0.04840561429764076,-0.08055650357097359,-0.15829062861139337,-0.09785993357558959,-0.09753884977396872,-0.12537239984003587,-0.11773411229113215,-0.14788919578297308,-0.110898373105713,-0.16131349580018445,-0.12508479433584732,-0.012489944961986523,-0.06471649848036919,0.019350959463197048,-0.1243264695333047,-0.05425426169476863,-0.08267716940798682,-0.21977435573626025,0.006601920373412751,0.007957384543536847,-0.17842152340882467,-0.11664703278629919,-0.07791398898856305,-0.07685829835032171,-0.14949288894092386,-0.140034300105039,-0.0843133130260611,-0.09007579495273017,-0.15537167976224184,-0.08951618975943562,-0.1500775334705198,-0.09166709984269791,-0.16712819463919254,-0.09796925874669553,-0.12893814592656652,-0.06802452502702826,-0.18696021754019457,-0.10791487953564446,-0.0843133130260611,-0.1169067871125859,-0.10147873764908913,-0.11742760652062889,-0.12706513438072434,-0.15473152930736506,-0.024760039648206108,-0.16042802727815064,-0.11440798730309422,-0.018492292576349562,-0.08736543966819248,-0.09993534549182347,-0.1450014512452884,-0.11407725498099937,-0.14190066462243495,-0.09316082085664483,-0.12645447738962926,-0.026570033115120413,-0.04228693372225167,-0.025916823213945252,-0.10691714366257923,-0.05016546795244198,-0.027345389286431293,-0.057136454593068396,-0.09351092708763006,-0.01780560994916487,-0.08238562238638492,-0.06807166421574629,-0.02497763705974813,-0.15920257895517406,-0.007996250574762298,-0.07642762248909328,-0.09760786318469754,-0.09717184714444124,-0.05569775431870832,-0.02157963567031251,-0.06756608670255561,-0.038440211791538,-0.01881431887216399,-0.1410221389959652,-0.016177501944311678,-0.09177404393025064,0.008277972231045384,-0.09141535656414264,-0.08044598271010239,-0.06312201326832394,-0.08644849995332156,-0.09437224095564735,-0.004111687413902817,-0.08103614845061172,-0.07228655103906514,-0.03055009415309915,-0.03158506141772333,-0.025681425550418344,-0.019598167910715867,-0.05767943186115073,-0.18819966694846077,-0.013293242488954346,-0.08374186298894233,-0.06529102311772732,-0.11684830978487698,-0.12161261782350227,-0.10957532270862133,-0.05493299196083456,-0.07851381199159319,-0.0405486889723922,-0.04768285751258982,-0.11149907519492569,0.004688870768460094,-0.1575996751761633,-0.18843921207077488,-0.21710572286572566,-0.2007011695086674,-0.07617720829049317,-0.08951618975943562,-0.1424795911122073,-0.048690306627178485,-0.06134349988801002,-0.13346711334188419,-0.10622237648814707,-0.1594087678189792,-0.16176028296325992,-0.11763934228532695,-0.0830331123728466,-0.07413654892087922,-0.04381115101664203,-0.04326422540077591,0.07820116546180818,0.10533912355872631,0.048370027867795616,0.06959466454908274,0.08919175734667709,0.08613808873825567,0.0790648798859685,0.09591401124948001,0.07996923655555656,0.11592423054190833,0.03342359191554769,0.05495211593867599,0.08720635893037242,0.09621350118136199,0.08777967168234384,0.11592423054190833,0.051772624562840035,0.05495211593867599,0.08930712554645917,0.10606767502744184,0.1424412546615773,0.05982974362303334,0.06546433243384295,0.11736366645546358,0.03111345744087295,0.09656458964778741,0.07488751922348733,0.11587912964733954,0.03922543136652091,0.10750756153334465,0.059568845653733514,0.07148386082943921,0.09255810709263998,0.07226130362325628,0.03611111157443678,0.0419239762508913,0.13556909262242206,0.11931139536990244,0.10174086511776789,0.04855494324316925,0.0679724473427501,0.06686482001246839,0.09688712831633457,0.011700398035014504,0.10565466366329523,0.05956122666227506,0.1389465147836508,0.07911495774903828,0.022806604044876846,0.022806604044876846,0.14546217636002426,0.03386872403212657,0.05274853126744756,0.04281330211897927,0.08001018253684192,0.15126617620149405,0.11062461475699847,0.0755637830672157,0.07338286734663553,0.09704783178486377,0.06325792138586522,0.012798736645228317,0.09343274678815194,0.14925127001558908,0.11408110991065802,0.08124127082153748,0.07482736401625605,0.03638421855869968,0.04472199370314736,0.044909586911001415,0.05450960592840256,0.11029095798862802,0.02727693590316057,0.08258392522240945,0.134592969572199,0.04496277855640758,0.03842495744374231,0.07824739187507736,0.03645482846450902,0.04770388555832297,0.06917050589573481,0.064064984893844,0.045872211456965475,0.028564440690084465,0.06757098660965241,0.1060672135046232,0.0706898666345563,0.06845887167045252,0.07757954130224436,0.07590929074775597,0.07614825439486565,0.04697318721785069,0.06717851463654617,0.07964128944061179,0.105238827850824,0.1087933230927288,0.05289538850721994,0.06020561675666957,0.013944823139749788,0.07144500504300397],\"yaxis\":\"y\",\"type\":\"scatter\"}],                        {\"template\":{\"data\":{\"bar\":[{\"error_x\":{\"color\":\"#2a3f5f\"},\"error_y\":{\"color\":\"#2a3f5f\"},\"marker\":{\"line\":{\"color\":\"#E5ECF6\",\"width\":0.5},\"pattern\":{\"fillmode\":\"overlay\",\"size\":10,\"solidity\":0.2}},\"type\":\"bar\"}],\"barpolar\":[{\"marker\":{\"line\":{\"color\":\"#E5ECF6\",\"width\":0.5},\"pattern\":{\"fillmode\":\"overlay\",\"size\":10,\"solidity\":0.2}},\"type\":\"barpolar\"}],\"carpet\":[{\"aaxis\":{\"endlinecolor\":\"#2a3f5f\",\"gridcolor\":\"white\",\"linecolor\":\"white\",\"minorgridcolor\":\"white\",\"startlinecolor\":\"#2a3f5f\"},\"baxis\":{\"endlinecolor\":\"#2a3f5f\",\"gridcolor\":\"white\",\"linecolor\":\"white\",\"minorgridcolor\":\"white\",\"startlinecolor\":\"#2a3f5f\"},\"type\":\"carpet\"}],\"choropleth\":[{\"colorbar\":{\"outlinewidth\":0,\"ticks\":\"\"},\"type\":\"choropleth\"}],\"contour\":[{\"colorbar\":{\"outlinewidth\":0,\"ticks\":\"\"},\"colorscale\":[[0.0,\"#0d0887\"],[0.1111111111111111,\"#46039f\"],[0.2222222222222222,\"#7201a8\"],[0.3333333333333333,\"#9c179e\"],[0.4444444444444444,\"#bd3786\"],[0.5555555555555556,\"#d8576b\"],[0.6666666666666666,\"#ed7953\"],[0.7777777777777778,\"#fb9f3a\"],[0.8888888888888888,\"#fdca26\"],[1.0,\"#f0f921\"]],\"type\":\"contour\"}],\"contourcarpet\":[{\"colorbar\":{\"outlinewidth\":0,\"ticks\":\"\"},\"type\":\"contourcarpet\"}],\"heatmap\":[{\"colorbar\":{\"outlinewidth\":0,\"ticks\":\"\"},\"colorscale\":[[0.0,\"#0d0887\"],[0.1111111111111111,\"#46039f\"],[0.2222222222222222,\"#7201a8\"],[0.3333333333333333,\"#9c179e\"],[0.4444444444444444,\"#bd3786\"],[0.5555555555555556,\"#d8576b\"],[0.6666666666666666,\"#ed7953\"],[0.7777777777777778,\"#fb9f3a\"],[0.8888888888888888,\"#fdca26\"],[1.0,\"#f0f921\"]],\"type\":\"heatmap\"}],\"heatmapgl\":[{\"colorbar\":{\"outlinewidth\":0,\"ticks\":\"\"},\"colorscale\":[[0.0,\"#0d0887\"],[0.1111111111111111,\"#46039f\"],[0.2222222222222222,\"#7201a8\"],[0.3333333333333333,\"#9c179e\"],[0.4444444444444444,\"#bd3786\"],[0.5555555555555556,\"#d8576b\"],[0.6666666666666666,\"#ed7953\"],[0.7777777777777778,\"#fb9f3a\"],[0.8888888888888888,\"#fdca26\"],[1.0,\"#f0f921\"]],\"type\":\"heatmapgl\"}],\"histogram\":[{\"marker\":{\"pattern\":{\"fillmode\":\"overlay\",\"size\":10,\"solidity\":0.2}},\"type\":\"histogram\"}],\"histogram2d\":[{\"colorbar\":{\"outlinewidth\":0,\"ticks\":\"\"},\"colorscale\":[[0.0,\"#0d0887\"],[0.1111111111111111,\"#46039f\"],[0.2222222222222222,\"#7201a8\"],[0.3333333333333333,\"#9c179e\"],[0.4444444444444444,\"#bd3786\"],[0.5555555555555556,\"#d8576b\"],[0.6666666666666666,\"#ed7953\"],[0.7777777777777778,\"#fb9f3a\"],[0.8888888888888888,\"#fdca26\"],[1.0,\"#f0f921\"]],\"type\":\"histogram2d\"}],\"histogram2dcontour\":[{\"colorbar\":{\"outlinewidth\":0,\"ticks\":\"\"},\"colorscale\":[[0.0,\"#0d0887\"],[0.1111111111111111,\"#46039f\"],[0.2222222222222222,\"#7201a8\"],[0.3333333333333333,\"#9c179e\"],[0.4444444444444444,\"#bd3786\"],[0.5555555555555556,\"#d8576b\"],[0.6666666666666666,\"#ed7953\"],[0.7777777777777778,\"#fb9f3a\"],[0.8888888888888888,\"#fdca26\"],[1.0,\"#f0f921\"]],\"type\":\"histogram2dcontour\"}],\"mesh3d\":[{\"colorbar\":{\"outlinewidth\":0,\"ticks\":\"\"},\"type\":\"mesh3d\"}],\"parcoords\":[{\"line\":{\"colorbar\":{\"outlinewidth\":0,\"ticks\":\"\"}},\"type\":\"parcoords\"}],\"pie\":[{\"automargin\":true,\"type\":\"pie\"}],\"scatter\":[{\"marker\":{\"colorbar\":{\"outlinewidth\":0,\"ticks\":\"\"}},\"type\":\"scatter\"}],\"scatter3d\":[{\"line\":{\"colorbar\":{\"outlinewidth\":0,\"ticks\":\"\"}},\"marker\":{\"colorbar\":{\"outlinewidth\":0,\"ticks\":\"\"}},\"type\":\"scatter3d\"}],\"scattercarpet\":[{\"marker\":{\"colorbar\":{\"outlinewidth\":0,\"ticks\":\"\"}},\"type\":\"scattercarpet\"}],\"scattergeo\":[{\"marker\":{\"colorbar\":{\"outlinewidth\":0,\"ticks\":\"\"}},\"type\":\"scattergeo\"}],\"scattergl\":[{\"marker\":{\"colorbar\":{\"outlinewidth\":0,\"ticks\":\"\"}},\"type\":\"scattergl\"}],\"scattermapbox\":[{\"marker\":{\"colorbar\":{\"outlinewidth\":0,\"ticks\":\"\"}},\"type\":\"scattermapbox\"}],\"scatterpolar\":[{\"marker\":{\"colorbar\":{\"outlinewidth\":0,\"ticks\":\"\"}},\"type\":\"scatterpolar\"}],\"scatterpolargl\":[{\"marker\":{\"colorbar\":{\"outlinewidth\":0,\"ticks\":\"\"}},\"type\":\"scatterpolargl\"}],\"scatterternary\":[{\"marker\":{\"colorbar\":{\"outlinewidth\":0,\"ticks\":\"\"}},\"type\":\"scatterternary\"}],\"surface\":[{\"colorbar\":{\"outlinewidth\":0,\"ticks\":\"\"},\"colorscale\":[[0.0,\"#0d0887\"],[0.1111111111111111,\"#46039f\"],[0.2222222222222222,\"#7201a8\"],[0.3333333333333333,\"#9c179e\"],[0.4444444444444444,\"#bd3786\"],[0.5555555555555556,\"#d8576b\"],[0.6666666666666666,\"#ed7953\"],[0.7777777777777778,\"#fb9f3a\"],[0.8888888888888888,\"#fdca26\"],[1.0,\"#f0f921\"]],\"type\":\"surface\"}],\"table\":[{\"cells\":{\"fill\":{\"color\":\"#EBF0F8\"},\"line\":{\"color\":\"white\"}},\"header\":{\"fill\":{\"color\":\"#C8D4E3\"},\"line\":{\"color\":\"white\"}},\"type\":\"table\"}]},\"layout\":{\"annotationdefaults\":{\"arrowcolor\":\"#2a3f5f\",\"arrowhead\":0,\"arrowwidth\":1},\"autotypenumbers\":\"strict\",\"coloraxis\":{\"colorbar\":{\"outlinewidth\":0,\"ticks\":\"\"}},\"colorscale\":{\"diverging\":[[0,\"#8e0152\"],[0.1,\"#c51b7d\"],[0.2,\"#de77ae\"],[0.3,\"#f1b6da\"],[0.4,\"#fde0ef\"],[0.5,\"#f7f7f7\"],[0.6,\"#e6f5d0\"],[0.7,\"#b8e186\"],[0.8,\"#7fbc41\"],[0.9,\"#4d9221\"],[1,\"#276419\"]],\"sequential\":[[0.0,\"#0d0887\"],[0.1111111111111111,\"#46039f\"],[0.2222222222222222,\"#7201a8\"],[0.3333333333333333,\"#9c179e\"],[0.4444444444444444,\"#bd3786\"],[0.5555555555555556,\"#d8576b\"],[0.6666666666666666,\"#ed7953\"],[0.7777777777777778,\"#fb9f3a\"],[0.8888888888888888,\"#fdca26\"],[1.0,\"#f0f921\"]],\"sequentialminus\":[[0.0,\"#0d0887\"],[0.1111111111111111,\"#46039f\"],[0.2222222222222222,\"#7201a8\"],[0.3333333333333333,\"#9c179e\"],[0.4444444444444444,\"#bd3786\"],[0.5555555555555556,\"#d8576b\"],[0.6666666666666666,\"#ed7953\"],[0.7777777777777778,\"#fb9f3a\"],[0.8888888888888888,\"#fdca26\"],[1.0,\"#f0f921\"]]},\"colorway\":[\"#636efa\",\"#EF553B\",\"#00cc96\",\"#ab63fa\",\"#FFA15A\",\"#19d3f3\",\"#FF6692\",\"#B6E880\",\"#FF97FF\",\"#FECB52\"],\"font\":{\"color\":\"#2a3f5f\"},\"geo\":{\"bgcolor\":\"white\",\"lakecolor\":\"white\",\"landcolor\":\"#E5ECF6\",\"showlakes\":true,\"showland\":true,\"subunitcolor\":\"white\"},\"hoverlabel\":{\"align\":\"left\"},\"hovermode\":\"closest\",\"mapbox\":{\"style\":\"light\"},\"paper_bgcolor\":\"white\",\"plot_bgcolor\":\"#E5ECF6\",\"polar\":{\"angularaxis\":{\"gridcolor\":\"white\",\"linecolor\":\"white\",\"ticks\":\"\"},\"bgcolor\":\"#E5ECF6\",\"radialaxis\":{\"gridcolor\":\"white\",\"linecolor\":\"white\",\"ticks\":\"\"}},\"scene\":{\"xaxis\":{\"backgroundcolor\":\"#E5ECF6\",\"gridcolor\":\"white\",\"gridwidth\":2,\"linecolor\":\"white\",\"showbackground\":true,\"ticks\":\"\",\"zerolinecolor\":\"white\"},\"yaxis\":{\"backgroundcolor\":\"#E5ECF6\",\"gridcolor\":\"white\",\"gridwidth\":2,\"linecolor\":\"white\",\"showbackground\":true,\"ticks\":\"\",\"zerolinecolor\":\"white\"},\"zaxis\":{\"backgroundcolor\":\"#E5ECF6\",\"gridcolor\":\"white\",\"gridwidth\":2,\"linecolor\":\"white\",\"showbackground\":true,\"ticks\":\"\",\"zerolinecolor\":\"white\"}},\"shapedefaults\":{\"line\":{\"color\":\"#2a3f5f\"}},\"ternary\":{\"aaxis\":{\"gridcolor\":\"white\",\"linecolor\":\"white\",\"ticks\":\"\"},\"baxis\":{\"gridcolor\":\"white\",\"linecolor\":\"white\",\"ticks\":\"\"},\"bgcolor\":\"#E5ECF6\",\"caxis\":{\"gridcolor\":\"white\",\"linecolor\":\"white\",\"ticks\":\"\"}},\"title\":{\"x\":0.05},\"xaxis\":{\"automargin\":true,\"gridcolor\":\"white\",\"linecolor\":\"white\",\"ticks\":\"\",\"title\":{\"standoff\":15},\"zerolinecolor\":\"white\",\"zerolinewidth\":2},\"yaxis\":{\"automargin\":true,\"gridcolor\":\"white\",\"linecolor\":\"white\",\"ticks\":\"\",\"title\":{\"standoff\":15},\"zerolinecolor\":\"white\",\"zerolinewidth\":2}}},\"xaxis\":{\"anchor\":\"y\",\"domain\":[0.0,1.0],\"title\":{\"text\":\"pca_0\"}},\"yaxis\":{\"anchor\":\"x\",\"domain\":[0.0,1.0],\"title\":{\"text\":\"pca_1\"}},\"coloraxis\":{\"colorbar\":{\"title\":{\"text\":\"cluster\"}},\"colorscale\":[[0.0,\"#0d0887\"],[0.1111111111111111,\"#46039f\"],[0.2222222222222222,\"#7201a8\"],[0.3333333333333333,\"#9c179e\"],[0.4444444444444444,\"#bd3786\"],[0.5555555555555556,\"#d8576b\"],[0.6666666666666666,\"#ed7953\"],[0.7777777777777778,\"#fb9f3a\"],[0.8888888888888888,\"#fdca26\"],[1.0,\"#f0f921\"]]},\"legend\":{\"tracegroupgap\":0},\"title\":{\"text\":\"PCA BBC Sport news labelled by clusters\"}},                        {\"responsive\": true}                    ).then(function(){\n",
              "                            \n",
              "var gd = document.getElementById('f7b0cf42-54e8-4546-b240-f5e49883796f');\n",
              "var x = new MutationObserver(function (mutations, observer) {{\n",
              "        var display = window.getComputedStyle(gd).display;\n",
              "        if (!display || display === 'none') {{\n",
              "            console.log([gd, 'removed!']);\n",
              "            Plotly.purge(gd);\n",
              "            observer.disconnect();\n",
              "        }}\n",
              "}});\n",
              "\n",
              "// Listen for the removal of the full notebook cells\n",
              "var notebookContainer = gd.closest('#notebook-container');\n",
              "if (notebookContainer) {{\n",
              "    x.observe(notebookContainer, {childList: true});\n",
              "}}\n",
              "\n",
              "// Listen for the clearing of the current output cell\n",
              "var outputEl = gd.closest('.output');\n",
              "if (outputEl) {{\n",
              "    x.observe(outputEl, {childList: true});\n",
              "}}\n",
              "\n",
              "                        })                };                            </script>        </div>\n",
              "</body>\n",
              "</html>"
            ]
          },
          "metadata": {}
        }
      ]
    },
    {
      "cell_type": "markdown",
      "source": [
        "# Text similarity"
      ],
      "metadata": {
        "id": "M9OJ58lCzFlH"
      }
    },
    {
      "cell_type": "code",
      "source": [
        "!pip install -U -q pip setuptools wheel\n",
        "!pip install -U -q spacy\n",
        "!python -m spacy download en_core_web_md"
      ],
      "metadata": {
        "id": "5pQzrAOBzYHh"
      },
      "execution_count": null,
      "outputs": []
    },
    {
      "cell_type": "code",
      "source": [
        "!python -m spacy info"
      ],
      "metadata": {
        "colab": {
          "base_uri": "https://localhost:8080/"
        },
        "id": "btBU-Ii39OT3",
        "outputId": "87c41a64-9a66-4003-a949-bcb3a49436af"
      },
      "execution_count": 2,
      "outputs": [
        {
          "output_type": "stream",
          "name": "stdout",
          "text": [
            "\u001b[1m\n",
            "============================== Info about spaCy ==============================\u001b[0m\n",
            "\n",
            "spaCy version    3.3.0                         \n",
            "Location         /usr/local/lib/python3.7/dist-packages/spacy\n",
            "Platform         Linux-5.4.188+-x86_64-with-Ubuntu-18.04-bionic\n",
            "Python version   3.7.13                        \n",
            "Pipelines        en_core_web_md (3.3.0)        \n",
            "\n"
          ]
        }
      ]
    },
    {
      "cell_type": "code",
      "source": [
        "import spacy"
      ],
      "metadata": {
        "id": "Y_xsI-8H9Whs"
      },
      "execution_count": 3,
      "outputs": []
    },
    {
      "cell_type": "code",
      "source": [
        "nlp = spacy.load('en_core_web_md')"
      ],
      "metadata": {
        "id": "Q8-gP4_S5Ecm"
      },
      "execution_count": 4,
      "outputs": []
    },
    {
      "cell_type": "markdown",
      "source": [
        "- Cosine similarity\n",
        "\n",
        "![](https://www.tyrrell4innovation.ca/wp-content/uploads/2021/06/rsz_jenny_du_miword.png)"
      ],
      "metadata": {
        "id": "6LSBfo9NASPv"
      }
    },
    {
      "cell_type": "markdown",
      "source": [
        "> Feel free to change `text_1` and `text_2` to other English texts."
      ],
      "metadata": {
        "id": "ZIZuDkdwOc8f"
      }
    },
    {
      "cell_type": "code",
      "source": [
        "text_1 = \"I'm a big fan of foreign tongues.\"\n",
        "text_2 = \"I'm interested in learning languges.\"\n",
        "doc_1 = nlp(text_1)\n",
        "doc_2 = nlp(text_2)\n",
        "sim_score = doc_1.similarity(doc_2)\n",
        "sim_score"
      ],
      "metadata": {
        "colab": {
          "base_uri": "https://localhost:8080/"
        },
        "id": "R6e-jj734Ffh",
        "outputId": "685efc15-813e-4875-e7dc-8a179a6a5d4a"
      },
      "execution_count": 12,
      "outputs": [
        {
          "output_type": "execute_result",
          "data": {
            "text/plain": [
              "0.8357480426963773"
            ]
          },
          "metadata": {},
          "execution_count": 12
        }
      ]
    },
    {
      "cell_type": "markdown",
      "source": [
        "# Dependency parsing"
      ],
      "metadata": {
        "id": "ElRCgCQtSERn"
      }
    },
    {
      "cell_type": "code",
      "source": [
        "from spacy import displacy"
      ],
      "metadata": {
        "id": "Y3nVYw3AK0M4"
      },
      "execution_count": 42,
      "outputs": []
    },
    {
      "cell_type": "code",
      "source": [
        "Robot = \"What would you like to order?\"\n",
        "Human = \"I'd like to order three Cheeseburgers and one small fries.\"\n",
        "doc = nlp(Human)\n",
        "displacy.render(doc, style='dep',jupyter=True)"
      ],
      "metadata": {
        "colab": {
          "base_uri": "https://localhost:8080/",
          "height": 441
        },
        "id": "SurhDaWASHaL",
        "outputId": "53d159d3-9a6c-4958-894a-1880c142151f"
      },
      "execution_count": 78,
      "outputs": [
        {
          "output_type": "display_data",
          "data": {
            "text/plain": [
              "<IPython.core.display.HTML object>"
            ],
            "text/html": [
              "<span class=\"tex2jax_ignore\"><svg xmlns=\"http://www.w3.org/2000/svg\" xmlns:xlink=\"http://www.w3.org/1999/xlink\" xml:lang=\"en\" id=\"b3a6ecc580f2420ab1ec9bb862c4f58b-0\" class=\"displacy\" width=\"1975\" height=\"399.5\" direction=\"ltr\" style=\"max-width: none; height: 399.5px; color: #000000; background: #ffffff; font-family: Arial; direction: ltr\">\n",
              "<text class=\"displacy-token\" fill=\"currentColor\" text-anchor=\"middle\" y=\"309.5\">\n",
              "    <tspan class=\"displacy-word\" fill=\"currentColor\" x=\"50\">I</tspan>\n",
              "    <tspan class=\"displacy-tag\" dy=\"2em\" fill=\"currentColor\" x=\"50\">PRON</tspan>\n",
              "</text>\n",
              "\n",
              "<text class=\"displacy-token\" fill=\"currentColor\" text-anchor=\"middle\" y=\"309.5\">\n",
              "    <tspan class=\"displacy-word\" fill=\"currentColor\" x=\"225\">'d</tspan>\n",
              "    <tspan class=\"displacy-tag\" dy=\"2em\" fill=\"currentColor\" x=\"225\">AUX</tspan>\n",
              "</text>\n",
              "\n",
              "<text class=\"displacy-token\" fill=\"currentColor\" text-anchor=\"middle\" y=\"309.5\">\n",
              "    <tspan class=\"displacy-word\" fill=\"currentColor\" x=\"400\">like</tspan>\n",
              "    <tspan class=\"displacy-tag\" dy=\"2em\" fill=\"currentColor\" x=\"400\">VERB</tspan>\n",
              "</text>\n",
              "\n",
              "<text class=\"displacy-token\" fill=\"currentColor\" text-anchor=\"middle\" y=\"309.5\">\n",
              "    <tspan class=\"displacy-word\" fill=\"currentColor\" x=\"575\">to</tspan>\n",
              "    <tspan class=\"displacy-tag\" dy=\"2em\" fill=\"currentColor\" x=\"575\">PART</tspan>\n",
              "</text>\n",
              "\n",
              "<text class=\"displacy-token\" fill=\"currentColor\" text-anchor=\"middle\" y=\"309.5\">\n",
              "    <tspan class=\"displacy-word\" fill=\"currentColor\" x=\"750\">order</tspan>\n",
              "    <tspan class=\"displacy-tag\" dy=\"2em\" fill=\"currentColor\" x=\"750\">VERB</tspan>\n",
              "</text>\n",
              "\n",
              "<text class=\"displacy-token\" fill=\"currentColor\" text-anchor=\"middle\" y=\"309.5\">\n",
              "    <tspan class=\"displacy-word\" fill=\"currentColor\" x=\"925\">three</tspan>\n",
              "    <tspan class=\"displacy-tag\" dy=\"2em\" fill=\"currentColor\" x=\"925\">NUM</tspan>\n",
              "</text>\n",
              "\n",
              "<text class=\"displacy-token\" fill=\"currentColor\" text-anchor=\"middle\" y=\"309.5\">\n",
              "    <tspan class=\"displacy-word\" fill=\"currentColor\" x=\"1100\">Cheeseburgers</tspan>\n",
              "    <tspan class=\"displacy-tag\" dy=\"2em\" fill=\"currentColor\" x=\"1100\">NOUN</tspan>\n",
              "</text>\n",
              "\n",
              "<text class=\"displacy-token\" fill=\"currentColor\" text-anchor=\"middle\" y=\"309.5\">\n",
              "    <tspan class=\"displacy-word\" fill=\"currentColor\" x=\"1275\">and</tspan>\n",
              "    <tspan class=\"displacy-tag\" dy=\"2em\" fill=\"currentColor\" x=\"1275\">CCONJ</tspan>\n",
              "</text>\n",
              "\n",
              "<text class=\"displacy-token\" fill=\"currentColor\" text-anchor=\"middle\" y=\"309.5\">\n",
              "    <tspan class=\"displacy-word\" fill=\"currentColor\" x=\"1450\">one</tspan>\n",
              "    <tspan class=\"displacy-tag\" dy=\"2em\" fill=\"currentColor\" x=\"1450\">NUM</tspan>\n",
              "</text>\n",
              "\n",
              "<text class=\"displacy-token\" fill=\"currentColor\" text-anchor=\"middle\" y=\"309.5\">\n",
              "    <tspan class=\"displacy-word\" fill=\"currentColor\" x=\"1625\">small</tspan>\n",
              "    <tspan class=\"displacy-tag\" dy=\"2em\" fill=\"currentColor\" x=\"1625\">ADJ</tspan>\n",
              "</text>\n",
              "\n",
              "<text class=\"displacy-token\" fill=\"currentColor\" text-anchor=\"middle\" y=\"309.5\">\n",
              "    <tspan class=\"displacy-word\" fill=\"currentColor\" x=\"1800\">fries.</tspan>\n",
              "    <tspan class=\"displacy-tag\" dy=\"2em\" fill=\"currentColor\" x=\"1800\">NOUN</tspan>\n",
              "</text>\n",
              "\n",
              "<g class=\"displacy-arrow\">\n",
              "    <path class=\"displacy-arc\" id=\"arrow-b3a6ecc580f2420ab1ec9bb862c4f58b-0-0\" stroke-width=\"2px\" d=\"M70,264.5 C70,89.5 395.0,89.5 395.0,264.5\" fill=\"none\" stroke=\"currentColor\"/>\n",
              "    <text dy=\"1.25em\" style=\"font-size: 0.8em; letter-spacing: 1px\">\n",
              "        <textPath xlink:href=\"#arrow-b3a6ecc580f2420ab1ec9bb862c4f58b-0-0\" class=\"displacy-label\" startOffset=\"50%\" side=\"left\" fill=\"currentColor\" text-anchor=\"middle\">nsubj</textPath>\n",
              "    </text>\n",
              "    <path class=\"displacy-arrowhead\" d=\"M70,266.5 L62,254.5 78,254.5\" fill=\"currentColor\"/>\n",
              "</g>\n",
              "\n",
              "<g class=\"displacy-arrow\">\n",
              "    <path class=\"displacy-arc\" id=\"arrow-b3a6ecc580f2420ab1ec9bb862c4f58b-0-1\" stroke-width=\"2px\" d=\"M245,264.5 C245,177.0 390.0,177.0 390.0,264.5\" fill=\"none\" stroke=\"currentColor\"/>\n",
              "    <text dy=\"1.25em\" style=\"font-size: 0.8em; letter-spacing: 1px\">\n",
              "        <textPath xlink:href=\"#arrow-b3a6ecc580f2420ab1ec9bb862c4f58b-0-1\" class=\"displacy-label\" startOffset=\"50%\" side=\"left\" fill=\"currentColor\" text-anchor=\"middle\">aux</textPath>\n",
              "    </text>\n",
              "    <path class=\"displacy-arrowhead\" d=\"M245,266.5 L237,254.5 253,254.5\" fill=\"currentColor\"/>\n",
              "</g>\n",
              "\n",
              "<g class=\"displacy-arrow\">\n",
              "    <path class=\"displacy-arc\" id=\"arrow-b3a6ecc580f2420ab1ec9bb862c4f58b-0-2\" stroke-width=\"2px\" d=\"M595,264.5 C595,177.0 740.0,177.0 740.0,264.5\" fill=\"none\" stroke=\"currentColor\"/>\n",
              "    <text dy=\"1.25em\" style=\"font-size: 0.8em; letter-spacing: 1px\">\n",
              "        <textPath xlink:href=\"#arrow-b3a6ecc580f2420ab1ec9bb862c4f58b-0-2\" class=\"displacy-label\" startOffset=\"50%\" side=\"left\" fill=\"currentColor\" text-anchor=\"middle\">aux</textPath>\n",
              "    </text>\n",
              "    <path class=\"displacy-arrowhead\" d=\"M595,266.5 L587,254.5 603,254.5\" fill=\"currentColor\"/>\n",
              "</g>\n",
              "\n",
              "<g class=\"displacy-arrow\">\n",
              "    <path class=\"displacy-arc\" id=\"arrow-b3a6ecc580f2420ab1ec9bb862c4f58b-0-3\" stroke-width=\"2px\" d=\"M420,264.5 C420,89.5 745.0,89.5 745.0,264.5\" fill=\"none\" stroke=\"currentColor\"/>\n",
              "    <text dy=\"1.25em\" style=\"font-size: 0.8em; letter-spacing: 1px\">\n",
              "        <textPath xlink:href=\"#arrow-b3a6ecc580f2420ab1ec9bb862c4f58b-0-3\" class=\"displacy-label\" startOffset=\"50%\" side=\"left\" fill=\"currentColor\" text-anchor=\"middle\">xcomp</textPath>\n",
              "    </text>\n",
              "    <path class=\"displacy-arrowhead\" d=\"M745.0,266.5 L753.0,254.5 737.0,254.5\" fill=\"currentColor\"/>\n",
              "</g>\n",
              "\n",
              "<g class=\"displacy-arrow\">\n",
              "    <path class=\"displacy-arc\" id=\"arrow-b3a6ecc580f2420ab1ec9bb862c4f58b-0-4\" stroke-width=\"2px\" d=\"M945,264.5 C945,177.0 1090.0,177.0 1090.0,264.5\" fill=\"none\" stroke=\"currentColor\"/>\n",
              "    <text dy=\"1.25em\" style=\"font-size: 0.8em; letter-spacing: 1px\">\n",
              "        <textPath xlink:href=\"#arrow-b3a6ecc580f2420ab1ec9bb862c4f58b-0-4\" class=\"displacy-label\" startOffset=\"50%\" side=\"left\" fill=\"currentColor\" text-anchor=\"middle\">nummod</textPath>\n",
              "    </text>\n",
              "    <path class=\"displacy-arrowhead\" d=\"M945,266.5 L937,254.5 953,254.5\" fill=\"currentColor\"/>\n",
              "</g>\n",
              "\n",
              "<g class=\"displacy-arrow\">\n",
              "    <path class=\"displacy-arc\" id=\"arrow-b3a6ecc580f2420ab1ec9bb862c4f58b-0-5\" stroke-width=\"2px\" d=\"M770,264.5 C770,89.5 1095.0,89.5 1095.0,264.5\" fill=\"none\" stroke=\"currentColor\"/>\n",
              "    <text dy=\"1.25em\" style=\"font-size: 0.8em; letter-spacing: 1px\">\n",
              "        <textPath xlink:href=\"#arrow-b3a6ecc580f2420ab1ec9bb862c4f58b-0-5\" class=\"displacy-label\" startOffset=\"50%\" side=\"left\" fill=\"currentColor\" text-anchor=\"middle\">dobj</textPath>\n",
              "    </text>\n",
              "    <path class=\"displacy-arrowhead\" d=\"M1095.0,266.5 L1103.0,254.5 1087.0,254.5\" fill=\"currentColor\"/>\n",
              "</g>\n",
              "\n",
              "<g class=\"displacy-arrow\">\n",
              "    <path class=\"displacy-arc\" id=\"arrow-b3a6ecc580f2420ab1ec9bb862c4f58b-0-6\" stroke-width=\"2px\" d=\"M1120,264.5 C1120,177.0 1265.0,177.0 1265.0,264.5\" fill=\"none\" stroke=\"currentColor\"/>\n",
              "    <text dy=\"1.25em\" style=\"font-size: 0.8em; letter-spacing: 1px\">\n",
              "        <textPath xlink:href=\"#arrow-b3a6ecc580f2420ab1ec9bb862c4f58b-0-6\" class=\"displacy-label\" startOffset=\"50%\" side=\"left\" fill=\"currentColor\" text-anchor=\"middle\">cc</textPath>\n",
              "    </text>\n",
              "    <path class=\"displacy-arrowhead\" d=\"M1265.0,266.5 L1273.0,254.5 1257.0,254.5\" fill=\"currentColor\"/>\n",
              "</g>\n",
              "\n",
              "<g class=\"displacy-arrow\">\n",
              "    <path class=\"displacy-arc\" id=\"arrow-b3a6ecc580f2420ab1ec9bb862c4f58b-0-7\" stroke-width=\"2px\" d=\"M1470,264.5 C1470,89.5 1795.0,89.5 1795.0,264.5\" fill=\"none\" stroke=\"currentColor\"/>\n",
              "    <text dy=\"1.25em\" style=\"font-size: 0.8em; letter-spacing: 1px\">\n",
              "        <textPath xlink:href=\"#arrow-b3a6ecc580f2420ab1ec9bb862c4f58b-0-7\" class=\"displacy-label\" startOffset=\"50%\" side=\"left\" fill=\"currentColor\" text-anchor=\"middle\">nummod</textPath>\n",
              "    </text>\n",
              "    <path class=\"displacy-arrowhead\" d=\"M1470,266.5 L1462,254.5 1478,254.5\" fill=\"currentColor\"/>\n",
              "</g>\n",
              "\n",
              "<g class=\"displacy-arrow\">\n",
              "    <path class=\"displacy-arc\" id=\"arrow-b3a6ecc580f2420ab1ec9bb862c4f58b-0-8\" stroke-width=\"2px\" d=\"M1645,264.5 C1645,177.0 1790.0,177.0 1790.0,264.5\" fill=\"none\" stroke=\"currentColor\"/>\n",
              "    <text dy=\"1.25em\" style=\"font-size: 0.8em; letter-spacing: 1px\">\n",
              "        <textPath xlink:href=\"#arrow-b3a6ecc580f2420ab1ec9bb862c4f58b-0-8\" class=\"displacy-label\" startOffset=\"50%\" side=\"left\" fill=\"currentColor\" text-anchor=\"middle\">amod</textPath>\n",
              "    </text>\n",
              "    <path class=\"displacy-arrowhead\" d=\"M1645,266.5 L1637,254.5 1653,254.5\" fill=\"currentColor\"/>\n",
              "</g>\n",
              "\n",
              "<g class=\"displacy-arrow\">\n",
              "    <path class=\"displacy-arc\" id=\"arrow-b3a6ecc580f2420ab1ec9bb862c4f58b-0-9\" stroke-width=\"2px\" d=\"M1120,264.5 C1120,2.0 1800.0,2.0 1800.0,264.5\" fill=\"none\" stroke=\"currentColor\"/>\n",
              "    <text dy=\"1.25em\" style=\"font-size: 0.8em; letter-spacing: 1px\">\n",
              "        <textPath xlink:href=\"#arrow-b3a6ecc580f2420ab1ec9bb862c4f58b-0-9\" class=\"displacy-label\" startOffset=\"50%\" side=\"left\" fill=\"currentColor\" text-anchor=\"middle\">conj</textPath>\n",
              "    </text>\n",
              "    <path class=\"displacy-arrowhead\" d=\"M1800.0,266.5 L1808.0,254.5 1792.0,254.5\" fill=\"currentColor\"/>\n",
              "</g>\n",
              "</svg></span>"
            ]
          },
          "metadata": {}
        }
      ]
    },
    {
      "cell_type": "code",
      "source": [
        "for token in doc:\n",
        "    if token.dep_ == \"dobj\":\n",
        "        children_of_dobj = [t.i for t in token.children]\n",
        "        left_most_idx = min(children_of_dobj)\n",
        "        right_most_idx = max(children_of_dobj)\n",
        "        order = doc[left_most_idx:right_most_idx+1].text\n",
        "        print(f\"Your order is: {order}\")"
      ],
      "metadata": {
        "colab": {
          "base_uri": "https://localhost:8080/"
        },
        "id": "cYqVoDp0UhYv",
        "outputId": "107e98ec-cf37-4281-a535-2a00a01aeac8"
      },
      "execution_count": 77,
      "outputs": [
        {
          "output_type": "stream",
          "name": "stdout",
          "text": [
            "Your order is: three Cheeseburgers and one small fries\n"
          ]
        }
      ]
    },
    {
      "cell_type": "markdown",
      "source": [
        "# Named entities"
      ],
      "metadata": {
        "id": "QSrmdOqLB3QA"
      }
    },
    {
      "cell_type": "markdown",
      "source": [
        "> Feel free to change `DOCID` to any number between 0 and 736."
      ],
      "metadata": {
        "id": "k9GsYLGOPx7-"
      }
    },
    {
      "cell_type": "code",
      "source": [
        "DOCID = 400\n",
        "text = df.loc[DOCID, 'text']\n",
        "doc = nlp(text)\n",
        "displacy.render(doc, style='ent',jupyter=True)"
      ],
      "metadata": {
        "colab": {
          "base_uri": "https://localhost:8080/",
          "height": 857
        },
        "id": "nUUOO0sUKv_g",
        "outputId": "98278577-81cb-466c-e45d-71e7194edd9d"
      },
      "execution_count": 62,
      "outputs": [
        {
          "output_type": "display_data",
          "data": {
            "text/plain": [
              "<IPython.core.display.HTML object>"
            ],
            "text/html": [
              "<span class=\"tex2jax_ignore\"><div class=\"entities\" style=\"line-height: 2.5; direction: ltr\">\n",
              "<mark class=\"entity\" style=\"background: #aa9cfc; padding: 0.45em 0.6em; margin: 0 0.25em; line-height: 1; border-radius: 0.35em;\">\n",
              "    Strachan\n",
              "    <span style=\"font-size: 0.8em; font-weight: bold; line-height: 1; border-radius: 0.35em; vertical-align: middle; margin-left: 0.5rem\">PERSON</span>\n",
              "</mark>\n",
              " turns down Pompey</br></br>Former \n",
              "<mark class=\"entity\" style=\"background: #feca74; padding: 0.45em 0.6em; margin: 0 0.25em; line-height: 1; border-radius: 0.35em;\">\n",
              "    Southampton\n",
              "    <span style=\"font-size: 0.8em; font-weight: bold; line-height: 1; border-radius: 0.35em; vertical-align: middle; margin-left: 0.5rem\">GPE</span>\n",
              "</mark>\n",
              " manager \n",
              "<mark class=\"entity\" style=\"background: #aa9cfc; padding: 0.45em 0.6em; margin: 0 0.25em; line-height: 1; border-radius: 0.35em;\">\n",
              "    Gordon Strachan\n",
              "    <span style=\"font-size: 0.8em; font-weight: bold; line-height: 1; border-radius: 0.35em; vertical-align: middle; margin-left: 0.5rem\">PERSON</span>\n",
              "</mark>\n",
              " has rejected the chance to become \n",
              "<mark class=\"entity\" style=\"background: #feca74; padding: 0.45em 0.6em; margin: 0 0.25em; line-height: 1; border-radius: 0.35em;\">\n",
              "    Portsmouth\n",
              "    <span style=\"font-size: 0.8em; font-weight: bold; line-height: 1; border-radius: 0.35em; vertical-align: middle; margin-left: 0.5rem\">GPE</span>\n",
              "</mark>\n",
              "'s new boss.</br></br>The Scot was Pompey chairman \n",
              "<mark class=\"entity\" style=\"background: #aa9cfc; padding: 0.45em 0.6em; margin: 0 0.25em; line-height: 1; border-radius: 0.35em;\">\n",
              "    Milan Mandaric's\n",
              "    <span style=\"font-size: 0.8em; font-weight: bold; line-height: 1; border-radius: 0.35em; vertical-align: middle; margin-left: 0.5rem\">PERSON</span>\n",
              "</mark>\n",
              " \n",
              "<mark class=\"entity\" style=\"background: #e4e7d2; padding: 0.45em 0.6em; margin: 0 0.25em; line-height: 1; border-radius: 0.35em;\">\n",
              "    first\n",
              "    <span style=\"font-size: 0.8em; font-weight: bold; line-height: 1; border-radius: 0.35em; vertical-align: middle; margin-left: 0.5rem\">ORDINAL</span>\n",
              "</mark>\n",
              " choice to replace \n",
              "<mark class=\"entity\" style=\"background: #aa9cfc; padding: 0.45em 0.6em; margin: 0 0.25em; line-height: 1; border-radius: 0.35em;\">\n",
              "    Harry Redknapp\n",
              "    <span style=\"font-size: 0.8em; font-weight: bold; line-height: 1; border-radius: 0.35em; vertical-align: middle; margin-left: 0.5rem\">PERSON</span>\n",
              "</mark>\n",
              ", who left \n",
              "<mark class=\"entity\" style=\"background: #feca74; padding: 0.45em 0.6em; margin: 0 0.25em; line-height: 1; border-radius: 0.35em;\">\n",
              "    Fratton Park\n",
              "    <span style=\"font-size: 0.8em; font-weight: bold; line-height: 1; border-radius: 0.35em; vertical-align: middle; margin-left: 0.5rem\">GPE</span>\n",
              "</mark>\n",
              " for rivals Saints earlier in \n",
              "<mark class=\"entity\" style=\"background: #bfe1d9; padding: 0.45em 0.6em; margin: 0 0.25em; line-height: 1; border-radius: 0.35em;\">\n",
              "    December\n",
              "    <span style=\"font-size: 0.8em; font-weight: bold; line-height: 1; border-radius: 0.35em; vertical-align: middle; margin-left: 0.5rem\">DATE</span>\n",
              "</mark>\n",
              ". &quot;I think it's a fantastic job for anybody apart from somebody who has just been the \n",
              "<mark class=\"entity\" style=\"background: #feca74; padding: 0.45em 0.6em; margin: 0 0.25em; line-height: 1; border-radius: 0.35em;\">\n",
              "    Southampton\n",
              "    <span style=\"font-size: 0.8em; font-weight: bold; line-height: 1; border-radius: 0.35em; vertical-align: middle; margin-left: 0.5rem\">GPE</span>\n",
              "</mark>\n",
              " manager,&quot; \n",
              "<mark class=\"entity\" style=\"background: #aa9cfc; padding: 0.45em 0.6em; margin: 0 0.25em; line-height: 1; border-radius: 0.35em;\">\n",
              "    Strachan\n",
              "    <span style=\"font-size: 0.8em; font-weight: bold; line-height: 1; border-radius: 0.35em; vertical-align: middle; margin-left: 0.5rem\">PERSON</span>\n",
              "</mark>\n",
              " told the \n",
              "<mark class=\"entity\" style=\"background: #7aecec; padding: 0.45em 0.6em; margin: 0 0.25em; line-height: 1; border-radius: 0.35em;\">\n",
              "    BBC\n",
              "    <span style=\"font-size: 0.8em; font-weight: bold; line-height: 1; border-radius: 0.35em; vertical-align: middle; margin-left: 0.5rem\">ORG</span>\n",
              "</mark>\n",
              ". \n",
              "<mark class=\"entity\" style=\"background: #7aecec; padding: 0.45em 0.6em; margin: 0 0.25em; line-height: 1; border-radius: 0.35em;\">\n",
              "    Club\n",
              "    <span style=\"font-size: 0.8em; font-weight: bold; line-height: 1; border-radius: 0.35em; vertical-align: middle; margin-left: 0.5rem\">ORG</span>\n",
              "</mark>\n",
              " director \n",
              "<mark class=\"entity\" style=\"background: #aa9cfc; padding: 0.45em 0.6em; margin: 0 0.25em; line-height: 1; border-radius: 0.35em;\">\n",
              "    Terry Brady\n",
              "    <span style=\"font-size: 0.8em; font-weight: bold; line-height: 1; border-radius: 0.35em; vertical-align: middle; margin-left: 0.5rem\">PERSON</span>\n",
              "</mark>\n",
              " held initial talks with \n",
              "<mark class=\"entity\" style=\"background: #aa9cfc; padding: 0.45em 0.6em; margin: 0 0.25em; line-height: 1; border-radius: 0.35em;\">\n",
              "    Strachan\n",
              "    <span style=\"font-size: 0.8em; font-weight: bold; line-height: 1; border-radius: 0.35em; vertical-align: middle; margin-left: 0.5rem\">PERSON</span>\n",
              "</mark>\n",
              " on \n",
              "<mark class=\"entity\" style=\"background: #bfe1d9; padding: 0.45em 0.6em; margin: 0 0.25em; line-height: 1; border-radius: 0.35em;\">\n",
              "    Saturday\n",
              "    <span style=\"font-size: 0.8em; font-weight: bold; line-height: 1; border-radius: 0.35em; vertical-align: middle; margin-left: 0.5rem\">DATE</span>\n",
              "</mark>\n",
              ". The former \n",
              "<mark class=\"entity\" style=\"background: #feca74; padding: 0.45em 0.6em; margin: 0 0.25em; line-height: 1; border-radius: 0.35em;\">\n",
              "    Scotland\n",
              "    <span style=\"font-size: 0.8em; font-weight: bold; line-height: 1; border-radius: 0.35em; vertical-align: middle; margin-left: 0.5rem\">GPE</span>\n",
              "</mark>\n",
              " international added that joining \n",
              "<mark class=\"entity\" style=\"background: #feca74; padding: 0.45em 0.6em; margin: 0 0.25em; line-height: 1; border-radius: 0.35em;\">\n",
              "    Southampton\n",
              "    <span style=\"font-size: 0.8em; font-weight: bold; line-height: 1; border-radius: 0.35em; vertical-align: middle; margin-left: 0.5rem\">GPE</span>\n",
              "</mark>\n",
              "'s local rivals would not be a wise move. &quot;It's got everything going for it but I've got too many memories of the other side and I don't want to sour those memories,&quot; he said. &quot;Everything's right - it's \n",
              "<mark class=\"entity\" style=\"background: #bfe1d9; padding: 0.45em 0.6em; margin: 0 0.25em; line-height: 1; border-radius: 0.35em;\">\n",
              "    10 minutes\n",
              "    <span style=\"font-size: 0.8em; font-weight: bold; line-height: 1; border-radius: 0.35em; vertical-align: middle; margin-left: 0.5rem\">TIME</span>\n",
              "</mark>\n",
              " away, there are good players there, a good set-up, a good atmosphere at the ground. &quot;There's lots to do but it's not right for somebody who has just been the \n",
              "<mark class=\"entity\" style=\"background: #feca74; padding: 0.45em 0.6em; margin: 0 0.25em; line-height: 1; border-radius: 0.35em;\">\n",
              "    Southampton\n",
              "    <span style=\"font-size: 0.8em; font-weight: bold; line-height: 1; border-radius: 0.35em; vertical-align: middle; margin-left: 0.5rem\">GPE</span>\n",
              "</mark>\n",
              " manager.&quot; Since \n",
              "<mark class=\"entity\" style=\"background: #7aecec; padding: 0.45em 0.6em; margin: 0 0.25em; line-height: 1; border-radius: 0.35em;\">\n",
              "    Redknapp\n",
              "    <span style=\"font-size: 0.8em; font-weight: bold; line-height: 1; border-radius: 0.35em; vertical-align: middle; margin-left: 0.5rem\">ORG</span>\n",
              "</mark>\n",
              "'s departure, executive director \n",
              "<mark class=\"entity\" style=\"background: #aa9cfc; padding: 0.45em 0.6em; margin: 0 0.25em; line-height: 1; border-radius: 0.35em;\">\n",
              "    Velimir Zajec\n",
              "    <span style=\"font-size: 0.8em; font-weight: bold; line-height: 1; border-radius: 0.35em; vertical-align: middle; margin-left: 0.5rem\">PERSON</span>\n",
              "</mark>\n",
              " and coach \n",
              "<mark class=\"entity\" style=\"background: #aa9cfc; padding: 0.45em 0.6em; margin: 0 0.25em; line-height: 1; border-radius: 0.35em;\">\n",
              "    Joe Jordan\n",
              "    <span style=\"font-size: 0.8em; font-weight: bold; line-height: 1; border-radius: 0.35em; vertical-align: middle; margin-left: 0.5rem\">PERSON</span>\n",
              "</mark>\n",
              " have overseen \n",
              "<mark class=\"entity\" style=\"background: #e4e7d2; padding: 0.45em 0.6em; margin: 0 0.25em; line-height: 1; border-radius: 0.35em;\">\n",
              "    first\n",
              "    <span style=\"font-size: 0.8em; font-weight: bold; line-height: 1; border-radius: 0.35em; vertical-align: middle; margin-left: 0.5rem\">ORDINAL</span>\n",
              "</mark>\n",
              "-team affairs.</br></br>The duo had gone \n",
              "<mark class=\"entity\" style=\"background: #e4e7d2; padding: 0.45em 0.6em; margin: 0 0.25em; line-height: 1; border-radius: 0.35em;\">\n",
              "    five\n",
              "    <span style=\"font-size: 0.8em; font-weight: bold; line-height: 1; border-radius: 0.35em; vertical-align: middle; margin-left: 0.5rem\">CARDINAL</span>\n",
              "</mark>\n",
              " matches unbeaten until \n",
              "<mark class=\"entity\" style=\"background: #bfe1d9; padding: 0.45em 0.6em; margin: 0 0.25em; line-height: 1; border-radius: 0.35em;\">\n",
              "    Sunday\n",
              "    <span style=\"font-size: 0.8em; font-weight: bold; line-height: 1; border-radius: 0.35em; vertical-align: middle; margin-left: 0.5rem\">DATE</span>\n",
              "</mark>\n",
              "'s \n",
              "<mark class=\"entity\" style=\"background: #e4e7d2; padding: 0.45em 0.6em; margin: 0 0.25em; line-height: 1; border-radius: 0.35em;\">\n",
              "    1\n",
              "    <span style=\"font-size: 0.8em; font-weight: bold; line-height: 1; border-radius: 0.35em; vertical-align: middle; margin-left: 0.5rem\">CARDINAL</span>\n",
              "</mark>\n",
              "-0 defeat at home to champions Arsenal, but the club are still in a respectable \n",
              "<mark class=\"entity\" style=\"background: #e4e7d2; padding: 0.45em 0.6em; margin: 0 0.25em; line-height: 1; border-radius: 0.35em;\">\n",
              "    12th\n",
              "    <span style=\"font-size: 0.8em; font-weight: bold; line-height: 1; border-radius: 0.35em; vertical-align: middle; margin-left: 0.5rem\">ORDINAL</span>\n",
              "</mark>\n",
              " place in the Premiership table. \n",
              "<mark class=\"entity\" style=\"background: #aa9cfc; padding: 0.45em 0.6em; margin: 0 0.25em; line-height: 1; border-radius: 0.35em;\">\n",
              "    Strachan\n",
              "    <span style=\"font-size: 0.8em; font-weight: bold; line-height: 1; border-radius: 0.35em; vertical-align: middle; margin-left: 0.5rem\">PERSON</span>\n",
              "</mark>\n",
              " left \n",
              "<mark class=\"entity\" style=\"background: #7aecec; padding: 0.45em 0.6em; margin: 0 0.25em; line-height: 1; border-radius: 0.35em;\">\n",
              "    St Mary's\n",
              "    <span style=\"font-size: 0.8em; font-weight: bold; line-height: 1; border-radius: 0.35em; vertical-align: middle; margin-left: 0.5rem\">ORG</span>\n",
              "</mark>\n",
              " in \n",
              "<mark class=\"entity\" style=\"background: #bfe1d9; padding: 0.45em 0.6em; margin: 0 0.25em; line-height: 1; border-radius: 0.35em;\">\n",
              "    February\n",
              "    <span style=\"font-size: 0.8em; font-weight: bold; line-height: 1; border-radius: 0.35em; vertical-align: middle; margin-left: 0.5rem\">DATE</span>\n",
              "</mark>\n",
              ", after earlier announcing his intention to take a break from the game at \n",
              "<mark class=\"entity\" style=\"background: #bfe1d9; padding: 0.45em 0.6em; margin: 0 0.25em; line-height: 1; border-radius: 0.35em;\">\n",
              "    the end of the\n",
              "    <span style=\"font-size: 0.8em; font-weight: bold; line-height: 1; border-radius: 0.35em; vertical-align: middle; margin-left: 0.5rem\">DATE</span>\n",
              "</mark>\n",
              " \n",
              "<mark class=\"entity\" style=\"background: #bfe1d9; padding: 0.45em 0.6em; margin: 0 0.25em; line-height: 1; border-radius: 0.35em;\">\n",
              "    2003-04 season\n",
              "    <span style=\"font-size: 0.8em; font-weight: bold; line-height: 1; border-radius: 0.35em; vertical-align: middle; margin-left: 0.5rem\">DATE</span>\n",
              "</mark>\n",
              ". His previous managerial experience came at \n",
              "<mark class=\"entity\" style=\"background: #7aecec; padding: 0.45em 0.6em; margin: 0 0.25em; line-height: 1; border-radius: 0.35em;\">\n",
              "    Coventry\n",
              "    <span style=\"font-size: 0.8em; font-weight: bold; line-height: 1; border-radius: 0.35em; vertical-align: middle; margin-left: 0.5rem\">ORG</span>\n",
              "</mark>\n",
              ", whom he led for \n",
              "<mark class=\"entity\" style=\"background: #bfe1d9; padding: 0.45em 0.6em; margin: 0 0.25em; line-height: 1; border-radius: 0.35em;\">\n",
              "    five years from 1996 to 2001\n",
              "    <span style=\"font-size: 0.8em; font-weight: bold; line-height: 1; border-radius: 0.35em; vertical-align: middle; margin-left: 0.5rem\">DATE</span>\n",
              "</mark>\n",
              ".</br></div></span>"
            ]
          },
          "metadata": {}
        }
      ]
    },
    {
      "cell_type": "code",
      "source": [
        "#@title\n",
        "def extract_ent(ent_label):\n",
        "    corpus_ents = []\n",
        "    for doc in nlp.pipe(texts):\n",
        "        doc_ents = [ent.text for ent in doc.ents if ent.label_ == ent_label]\n",
        "        corpus_ents.append(set(doc_ents))\n",
        "    return corpus_ents"
      ],
      "metadata": {
        "cellView": "form",
        "id": "FrLJ7Bz9CShJ"
      },
      "execution_count": 52,
      "outputs": []
    },
    {
      "cell_type": "code",
      "source": [
        "#@title\n",
        "from collections import Counter\n",
        "\n",
        "def show_top_entities(df, ent_label, top_k=10):\n",
        "    corpus_ents = []\n",
        "    for ents in df[ent_label]:\n",
        "        doc_ents = list(ents)\n",
        "        corpus_ents.extend(doc_ents)\n",
        "    counter = Counter(corpus_ents)\n",
        "    res = counter.most_common(top_k)\n",
        "    return res"
      ],
      "metadata": {
        "cellView": "form",
        "id": "_WHQB0JzeEL6"
      },
      "execution_count": 93,
      "outputs": []
    },
    {
      "cell_type": "markdown",
      "source": [
        "## Person"
      ],
      "metadata": {
        "id": "jVTy6sZXB59v"
      }
    },
    {
      "cell_type": "code",
      "source": [
        "texts = df['text']"
      ],
      "metadata": {
        "id": "wKe4_p-QB7KM"
      },
      "execution_count": 51,
      "outputs": []
    },
    {
      "cell_type": "code",
      "source": [
        "df['person'] = extract_ent('PERSON')\n",
        "df"
      ],
      "metadata": {
        "colab": {
          "base_uri": "https://localhost:8080/",
          "height": 641
        },
        "id": "0wXaBHxuIFnB",
        "outputId": "ef7177fd-96b4-4a68-ea39-4922fefc393b"
      },
      "execution_count": 53,
      "outputs": [
        {
          "output_type": "execute_result",
          "data": {
            "text/plain": [
              "                                                  text      topic  \\\n",
              "0    Claxton hunting first major medal\\n\\nBritish h...  athletics   \n",
              "1    O'Sullivan could run in Worlds\\n\\nSonia O'Sull...  athletics   \n",
              "2    Greene sets sights on world title\\n\\nMaurice G...  athletics   \n",
              "3    IAAF launches fight against drugs\\n\\nThe IAAF ...  athletics   \n",
              "4    Dibaba breaks 5,000m world record\\n\\nEthiopia'...  athletics   \n",
              "..                                                 ...        ...   \n",
              "732  Agassi into second round in Dubai\\n\\nFourth se...     tennis   \n",
              "733  Mauresmo fights back to win title\\n\\nWorld num...     tennis   \n",
              "734  Federer wins title in Rotterdam\\n\\nWorld numbe...     tennis   \n",
              "735  GB players warned over security\\n\\nBritain's D...     tennis   \n",
              "736  Sharapova overcomes tough Molik\\n\\nWimbledon c...     tennis   \n",
              "\n",
              "                                                person  \n",
              "0                    {Sarah Claxton, Irina Shevchenko}  \n",
              "1    {Maria McCambridge, Fionnualla Britton, Jolene...  \n",
              "2    {Greene, Ato, Lewis-Francis, Francis Obikwelu,...  \n",
              "3            {Frankie Fredericks, Diack, Lamine Diack}  \n",
              "4    {Bekele, Kenenisa Bekele's, Alistair Cragg, Jo...  \n",
              "..                                                 ...  \n",
              "732  {Olivier Rochus, Tim Henman, Andre Agassi, Rad...  \n",
              "733  {Mauresmo, Amelie, Amelie Mauresmo, Williams, ...  \n",
              "734  {Rotterdam, Federer, Roger Federer, Ivan Ljubi...  \n",
              "735  {Bates, Murray, Alex Bogdanovic, David Sherwoo...  \n",
              "736  {Maria Sharapova, Molik, Alicia Molik, Alicia,...  \n",
              "\n",
              "[737 rows x 3 columns]"
            ],
            "text/html": [
              "\n",
              "  <div id=\"df-f8388a13-5244-49e0-b26c-5e876e310740\">\n",
              "    <div class=\"colab-df-container\">\n",
              "      <div>\n",
              "<style scoped>\n",
              "    .dataframe tbody tr th:only-of-type {\n",
              "        vertical-align: middle;\n",
              "    }\n",
              "\n",
              "    .dataframe tbody tr th {\n",
              "        vertical-align: top;\n",
              "    }\n",
              "\n",
              "    .dataframe thead th {\n",
              "        text-align: right;\n",
              "    }\n",
              "</style>\n",
              "<table border=\"1\" class=\"dataframe\">\n",
              "  <thead>\n",
              "    <tr style=\"text-align: right;\">\n",
              "      <th></th>\n",
              "      <th>text</th>\n",
              "      <th>topic</th>\n",
              "      <th>person</th>\n",
              "    </tr>\n",
              "  </thead>\n",
              "  <tbody>\n",
              "    <tr>\n",
              "      <th>0</th>\n",
              "      <td>Claxton hunting first major medal\\n\\nBritish h...</td>\n",
              "      <td>athletics</td>\n",
              "      <td>{Sarah Claxton, Irina Shevchenko}</td>\n",
              "    </tr>\n",
              "    <tr>\n",
              "      <th>1</th>\n",
              "      <td>O'Sullivan could run in Worlds\\n\\nSonia O'Sull...</td>\n",
              "      <td>athletics</td>\n",
              "      <td>{Maria McCambridge, Fionnualla Britton, Jolene...</td>\n",
              "    </tr>\n",
              "    <tr>\n",
              "      <th>2</th>\n",
              "      <td>Greene sets sights on world title\\n\\nMaurice G...</td>\n",
              "      <td>athletics</td>\n",
              "      <td>{Greene, Ato, Lewis-Francis, Francis Obikwelu,...</td>\n",
              "    </tr>\n",
              "    <tr>\n",
              "      <th>3</th>\n",
              "      <td>IAAF launches fight against drugs\\n\\nThe IAAF ...</td>\n",
              "      <td>athletics</td>\n",
              "      <td>{Frankie Fredericks, Diack, Lamine Diack}</td>\n",
              "    </tr>\n",
              "    <tr>\n",
              "      <th>4</th>\n",
              "      <td>Dibaba breaks 5,000m world record\\n\\nEthiopia'...</td>\n",
              "      <td>athletics</td>\n",
              "      <td>{Bekele, Kenenisa Bekele's, Alistair Cragg, Jo...</td>\n",
              "    </tr>\n",
              "    <tr>\n",
              "      <th>...</th>\n",
              "      <td>...</td>\n",
              "      <td>...</td>\n",
              "      <td>...</td>\n",
              "    </tr>\n",
              "    <tr>\n",
              "      <th>732</th>\n",
              "      <td>Agassi into second round in Dubai\\n\\nFourth se...</td>\n",
              "      <td>tennis</td>\n",
              "      <td>{Olivier Rochus, Tim Henman, Andre Agassi, Rad...</td>\n",
              "    </tr>\n",
              "    <tr>\n",
              "      <th>733</th>\n",
              "      <td>Mauresmo fights back to win title\\n\\nWorld num...</td>\n",
              "      <td>tennis</td>\n",
              "      <td>{Mauresmo, Amelie, Amelie Mauresmo, Williams, ...</td>\n",
              "    </tr>\n",
              "    <tr>\n",
              "      <th>734</th>\n",
              "      <td>Federer wins title in Rotterdam\\n\\nWorld numbe...</td>\n",
              "      <td>tennis</td>\n",
              "      <td>{Rotterdam, Federer, Roger Federer, Ivan Ljubi...</td>\n",
              "    </tr>\n",
              "    <tr>\n",
              "      <th>735</th>\n",
              "      <td>GB players warned over security\\n\\nBritain's D...</td>\n",
              "      <td>tennis</td>\n",
              "      <td>{Bates, Murray, Alex Bogdanovic, David Sherwoo...</td>\n",
              "    </tr>\n",
              "    <tr>\n",
              "      <th>736</th>\n",
              "      <td>Sharapova overcomes tough Molik\\n\\nWimbledon c...</td>\n",
              "      <td>tennis</td>\n",
              "      <td>{Maria Sharapova, Molik, Alicia Molik, Alicia,...</td>\n",
              "    </tr>\n",
              "  </tbody>\n",
              "</table>\n",
              "<p>737 rows × 3 columns</p>\n",
              "</div>\n",
              "      <button class=\"colab-df-convert\" onclick=\"convertToInteractive('df-f8388a13-5244-49e0-b26c-5e876e310740')\"\n",
              "              title=\"Convert this dataframe to an interactive table.\"\n",
              "              style=\"display:none;\">\n",
              "        \n",
              "  <svg xmlns=\"http://www.w3.org/2000/svg\" height=\"24px\"viewBox=\"0 0 24 24\"\n",
              "       width=\"24px\">\n",
              "    <path d=\"M0 0h24v24H0V0z\" fill=\"none\"/>\n",
              "    <path d=\"M18.56 5.44l.94 2.06.94-2.06 2.06-.94-2.06-.94-.94-2.06-.94 2.06-2.06.94zm-11 1L8.5 8.5l.94-2.06 2.06-.94-2.06-.94L8.5 2.5l-.94 2.06-2.06.94zm10 10l.94 2.06.94-2.06 2.06-.94-2.06-.94-.94-2.06-.94 2.06-2.06.94z\"/><path d=\"M17.41 7.96l-1.37-1.37c-.4-.4-.92-.59-1.43-.59-.52 0-1.04.2-1.43.59L10.3 9.45l-7.72 7.72c-.78.78-.78 2.05 0 2.83L4 21.41c.39.39.9.59 1.41.59.51 0 1.02-.2 1.41-.59l7.78-7.78 2.81-2.81c.8-.78.8-2.07 0-2.86zM5.41 20L4 18.59l7.72-7.72 1.47 1.35L5.41 20z\"/>\n",
              "  </svg>\n",
              "      </button>\n",
              "      \n",
              "  <style>\n",
              "    .colab-df-container {\n",
              "      display:flex;\n",
              "      flex-wrap:wrap;\n",
              "      gap: 12px;\n",
              "    }\n",
              "\n",
              "    .colab-df-convert {\n",
              "      background-color: #E8F0FE;\n",
              "      border: none;\n",
              "      border-radius: 50%;\n",
              "      cursor: pointer;\n",
              "      display: none;\n",
              "      fill: #1967D2;\n",
              "      height: 32px;\n",
              "      padding: 0 0 0 0;\n",
              "      width: 32px;\n",
              "    }\n",
              "\n",
              "    .colab-df-convert:hover {\n",
              "      background-color: #E2EBFA;\n",
              "      box-shadow: 0px 1px 2px rgba(60, 64, 67, 0.3), 0px 1px 3px 1px rgba(60, 64, 67, 0.15);\n",
              "      fill: #174EA6;\n",
              "    }\n",
              "\n",
              "    [theme=dark] .colab-df-convert {\n",
              "      background-color: #3B4455;\n",
              "      fill: #D2E3FC;\n",
              "    }\n",
              "\n",
              "    [theme=dark] .colab-df-convert:hover {\n",
              "      background-color: #434B5C;\n",
              "      box-shadow: 0px 1px 3px 1px rgba(0, 0, 0, 0.15);\n",
              "      filter: drop-shadow(0px 1px 2px rgba(0, 0, 0, 0.3));\n",
              "      fill: #FFFFFF;\n",
              "    }\n",
              "  </style>\n",
              "\n",
              "      <script>\n",
              "        const buttonEl =\n",
              "          document.querySelector('#df-f8388a13-5244-49e0-b26c-5e876e310740 button.colab-df-convert');\n",
              "        buttonEl.style.display =\n",
              "          google.colab.kernel.accessAllowed ? 'block' : 'none';\n",
              "\n",
              "        async function convertToInteractive(key) {\n",
              "          const element = document.querySelector('#df-f8388a13-5244-49e0-b26c-5e876e310740');\n",
              "          const dataTable =\n",
              "            await google.colab.kernel.invokeFunction('convertToInteractive',\n",
              "                                                     [key], {});\n",
              "          if (!dataTable) return;\n",
              "\n",
              "          const docLinkHtml = 'Like what you see? Visit the ' +\n",
              "            '<a target=\"_blank\" href=https://colab.research.google.com/notebooks/data_table.ipynb>data table notebook</a>'\n",
              "            + ' to learn more about interactive tables.';\n",
              "          element.innerHTML = '';\n",
              "          dataTable['output_type'] = 'display_data';\n",
              "          await google.colab.output.renderOutput(dataTable, element);\n",
              "          const docLink = document.createElement('div');\n",
              "          docLink.innerHTML = docLinkHtml;\n",
              "          element.appendChild(docLink);\n",
              "        }\n",
              "      </script>\n",
              "    </div>\n",
              "  </div>\n",
              "  "
            ]
          },
          "metadata": {},
          "execution_count": 53
        }
      ]
    },
    {
      "cell_type": "markdown",
      "source": [
        "> Feel free to change `TOP_K` to other numbers and rerun the cell."
      ],
      "metadata": {
        "id": "kY32K8PWdwPd"
      }
    },
    {
      "cell_type": "code",
      "source": [
        "TOP_K = 5\n",
        "show_top_entities(df, 'person', top_k=TOP_K)"
      ],
      "metadata": {
        "colab": {
          "base_uri": "https://localhost:8080/"
        },
        "id": "GFAqLhXaajRS",
        "outputId": "933f49e0-d154-4a63-9c2e-da84575a54ab"
      },
      "execution_count": 94,
      "outputs": [
        {
          "output_type": "execute_result",
          "data": {
            "text/plain": [
              "[('Williams', 32),\n",
              " ('Alex Ferguson', 29),\n",
              " ('Jose Mourinho', 28),\n",
              " ('Andy Robinson', 27),\n",
              " ('Robinson', 26)]"
            ]
          },
          "metadata": {},
          "execution_count": 94
        }
      ]
    },
    {
      "cell_type": "markdown",
      "source": [
        "## Geopolitical entities"
      ],
      "metadata": {
        "id": "YFiY-BipONlc"
      }
    },
    {
      "cell_type": "code",
      "source": [
        "df['gpe'] = extract_ent('GPE')\n",
        "df"
      ],
      "metadata": {
        "colab": {
          "base_uri": "https://localhost:8080/",
          "height": 798
        },
        "id": "8lK4r3IRNHsL",
        "outputId": "5e6fa8b3-e3a7-4ac9-99e2-ac8e5ba340e9"
      },
      "execution_count": 54,
      "outputs": [
        {
          "output_type": "execute_result",
          "data": {
            "text/plain": [
              "                                                  text      topic  \\\n",
              "0    Claxton hunting first major medal\\n\\nBritish h...  athletics   \n",
              "1    O'Sullivan could run in Worlds\\n\\nSonia O'Sull...  athletics   \n",
              "2    Greene sets sights on world title\\n\\nMaurice G...  athletics   \n",
              "3    IAAF launches fight against drugs\\n\\nThe IAAF ...  athletics   \n",
              "4    Dibaba breaks 5,000m world record\\n\\nEthiopia'...  athletics   \n",
              "..                                                 ...        ...   \n",
              "732  Agassi into second round in Dubai\\n\\nFourth se...     tennis   \n",
              "733  Mauresmo fights back to win title\\n\\nWorld num...     tennis   \n",
              "734  Federer wins title in Rotterdam\\n\\nWorld numbe...     tennis   \n",
              "735  GB players warned over security\\n\\nBritain's D...     tennis   \n",
              "736  Sharapova overcomes tough Molik\\n\\nWimbledon c...     tennis   \n",
              "\n",
              "                                                person  \\\n",
              "0                    {Sarah Claxton, Irina Shevchenko}   \n",
              "1    {Maria McCambridge, Fionnualla Britton, Jolene...   \n",
              "2    {Greene, Ato, Lewis-Francis, Francis Obikwelu,...   \n",
              "3            {Frankie Fredericks, Diack, Lamine Diack}   \n",
              "4    {Bekele, Kenenisa Bekele's, Alistair Cragg, Jo...   \n",
              "..                                                 ...   \n",
              "732  {Olivier Rochus, Tim Henman, Andre Agassi, Rad...   \n",
              "733  {Mauresmo, Amelie, Amelie Mauresmo, Williams, ...   \n",
              "734  {Rotterdam, Federer, Roger Federer, Ivan Ljubi...   \n",
              "735  {Bates, Murray, Alex Bogdanovic, David Sherwoo...   \n",
              "736  {Maria Sharapova, Molik, Alicia Molik, Alicia,...   \n",
              "\n",
              "                                                   gpe  \n",
              "0      {Scotland, Claxton, London, Colchester, Madrid}  \n",
              "1    {Dublin, Athletics Ireland, Australia, Santry,...  \n",
              "2    {Kansas, Birmingham, Britain, Finland, Helsink...  \n",
              "3                                      {Qatar, Monaco}  \n",
              "4    {Carolina Kluft, Ethiopia, Stuttgart, Dibaba, ...  \n",
              "..                                                 ...  \n",
              "732  {Belgium, Dubai, Morocco, the United Arab Emir...  \n",
              "733                           {Dinara Safina, Antwerp}  \n",
              "734                        {Ljubicic, Doha, Rotterdam}  \n",
              "735                        {Israel, Britain, Tel Aviv}  \n",
              "736                           {Los Angeles, Sharapova}  \n",
              "\n",
              "[737 rows x 4 columns]"
            ],
            "text/html": [
              "\n",
              "  <div id=\"df-fab11dab-5a3e-47f0-bf77-060b3685c132\">\n",
              "    <div class=\"colab-df-container\">\n",
              "      <div>\n",
              "<style scoped>\n",
              "    .dataframe tbody tr th:only-of-type {\n",
              "        vertical-align: middle;\n",
              "    }\n",
              "\n",
              "    .dataframe tbody tr th {\n",
              "        vertical-align: top;\n",
              "    }\n",
              "\n",
              "    .dataframe thead th {\n",
              "        text-align: right;\n",
              "    }\n",
              "</style>\n",
              "<table border=\"1\" class=\"dataframe\">\n",
              "  <thead>\n",
              "    <tr style=\"text-align: right;\">\n",
              "      <th></th>\n",
              "      <th>text</th>\n",
              "      <th>topic</th>\n",
              "      <th>person</th>\n",
              "      <th>gpe</th>\n",
              "    </tr>\n",
              "  </thead>\n",
              "  <tbody>\n",
              "    <tr>\n",
              "      <th>0</th>\n",
              "      <td>Claxton hunting first major medal\\n\\nBritish h...</td>\n",
              "      <td>athletics</td>\n",
              "      <td>{Sarah Claxton, Irina Shevchenko}</td>\n",
              "      <td>{Scotland, Claxton, London, Colchester, Madrid}</td>\n",
              "    </tr>\n",
              "    <tr>\n",
              "      <th>1</th>\n",
              "      <td>O'Sullivan could run in Worlds\\n\\nSonia O'Sull...</td>\n",
              "      <td>athletics</td>\n",
              "      <td>{Maria McCambridge, Fionnualla Britton, Jolene...</td>\n",
              "      <td>{Dublin, Athletics Ireland, Australia, Santry,...</td>\n",
              "    </tr>\n",
              "    <tr>\n",
              "      <th>2</th>\n",
              "      <td>Greene sets sights on world title\\n\\nMaurice G...</td>\n",
              "      <td>athletics</td>\n",
              "      <td>{Greene, Ato, Lewis-Francis, Francis Obikwelu,...</td>\n",
              "      <td>{Kansas, Birmingham, Britain, Finland, Helsink...</td>\n",
              "    </tr>\n",
              "    <tr>\n",
              "      <th>3</th>\n",
              "      <td>IAAF launches fight against drugs\\n\\nThe IAAF ...</td>\n",
              "      <td>athletics</td>\n",
              "      <td>{Frankie Fredericks, Diack, Lamine Diack}</td>\n",
              "      <td>{Qatar, Monaco}</td>\n",
              "    </tr>\n",
              "    <tr>\n",
              "      <th>4</th>\n",
              "      <td>Dibaba breaks 5,000m world record\\n\\nEthiopia'...</td>\n",
              "      <td>athletics</td>\n",
              "      <td>{Bekele, Kenenisa Bekele's, Alistair Cragg, Jo...</td>\n",
              "      <td>{Carolina Kluft, Ethiopia, Stuttgart, Dibaba, ...</td>\n",
              "    </tr>\n",
              "    <tr>\n",
              "      <th>...</th>\n",
              "      <td>...</td>\n",
              "      <td>...</td>\n",
              "      <td>...</td>\n",
              "      <td>...</td>\n",
              "    </tr>\n",
              "    <tr>\n",
              "      <th>732</th>\n",
              "      <td>Agassi into second round in Dubai\\n\\nFourth se...</td>\n",
              "      <td>tennis</td>\n",
              "      <td>{Olivier Rochus, Tim Henman, Andre Agassi, Rad...</td>\n",
              "      <td>{Belgium, Dubai, Morocco, the United Arab Emir...</td>\n",
              "    </tr>\n",
              "    <tr>\n",
              "      <th>733</th>\n",
              "      <td>Mauresmo fights back to win title\\n\\nWorld num...</td>\n",
              "      <td>tennis</td>\n",
              "      <td>{Mauresmo, Amelie, Amelie Mauresmo, Williams, ...</td>\n",
              "      <td>{Dinara Safina, Antwerp}</td>\n",
              "    </tr>\n",
              "    <tr>\n",
              "      <th>734</th>\n",
              "      <td>Federer wins title in Rotterdam\\n\\nWorld numbe...</td>\n",
              "      <td>tennis</td>\n",
              "      <td>{Rotterdam, Federer, Roger Federer, Ivan Ljubi...</td>\n",
              "      <td>{Ljubicic, Doha, Rotterdam}</td>\n",
              "    </tr>\n",
              "    <tr>\n",
              "      <th>735</th>\n",
              "      <td>GB players warned over security\\n\\nBritain's D...</td>\n",
              "      <td>tennis</td>\n",
              "      <td>{Bates, Murray, Alex Bogdanovic, David Sherwoo...</td>\n",
              "      <td>{Israel, Britain, Tel Aviv}</td>\n",
              "    </tr>\n",
              "    <tr>\n",
              "      <th>736</th>\n",
              "      <td>Sharapova overcomes tough Molik\\n\\nWimbledon c...</td>\n",
              "      <td>tennis</td>\n",
              "      <td>{Maria Sharapova, Molik, Alicia Molik, Alicia,...</td>\n",
              "      <td>{Los Angeles, Sharapova}</td>\n",
              "    </tr>\n",
              "  </tbody>\n",
              "</table>\n",
              "<p>737 rows × 4 columns</p>\n",
              "</div>\n",
              "      <button class=\"colab-df-convert\" onclick=\"convertToInteractive('df-fab11dab-5a3e-47f0-bf77-060b3685c132')\"\n",
              "              title=\"Convert this dataframe to an interactive table.\"\n",
              "              style=\"display:none;\">\n",
              "        \n",
              "  <svg xmlns=\"http://www.w3.org/2000/svg\" height=\"24px\"viewBox=\"0 0 24 24\"\n",
              "       width=\"24px\">\n",
              "    <path d=\"M0 0h24v24H0V0z\" fill=\"none\"/>\n",
              "    <path d=\"M18.56 5.44l.94 2.06.94-2.06 2.06-.94-2.06-.94-.94-2.06-.94 2.06-2.06.94zm-11 1L8.5 8.5l.94-2.06 2.06-.94-2.06-.94L8.5 2.5l-.94 2.06-2.06.94zm10 10l.94 2.06.94-2.06 2.06-.94-2.06-.94-.94-2.06-.94 2.06-2.06.94z\"/><path d=\"M17.41 7.96l-1.37-1.37c-.4-.4-.92-.59-1.43-.59-.52 0-1.04.2-1.43.59L10.3 9.45l-7.72 7.72c-.78.78-.78 2.05 0 2.83L4 21.41c.39.39.9.59 1.41.59.51 0 1.02-.2 1.41-.59l7.78-7.78 2.81-2.81c.8-.78.8-2.07 0-2.86zM5.41 20L4 18.59l7.72-7.72 1.47 1.35L5.41 20z\"/>\n",
              "  </svg>\n",
              "      </button>\n",
              "      \n",
              "  <style>\n",
              "    .colab-df-container {\n",
              "      display:flex;\n",
              "      flex-wrap:wrap;\n",
              "      gap: 12px;\n",
              "    }\n",
              "\n",
              "    .colab-df-convert {\n",
              "      background-color: #E8F0FE;\n",
              "      border: none;\n",
              "      border-radius: 50%;\n",
              "      cursor: pointer;\n",
              "      display: none;\n",
              "      fill: #1967D2;\n",
              "      height: 32px;\n",
              "      padding: 0 0 0 0;\n",
              "      width: 32px;\n",
              "    }\n",
              "\n",
              "    .colab-df-convert:hover {\n",
              "      background-color: #E2EBFA;\n",
              "      box-shadow: 0px 1px 2px rgba(60, 64, 67, 0.3), 0px 1px 3px 1px rgba(60, 64, 67, 0.15);\n",
              "      fill: #174EA6;\n",
              "    }\n",
              "\n",
              "    [theme=dark] .colab-df-convert {\n",
              "      background-color: #3B4455;\n",
              "      fill: #D2E3FC;\n",
              "    }\n",
              "\n",
              "    [theme=dark] .colab-df-convert:hover {\n",
              "      background-color: #434B5C;\n",
              "      box-shadow: 0px 1px 3px 1px rgba(0, 0, 0, 0.15);\n",
              "      filter: drop-shadow(0px 1px 2px rgba(0, 0, 0, 0.3));\n",
              "      fill: #FFFFFF;\n",
              "    }\n",
              "  </style>\n",
              "\n",
              "      <script>\n",
              "        const buttonEl =\n",
              "          document.querySelector('#df-fab11dab-5a3e-47f0-bf77-060b3685c132 button.colab-df-convert');\n",
              "        buttonEl.style.display =\n",
              "          google.colab.kernel.accessAllowed ? 'block' : 'none';\n",
              "\n",
              "        async function convertToInteractive(key) {\n",
              "          const element = document.querySelector('#df-fab11dab-5a3e-47f0-bf77-060b3685c132');\n",
              "          const dataTable =\n",
              "            await google.colab.kernel.invokeFunction('convertToInteractive',\n",
              "                                                     [key], {});\n",
              "          if (!dataTable) return;\n",
              "\n",
              "          const docLinkHtml = 'Like what you see? Visit the ' +\n",
              "            '<a target=\"_blank\" href=https://colab.research.google.com/notebooks/data_table.ipynb>data table notebook</a>'\n",
              "            + ' to learn more about interactive tables.';\n",
              "          element.innerHTML = '';\n",
              "          dataTable['output_type'] = 'display_data';\n",
              "          await google.colab.output.renderOutput(dataTable, element);\n",
              "          const docLink = document.createElement('div');\n",
              "          docLink.innerHTML = docLinkHtml;\n",
              "          element.appendChild(docLink);\n",
              "        }\n",
              "      </script>\n",
              "    </div>\n",
              "  </div>\n",
              "  "
            ]
          },
          "metadata": {},
          "execution_count": 54
        }
      ]
    },
    {
      "cell_type": "markdown",
      "source": [
        "> Feel free to change `TOP_K` to other numbers and rerun the cell."
      ],
      "metadata": {
        "id": "QmDzQmoSfYG4"
      }
    },
    {
      "cell_type": "code",
      "source": [
        "TOP_K = 5\n",
        "show_top_entities(df, 'gpe', top_k=TOP_K)"
      ],
      "metadata": {
        "colab": {
          "base_uri": "https://localhost:8080/"
        },
        "id": "XrGFzE4Tdq_6",
        "outputId": "716a0a56-a0fe-4ce6-9f06-c59e10e22430"
      },
      "execution_count": 95,
      "outputs": [
        {
          "output_type": "execute_result",
          "data": {
            "text/plain": [
              "[('England', 219),\n",
              " ('France', 110),\n",
              " ('Australia', 100),\n",
              " ('Ireland', 87),\n",
              " ('Scotland', 83)]"
            ]
          },
          "metadata": {},
          "execution_count": 95
        }
      ]
    }
  ]
}