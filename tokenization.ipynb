{
 "cells": [
  {
   "cell_type": "markdown",
   "metadata": {
    "colab_type": "text",
    "id": "view-in-github",
    "slideshow": {
     "slide_type": "skip"
    }
   },
   "source": [
    "<a href=\"https://colab.research.google.com/github/howard-haowen/Chinese-NLP/blob/main/tokenization.ipynb\" target=\"_parent\"><img src=\"https://colab.research.google.com/assets/colab-badge.svg\" alt=\"Open In Colab\"/></a>"
   ]
  },
  {
   "cell_type": "markdown",
   "metadata": {
    "id": "9b3yzD1xhz3B",
    "slideshow": {
     "slide_type": "slide"
    }
   },
   "source": [
    "# 設定RISE"
   ]
  },
  {
   "cell_type": "code",
   "execution_count": 2,
   "metadata": {
    "id": "RXVN4VZSh3hW",
    "slideshow": {
     "slide_type": "subslide"
    }
   },
   "outputs": [],
   "source": [
    "from traitlets.config.manager import BaseJSONConfigManager\n",
    "from pathlib import Path"
   ]
  },
  {
   "cell_type": "code",
   "execution_count": 3,
   "metadata": {
    "id": "mEJD01nyh5CZ",
    "slideshow": {
     "slide_type": "fragment"
    }
   },
   "outputs": [
    {
     "data": {
      "text/plain": [
       "{'autolaunch': False,\n",
       " 'enable_chalkboard': True,\n",
       " 'scroll': True,\n",
       " 'slideNumber': True,\n",
       " 'controls': True,\n",
       " 'progress': True,\n",
       " 'history': True,\n",
       " 'center': True,\n",
       " 'width': '100%',\n",
       " 'height': '100%',\n",
       " 'theme': 'beige',\n",
       " 'transition': 'concave',\n",
       " 'start_slideshow_at': 'selected'}"
      ]
     },
     "execution_count": 3,
     "metadata": {},
     "output_type": "execute_result"
    }
   ],
   "source": [
    "path = Path.home() / \".jupyter\" / \"nbconfig\"\n",
    "cm = BaseJSONConfigManager(config_dir=str(path))\n",
    "cm.update(\n",
    "    \"rise\",\n",
    "    {\n",
    "        \"autolaunch\": False,\n",
    "        \"enable_chalkboard\": True,\n",
    "        \"scroll\": True,\n",
    "        \"slideNumber\": True,\n",
    "        \"controls\": True,\n",
    "        \"progress\": True,\n",
    "        \"history\": True,\n",
    "        \"center\": True,\n",
    "        \"width\": \"100%\",\n",
    "        \"height\": \"100%\",\n",
    "        \"theme\": \"beige\",\n",
    "        \"transition\": \"concave\",\n",
    "        \"start_slideshow_at\": \"selected\"\n",
    "     }\n",
    ")"
   ]
  },
  {
   "cell_type": "markdown",
   "metadata": {
    "id": "s6ld0aPNiMz0",
    "slideshow": {
     "slide_type": "slide"
    }
   },
   "source": [
    "# 使用spaCy"
   ]
  },
  {
   "cell_type": "markdown",
   "metadata": {
    "id": "yi3yoTGXho95",
    "slideshow": {
     "slide_type": "subslide"
    }
   },
   "source": [
    "## 下載模型"
   ]
  },
  {
   "cell_type": "code",
   "execution_count": 3,
   "metadata": {
    "collapsed": true,
    "id": "dsQgCZG8iE46",
    "slideshow": {
     "slide_type": "fragment"
    }
   },
   "outputs": [
    {
     "name": "stdout",
     "output_type": "stream",
     "text": [
      "Collecting zh-core-web-md==3.1.0\n",
      "  Downloading https://github.com/explosion/spacy-models/releases/download/zh_core_web_md-3.1.0/zh_core_web_md-3.1.0-py3-none-any.whl (78.8 MB)\n",
      "\u001b[K     |████████████████████████████████| 78.8 MB 51.4 MB/s eta 0:00:01��████████████████████   | 71.6 MB 51.4 MB/s eta 0:00:01\n",
      "\u001b[?25hCollecting spacy-pkuseg<0.1.0,>=0.0.27\n",
      "  Downloading spacy_pkuseg-0.0.28-cp37-cp37m-manylinux2014_x86_64.whl (2.4 MB)\n",
      "\u001b[K     |████████████████████████████████| 2.4 MB 4.8 MB/s eta 0:00:01\n",
      "\u001b[?25hRequirement already satisfied: spacy<3.2.0,>=3.1.0 in /srv/conda/envs/notebook/lib/python3.7/site-packages (from zh-core-web-md==3.1.0) (3.1.4)\n",
      "Requirement already satisfied: wasabi<1.1.0,>=0.8.1 in /srv/conda/envs/notebook/lib/python3.7/site-packages (from spacy<3.2.0,>=3.1.0->zh-core-web-md==3.1.0) (0.8.2)\n",
      "Requirement already satisfied: typer<0.5.0,>=0.3.0 in /srv/conda/envs/notebook/lib/python3.7/site-packages (from spacy<3.2.0,>=3.1.0->zh-core-web-md==3.1.0) (0.4.0)\n",
      "Requirement already satisfied: typing-extensions<4.0.0.0,>=3.7.4 in /srv/conda/envs/notebook/lib/python3.7/site-packages (from spacy<3.2.0,>=3.1.0->zh-core-web-md==3.1.0) (3.10.0.2)\n",
      "Requirement already satisfied: murmurhash<1.1.0,>=0.28.0 in /srv/conda/envs/notebook/lib/python3.7/site-packages (from spacy<3.2.0,>=3.1.0->zh-core-web-md==3.1.0) (1.0.6)\n",
      "Requirement already satisfied: requests<3.0.0,>=2.13.0 in /srv/conda/envs/notebook/lib/python3.7/site-packages (from spacy<3.2.0,>=3.1.0->zh-core-web-md==3.1.0) (2.26.0)\n",
      "Requirement already satisfied: tqdm<5.0.0,>=4.38.0 in /srv/conda/envs/notebook/lib/python3.7/site-packages (from spacy<3.2.0,>=3.1.0->zh-core-web-md==3.1.0) (4.62.3)\n",
      "Requirement already satisfied: numpy>=1.15.0 in /srv/conda/envs/notebook/lib/python3.7/site-packages (from spacy<3.2.0,>=3.1.0->zh-core-web-md==3.1.0) (1.21.3)\n",
      "Requirement already satisfied: preshed<3.1.0,>=3.0.2 in /srv/conda/envs/notebook/lib/python3.7/site-packages (from spacy<3.2.0,>=3.1.0->zh-core-web-md==3.1.0) (3.0.6)\n",
      "Requirement already satisfied: catalogue<2.1.0,>=2.0.6 in /srv/conda/envs/notebook/lib/python3.7/site-packages (from spacy<3.2.0,>=3.1.0->zh-core-web-md==3.1.0) (2.0.6)\n",
      "Requirement already satisfied: packaging>=20.0 in /srv/conda/envs/notebook/lib/python3.7/site-packages (from spacy<3.2.0,>=3.1.0->zh-core-web-md==3.1.0) (21.0)\n",
      "Requirement already satisfied: cymem<2.1.0,>=2.0.2 in /srv/conda/envs/notebook/lib/python3.7/site-packages (from spacy<3.2.0,>=3.1.0->zh-core-web-md==3.1.0) (2.0.6)\n",
      "Requirement already satisfied: pathy>=0.3.5 in /srv/conda/envs/notebook/lib/python3.7/site-packages (from spacy<3.2.0,>=3.1.0->zh-core-web-md==3.1.0) (0.6.1)\n",
      "Requirement already satisfied: spacy-legacy<3.1.0,>=3.0.8 in /srv/conda/envs/notebook/lib/python3.7/site-packages (from spacy<3.2.0,>=3.1.0->zh-core-web-md==3.1.0) (3.0.8)\n",
      "Requirement already satisfied: setuptools in /srv/conda/envs/notebook/lib/python3.7/site-packages (from spacy<3.2.0,>=3.1.0->zh-core-web-md==3.1.0) (58.2.0)\n",
      "Requirement already satisfied: srsly<3.0.0,>=2.4.1 in /srv/conda/envs/notebook/lib/python3.7/site-packages (from spacy<3.2.0,>=3.1.0->zh-core-web-md==3.1.0) (2.4.2)\n",
      "Requirement already satisfied: thinc<8.1.0,>=8.0.12 in /srv/conda/envs/notebook/lib/python3.7/site-packages (from spacy<3.2.0,>=3.1.0->zh-core-web-md==3.1.0) (8.0.12)\n",
      "Requirement already satisfied: pydantic!=1.8,!=1.8.1,<1.9.0,>=1.7.4 in /srv/conda/envs/notebook/lib/python3.7/site-packages (from spacy<3.2.0,>=3.1.0->zh-core-web-md==3.1.0) (1.8.2)\n",
      "Requirement already satisfied: jinja2 in /srv/conda/envs/notebook/lib/python3.7/site-packages (from spacy<3.2.0,>=3.1.0->zh-core-web-md==3.1.0) (3.0.1)\n",
      "Requirement already satisfied: blis<0.8.0,>=0.4.0 in /srv/conda/envs/notebook/lib/python3.7/site-packages (from spacy<3.2.0,>=3.1.0->zh-core-web-md==3.1.0) (0.7.4)\n",
      "Requirement already satisfied: zipp>=0.5 in /srv/conda/envs/notebook/lib/python3.7/site-packages (from catalogue<2.1.0,>=2.0.6->spacy<3.2.0,>=3.1.0->zh-core-web-md==3.1.0) (3.6.0)\n",
      "Requirement already satisfied: pyparsing>=2.0.2 in /srv/conda/envs/notebook/lib/python3.7/site-packages (from packaging>=20.0->spacy<3.2.0,>=3.1.0->zh-core-web-md==3.1.0) (2.4.7)\n",
      "Requirement already satisfied: smart-open<6.0.0,>=5.0.0 in /srv/conda/envs/notebook/lib/python3.7/site-packages (from pathy>=0.3.5->spacy<3.2.0,>=3.1.0->zh-core-web-md==3.1.0) (5.2.1)\n",
      "Requirement already satisfied: charset-normalizer~=2.0.0 in /srv/conda/envs/notebook/lib/python3.7/site-packages (from requests<3.0.0,>=2.13.0->spacy<3.2.0,>=3.1.0->zh-core-web-md==3.1.0) (2.0.0)\n",
      "Requirement already satisfied: urllib3<1.27,>=1.21.1 in /srv/conda/envs/notebook/lib/python3.7/site-packages (from requests<3.0.0,>=2.13.0->spacy<3.2.0,>=3.1.0->zh-core-web-md==3.1.0) (1.26.7)\n",
      "Requirement already satisfied: certifi>=2017.4.17 in /srv/conda/envs/notebook/lib/python3.7/site-packages (from requests<3.0.0,>=2.13.0->spacy<3.2.0,>=3.1.0->zh-core-web-md==3.1.0) (2021.5.30)\n",
      "Requirement already satisfied: idna<4,>=2.5 in /srv/conda/envs/notebook/lib/python3.7/site-packages (from requests<3.0.0,>=2.13.0->spacy<3.2.0,>=3.1.0->zh-core-web-md==3.1.0) (3.1)\n",
      "Collecting cython>=0.25\n",
      "  Downloading Cython-0.29.24-cp37-cp37m-manylinux1_x86_64.whl (2.0 MB)\n",
      "\u001b[K     |████████████████████████████████| 2.0 MB 34.7 MB/s eta 0:00:01\n",
      "\u001b[?25hRequirement already satisfied: click<9.0.0,>=7.1.1 in /srv/conda/envs/notebook/lib/python3.7/site-packages (from typer<0.5.0,>=0.3.0->spacy<3.2.0,>=3.1.0->zh-core-web-md==3.1.0) (8.0.3)\n",
      "Requirement already satisfied: importlib-metadata in /srv/conda/envs/notebook/lib/python3.7/site-packages (from click<9.0.0,>=7.1.1->typer<0.5.0,>=0.3.0->spacy<3.2.0,>=3.1.0->zh-core-web-md==3.1.0) (4.8.1)\n",
      "Requirement already satisfied: MarkupSafe>=2.0 in /srv/conda/envs/notebook/lib/python3.7/site-packages (from jinja2->spacy<3.2.0,>=3.1.0->zh-core-web-md==3.1.0) (2.0.1)\n",
      "Installing collected packages: cython, spacy-pkuseg, zh-core-web-md\n",
      "Successfully installed cython-0.29.24 spacy-pkuseg-0.0.28 zh-core-web-md-3.1.0\n",
      "\u001b[38;5;2m✔ Download and installation successful\u001b[0m\n",
      "You can now load the package via spacy.load('zh_core_web_md')\n"
     ]
    }
   ],
   "source": [
    "!python -m spacy download zh_core_web_md"
   ]
  },
  {
   "cell_type": "markdown",
   "metadata": {
    "id": "SFwipCFpiHwd",
    "slideshow": {
     "slide_type": "subslide"
    }
   },
   "source": [
    "## 引入模型"
   ]
  },
  {
   "cell_type": "code",
   "execution_count": 4,
   "metadata": {
    "id": "Vi7pBbPCigRD",
    "slideshow": {
     "slide_type": "fragment"
    }
   },
   "outputs": [
    {
     "data": {
      "text/plain": [
       "['tok2vec', 'tagger', 'parser', 'attribute_ruler', 'ner']"
      ]
     },
     "execution_count": 4,
     "metadata": {},
     "output_type": "execute_result"
    }
   ],
   "source": [
    "import spacy\n",
    "\n",
    "nlp = spacy.load(\"zh_core_web_md\")\n",
    "nlp.pipe_names"
   ]
  },
  {
   "cell_type": "markdown",
   "metadata": {
    "id": "tzcRUiJLisbv",
    "slideshow": {
     "slide_type": "slide"
    }
   },
   "source": [
    "# 斷詞"
   ]
  },
  {
   "cell_type": "markdown",
   "metadata": {
    "id": "ug5mUmf7i24q",
    "slideshow": {
     "slide_type": "subslide"
    }
   },
   "source": [
    "## 使用spaCy模型"
   ]
  },
  {
   "cell_type": "code",
   "execution_count": 5,
   "metadata": {
    "id": "wLjMt3B-iugJ",
    "slideshow": {
     "slide_type": "fragment"
    }
   },
   "outputs": [
    {
     "data": {
      "text/plain": [
       "'自然 | 語言 | 處理 | 好好 | 玩'"
      ]
     },
     "execution_count": 5,
     "metadata": {},
     "output_type": "execute_result"
    }
   ],
   "source": [
    "text = \"自然語言處理好好玩\"\n",
    "doc = nlp(text)\n",
    "tokens = [tok.text for tok in doc]\n",
    "\" | \".join(tokens)"
   ]
  },
  {
   "cell_type": "markdown",
   "metadata": {
    "id": "wq4XYqC2i6NH",
    "slideshow": {
     "slide_type": "subslide"
    }
   },
   "source": [
    "## 使用jieba-tw"
   ]
  },
  {
   "cell_type": "code",
   "execution_count": 6,
   "metadata": {
    "collapsed": true,
    "id": "WLuvVZ3Pi8gz",
    "slideshow": {
     "slide_type": "fragment"
    }
   },
   "outputs": [
    {
     "name": "stdout",
     "output_type": "stream",
     "text": [
      "Cloning into 'jieba_tw'...\n",
      "warning: --local is ignored\n",
      "remote: Enumerating objects: 2320, done.\u001b[K\n",
      "remote: Total 2320 (delta 0), reused 0 (delta 0), pack-reused 2320\u001b[K\n",
      "Receiving objects: 100% (2320/2320), 36.07 MiB | 18.69 MiB/s, done.\n",
      "Resolving deltas: 100% (1498/1498), done.\n",
      "/home/jovyan/jieba_tw\n"
     ]
    }
   ],
   "source": [
    "# Clone the entire repo.\n",
    "!git clone -l -s https://github.com/L706077/jieba-zh_TW.git jieba_tw\n",
    "%cd jieba_tw"
   ]
  },
  {
   "cell_type": "code",
   "execution_count": 7,
   "metadata": {
    "id": "5UZqAv0jjDrN",
    "slideshow": {
     "slide_type": "fragment"
    }
   },
   "outputs": [],
   "source": [
    "import jieba"
   ]
  },
  {
   "cell_type": "code",
   "execution_count": 8,
   "metadata": {
    "collapsed": true,
    "id": "3xrliNKbjFg6",
    "slideshow": {
     "slide_type": "fragment"
    }
   },
   "outputs": [
    {
     "name": "stderr",
     "output_type": "stream",
     "text": [
      "Building prefix dict from the default dictionary ...\n",
      "Dumping model to file cache /tmp/jieba.cache\n",
      "Loading model cost 0.825 seconds.\n",
      "Prefix dict has been built succesfully.\n"
     ]
    },
    {
     "data": {
      "text/plain": [
       "'自然 | 語言 | 處理 | 好好玩'"
      ]
     },
     "execution_count": 8,
     "metadata": {},
     "output_type": "execute_result"
    }
   ],
   "source": [
    "text = \"自然語言處理好好玩\"\n",
    "tokens = jieba.cut(text) \n",
    "\" | \".join(tokens)"
   ]
  }
 ],
 "metadata": {
  "celltoolbar": "Slideshow",
  "colab": {
   "collapsed_sections": [],
   "include_colab_link": true,
   "name": "tokenization.ipynb",
   "provenance": [],
   "toc_visible": true
  },
  "kernelspec": {
   "display_name": "Python 3 (ipykernel)",
   "language": "python",
   "name": "python3"
  },
  "language_info": {
   "codemirror_mode": {
    "name": "ipython",
    "version": 3
   },
   "file_extension": ".py",
   "mimetype": "text/x-python",
   "name": "python",
   "nbconvert_exporter": "python",
   "pygments_lexer": "ipython3",
   "version": "3.8.11"
  },
  "livereveal": {
   "autolaunch": true,
   "scroll": true
  },
  "widgets": {
   "application/vnd.jupyter.widget-state+json": {
    "state": {},
    "version_major": 2,
    "version_minor": 0
   }
  }
 },
 "nbformat": 4,
 "nbformat_minor": 1
}
