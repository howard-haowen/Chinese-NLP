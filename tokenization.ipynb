{
  "nbformat": 4,
  "nbformat_minor": 0,
  "metadata": {
    "celltoolbar": "Slideshow",
    "kernelspec": {
      "display_name": "Python 3",
      "language": "python",
      "name": "python3"
    },
    "language_info": {
      "codemirror_mode": {
        "name": "ipython",
        "version": 3
      },
      "file_extension": ".py",
      "mimetype": "text/x-python",
      "name": "python",
      "nbconvert_exporter": "python",
      "pygments_lexer": "ipython3",
      "version": "3.6.2"
    },
    "livereveal": {
      "autolaunch": true,
      "scroll": true
    },
    "colab": {
      "name": "tokenization.ipynb",
      "provenance": [],
      "collapsed_sections": [],
      "toc_visible": true,
      "include_colab_link": true
    }
  },
  "cells": [
    {
      "cell_type": "markdown",
      "metadata": {
        "id": "view-in-github",
        "colab_type": "text"
      },
      "source": [
        "<a href=\"https://colab.research.google.com/github/howard-haowen/Chinese-NLP/blob/main/tokenization.ipynb\" target=\"_parent\"><img src=\"https://colab.research.google.com/assets/colab-badge.svg\" alt=\"Open In Colab\"/></a>"
      ]
    },
    {
      "cell_type": "markdown",
      "metadata": {
        "id": "9b3yzD1xhz3B"
      },
      "source": [
        "# 設定RISE"
      ]
    },
    {
      "cell_type": "code",
      "metadata": {
        "id": "RXVN4VZSh3hW"
      },
      "source": [
        "from traitlets.config.manager import BaseJSONConfigManager\n",
        "from pathlib import Path"
      ],
      "execution_count": null,
      "outputs": []
    },
    {
      "cell_type": "code",
      "metadata": {
        "id": "mEJD01nyh5CZ"
      },
      "source": [
        "path = Path.home() / \".jupyter\" / \"nbconfig\"\n",
        "cm = BaseJSONConfigManager(config_dir=str(path))\n",
        "cm.update(\n",
        "    \"rise\",\n",
        "    {\n",
        "        \"autolaunch\": True,\n",
        "        \"enable_chalkboard\": True,\n",
        "        \"scroll\": True,\n",
        "        \"slideNumber\": True,\n",
        "        \"controls\": True,\n",
        "        \"progress\": True,\n",
        "        \"history\": True,\n",
        "        \"center\": True,\n",
        "        \"width\": \"90%\",\n",
        "        \"height\": \"90%\",\n",
        "        \"theme\": \"beige\",\n",
        "        \"transition\": \"concave\",\n",
        "        \"start_slideshow_at\": \"selected\"\n",
        "     }\n",
        ")"
      ],
      "execution_count": null,
      "outputs": []
    },
    {
      "cell_type": "markdown",
      "metadata": {
        "id": "s6ld0aPNiMz0"
      },
      "source": [
        "# 使用spaCy"
      ]
    },
    {
      "cell_type": "markdown",
      "metadata": {
        "id": "yi3yoTGXho95"
      },
      "source": [
        "## 下載模型"
      ]
    },
    {
      "cell_type": "code",
      "metadata": {
        "id": "dsQgCZG8iE46"
      },
      "source": [
        "!python -m spacy download zh_core_web_md"
      ],
      "execution_count": null,
      "outputs": []
    },
    {
      "cell_type": "markdown",
      "metadata": {
        "id": "SFwipCFpiHwd"
      },
      "source": [
        "## 引入模型"
      ]
    },
    {
      "cell_type": "code",
      "metadata": {
        "id": "Vi7pBbPCigRD"
      },
      "source": [
        "import spacy\n",
        "\n",
        "nlp = spacy.load(\"zh_core_web_md\")\n",
        "nlp.pipe_names"
      ],
      "execution_count": null,
      "outputs": []
    },
    {
      "cell_type": "markdown",
      "metadata": {
        "id": "tzcRUiJLisbv"
      },
      "source": [
        "# 斷詞"
      ]
    },
    {
      "cell_type": "markdown",
      "metadata": {
        "id": "ug5mUmf7i24q"
      },
      "source": [
        "## 使用spaCy模型"
      ]
    },
    {
      "cell_type": "code",
      "metadata": {
        "id": "wLjMt3B-iugJ"
      },
      "source": [
        "text = \"自然語言處理好好玩\"\n",
        "doc = nlp(text)\n",
        "tokens = [tok.text for tok in doc]\n",
        "\" | \".join(tokens)"
      ],
      "execution_count": null,
      "outputs": []
    },
    {
      "cell_type": "markdown",
      "metadata": {
        "id": "wq4XYqC2i6NH"
      },
      "source": [
        "## 使用jieba-tw"
      ]
    },
    {
      "cell_type": "code",
      "metadata": {
        "id": "WLuvVZ3Pi8gz"
      },
      "source": [
        "# Clone the entire repo.\n",
        "!git clone -l -s https://github.com/L706077/jieba-zh_TW.git jieba_tw\n",
        "%cd jieba_tw"
      ],
      "execution_count": null,
      "outputs": []
    },
    {
      "cell_type": "code",
      "metadata": {
        "id": "5UZqAv0jjDrN"
      },
      "source": [
        "import jieba"
      ],
      "execution_count": null,
      "outputs": []
    },
    {
      "cell_type": "code",
      "metadata": {
        "id": "3xrliNKbjFg6"
      },
      "source": [
        "text = \"自然語言處理好好玩\"\n",
        "tokens = jieba.cut(text) \n",
        "\" | \".join(tokens)"
      ],
      "execution_count": null,
      "outputs": []
    }
  ]
}